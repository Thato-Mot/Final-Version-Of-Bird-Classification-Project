{
 "cells": [
  {
   "cell_type": "markdown",
   "metadata": {},
   "source": [
    "# **Feature Extraction Methods: Imbalanced Data With Annotations**\n",
    "\n",
    "- *Key Features*: [MFCCs, Mel-Spectrograms, Chroma Frequencies, RMS Power]\n",
    "- *Key Manipulations*: [Varying Window Sizes, Normalization, Average Pooling (Compression), Filtering]\n",
    "- *Process Assistence*: [Converting them to numpy arrays now, easy label access across features]\n",
    "- *Conversion*: [To numpy arrays and pkl files]\n"
   ]
  },
  {
   "cell_type": "code",
   "execution_count": 1,
   "metadata": {},
   "outputs": [
    {
     "name": "stdout",
     "output_type": "stream",
     "text": [
      "pygame 2.6.1 (SDL 2.28.4, Python 3.12.4)\n",
      "Hello from the pygame community. https://www.pygame.org/contribute.html\n"
     ]
    }
   ],
   "source": [
    "# Standard libraries\n",
    "import numpy as np\n",
    "import pandas as pd\n",
    "import os\n",
    "import time\n",
    "\n",
    "# Libraries for audio\n",
    "from IPython.display import Audio\n",
    "import librosa\n",
    "import librosa.display\n",
    "\n",
    "# Training and Testing Split\n",
    "from sklearn.model_selection import train_test_split\n",
    "\n",
    "# for normalization & avgpooling features\n",
    "import tensorflow as tf\n",
    "# for preprocessing\n",
    "from sklearn.preprocessing import LabelEncoder\n",
    "from sklearn.preprocessing import MinMaxScaler\n",
    "from sklearn.preprocessing import OneHotEncoder\n",
    "\n",
    "# Operational\n",
    "from tqdm import tqdm\n",
    "import matplotlib.pyplot as plt\n",
    "import seaborn as sns\n",
    "import pickle\n",
    "import scipy.ndimage\n",
    "import pygame\n",
    "import time\n",
    "from scipy.signal import butter, filtfilt\n",
    "import random\n",
    "import IPython.display as ipd\n",
    "from functools import partial"
   ]
  },
  {
   "cell_type": "code",
   "execution_count": 2,
   "metadata": {},
   "outputs": [],
   "source": [
    "# Variabels to be reused\n",
    "path = 'C:/Users/thato/Documents/Final-Year-Project/Dataset/Project-V4/audio_files' \n",
    "npy_path = 'C:/Users/thato/Documents/Final-Year-Project/Dataset/Project-V4/train_audio_npy/' \n",
    "train_csv = 'C:/Users/thato/Documents/Final-Year-Project/Dataset/Project-V4/train-not-annotated.csv' \n",
    "annotated_train_csv = 'C:/Users/thato/Documents/Final-Year-Project/Dataset/Project-V4/trainval-split/trainval-annotated.csv'\n",
    "not_annotated_splt = 'C:/Users/thato/Documents/Final-Year-Project/Dataset/Project-V4/trainval-split/trainval.csv'\n",
    "sr = 22050"
   ]
  },
  {
   "cell_type": "code",
   "execution_count": 3,
   "metadata": {},
   "outputs": [],
   "source": [
    "trainval_data = pd.read_csv(annotated_train_csv)\n",
    "train_data = trainval_data[trainval_data['set'] == 'tr']\n",
    "val_data = trainval_data[trainval_data['set'] == 'val']"
   ]
  },
  {
   "cell_type": "markdown",
   "metadata": {},
   "source": [
    "# **Creating a class to do the extraction**"
   ]
  },
  {
   "cell_type": "code",
   "execution_count": 35,
   "metadata": {},
   "outputs": [],
   "source": [
    "class Extraction:\n",
    "  def __init__(self, train_df, val_df, window_size, overlap=0.5, npy_path=npy_path, sr=sr, n_mels=60, n_mfcc=20, n_chroma=12, features=['mfcc'], normalize=True, avgpool=False):\n",
    "    \"\"\"\n",
    "    Instantiate the Extraction class to extract features.\n",
    "\n",
    "    Parameters:\n",
    "      sr (int): Sample rate of the audio files.\n",
    "      n_mfccs (int): Number of MFCCs to extract.\n",
    "      n_mels (int): Number of Mel bands to extract.\n",
    "      n_chroma (int): Number of chroma bins to use.\n",
    "      features (list): List of features to extract.\n",
    "        accepted features: 'mfcc', 'chroma', 'rms', 'melspectrogram'.\n",
    "      normalize (bool): Whether to normalize the features.\n",
    "      maxpool (bool): Whether to maxpool the features.\n",
    "    \"\"\"\n",
    "    \n",
    "    self.train_df = train_df\n",
    "    self.val_df = val_df\n",
    "    self.npy_path = npy_path\n",
    "    self.window_size = window_size\n",
    "    self.overlap = overlap\n",
    "    self.sr = sr\n",
    "    self.n_mels = n_mels\n",
    "    self.n_mfcc = n_mfcc\n",
    "    self.n_chroma = n_chroma\n",
    "\n",
    "     # confirm features have been specified\n",
    "    assert len(features) != 0, \"Must Specify At Least One Feature In The Form Of A List.\"\n",
    "    self.features = features\n",
    "\n",
    "    self.accepted_feature = ['mfcc', 'chroma', 'rms', 'melspectrogram']\n",
    "    for feature in self.features:\n",
    "      assert feature in self.accepted_feature, f\"{feature} is not an accepted feature, only 'mfcc', 'chroma', 'rms', 'melspectrogram' are accepted features.\"\n",
    "\n",
    "    self.normalize = normalize\n",
    "    self.avgpool = avgpool\n",
    "\n",
    "    print(f\"Train DataFrame shape: {train_df.shape}\")\n",
    "    print(f\"Validation DataFrame shape: {val_df.shape}\")\n",
    "\n",
    "    # extract train and val labels and features\n",
    "    self.train_y, self.train_features = self.feature_extraction(self.train_df, window_size=self.window_size)\n",
    "    self.val_y, self.val_features = self.feature_extraction(self.val_df, window_size=self.window_size)\n",
    "\n",
    "    # process the features by average pooling\n",
    "    self.train_features, self.val_features = self.process_features(self.train_features, self.val_features)\n",
    "\n",
    "    \n",
    "  \n",
    "\n",
    "  def normalize_audio(self, audio):\n",
    "    return (audio - np.min(audio)) / (np.max(audio) - np.min(audio))\n",
    "  \n",
    "  def bandpass_filter(self, audio, lowcut=800, highcut=8000, order=4):\n",
    "    nyquist = 0.5 * self.sr  # Nyquist frequency\n",
    "    low = lowcut / nyquist\n",
    "    high = highcut / nyquist\n",
    "\n",
    "    b, a = butter(order, [low, high], btype='band')\n",
    "    filtered_audio = filtfilt(b, a, audio)\n",
    "    return filtered_audio\n",
    "  \n",
    "  def generate_pink_noise(self, num_samples):\n",
    "    white_noise = np.random.randn(num_samples)\n",
    "    \n",
    "    # Apply a filter to convert white noise into pink noise (1/f noise)\n",
    "    X = np.fft.rfft(white_noise)\n",
    "    S = np.arange(1, len(X) + 1)  # Frequency scaling\n",
    "    pink_noise = np.fft.irfft(X / S)\n",
    "\n",
    "    if len(pink_noise) < num_samples:\n",
    "        # Pad with zeros if the length is less than num_samples\n",
    "        pink_noise = np.pad(pink_noise, (0, num_samples - len(pink_noise)), mode='constant')\n",
    "    elif len(pink_noise) > num_samples:\n",
    "        # Trim if necessary\n",
    "        pink_noise = pink_noise[:num_samples]\n",
    "    \n",
    "    return self.normalize_audio(pink_noise)\n",
    "  \n",
    "  def pad_with_noise(self, audio_data, window_length, window_samples):\n",
    "    current_length = librosa.get_duration(y=audio_data, sr=self.sr)\n",
    "\n",
    "    if current_length > window_length:\n",
    "        return audio_data\n",
    "    \n",
    "    target_length_samples = int(window_length * sr) \n",
    "    current_length_samples = window_samples\n",
    "    padding_length_samples = target_length_samples - current_length_samples\n",
    "\n",
    "    assert target_length_samples == (current_length_samples+padding_length_samples)\n",
    "    \n",
    "    # Generate pink noise to pad with\n",
    "    pink_noise = self.generate_pink_noise(padding_length_samples)\n",
    "    padded_audio = np.concatenate([audio_data, pink_noise])\n",
    "    # if len(padded_audio) < target_length_samples:\n",
    "    #     padded_audio = np.append(padded_audio, self.generate_pink_noise(1))\n",
    "\n",
    "    assert target_length_samples == len(padded_audio)\n",
    "    \n",
    "    return padded_audio\n",
    "  \n",
    "  def avg_pooling_keras(self, feature):\n",
    "    # Clear the previous Keras session\n",
    "    tf.keras.backend.clear_session()\n",
    "\n",
    "    # Define the input shape based on features\n",
    "    input_shape = feature.shape[1:]  # (n_mels, time_steps)\n",
    "\n",
    "    # Create the Keras model for average pooling\n",
    "    inputs = tf.keras.layers.Input(shape=input_shape)\n",
    "    pooled = tf.keras.layers.GlobalAveragePooling1D()(inputs)\n",
    "    pooling_model = tf.keras.models.Model(inputs=inputs, outputs=pooled)\n",
    "\n",
    "    # Perform pooling using the model\n",
    "    pooled_features = pooling_model.predict(feature)\n",
    "\n",
    "    return pooled_features\n",
    "\n",
    "#-------------------------Feature Extraction---------------------------------------\n",
    "  def extract_mfcc(self, window):\n",
    "    mfcc = librosa.feature.mfcc(y=window, sr=self.sr, n_mfcc=self.n_mfcc)\n",
    "    if self.normalize:\n",
    "      return librosa.util.normalize(mfcc)\n",
    "    else:\n",
    "      return mfcc\n",
    "\n",
    "\n",
    "  def extract_chroma(self, window):\n",
    "    chroma = librosa.feature.chroma_stft(y=window, sr=self.sr, n_chroma=self.n_chroma)\n",
    "    if self.normalize:\n",
    "      return librosa.util.normalize(chroma)\n",
    "    else:\n",
    "      return chroma\n",
    "   \n",
    "\n",
    "  def extract_rms(self, window):\n",
    "    return librosa.feature.rms(y=window)\n",
    "\n",
    "  def extract_melspectrogram(self, window):\n",
    "    mel = librosa.feature.melspectrogram(y=window, sr=self.sr, n_mels=self.n_mels)\n",
    "    if self.normalize:\n",
    "      return librosa.util.normalize(mel)\n",
    "    else:\n",
    "      return mel\n",
    "    \n",
    "  def avgpooling(self, train_X, val_X, n_time, n_features):\n",
    "    \"\"\"\n",
    "    Average pooling the train and val features.\n",
    "\n",
    "    Parameters:\n",
    "      train_X (npy): Training feature array of shape (batch_size, n_features, n_time)\n",
    "      val_X (npy): Validation feature array of shape (batch_size, n_features, n_time)\n",
    "      n_time (int): Time axis\n",
    "      n_features (int): Feature axis\n",
    "\n",
    "    Returns:\n",
    "      train_X (npy): Avgpooled training feature array of shape (batch_size, n_features)\n",
    "      val_X (npy): Avgpooled validation feature array of shape (batch_size, n_features)\n",
    "    \"\"\"\n",
    "    # Clear the Keras session\n",
    "    tf.keras.backend.clear_session()\n",
    "    \n",
    "    # Create the Keras input layer with shape (n_features, n_time)\n",
    "    input_layer = tf.keras.layers.Input(shape=(n_features, n_time))\n",
    "    \n",
    "    # Apply average pooling over the time axis (axis=-1) to reduce n_time\n",
    "    avg_pool = tf.keras.layers.Lambda(lambda x: tf.reduce_mean(x, axis=-1))(input_layer)\n",
    "    \n",
    "    # Build the model\n",
    "    pooling_model = tf.keras.models.Model(inputs=input_layer, outputs=avg_pool)\n",
    "\n",
    "    # Use the model to apply average pooling on the training and validation features\n",
    "    train_X = pooling_model.predict(train_X)\n",
    "    val_X = pooling_model.predict(val_X)\n",
    "\n",
    "    return train_X, val_X\n",
    "\n",
    "    \n",
    "  def process_features(self, train_features_dict, val_features_dict):\n",
    "    for each in train_features_dict.keys():\n",
    "      \n",
    "      if each == 'mfcc':\n",
    "        n_features=self.n_mfcc\n",
    "      elif each == 'chroma':\n",
    "        n_features=self.n_chroma\n",
    "      elif each == 'rms':\n",
    "        n_features=1\n",
    "      elif each == 'melspectrogram':\n",
    "        n_features=self.n_mels\n",
    "      \n",
    "      train_feature = train_features_dict[each]\n",
    "      val_feature = val_features_dict[each]\n",
    "\n",
    "      if self.avgpool:\n",
    "        train_features_dict[each], val_features_dict[each] = self.avgpooling(train_feature, val_feature, n_time=train_feature.shape[2], n_features=n_features)\n",
    "      else:\n",
    "        train_features_dict[each], val_features_dict[each] = train_features_dict[each], val_features_dict[each]\n",
    "    \n",
    "    return train_features_dict, val_features_dict\n",
    "      \n",
    "\n",
    "  def feature_extraction(self, dataframe, window_size, filter=True):\n",
    "    y = [] # To hold the labels\n",
    "    features_dict = {item: [] for item in self.features} # Create a key for each feature listed\n",
    "    print(f\"Number of rows in dataframe: {len(dataframe)}\")\n",
    "    for _, row in tqdm(dataframe.iterrows(), desc=\"Processing data\", total=len(dataframe)):\n",
    "          label = row['species']\n",
    "          file_path = os.path.join(self.npy_path, row['filename_npy'])\n",
    "          start = row['start']\n",
    "          end = row['end']\n",
    "\n",
    "          # print(f\"Processing file: {file_path}\")\n",
    "\n",
    "          try:\n",
    "            \n",
    "              audio = np.load(file_path)\n",
    "          except FileNotFoundError:\n",
    "              print(f\"File not found: {file_path}\")\n",
    "              continue\n",
    "\n",
    "\n",
    "          start = int(start * sr)\n",
    "          end = int(end * sr)+512\n",
    "\n",
    "\n",
    "\n",
    "          if end > len(audio):\n",
    "             end = len(audio)\n",
    "\n",
    "          sample = audio[start:end]\n",
    "\n",
    "          if len(sample) < 512:\n",
    "                continue\n",
    "\n",
    "          sample = self.normalize_audio(sample)\n",
    "\n",
    "          sample = self.pad_with_noise(sample, window_length=self.window_size, window_samples=len(sample))\n",
    "          # print(len(sample))\n",
    "\n",
    "          if filter:\n",
    "                  sample = self.bandpass_filter(sample)\n",
    "\n",
    "          window_samples = int(window_size * self.sr)\n",
    "          hop_samples = int(window_samples * (1 - self.overlap))  # For overlapping\n",
    "\n",
    "          # Break the audio into windows with the specified overlap\n",
    "          audio_windows = librosa.util.frame(sample, frame_length=window_samples, hop_length=hop_samples).T\n",
    "          \n",
    "          \n",
    "          # display(label)\n",
    "          \n",
    "          for _, window in enumerate(audio_windows):\n",
    "              \n",
    "              y.append(label)\n",
    "\n",
    "              if len(window) < window_samples:\n",
    "                  if len(window) < 512*2:\n",
    "                     continue\n",
    "                  else:\n",
    "                      window = self.pad_with_noise(window, window_length=window_size)\n",
    "              \n",
    "              # Feature Extraction FR --------------------------------------------------------------------\n",
    "              # dynatically call the extract_x function to extract the listed features\n",
    "              for feature in self.features:\n",
    "                extract = f\"extract_{feature}\"\n",
    "                if hasattr(self, extract) and callable(func := getattr(self, extract)):\n",
    "                  features_dict[feature].append(func(window))\n",
    "\n",
    "          # cast lists to np arrays\n",
    "    for each in features_dict.keys():\n",
    "              features_dict[each] = np.array(features_dict[each])\n",
    "\n",
    "    y = np.array(y)\n",
    "\n",
    "          # If not using average pooling, return resized features\n",
    "    return y, features_dict"
   ]
  },
  {
   "cell_type": "markdown",
   "metadata": {},
   "source": [
    "# **No Average Pooling**"
   ]
  },
  {
   "cell_type": "markdown",
   "metadata": {},
   "source": [
    "## **Window Size = 1s**"
   ]
  },
  {
   "cell_type": "markdown",
   "metadata": {},
   "source": [
    "## **Window Size = 6s**"
   ]
  },
  {
   "cell_type": "markdown",
   "metadata": {},
   "source": [
    "### **['melspectrogram']**"
   ]
  },
  {
   "cell_type": "code",
   "execution_count": null,
   "metadata": {},
   "outputs": [],
   "source": [
    "features_list = ['melspectrogram']"
   ]
  },
  {
   "cell_type": "code",
   "execution_count": null,
   "metadata": {},
   "outputs": [
    {
     "name": "stdout",
     "output_type": "stream",
     "text": [
      "Train DataFrame shape: (3444, 9)\n",
      "Validation DataFrame shape: (834, 9)\n",
      "Number of rows in dataframe: 3444\n"
     ]
    },
    {
     "name": "stderr",
     "output_type": "stream",
     "text": [
      "Processing data: 100%|██████████| 3444/3444 [00:43<00:00, 79.01it/s] \n"
     ]
    },
    {
     "name": "stdout",
     "output_type": "stream",
     "text": [
      "Number of rows in dataframe: 834\n"
     ]
    },
    {
     "name": "stderr",
     "output_type": "stream",
     "text": [
      "Processing data: 100%|██████████| 834/834 [00:11<00:00, 74.51it/s] \n"
     ]
    }
   ],
   "source": [
    "features = Extraction(train_data,\n",
    "                      val_data,\n",
    "                      window_size=1,\n",
    "                      features=features_list,\n",
    "                      avgpool=False\n",
    "                      )"
   ]
  },
  {
   "cell_type": "code",
   "execution_count": null,
   "metadata": {},
   "outputs": [
    {
     "data": {
      "text/plain": [
       "(12565,)"
      ]
     },
     "metadata": {},
     "output_type": "display_data"
    },
    {
     "data": {
      "text/plain": [
       "'melspectrogram'"
      ]
     },
     "metadata": {},
     "output_type": "display_data"
    },
    {
     "data": {
      "text/plain": [
       "(12565, 60, 44)"
      ]
     },
     "metadata": {},
     "output_type": "display_data"
    }
   ],
   "source": [
    "train_y = features.train_y\n",
    "display(train_y.shape)\n",
    "\n",
    "train_features = features.train_features\n",
    "for key in train_features.keys():\n",
    "  display(key)\n",
    "  display(train_features[key].shape)"
   ]
  },
  {
   "cell_type": "code",
   "execution_count": null,
   "metadata": {},
   "outputs": [
    {
     "data": {
      "text/plain": [
       "(3318,)"
      ]
     },
     "metadata": {},
     "output_type": "display_data"
    },
    {
     "data": {
      "text/plain": [
       "'melspectrogram'"
      ]
     },
     "metadata": {},
     "output_type": "display_data"
    },
    {
     "data": {
      "text/plain": [
       "(3318, 60, 44)"
      ]
     },
     "metadata": {},
     "output_type": "display_data"
    }
   ],
   "source": [
    "val_y = features.val_y\n",
    "display(val_y.shape)\n",
    "\n",
    "val_features = features.val_features\n",
    "for key in val_features.keys():\n",
    "  display(key)\n",
    "  display(val_features[key].shape)"
   ]
  },
  {
   "cell_type": "markdown",
   "metadata": {},
   "source": [
    "### Encode Classes"
   ]
  },
  {
   "cell_type": "code",
   "execution_count": null,
   "metadata": {},
   "outputs": [
    {
     "name": "stdout",
     "output_type": "stream",
     "text": [
      "Encoded classes for [0, 1, 2]: ['Acrocephalus arundinaceus', 'Acrocephalus melanopogon', 'Acrocephalus scirpaceus']\n",
      "Encoded training labels: [ 9  9  9 ... 17 17 17]\n",
      "Encoded validation labels: [14 14 14 ...  4  4  4]\n"
     ]
    }
   ],
   "source": [
    "label_encoder = LabelEncoder().fit(train_y)\n",
    "train_y_encoded = label_encoder.transform(train_y)\n",
    "val_y_encoded = label_encoder.transform(val_y)\n",
    "\n",
    "classes = list(label_encoder.inverse_transform([0, 1, 2]))\n",
    "print(\"Encoded classes for [0, 1, 2]:\", classes)\n",
    "print(\"Encoded training labels:\", train_y_encoded)\n",
    "print(\"Encoded validation labels:\", val_y_encoded)"
   ]
  },
  {
   "cell_type": "code",
   "execution_count": null,
   "metadata": {},
   "outputs": [
    {
     "data": {
      "text/plain": [
       "12565"
      ]
     },
     "metadata": {},
     "output_type": "display_data"
    },
    {
     "data": {
      "text/plain": [
       "array([9, 9, 9, 9, 9, 9, 9, 9, 9, 9])"
      ]
     },
     "metadata": {},
     "output_type": "display_data"
    },
    {
     "data": {
      "text/plain": [
       "3318"
      ]
     },
     "metadata": {},
     "output_type": "display_data"
    },
    {
     "data": {
      "text/plain": [
       "array([14, 14, 14, 14, 14, 14, 10, 10, 10, 10])"
      ]
     },
     "metadata": {},
     "output_type": "display_data"
    }
   ],
   "source": [
    "display(len(train_y_encoded))\n",
    "display(train_y_encoded[:10])\n",
    "\n",
    "display(len(val_y_encoded))\n",
    "display(val_y_encoded[:10])"
   ]
  },
  {
   "cell_type": "code",
   "execution_count": null,
   "metadata": {},
   "outputs": [],
   "source": [
    "train_features['label'] = train_y_encoded\n",
    "val_features['label'] = val_y_encoded"
   ]
  },
  {
   "cell_type": "code",
   "execution_count": null,
   "metadata": {},
   "outputs": [
    {
     "data": {
      "text/plain": [
       "{'train': {'melspectrogram': array([[[1.49619878e-04, 9.91906688e-07, 2.48130880e-14, ...,\n",
       "           7.57408160e-14, 2.46620584e-05, 2.42136864e-04],\n",
       "          [1.51059693e-04, 1.00149214e-06, 4.29179038e-14, ...,\n",
       "           1.54229494e-13, 2.47809445e-05, 2.43302732e-04],\n",
       "          [1.53461197e-04, 1.01720986e-06, 7.69849280e-12, ...,\n",
       "           5.91120706e-12, 2.49865924e-05, 2.45357940e-04],\n",
       "          ...,\n",
       "          [8.10535547e-08, 1.13486703e-09, 1.55103726e-10, ...,\n",
       "           9.95547819e-11, 3.92484929e-06, 3.89781243e-05],\n",
       "          [6.54161468e-08, 4.35279562e-10, 1.70086070e-13, ...,\n",
       "           3.73563449e-12, 3.73668669e-06, 3.71356338e-05],\n",
       "          [5.58002542e-08, 3.70017484e-10, 1.19116812e-15, ...,\n",
       "           8.60750760e-15, 3.62438557e-06, 3.60217485e-05]],\n",
       "  \n",
       "         [[2.90496083e-04, 1.33911613e-04, 1.18182281e-11, ...,\n",
       "           2.01018052e-13, 9.45688580e-06, 9.98487150e-05],\n",
       "          [2.97352272e-04, 1.36961177e-04, 1.73004844e-11, ...,\n",
       "           3.01842594e-13, 9.68366781e-06, 1.02240476e-04],\n",
       "          [3.09603415e-04, 1.42404336e-04, 1.77799954e-10, ...,\n",
       "           1.37675250e-11, 1.00828472e-05, 1.06442141e-04],\n",
       "          ...,\n",
       "          [1.54484708e-04, 7.18984910e-05, 4.14699914e-08, ...,\n",
       "           1.58219991e-09, 2.54226264e-07, 2.64916412e-06],\n",
       "          [1.47750369e-04, 6.87573851e-05, 4.90193254e-12, ...,\n",
       "           8.62880407e-12, 2.48109579e-07, 2.58621338e-06],\n",
       "          [1.43521455e-04, 6.67882443e-05, 2.70824804e-13, ...,\n",
       "           4.42811174e-14, 2.43916979e-07, 2.54212398e-06]],\n",
       "  \n",
       "         [[4.55543301e-04, 2.51265742e-06, 3.74917689e-15, ...,\n",
       "           1.07731695e-11, 2.63629131e-04, 1.84378904e-03],\n",
       "          [4.57720031e-04, 2.52440017e-06, 8.09933972e-14, ...,\n",
       "           1.34843580e-11, 2.69018541e-04, 1.88142961e-03],\n",
       "          [4.61220038e-04, 2.54317506e-06, 3.51347962e-12, ...,\n",
       "           5.04255332e-11, 2.78329858e-04, 1.94703837e-03],\n",
       "          ...,\n",
       "          [7.38566487e-05, 4.20170296e-07, 2.71756052e-09, ...,\n",
       "           1.34319028e-08, 3.36025734e-08, 1.87137073e-07],\n",
       "          [6.99262141e-05, 3.90192578e-07, 1.51896078e-11, ...,\n",
       "           2.01339414e-10, 2.94162072e-08, 1.98637239e-07],\n",
       "          [6.78123929e-05, 3.78405969e-07, 3.52410644e-15, ...,\n",
       "           6.11029994e-14, 2.87063791e-08, 1.99999124e-07]],\n",
       "  \n",
       "         ...,\n",
       "  \n",
       "         [[3.16719877e-05, 4.18284470e-06, 6.43660775e-15, ...,\n",
       "           7.37045913e-12, 7.49019928e-05, 4.36649730e-04],\n",
       "          [3.22357957e-05, 4.25725772e-06, 8.96772966e-15, ...,\n",
       "           1.78307053e-11, 7.50419980e-05, 4.37393070e-04],\n",
       "          [3.32204779e-05, 4.38729189e-06, 1.46234737e-14, ...,\n",
       "           3.43681323e-10, 7.53340244e-05, 4.38995016e-04],\n",
       "          ...,\n",
       "          [5.25163910e-06, 7.16321562e-07, 2.19128830e-08, ...,\n",
       "           1.38372441e-06, 7.37481831e-06, 3.57650212e-05],\n",
       "          [2.98257593e-06, 3.94065695e-07, 6.78031371e-11, ...,\n",
       "           1.28459911e-08, 5.03409211e-06, 2.94385306e-05],\n",
       "          [2.12320979e-06, 2.80494599e-07, 3.93791536e-14, ...,\n",
       "           5.69620182e-12, 4.59374698e-06, 2.68907616e-05]],\n",
       "  \n",
       "         [[7.72683498e-04, 2.90188498e-05, 1.21055299e-13, ...,\n",
       "           4.91451430e-12, 5.53259735e-06, 3.32755036e-05],\n",
       "          [7.78764051e-04, 2.92455646e-05, 1.40889727e-13, ...,\n",
       "           6.36688349e-12, 6.78851835e-06, 4.16199996e-05],\n",
       "          [7.89369056e-04, 2.96411564e-05, 1.82558235e-13, ...,\n",
       "           9.23554749e-12, 8.97556779e-06, 5.61530806e-05],\n",
       "          ...,\n",
       "          [1.78372988e-04, 6.77385005e-06, 9.79296369e-08, ...,\n",
       "           2.51244715e-06, 5.60795380e-06, 1.85564957e-05],\n",
       "          [1.54209193e-04, 5.78602686e-06, 1.77489297e-10, ...,\n",
       "           1.66792476e-08, 2.09425941e-06, 1.38898478e-05],\n",
       "          [1.41708970e-04, 5.31689707e-06, 1.60120213e-13, ...,\n",
       "           1.12030717e-11, 1.90777858e-06, 1.27551553e-05]],\n",
       "  \n",
       "         [[1.18239839e-04, 9.65759242e-06, 1.23768973e-15, ...,\n",
       "           6.94353210e-12, 2.78504127e-04, 2.80196356e-03],\n",
       "          [1.19354130e-04, 9.74896568e-06, 4.63237624e-15, ...,\n",
       "           1.50848024e-11, 2.82374788e-04, 2.84034951e-03],\n",
       "          [1.21319751e-04, 9.91052756e-06, 1.07460214e-14, ...,\n",
       "           7.31300481e-10, 2.89015332e-04, 2.90558074e-03],\n",
       "          ...,\n",
       "          [1.84346841e-05, 1.54169828e-06, 2.72332565e-08, ...,\n",
       "           1.25483832e-06, 3.69578390e-06, 2.34431871e-05],\n",
       "          [1.82365547e-05, 1.48900227e-06, 1.45247997e-10, ...,\n",
       "           1.14408300e-08, 1.72386594e-06, 1.73260869e-05],\n",
       "          [1.73240142e-05, 1.41458914e-06, 1.02927910e-13, ...,\n",
       "           2.20416667e-12, 1.54628433e-06, 1.56131550e-05]]]),\n",
       "  'label': array([ 9,  9,  9, ..., 17, 17, 17])},\n",
       " 'val': {'melspectrogram': array([[[1.84076130e-03, 2.97242671e-04, 7.40060218e-12, ...,\n",
       "           7.35791639e-12, 1.10270463e-08, 8.44540601e-08],\n",
       "          [1.86156487e-03, 3.00602248e-04, 8.74325076e-12, ...,\n",
       "           1.38189681e-11, 8.41389861e-09, 4.74578302e-08],\n",
       "          [1.89783872e-03, 3.06464239e-04, 1.16626409e-11, ...,\n",
       "           6.45388529e-10, 4.87008007e-08, 3.97154011e-07],\n",
       "          ...,\n",
       "          [1.01341649e-05, 1.66688490e-06, 1.01603101e-07, ...,\n",
       "           1.61077598e-06, 1.52514034e-05, 1.27171980e-04],\n",
       "          [7.21003065e-06, 1.16490205e-06, 5.52198187e-10, ...,\n",
       "           6.13367028e-09, 1.15089206e-05, 1.05232570e-04],\n",
       "          [5.89980776e-06, 9.53125589e-07, 3.61782074e-13, ...,\n",
       "           8.00997132e-12, 1.03904360e-05, 9.51007266e-05]],\n",
       "  \n",
       "         [[1.17787348e-04, 2.67663929e-05, 6.44531408e-14, ...,\n",
       "           3.60948293e-13, 5.30551554e-05, 3.78528454e-04],\n",
       "          [1.17316031e-04, 2.66592053e-05, 1.13432974e-13, ...,\n",
       "           7.10015973e-12, 5.48672724e-05, 3.91597454e-04],\n",
       "          [1.16438458e-04, 2.64591696e-05, 2.51025397e-13, ...,\n",
       "           2.25894985e-10, 5.81011132e-05, 4.14891428e-04],\n",
       "          ...,\n",
       "          [1.52606873e-05, 3.52709541e-06, 7.97731305e-08, ...,\n",
       "           1.55450834e-06, 1.96937064e-06, 7.15061327e-06],\n",
       "          [1.37663103e-05, 3.12402468e-06, 4.20739410e-10, ...,\n",
       "           3.77734744e-09, 8.26379017e-07, 5.85931391e-06],\n",
       "          [1.29544957e-05, 2.93956802e-06, 2.38791792e-13, ...,\n",
       "           6.10976499e-12, 7.42855005e-07, 5.29913295e-06]],\n",
       "  \n",
       "         [[3.69169624e-04, 9.49861005e-05, 1.49662781e-11, ...,\n",
       "           1.31931640e-12, 1.08193917e-04, 4.75137958e-04],\n",
       "          [3.79939231e-04, 9.77594896e-05, 1.79898416e-11, ...,\n",
       "           4.56149177e-12, 1.12557428e-04, 4.94363836e-04],\n",
       "          [3.99002047e-04, 1.02671144e-04, 2.45827728e-11, ...,\n",
       "           1.36469071e-10, 1.20338466e-04, 5.28669472e-04],\n",
       "          ...,\n",
       "          [2.75128979e-06, 7.55848052e-07, 1.44197842e-07, ...,\n",
       "           1.33950545e-06, 1.85315108e-06, 3.57792421e-06],\n",
       "          [2.48386388e-06, 6.40247556e-07, 1.47857169e-09, ...,\n",
       "           5.52584799e-09, 6.03967809e-07, 2.62800388e-06],\n",
       "          [2.31869912e-06, 5.96966232e-07, 6.31038425e-13, ...,\n",
       "           6.29241007e-12, 5.40494299e-07, 2.37377895e-06]],\n",
       "  \n",
       "         ...,\n",
       "  \n",
       "         [[4.64337460e-04, 4.33294799e-05, 2.25075850e-13, ...,\n",
       "           1.91166913e-14, 6.01479130e-06, 2.54849004e-04],\n",
       "          [4.67291801e-04, 4.36224336e-05, 3.67371951e-13, ...,\n",
       "           1.24778077e-12, 6.38434798e-06, 2.71040872e-04],\n",
       "          [4.72650351e-04, 4.41491738e-05, 8.77470737e-12, ...,\n",
       "           1.73494099e-10, 7.02336636e-06, 2.99074464e-04],\n",
       "          ...,\n",
       "          [4.24258574e-05, 4.05664533e-06, 6.05310235e-08, ...,\n",
       "           3.55498714e-08, 6.00091473e-06, 2.62253455e-04],\n",
       "          [2.76656179e-05, 2.56428004e-06, 2.21805830e-10, ...,\n",
       "           2.18817855e-10, 5.41358393e-06, 2.41452182e-04],\n",
       "          [1.93359916e-05, 1.79651360e-06, 3.01392432e-13, ...,\n",
       "           2.02232256e-13, 5.26019323e-06, 2.34449600e-04]],\n",
       "  \n",
       "         [[3.75044855e-04, 7.64634977e-06, 1.58006102e-14, ...,\n",
       "           6.67368568e-14, 2.39278410e-05, 1.83315108e-04],\n",
       "          [3.85298328e-04, 7.85287064e-06, 2.20025135e-13, ...,\n",
       "           9.05813032e-12, 2.56190100e-05, 1.95850667e-04],\n",
       "          [4.03319021e-04, 8.21415971e-06, 8.64684395e-12, ...,\n",
       "           1.35562600e-10, 2.85869522e-05, 2.17900843e-04],\n",
       "          ...,\n",
       "          [5.74641382e-05, 1.29174204e-06, 7.79538689e-08, ...,\n",
       "           6.75089481e-07, 6.00841291e-06, 3.87361089e-05],\n",
       "          [4.50413680e-05, 9.44531953e-07, 2.18882140e-10, ...,\n",
       "           4.94040362e-09, 4.08211585e-06, 2.97581662e-05],\n",
       "          [3.80436284e-05, 7.97041672e-07, 1.16489584e-13, ...,\n",
       "           5.16946062e-12, 3.60696079e-06, 2.63103553e-05]],\n",
       "  \n",
       "         [[3.76151200e-04, 3.73859640e-05, 1.85239759e-12, ...,\n",
       "           2.52427063e-14, 3.00140674e-07, 1.37883475e-05],\n",
       "          [4.00081575e-04, 3.98469585e-05, 4.49338260e-12, ...,\n",
       "           1.10582988e-13, 3.41005713e-07, 1.55157448e-05],\n",
       "          [4.41743341e-04, 4.41457585e-05, 2.66506036e-11, ...,\n",
       "           2.53664313e-11, 4.10392759e-07, 1.84105641e-05],\n",
       "          ...,\n",
       "          [3.71816195e-04, 3.96346968e-05, 7.27970069e-07, ...,\n",
       "           5.68030525e-08, 8.18082631e-07, 1.91565522e-05],\n",
       "          [3.58032660e-04, 3.74120698e-05, 3.07817624e-09, ...,\n",
       "           2.58978338e-10, 4.32498312e-07, 1.79957842e-05],\n",
       "          [3.46922063e-04, 3.62252993e-05, 3.84792380e-12, ...,\n",
       "           2.18644641e-13, 4.20707783e-07, 1.76150392e-05]]]),\n",
       "  'label': array([14, 14, 14, ...,  4,  4,  4])}}"
      ]
     },
     "metadata": {},
     "output_type": "display_data"
    }
   ],
   "source": [
    "merged_dict = {'train': train_features, 'val': val_features}\n",
    "merged_dict"
   ]
  },
  {
   "cell_type": "markdown",
   "metadata": {},
   "source": [
    "### Save the merged dictionary to a pkl"
   ]
  },
  {
   "cell_type": "code",
   "execution_count": null,
   "metadata": {},
   "outputs": [],
   "source": [
    "with open('C:/Users/thato/Documents/Final-Year-Project/Dataset/Project-V4/feature-extraction/Annotated/NotAveragePooled/split_features_1s_mel.pkl', 'wb') as file:\n",
    "  pickle.dump(merged_dict, file)"
   ]
  },
  {
   "cell_type": "markdown",
   "metadata": {},
   "source": [
    "### **['melspectrogram', 'mfcc']**"
   ]
  },
  {
   "cell_type": "code",
   "execution_count": null,
   "metadata": {},
   "outputs": [],
   "source": [
    "features_list = ['melspectrogram', 'mfcc']"
   ]
  },
  {
   "cell_type": "code",
   "execution_count": null,
   "metadata": {},
   "outputs": [
    {
     "name": "stdout",
     "output_type": "stream",
     "text": [
      "Train DataFrame shape: (3444, 9)\n",
      "Validation DataFrame shape: (834, 9)\n",
      "Number of rows in dataframe: 3444\n"
     ]
    },
    {
     "name": "stderr",
     "output_type": "stream",
     "text": [
      "Processing data: 100%|██████████| 3444/3444 [01:25<00:00, 40.11it/s]\n"
     ]
    },
    {
     "name": "stdout",
     "output_type": "stream",
     "text": [
      "Number of rows in dataframe: 834\n"
     ]
    },
    {
     "name": "stderr",
     "output_type": "stream",
     "text": [
      "Processing data: 100%|██████████| 834/834 [00:22<00:00, 37.20it/s]\n"
     ]
    }
   ],
   "source": [
    "features = Extraction(train_data,\n",
    "                      val_data,\n",
    "                      window_size=1,\n",
    "                      features=features_list,\n",
    "                      avgpool=False\n",
    "                      )"
   ]
  },
  {
   "cell_type": "code",
   "execution_count": null,
   "metadata": {},
   "outputs": [
    {
     "data": {
      "text/plain": [
       "(12565,)"
      ]
     },
     "metadata": {},
     "output_type": "display_data"
    },
    {
     "data": {
      "text/plain": [
       "'melspectrogram'"
      ]
     },
     "metadata": {},
     "output_type": "display_data"
    },
    {
     "data": {
      "text/plain": [
       "(12565, 60, 44)"
      ]
     },
     "metadata": {},
     "output_type": "display_data"
    },
    {
     "data": {
      "text/plain": [
       "'mfcc'"
      ]
     },
     "metadata": {},
     "output_type": "display_data"
    },
    {
     "data": {
      "text/plain": [
       "(12565, 20, 44)"
      ]
     },
     "metadata": {},
     "output_type": "display_data"
    }
   ],
   "source": [
    "train_y = features.train_y\n",
    "display(train_y.shape)\n",
    "\n",
    "train_features = features.train_features\n",
    "for key in train_features.keys():\n",
    "  display(key)\n",
    "  display(train_features[key].shape)"
   ]
  },
  {
   "cell_type": "code",
   "execution_count": null,
   "metadata": {},
   "outputs": [
    {
     "data": {
      "text/plain": [
       "(12565,)"
      ]
     },
     "metadata": {},
     "output_type": "display_data"
    },
    {
     "data": {
      "text/plain": [
       "'melspectrogram'"
      ]
     },
     "metadata": {},
     "output_type": "display_data"
    },
    {
     "data": {
      "text/plain": [
       "(3318, 60, 44)"
      ]
     },
     "metadata": {},
     "output_type": "display_data"
    },
    {
     "data": {
      "text/plain": [
       "'mfcc'"
      ]
     },
     "metadata": {},
     "output_type": "display_data"
    },
    {
     "data": {
      "text/plain": [
       "(3318, 20, 44)"
      ]
     },
     "metadata": {},
     "output_type": "display_data"
    }
   ],
   "source": [
    "val_y = features.val_y\n",
    "display(train_y.shape)\n",
    "\n",
    "val_features = features.val_features\n",
    "for key in val_features.keys():\n",
    "  display(key)\n",
    "  display(val_features[key].shape)"
   ]
  },
  {
   "cell_type": "markdown",
   "metadata": {},
   "source": [
    "### Encode Classes"
   ]
  },
  {
   "cell_type": "code",
   "execution_count": null,
   "metadata": {},
   "outputs": [
    {
     "name": "stdout",
     "output_type": "stream",
     "text": [
      "Encoded classes for [0, 1, 2]: ['Acrocephalus arundinaceus', 'Acrocephalus melanopogon', 'Acrocephalus scirpaceus']\n",
      "Encoded training labels: [ 9  9  9 ... 17 17 17]\n",
      "Encoded validation labels: [14 14 14 ...  4  4  4]\n"
     ]
    }
   ],
   "source": [
    "label_encoder = LabelEncoder().fit(train_y)\n",
    "train_y_encoded = label_encoder.transform(train_y)\n",
    "val_y_encoded = label_encoder.transform(val_y)\n",
    "\n",
    "classes = list(label_encoder.inverse_transform([0, 1, 2]))\n",
    "print(\"Encoded classes for [0, 1, 2]:\", classes)\n",
    "print(\"Encoded training labels:\", train_y_encoded)\n",
    "print(\"Encoded validation labels:\", val_y_encoded)"
   ]
  },
  {
   "cell_type": "code",
   "execution_count": null,
   "metadata": {},
   "outputs": [
    {
     "data": {
      "text/plain": [
       "12565"
      ]
     },
     "metadata": {},
     "output_type": "display_data"
    },
    {
     "data": {
      "text/plain": [
       "array([9, 9, 9, 9, 9, 9, 9, 9, 9, 9])"
      ]
     },
     "metadata": {},
     "output_type": "display_data"
    },
    {
     "data": {
      "text/plain": [
       "3318"
      ]
     },
     "metadata": {},
     "output_type": "display_data"
    },
    {
     "data": {
      "text/plain": [
       "array([14, 14, 14, 14, 14, 14, 10, 10, 10, 10])"
      ]
     },
     "metadata": {},
     "output_type": "display_data"
    }
   ],
   "source": [
    "display(len(train_y_encoded))\n",
    "display(train_y_encoded[:10])\n",
    "\n",
    "display(len(val_y_encoded))\n",
    "display(val_y_encoded[:10])"
   ]
  },
  {
   "cell_type": "code",
   "execution_count": null,
   "metadata": {},
   "outputs": [],
   "source": [
    "train_features['label'] = train_y_encoded\n",
    "val_features['label'] = val_y_encoded"
   ]
  },
  {
   "cell_type": "code",
   "execution_count": null,
   "metadata": {},
   "outputs": [
    {
     "data": {
      "text/plain": [
       "{'train': {'melspectrogram': array([[[1.49619878e-04, 9.91906688e-07, 2.48130880e-14, ...,\n",
       "           7.57408160e-14, 2.46620584e-05, 2.42136864e-04],\n",
       "          [1.51059693e-04, 1.00149214e-06, 4.29179038e-14, ...,\n",
       "           1.54229494e-13, 2.47809445e-05, 2.43302732e-04],\n",
       "          [1.53461197e-04, 1.01720986e-06, 7.69849280e-12, ...,\n",
       "           5.91120706e-12, 2.49865924e-05, 2.45357940e-04],\n",
       "          ...,\n",
       "          [8.10535547e-08, 1.13486703e-09, 1.55103726e-10, ...,\n",
       "           9.95547819e-11, 3.92484929e-06, 3.89781243e-05],\n",
       "          [6.54161468e-08, 4.35279562e-10, 1.70086070e-13, ...,\n",
       "           3.73563449e-12, 3.73668669e-06, 3.71356338e-05],\n",
       "          [5.58002542e-08, 3.70017484e-10, 1.19116812e-15, ...,\n",
       "           8.60750760e-15, 3.62438557e-06, 3.60217485e-05]],\n",
       "  \n",
       "         [[2.90496083e-04, 1.33911613e-04, 1.18182281e-11, ...,\n",
       "           2.01018052e-13, 9.45688580e-06, 9.98487150e-05],\n",
       "          [2.97352272e-04, 1.36961177e-04, 1.73004844e-11, ...,\n",
       "           3.01842594e-13, 9.68366781e-06, 1.02240476e-04],\n",
       "          [3.09603415e-04, 1.42404336e-04, 1.77799954e-10, ...,\n",
       "           1.37675250e-11, 1.00828472e-05, 1.06442141e-04],\n",
       "          ...,\n",
       "          [1.54484708e-04, 7.18984910e-05, 4.14699914e-08, ...,\n",
       "           1.58219991e-09, 2.54226264e-07, 2.64916412e-06],\n",
       "          [1.47750369e-04, 6.87573851e-05, 4.90193254e-12, ...,\n",
       "           8.62880407e-12, 2.48109579e-07, 2.58621338e-06],\n",
       "          [1.43521455e-04, 6.67882443e-05, 2.70824804e-13, ...,\n",
       "           4.42811174e-14, 2.43916979e-07, 2.54212398e-06]],\n",
       "  \n",
       "         [[4.55543301e-04, 2.51265742e-06, 3.74917689e-15, ...,\n",
       "           1.07731695e-11, 2.63629131e-04, 1.84378904e-03],\n",
       "          [4.57720031e-04, 2.52440017e-06, 8.09933972e-14, ...,\n",
       "           1.34843580e-11, 2.69018541e-04, 1.88142961e-03],\n",
       "          [4.61220038e-04, 2.54317506e-06, 3.51347962e-12, ...,\n",
       "           5.04255332e-11, 2.78329858e-04, 1.94703837e-03],\n",
       "          ...,\n",
       "          [7.38566487e-05, 4.20170296e-07, 2.71756052e-09, ...,\n",
       "           1.34319028e-08, 3.36025734e-08, 1.87137073e-07],\n",
       "          [6.99262141e-05, 3.90192578e-07, 1.51896078e-11, ...,\n",
       "           2.01339414e-10, 2.94162072e-08, 1.98637239e-07],\n",
       "          [6.78123929e-05, 3.78405969e-07, 3.52410644e-15, ...,\n",
       "           6.11029994e-14, 2.87063791e-08, 1.99999124e-07]],\n",
       "  \n",
       "         ...,\n",
       "  \n",
       "         [[3.16719877e-05, 4.18284470e-06, 6.43660770e-15, ...,\n",
       "           6.78192966e-13, 1.01647866e-04, 3.64188836e-04],\n",
       "          [3.22357957e-05, 4.25725772e-06, 8.96772966e-15, ...,\n",
       "           6.50510038e-12, 1.03226465e-04, 3.69855668e-04],\n",
       "          [3.32204779e-05, 4.38729189e-06, 1.46234737e-14, ...,\n",
       "           6.37281288e-10, 1.05854543e-04, 3.79555963e-04],\n",
       "          ...,\n",
       "          [5.25163910e-06, 7.16321562e-07, 2.19128830e-08, ...,\n",
       "           1.36889009e-06, 2.08129759e-06, 1.14896610e-06],\n",
       "          [2.98257593e-06, 3.94065695e-07, 6.78031371e-11, ...,\n",
       "           8.90791685e-09, 1.79156694e-07, 6.14512607e-07],\n",
       "          [2.12320979e-06, 2.80494599e-07, 3.93791536e-14, ...,\n",
       "           6.28588334e-12, 2.54285150e-07, 9.12619351e-07]],\n",
       "  \n",
       "         [[7.72683498e-04, 2.90188498e-05, 1.21055299e-13, ...,\n",
       "           4.91451430e-12, 5.53259735e-06, 3.32755036e-05],\n",
       "          [7.78764051e-04, 2.92455646e-05, 1.40889727e-13, ...,\n",
       "           6.36688349e-12, 6.78851835e-06, 4.16199996e-05],\n",
       "          [7.89369056e-04, 2.96411564e-05, 1.82558235e-13, ...,\n",
       "           9.23554749e-12, 8.97556779e-06, 5.61530806e-05],\n",
       "          ...,\n",
       "          [1.78372988e-04, 6.77385005e-06, 9.79296369e-08, ...,\n",
       "           2.51244715e-06, 5.60795380e-06, 1.85564957e-05],\n",
       "          [1.54209193e-04, 5.78602686e-06, 1.77489297e-10, ...,\n",
       "           1.66792476e-08, 2.09425941e-06, 1.38898478e-05],\n",
       "          [1.41708970e-04, 5.31689707e-06, 1.60120213e-13, ...,\n",
       "           1.12030717e-11, 1.90777858e-06, 1.27551553e-05]],\n",
       "  \n",
       "         [[1.18239839e-04, 9.65759242e-06, 1.23768972e-15, ...,\n",
       "           2.95977284e-12, 1.21856678e-04, 6.80282825e-04],\n",
       "          [1.19354130e-04, 9.74896568e-06, 4.63237625e-15, ...,\n",
       "           6.71593215e-12, 1.22549189e-04, 6.84045005e-04],\n",
       "          [1.21319751e-04, 9.91052756e-06, 1.07460213e-14, ...,\n",
       "           1.39093571e-09, 1.23811969e-04, 6.90413804e-04],\n",
       "          ...,\n",
       "          [1.84346841e-05, 1.54169828e-06, 2.72332565e-08, ...,\n",
       "           1.62368792e-06, 7.16756460e-06, 2.51358787e-05],\n",
       "          [1.82365547e-05, 1.48900227e-06, 1.45247997e-10, ...,\n",
       "           1.18980145e-08, 3.78444063e-06, 2.11058836e-05],\n",
       "          [1.73240142e-05, 1.41458914e-06, 1.02927910e-13, ...,\n",
       "           6.66239294e-12, 3.52540305e-06, 1.97282380e-05]]]),\n",
       "  'mfcc': array([[[-1.00000000e+00, -1.00000000e+00, -1.00000000e+00, ...,\n",
       "           -1.00000000e+00, -1.00000000e+00, -1.00000000e+00],\n",
       "          [ 8.05976192e-02,  1.65216244e-02, -7.91479448e-02, ...,\n",
       "           -6.91825764e-02,  1.37290793e-02,  5.77092522e-02],\n",
       "          [-4.23311518e-01, -7.31073428e-01, -7.87156824e-01, ...,\n",
       "           -7.59652046e-01, -4.51705154e-01, -3.18959654e-01],\n",
       "          ...,\n",
       "          [-1.44578811e-02, -4.62346896e-02, -4.22424941e-02, ...,\n",
       "           -1.51759736e-02, -6.41552680e-03,  2.01175686e-03],\n",
       "          [ 3.16911199e-02,  3.58021512e-02,  2.30268818e-02, ...,\n",
       "            3.89170159e-02,  2.17698209e-02,  2.13559449e-02],\n",
       "          [-5.20769457e-04,  1.25406318e-02,  1.77409984e-02, ...,\n",
       "           -2.63310812e-02, -1.10730306e-02,  5.23682860e-03]],\n",
       "  \n",
       "         [[-1.00000000e+00, -1.00000000e+00, -1.00000000e+00, ...,\n",
       "           -1.00000000e+00, -1.00000000e+00, -1.00000000e+00],\n",
       "          [ 2.60290819e-02,  2.69100289e-02, -2.48385921e-02, ...,\n",
       "           -6.51855243e-02,  8.12509125e-02,  1.33927187e-01],\n",
       "          [-3.68375618e-01, -4.29691759e-01, -5.15953308e-01, ...,\n",
       "           -6.55322975e-01, -7.27535359e-01, -5.52651037e-01],\n",
       "          ...,\n",
       "          [-2.70068961e-02, -4.88552103e-03, -6.22849737e-03, ...,\n",
       "           -2.44630243e-02, -3.52785317e-03,  7.83893517e-03],\n",
       "          [ 1.62919223e-02,  2.01034311e-02,  1.90959147e-02, ...,\n",
       "            2.98004807e-02,  5.72141597e-02,  4.10230435e-02],\n",
       "          [ 3.49203947e-02,  2.76561755e-02, -8.44578175e-03, ...,\n",
       "           -1.86952370e-02,  3.71476037e-03,  1.37909249e-03]],\n",
       "  \n",
       "         [[-1.00000000e+00, -1.00000000e+00, -1.00000000e+00, ...,\n",
       "           -1.00000000e+00, -1.00000000e+00, -1.00000000e+00],\n",
       "          [ 4.91130444e-02,  3.86468585e-03, -7.49726630e-02, ...,\n",
       "           -2.02843292e-02,  9.86270156e-02,  1.57392080e-01],\n",
       "          [-3.25604847e-01, -6.93143661e-01, -8.37548319e-01, ...,\n",
       "           -4.94116807e-01, -4.12895305e-01, -3.59223702e-01],\n",
       "          ...,\n",
       "          [ 8.89743886e-03, -1.34047819e-02, -7.18242114e-03, ...,\n",
       "            3.25889063e-03, -5.49432601e-03, -1.68520772e-03],\n",
       "          [ 2.50097395e-02,  3.51845224e-02,  3.25046178e-02, ...,\n",
       "            4.17224645e-02,  2.63529008e-02,  1.83242440e-02],\n",
       "          [-4.09717271e-03, -1.62574413e-02, -2.39993400e-02, ...,\n",
       "           -3.17388277e-02, -8.94995402e-03,  5.36006655e-03]],\n",
       "  \n",
       "         ...,\n",
       "  \n",
       "         [[-1.00000000e+00, -1.00000000e+00, -1.00000000e+00, ...,\n",
       "           -1.00000000e+00, -1.00000000e+00, -1.00000000e+00],\n",
       "          [-5.13047641e-02, -1.19228241e-01, -2.80340547e-01, ...,\n",
       "           -5.53463587e-02,  2.37091516e-02,  7.68518616e-02],\n",
       "          [-1.26154308e-01, -2.01252302e-01, -2.90669646e-01, ...,\n",
       "           -4.78868433e-01, -4.34224032e-01, -3.50927781e-01],\n",
       "          ...,\n",
       "          [-6.10020156e-02, -8.06716248e-02, -6.70758040e-02, ...,\n",
       "           -2.51986963e-02, -2.59265025e-02, -2.91863111e-02],\n",
       "          [ 4.56136384e-02,  5.25300867e-02,  3.33680212e-02, ...,\n",
       "            1.43705900e-02,  1.58950316e-02,  1.97894520e-02],\n",
       "          [-2.64002814e-02, -3.21728995e-02, -3.70423458e-02, ...,\n",
       "           -1.70206918e-02, -1.83986117e-02, -1.70000987e-02]],\n",
       "  \n",
       "         [[-1.00000000e+00, -1.00000000e+00, -1.00000000e+00, ...,\n",
       "           -1.00000000e+00, -1.00000000e+00, -1.00000000e+00],\n",
       "          [-5.74711222e-02, -1.26670547e-01, -2.35262343e-01, ...,\n",
       "           -1.22195939e-01, -8.67521230e-02, -3.79083824e-02],\n",
       "          [-6.94564429e-02, -1.36236893e-01, -2.30177013e-01, ...,\n",
       "           -2.71406982e-01, -2.70499902e-01, -2.22388562e-01],\n",
       "          ...,\n",
       "          [-4.79990943e-02, -7.59018022e-02, -7.34869727e-02, ...,\n",
       "           -2.25520168e-02, -1.98166913e-02, -8.02514930e-03],\n",
       "          [-6.83947580e-03, -1.57718148e-03,  1.36142099e-02, ...,\n",
       "           -2.36192538e-02, -8.96105977e-03, -3.83398806e-03],\n",
       "          [ 1.22862027e-02, -3.87375528e-03, -2.51107377e-02, ...,\n",
       "           -3.19652081e-02, -1.96591225e-02, -1.64332849e-02]],\n",
       "  \n",
       "         [[-1.00000000e+00, -1.00000000e+00, -1.00000000e+00, ...,\n",
       "           -1.00000000e+00, -1.00000000e+00, -1.00000000e+00],\n",
       "          [-2.26102138e-03, -8.01771012e-02, -2.84816420e-01, ...,\n",
       "           -5.92673877e-02,  2.63907334e-02,  6.86225058e-02],\n",
       "          [-1.29369379e-01, -2.29996988e-01, -3.75867721e-01, ...,\n",
       "           -5.48615245e-01, -5.02985922e-01, -4.04347168e-01],\n",
       "          ...,\n",
       "          [-7.14124209e-02, -6.85147414e-02, -5.71165429e-02, ...,\n",
       "           -1.91286503e-02, -2.44696887e-02, -2.69962519e-02],\n",
       "          [ 4.96864938e-02,  4.10912904e-02,  1.53086466e-02, ...,\n",
       "            1.52942649e-02,  1.14975092e-02,  2.75549625e-02],\n",
       "          [-4.81405583e-02, -7.17333460e-02, -6.29002059e-02, ...,\n",
       "           -2.13044257e-02, -2.07154391e-02, -1.51041215e-02]]]),\n",
       "  'label': array([ 9,  9,  9, ..., 17, 17, 17])},\n",
       " 'val': {'melspectrogram': array([[[1.84076130e-03, 2.97242671e-04, 7.40060218e-12, ...,\n",
       "           1.19305597e-12, 1.23463433e-04, 8.14621807e-04],\n",
       "          [1.86156487e-03, 3.00602248e-04, 8.74325076e-12, ...,\n",
       "           8.95900944e-12, 1.27103051e-04, 8.38471763e-04],\n",
       "          [1.89783872e-03, 3.06464239e-04, 1.16626410e-11, ...,\n",
       "           6.53638474e-10, 1.33337860e-04, 8.79723841e-04],\n",
       "          ...,\n",
       "          [1.01341649e-05, 1.66688490e-06, 1.01603101e-07, ...,\n",
       "           1.20666494e-06, 1.87250427e-06, 3.07714634e-06],\n",
       "          [7.21003065e-06, 1.16490205e-06, 5.52198187e-10, ...,\n",
       "           6.80171773e-09, 2.45062786e-07, 1.56334936e-06],\n",
       "          [5.89980776e-06, 9.53125589e-07, 3.61782074e-13, ...,\n",
       "           8.48351097e-12, 2.41655007e-07, 1.58739146e-06]],\n",
       "  \n",
       "         [[1.17787348e-04, 2.67663929e-05, 6.44531408e-14, ...,\n",
       "           2.29390699e-11, 2.32210711e-05, 1.37327760e-04],\n",
       "          [1.17316031e-04, 2.66592053e-05, 1.13432974e-13, ...,\n",
       "           3.61452787e-11, 2.36029602e-05, 1.39524100e-04],\n",
       "          [1.16438458e-04, 2.64591696e-05, 2.51025397e-13, ...,\n",
       "           5.85141440e-10, 2.42206102e-05, 1.43161530e-04],\n",
       "          ...,\n",
       "          [1.52606873e-05, 3.52709541e-06, 7.97731305e-08, ...,\n",
       "           2.10925713e-06, 1.86478179e-06, 6.25816296e-06],\n",
       "          [1.37663103e-05, 3.12402468e-06, 4.20739410e-10, ...,\n",
       "           1.00740104e-08, 6.33835375e-07, 3.77554513e-06],\n",
       "          [1.29544957e-05, 2.93956802e-06, 2.38791792e-13, ...,\n",
       "           9.32946884e-12, 5.27290189e-07, 3.16937390e-06]],\n",
       "  \n",
       "         [[3.69169624e-04, 9.49861005e-05, 1.49662781e-11, ...,\n",
       "           8.03796032e-13, 4.95581795e-07, 3.79474106e-06],\n",
       "          [3.79939231e-04, 9.77594896e-05, 1.79898416e-11, ...,\n",
       "           4.87059005e-12, 5.22395555e-07, 4.00988242e-06],\n",
       "          [3.99002047e-04, 1.02671144e-04, 2.45827728e-11, ...,\n",
       "           5.25709721e-10, 5.68902118e-07, 4.37765721e-06],\n",
       "          ...,\n",
       "          [2.75128979e-06, 7.55848052e-07, 1.44197842e-07, ...,\n",
       "           2.09898101e-06, 1.82093689e-05, 1.19455352e-04],\n",
       "          [2.48386388e-06, 6.40247556e-07, 1.47857169e-09, ...,\n",
       "           4.76751436e-09, 1.23208252e-05, 9.40291042e-05],\n",
       "          [2.31869912e-06, 5.96966232e-07, 6.31038425e-13, ...,\n",
       "           5.18592144e-12, 1.06623922e-05, 8.14560472e-05]],\n",
       "  \n",
       "         ...,\n",
       "  \n",
       "         [[4.64337460e-04, 4.33294799e-05, 2.25075850e-13, ...,\n",
       "           1.91166913e-14, 6.01479130e-06, 2.54849004e-04],\n",
       "          [4.67291801e-04, 4.36224336e-05, 3.67371951e-13, ...,\n",
       "           1.24778077e-12, 6.38434798e-06, 2.71040872e-04],\n",
       "          [4.72650351e-04, 4.41491738e-05, 8.77470737e-12, ...,\n",
       "           1.73494099e-10, 7.02336636e-06, 2.99074464e-04],\n",
       "          ...,\n",
       "          [4.24258574e-05, 4.05664533e-06, 6.05310235e-08, ...,\n",
       "           3.55498714e-08, 6.00091473e-06, 2.62253455e-04],\n",
       "          [2.76656179e-05, 2.56428004e-06, 2.21805830e-10, ...,\n",
       "           2.18817855e-10, 5.41358393e-06, 2.41452182e-04],\n",
       "          [1.93359916e-05, 1.79651360e-06, 3.01392432e-13, ...,\n",
       "           2.02232256e-13, 5.26019323e-06, 2.34449600e-04]],\n",
       "  \n",
       "         [[3.75044855e-04, 7.64634977e-06, 1.58006102e-14, ...,\n",
       "           6.67368568e-14, 2.39278410e-05, 1.83315108e-04],\n",
       "          [3.85298328e-04, 7.85287064e-06, 2.20025135e-13, ...,\n",
       "           9.05813032e-12, 2.56190100e-05, 1.95850667e-04],\n",
       "          [4.03319021e-04, 8.21415971e-06, 8.64684395e-12, ...,\n",
       "           1.35562600e-10, 2.85869522e-05, 2.17900843e-04],\n",
       "          ...,\n",
       "          [5.74641382e-05, 1.29174204e-06, 7.79538689e-08, ...,\n",
       "           6.75089481e-07, 6.00841291e-06, 3.87361089e-05],\n",
       "          [4.50413680e-05, 9.44531953e-07, 2.18882140e-10, ...,\n",
       "           4.94040362e-09, 4.08211585e-06, 2.97581662e-05],\n",
       "          [3.80436284e-05, 7.97041672e-07, 1.16489584e-13, ...,\n",
       "           5.16946062e-12, 3.60696079e-06, 2.63103553e-05]],\n",
       "  \n",
       "         [[3.76151200e-04, 3.73859640e-05, 1.85239759e-12, ...,\n",
       "           2.52427063e-14, 3.00140674e-07, 1.37883475e-05],\n",
       "          [4.00081575e-04, 3.98469585e-05, 4.49338260e-12, ...,\n",
       "           1.10582988e-13, 3.41005713e-07, 1.55157448e-05],\n",
       "          [4.41743341e-04, 4.41457585e-05, 2.66506036e-11, ...,\n",
       "           2.53664313e-11, 4.10392759e-07, 1.84105641e-05],\n",
       "          ...,\n",
       "          [3.71816195e-04, 3.96346968e-05, 7.27970069e-07, ...,\n",
       "           5.68030525e-08, 8.18082631e-07, 1.91565522e-05],\n",
       "          [3.58032660e-04, 3.74120698e-05, 3.07817624e-09, ...,\n",
       "           2.58978338e-10, 4.32498312e-07, 1.79957842e-05],\n",
       "          [3.46922063e-04, 3.62252993e-05, 3.84792380e-12, ...,\n",
       "           2.18644641e-13, 4.20707783e-07, 1.76150392e-05]]]),\n",
       "  'mfcc': array([[[-1.00000000e+00, -1.00000000e+00, -1.00000000e+00, ...,\n",
       "           -1.00000000e+00, -1.00000000e+00, -1.00000000e+00],\n",
       "          [ 2.61779438e-01,  5.65274874e-02, -3.29957127e-01, ...,\n",
       "           -4.32053439e-02,  3.57253604e-03,  5.83605181e-02],\n",
       "          [-6.05828947e-01, -6.83816948e-01, -7.37919014e-01, ...,\n",
       "           -4.07196683e-01, -3.69629912e-01, -2.94805581e-01],\n",
       "          ...,\n",
       "          [ 8.38597347e-02,  9.01772705e-02,  2.28971915e-02, ...,\n",
       "           -1.15139382e-02, -1.02922373e-02, -5.65867530e-04],\n",
       "          [ 7.61018264e-02,  1.05172219e-01,  6.12936570e-02, ...,\n",
       "            1.34566533e-02,  2.53862048e-02,  3.51619035e-02],\n",
       "          [-2.57656314e-01, -2.63538975e-01, -1.14549517e-01, ...,\n",
       "           -3.04053385e-02, -2.01631985e-02, -4.91708038e-03]],\n",
       "  \n",
       "         [[-1.00000000e+00, -1.00000000e+00, -1.00000000e+00, ...,\n",
       "           -1.00000000e+00, -1.00000000e+00, -1.00000000e+00],\n",
       "          [-5.74245275e-02, -1.86788242e-01, -3.06985626e-01, ...,\n",
       "           -4.87920319e-02, -1.33042963e-02,  4.32411902e-02],\n",
       "          [-5.03727902e-01, -6.50660087e-01, -6.95564994e-01, ...,\n",
       "           -4.61466904e-01, -4.40348450e-01, -3.72248436e-01],\n",
       "          ...,\n",
       "          [ 6.37078943e-02,  4.78735193e-02,  9.93554493e-03, ...,\n",
       "           -2.41840359e-02, -2.16291978e-02,  7.78885239e-04],\n",
       "          [ 1.16562987e-01,  1.65626129e-01,  1.18745713e-01, ...,\n",
       "            1.22372129e-02,  3.59841346e-03,  6.23982574e-03],\n",
       "          [-1.90460088e-01, -1.82960447e-01, -8.10073673e-02, ...,\n",
       "           -2.38991935e-02, -2.59067672e-02, -2.38912917e-02]],\n",
       "  \n",
       "         [[-1.00000000e+00, -1.00000000e+00, -1.00000000e+00, ...,\n",
       "           -1.00000000e+00, -1.00000000e+00, -1.00000000e+00],\n",
       "          [ 1.86307877e-01,  9.39787766e-03, -3.09962337e-01, ...,\n",
       "           -3.27569889e-02, -3.73927791e-02, -5.11774328e-02],\n",
       "          [-6.58521836e-01, -8.09546318e-01, -7.48184109e-01, ...,\n",
       "           -4.06839958e-01, -4.20897803e-01, -3.61462230e-01],\n",
       "          ...,\n",
       "          [ 2.00373350e-02,  4.11353714e-02,  1.53098953e-02, ...,\n",
       "           -2.58987777e-02, -2.16500429e-02, -1.38622348e-02],\n",
       "          [ 1.73380272e-01,  1.80210953e-01,  9.42184173e-02, ...,\n",
       "            3.62135780e-03,  5.63248147e-03,  3.92694142e-03],\n",
       "          [-2.16437723e-01, -2.33301592e-01, -9.02919275e-02, ...,\n",
       "           -2.73820783e-02, -2.44520186e-02, -9.37881345e-03]],\n",
       "  \n",
       "         ...,\n",
       "  \n",
       "         [[-1.00000000e+00, -1.00000000e+00, -1.00000000e+00, ...,\n",
       "           -1.00000000e+00, -1.00000000e+00, -1.00000000e+00],\n",
       "          [-3.58561594e-03, -3.83796002e-02, -1.59689560e-01, ...,\n",
       "           -4.46514409e-02, -2.80920763e-02, -3.12205547e-02],\n",
       "          [-3.86935546e-01, -5.43903932e-01, -7.02241654e-01, ...,\n",
       "           -7.24347366e-01, -5.60265725e-01, -2.74852970e-01],\n",
       "          ...,\n",
       "          [ 5.36763649e-03, -1.13237537e-02, -2.04433984e-02, ...,\n",
       "           -1.72881528e-02, -2.11770704e-02, -1.11679756e-02],\n",
       "          [ 1.88261606e-02,  1.81097189e-02,  1.54509356e-02, ...,\n",
       "           -9.76732808e-03, -1.16216564e-02, -6.68977131e-03],\n",
       "          [-9.90889362e-03, -1.34922261e-02, -3.41973471e-02, ...,\n",
       "           -3.30135344e-02, -3.25544498e-02, -1.38859892e-02]],\n",
       "  \n",
       "         [[-1.00000000e+00, -1.00000000e+00, -1.00000000e+00, ...,\n",
       "           -1.00000000e+00, -1.00000000e+00, -1.00000000e+00],\n",
       "          [-6.48288491e-03, -5.19195150e-03, -1.15946159e-01, ...,\n",
       "           -1.03637157e-01, -4.36334616e-02, -3.94339864e-03],\n",
       "          [-3.84605458e-01, -7.31827593e-01, -8.63209042e-01, ...,\n",
       "           -3.94192827e-01, -3.11077504e-01, -2.09064089e-01],\n",
       "          ...,\n",
       "          [-2.71578909e-02, -1.72509573e-02, -9.04134493e-03, ...,\n",
       "           -1.03569087e-02, -1.50861025e-02, -1.56886398e-02],\n",
       "          [ 1.01353501e-02,  1.66944318e-02,  1.25408571e-02, ...,\n",
       "            1.14357175e-02,  6.58673774e-03,  2.45878877e-03],\n",
       "          [-1.74439235e-02, -2.69890785e-02, -3.21737583e-02, ...,\n",
       "           -5.35758440e-03, -7.53084216e-03, -1.14412035e-02]],\n",
       "  \n",
       "         [[-1.00000000e+00, -1.00000000e+00, -1.00000000e+00, ...,\n",
       "           -1.00000000e+00, -1.00000000e+00, -1.00000000e+00],\n",
       "          [-1.13151358e-02, -5.07395434e-02, -1.14106404e-01, ...,\n",
       "           -2.30035030e-02, -5.37580123e-02, -6.62910127e-02],\n",
       "          [-1.77895643e-01, -2.84559430e-01, -4.02259714e-01, ...,\n",
       "           -6.28093339e-01, -4.62303114e-01, -3.14746928e-01],\n",
       "          ...,\n",
       "          [-2.12650739e-02, -1.94306965e-02, -7.52820729e-03, ...,\n",
       "           -1.92081251e-02, -1.31516762e-02, -4.64893500e-03],\n",
       "          [ 1.33500599e-02,  1.23813828e-02,  1.27569466e-02, ...,\n",
       "           -1.30828718e-02,  1.78683352e-03,  2.53016042e-02],\n",
       "          [-4.79920208e-03,  1.51259335e-03, -1.92752386e-02, ...,\n",
       "           -6.53529604e-02, -4.56770518e-02, -1.72171995e-02]]]),\n",
       "  'label': array([14, 14, 14, ...,  4,  4,  4])}}"
      ]
     },
     "metadata": {},
     "output_type": "display_data"
    }
   ],
   "source": [
    "merged_dict = {'train': train_features, 'val': val_features}\n",
    "merged_dict"
   ]
  },
  {
   "cell_type": "markdown",
   "metadata": {},
   "source": [
    "### Save the merged dictionary to a pkl"
   ]
  },
  {
   "cell_type": "code",
   "execution_count": null,
   "metadata": {},
   "outputs": [],
   "source": [
    "with open('C:/Users/thato/Documents/Final-Year-Project/Dataset/Project-V4/feature-extraction/Annotated/NotAveragePooled/split_features_1s_mel_mfcc.pkl', 'wb') as file:\n",
    "  pickle.dump(merged_dict, file)"
   ]
  },
  {
   "cell_type": "markdown",
   "metadata": {},
   "source": [
    "### **['melspectrogram', 'mfcc', 'chroma']**"
   ]
  },
  {
   "cell_type": "code",
   "execution_count": null,
   "metadata": {},
   "outputs": [],
   "source": [
    "features_list = ['melspectrogram', 'mfcc', 'chroma']"
   ]
  },
  {
   "cell_type": "code",
   "execution_count": null,
   "metadata": {},
   "outputs": [
    {
     "name": "stdout",
     "output_type": "stream",
     "text": [
      "Train DataFrame shape: (3444, 9)\n",
      "Validation DataFrame shape: (834, 9)\n",
      "Number of rows in dataframe: 3444\n"
     ]
    },
    {
     "name": "stderr",
     "output_type": "stream",
     "text": [
      "Processing data:  35%|███▍      | 1197/3444 [00:50<00:58, 38.22it/s]c:\\Users\\thato\\AppData\\Local\\Programs\\Python\\Python312\\Lib\\site-packages\\librosa\\core\\pitch.py:101: UserWarning: Trying to estimate tuning from empty frequency set.\n",
      "  return pitch_tuning(\n",
      "Processing data: 100%|██████████| 3444/3444 [02:20<00:00, 24.49it/s]\n"
     ]
    },
    {
     "name": "stdout",
     "output_type": "stream",
     "text": [
      "Number of rows in dataframe: 834\n"
     ]
    },
    {
     "name": "stderr",
     "output_type": "stream",
     "text": [
      "Processing data: 100%|██████████| 834/834 [00:37<00:00, 22.29it/s]\n"
     ]
    }
   ],
   "source": [
    "features = Extraction(train_data,\n",
    "                      val_data,\n",
    "                      window_size=1,\n",
    "                      features=features_list,\n",
    "                      avgpool=False\n",
    "                      )"
   ]
  },
  {
   "cell_type": "code",
   "execution_count": null,
   "metadata": {},
   "outputs": [
    {
     "data": {
      "text/plain": [
       "(12565,)"
      ]
     },
     "metadata": {},
     "output_type": "display_data"
    },
    {
     "data": {
      "text/plain": [
       "'melspectrogram'"
      ]
     },
     "metadata": {},
     "output_type": "display_data"
    },
    {
     "data": {
      "text/plain": [
       "(12565, 60, 44)"
      ]
     },
     "metadata": {},
     "output_type": "display_data"
    },
    {
     "data": {
      "text/plain": [
       "'mfcc'"
      ]
     },
     "metadata": {},
     "output_type": "display_data"
    },
    {
     "data": {
      "text/plain": [
       "(12565, 20, 44)"
      ]
     },
     "metadata": {},
     "output_type": "display_data"
    },
    {
     "data": {
      "text/plain": [
       "'chroma'"
      ]
     },
     "metadata": {},
     "output_type": "display_data"
    },
    {
     "data": {
      "text/plain": [
       "(12565, 12, 44)"
      ]
     },
     "metadata": {},
     "output_type": "display_data"
    }
   ],
   "source": [
    "train_y = features.train_y\n",
    "display(train_y.shape)\n",
    "\n",
    "train_features = features.train_features\n",
    "for key in train_features.keys():\n",
    "  display(key)\n",
    "  display(train_features[key].shape)"
   ]
  },
  {
   "cell_type": "code",
   "execution_count": null,
   "metadata": {},
   "outputs": [
    {
     "data": {
      "text/plain": [
       "(3318,)"
      ]
     },
     "metadata": {},
     "output_type": "display_data"
    },
    {
     "data": {
      "text/plain": [
       "'melspectrogram'"
      ]
     },
     "metadata": {},
     "output_type": "display_data"
    },
    {
     "data": {
      "text/plain": [
       "(3318, 60, 44)"
      ]
     },
     "metadata": {},
     "output_type": "display_data"
    },
    {
     "data": {
      "text/plain": [
       "'mfcc'"
      ]
     },
     "metadata": {},
     "output_type": "display_data"
    },
    {
     "data": {
      "text/plain": [
       "(3318, 20, 44)"
      ]
     },
     "metadata": {},
     "output_type": "display_data"
    },
    {
     "data": {
      "text/plain": [
       "'chroma'"
      ]
     },
     "metadata": {},
     "output_type": "display_data"
    },
    {
     "data": {
      "text/plain": [
       "(3318, 12, 44)"
      ]
     },
     "metadata": {},
     "output_type": "display_data"
    }
   ],
   "source": [
    "val_y = features.val_y\n",
    "display(val_y.shape)\n",
    "\n",
    "val_features = features.val_features\n",
    "for key in val_features.keys():\n",
    "  display(key)\n",
    "  display(val_features[key].shape)"
   ]
  },
  {
   "cell_type": "markdown",
   "metadata": {},
   "source": [
    "### Encode Classes"
   ]
  },
  {
   "cell_type": "code",
   "execution_count": null,
   "metadata": {},
   "outputs": [
    {
     "name": "stdout",
     "output_type": "stream",
     "text": [
      "Encoded classes for [0, 1, 2]: ['Acrocephalus arundinaceus', 'Acrocephalus melanopogon', 'Acrocephalus scirpaceus']\n",
      "Encoded training labels: [ 9  9  9 ... 17 17 17]\n",
      "Encoded validation labels: [14 14 14 ...  4  4  4]\n"
     ]
    }
   ],
   "source": [
    "label_encoder = LabelEncoder().fit(train_y)\n",
    "train_y_encoded = label_encoder.transform(train_y)\n",
    "val_y_encoded = label_encoder.transform(val_y)\n",
    "\n",
    "classes = list(label_encoder.inverse_transform([0, 1, 2]))\n",
    "print(\"Encoded classes for [0, 1, 2]:\", classes)\n",
    "print(\"Encoded training labels:\", train_y_encoded)\n",
    "print(\"Encoded validation labels:\", val_y_encoded)"
   ]
  },
  {
   "cell_type": "code",
   "execution_count": null,
   "metadata": {},
   "outputs": [
    {
     "data": {
      "text/plain": [
       "12565"
      ]
     },
     "metadata": {},
     "output_type": "display_data"
    },
    {
     "data": {
      "text/plain": [
       "array([9, 9, 9, 9, 9, 9, 9, 9, 9, 9])"
      ]
     },
     "metadata": {},
     "output_type": "display_data"
    },
    {
     "data": {
      "text/plain": [
       "3318"
      ]
     },
     "metadata": {},
     "output_type": "display_data"
    },
    {
     "data": {
      "text/plain": [
       "array([14, 14, 14, 14, 14, 14, 10, 10, 10, 10])"
      ]
     },
     "metadata": {},
     "output_type": "display_data"
    }
   ],
   "source": [
    "display(len(train_y_encoded))\n",
    "display(train_y_encoded[:10])\n",
    "\n",
    "display(len(val_y_encoded))\n",
    "display(val_y_encoded[:10])"
   ]
  },
  {
   "cell_type": "code",
   "execution_count": null,
   "metadata": {},
   "outputs": [],
   "source": [
    "train_features['label'] = train_y_encoded\n",
    "val_features['label'] = val_y_encoded"
   ]
  },
  {
   "cell_type": "code",
   "execution_count": null,
   "metadata": {},
   "outputs": [
    {
     "data": {
      "text/plain": [
       "{'train': {'melspectrogram': array([[[1.49619878e-04, 9.91906688e-07, 2.48130880e-14, ...,\n",
       "           7.57408160e-14, 2.46620584e-05, 2.42136864e-04],\n",
       "          [1.51059693e-04, 1.00149214e-06, 4.29179038e-14, ...,\n",
       "           1.54229494e-13, 2.47809445e-05, 2.43302732e-04],\n",
       "          [1.53461197e-04, 1.01720986e-06, 7.69849280e-12, ...,\n",
       "           5.91120706e-12, 2.49865924e-05, 2.45357940e-04],\n",
       "          ...,\n",
       "          [8.10535547e-08, 1.13486703e-09, 1.55103726e-10, ...,\n",
       "           9.95547819e-11, 3.92484929e-06, 3.89781243e-05],\n",
       "          [6.54161468e-08, 4.35279562e-10, 1.70086070e-13, ...,\n",
       "           3.73563449e-12, 3.73668669e-06, 3.71356338e-05],\n",
       "          [5.58002542e-08, 3.70017484e-10, 1.19116812e-15, ...,\n",
       "           8.60750760e-15, 3.62438557e-06, 3.60217485e-05]],\n",
       "  \n",
       "         [[2.90496083e-04, 1.33911613e-04, 1.18182281e-11, ...,\n",
       "           2.01018052e-13, 9.45688580e-06, 9.98487150e-05],\n",
       "          [2.97352272e-04, 1.36961177e-04, 1.73004844e-11, ...,\n",
       "           3.01842594e-13, 9.68366781e-06, 1.02240476e-04],\n",
       "          [3.09603415e-04, 1.42404336e-04, 1.77799954e-10, ...,\n",
       "           1.37675250e-11, 1.00828472e-05, 1.06442141e-04],\n",
       "          ...,\n",
       "          [1.54484708e-04, 7.18984910e-05, 4.14699914e-08, ...,\n",
       "           1.58219991e-09, 2.54226264e-07, 2.64916412e-06],\n",
       "          [1.47750369e-04, 6.87573851e-05, 4.90193254e-12, ...,\n",
       "           8.62880407e-12, 2.48109579e-07, 2.58621338e-06],\n",
       "          [1.43521455e-04, 6.67882443e-05, 2.70824804e-13, ...,\n",
       "           4.42811174e-14, 2.43916979e-07, 2.54212398e-06]],\n",
       "  \n",
       "         [[4.55543301e-04, 2.51265742e-06, 3.74917689e-15, ...,\n",
       "           1.07731695e-11, 2.63629131e-04, 1.84378904e-03],\n",
       "          [4.57720031e-04, 2.52440017e-06, 8.09933972e-14, ...,\n",
       "           1.34843580e-11, 2.69018541e-04, 1.88142961e-03],\n",
       "          [4.61220038e-04, 2.54317506e-06, 3.51347962e-12, ...,\n",
       "           5.04255332e-11, 2.78329858e-04, 1.94703837e-03],\n",
       "          ...,\n",
       "          [7.38566487e-05, 4.20170296e-07, 2.71756052e-09, ...,\n",
       "           1.34319028e-08, 3.36025734e-08, 1.87137073e-07],\n",
       "          [6.99262141e-05, 3.90192578e-07, 1.51896078e-11, ...,\n",
       "           2.01339414e-10, 2.94162072e-08, 1.98637239e-07],\n",
       "          [6.78123929e-05, 3.78405969e-07, 3.52410644e-15, ...,\n",
       "           6.11029994e-14, 2.87063791e-08, 1.99999124e-07]],\n",
       "  \n",
       "         ...,\n",
       "  \n",
       "         [[3.16719877e-05, 4.18284470e-06, 6.43660776e-15, ...,\n",
       "           8.04039708e-13, 2.15315941e-03, 2.16254106e-02],\n",
       "          [3.22357957e-05, 4.25725772e-06, 8.96772964e-15, ...,\n",
       "           7.64839907e-12, 2.20541154e-03, 2.21490080e-02],\n",
       "          [3.32204779e-05, 4.38729189e-06, 1.46234737e-14, ...,\n",
       "           1.13325035e-09, 2.29743838e-03, 2.30691697e-02],\n",
       "          ...,\n",
       "          [5.25163910e-06, 7.16321562e-07, 2.19128830e-08, ...,\n",
       "           2.14545834e-06, 2.86207805e-06, 8.63531731e-06],\n",
       "          [2.98257593e-06, 3.94065695e-07, 6.78031371e-11, ...,\n",
       "           7.35699679e-09, 4.87838672e-07, 4.83437653e-06],\n",
       "          [2.12320979e-06, 2.80494599e-07, 3.93791536e-14, ...,\n",
       "           1.01012398e-11, 4.18172393e-07, 4.18383002e-06]],\n",
       "  \n",
       "         [[7.72683498e-04, 2.90188498e-05, 1.21055299e-13, ...,\n",
       "           4.91451430e-12, 5.53259735e-06, 3.32755036e-05],\n",
       "          [7.78764051e-04, 2.92455646e-05, 1.40889727e-13, ...,\n",
       "           6.36688349e-12, 6.78851835e-06, 4.16199996e-05],\n",
       "          [7.89369056e-04, 2.96411564e-05, 1.82558235e-13, ...,\n",
       "           9.23554749e-12, 8.97556779e-06, 5.61530806e-05],\n",
       "          ...,\n",
       "          [1.78372988e-04, 6.77385005e-06, 9.79296369e-08, ...,\n",
       "           2.51244715e-06, 5.60795380e-06, 1.85564957e-05],\n",
       "          [1.54209193e-04, 5.78602686e-06, 1.77489297e-10, ...,\n",
       "           1.66792476e-08, 2.09425941e-06, 1.38898478e-05],\n",
       "          [1.41708970e-04, 5.31689707e-06, 1.60120213e-13, ...,\n",
       "           1.12030717e-11, 1.90777858e-06, 1.27551553e-05]],\n",
       "  \n",
       "         [[1.18239839e-04, 9.65759242e-06, 1.23768972e-15, ...,\n",
       "           5.39045681e-13, 2.94454767e-05, 2.13716873e-04],\n",
       "          [1.19354130e-04, 9.74896568e-06, 4.63237625e-15, ...,\n",
       "           3.17097141e-12, 2.97045959e-05, 2.15436007e-04],\n",
       "          [1.21319751e-04, 9.91052756e-06, 1.07460213e-14, ...,\n",
       "           2.94558072e-10, 3.01510608e-05, 2.18287341e-04],\n",
       "          ...,\n",
       "          [1.84346841e-05, 1.54169828e-06, 2.72332565e-08, ...,\n",
       "           8.60541137e-07, 1.30267341e-06, 2.83556576e-06],\n",
       "          [1.82365547e-05, 1.48900227e-06, 1.45247997e-10, ...,\n",
       "           5.11689864e-09, 2.33778674e-07, 1.69006477e-06],\n",
       "          [1.73240142e-05, 1.41458914e-06, 1.02927910e-13, ...,\n",
       "           3.64647424e-12, 2.20263856e-07, 1.62472943e-06]]]),\n",
       "  'mfcc': array([[[-1.00000000e+00, -1.00000000e+00, -1.00000000e+00, ...,\n",
       "           -1.00000000e+00, -1.00000000e+00, -1.00000000e+00],\n",
       "          [ 8.05976192e-02,  1.65216244e-02, -7.91479448e-02, ...,\n",
       "           -6.91825764e-02,  1.37290793e-02,  5.77092522e-02],\n",
       "          [-4.23311518e-01, -7.31073428e-01, -7.87156824e-01, ...,\n",
       "           -7.59652046e-01, -4.51705154e-01, -3.18959654e-01],\n",
       "          ...,\n",
       "          [-1.44578811e-02, -4.62346896e-02, -4.22424941e-02, ...,\n",
       "           -1.51759736e-02, -6.41552680e-03,  2.01175686e-03],\n",
       "          [ 3.16911199e-02,  3.58021512e-02,  2.30268818e-02, ...,\n",
       "            3.89170159e-02,  2.17698209e-02,  2.13559449e-02],\n",
       "          [-5.20769457e-04,  1.25406318e-02,  1.77409984e-02, ...,\n",
       "           -2.63310812e-02, -1.10730306e-02,  5.23682860e-03]],\n",
       "  \n",
       "         [[-1.00000000e+00, -1.00000000e+00, -1.00000000e+00, ...,\n",
       "           -1.00000000e+00, -1.00000000e+00, -1.00000000e+00],\n",
       "          [ 2.60290819e-02,  2.69100289e-02, -2.48385921e-02, ...,\n",
       "           -6.51855243e-02,  8.12509125e-02,  1.33927187e-01],\n",
       "          [-3.68375618e-01, -4.29691759e-01, -5.15953308e-01, ...,\n",
       "           -6.55322975e-01, -7.27535359e-01, -5.52651037e-01],\n",
       "          ...,\n",
       "          [-2.70068961e-02, -4.88552103e-03, -6.22849737e-03, ...,\n",
       "           -2.44630243e-02, -3.52785317e-03,  7.83893517e-03],\n",
       "          [ 1.62919223e-02,  2.01034311e-02,  1.90959147e-02, ...,\n",
       "            2.98004807e-02,  5.72141597e-02,  4.10230435e-02],\n",
       "          [ 3.49203947e-02,  2.76561755e-02, -8.44578175e-03, ...,\n",
       "           -1.86952370e-02,  3.71476037e-03,  1.37909249e-03]],\n",
       "  \n",
       "         [[-1.00000000e+00, -1.00000000e+00, -1.00000000e+00, ...,\n",
       "           -1.00000000e+00, -1.00000000e+00, -1.00000000e+00],\n",
       "          [ 4.91130444e-02,  3.86468585e-03, -7.49726630e-02, ...,\n",
       "           -2.02843292e-02,  9.86270156e-02,  1.57392080e-01],\n",
       "          [-3.25604847e-01, -6.93143661e-01, -8.37548319e-01, ...,\n",
       "           -4.94116807e-01, -4.12895305e-01, -3.59223702e-01],\n",
       "          ...,\n",
       "          [ 8.89743886e-03, -1.34047819e-02, -7.18242114e-03, ...,\n",
       "            3.25889063e-03, -5.49432601e-03, -1.68520772e-03],\n",
       "          [ 2.50097395e-02,  3.51845224e-02,  3.25046178e-02, ...,\n",
       "            4.17224645e-02,  2.63529008e-02,  1.83242440e-02],\n",
       "          [-4.09717271e-03, -1.62574413e-02, -2.39993400e-02, ...,\n",
       "           -3.17388277e-02, -8.94995402e-03,  5.36006655e-03]],\n",
       "  \n",
       "         ...,\n",
       "  \n",
       "         [[-1.00000000e+00, -1.00000000e+00, -1.00000000e+00, ...,\n",
       "           -1.00000000e+00, -1.00000000e+00, -1.00000000e+00],\n",
       "          [-5.13047641e-02, -1.19228241e-01, -2.80340547e-01, ...,\n",
       "           -5.61764416e-02,  1.08357421e-01,  1.87824800e-01],\n",
       "          [-1.26154308e-01, -2.01252302e-01, -2.90669646e-01, ...,\n",
       "           -4.49872469e-01, -3.64994084e-01, -2.83776802e-01],\n",
       "          ...,\n",
       "          [-6.10020156e-02, -8.06716248e-02, -6.70758040e-02, ...,\n",
       "           -1.32995206e-02, -9.94226280e-03, -1.26457273e-02],\n",
       "          [ 4.56136384e-02,  5.25300867e-02,  3.33680212e-02, ...,\n",
       "            7.76801723e-03,  1.78569913e-02,  9.93442953e-03],\n",
       "          [-2.64002814e-02, -3.21728995e-02, -3.70423458e-02, ...,\n",
       "           -2.41883126e-02, -2.55221692e-02, -2.30603018e-02]],\n",
       "  \n",
       "         [[-1.00000000e+00, -1.00000000e+00, -1.00000000e+00, ...,\n",
       "           -1.00000000e+00, -1.00000000e+00, -1.00000000e+00],\n",
       "          [-5.74711222e-02, -1.26670547e-01, -2.35262343e-01, ...,\n",
       "           -1.22195939e-01, -8.67521230e-02, -3.79083824e-02],\n",
       "          [-6.94564429e-02, -1.36236893e-01, -2.30177013e-01, ...,\n",
       "           -2.71406982e-01, -2.70499902e-01, -2.22388562e-01],\n",
       "          ...,\n",
       "          [-4.79990943e-02, -7.59018022e-02, -7.34869727e-02, ...,\n",
       "           -2.25520168e-02, -1.98166913e-02, -8.02514930e-03],\n",
       "          [-6.83947580e-03, -1.57718148e-03,  1.36142099e-02, ...,\n",
       "           -2.36192538e-02, -8.96105977e-03, -3.83398806e-03],\n",
       "          [ 1.22862027e-02, -3.87375528e-03, -2.51107377e-02, ...,\n",
       "           -3.19652081e-02, -1.96591225e-02, -1.64332849e-02]],\n",
       "  \n",
       "         [[-1.00000000e+00, -1.00000000e+00, -1.00000000e+00, ...,\n",
       "           -1.00000000e+00, -1.00000000e+00, -1.00000000e+00],\n",
       "          [-2.26102138e-03, -8.01771012e-02, -2.84816420e-01, ...,\n",
       "           -5.82750707e-02,  5.62512002e-03,  5.77083953e-02],\n",
       "          [-1.29369379e-01, -2.29996988e-01, -3.75867721e-01, ...,\n",
       "           -5.45285361e-01, -5.15615001e-01, -4.23070685e-01],\n",
       "          ...,\n",
       "          [-7.14124209e-02, -6.85147414e-02, -5.71165429e-02, ...,\n",
       "           -8.18516001e-03, -1.46744777e-02, -1.15350059e-02],\n",
       "          [ 4.96864938e-02,  4.10912904e-02,  1.53086466e-02, ...,\n",
       "            1.42407744e-02,  2.18593194e-02,  1.31700298e-02],\n",
       "          [-4.81405583e-02, -7.17333460e-02, -6.29002059e-02, ...,\n",
       "           -2.52601710e-02, -2.63877388e-02, -2.39351795e-02]]]),\n",
       "  'chroma': array([[[4.06509705e-01, 2.84089190e-01, 2.26621404e-01, ...,\n",
       "           2.82009621e-01, 3.09743463e-01, 1.72762886e-01],\n",
       "          [4.32658081e-01, 2.64174891e-01, 2.44474347e-01, ...,\n",
       "           3.83770735e-01, 3.45727937e-01, 1.40932799e-01],\n",
       "          [1.00000000e+00, 1.00000000e+00, 9.64855963e-01, ...,\n",
       "           1.00000000e+00, 6.21680271e-01, 3.80715233e-01],\n",
       "          ...,\n",
       "          [3.37044642e-01, 2.11615299e-01, 2.11958408e-01, ...,\n",
       "           3.38548858e-01, 4.57281385e-01, 2.26087200e-01],\n",
       "          [1.94685345e-01, 1.32866414e-01, 1.16713108e-01, ...,\n",
       "           1.95481979e-01, 2.68676173e-01, 1.34359500e-01],\n",
       "          [3.18288776e-01, 2.26499278e-01, 1.80509442e-01, ...,\n",
       "           1.76376695e-01, 2.19471566e-01, 9.45705151e-02]],\n",
       "  \n",
       "         [[2.53718952e-01, 3.48794710e-01, 2.90980943e-01, ...,\n",
       "           3.04654147e-01, 2.42582641e-01, 2.01908239e-01],\n",
       "          [2.79048288e-01, 3.65825787e-01, 3.87829487e-01, ...,\n",
       "           3.55339593e-01, 2.44053016e-01, 1.85640885e-01],\n",
       "          [5.32030762e-01, 9.86547005e-01, 1.00000000e+00, ...,\n",
       "           4.97810877e-01, 3.80001048e-01, 3.15251937e-01],\n",
       "          ...,\n",
       "          [3.40039018e-01, 3.85886494e-01, 4.21004046e-01, ...,\n",
       "           1.00000000e+00, 1.00000000e+00, 1.00000000e+00],\n",
       "          [2.59473241e-01, 2.74460592e-01, 4.02019582e-01, ...,\n",
       "           3.18817167e-01, 2.90842800e-01, 2.59163327e-01],\n",
       "          [2.69917821e-01, 3.10501050e-01, 3.46920342e-01, ...,\n",
       "           2.30307156e-01, 1.74096879e-01, 1.40626154e-01]],\n",
       "  \n",
       "         [[2.91109375e-01, 3.03765632e-01, 2.73274663e-01, ...,\n",
       "           1.37664047e-01, 4.47444214e-01, 5.55059898e-01],\n",
       "          [5.00754885e-01, 4.20773244e-01, 3.52631848e-01, ...,\n",
       "           1.51496774e-01, 5.26314640e-01, 7.34931932e-01],\n",
       "          [8.01951235e-01, 1.00000000e+00, 1.00000000e+00, ...,\n",
       "           2.09640767e-01, 4.35293679e-01, 5.64296501e-01],\n",
       "          ...,\n",
       "          [3.31242384e-01, 2.89085849e-01, 3.04803634e-01, ...,\n",
       "           1.00000000e+00, 1.00000000e+00, 7.12031413e-01],\n",
       "          [4.15728266e-01, 2.04398042e-01, 1.89175312e-01, ...,\n",
       "           5.68249707e-01, 8.35985309e-01, 5.83282288e-01],\n",
       "          [4.15318666e-01, 2.30773953e-01, 1.88096448e-01, ...,\n",
       "           2.23192116e-01, 5.05966796e-01, 5.52011216e-01]],\n",
       "  \n",
       "         ...,\n",
       "  \n",
       "         [[3.94672246e-03, 2.84035397e-03, 1.29866885e-03, ...,\n",
       "           7.37383118e-01, 1.00000000e+00, 9.22796102e-01],\n",
       "          [2.78799649e-03, 1.55684998e-03, 6.55951796e-04, ...,\n",
       "           6.25815361e-01, 8.35840551e-01, 8.87994001e-01],\n",
       "          [2.32290146e-03, 1.52607235e-03, 8.12507022e-04, ...,\n",
       "           7.86575064e-01, 9.05361439e-01, 1.00000000e+00],\n",
       "          ...,\n",
       "          [1.00000000e+00, 1.00000000e+00, 1.00000000e+00, ...,\n",
       "           6.15810262e-01, 9.30658416e-01, 9.91189779e-01],\n",
       "          [3.05703364e-01, 4.80328341e-01, 2.86413084e-01, ...,\n",
       "           1.00000000e+00, 8.18547859e-01, 8.83292335e-01],\n",
       "          [1.85415730e-02, 2.19568126e-02, 1.30887691e-02, ...,\n",
       "           8.17338592e-01, 6.49338514e-01, 6.23376402e-01]],\n",
       "  \n",
       "         [[3.83677416e-02, 2.96047459e-02, 2.77250546e-02, ...,\n",
       "           5.62243322e-01, 8.38908200e-01, 5.91575499e-01],\n",
       "          [1.34973033e-02, 4.01434099e-03, 2.82738619e-03, ...,\n",
       "           4.75653300e-01, 7.03555688e-01, 5.46000189e-01],\n",
       "          [1.08481304e-02, 3.17436093e-03, 2.22117174e-03, ...,\n",
       "           7.38260294e-01, 3.96354008e-01, 4.87529795e-01],\n",
       "          ...,\n",
       "          [1.00000000e+00, 7.97149568e-01, 7.05142378e-01, ...,\n",
       "           5.07299062e-01, 6.64664353e-01, 9.91049031e-01],\n",
       "          [7.52359036e-01, 1.00000000e+00, 1.00000000e+00, ...,\n",
       "           1.00000000e+00, 8.68237328e-01, 1.00000000e+00],\n",
       "          [2.74948261e-01, 2.78005254e-01, 2.46225373e-01, ...,\n",
       "           9.23849041e-01, 1.00000000e+00, 6.74136585e-01]],\n",
       "  \n",
       "         [[1.72811453e-02, 1.36944467e-02, 1.04195465e-02, ...,\n",
       "           4.52824347e-01, 5.47429513e-01, 4.80056707e-01],\n",
       "          [2.29574944e-02, 9.67945284e-03, 4.09059548e-03, ...,\n",
       "           5.54579109e-01, 5.88688107e-01, 5.50401142e-01],\n",
       "          [3.37298287e-02, 1.68720121e-02, 4.55796498e-03, ...,\n",
       "           1.00000000e+00, 1.00000000e+00, 8.59091038e-01],\n",
       "          ...,\n",
       "          [1.00000000e+00, 1.00000000e+00, 1.00000000e+00, ...,\n",
       "           5.93212434e-01, 5.43746645e-01, 5.59090087e-01],\n",
       "          [2.91091953e-01, 2.28944945e-01, 1.58117829e-01, ...,\n",
       "           7.99764163e-01, 8.09953456e-01, 1.00000000e+00],\n",
       "          [4.14565303e-02, 4.19666484e-02, 4.17393417e-02, ...,\n",
       "           5.66119869e-01, 6.83476497e-01, 7.70204728e-01]]]),\n",
       "  'label': array([ 9,  9,  9, ..., 17, 17, 17])},\n",
       " 'val': {'melspectrogram': array([[[1.84076130e-03, 2.97242671e-04, 7.40060218e-12, ...,\n",
       "           1.85662820e-11, 6.31719468e-05, 2.54277692e-04],\n",
       "          [1.86156487e-03, 3.00602248e-04, 8.74325076e-12, ...,\n",
       "           2.68396059e-11, 6.40587870e-05, 2.57842099e-04],\n",
       "          [1.89783872e-03, 3.06464239e-04, 1.16626410e-11, ...,\n",
       "           4.79236814e-10, 6.54727048e-05, 2.63597227e-04],\n",
       "          ...,\n",
       "          [1.01341649e-05, 1.66688490e-06, 1.01603101e-07, ...,\n",
       "           1.18084559e-06, 1.42116373e-06, 5.40940055e-07],\n",
       "          [7.21003065e-06, 1.16490205e-06, 5.52198187e-10, ...,\n",
       "           4.23088602e-09, 1.11734333e-08, 3.27497066e-08],\n",
       "          [5.89980776e-06, 9.53125589e-07, 3.61782074e-13, ...,\n",
       "           2.65281006e-12, 9.83638148e-09, 3.97445436e-08]],\n",
       "  \n",
       "         [[1.17787348e-04, 2.67663929e-05, 6.44531408e-14, ...,\n",
       "           2.97884271e-12, 3.29721733e-08, 2.56947650e-07],\n",
       "          [1.17316031e-04, 2.66592053e-05, 1.13432974e-13, ...,\n",
       "           6.66180182e-12, 9.80144191e-08, 8.51514372e-07],\n",
       "          [1.16438458e-04, 2.64591696e-05, 2.51025397e-13, ...,\n",
       "           4.52145265e-10, 2.49118555e-07, 2.22613925e-06],\n",
       "          ...,\n",
       "          [1.52606873e-05, 3.52709541e-06, 7.97731305e-08, ...,\n",
       "           1.66499655e-06, 1.84026336e-06, 1.47796502e-06],\n",
       "          [1.37663103e-05, 3.12402468e-06, 4.20739410e-10, ...,\n",
       "           4.22468517e-09, 3.01527880e-08, 2.09251820e-07],\n",
       "          [1.29544957e-05, 2.93956802e-06, 2.38791792e-13, ...,\n",
       "           8.51076285e-12, 3.52436378e-08, 3.04581248e-07]],\n",
       "  \n",
       "         [[3.69169624e-04, 9.49861005e-05, 1.49662781e-11, ...,\n",
       "           1.51903820e-13, 2.63586367e-04, 1.89078907e-03],\n",
       "          [3.79939231e-04, 9.77594896e-05, 1.79898416e-11, ...,\n",
       "           1.05171834e-11, 2.70781781e-04, 1.94196807e-03],\n",
       "          [3.99002047e-04, 1.02671144e-04, 2.45827728e-11, ...,\n",
       "           3.32549897e-10, 2.83070774e-04, 2.02976075e-03],\n",
       "          ...,\n",
       "          [2.75128979e-06, 7.55848052e-07, 1.44197842e-07, ...,\n",
       "           2.16669820e-06, 1.18669431e-06, 9.86674099e-07],\n",
       "          [2.48386388e-06, 6.40247556e-07, 1.47857169e-09, ...,\n",
       "           1.03332689e-08, 5.77302926e-08, 3.71828651e-07],\n",
       "          [2.31869912e-06, 5.96966232e-07, 6.31038425e-13, ...,\n",
       "           6.13578631e-12, 4.34837845e-08, 3.12676250e-07]],\n",
       "  \n",
       "         ...,\n",
       "  \n",
       "         [[4.64337460e-04, 4.33294799e-05, 2.25075850e-13, ...,\n",
       "           1.91166913e-14, 6.01479130e-06, 2.54849004e-04],\n",
       "          [4.67291801e-04, 4.36224336e-05, 3.67371951e-13, ...,\n",
       "           1.24778077e-12, 6.38434798e-06, 2.71040872e-04],\n",
       "          [4.72650351e-04, 4.41491738e-05, 8.77470737e-12, ...,\n",
       "           1.73494099e-10, 7.02336636e-06, 2.99074464e-04],\n",
       "          ...,\n",
       "          [4.24258574e-05, 4.05664533e-06, 6.05310235e-08, ...,\n",
       "           3.55498714e-08, 6.00091473e-06, 2.62253455e-04],\n",
       "          [2.76656179e-05, 2.56428004e-06, 2.21805830e-10, ...,\n",
       "           2.18817855e-10, 5.41358393e-06, 2.41452182e-04],\n",
       "          [1.93359916e-05, 1.79651360e-06, 3.01392432e-13, ...,\n",
       "           2.02232256e-13, 5.26019323e-06, 2.34449600e-04]],\n",
       "  \n",
       "         [[3.75044855e-04, 7.64634977e-06, 1.58006102e-14, ...,\n",
       "           6.67368568e-14, 2.39278410e-05, 1.83315108e-04],\n",
       "          [3.85298328e-04, 7.85287064e-06, 2.20025135e-13, ...,\n",
       "           9.05813032e-12, 2.56190100e-05, 1.95850667e-04],\n",
       "          [4.03319021e-04, 8.21415971e-06, 8.64684395e-12, ...,\n",
       "           1.35562600e-10, 2.85869522e-05, 2.17900843e-04],\n",
       "          ...,\n",
       "          [5.74641382e-05, 1.29174204e-06, 7.79538689e-08, ...,\n",
       "           6.75089481e-07, 6.00841291e-06, 3.87361089e-05],\n",
       "          [4.50413680e-05, 9.44531953e-07, 2.18882140e-10, ...,\n",
       "           4.94040362e-09, 4.08211585e-06, 2.97581662e-05],\n",
       "          [3.80436284e-05, 7.97041672e-07, 1.16489584e-13, ...,\n",
       "           5.16946062e-12, 3.60696079e-06, 2.63103553e-05]],\n",
       "  \n",
       "         [[3.76151200e-04, 3.73859640e-05, 1.85239759e-12, ...,\n",
       "           2.52427063e-14, 3.00140674e-07, 1.37883475e-05],\n",
       "          [4.00081575e-04, 3.98469585e-05, 4.49338260e-12, ...,\n",
       "           1.10582988e-13, 3.41005713e-07, 1.55157448e-05],\n",
       "          [4.41743341e-04, 4.41457585e-05, 2.66506036e-11, ...,\n",
       "           2.53664313e-11, 4.10392759e-07, 1.84105641e-05],\n",
       "          ...,\n",
       "          [3.71816195e-04, 3.96346968e-05, 7.27970069e-07, ...,\n",
       "           5.68030525e-08, 8.18082631e-07, 1.91565522e-05],\n",
       "          [3.58032660e-04, 3.74120698e-05, 3.07817624e-09, ...,\n",
       "           2.58978338e-10, 4.32498312e-07, 1.79957842e-05],\n",
       "          [3.46922063e-04, 3.62252993e-05, 3.84792380e-12, ...,\n",
       "           2.18644641e-13, 4.20707783e-07, 1.76150392e-05]]]),\n",
       "  'mfcc': array([[[-1.00000000e+00, -1.00000000e+00, -1.00000000e+00, ...,\n",
       "           -1.00000000e+00, -1.00000000e+00, -1.00000000e+00],\n",
       "          [ 2.61779438e-01,  5.65274874e-02, -3.29957127e-01, ...,\n",
       "           -5.22593476e-02,  2.42458545e-02,  7.52145755e-02],\n",
       "          [-6.05828947e-01, -6.83816948e-01, -7.37919014e-01, ...,\n",
       "           -5.19971443e-01, -4.68517432e-01, -3.78896280e-01],\n",
       "          ...,\n",
       "          [ 8.38597347e-02,  9.01772705e-02,  2.28971915e-02, ...,\n",
       "           -3.18624564e-02, -2.45934087e-02, -2.44103373e-02],\n",
       "          [ 7.61018264e-02,  1.05172219e-01,  6.12936570e-02, ...,\n",
       "            1.54573767e-02,  1.12200577e-02, -3.74109477e-03],\n",
       "          [-2.57656314e-01, -2.63538975e-01, -1.14549517e-01, ...,\n",
       "           -2.68267216e-02, -3.12939133e-02, -3.07352268e-02]],\n",
       "  \n",
       "         [[-1.00000000e+00, -1.00000000e+00, -1.00000000e+00, ...,\n",
       "           -1.00000000e+00, -1.00000000e+00, -1.00000000e+00],\n",
       "          [-5.74245275e-02, -1.86788242e-01, -3.06985626e-01, ...,\n",
       "           -3.17268544e-02, -2.56574941e-02, -1.39230994e-02],\n",
       "          [-5.03727902e-01, -6.50660087e-01, -6.95564994e-01, ...,\n",
       "           -4.02629636e-01, -4.12574422e-01, -3.64012816e-01],\n",
       "          ...,\n",
       "          [ 6.37078943e-02,  4.78735193e-02,  9.93554493e-03, ...,\n",
       "           -2.15293980e-02, -1.26830020e-02, -5.92972873e-03],\n",
       "          [ 1.16562987e-01,  1.65626129e-01,  1.18745713e-01, ...,\n",
       "            1.60790985e-02,  1.00075763e-02,  1.22553182e-06],\n",
       "          [-1.90460088e-01, -1.82960447e-01, -8.10073673e-02, ...,\n",
       "           -1.94704977e-02, -1.87991015e-02, -1.91388246e-02]],\n",
       "  \n",
       "         [[-1.00000000e+00, -1.00000000e+00, -1.00000000e+00, ...,\n",
       "           -1.00000000e+00, -1.00000000e+00, -1.00000000e+00],\n",
       "          [ 1.86307877e-01,  9.39787766e-03, -3.09962337e-01, ...,\n",
       "           -3.43043480e-02,  5.91790072e-02,  1.24967459e-01],\n",
       "          [-6.58521836e-01, -8.09546318e-01, -7.48184109e-01, ...,\n",
       "           -4.12415984e-01, -3.55098791e-01, -2.90832392e-01],\n",
       "          ...,\n",
       "          [ 2.00373350e-02,  4.11353714e-02,  1.53098953e-02, ...,\n",
       "           -7.01189265e-03, -2.79316626e-03, -1.15974542e-02],\n",
       "          [ 1.73380272e-01,  1.80210953e-01,  9.42184173e-02, ...,\n",
       "            8.18289757e-03,  1.34638080e-02,  3.59094576e-02],\n",
       "          [-2.16437723e-01, -2.33301592e-01, -9.02919275e-02, ...,\n",
       "           -3.38518808e-02, -2.85230606e-02, -1.12063882e-02]],\n",
       "  \n",
       "         ...,\n",
       "  \n",
       "         [[-1.00000000e+00, -1.00000000e+00, -1.00000000e+00, ...,\n",
       "           -1.00000000e+00, -1.00000000e+00, -1.00000000e+00],\n",
       "          [-3.58561594e-03, -3.83796002e-02, -1.59689560e-01, ...,\n",
       "           -4.46514409e-02, -2.80920763e-02, -3.12205547e-02],\n",
       "          [-3.86935546e-01, -5.43903932e-01, -7.02241654e-01, ...,\n",
       "           -7.24347366e-01, -5.60265725e-01, -2.74852970e-01],\n",
       "          ...,\n",
       "          [ 5.36763649e-03, -1.13237537e-02, -2.04433984e-02, ...,\n",
       "           -1.72881528e-02, -2.11770704e-02, -1.11679756e-02],\n",
       "          [ 1.88261606e-02,  1.81097189e-02,  1.54509356e-02, ...,\n",
       "           -9.76732808e-03, -1.16216564e-02, -6.68977131e-03],\n",
       "          [-9.90889362e-03, -1.34922261e-02, -3.41973471e-02, ...,\n",
       "           -3.30135344e-02, -3.25544498e-02, -1.38859892e-02]],\n",
       "  \n",
       "         [[-1.00000000e+00, -1.00000000e+00, -1.00000000e+00, ...,\n",
       "           -1.00000000e+00, -1.00000000e+00, -1.00000000e+00],\n",
       "          [-6.48288491e-03, -5.19195150e-03, -1.15946159e-01, ...,\n",
       "           -1.03637157e-01, -4.36334616e-02, -3.94339864e-03],\n",
       "          [-3.84605458e-01, -7.31827593e-01, -8.63209042e-01, ...,\n",
       "           -3.94192827e-01, -3.11077504e-01, -2.09064089e-01],\n",
       "          ...,\n",
       "          [-2.71578909e-02, -1.72509573e-02, -9.04134493e-03, ...,\n",
       "           -1.03569087e-02, -1.50861025e-02, -1.56886398e-02],\n",
       "          [ 1.01353501e-02,  1.66944318e-02,  1.25408571e-02, ...,\n",
       "            1.14357175e-02,  6.58673774e-03,  2.45878877e-03],\n",
       "          [-1.74439235e-02, -2.69890785e-02, -3.21737583e-02, ...,\n",
       "           -5.35758440e-03, -7.53084216e-03, -1.14412035e-02]],\n",
       "  \n",
       "         [[-1.00000000e+00, -1.00000000e+00, -1.00000000e+00, ...,\n",
       "           -1.00000000e+00, -1.00000000e+00, -1.00000000e+00],\n",
       "          [-1.13151358e-02, -5.07395434e-02, -1.14106404e-01, ...,\n",
       "           -2.30035030e-02, -5.37580123e-02, -6.62910127e-02],\n",
       "          [-1.77895643e-01, -2.84559430e-01, -4.02259714e-01, ...,\n",
       "           -6.28093339e-01, -4.62303114e-01, -3.14746928e-01],\n",
       "          ...,\n",
       "          [-2.12650739e-02, -1.94306965e-02, -7.52820729e-03, ...,\n",
       "           -1.92081251e-02, -1.31516762e-02, -4.64893500e-03],\n",
       "          [ 1.33500599e-02,  1.23813828e-02,  1.27569466e-02, ...,\n",
       "           -1.30828718e-02,  1.78683352e-03,  2.53016042e-02],\n",
       "          [-4.79920208e-03,  1.51259335e-03, -1.92752386e-02, ...,\n",
       "           -6.53529604e-02, -4.56770518e-02, -1.72171995e-02]]]),\n",
       "  'chroma': array([[[0.03896524, 0.03565143, 0.03814531, ..., 0.77975558,\n",
       "           0.68206062, 0.23240644],\n",
       "          [0.00659619, 0.00529532, 0.02211811, ..., 0.50834411,\n",
       "           0.42889401, 0.20393496],\n",
       "          [0.03396134, 0.07537224, 0.27124467, ..., 1.        ,\n",
       "           0.73357608, 0.19416383],\n",
       "          ...,\n",
       "          [0.04208325, 0.17185329, 0.76280805, ..., 0.53333076,\n",
       "           1.        , 1.        ],\n",
       "          [0.22129042, 0.34895456, 0.92397484, ..., 0.71455889,\n",
       "           0.7061818 , 0.45860865],\n",
       "          [0.37147511, 0.35651646, 0.36718956, ..., 0.63902144,\n",
       "           0.5899253 , 0.28389579]],\n",
       "  \n",
       "         [[0.00516763, 0.0038404 , 0.00981754, ..., 0.91456748,\n",
       "           0.81985196, 0.99444375],\n",
       "          [0.01360595, 0.0372188 , 0.10197056, ..., 0.88698087,\n",
       "           0.81443821, 0.70792069],\n",
       "          [0.18453407, 0.2374791 , 0.3031413 , ..., 0.72219957,\n",
       "           1.        , 0.95997765],\n",
       "          ...,\n",
       "          [0.12030542, 0.44828821, 1.        , ..., 0.62129471,\n",
       "           0.74960304, 0.76251278],\n",
       "          [0.20661966, 0.23595795, 0.30636972, ..., 0.65985725,\n",
       "           0.78174435, 0.99978006],\n",
       "          [0.03423239, 0.0314588 , 0.03706581, ..., 1.        ,\n",
       "           0.64499548, 0.74961468]],\n",
       "  \n",
       "         [[0.01590555, 0.00968722, 0.01485161, ..., 0.35536251,\n",
       "           0.40376678, 0.53158154],\n",
       "          [0.02016032, 0.02679548, 0.03860292, ..., 0.42358301,\n",
       "           0.67327191, 0.84330845],\n",
       "          [0.12211127, 0.23918119, 0.25247647, ..., 0.52670578,\n",
       "           1.        , 1.        ],\n",
       "          ...,\n",
       "          [0.20257699, 0.68926031, 1.        , ..., 0.80818347,\n",
       "           0.57432481, 0.48736704],\n",
       "          [0.27183821, 0.5375132 , 0.56991388, ..., 1.        ,\n",
       "           0.71908422, 0.35449176],\n",
       "          [0.09160153, 0.11410565, 0.12918909, ..., 0.75595693,\n",
       "           0.46122067, 0.32465753]],\n",
       "  \n",
       "         ...,\n",
       "  \n",
       "         [[1.        , 1.        , 0.61450832, ..., 0.67982249,\n",
       "           0.71706475, 1.        ],\n",
       "          [0.71785107, 0.59088624, 0.2664589 , ..., 1.        ,\n",
       "           1.        , 0.71149782],\n",
       "          [0.63648541, 0.47001435, 0.405755  , ..., 0.47134555,\n",
       "           0.48145175, 0.46689599],\n",
       "          ...,\n",
       "          [0.39798613, 0.27017506, 0.24028   , ..., 0.09999113,\n",
       "           0.17282876, 0.46035338],\n",
       "          [0.63537624, 0.46776936, 0.37576529, ..., 0.33794016,\n",
       "           0.42375794, 0.44592618],\n",
       "          [0.75957862, 0.75594884, 0.68013663, ..., 0.61717358,\n",
       "           0.83111198, 0.90994396]],\n",
       "  \n",
       "         [[0.80883755, 0.87614423, 0.72838395, ..., 1.        ,\n",
       "           0.4108665 , 0.18423559],\n",
       "          [0.56028796, 0.62413509, 0.6147079 , ..., 0.73656634,\n",
       "           0.50535241, 0.38762376],\n",
       "          [0.7202801 , 1.        , 1.        , ..., 0.62768424,\n",
       "           0.33684162, 0.33613988],\n",
       "          ...,\n",
       "          [0.82832664, 0.607783  , 0.3563782 , ..., 0.38943235,\n",
       "           0.60290855, 0.63218044],\n",
       "          [0.72396259, 0.51768772, 0.49104494, ..., 0.73403977,\n",
       "           1.        , 1.        ],\n",
       "          [0.88402167, 0.82066911, 0.9002131 , ..., 0.70433058,\n",
       "           0.61810009, 0.48075064]],\n",
       "  \n",
       "         [[0.45630126, 0.48873625, 0.54899346, ..., 0.18204335,\n",
       "           0.40682413, 0.71427922],\n",
       "          [0.48298781, 0.45702756, 0.51878753, ..., 0.40863892,\n",
       "           0.61708315, 0.95903964],\n",
       "          [0.42816821, 0.41703257, 0.44567392, ..., 0.77239517,\n",
       "           1.        , 1.        ],\n",
       "          ...,\n",
       "          [0.39790318, 0.33245681, 0.30230273, ..., 0.53635846,\n",
       "           0.60105841, 0.63998024],\n",
       "          [1.        , 1.        , 0.63195157, ..., 1.        ,\n",
       "           0.66576926, 0.95755456],\n",
       "          [0.35923011, 0.70665163, 1.        , ..., 0.49642824,\n",
       "           0.39854309, 0.51793986]]]),\n",
       "  'label': array([14, 14, 14, ...,  4,  4,  4])}}"
      ]
     },
     "metadata": {},
     "output_type": "display_data"
    }
   ],
   "source": [
    "merged_dict = {'train': train_features, 'val': val_features}\n",
    "merged_dict"
   ]
  },
  {
   "cell_type": "markdown",
   "metadata": {},
   "source": [
    "### Save the merged dictionary to a pkl"
   ]
  },
  {
   "cell_type": "code",
   "execution_count": null,
   "metadata": {},
   "outputs": [],
   "source": [
    "with open('C:/Users/thato/Documents/Final-Year-Project/Dataset/Project-V4/feature-extraction/Annotated/NotAveragePooled/split_features_1s_mel_mfcc_chroma.pkl', 'wb') as file:\n",
    "  pickle.dump(merged_dict, file)"
   ]
  },
  {
   "cell_type": "markdown",
   "metadata": {},
   "source": [
    "### **['melspectrogram', 'mfcc', 'chroma', 'rms']**"
   ]
  },
  {
   "cell_type": "code",
   "execution_count": null,
   "metadata": {},
   "outputs": [],
   "source": [
    "features_list = ['melspectrogram', 'mfcc', 'chroma', 'rms']"
   ]
  },
  {
   "cell_type": "code",
   "execution_count": null,
   "metadata": {},
   "outputs": [
    {
     "name": "stdout",
     "output_type": "stream",
     "text": [
      "Train DataFrame shape: (3444, 9)\n",
      "Validation DataFrame shape: (834, 9)\n",
      "Number of rows in dataframe: 3444\n"
     ]
    },
    {
     "name": "stderr",
     "output_type": "stream",
     "text": [
      "Processing data:  35%|███▍      | 1200/3444 [01:00<01:03, 35.27it/s]c:\\Users\\thato\\AppData\\Local\\Programs\\Python\\Python312\\Lib\\site-packages\\librosa\\core\\pitch.py:101: UserWarning: Trying to estimate tuning from empty frequency set.\n",
      "  return pitch_tuning(\n",
      "Processing data: 100%|██████████| 3444/3444 [02:47<00:00, 20.60it/s]\n"
     ]
    },
    {
     "name": "stdout",
     "output_type": "stream",
     "text": [
      "Number of rows in dataframe: 834\n"
     ]
    },
    {
     "name": "stderr",
     "output_type": "stream",
     "text": [
      "Processing data: 100%|██████████| 834/834 [00:41<00:00, 20.01it/s]\n"
     ]
    }
   ],
   "source": [
    "features = Extraction(train_data,\n",
    "                      val_data,\n",
    "                      window_size=1,\n",
    "                      features=features_list,\n",
    "                      avgpool=False\n",
    "                      )"
   ]
  },
  {
   "cell_type": "code",
   "execution_count": null,
   "metadata": {},
   "outputs": [
    {
     "data": {
      "text/plain": [
       "(12565,)"
      ]
     },
     "metadata": {},
     "output_type": "display_data"
    },
    {
     "data": {
      "text/plain": [
       "'melspectrogram'"
      ]
     },
     "metadata": {},
     "output_type": "display_data"
    },
    {
     "data": {
      "text/plain": [
       "(12565, 60, 44)"
      ]
     },
     "metadata": {},
     "output_type": "display_data"
    },
    {
     "data": {
      "text/plain": [
       "'mfcc'"
      ]
     },
     "metadata": {},
     "output_type": "display_data"
    },
    {
     "data": {
      "text/plain": [
       "(12565, 20, 44)"
      ]
     },
     "metadata": {},
     "output_type": "display_data"
    },
    {
     "data": {
      "text/plain": [
       "'chroma'"
      ]
     },
     "metadata": {},
     "output_type": "display_data"
    },
    {
     "data": {
      "text/plain": [
       "(12565, 12, 44)"
      ]
     },
     "metadata": {},
     "output_type": "display_data"
    },
    {
     "data": {
      "text/plain": [
       "'rms'"
      ]
     },
     "metadata": {},
     "output_type": "display_data"
    },
    {
     "data": {
      "text/plain": [
       "(12565, 1, 44)"
      ]
     },
     "metadata": {},
     "output_type": "display_data"
    }
   ],
   "source": [
    "train_y = features.train_y\n",
    "display(train_y.shape)\n",
    "\n",
    "train_features = features.train_features\n",
    "for key in train_features.keys():\n",
    "  display(key)\n",
    "  display(train_features[key].shape)"
   ]
  },
  {
   "cell_type": "code",
   "execution_count": null,
   "metadata": {},
   "outputs": [
    {
     "data": {
      "text/plain": [
       "(3318,)"
      ]
     },
     "metadata": {},
     "output_type": "display_data"
    },
    {
     "data": {
      "text/plain": [
       "'melspectrogram'"
      ]
     },
     "metadata": {},
     "output_type": "display_data"
    },
    {
     "data": {
      "text/plain": [
       "(3318, 60, 44)"
      ]
     },
     "metadata": {},
     "output_type": "display_data"
    },
    {
     "data": {
      "text/plain": [
       "'mfcc'"
      ]
     },
     "metadata": {},
     "output_type": "display_data"
    },
    {
     "data": {
      "text/plain": [
       "(3318, 20, 44)"
      ]
     },
     "metadata": {},
     "output_type": "display_data"
    },
    {
     "data": {
      "text/plain": [
       "'chroma'"
      ]
     },
     "metadata": {},
     "output_type": "display_data"
    },
    {
     "data": {
      "text/plain": [
       "(3318, 12, 44)"
      ]
     },
     "metadata": {},
     "output_type": "display_data"
    },
    {
     "data": {
      "text/plain": [
       "'rms'"
      ]
     },
     "metadata": {},
     "output_type": "display_data"
    },
    {
     "data": {
      "text/plain": [
       "(3318, 1, 44)"
      ]
     },
     "metadata": {},
     "output_type": "display_data"
    }
   ],
   "source": [
    "val_y = features.val_y\n",
    "display(val_y.shape)\n",
    "\n",
    "val_features = features.val_features\n",
    "for key in val_features.keys():\n",
    "  display(key)\n",
    "  display(val_features[key].shape)"
   ]
  },
  {
   "cell_type": "markdown",
   "metadata": {},
   "source": [
    "### Encode Classes"
   ]
  },
  {
   "cell_type": "code",
   "execution_count": null,
   "metadata": {},
   "outputs": [
    {
     "name": "stdout",
     "output_type": "stream",
     "text": [
      "Encoded classes for [0, 1, 2]: ['Acrocephalus arundinaceus', 'Acrocephalus melanopogon', 'Acrocephalus scirpaceus']\n",
      "Encoded training labels: [ 9  9  9 ... 17 17 17]\n",
      "Encoded validation labels: [14 14 14 ...  4  4  4]\n"
     ]
    }
   ],
   "source": [
    "label_encoder = LabelEncoder().fit(train_y)\n",
    "train_y_encoded = label_encoder.transform(train_y)\n",
    "val_y_encoded = label_encoder.transform(val_y)\n",
    "\n",
    "classes = list(label_encoder.inverse_transform([0, 1, 2]))\n",
    "print(\"Encoded classes for [0, 1, 2]:\", classes)\n",
    "print(\"Encoded training labels:\", train_y_encoded)\n",
    "print(\"Encoded validation labels:\", val_y_encoded)"
   ]
  },
  {
   "cell_type": "code",
   "execution_count": null,
   "metadata": {},
   "outputs": [
    {
     "data": {
      "text/plain": [
       "12565"
      ]
     },
     "metadata": {},
     "output_type": "display_data"
    },
    {
     "data": {
      "text/plain": [
       "array([9, 9, 9, 9, 9, 9, 9, 9, 9, 9])"
      ]
     },
     "metadata": {},
     "output_type": "display_data"
    },
    {
     "data": {
      "text/plain": [
       "3318"
      ]
     },
     "metadata": {},
     "output_type": "display_data"
    },
    {
     "data": {
      "text/plain": [
       "array([14, 14, 14, 14, 14, 14, 10, 10, 10, 10])"
      ]
     },
     "metadata": {},
     "output_type": "display_data"
    }
   ],
   "source": [
    "display(len(train_y_encoded))\n",
    "display(train_y_encoded[:10])\n",
    "\n",
    "display(len(val_y_encoded))\n",
    "display(val_y_encoded[:10])"
   ]
  },
  {
   "cell_type": "code",
   "execution_count": null,
   "metadata": {},
   "outputs": [],
   "source": [
    "train_features['label'] = train_y_encoded\n",
    "val_features['label'] = val_y_encoded"
   ]
  },
  {
   "cell_type": "code",
   "execution_count": null,
   "metadata": {},
   "outputs": [
    {
     "data": {
      "text/plain": [
       "{'train': {'melspectrogram': array([[[1.49619878e-04, 9.91906688e-07, 2.48130880e-14, ...,\n",
       "           7.57408160e-14, 2.46620584e-05, 2.42136864e-04],\n",
       "          [1.51059693e-04, 1.00149214e-06, 4.29179038e-14, ...,\n",
       "           1.54229494e-13, 2.47809445e-05, 2.43302732e-04],\n",
       "          [1.53461197e-04, 1.01720986e-06, 7.69849280e-12, ...,\n",
       "           5.91120706e-12, 2.49865924e-05, 2.45357940e-04],\n",
       "          ...,\n",
       "          [8.10535547e-08, 1.13486703e-09, 1.55103726e-10, ...,\n",
       "           9.95547819e-11, 3.92484929e-06, 3.89781243e-05],\n",
       "          [6.54161468e-08, 4.35279562e-10, 1.70086070e-13, ...,\n",
       "           3.73563449e-12, 3.73668669e-06, 3.71356338e-05],\n",
       "          [5.58002542e-08, 3.70017484e-10, 1.19116812e-15, ...,\n",
       "           8.60750760e-15, 3.62438557e-06, 3.60217485e-05]],\n",
       "  \n",
       "         [[2.90496083e-04, 1.33911613e-04, 1.18182281e-11, ...,\n",
       "           2.01018052e-13, 9.45688580e-06, 9.98487150e-05],\n",
       "          [2.97352272e-04, 1.36961177e-04, 1.73004844e-11, ...,\n",
       "           3.01842594e-13, 9.68366781e-06, 1.02240476e-04],\n",
       "          [3.09603415e-04, 1.42404336e-04, 1.77799954e-10, ...,\n",
       "           1.37675250e-11, 1.00828472e-05, 1.06442141e-04],\n",
       "          ...,\n",
       "          [1.54484708e-04, 7.18984910e-05, 4.14699914e-08, ...,\n",
       "           1.58219991e-09, 2.54226264e-07, 2.64916412e-06],\n",
       "          [1.47750369e-04, 6.87573851e-05, 4.90193254e-12, ...,\n",
       "           8.62880407e-12, 2.48109579e-07, 2.58621338e-06],\n",
       "          [1.43521455e-04, 6.67882443e-05, 2.70824804e-13, ...,\n",
       "           4.42811174e-14, 2.43916979e-07, 2.54212398e-06]],\n",
       "  \n",
       "         [[4.55543301e-04, 2.51265742e-06, 3.74917689e-15, ...,\n",
       "           1.07731695e-11, 2.63629131e-04, 1.84378904e-03],\n",
       "          [4.57720031e-04, 2.52440017e-06, 8.09933972e-14, ...,\n",
       "           1.34843580e-11, 2.69018541e-04, 1.88142961e-03],\n",
       "          [4.61220038e-04, 2.54317506e-06, 3.51347962e-12, ...,\n",
       "           5.04255332e-11, 2.78329858e-04, 1.94703837e-03],\n",
       "          ...,\n",
       "          [7.38566487e-05, 4.20170296e-07, 2.71756052e-09, ...,\n",
       "           1.34319028e-08, 3.36025734e-08, 1.87137073e-07],\n",
       "          [6.99262141e-05, 3.90192578e-07, 1.51896078e-11, ...,\n",
       "           2.01339414e-10, 2.94162072e-08, 1.98637239e-07],\n",
       "          [6.78123929e-05, 3.78405969e-07, 3.52410644e-15, ...,\n",
       "           6.11029994e-14, 2.87063791e-08, 1.99999124e-07]],\n",
       "  \n",
       "         ...,\n",
       "  \n",
       "         [[3.16719877e-05, 4.18284470e-06, 6.43660776e-15, ...,\n",
       "           8.17170946e-12, 2.36359336e-04, 1.48546885e-03],\n",
       "          [3.22357957e-05, 4.25725772e-06, 8.96772964e-15, ...,\n",
       "           1.73021311e-11, 2.45144670e-04, 1.54108585e-03],\n",
       "          [3.32204779e-05, 4.38729189e-06, 1.46234737e-14, ...,\n",
       "           2.84671180e-10, 2.60918723e-04, 1.64123874e-03],\n",
       "          ...,\n",
       "          [5.25163910e-06, 7.16321562e-07, 2.19128830e-08, ...,\n",
       "           7.49747521e-07, 1.44313777e-06, 1.84513474e-06],\n",
       "          [2.98257593e-06, 3.94065695e-07, 6.78031371e-11, ...,\n",
       "           7.42700600e-09, 2.79568950e-08, 1.13757124e-07],\n",
       "          [2.12320979e-06, 2.80494599e-07, 3.93791536e-14, ...,\n",
       "           5.25724151e-12, 1.97815292e-09, 1.29897067e-08]],\n",
       "  \n",
       "         [[7.72683498e-04, 2.90188498e-05, 1.21055299e-13, ...,\n",
       "           4.91451430e-12, 5.53259735e-06, 3.32755036e-05],\n",
       "          [7.78764051e-04, 2.92455646e-05, 1.40889727e-13, ...,\n",
       "           6.36688349e-12, 6.78851835e-06, 4.16199996e-05],\n",
       "          [7.89369056e-04, 2.96411564e-05, 1.82558235e-13, ...,\n",
       "           9.23554749e-12, 8.97556779e-06, 5.61530806e-05],\n",
       "          ...,\n",
       "          [1.78372988e-04, 6.77385005e-06, 9.79296369e-08, ...,\n",
       "           2.51244715e-06, 5.60795380e-06, 1.85564957e-05],\n",
       "          [1.54209193e-04, 5.78602686e-06, 1.77489297e-10, ...,\n",
       "           1.66792476e-08, 2.09425941e-06, 1.38898478e-05],\n",
       "          [1.41708970e-04, 5.31689707e-06, 1.60120213e-13, ...,\n",
       "           1.12030717e-11, 1.90777858e-06, 1.27551553e-05]],\n",
       "  \n",
       "         [[1.18239839e-04, 9.65759242e-06, 1.23768973e-15, ...,\n",
       "           9.81880465e-13, 8.82456997e-05, 1.04705044e-03],\n",
       "          [1.19354130e-04, 9.74896568e-06, 4.63237624e-15, ...,\n",
       "           3.95172339e-12, 8.83707848e-05, 1.04887742e-03],\n",
       "          [1.21319751e-04, 9.91052756e-06, 1.07460214e-14, ...,\n",
       "           1.97619549e-10, 8.83762492e-05, 1.04987469e-03],\n",
       "          ...,\n",
       "          [1.84346841e-05, 1.54169828e-06, 2.72332565e-08, ...,\n",
       "           1.12777055e-06, 1.87011554e-06, 5.53428825e-06],\n",
       "          [1.82365547e-05, 1.48900227e-06, 1.45247997e-10, ...,\n",
       "           5.78966003e-09, 3.29825225e-07, 3.80229953e-06],\n",
       "          [1.73240142e-05, 1.41458914e-06, 1.02927910e-13, ...,\n",
       "           4.29414551e-12, 2.77533022e-07, 3.27391616e-06]]]),\n",
       "  'mfcc': array([[[-1.00000000e+00, -1.00000000e+00, -1.00000000e+00, ...,\n",
       "           -1.00000000e+00, -1.00000000e+00, -1.00000000e+00],\n",
       "          [ 8.05976192e-02,  1.65216244e-02, -7.91479448e-02, ...,\n",
       "           -6.91825764e-02,  1.37290793e-02,  5.77092522e-02],\n",
       "          [-4.23311518e-01, -7.31073428e-01, -7.87156824e-01, ...,\n",
       "           -7.59652046e-01, -4.51705154e-01, -3.18959654e-01],\n",
       "          ...,\n",
       "          [-1.44578811e-02, -4.62346896e-02, -4.22424941e-02, ...,\n",
       "           -1.51759736e-02, -6.41552680e-03,  2.01175686e-03],\n",
       "          [ 3.16911199e-02,  3.58021512e-02,  2.30268818e-02, ...,\n",
       "            3.89170159e-02,  2.17698209e-02,  2.13559449e-02],\n",
       "          [-5.20769457e-04,  1.25406318e-02,  1.77409984e-02, ...,\n",
       "           -2.63310812e-02, -1.10730306e-02,  5.23682860e-03]],\n",
       "  \n",
       "         [[-1.00000000e+00, -1.00000000e+00, -1.00000000e+00, ...,\n",
       "           -1.00000000e+00, -1.00000000e+00, -1.00000000e+00],\n",
       "          [ 2.60290819e-02,  2.69100289e-02, -2.48385921e-02, ...,\n",
       "           -6.51855243e-02,  8.12509125e-02,  1.33927187e-01],\n",
       "          [-3.68375618e-01, -4.29691759e-01, -5.15953308e-01, ...,\n",
       "           -6.55322975e-01, -7.27535359e-01, -5.52651037e-01],\n",
       "          ...,\n",
       "          [-2.70068961e-02, -4.88552103e-03, -6.22849737e-03, ...,\n",
       "           -2.44630243e-02, -3.52785317e-03,  7.83893517e-03],\n",
       "          [ 1.62919223e-02,  2.01034311e-02,  1.90959147e-02, ...,\n",
       "            2.98004807e-02,  5.72141597e-02,  4.10230435e-02],\n",
       "          [ 3.49203947e-02,  2.76561755e-02, -8.44578175e-03, ...,\n",
       "           -1.86952370e-02,  3.71476037e-03,  1.37909249e-03]],\n",
       "  \n",
       "         [[-1.00000000e+00, -1.00000000e+00, -1.00000000e+00, ...,\n",
       "           -1.00000000e+00, -1.00000000e+00, -1.00000000e+00],\n",
       "          [ 4.91130444e-02,  3.86468585e-03, -7.49726630e-02, ...,\n",
       "           -2.02843292e-02,  9.86270156e-02,  1.57392080e-01],\n",
       "          [-3.25604847e-01, -6.93143661e-01, -8.37548319e-01, ...,\n",
       "           -4.94116807e-01, -4.12895305e-01, -3.59223702e-01],\n",
       "          ...,\n",
       "          [ 8.89743886e-03, -1.34047819e-02, -7.18242114e-03, ...,\n",
       "            3.25889063e-03, -5.49432601e-03, -1.68520772e-03],\n",
       "          [ 2.50097395e-02,  3.51845224e-02,  3.25046178e-02, ...,\n",
       "            4.17224645e-02,  2.63529008e-02,  1.83242440e-02],\n",
       "          [-4.09717271e-03, -1.62574413e-02, -2.39993400e-02, ...,\n",
       "           -3.17388277e-02, -8.94995402e-03,  5.36006655e-03]],\n",
       "  \n",
       "         ...,\n",
       "  \n",
       "         [[-1.00000000e+00, -1.00000000e+00, -1.00000000e+00, ...,\n",
       "           -1.00000000e+00, -1.00000000e+00, -1.00000000e+00],\n",
       "          [-5.13047641e-02, -1.19228241e-01, -2.80340547e-01, ...,\n",
       "           -4.04835162e-02,  7.48587716e-02,  1.38528463e-01],\n",
       "          [-1.26154308e-01, -2.01252302e-01, -2.90669646e-01, ...,\n",
       "           -5.07366788e-01, -4.29738273e-01, -3.25259674e-01],\n",
       "          ...,\n",
       "          [-6.10020156e-02, -8.06716248e-02, -6.70758040e-02, ...,\n",
       "           -2.39721457e-02, -2.35891997e-02, -2.88977139e-02],\n",
       "          [ 4.56136384e-02,  5.25300867e-02,  3.33680212e-02, ...,\n",
       "            1.89907371e-02,  2.03886477e-02,  1.55618088e-02],\n",
       "          [-2.64002814e-02, -3.21728995e-02, -3.70423458e-02, ...,\n",
       "           -2.30729745e-02, -1.16600079e-02, -6.24916889e-03]],\n",
       "  \n",
       "         [[-1.00000000e+00, -1.00000000e+00, -1.00000000e+00, ...,\n",
       "           -1.00000000e+00, -1.00000000e+00, -1.00000000e+00],\n",
       "          [-5.74711222e-02, -1.26670547e-01, -2.35262343e-01, ...,\n",
       "           -1.22195939e-01, -8.67521230e-02, -3.79083824e-02],\n",
       "          [-6.94564429e-02, -1.36236893e-01, -2.30177013e-01, ...,\n",
       "           -2.71406982e-01, -2.70499902e-01, -2.22388562e-01],\n",
       "          ...,\n",
       "          [-4.79990943e-02, -7.59018022e-02, -7.34869727e-02, ...,\n",
       "           -2.25520168e-02, -1.98166913e-02, -8.02514930e-03],\n",
       "          [-6.83947580e-03, -1.57718148e-03,  1.36142099e-02, ...,\n",
       "           -2.36192538e-02, -8.96105977e-03, -3.83398806e-03],\n",
       "          [ 1.22862027e-02, -3.87375528e-03, -2.51107377e-02, ...,\n",
       "           -3.19652081e-02, -1.96591225e-02, -1.64332849e-02]],\n",
       "  \n",
       "         [[-1.00000000e+00, -1.00000000e+00, -1.00000000e+00, ...,\n",
       "           -1.00000000e+00, -1.00000000e+00, -1.00000000e+00],\n",
       "          [-2.26102138e-03, -8.01771012e-02, -2.84816420e-01, ...,\n",
       "           -5.98506722e-02,  3.46957205e-02,  7.78145164e-02],\n",
       "          [-1.29369379e-01, -2.29996988e-01, -3.75867721e-01, ...,\n",
       "           -5.45824836e-01, -4.94104377e-01, -3.86503740e-01],\n",
       "          ...,\n",
       "          [-7.14124209e-02, -6.85147414e-02, -5.71165429e-02, ...,\n",
       "           -2.85708071e-02, -2.75624101e-02, -1.25934552e-02],\n",
       "          [ 4.96864938e-02,  4.10912904e-02,  1.53086466e-02, ...,\n",
       "           -9.16331705e-03, -7.37263968e-04,  1.80357788e-02],\n",
       "          [-4.81405583e-02, -7.17333460e-02, -6.29002059e-02, ...,\n",
       "           -4.14379055e-02, -3.66251583e-02, -2.06277779e-02]]]),\n",
       "  'chroma': array([[[4.06509705e-01, 2.84089190e-01, 2.26621404e-01, ...,\n",
       "           2.82009621e-01, 3.09743463e-01, 1.72762886e-01],\n",
       "          [4.32658081e-01, 2.64174891e-01, 2.44474347e-01, ...,\n",
       "           3.83770735e-01, 3.45727937e-01, 1.40932799e-01],\n",
       "          [1.00000000e+00, 1.00000000e+00, 9.64855963e-01, ...,\n",
       "           1.00000000e+00, 6.21680271e-01, 3.80715233e-01],\n",
       "          ...,\n",
       "          [3.37044642e-01, 2.11615299e-01, 2.11958408e-01, ...,\n",
       "           3.38548858e-01, 4.57281385e-01, 2.26087200e-01],\n",
       "          [1.94685345e-01, 1.32866414e-01, 1.16713108e-01, ...,\n",
       "           1.95481979e-01, 2.68676173e-01, 1.34359500e-01],\n",
       "          [3.18288776e-01, 2.26499278e-01, 1.80509442e-01, ...,\n",
       "           1.76376695e-01, 2.19471566e-01, 9.45705151e-02]],\n",
       "  \n",
       "         [[2.53718952e-01, 3.48794710e-01, 2.90980943e-01, ...,\n",
       "           3.04654147e-01, 2.42582641e-01, 2.01908239e-01],\n",
       "          [2.79048288e-01, 3.65825787e-01, 3.87829487e-01, ...,\n",
       "           3.55339593e-01, 2.44053016e-01, 1.85640885e-01],\n",
       "          [5.32030762e-01, 9.86547005e-01, 1.00000000e+00, ...,\n",
       "           4.97810877e-01, 3.80001048e-01, 3.15251937e-01],\n",
       "          ...,\n",
       "          [3.40039018e-01, 3.85886494e-01, 4.21004046e-01, ...,\n",
       "           1.00000000e+00, 1.00000000e+00, 1.00000000e+00],\n",
       "          [2.59473241e-01, 2.74460592e-01, 4.02019582e-01, ...,\n",
       "           3.18817167e-01, 2.90842800e-01, 2.59163327e-01],\n",
       "          [2.69917821e-01, 3.10501050e-01, 3.46920342e-01, ...,\n",
       "           2.30307156e-01, 1.74096879e-01, 1.40626154e-01]],\n",
       "  \n",
       "         [[2.91109375e-01, 3.03765632e-01, 2.73274663e-01, ...,\n",
       "           1.37664047e-01, 4.47444214e-01, 5.55059898e-01],\n",
       "          [5.00754885e-01, 4.20773244e-01, 3.52631848e-01, ...,\n",
       "           1.51496774e-01, 5.26314640e-01, 7.34931932e-01],\n",
       "          [8.01951235e-01, 1.00000000e+00, 1.00000000e+00, ...,\n",
       "           2.09640767e-01, 4.35293679e-01, 5.64296501e-01],\n",
       "          ...,\n",
       "          [3.31242384e-01, 2.89085849e-01, 3.04803634e-01, ...,\n",
       "           1.00000000e+00, 1.00000000e+00, 7.12031413e-01],\n",
       "          [4.15728266e-01, 2.04398042e-01, 1.89175312e-01, ...,\n",
       "           5.68249707e-01, 8.35985309e-01, 5.83282288e-01],\n",
       "          [4.15318666e-01, 2.30773953e-01, 1.88096448e-01, ...,\n",
       "           2.23192116e-01, 5.05966796e-01, 5.52011216e-01]],\n",
       "  \n",
       "         ...,\n",
       "  \n",
       "         [[4.47811426e-03, 3.31954955e-03, 1.37721388e-03, ...,\n",
       "           6.05599598e-01, 7.96447019e-01, 4.73858657e-01],\n",
       "          [2.74062964e-03, 1.66435968e-03, 6.51711758e-04, ...,\n",
       "           5.70895326e-01, 8.37838246e-01, 5.69453814e-01],\n",
       "          [2.51044317e-03, 1.64400350e-03, 7.81987191e-04, ...,\n",
       "           4.90189070e-01, 6.09132782e-01, 3.71972750e-01],\n",
       "          ...,\n",
       "          [1.00000000e+00, 1.00000000e+00, 1.00000000e+00, ...,\n",
       "           5.48414178e-01, 7.42418733e-01, 6.14996957e-01],\n",
       "          [3.69136236e-01, 5.91330351e-01, 3.29428508e-01, ...,\n",
       "           1.00000000e+00, 1.00000000e+00, 1.00000000e+00],\n",
       "          [2.25924371e-02, 2.99761079e-02, 1.66010396e-02, ...,\n",
       "           9.10500443e-01, 9.23878500e-01, 6.88918740e-01]],\n",
       "  \n",
       "         [[3.83677416e-02, 2.96047459e-02, 2.77250546e-02, ...,\n",
       "           5.62243322e-01, 8.38908200e-01, 5.91575499e-01],\n",
       "          [1.34973033e-02, 4.01434099e-03, 2.82738619e-03, ...,\n",
       "           4.75653300e-01, 7.03555688e-01, 5.46000189e-01],\n",
       "          [1.08481304e-02, 3.17436093e-03, 2.22117174e-03, ...,\n",
       "           7.38260294e-01, 3.96354008e-01, 4.87529795e-01],\n",
       "          ...,\n",
       "          [1.00000000e+00, 7.97149568e-01, 7.05142378e-01, ...,\n",
       "           5.07299062e-01, 6.64664353e-01, 9.91049031e-01],\n",
       "          [7.52359036e-01, 1.00000000e+00, 1.00000000e+00, ...,\n",
       "           1.00000000e+00, 8.68237328e-01, 1.00000000e+00],\n",
       "          [2.74948261e-01, 2.78005254e-01, 2.46225373e-01, ...,\n",
       "           9.23849041e-01, 1.00000000e+00, 6.74136585e-01]],\n",
       "  \n",
       "         [[1.53334677e-02, 1.27059925e-02, 1.00854090e-02, ...,\n",
       "           4.16449150e-01, 4.91795290e-01, 7.03151652e-01],\n",
       "          [1.85768365e-02, 9.43369186e-03, 4.79898543e-03, ...,\n",
       "           3.05575286e-01, 2.90640560e-01, 4.25978787e-01],\n",
       "          [2.63112231e-02, 1.25214938e-02, 3.51288914e-03, ...,\n",
       "           4.16807587e-01, 5.28208225e-01, 8.70116029e-01],\n",
       "          ...,\n",
       "          [1.00000000e+00, 1.00000000e+00, 1.00000000e+00, ...,\n",
       "           1.00000000e+00, 1.00000000e+00, 1.00000000e+00],\n",
       "          [3.27168654e-01, 2.74184694e-01, 1.93315702e-01, ...,\n",
       "           6.69093935e-01, 7.21090247e-01, 6.02724357e-01],\n",
       "          [5.61277906e-02, 5.49231088e-02, 4.90226032e-02, ...,\n",
       "           5.31284840e-01, 5.78866092e-01, 5.96917172e-01]]]),\n",
       "  'rms': array([[[0.02888568, 0.02972097, 0.02995286, ..., 0.03275332,\n",
       "           0.02526124, 0.00567124]],\n",
       "  \n",
       "         [[0.01089821, 0.01155233, 0.01180393, ..., 0.02673709,\n",
       "           0.02655303, 0.02640229]],\n",
       "  \n",
       "         [[0.02653877, 0.02950749, 0.02972467, ..., 0.01898509,\n",
       "           0.00632529, 0.00471314]],\n",
       "  \n",
       "         ...,\n",
       "  \n",
       "         [[0.05486172, 0.08848134, 0.14834662, ..., 0.01204939,\n",
       "           0.01059676, 0.00864833]],\n",
       "  \n",
       "         [[0.02448678, 0.03844219, 0.05055808, ..., 0.01040819,\n",
       "           0.00310402, 0.00249541]],\n",
       "  \n",
       "         [[0.05517472, 0.07846584, 0.12304097, ..., 0.01447011,\n",
       "           0.01243893, 0.01049179]]], dtype=float32),\n",
       "  'label': array([ 9,  9,  9, ..., 17, 17, 17])},\n",
       " 'val': {'melspectrogram': array([[[1.84076130e-03, 2.97242671e-04, 7.40060218e-12, ...,\n",
       "           8.22716341e-12, 7.56873950e-04, 4.23425475e-03],\n",
       "          [1.86156487e-03, 3.00602248e-04, 8.74325076e-12, ...,\n",
       "           1.12708715e-11, 7.82963496e-04, 4.38024592e-03],\n",
       "          [1.89783872e-03, 3.06464239e-04, 1.16626410e-11, ...,\n",
       "           5.17888085e-10, 8.29426844e-04, 4.63989750e-03],\n",
       "          ...,\n",
       "          [1.01341649e-05, 1.66688490e-06, 1.01603101e-07, ...,\n",
       "           1.01234575e-06, 2.47247774e-06, 5.60908933e-06],\n",
       "          [7.21003065e-06, 1.16490205e-06, 5.52198187e-10, ...,\n",
       "           5.86122408e-09, 5.83376074e-07, 3.20072431e-06],\n",
       "          [5.89980776e-06, 9.53125589e-07, 3.61782074e-13, ...,\n",
       "           3.91756553e-12, 4.36495680e-07, 2.43550790e-06]],\n",
       "  \n",
       "         [[1.17787348e-04, 2.67663929e-05, 6.44531408e-14, ...,\n",
       "           1.41519446e-12, 5.92642093e-04, 4.71809858e-03],\n",
       "          [1.17316031e-04, 2.66592053e-05, 1.13432974e-13, ...,\n",
       "           4.20621790e-12, 6.03262333e-04, 4.80257351e-03],\n",
       "          [1.16438458e-04, 2.64591696e-05, 2.51025396e-13, ...,\n",
       "           5.08417728e-10, 6.21592787e-04, 4.94938894e-03],\n",
       "          ...,\n",
       "          [1.52606873e-05, 3.52709541e-06, 7.97731305e-08, ...,\n",
       "           9.27085462e-07, 2.38148355e-06, 8.21154466e-06],\n",
       "          [1.37663103e-05, 3.12402468e-06, 4.20739410e-10, ...,\n",
       "           3.51991830e-09, 9.48341991e-07, 7.50579838e-06],\n",
       "          [1.29544957e-05, 2.93956802e-06, 2.38791792e-13, ...,\n",
       "           4.14194334e-12, 9.81290689e-07, 7.82432385e-06]],\n",
       "  \n",
       "         [[3.69169624e-04, 9.49861005e-05, 1.49662781e-11, ...,\n",
       "           6.19091110e-12, 2.49406567e-04, 1.76456898e-03],\n",
       "          [3.79939231e-04, 9.77594896e-05, 1.79898416e-11, ...,\n",
       "           1.04633055e-11, 2.54383469e-04, 1.80039200e-03],\n",
       "          [3.99002047e-04, 1.02671144e-04, 2.45827728e-11, ...,\n",
       "           3.59830912e-10, 2.63365479e-04, 1.86470944e-03],\n",
       "          ...,\n",
       "          [2.75128979e-06, 7.55848052e-07, 1.44197842e-07, ...,\n",
       "           1.58672591e-06, 2.80720868e-06, 1.07870296e-05],\n",
       "          [2.48386388e-06, 6.40247556e-07, 1.47857169e-09, ...,\n",
       "           7.08460165e-09, 1.21620607e-06, 8.50872359e-06],\n",
       "          [2.31869912e-06, 5.96966232e-07, 6.31038425e-13, ...,\n",
       "           7.45974102e-12, 1.15516379e-06, 8.12280196e-06]],\n",
       "  \n",
       "         ...,\n",
       "  \n",
       "         [[4.64337460e-04, 4.33294799e-05, 2.25075850e-13, ...,\n",
       "           1.91166913e-14, 6.01479130e-06, 2.54849004e-04],\n",
       "          [4.67291801e-04, 4.36224336e-05, 3.67371951e-13, ...,\n",
       "           1.24778077e-12, 6.38434798e-06, 2.71040872e-04],\n",
       "          [4.72650351e-04, 4.41491738e-05, 8.77470737e-12, ...,\n",
       "           1.73494099e-10, 7.02336636e-06, 2.99074464e-04],\n",
       "          ...,\n",
       "          [4.24258574e-05, 4.05664533e-06, 6.05310235e-08, ...,\n",
       "           3.55498714e-08, 6.00091473e-06, 2.62253455e-04],\n",
       "          [2.76656179e-05, 2.56428004e-06, 2.21805830e-10, ...,\n",
       "           2.18817855e-10, 5.41358393e-06, 2.41452182e-04],\n",
       "          [1.93359916e-05, 1.79651360e-06, 3.01392432e-13, ...,\n",
       "           2.02232256e-13, 5.26019323e-06, 2.34449600e-04]],\n",
       "  \n",
       "         [[3.75044855e-04, 7.64634977e-06, 1.58006102e-14, ...,\n",
       "           6.67368568e-14, 2.39278410e-05, 1.83315108e-04],\n",
       "          [3.85298328e-04, 7.85287064e-06, 2.20025135e-13, ...,\n",
       "           9.05813032e-12, 2.56190100e-05, 1.95850667e-04],\n",
       "          [4.03319021e-04, 8.21415971e-06, 8.64684395e-12, ...,\n",
       "           1.35562600e-10, 2.85869522e-05, 2.17900843e-04],\n",
       "          ...,\n",
       "          [5.74641382e-05, 1.29174204e-06, 7.79538689e-08, ...,\n",
       "           6.75089481e-07, 6.00841291e-06, 3.87361089e-05],\n",
       "          [4.50413680e-05, 9.44531953e-07, 2.18882140e-10, ...,\n",
       "           4.94040362e-09, 4.08211585e-06, 2.97581662e-05],\n",
       "          [3.80436284e-05, 7.97041672e-07, 1.16489584e-13, ...,\n",
       "           5.16946062e-12, 3.60696079e-06, 2.63103553e-05]],\n",
       "  \n",
       "         [[3.76151200e-04, 3.73859640e-05, 1.85239759e-12, ...,\n",
       "           2.52427063e-14, 3.00140674e-07, 1.37883475e-05],\n",
       "          [4.00081575e-04, 3.98469585e-05, 4.49338260e-12, ...,\n",
       "           1.10582988e-13, 3.41005713e-07, 1.55157448e-05],\n",
       "          [4.41743341e-04, 4.41457585e-05, 2.66506036e-11, ...,\n",
       "           2.53664313e-11, 4.10392759e-07, 1.84105641e-05],\n",
       "          ...,\n",
       "          [3.71816195e-04, 3.96346968e-05, 7.27970069e-07, ...,\n",
       "           5.68030525e-08, 8.18082631e-07, 1.91565522e-05],\n",
       "          [3.58032660e-04, 3.74120698e-05, 3.07817624e-09, ...,\n",
       "           2.58978338e-10, 4.32498312e-07, 1.79957842e-05],\n",
       "          [3.46922063e-04, 3.62252993e-05, 3.84792380e-12, ...,\n",
       "           2.18644641e-13, 4.20707783e-07, 1.76150392e-05]]]),\n",
       "  'mfcc': array([[[-1.        , -1.        , -1.        , ..., -1.        ,\n",
       "           -1.        , -1.        ],\n",
       "          [ 0.26177944,  0.05652749, -0.32995713, ..., -0.03931227,\n",
       "            0.07147725,  0.14267357],\n",
       "          [-0.60582895, -0.68381695, -0.73791901, ..., -0.444407  ,\n",
       "           -0.3776471 , -0.28369405],\n",
       "          ...,\n",
       "          [ 0.08385973,  0.09017727,  0.02289719, ..., -0.02623786,\n",
       "           -0.02163543, -0.02178244],\n",
       "          [ 0.07610183,  0.10517222,  0.06129366, ...,  0.00639585,\n",
       "            0.01805849,  0.01626738],\n",
       "          [-0.25765631, -0.26353898, -0.11454952, ..., -0.02173703,\n",
       "           -0.01804233, -0.01548611]],\n",
       "  \n",
       "         [[-1.        , -1.        , -1.        , ..., -1.        ,\n",
       "           -1.        , -1.        ],\n",
       "          [-0.05742453, -0.18678824, -0.30698563, ..., -0.0460306 ,\n",
       "            0.05573109,  0.11467849],\n",
       "          [-0.5037279 , -0.65066009, -0.69556499, ..., -0.46202719,\n",
       "           -0.40110261, -0.30821776],\n",
       "          ...,\n",
       "          [ 0.06370789,  0.04787352,  0.00993554, ..., -0.02201164,\n",
       "           -0.01283506, -0.01004127],\n",
       "          [ 0.11656299,  0.16562613,  0.11874571, ...,  0.00592055,\n",
       "            0.0236347 ,  0.01737376],\n",
       "          [-0.19046009, -0.18296045, -0.08100737, ..., -0.03096946,\n",
       "           -0.0204877 , -0.01785225]],\n",
       "  \n",
       "         [[-1.        , -1.        , -1.        , ..., -1.        ,\n",
       "           -1.        , -1.        ],\n",
       "          [ 0.18630788,  0.00939788, -0.30996234, ..., -0.0356178 ,\n",
       "            0.07094822,  0.12679907],\n",
       "          [-0.65852184, -0.80954632, -0.74818411, ..., -0.45448342,\n",
       "           -0.39964885, -0.32268192],\n",
       "          ...,\n",
       "          [ 0.02003733,  0.04113537,  0.0153099 , ..., -0.00890364,\n",
       "           -0.01406063, -0.01527632],\n",
       "          [ 0.17338027,  0.18021095,  0.09421842, ...,  0.00924187,\n",
       "            0.01509421,  0.0217013 ],\n",
       "          [-0.21643772, -0.23330159, -0.09029193, ..., -0.02574057,\n",
       "           -0.01986138, -0.01401581]],\n",
       "  \n",
       "         ...,\n",
       "  \n",
       "         [[-1.        , -1.        , -1.        , ..., -1.        ,\n",
       "           -1.        , -1.        ],\n",
       "          [-0.00358562, -0.0383796 , -0.15968956, ..., -0.04465144,\n",
       "           -0.02809208, -0.03122055],\n",
       "          [-0.38693555, -0.54390393, -0.70224165, ..., -0.72434737,\n",
       "           -0.56026573, -0.27485297],\n",
       "          ...,\n",
       "          [ 0.00536764, -0.01132375, -0.0204434 , ..., -0.01728815,\n",
       "           -0.02117707, -0.01116798],\n",
       "          [ 0.01882616,  0.01810972,  0.01545094, ..., -0.00976733,\n",
       "           -0.01162166, -0.00668977],\n",
       "          [-0.00990889, -0.01349223, -0.03419735, ..., -0.03301353,\n",
       "           -0.03255445, -0.01388599]],\n",
       "  \n",
       "         [[-1.        , -1.        , -1.        , ..., -1.        ,\n",
       "           -1.        , -1.        ],\n",
       "          [-0.00648288, -0.00519195, -0.11594616, ..., -0.10363716,\n",
       "           -0.04363346, -0.0039434 ],\n",
       "          [-0.38460546, -0.73182759, -0.86320904, ..., -0.39419283,\n",
       "           -0.3110775 , -0.20906409],\n",
       "          ...,\n",
       "          [-0.02715789, -0.01725096, -0.00904134, ..., -0.01035691,\n",
       "           -0.0150861 , -0.01568864],\n",
       "          [ 0.01013535,  0.01669443,  0.01254086, ...,  0.01143572,\n",
       "            0.00658674,  0.00245879],\n",
       "          [-0.01744392, -0.02698908, -0.03217376, ..., -0.00535758,\n",
       "           -0.00753084, -0.0114412 ]],\n",
       "  \n",
       "         [[-1.        , -1.        , -1.        , ..., -1.        ,\n",
       "           -1.        , -1.        ],\n",
       "          [-0.01131514, -0.05073954, -0.1141064 , ..., -0.0230035 ,\n",
       "           -0.05375801, -0.06629101],\n",
       "          [-0.17789564, -0.28455943, -0.40225971, ..., -0.62809334,\n",
       "           -0.46230311, -0.31474693],\n",
       "          ...,\n",
       "          [-0.02126507, -0.0194307 , -0.00752821, ..., -0.01920813,\n",
       "           -0.01315168, -0.00464894],\n",
       "          [ 0.01335006,  0.01238138,  0.01275695, ..., -0.01308287,\n",
       "            0.00178683,  0.0253016 ],\n",
       "          [-0.0047992 ,  0.00151259, -0.01927524, ..., -0.06535296,\n",
       "           -0.04567705, -0.0172172 ]]]),\n",
       "  'chroma': array([[[0.03257377, 0.02943217, 0.03182253, ..., 1.        ,\n",
       "           0.91985697, 1.        ],\n",
       "          [0.00706058, 0.00614295, 0.02420942, ..., 0.9082938 ,\n",
       "           0.9346529 , 0.87918631],\n",
       "          [0.0408772 , 0.090486  , 0.29918319, ..., 0.64537987,\n",
       "           0.91513269, 0.85449672],\n",
       "          ...,\n",
       "          [0.04821363, 0.1917221 , 0.78518939, ..., 0.88134564,\n",
       "           0.60740076, 0.53629541],\n",
       "          [0.24748499, 0.3660582 , 0.86097495, ..., 0.49241752,\n",
       "           0.70971658, 0.75558831],\n",
       "          [0.36942591, 0.35372819, 0.32960534, ..., 0.51755093,\n",
       "           1.        , 0.9340475 ]],\n",
       "  \n",
       "         [[0.00525371, 0.00430819, 0.01190532, ..., 0.48432235,\n",
       "           0.70485795, 0.61655469],\n",
       "          [0.01556845, 0.04343666, 0.12130241, ..., 0.45607164,\n",
       "           0.79756881, 0.93836555],\n",
       "          [0.22800902, 0.27724305, 0.33370546, ..., 0.42427121,\n",
       "           0.72507991, 0.88079523],\n",
       "          ...,\n",
       "          [0.12937897, 0.44266345, 1.        , ..., 0.6997253 ,\n",
       "           0.97666156, 0.80877571],\n",
       "          [0.20160681, 0.21962619, 0.28714545, ..., 1.        ,\n",
       "           1.        , 1.        ],\n",
       "          [0.02735393, 0.02452539, 0.03027869, ..., 0.6056254 ,\n",
       "           0.75326612, 0.66562068]],\n",
       "  \n",
       "         [[0.01174408, 0.0084069 , 0.01796509, ..., 0.44033426,\n",
       "           0.91372605, 0.83559207],\n",
       "          [0.04045629, 0.0884074 , 0.1619705 , ..., 0.49571195,\n",
       "           0.59439494, 0.59035136],\n",
       "          [0.30366203, 0.40471749, 0.40563704, ..., 0.69980213,\n",
       "           0.79909722, 0.48283847],\n",
       "          ...,\n",
       "          [0.21063022, 0.56091566, 1.        , ..., 0.6347706 ,\n",
       "           0.76931053, 0.68248985],\n",
       "          [0.1318151 , 0.18604277, 0.28573466, ..., 0.9315822 ,\n",
       "           0.98533369, 0.66833228],\n",
       "          [0.01802342, 0.01761388, 0.03662484, ..., 0.72409732,\n",
       "           0.98997198, 0.78661236]],\n",
       "  \n",
       "         ...,\n",
       "  \n",
       "         [[1.        , 1.        , 0.61450832, ..., 0.67982249,\n",
       "           0.71706475, 1.        ],\n",
       "          [0.71785107, 0.59088624, 0.2664589 , ..., 1.        ,\n",
       "           1.        , 0.71149782],\n",
       "          [0.63648541, 0.47001435, 0.405755  , ..., 0.47134555,\n",
       "           0.48145175, 0.46689599],\n",
       "          ...,\n",
       "          [0.39798613, 0.27017506, 0.24028   , ..., 0.09999113,\n",
       "           0.17282876, 0.46035338],\n",
       "          [0.63537624, 0.46776936, 0.37576529, ..., 0.33794016,\n",
       "           0.42375794, 0.44592618],\n",
       "          [0.75957862, 0.75594884, 0.68013663, ..., 0.61717358,\n",
       "           0.83111198, 0.90994396]],\n",
       "  \n",
       "         [[0.80883755, 0.87614423, 0.72838395, ..., 1.        ,\n",
       "           0.4108665 , 0.18423559],\n",
       "          [0.56028796, 0.62413509, 0.6147079 , ..., 0.73656634,\n",
       "           0.50535241, 0.38762376],\n",
       "          [0.7202801 , 1.        , 1.        , ..., 0.62768424,\n",
       "           0.33684162, 0.33613988],\n",
       "          ...,\n",
       "          [0.82832664, 0.607783  , 0.3563782 , ..., 0.38943235,\n",
       "           0.60290855, 0.63218044],\n",
       "          [0.72396259, 0.51768772, 0.49104494, ..., 0.73403977,\n",
       "           1.        , 1.        ],\n",
       "          [0.88402167, 0.82066911, 0.9002131 , ..., 0.70433058,\n",
       "           0.61810009, 0.48075064]],\n",
       "  \n",
       "         [[0.45630126, 0.48873625, 0.54899346, ..., 0.18204335,\n",
       "           0.40682413, 0.71427922],\n",
       "          [0.48298781, 0.45702756, 0.51878753, ..., 0.40863892,\n",
       "           0.61708315, 0.95903964],\n",
       "          [0.42816821, 0.41703257, 0.44567392, ..., 0.77239517,\n",
       "           1.        , 1.        ],\n",
       "          ...,\n",
       "          [0.39790318, 0.33245681, 0.30230273, ..., 0.53635846,\n",
       "           0.60105841, 0.63998024],\n",
       "          [1.        , 1.        , 0.63195157, ..., 1.        ,\n",
       "           0.66576926, 0.95755456],\n",
       "          [0.35923011, 0.70665163, 1.        , ..., 0.49642824,\n",
       "           0.39854309, 0.51793986]]]),\n",
       "  'rms': array([[[0.12163159, 0.12227605, 0.12261976, ..., 0.00897201,\n",
       "           0.00805981, 0.0064793 ]],\n",
       "  \n",
       "         [[0.12811357, 0.12846963, 0.12856331, ..., 0.01020419,\n",
       "           0.00908467, 0.0072707 ]],\n",
       "  \n",
       "         [[0.11731422, 0.11802917, 0.11834548, ..., 0.00933959,\n",
       "           0.00838153, 0.00710095]],\n",
       "  \n",
       "         ...,\n",
       "  \n",
       "         [[0.0136989 , 0.02096493, 0.0295217 , ..., 0.02393436,\n",
       "           0.02356211, 0.01486908]],\n",
       "  \n",
       "         [[0.03050004, 0.03432608, 0.03577645, ..., 0.00698992,\n",
       "           0.00606833, 0.00444619]],\n",
       "  \n",
       "         [[0.00501902, 0.00634122, 0.01410498, ..., 0.0204023 ,\n",
       "           0.01676296, 0.00667907]]], dtype=float32),\n",
       "  'label': array([14, 14, 14, ...,  4,  4,  4])}}"
      ]
     },
     "metadata": {},
     "output_type": "display_data"
    }
   ],
   "source": [
    "merged_dict = {'train': train_features, 'val': val_features}\n",
    "merged_dict"
   ]
  },
  {
   "cell_type": "markdown",
   "metadata": {},
   "source": [
    "### Save the merged dictionary to a pkl"
   ]
  },
  {
   "cell_type": "code",
   "execution_count": null,
   "metadata": {},
   "outputs": [],
   "source": [
    "with open('C:/Users/thato/Documents/Final-Year-Project/Dataset/Project-V4/feature-extraction/Annotated/NotAveragePooled/split_features_1s_all.pkl', 'wb') as file:\n",
    "  pickle.dump(merged_dict, file)"
   ]
  },
  {
   "cell_type": "markdown",
   "metadata": {},
   "source": [
    "### **['melspectrogram']**"
   ]
  },
  {
   "cell_type": "code",
   "execution_count": 74,
   "metadata": {},
   "outputs": [],
   "source": [
    "features_list = ['melspectrogram']"
   ]
  },
  {
   "cell_type": "code",
   "execution_count": 75,
   "metadata": {},
   "outputs": [
    {
     "name": "stdout",
     "output_type": "stream",
     "text": [
      "Train DataFrame shape: (3444, 9)\n",
      "Validation DataFrame shape: (834, 9)\n",
      "Number of rows in dataframe: 3444\n"
     ]
    },
    {
     "name": "stderr",
     "output_type": "stream",
     "text": [
      "Processing data: 100%|██████████| 3444/3444 [00:43<00:00, 79.01it/s] \n"
     ]
    },
    {
     "name": "stdout",
     "output_type": "stream",
     "text": [
      "Number of rows in dataframe: 834\n"
     ]
    },
    {
     "name": "stderr",
     "output_type": "stream",
     "text": [
      "Processing data: 100%|██████████| 834/834 [00:11<00:00, 74.51it/s] \n"
     ]
    }
   ],
   "source": [
    "features = Extraction(train_data,\n",
    "                      val_data,\n",
    "                      window_size=1,\n",
    "                      features=features_list,\n",
    "                      avgpool=False\n",
    "                      )"
   ]
  },
  {
   "cell_type": "code",
   "execution_count": 76,
   "metadata": {},
   "outputs": [
    {
     "data": {
      "text/plain": [
       "(12565,)"
      ]
     },
     "metadata": {},
     "output_type": "display_data"
    },
    {
     "data": {
      "text/plain": [
       "'melspectrogram'"
      ]
     },
     "metadata": {},
     "output_type": "display_data"
    },
    {
     "data": {
      "text/plain": [
       "(12565, 60, 44)"
      ]
     },
     "metadata": {},
     "output_type": "display_data"
    }
   ],
   "source": [
    "train_y = features.train_y\n",
    "display(train_y.shape)\n",
    "\n",
    "train_features = features.train_features\n",
    "for key in train_features.keys():\n",
    "  display(key)\n",
    "  display(train_features[key].shape)"
   ]
  },
  {
   "cell_type": "code",
   "execution_count": 77,
   "metadata": {},
   "outputs": [
    {
     "data": {
      "text/plain": [
       "(3318,)"
      ]
     },
     "metadata": {},
     "output_type": "display_data"
    },
    {
     "data": {
      "text/plain": [
       "'melspectrogram'"
      ]
     },
     "metadata": {},
     "output_type": "display_data"
    },
    {
     "data": {
      "text/plain": [
       "(3318, 60, 44)"
      ]
     },
     "metadata": {},
     "output_type": "display_data"
    }
   ],
   "source": [
    "val_y = features.val_y\n",
    "display(val_y.shape)\n",
    "\n",
    "val_features = features.val_features\n",
    "for key in val_features.keys():\n",
    "  display(key)\n",
    "  display(val_features[key].shape)"
   ]
  },
  {
   "cell_type": "markdown",
   "metadata": {},
   "source": [
    "### Encode Classes"
   ]
  },
  {
   "cell_type": "code",
   "execution_count": 78,
   "metadata": {},
   "outputs": [
    {
     "name": "stdout",
     "output_type": "stream",
     "text": [
      "Encoded classes for [0, 1, 2]: ['Acrocephalus arundinaceus', 'Acrocephalus melanopogon', 'Acrocephalus scirpaceus']\n",
      "Encoded training labels: [ 9  9  9 ... 17 17 17]\n",
      "Encoded validation labels: [14 14 14 ...  4  4  4]\n"
     ]
    }
   ],
   "source": [
    "label_encoder = LabelEncoder().fit(train_y)\n",
    "train_y_encoded = label_encoder.transform(train_y)\n",
    "val_y_encoded = label_encoder.transform(val_y)\n",
    "\n",
    "classes = list(label_encoder.inverse_transform([0, 1, 2]))\n",
    "print(\"Encoded classes for [0, 1, 2]:\", classes)\n",
    "print(\"Encoded training labels:\", train_y_encoded)\n",
    "print(\"Encoded validation labels:\", val_y_encoded)"
   ]
  },
  {
   "cell_type": "code",
   "execution_count": 79,
   "metadata": {},
   "outputs": [
    {
     "data": {
      "text/plain": [
       "12565"
      ]
     },
     "metadata": {},
     "output_type": "display_data"
    },
    {
     "data": {
      "text/plain": [
       "array([9, 9, 9, 9, 9, 9, 9, 9, 9, 9])"
      ]
     },
     "metadata": {},
     "output_type": "display_data"
    },
    {
     "data": {
      "text/plain": [
       "3318"
      ]
     },
     "metadata": {},
     "output_type": "display_data"
    },
    {
     "data": {
      "text/plain": [
       "array([14, 14, 14, 14, 14, 14, 10, 10, 10, 10])"
      ]
     },
     "metadata": {},
     "output_type": "display_data"
    }
   ],
   "source": [
    "display(len(train_y_encoded))\n",
    "display(train_y_encoded[:10])\n",
    "\n",
    "display(len(val_y_encoded))\n",
    "display(val_y_encoded[:10])"
   ]
  },
  {
   "cell_type": "code",
   "execution_count": 80,
   "metadata": {},
   "outputs": [],
   "source": [
    "train_features['label'] = train_y_encoded\n",
    "val_features['label'] = val_y_encoded"
   ]
  },
  {
   "cell_type": "code",
   "execution_count": 81,
   "metadata": {},
   "outputs": [
    {
     "data": {
      "text/plain": [
       "{'train': {'melspectrogram': array([[[1.49619878e-04, 9.91906688e-07, 2.48130880e-14, ...,\n",
       "           7.57408160e-14, 2.46620584e-05, 2.42136864e-04],\n",
       "          [1.51059693e-04, 1.00149214e-06, 4.29179038e-14, ...,\n",
       "           1.54229494e-13, 2.47809445e-05, 2.43302732e-04],\n",
       "          [1.53461197e-04, 1.01720986e-06, 7.69849280e-12, ...,\n",
       "           5.91120706e-12, 2.49865924e-05, 2.45357940e-04],\n",
       "          ...,\n",
       "          [8.10535547e-08, 1.13486703e-09, 1.55103726e-10, ...,\n",
       "           9.95547819e-11, 3.92484929e-06, 3.89781243e-05],\n",
       "          [6.54161468e-08, 4.35279562e-10, 1.70086070e-13, ...,\n",
       "           3.73563449e-12, 3.73668669e-06, 3.71356338e-05],\n",
       "          [5.58002542e-08, 3.70017484e-10, 1.19116812e-15, ...,\n",
       "           8.60750760e-15, 3.62438557e-06, 3.60217485e-05]],\n",
       "  \n",
       "         [[2.90496083e-04, 1.33911613e-04, 1.18182281e-11, ...,\n",
       "           2.01018052e-13, 9.45688580e-06, 9.98487150e-05],\n",
       "          [2.97352272e-04, 1.36961177e-04, 1.73004844e-11, ...,\n",
       "           3.01842594e-13, 9.68366781e-06, 1.02240476e-04],\n",
       "          [3.09603415e-04, 1.42404336e-04, 1.77799954e-10, ...,\n",
       "           1.37675250e-11, 1.00828472e-05, 1.06442141e-04],\n",
       "          ...,\n",
       "          [1.54484708e-04, 7.18984910e-05, 4.14699914e-08, ...,\n",
       "           1.58219991e-09, 2.54226264e-07, 2.64916412e-06],\n",
       "          [1.47750369e-04, 6.87573851e-05, 4.90193254e-12, ...,\n",
       "           8.62880407e-12, 2.48109579e-07, 2.58621338e-06],\n",
       "          [1.43521455e-04, 6.67882443e-05, 2.70824804e-13, ...,\n",
       "           4.42811174e-14, 2.43916979e-07, 2.54212398e-06]],\n",
       "  \n",
       "         [[4.55543301e-04, 2.51265742e-06, 3.74917689e-15, ...,\n",
       "           1.07731695e-11, 2.63629131e-04, 1.84378904e-03],\n",
       "          [4.57720031e-04, 2.52440017e-06, 8.09933972e-14, ...,\n",
       "           1.34843580e-11, 2.69018541e-04, 1.88142961e-03],\n",
       "          [4.61220038e-04, 2.54317506e-06, 3.51347962e-12, ...,\n",
       "           5.04255332e-11, 2.78329858e-04, 1.94703837e-03],\n",
       "          ...,\n",
       "          [7.38566487e-05, 4.20170296e-07, 2.71756052e-09, ...,\n",
       "           1.34319028e-08, 3.36025734e-08, 1.87137073e-07],\n",
       "          [6.99262141e-05, 3.90192578e-07, 1.51896078e-11, ...,\n",
       "           2.01339414e-10, 2.94162072e-08, 1.98637239e-07],\n",
       "          [6.78123929e-05, 3.78405969e-07, 3.52410644e-15, ...,\n",
       "           6.11029994e-14, 2.87063791e-08, 1.99999124e-07]],\n",
       "  \n",
       "         ...,\n",
       "  \n",
       "         [[3.16719877e-05, 4.18284470e-06, 6.43660775e-15, ...,\n",
       "           7.37045913e-12, 7.49019928e-05, 4.36649730e-04],\n",
       "          [3.22357957e-05, 4.25725772e-06, 8.96772966e-15, ...,\n",
       "           1.78307053e-11, 7.50419980e-05, 4.37393070e-04],\n",
       "          [3.32204779e-05, 4.38729189e-06, 1.46234737e-14, ...,\n",
       "           3.43681323e-10, 7.53340244e-05, 4.38995016e-04],\n",
       "          ...,\n",
       "          [5.25163910e-06, 7.16321562e-07, 2.19128830e-08, ...,\n",
       "           1.38372441e-06, 7.37481831e-06, 3.57650212e-05],\n",
       "          [2.98257593e-06, 3.94065695e-07, 6.78031371e-11, ...,\n",
       "           1.28459911e-08, 5.03409211e-06, 2.94385306e-05],\n",
       "          [2.12320979e-06, 2.80494599e-07, 3.93791536e-14, ...,\n",
       "           5.69620182e-12, 4.59374698e-06, 2.68907616e-05]],\n",
       "  \n",
       "         [[7.72683498e-04, 2.90188498e-05, 1.21055299e-13, ...,\n",
       "           4.91451430e-12, 5.53259735e-06, 3.32755036e-05],\n",
       "          [7.78764051e-04, 2.92455646e-05, 1.40889727e-13, ...,\n",
       "           6.36688349e-12, 6.78851835e-06, 4.16199996e-05],\n",
       "          [7.89369056e-04, 2.96411564e-05, 1.82558235e-13, ...,\n",
       "           9.23554749e-12, 8.97556779e-06, 5.61530806e-05],\n",
       "          ...,\n",
       "          [1.78372988e-04, 6.77385005e-06, 9.79296369e-08, ...,\n",
       "           2.51244715e-06, 5.60795380e-06, 1.85564957e-05],\n",
       "          [1.54209193e-04, 5.78602686e-06, 1.77489297e-10, ...,\n",
       "           1.66792476e-08, 2.09425941e-06, 1.38898478e-05],\n",
       "          [1.41708970e-04, 5.31689707e-06, 1.60120213e-13, ...,\n",
       "           1.12030717e-11, 1.90777858e-06, 1.27551553e-05]],\n",
       "  \n",
       "         [[1.18239839e-04, 9.65759242e-06, 1.23768973e-15, ...,\n",
       "           6.94353210e-12, 2.78504127e-04, 2.80196356e-03],\n",
       "          [1.19354130e-04, 9.74896568e-06, 4.63237624e-15, ...,\n",
       "           1.50848024e-11, 2.82374788e-04, 2.84034951e-03],\n",
       "          [1.21319751e-04, 9.91052756e-06, 1.07460214e-14, ...,\n",
       "           7.31300481e-10, 2.89015332e-04, 2.90558074e-03],\n",
       "          ...,\n",
       "          [1.84346841e-05, 1.54169828e-06, 2.72332565e-08, ...,\n",
       "           1.25483832e-06, 3.69578390e-06, 2.34431871e-05],\n",
       "          [1.82365547e-05, 1.48900227e-06, 1.45247997e-10, ...,\n",
       "           1.14408300e-08, 1.72386594e-06, 1.73260869e-05],\n",
       "          [1.73240142e-05, 1.41458914e-06, 1.02927910e-13, ...,\n",
       "           2.20416667e-12, 1.54628433e-06, 1.56131550e-05]]]),\n",
       "  'label': array([ 9,  9,  9, ..., 17, 17, 17])},\n",
       " 'val': {'melspectrogram': array([[[1.84076130e-03, 2.97242671e-04, 7.40060218e-12, ...,\n",
       "           7.35791639e-12, 1.10270463e-08, 8.44540601e-08],\n",
       "          [1.86156487e-03, 3.00602248e-04, 8.74325076e-12, ...,\n",
       "           1.38189681e-11, 8.41389861e-09, 4.74578302e-08],\n",
       "          [1.89783872e-03, 3.06464239e-04, 1.16626409e-11, ...,\n",
       "           6.45388529e-10, 4.87008007e-08, 3.97154011e-07],\n",
       "          ...,\n",
       "          [1.01341649e-05, 1.66688490e-06, 1.01603101e-07, ...,\n",
       "           1.61077598e-06, 1.52514034e-05, 1.27171980e-04],\n",
       "          [7.21003065e-06, 1.16490205e-06, 5.52198187e-10, ...,\n",
       "           6.13367028e-09, 1.15089206e-05, 1.05232570e-04],\n",
       "          [5.89980776e-06, 9.53125589e-07, 3.61782074e-13, ...,\n",
       "           8.00997132e-12, 1.03904360e-05, 9.51007266e-05]],\n",
       "  \n",
       "         [[1.17787348e-04, 2.67663929e-05, 6.44531408e-14, ...,\n",
       "           3.60948293e-13, 5.30551554e-05, 3.78528454e-04],\n",
       "          [1.17316031e-04, 2.66592053e-05, 1.13432974e-13, ...,\n",
       "           7.10015973e-12, 5.48672724e-05, 3.91597454e-04],\n",
       "          [1.16438458e-04, 2.64591696e-05, 2.51025397e-13, ...,\n",
       "           2.25894985e-10, 5.81011132e-05, 4.14891428e-04],\n",
       "          ...,\n",
       "          [1.52606873e-05, 3.52709541e-06, 7.97731305e-08, ...,\n",
       "           1.55450834e-06, 1.96937064e-06, 7.15061327e-06],\n",
       "          [1.37663103e-05, 3.12402468e-06, 4.20739410e-10, ...,\n",
       "           3.77734744e-09, 8.26379017e-07, 5.85931391e-06],\n",
       "          [1.29544957e-05, 2.93956802e-06, 2.38791792e-13, ...,\n",
       "           6.10976499e-12, 7.42855005e-07, 5.29913295e-06]],\n",
       "  \n",
       "         [[3.69169624e-04, 9.49861005e-05, 1.49662781e-11, ...,\n",
       "           1.31931640e-12, 1.08193917e-04, 4.75137958e-04],\n",
       "          [3.79939231e-04, 9.77594896e-05, 1.79898416e-11, ...,\n",
       "           4.56149177e-12, 1.12557428e-04, 4.94363836e-04],\n",
       "          [3.99002047e-04, 1.02671144e-04, 2.45827728e-11, ...,\n",
       "           1.36469071e-10, 1.20338466e-04, 5.28669472e-04],\n",
       "          ...,\n",
       "          [2.75128979e-06, 7.55848052e-07, 1.44197842e-07, ...,\n",
       "           1.33950545e-06, 1.85315108e-06, 3.57792421e-06],\n",
       "          [2.48386388e-06, 6.40247556e-07, 1.47857169e-09, ...,\n",
       "           5.52584799e-09, 6.03967809e-07, 2.62800388e-06],\n",
       "          [2.31869912e-06, 5.96966232e-07, 6.31038425e-13, ...,\n",
       "           6.29241007e-12, 5.40494299e-07, 2.37377895e-06]],\n",
       "  \n",
       "         ...,\n",
       "  \n",
       "         [[4.64337460e-04, 4.33294799e-05, 2.25075850e-13, ...,\n",
       "           1.91166913e-14, 6.01479130e-06, 2.54849004e-04],\n",
       "          [4.67291801e-04, 4.36224336e-05, 3.67371951e-13, ...,\n",
       "           1.24778077e-12, 6.38434798e-06, 2.71040872e-04],\n",
       "          [4.72650351e-04, 4.41491738e-05, 8.77470737e-12, ...,\n",
       "           1.73494099e-10, 7.02336636e-06, 2.99074464e-04],\n",
       "          ...,\n",
       "          [4.24258574e-05, 4.05664533e-06, 6.05310235e-08, ...,\n",
       "           3.55498714e-08, 6.00091473e-06, 2.62253455e-04],\n",
       "          [2.76656179e-05, 2.56428004e-06, 2.21805830e-10, ...,\n",
       "           2.18817855e-10, 5.41358393e-06, 2.41452182e-04],\n",
       "          [1.93359916e-05, 1.79651360e-06, 3.01392432e-13, ...,\n",
       "           2.02232256e-13, 5.26019323e-06, 2.34449600e-04]],\n",
       "  \n",
       "         [[3.75044855e-04, 7.64634977e-06, 1.58006102e-14, ...,\n",
       "           6.67368568e-14, 2.39278410e-05, 1.83315108e-04],\n",
       "          [3.85298328e-04, 7.85287064e-06, 2.20025135e-13, ...,\n",
       "           9.05813032e-12, 2.56190100e-05, 1.95850667e-04],\n",
       "          [4.03319021e-04, 8.21415971e-06, 8.64684395e-12, ...,\n",
       "           1.35562600e-10, 2.85869522e-05, 2.17900843e-04],\n",
       "          ...,\n",
       "          [5.74641382e-05, 1.29174204e-06, 7.79538689e-08, ...,\n",
       "           6.75089481e-07, 6.00841291e-06, 3.87361089e-05],\n",
       "          [4.50413680e-05, 9.44531953e-07, 2.18882140e-10, ...,\n",
       "           4.94040362e-09, 4.08211585e-06, 2.97581662e-05],\n",
       "          [3.80436284e-05, 7.97041672e-07, 1.16489584e-13, ...,\n",
       "           5.16946062e-12, 3.60696079e-06, 2.63103553e-05]],\n",
       "  \n",
       "         [[3.76151200e-04, 3.73859640e-05, 1.85239759e-12, ...,\n",
       "           2.52427063e-14, 3.00140674e-07, 1.37883475e-05],\n",
       "          [4.00081575e-04, 3.98469585e-05, 4.49338260e-12, ...,\n",
       "           1.10582988e-13, 3.41005713e-07, 1.55157448e-05],\n",
       "          [4.41743341e-04, 4.41457585e-05, 2.66506036e-11, ...,\n",
       "           2.53664313e-11, 4.10392759e-07, 1.84105641e-05],\n",
       "          ...,\n",
       "          [3.71816195e-04, 3.96346968e-05, 7.27970069e-07, ...,\n",
       "           5.68030525e-08, 8.18082631e-07, 1.91565522e-05],\n",
       "          [3.58032660e-04, 3.74120698e-05, 3.07817624e-09, ...,\n",
       "           2.58978338e-10, 4.32498312e-07, 1.79957842e-05],\n",
       "          [3.46922063e-04, 3.62252993e-05, 3.84792380e-12, ...,\n",
       "           2.18644641e-13, 4.20707783e-07, 1.76150392e-05]]]),\n",
       "  'label': array([14, 14, 14, ...,  4,  4,  4])}}"
      ]
     },
     "execution_count": 81,
     "metadata": {},
     "output_type": "execute_result"
    }
   ],
   "source": [
    "merged_dict = {'train': train_features, 'val': val_features}\n",
    "merged_dict"
   ]
  },
  {
   "cell_type": "markdown",
   "metadata": {},
   "source": [
    "### Save the merged dictionary to a pkl"
   ]
  },
  {
   "cell_type": "code",
   "execution_count": 82,
   "metadata": {},
   "outputs": [],
   "source": [
    "with open('C:/Users/thato/Documents/Final-Year-Project/Dataset/Project-V4/feature-extraction/Annotated/NotAveragePooled/split_features_1s_mel.pkl', 'wb') as file:\n",
    "  pickle.dump(merged_dict, file)"
   ]
  },
  {
   "cell_type": "markdown",
   "metadata": {},
   "source": [
    "### **['melspectrogram', 'mfcc']**"
   ]
  },
  {
   "cell_type": "code",
   "execution_count": 83,
   "metadata": {},
   "outputs": [],
   "source": [
    "features_list = ['melspectrogram', 'mfcc']"
   ]
  },
  {
   "cell_type": "code",
   "execution_count": 84,
   "metadata": {},
   "outputs": [
    {
     "name": "stdout",
     "output_type": "stream",
     "text": [
      "Train DataFrame shape: (3444, 9)\n",
      "Validation DataFrame shape: (834, 9)\n",
      "Number of rows in dataframe: 3444\n"
     ]
    },
    {
     "name": "stderr",
     "output_type": "stream",
     "text": [
      "Processing data: 100%|██████████| 3444/3444 [01:25<00:00, 40.11it/s]\n"
     ]
    },
    {
     "name": "stdout",
     "output_type": "stream",
     "text": [
      "Number of rows in dataframe: 834\n"
     ]
    },
    {
     "name": "stderr",
     "output_type": "stream",
     "text": [
      "Processing data: 100%|██████████| 834/834 [00:22<00:00, 37.20it/s]\n"
     ]
    }
   ],
   "source": [
    "features = Extraction(train_data,\n",
    "                      val_data,\n",
    "                      window_size=1,\n",
    "                      features=features_list,\n",
    "                      avgpool=False\n",
    "                      )"
   ]
  },
  {
   "cell_type": "code",
   "execution_count": 85,
   "metadata": {},
   "outputs": [
    {
     "data": {
      "text/plain": [
       "(12565,)"
      ]
     },
     "metadata": {},
     "output_type": "display_data"
    },
    {
     "data": {
      "text/plain": [
       "'melspectrogram'"
      ]
     },
     "metadata": {},
     "output_type": "display_data"
    },
    {
     "data": {
      "text/plain": [
       "(12565, 60, 44)"
      ]
     },
     "metadata": {},
     "output_type": "display_data"
    },
    {
     "data": {
      "text/plain": [
       "'mfcc'"
      ]
     },
     "metadata": {},
     "output_type": "display_data"
    },
    {
     "data": {
      "text/plain": [
       "(12565, 20, 44)"
      ]
     },
     "metadata": {},
     "output_type": "display_data"
    }
   ],
   "source": [
    "train_y = features.train_y\n",
    "display(train_y.shape)\n",
    "\n",
    "train_features = features.train_features\n",
    "for key in train_features.keys():\n",
    "  display(key)\n",
    "  display(train_features[key].shape)"
   ]
  },
  {
   "cell_type": "code",
   "execution_count": 86,
   "metadata": {},
   "outputs": [
    {
     "data": {
      "text/plain": [
       "(12565,)"
      ]
     },
     "metadata": {},
     "output_type": "display_data"
    },
    {
     "data": {
      "text/plain": [
       "'melspectrogram'"
      ]
     },
     "metadata": {},
     "output_type": "display_data"
    },
    {
     "data": {
      "text/plain": [
       "(3318, 60, 44)"
      ]
     },
     "metadata": {},
     "output_type": "display_data"
    },
    {
     "data": {
      "text/plain": [
       "'mfcc'"
      ]
     },
     "metadata": {},
     "output_type": "display_data"
    },
    {
     "data": {
      "text/plain": [
       "(3318, 20, 44)"
      ]
     },
     "metadata": {},
     "output_type": "display_data"
    }
   ],
   "source": [
    "val_y = features.val_y\n",
    "display(train_y.shape)\n",
    "\n",
    "val_features = features.val_features\n",
    "for key in val_features.keys():\n",
    "  display(key)\n",
    "  display(val_features[key].shape)"
   ]
  },
  {
   "cell_type": "markdown",
   "metadata": {},
   "source": [
    "### Encode Classes"
   ]
  },
  {
   "cell_type": "code",
   "execution_count": 87,
   "metadata": {},
   "outputs": [
    {
     "name": "stdout",
     "output_type": "stream",
     "text": [
      "Encoded classes for [0, 1, 2]: ['Acrocephalus arundinaceus', 'Acrocephalus melanopogon', 'Acrocephalus scirpaceus']\n",
      "Encoded training labels: [ 9  9  9 ... 17 17 17]\n",
      "Encoded validation labels: [14 14 14 ...  4  4  4]\n"
     ]
    }
   ],
   "source": [
    "label_encoder = LabelEncoder().fit(train_y)\n",
    "train_y_encoded = label_encoder.transform(train_y)\n",
    "val_y_encoded = label_encoder.transform(val_y)\n",
    "\n",
    "classes = list(label_encoder.inverse_transform([0, 1, 2]))\n",
    "print(\"Encoded classes for [0, 1, 2]:\", classes)\n",
    "print(\"Encoded training labels:\", train_y_encoded)\n",
    "print(\"Encoded validation labels:\", val_y_encoded)"
   ]
  },
  {
   "cell_type": "code",
   "execution_count": 88,
   "metadata": {},
   "outputs": [
    {
     "data": {
      "text/plain": [
       "12565"
      ]
     },
     "metadata": {},
     "output_type": "display_data"
    },
    {
     "data": {
      "text/plain": [
       "array([9, 9, 9, 9, 9, 9, 9, 9, 9, 9])"
      ]
     },
     "metadata": {},
     "output_type": "display_data"
    },
    {
     "data": {
      "text/plain": [
       "3318"
      ]
     },
     "metadata": {},
     "output_type": "display_data"
    },
    {
     "data": {
      "text/plain": [
       "array([14, 14, 14, 14, 14, 14, 10, 10, 10, 10])"
      ]
     },
     "metadata": {},
     "output_type": "display_data"
    }
   ],
   "source": [
    "display(len(train_y_encoded))\n",
    "display(train_y_encoded[:10])\n",
    "\n",
    "display(len(val_y_encoded))\n",
    "display(val_y_encoded[:10])"
   ]
  },
  {
   "cell_type": "code",
   "execution_count": 89,
   "metadata": {},
   "outputs": [],
   "source": [
    "train_features['label'] = train_y_encoded\n",
    "val_features['label'] = val_y_encoded"
   ]
  },
  {
   "cell_type": "code",
   "execution_count": 90,
   "metadata": {},
   "outputs": [
    {
     "data": {
      "text/plain": [
       "{'train': {'melspectrogram': array([[[1.49619878e-04, 9.91906688e-07, 2.48130880e-14, ...,\n",
       "           7.57408160e-14, 2.46620584e-05, 2.42136864e-04],\n",
       "          [1.51059693e-04, 1.00149214e-06, 4.29179038e-14, ...,\n",
       "           1.54229494e-13, 2.47809445e-05, 2.43302732e-04],\n",
       "          [1.53461197e-04, 1.01720986e-06, 7.69849280e-12, ...,\n",
       "           5.91120706e-12, 2.49865924e-05, 2.45357940e-04],\n",
       "          ...,\n",
       "          [8.10535547e-08, 1.13486703e-09, 1.55103726e-10, ...,\n",
       "           9.95547819e-11, 3.92484929e-06, 3.89781243e-05],\n",
       "          [6.54161468e-08, 4.35279562e-10, 1.70086070e-13, ...,\n",
       "           3.73563449e-12, 3.73668669e-06, 3.71356338e-05],\n",
       "          [5.58002542e-08, 3.70017484e-10, 1.19116812e-15, ...,\n",
       "           8.60750760e-15, 3.62438557e-06, 3.60217485e-05]],\n",
       "  \n",
       "         [[2.90496083e-04, 1.33911613e-04, 1.18182281e-11, ...,\n",
       "           2.01018052e-13, 9.45688580e-06, 9.98487150e-05],\n",
       "          [2.97352272e-04, 1.36961177e-04, 1.73004844e-11, ...,\n",
       "           3.01842594e-13, 9.68366781e-06, 1.02240476e-04],\n",
       "          [3.09603415e-04, 1.42404336e-04, 1.77799954e-10, ...,\n",
       "           1.37675250e-11, 1.00828472e-05, 1.06442141e-04],\n",
       "          ...,\n",
       "          [1.54484708e-04, 7.18984910e-05, 4.14699914e-08, ...,\n",
       "           1.58219991e-09, 2.54226264e-07, 2.64916412e-06],\n",
       "          [1.47750369e-04, 6.87573851e-05, 4.90193254e-12, ...,\n",
       "           8.62880407e-12, 2.48109579e-07, 2.58621338e-06],\n",
       "          [1.43521455e-04, 6.67882443e-05, 2.70824804e-13, ...,\n",
       "           4.42811174e-14, 2.43916979e-07, 2.54212398e-06]],\n",
       "  \n",
       "         [[4.55543301e-04, 2.51265742e-06, 3.74917689e-15, ...,\n",
       "           1.07731695e-11, 2.63629131e-04, 1.84378904e-03],\n",
       "          [4.57720031e-04, 2.52440017e-06, 8.09933972e-14, ...,\n",
       "           1.34843580e-11, 2.69018541e-04, 1.88142961e-03],\n",
       "          [4.61220038e-04, 2.54317506e-06, 3.51347962e-12, ...,\n",
       "           5.04255332e-11, 2.78329858e-04, 1.94703837e-03],\n",
       "          ...,\n",
       "          [7.38566487e-05, 4.20170296e-07, 2.71756052e-09, ...,\n",
       "           1.34319028e-08, 3.36025734e-08, 1.87137073e-07],\n",
       "          [6.99262141e-05, 3.90192578e-07, 1.51896078e-11, ...,\n",
       "           2.01339414e-10, 2.94162072e-08, 1.98637239e-07],\n",
       "          [6.78123929e-05, 3.78405969e-07, 3.52410644e-15, ...,\n",
       "           6.11029994e-14, 2.87063791e-08, 1.99999124e-07]],\n",
       "  \n",
       "         ...,\n",
       "  \n",
       "         [[3.16719877e-05, 4.18284470e-06, 6.43660770e-15, ...,\n",
       "           6.78192966e-13, 1.01647866e-04, 3.64188836e-04],\n",
       "          [3.22357957e-05, 4.25725772e-06, 8.96772966e-15, ...,\n",
       "           6.50510038e-12, 1.03226465e-04, 3.69855668e-04],\n",
       "          [3.32204779e-05, 4.38729189e-06, 1.46234737e-14, ...,\n",
       "           6.37281288e-10, 1.05854543e-04, 3.79555963e-04],\n",
       "          ...,\n",
       "          [5.25163910e-06, 7.16321562e-07, 2.19128830e-08, ...,\n",
       "           1.36889009e-06, 2.08129759e-06, 1.14896610e-06],\n",
       "          [2.98257593e-06, 3.94065695e-07, 6.78031371e-11, ...,\n",
       "           8.90791685e-09, 1.79156694e-07, 6.14512607e-07],\n",
       "          [2.12320979e-06, 2.80494599e-07, 3.93791536e-14, ...,\n",
       "           6.28588334e-12, 2.54285150e-07, 9.12619351e-07]],\n",
       "  \n",
       "         [[7.72683498e-04, 2.90188498e-05, 1.21055299e-13, ...,\n",
       "           4.91451430e-12, 5.53259735e-06, 3.32755036e-05],\n",
       "          [7.78764051e-04, 2.92455646e-05, 1.40889727e-13, ...,\n",
       "           6.36688349e-12, 6.78851835e-06, 4.16199996e-05],\n",
       "          [7.89369056e-04, 2.96411564e-05, 1.82558235e-13, ...,\n",
       "           9.23554749e-12, 8.97556779e-06, 5.61530806e-05],\n",
       "          ...,\n",
       "          [1.78372988e-04, 6.77385005e-06, 9.79296369e-08, ...,\n",
       "           2.51244715e-06, 5.60795380e-06, 1.85564957e-05],\n",
       "          [1.54209193e-04, 5.78602686e-06, 1.77489297e-10, ...,\n",
       "           1.66792476e-08, 2.09425941e-06, 1.38898478e-05],\n",
       "          [1.41708970e-04, 5.31689707e-06, 1.60120213e-13, ...,\n",
       "           1.12030717e-11, 1.90777858e-06, 1.27551553e-05]],\n",
       "  \n",
       "         [[1.18239839e-04, 9.65759242e-06, 1.23768972e-15, ...,\n",
       "           2.95977284e-12, 1.21856678e-04, 6.80282825e-04],\n",
       "          [1.19354130e-04, 9.74896568e-06, 4.63237625e-15, ...,\n",
       "           6.71593215e-12, 1.22549189e-04, 6.84045005e-04],\n",
       "          [1.21319751e-04, 9.91052756e-06, 1.07460213e-14, ...,\n",
       "           1.39093571e-09, 1.23811969e-04, 6.90413804e-04],\n",
       "          ...,\n",
       "          [1.84346841e-05, 1.54169828e-06, 2.72332565e-08, ...,\n",
       "           1.62368792e-06, 7.16756460e-06, 2.51358787e-05],\n",
       "          [1.82365547e-05, 1.48900227e-06, 1.45247997e-10, ...,\n",
       "           1.18980145e-08, 3.78444063e-06, 2.11058836e-05],\n",
       "          [1.73240142e-05, 1.41458914e-06, 1.02927910e-13, ...,\n",
       "           6.66239294e-12, 3.52540305e-06, 1.97282380e-05]]]),\n",
       "  'mfcc': array([[[-1.00000000e+00, -1.00000000e+00, -1.00000000e+00, ...,\n",
       "           -1.00000000e+00, -1.00000000e+00, -1.00000000e+00],\n",
       "          [ 8.05976192e-02,  1.65216244e-02, -7.91479448e-02, ...,\n",
       "           -6.91825764e-02,  1.37290793e-02,  5.77092522e-02],\n",
       "          [-4.23311518e-01, -7.31073428e-01, -7.87156824e-01, ...,\n",
       "           -7.59652046e-01, -4.51705154e-01, -3.18959654e-01],\n",
       "          ...,\n",
       "          [-1.44578811e-02, -4.62346896e-02, -4.22424941e-02, ...,\n",
       "           -1.51759736e-02, -6.41552680e-03,  2.01175686e-03],\n",
       "          [ 3.16911199e-02,  3.58021512e-02,  2.30268818e-02, ...,\n",
       "            3.89170159e-02,  2.17698209e-02,  2.13559449e-02],\n",
       "          [-5.20769457e-04,  1.25406318e-02,  1.77409984e-02, ...,\n",
       "           -2.63310812e-02, -1.10730306e-02,  5.23682860e-03]],\n",
       "  \n",
       "         [[-1.00000000e+00, -1.00000000e+00, -1.00000000e+00, ...,\n",
       "           -1.00000000e+00, -1.00000000e+00, -1.00000000e+00],\n",
       "          [ 2.60290819e-02,  2.69100289e-02, -2.48385921e-02, ...,\n",
       "           -6.51855243e-02,  8.12509125e-02,  1.33927187e-01],\n",
       "          [-3.68375618e-01, -4.29691759e-01, -5.15953308e-01, ...,\n",
       "           -6.55322975e-01, -7.27535359e-01, -5.52651037e-01],\n",
       "          ...,\n",
       "          [-2.70068961e-02, -4.88552103e-03, -6.22849737e-03, ...,\n",
       "           -2.44630243e-02, -3.52785317e-03,  7.83893517e-03],\n",
       "          [ 1.62919223e-02,  2.01034311e-02,  1.90959147e-02, ...,\n",
       "            2.98004807e-02,  5.72141597e-02,  4.10230435e-02],\n",
       "          [ 3.49203947e-02,  2.76561755e-02, -8.44578175e-03, ...,\n",
       "           -1.86952370e-02,  3.71476037e-03,  1.37909249e-03]],\n",
       "  \n",
       "         [[-1.00000000e+00, -1.00000000e+00, -1.00000000e+00, ...,\n",
       "           -1.00000000e+00, -1.00000000e+00, -1.00000000e+00],\n",
       "          [ 4.91130444e-02,  3.86468585e-03, -7.49726630e-02, ...,\n",
       "           -2.02843292e-02,  9.86270156e-02,  1.57392080e-01],\n",
       "          [-3.25604847e-01, -6.93143661e-01, -8.37548319e-01, ...,\n",
       "           -4.94116807e-01, -4.12895305e-01, -3.59223702e-01],\n",
       "          ...,\n",
       "          [ 8.89743886e-03, -1.34047819e-02, -7.18242114e-03, ...,\n",
       "            3.25889063e-03, -5.49432601e-03, -1.68520772e-03],\n",
       "          [ 2.50097395e-02,  3.51845224e-02,  3.25046178e-02, ...,\n",
       "            4.17224645e-02,  2.63529008e-02,  1.83242440e-02],\n",
       "          [-4.09717271e-03, -1.62574413e-02, -2.39993400e-02, ...,\n",
       "           -3.17388277e-02, -8.94995402e-03,  5.36006655e-03]],\n",
       "  \n",
       "         ...,\n",
       "  \n",
       "         [[-1.00000000e+00, -1.00000000e+00, -1.00000000e+00, ...,\n",
       "           -1.00000000e+00, -1.00000000e+00, -1.00000000e+00],\n",
       "          [-5.13047641e-02, -1.19228241e-01, -2.80340547e-01, ...,\n",
       "           -5.53463587e-02,  2.37091516e-02,  7.68518616e-02],\n",
       "          [-1.26154308e-01, -2.01252302e-01, -2.90669646e-01, ...,\n",
       "           -4.78868433e-01, -4.34224032e-01, -3.50927781e-01],\n",
       "          ...,\n",
       "          [-6.10020156e-02, -8.06716248e-02, -6.70758040e-02, ...,\n",
       "           -2.51986963e-02, -2.59265025e-02, -2.91863111e-02],\n",
       "          [ 4.56136384e-02,  5.25300867e-02,  3.33680212e-02, ...,\n",
       "            1.43705900e-02,  1.58950316e-02,  1.97894520e-02],\n",
       "          [-2.64002814e-02, -3.21728995e-02, -3.70423458e-02, ...,\n",
       "           -1.70206918e-02, -1.83986117e-02, -1.70000987e-02]],\n",
       "  \n",
       "         [[-1.00000000e+00, -1.00000000e+00, -1.00000000e+00, ...,\n",
       "           -1.00000000e+00, -1.00000000e+00, -1.00000000e+00],\n",
       "          [-5.74711222e-02, -1.26670547e-01, -2.35262343e-01, ...,\n",
       "           -1.22195939e-01, -8.67521230e-02, -3.79083824e-02],\n",
       "          [-6.94564429e-02, -1.36236893e-01, -2.30177013e-01, ...,\n",
       "           -2.71406982e-01, -2.70499902e-01, -2.22388562e-01],\n",
       "          ...,\n",
       "          [-4.79990943e-02, -7.59018022e-02, -7.34869727e-02, ...,\n",
       "           -2.25520168e-02, -1.98166913e-02, -8.02514930e-03],\n",
       "          [-6.83947580e-03, -1.57718148e-03,  1.36142099e-02, ...,\n",
       "           -2.36192538e-02, -8.96105977e-03, -3.83398806e-03],\n",
       "          [ 1.22862027e-02, -3.87375528e-03, -2.51107377e-02, ...,\n",
       "           -3.19652081e-02, -1.96591225e-02, -1.64332849e-02]],\n",
       "  \n",
       "         [[-1.00000000e+00, -1.00000000e+00, -1.00000000e+00, ...,\n",
       "           -1.00000000e+00, -1.00000000e+00, -1.00000000e+00],\n",
       "          [-2.26102138e-03, -8.01771012e-02, -2.84816420e-01, ...,\n",
       "           -5.92673877e-02,  2.63907334e-02,  6.86225058e-02],\n",
       "          [-1.29369379e-01, -2.29996988e-01, -3.75867721e-01, ...,\n",
       "           -5.48615245e-01, -5.02985922e-01, -4.04347168e-01],\n",
       "          ...,\n",
       "          [-7.14124209e-02, -6.85147414e-02, -5.71165429e-02, ...,\n",
       "           -1.91286503e-02, -2.44696887e-02, -2.69962519e-02],\n",
       "          [ 4.96864938e-02,  4.10912904e-02,  1.53086466e-02, ...,\n",
       "            1.52942649e-02,  1.14975092e-02,  2.75549625e-02],\n",
       "          [-4.81405583e-02, -7.17333460e-02, -6.29002059e-02, ...,\n",
       "           -2.13044257e-02, -2.07154391e-02, -1.51041215e-02]]]),\n",
       "  'label': array([ 9,  9,  9, ..., 17, 17, 17])},\n",
       " 'val': {'melspectrogram': array([[[1.84076130e-03, 2.97242671e-04, 7.40060218e-12, ...,\n",
       "           1.19305597e-12, 1.23463433e-04, 8.14621807e-04],\n",
       "          [1.86156487e-03, 3.00602248e-04, 8.74325076e-12, ...,\n",
       "           8.95900944e-12, 1.27103051e-04, 8.38471763e-04],\n",
       "          [1.89783872e-03, 3.06464239e-04, 1.16626410e-11, ...,\n",
       "           6.53638474e-10, 1.33337860e-04, 8.79723841e-04],\n",
       "          ...,\n",
       "          [1.01341649e-05, 1.66688490e-06, 1.01603101e-07, ...,\n",
       "           1.20666494e-06, 1.87250427e-06, 3.07714634e-06],\n",
       "          [7.21003065e-06, 1.16490205e-06, 5.52198187e-10, ...,\n",
       "           6.80171773e-09, 2.45062786e-07, 1.56334936e-06],\n",
       "          [5.89980776e-06, 9.53125589e-07, 3.61782074e-13, ...,\n",
       "           8.48351097e-12, 2.41655007e-07, 1.58739146e-06]],\n",
       "  \n",
       "         [[1.17787348e-04, 2.67663929e-05, 6.44531408e-14, ...,\n",
       "           2.29390699e-11, 2.32210711e-05, 1.37327760e-04],\n",
       "          [1.17316031e-04, 2.66592053e-05, 1.13432974e-13, ...,\n",
       "           3.61452787e-11, 2.36029602e-05, 1.39524100e-04],\n",
       "          [1.16438458e-04, 2.64591696e-05, 2.51025397e-13, ...,\n",
       "           5.85141440e-10, 2.42206102e-05, 1.43161530e-04],\n",
       "          ...,\n",
       "          [1.52606873e-05, 3.52709541e-06, 7.97731305e-08, ...,\n",
       "           2.10925713e-06, 1.86478179e-06, 6.25816296e-06],\n",
       "          [1.37663103e-05, 3.12402468e-06, 4.20739410e-10, ...,\n",
       "           1.00740104e-08, 6.33835375e-07, 3.77554513e-06],\n",
       "          [1.29544957e-05, 2.93956802e-06, 2.38791792e-13, ...,\n",
       "           9.32946884e-12, 5.27290189e-07, 3.16937390e-06]],\n",
       "  \n",
       "         [[3.69169624e-04, 9.49861005e-05, 1.49662781e-11, ...,\n",
       "           8.03796032e-13, 4.95581795e-07, 3.79474106e-06],\n",
       "          [3.79939231e-04, 9.77594896e-05, 1.79898416e-11, ...,\n",
       "           4.87059005e-12, 5.22395555e-07, 4.00988242e-06],\n",
       "          [3.99002047e-04, 1.02671144e-04, 2.45827728e-11, ...,\n",
       "           5.25709721e-10, 5.68902118e-07, 4.37765721e-06],\n",
       "          ...,\n",
       "          [2.75128979e-06, 7.55848052e-07, 1.44197842e-07, ...,\n",
       "           2.09898101e-06, 1.82093689e-05, 1.19455352e-04],\n",
       "          [2.48386388e-06, 6.40247556e-07, 1.47857169e-09, ...,\n",
       "           4.76751436e-09, 1.23208252e-05, 9.40291042e-05],\n",
       "          [2.31869912e-06, 5.96966232e-07, 6.31038425e-13, ...,\n",
       "           5.18592144e-12, 1.06623922e-05, 8.14560472e-05]],\n",
       "  \n",
       "         ...,\n",
       "  \n",
       "         [[4.64337460e-04, 4.33294799e-05, 2.25075850e-13, ...,\n",
       "           1.91166913e-14, 6.01479130e-06, 2.54849004e-04],\n",
       "          [4.67291801e-04, 4.36224336e-05, 3.67371951e-13, ...,\n",
       "           1.24778077e-12, 6.38434798e-06, 2.71040872e-04],\n",
       "          [4.72650351e-04, 4.41491738e-05, 8.77470737e-12, ...,\n",
       "           1.73494099e-10, 7.02336636e-06, 2.99074464e-04],\n",
       "          ...,\n",
       "          [4.24258574e-05, 4.05664533e-06, 6.05310235e-08, ...,\n",
       "           3.55498714e-08, 6.00091473e-06, 2.62253455e-04],\n",
       "          [2.76656179e-05, 2.56428004e-06, 2.21805830e-10, ...,\n",
       "           2.18817855e-10, 5.41358393e-06, 2.41452182e-04],\n",
       "          [1.93359916e-05, 1.79651360e-06, 3.01392432e-13, ...,\n",
       "           2.02232256e-13, 5.26019323e-06, 2.34449600e-04]],\n",
       "  \n",
       "         [[3.75044855e-04, 7.64634977e-06, 1.58006102e-14, ...,\n",
       "           6.67368568e-14, 2.39278410e-05, 1.83315108e-04],\n",
       "          [3.85298328e-04, 7.85287064e-06, 2.20025135e-13, ...,\n",
       "           9.05813032e-12, 2.56190100e-05, 1.95850667e-04],\n",
       "          [4.03319021e-04, 8.21415971e-06, 8.64684395e-12, ...,\n",
       "           1.35562600e-10, 2.85869522e-05, 2.17900843e-04],\n",
       "          ...,\n",
       "          [5.74641382e-05, 1.29174204e-06, 7.79538689e-08, ...,\n",
       "           6.75089481e-07, 6.00841291e-06, 3.87361089e-05],\n",
       "          [4.50413680e-05, 9.44531953e-07, 2.18882140e-10, ...,\n",
       "           4.94040362e-09, 4.08211585e-06, 2.97581662e-05],\n",
       "          [3.80436284e-05, 7.97041672e-07, 1.16489584e-13, ...,\n",
       "           5.16946062e-12, 3.60696079e-06, 2.63103553e-05]],\n",
       "  \n",
       "         [[3.76151200e-04, 3.73859640e-05, 1.85239759e-12, ...,\n",
       "           2.52427063e-14, 3.00140674e-07, 1.37883475e-05],\n",
       "          [4.00081575e-04, 3.98469585e-05, 4.49338260e-12, ...,\n",
       "           1.10582988e-13, 3.41005713e-07, 1.55157448e-05],\n",
       "          [4.41743341e-04, 4.41457585e-05, 2.66506036e-11, ...,\n",
       "           2.53664313e-11, 4.10392759e-07, 1.84105641e-05],\n",
       "          ...,\n",
       "          [3.71816195e-04, 3.96346968e-05, 7.27970069e-07, ...,\n",
       "           5.68030525e-08, 8.18082631e-07, 1.91565522e-05],\n",
       "          [3.58032660e-04, 3.74120698e-05, 3.07817624e-09, ...,\n",
       "           2.58978338e-10, 4.32498312e-07, 1.79957842e-05],\n",
       "          [3.46922063e-04, 3.62252993e-05, 3.84792380e-12, ...,\n",
       "           2.18644641e-13, 4.20707783e-07, 1.76150392e-05]]]),\n",
       "  'mfcc': array([[[-1.00000000e+00, -1.00000000e+00, -1.00000000e+00, ...,\n",
       "           -1.00000000e+00, -1.00000000e+00, -1.00000000e+00],\n",
       "          [ 2.61779438e-01,  5.65274874e-02, -3.29957127e-01, ...,\n",
       "           -4.32053439e-02,  3.57253604e-03,  5.83605181e-02],\n",
       "          [-6.05828947e-01, -6.83816948e-01, -7.37919014e-01, ...,\n",
       "           -4.07196683e-01, -3.69629912e-01, -2.94805581e-01],\n",
       "          ...,\n",
       "          [ 8.38597347e-02,  9.01772705e-02,  2.28971915e-02, ...,\n",
       "           -1.15139382e-02, -1.02922373e-02, -5.65867530e-04],\n",
       "          [ 7.61018264e-02,  1.05172219e-01,  6.12936570e-02, ...,\n",
       "            1.34566533e-02,  2.53862048e-02,  3.51619035e-02],\n",
       "          [-2.57656314e-01, -2.63538975e-01, -1.14549517e-01, ...,\n",
       "           -3.04053385e-02, -2.01631985e-02, -4.91708038e-03]],\n",
       "  \n",
       "         [[-1.00000000e+00, -1.00000000e+00, -1.00000000e+00, ...,\n",
       "           -1.00000000e+00, -1.00000000e+00, -1.00000000e+00],\n",
       "          [-5.74245275e-02, -1.86788242e-01, -3.06985626e-01, ...,\n",
       "           -4.87920319e-02, -1.33042963e-02,  4.32411902e-02],\n",
       "          [-5.03727902e-01, -6.50660087e-01, -6.95564994e-01, ...,\n",
       "           -4.61466904e-01, -4.40348450e-01, -3.72248436e-01],\n",
       "          ...,\n",
       "          [ 6.37078943e-02,  4.78735193e-02,  9.93554493e-03, ...,\n",
       "           -2.41840359e-02, -2.16291978e-02,  7.78885239e-04],\n",
       "          [ 1.16562987e-01,  1.65626129e-01,  1.18745713e-01, ...,\n",
       "            1.22372129e-02,  3.59841346e-03,  6.23982574e-03],\n",
       "          [-1.90460088e-01, -1.82960447e-01, -8.10073673e-02, ...,\n",
       "           -2.38991935e-02, -2.59067672e-02, -2.38912917e-02]],\n",
       "  \n",
       "         [[-1.00000000e+00, -1.00000000e+00, -1.00000000e+00, ...,\n",
       "           -1.00000000e+00, -1.00000000e+00, -1.00000000e+00],\n",
       "          [ 1.86307877e-01,  9.39787766e-03, -3.09962337e-01, ...,\n",
       "           -3.27569889e-02, -3.73927791e-02, -5.11774328e-02],\n",
       "          [-6.58521836e-01, -8.09546318e-01, -7.48184109e-01, ...,\n",
       "           -4.06839958e-01, -4.20897803e-01, -3.61462230e-01],\n",
       "          ...,\n",
       "          [ 2.00373350e-02,  4.11353714e-02,  1.53098953e-02, ...,\n",
       "           -2.58987777e-02, -2.16500429e-02, -1.38622348e-02],\n",
       "          [ 1.73380272e-01,  1.80210953e-01,  9.42184173e-02, ...,\n",
       "            3.62135780e-03,  5.63248147e-03,  3.92694142e-03],\n",
       "          [-2.16437723e-01, -2.33301592e-01, -9.02919275e-02, ...,\n",
       "           -2.73820783e-02, -2.44520186e-02, -9.37881345e-03]],\n",
       "  \n",
       "         ...,\n",
       "  \n",
       "         [[-1.00000000e+00, -1.00000000e+00, -1.00000000e+00, ...,\n",
       "           -1.00000000e+00, -1.00000000e+00, -1.00000000e+00],\n",
       "          [-3.58561594e-03, -3.83796002e-02, -1.59689560e-01, ...,\n",
       "           -4.46514409e-02, -2.80920763e-02, -3.12205547e-02],\n",
       "          [-3.86935546e-01, -5.43903932e-01, -7.02241654e-01, ...,\n",
       "           -7.24347366e-01, -5.60265725e-01, -2.74852970e-01],\n",
       "          ...,\n",
       "          [ 5.36763649e-03, -1.13237537e-02, -2.04433984e-02, ...,\n",
       "           -1.72881528e-02, -2.11770704e-02, -1.11679756e-02],\n",
       "          [ 1.88261606e-02,  1.81097189e-02,  1.54509356e-02, ...,\n",
       "           -9.76732808e-03, -1.16216564e-02, -6.68977131e-03],\n",
       "          [-9.90889362e-03, -1.34922261e-02, -3.41973471e-02, ...,\n",
       "           -3.30135344e-02, -3.25544498e-02, -1.38859892e-02]],\n",
       "  \n",
       "         [[-1.00000000e+00, -1.00000000e+00, -1.00000000e+00, ...,\n",
       "           -1.00000000e+00, -1.00000000e+00, -1.00000000e+00],\n",
       "          [-6.48288491e-03, -5.19195150e-03, -1.15946159e-01, ...,\n",
       "           -1.03637157e-01, -4.36334616e-02, -3.94339864e-03],\n",
       "          [-3.84605458e-01, -7.31827593e-01, -8.63209042e-01, ...,\n",
       "           -3.94192827e-01, -3.11077504e-01, -2.09064089e-01],\n",
       "          ...,\n",
       "          [-2.71578909e-02, -1.72509573e-02, -9.04134493e-03, ...,\n",
       "           -1.03569087e-02, -1.50861025e-02, -1.56886398e-02],\n",
       "          [ 1.01353501e-02,  1.66944318e-02,  1.25408571e-02, ...,\n",
       "            1.14357175e-02,  6.58673774e-03,  2.45878877e-03],\n",
       "          [-1.74439235e-02, -2.69890785e-02, -3.21737583e-02, ...,\n",
       "           -5.35758440e-03, -7.53084216e-03, -1.14412035e-02]],\n",
       "  \n",
       "         [[-1.00000000e+00, -1.00000000e+00, -1.00000000e+00, ...,\n",
       "           -1.00000000e+00, -1.00000000e+00, -1.00000000e+00],\n",
       "          [-1.13151358e-02, -5.07395434e-02, -1.14106404e-01, ...,\n",
       "           -2.30035030e-02, -5.37580123e-02, -6.62910127e-02],\n",
       "          [-1.77895643e-01, -2.84559430e-01, -4.02259714e-01, ...,\n",
       "           -6.28093339e-01, -4.62303114e-01, -3.14746928e-01],\n",
       "          ...,\n",
       "          [-2.12650739e-02, -1.94306965e-02, -7.52820729e-03, ...,\n",
       "           -1.92081251e-02, -1.31516762e-02, -4.64893500e-03],\n",
       "          [ 1.33500599e-02,  1.23813828e-02,  1.27569466e-02, ...,\n",
       "           -1.30828718e-02,  1.78683352e-03,  2.53016042e-02],\n",
       "          [-4.79920208e-03,  1.51259335e-03, -1.92752386e-02, ...,\n",
       "           -6.53529604e-02, -4.56770518e-02, -1.72171995e-02]]]),\n",
       "  'label': array([14, 14, 14, ...,  4,  4,  4])}}"
      ]
     },
     "execution_count": 90,
     "metadata": {},
     "output_type": "execute_result"
    }
   ],
   "source": [
    "merged_dict = {'train': train_features, 'val': val_features}\n",
    "merged_dict"
   ]
  },
  {
   "cell_type": "markdown",
   "metadata": {},
   "source": [
    "### Save the merged dictionary to a pkl"
   ]
  },
  {
   "cell_type": "code",
   "execution_count": 91,
   "metadata": {},
   "outputs": [],
   "source": [
    "with open('C:/Users/thato/Documents/Final-Year-Project/Dataset/Project-V4/feature-extraction/Annotated/NotAveragePooled/split_features_1s_mel_mfcc.pkl', 'wb') as file:\n",
    "  pickle.dump(merged_dict, file)"
   ]
  },
  {
   "cell_type": "markdown",
   "metadata": {},
   "source": [
    "### **['melspectrogram', 'mfcc', 'chroma']**"
   ]
  },
  {
   "cell_type": "code",
   "execution_count": 92,
   "metadata": {},
   "outputs": [],
   "source": [
    "features_list = ['melspectrogram', 'mfcc', 'chroma']"
   ]
  },
  {
   "cell_type": "code",
   "execution_count": 93,
   "metadata": {},
   "outputs": [
    {
     "name": "stdout",
     "output_type": "stream",
     "text": [
      "Train DataFrame shape: (3444, 9)\n",
      "Validation DataFrame shape: (834, 9)\n",
      "Number of rows in dataframe: 3444\n"
     ]
    },
    {
     "name": "stderr",
     "output_type": "stream",
     "text": [
      "Processing data:  35%|███▍      | 1197/3444 [00:50<00:58, 38.22it/s]c:\\Users\\thato\\AppData\\Local\\Programs\\Python\\Python312\\Lib\\site-packages\\librosa\\core\\pitch.py:101: UserWarning: Trying to estimate tuning from empty frequency set.\n",
      "  return pitch_tuning(\n",
      "Processing data: 100%|██████████| 3444/3444 [02:20<00:00, 24.49it/s]\n"
     ]
    },
    {
     "name": "stdout",
     "output_type": "stream",
     "text": [
      "Number of rows in dataframe: 834\n"
     ]
    },
    {
     "name": "stderr",
     "output_type": "stream",
     "text": [
      "Processing data: 100%|██████████| 834/834 [00:37<00:00, 22.29it/s]\n"
     ]
    }
   ],
   "source": [
    "features = Extraction(train_data,\n",
    "                      val_data,\n",
    "                      window_size=1,\n",
    "                      features=features_list,\n",
    "                      avgpool=False\n",
    "                      )"
   ]
  },
  {
   "cell_type": "code",
   "execution_count": 94,
   "metadata": {},
   "outputs": [
    {
     "data": {
      "text/plain": [
       "(12565,)"
      ]
     },
     "metadata": {},
     "output_type": "display_data"
    },
    {
     "data": {
      "text/plain": [
       "'melspectrogram'"
      ]
     },
     "metadata": {},
     "output_type": "display_data"
    },
    {
     "data": {
      "text/plain": [
       "(12565, 60, 44)"
      ]
     },
     "metadata": {},
     "output_type": "display_data"
    },
    {
     "data": {
      "text/plain": [
       "'mfcc'"
      ]
     },
     "metadata": {},
     "output_type": "display_data"
    },
    {
     "data": {
      "text/plain": [
       "(12565, 20, 44)"
      ]
     },
     "metadata": {},
     "output_type": "display_data"
    },
    {
     "data": {
      "text/plain": [
       "'chroma'"
      ]
     },
     "metadata": {},
     "output_type": "display_data"
    },
    {
     "data": {
      "text/plain": [
       "(12565, 12, 44)"
      ]
     },
     "metadata": {},
     "output_type": "display_data"
    }
   ],
   "source": [
    "train_y = features.train_y\n",
    "display(train_y.shape)\n",
    "\n",
    "train_features = features.train_features\n",
    "for key in train_features.keys():\n",
    "  display(key)\n",
    "  display(train_features[key].shape)"
   ]
  },
  {
   "cell_type": "code",
   "execution_count": 95,
   "metadata": {},
   "outputs": [
    {
     "data": {
      "text/plain": [
       "(3318,)"
      ]
     },
     "metadata": {},
     "output_type": "display_data"
    },
    {
     "data": {
      "text/plain": [
       "'melspectrogram'"
      ]
     },
     "metadata": {},
     "output_type": "display_data"
    },
    {
     "data": {
      "text/plain": [
       "(3318, 60, 44)"
      ]
     },
     "metadata": {},
     "output_type": "display_data"
    },
    {
     "data": {
      "text/plain": [
       "'mfcc'"
      ]
     },
     "metadata": {},
     "output_type": "display_data"
    },
    {
     "data": {
      "text/plain": [
       "(3318, 20, 44)"
      ]
     },
     "metadata": {},
     "output_type": "display_data"
    },
    {
     "data": {
      "text/plain": [
       "'chroma'"
      ]
     },
     "metadata": {},
     "output_type": "display_data"
    },
    {
     "data": {
      "text/plain": [
       "(3318, 12, 44)"
      ]
     },
     "metadata": {},
     "output_type": "display_data"
    }
   ],
   "source": [
    "val_y = features.val_y\n",
    "display(val_y.shape)\n",
    "\n",
    "val_features = features.val_features\n",
    "for key in val_features.keys():\n",
    "  display(key)\n",
    "  display(val_features[key].shape)"
   ]
  },
  {
   "cell_type": "markdown",
   "metadata": {},
   "source": [
    "### Encode Classes"
   ]
  },
  {
   "cell_type": "code",
   "execution_count": 96,
   "metadata": {},
   "outputs": [
    {
     "name": "stdout",
     "output_type": "stream",
     "text": [
      "Encoded classes for [0, 1, 2]: ['Acrocephalus arundinaceus', 'Acrocephalus melanopogon', 'Acrocephalus scirpaceus']\n",
      "Encoded training labels: [ 9  9  9 ... 17 17 17]\n",
      "Encoded validation labels: [14 14 14 ...  4  4  4]\n"
     ]
    }
   ],
   "source": [
    "label_encoder = LabelEncoder().fit(train_y)\n",
    "train_y_encoded = label_encoder.transform(train_y)\n",
    "val_y_encoded = label_encoder.transform(val_y)\n",
    "\n",
    "classes = list(label_encoder.inverse_transform([0, 1, 2]))\n",
    "print(\"Encoded classes for [0, 1, 2]:\", classes)\n",
    "print(\"Encoded training labels:\", train_y_encoded)\n",
    "print(\"Encoded validation labels:\", val_y_encoded)"
   ]
  },
  {
   "cell_type": "code",
   "execution_count": 97,
   "metadata": {},
   "outputs": [
    {
     "data": {
      "text/plain": [
       "12565"
      ]
     },
     "metadata": {},
     "output_type": "display_data"
    },
    {
     "data": {
      "text/plain": [
       "array([9, 9, 9, 9, 9, 9, 9, 9, 9, 9])"
      ]
     },
     "metadata": {},
     "output_type": "display_data"
    },
    {
     "data": {
      "text/plain": [
       "3318"
      ]
     },
     "metadata": {},
     "output_type": "display_data"
    },
    {
     "data": {
      "text/plain": [
       "array([14, 14, 14, 14, 14, 14, 10, 10, 10, 10])"
      ]
     },
     "metadata": {},
     "output_type": "display_data"
    }
   ],
   "source": [
    "display(len(train_y_encoded))\n",
    "display(train_y_encoded[:10])\n",
    "\n",
    "display(len(val_y_encoded))\n",
    "display(val_y_encoded[:10])"
   ]
  },
  {
   "cell_type": "code",
   "execution_count": 98,
   "metadata": {},
   "outputs": [],
   "source": [
    "train_features['label'] = train_y_encoded\n",
    "val_features['label'] = val_y_encoded"
   ]
  },
  {
   "cell_type": "code",
   "execution_count": 99,
   "metadata": {},
   "outputs": [
    {
     "data": {
      "text/plain": [
       "{'train': {'melspectrogram': array([[[1.49619878e-04, 9.91906688e-07, 2.48130880e-14, ...,\n",
       "           7.57408160e-14, 2.46620584e-05, 2.42136864e-04],\n",
       "          [1.51059693e-04, 1.00149214e-06, 4.29179038e-14, ...,\n",
       "           1.54229494e-13, 2.47809445e-05, 2.43302732e-04],\n",
       "          [1.53461197e-04, 1.01720986e-06, 7.69849280e-12, ...,\n",
       "           5.91120706e-12, 2.49865924e-05, 2.45357940e-04],\n",
       "          ...,\n",
       "          [8.10535547e-08, 1.13486703e-09, 1.55103726e-10, ...,\n",
       "           9.95547819e-11, 3.92484929e-06, 3.89781243e-05],\n",
       "          [6.54161468e-08, 4.35279562e-10, 1.70086070e-13, ...,\n",
       "           3.73563449e-12, 3.73668669e-06, 3.71356338e-05],\n",
       "          [5.58002542e-08, 3.70017484e-10, 1.19116812e-15, ...,\n",
       "           8.60750760e-15, 3.62438557e-06, 3.60217485e-05]],\n",
       "  \n",
       "         [[2.90496083e-04, 1.33911613e-04, 1.18182281e-11, ...,\n",
       "           2.01018052e-13, 9.45688580e-06, 9.98487150e-05],\n",
       "          [2.97352272e-04, 1.36961177e-04, 1.73004844e-11, ...,\n",
       "           3.01842594e-13, 9.68366781e-06, 1.02240476e-04],\n",
       "          [3.09603415e-04, 1.42404336e-04, 1.77799954e-10, ...,\n",
       "           1.37675250e-11, 1.00828472e-05, 1.06442141e-04],\n",
       "          ...,\n",
       "          [1.54484708e-04, 7.18984910e-05, 4.14699914e-08, ...,\n",
       "           1.58219991e-09, 2.54226264e-07, 2.64916412e-06],\n",
       "          [1.47750369e-04, 6.87573851e-05, 4.90193254e-12, ...,\n",
       "           8.62880407e-12, 2.48109579e-07, 2.58621338e-06],\n",
       "          [1.43521455e-04, 6.67882443e-05, 2.70824804e-13, ...,\n",
       "           4.42811174e-14, 2.43916979e-07, 2.54212398e-06]],\n",
       "  \n",
       "         [[4.55543301e-04, 2.51265742e-06, 3.74917689e-15, ...,\n",
       "           1.07731695e-11, 2.63629131e-04, 1.84378904e-03],\n",
       "          [4.57720031e-04, 2.52440017e-06, 8.09933972e-14, ...,\n",
       "           1.34843580e-11, 2.69018541e-04, 1.88142961e-03],\n",
       "          [4.61220038e-04, 2.54317506e-06, 3.51347962e-12, ...,\n",
       "           5.04255332e-11, 2.78329858e-04, 1.94703837e-03],\n",
       "          ...,\n",
       "          [7.38566487e-05, 4.20170296e-07, 2.71756052e-09, ...,\n",
       "           1.34319028e-08, 3.36025734e-08, 1.87137073e-07],\n",
       "          [6.99262141e-05, 3.90192578e-07, 1.51896078e-11, ...,\n",
       "           2.01339414e-10, 2.94162072e-08, 1.98637239e-07],\n",
       "          [6.78123929e-05, 3.78405969e-07, 3.52410644e-15, ...,\n",
       "           6.11029994e-14, 2.87063791e-08, 1.99999124e-07]],\n",
       "  \n",
       "         ...,\n",
       "  \n",
       "         [[3.16719877e-05, 4.18284470e-06, 6.43660776e-15, ...,\n",
       "           8.04039708e-13, 2.15315941e-03, 2.16254106e-02],\n",
       "          [3.22357957e-05, 4.25725772e-06, 8.96772964e-15, ...,\n",
       "           7.64839907e-12, 2.20541154e-03, 2.21490080e-02],\n",
       "          [3.32204779e-05, 4.38729189e-06, 1.46234737e-14, ...,\n",
       "           1.13325035e-09, 2.29743838e-03, 2.30691697e-02],\n",
       "          ...,\n",
       "          [5.25163910e-06, 7.16321562e-07, 2.19128830e-08, ...,\n",
       "           2.14545834e-06, 2.86207805e-06, 8.63531731e-06],\n",
       "          [2.98257593e-06, 3.94065695e-07, 6.78031371e-11, ...,\n",
       "           7.35699679e-09, 4.87838672e-07, 4.83437653e-06],\n",
       "          [2.12320979e-06, 2.80494599e-07, 3.93791536e-14, ...,\n",
       "           1.01012398e-11, 4.18172393e-07, 4.18383002e-06]],\n",
       "  \n",
       "         [[7.72683498e-04, 2.90188498e-05, 1.21055299e-13, ...,\n",
       "           4.91451430e-12, 5.53259735e-06, 3.32755036e-05],\n",
       "          [7.78764051e-04, 2.92455646e-05, 1.40889727e-13, ...,\n",
       "           6.36688349e-12, 6.78851835e-06, 4.16199996e-05],\n",
       "          [7.89369056e-04, 2.96411564e-05, 1.82558235e-13, ...,\n",
       "           9.23554749e-12, 8.97556779e-06, 5.61530806e-05],\n",
       "          ...,\n",
       "          [1.78372988e-04, 6.77385005e-06, 9.79296369e-08, ...,\n",
       "           2.51244715e-06, 5.60795380e-06, 1.85564957e-05],\n",
       "          [1.54209193e-04, 5.78602686e-06, 1.77489297e-10, ...,\n",
       "           1.66792476e-08, 2.09425941e-06, 1.38898478e-05],\n",
       "          [1.41708970e-04, 5.31689707e-06, 1.60120213e-13, ...,\n",
       "           1.12030717e-11, 1.90777858e-06, 1.27551553e-05]],\n",
       "  \n",
       "         [[1.18239839e-04, 9.65759242e-06, 1.23768972e-15, ...,\n",
       "           5.39045681e-13, 2.94454767e-05, 2.13716873e-04],\n",
       "          [1.19354130e-04, 9.74896568e-06, 4.63237625e-15, ...,\n",
       "           3.17097141e-12, 2.97045959e-05, 2.15436007e-04],\n",
       "          [1.21319751e-04, 9.91052756e-06, 1.07460213e-14, ...,\n",
       "           2.94558072e-10, 3.01510608e-05, 2.18287341e-04],\n",
       "          ...,\n",
       "          [1.84346841e-05, 1.54169828e-06, 2.72332565e-08, ...,\n",
       "           8.60541137e-07, 1.30267341e-06, 2.83556576e-06],\n",
       "          [1.82365547e-05, 1.48900227e-06, 1.45247997e-10, ...,\n",
       "           5.11689864e-09, 2.33778674e-07, 1.69006477e-06],\n",
       "          [1.73240142e-05, 1.41458914e-06, 1.02927910e-13, ...,\n",
       "           3.64647424e-12, 2.20263856e-07, 1.62472943e-06]]]),\n",
       "  'mfcc': array([[[-1.00000000e+00, -1.00000000e+00, -1.00000000e+00, ...,\n",
       "           -1.00000000e+00, -1.00000000e+00, -1.00000000e+00],\n",
       "          [ 8.05976192e-02,  1.65216244e-02, -7.91479448e-02, ...,\n",
       "           -6.91825764e-02,  1.37290793e-02,  5.77092522e-02],\n",
       "          [-4.23311518e-01, -7.31073428e-01, -7.87156824e-01, ...,\n",
       "           -7.59652046e-01, -4.51705154e-01, -3.18959654e-01],\n",
       "          ...,\n",
       "          [-1.44578811e-02, -4.62346896e-02, -4.22424941e-02, ...,\n",
       "           -1.51759736e-02, -6.41552680e-03,  2.01175686e-03],\n",
       "          [ 3.16911199e-02,  3.58021512e-02,  2.30268818e-02, ...,\n",
       "            3.89170159e-02,  2.17698209e-02,  2.13559449e-02],\n",
       "          [-5.20769457e-04,  1.25406318e-02,  1.77409984e-02, ...,\n",
       "           -2.63310812e-02, -1.10730306e-02,  5.23682860e-03]],\n",
       "  \n",
       "         [[-1.00000000e+00, -1.00000000e+00, -1.00000000e+00, ...,\n",
       "           -1.00000000e+00, -1.00000000e+00, -1.00000000e+00],\n",
       "          [ 2.60290819e-02,  2.69100289e-02, -2.48385921e-02, ...,\n",
       "           -6.51855243e-02,  8.12509125e-02,  1.33927187e-01],\n",
       "          [-3.68375618e-01, -4.29691759e-01, -5.15953308e-01, ...,\n",
       "           -6.55322975e-01, -7.27535359e-01, -5.52651037e-01],\n",
       "          ...,\n",
       "          [-2.70068961e-02, -4.88552103e-03, -6.22849737e-03, ...,\n",
       "           -2.44630243e-02, -3.52785317e-03,  7.83893517e-03],\n",
       "          [ 1.62919223e-02,  2.01034311e-02,  1.90959147e-02, ...,\n",
       "            2.98004807e-02,  5.72141597e-02,  4.10230435e-02],\n",
       "          [ 3.49203947e-02,  2.76561755e-02, -8.44578175e-03, ...,\n",
       "           -1.86952370e-02,  3.71476037e-03,  1.37909249e-03]],\n",
       "  \n",
       "         [[-1.00000000e+00, -1.00000000e+00, -1.00000000e+00, ...,\n",
       "           -1.00000000e+00, -1.00000000e+00, -1.00000000e+00],\n",
       "          [ 4.91130444e-02,  3.86468585e-03, -7.49726630e-02, ...,\n",
       "           -2.02843292e-02,  9.86270156e-02,  1.57392080e-01],\n",
       "          [-3.25604847e-01, -6.93143661e-01, -8.37548319e-01, ...,\n",
       "           -4.94116807e-01, -4.12895305e-01, -3.59223702e-01],\n",
       "          ...,\n",
       "          [ 8.89743886e-03, -1.34047819e-02, -7.18242114e-03, ...,\n",
       "            3.25889063e-03, -5.49432601e-03, -1.68520772e-03],\n",
       "          [ 2.50097395e-02,  3.51845224e-02,  3.25046178e-02, ...,\n",
       "            4.17224645e-02,  2.63529008e-02,  1.83242440e-02],\n",
       "          [-4.09717271e-03, -1.62574413e-02, -2.39993400e-02, ...,\n",
       "           -3.17388277e-02, -8.94995402e-03,  5.36006655e-03]],\n",
       "  \n",
       "         ...,\n",
       "  \n",
       "         [[-1.00000000e+00, -1.00000000e+00, -1.00000000e+00, ...,\n",
       "           -1.00000000e+00, -1.00000000e+00, -1.00000000e+00],\n",
       "          [-5.13047641e-02, -1.19228241e-01, -2.80340547e-01, ...,\n",
       "           -5.61764416e-02,  1.08357421e-01,  1.87824800e-01],\n",
       "          [-1.26154308e-01, -2.01252302e-01, -2.90669646e-01, ...,\n",
       "           -4.49872469e-01, -3.64994084e-01, -2.83776802e-01],\n",
       "          ...,\n",
       "          [-6.10020156e-02, -8.06716248e-02, -6.70758040e-02, ...,\n",
       "           -1.32995206e-02, -9.94226280e-03, -1.26457273e-02],\n",
       "          [ 4.56136384e-02,  5.25300867e-02,  3.33680212e-02, ...,\n",
       "            7.76801723e-03,  1.78569913e-02,  9.93442953e-03],\n",
       "          [-2.64002814e-02, -3.21728995e-02, -3.70423458e-02, ...,\n",
       "           -2.41883126e-02, -2.55221692e-02, -2.30603018e-02]],\n",
       "  \n",
       "         [[-1.00000000e+00, -1.00000000e+00, -1.00000000e+00, ...,\n",
       "           -1.00000000e+00, -1.00000000e+00, -1.00000000e+00],\n",
       "          [-5.74711222e-02, -1.26670547e-01, -2.35262343e-01, ...,\n",
       "           -1.22195939e-01, -8.67521230e-02, -3.79083824e-02],\n",
       "          [-6.94564429e-02, -1.36236893e-01, -2.30177013e-01, ...,\n",
       "           -2.71406982e-01, -2.70499902e-01, -2.22388562e-01],\n",
       "          ...,\n",
       "          [-4.79990943e-02, -7.59018022e-02, -7.34869727e-02, ...,\n",
       "           -2.25520168e-02, -1.98166913e-02, -8.02514930e-03],\n",
       "          [-6.83947580e-03, -1.57718148e-03,  1.36142099e-02, ...,\n",
       "           -2.36192538e-02, -8.96105977e-03, -3.83398806e-03],\n",
       "          [ 1.22862027e-02, -3.87375528e-03, -2.51107377e-02, ...,\n",
       "           -3.19652081e-02, -1.96591225e-02, -1.64332849e-02]],\n",
       "  \n",
       "         [[-1.00000000e+00, -1.00000000e+00, -1.00000000e+00, ...,\n",
       "           -1.00000000e+00, -1.00000000e+00, -1.00000000e+00],\n",
       "          [-2.26102138e-03, -8.01771012e-02, -2.84816420e-01, ...,\n",
       "           -5.82750707e-02,  5.62512002e-03,  5.77083953e-02],\n",
       "          [-1.29369379e-01, -2.29996988e-01, -3.75867721e-01, ...,\n",
       "           -5.45285361e-01, -5.15615001e-01, -4.23070685e-01],\n",
       "          ...,\n",
       "          [-7.14124209e-02, -6.85147414e-02, -5.71165429e-02, ...,\n",
       "           -8.18516001e-03, -1.46744777e-02, -1.15350059e-02],\n",
       "          [ 4.96864938e-02,  4.10912904e-02,  1.53086466e-02, ...,\n",
       "            1.42407744e-02,  2.18593194e-02,  1.31700298e-02],\n",
       "          [-4.81405583e-02, -7.17333460e-02, -6.29002059e-02, ...,\n",
       "           -2.52601710e-02, -2.63877388e-02, -2.39351795e-02]]]),\n",
       "  'chroma': array([[[4.06509705e-01, 2.84089190e-01, 2.26621404e-01, ...,\n",
       "           2.82009621e-01, 3.09743463e-01, 1.72762886e-01],\n",
       "          [4.32658081e-01, 2.64174891e-01, 2.44474347e-01, ...,\n",
       "           3.83770735e-01, 3.45727937e-01, 1.40932799e-01],\n",
       "          [1.00000000e+00, 1.00000000e+00, 9.64855963e-01, ...,\n",
       "           1.00000000e+00, 6.21680271e-01, 3.80715233e-01],\n",
       "          ...,\n",
       "          [3.37044642e-01, 2.11615299e-01, 2.11958408e-01, ...,\n",
       "           3.38548858e-01, 4.57281385e-01, 2.26087200e-01],\n",
       "          [1.94685345e-01, 1.32866414e-01, 1.16713108e-01, ...,\n",
       "           1.95481979e-01, 2.68676173e-01, 1.34359500e-01],\n",
       "          [3.18288776e-01, 2.26499278e-01, 1.80509442e-01, ...,\n",
       "           1.76376695e-01, 2.19471566e-01, 9.45705151e-02]],\n",
       "  \n",
       "         [[2.53718952e-01, 3.48794710e-01, 2.90980943e-01, ...,\n",
       "           3.04654147e-01, 2.42582641e-01, 2.01908239e-01],\n",
       "          [2.79048288e-01, 3.65825787e-01, 3.87829487e-01, ...,\n",
       "           3.55339593e-01, 2.44053016e-01, 1.85640885e-01],\n",
       "          [5.32030762e-01, 9.86547005e-01, 1.00000000e+00, ...,\n",
       "           4.97810877e-01, 3.80001048e-01, 3.15251937e-01],\n",
       "          ...,\n",
       "          [3.40039018e-01, 3.85886494e-01, 4.21004046e-01, ...,\n",
       "           1.00000000e+00, 1.00000000e+00, 1.00000000e+00],\n",
       "          [2.59473241e-01, 2.74460592e-01, 4.02019582e-01, ...,\n",
       "           3.18817167e-01, 2.90842800e-01, 2.59163327e-01],\n",
       "          [2.69917821e-01, 3.10501050e-01, 3.46920342e-01, ...,\n",
       "           2.30307156e-01, 1.74096879e-01, 1.40626154e-01]],\n",
       "  \n",
       "         [[2.91109375e-01, 3.03765632e-01, 2.73274663e-01, ...,\n",
       "           1.37664047e-01, 4.47444214e-01, 5.55059898e-01],\n",
       "          [5.00754885e-01, 4.20773244e-01, 3.52631848e-01, ...,\n",
       "           1.51496774e-01, 5.26314640e-01, 7.34931932e-01],\n",
       "          [8.01951235e-01, 1.00000000e+00, 1.00000000e+00, ...,\n",
       "           2.09640767e-01, 4.35293679e-01, 5.64296501e-01],\n",
       "          ...,\n",
       "          [3.31242384e-01, 2.89085849e-01, 3.04803634e-01, ...,\n",
       "           1.00000000e+00, 1.00000000e+00, 7.12031413e-01],\n",
       "          [4.15728266e-01, 2.04398042e-01, 1.89175312e-01, ...,\n",
       "           5.68249707e-01, 8.35985309e-01, 5.83282288e-01],\n",
       "          [4.15318666e-01, 2.30773953e-01, 1.88096448e-01, ...,\n",
       "           2.23192116e-01, 5.05966796e-01, 5.52011216e-01]],\n",
       "  \n",
       "         ...,\n",
       "  \n",
       "         [[3.94672246e-03, 2.84035397e-03, 1.29866885e-03, ...,\n",
       "           7.37383118e-01, 1.00000000e+00, 9.22796102e-01],\n",
       "          [2.78799649e-03, 1.55684998e-03, 6.55951796e-04, ...,\n",
       "           6.25815361e-01, 8.35840551e-01, 8.87994001e-01],\n",
       "          [2.32290146e-03, 1.52607235e-03, 8.12507022e-04, ...,\n",
       "           7.86575064e-01, 9.05361439e-01, 1.00000000e+00],\n",
       "          ...,\n",
       "          [1.00000000e+00, 1.00000000e+00, 1.00000000e+00, ...,\n",
       "           6.15810262e-01, 9.30658416e-01, 9.91189779e-01],\n",
       "          [3.05703364e-01, 4.80328341e-01, 2.86413084e-01, ...,\n",
       "           1.00000000e+00, 8.18547859e-01, 8.83292335e-01],\n",
       "          [1.85415730e-02, 2.19568126e-02, 1.30887691e-02, ...,\n",
       "           8.17338592e-01, 6.49338514e-01, 6.23376402e-01]],\n",
       "  \n",
       "         [[3.83677416e-02, 2.96047459e-02, 2.77250546e-02, ...,\n",
       "           5.62243322e-01, 8.38908200e-01, 5.91575499e-01],\n",
       "          [1.34973033e-02, 4.01434099e-03, 2.82738619e-03, ...,\n",
       "           4.75653300e-01, 7.03555688e-01, 5.46000189e-01],\n",
       "          [1.08481304e-02, 3.17436093e-03, 2.22117174e-03, ...,\n",
       "           7.38260294e-01, 3.96354008e-01, 4.87529795e-01],\n",
       "          ...,\n",
       "          [1.00000000e+00, 7.97149568e-01, 7.05142378e-01, ...,\n",
       "           5.07299062e-01, 6.64664353e-01, 9.91049031e-01],\n",
       "          [7.52359036e-01, 1.00000000e+00, 1.00000000e+00, ...,\n",
       "           1.00000000e+00, 8.68237328e-01, 1.00000000e+00],\n",
       "          [2.74948261e-01, 2.78005254e-01, 2.46225373e-01, ...,\n",
       "           9.23849041e-01, 1.00000000e+00, 6.74136585e-01]],\n",
       "  \n",
       "         [[1.72811453e-02, 1.36944467e-02, 1.04195465e-02, ...,\n",
       "           4.52824347e-01, 5.47429513e-01, 4.80056707e-01],\n",
       "          [2.29574944e-02, 9.67945284e-03, 4.09059548e-03, ...,\n",
       "           5.54579109e-01, 5.88688107e-01, 5.50401142e-01],\n",
       "          [3.37298287e-02, 1.68720121e-02, 4.55796498e-03, ...,\n",
       "           1.00000000e+00, 1.00000000e+00, 8.59091038e-01],\n",
       "          ...,\n",
       "          [1.00000000e+00, 1.00000000e+00, 1.00000000e+00, ...,\n",
       "           5.93212434e-01, 5.43746645e-01, 5.59090087e-01],\n",
       "          [2.91091953e-01, 2.28944945e-01, 1.58117829e-01, ...,\n",
       "           7.99764163e-01, 8.09953456e-01, 1.00000000e+00],\n",
       "          [4.14565303e-02, 4.19666484e-02, 4.17393417e-02, ...,\n",
       "           5.66119869e-01, 6.83476497e-01, 7.70204728e-01]]]),\n",
       "  'label': array([ 9,  9,  9, ..., 17, 17, 17])},\n",
       " 'val': {'melspectrogram': array([[[1.84076130e-03, 2.97242671e-04, 7.40060218e-12, ...,\n",
       "           1.85662820e-11, 6.31719468e-05, 2.54277692e-04],\n",
       "          [1.86156487e-03, 3.00602248e-04, 8.74325076e-12, ...,\n",
       "           2.68396059e-11, 6.40587870e-05, 2.57842099e-04],\n",
       "          [1.89783872e-03, 3.06464239e-04, 1.16626410e-11, ...,\n",
       "           4.79236814e-10, 6.54727048e-05, 2.63597227e-04],\n",
       "          ...,\n",
       "          [1.01341649e-05, 1.66688490e-06, 1.01603101e-07, ...,\n",
       "           1.18084559e-06, 1.42116373e-06, 5.40940055e-07],\n",
       "          [7.21003065e-06, 1.16490205e-06, 5.52198187e-10, ...,\n",
       "           4.23088602e-09, 1.11734333e-08, 3.27497066e-08],\n",
       "          [5.89980776e-06, 9.53125589e-07, 3.61782074e-13, ...,\n",
       "           2.65281006e-12, 9.83638148e-09, 3.97445436e-08]],\n",
       "  \n",
       "         [[1.17787348e-04, 2.67663929e-05, 6.44531408e-14, ...,\n",
       "           2.97884271e-12, 3.29721733e-08, 2.56947650e-07],\n",
       "          [1.17316031e-04, 2.66592053e-05, 1.13432974e-13, ...,\n",
       "           6.66180182e-12, 9.80144191e-08, 8.51514372e-07],\n",
       "          [1.16438458e-04, 2.64591696e-05, 2.51025397e-13, ...,\n",
       "           4.52145265e-10, 2.49118555e-07, 2.22613925e-06],\n",
       "          ...,\n",
       "          [1.52606873e-05, 3.52709541e-06, 7.97731305e-08, ...,\n",
       "           1.66499655e-06, 1.84026336e-06, 1.47796502e-06],\n",
       "          [1.37663103e-05, 3.12402468e-06, 4.20739410e-10, ...,\n",
       "           4.22468517e-09, 3.01527880e-08, 2.09251820e-07],\n",
       "          [1.29544957e-05, 2.93956802e-06, 2.38791792e-13, ...,\n",
       "           8.51076285e-12, 3.52436378e-08, 3.04581248e-07]],\n",
       "  \n",
       "         [[3.69169624e-04, 9.49861005e-05, 1.49662781e-11, ...,\n",
       "           1.51903820e-13, 2.63586367e-04, 1.89078907e-03],\n",
       "          [3.79939231e-04, 9.77594896e-05, 1.79898416e-11, ...,\n",
       "           1.05171834e-11, 2.70781781e-04, 1.94196807e-03],\n",
       "          [3.99002047e-04, 1.02671144e-04, 2.45827728e-11, ...,\n",
       "           3.32549897e-10, 2.83070774e-04, 2.02976075e-03],\n",
       "          ...,\n",
       "          [2.75128979e-06, 7.55848052e-07, 1.44197842e-07, ...,\n",
       "           2.16669820e-06, 1.18669431e-06, 9.86674099e-07],\n",
       "          [2.48386388e-06, 6.40247556e-07, 1.47857169e-09, ...,\n",
       "           1.03332689e-08, 5.77302926e-08, 3.71828651e-07],\n",
       "          [2.31869912e-06, 5.96966232e-07, 6.31038425e-13, ...,\n",
       "           6.13578631e-12, 4.34837845e-08, 3.12676250e-07]],\n",
       "  \n",
       "         ...,\n",
       "  \n",
       "         [[4.64337460e-04, 4.33294799e-05, 2.25075850e-13, ...,\n",
       "           1.91166913e-14, 6.01479130e-06, 2.54849004e-04],\n",
       "          [4.67291801e-04, 4.36224336e-05, 3.67371951e-13, ...,\n",
       "           1.24778077e-12, 6.38434798e-06, 2.71040872e-04],\n",
       "          [4.72650351e-04, 4.41491738e-05, 8.77470737e-12, ...,\n",
       "           1.73494099e-10, 7.02336636e-06, 2.99074464e-04],\n",
       "          ...,\n",
       "          [4.24258574e-05, 4.05664533e-06, 6.05310235e-08, ...,\n",
       "           3.55498714e-08, 6.00091473e-06, 2.62253455e-04],\n",
       "          [2.76656179e-05, 2.56428004e-06, 2.21805830e-10, ...,\n",
       "           2.18817855e-10, 5.41358393e-06, 2.41452182e-04],\n",
       "          [1.93359916e-05, 1.79651360e-06, 3.01392432e-13, ...,\n",
       "           2.02232256e-13, 5.26019323e-06, 2.34449600e-04]],\n",
       "  \n",
       "         [[3.75044855e-04, 7.64634977e-06, 1.58006102e-14, ...,\n",
       "           6.67368568e-14, 2.39278410e-05, 1.83315108e-04],\n",
       "          [3.85298328e-04, 7.85287064e-06, 2.20025135e-13, ...,\n",
       "           9.05813032e-12, 2.56190100e-05, 1.95850667e-04],\n",
       "          [4.03319021e-04, 8.21415971e-06, 8.64684395e-12, ...,\n",
       "           1.35562600e-10, 2.85869522e-05, 2.17900843e-04],\n",
       "          ...,\n",
       "          [5.74641382e-05, 1.29174204e-06, 7.79538689e-08, ...,\n",
       "           6.75089481e-07, 6.00841291e-06, 3.87361089e-05],\n",
       "          [4.50413680e-05, 9.44531953e-07, 2.18882140e-10, ...,\n",
       "           4.94040362e-09, 4.08211585e-06, 2.97581662e-05],\n",
       "          [3.80436284e-05, 7.97041672e-07, 1.16489584e-13, ...,\n",
       "           5.16946062e-12, 3.60696079e-06, 2.63103553e-05]],\n",
       "  \n",
       "         [[3.76151200e-04, 3.73859640e-05, 1.85239759e-12, ...,\n",
       "           2.52427063e-14, 3.00140674e-07, 1.37883475e-05],\n",
       "          [4.00081575e-04, 3.98469585e-05, 4.49338260e-12, ...,\n",
       "           1.10582988e-13, 3.41005713e-07, 1.55157448e-05],\n",
       "          [4.41743341e-04, 4.41457585e-05, 2.66506036e-11, ...,\n",
       "           2.53664313e-11, 4.10392759e-07, 1.84105641e-05],\n",
       "          ...,\n",
       "          [3.71816195e-04, 3.96346968e-05, 7.27970069e-07, ...,\n",
       "           5.68030525e-08, 8.18082631e-07, 1.91565522e-05],\n",
       "          [3.58032660e-04, 3.74120698e-05, 3.07817624e-09, ...,\n",
       "           2.58978338e-10, 4.32498312e-07, 1.79957842e-05],\n",
       "          [3.46922063e-04, 3.62252993e-05, 3.84792380e-12, ...,\n",
       "           2.18644641e-13, 4.20707783e-07, 1.76150392e-05]]]),\n",
       "  'mfcc': array([[[-1.00000000e+00, -1.00000000e+00, -1.00000000e+00, ...,\n",
       "           -1.00000000e+00, -1.00000000e+00, -1.00000000e+00],\n",
       "          [ 2.61779438e-01,  5.65274874e-02, -3.29957127e-01, ...,\n",
       "           -5.22593476e-02,  2.42458545e-02,  7.52145755e-02],\n",
       "          [-6.05828947e-01, -6.83816948e-01, -7.37919014e-01, ...,\n",
       "           -5.19971443e-01, -4.68517432e-01, -3.78896280e-01],\n",
       "          ...,\n",
       "          [ 8.38597347e-02,  9.01772705e-02,  2.28971915e-02, ...,\n",
       "           -3.18624564e-02, -2.45934087e-02, -2.44103373e-02],\n",
       "          [ 7.61018264e-02,  1.05172219e-01,  6.12936570e-02, ...,\n",
       "            1.54573767e-02,  1.12200577e-02, -3.74109477e-03],\n",
       "          [-2.57656314e-01, -2.63538975e-01, -1.14549517e-01, ...,\n",
       "           -2.68267216e-02, -3.12939133e-02, -3.07352268e-02]],\n",
       "  \n",
       "         [[-1.00000000e+00, -1.00000000e+00, -1.00000000e+00, ...,\n",
       "           -1.00000000e+00, -1.00000000e+00, -1.00000000e+00],\n",
       "          [-5.74245275e-02, -1.86788242e-01, -3.06985626e-01, ...,\n",
       "           -3.17268544e-02, -2.56574941e-02, -1.39230994e-02],\n",
       "          [-5.03727902e-01, -6.50660087e-01, -6.95564994e-01, ...,\n",
       "           -4.02629636e-01, -4.12574422e-01, -3.64012816e-01],\n",
       "          ...,\n",
       "          [ 6.37078943e-02,  4.78735193e-02,  9.93554493e-03, ...,\n",
       "           -2.15293980e-02, -1.26830020e-02, -5.92972873e-03],\n",
       "          [ 1.16562987e-01,  1.65626129e-01,  1.18745713e-01, ...,\n",
       "            1.60790985e-02,  1.00075763e-02,  1.22553182e-06],\n",
       "          [-1.90460088e-01, -1.82960447e-01, -8.10073673e-02, ...,\n",
       "           -1.94704977e-02, -1.87991015e-02, -1.91388246e-02]],\n",
       "  \n",
       "         [[-1.00000000e+00, -1.00000000e+00, -1.00000000e+00, ...,\n",
       "           -1.00000000e+00, -1.00000000e+00, -1.00000000e+00],\n",
       "          [ 1.86307877e-01,  9.39787766e-03, -3.09962337e-01, ...,\n",
       "           -3.43043480e-02,  5.91790072e-02,  1.24967459e-01],\n",
       "          [-6.58521836e-01, -8.09546318e-01, -7.48184109e-01, ...,\n",
       "           -4.12415984e-01, -3.55098791e-01, -2.90832392e-01],\n",
       "          ...,\n",
       "          [ 2.00373350e-02,  4.11353714e-02,  1.53098953e-02, ...,\n",
       "           -7.01189265e-03, -2.79316626e-03, -1.15974542e-02],\n",
       "          [ 1.73380272e-01,  1.80210953e-01,  9.42184173e-02, ...,\n",
       "            8.18289757e-03,  1.34638080e-02,  3.59094576e-02],\n",
       "          [-2.16437723e-01, -2.33301592e-01, -9.02919275e-02, ...,\n",
       "           -3.38518808e-02, -2.85230606e-02, -1.12063882e-02]],\n",
       "  \n",
       "         ...,\n",
       "  \n",
       "         [[-1.00000000e+00, -1.00000000e+00, -1.00000000e+00, ...,\n",
       "           -1.00000000e+00, -1.00000000e+00, -1.00000000e+00],\n",
       "          [-3.58561594e-03, -3.83796002e-02, -1.59689560e-01, ...,\n",
       "           -4.46514409e-02, -2.80920763e-02, -3.12205547e-02],\n",
       "          [-3.86935546e-01, -5.43903932e-01, -7.02241654e-01, ...,\n",
       "           -7.24347366e-01, -5.60265725e-01, -2.74852970e-01],\n",
       "          ...,\n",
       "          [ 5.36763649e-03, -1.13237537e-02, -2.04433984e-02, ...,\n",
       "           -1.72881528e-02, -2.11770704e-02, -1.11679756e-02],\n",
       "          [ 1.88261606e-02,  1.81097189e-02,  1.54509356e-02, ...,\n",
       "           -9.76732808e-03, -1.16216564e-02, -6.68977131e-03],\n",
       "          [-9.90889362e-03, -1.34922261e-02, -3.41973471e-02, ...,\n",
       "           -3.30135344e-02, -3.25544498e-02, -1.38859892e-02]],\n",
       "  \n",
       "         [[-1.00000000e+00, -1.00000000e+00, -1.00000000e+00, ...,\n",
       "           -1.00000000e+00, -1.00000000e+00, -1.00000000e+00],\n",
       "          [-6.48288491e-03, -5.19195150e-03, -1.15946159e-01, ...,\n",
       "           -1.03637157e-01, -4.36334616e-02, -3.94339864e-03],\n",
       "          [-3.84605458e-01, -7.31827593e-01, -8.63209042e-01, ...,\n",
       "           -3.94192827e-01, -3.11077504e-01, -2.09064089e-01],\n",
       "          ...,\n",
       "          [-2.71578909e-02, -1.72509573e-02, -9.04134493e-03, ...,\n",
       "           -1.03569087e-02, -1.50861025e-02, -1.56886398e-02],\n",
       "          [ 1.01353501e-02,  1.66944318e-02,  1.25408571e-02, ...,\n",
       "            1.14357175e-02,  6.58673774e-03,  2.45878877e-03],\n",
       "          [-1.74439235e-02, -2.69890785e-02, -3.21737583e-02, ...,\n",
       "           -5.35758440e-03, -7.53084216e-03, -1.14412035e-02]],\n",
       "  \n",
       "         [[-1.00000000e+00, -1.00000000e+00, -1.00000000e+00, ...,\n",
       "           -1.00000000e+00, -1.00000000e+00, -1.00000000e+00],\n",
       "          [-1.13151358e-02, -5.07395434e-02, -1.14106404e-01, ...,\n",
       "           -2.30035030e-02, -5.37580123e-02, -6.62910127e-02],\n",
       "          [-1.77895643e-01, -2.84559430e-01, -4.02259714e-01, ...,\n",
       "           -6.28093339e-01, -4.62303114e-01, -3.14746928e-01],\n",
       "          ...,\n",
       "          [-2.12650739e-02, -1.94306965e-02, -7.52820729e-03, ...,\n",
       "           -1.92081251e-02, -1.31516762e-02, -4.64893500e-03],\n",
       "          [ 1.33500599e-02,  1.23813828e-02,  1.27569466e-02, ...,\n",
       "           -1.30828718e-02,  1.78683352e-03,  2.53016042e-02],\n",
       "          [-4.79920208e-03,  1.51259335e-03, -1.92752386e-02, ...,\n",
       "           -6.53529604e-02, -4.56770518e-02, -1.72171995e-02]]]),\n",
       "  'chroma': array([[[0.03896524, 0.03565143, 0.03814531, ..., 0.77975558,\n",
       "           0.68206062, 0.23240644],\n",
       "          [0.00659619, 0.00529532, 0.02211811, ..., 0.50834411,\n",
       "           0.42889401, 0.20393496],\n",
       "          [0.03396134, 0.07537224, 0.27124467, ..., 1.        ,\n",
       "           0.73357608, 0.19416383],\n",
       "          ...,\n",
       "          [0.04208325, 0.17185329, 0.76280805, ..., 0.53333076,\n",
       "           1.        , 1.        ],\n",
       "          [0.22129042, 0.34895456, 0.92397484, ..., 0.71455889,\n",
       "           0.7061818 , 0.45860865],\n",
       "          [0.37147511, 0.35651646, 0.36718956, ..., 0.63902144,\n",
       "           0.5899253 , 0.28389579]],\n",
       "  \n",
       "         [[0.00516763, 0.0038404 , 0.00981754, ..., 0.91456748,\n",
       "           0.81985196, 0.99444375],\n",
       "          [0.01360595, 0.0372188 , 0.10197056, ..., 0.88698087,\n",
       "           0.81443821, 0.70792069],\n",
       "          [0.18453407, 0.2374791 , 0.3031413 , ..., 0.72219957,\n",
       "           1.        , 0.95997765],\n",
       "          ...,\n",
       "          [0.12030542, 0.44828821, 1.        , ..., 0.62129471,\n",
       "           0.74960304, 0.76251278],\n",
       "          [0.20661966, 0.23595795, 0.30636972, ..., 0.65985725,\n",
       "           0.78174435, 0.99978006],\n",
       "          [0.03423239, 0.0314588 , 0.03706581, ..., 1.        ,\n",
       "           0.64499548, 0.74961468]],\n",
       "  \n",
       "         [[0.01590555, 0.00968722, 0.01485161, ..., 0.35536251,\n",
       "           0.40376678, 0.53158154],\n",
       "          [0.02016032, 0.02679548, 0.03860292, ..., 0.42358301,\n",
       "           0.67327191, 0.84330845],\n",
       "          [0.12211127, 0.23918119, 0.25247647, ..., 0.52670578,\n",
       "           1.        , 1.        ],\n",
       "          ...,\n",
       "          [0.20257699, 0.68926031, 1.        , ..., 0.80818347,\n",
       "           0.57432481, 0.48736704],\n",
       "          [0.27183821, 0.5375132 , 0.56991388, ..., 1.        ,\n",
       "           0.71908422, 0.35449176],\n",
       "          [0.09160153, 0.11410565, 0.12918909, ..., 0.75595693,\n",
       "           0.46122067, 0.32465753]],\n",
       "  \n",
       "         ...,\n",
       "  \n",
       "         [[1.        , 1.        , 0.61450832, ..., 0.67982249,\n",
       "           0.71706475, 1.        ],\n",
       "          [0.71785107, 0.59088624, 0.2664589 , ..., 1.        ,\n",
       "           1.        , 0.71149782],\n",
       "          [0.63648541, 0.47001435, 0.405755  , ..., 0.47134555,\n",
       "           0.48145175, 0.46689599],\n",
       "          ...,\n",
       "          [0.39798613, 0.27017506, 0.24028   , ..., 0.09999113,\n",
       "           0.17282876, 0.46035338],\n",
       "          [0.63537624, 0.46776936, 0.37576529, ..., 0.33794016,\n",
       "           0.42375794, 0.44592618],\n",
       "          [0.75957862, 0.75594884, 0.68013663, ..., 0.61717358,\n",
       "           0.83111198, 0.90994396]],\n",
       "  \n",
       "         [[0.80883755, 0.87614423, 0.72838395, ..., 1.        ,\n",
       "           0.4108665 , 0.18423559],\n",
       "          [0.56028796, 0.62413509, 0.6147079 , ..., 0.73656634,\n",
       "           0.50535241, 0.38762376],\n",
       "          [0.7202801 , 1.        , 1.        , ..., 0.62768424,\n",
       "           0.33684162, 0.33613988],\n",
       "          ...,\n",
       "          [0.82832664, 0.607783  , 0.3563782 , ..., 0.38943235,\n",
       "           0.60290855, 0.63218044],\n",
       "          [0.72396259, 0.51768772, 0.49104494, ..., 0.73403977,\n",
       "           1.        , 1.        ],\n",
       "          [0.88402167, 0.82066911, 0.9002131 , ..., 0.70433058,\n",
       "           0.61810009, 0.48075064]],\n",
       "  \n",
       "         [[0.45630126, 0.48873625, 0.54899346, ..., 0.18204335,\n",
       "           0.40682413, 0.71427922],\n",
       "          [0.48298781, 0.45702756, 0.51878753, ..., 0.40863892,\n",
       "           0.61708315, 0.95903964],\n",
       "          [0.42816821, 0.41703257, 0.44567392, ..., 0.77239517,\n",
       "           1.        , 1.        ],\n",
       "          ...,\n",
       "          [0.39790318, 0.33245681, 0.30230273, ..., 0.53635846,\n",
       "           0.60105841, 0.63998024],\n",
       "          [1.        , 1.        , 0.63195157, ..., 1.        ,\n",
       "           0.66576926, 0.95755456],\n",
       "          [0.35923011, 0.70665163, 1.        , ..., 0.49642824,\n",
       "           0.39854309, 0.51793986]]]),\n",
       "  'label': array([14, 14, 14, ...,  4,  4,  4])}}"
      ]
     },
     "execution_count": 99,
     "metadata": {},
     "output_type": "execute_result"
    }
   ],
   "source": [
    "merged_dict = {'train': train_features, 'val': val_features}\n",
    "merged_dict"
   ]
  },
  {
   "cell_type": "markdown",
   "metadata": {},
   "source": [
    "### Save the merged dictionary to a pkl"
   ]
  },
  {
   "cell_type": "code",
   "execution_count": 100,
   "metadata": {},
   "outputs": [],
   "source": [
    "with open('C:/Users/thato/Documents/Final-Year-Project/Dataset/Project-V4/feature-extraction/Annotated/NotAveragePooled/split_features_1s_mel_mfcc_chroma.pkl', 'wb') as file:\n",
    "  pickle.dump(merged_dict, file)"
   ]
  },
  {
   "cell_type": "markdown",
   "metadata": {},
   "source": [
    "### **['melspectrogram', 'mfcc', 'chroma', 'rms']**"
   ]
  },
  {
   "cell_type": "code",
   "execution_count": 101,
   "metadata": {},
   "outputs": [],
   "source": [
    "features_list = ['melspectrogram', 'mfcc', 'chroma', 'rms']"
   ]
  },
  {
   "cell_type": "code",
   "execution_count": 102,
   "metadata": {},
   "outputs": [
    {
     "name": "stdout",
     "output_type": "stream",
     "text": [
      "Train DataFrame shape: (3444, 9)\n",
      "Validation DataFrame shape: (834, 9)\n",
      "Number of rows in dataframe: 3444\n"
     ]
    },
    {
     "name": "stderr",
     "output_type": "stream",
     "text": [
      "Processing data:  35%|███▍      | 1200/3444 [01:00<01:03, 35.27it/s]c:\\Users\\thato\\AppData\\Local\\Programs\\Python\\Python312\\Lib\\site-packages\\librosa\\core\\pitch.py:101: UserWarning: Trying to estimate tuning from empty frequency set.\n",
      "  return pitch_tuning(\n",
      "Processing data: 100%|██████████| 3444/3444 [02:47<00:00, 20.60it/s]\n"
     ]
    },
    {
     "name": "stdout",
     "output_type": "stream",
     "text": [
      "Number of rows in dataframe: 834\n"
     ]
    },
    {
     "name": "stderr",
     "output_type": "stream",
     "text": [
      "Processing data: 100%|██████████| 834/834 [00:41<00:00, 20.01it/s]\n"
     ]
    }
   ],
   "source": [
    "features = Extraction(train_data,\n",
    "                      val_data,\n",
    "                      window_size=1,\n",
    "                      features=features_list,\n",
    "                      avgpool=False\n",
    "                      )"
   ]
  },
  {
   "cell_type": "code",
   "execution_count": 103,
   "metadata": {},
   "outputs": [
    {
     "data": {
      "text/plain": [
       "(12565,)"
      ]
     },
     "metadata": {},
     "output_type": "display_data"
    },
    {
     "data": {
      "text/plain": [
       "'melspectrogram'"
      ]
     },
     "metadata": {},
     "output_type": "display_data"
    },
    {
     "data": {
      "text/plain": [
       "(12565, 60, 44)"
      ]
     },
     "metadata": {},
     "output_type": "display_data"
    },
    {
     "data": {
      "text/plain": [
       "'mfcc'"
      ]
     },
     "metadata": {},
     "output_type": "display_data"
    },
    {
     "data": {
      "text/plain": [
       "(12565, 20, 44)"
      ]
     },
     "metadata": {},
     "output_type": "display_data"
    },
    {
     "data": {
      "text/plain": [
       "'chroma'"
      ]
     },
     "metadata": {},
     "output_type": "display_data"
    },
    {
     "data": {
      "text/plain": [
       "(12565, 12, 44)"
      ]
     },
     "metadata": {},
     "output_type": "display_data"
    },
    {
     "data": {
      "text/plain": [
       "'rms'"
      ]
     },
     "metadata": {},
     "output_type": "display_data"
    },
    {
     "data": {
      "text/plain": [
       "(12565, 1, 44)"
      ]
     },
     "metadata": {},
     "output_type": "display_data"
    }
   ],
   "source": [
    "train_y = features.train_y\n",
    "display(train_y.shape)\n",
    "\n",
    "train_features = features.train_features\n",
    "for key in train_features.keys():\n",
    "  display(key)\n",
    "  display(train_features[key].shape)"
   ]
  },
  {
   "cell_type": "code",
   "execution_count": 104,
   "metadata": {},
   "outputs": [
    {
     "data": {
      "text/plain": [
       "(3318,)"
      ]
     },
     "metadata": {},
     "output_type": "display_data"
    },
    {
     "data": {
      "text/plain": [
       "'melspectrogram'"
      ]
     },
     "metadata": {},
     "output_type": "display_data"
    },
    {
     "data": {
      "text/plain": [
       "(3318, 60, 44)"
      ]
     },
     "metadata": {},
     "output_type": "display_data"
    },
    {
     "data": {
      "text/plain": [
       "'mfcc'"
      ]
     },
     "metadata": {},
     "output_type": "display_data"
    },
    {
     "data": {
      "text/plain": [
       "(3318, 20, 44)"
      ]
     },
     "metadata": {},
     "output_type": "display_data"
    },
    {
     "data": {
      "text/plain": [
       "'chroma'"
      ]
     },
     "metadata": {},
     "output_type": "display_data"
    },
    {
     "data": {
      "text/plain": [
       "(3318, 12, 44)"
      ]
     },
     "metadata": {},
     "output_type": "display_data"
    },
    {
     "data": {
      "text/plain": [
       "'rms'"
      ]
     },
     "metadata": {},
     "output_type": "display_data"
    },
    {
     "data": {
      "text/plain": [
       "(3318, 1, 44)"
      ]
     },
     "metadata": {},
     "output_type": "display_data"
    }
   ],
   "source": [
    "val_y = features.val_y\n",
    "display(val_y.shape)\n",
    "\n",
    "val_features = features.val_features\n",
    "for key in val_features.keys():\n",
    "  display(key)\n",
    "  display(val_features[key].shape)"
   ]
  },
  {
   "cell_type": "markdown",
   "metadata": {},
   "source": [
    "### Encode Classes"
   ]
  },
  {
   "cell_type": "code",
   "execution_count": 105,
   "metadata": {},
   "outputs": [
    {
     "name": "stdout",
     "output_type": "stream",
     "text": [
      "Encoded classes for [0, 1, 2]: ['Acrocephalus arundinaceus', 'Acrocephalus melanopogon', 'Acrocephalus scirpaceus']\n",
      "Encoded training labels: [ 9  9  9 ... 17 17 17]\n",
      "Encoded validation labels: [14 14 14 ...  4  4  4]\n"
     ]
    }
   ],
   "source": [
    "label_encoder = LabelEncoder().fit(train_y)\n",
    "train_y_encoded = label_encoder.transform(train_y)\n",
    "val_y_encoded = label_encoder.transform(val_y)\n",
    "\n",
    "classes = list(label_encoder.inverse_transform([0, 1, 2]))\n",
    "print(\"Encoded classes for [0, 1, 2]:\", classes)\n",
    "print(\"Encoded training labels:\", train_y_encoded)\n",
    "print(\"Encoded validation labels:\", val_y_encoded)"
   ]
  },
  {
   "cell_type": "code",
   "execution_count": 106,
   "metadata": {},
   "outputs": [
    {
     "data": {
      "text/plain": [
       "12565"
      ]
     },
     "metadata": {},
     "output_type": "display_data"
    },
    {
     "data": {
      "text/plain": [
       "array([9, 9, 9, 9, 9, 9, 9, 9, 9, 9])"
      ]
     },
     "metadata": {},
     "output_type": "display_data"
    },
    {
     "data": {
      "text/plain": [
       "3318"
      ]
     },
     "metadata": {},
     "output_type": "display_data"
    },
    {
     "data": {
      "text/plain": [
       "array([14, 14, 14, 14, 14, 14, 10, 10, 10, 10])"
      ]
     },
     "metadata": {},
     "output_type": "display_data"
    }
   ],
   "source": [
    "display(len(train_y_encoded))\n",
    "display(train_y_encoded[:10])\n",
    "\n",
    "display(len(val_y_encoded))\n",
    "display(val_y_encoded[:10])"
   ]
  },
  {
   "cell_type": "code",
   "execution_count": 107,
   "metadata": {},
   "outputs": [],
   "source": [
    "train_features['label'] = train_y_encoded\n",
    "val_features['label'] = val_y_encoded"
   ]
  },
  {
   "cell_type": "code",
   "execution_count": 108,
   "metadata": {},
   "outputs": [
    {
     "data": {
      "text/plain": [
       "{'train': {'melspectrogram': array([[[1.49619878e-04, 9.91906688e-07, 2.48130880e-14, ...,\n",
       "           7.57408160e-14, 2.46620584e-05, 2.42136864e-04],\n",
       "          [1.51059693e-04, 1.00149214e-06, 4.29179038e-14, ...,\n",
       "           1.54229494e-13, 2.47809445e-05, 2.43302732e-04],\n",
       "          [1.53461197e-04, 1.01720986e-06, 7.69849280e-12, ...,\n",
       "           5.91120706e-12, 2.49865924e-05, 2.45357940e-04],\n",
       "          ...,\n",
       "          [8.10535547e-08, 1.13486703e-09, 1.55103726e-10, ...,\n",
       "           9.95547819e-11, 3.92484929e-06, 3.89781243e-05],\n",
       "          [6.54161468e-08, 4.35279562e-10, 1.70086070e-13, ...,\n",
       "           3.73563449e-12, 3.73668669e-06, 3.71356338e-05],\n",
       "          [5.58002542e-08, 3.70017484e-10, 1.19116812e-15, ...,\n",
       "           8.60750760e-15, 3.62438557e-06, 3.60217485e-05]],\n",
       "  \n",
       "         [[2.90496083e-04, 1.33911613e-04, 1.18182281e-11, ...,\n",
       "           2.01018052e-13, 9.45688580e-06, 9.98487150e-05],\n",
       "          [2.97352272e-04, 1.36961177e-04, 1.73004844e-11, ...,\n",
       "           3.01842594e-13, 9.68366781e-06, 1.02240476e-04],\n",
       "          [3.09603415e-04, 1.42404336e-04, 1.77799954e-10, ...,\n",
       "           1.37675250e-11, 1.00828472e-05, 1.06442141e-04],\n",
       "          ...,\n",
       "          [1.54484708e-04, 7.18984910e-05, 4.14699914e-08, ...,\n",
       "           1.58219991e-09, 2.54226264e-07, 2.64916412e-06],\n",
       "          [1.47750369e-04, 6.87573851e-05, 4.90193254e-12, ...,\n",
       "           8.62880407e-12, 2.48109579e-07, 2.58621338e-06],\n",
       "          [1.43521455e-04, 6.67882443e-05, 2.70824804e-13, ...,\n",
       "           4.42811174e-14, 2.43916979e-07, 2.54212398e-06]],\n",
       "  \n",
       "         [[4.55543301e-04, 2.51265742e-06, 3.74917689e-15, ...,\n",
       "           1.07731695e-11, 2.63629131e-04, 1.84378904e-03],\n",
       "          [4.57720031e-04, 2.52440017e-06, 8.09933972e-14, ...,\n",
       "           1.34843580e-11, 2.69018541e-04, 1.88142961e-03],\n",
       "          [4.61220038e-04, 2.54317506e-06, 3.51347962e-12, ...,\n",
       "           5.04255332e-11, 2.78329858e-04, 1.94703837e-03],\n",
       "          ...,\n",
       "          [7.38566487e-05, 4.20170296e-07, 2.71756052e-09, ...,\n",
       "           1.34319028e-08, 3.36025734e-08, 1.87137073e-07],\n",
       "          [6.99262141e-05, 3.90192578e-07, 1.51896078e-11, ...,\n",
       "           2.01339414e-10, 2.94162072e-08, 1.98637239e-07],\n",
       "          [6.78123929e-05, 3.78405969e-07, 3.52410644e-15, ...,\n",
       "           6.11029994e-14, 2.87063791e-08, 1.99999124e-07]],\n",
       "  \n",
       "         ...,\n",
       "  \n",
       "         [[3.16719877e-05, 4.18284470e-06, 6.43660776e-15, ...,\n",
       "           8.17170946e-12, 2.36359336e-04, 1.48546885e-03],\n",
       "          [3.22357957e-05, 4.25725772e-06, 8.96772964e-15, ...,\n",
       "           1.73021311e-11, 2.45144670e-04, 1.54108585e-03],\n",
       "          [3.32204779e-05, 4.38729189e-06, 1.46234737e-14, ...,\n",
       "           2.84671180e-10, 2.60918723e-04, 1.64123874e-03],\n",
       "          ...,\n",
       "          [5.25163910e-06, 7.16321562e-07, 2.19128830e-08, ...,\n",
       "           7.49747521e-07, 1.44313777e-06, 1.84513474e-06],\n",
       "          [2.98257593e-06, 3.94065695e-07, 6.78031371e-11, ...,\n",
       "           7.42700600e-09, 2.79568950e-08, 1.13757124e-07],\n",
       "          [2.12320979e-06, 2.80494599e-07, 3.93791536e-14, ...,\n",
       "           5.25724151e-12, 1.97815292e-09, 1.29897067e-08]],\n",
       "  \n",
       "         [[7.72683498e-04, 2.90188498e-05, 1.21055299e-13, ...,\n",
       "           4.91451430e-12, 5.53259735e-06, 3.32755036e-05],\n",
       "          [7.78764051e-04, 2.92455646e-05, 1.40889727e-13, ...,\n",
       "           6.36688349e-12, 6.78851835e-06, 4.16199996e-05],\n",
       "          [7.89369056e-04, 2.96411564e-05, 1.82558235e-13, ...,\n",
       "           9.23554749e-12, 8.97556779e-06, 5.61530806e-05],\n",
       "          ...,\n",
       "          [1.78372988e-04, 6.77385005e-06, 9.79296369e-08, ...,\n",
       "           2.51244715e-06, 5.60795380e-06, 1.85564957e-05],\n",
       "          [1.54209193e-04, 5.78602686e-06, 1.77489297e-10, ...,\n",
       "           1.66792476e-08, 2.09425941e-06, 1.38898478e-05],\n",
       "          [1.41708970e-04, 5.31689707e-06, 1.60120213e-13, ...,\n",
       "           1.12030717e-11, 1.90777858e-06, 1.27551553e-05]],\n",
       "  \n",
       "         [[1.18239839e-04, 9.65759242e-06, 1.23768973e-15, ...,\n",
       "           9.81880465e-13, 8.82456997e-05, 1.04705044e-03],\n",
       "          [1.19354130e-04, 9.74896568e-06, 4.63237624e-15, ...,\n",
       "           3.95172339e-12, 8.83707848e-05, 1.04887742e-03],\n",
       "          [1.21319751e-04, 9.91052756e-06, 1.07460214e-14, ...,\n",
       "           1.97619549e-10, 8.83762492e-05, 1.04987469e-03],\n",
       "          ...,\n",
       "          [1.84346841e-05, 1.54169828e-06, 2.72332565e-08, ...,\n",
       "           1.12777055e-06, 1.87011554e-06, 5.53428825e-06],\n",
       "          [1.82365547e-05, 1.48900227e-06, 1.45247997e-10, ...,\n",
       "           5.78966003e-09, 3.29825225e-07, 3.80229953e-06],\n",
       "          [1.73240142e-05, 1.41458914e-06, 1.02927910e-13, ...,\n",
       "           4.29414551e-12, 2.77533022e-07, 3.27391616e-06]]]),\n",
       "  'mfcc': array([[[-1.00000000e+00, -1.00000000e+00, -1.00000000e+00, ...,\n",
       "           -1.00000000e+00, -1.00000000e+00, -1.00000000e+00],\n",
       "          [ 8.05976192e-02,  1.65216244e-02, -7.91479448e-02, ...,\n",
       "           -6.91825764e-02,  1.37290793e-02,  5.77092522e-02],\n",
       "          [-4.23311518e-01, -7.31073428e-01, -7.87156824e-01, ...,\n",
       "           -7.59652046e-01, -4.51705154e-01, -3.18959654e-01],\n",
       "          ...,\n",
       "          [-1.44578811e-02, -4.62346896e-02, -4.22424941e-02, ...,\n",
       "           -1.51759736e-02, -6.41552680e-03,  2.01175686e-03],\n",
       "          [ 3.16911199e-02,  3.58021512e-02,  2.30268818e-02, ...,\n",
       "            3.89170159e-02,  2.17698209e-02,  2.13559449e-02],\n",
       "          [-5.20769457e-04,  1.25406318e-02,  1.77409984e-02, ...,\n",
       "           -2.63310812e-02, -1.10730306e-02,  5.23682860e-03]],\n",
       "  \n",
       "         [[-1.00000000e+00, -1.00000000e+00, -1.00000000e+00, ...,\n",
       "           -1.00000000e+00, -1.00000000e+00, -1.00000000e+00],\n",
       "          [ 2.60290819e-02,  2.69100289e-02, -2.48385921e-02, ...,\n",
       "           -6.51855243e-02,  8.12509125e-02,  1.33927187e-01],\n",
       "          [-3.68375618e-01, -4.29691759e-01, -5.15953308e-01, ...,\n",
       "           -6.55322975e-01, -7.27535359e-01, -5.52651037e-01],\n",
       "          ...,\n",
       "          [-2.70068961e-02, -4.88552103e-03, -6.22849737e-03, ...,\n",
       "           -2.44630243e-02, -3.52785317e-03,  7.83893517e-03],\n",
       "          [ 1.62919223e-02,  2.01034311e-02,  1.90959147e-02, ...,\n",
       "            2.98004807e-02,  5.72141597e-02,  4.10230435e-02],\n",
       "          [ 3.49203947e-02,  2.76561755e-02, -8.44578175e-03, ...,\n",
       "           -1.86952370e-02,  3.71476037e-03,  1.37909249e-03]],\n",
       "  \n",
       "         [[-1.00000000e+00, -1.00000000e+00, -1.00000000e+00, ...,\n",
       "           -1.00000000e+00, -1.00000000e+00, -1.00000000e+00],\n",
       "          [ 4.91130444e-02,  3.86468585e-03, -7.49726630e-02, ...,\n",
       "           -2.02843292e-02,  9.86270156e-02,  1.57392080e-01],\n",
       "          [-3.25604847e-01, -6.93143661e-01, -8.37548319e-01, ...,\n",
       "           -4.94116807e-01, -4.12895305e-01, -3.59223702e-01],\n",
       "          ...,\n",
       "          [ 8.89743886e-03, -1.34047819e-02, -7.18242114e-03, ...,\n",
       "            3.25889063e-03, -5.49432601e-03, -1.68520772e-03],\n",
       "          [ 2.50097395e-02,  3.51845224e-02,  3.25046178e-02, ...,\n",
       "            4.17224645e-02,  2.63529008e-02,  1.83242440e-02],\n",
       "          [-4.09717271e-03, -1.62574413e-02, -2.39993400e-02, ...,\n",
       "           -3.17388277e-02, -8.94995402e-03,  5.36006655e-03]],\n",
       "  \n",
       "         ...,\n",
       "  \n",
       "         [[-1.00000000e+00, -1.00000000e+00, -1.00000000e+00, ...,\n",
       "           -1.00000000e+00, -1.00000000e+00, -1.00000000e+00],\n",
       "          [-5.13047641e-02, -1.19228241e-01, -2.80340547e-01, ...,\n",
       "           -4.04835162e-02,  7.48587716e-02,  1.38528463e-01],\n",
       "          [-1.26154308e-01, -2.01252302e-01, -2.90669646e-01, ...,\n",
       "           -5.07366788e-01, -4.29738273e-01, -3.25259674e-01],\n",
       "          ...,\n",
       "          [-6.10020156e-02, -8.06716248e-02, -6.70758040e-02, ...,\n",
       "           -2.39721457e-02, -2.35891997e-02, -2.88977139e-02],\n",
       "          [ 4.56136384e-02,  5.25300867e-02,  3.33680212e-02, ...,\n",
       "            1.89907371e-02,  2.03886477e-02,  1.55618088e-02],\n",
       "          [-2.64002814e-02, -3.21728995e-02, -3.70423458e-02, ...,\n",
       "           -2.30729745e-02, -1.16600079e-02, -6.24916889e-03]],\n",
       "  \n",
       "         [[-1.00000000e+00, -1.00000000e+00, -1.00000000e+00, ...,\n",
       "           -1.00000000e+00, -1.00000000e+00, -1.00000000e+00],\n",
       "          [-5.74711222e-02, -1.26670547e-01, -2.35262343e-01, ...,\n",
       "           -1.22195939e-01, -8.67521230e-02, -3.79083824e-02],\n",
       "          [-6.94564429e-02, -1.36236893e-01, -2.30177013e-01, ...,\n",
       "           -2.71406982e-01, -2.70499902e-01, -2.22388562e-01],\n",
       "          ...,\n",
       "          [-4.79990943e-02, -7.59018022e-02, -7.34869727e-02, ...,\n",
       "           -2.25520168e-02, -1.98166913e-02, -8.02514930e-03],\n",
       "          [-6.83947580e-03, -1.57718148e-03,  1.36142099e-02, ...,\n",
       "           -2.36192538e-02, -8.96105977e-03, -3.83398806e-03],\n",
       "          [ 1.22862027e-02, -3.87375528e-03, -2.51107377e-02, ...,\n",
       "           -3.19652081e-02, -1.96591225e-02, -1.64332849e-02]],\n",
       "  \n",
       "         [[-1.00000000e+00, -1.00000000e+00, -1.00000000e+00, ...,\n",
       "           -1.00000000e+00, -1.00000000e+00, -1.00000000e+00],\n",
       "          [-2.26102138e-03, -8.01771012e-02, -2.84816420e-01, ...,\n",
       "           -5.98506722e-02,  3.46957205e-02,  7.78145164e-02],\n",
       "          [-1.29369379e-01, -2.29996988e-01, -3.75867721e-01, ...,\n",
       "           -5.45824836e-01, -4.94104377e-01, -3.86503740e-01],\n",
       "          ...,\n",
       "          [-7.14124209e-02, -6.85147414e-02, -5.71165429e-02, ...,\n",
       "           -2.85708071e-02, -2.75624101e-02, -1.25934552e-02],\n",
       "          [ 4.96864938e-02,  4.10912904e-02,  1.53086466e-02, ...,\n",
       "           -9.16331705e-03, -7.37263968e-04,  1.80357788e-02],\n",
       "          [-4.81405583e-02, -7.17333460e-02, -6.29002059e-02, ...,\n",
       "           -4.14379055e-02, -3.66251583e-02, -2.06277779e-02]]]),\n",
       "  'chroma': array([[[4.06509705e-01, 2.84089190e-01, 2.26621404e-01, ...,\n",
       "           2.82009621e-01, 3.09743463e-01, 1.72762886e-01],\n",
       "          [4.32658081e-01, 2.64174891e-01, 2.44474347e-01, ...,\n",
       "           3.83770735e-01, 3.45727937e-01, 1.40932799e-01],\n",
       "          [1.00000000e+00, 1.00000000e+00, 9.64855963e-01, ...,\n",
       "           1.00000000e+00, 6.21680271e-01, 3.80715233e-01],\n",
       "          ...,\n",
       "          [3.37044642e-01, 2.11615299e-01, 2.11958408e-01, ...,\n",
       "           3.38548858e-01, 4.57281385e-01, 2.26087200e-01],\n",
       "          [1.94685345e-01, 1.32866414e-01, 1.16713108e-01, ...,\n",
       "           1.95481979e-01, 2.68676173e-01, 1.34359500e-01],\n",
       "          [3.18288776e-01, 2.26499278e-01, 1.80509442e-01, ...,\n",
       "           1.76376695e-01, 2.19471566e-01, 9.45705151e-02]],\n",
       "  \n",
       "         [[2.53718952e-01, 3.48794710e-01, 2.90980943e-01, ...,\n",
       "           3.04654147e-01, 2.42582641e-01, 2.01908239e-01],\n",
       "          [2.79048288e-01, 3.65825787e-01, 3.87829487e-01, ...,\n",
       "           3.55339593e-01, 2.44053016e-01, 1.85640885e-01],\n",
       "          [5.32030762e-01, 9.86547005e-01, 1.00000000e+00, ...,\n",
       "           4.97810877e-01, 3.80001048e-01, 3.15251937e-01],\n",
       "          ...,\n",
       "          [3.40039018e-01, 3.85886494e-01, 4.21004046e-01, ...,\n",
       "           1.00000000e+00, 1.00000000e+00, 1.00000000e+00],\n",
       "          [2.59473241e-01, 2.74460592e-01, 4.02019582e-01, ...,\n",
       "           3.18817167e-01, 2.90842800e-01, 2.59163327e-01],\n",
       "          [2.69917821e-01, 3.10501050e-01, 3.46920342e-01, ...,\n",
       "           2.30307156e-01, 1.74096879e-01, 1.40626154e-01]],\n",
       "  \n",
       "         [[2.91109375e-01, 3.03765632e-01, 2.73274663e-01, ...,\n",
       "           1.37664047e-01, 4.47444214e-01, 5.55059898e-01],\n",
       "          [5.00754885e-01, 4.20773244e-01, 3.52631848e-01, ...,\n",
       "           1.51496774e-01, 5.26314640e-01, 7.34931932e-01],\n",
       "          [8.01951235e-01, 1.00000000e+00, 1.00000000e+00, ...,\n",
       "           2.09640767e-01, 4.35293679e-01, 5.64296501e-01],\n",
       "          ...,\n",
       "          [3.31242384e-01, 2.89085849e-01, 3.04803634e-01, ...,\n",
       "           1.00000000e+00, 1.00000000e+00, 7.12031413e-01],\n",
       "          [4.15728266e-01, 2.04398042e-01, 1.89175312e-01, ...,\n",
       "           5.68249707e-01, 8.35985309e-01, 5.83282288e-01],\n",
       "          [4.15318666e-01, 2.30773953e-01, 1.88096448e-01, ...,\n",
       "           2.23192116e-01, 5.05966796e-01, 5.52011216e-01]],\n",
       "  \n",
       "         ...,\n",
       "  \n",
       "         [[4.47811426e-03, 3.31954955e-03, 1.37721388e-03, ...,\n",
       "           6.05599598e-01, 7.96447019e-01, 4.73858657e-01],\n",
       "          [2.74062964e-03, 1.66435968e-03, 6.51711758e-04, ...,\n",
       "           5.70895326e-01, 8.37838246e-01, 5.69453814e-01],\n",
       "          [2.51044317e-03, 1.64400350e-03, 7.81987191e-04, ...,\n",
       "           4.90189070e-01, 6.09132782e-01, 3.71972750e-01],\n",
       "          ...,\n",
       "          [1.00000000e+00, 1.00000000e+00, 1.00000000e+00, ...,\n",
       "           5.48414178e-01, 7.42418733e-01, 6.14996957e-01],\n",
       "          [3.69136236e-01, 5.91330351e-01, 3.29428508e-01, ...,\n",
       "           1.00000000e+00, 1.00000000e+00, 1.00000000e+00],\n",
       "          [2.25924371e-02, 2.99761079e-02, 1.66010396e-02, ...,\n",
       "           9.10500443e-01, 9.23878500e-01, 6.88918740e-01]],\n",
       "  \n",
       "         [[3.83677416e-02, 2.96047459e-02, 2.77250546e-02, ...,\n",
       "           5.62243322e-01, 8.38908200e-01, 5.91575499e-01],\n",
       "          [1.34973033e-02, 4.01434099e-03, 2.82738619e-03, ...,\n",
       "           4.75653300e-01, 7.03555688e-01, 5.46000189e-01],\n",
       "          [1.08481304e-02, 3.17436093e-03, 2.22117174e-03, ...,\n",
       "           7.38260294e-01, 3.96354008e-01, 4.87529795e-01],\n",
       "          ...,\n",
       "          [1.00000000e+00, 7.97149568e-01, 7.05142378e-01, ...,\n",
       "           5.07299062e-01, 6.64664353e-01, 9.91049031e-01],\n",
       "          [7.52359036e-01, 1.00000000e+00, 1.00000000e+00, ...,\n",
       "           1.00000000e+00, 8.68237328e-01, 1.00000000e+00],\n",
       "          [2.74948261e-01, 2.78005254e-01, 2.46225373e-01, ...,\n",
       "           9.23849041e-01, 1.00000000e+00, 6.74136585e-01]],\n",
       "  \n",
       "         [[1.53334677e-02, 1.27059925e-02, 1.00854090e-02, ...,\n",
       "           4.16449150e-01, 4.91795290e-01, 7.03151652e-01],\n",
       "          [1.85768365e-02, 9.43369186e-03, 4.79898543e-03, ...,\n",
       "           3.05575286e-01, 2.90640560e-01, 4.25978787e-01],\n",
       "          [2.63112231e-02, 1.25214938e-02, 3.51288914e-03, ...,\n",
       "           4.16807587e-01, 5.28208225e-01, 8.70116029e-01],\n",
       "          ...,\n",
       "          [1.00000000e+00, 1.00000000e+00, 1.00000000e+00, ...,\n",
       "           1.00000000e+00, 1.00000000e+00, 1.00000000e+00],\n",
       "          [3.27168654e-01, 2.74184694e-01, 1.93315702e-01, ...,\n",
       "           6.69093935e-01, 7.21090247e-01, 6.02724357e-01],\n",
       "          [5.61277906e-02, 5.49231088e-02, 4.90226032e-02, ...,\n",
       "           5.31284840e-01, 5.78866092e-01, 5.96917172e-01]]]),\n",
       "  'rms': array([[[0.02888568, 0.02972097, 0.02995286, ..., 0.03275332,\n",
       "           0.02526124, 0.00567124]],\n",
       "  \n",
       "         [[0.01089821, 0.01155233, 0.01180393, ..., 0.02673709,\n",
       "           0.02655303, 0.02640229]],\n",
       "  \n",
       "         [[0.02653877, 0.02950749, 0.02972467, ..., 0.01898509,\n",
       "           0.00632529, 0.00471314]],\n",
       "  \n",
       "         ...,\n",
       "  \n",
       "         [[0.05486172, 0.08848134, 0.14834662, ..., 0.01204939,\n",
       "           0.01059676, 0.00864833]],\n",
       "  \n",
       "         [[0.02448678, 0.03844219, 0.05055808, ..., 0.01040819,\n",
       "           0.00310402, 0.00249541]],\n",
       "  \n",
       "         [[0.05517472, 0.07846584, 0.12304097, ..., 0.01447011,\n",
       "           0.01243893, 0.01049179]]], dtype=float32),\n",
       "  'label': array([ 9,  9,  9, ..., 17, 17, 17])},\n",
       " 'val': {'melspectrogram': array([[[1.84076130e-03, 2.97242671e-04, 7.40060218e-12, ...,\n",
       "           8.22716341e-12, 7.56873950e-04, 4.23425475e-03],\n",
       "          [1.86156487e-03, 3.00602248e-04, 8.74325076e-12, ...,\n",
       "           1.12708715e-11, 7.82963496e-04, 4.38024592e-03],\n",
       "          [1.89783872e-03, 3.06464239e-04, 1.16626410e-11, ...,\n",
       "           5.17888085e-10, 8.29426844e-04, 4.63989750e-03],\n",
       "          ...,\n",
       "          [1.01341649e-05, 1.66688490e-06, 1.01603101e-07, ...,\n",
       "           1.01234575e-06, 2.47247774e-06, 5.60908933e-06],\n",
       "          [7.21003065e-06, 1.16490205e-06, 5.52198187e-10, ...,\n",
       "           5.86122408e-09, 5.83376074e-07, 3.20072431e-06],\n",
       "          [5.89980776e-06, 9.53125589e-07, 3.61782074e-13, ...,\n",
       "           3.91756553e-12, 4.36495680e-07, 2.43550790e-06]],\n",
       "  \n",
       "         [[1.17787348e-04, 2.67663929e-05, 6.44531408e-14, ...,\n",
       "           1.41519446e-12, 5.92642093e-04, 4.71809858e-03],\n",
       "          [1.17316031e-04, 2.66592053e-05, 1.13432974e-13, ...,\n",
       "           4.20621790e-12, 6.03262333e-04, 4.80257351e-03],\n",
       "          [1.16438458e-04, 2.64591696e-05, 2.51025396e-13, ...,\n",
       "           5.08417728e-10, 6.21592787e-04, 4.94938894e-03],\n",
       "          ...,\n",
       "          [1.52606873e-05, 3.52709541e-06, 7.97731305e-08, ...,\n",
       "           9.27085462e-07, 2.38148355e-06, 8.21154466e-06],\n",
       "          [1.37663103e-05, 3.12402468e-06, 4.20739410e-10, ...,\n",
       "           3.51991830e-09, 9.48341991e-07, 7.50579838e-06],\n",
       "          [1.29544957e-05, 2.93956802e-06, 2.38791792e-13, ...,\n",
       "           4.14194334e-12, 9.81290689e-07, 7.82432385e-06]],\n",
       "  \n",
       "         [[3.69169624e-04, 9.49861005e-05, 1.49662781e-11, ...,\n",
       "           6.19091110e-12, 2.49406567e-04, 1.76456898e-03],\n",
       "          [3.79939231e-04, 9.77594896e-05, 1.79898416e-11, ...,\n",
       "           1.04633055e-11, 2.54383469e-04, 1.80039200e-03],\n",
       "          [3.99002047e-04, 1.02671144e-04, 2.45827728e-11, ...,\n",
       "           3.59830912e-10, 2.63365479e-04, 1.86470944e-03],\n",
       "          ...,\n",
       "          [2.75128979e-06, 7.55848052e-07, 1.44197842e-07, ...,\n",
       "           1.58672591e-06, 2.80720868e-06, 1.07870296e-05],\n",
       "          [2.48386388e-06, 6.40247556e-07, 1.47857169e-09, ...,\n",
       "           7.08460165e-09, 1.21620607e-06, 8.50872359e-06],\n",
       "          [2.31869912e-06, 5.96966232e-07, 6.31038425e-13, ...,\n",
       "           7.45974102e-12, 1.15516379e-06, 8.12280196e-06]],\n",
       "  \n",
       "         ...,\n",
       "  \n",
       "         [[4.64337460e-04, 4.33294799e-05, 2.25075850e-13, ...,\n",
       "           1.91166913e-14, 6.01479130e-06, 2.54849004e-04],\n",
       "          [4.67291801e-04, 4.36224336e-05, 3.67371951e-13, ...,\n",
       "           1.24778077e-12, 6.38434798e-06, 2.71040872e-04],\n",
       "          [4.72650351e-04, 4.41491738e-05, 8.77470737e-12, ...,\n",
       "           1.73494099e-10, 7.02336636e-06, 2.99074464e-04],\n",
       "          ...,\n",
       "          [4.24258574e-05, 4.05664533e-06, 6.05310235e-08, ...,\n",
       "           3.55498714e-08, 6.00091473e-06, 2.62253455e-04],\n",
       "          [2.76656179e-05, 2.56428004e-06, 2.21805830e-10, ...,\n",
       "           2.18817855e-10, 5.41358393e-06, 2.41452182e-04],\n",
       "          [1.93359916e-05, 1.79651360e-06, 3.01392432e-13, ...,\n",
       "           2.02232256e-13, 5.26019323e-06, 2.34449600e-04]],\n",
       "  \n",
       "         [[3.75044855e-04, 7.64634977e-06, 1.58006102e-14, ...,\n",
       "           6.67368568e-14, 2.39278410e-05, 1.83315108e-04],\n",
       "          [3.85298328e-04, 7.85287064e-06, 2.20025135e-13, ...,\n",
       "           9.05813032e-12, 2.56190100e-05, 1.95850667e-04],\n",
       "          [4.03319021e-04, 8.21415971e-06, 8.64684395e-12, ...,\n",
       "           1.35562600e-10, 2.85869522e-05, 2.17900843e-04],\n",
       "          ...,\n",
       "          [5.74641382e-05, 1.29174204e-06, 7.79538689e-08, ...,\n",
       "           6.75089481e-07, 6.00841291e-06, 3.87361089e-05],\n",
       "          [4.50413680e-05, 9.44531953e-07, 2.18882140e-10, ...,\n",
       "           4.94040362e-09, 4.08211585e-06, 2.97581662e-05],\n",
       "          [3.80436284e-05, 7.97041672e-07, 1.16489584e-13, ...,\n",
       "           5.16946062e-12, 3.60696079e-06, 2.63103553e-05]],\n",
       "  \n",
       "         [[3.76151200e-04, 3.73859640e-05, 1.85239759e-12, ...,\n",
       "           2.52427063e-14, 3.00140674e-07, 1.37883475e-05],\n",
       "          [4.00081575e-04, 3.98469585e-05, 4.49338260e-12, ...,\n",
       "           1.10582988e-13, 3.41005713e-07, 1.55157448e-05],\n",
       "          [4.41743341e-04, 4.41457585e-05, 2.66506036e-11, ...,\n",
       "           2.53664313e-11, 4.10392759e-07, 1.84105641e-05],\n",
       "          ...,\n",
       "          [3.71816195e-04, 3.96346968e-05, 7.27970069e-07, ...,\n",
       "           5.68030525e-08, 8.18082631e-07, 1.91565522e-05],\n",
       "          [3.58032660e-04, 3.74120698e-05, 3.07817624e-09, ...,\n",
       "           2.58978338e-10, 4.32498312e-07, 1.79957842e-05],\n",
       "          [3.46922063e-04, 3.62252993e-05, 3.84792380e-12, ...,\n",
       "           2.18644641e-13, 4.20707783e-07, 1.76150392e-05]]]),\n",
       "  'mfcc': array([[[-1.        , -1.        , -1.        , ..., -1.        ,\n",
       "           -1.        , -1.        ],\n",
       "          [ 0.26177944,  0.05652749, -0.32995713, ..., -0.03931227,\n",
       "            0.07147725,  0.14267357],\n",
       "          [-0.60582895, -0.68381695, -0.73791901, ..., -0.444407  ,\n",
       "           -0.3776471 , -0.28369405],\n",
       "          ...,\n",
       "          [ 0.08385973,  0.09017727,  0.02289719, ..., -0.02623786,\n",
       "           -0.02163543, -0.02178244],\n",
       "          [ 0.07610183,  0.10517222,  0.06129366, ...,  0.00639585,\n",
       "            0.01805849,  0.01626738],\n",
       "          [-0.25765631, -0.26353898, -0.11454952, ..., -0.02173703,\n",
       "           -0.01804233, -0.01548611]],\n",
       "  \n",
       "         [[-1.        , -1.        , -1.        , ..., -1.        ,\n",
       "           -1.        , -1.        ],\n",
       "          [-0.05742453, -0.18678824, -0.30698563, ..., -0.0460306 ,\n",
       "            0.05573109,  0.11467849],\n",
       "          [-0.5037279 , -0.65066009, -0.69556499, ..., -0.46202719,\n",
       "           -0.40110261, -0.30821776],\n",
       "          ...,\n",
       "          [ 0.06370789,  0.04787352,  0.00993554, ..., -0.02201164,\n",
       "           -0.01283506, -0.01004127],\n",
       "          [ 0.11656299,  0.16562613,  0.11874571, ...,  0.00592055,\n",
       "            0.0236347 ,  0.01737376],\n",
       "          [-0.19046009, -0.18296045, -0.08100737, ..., -0.03096946,\n",
       "           -0.0204877 , -0.01785225]],\n",
       "  \n",
       "         [[-1.        , -1.        , -1.        , ..., -1.        ,\n",
       "           -1.        , -1.        ],\n",
       "          [ 0.18630788,  0.00939788, -0.30996234, ..., -0.0356178 ,\n",
       "            0.07094822,  0.12679907],\n",
       "          [-0.65852184, -0.80954632, -0.74818411, ..., -0.45448342,\n",
       "           -0.39964885, -0.32268192],\n",
       "          ...,\n",
       "          [ 0.02003733,  0.04113537,  0.0153099 , ..., -0.00890364,\n",
       "           -0.01406063, -0.01527632],\n",
       "          [ 0.17338027,  0.18021095,  0.09421842, ...,  0.00924187,\n",
       "            0.01509421,  0.0217013 ],\n",
       "          [-0.21643772, -0.23330159, -0.09029193, ..., -0.02574057,\n",
       "           -0.01986138, -0.01401581]],\n",
       "  \n",
       "         ...,\n",
       "  \n",
       "         [[-1.        , -1.        , -1.        , ..., -1.        ,\n",
       "           -1.        , -1.        ],\n",
       "          [-0.00358562, -0.0383796 , -0.15968956, ..., -0.04465144,\n",
       "           -0.02809208, -0.03122055],\n",
       "          [-0.38693555, -0.54390393, -0.70224165, ..., -0.72434737,\n",
       "           -0.56026573, -0.27485297],\n",
       "          ...,\n",
       "          [ 0.00536764, -0.01132375, -0.0204434 , ..., -0.01728815,\n",
       "           -0.02117707, -0.01116798],\n",
       "          [ 0.01882616,  0.01810972,  0.01545094, ..., -0.00976733,\n",
       "           -0.01162166, -0.00668977],\n",
       "          [-0.00990889, -0.01349223, -0.03419735, ..., -0.03301353,\n",
       "           -0.03255445, -0.01388599]],\n",
       "  \n",
       "         [[-1.        , -1.        , -1.        , ..., -1.        ,\n",
       "           -1.        , -1.        ],\n",
       "          [-0.00648288, -0.00519195, -0.11594616, ..., -0.10363716,\n",
       "           -0.04363346, -0.0039434 ],\n",
       "          [-0.38460546, -0.73182759, -0.86320904, ..., -0.39419283,\n",
       "           -0.3110775 , -0.20906409],\n",
       "          ...,\n",
       "          [-0.02715789, -0.01725096, -0.00904134, ..., -0.01035691,\n",
       "           -0.0150861 , -0.01568864],\n",
       "          [ 0.01013535,  0.01669443,  0.01254086, ...,  0.01143572,\n",
       "            0.00658674,  0.00245879],\n",
       "          [-0.01744392, -0.02698908, -0.03217376, ..., -0.00535758,\n",
       "           -0.00753084, -0.0114412 ]],\n",
       "  \n",
       "         [[-1.        , -1.        , -1.        , ..., -1.        ,\n",
       "           -1.        , -1.        ],\n",
       "          [-0.01131514, -0.05073954, -0.1141064 , ..., -0.0230035 ,\n",
       "           -0.05375801, -0.06629101],\n",
       "          [-0.17789564, -0.28455943, -0.40225971, ..., -0.62809334,\n",
       "           -0.46230311, -0.31474693],\n",
       "          ...,\n",
       "          [-0.02126507, -0.0194307 , -0.00752821, ..., -0.01920813,\n",
       "           -0.01315168, -0.00464894],\n",
       "          [ 0.01335006,  0.01238138,  0.01275695, ..., -0.01308287,\n",
       "            0.00178683,  0.0253016 ],\n",
       "          [-0.0047992 ,  0.00151259, -0.01927524, ..., -0.06535296,\n",
       "           -0.04567705, -0.0172172 ]]]),\n",
       "  'chroma': array([[[0.03257377, 0.02943217, 0.03182253, ..., 1.        ,\n",
       "           0.91985697, 1.        ],\n",
       "          [0.00706058, 0.00614295, 0.02420942, ..., 0.9082938 ,\n",
       "           0.9346529 , 0.87918631],\n",
       "          [0.0408772 , 0.090486  , 0.29918319, ..., 0.64537987,\n",
       "           0.91513269, 0.85449672],\n",
       "          ...,\n",
       "          [0.04821363, 0.1917221 , 0.78518939, ..., 0.88134564,\n",
       "           0.60740076, 0.53629541],\n",
       "          [0.24748499, 0.3660582 , 0.86097495, ..., 0.49241752,\n",
       "           0.70971658, 0.75558831],\n",
       "          [0.36942591, 0.35372819, 0.32960534, ..., 0.51755093,\n",
       "           1.        , 0.9340475 ]],\n",
       "  \n",
       "         [[0.00525371, 0.00430819, 0.01190532, ..., 0.48432235,\n",
       "           0.70485795, 0.61655469],\n",
       "          [0.01556845, 0.04343666, 0.12130241, ..., 0.45607164,\n",
       "           0.79756881, 0.93836555],\n",
       "          [0.22800902, 0.27724305, 0.33370546, ..., 0.42427121,\n",
       "           0.72507991, 0.88079523],\n",
       "          ...,\n",
       "          [0.12937897, 0.44266345, 1.        , ..., 0.6997253 ,\n",
       "           0.97666156, 0.80877571],\n",
       "          [0.20160681, 0.21962619, 0.28714545, ..., 1.        ,\n",
       "           1.        , 1.        ],\n",
       "          [0.02735393, 0.02452539, 0.03027869, ..., 0.6056254 ,\n",
       "           0.75326612, 0.66562068]],\n",
       "  \n",
       "         [[0.01174408, 0.0084069 , 0.01796509, ..., 0.44033426,\n",
       "           0.91372605, 0.83559207],\n",
       "          [0.04045629, 0.0884074 , 0.1619705 , ..., 0.49571195,\n",
       "           0.59439494, 0.59035136],\n",
       "          [0.30366203, 0.40471749, 0.40563704, ..., 0.69980213,\n",
       "           0.79909722, 0.48283847],\n",
       "          ...,\n",
       "          [0.21063022, 0.56091566, 1.        , ..., 0.6347706 ,\n",
       "           0.76931053, 0.68248985],\n",
       "          [0.1318151 , 0.18604277, 0.28573466, ..., 0.9315822 ,\n",
       "           0.98533369, 0.66833228],\n",
       "          [0.01802342, 0.01761388, 0.03662484, ..., 0.72409732,\n",
       "           0.98997198, 0.78661236]],\n",
       "  \n",
       "         ...,\n",
       "  \n",
       "         [[1.        , 1.        , 0.61450832, ..., 0.67982249,\n",
       "           0.71706475, 1.        ],\n",
       "          [0.71785107, 0.59088624, 0.2664589 , ..., 1.        ,\n",
       "           1.        , 0.71149782],\n",
       "          [0.63648541, 0.47001435, 0.405755  , ..., 0.47134555,\n",
       "           0.48145175, 0.46689599],\n",
       "          ...,\n",
       "          [0.39798613, 0.27017506, 0.24028   , ..., 0.09999113,\n",
       "           0.17282876, 0.46035338],\n",
       "          [0.63537624, 0.46776936, 0.37576529, ..., 0.33794016,\n",
       "           0.42375794, 0.44592618],\n",
       "          [0.75957862, 0.75594884, 0.68013663, ..., 0.61717358,\n",
       "           0.83111198, 0.90994396]],\n",
       "  \n",
       "         [[0.80883755, 0.87614423, 0.72838395, ..., 1.        ,\n",
       "           0.4108665 , 0.18423559],\n",
       "          [0.56028796, 0.62413509, 0.6147079 , ..., 0.73656634,\n",
       "           0.50535241, 0.38762376],\n",
       "          [0.7202801 , 1.        , 1.        , ..., 0.62768424,\n",
       "           0.33684162, 0.33613988],\n",
       "          ...,\n",
       "          [0.82832664, 0.607783  , 0.3563782 , ..., 0.38943235,\n",
       "           0.60290855, 0.63218044],\n",
       "          [0.72396259, 0.51768772, 0.49104494, ..., 0.73403977,\n",
       "           1.        , 1.        ],\n",
       "          [0.88402167, 0.82066911, 0.9002131 , ..., 0.70433058,\n",
       "           0.61810009, 0.48075064]],\n",
       "  \n",
       "         [[0.45630126, 0.48873625, 0.54899346, ..., 0.18204335,\n",
       "           0.40682413, 0.71427922],\n",
       "          [0.48298781, 0.45702756, 0.51878753, ..., 0.40863892,\n",
       "           0.61708315, 0.95903964],\n",
       "          [0.42816821, 0.41703257, 0.44567392, ..., 0.77239517,\n",
       "           1.        , 1.        ],\n",
       "          ...,\n",
       "          [0.39790318, 0.33245681, 0.30230273, ..., 0.53635846,\n",
       "           0.60105841, 0.63998024],\n",
       "          [1.        , 1.        , 0.63195157, ..., 1.        ,\n",
       "           0.66576926, 0.95755456],\n",
       "          [0.35923011, 0.70665163, 1.        , ..., 0.49642824,\n",
       "           0.39854309, 0.51793986]]]),\n",
       "  'rms': array([[[0.12163159, 0.12227605, 0.12261976, ..., 0.00897201,\n",
       "           0.00805981, 0.0064793 ]],\n",
       "  \n",
       "         [[0.12811357, 0.12846963, 0.12856331, ..., 0.01020419,\n",
       "           0.00908467, 0.0072707 ]],\n",
       "  \n",
       "         [[0.11731422, 0.11802917, 0.11834548, ..., 0.00933959,\n",
       "           0.00838153, 0.00710095]],\n",
       "  \n",
       "         ...,\n",
       "  \n",
       "         [[0.0136989 , 0.02096493, 0.0295217 , ..., 0.02393436,\n",
       "           0.02356211, 0.01486908]],\n",
       "  \n",
       "         [[0.03050004, 0.03432608, 0.03577645, ..., 0.00698992,\n",
       "           0.00606833, 0.00444619]],\n",
       "  \n",
       "         [[0.00501902, 0.00634122, 0.01410498, ..., 0.0204023 ,\n",
       "           0.01676296, 0.00667907]]], dtype=float32),\n",
       "  'label': array([14, 14, 14, ...,  4,  4,  4])}}"
      ]
     },
     "execution_count": 108,
     "metadata": {},
     "output_type": "execute_result"
    }
   ],
   "source": [
    "merged_dict = {'train': train_features, 'val': val_features}\n",
    "merged_dict"
   ]
  },
  {
   "cell_type": "markdown",
   "metadata": {},
   "source": [
    "### Save the merged dictionary to a pkl"
   ]
  },
  {
   "cell_type": "code",
   "execution_count": 109,
   "metadata": {},
   "outputs": [],
   "source": [
    "with open('C:/Users/thato/Documents/Final-Year-Project/Dataset/Project-V4/feature-extraction/Annotated/NotAveragePooled/split_features_1s_all.pkl', 'wb') as file:\n",
    "  pickle.dump(merged_dict, file)"
   ]
  }
 ],
 "metadata": {
  "kernelspec": {
   "display_name": "Python 3",
   "language": "python",
   "name": "python3"
  },
  "language_info": {
   "codemirror_mode": {
    "name": "ipython",
    "version": 3
   },
   "file_extension": ".py",
   "mimetype": "text/x-python",
   "name": "python",
   "nbconvert_exporter": "python",
   "pygments_lexer": "ipython3",
   "version": "3.12.4"
  }
 },
 "nbformat": 4,
 "nbformat_minor": 2
}
