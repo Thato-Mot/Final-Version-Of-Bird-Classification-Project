{
 "cells": [
  {
   "cell_type": "markdown",
   "metadata": {},
   "source": [
    "# **Feature Extraction Methods: Imbalanced Data With Annotations**\n",
    "\n",
    "- *Key Features*: [MFCCs, Mel-Spectrograms, Chroma Frequencies, RMS Power]\n",
    "- *Key Manipulations*: [Varying Window Sizes, Normalization, Average Pooling (Compression), Filtering]\n",
    "- *Process Assistence*: [Converting them to numpy arrays now, easy label access across features]\n",
    "- *Conversion*: [To numpy arrays and pkl files]\n"
   ]
  },
  {
   "cell_type": "code",
   "execution_count": 1,
   "metadata": {},
   "outputs": [],
   "source": [
    "# Standard libraries\n",
    "import numpy as np\n",
    "import pandas as pd\n",
    "import os\n",
    "import time\n",
    "\n",
    "# Libraries for audio\n",
    "from IPython.display import Audio\n",
    "import librosa\n",
    "import librosa.display\n",
    "\n",
    "# Training and Testing Split\n",
    "from sklearn.model_selection import train_test_split\n",
    "\n",
    "# for normalization & avgpooling features\n",
    "import tensorflow as tf\n",
    "# for preprocessing\n",
    "from sklearn.preprocessing import LabelEncoder\n",
    "from sklearn.preprocessing import MinMaxScaler\n",
    "from sklearn.preprocessing import OneHotEncoder\n",
    "\n",
    "# Operational\n",
    "from tqdm import tqdm\n",
    "import matplotlib.pyplot as plt\n",
    "import seaborn as sns\n",
    "import pickle\n",
    "import time\n",
    "import random\n",
    "import IPython.display as ipd"
   ]
  },
  {
   "cell_type": "code",
   "execution_count": 2,
   "metadata": {},
   "outputs": [],
   "source": [
    "# Variabels to be reused\n",
    "path = 'C:/Users/thato/Documents/Final-Year-Project/Dataset/Project-V4/audio_files' \n",
    "npy_path = 'C:/Users/thato/Documents/Final-Year-Project/Dataset/Project-V4/train_audio_npy/' \n",
    "train_csv = 'C:/Users/thato/Documents/Final-Year-Project/Dataset/Project-V4/train-not-annotated.csv' \n",
    "annotated_train_csv = 'C:/Users/thato/Documents/Final-Year-Project/Dataset/Project-V4/trainval-split/trainval-annotated.csv'\n",
    "not_annotated_splt = 'C:/Users/thato/Documents/Final-Year-Project/Dataset/Project-V4/trainval-split/trainval.csv'\n",
    "sr = 22050"
   ]
  },
  {
   "cell_type": "code",
   "execution_count": 3,
   "metadata": {},
   "outputs": [],
   "source": [
    "trainval_data = pd.read_csv(annotated_train_csv)\n",
    "train_data = trainval_data[trainval_data['set'] == 'tr']\n",
    "val_data = trainval_data[trainval_data['set'] == 'val']"
   ]
  },
  {
   "cell_type": "markdown",
   "metadata": {},
   "source": [
    "# **Creating a class to do the extraction**"
   ]
  },
  {
   "cell_type": "code",
   "execution_count": 7,
   "metadata": {},
   "outputs": [],
   "source": [
    "class Extraction:\n",
    "  def __init__(self, train_df, val_df, window_size, overlap=0.5, npy_path=npy_path, sr=sr, n_mels=128, n_mfcc=20, n_chroma=12, n_cqt=84, hoplength=256, features=['mfcc'], normalize=True, avgpool=False):\n",
    "    \"\"\"\n",
    "    Instantiate the Extraction class to extract features.\n",
    "\n",
    "    Parameters:\n",
    "      sr (int): Sample rate of the audio files.\n",
    "      n_mfccs (int): Number of MFCCs to extract.\n",
    "      n_mels (int): Number of Mel bands to extract.\n",
    "      n_chroma (int): Number of chroma bins to use.\n",
    "      n_cqt (int): Number of CQT bins to use.\n",
    "      features (list): List of features to extract.\n",
    "        accepted features: 'mfcc', 'chroma', 'cqt', 'melspectrogram'.\n",
    "      normalize (bool): Whether to normalize the features.\n",
    "      avgpool (bool): Whether to avgpool the features.\n",
    "    \"\"\"\n",
    "    \n",
    "    self.train_df = train_df\n",
    "    self.val_df = val_df\n",
    "    self.npy_path = npy_path\n",
    "    self.window_size = window_size\n",
    "    self.overlap = overlap\n",
    "    self.sr = sr\n",
    "    self.n_mels = n_mels\n",
    "    self.n_mfcc = n_mfcc\n",
    "    self.n_chroma = n_chroma\n",
    "    self.n_cqt = n_cqt\n",
    "    self.hoplength = hoplength\n",
    "\n",
    "     # confirm features have been specified\n",
    "    assert len(features) != 0, \"Must Specify At Least One Feature In The Form Of A List.\"\n",
    "    self.features = features\n",
    "\n",
    "    self.accepted_feature = ['mfcc', 'chroma', 'cqt', 'melspectrogram']\n",
    "    for feature in self.features:\n",
    "      assert feature in self.accepted_feature, f\"{feature} is not an accepted feature, only 'mfcc', 'chroma', 'cqt', 'melspectrogram' are accepted features.\"\n",
    "\n",
    "    self.normalize = normalize\n",
    "    self.avgpool = avgpool\n",
    "\n",
    "    print(f\"Train DataFrame shape: {train_df.shape}\")\n",
    "    print(f\"Validation DataFrame shape: {val_df.shape}\")\n",
    "\n",
    "    # extract train and val labels and features\n",
    "    self.train_y, self.train_features, self.train_ids = self.feature_extraction(self.train_df, window_size=self.window_size)\n",
    "    self.val_y, self.val_features, self.val_ids = self.feature_extraction(self.val_df, window_size=self.window_size)\n",
    "\n",
    "    # process the features by average pooling\n",
    "    self.train_features_2D, self.val_features_2D, self.train_features_1D, self.val_features_1D = self.process_features(self.train_features, self.val_features)\n",
    "\n",
    "\n",
    "  def normalize_audio(self, audio):\n",
    "    return (audio - np.min(audio)) / (np.max(audio) - np.min(audio))\n",
    "  \n",
    "  def generate_pink_noise(self, num_samples):\n",
    "    white_noise = np.random.randn(num_samples)\n",
    "    \n",
    "    # Apply a filter to convert white noise into pink noise (1/f noise)\n",
    "    X = np.fft.rfft(white_noise)\n",
    "    S = np.arange(1, len(X) + 1)  # Frequency scaling\n",
    "    pink_noise = np.fft.irfft(X / S)\n",
    "\n",
    "    if len(pink_noise) < num_samples:\n",
    "        # Pad with zeros if the length is less than num_samples\n",
    "        pink_noise = np.pad(pink_noise, (0, num_samples - len(pink_noise)), mode='constant')\n",
    "    elif len(pink_noise) > num_samples:\n",
    "        # Trim if necessary\n",
    "        pink_noise = pink_noise[:num_samples]\n",
    "    \n",
    "    return self.normalize_audio(pink_noise)\n",
    "  \n",
    "  def pad_with_noise(self, audio_data, window_length, window_samples):\n",
    "    current_length = librosa.get_duration(y=audio_data, sr=self.sr)\n",
    "\n",
    "    if current_length > window_length:\n",
    "        return audio_data\n",
    "    \n",
    "    target_length_samples = int(window_length * sr) \n",
    "    current_length_samples = window_samples\n",
    "    padding_length_samples = target_length_samples - current_length_samples\n",
    "\n",
    "    assert target_length_samples == (current_length_samples+padding_length_samples)\n",
    "    \n",
    "    # Generate pink noise to pad with\n",
    "    pink_noise = self.generate_pink_noise(padding_length_samples)\n",
    "    padded_audio = np.concatenate([audio_data, pink_noise])\n",
    "    # if len(padded_audio) < target_length_samples:\n",
    "    #     padded_audio = np.append(padded_audio, self.generate_pink_noise(1))\n",
    "\n",
    "    assert target_length_samples == len(padded_audio)\n",
    "    \n",
    "    return padded_audio\n",
    "  \n",
    "  def avg_pooling_keras(self, feature):\n",
    "    # Clear the previous Keras session\n",
    "    tf.keras.backend.clear_session()\n",
    "\n",
    "    # Define the input shape based on features\n",
    "    input_shape = feature.shape[1:]  # (n_mels, time_steps)\n",
    "\n",
    "    # Create the Keras model for average pooling\n",
    "    inputs = tf.keras.layers.Input(shape=input_shape)\n",
    "    pooled = tf.keras.layers.GlobalAveragePooling1D()(inputs)\n",
    "    pooling_model = tf.keras.models.Model(inputs=inputs, outputs=pooled)\n",
    "\n",
    "    # Perform pooling using the model\n",
    "    pooled_features = pooling_model.predict(feature)\n",
    "\n",
    "    return pooled_features\n",
    "\n",
    "#-------------------------Feature Extraction---------------------------------------\n",
    "  def extract_mfcc(self, window):\n",
    "    mfcc = librosa.feature.mfcc(y=window, sr=self.sr, n_mfcc=self.n_mfcc, hop_length=self.hoplength)\n",
    "    if self.normalize:\n",
    "      return librosa.util.normalize(mfcc)\n",
    "    else:\n",
    "      return mfcc\n",
    "\n",
    "\n",
    "  def extract_chroma(self, window):\n",
    "    chroma = librosa.feature.chroma_stft(y=window, sr=self.sr, n_chroma=self.n_chroma, hop_length=self.hoplength)\n",
    "    if self.normalize:\n",
    "      return librosa.util.normalize(chroma)\n",
    "    else:\n",
    "      return chroma\n",
    "   \n",
    "\n",
    "  def extract_cqt(self, window):\n",
    "    cqt = librosa.cqt(y=window, sr=sr, hop_length=self.hoplength, n_bins=self.n_cqt)\n",
    "    cqt_db = librosa.amplitude_to_db(np.abs(cqt), ref=np.max)\n",
    "    return cqt_db\n",
    "\n",
    "  def extract_melspectrogram(self, window):\n",
    "    mel = librosa.feature.melspectrogram(y=window, sr=self.sr, n_mels=self.n_mels, hop_length=self.hoplength)\n",
    "    mel_db = librosa.power_to_db(mel, ref=np.max)\n",
    "    if self.normalize:\n",
    "      return librosa.util.normalize(mel_db)\n",
    "    else:\n",
    "      return mel_db\n",
    "    \n",
    "  def avgpooling(self, train_X, val_X, n_time, n_features):\n",
    "    \"\"\"\n",
    "    Average pooling the train and val features.\n",
    "\n",
    "    Parameters:\n",
    "      train_X (npy): Training feature array of shape (batch_size, n_features, n_time)\n",
    "      val_X (npy): Validation feature array of shape (batch_size, n_features, n_time)\n",
    "      n_time (int): Time axis\n",
    "      n_features (int): Feature axis\n",
    "\n",
    "    Returns:\n",
    "      train_X (npy): Avgpooled training feature array of shape (batch_size, n_features)\n",
    "      val_X (npy): Avgpooled validation feature array of shape (batch_size, n_features)\n",
    "    \"\"\"\n",
    "    # Clear the Keras session\n",
    "    tf.keras.backend.clear_session()\n",
    "    \n",
    "    # Create the Keras input layer with shape (n_features, n_time)\n",
    "    input_layer = tf.keras.layers.Input(shape=(n_features, n_time))\n",
    "    \n",
    "    # Apply average pooling over the time axis (axis=-1) to reduce n_time\n",
    "    avg_pool = tf.keras.layers.Lambda(lambda x: tf.reduce_mean(x, axis=-1))(input_layer)\n",
    "    \n",
    "    # Build the model\n",
    "    pooling_model = tf.keras.models.Model(inputs=input_layer, outputs=avg_pool)\n",
    "\n",
    "    # Use the model to apply average pooling on the training and validation features\n",
    "    train_X = pooling_model.predict(train_X)\n",
    "    val_X = pooling_model.predict(val_X)\n",
    "\n",
    "    return train_X, val_X\n",
    "\n",
    "    \n",
    "  def process_features(self, train_features_dict, val_features_dict):\n",
    "    train_copy = train_features_dict.copy()\n",
    "    val_copy = val_features_dict.copy()\n",
    "    for each in train_copy.keys():\n",
    "      \n",
    "      if each == 'mfcc':\n",
    "        n_features=self.n_mfcc\n",
    "      elif each == 'chroma':\n",
    "        n_features=self.n_chroma\n",
    "      elif each == 'cqt':\n",
    "        n_features=self.n_cqt\n",
    "      elif each == 'melspectrogram':\n",
    "        n_features=self.n_mels\n",
    "      \n",
    "      train_feature = train_copy[each]\n",
    "      val_feature = val_copy[each]\n",
    "\n",
    "      if self.avgpool:\n",
    "        train_copy[each], val_copy[each] = self.avgpooling(train_feature, val_feature, n_time=train_feature.shape[2], n_features=n_features)\n",
    "      else:\n",
    "        train_copy[each], val_copy[each] = train_copy[each], val_copy[each]\n",
    "    \n",
    "    return train_features_dict, val_features_dict, train_copy, val_copy\n",
    "      \n",
    "\n",
    "  def feature_extraction(self, dataframe, window_size):\n",
    "    y = [] # To hold the labels\n",
    "    ids = []\n",
    "    features_dict = {item: [] for item in self.features} # Create a key for each feature listed\n",
    "    print(f\"Number of rows in dataframe: {len(dataframe)}\")\n",
    "    for _, row in tqdm(dataframe.iterrows(), desc=\"Processing data\", total=len(dataframe)):\n",
    "          label = row['species']\n",
    "          file_path = os.path.join(self.npy_path, row['filename_npy'])\n",
    "          id = row['audio_name']\n",
    "          start = row['start']\n",
    "          end = row['end']\n",
    "\n",
    "          # print(f\"Processing file: {file_path}\")\n",
    "\n",
    "          try:\n",
    "            \n",
    "              audio = np.load(file_path)\n",
    "          except FileNotFoundError:\n",
    "              print(f\"File not found: {file_path}\")\n",
    "              continue\n",
    "\n",
    "\n",
    "          start = int(start * sr)\n",
    "          end = int(end * sr)+512\n",
    "\n",
    "\n",
    "\n",
    "          if end > len(audio):\n",
    "             end = len(audio)\n",
    "\n",
    "          sample = audio[start:end]\n",
    "\n",
    "          if len(sample) < 512:\n",
    "                continue\n",
    "\n",
    "          sample = self.normalize_audio(sample)\n",
    "\n",
    "          sample = self.pad_with_noise(sample, window_length=self.window_size, window_samples=len(sample))\n",
    "          # print(len(sample))\n",
    "\n",
    "          window_samples = int(window_size * self.sr)\n",
    "          hop_samples = int(window_samples * (1 - self.overlap))  # For overlapping\n",
    "\n",
    "          # Break the audio into windows with the specified overlap\n",
    "          audio_windows = librosa.util.frame(sample, frame_length=window_samples, hop_length=hop_samples).T\n",
    "          \n",
    "          \n",
    "          # display(label)\n",
    "          \n",
    "          for _, window in enumerate(audio_windows):\n",
    "              \n",
    "              y.append(label)\n",
    "              ids.append(id)\n",
    "\n",
    "              if len(window) < window_samples:\n",
    "                  if len(window) < 512*2:\n",
    "                     continue\n",
    "                  else:\n",
    "                      window = self.pad_with_noise(window, window_length=window_size)\n",
    "              \n",
    "              # Feature Extraction FR --------------------------------------------------------------------\n",
    "              # dynatically call the extract_x function to extract the listed features\n",
    "              for feature in self.features:\n",
    "                extract = f\"extract_{feature}\"\n",
    "                if hasattr(self, extract) and callable(func := getattr(self, extract)):\n",
    "                  features_dict[feature].append(func(window))\n",
    "\n",
    "          # cast lists to np arrays\n",
    "    for each in features_dict.keys():\n",
    "              features_dict[each] = np.array(features_dict[each])\n",
    "\n",
    "    y = np.array(y)\n",
    "    ids = np.array(ids)\n",
    "\n",
    "          # If not using average pooling, return resized features\n",
    "    return y, features_dict, ids"
   ]
  },
  {
   "cell_type": "markdown",
   "metadata": {},
   "source": [
    "## **Window Size = 3s**"
   ]
  },
  {
   "cell_type": "code",
   "execution_count": 5,
   "metadata": {},
   "outputs": [],
   "source": [
    "features_list = ['melspectrogram', 'mfcc', 'chroma', 'cqt']"
   ]
  },
  {
   "cell_type": "code",
   "execution_count": 8,
   "metadata": {},
   "outputs": [
    {
     "name": "stdout",
     "output_type": "stream",
     "text": [
      "Train DataFrame shape: (3444, 9)\n",
      "Validation DataFrame shape: (834, 9)\n",
      "Number of rows in dataframe: 3444\n"
     ]
    },
    {
     "name": "stderr",
     "output_type": "stream",
     "text": [
      "Processing data:   0%|          | 0/3444 [00:00<?, ?it/s]c:\\Users\\thato\\AppData\\Local\\Programs\\Python\\Python312\\Lib\\site-packages\\librosa\\core\\pitch.py:101: UserWarning: Trying to estimate tuning from empty frequency set.\n",
      "  return pitch_tuning(\n",
      "Processing data: 100%|██████████| 3444/3444 [06:05<00:00,  9.42it/s]\n"
     ]
    },
    {
     "name": "stdout",
     "output_type": "stream",
     "text": [
      "Number of rows in dataframe: 834\n"
     ]
    },
    {
     "name": "stderr",
     "output_type": "stream",
     "text": [
      "Processing data: 100%|██████████| 834/834 [01:26<00:00,  9.64it/s]\n"
     ]
    },
    {
     "name": "stdout",
     "output_type": "stream",
     "text": [
      "WARNING:tensorflow:From c:\\Users\\thato\\AppData\\Local\\Programs\\Python\\Python312\\Lib\\site-packages\\keras\\src\\backend\\common\\global_state.py:82: The name tf.reset_default_graph is deprecated. Please use tf.compat.v1.reset_default_graph instead.\n",
      "\n",
      "\u001b[1m165/165\u001b[0m \u001b[32m━━━━━━━━━━━━━━━━━━━━\u001b[0m\u001b[37m\u001b[0m \u001b[1m0s\u001b[0m 1ms/step\n",
      "\u001b[1m43/43\u001b[0m \u001b[32m━━━━━━━━━━━━━━━━━━━━\u001b[0m\u001b[37m\u001b[0m \u001b[1m0s\u001b[0m 1ms/step \n",
      "\u001b[1m165/165\u001b[0m \u001b[32m━━━━━━━━━━━━━━━━━━━━\u001b[0m\u001b[37m\u001b[0m \u001b[1m0s\u001b[0m 559us/step\n",
      "\u001b[1m43/43\u001b[0m \u001b[32m━━━━━━━━━━━━━━━━━━━━\u001b[0m\u001b[37m\u001b[0m \u001b[1m0s\u001b[0m 465us/step\n",
      "\u001b[1m165/165\u001b[0m \u001b[32m━━━━━━━━━━━━━━━━━━━━\u001b[0m\u001b[37m\u001b[0m \u001b[1m0s\u001b[0m 476us/step\n",
      "\u001b[1m43/43\u001b[0m \u001b[32m━━━━━━━━━━━━━━━━━━━━\u001b[0m\u001b[37m\u001b[0m \u001b[1m0s\u001b[0m 451us/step\n",
      "\u001b[1m165/165\u001b[0m \u001b[32m━━━━━━━━━━━━━━━━━━━━\u001b[0m\u001b[37m\u001b[0m \u001b[1m0s\u001b[0m 1ms/step\n",
      "\u001b[1m43/43\u001b[0m \u001b[32m━━━━━━━━━━━━━━━━━━━━\u001b[0m\u001b[37m\u001b[0m \u001b[1m0s\u001b[0m 859us/step\n"
     ]
    }
   ],
   "source": [
    "features = Extraction(train_data,\n",
    "                      val_data,\n",
    "                      window_size=3,\n",
    "                      features=features_list,\n",
    "                      avgpool=True\n",
    "                      )"
   ]
  },
  {
   "cell_type": "code",
   "execution_count": 9,
   "metadata": {},
   "outputs": [
    {
     "data": {
      "text/plain": [
       "(5278,)"
      ]
     },
     "metadata": {},
     "output_type": "display_data"
    },
    {
     "data": {
      "text/plain": [
       "(1350,)"
      ]
     },
     "metadata": {},
     "output_type": "display_data"
    }
   ],
   "source": [
    "train_y = features.train_y\n",
    "val_y = features.val_y\n",
    "\n",
    "display(train_y.shape)\n",
    "display(val_y.shape)"
   ]
  },
  {
   "cell_type": "code",
   "execution_count": 10,
   "metadata": {},
   "outputs": [
    {
     "data": {
      "text/plain": [
       "'melspectrogram'"
      ]
     },
     "metadata": {},
     "output_type": "display_data"
    },
    {
     "data": {
      "text/plain": [
       "(5278, 128)"
      ]
     },
     "metadata": {},
     "output_type": "display_data"
    },
    {
     "data": {
      "text/plain": [
       "'mfcc'"
      ]
     },
     "metadata": {},
     "output_type": "display_data"
    },
    {
     "data": {
      "text/plain": [
       "(5278, 20)"
      ]
     },
     "metadata": {},
     "output_type": "display_data"
    },
    {
     "data": {
      "text/plain": [
       "'chroma'"
      ]
     },
     "metadata": {},
     "output_type": "display_data"
    },
    {
     "data": {
      "text/plain": [
       "(5278, 12)"
      ]
     },
     "metadata": {},
     "output_type": "display_data"
    },
    {
     "data": {
      "text/plain": [
       "'cqt'"
      ]
     },
     "metadata": {},
     "output_type": "display_data"
    },
    {
     "data": {
      "text/plain": [
       "(5278, 84)"
      ]
     },
     "metadata": {},
     "output_type": "display_data"
    }
   ],
   "source": [
    "# Avgpooled Features\n",
    "train_features_1D = features.train_features_1D\n",
    "for key in train_features_1D.keys():\n",
    "  display(key)\n",
    "  display(train_features_1D[key].shape)"
   ]
  },
  {
   "cell_type": "code",
   "execution_count": 11,
   "metadata": {},
   "outputs": [
    {
     "data": {
      "text/plain": [
       "'melspectrogram'"
      ]
     },
     "metadata": {},
     "output_type": "display_data"
    },
    {
     "data": {
      "text/plain": [
       "(1350, 128)"
      ]
     },
     "metadata": {},
     "output_type": "display_data"
    },
    {
     "data": {
      "text/plain": [
       "'mfcc'"
      ]
     },
     "metadata": {},
     "output_type": "display_data"
    },
    {
     "data": {
      "text/plain": [
       "(1350, 20)"
      ]
     },
     "metadata": {},
     "output_type": "display_data"
    },
    {
     "data": {
      "text/plain": [
       "'chroma'"
      ]
     },
     "metadata": {},
     "output_type": "display_data"
    },
    {
     "data": {
      "text/plain": [
       "(1350, 12)"
      ]
     },
     "metadata": {},
     "output_type": "display_data"
    },
    {
     "data": {
      "text/plain": [
       "'cqt'"
      ]
     },
     "metadata": {},
     "output_type": "display_data"
    },
    {
     "data": {
      "text/plain": [
       "(1350, 84)"
      ]
     },
     "metadata": {},
     "output_type": "display_data"
    }
   ],
   "source": [
    "# Avgpooled Features\n",
    "val_features_1D = features.val_features_1D\n",
    "for key in val_features_1D.keys():\n",
    "  display(key)\n",
    "  display(val_features_1D[key].shape)"
   ]
  },
  {
   "cell_type": "code",
   "execution_count": 12,
   "metadata": {},
   "outputs": [
    {
     "data": {
      "text/plain": [
       "'melspectrogram'"
      ]
     },
     "metadata": {},
     "output_type": "display_data"
    },
    {
     "data": {
      "text/plain": [
       "(5278, 128, 259)"
      ]
     },
     "metadata": {},
     "output_type": "display_data"
    },
    {
     "data": {
      "text/plain": [
       "'mfcc'"
      ]
     },
     "metadata": {},
     "output_type": "display_data"
    },
    {
     "data": {
      "text/plain": [
       "(5278, 20, 259)"
      ]
     },
     "metadata": {},
     "output_type": "display_data"
    },
    {
     "data": {
      "text/plain": [
       "'chroma'"
      ]
     },
     "metadata": {},
     "output_type": "display_data"
    },
    {
     "data": {
      "text/plain": [
       "(5278, 12, 259)"
      ]
     },
     "metadata": {},
     "output_type": "display_data"
    },
    {
     "data": {
      "text/plain": [
       "'cqt'"
      ]
     },
     "metadata": {},
     "output_type": "display_data"
    },
    {
     "data": {
      "text/plain": [
       "(5278, 84, 259)"
      ]
     },
     "metadata": {},
     "output_type": "display_data"
    }
   ],
   "source": [
    "# Not avgpooled Features\n",
    "train_features_2D = features.train_features_2D\n",
    "for key in train_features_2D.keys():\n",
    "  display(key)\n",
    "  display(train_features_2D[key].shape)"
   ]
  },
  {
   "cell_type": "code",
   "execution_count": 13,
   "metadata": {},
   "outputs": [
    {
     "data": {
      "text/plain": [
       "'melspectrogram'"
      ]
     },
     "metadata": {},
     "output_type": "display_data"
    },
    {
     "data": {
      "text/plain": [
       "(1350, 128, 259)"
      ]
     },
     "metadata": {},
     "output_type": "display_data"
    },
    {
     "data": {
      "text/plain": [
       "'mfcc'"
      ]
     },
     "metadata": {},
     "output_type": "display_data"
    },
    {
     "data": {
      "text/plain": [
       "(1350, 20, 259)"
      ]
     },
     "metadata": {},
     "output_type": "display_data"
    },
    {
     "data": {
      "text/plain": [
       "'chroma'"
      ]
     },
     "metadata": {},
     "output_type": "display_data"
    },
    {
     "data": {
      "text/plain": [
       "(1350, 12, 259)"
      ]
     },
     "metadata": {},
     "output_type": "display_data"
    },
    {
     "data": {
      "text/plain": [
       "'cqt'"
      ]
     },
     "metadata": {},
     "output_type": "display_data"
    },
    {
     "data": {
      "text/plain": [
       "(1350, 84, 259)"
      ]
     },
     "metadata": {},
     "output_type": "display_data"
    }
   ],
   "source": [
    "# Not avgpooled Features\n",
    "val_features_2D = features.val_features_2D\n",
    "for key in val_features_2D.keys():\n",
    "  display(key)\n",
    "  display(val_features_2D[key].shape)"
   ]
  },
  {
   "cell_type": "code",
   "execution_count": 14,
   "metadata": {},
   "outputs": [],
   "source": [
    "train_ids = features.train_ids\n",
    "val_ids = features.val_ids"
   ]
  },
  {
   "cell_type": "markdown",
   "metadata": {},
   "source": [
    "### Encode Classes"
   ]
  },
  {
   "cell_type": "code",
   "execution_count": 15,
   "metadata": {},
   "outputs": [
    {
     "name": "stdout",
     "output_type": "stream",
     "text": [
      "Encoded classes for [0, 1, 2]: ['Acrocephalus arundinaceus', 'Acrocephalus melanopogon', 'Acrocephalus scirpaceus']\n",
      "Encoded training labels: [ 9  9  9 ... 17 17 17]\n",
      "Encoded validation labels: [14 14 14 ...  4  4  4]\n"
     ]
    }
   ],
   "source": [
    "label_encoder = LabelEncoder().fit(train_y)\n",
    "train_y_encoded = label_encoder.transform(train_y)\n",
    "val_y_encoded = label_encoder.transform(val_y)\n",
    "\n",
    "classes = list(label_encoder.inverse_transform([0, 1, 2]))\n",
    "print(\"Encoded classes for [0, 1, 2]:\", classes)\n",
    "print(\"Encoded training labels:\", train_y_encoded)\n",
    "print(\"Encoded validation labels:\", val_y_encoded)"
   ]
  },
  {
   "cell_type": "code",
   "execution_count": 16,
   "metadata": {},
   "outputs": [],
   "source": [
    "# Avg Pooled\n",
    "\n",
    "train_features_1D['label'] = train_y_encoded\n",
    "val_features_1D['label'] = val_y_encoded\n",
    "\n",
    "train_features_1D['id'] = train_ids\n",
    "val_features_1D['id'] = val_ids\n",
    "\n",
    "# Not Avg Pooled\n",
    "\n",
    "train_features_2D['label'] = train_y_encoded\n",
    "val_features_2D['label'] = val_y_encoded\n",
    "\n",
    "train_features_2D['id'] = train_ids\n",
    "val_features_2D['id'] = val_ids"
   ]
  },
  {
   "cell_type": "code",
   "execution_count": 17,
   "metadata": {},
   "outputs": [
    {
     "data": {
      "text/plain": [
       "{'train': {'melspectrogram': array([[-0.01761791, -0.28131086, -0.26533863, ..., -0.9942341 ,\n",
       "          -0.99861884, -1.        ],\n",
       "         [-0.01783594, -0.28790727, -0.27350605, ..., -0.9952871 ,\n",
       "          -0.999275  , -1.        ],\n",
       "         [-0.01663349, -0.23677032, -0.2753801 , ..., -0.9895009 ,\n",
       "          -0.9974265 , -1.        ],\n",
       "         ...,\n",
       "         [-0.08988359, -0.4680023 , -0.5110256 , ..., -0.9615641 ,\n",
       "          -0.9693968 , -0.99108076],\n",
       "         [-0.0954483 , -0.56289166, -0.5976204 , ..., -0.94434714,\n",
       "          -0.95767987, -0.99251   ],\n",
       "         [-0.08350353, -0.4676744 , -0.5083498 , ..., -0.9486351 ,\n",
       "          -0.9575719 , -0.990598  ]], dtype=float32),\n",
       "  'mfcc': array([[-0.9992188 ,  0.552929  , -0.3020308 , ...,  0.02957186,\n",
       "           0.06612163,  0.02512584],\n",
       "         [-1.        ,  0.54670596, -0.30596924, ...,  0.0395895 ,\n",
       "           0.06703314,  0.02110985],\n",
       "         [-0.9954227 ,  0.5823921 , -0.33912998, ...,  0.01689669,\n",
       "           0.07941275,  0.04006654],\n",
       "         ...,\n",
       "         [-1.        ,  0.32911083,  0.03874341, ...,  0.01945566,\n",
       "           0.01453081,  0.01948263],\n",
       "         [-1.        ,  0.25396606,  0.01906836, ...,  0.01659896,\n",
       "           0.00835079,  0.02257827],\n",
       "         [-1.        ,  0.35642138,  0.01534899, ...,  0.02022841,\n",
       "           0.01292179,  0.02333824]], dtype=float32),\n",
       "  'chroma': array([[0.6846634 , 0.7710881 , 0.92483073, ..., 0.792837  , 0.6403594 ,\n",
       "          0.6093697 ],\n",
       "         [0.67152923, 0.75456196, 0.89794284, ..., 0.8393448 , 0.63955486,\n",
       "          0.5994952 ],\n",
       "         [0.617282  , 0.7190282 , 0.94223833, ..., 0.7423684 , 0.5346241 ,\n",
       "          0.53399235],\n",
       "         ...,\n",
       "         [0.7226827 , 0.7832275 , 0.8359551 , ..., 0.7611959 , 0.68227243,\n",
       "          0.6476398 ],\n",
       "         [0.64017576, 0.69537103, 0.7526328 , ..., 0.6971613 , 0.6228667 ,\n",
       "          0.59078145],\n",
       "         [0.6944409 , 0.755983  , 0.80644596, ..., 0.71438986, 0.6634789 ,\n",
       "          0.64035946]], dtype=float32),\n",
       "  'cqt': array([[-16.038185 , -13.83673  , -14.56642  , ..., -43.95771  ,\n",
       "          -43.465855 , -45.029636 ],\n",
       "         [-14.034665 , -14.716681 , -14.914226 , ..., -43.85843  ,\n",
       "          -43.8012   , -45.132473 ],\n",
       "         [-15.104277 , -16.089891 , -20.653639 , ..., -53.62952  ,\n",
       "          -52.886246 , -53.954678 ],\n",
       "         ...,\n",
       "         [ -9.8622265, -10.440182 , -10.760428 , ..., -49.541416 ,\n",
       "          -49.593758 , -49.652985 ],\n",
       "         [-19.424746 , -22.806074 , -22.954342 , ..., -49.70883  ,\n",
       "          -49.44547  , -49.913937 ],\n",
       "         [-13.229002 , -13.103032 , -15.575277 , ..., -50.082375 ,\n",
       "          -50.43783  , -50.39679  ]], dtype=float32),\n",
       "  'label': array([ 9,  9,  9, ..., 17, 17, 17]),\n",
       "  'id': array(['XC171088.mp3', 'XC171088.mp3', 'XC171088.mp3', ...,\n",
       "         'XC184434.mp3', 'XC184434.mp3', 'XC184434.mp3'], dtype='<U12')},\n",
       " 'val': {'melspectrogram': array([[-0.09335015, -0.41425568, -0.4621455 , ..., -0.9622595 ,\n",
       "          -0.96883225, -0.9862805 ],\n",
       "         [-0.06150036, -0.40119988, -0.4569259 , ..., -0.9745825 ,\n",
       "          -0.979233  , -0.9866302 ],\n",
       "         [-0.06772301, -0.35794136, -0.4212093 , ..., -0.975911  ,\n",
       "          -0.9768262 , -0.98620576],\n",
       "         ...,\n",
       "         [-0.06220292, -0.36005944, -0.4336478 , ..., -0.8779968 ,\n",
       "          -0.90163416, -0.9981308 ],\n",
       "         [-0.01739925, -0.22140917, -0.2751635 , ..., -0.8166208 ,\n",
       "          -0.8508779 , -0.9999578 ],\n",
       "         [-0.03691518, -0.26585168, -0.32408917, ..., -0.85019165,\n",
       "          -0.8788553 , -0.9995446 ]], dtype=float32),\n",
       "  'mfcc': array([[-0.9994323 ,  0.39045894,  0.03413539, ...,  0.02421909,\n",
       "           0.0223368 ,  0.00513185],\n",
       "         [-0.9984105 ,  0.3998413 ,  0.05466861, ...,  0.02128625,\n",
       "           0.02685659,  0.01582421],\n",
       "         [-0.9942456 ,  0.47742334,  0.06271813, ...,  0.02636475,\n",
       "           0.02490172,  0.01391322],\n",
       "         ...,\n",
       "         [-0.99946105,  0.48216197, -0.00249095, ...,  0.07052194,\n",
       "           0.02424702,  0.04321032],\n",
       "         [-0.99728924,  0.6323807 , -0.07991379, ...,  0.03809247,\n",
       "          -0.00320488,  0.04974035],\n",
       "         [-0.9897513 ,  0.5490901 , -0.05360683, ...,  0.04067455,\n",
       "           0.00412017,  0.01714433]], dtype=float32),\n",
       "  'chroma': array([[0.7709091 , 0.82581115, 0.883322  , ..., 0.81928176, 0.7638343 ,\n",
       "          0.72184044],\n",
       "         [0.79799414, 0.8637212 , 0.9216371 , ..., 0.84445596, 0.77024674,\n",
       "          0.72600335],\n",
       "         [0.79637575, 0.8446752 , 0.89361995, ..., 0.83402187, 0.7717673 ,\n",
       "          0.73406273],\n",
       "         ...,\n",
       "         [0.60931665, 0.6205959 , 0.67257184, ..., 0.69764405, 0.648498  ,\n",
       "          0.60478354],\n",
       "         [0.6701216 , 0.750219  , 0.62284327, ..., 0.7508035 , 0.73229885,\n",
       "          0.62431306],\n",
       "         [0.8140495 , 0.813541  , 0.8206596 , ..., 0.71373403, 0.71432596,\n",
       "          0.7595174 ]], dtype=float32),\n",
       "  'cqt': array([[-10.690224 ,  -8.573729 ,  -9.908777 , ..., -48.764053 ,\n",
       "          -48.888664 , -49.37295  ],\n",
       "         [-13.325777 , -12.609725 , -12.529058 , ..., -51.8232   ,\n",
       "          -52.20941  , -53.20042  ],\n",
       "         [ -8.8502245, -10.37479  ,  -9.978786 , ..., -49.46715  ,\n",
       "          -50.11873  , -51.075638 ],\n",
       "         ...,\n",
       "         [-14.847332 , -14.746326 , -14.084316 , ..., -42.975353 ,\n",
       "          -42.91669  , -42.683155 ],\n",
       "         [-18.796904 , -20.99182  , -18.07979  , ..., -44.77531  ,\n",
       "          -44.677525 , -44.461674 ],\n",
       "         [-14.923042 , -15.253789 , -15.315581 , ..., -55.73602  ,\n",
       "          -55.021477 , -54.736095 ]], dtype=float32),\n",
       "  'label': array([14, 14, 14, ...,  4,  4,  4]),\n",
       "  'id': array(['XC466994.mp3', 'XC466994.mp3', 'XC466994.mp3', ...,\n",
       "         'XC207216.mp3', 'XC207216.mp3', 'XC207216.mp3'], dtype='<U12')}}"
      ]
     },
     "execution_count": 17,
     "metadata": {},
     "output_type": "execute_result"
    }
   ],
   "source": [
    "merged_dict_1D = {'train': train_features_1D, 'val': val_features_1D}\n",
    "merged_dict_1D"
   ]
  },
  {
   "cell_type": "code",
   "execution_count": 18,
   "metadata": {},
   "outputs": [
    {
     "data": {
      "text/plain": [
       "{'train': {'melspectrogram': array([[[-0.01838665,  0.        , -0.00848863, ..., -0.0140964 ,\n",
       "           -0.00224623, -0.00832028],\n",
       "          [-0.1968215 , -0.21882324, -0.27436921, ..., -0.28576213,\n",
       "           -0.22507286, -0.19316849],\n",
       "          [-0.23742069, -0.24905342, -0.28791261, ..., -0.28030974,\n",
       "           -0.26599282, -0.25660488],\n",
       "          ...,\n",
       "          [-0.99879366, -0.99876946, -0.99870896, ..., -0.99917048,\n",
       "           -0.99937928, -0.99937975],\n",
       "          [-0.9994275 , -0.99943322, -0.99946558, ..., -0.99974817,\n",
       "           -0.99971521, -0.99969888],\n",
       "          [-1.        , -1.        , -1.        , ..., -1.        ,\n",
       "           -1.        , -1.        ]],\n",
       "  \n",
       "         [[-0.01671414,  0.        , -0.0082565 , ..., -0.01512463,\n",
       "           -0.00132613, -0.0053683 ],\n",
       "          [-0.17772998, -0.19626212, -0.24940659, ..., -0.30918679,\n",
       "           -0.24149542, -0.20524147],\n",
       "          [-0.23100212, -0.23447959, -0.25692546, ..., -0.26929191,\n",
       "           -0.2456764 , -0.23258191],\n",
       "          ...,\n",
       "          [-0.99867386, -0.99841112, -0.99691236, ..., -0.99882531,\n",
       "           -0.9987058 , -0.99865341],\n",
       "          [-0.99956167, -0.99956775, -0.9995904 , ..., -0.99959946,\n",
       "           -0.99955195, -0.99952966],\n",
       "          [-1.        , -1.        , -1.        , ..., -1.        ,\n",
       "           -1.        , -1.        ]],\n",
       "  \n",
       "         [[-0.01705729,  0.        , -0.00915193, ..., -0.01216428,\n",
       "           -0.00196086, -0.0073508 ],\n",
       "          [-0.1801268 , -0.19875586, -0.25181147, ..., -0.27042776,\n",
       "           -0.21004833, -0.17826356],\n",
       "          [-0.22067866, -0.22602127, -0.258266  , ..., -0.2862387 ,\n",
       "           -0.25629699, -0.23753031],\n",
       "          ...,\n",
       "          [-0.99888343, -0.99864614, -0.99715531, ..., -0.99647623,\n",
       "           -0.99877173, -0.99894208],\n",
       "          [-0.99954921, -0.99948519, -0.99907941, ..., -0.99892783,\n",
       "           -0.99952132, -0.99956727],\n",
       "          [-1.        , -1.        , -1.        , ..., -1.        ,\n",
       "           -1.        , -1.        ]],\n",
       "  \n",
       "         ...,\n",
       "  \n",
       "         [[-0.0837315 , -0.06634645, -0.0694775 , ..., -0.10759383,\n",
       "           -0.12220886, -0.13408409],\n",
       "          [-0.24662848, -0.26326722, -0.31451011, ..., -0.32695159,\n",
       "           -0.29853135, -0.2828195 ],\n",
       "          [-0.31539501, -0.33223918, -0.38289041, ..., -0.41089747,\n",
       "           -0.3744594 , -0.35775278],\n",
       "          ...,\n",
       "          [-0.9877199 , -0.98804534, -0.98243264, ..., -0.99426479,\n",
       "           -0.98941612, -0.98908665],\n",
       "          [-0.99097428, -0.99264776, -0.99193236, ..., -0.98896748,\n",
       "           -0.9933342 , -0.99381278],\n",
       "          [-0.99216313, -0.99526034, -1.        , ..., -1.        ,\n",
       "           -1.        , -1.        ]],\n",
       "  \n",
       "         [[-0.08085924, -0.06292407, -0.06604642, ..., -0.07349799,\n",
       "           -0.07252331, -0.08308739],\n",
       "          [-0.24773248, -0.26394046, -0.31467737, ..., -0.33496409,\n",
       "           -0.30948425, -0.28195456],\n",
       "          [-0.31817907, -0.33434855, -0.38406385, ..., -0.34980986,\n",
       "           -0.32539873, -0.31300732],\n",
       "          ...,\n",
       "          [-0.99670517, -0.99409317, -0.98347327, ..., -0.99162617,\n",
       "           -0.98958987, -0.98731425],\n",
       "          [-0.99895023, -0.99705867, -0.98879526, ..., -0.99175016,\n",
       "           -1.        , -1.        ],\n",
       "          [-1.        , -1.        , -1.        , ..., -0.9957713 ,\n",
       "           -0.99212325, -0.989817  ]],\n",
       "  \n",
       "         [[-0.0817555 , -0.06404683, -0.06713413, ..., -0.08585851,\n",
       "           -0.08216553, -0.09372931],\n",
       "          [-0.24636125, -0.26244064, -0.31306486, ..., -0.35104689,\n",
       "           -0.3009807 , -0.273553  ],\n",
       "          [-0.31584478, -0.331924  , -0.38169189, ..., -0.36212137,\n",
       "           -0.37018606, -0.34983359],\n",
       "          ...,\n",
       "          [-0.98665528, -0.98044844, -0.96006087, ..., -0.99203098,\n",
       "           -0.99836171, -0.99631038],\n",
       "          [-0.99865604, -0.99678086, -0.98777047, ..., -0.98778081,\n",
       "           -0.99839459, -0.99711177],\n",
       "          [-1.        , -1.        , -1.        , ..., -0.98858429,\n",
       "           -1.        , -1.        ]]]),\n",
       "  'mfcc': array([[[-8.89297962e-01, -9.08365309e-01, -1.00000000e+00, ...,\n",
       "           -1.00000000e+00, -1.00000000e+00, -1.00000000e+00],\n",
       "          [ 1.00000000e+00,  1.00000000e+00,  8.80343020e-01, ...,\n",
       "            5.70652008e-01,  7.37039387e-01,  8.75705779e-01],\n",
       "          [ 1.74589127e-01,  3.55177931e-02, -2.04061598e-01, ...,\n",
       "           -4.56306934e-02,  9.95262116e-02,  1.56439319e-01],\n",
       "          ...,\n",
       "          [ 2.33930014e-02, -2.36411905e-03, -3.01487017e-02, ...,\n",
       "            1.39757516e-02,  2.89331321e-02,  3.39568295e-02],\n",
       "          [ 3.94843668e-02,  7.58145675e-02,  9.55443606e-02, ...,\n",
       "            6.56863675e-02,  4.35470864e-02,  3.09911631e-02],\n",
       "          [ 2.75491346e-02,  5.75687066e-02,  9.69476104e-02, ...,\n",
       "            4.57905978e-02,  2.50081494e-02,  2.30275504e-02]],\n",
       "  \n",
       "         [[-1.00000000e+00, -1.00000000e+00, -1.00000000e+00, ...,\n",
       "           -1.00000000e+00, -1.00000000e+00, -1.00000000e+00],\n",
       "          [ 9.68119204e-01,  8.65463555e-01,  6.33782506e-01, ...,\n",
       "            5.72124481e-01,  8.10855508e-01,  9.91762459e-01],\n",
       "          [ 1.79855734e-01,  1.42614111e-01,  6.62762448e-02, ...,\n",
       "            1.46136321e-02,  1.28074631e-01,  1.90195099e-01],\n",
       "          ...,\n",
       "          [ 7.75216445e-02,  7.21980259e-02,  5.35981581e-02, ...,\n",
       "            1.54336775e-02,  1.92254484e-02,  2.23364606e-02],\n",
       "          [ 3.43218744e-02,  3.52985039e-02,  3.14025693e-02, ...,\n",
       "            5.96553721e-02,  4.92179431e-02,  4.38447967e-02],\n",
       "          [-2.34714374e-02, -1.83181539e-02, -6.07809285e-03, ...,\n",
       "            3.24709490e-02,  3.34499180e-02,  3.57801206e-02]],\n",
       "  \n",
       "         [[-7.10923553e-01, -6.90331280e-01, -9.48232770e-01, ...,\n",
       "           -9.96018589e-01, -7.56117165e-01, -7.12864697e-01],\n",
       "          [ 1.00000000e+00,  1.00000000e+00,  1.00000000e+00, ...,\n",
       "            1.00000000e+00,  1.00000000e+00,  1.00000000e+00],\n",
       "          [-4.12627310e-02, -1.93786323e-01, -3.86297077e-01, ...,\n",
       "           -4.79815096e-01, -1.74720839e-01,  3.84438522e-02],\n",
       "          ...,\n",
       "          [ 1.45564303e-02,  1.28957946e-02,  1.34614315e-02, ...,\n",
       "            1.16062043e-02, -5.33968816e-03, -5.10508148e-03],\n",
       "          [ 9.28535685e-02,  1.10129699e-01,  1.22319348e-01, ...,\n",
       "            1.65723756e-01,  1.47000343e-01,  1.18085489e-01],\n",
       "          [ 5.17204143e-02,  6.62510470e-02,  7.99046829e-02, ...,\n",
       "            8.48578215e-02,  9.06896517e-02,  7.64767826e-02]],\n",
       "  \n",
       "         ...,\n",
       "  \n",
       "         [[-1.00000000e+00, -1.00000000e+00, -1.00000000e+00, ...,\n",
       "           -1.00000000e+00, -1.00000000e+00, -1.00000000e+00],\n",
       "          [ 9.44968790e-01,  8.02295484e-01,  5.07631104e-01, ...,\n",
       "            4.76160477e-01,  5.59831492e-01,  6.23522115e-01],\n",
       "          [ 3.59237588e-01,  3.57212696e-01,  2.92244551e-01, ...,\n",
       "            9.36446694e-02,  1.11860643e-01,  1.24114817e-01],\n",
       "          ...,\n",
       "          [-7.12996444e-02, -7.62435512e-02, -6.82580589e-02, ...,\n",
       "           -1.57933909e-03,  1.37877428e-02,  2.26290359e-02],\n",
       "          [ 1.30748308e-01,  1.36287687e-01,  1.17897891e-01, ...,\n",
       "            6.80970305e-04,  2.03413887e-04,  3.14488281e-03],\n",
       "          [-1.00444115e-02, -1.97233687e-02, -1.66887264e-02, ...,\n",
       "            8.87429925e-03,  6.79980543e-03,  6.93468423e-03]],\n",
       "  \n",
       "         [[-1.00000000e+00, -1.00000000e+00, -1.00000000e+00, ...,\n",
       "           -1.00000000e+00, -1.00000000e+00, -1.00000000e+00],\n",
       "          [ 9.54924007e-01,  8.08728435e-01,  5.04163018e-01, ...,\n",
       "            5.24493861e-01,  6.47634214e-01,  7.42764257e-01],\n",
       "          [ 2.98868933e-01,  3.18290493e-01,  2.81256299e-01, ...,\n",
       "            9.15636858e-02,  1.26629195e-01,  1.49370063e-01],\n",
       "          ...,\n",
       "          [-3.81150386e-02, -6.62565283e-02, -7.11961438e-02, ...,\n",
       "            1.71873247e-02,  2.07002638e-02,  2.22555491e-02],\n",
       "          [ 5.09666099e-02,  6.56415586e-02,  5.83751279e-02, ...,\n",
       "            2.11321504e-02,  2.46274249e-02,  2.76951878e-02],\n",
       "          [ 4.86142602e-02,  4.02763942e-02,  3.06255329e-02, ...,\n",
       "            2.57521350e-02,  1.90333822e-02,  1.84572543e-02]],\n",
       "  \n",
       "         [[-1.00000000e+00, -1.00000000e+00, -1.00000000e+00, ...,\n",
       "           -1.00000000e+00, -1.00000000e+00, -1.00000000e+00],\n",
       "          [ 9.83326352e-01,  8.67754879e-01,  5.80526286e-01, ...,\n",
       "            5.44010066e-01,  6.89337755e-01,  8.00128782e-01],\n",
       "          [ 3.99094481e-01,  4.05795761e-01,  3.29970624e-01, ...,\n",
       "            1.07570728e-01,  1.39422711e-01,  1.62838222e-01],\n",
       "          ...,\n",
       "          [-9.31544388e-02, -1.00346964e-01, -8.10524643e-02, ...,\n",
       "            2.39845517e-02,  2.58993623e-02,  2.79086871e-02],\n",
       "          [ 1.52288587e-01,  1.44752104e-01,  1.05869962e-01, ...,\n",
       "            2.55829065e-02,  2.75162620e-02,  2.81927429e-02],\n",
       "          [-3.71801050e-02, -5.02546548e-02, -4.52737194e-02, ...,\n",
       "            1.94408770e-02,  3.02783636e-02,  3.46521920e-02]]]),\n",
       "  'chroma': array([[[0.93985969, 0.86132562, 0.58710808, ..., 0.79776281,\n",
       "           0.93396276, 0.93670017],\n",
       "          [0.94167173, 0.87550879, 0.6356163 , ..., 0.8795312 ,\n",
       "           0.95154023, 0.9359808 ],\n",
       "          [0.984963  , 1.        , 1.        , ..., 0.95659715,\n",
       "           0.96274441, 0.95577043],\n",
       "          ...,\n",
       "          [0.91918337, 0.83196801, 0.56903458, ..., 0.71238881,\n",
       "           0.78568333, 0.85205835],\n",
       "          [0.87959135, 0.78256238, 0.49718744, ..., 0.66622454,\n",
       "           0.77211612, 0.81878811],\n",
       "          [0.87467939, 0.78486508, 0.51349515, ..., 0.69121295,\n",
       "           0.82532734, 0.84647483]],\n",
       "  \n",
       "         [[0.87646705, 0.85933375, 0.77282333, ..., 0.67653406,\n",
       "           0.75375116, 0.8060894 ],\n",
       "          [0.90687031, 0.90394801, 0.85045934, ..., 0.8059175 ,\n",
       "           0.84264833, 0.86696631],\n",
       "          [0.97113287, 0.99185061, 0.99387169, ..., 0.99201107,\n",
       "           0.98991996, 0.96950853],\n",
       "          ...,\n",
       "          [0.82055742, 0.756778  , 0.65345043, ..., 0.71425396,\n",
       "           0.72311866, 0.7642771 ],\n",
       "          [0.79928577, 0.75125688, 0.63997501, ..., 0.59513819,\n",
       "           0.66077465, 0.73005396],\n",
       "          [0.81262344, 0.78028339, 0.67109478, ..., 0.57988358,\n",
       "           0.67001963, 0.73860496]],\n",
       "  \n",
       "         [[0.84946769, 0.7339921 , 0.56923223, ..., 0.35033059,\n",
       "           0.55309641, 0.77476352],\n",
       "          [0.8657555 , 0.75833172, 0.61636603, ..., 0.53120929,\n",
       "           0.68229812, 0.84653634],\n",
       "          [1.        , 1.        , 0.98517644, ..., 0.9970389 ,\n",
       "           0.99236935, 1.        ],\n",
       "          ...,\n",
       "          [0.86801553, 0.83525503, 0.77828616, ..., 0.46642846,\n",
       "           0.59387654, 0.77029967],\n",
       "          [0.72930217, 0.58355427, 0.42665425, ..., 0.27626058,\n",
       "           0.46111003, 0.70082134],\n",
       "          [0.77894711, 0.65251297, 0.48566985, ..., 0.27606636,\n",
       "           0.47620437, 0.71006465]],\n",
       "  \n",
       "         ...,\n",
       "  \n",
       "         [[0.46270617, 0.32739375, 0.17791941, ..., 0.97860446,\n",
       "           1.        , 0.99534237],\n",
       "          [0.47988286, 0.3390489 , 0.18561403, ..., 0.99469042,\n",
       "           0.97131222, 1.        ],\n",
       "          [0.50428788, 0.3528995 , 0.19510939, ..., 1.        ,\n",
       "           0.89897418, 0.96091178],\n",
       "          ...,\n",
       "          [1.        , 1.        , 1.        , ..., 0.99303406,\n",
       "           0.8641829 , 0.87159279],\n",
       "          [0.60229664, 0.58450321, 0.5630791 , ..., 0.94978673,\n",
       "           0.8822881 , 0.86875475],\n",
       "          [0.43523902, 0.31701729, 0.18255456, ..., 0.91665599,\n",
       "           0.89459339, 0.87220624]],\n",
       "  \n",
       "         [[0.87058508, 0.82497559, 0.54914559, ..., 0.92119987,\n",
       "           0.84293039, 0.77808265],\n",
       "          [0.88950833, 0.84187636, 0.56138946, ..., 0.95112429,\n",
       "           0.92334451, 0.88347034],\n",
       "          [0.93366634, 0.87519084, 0.58852719, ..., 1.        ,\n",
       "           1.        , 0.96564709],\n",
       "          ...,\n",
       "          [0.91743393, 1.        , 1.        , ..., 0.77687644,\n",
       "           0.68796973, 0.67927052],\n",
       "          [0.8500058 , 0.8961647 , 0.81856979, ..., 0.79802998,\n",
       "           0.6988658 , 0.64778484],\n",
       "          [0.82299659, 0.80055497, 0.57138411, ..., 0.81414525,\n",
       "           0.71955182, 0.65786352]],\n",
       "  \n",
       "         [[0.57830823, 0.38217968, 0.19316067, ..., 0.78004235,\n",
       "           0.78495678, 0.81292824],\n",
       "          [0.58508694, 0.38198199, 0.18604104, ..., 0.85549023,\n",
       "           0.82903896, 0.84168352],\n",
       "          [0.61834205, 0.39953522, 0.19323235, ..., 0.79786586,\n",
       "           0.80530183, 0.85983206],\n",
       "          ...,\n",
       "          [1.        , 1.        , 1.        , ..., 0.67602395,\n",
       "           0.75428782, 0.80087028],\n",
       "          [0.7288516 , 0.64952501, 0.54966005, ..., 0.67836479,\n",
       "           0.73690656, 0.77290666],\n",
       "          [0.58786235, 0.42733708, 0.26875456, ..., 0.71061697,\n",
       "           0.74992837, 0.78579727]]]),\n",
       "  'cqt': array([[[ -4.62574005,  -4.61918068,  -4.72525311, ...,  -7.33205891,\n",
       "            -6.92870188,  -6.67912102],\n",
       "          [ -5.63917398,  -5.90475941,  -6.26052094, ...,  -4.84585857,\n",
       "            -4.74710274,  -4.71533775],\n",
       "          [ -4.54902172,  -4.51109695,  -4.66808033, ...,  -4.44265413,\n",
       "            -4.38874292,  -4.48354387],\n",
       "          ...,\n",
       "          [-22.09472847, -53.20672607, -50.27596283, ..., -47.37647629,\n",
       "           -43.76698685, -41.2254982 ],\n",
       "          [-22.4276886 , -53.37142944, -59.71751785, ..., -46.28590775,\n",
       "           -47.17746735, -46.44187546],\n",
       "          [-22.62688828, -54.40377808, -54.59323502, ..., -43.34354401,\n",
       "           -66.75463867, -50.28008652]],\n",
       "  \n",
       "         [[ -4.21794891,  -4.36844587,  -4.66119194, ...,  -3.59060407,\n",
       "            -3.4763577 ,  -3.47740364],\n",
       "          [ -3.57732248,  -3.55528641,  -3.59088326, ...,  -5.5302844 ,\n",
       "            -5.23229647,  -5.02201128],\n",
       "          [ -4.80506659,  -4.80748224,  -4.97243786, ...,  -5.66097212,\n",
       "            -5.32492113,  -5.17316008],\n",
       "          ...,\n",
       "          [-22.4773941 , -39.10942078, -42.61490631, ..., -44.78288269,\n",
       "           -47.26944733, -44.38581085],\n",
       "          [-22.73524857, -51.07265472, -44.25682068, ..., -46.97994232,\n",
       "           -50.23232269, -48.42811584],\n",
       "          [-22.87704086, -42.44947052, -41.49190521, ..., -43.0561142 ,\n",
       "           -48.22557068, -54.47928619]],\n",
       "  \n",
       "         [[-13.66866112, -13.78728008, -14.05920601, ...,  -8.66254616,\n",
       "            -8.90827465,  -9.20865726],\n",
       "          [-12.24022388, -12.16905689, -12.14719009, ...,  -5.42823744,\n",
       "            -5.7920785 ,  -6.22010374],\n",
       "          [-12.61639786, -12.56980228, -12.70663357, ...,  -7.24077702,\n",
       "            -7.34389591,  -7.57197857],\n",
       "          ...,\n",
       "          [-31.74550629, -67.93495941, -37.94693756, ..., -33.61910248,\n",
       "           -51.6025238 , -45.16117859],\n",
       "          [-32.11745453, -67.90354919, -31.59548569, ..., -40.06912231,\n",
       "           -47.94347382, -44.72879791],\n",
       "          [-32.30914688, -69.50604248, -35.03316498, ..., -34.32754517,\n",
       "           -43.22444153, -46.60303497]],\n",
       "  \n",
       "         ...,\n",
       "  \n",
       "         [[ -1.52051097,  -1.54881409,  -1.69427689, ...,  -0.34043815,\n",
       "            -0.30600167,  -0.40844427],\n",
       "          [ -1.74767803,  -1.82451549,  -1.97130156, ...,  -0.22957939,\n",
       "            -0.37275287,  -0.56983096],\n",
       "          [ -2.06017305,  -2.07703184,  -2.28072678, ...,  -2.99741054,\n",
       "            -2.93624594,  -3.09554852],\n",
       "          ...,\n",
       "          [-23.59559661, -48.22508371, -43.68964482, ..., -49.40463805,\n",
       "           -59.92520859, -50.74830805],\n",
       "          [-23.35516607, -46.4026222 , -45.03424821, ..., -45.45378748,\n",
       "           -49.55245963, -49.52664929],\n",
       "          [-21.74799374, -43.83961894, -47.48010349, ..., -46.22591485,\n",
       "           -47.52350041, -50.87438296]],\n",
       "  \n",
       "         [[ -2.4615905 ,  -2.48988504,  -2.63533594, ...,  -0.73720402,\n",
       "            -0.99765033,  -1.34563545],\n",
       "          [ -2.68878068,  -2.76561051,  -2.91239057, ...,  -2.75733476,\n",
       "            -3.00734962,  -3.3056651 ],\n",
       "          [ -3.0013142 ,  -3.01817209,  -3.22186352, ..., -11.92865673,\n",
       "           -11.8286816 , -11.9535081 ],\n",
       "          ...,\n",
       "          [-22.41520325, -62.26125494, -40.97670758, ..., -49.75451638,\n",
       "           -41.54520435, -48.85866841],\n",
       "          [-22.59933285, -56.167606  , -53.00169758, ..., -42.48670102,\n",
       "           -47.24001971, -51.81763324],\n",
       "          [-22.78724142, -62.2776982 , -49.90548123, ..., -42.53340376,\n",
       "           -43.09994662, -64.79568303]],\n",
       "  \n",
       "         [[ -5.02876069,  -5.05705424,  -5.20249883, ..., -16.4011608 ,\n",
       "           -15.38993786, -14.45009075],\n",
       "          [ -5.25593724,  -5.33276033,  -5.4795346 , ...,  -9.82944029,\n",
       "            -9.93845112, -10.02055092],\n",
       "          [ -5.56844478,  -5.58529655,  -5.7889654 , ...,  -7.3970664 ,\n",
       "            -7.37347056,  -7.48363012],\n",
       "          ...,\n",
       "          [-24.82621017, -48.87216127, -61.00921638, ..., -50.5367585 ,\n",
       "           -47.77324501, -53.21260431],\n",
       "          [-25.34559719, -45.55829403, -48.65794538, ..., -47.3173596 ,\n",
       "           -50.47114026, -54.19560495],\n",
       "          [-25.45836038, -50.60576045, -42.74344819, ..., -45.71380666,\n",
       "           -52.12160933, -55.17531903]]]),\n",
       "  'label': array([ 9,  9,  9, ..., 17, 17, 17]),\n",
       "  'id': array(['XC171088.mp3', 'XC171088.mp3', 'XC171088.mp3', ...,\n",
       "         'XC184434.mp3', 'XC184434.mp3', 'XC184434.mp3'], dtype='<U12')},\n",
       " 'val': {'melspectrogram': array([[[-0.10078439, -0.08258356, -0.08512121, ..., -0.10609066,\n",
       "           -0.10265995, -0.11272066],\n",
       "          [-0.26936608, -0.28641954, -0.33945432, ..., -0.37840243,\n",
       "           -0.31195201, -0.28280012],\n",
       "          [-0.34050457, -0.35778645, -0.41039827, ..., -0.40124617,\n",
       "           -0.35938746, -0.33748768],\n",
       "          ...,\n",
       "          [-0.90788588, -0.89394626, -0.87032765, ..., -0.99192508,\n",
       "           -0.99779999, -0.99902129],\n",
       "          [-0.94938389, -0.93486083, -0.91367544, ..., -1.        ,\n",
       "           -0.99606981, -0.9949258 ],\n",
       "          [-1.        , -1.        , -1.        , ..., -0.99902751,\n",
       "           -1.        , -1.        ]],\n",
       "  \n",
       "         [[-0.10926193, -0.09075295, -0.09198062, ..., -0.04704709,\n",
       "           -0.04690803, -0.05543043],\n",
       "          [-0.27403451, -0.28939779, -0.33830668, ..., -0.32736471,\n",
       "           -0.26103044, -0.2323924 ],\n",
       "          [-0.34364703, -0.35902489, -0.40711441, ..., -0.3735078 ,\n",
       "           -0.31689452, -0.29232544],\n",
       "          ...,\n",
       "          [-0.84279834, -0.82350496, -0.80400185, ..., -0.99559435,\n",
       "           -0.99641016, -0.99666323],\n",
       "          [-0.95434882, -0.93370361, -0.89893485, ..., -0.99555857,\n",
       "           -0.9955695 , -0.99555156],\n",
       "          [-1.        , -1.        , -1.        , ..., -0.99726869,\n",
       "           -0.99610332, -0.99589432]],\n",
       "  \n",
       "         [[-0.0901315 , -0.07266493, -0.07551026, ..., -0.02517558,\n",
       "           -0.00225678, -0.00108226],\n",
       "          [-0.26590672, -0.28860467, -0.34206462, ..., -0.26940996,\n",
       "           -0.20407881, -0.17346274],\n",
       "          [-0.34009723, -0.36422805, -0.41643067, ..., -0.35721486,\n",
       "           -0.30316561, -0.27084756],\n",
       "          ...,\n",
       "          [-0.89508211, -0.89635028, -0.872705  , ..., -0.99450027,\n",
       "           -0.9934866 , -0.99296546],\n",
       "          [-0.96641998, -0.9774051 , -0.95623348, ..., -0.99384668,\n",
       "           -0.99269908, -0.99236796],\n",
       "          [-0.9797235 , -1.        , -1.        , ..., -1.        ,\n",
       "           -1.        , -1.        ]],\n",
       "  \n",
       "         ...,\n",
       "  \n",
       "         [[-0.07088719, -0.05425888, -0.05910533, ..., -0.08429015,\n",
       "           -0.08863776, -0.1142507 ],\n",
       "          [-0.23575934, -0.2518709 , -0.30180346, ..., -0.3591871 ,\n",
       "           -0.41609761, -0.44478879],\n",
       "          [-0.3112833 , -0.32815603, -0.3743363 , ..., -0.44932606,\n",
       "           -0.48395115, -0.49193412],\n",
       "          ...,\n",
       "          [-0.98454405, -0.98586172, -0.97991632, ..., -0.99193911,\n",
       "           -0.99181768, -0.98939139],\n",
       "          [-0.99810433, -0.99966302, -0.99409489, ..., -0.99023479,\n",
       "           -0.99283222, -0.99103308],\n",
       "          [-0.99423393, -0.99777494, -1.        , ..., -0.98997135,\n",
       "           -0.98942577, -0.98765085]],\n",
       "  \n",
       "         [[-0.01447381,  0.        , -0.00764276, ..., -0.01130498,\n",
       "           -0.00166604, -0.00940259],\n",
       "          [-0.14310175, -0.14069405, -0.16202113, ..., -0.25266382,\n",
       "           -0.23634617, -0.20761091],\n",
       "          [-0.26838917, -0.28069711, -0.29886284, ..., -0.29434764,\n",
       "           -0.2669324 , -0.24945046],\n",
       "          ...,\n",
       "          [-0.96764636, -0.95614177, -0.92769486, ..., -0.90384007,\n",
       "           -0.95238853, -0.9595989 ],\n",
       "          [-0.97910112, -0.96794814, -0.93561089, ..., -0.94657433,\n",
       "           -0.97252673, -0.96980399],\n",
       "          [-1.        , -1.        , -1.        , ..., -1.        ,\n",
       "           -1.        , -0.98906487]],\n",
       "  \n",
       "         [[-0.05042563, -0.03293128, -0.03856392, ..., -0.04570308,\n",
       "           -0.03801953, -0.04609471],\n",
       "          [-0.2342616 , -0.25022178, -0.29124714, ..., -0.38543679,\n",
       "           -0.29059307, -0.24769785],\n",
       "          [-0.29786981, -0.3121705 , -0.35612289, ..., -0.39273738,\n",
       "           -0.31797375, -0.28500613],\n",
       "          ...,\n",
       "          [-0.99471837, -0.99540629, -0.98678843, ..., -0.96293758,\n",
       "           -0.94937442, -0.94710444],\n",
       "          [-0.99515755, -0.99645806, -0.99125308, ..., -0.95798128,\n",
       "           -0.93627041, -0.92792498],\n",
       "          [-0.99736406, -1.        , -1.        , ..., -0.97436062,\n",
       "           -0.95716049, -0.9531535 ]]]),\n",
       "  'mfcc': array([[[-0.91543296, -0.9375394 , -1.        , ..., -1.        ,\n",
       "           -1.        , -1.        ],\n",
       "          [ 1.        ,  0.92168957,  0.51799135, ...,  0.52057416,\n",
       "            0.70149346,  0.83909856],\n",
       "          [ 0.18392558,  0.02451995, -0.19653917, ...,  0.09553957,\n",
       "            0.14380434,  0.17400229],\n",
       "          ...,\n",
       "          [ 0.3324768 ,  0.35195958,  0.2807367 , ...,  0.01506083,\n",
       "            0.01993919,  0.02172085],\n",
       "          [ 0.15702529,  0.20531533,  0.18192629, ...,  0.0201631 ,\n",
       "            0.02647962,  0.03000782],\n",
       "          [-0.40312957, -0.48501041, -0.39036718, ...,  0.02829749,\n",
       "            0.02725989,  0.0286028 ]],\n",
       "  \n",
       "         [[-0.78115417, -0.86777455, -1.        , ..., -1.        ,\n",
       "           -1.        , -0.93940684],\n",
       "          [ 1.        ,  1.        ,  0.59363784, ...,  0.5726149 ,\n",
       "            0.84424121,  1.        ],\n",
       "          [-0.06681166, -0.18277688, -0.28741766, ...,  0.11196884,\n",
       "            0.17685884,  0.21031839],\n",
       "          ...,\n",
       "          [ 0.17272648,  0.21276602,  0.19406902, ...,  0.02695839,\n",
       "            0.03592584,  0.03923786],\n",
       "          [ 0.30055956,  0.41023316,  0.37293831, ...,  0.01950257,\n",
       "            0.02586672,  0.02836284],\n",
       "          [-0.34847869, -0.41133895, -0.31014186, ...,  0.02082234,\n",
       "            0.0236918 ,  0.02502954]],\n",
       "  \n",
       "         [[-0.62903679, -0.60639532, -0.96106828, ..., -1.        ,\n",
       "           -0.78269099, -0.53040775],\n",
       "          [ 1.        ,  0.88056621,  0.62039778, ...,  0.7286186 ,\n",
       "            1.        ,  1.        ],\n",
       "          [-0.13850143, -0.27243041, -0.42252859, ...,  0.14825018,\n",
       "            0.20628968,  0.20558705],\n",
       "          ...,\n",
       "          [ 0.15838092,  0.21222897,  0.25928352, ...,  0.03912919,\n",
       "            0.04153448,  0.03736194],\n",
       "          [ 0.37156404,  0.42258267,  0.42479478, ...,  0.03691362,\n",
       "            0.03866262,  0.03468462],\n",
       "          [-0.39919092, -0.42700001, -0.39067136, ...,  0.03341278,\n",
       "            0.03502368,  0.03099728]],\n",
       "  \n",
       "         ...,\n",
       "  \n",
       "         [[-0.98079852, -1.        , -1.        , ..., -1.        ,\n",
       "           -1.        , -1.        ],\n",
       "          [ 1.        ,  0.88507984,  0.59559684, ...,  0.54857728,\n",
       "            0.55345162,  0.56002367],\n",
       "          [ 0.24288432,  0.23550352,  0.19152508, ...,  0.14968012,\n",
       "            0.22082784,  0.25680299],\n",
       "          ...,\n",
       "          [ 0.02938594,  0.02852323,  0.02326465, ...,  0.00515902,\n",
       "            0.00727465,  0.01569144],\n",
       "          [ 0.03577461,  0.03651029,  0.03099806, ...,  0.01410757,\n",
       "           -0.00782712, -0.01987985],\n",
       "          [ 0.02603151,  0.02601601,  0.02200329, ...,  0.03435534,\n",
       "            0.01757406,  0.00317779]],\n",
       "  \n",
       "         [[-1.        , -1.        , -1.        , ..., -1.        ,\n",
       "           -1.        , -0.8957541 ],\n",
       "          [ 0.98678625,  0.89757836,  0.69657671, ...,  0.71271354,\n",
       "            0.9650712 ,  1.        ],\n",
       "          [ 0.23490666,  0.23168014,  0.11201488, ..., -0.18149558,\n",
       "           -0.12865309, -0.04842484],\n",
       "          ...,\n",
       "          [ 0.01078178,  0.00441391,  0.00799019, ...,  0.03689783,\n",
       "            0.05872655,  0.05258823],\n",
       "          [ 0.03320572,  0.03482228,  0.03962186, ...,  0.01272397,\n",
       "            0.04823129,  0.07280307],\n",
       "          [ 0.03329949,  0.03463987,  0.02513724, ...,  0.02238002,\n",
       "            0.02114182,  0.01837161]],\n",
       "  \n",
       "         [[-1.        , -1.        , -1.        , ..., -1.        ,\n",
       "           -0.52794233, -0.35407323],\n",
       "          [ 0.97914343,  0.88489886,  0.65793109, ...,  0.98068126,\n",
       "            1.        ,  1.        ],\n",
       "          [ 0.22185736,  0.17368873,  0.06060712, ...,  0.04935822,\n",
       "            0.07633232,  0.0924073 ],\n",
       "          ...,\n",
       "          [ 0.03541806,  0.03116333,  0.03546782, ...,  0.00657905,\n",
       "            0.0292026 ,  0.04300164],\n",
       "          [ 0.03087348,  0.02083633,  0.00801005, ..., -0.0255587 ,\n",
       "           -0.04198042, -0.03997008],\n",
       "          [ 0.03226111,  0.03904315,  0.02732565, ...,  0.01365386,\n",
       "            0.02087035,  0.01755233]]]),\n",
       "  'chroma': array([[[0.11491658, 0.08663396, 0.07027419, ..., 0.87472431,\n",
       "           0.98778967, 0.99519809],\n",
       "          [0.07813403, 0.04682901, 0.03153524, ..., 0.86675706,\n",
       "           0.94788079, 0.95260914],\n",
       "          [0.10087923, 0.07763508, 0.08584979, ..., 0.85473557,\n",
       "           0.93966356, 0.9750177 ],\n",
       "          ...,\n",
       "          [0.0948258 , 0.10379117, 0.16820346, ..., 0.81138375,\n",
       "           0.86825409, 0.88903018],\n",
       "          [0.24160686, 0.25641439, 0.34505154, ..., 0.77484205,\n",
       "           0.86034624, 0.88078232],\n",
       "          [0.41496333, 0.38836571, 0.3754165 , ..., 0.81900993,\n",
       "           0.92033179, 0.92855015]],\n",
       "  \n",
       "         [[0.06456686, 0.04272887, 0.03065471, ..., 0.79117775,\n",
       "           0.83429997, 0.79065488],\n",
       "          [0.06753846, 0.04862877, 0.04452146, ..., 0.88433592,\n",
       "           0.90221158, 0.84280725],\n",
       "          [0.12613209, 0.12618951, 0.1633832 , ..., 0.93866281,\n",
       "           0.94510662, 0.90471572],\n",
       "          ...,\n",
       "          [0.15177771, 0.27967028, 0.54101782, ..., 0.80311458,\n",
       "           0.80294024, 0.78540338],\n",
       "          [0.29225407, 0.32921945, 0.43240587, ..., 0.76823908,\n",
       "           0.7793714 , 0.73627049],\n",
       "          [0.18097645, 0.15694757, 0.14871948, ..., 0.73374181,\n",
       "           0.77881702, 0.73544584]],\n",
       "  \n",
       "         [[0.08174279, 0.05768348, 0.04506791, ..., 0.73117886,\n",
       "           0.8087287 , 0.85462471],\n",
       "          [0.08894219, 0.07183906, 0.07203258, ..., 0.84128584,\n",
       "           0.87731549, 0.89954401],\n",
       "          [0.19912335, 0.22266973, 0.28653441, ..., 0.92592265,\n",
       "           0.94726978, 0.95424957],\n",
       "          ...,\n",
       "          [0.26266429, 0.40240714, 0.65918527, ..., 0.84914752,\n",
       "           0.88034777, 0.89479495],\n",
       "          [0.28207121, 0.32828114, 0.42846166, ..., 0.73498681,\n",
       "           0.79167381, 0.83043989],\n",
       "          [0.11837646, 0.1019493 , 0.10323326, ..., 0.65502492,\n",
       "           0.73766907, 0.79321171]],\n",
       "  \n",
       "         ...,\n",
       "  \n",
       "         [[0.89751999, 0.91628533, 0.8456915 , ..., 0.80784537,\n",
       "           0.6839748 , 0.62262949],\n",
       "          [0.90863298, 0.92194834, 0.87292953, ..., 0.8491614 ,\n",
       "           0.71182066, 0.64072082],\n",
       "          [0.96185954, 0.95840588, 0.89764994, ..., 1.        ,\n",
       "           0.95437715, 0.88124928],\n",
       "          ...,\n",
       "          [0.81586538, 0.82192236, 0.78383206, ..., 0.86392415,\n",
       "           0.67502769, 0.57306976],\n",
       "          [0.81246771, 0.8405388 , 0.80574814, ..., 0.81490496,\n",
       "           0.61243991, 0.51147847],\n",
       "          [0.84292172, 0.87705509, 0.81934685, ..., 0.83199929,\n",
       "           0.64553584, 0.55833739]],\n",
       "  \n",
       "         [[0.7652719 , 0.6726526 , 0.64038455, ..., 0.65175658,\n",
       "           0.64968026, 0.70082545],\n",
       "          [0.74106175, 0.66207278, 0.64920568, ..., 1.        ,\n",
       "           1.        , 1.        ],\n",
       "          [0.74980235, 0.64549035, 0.63347399, ..., 0.61863428,\n",
       "           0.71724993, 0.82911623],\n",
       "          ...,\n",
       "          [0.96504354, 0.98417854, 1.        , ..., 0.67211795,\n",
       "           0.63120419, 0.73088807],\n",
       "          [0.8518675 , 0.86511314, 0.89793605, ..., 0.93004453,\n",
       "           0.74691731, 0.70910907],\n",
       "          [0.7672016 , 0.73315799, 0.75075346, ..., 0.5100531 ,\n",
       "           0.50203609, 0.57646573]],\n",
       "  \n",
       "         [[0.88828044, 0.9519833 , 1.        , ..., 0.98924091,\n",
       "           1.        , 1.        ],\n",
       "          [0.92500669, 0.97475876, 0.98111748, ..., 1.        ,\n",
       "           0.93922335, 0.92725544],\n",
       "          [0.97101873, 0.98181701, 0.91993042, ..., 0.97165651,\n",
       "           0.84747956, 0.80389873],\n",
       "          ...,\n",
       "          [0.76334806, 0.75820416, 0.72986174, ..., 0.87255531,\n",
       "           0.86626489, 0.87657958],\n",
       "          [0.70756435, 0.70609132, 0.68404305, ..., 0.83590384,\n",
       "           0.88140984, 0.90398343],\n",
       "          [0.74380548, 0.75297446, 0.71908182, ..., 0.97986623,\n",
       "           0.96833267, 0.95210117]]]),\n",
       "  'cqt': array([[[ -3.91416062,  -3.94350671,  -4.09571819, ...,  -5.62061188,\n",
       "            -5.40016505,  -5.29358203],\n",
       "          [ -4.14970235,  -4.22548648,  -4.36547729, ...,  -5.29187973,\n",
       "            -5.20451796,  -5.19631112],\n",
       "          [ -4.44850066,  -4.46366533,  -4.68074029, ...,  -6.65648885,\n",
       "            -6.5798218 ,  -6.63515957],\n",
       "          ...,\n",
       "          [-11.07461818, -25.82209066, -23.9732089 , ..., -53.33152494,\n",
       "           -53.3056407 , -49.28323039],\n",
       "          [ -7.11707575, -11.51923438,  -8.35092026, ..., -55.21333492,\n",
       "           -53.71568905, -64.55543382],\n",
       "          [ -7.56510953,  -5.24466574,  -5.89350054, ..., -49.78587349,\n",
       "           -46.69326569, -54.5808    ]],\n",
       "  \n",
       "         [[ -4.21000004,  -4.00122413,  -3.88644189, ...,  -1.58051494,\n",
       "            -1.5358501 ,  -1.58743389],\n",
       "          [ -6.12051495,  -6.52046031,  -7.03493113, ...,  -3.10628546,\n",
       "            -2.90368652,  -2.77106163],\n",
       "          [ -5.15600201,  -5.01035584,  -5.07331637, ...,  -3.21333382,\n",
       "            -2.83177365,  -2.61667135],\n",
       "          ...,\n",
       "          [-12.29116667, -17.3640285 ,  -7.85076242, ..., -53.73315484,\n",
       "           -55.8768543 , -58.04263445],\n",
       "          [-10.63999219,  -9.6211251 ,  -4.38587132, ..., -51.61815955,\n",
       "           -54.612058  , -61.3653005 ],\n",
       "          [-11.68544094,  -9.47666687, -10.67848205, ..., -61.39654018,\n",
       "           -62.51536081, -51.67668204]],\n",
       "  \n",
       "         [[ -7.40238489,  -7.73136278,  -8.24048532, ...,  -2.36477514,\n",
       "            -1.97346825,  -1.74161814],\n",
       "          [ -5.09462238,  -4.87389487,  -4.69221267, ...,  -2.91841201,\n",
       "            -2.71327767,  -2.54717154],\n",
       "          [ -6.68196427,  -6.68840844,  -6.89431382, ...,  -1.51821479,\n",
       "            -1.26106824,  -1.15995825],\n",
       "          ...,\n",
       "          [-11.25993761, -18.79865793,  -1.03671225, ..., -48.8891761 ,\n",
       "           -48.56472982, -50.07580054],\n",
       "          [-10.21430124, -17.16094714,  -6.36423456, ..., -46.33373141,\n",
       "           -49.01649095, -45.4235466 ],\n",
       "          [-13.27910134, -23.16672386, -28.18305045, ..., -48.6431924 ,\n",
       "           -47.90017365, -46.04291669]],\n",
       "  \n",
       "         ...,\n",
       "  \n",
       "         [[ -4.00068026,  -4.08686384,  -4.3015234 , ...,  -7.86077658,\n",
       "            -8.20057758,  -8.57092867],\n",
       "          [ -3.01508032,  -2.97424123,  -2.99597125, ..., -18.46728229,\n",
       "           -15.81854142, -14.05334978],\n",
       "          [ -3.4134743 ,  -3.42211408,  -3.60913961, ...,  -6.3684337 ,\n",
       "            -6.92375414,  -7.63438289],\n",
       "          ...,\n",
       "          [-23.21105082, -57.92499324, -49.92757898, ..., -40.00420075,\n",
       "           -42.17032938, -53.10934463],\n",
       "          [-24.2039175 , -44.33483952, -47.11693438, ..., -36.99755948,\n",
       "           -43.80885971, -48.77170035],\n",
       "          [-24.40095621, -46.89482294, -41.85363084, ..., -41.24358126,\n",
       "           -47.06412681, -57.95885044]],\n",
       "  \n",
       "         [[ -7.69572401,  -7.52786922,  -7.47366714, ..., -10.3390522 ,\n",
       "           -10.37977028, -10.51315689],\n",
       "          [ -8.02674198,  -7.84291458,  -7.70371819, ..., -14.37409687,\n",
       "           -13.68000603, -13.14634132],\n",
       "          [-10.69924736, -10.80393219, -11.11252689, ..., -11.51083565,\n",
       "           -11.40095329, -11.38945675],\n",
       "          ...,\n",
       "          [-27.02580452, -47.16927338, -41.25261688, ..., -48.02320099,\n",
       "           -48.83699799, -40.77880859],\n",
       "          [-28.07681847, -48.74456024, -44.25624847, ..., -40.23323822,\n",
       "           -48.78229523, -44.48682404],\n",
       "          [-28.7984581 , -38.88822174, -44.78414154, ..., -39.1378479 ,\n",
       "           -39.96257782, -40.7204361 ]],\n",
       "  \n",
       "         [[-14.81966632, -14.95824833, -15.22293299, ..., -15.08904057,\n",
       "           -15.00062727, -15.03255806],\n",
       "          [-13.85077318, -13.88161373, -13.98198407, ..., -16.65553816,\n",
       "           -16.34574593, -16.12163294],\n",
       "          [-13.72764164, -13.62028507, -13.66662497, ..., -16.42368689,\n",
       "           -16.17600021, -16.09496784],\n",
       "          ...,\n",
       "          [-33.09437395, -62.41013491, -52.20920377, ..., -50.59207524,\n",
       "           -52.92942899, -39.28691604],\n",
       "          [-33.74400052, -53.71240035, -51.95216325, ..., -47.59571566,\n",
       "           -52.63734037, -31.11866706],\n",
       "          [-33.91468352, -51.76337466, -50.54124628, ..., -45.89557121,\n",
       "           -54.83677857, -27.56615892]]]),\n",
       "  'label': array([14, 14, 14, ...,  4,  4,  4]),\n",
       "  'id': array(['XC466994.mp3', 'XC466994.mp3', 'XC466994.mp3', ...,\n",
       "         'XC207216.mp3', 'XC207216.mp3', 'XC207216.mp3'], dtype='<U12')}}"
      ]
     },
     "execution_count": 18,
     "metadata": {},
     "output_type": "execute_result"
    }
   ],
   "source": [
    "merged_dict_2D = {'train': train_features_2D, 'val': val_features_2D}\n",
    "merged_dict_2D"
   ]
  },
  {
   "cell_type": "markdown",
   "metadata": {},
   "source": [
    "### Save the merged dictionary to a pkl"
   ]
  },
  {
   "cell_type": "code",
   "execution_count": 20,
   "metadata": {},
   "outputs": [],
   "source": [
    "# Avrg Pooled\n",
    "with open('C:/Users/thato/Documents/Final-Year-Project/Dataset/Final-Version-Of-Bird-Classification-Project/feature-extraction/Annotated/Regular/AveragePooled/split_features_3s_all_1D.pkl', 'wb') as file:\n",
    "  pickle.dump(merged_dict_1D, file)\n",
    "del file"
   ]
  },
  {
   "cell_type": "code",
   "execution_count": 21,
   "metadata": {},
   "outputs": [],
   "source": [
    "# Avrg Pooled\n",
    "with open('C:/Users/thato/Documents/Final-Year-Project/Dataset/Final-Version-Of-Bird-Classification-Project/feature-extraction/Annotated/Regular/NotAveragePooled/split_features_3s_all_2D.pkl', 'wb') as file:\n",
    "  pickle.dump(merged_dict_2D, file)\n",
    "del file"
   ]
  },
  {
   "cell_type": "markdown",
   "metadata": {},
   "source": [
    "## **Window Size = 1s**"
   ]
  },
  {
   "cell_type": "code",
   "execution_count": 22,
   "metadata": {},
   "outputs": [],
   "source": [
    "features_list = ['melspectrogram', 'mfcc', 'chroma', 'cqt']"
   ]
  },
  {
   "cell_type": "code",
   "execution_count": 23,
   "metadata": {},
   "outputs": [
    {
     "name": "stdout",
     "output_type": "stream",
     "text": [
      "Train DataFrame shape: (3444, 9)\n",
      "Validation DataFrame shape: (834, 9)\n",
      "Number of rows in dataframe: 3444\n"
     ]
    },
    {
     "name": "stderr",
     "output_type": "stream",
     "text": [
      "Processing data:   0%|          | 0/3444 [00:00<?, ?it/s]c:\\Users\\thato\\AppData\\Local\\Programs\\Python\\Python312\\Lib\\site-packages\\librosa\\core\\pitch.py:101: UserWarning: Trying to estimate tuning from empty frequency set.\n",
      "  return pitch_tuning(\n",
      "Processing data: 100%|██████████| 3444/3444 [10:12<00:00,  5.62it/s] \n"
     ]
    },
    {
     "name": "stdout",
     "output_type": "stream",
     "text": [
      "Number of rows in dataframe: 834\n"
     ]
    },
    {
     "name": "stderr",
     "output_type": "stream",
     "text": [
      "Processing data: 100%|██████████| 834/834 [02:17<00:00,  6.06it/s]\n"
     ]
    },
    {
     "name": "stdout",
     "output_type": "stream",
     "text": [
      "\u001b[1m393/393\u001b[0m \u001b[32m━━━━━━━━━━━━━━━━━━━━\u001b[0m\u001b[37m\u001b[0m \u001b[1m0s\u001b[0m 861us/step\n",
      "\u001b[1m104/104\u001b[0m \u001b[32m━━━━━━━━━━━━━━━━━━━━\u001b[0m\u001b[37m\u001b[0m \u001b[1m0s\u001b[0m 808us/step\n",
      "\u001b[1m393/393\u001b[0m \u001b[32m━━━━━━━━━━━━━━━━━━━━\u001b[0m\u001b[37m\u001b[0m \u001b[1m0s\u001b[0m 534us/step\n",
      "\u001b[1m104/104\u001b[0m \u001b[32m━━━━━━━━━━━━━━━━━━━━\u001b[0m\u001b[37m\u001b[0m \u001b[1m0s\u001b[0m 546us/step\n",
      "\u001b[1m393/393\u001b[0m \u001b[32m━━━━━━━━━━━━━━━━━━━━\u001b[0m\u001b[37m\u001b[0m \u001b[1m0s\u001b[0m 525us/step\n",
      "\u001b[1m104/104\u001b[0m \u001b[32m━━━━━━━━━━━━━━━━━━━━\u001b[0m\u001b[37m\u001b[0m \u001b[1m0s\u001b[0m 505us/step\n",
      "\u001b[1m393/393\u001b[0m \u001b[32m━━━━━━━━━━━━━━━━━━━━\u001b[0m\u001b[37m\u001b[0m \u001b[1m0s\u001b[0m 755us/step\n",
      "\u001b[1m104/104\u001b[0m \u001b[32m━━━━━━━━━━━━━━━━━━━━\u001b[0m\u001b[37m\u001b[0m \u001b[1m0s\u001b[0m 720us/step\n"
     ]
    }
   ],
   "source": [
    "features = Extraction(train_data,\n",
    "                      val_data,\n",
    "                      window_size=1,\n",
    "                      features=features_list,\n",
    "                      avgpool=True\n",
    "                      )"
   ]
  },
  {
   "cell_type": "code",
   "execution_count": 24,
   "metadata": {},
   "outputs": [
    {
     "data": {
      "text/plain": [
       "(12565,)"
      ]
     },
     "metadata": {},
     "output_type": "display_data"
    },
    {
     "data": {
      "text/plain": [
       "(3318,)"
      ]
     },
     "metadata": {},
     "output_type": "display_data"
    }
   ],
   "source": [
    "train_y = features.train_y\n",
    "val_y = features.val_y\n",
    "\n",
    "display(train_y.shape)\n",
    "display(val_y.shape)"
   ]
  },
  {
   "cell_type": "code",
   "execution_count": 25,
   "metadata": {},
   "outputs": [
    {
     "data": {
      "text/plain": [
       "'melspectrogram'"
      ]
     },
     "metadata": {},
     "output_type": "display_data"
    },
    {
     "data": {
      "text/plain": [
       "(12565, 128)"
      ]
     },
     "metadata": {},
     "output_type": "display_data"
    },
    {
     "data": {
      "text/plain": [
       "'mfcc'"
      ]
     },
     "metadata": {},
     "output_type": "display_data"
    },
    {
     "data": {
      "text/plain": [
       "(12565, 20)"
      ]
     },
     "metadata": {},
     "output_type": "display_data"
    },
    {
     "data": {
      "text/plain": [
       "'chroma'"
      ]
     },
     "metadata": {},
     "output_type": "display_data"
    },
    {
     "data": {
      "text/plain": [
       "(12565, 12)"
      ]
     },
     "metadata": {},
     "output_type": "display_data"
    },
    {
     "data": {
      "text/plain": [
       "'cqt'"
      ]
     },
     "metadata": {},
     "output_type": "display_data"
    },
    {
     "data": {
      "text/plain": [
       "(12565, 84)"
      ]
     },
     "metadata": {},
     "output_type": "display_data"
    }
   ],
   "source": [
    "# Avgpooled Features\n",
    "train_features_1D = features.train_features_1D\n",
    "for key in train_features_1D.keys():\n",
    "  display(key)\n",
    "  display(train_features_1D[key].shape)"
   ]
  },
  {
   "cell_type": "code",
   "execution_count": 26,
   "metadata": {},
   "outputs": [
    {
     "data": {
      "text/plain": [
       "'melspectrogram'"
      ]
     },
     "metadata": {},
     "output_type": "display_data"
    },
    {
     "data": {
      "text/plain": [
       "(3318, 128)"
      ]
     },
     "metadata": {},
     "output_type": "display_data"
    },
    {
     "data": {
      "text/plain": [
       "'mfcc'"
      ]
     },
     "metadata": {},
     "output_type": "display_data"
    },
    {
     "data": {
      "text/plain": [
       "(3318, 20)"
      ]
     },
     "metadata": {},
     "output_type": "display_data"
    },
    {
     "data": {
      "text/plain": [
       "'chroma'"
      ]
     },
     "metadata": {},
     "output_type": "display_data"
    },
    {
     "data": {
      "text/plain": [
       "(3318, 12)"
      ]
     },
     "metadata": {},
     "output_type": "display_data"
    },
    {
     "data": {
      "text/plain": [
       "'cqt'"
      ]
     },
     "metadata": {},
     "output_type": "display_data"
    },
    {
     "data": {
      "text/plain": [
       "(3318, 84)"
      ]
     },
     "metadata": {},
     "output_type": "display_data"
    }
   ],
   "source": [
    "# Avgpooled Features\n",
    "val_features_1D = features.val_features_1D\n",
    "for key in val_features_1D.keys():\n",
    "  display(key)\n",
    "  display(val_features_1D[key].shape)"
   ]
  },
  {
   "cell_type": "code",
   "execution_count": 27,
   "metadata": {},
   "outputs": [
    {
     "data": {
      "text/plain": [
       "'melspectrogram'"
      ]
     },
     "metadata": {},
     "output_type": "display_data"
    },
    {
     "data": {
      "text/plain": [
       "(12565, 128, 87)"
      ]
     },
     "metadata": {},
     "output_type": "display_data"
    },
    {
     "data": {
      "text/plain": [
       "'mfcc'"
      ]
     },
     "metadata": {},
     "output_type": "display_data"
    },
    {
     "data": {
      "text/plain": [
       "(12565, 20, 87)"
      ]
     },
     "metadata": {},
     "output_type": "display_data"
    },
    {
     "data": {
      "text/plain": [
       "'chroma'"
      ]
     },
     "metadata": {},
     "output_type": "display_data"
    },
    {
     "data": {
      "text/plain": [
       "(12565, 12, 87)"
      ]
     },
     "metadata": {},
     "output_type": "display_data"
    },
    {
     "data": {
      "text/plain": [
       "'cqt'"
      ]
     },
     "metadata": {},
     "output_type": "display_data"
    },
    {
     "data": {
      "text/plain": [
       "(12565, 84, 87)"
      ]
     },
     "metadata": {},
     "output_type": "display_data"
    }
   ],
   "source": [
    "# Not avgpooled Features\n",
    "train_features_2D = features.train_features_2D\n",
    "for key in train_features_2D.keys():\n",
    "  display(key)\n",
    "  display(train_features_2D[key].shape)"
   ]
  },
  {
   "cell_type": "code",
   "execution_count": 28,
   "metadata": {},
   "outputs": [
    {
     "data": {
      "text/plain": [
       "'melspectrogram'"
      ]
     },
     "metadata": {},
     "output_type": "display_data"
    },
    {
     "data": {
      "text/plain": [
       "(3318, 128, 87)"
      ]
     },
     "metadata": {},
     "output_type": "display_data"
    },
    {
     "data": {
      "text/plain": [
       "'mfcc'"
      ]
     },
     "metadata": {},
     "output_type": "display_data"
    },
    {
     "data": {
      "text/plain": [
       "(3318, 20, 87)"
      ]
     },
     "metadata": {},
     "output_type": "display_data"
    },
    {
     "data": {
      "text/plain": [
       "'chroma'"
      ]
     },
     "metadata": {},
     "output_type": "display_data"
    },
    {
     "data": {
      "text/plain": [
       "(3318, 12, 87)"
      ]
     },
     "metadata": {},
     "output_type": "display_data"
    },
    {
     "data": {
      "text/plain": [
       "'cqt'"
      ]
     },
     "metadata": {},
     "output_type": "display_data"
    },
    {
     "data": {
      "text/plain": [
       "(3318, 84, 87)"
      ]
     },
     "metadata": {},
     "output_type": "display_data"
    }
   ],
   "source": [
    "# Not avgpooled Features\n",
    "val_features_2D = features.val_features_2D\n",
    "for key in val_features_2D.keys():\n",
    "  display(key)\n",
    "  display(val_features_2D[key].shape)"
   ]
  },
  {
   "cell_type": "code",
   "execution_count": 29,
   "metadata": {},
   "outputs": [],
   "source": [
    "train_ids = features.train_ids\n",
    "val_ids = features.val_ids"
   ]
  },
  {
   "cell_type": "markdown",
   "metadata": {},
   "source": [
    "### Encode Classes"
   ]
  },
  {
   "cell_type": "code",
   "execution_count": 30,
   "metadata": {},
   "outputs": [
    {
     "name": "stdout",
     "output_type": "stream",
     "text": [
      "Encoded classes for [0, 1, 2]: ['Acrocephalus arundinaceus', 'Acrocephalus melanopogon', 'Acrocephalus scirpaceus']\n",
      "Encoded training labels: [ 9  9  9 ... 17 17 17]\n",
      "Encoded validation labels: [14 14 14 ...  4  4  4]\n"
     ]
    }
   ],
   "source": [
    "label_encoder = LabelEncoder().fit(train_y)\n",
    "train_y_encoded = label_encoder.transform(train_y)\n",
    "val_y_encoded = label_encoder.transform(val_y)\n",
    "\n",
    "classes = list(label_encoder.inverse_transform([0, 1, 2]))\n",
    "print(\"Encoded classes for [0, 1, 2]:\", classes)\n",
    "print(\"Encoded training labels:\", train_y_encoded)\n",
    "print(\"Encoded validation labels:\", val_y_encoded)"
   ]
  },
  {
   "cell_type": "code",
   "execution_count": 31,
   "metadata": {},
   "outputs": [],
   "source": [
    "# Avg Pooled\n",
    "\n",
    "train_features_1D['label'] = train_y_encoded\n",
    "val_features_1D['label'] = val_y_encoded\n",
    "\n",
    "train_features_1D['id'] = train_ids\n",
    "val_features_1D['id'] = val_ids\n",
    "\n",
    "# Not Avg Pooled\n",
    "\n",
    "train_features_2D['label'] = train_y_encoded\n",
    "val_features_2D['label'] = val_y_encoded\n",
    "\n",
    "train_features_2D['id'] = train_ids\n",
    "val_features_2D['id'] = val_ids"
   ]
  },
  {
   "cell_type": "code",
   "execution_count": 32,
   "metadata": {},
   "outputs": [
    {
     "data": {
      "text/plain": [
       "{'train': {'melspectrogram': array([[-0.01898465, -0.2811592 , -0.25845313, ..., -0.9981291 ,\n",
       "          -0.9983617 , -1.        ],\n",
       "         [-0.01670736, -0.27276382, -0.2651618 , ..., -0.9903572 ,\n",
       "          -0.9974626 , -1.        ],\n",
       "         [-0.01776626, -0.26800779, -0.26286083, ..., -0.9897578 ,\n",
       "          -0.9985065 , -0.9999572 ],\n",
       "         ...,\n",
       "         [-0.07289265, -0.5997221 , -0.6325296 , ..., -0.9177227 ,\n",
       "          -0.93674475, -0.99452364],\n",
       "         [-0.01720924, -0.9334746 , -0.9393428 , ..., -0.8331133 ,\n",
       "          -0.8683263 , -0.98977023],\n",
       "         [-0.06566753, -0.6877171 , -0.70655054, ..., -0.8833477 ,\n",
       "          -0.89263326, -0.9825436 ]], dtype=float32),\n",
       "  'mfcc': array([[-9.9767429e-01,  5.7248688e-01, -2.8398493e-01, ...,\n",
       "           1.3116055e-02,  6.1448671e-02,  3.6781926e-02],\n",
       "         [-9.9636453e-01,  5.7445627e-01, -2.7706087e-01, ...,\n",
       "           2.2723455e-02,  6.6032313e-02,  2.8396677e-02],\n",
       "         [-1.0000000e+00,  5.6324875e-01, -2.5171626e-01, ...,\n",
       "           3.5349183e-02,  6.7185059e-02,  1.5965587e-02],\n",
       "         ...,\n",
       "         [-1.0000000e+00,  2.7968368e-01, -1.4246618e-02, ...,\n",
       "           1.7367683e-02,  1.1008355e-02,  2.5851686e-02],\n",
       "         [-1.0000000e+00, -1.6176531e-01, -1.0603369e-01, ...,\n",
       "           2.0507885e-02, -6.9449213e-03,  2.9877443e-02],\n",
       "         [-1.0000000e+00,  1.8428622e-01, -1.0308847e-01, ...,\n",
       "           2.5350118e-02,  7.1794447e-04,  3.4600884e-02]], dtype=float32),\n",
       "  'chroma': array([[0.6917337 , 0.79920536, 0.97118413, ..., 0.65407956, 0.5978356 ,\n",
       "          0.6044443 ],\n",
       "         [0.7003435 , 0.78403914, 0.9715184 , ..., 0.7372254 , 0.62166625,\n",
       "          0.6113982 ],\n",
       "         [0.7184318 , 0.78048897, 0.91897327, ..., 0.84638995, 0.68025637,\n",
       "          0.64307874],\n",
       "         ...,\n",
       "         [0.477972  , 0.53181696, 0.60706913, ..., 0.61213106, 0.47301322,\n",
       "          0.43381694],\n",
       "         [0.33606416, 0.40697742, 0.48056486, ..., 0.4660333 , 0.36259624,\n",
       "          0.31415123],\n",
       "         [0.50201905, 0.5421629 , 0.5849267 , ..., 0.5512494 , 0.48700136,\n",
       "          0.46219924]], dtype=float32),\n",
       "  'cqt': array([[-12.718057, -12.438762, -10.475758, ..., -42.914757, -42.431133,\n",
       "          -43.97196 ],\n",
       "         [-12.075013, -13.953689, -10.31892 , ..., -44.168324, -43.903427,\n",
       "          -45.103306],\n",
       "         [-13.98938 , -10.971338, -13.656649, ..., -44.39184 , -44.269108,\n",
       "          -45.32574 ],\n",
       "         ...,\n",
       "         [-12.575708, -17.562542, -18.094692, ..., -51.242096, -51.016617,\n",
       "          -50.324097],\n",
       "         [-36.706463, -38.573116, -38.970863, ..., -48.620876, -47.419365,\n",
       "          -46.174152],\n",
       "         [-16.850937, -19.947285, -22.177551, ..., -46.951015, -46.358944,\n",
       "          -45.533085]], dtype=float32),\n",
       "  'label': array([ 9,  9,  9, ..., 17, 17, 17]),\n",
       "  'id': array(['XC171088.mp3', 'XC171088.mp3', 'XC171088.mp3', ...,\n",
       "         'XC184434.mp3', 'XC184434.mp3', 'XC184434.mp3'], dtype='<U12')},\n",
       " 'val': {'melspectrogram': array([[-0.06999954, -0.4408386 , -0.48605075, ..., -0.91928643,\n",
       "          -0.9346632 , -0.9717053 ],\n",
       "         [-0.07340514, -0.38195828, -0.41806757, ..., -0.95625776,\n",
       "          -0.96524197, -0.98266244],\n",
       "         [-0.08638228, -0.39447019, -0.4443551 , ..., -0.953034  ,\n",
       "          -0.96281475, -0.9817791 ],\n",
       "         ...,\n",
       "         [-0.03195459, -0.17425258, -0.24347146, ..., -0.85529053,\n",
       "          -0.88159645, -0.9997882 ],\n",
       "         [-0.01786823, -0.18674868, -0.25255963, ..., -0.847973  ,\n",
       "          -0.87998164, -0.9999829 ],\n",
       "         [-0.02767456, -0.24895333, -0.32091704, ..., -0.8548628 ,\n",
       "          -0.88543236, -0.99996984]], dtype=float32),\n",
       "  'mfcc': array([[-0.99830997,  0.43489105, -0.02243877, ...,  0.0434352 ,\n",
       "           0.0376148 , -0.00853331],\n",
       "         [-0.99596465,  0.53467375,  0.04510891, ...,  0.03105503,\n",
       "           0.03942251,  0.00672053],\n",
       "         [-0.9802278 ,  0.5232008 ,  0.03844231, ...,  0.03502534,\n",
       "           0.03804932, -0.00183224],\n",
       "         ...,\n",
       "         [-0.98474085,  0.64425516, -0.12402055, ...,  0.04353176,\n",
       "           0.00633906,  0.02306793],\n",
       "         [-0.983022  ,  0.63483256, -0.06559436, ...,  0.04300651,\n",
       "           0.00279003,  0.01728292],\n",
       "         [-0.9975897 ,  0.58392024,  0.00968145, ...,  0.04002468,\n",
       "           0.00398848,  0.01213766]], dtype=float32),\n",
       "  'chroma': array([[0.6810539 , 0.70145357, 0.75393057, ..., 0.80862933, 0.762854  ,\n",
       "          0.67276657],\n",
       "         [0.7314198 , 0.7609645 , 0.8094694 , ..., 0.8194866 , 0.76124704,\n",
       "          0.6989204 ],\n",
       "         [0.76889795, 0.81107664, 0.8509995 , ..., 0.82684934, 0.7752641 ,\n",
       "          0.73482126],\n",
       "         ...,\n",
       "         [0.7877888 , 0.7489027 , 0.7357811 , ..., 0.6299312 , 0.6630117 ,\n",
       "          0.76643336],\n",
       "         [0.84909815, 0.824357  , 0.81033325, ..., 0.6793096 , 0.68251294,\n",
       "          0.7815064 ],\n",
       "         [0.81525594, 0.84753734, 0.88621503, ..., 0.76313686, 0.76676273,\n",
       "          0.77627546]], dtype=float32),\n",
       "  'cqt': array([[ -5.627838 , -10.758047 , -11.759102 , ..., -44.41258  ,\n",
       "          -43.789127 , -45.05872  ],\n",
       "         [ -5.6129117,  -9.874663 , -13.603986 , ..., -43.732132 ,\n",
       "          -43.983765 , -44.48571  ],\n",
       "         [-10.094051 , -10.40663  , -13.481924 , ..., -45.068333 ,\n",
       "          -45.09127  , -46.926765 ],\n",
       "         ...,\n",
       "         [ -8.781953 ,  -7.5785   , -10.861528 , ..., -54.162636 ,\n",
       "          -52.71224  , -52.064762 ],\n",
       "         [-12.07128  , -13.684768 , -12.209711 , ..., -53.629776 ,\n",
       "          -51.879463 , -51.02832  ],\n",
       "         [ -9.919465 , -14.635019 ,  -9.857887 , ..., -55.287476 ,\n",
       "          -55.782204 , -55.553505 ]], dtype=float32),\n",
       "  'label': array([14, 14, 14, ...,  4,  4,  4]),\n",
       "  'id': array(['XC466994.mp3', 'XC466994.mp3', 'XC466994.mp3', ...,\n",
       "         'XC207216.mp3', 'XC207216.mp3', 'XC207216.mp3'], dtype='<U12')}}"
      ]
     },
     "execution_count": 32,
     "metadata": {},
     "output_type": "execute_result"
    }
   ],
   "source": [
    "merged_dict_1D = {'train': train_features_1D, 'val': val_features_1D}\n",
    "merged_dict_1D"
   ]
  },
  {
   "cell_type": "code",
   "execution_count": 33,
   "metadata": {},
   "outputs": [
    {
     "data": {
      "text/plain": [
       "{'train': {'melspectrogram': array([[[-2.10519694e-02, -2.64618150e-03, -1.09052584e-02, ...,\n",
       "           -1.14497980e-02,  0.00000000e+00, -1.33858034e-02],\n",
       "          [-1.99002311e-01, -2.20890388e-01, -2.76137829e-01, ...,\n",
       "           -2.59782881e-01, -2.09464088e-01, -1.87755451e-01],\n",
       "          [-2.39491284e-01, -2.51040578e-01, -2.89648235e-01, ...,\n",
       "           -2.82749534e-01, -2.52160460e-01, -2.39700243e-01],\n",
       "          ...,\n",
       "          [-9.98796940e-01, -9.98772740e-01, -9.98712122e-01, ...,\n",
       "           -9.96163070e-01, -9.97696698e-01, -9.98156428e-01],\n",
       "          [-9.99429047e-01, -9.99434769e-01, -9.99466956e-01, ...,\n",
       "           -9.99509513e-01, -9.99450743e-01, -9.99419093e-01],\n",
       "          [-1.00000000e+00, -1.00000000e+00, -1.00000000e+00, ...,\n",
       "           -1.00000000e+00, -1.00000000e+00, -1.00000000e+00]],\n",
       "  \n",
       "         [[-1.80637967e-02, -3.36689858e-08, -7.33598135e-03, ...,\n",
       "           -1.05369762e-02, -8.22041358e-04, -1.49706351e-02],\n",
       "          [-1.93169340e-01, -2.11562306e-01, -2.58488506e-01, ...,\n",
       "           -2.54453868e-01, -2.06980035e-01, -1.89356089e-01],\n",
       "          [-2.46732265e-01, -2.46332094e-01, -2.59589493e-01, ...,\n",
       "           -3.36728394e-01, -3.02171886e-01, -2.79048473e-01],\n",
       "          ...,\n",
       "          [-9.99027729e-01, -9.99044061e-01, -9.99038100e-01, ...,\n",
       "           -9.98168111e-01, -9.99143004e-01, -9.99209702e-01],\n",
       "          [-9.99601185e-01, -9.99610960e-01, -9.99640524e-01, ...,\n",
       "           -9.99276996e-01, -9.99552488e-01, -9.99590337e-01],\n",
       "          [-1.00000000e+00, -1.00000000e+00, -1.00000000e+00, ...,\n",
       "           -1.00000000e+00, -1.00000000e+00, -1.00000000e+00]],\n",
       "  \n",
       "         [[-1.61395743e-02, -7.29169289e-04, -1.09934993e-02, ...,\n",
       "           -1.17836110e-02,  3.39725048e-08, -1.11322552e-02],\n",
       "          [-1.70806721e-01, -1.77496850e-01, -2.13250756e-01, ...,\n",
       "           -2.60039806e-01, -2.08336145e-01, -1.86161056e-01],\n",
       "          [-2.92292863e-01, -2.93917030e-01, -2.83753127e-01, ...,\n",
       "           -2.92036355e-01, -2.57083595e-01, -2.43544951e-01],\n",
       "          ...,\n",
       "          [-1.00000000e+00, -1.00000000e+00, -1.00000000e+00, ...,\n",
       "           -9.98468041e-01, -9.98941362e-01, -9.99023080e-01],\n",
       "          [-9.98015583e-01, -9.98148203e-01, -9.98801231e-01, ...,\n",
       "           -9.99664187e-01, -9.99631643e-01, -9.99618769e-01],\n",
       "          [-9.98435080e-01, -9.98587310e-01, -9.99250770e-01, ...,\n",
       "           -1.00000000e+00, -1.00000000e+00, -1.00000000e+00]],\n",
       "  \n",
       "         ...,\n",
       "  \n",
       "         [[-7.30965309e-02, -5.57289881e-02, -5.96177713e-02, ...,\n",
       "           -1.92994446e-01, -1.96910328e-01, -1.94196170e-01],\n",
       "          [-2.37884226e-01, -2.54889130e-01, -3.07246720e-01, ...,\n",
       "           -2.96034009e-01, -2.76053870e-01, -2.70427672e-01],\n",
       "          [-3.07448916e-01, -3.24645438e-01, -3.76351573e-01, ...,\n",
       "           -3.49953710e-01, -3.43357349e-01, -3.38081385e-01],\n",
       "          ...,\n",
       "          [-9.87577365e-01, -9.87909395e-01, -9.82246498e-01, ...,\n",
       "           -9.90573759e-01, -9.90524490e-01, -9.88245493e-01],\n",
       "          [-9.90869522e-01, -9.92564152e-01, -9.91846881e-01, ...,\n",
       "           -9.92135217e-01, -9.88983815e-01, -9.87513450e-01],\n",
       "          [-9.92072171e-01, -9.95206437e-01, -1.00000000e+00, ...,\n",
       "           -9.68409251e-01, -9.78003424e-01, -9.81157573e-01]],\n",
       "  \n",
       "         [[-1.75545178e-02,  0.00000000e+00, -8.20061471e-03, ...,\n",
       "           -9.82336327e-03, -4.73445143e-05, -1.30396700e-02],\n",
       "          [-1.95920974e-01, -2.14514479e-01, -2.72230864e-01, ...,\n",
       "           -2.80601054e-01, -2.17185199e-01, -1.93546116e-01],\n",
       "          [-2.71219432e-01, -2.89650470e-01, -3.45914930e-01, ...,\n",
       "           -3.53520870e-01, -2.91227698e-01, -2.67805457e-01],\n",
       "          ...,\n",
       "          [-9.96478200e-01, -9.93696511e-01, -9.82449651e-01, ...,\n",
       "           -9.84691083e-01, -9.90889788e-01, -9.91118729e-01],\n",
       "          [-9.98877883e-01, -9.96861100e-01, -9.88101184e-01, ...,\n",
       "           -9.86176789e-01, -9.91615236e-01, -9.91769373e-01],\n",
       "          [-1.00000000e+00, -1.00000000e+00, -1.00000000e+00, ...,\n",
       "           -1.00000000e+00, -9.97969568e-01, -9.96198118e-01]],\n",
       "  \n",
       "         [[-7.19552623e-02, -5.42890091e-02, -5.81061052e-02, ...,\n",
       "           -9.18257238e-02, -1.45000221e-01, -1.67641836e-01],\n",
       "          [-2.38317825e-01, -2.54751182e-01, -3.06416884e-01, ...,\n",
       "           -2.78119336e-01, -2.85396012e-01, -2.99825955e-01],\n",
       "          [-3.08542930e-01, -3.24958947e-01, -3.75708070e-01, ...,\n",
       "           -2.98132194e-01, -2.77947462e-01, -2.76900347e-01],\n",
       "          ...,\n",
       "          [-9.86512853e-01, -9.80244608e-01, -9.59674351e-01, ...,\n",
       "           -9.82087548e-01, -9.82604172e-01, -9.80089724e-01],\n",
       "          [-9.98641696e-01, -9.96747301e-01, -9.87652118e-01, ...,\n",
       "           -9.78788651e-01, -9.66451488e-01, -9.57495745e-01],\n",
       "          [-1.00000000e+00, -1.00000000e+00, -1.00000000e+00, ...,\n",
       "           -9.87499368e-01, -9.82057046e-01, -9.77313664e-01]]]),\n",
       "  'mfcc': array([[[-0.88929802, -0.90836531, -1.        , ..., -1.        ,\n",
       "           -1.        , -1.        ],\n",
       "          [ 1.        ,  1.        ,  0.88034302, ...,  0.63010281,\n",
       "            0.86051655,  0.99465287],\n",
       "          [ 0.17458914,  0.03551779, -0.2040616 , ...,  0.0471845 ,\n",
       "            0.14465581,  0.1836549 ],\n",
       "          ...,\n",
       "          [ 0.02339301, -0.00236412, -0.03014872, ...,  0.02298629,\n",
       "            0.0307796 ,  0.03401409],\n",
       "          [ 0.03948438,  0.07581457,  0.09554436, ...,  0.04415239,\n",
       "            0.04134195,  0.04081676],\n",
       "          [ 0.02754913,  0.0575687 ,  0.09694761, ...,  0.02998564,\n",
       "            0.03597362,  0.03783277]],\n",
       "  \n",
       "         [[-0.98046327, -1.        , -1.        , ..., -1.        ,\n",
       "           -0.86425632, -0.83899599],\n",
       "          [ 1.        ,  0.92475563,  0.68487114, ...,  0.86583948,\n",
       "            1.        ,  1.        ],\n",
       "          [ 0.05759969,  0.02065322, -0.0343789 , ..., -0.30860358,\n",
       "           -0.14226347,  0.01148924],\n",
       "          ...,\n",
       "          [ 0.06476863,  0.05449702,  0.03304253, ...,  0.0230449 ,\n",
       "            0.03258002,  0.04414177],\n",
       "          [ 0.06906938,  0.06889858,  0.05515571, ...,  0.11688565,\n",
       "            0.10667973,  0.08501109],\n",
       "          [ 0.03266057,  0.0429649 ,  0.04724909, ...,  0.04798097,\n",
       "            0.04040395,  0.02477325]],\n",
       "  \n",
       "         [[-1.        , -1.        , -1.        , ..., -1.        ,\n",
       "           -1.        , -1.        ],\n",
       "          [ 0.9847272 ,  0.95334893,  0.84020835, ...,  0.60092902,\n",
       "            0.81959957,  0.94104278],\n",
       "          [ 0.18987557,  0.07210093, -0.19783571, ...,  0.07489725,\n",
       "            0.15275927,  0.19024341],\n",
       "          ...,\n",
       "          [ 0.03642086,  0.02031861,  0.01054347, ...,  0.0379054 ,\n",
       "            0.03645183,  0.03672913],\n",
       "          [ 0.03206567,  0.05614569,  0.08904622, ...,  0.03505244,\n",
       "            0.03254136,  0.03176751],\n",
       "          [ 0.0247984 ,  0.03930026,  0.04358338, ...,  0.0165263 ,\n",
       "            0.02520545,  0.0279246 ]],\n",
       "  \n",
       "         ...,\n",
       "  \n",
       "         [[-1.        , -1.        , -1.        , ..., -1.        ,\n",
       "           -1.        , -1.        ],\n",
       "          [ 0.94496879,  0.80229548,  0.5076311 , ...,  0.74784431,\n",
       "            0.85268007,  0.89033666],\n",
       "          [ 0.35923759,  0.3572127 ,  0.29224455, ...,  0.11206548,\n",
       "            0.14612758,  0.16055845],\n",
       "          ...,\n",
       "          [-0.07129964, -0.07624355, -0.06825806, ...,  0.01237766,\n",
       "            0.0091286 ,  0.00473304],\n",
       "          [ 0.13074831,  0.13628769,  0.11789789, ...,  0.02007243,\n",
       "            0.01444476,  0.01209467],\n",
       "          [-0.01004441, -0.01972337, -0.01668873, ...,  0.01991834,\n",
       "            0.01271262,  0.00133555]],\n",
       "  \n",
       "         [[-1.        , -1.        , -1.        , ..., -1.        ,\n",
       "           -1.        , -1.        ],\n",
       "          [ 0.95492399,  0.80872846,  0.50416309, ...,  0.57349467,\n",
       "            0.82966948,  0.97328138],\n",
       "          [ 0.29886895,  0.3182905 ,  0.28125626, ...,  0.13161752,\n",
       "            0.17909957,  0.20552289],\n",
       "          ...,\n",
       "          [-0.03811505, -0.06625651, -0.07119612, ...,  0.02492803,\n",
       "            0.0311187 ,  0.03314313],\n",
       "          [ 0.05096662,  0.06564155,  0.05837513, ...,  0.01713295,\n",
       "            0.02707891,  0.0305366 ],\n",
       "          [ 0.04861426,  0.04027639,  0.03062554, ...,  0.02453521,\n",
       "            0.02791015,  0.02895043]],\n",
       "  \n",
       "         [[-1.        , -1.        , -1.        , ..., -1.        ,\n",
       "           -1.        , -1.        ],\n",
       "          [ 0.98332635,  0.86775488,  0.58052629, ...,  0.80857972,\n",
       "            0.84454017,  0.79191793],\n",
       "          [ 0.39909448,  0.40579576,  0.32997062, ...,  0.13951204,\n",
       "            0.14439548,  0.14094032],\n",
       "          ...,\n",
       "          [-0.09315444, -0.10034696, -0.08105246, ...,  0.02952492,\n",
       "            0.03075755,  0.02491149],\n",
       "          [ 0.15228859,  0.1447521 ,  0.10586996, ...,  0.02272973,\n",
       "            0.01407155,  0.00547229],\n",
       "          [-0.03718011, -0.05025465, -0.04527372, ...,  0.0218414 ,\n",
       "            0.02509808,  0.0311856 ]]]),\n",
       "  'chroma': array([[[0.93985969, 0.86132562, 0.58710808, ..., 1.        ,\n",
       "           1.        , 0.93133426],\n",
       "          [0.94167173, 0.87550879, 0.6356163 , ..., 0.97013289,\n",
       "           0.97684157, 0.93853688],\n",
       "          [0.984963  , 1.        , 1.        , ..., 0.96975553,\n",
       "           0.9897126 , 0.98287141],\n",
       "          ...,\n",
       "          [0.91918337, 0.83196801, 0.56903458, ..., 0.89527649,\n",
       "           0.91476649, 0.89829683],\n",
       "          [0.87959135, 0.78256238, 0.49718744, ..., 0.82470483,\n",
       "           0.87329632, 0.85464746],\n",
       "          [0.87467939, 0.78486508, 0.51349515, ..., 0.91764015,\n",
       "           0.94475996, 0.88083923]],\n",
       "  \n",
       "         [[0.94189733, 0.93630236, 0.88425934, ..., 0.5222764 ,\n",
       "           0.6190359 , 0.76722151],\n",
       "          [0.94541663, 0.94160342, 0.91561908, ..., 0.5239507 ,\n",
       "           0.60707694, 0.75828177],\n",
       "          [0.99720472, 1.        , 1.        , ..., 0.65873986,\n",
       "           0.71831453, 0.84600264],\n",
       "          ...,\n",
       "          [0.83060497, 0.75097406, 0.65378374, ..., 1.        ,\n",
       "           1.        , 1.        ],\n",
       "          [0.79694396, 0.74390274, 0.66201937, ..., 0.5503056 ,\n",
       "           0.65975666, 0.78582829],\n",
       "          [0.82526886, 0.80097646, 0.7391485 , ..., 0.48210546,\n",
       "           0.59405518, 0.73827952]],\n",
       "  \n",
       "         [[0.97154224, 1.        , 0.88633764, ..., 0.72456747,\n",
       "           0.76114041, 0.77775645],\n",
       "          [0.95169145, 0.95334172, 0.86777812, ..., 0.81230015,\n",
       "           0.82403731, 0.81824678],\n",
       "          [0.93554062, 0.91137797, 1.        , ..., 0.93509406,\n",
       "           0.92167258, 0.89329541],\n",
       "          ...,\n",
       "          [0.97555333, 0.99552882, 0.79698545, ..., 0.80746627,\n",
       "           0.77723527, 0.77832413],\n",
       "          [0.9418577 , 0.9437995 , 0.73350281, ..., 0.73872244,\n",
       "           0.74497461, 0.73712325],\n",
       "          [0.93498212, 0.95942706, 0.79873329, ..., 0.69163263,\n",
       "           0.73127711, 0.73828202]],\n",
       "  \n",
       "         ...,\n",
       "  \n",
       "         [[0.46270617, 0.32739375, 0.17791941, ..., 0.60692063,\n",
       "           0.85436239, 0.94221679],\n",
       "          [0.47988286, 0.3390489 , 0.18561403, ..., 0.67791397,\n",
       "           0.90729937, 0.98584655],\n",
       "          [0.50428788, 0.3528995 , 0.19510939, ..., 0.87988501,\n",
       "           0.92782413, 0.92523978],\n",
       "          ...,\n",
       "          [1.        , 1.        , 1.        , ..., 0.59520535,\n",
       "           0.86328344, 1.        ],\n",
       "          [0.60229664, 0.58450321, 0.5630791 , ..., 0.65012108,\n",
       "           0.91509419, 0.99584054],\n",
       "          [0.43523902, 0.31701729, 0.18255456, ..., 0.63595373,\n",
       "           0.85650581, 0.92552674]],\n",
       "  \n",
       "         [[0.87058473, 0.82497603, 0.54914564, ..., 0.8545211 ,\n",
       "           0.90172386, 0.86665499],\n",
       "          [0.88950801, 0.84187651, 0.56138945, ..., 0.90042675,\n",
       "           0.92814988, 0.89314008],\n",
       "          [0.93366635, 0.87519127, 0.58852714, ..., 0.94325405,\n",
       "           0.95658344, 0.93029249],\n",
       "          ...,\n",
       "          [0.91743398, 1.        , 1.        , ..., 0.87981367,\n",
       "           0.90343773, 0.87035209],\n",
       "          [0.85000557, 0.89616489, 0.81856996, ..., 0.81492496,\n",
       "           0.85215396, 0.81642193],\n",
       "          [0.8229962 , 0.80055553, 0.57138413, ..., 0.78234869,\n",
       "           0.83545429, 0.80239046]],\n",
       "  \n",
       "         [[0.57830823, 0.38217968, 0.19316067, ..., 0.75566773,\n",
       "           0.86559627, 0.84789723],\n",
       "          [0.58508694, 0.38198199, 0.18604104, ..., 0.81746897,\n",
       "           0.99824324, 1.        ],\n",
       "          [0.61834205, 0.39953522, 0.19323235, ..., 0.91605557,\n",
       "           1.        , 0.94728513],\n",
       "          ...,\n",
       "          [1.        , 1.        , 1.        , ..., 0.55351941,\n",
       "           0.49012415, 0.46420628],\n",
       "          [0.7288516 , 0.64952501, 0.54966005, ..., 0.63897451,\n",
       "           0.70339654, 0.64401733],\n",
       "          [0.58786235, 0.42733708, 0.26875456, ..., 0.66332721,\n",
       "           0.77329741, 0.73008955]]]),\n",
       "  'cqt': array([[[-4.62574291e+00, -4.61918259e+00, -4.72525406e+00, ...,\n",
       "           -4.32104445e+00, -4.17318583e+00, -4.16202831e+00],\n",
       "          [-5.63917589e+00, -5.90475988e+00, -6.26052189e+00, ...,\n",
       "           -5.35002136e+00, -5.20818615e+00, -5.12676525e+00],\n",
       "          [-4.54902363e+00, -4.51110125e+00, -4.66808367e+00, ...,\n",
       "           -6.86560059e+00, -6.44841576e+00, -6.29140139e+00],\n",
       "          ...,\n",
       "          [-2.20947285e+01, -5.32067261e+01, -5.02759628e+01, ...,\n",
       "           -5.40465012e+01, -4.31785889e+01, -3.15815220e+01],\n",
       "          [-2.24276886e+01, -5.33714294e+01, -5.97175217e+01, ...,\n",
       "           -4.47569733e+01, -4.98461685e+01, -3.57403107e+01],\n",
       "          [-2.26268883e+01, -5.44037781e+01, -5.45932388e+01, ...,\n",
       "           -4.82444839e+01, -4.74584045e+01, -3.73602905e+01]],\n",
       "  \n",
       "         [[-4.64551544e+00, -4.64583492e+00, -4.74831295e+00, ...,\n",
       "           -4.59339380e+00, -4.55037212e+00, -4.61731148e+00],\n",
       "          [-4.12551451e+00, -4.11920595e+00, -4.19992685e+00, ...,\n",
       "           -5.91232681e+00, -5.66283703e+00, -5.50716686e+00],\n",
       "          [-5.93877029e+00, -5.81024742e+00, -5.77362013e+00, ...,\n",
       "           -6.20519829e+00, -5.98448944e+00, -5.98085546e+00],\n",
       "          ...,\n",
       "          [-2.31213322e+01, -4.86108971e+01, -4.60709343e+01, ...,\n",
       "           -3.02709141e+01, -3.08392391e+01, -3.33764305e+01],\n",
       "          [-2.52655354e+01, -3.71202393e+01, -4.00172768e+01, ...,\n",
       "           -2.63925724e+01, -3.58872833e+01, -3.05743084e+01],\n",
       "          [-3.03776398e+01, -3.38779984e+01, -3.97800941e+01, ...,\n",
       "           -2.94245033e+01, -4.02730293e+01, -3.75666542e+01]],\n",
       "  \n",
       "         [[-2.81930828e+00, -2.79074740e+00, -2.87092423e+00, ...,\n",
       "           -2.62203312e+00, -2.44249034e+00, -2.38741684e+00],\n",
       "          [-1.75678968e+00, -1.77526772e+00, -1.87222743e+00, ...,\n",
       "           -2.03523493e+00, -2.01287222e+00, -2.06266642e+00],\n",
       "          [-1.54967237e+00, -1.42724705e+00, -1.45891845e+00, ...,\n",
       "           -3.23038125e+00, -2.96195698e+00, -2.89434814e+00],\n",
       "          ...,\n",
       "          [-2.34682884e+01, -5.09247093e+01, -5.32831039e+01, ...,\n",
       "           -5.16231956e+01, -4.56108589e+01, -3.36387482e+01],\n",
       "          [-2.36320152e+01, -4.75365257e+01, -5.58517876e+01, ...,\n",
       "           -5.35996475e+01, -4.50722466e+01, -3.51688194e+01],\n",
       "          [-2.38224258e+01, -5.10987206e+01, -5.35773315e+01, ...,\n",
       "           -5.46641769e+01, -4.31136169e+01, -3.31692657e+01]],\n",
       "  \n",
       "         ...,\n",
       "  \n",
       "         [[-9.65372363e+00, -9.68202598e+00, -9.82748952e+00, ...,\n",
       "           -9.76222169e+00, -1.07117284e+01, -1.17449178e+01],\n",
       "          [-9.88089172e+00, -9.95772819e+00, -1.01045148e+01, ...,\n",
       "           -9.35410370e+00, -9.55682336e+00, -9.82288736e+00],\n",
       "          [-1.01933921e+01, -1.02102483e+01, -1.04139508e+01, ...,\n",
       "           -6.96241024e+00, -6.86320592e+00, -6.91345210e+00],\n",
       "          ...,\n",
       "          [-3.17288140e+01, -5.63583011e+01, -5.18228622e+01, ...,\n",
       "           -5.04508701e+01, -5.21960858e+01, -4.40949254e+01],\n",
       "          [-3.14883834e+01, -5.45358396e+01, -5.31674656e+01, ...,\n",
       "           -5.72714731e+01, -4.95268363e+01, -3.82041658e+01],\n",
       "          [-2.98812111e+01, -5.19728363e+01, -5.56133209e+01, ...,\n",
       "           -4.91852588e+01, -4.81576090e+01, -4.57955701e+01]],\n",
       "  \n",
       "         [[-2.10910186e-01, -2.39204481e-01, -3.84657890e-01, ...,\n",
       "           -1.51609465e-01, -1.48562528e-02, -3.72529030e-09],\n",
       "          [-4.38096225e-01, -5.14927030e-01, -6.61706090e-01, ...,\n",
       "           -3.98034394e-01, -2.61401445e-01, -2.01284230e-01],\n",
       "          [-7.50627816e-01, -7.67485559e-01, -9.71177578e-01, ...,\n",
       "           -6.90036476e-01, -4.79291201e-01, -4.79726851e-01],\n",
       "          ...,\n",
       "          [-2.01645164e+01, -6.00105705e+01, -3.87260208e+01, ...,\n",
       "           -5.00127563e+01, -5.74303169e+01, -2.97214947e+01],\n",
       "          [-2.03486500e+01, -5.39169197e+01, -5.07510109e+01, ...,\n",
       "           -5.43838120e+01, -5.43191643e+01, -3.06528835e+01],\n",
       "          [-2.05365562e+01, -6.00270119e+01, -4.76547928e+01, ...,\n",
       "           -7.27738571e+01, -5.14424248e+01, -3.53126221e+01]],\n",
       "  \n",
       "         [[-4.83756050e+00, -4.86585427e+00, -5.01129912e+00, ...,\n",
       "           -4.80679996e+00, -4.51826719e+00, -4.35291011e+00],\n",
       "          [-5.06473445e+00, -5.14155699e+00, -5.28833066e+00, ...,\n",
       "           -8.63008121e+00, -8.33126372e+00, -8.03232221e+00],\n",
       "          [-5.37724479e+00, -5.39409656e+00, -5.59776539e+00, ...,\n",
       "           -4.43675937e+00, -4.50327276e+00, -4.80942336e+00],\n",
       "          ...,\n",
       "          [-2.46350109e+01, -4.86809620e+01, -6.08180171e+01, ...,\n",
       "           -4.92093368e+01, -3.92842568e+01, -4.82114677e+01],\n",
       "          [-2.51543979e+01, -4.53670947e+01, -4.84667461e+01, ...,\n",
       "           -4.75790528e+01, -3.78687476e+01, -4.89017540e+01],\n",
       "          [-2.52671611e+01, -5.04145611e+01, -4.25522489e+01, ...,\n",
       "           -4.92093835e+01, -3.55249559e+01, -4.12766332e+01]]]),\n",
       "  'label': array([ 9,  9,  9, ..., 17, 17, 17]),\n",
       "  'id': array(['XC171088.mp3', 'XC171088.mp3', 'XC171088.mp3', ...,\n",
       "         'XC184434.mp3', 'XC184434.mp3', 'XC184434.mp3'], dtype='<U12')},\n",
       " 'val': {'melspectrogram': array([[[-0.08603191, -0.06783614, -0.0713876 , ..., -0.08631492,\n",
       "           -0.14014602, -0.2039817 ],\n",
       "          [-0.25737934, -0.27494878, -0.32953861, ..., -0.30166941,\n",
       "           -0.3075132 , -0.32572953],\n",
       "          [-0.32968493, -0.34746291, -0.40154753, ..., -0.26696371,\n",
       "           -0.26211415, -0.28030986],\n",
       "          ...,\n",
       "          [-0.90637466, -0.89224145, -0.86838109, ..., -0.98190374,\n",
       "           -0.99353253, -0.9972628 ],\n",
       "          [-0.94855348, -0.93381372, -0.91237959, ..., -1.        ,\n",
       "           -0.99613368, -0.99431163],\n",
       "          [-1.        , -1.        , -1.        , ..., -0.99716877,\n",
       "           -1.        , -1.        ]],\n",
       "  \n",
       "         [[-0.09753142, -0.079052  , -0.0811241 , ..., -0.01986858,\n",
       "           -0.00944031, -0.02739243],\n",
       "          [-0.26447396, -0.28025317, -0.3303953 , ..., -0.30904285,\n",
       "           -0.26773429, -0.24761006],\n",
       "          [-0.33500323, -0.35077629, -0.40002571, ..., -0.32898685,\n",
       "           -0.30326296, -0.29855624],\n",
       "          ...,\n",
       "          [-0.84072809, -0.82123367, -0.80165845, ..., -0.99404376,\n",
       "           -1.        , -1.        ],\n",
       "          [-0.95374762, -0.93285045, -0.89772648, ..., -1.        ,\n",
       "           -0.99235072, -0.98662045],\n",
       "          [-1.        , -1.        , -1.        , ..., -0.99956607,\n",
       "           -0.9891391 , -0.98320253]],\n",
       "  \n",
       "         [[-0.10216249, -0.0848764 , -0.086778  , ..., -0.0269014 ,\n",
       "            0.        , -0.00463478],\n",
       "          [-0.27561347, -0.29797257, -0.35008358, ..., -0.25864813,\n",
       "           -0.20539139, -0.18294564],\n",
       "          [-0.34882298, -0.37260012, -0.42354325, ..., -0.32089888,\n",
       "           -0.2752944 , -0.25809384],\n",
       "          ...,\n",
       "          [-0.89646941, -0.89771518, -0.87425648, ..., -0.99983822,\n",
       "           -0.99851003, -0.99844917],\n",
       "          [-0.966864  , -0.97770264, -0.95676691, ..., -0.99257155,\n",
       "           -0.99201511, -0.99224171],\n",
       "          [-0.97999161, -1.        , -1.        , ..., -0.99990897,\n",
       "           -0.99615205, -0.99556186]],\n",
       "  \n",
       "         ...,\n",
       "  \n",
       "         [[-0.04226195, -0.02462682, -0.03075489, ..., -0.03282351,\n",
       "           -0.0319077 , -0.0409    ],\n",
       "          [-0.25092614, -0.23951234, -0.23330933, ..., -0.16969587,\n",
       "           -0.18335989, -0.18376185],\n",
       "          [-0.27993143, -0.28015152, -0.30583617, ..., -0.22405043,\n",
       "           -0.32205513, -0.32980445],\n",
       "          ...,\n",
       "          [-0.98826492, -0.98702264, -0.98158199, ..., -0.97634852,\n",
       "           -0.993186  , -0.98901272],\n",
       "          [-0.98961753, -0.98912889, -0.98603863, ..., -0.98224711,\n",
       "           -0.99216044, -0.98604286],\n",
       "          [-0.99412745, -0.99585915, -1.        , ..., -1.        ,\n",
       "           -1.        , -0.99159431]],\n",
       "  \n",
       "         [[-0.04151559, -0.00643165, -0.0024472 , ..., -0.01136859,\n",
       "           -0.00483926, -0.02578196],\n",
       "          [-0.24336183, -0.25318629, -0.27513096, ..., -0.2092292 ,\n",
       "           -0.22124496, -0.21283004],\n",
       "          [-0.25784948, -0.27172211, -0.3160122 , ..., -0.27738842,\n",
       "           -0.26600793, -0.2625533 ],\n",
       "          ...,\n",
       "          [-0.99205959, -0.98959357, -0.97840577, ..., -0.95924914,\n",
       "           -0.98244762, -0.98653567],\n",
       "          [-0.99404317, -0.992989  , -0.98740339, ..., -0.98914075,\n",
       "           -0.99599218, -0.99628955],\n",
       "          [-0.99953061, -1.        , -1.        , ..., -1.        ,\n",
       "           -1.        , -0.99898285]],\n",
       "  \n",
       "         [[-0.01775503,  0.        , -0.01051809, ..., -0.02624731,\n",
       "           -0.02174374, -0.03724938],\n",
       "          [-0.20698491, -0.2151041 , -0.23915756, ..., -0.30095071,\n",
       "           -0.23808894, -0.21426572],\n",
       "          [-0.34298503, -0.36070198, -0.38054737, ..., -0.3330639 ,\n",
       "           -0.28821084, -0.27267569],\n",
       "          ...,\n",
       "          [-0.99102807, -0.98845935, -0.97281551, ..., -0.97261626,\n",
       "           -0.98529428, -0.98896164],\n",
       "          [-0.99890298, -1.        , -0.99426752, ..., -0.98748541,\n",
       "           -0.99624014, -0.99790329],\n",
       "          [-0.99756473, -0.99981207, -1.        , ..., -1.        ,\n",
       "           -1.        , -1.        ]]]),\n",
       "  'mfcc': array([[[-9.15432964e-01, -9.37539397e-01, -1.00000000e+00, ...,\n",
       "           -1.00000000e+00, -1.00000000e+00, -1.00000000e+00],\n",
       "          [ 1.00000000e+00,  9.21689569e-01,  5.17991348e-01, ...,\n",
       "            6.79583588e-01,  7.63502265e-01,  7.89119133e-01],\n",
       "          [ 1.83925578e-01,  2.45199519e-02, -1.96539172e-01, ...,\n",
       "            1.28201089e-01,  1.51607846e-01,  1.61188279e-01],\n",
       "          ...,\n",
       "          [ 3.32476796e-01,  3.51959585e-01,  2.80736699e-01, ...,\n",
       "            1.67974352e-02,  2.59435903e-02,  2.90469569e-02],\n",
       "          [ 1.57025292e-01,  2.05315333e-01,  1.81926292e-01, ...,\n",
       "            1.16104368e-02,  1.67631710e-02,  1.50236385e-02],\n",
       "          [-4.03129569e-01, -4.85010408e-01, -3.90367179e-01, ...,\n",
       "            4.77455765e-03,  9.19525223e-03,  6.14702553e-03]],\n",
       "  \n",
       "         [[-7.81154168e-01, -8.67774548e-01, -1.00000000e+00, ...,\n",
       "           -1.00000000e+00, -1.00000000e+00, -1.00000000e+00],\n",
       "          [ 1.00000000e+00,  1.00000000e+00,  5.93637839e-01, ...,\n",
       "            7.06820446e-01,  8.62501811e-01,  9.41818972e-01],\n",
       "          [-6.68116566e-02, -1.82776879e-01, -2.87417664e-01, ...,\n",
       "            1.05068073e-01,  1.56417772e-01,  1.83273126e-01],\n",
       "          ...,\n",
       "          [ 1.72726483e-01,  2.12766019e-01,  1.94069024e-01, ...,\n",
       "            2.93941160e-02,  3.55228500e-02,  3.69338748e-02],\n",
       "          [ 3.00559564e-01,  4.10233164e-01,  3.72938312e-01, ...,\n",
       "            1.99364203e-02,  2.51615509e-02,  2.50072231e-02],\n",
       "          [-3.48478691e-01, -4.11338952e-01, -3.10141856e-01, ...,\n",
       "            2.41574212e-02,  3.07348432e-02,  2.80792247e-02]],\n",
       "  \n",
       "         [[-6.29036793e-01, -6.06395324e-01, -9.61068281e-01, ...,\n",
       "           -1.00000000e+00, -6.22223207e-01, -4.61098555e-01],\n",
       "          [ 1.00000000e+00,  8.80566211e-01,  6.20397778e-01, ...,\n",
       "            9.30742994e-01,  1.00000000e+00,  1.00000000e+00],\n",
       "          [-1.38501432e-01, -2.72430414e-01, -4.22528593e-01, ...,\n",
       "            1.97305557e-01,  2.14793082e-01,  2.15066175e-01],\n",
       "          ...,\n",
       "          [ 1.58380924e-01,  2.12228975e-01,  2.59283519e-01, ...,\n",
       "            2.86418720e-02,  3.15852647e-02,  3.10090616e-02],\n",
       "          [ 3.71564039e-01,  4.22582675e-01,  4.24794781e-01, ...,\n",
       "            2.44269446e-02,  2.33886086e-02,  2.16772594e-02],\n",
       "          [-3.99190917e-01, -4.27000012e-01, -3.90671359e-01, ...,\n",
       "            2.10783296e-02,  1.71808451e-02,  1.54053882e-02]],\n",
       "  \n",
       "         ...,\n",
       "  \n",
       "         [[-1.00000000e+00, -1.00000000e+00, -1.00000000e+00, ...,\n",
       "           -1.00000000e+00, -1.00000000e+00, -1.00000000e+00],\n",
       "          [ 9.66401696e-01,  9.02173400e-01,  7.02957511e-01, ...,\n",
       "            8.02622378e-01,  8.21843565e-01,  8.57364833e-01],\n",
       "          [ 1.65391952e-01,  1.08215250e-01, -1.53682427e-02, ...,\n",
       "           -2.15423983e-02,  1.02098495e-01,  1.59335166e-01],\n",
       "          ...,\n",
       "          [ 4.95159179e-02,  4.54586558e-02,  3.66147570e-02, ...,\n",
       "            2.86754966e-02,  1.76918227e-02,  1.49295731e-02],\n",
       "          [ 5.42141274e-02,  5.73188178e-02,  5.14549427e-02, ...,\n",
       "            1.06507412e-03,  2.02371459e-02,  3.09622791e-02],\n",
       "          [ 1.46473870e-02,  1.80663969e-02,  2.29083914e-02, ...,\n",
       "            5.29943267e-03,  7.18695577e-03,  8.17584526e-03]],\n",
       "  \n",
       "         [[-8.87686014e-01, -8.30752015e-01, -8.19672883e-01, ...,\n",
       "           -1.00000000e+00, -1.00000000e+00, -1.00000000e+00],\n",
       "          [ 1.00000000e+00,  1.00000000e+00,  1.00000000e+00, ...,\n",
       "            5.91196537e-01,  8.19143176e-01,  9.45540547e-01],\n",
       "          [ 1.81121290e-01,  6.92372546e-02, -1.09686486e-01, ...,\n",
       "            1.60523385e-01,  1.88215643e-01,  2.03402385e-01],\n",
       "          ...,\n",
       "          [ 2.85811964e-02,  3.03944703e-02,  4.74945791e-02, ...,\n",
       "            2.84032021e-02,  2.89782323e-02,  2.95147691e-02],\n",
       "          [ 3.54489833e-02,  4.63776253e-02,  4.20613363e-02, ...,\n",
       "            1.86042245e-02,  2.74182465e-02,  2.97398772e-02],\n",
       "          [ 1.00621292e-02,  1.07033225e-02,  1.91809628e-02, ...,\n",
       "            2.03280263e-02,  1.79447066e-02,  1.93475839e-02]],\n",
       "  \n",
       "         [[-1.00000000e+00, -1.00000000e+00, -1.00000000e+00, ...,\n",
       "           -1.00000000e+00, -1.00000000e+00, -1.00000000e+00],\n",
       "          [ 8.20006371e-01,  7.42609680e-01,  5.59356868e-01, ...,\n",
       "            6.75557733e-01,  8.60915065e-01,  9.99748290e-01],\n",
       "          [ 1.76322624e-01,  1.67887360e-01,  1.40361443e-01, ...,\n",
       "            1.13609843e-01,  1.78314537e-01,  2.06482306e-01],\n",
       "          ...,\n",
       "          [ 3.31777409e-02,  3.13446857e-02,  2.74468176e-02, ...,\n",
       "            2.52965372e-02,  2.99565457e-02,  3.13306637e-02],\n",
       "          [ 3.02512832e-02,  2.63660178e-02,  2.07522139e-02, ...,\n",
       "            1.29324105e-02,  2.48187892e-02,  2.33273450e-02],\n",
       "          [ 2.98043508e-02,  2.91037764e-02,  3.02793868e-02, ...,\n",
       "           -4.11473593e-04,  2.65640039e-02,  3.15352269e-02]]]),\n",
       "  'chroma': array([[[0.11491658, 0.08663396, 0.07027419, ..., 0.85136782,\n",
       "           0.85774519, 0.86846355],\n",
       "          [0.07813403, 0.04682901, 0.03153524, ..., 0.89535125,\n",
       "           0.93837327, 0.96583514],\n",
       "          [0.10087923, 0.07763508, 0.08584979, ..., 1.        ,\n",
       "           1.        , 1.        ],\n",
       "          ...,\n",
       "          [0.0948258 , 0.10379117, 0.16820346, ..., 0.61932595,\n",
       "           0.49788647, 0.56148888],\n",
       "          [0.24160686, 0.25641439, 0.34505154, ..., 0.67611204,\n",
       "           0.6285465 , 0.64061489],\n",
       "          [0.41496333, 0.38836571, 0.3754165 , ..., 0.73722099,\n",
       "           0.71488625, 0.71050713]],\n",
       "  \n",
       "         [[0.06456686, 0.04272887, 0.03065471, ..., 0.6687488 ,\n",
       "           0.62330557, 0.61825308],\n",
       "          [0.06753846, 0.04862877, 0.04452146, ..., 0.8127725 ,\n",
       "           0.78888602, 0.77470547],\n",
       "          [0.12613209, 0.12618951, 0.1633832 , ..., 0.97125161,\n",
       "           0.9575894 , 0.91818674],\n",
       "          ...,\n",
       "          [0.15177771, 0.27967028, 0.54101782, ..., 0.68728206,\n",
       "           0.63350331, 0.62542282],\n",
       "          [0.29225407, 0.32921945, 0.43240587, ..., 0.6656875 ,\n",
       "           0.61942807, 0.59957283],\n",
       "          [0.18097645, 0.15694757, 0.14871948, ..., 0.62214327,\n",
       "           0.578795  , 0.56765206]],\n",
       "  \n",
       "         [[0.08174279, 0.05768348, 0.04506791, ..., 0.86519834,\n",
       "           0.87442645, 0.87852663],\n",
       "          [0.08894219, 0.07183906, 0.07203258, ..., 0.8183643 ,\n",
       "           0.83289062, 0.84940869],\n",
       "          [0.19912335, 0.22266973, 0.28653441, ..., 0.94235569,\n",
       "           0.95167287, 0.94717585],\n",
       "          ...,\n",
       "          [0.26266429, 0.40240714, 0.65918527, ..., 0.77818786,\n",
       "           0.79467792, 0.81820511],\n",
       "          [0.28207121, 0.32828114, 0.42846166, ..., 0.82186616,\n",
       "           0.85453242, 0.86055726],\n",
       "          [0.11837646, 0.1019493 , 0.10323326, ..., 0.90410114,\n",
       "           0.90048161, 0.88427411]],\n",
       "  \n",
       "         ...,\n",
       "  \n",
       "         [[0.76113808, 0.80930865, 0.94006461, ..., 1.        ,\n",
       "           1.        , 0.86552918],\n",
       "          [0.88518739, 0.93496186, 1.        , ..., 0.98897415,\n",
       "           0.96095532, 0.86316276],\n",
       "          [0.97881931, 1.        , 0.99079692, ..., 0.85429764,\n",
       "           0.86130536, 0.87861735],\n",
       "          ...,\n",
       "          [0.72577602, 0.72589976, 0.75960463, ..., 0.7503435 ,\n",
       "           0.93685734, 0.89115608],\n",
       "          [0.6939283 , 0.7280724 , 0.81520545, ..., 0.82485873,\n",
       "           0.93673921, 0.85894418],\n",
       "          [0.67089796, 0.72076887, 0.85583287, ..., 0.94231653,\n",
       "           0.97404891, 0.84127188]],\n",
       "  \n",
       "         [[0.8889966 , 0.91356421, 0.94665205, ..., 0.8522957 ,\n",
       "           0.86592454, 0.89625031],\n",
       "          [0.91230148, 0.91967767, 0.95067197, ..., 0.91525197,\n",
       "           0.94745797, 0.96706223],\n",
       "          [0.98223084, 1.        , 1.        , ..., 0.96451652,\n",
       "           1.        , 1.        ],\n",
       "          ...,\n",
       "          [0.91124576, 0.90355676, 0.83785087, ..., 0.72285271,\n",
       "           0.75219494, 0.79236895],\n",
       "          [0.83255959, 0.81046706, 0.73185492, ..., 0.66155654,\n",
       "           0.68582743, 0.7607733 ],\n",
       "          [0.83677596, 0.80372107, 0.75913399, ..., 0.69581831,\n",
       "           0.70778185, 0.7727139 ]],\n",
       "  \n",
       "         [[0.78104287, 0.8037973 , 0.88682157, ..., 0.78472513,\n",
       "           0.86348641, 0.87790412],\n",
       "          [0.84361744, 0.87008351, 0.93348902, ..., 0.91526818,\n",
       "           0.94059604, 0.94282848],\n",
       "          [0.92347318, 0.95619631, 0.98564225, ..., 1.        ,\n",
       "           1.        , 1.        ],\n",
       "          ...,\n",
       "          [0.76530838, 0.83443624, 0.95719641, ..., 0.74220818,\n",
       "           0.75321174, 0.77068502],\n",
       "          [0.70404965, 0.76464015, 0.8893832 , ..., 0.70101649,\n",
       "           0.72243077, 0.74645352],\n",
       "          [0.69455481, 0.72891271, 0.83511454, ..., 0.69001055,\n",
       "           0.76227134, 0.78651512]]]),\n",
       "  'cqt': array([[[ -8.96023276,  -8.95705719,  -9.07453502, ...,  -8.86410819,\n",
       "            -9.27894223,  -9.75932339],\n",
       "          [ -9.12271583,  -9.20760288,  -9.3598183 , ...,  -7.32277201,\n",
       "            -7.89910252,  -8.54428882],\n",
       "          [ -9.4891875 ,  -9.48635466,  -9.71446502, ..., -10.20932726,\n",
       "           -10.62234586, -11.21171269],\n",
       "          ...,\n",
       "          [-16.08626985, -30.83374233, -28.98486057, ..., -47.66420914,\n",
       "           -47.67489597, -35.08841692],\n",
       "          [-12.12872742, -16.53088605, -13.36257193, ..., -45.90245879,\n",
       "           -47.79685244, -39.52512138],\n",
       "          [-12.5767612 , -10.25631741, -10.90515221, ..., -59.88698097,\n",
       "           -44.14371857, -42.637611  ]],\n",
       "  \n",
       "         [[ -6.45961696,  -6.48993025,  -6.58472507, ...,  -0.75962411,\n",
       "            -1.04698228,  -1.40938188],\n",
       "          [ -6.81844881,  -7.04736066,  -7.40951484, ...,  -1.47164333,\n",
       "            -1.68294143,  -1.9643768 ],\n",
       "          [ -6.1399681 ,  -5.96732991,  -5.87491097, ...,  -7.79489836,\n",
       "            -7.0176518 ,  -6.54589066],\n",
       "          ...,\n",
       "          [-13.54544548, -18.61830731,  -9.10504122, ..., -45.50011771,\n",
       "           -65.5464149 , -36.13672843],\n",
       "          [-11.89427099, -10.87540391,  -5.64015012, ..., -49.09082731,\n",
       "           -49.35847035, -35.51053161],\n",
       "          [-12.93971974, -10.73094567, -11.93276085, ..., -47.55577039,\n",
       "           -44.51467318, -39.93930139]],\n",
       "  \n",
       "         [[ -8.54564331,  -9.16253   ,  -9.98779896, ...,  -2.02817956,\n",
       "            -1.73452952,  -1.54390862],\n",
       "          [ -5.82663685,  -5.61478859,  -5.46391195, ...,  -2.16869952,\n",
       "            -1.94631983,  -1.81483479],\n",
       "          [ -6.76700946,  -6.63110724,  -6.55835313, ...,  -1.07216858,\n",
       "            -0.89445853,  -0.86135676],\n",
       "          ...,\n",
       "          [-11.81228966, -19.35100997,  -1.58906429, ..., -55.50444457,\n",
       "           -43.4484544 , -30.63700385],\n",
       "          [-10.76665328, -17.71329919,  -6.9165866 , ..., -50.84878307,\n",
       "           -47.09941751, -31.05527507],\n",
       "          [-13.83145339, -23.7190759 , -28.7354025 , ..., -48.56525691,\n",
       "           -47.09155725, -39.80312517]],\n",
       "  \n",
       "         ...,\n",
       "  \n",
       "         [[ -7.87038469,  -7.81044197,  -7.81141901, ...,  -7.18496466,\n",
       "            -7.3060379 ,  -7.50084972],\n",
       "          [ -8.26841259,  -8.29874802,  -8.4448719 , ...,  -4.04314804,\n",
       "            -4.27066994,  -4.57797527],\n",
       "          [ -7.25671101,  -6.88324213,  -6.58726692, ...,  -3.50113678,\n",
       "            -3.70832825,  -4.05578709],\n",
       "          ...,\n",
       "          [-34.74564743, -52.01068115, -56.07302856, ..., -59.26554871,\n",
       "           -63.021492  , -43.9043808 ],\n",
       "          [-34.46356964, -50.70739746, -49.67944336, ..., -52.81013489,\n",
       "           -79.95851898, -44.67324448],\n",
       "          [-34.19592285, -45.51480103, -50.31811523, ..., -51.61022949,\n",
       "           -55.71685791, -54.41547394]],\n",
       "  \n",
       "         [[-12.33228493, -11.57052422, -10.91008949, ..., -19.6495018 ,\n",
       "           -20.00868225, -20.25165176],\n",
       "          [-10.69051838, -10.22058296,  -9.83285904, ..., -55.03276062,\n",
       "           -46.66409683, -44.23128128],\n",
       "          [-10.31316185, -10.1054287 , -10.09535408, ..., -17.02450562,\n",
       "           -17.14317322, -17.16097641],\n",
       "          ...,\n",
       "          [-30.85791206, -49.61346436, -47.0570755 , ..., -62.75254822,\n",
       "           -60.35948944, -41.5273819 ],\n",
       "          [-30.92616844, -49.4762001 , -43.54808807, ..., -56.08934784,\n",
       "           -63.2279129 , -47.50414276],\n",
       "          [-31.06998062, -47.24834442, -42.34357452, ..., -57.00344849,\n",
       "           -69.95187378, -43.42355347]],\n",
       "  \n",
       "         [[ -6.55717611,  -6.1439743 ,  -5.76918459, ..., -12.30663681,\n",
       "           -12.35730076, -12.48334312],\n",
       "          [-14.21314812, -15.82038307, -18.01564217, ..., -13.02364731,\n",
       "           -12.73493385, -12.58085155],\n",
       "          [ -9.47588158,  -8.78444767,  -8.13729382, ..., -12.75783634,\n",
       "           -12.73055935, -12.85413742],\n",
       "          ...,\n",
       "          [-33.87117767, -54.42829895, -65.72683716, ..., -60.18536377,\n",
       "           -52.56848526, -43.06120682],\n",
       "          [-34.22443771, -58.05443573, -67.40764618, ..., -60.57512665,\n",
       "           -52.20968628, -41.25112915],\n",
       "          [-34.1008873 , -62.63257217, -64.25193024, ..., -59.5242157 ,\n",
       "           -57.41749954, -44.68730545]]]),\n",
       "  'label': array([14, 14, 14, ...,  4,  4,  4]),\n",
       "  'id': array(['XC466994.mp3', 'XC466994.mp3', 'XC466994.mp3', ...,\n",
       "         'XC207216.mp3', 'XC207216.mp3', 'XC207216.mp3'], dtype='<U12')}}"
      ]
     },
     "execution_count": 33,
     "metadata": {},
     "output_type": "execute_result"
    }
   ],
   "source": [
    "merged_dict_2D = {'train': train_features_2D, 'val': val_features_2D}\n",
    "merged_dict_2D"
   ]
  },
  {
   "cell_type": "markdown",
   "metadata": {},
   "source": [
    "### Save the merged dictionary to a pkl"
   ]
  },
  {
   "cell_type": "code",
   "execution_count": 34,
   "metadata": {},
   "outputs": [],
   "source": [
    "# Avrg Pooled\n",
    "with open('C:/Users/thato/Documents/Final-Year-Project/Dataset/Final-Version-Of-Bird-Classification-Project/feature-extraction/Annotated/Regular/AveragePooled/split_features_1s_all_1D.pkl', 'wb') as file:\n",
    "  pickle.dump(merged_dict_1D, file)\n",
    "del file"
   ]
  },
  {
   "cell_type": "code",
   "execution_count": 35,
   "metadata": {},
   "outputs": [],
   "source": [
    "# Avrg Pooled\n",
    "with open('C:/Users/thato/Documents/Final-Year-Project/Dataset/Final-Version-Of-Bird-Classification-Project/feature-extraction/Annotated/Regular/NotAveragePooled/split_features_1s_all_2D.pkl', 'wb') as file:\n",
    "  pickle.dump(merged_dict_2D, file)\n",
    "del file"
   ]
  }
 ],
 "metadata": {
  "kernelspec": {
   "display_name": "Python 3",
   "language": "python",
   "name": "python3"
  },
  "language_info": {
   "codemirror_mode": {
    "name": "ipython",
    "version": 3
   },
   "file_extension": ".py",
   "mimetype": "text/x-python",
   "name": "python",
   "nbconvert_exporter": "python",
   "pygments_lexer": "ipython3",
   "version": "3.12.4"
  }
 },
 "nbformat": 4,
 "nbformat_minor": 2
}
