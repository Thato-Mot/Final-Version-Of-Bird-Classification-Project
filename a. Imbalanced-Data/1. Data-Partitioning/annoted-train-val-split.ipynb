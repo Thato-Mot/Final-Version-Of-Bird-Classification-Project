{
 "cells": [
  {
   "cell_type": "markdown",
   "metadata": {},
   "source": [
    "# **Consistent Annotated Train-Validation Split**"
   ]
  },
  {
   "cell_type": "markdown",
   "metadata": {},
   "source": [
    "- Just splitting the training data now, so that there is consistency between all the other stages of the training and feature extraction process\n",
    "- It will be a 75-25 split of the training data"
   ]
  },
  {
   "cell_type": "code",
   "execution_count": 1,
   "metadata": {},
   "outputs": [],
   "source": [
    "# Standard libraries\n",
    "import numpy as np\n",
    "import pandas as pd\n",
    "import os\n",
    "import time\n",
    "\n",
    "# Libraries for audio\n",
    "from IPython.display import Audio\n",
    "import librosa\n",
    "\n",
    "# Training and Testing Split\n",
    "from sklearn.model_selection import train_test_split\n",
    "\n",
    "# for normalization & avgpooling features\n",
    "from sklearn.preprocessing import MinMaxScaler # to squeeze all the features to be within 0 and 1\n",
    "import tensorflow as tf\n",
    "\n",
    "# Operational\n",
    "from tqdm import tqdm\n",
    "import matplotlib.pyplot as plt\n",
    "import seaborn as sns\n",
    "import pickle"
   ]
  },
  {
   "cell_type": "code",
   "execution_count": 6,
   "metadata": {},
   "outputs": [],
   "source": [
    "# Variabels to be reused\n",
    "path = 'C:/Users/thato/Documents/Final-Year-Project/Dataset/Final-Version-Of-Bird-Classification-Project/audio_files' \n",
    "npy_path = 'C:/Users/thato/Documents/Final-Year-Project/Dataset/Final-Version-Of-Bird-Classification-Project/train_audio_npy/' \n",
    "train_csv = 'C:/Users/thato/Documents/Final-Year-Project/Dataset/Final-Version-Of-Bird-Classification-Project/train-not-annotated.csv' \n",
    "annotated_train_csv = 'C:/Users/thato/Documents/Final-Year-Project/Dataset/Final-Version-Of-Bird-Classification-Project/train-annotated.csv'\n",
    "not_annotated_splt = 'C:/Users/thato/Documents/Final-Year-Project/Dataset/Final-Version-Of-Bird-Classification-Project/trainval-split/trainval.csv'\n",
    "sr = 22050"
   ]
  },
  {
   "cell_type": "code",
   "execution_count": 5,
   "metadata": {},
   "outputs": [
    {
     "data": {
      "text/html": [
       "<div>\n",
       "<style scoped>\n",
       "    .dataframe tbody tr th:only-of-type {\n",
       "        vertical-align: middle;\n",
       "    }\n",
       "\n",
       "    .dataframe tbody tr th {\n",
       "        vertical-align: top;\n",
       "    }\n",
       "\n",
       "    .dataframe thead th {\n",
       "        text-align: right;\n",
       "    }\n",
       "</style>\n",
       "<table border=\"1\" class=\"dataframe\">\n",
       "  <thead>\n",
       "    <tr style=\"text-align: right;\">\n",
       "      <th></th>\n",
       "      <th>Unnamed: 0</th>\n",
       "      <th>species</th>\n",
       "      <th>audio_name</th>\n",
       "      <th>duration</th>\n",
       "      <th>filename_npy</th>\n",
       "      <th>start</th>\n",
       "      <th>end</th>\n",
       "      <th>label</th>\n",
       "    </tr>\n",
       "  </thead>\n",
       "  <tbody>\n",
       "    <tr>\n",
       "      <th>0</th>\n",
       "      <td>2669</td>\n",
       "      <td>Dendrocopos minor</td>\n",
       "      <td>XC470657.mp3</td>\n",
       "      <td>33.267528</td>\n",
       "      <td>Dendrocopos minor/XC470657.npy</td>\n",
       "      <td>0.109520</td>\n",
       "      <td>0.654736</td>\n",
       "      <td>drumming</td>\n",
       "    </tr>\n",
       "    <tr>\n",
       "      <th>1</th>\n",
       "      <td>1617</td>\n",
       "      <td>Porphyrio porphyrio</td>\n",
       "      <td>XC357911.mp3</td>\n",
       "      <td>10.293832</td>\n",
       "      <td>Porphyrio porphyrio/XC357911.npy</td>\n",
       "      <td>5.949768</td>\n",
       "      <td>6.382371</td>\n",
       "      <td>call</td>\n",
       "    </tr>\n",
       "    <tr>\n",
       "      <th>2</th>\n",
       "      <td>3643</td>\n",
       "      <td>Acrocephalus arundinaceus</td>\n",
       "      <td>XC473571.mp3</td>\n",
       "      <td>98.385170</td>\n",
       "      <td>Acrocephalus arundinaceus/XC473571.npy</td>\n",
       "      <td>54.708960</td>\n",
       "      <td>60.053280</td>\n",
       "      <td>song</td>\n",
       "    </tr>\n",
       "    <tr>\n",
       "      <th>3</th>\n",
       "      <td>2448</td>\n",
       "      <td>Alcedo atthis</td>\n",
       "      <td>XC511677.mp3</td>\n",
       "      <td>186.024036</td>\n",
       "      <td>Alcedo atthis/XC511677.npy</td>\n",
       "      <td>128.688746</td>\n",
       "      <td>128.901350</td>\n",
       "      <td>call</td>\n",
       "    </tr>\n",
       "    <tr>\n",
       "      <th>4</th>\n",
       "      <td>2836</td>\n",
       "      <td>Alcedo atthis</td>\n",
       "      <td>XC511674.mp3</td>\n",
       "      <td>82.560000</td>\n",
       "      <td>Alcedo atthis/XC511674.npy</td>\n",
       "      <td>48.462720</td>\n",
       "      <td>49.241137</td>\n",
       "      <td>call</td>\n",
       "    </tr>\n",
       "  </tbody>\n",
       "</table>\n",
       "</div>"
      ],
      "text/plain": [
       "   Unnamed: 0                    species    audio_name    duration  \\\n",
       "0        2669          Dendrocopos minor  XC470657.mp3   33.267528   \n",
       "1        1617        Porphyrio porphyrio  XC357911.mp3   10.293832   \n",
       "2        3643  Acrocephalus arundinaceus  XC473571.mp3   98.385170   \n",
       "3        2448              Alcedo atthis  XC511677.mp3  186.024036   \n",
       "4        2836              Alcedo atthis  XC511674.mp3   82.560000   \n",
       "\n",
       "                             filename_npy       start         end     label  \n",
       "0          Dendrocopos minor/XC470657.npy    0.109520    0.654736  drumming  \n",
       "1        Porphyrio porphyrio/XC357911.npy    5.949768    6.382371      call  \n",
       "2  Acrocephalus arundinaceus/XC473571.npy   54.708960   60.053280      song  \n",
       "3              Alcedo atthis/XC511677.npy  128.688746  128.901350      call  \n",
       "4              Alcedo atthis/XC511674.npy   48.462720   49.241137      call  "
      ]
     },
     "execution_count": 5,
     "metadata": {},
     "output_type": "execute_result"
    }
   ],
   "source": [
    "df_train = pd.read_csv(annotated_train_csv) # Reading in training data\n",
    "df_train.head()"
   ]
  },
  {
   "cell_type": "code",
   "execution_count": 7,
   "metadata": {},
   "outputs": [
    {
     "data": {
      "text/html": [
       "<div>\n",
       "<style scoped>\n",
       "    .dataframe tbody tr th:only-of-type {\n",
       "        vertical-align: middle;\n",
       "    }\n",
       "\n",
       "    .dataframe tbody tr th {\n",
       "        vertical-align: top;\n",
       "    }\n",
       "\n",
       "    .dataframe thead th {\n",
       "        text-align: right;\n",
       "    }\n",
       "</style>\n",
       "<table border=\"1\" class=\"dataframe\">\n",
       "  <thead>\n",
       "    <tr style=\"text-align: right;\">\n",
       "      <th></th>\n",
       "      <th>Unnamed: 0</th>\n",
       "      <th>species</th>\n",
       "      <th>audio_name</th>\n",
       "      <th>duration</th>\n",
       "      <th>filename_npy</th>\n",
       "      <th>set</th>\n",
       "    </tr>\n",
       "  </thead>\n",
       "  <tbody>\n",
       "    <tr>\n",
       "      <th>0</th>\n",
       "      <td>552</td>\n",
       "      <td>Himantopus himantopus</td>\n",
       "      <td>XC184422.mp3</td>\n",
       "      <td>155.899864</td>\n",
       "      <td>Himantopus himantopus/XC184422.npy</td>\n",
       "      <td>tr</td>\n",
       "    </tr>\n",
       "    <tr>\n",
       "      <th>1</th>\n",
       "      <td>560</td>\n",
       "      <td>Himantopus himantopus</td>\n",
       "      <td>XC67351.mp3</td>\n",
       "      <td>13.826168</td>\n",
       "      <td>Himantopus himantopus/XC67351.npy</td>\n",
       "      <td>tr</td>\n",
       "    </tr>\n",
       "    <tr>\n",
       "      <th>2</th>\n",
       "      <td>508</td>\n",
       "      <td>Himantopus himantopus</td>\n",
       "      <td>XC312572.mp3</td>\n",
       "      <td>34.678639</td>\n",
       "      <td>Himantopus himantopus/XC312572.npy</td>\n",
       "      <td>tr</td>\n",
       "    </tr>\n",
       "    <tr>\n",
       "      <th>3</th>\n",
       "      <td>561</td>\n",
       "      <td>Himantopus himantopus</td>\n",
       "      <td>XC144533.mp3</td>\n",
       "      <td>39.428571</td>\n",
       "      <td>Himantopus himantopus/XC144533.npy</td>\n",
       "      <td>tr</td>\n",
       "    </tr>\n",
       "    <tr>\n",
       "      <th>4</th>\n",
       "      <td>468</td>\n",
       "      <td>Himantopus himantopus</td>\n",
       "      <td>XC154931.mp3</td>\n",
       "      <td>14.184490</td>\n",
       "      <td>Himantopus himantopus/XC154931.npy</td>\n",
       "      <td>tr</td>\n",
       "    </tr>\n",
       "  </tbody>\n",
       "</table>\n",
       "</div>"
      ],
      "text/plain": [
       "   Unnamed: 0                species    audio_name    duration  \\\n",
       "0         552  Himantopus himantopus  XC184422.mp3  155.899864   \n",
       "1         560  Himantopus himantopus   XC67351.mp3   13.826168   \n",
       "2         508  Himantopus himantopus  XC312572.mp3   34.678639   \n",
       "3         561  Himantopus himantopus  XC144533.mp3   39.428571   \n",
       "4         468  Himantopus himantopus  XC154931.mp3   14.184490   \n",
       "\n",
       "                         filename_npy set  \n",
       "0  Himantopus himantopus/XC184422.npy  tr  \n",
       "1   Himantopus himantopus/XC67351.npy  tr  \n",
       "2  Himantopus himantopus/XC312572.npy  tr  \n",
       "3  Himantopus himantopus/XC144533.npy  tr  \n",
       "4  Himantopus himantopus/XC154931.npy  tr  "
      ]
     },
     "execution_count": 7,
     "metadata": {},
     "output_type": "execute_result"
    }
   ],
   "source": [
    "split_df = pd.read_csv(not_annotated_splt) # Reading in train-val split data\n",
    "split_df.head()"
   ]
  },
  {
   "cell_type": "code",
   "execution_count": 8,
   "metadata": {},
   "outputs": [
    {
     "data": {
      "text/plain": [
       "species\n",
       "Ixobrychus minutus           428\n",
       "Botaurus stellaris           313\n",
       "Alcedo atthis                300\n",
       "Acrocephalus arundinaceus    277\n",
       "Charadrius alexandrinus      262\n",
       "Fulica atra                  253\n",
       "Dendrocopos minor            237\n",
       "Himantopus himantopus        228\n",
       "Circus aeruginosus           228\n",
       "Motacilla flava              223\n",
       "Coracias garrulus            179\n",
       "Acrocephalus melanopogon     171\n",
       "Gallinula chloropus          167\n",
       "Ardea purpurea               151\n",
       "Porphyrio porphyrio          128\n",
       "Tachybaptus ruficollis       119\n",
       "Acrocephalus scirpaceus       92\n",
       "Ciconia ciconia               83\n",
       "Anas strepera                 81\n",
       "Anas platyrhynchos            55\n",
       "Name: count, dtype: int64"
      ]
     },
     "execution_count": 8,
     "metadata": {},
     "output_type": "execute_result"
    }
   ],
   "source": [
    "df_train['species'].value_counts()"
   ]
  },
  {
   "cell_type": "code",
   "execution_count": 9,
   "metadata": {},
   "outputs": [
    {
     "data": {
      "text/html": [
       "<div>\n",
       "<style scoped>\n",
       "    .dataframe tbody tr th:only-of-type {\n",
       "        vertical-align: middle;\n",
       "    }\n",
       "\n",
       "    .dataframe tbody tr th {\n",
       "        vertical-align: top;\n",
       "    }\n",
       "\n",
       "    .dataframe thead th {\n",
       "        text-align: right;\n",
       "    }\n",
       "</style>\n",
       "<table border=\"1\" class=\"dataframe\">\n",
       "  <thead>\n",
       "    <tr style=\"text-align: right;\">\n",
       "      <th></th>\n",
       "      <th>Unnamed: 0</th>\n",
       "      <th>species</th>\n",
       "      <th>audio_name</th>\n",
       "      <th>duration</th>\n",
       "      <th>filename_npy</th>\n",
       "      <th>start</th>\n",
       "      <th>end</th>\n",
       "      <th>label</th>\n",
       "      <th>set</th>\n",
       "    </tr>\n",
       "  </thead>\n",
       "  <tbody>\n",
       "    <tr>\n",
       "      <th>0</th>\n",
       "      <td>2669</td>\n",
       "      <td>Dendrocopos minor</td>\n",
       "      <td>XC470657.mp3</td>\n",
       "      <td>33.267528</td>\n",
       "      <td>Dendrocopos minor/XC470657.npy</td>\n",
       "      <td>0.109520</td>\n",
       "      <td>0.654736</td>\n",
       "      <td>drumming</td>\n",
       "      <td>tr</td>\n",
       "    </tr>\n",
       "    <tr>\n",
       "      <th>1</th>\n",
       "      <td>1617</td>\n",
       "      <td>Porphyrio porphyrio</td>\n",
       "      <td>XC357911.mp3</td>\n",
       "      <td>10.293832</td>\n",
       "      <td>Porphyrio porphyrio/XC357911.npy</td>\n",
       "      <td>5.949768</td>\n",
       "      <td>6.382371</td>\n",
       "      <td>call</td>\n",
       "      <td>val</td>\n",
       "    </tr>\n",
       "    <tr>\n",
       "      <th>2</th>\n",
       "      <td>3643</td>\n",
       "      <td>Acrocephalus arundinaceus</td>\n",
       "      <td>XC473571.mp3</td>\n",
       "      <td>98.385170</td>\n",
       "      <td>Acrocephalus arundinaceus/XC473571.npy</td>\n",
       "      <td>54.708960</td>\n",
       "      <td>60.053280</td>\n",
       "      <td>song</td>\n",
       "      <td>val</td>\n",
       "    </tr>\n",
       "    <tr>\n",
       "      <th>3</th>\n",
       "      <td>2448</td>\n",
       "      <td>Alcedo atthis</td>\n",
       "      <td>XC511677.mp3</td>\n",
       "      <td>186.024036</td>\n",
       "      <td>Alcedo atthis/XC511677.npy</td>\n",
       "      <td>128.688746</td>\n",
       "      <td>128.901350</td>\n",
       "      <td>call</td>\n",
       "      <td>val</td>\n",
       "    </tr>\n",
       "    <tr>\n",
       "      <th>4</th>\n",
       "      <td>2836</td>\n",
       "      <td>Alcedo atthis</td>\n",
       "      <td>XC511674.mp3</td>\n",
       "      <td>82.560000</td>\n",
       "      <td>Alcedo atthis/XC511674.npy</td>\n",
       "      <td>48.462720</td>\n",
       "      <td>49.241137</td>\n",
       "      <td>call</td>\n",
       "      <td>tr</td>\n",
       "    </tr>\n",
       "  </tbody>\n",
       "</table>\n",
       "</div>"
      ],
      "text/plain": [
       "   Unnamed: 0                    species    audio_name    duration  \\\n",
       "0        2669          Dendrocopos minor  XC470657.mp3   33.267528   \n",
       "1        1617        Porphyrio porphyrio  XC357911.mp3   10.293832   \n",
       "2        3643  Acrocephalus arundinaceus  XC473571.mp3   98.385170   \n",
       "3        2448              Alcedo atthis  XC511677.mp3  186.024036   \n",
       "4        2836              Alcedo atthis  XC511674.mp3   82.560000   \n",
       "\n",
       "                             filename_npy       start         end     label  \\\n",
       "0          Dendrocopos minor/XC470657.npy    0.109520    0.654736  drumming   \n",
       "1        Porphyrio porphyrio/XC357911.npy    5.949768    6.382371      call   \n",
       "2  Acrocephalus arundinaceus/XC473571.npy   54.708960   60.053280      song   \n",
       "3              Alcedo atthis/XC511677.npy  128.688746  128.901350      call   \n",
       "4              Alcedo atthis/XC511674.npy   48.462720   49.241137      call   \n",
       "\n",
       "   set  \n",
       "0   tr  \n",
       "1  val  \n",
       "2  val  \n",
       "3  val  \n",
       "4   tr  "
      ]
     },
     "execution_count": 9,
     "metadata": {},
     "output_type": "execute_result"
    }
   ],
   "source": [
    "df = df_train.merge(split_df[['audio_name', 'set']], on='audio_name', how='left')\n",
    "\n",
    "# Check the updated DataFrame\n",
    "df.head()"
   ]
  },
  {
   "cell_type": "code",
   "execution_count": 10,
   "metadata": {},
   "outputs": [
    {
     "data": {
      "text/plain": [
       "set\n",
       "tr     2964\n",
       "val    1011\n",
       "Name: count, dtype: int64"
      ]
     },
     "execution_count": 10,
     "metadata": {},
     "output_type": "execute_result"
    }
   ],
   "source": [
    "df['set'].value_counts()"
   ]
  },
  {
   "cell_type": "code",
   "execution_count": 11,
   "metadata": {},
   "outputs": [],
   "source": [
    "filepaths = df['filename_npy']"
   ]
  },
  {
   "cell_type": "code",
   "execution_count": 12,
   "metadata": {},
   "outputs": [
    {
     "name": "stdout",
     "output_type": "stream",
     "text": [
      "All unique audio_name and set pairs match between df_train and split_df.\n"
     ]
    }
   ],
   "source": [
    "# Extract unique combinations of 'audio_name' and 'set' in both DataFrames\n",
    "train_unique = df[['audio_name', 'set']].drop_duplicates().reset_index(drop=True)\n",
    "split_unique = split_df[['audio_name', 'set']].drop_duplicates().reset_index(drop=True)\n",
    "\n",
    "# Sort by 'audio_name' to ensure order is consistent for comparison\n",
    "train_unique = train_unique.sort_values(by='audio_name').reset_index(drop=True)\n",
    "split_unique = split_unique.sort_values(by='audio_name').reset_index(drop=True)\n",
    "\n",
    "if train_unique.equals(split_unique):\n",
    "    print(\"All unique audio_name and set pairs match between df_train and split_df.\")\n",
    "else:\n",
    "    print(\"There are mismatches between df_train and split_df.\")\n",
    "    # Show mismatched rows by doing an anti-join (rows in one DataFrame but not the other)\n",
    "    mismatched_rows = pd.concat([train_unique, split_unique]).drop_duplicates(keep=False)\n",
    "    print(\"Mismatched rows:\")\n",
    "    print(mismatched_rows)"
   ]
  },
  {
   "cell_type": "code",
   "execution_count": 13,
   "metadata": {},
   "outputs": [],
   "source": [
    "df.to_csv('C:/Users/thato/Documents/Final-Year-Project/Dataset/Final-Version-Of-Bird-Classification-Project/trainval-split/trainval-annotated.csv', index=False)"
   ]
  }
 ],
 "metadata": {
  "kernelspec": {
   "display_name": "Python 3",
   "language": "python",
   "name": "python3"
  },
  "language_info": {
   "codemirror_mode": {
    "name": "ipython",
    "version": 3
   },
   "file_extension": ".py",
   "mimetype": "text/x-python",
   "name": "python",
   "nbconvert_exporter": "python",
   "pygments_lexer": "ipython3",
   "version": "3.12.4"
  }
 },
 "nbformat": 4,
 "nbformat_minor": 2
}
