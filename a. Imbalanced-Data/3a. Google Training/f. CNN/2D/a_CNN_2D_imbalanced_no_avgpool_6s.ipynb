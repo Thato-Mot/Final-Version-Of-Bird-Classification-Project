{
  "cells": [
    {
      "cell_type": "markdown",
      "metadata": {
        "id": "SW2EXQ68TURI"
      },
      "source": [
        "# **CNN**\n",
        "- Using data that was not annotated\n",
        "- Training it on the unbalanced data\n",
        "- Using avgpool\n",
        "- 6 second window"
      ]
    },
    {
      "cell_type": "code",
      "execution_count": 1,
      "metadata": {
        "colab": {
          "base_uri": "https://localhost:8080/"
        },
        "id": "_U9mNYFfTVUj",
        "outputId": "902cb5e7-be6d-4bbc-b814-78b571e46bbf"
      },
      "outputs": [
        {
          "output_type": "stream",
          "name": "stdout",
          "text": [
            "Mounted at /content/drive\n"
          ]
        }
      ],
      "source": [
        "from google.colab import drive\n",
        "drive.mount('/content/drive')"
      ]
    },
    {
      "cell_type": "code",
      "execution_count": 2,
      "metadata": {
        "colab": {
          "base_uri": "https://localhost:8080/"
        },
        "id": "unH9EltATURK",
        "outputId": "3e7e1af4-b344-4505-f10d-fc76a79bc191"
      },
      "outputs": [
        {
          "output_type": "stream",
          "name": "stdout",
          "text": [
            "pygame 2.6.1 (SDL 2.28.4, Python 3.10.12)\n",
            "Hello from the pygame community. https://www.pygame.org/contribute.html\n"
          ]
        }
      ],
      "source": [
        "# Standard libraries\n",
        "import numpy as np\n",
        "import pandas as pd\n",
        "import time\n",
        "import os\n",
        "\n",
        "# For audio\n",
        "from IPython.display import Audio\n",
        "import librosa\n",
        "\n",
        "# For preprocessing\n",
        "from sklearn.preprocessing import LabelEncoder\n",
        "from sklearn.preprocessing import MinMaxScaler\n",
        "from sklearn.preprocessing import OneHotEncoder\n",
        "import tensorflow as tf\n",
        "\n",
        "# For modeling\n",
        "from sklearn.preprocessing import StandardScaler\n",
        "from sklearn.metrics import accuracy_score\n",
        "from sklearn.metrics import classification_report\n",
        "from tensorflow.keras.callbacks import EarlyStopping, ModelCheckpoint\n",
        "\n",
        "# Operational\n",
        "from tqdm import tqdm\n",
        "import matplotlib.pyplot as plt\n",
        "import seaborn as sns\n",
        "import pickle\n",
        "import scipy.ndimage\n",
        "import pygame\n",
        "import time\n",
        "from scipy.signal import butter, filtfilt\n",
        "import random"
      ]
    },
    {
      "cell_type": "code",
      "execution_count": 30,
      "metadata": {
        "id": "mlqgV3cmTURL"
      },
      "outputs": [],
      "source": [
        "pkl_path = '/content/drive/My Drive/Final-Year-Project/Dataset/Project-V4/feature-extraction/NotAnnotated/NotAveragePooled/split_features_6s_all.pkl'\n",
        "\n",
        "# Load the pickle file\n",
        "with open(pkl_path, 'rb') as file:\n",
        "    data = pickle.load(file)"
      ]
    },
    {
      "cell_type": "code",
      "execution_count": 31,
      "metadata": {
        "id": "8p6TQhwwTURL"
      },
      "outputs": [],
      "source": [
        "train_data = data['train'].copy()\n",
        "val_data = data['val'].copy()"
      ]
    },
    {
      "cell_type": "code",
      "execution_count": 32,
      "metadata": {
        "id": "qb7f1dNtTURM"
      },
      "outputs": [],
      "source": [
        "# train_data]"
      ]
    },
    {
      "cell_type": "code",
      "execution_count": 33,
      "metadata": {
        "id": "EKxvpIm6TURM"
      },
      "outputs": [],
      "source": [
        "train_labels = train_data['label'].copy()\n",
        "temp = train_data.copy()\n",
        "del temp['label']\n",
        "tr_features = temp"
      ]
    },
    {
      "cell_type": "code",
      "execution_count": 34,
      "metadata": {
        "id": "nE7j0mUyTURM"
      },
      "outputs": [],
      "source": [
        "val_labels = val_data['label'].copy()\n",
        "temp = val_data.copy()\n",
        "del temp['label']\n",
        "v_features = temp"
      ]
    },
    {
      "cell_type": "markdown",
      "metadata": {
        "id": "t1t9jjgRTURM"
      },
      "source": [
        "# Shuffle Data"
      ]
    },
    {
      "cell_type": "code",
      "execution_count": 35,
      "metadata": {
        "id": "ziN0DkZ0TURN"
      },
      "outputs": [],
      "source": [
        "def shuffle_data(input_label, input_features):\n",
        "  input_len = len(input_label)\n",
        "  np.random.seed(1826)\n",
        "  input_indices = np.random.permutation(input_len)\n",
        "  input_features = {key: np.array([input_features[key][i] for i in input_indices]) for key in input_features} # dictionary comprehension\n",
        "  input_label = np.array([input_label[i] for i in input_indices])\n",
        "\n",
        "  return input_label, input_features"
      ]
    },
    {
      "cell_type": "code",
      "execution_count": 36,
      "metadata": {
        "id": "nJipBvImTURN"
      },
      "outputs": [],
      "source": [
        "train_y, train_features = shuffle_data(train_labels, tr_features)"
      ]
    },
    {
      "cell_type": "code",
      "execution_count": 37,
      "metadata": {
        "id": "GSujj_rjTURN"
      },
      "outputs": [],
      "source": [
        "val_y, val_features = shuffle_data(val_labels, v_features)"
      ]
    },
    {
      "cell_type": "code",
      "execution_count": 38,
      "metadata": {
        "id": "LmSwiOgMTURN"
      },
      "outputs": [],
      "source": [
        "# display(train_y.shape)\n",
        "# display(train_y[:15])"
      ]
    },
    {
      "cell_type": "code",
      "execution_count": 39,
      "metadata": {
        "id": "mqnk3KrrTURO"
      },
      "outputs": [],
      "source": [
        "# for key in train_features.keys():\n",
        "#   display(key)\n",
        "#   display(train_features[key].shape)\n",
        "#   display(train_features[key][0])"
      ]
    },
    {
      "cell_type": "code",
      "execution_count": 40,
      "metadata": {
        "id": "--DBo6dJTURO"
      },
      "outputs": [],
      "source": [
        "# display(val_y.shape)\n",
        "# display(val_y[:15])"
      ]
    },
    {
      "cell_type": "code",
      "execution_count": 41,
      "metadata": {
        "id": "-9PplE74TURO"
      },
      "outputs": [],
      "source": [
        "# for key in val_features.keys():\n",
        "#   display(key)\n",
        "#   display(val_features[key].shape)\n",
        "#   display(val_features[key][0])"
      ]
    },
    {
      "cell_type": "markdown",
      "metadata": {
        "id": "xJinfXlETURO"
      },
      "source": [
        "## **CNN Model**"
      ]
    },
    {
      "cell_type": "code",
      "execution_count": 42,
      "metadata": {
        "id": "4vB4WqK0C3z6"
      },
      "outputs": [],
      "source": [
        "def build_model(audio_features,\n",
        "                learning_rate=0.00005):\n",
        "\n",
        "  tf.keras.backend.clear_session()\n",
        "\n",
        "  # set audio features input layer\n",
        "  inputs = tf.keras.layers.Input(shape=(audio_features.shape[1],audio_features.shape[2],audio_features.shape[3]), name='Audio_Features')\n",
        "\n",
        "  # add first convolution layer to the model\n",
        "  features = tf.keras.layers.Conv2D(\n",
        "              filters=64,\n",
        "              kernel_size=(5,5),\n",
        "              strides=(1,1),\n",
        "              padding='same',\n",
        "              data_format='channels_last',\n",
        "              name='conv_1',\n",
        "              activation='relu',\n",
        "              kernel_regularizer=tf.keras.regularizers.l2(0.15))(inputs)\n",
        "\n",
        "  # add first max pooling layer\n",
        "  # features = tf.keras.layers.BatchNormalization()(features)\n",
        "  features = tf.keras.layers.MaxPool2D(pool_size=(2,2), name='pool_1')(features)\n",
        "  # add second convolution layer to the model\n",
        "  features = tf.keras.layers.Conv2D(\n",
        "              filters=32,\n",
        "              kernel_size=(5,5),\n",
        "              strides=(1,1),\n",
        "              padding='same',\n",
        "              name='conv_2',\n",
        "              activation='relu',\n",
        "              kernel_regularizer=tf.keras.regularizers.l2(0.15))(features)\n",
        "  # features = tf.keras.layers.BatchNormalization()(features)\n",
        "  # add third max pooling layer\n",
        "  features = tf.keras.layers.MaxPool2D(pool_size=(2,2), name='pool_2')(features)\n",
        "\n",
        "  features = tf.keras.layers.Conv2D(\n",
        "              filters=32,\n",
        "              kernel_size=(5,5),\n",
        "              strides=(1,1),\n",
        "              padding='same',\n",
        "              name='conv_3',\n",
        "              activation='relu',\n",
        "              kernel_regularizer=tf.keras.regularizers.l2(0.15))(features)\n",
        "  features = tf.keras.layers.BatchNormalization()(features)\n",
        "  # add second max pooling layer\n",
        "  features = tf.keras.layers.MaxPool2D(pool_size=(2,2), name='pool_3')(features)\n",
        "\n",
        "\n",
        "\n",
        "  # add a fully connected layer (need to flatten the output of the previous layers first)\n",
        "  features = tf.keras.layers.Flatten()(features)\n",
        "\n",
        "  features = tf.keras.layers.Dense(\n",
        "      units=512,\n",
        "      name='fc_1',\n",
        "      activation='relu')(features)\n",
        "\n",
        "  # add dropout layer\n",
        "  features = tf.keras.layers.Dropout(rate=0.5)(features)\n",
        "\n",
        "  # add the last fully connected layer\n",
        "  # this last layer sets the activation function to \"None\" in order to output the logits\n",
        "  # note that passing activation = \"softmax\" will return class memembership probabilities but\n",
        "  # in TensorFlow logits are prefered for numerical stability\n",
        "  # set units=3 to get a 3 output unit (remember it's 3 species)\n",
        "  outputs = tf.keras.layers.Dense(\n",
        "      units=20,\n",
        "      name='fc_2',\n",
        "      activation=None)(features)\n",
        "\n",
        "  # build model and print summary\n",
        "  model = tf.keras.Model(inputs=[inputs],\n",
        "                          outputs=outputs,\n",
        "                          name='Birds')\n",
        "\n",
        "  print(model.summary())\n",
        "\n",
        "  # compile model\n",
        "  model.compile(optimizer=tf.keras.optimizers.Adam(learning_rate=learning_rate),\n",
        "              loss=tf.keras.losses.SparseCategoricalCrossentropy(from_logits=True), #set from_logits=True because our last layer does not apply softmax\n",
        "              metrics=['accuracy'],\n",
        "              weighted_metrics=['accuracy'])\n",
        "\n",
        "  return model"
      ]
    },
    {
      "cell_type": "code",
      "execution_count": 43,
      "metadata": {
        "id": "kca4GAXuC3z6"
      },
      "outputs": [],
      "source": [
        "def visualize(model_history):\n",
        "    fig, axes = plt.subplots(nrows=1, ncols=2, figsize=(15, 5))\n",
        "\n",
        "    # Visualize the loss\n",
        "    axes[0].plot(model_history.history['loss'], color='red', label='Training Loss')\n",
        "    axes[0].plot(model_history.history['val_loss'], color='blue', label='Validation Loss')\n",
        "    axes[0].set_xlabel('Epoch', fontsize=12)\n",
        "    axes[0].set_ylabel('Loss', fontsize=12)\n",
        "    axes[0].set_title('Loss Progression', fontsize=14)\n",
        "    axes[0].grid(True)\n",
        "    axes[0].legend()\n",
        "\n",
        "    # Visualize the accuracy\n",
        "    axes[1].plot(model_history.history['accuracy'], color='green', label='Training Accuracy')\n",
        "    axes[1].plot(model_history.history['val_accuracy'], color='orange', label='Validation Accuracy')\n",
        "    axes[1].set_xlabel('Epoch', fontsize=12)\n",
        "    axes[1].set_ylabel('Accuracy', fontsize=12)\n",
        "    axes[1].set_title('Accuracy Progression', fontsize=14)\n",
        "    axes[1].grid(True)\n",
        "    axes[1].legend()\n",
        "\n",
        "    # Fine-tune layout and display the plots\n",
        "    plt.tight_layout()\n",
        "    plt.show()"
      ]
    },
    {
      "cell_type": "code",
      "execution_count": 44,
      "metadata": {
        "id": "bKS_rAt2TURO"
      },
      "outputs": [],
      "source": [
        "train_results = {}\n",
        "val_results = {}"
      ]
    },
    {
      "cell_type": "markdown",
      "metadata": {
        "id": "9swCKhF1TURO"
      },
      "source": [
        "### **With all the features**"
      ]
    },
    {
      "cell_type": "code",
      "execution_count": 45,
      "metadata": {
        "colab": {
          "base_uri": "https://localhost:8080/"
        },
        "id": "0Un3qBBzTURP",
        "outputId": "8490ac92-df67-4837-d54f-e4dc1fdc48b7"
      },
      "outputs": [
        {
          "output_type": "stream",
          "name": "stdout",
          "text": [
            "(7105, 60, 259, 4)\n"
          ]
        }
      ],
      "source": [
        "n_time = train_features['melspectrogram'].shape[2]\n",
        "\n",
        "mfcc_tiled = np.tile(train_features['mfcc'], (1, 3, 1))  # (3318, 60, 44), tiling 3 times to match 60 features\n",
        "chroma_tiled = np.tile(train_features['chroma'], (1, 5, 1))  # (3318, 60, 44), tiling 5 times to match 60 features\n",
        "rms_tiled = np.tile(train_features['rms'], (1, 60, 1))  # (3318, 60, 44), tiling 60 times to match 60 features\n",
        "\n",
        "training_features = np.stack((train_features['melspectrogram'], mfcc_tiled, chroma_tiled, rms_tiled), axis=-1)\n",
        "\n",
        "print(training_features.shape)"
      ]
    },
    {
      "cell_type": "code",
      "execution_count": 46,
      "metadata": {
        "colab": {
          "base_uri": "https://localhost:8080/"
        },
        "id": "SpD-3zGdTURP",
        "outputId": "f173fec2-d939-4458-e5c0-f0a908e9752a"
      },
      "outputs": [
        {
          "output_type": "stream",
          "name": "stdout",
          "text": [
            "(1896, 60, 259, 4)\n"
          ]
        }
      ],
      "source": [
        "mfcc_val_tiled = np.tile(val_features['mfcc'], (1, 3, 1))  # Tile to (n_samples_val, 60, 44)\n",
        "chroma_val_tiled = np.tile(val_features['chroma'], (1, 5, 1))  # Tile to (n_samples_val, 60, 44)\n",
        "rms_val_tiled = np.tile(val_features['rms'], (1, 60, 1))  # Tile to (n_samples_val, 60, 44)\n",
        "\n",
        "melspectrogram_val = val_features['melspectrogram']\n",
        "\n",
        "validation_features = np.stack((melspectrogram_val, mfcc_val_tiled, chroma_val_tiled, rms_val_tiled), axis=-1)\n",
        "\n",
        "print(validation_features.shape)"
      ]
    },
    {
      "cell_type": "markdown",
      "metadata": {
        "id": "zOqA2fVuTURP"
      },
      "source": [
        "Fit the model with training data"
      ]
    },
    {
      "cell_type": "code",
      "execution_count": 47,
      "metadata": {
        "colab": {
          "base_uri": "https://localhost:8080/",
          "height": 1000
        },
        "id": "2A-4xHCETURP",
        "outputId": "975717c3-3fd9-453c-bcff-5764e5657abd"
      },
      "outputs": [
        {
          "output_type": "display_data",
          "data": {
            "text/plain": [
              "\u001b[1mModel: \"Birds\"\u001b[0m\n"
            ],
            "text/html": [
              "<pre style=\"white-space:pre;overflow-x:auto;line-height:normal;font-family:Menlo,'DejaVu Sans Mono',consolas,'Courier New',monospace\"><span style=\"font-weight: bold\">Model: \"Birds\"</span>\n",
              "</pre>\n"
            ]
          },
          "metadata": {}
        },
        {
          "output_type": "display_data",
          "data": {
            "text/plain": [
              "┏━━━━━━━━━━━━━━━━━━━━━━━━━━━━━━━━━━━━━━┳━━━━━━━━━━━━━━━━━━━━━━━━━━━━━┳━━━━━━━━━━━━━━━━━┓\n",
              "┃\u001b[1m \u001b[0m\u001b[1mLayer (type)                        \u001b[0m\u001b[1m \u001b[0m┃\u001b[1m \u001b[0m\u001b[1mOutput Shape               \u001b[0m\u001b[1m \u001b[0m┃\u001b[1m \u001b[0m\u001b[1m        Param #\u001b[0m\u001b[1m \u001b[0m┃\n",
              "┡━━━━━━━━━━━━━━━━━━━━━━━━━━━━━━━━━━━━━━╇━━━━━━━━━━━━━━━━━━━━━━━━━━━━━╇━━━━━━━━━━━━━━━━━┩\n",
              "│ Audio_Features (\u001b[38;5;33mInputLayer\u001b[0m)          │ (\u001b[38;5;45mNone\u001b[0m, \u001b[38;5;34m60\u001b[0m, \u001b[38;5;34m259\u001b[0m, \u001b[38;5;34m4\u001b[0m)          │               \u001b[38;5;34m0\u001b[0m │\n",
              "├──────────────────────────────────────┼─────────────────────────────┼─────────────────┤\n",
              "│ conv_1 (\u001b[38;5;33mConv2D\u001b[0m)                      │ (\u001b[38;5;45mNone\u001b[0m, \u001b[38;5;34m60\u001b[0m, \u001b[38;5;34m259\u001b[0m, \u001b[38;5;34m64\u001b[0m)         │           \u001b[38;5;34m6,464\u001b[0m │\n",
              "├──────────────────────────────────────┼─────────────────────────────┼─────────────────┤\n",
              "│ pool_1 (\u001b[38;5;33mMaxPooling2D\u001b[0m)                │ (\u001b[38;5;45mNone\u001b[0m, \u001b[38;5;34m30\u001b[0m, \u001b[38;5;34m129\u001b[0m, \u001b[38;5;34m64\u001b[0m)         │               \u001b[38;5;34m0\u001b[0m │\n",
              "├──────────────────────────────────────┼─────────────────────────────┼─────────────────┤\n",
              "│ conv_2 (\u001b[38;5;33mConv2D\u001b[0m)                      │ (\u001b[38;5;45mNone\u001b[0m, \u001b[38;5;34m30\u001b[0m, \u001b[38;5;34m129\u001b[0m, \u001b[38;5;34m32\u001b[0m)         │          \u001b[38;5;34m51,232\u001b[0m │\n",
              "├──────────────────────────────────────┼─────────────────────────────┼─────────────────┤\n",
              "│ pool_2 (\u001b[38;5;33mMaxPooling2D\u001b[0m)                │ (\u001b[38;5;45mNone\u001b[0m, \u001b[38;5;34m15\u001b[0m, \u001b[38;5;34m64\u001b[0m, \u001b[38;5;34m32\u001b[0m)          │               \u001b[38;5;34m0\u001b[0m │\n",
              "├──────────────────────────────────────┼─────────────────────────────┼─────────────────┤\n",
              "│ conv_3 (\u001b[38;5;33mConv2D\u001b[0m)                      │ (\u001b[38;5;45mNone\u001b[0m, \u001b[38;5;34m15\u001b[0m, \u001b[38;5;34m64\u001b[0m, \u001b[38;5;34m32\u001b[0m)          │          \u001b[38;5;34m25,632\u001b[0m │\n",
              "├──────────────────────────────────────┼─────────────────────────────┼─────────────────┤\n",
              "│ batch_normalization                  │ (\u001b[38;5;45mNone\u001b[0m, \u001b[38;5;34m15\u001b[0m, \u001b[38;5;34m64\u001b[0m, \u001b[38;5;34m32\u001b[0m)          │             \u001b[38;5;34m128\u001b[0m │\n",
              "│ (\u001b[38;5;33mBatchNormalization\u001b[0m)                 │                             │                 │\n",
              "├──────────────────────────────────────┼─────────────────────────────┼─────────────────┤\n",
              "│ pool_3 (\u001b[38;5;33mMaxPooling2D\u001b[0m)                │ (\u001b[38;5;45mNone\u001b[0m, \u001b[38;5;34m7\u001b[0m, \u001b[38;5;34m32\u001b[0m, \u001b[38;5;34m32\u001b[0m)           │               \u001b[38;5;34m0\u001b[0m │\n",
              "├──────────────────────────────────────┼─────────────────────────────┼─────────────────┤\n",
              "│ flatten (\u001b[38;5;33mFlatten\u001b[0m)                    │ (\u001b[38;5;45mNone\u001b[0m, \u001b[38;5;34m7168\u001b[0m)                │               \u001b[38;5;34m0\u001b[0m │\n",
              "├──────────────────────────────────────┼─────────────────────────────┼─────────────────┤\n",
              "│ fc_1 (\u001b[38;5;33mDense\u001b[0m)                         │ (\u001b[38;5;45mNone\u001b[0m, \u001b[38;5;34m512\u001b[0m)                 │       \u001b[38;5;34m3,670,528\u001b[0m │\n",
              "├──────────────────────────────────────┼─────────────────────────────┼─────────────────┤\n",
              "│ dropout (\u001b[38;5;33mDropout\u001b[0m)                    │ (\u001b[38;5;45mNone\u001b[0m, \u001b[38;5;34m512\u001b[0m)                 │               \u001b[38;5;34m0\u001b[0m │\n",
              "├──────────────────────────────────────┼─────────────────────────────┼─────────────────┤\n",
              "│ fc_2 (\u001b[38;5;33mDense\u001b[0m)                         │ (\u001b[38;5;45mNone\u001b[0m, \u001b[38;5;34m20\u001b[0m)                  │          \u001b[38;5;34m10,260\u001b[0m │\n",
              "└──────────────────────────────────────┴─────────────────────────────┴─────────────────┘\n"
            ],
            "text/html": [
              "<pre style=\"white-space:pre;overflow-x:auto;line-height:normal;font-family:Menlo,'DejaVu Sans Mono',consolas,'Courier New',monospace\">┏━━━━━━━━━━━━━━━━━━━━━━━━━━━━━━━━━━━━━━┳━━━━━━━━━━━━━━━━━━━━━━━━━━━━━┳━━━━━━━━━━━━━━━━━┓\n",
              "┃<span style=\"font-weight: bold\"> Layer (type)                         </span>┃<span style=\"font-weight: bold\"> Output Shape                </span>┃<span style=\"font-weight: bold\">         Param # </span>┃\n",
              "┡━━━━━━━━━━━━━━━━━━━━━━━━━━━━━━━━━━━━━━╇━━━━━━━━━━━━━━━━━━━━━━━━━━━━━╇━━━━━━━━━━━━━━━━━┩\n",
              "│ Audio_Features (<span style=\"color: #0087ff; text-decoration-color: #0087ff\">InputLayer</span>)          │ (<span style=\"color: #00d7ff; text-decoration-color: #00d7ff\">None</span>, <span style=\"color: #00af00; text-decoration-color: #00af00\">60</span>, <span style=\"color: #00af00; text-decoration-color: #00af00\">259</span>, <span style=\"color: #00af00; text-decoration-color: #00af00\">4</span>)          │               <span style=\"color: #00af00; text-decoration-color: #00af00\">0</span> │\n",
              "├──────────────────────────────────────┼─────────────────────────────┼─────────────────┤\n",
              "│ conv_1 (<span style=\"color: #0087ff; text-decoration-color: #0087ff\">Conv2D</span>)                      │ (<span style=\"color: #00d7ff; text-decoration-color: #00d7ff\">None</span>, <span style=\"color: #00af00; text-decoration-color: #00af00\">60</span>, <span style=\"color: #00af00; text-decoration-color: #00af00\">259</span>, <span style=\"color: #00af00; text-decoration-color: #00af00\">64</span>)         │           <span style=\"color: #00af00; text-decoration-color: #00af00\">6,464</span> │\n",
              "├──────────────────────────────────────┼─────────────────────────────┼─────────────────┤\n",
              "│ pool_1 (<span style=\"color: #0087ff; text-decoration-color: #0087ff\">MaxPooling2D</span>)                │ (<span style=\"color: #00d7ff; text-decoration-color: #00d7ff\">None</span>, <span style=\"color: #00af00; text-decoration-color: #00af00\">30</span>, <span style=\"color: #00af00; text-decoration-color: #00af00\">129</span>, <span style=\"color: #00af00; text-decoration-color: #00af00\">64</span>)         │               <span style=\"color: #00af00; text-decoration-color: #00af00\">0</span> │\n",
              "├──────────────────────────────────────┼─────────────────────────────┼─────────────────┤\n",
              "│ conv_2 (<span style=\"color: #0087ff; text-decoration-color: #0087ff\">Conv2D</span>)                      │ (<span style=\"color: #00d7ff; text-decoration-color: #00d7ff\">None</span>, <span style=\"color: #00af00; text-decoration-color: #00af00\">30</span>, <span style=\"color: #00af00; text-decoration-color: #00af00\">129</span>, <span style=\"color: #00af00; text-decoration-color: #00af00\">32</span>)         │          <span style=\"color: #00af00; text-decoration-color: #00af00\">51,232</span> │\n",
              "├──────────────────────────────────────┼─────────────────────────────┼─────────────────┤\n",
              "│ pool_2 (<span style=\"color: #0087ff; text-decoration-color: #0087ff\">MaxPooling2D</span>)                │ (<span style=\"color: #00d7ff; text-decoration-color: #00d7ff\">None</span>, <span style=\"color: #00af00; text-decoration-color: #00af00\">15</span>, <span style=\"color: #00af00; text-decoration-color: #00af00\">64</span>, <span style=\"color: #00af00; text-decoration-color: #00af00\">32</span>)          │               <span style=\"color: #00af00; text-decoration-color: #00af00\">0</span> │\n",
              "├──────────────────────────────────────┼─────────────────────────────┼─────────────────┤\n",
              "│ conv_3 (<span style=\"color: #0087ff; text-decoration-color: #0087ff\">Conv2D</span>)                      │ (<span style=\"color: #00d7ff; text-decoration-color: #00d7ff\">None</span>, <span style=\"color: #00af00; text-decoration-color: #00af00\">15</span>, <span style=\"color: #00af00; text-decoration-color: #00af00\">64</span>, <span style=\"color: #00af00; text-decoration-color: #00af00\">32</span>)          │          <span style=\"color: #00af00; text-decoration-color: #00af00\">25,632</span> │\n",
              "├──────────────────────────────────────┼─────────────────────────────┼─────────────────┤\n",
              "│ batch_normalization                  │ (<span style=\"color: #00d7ff; text-decoration-color: #00d7ff\">None</span>, <span style=\"color: #00af00; text-decoration-color: #00af00\">15</span>, <span style=\"color: #00af00; text-decoration-color: #00af00\">64</span>, <span style=\"color: #00af00; text-decoration-color: #00af00\">32</span>)          │             <span style=\"color: #00af00; text-decoration-color: #00af00\">128</span> │\n",
              "│ (<span style=\"color: #0087ff; text-decoration-color: #0087ff\">BatchNormalization</span>)                 │                             │                 │\n",
              "├──────────────────────────────────────┼─────────────────────────────┼─────────────────┤\n",
              "│ pool_3 (<span style=\"color: #0087ff; text-decoration-color: #0087ff\">MaxPooling2D</span>)                │ (<span style=\"color: #00d7ff; text-decoration-color: #00d7ff\">None</span>, <span style=\"color: #00af00; text-decoration-color: #00af00\">7</span>, <span style=\"color: #00af00; text-decoration-color: #00af00\">32</span>, <span style=\"color: #00af00; text-decoration-color: #00af00\">32</span>)           │               <span style=\"color: #00af00; text-decoration-color: #00af00\">0</span> │\n",
              "├──────────────────────────────────────┼─────────────────────────────┼─────────────────┤\n",
              "│ flatten (<span style=\"color: #0087ff; text-decoration-color: #0087ff\">Flatten</span>)                    │ (<span style=\"color: #00d7ff; text-decoration-color: #00d7ff\">None</span>, <span style=\"color: #00af00; text-decoration-color: #00af00\">7168</span>)                │               <span style=\"color: #00af00; text-decoration-color: #00af00\">0</span> │\n",
              "├──────────────────────────────────────┼─────────────────────────────┼─────────────────┤\n",
              "│ fc_1 (<span style=\"color: #0087ff; text-decoration-color: #0087ff\">Dense</span>)                         │ (<span style=\"color: #00d7ff; text-decoration-color: #00d7ff\">None</span>, <span style=\"color: #00af00; text-decoration-color: #00af00\">512</span>)                 │       <span style=\"color: #00af00; text-decoration-color: #00af00\">3,670,528</span> │\n",
              "├──────────────────────────────────────┼─────────────────────────────┼─────────────────┤\n",
              "│ dropout (<span style=\"color: #0087ff; text-decoration-color: #0087ff\">Dropout</span>)                    │ (<span style=\"color: #00d7ff; text-decoration-color: #00d7ff\">None</span>, <span style=\"color: #00af00; text-decoration-color: #00af00\">512</span>)                 │               <span style=\"color: #00af00; text-decoration-color: #00af00\">0</span> │\n",
              "├──────────────────────────────────────┼─────────────────────────────┼─────────────────┤\n",
              "│ fc_2 (<span style=\"color: #0087ff; text-decoration-color: #0087ff\">Dense</span>)                         │ (<span style=\"color: #00d7ff; text-decoration-color: #00d7ff\">None</span>, <span style=\"color: #00af00; text-decoration-color: #00af00\">20</span>)                  │          <span style=\"color: #00af00; text-decoration-color: #00af00\">10,260</span> │\n",
              "└──────────────────────────────────────┴─────────────────────────────┴─────────────────┘\n",
              "</pre>\n"
            ]
          },
          "metadata": {}
        },
        {
          "output_type": "display_data",
          "data": {
            "text/plain": [
              "\u001b[1m Total params: \u001b[0m\u001b[38;5;34m3,764,244\u001b[0m (14.36 MB)\n"
            ],
            "text/html": [
              "<pre style=\"white-space:pre;overflow-x:auto;line-height:normal;font-family:Menlo,'DejaVu Sans Mono',consolas,'Courier New',monospace\"><span style=\"font-weight: bold\"> Total params: </span><span style=\"color: #00af00; text-decoration-color: #00af00\">3,764,244</span> (14.36 MB)\n",
              "</pre>\n"
            ]
          },
          "metadata": {}
        },
        {
          "output_type": "display_data",
          "data": {
            "text/plain": [
              "\u001b[1m Trainable params: \u001b[0m\u001b[38;5;34m3,764,180\u001b[0m (14.36 MB)\n"
            ],
            "text/html": [
              "<pre style=\"white-space:pre;overflow-x:auto;line-height:normal;font-family:Menlo,'DejaVu Sans Mono',consolas,'Courier New',monospace\"><span style=\"font-weight: bold\"> Trainable params: </span><span style=\"color: #00af00; text-decoration-color: #00af00\">3,764,180</span> (14.36 MB)\n",
              "</pre>\n"
            ]
          },
          "metadata": {}
        },
        {
          "output_type": "display_data",
          "data": {
            "text/plain": [
              "\u001b[1m Non-trainable params: \u001b[0m\u001b[38;5;34m64\u001b[0m (256.00 B)\n"
            ],
            "text/html": [
              "<pre style=\"white-space:pre;overflow-x:auto;line-height:normal;font-family:Menlo,'DejaVu Sans Mono',consolas,'Courier New',monospace\"><span style=\"font-weight: bold\"> Non-trainable params: </span><span style=\"color: #00af00; text-decoration-color: #00af00\">64</span> (256.00 B)\n",
              "</pre>\n"
            ]
          },
          "metadata": {}
        },
        {
          "output_type": "stream",
          "name": "stdout",
          "text": [
            "None\n",
            "Epoch 1/100\n",
            "\u001b[1m223/223\u001b[0m \u001b[32m━━━━━━━━━━━━━━━━━━━━\u001b[0m\u001b[37m\u001b[0m \u001b[1m18s\u001b[0m 52ms/step - accuracy: 0.1998 - loss: 14.3656 - weighted_accuracy: 0.1998 - val_accuracy: 0.3755 - val_loss: 12.3849 - val_weighted_accuracy: 0.3755\n",
            "Epoch 2/100\n",
            "\u001b[1m223/223\u001b[0m \u001b[32m━━━━━━━━━━━━━━━━━━━━\u001b[0m\u001b[37m\u001b[0m \u001b[1m6s\u001b[0m 26ms/step - accuracy: 0.4106 - loss: 11.0475 - weighted_accuracy: 0.4106 - val_accuracy: 0.3945 - val_loss: 9.9470 - val_weighted_accuracy: 0.3945\n",
            "Epoch 3/100\n",
            "\u001b[1m223/223\u001b[0m \u001b[32m━━━━━━━━━━━━━━━━━━━━\u001b[0m\u001b[37m\u001b[0m \u001b[1m6s\u001b[0m 27ms/step - accuracy: 0.5189 - loss: 8.8727 - weighted_accuracy: 0.5189 - val_accuracy: 0.4335 - val_loss: 8.1540 - val_weighted_accuracy: 0.4335\n",
            "Epoch 4/100\n",
            "\u001b[1m223/223\u001b[0m \u001b[32m━━━━━━━━━━━━━━━━━━━━\u001b[0m\u001b[37m\u001b[0m \u001b[1m6s\u001b[0m 26ms/step - accuracy: 0.5995 - loss: 7.2997 - weighted_accuracy: 0.5995 - val_accuracy: 0.3766 - val_loss: 7.3324 - val_weighted_accuracy: 0.3766\n",
            "Epoch 5/100\n",
            "\u001b[1m223/223\u001b[0m \u001b[32m━━━━━━━━━━━━━━━━━━━━\u001b[0m\u001b[37m\u001b[0m \u001b[1m6s\u001b[0m 27ms/step - accuracy: 0.6541 - loss: 6.1966 - weighted_accuracy: 0.6541 - val_accuracy: 0.4968 - val_loss: 6.2617 - val_weighted_accuracy: 0.4968\n",
            "Epoch 6/100\n",
            "\u001b[1m223/223\u001b[0m \u001b[32m━━━━━━━━━━━━━━━━━━━━\u001b[0m\u001b[37m\u001b[0m \u001b[1m6s\u001b[0m 27ms/step - accuracy: 0.7041 - loss: 5.3464 - weighted_accuracy: 0.7041 - val_accuracy: 0.3787 - val_loss: 6.2682 - val_weighted_accuracy: 0.3787\n",
            "Epoch 7/100\n",
            "\u001b[1m223/223\u001b[0m \u001b[32m━━━━━━━━━━━━━━━━━━━━\u001b[0m\u001b[37m\u001b[0m \u001b[1m6s\u001b[0m 27ms/step - accuracy: 0.7342 - loss: 4.7158 - weighted_accuracy: 0.7342 - val_accuracy: 0.4647 - val_loss: 5.4143 - val_weighted_accuracy: 0.4647\n",
            "Epoch 8/100\n",
            "\u001b[1m223/223\u001b[0m \u001b[32m━━━━━━━━━━━━━━━━━━━━\u001b[0m\u001b[37m\u001b[0m \u001b[1m6s\u001b[0m 27ms/step - accuracy: 0.7717 - loss: 4.1797 - weighted_accuracy: 0.7717 - val_accuracy: 0.4620 - val_loss: 4.9683 - val_weighted_accuracy: 0.4620\n",
            "Epoch 9/100\n",
            "\u001b[1m223/223\u001b[0m \u001b[32m━━━━━━━━━━━━━━━━━━━━\u001b[0m\u001b[37m\u001b[0m \u001b[1m6s\u001b[0m 27ms/step - accuracy: 0.7991 - loss: 3.7575 - weighted_accuracy: 0.7991 - val_accuracy: 0.3850 - val_loss: 5.1097 - val_weighted_accuracy: 0.3850\n",
            "Epoch 10/100\n",
            "\u001b[1m223/223\u001b[0m \u001b[32m━━━━━━━━━━━━━━━━━━━━\u001b[0m\u001b[37m\u001b[0m \u001b[1m6s\u001b[0m 27ms/step - accuracy: 0.8204 - loss: 3.3817 - weighted_accuracy: 0.8204 - val_accuracy: 0.3993 - val_loss: 5.0006 - val_weighted_accuracy: 0.3993\n",
            "Epoch 11/100\n",
            "\u001b[1m223/223\u001b[0m \u001b[32m━━━━━━━━━━━━━━━━━━━━\u001b[0m\u001b[37m\u001b[0m \u001b[1m6s\u001b[0m 27ms/step - accuracy: 0.8303 - loss: 3.1050 - weighted_accuracy: 0.8303 - val_accuracy: 0.4847 - val_loss: 4.3018 - val_weighted_accuracy: 0.4847\n",
            "Epoch 12/100\n",
            "\u001b[1m223/223\u001b[0m \u001b[32m━━━━━━━━━━━━━━━━━━━━\u001b[0m\u001b[37m\u001b[0m \u001b[1m6s\u001b[0m 27ms/step - accuracy: 0.8581 - loss: 2.8185 - weighted_accuracy: 0.8581 - val_accuracy: 0.4293 - val_loss: 4.3241 - val_weighted_accuracy: 0.4293\n",
            "Epoch 13/100\n",
            "\u001b[1m223/223\u001b[0m \u001b[32m━━━━━━━━━━━━━━━━━━━━\u001b[0m\u001b[37m\u001b[0m \u001b[1m6s\u001b[0m 27ms/step - accuracy: 0.8701 - loss: 2.5829 - weighted_accuracy: 0.8701 - val_accuracy: 0.4726 - val_loss: 3.8977 - val_weighted_accuracy: 0.4726\n",
            "Epoch 14/100\n",
            "\u001b[1m223/223\u001b[0m \u001b[32m━━━━━━━━━━━━━━━━━━━━\u001b[0m\u001b[37m\u001b[0m \u001b[1m6s\u001b[0m 27ms/step - accuracy: 0.8831 - loss: 2.3638 - weighted_accuracy: 0.8831 - val_accuracy: 0.4715 - val_loss: 3.8152 - val_weighted_accuracy: 0.4715\n",
            "Epoch 15/100\n",
            "\u001b[1m223/223\u001b[0m \u001b[32m━━━━━━━━━━━━━━━━━━━━\u001b[0m\u001b[37m\u001b[0m \u001b[1m6s\u001b[0m 27ms/step - accuracy: 0.8939 - loss: 2.1844 - weighted_accuracy: 0.8939 - val_accuracy: 0.3608 - val_loss: 4.8127 - val_weighted_accuracy: 0.3608\n",
            "Epoch 16/100\n",
            "\u001b[1m223/223\u001b[0m \u001b[32m━━━━━━━━━━━━━━━━━━━━\u001b[0m\u001b[37m\u001b[0m \u001b[1m6s\u001b[0m 27ms/step - accuracy: 0.9061 - loss: 2.0341 - weighted_accuracy: 0.9061 - val_accuracy: 0.4657 - val_loss: 3.5802 - val_weighted_accuracy: 0.4657\n",
            "Epoch 17/100\n",
            "\u001b[1m223/223\u001b[0m \u001b[32m━━━━━━━━━━━━━━━━━━━━\u001b[0m\u001b[37m\u001b[0m \u001b[1m6s\u001b[0m 27ms/step - accuracy: 0.9165 - loss: 1.8624 - weighted_accuracy: 0.9165 - val_accuracy: 0.4937 - val_loss: 3.3498 - val_weighted_accuracy: 0.4937\n",
            "Epoch 18/100\n",
            "\u001b[1m223/223\u001b[0m \u001b[32m━━━━━━━━━━━━━━━━━━━━\u001b[0m\u001b[37m\u001b[0m \u001b[1m6s\u001b[0m 27ms/step - accuracy: 0.9258 - loss: 1.7324 - weighted_accuracy: 0.9258 - val_accuracy: 0.4441 - val_loss: 3.6631 - val_weighted_accuracy: 0.4441\n",
            "Epoch 19/100\n",
            "\u001b[1m223/223\u001b[0m \u001b[32m━━━━━━━━━━━━━━━━━━━━\u001b[0m\u001b[37m\u001b[0m \u001b[1m6s\u001b[0m 27ms/step - accuracy: 0.9351 - loss: 1.6036 - weighted_accuracy: 0.9351 - val_accuracy: 0.4546 - val_loss: 3.4213 - val_weighted_accuracy: 0.4546\n",
            "Epoch 20/100\n",
            "\u001b[1m223/223\u001b[0m \u001b[32m━━━━━━━━━━━━━━━━━━━━\u001b[0m\u001b[37m\u001b[0m \u001b[1m6s\u001b[0m 27ms/step - accuracy: 0.9425 - loss: 1.4951 - weighted_accuracy: 0.9425 - val_accuracy: 0.4626 - val_loss: 3.3552 - val_weighted_accuracy: 0.4626\n",
            "Epoch 21/100\n",
            "\u001b[1m223/223\u001b[0m \u001b[32m━━━━━━━━━━━━━━━━━━━━\u001b[0m\u001b[37m\u001b[0m \u001b[1m6s\u001b[0m 27ms/step - accuracy: 0.9433 - loss: 1.3953 - weighted_accuracy: 0.9433 - val_accuracy: 0.4731 - val_loss: 3.2401 - val_weighted_accuracy: 0.4731\n",
            "Epoch 22/100\n",
            "\u001b[1m223/223\u001b[0m \u001b[32m━━━━━━━━━━━━━━━━━━━━\u001b[0m\u001b[37m\u001b[0m \u001b[1m6s\u001b[0m 27ms/step - accuracy: 0.9526 - loss: 1.2991 - weighted_accuracy: 0.9526 - val_accuracy: 0.4789 - val_loss: 3.2276 - val_weighted_accuracy: 0.4789\n",
            "Epoch 23/100\n",
            "\u001b[1m223/223\u001b[0m \u001b[32m━━━━━━━━━━━━━━━━━━━━\u001b[0m\u001b[37m\u001b[0m \u001b[1m6s\u001b[0m 27ms/step - accuracy: 0.9471 - loss: 1.2300 - weighted_accuracy: 0.9471 - val_accuracy: 0.3259 - val_loss: 4.5256 - val_weighted_accuracy: 0.3259\n",
            "Epoch 24/100\n",
            "\u001b[1m223/223\u001b[0m \u001b[32m━━━━━━━━━━━━━━━━━━━━\u001b[0m\u001b[37m\u001b[0m \u001b[1m6s\u001b[0m 27ms/step - accuracy: 0.9353 - loss: 1.1999 - weighted_accuracy: 0.9353 - val_accuracy: 0.4066 - val_loss: 3.8587 - val_weighted_accuracy: 0.4066\n",
            "Epoch 25/100\n",
            "\u001b[1m223/223\u001b[0m \u001b[32m━━━━━━━━━━━━━━━━━━━━\u001b[0m\u001b[37m\u001b[0m \u001b[1m6s\u001b[0m 27ms/step - accuracy: 0.9419 - loss: 1.1324 - weighted_accuracy: 0.9419 - val_accuracy: 0.4520 - val_loss: 3.0504 - val_weighted_accuracy: 0.4520\n",
            "Epoch 26/100\n",
            "\u001b[1m223/223\u001b[0m \u001b[32m━━━━━━━━━━━━━━━━━━━━\u001b[0m\u001b[37m\u001b[0m \u001b[1m6s\u001b[0m 27ms/step - accuracy: 0.9629 - loss: 1.0183 - weighted_accuracy: 0.9629 - val_accuracy: 0.3898 - val_loss: 3.6582 - val_weighted_accuracy: 0.3898\n",
            "Epoch 27/100\n",
            "\u001b[1m223/223\u001b[0m \u001b[32m━━━━━━━━━━━━━━━━━━━━\u001b[0m\u001b[37m\u001b[0m \u001b[1m6s\u001b[0m 27ms/step - accuracy: 0.9676 - loss: 0.9629 - weighted_accuracy: 0.9676 - val_accuracy: 0.4335 - val_loss: 3.2602 - val_weighted_accuracy: 0.4335\n",
            "Epoch 28/100\n",
            "\u001b[1m223/223\u001b[0m \u001b[32m━━━━━━━━━━━━━━━━━━━━\u001b[0m\u001b[37m\u001b[0m \u001b[1m6s\u001b[0m 27ms/step - accuracy: 0.9418 - loss: 0.9741 - weighted_accuracy: 0.9418 - val_accuracy: 0.4942 - val_loss: 2.7520 - val_weighted_accuracy: 0.4942\n",
            "Epoch 29/100\n",
            "\u001b[1m223/223\u001b[0m \u001b[32m━━━━━━━━━━━━━━━━━━━━\u001b[0m\u001b[37m\u001b[0m \u001b[1m6s\u001b[0m 27ms/step - accuracy: 0.9781 - loss: 0.8475 - weighted_accuracy: 0.9781 - val_accuracy: 0.4752 - val_loss: 2.9674 - val_weighted_accuracy: 0.4752\n",
            "Epoch 30/100\n",
            "\u001b[1m223/223\u001b[0m \u001b[32m━━━━━━━━━━━━━━━━━━━━\u001b[0m\u001b[37m\u001b[0m \u001b[1m6s\u001b[0m 28ms/step - accuracy: 0.9740 - loss: 0.8104 - weighted_accuracy: 0.9740 - val_accuracy: 0.5353 - val_loss: 2.6273 - val_weighted_accuracy: 0.5353\n",
            "Epoch 31/100\n",
            "\u001b[1m223/223\u001b[0m \u001b[32m━━━━━━━━━━━━━━━━━━━━\u001b[0m\u001b[37m\u001b[0m \u001b[1m6s\u001b[0m 28ms/step - accuracy: 0.9811 - loss: 0.7584 - weighted_accuracy: 0.9811 - val_accuracy: 0.4467 - val_loss: 2.8372 - val_weighted_accuracy: 0.4467\n",
            "Epoch 32/100\n",
            "\u001b[1m223/223\u001b[0m \u001b[32m━━━━━━━━━━━━━━━━━━━━\u001b[0m\u001b[37m\u001b[0m \u001b[1m6s\u001b[0m 28ms/step - accuracy: 0.9763 - loss: 0.7209 - weighted_accuracy: 0.9763 - val_accuracy: 0.4736 - val_loss: 2.7484 - val_weighted_accuracy: 0.4736\n",
            "Epoch 33/100\n",
            "\u001b[1m223/223\u001b[0m \u001b[32m━━━━━━━━━━━━━━━━━━━━\u001b[0m\u001b[37m\u001b[0m \u001b[1m6s\u001b[0m 28ms/step - accuracy: 0.9848 - loss: 0.6782 - weighted_accuracy: 0.9848 - val_accuracy: 0.4789 - val_loss: 2.7056 - val_weighted_accuracy: 0.4789\n",
            "Epoch 34/100\n",
            "\u001b[1m223/223\u001b[0m \u001b[32m━━━━━━━━━━━━━━━━━━━━\u001b[0m\u001b[37m\u001b[0m \u001b[1m6s\u001b[0m 27ms/step - accuracy: 0.9817 - loss: 0.6548 - weighted_accuracy: 0.9817 - val_accuracy: 0.4647 - val_loss: 2.8019 - val_weighted_accuracy: 0.4647\n",
            "Epoch 35/100\n",
            "\u001b[1m223/223\u001b[0m \u001b[32m━━━━━━━━━━━━━━━━━━━━\u001b[0m\u001b[37m\u001b[0m \u001b[1m6s\u001b[0m 27ms/step - accuracy: 0.9832 - loss: 0.6225 - weighted_accuracy: 0.9832 - val_accuracy: 0.4362 - val_loss: 2.8311 - val_weighted_accuracy: 0.4362\n",
            "Epoch 36/100\n",
            "\u001b[1m223/223\u001b[0m \u001b[32m━━━━━━━━━━━━━━━━━━━━\u001b[0m\u001b[37m\u001b[0m \u001b[1m6s\u001b[0m 28ms/step - accuracy: 0.9812 - loss: 0.5975 - weighted_accuracy: 0.9812 - val_accuracy: 0.4546 - val_loss: 2.8620 - val_weighted_accuracy: 0.4546\n",
            "Epoch 37/100\n",
            "\u001b[1m223/223\u001b[0m \u001b[32m━━━━━━━━━━━━━━━━━━━━\u001b[0m\u001b[37m\u001b[0m \u001b[1m6s\u001b[0m 28ms/step - accuracy: 0.9758 - loss: 0.5923 - weighted_accuracy: 0.9758 - val_accuracy: 0.4863 - val_loss: 2.6453 - val_weighted_accuracy: 0.4863\n",
            "Epoch 38/100\n",
            "\u001b[1m223/223\u001b[0m \u001b[32m━━━━━━━━━━━━━━━━━━━━\u001b[0m\u001b[37m\u001b[0m \u001b[1m6s\u001b[0m 27ms/step - accuracy: 0.9837 - loss: 0.5409 - weighted_accuracy: 0.9837 - val_accuracy: 0.5090 - val_loss: 2.5585 - val_weighted_accuracy: 0.5090\n",
            "Epoch 39/100\n",
            "\u001b[1m223/223\u001b[0m \u001b[32m━━━━━━━━━━━━━━━━━━━━\u001b[0m\u001b[37m\u001b[0m \u001b[1m6s\u001b[0m 28ms/step - accuracy: 0.9826 - loss: 0.5201 - weighted_accuracy: 0.9826 - val_accuracy: 0.4525 - val_loss: 2.9051 - val_weighted_accuracy: 0.4525\n",
            "Epoch 40/100\n",
            "\u001b[1m223/223\u001b[0m \u001b[32m━━━━━━━━━━━━━━━━━━━━\u001b[0m\u001b[37m\u001b[0m \u001b[1m6s\u001b[0m 28ms/step - accuracy: 0.9870 - loss: 0.4882 - weighted_accuracy: 0.9870 - val_accuracy: 0.4900 - val_loss: 2.5644 - val_weighted_accuracy: 0.4900\n",
            "Epoch 41/100\n",
            "\u001b[1m223/223\u001b[0m \u001b[32m━━━━━━━━━━━━━━━━━━━━\u001b[0m\u001b[37m\u001b[0m \u001b[1m6s\u001b[0m 27ms/step - accuracy: 0.9815 - loss: 0.4780 - weighted_accuracy: 0.9815 - val_accuracy: 0.4536 - val_loss: 2.7610 - val_weighted_accuracy: 0.4536\n",
            "Epoch 42/100\n",
            "\u001b[1m223/223\u001b[0m \u001b[32m━━━━━━━━━━━━━━━━━━━━\u001b[0m\u001b[37m\u001b[0m \u001b[1m6s\u001b[0m 28ms/step - accuracy: 0.9896 - loss: 0.4452 - weighted_accuracy: 0.9896 - val_accuracy: 0.4937 - val_loss: 2.7342 - val_weighted_accuracy: 0.4937\n",
            "Epoch 43/100\n",
            "\u001b[1m223/223\u001b[0m \u001b[32m━━━━━━━━━━━━━━━━━━━━\u001b[0m\u001b[37m\u001b[0m \u001b[1m6s\u001b[0m 28ms/step - accuracy: 0.9887 - loss: 0.4311 - weighted_accuracy: 0.9887 - val_accuracy: 0.5021 - val_loss: 2.5519 - val_weighted_accuracy: 0.5021\n",
            "Epoch 44/100\n",
            "\u001b[1m223/223\u001b[0m \u001b[32m━━━━━━━━━━━━━━━━━━━━\u001b[0m\u001b[37m\u001b[0m \u001b[1m6s\u001b[0m 28ms/step - accuracy: 0.9889 - loss: 0.4188 - weighted_accuracy: 0.9889 - val_accuracy: 0.4720 - val_loss: 2.7280 - val_weighted_accuracy: 0.4720\n",
            "Epoch 45/100\n",
            "\u001b[1m223/223\u001b[0m \u001b[32m━━━━━━━━━━━━━━━━━━━━\u001b[0m\u001b[37m\u001b[0m \u001b[1m6s\u001b[0m 28ms/step - accuracy: 0.9793 - loss: 0.4297 - weighted_accuracy: 0.9793 - val_accuracy: 0.4821 - val_loss: 2.7232 - val_weighted_accuracy: 0.4821\n",
            "Epoch 46/100\n",
            "\u001b[1m223/223\u001b[0m \u001b[32m━━━━━━━━━━━━━━━━━━━━\u001b[0m\u001b[37m\u001b[0m \u001b[1m6s\u001b[0m 28ms/step - accuracy: 0.9920 - loss: 0.3824 - weighted_accuracy: 0.9920 - val_accuracy: 0.4942 - val_loss: 2.6110 - val_weighted_accuracy: 0.4942\n",
            "Epoch 47/100\n",
            "\u001b[1m223/223\u001b[0m \u001b[32m━━━━━━━━━━━━━━━━━━━━\u001b[0m\u001b[37m\u001b[0m \u001b[1m6s\u001b[0m 28ms/step - accuracy: 0.9838 - loss: 0.3872 - weighted_accuracy: 0.9838 - val_accuracy: 0.4557 - val_loss: 2.8286 - val_weighted_accuracy: 0.4557\n",
            "Epoch 48/100\n",
            "\u001b[1m223/223\u001b[0m \u001b[32m━━━━━━━━━━━━━━━━━━━━\u001b[0m\u001b[37m\u001b[0m \u001b[1m6s\u001b[0m 28ms/step - accuracy: 0.9924 - loss: 0.3527 - weighted_accuracy: 0.9924 - val_accuracy: 0.5074 - val_loss: 2.4073 - val_weighted_accuracy: 0.5074\n",
            "Epoch 49/100\n",
            "\u001b[1m223/223\u001b[0m \u001b[32m━━━━━━━━━━━━━━━━━━━━\u001b[0m\u001b[37m\u001b[0m \u001b[1m6s\u001b[0m 28ms/step - accuracy: 0.9466 - loss: 0.4994 - weighted_accuracy: 0.9466 - val_accuracy: 0.4372 - val_loss: 3.1900 - val_weighted_accuracy: 0.4372\n",
            "Epoch 50/100\n",
            "\u001b[1m223/223\u001b[0m \u001b[32m━━━━━━━━━━━━━━━━━━━━\u001b[0m\u001b[37m\u001b[0m \u001b[1m6s\u001b[0m 28ms/step - accuracy: 0.9871 - loss: 0.3497 - weighted_accuracy: 0.9871 - val_accuracy: 0.4546 - val_loss: 2.8944 - val_weighted_accuracy: 0.4546\n",
            "Epoch 51/100\n",
            "\u001b[1m223/223\u001b[0m \u001b[32m━━━━━━━━━━━━━━━━━━━━\u001b[0m\u001b[37m\u001b[0m \u001b[1m6s\u001b[0m 28ms/step - accuracy: 0.9929 - loss: 0.3290 - weighted_accuracy: 0.9929 - val_accuracy: 0.4583 - val_loss: 2.9486 - val_weighted_accuracy: 0.4583\n",
            "Epoch 52/100\n",
            "\u001b[1m223/223\u001b[0m \u001b[32m━━━━━━━━━━━━━━━━━━━━\u001b[0m\u001b[37m\u001b[0m \u001b[1m6s\u001b[0m 28ms/step - accuracy: 0.9918 - loss: 0.3187 - weighted_accuracy: 0.9918 - val_accuracy: 0.4984 - val_loss: 2.5239 - val_weighted_accuracy: 0.4984\n",
            "Epoch 53/100\n",
            "\u001b[1m223/223\u001b[0m \u001b[32m━━━━━━━━━━━━━━━━━━━━\u001b[0m\u001b[37m\u001b[0m \u001b[1m6s\u001b[0m 28ms/step - accuracy: 0.9949 - loss: 0.3034 - weighted_accuracy: 0.9949 - val_accuracy: 0.4847 - val_loss: 2.5556 - val_weighted_accuracy: 0.4847\n",
            "Epoch 54/100\n",
            "\u001b[1m223/223\u001b[0m \u001b[32m━━━━━━━━━━━━━━━━━━━━\u001b[0m\u001b[37m\u001b[0m \u001b[1m6s\u001b[0m 28ms/step - accuracy: 0.9922 - loss: 0.2982 - weighted_accuracy: 0.9922 - val_accuracy: 0.4847 - val_loss: 2.7951 - val_weighted_accuracy: 0.4847\n",
            "Epoch 55/100\n",
            "\u001b[1m223/223\u001b[0m \u001b[32m━━━━━━━━━━━━━━━━━━━━\u001b[0m\u001b[37m\u001b[0m \u001b[1m6s\u001b[0m 28ms/step - accuracy: 0.9909 - loss: 0.2965 - weighted_accuracy: 0.9909 - val_accuracy: 0.4921 - val_loss: 2.5789 - val_weighted_accuracy: 0.4921\n",
            "Epoch 56/100\n",
            "\u001b[1m223/223\u001b[0m \u001b[32m━━━━━━━━━━━━━━━━━━━━\u001b[0m\u001b[37m\u001b[0m \u001b[1m6s\u001b[0m 28ms/step - accuracy: 0.9926 - loss: 0.2858 - weighted_accuracy: 0.9926 - val_accuracy: 0.4921 - val_loss: 2.5540 - val_weighted_accuracy: 0.4921\n",
            "Epoch 57/100\n",
            "\u001b[1m223/223\u001b[0m \u001b[32m━━━━━━━━━━━━━━━━━━━━\u001b[0m\u001b[37m\u001b[0m \u001b[1m6s\u001b[0m 28ms/step - accuracy: 0.9741 - loss: 0.3289 - weighted_accuracy: 0.9741 - val_accuracy: 0.4451 - val_loss: 3.0453 - val_weighted_accuracy: 0.4451\n",
            "Epoch 58/100\n",
            "\u001b[1m223/223\u001b[0m \u001b[32m━━━━━━━━━━━━━━━━━━━━\u001b[0m\u001b[37m\u001b[0m \u001b[1m6s\u001b[0m 28ms/step - accuracy: 0.9923 - loss: 0.2736 - weighted_accuracy: 0.9923 - val_accuracy: 0.4847 - val_loss: 2.5579 - val_weighted_accuracy: 0.4847\n",
            "best_epoch:  29\n"
          ]
        },
        {
          "output_type": "display_data",
          "data": {
            "text/plain": [
              "<Figure size 1500x500 with 2 Axes>"
            ],
            "image/png": "[encoded data removed]"
          },
          "metadata": {}
        }
      ],
      "source": [
        "model = build_model(training_features)\n",
        "\n",
        "callback = tf.keras.callbacks.EarlyStopping(\n",
        "    monitor=\"val_loss\",\n",
        "    patience=10,\n",
        "    restore_best_weights=True\n",
        ")\n",
        "\n",
        "history = model.fit(\n",
        "    x=training_features,\n",
        "    y=train_y,\n",
        "    epochs=100,\n",
        "    validation_data=(\n",
        "        validation_features,\n",
        "        val_y,\n",
        "    ),\n",
        "    batch_size=32,\n",
        "    verbose=1,\n",
        "    callbacks=[callback]\n",
        ")\n",
        "\n",
        "best_epoch = history.history['val_weighted_accuracy'].index(max(history.history['val_weighted_accuracy']))\n",
        "print('best_epoch: ', best_epoch)\n",
        "visualize(history)"
      ]
    },
    {
      "cell_type": "code",
      "execution_count": 48,
      "metadata": {
        "colab": {
          "base_uri": "https://localhost:8080/"
        },
        "id": "qOcHxpkrTURP",
        "outputId": "db2ffd45-d2b1-4aec-c426-695aee9d786b"
      },
      "outputs": [
        {
          "output_type": "stream",
          "name": "stdout",
          "text": [
            "\u001b[1m223/223\u001b[0m \u001b[32m━━━━━━━━━━━━━━━━━━━━\u001b[0m\u001b[37m\u001b[0m \u001b[1m2s\u001b[0m 9ms/step\n",
            "\u001b[1m223/223\u001b[0m \u001b[32m━━━━━━━━━━━━━━━━━━━━\u001b[0m\u001b[37m\u001b[0m \u001b[1m2s\u001b[0m 11ms/step - accuracy: 0.9976 - loss: 0.3276 - weighted_accuracy: 0.9976\n",
            "\u001b[1m60/60\u001b[0m \u001b[32m━━━━━━━━━━━━━━━━━━━━\u001b[0m\u001b[37m\u001b[0m \u001b[1m1s\u001b[0m 9ms/step\n",
            "\u001b[1m60/60\u001b[0m \u001b[32m━━━━━━━━━━━━━━━━━━━━\u001b[0m\u001b[37m\u001b[0m \u001b[1m1s\u001b[0m 9ms/step - accuracy: 0.5110 - loss: 2.3334 - weighted_accuracy: 0.5110\n"
          ]
        }
      ],
      "source": [
        "train_yhat = model.predict(training_features)\n",
        "train_yhat_result = np.argmax(train_yhat, axis=-1)\n",
        "train_results['all_features'] = model.evaluate(training_features, train_y)[-1]\n",
        "\n",
        "val_yhat = model.predict(validation_features)\n",
        "val_yhat_result = np.argmax(val_yhat, axis=-1)\n",
        "val_results['all_features'] = model.evaluate(validation_features, val_y)[-1]"
      ]
    },
    {
      "cell_type": "markdown",
      "metadata": {
        "id": "1_8J5UOQTURV"
      },
      "source": [
        "## **With Mel-Spectrogram, MFCCs, Chroma**"
      ]
    },
    {
      "cell_type": "code",
      "execution_count": 49,
      "metadata": {
        "colab": {
          "base_uri": "https://localhost:8080/"
        },
        "id": "3xD3vH9FTURV",
        "outputId": "94447534-6951-45e5-e22c-614d0d78b92d"
      },
      "outputs": [
        {
          "output_type": "stream",
          "name": "stdout",
          "text": [
            "(7105, 60, 259, 4)\n"
          ]
        }
      ],
      "source": [
        "n_time = train_features['melspectrogram'].shape[2]\n",
        "\n",
        "mfcc_tiled = np.tile(train_features['mfcc'], (1, 3, 1))  # (3318, 60, 44), tiling 3 times to match 60 features\n",
        "chroma_tiled = np.tile(train_features['chroma'], (1, 5, 1))  # (3318, 60, 44), tiling 5 times to match 60 features\n",
        "rms_tiled = np.tile(train_features['rms'], (1, 60, 1))  # (3318, 60, 44), tiling 60 times to match 60 features\n",
        "\n",
        "training_features = np.stack((train_features['melspectrogram'], mfcc_tiled, chroma_tiled, rms_tiled), axis=-1)\n",
        "\n",
        "print(training_features.shape)"
      ]
    },
    {
      "cell_type": "code",
      "execution_count": 50,
      "metadata": {
        "colab": {
          "base_uri": "https://localhost:8080/"
        },
        "id": "upJmr2o1TURV",
        "outputId": "6c3c10b1-a924-419f-8d03-c3db906e0c7f"
      },
      "outputs": [
        {
          "output_type": "stream",
          "name": "stdout",
          "text": [
            "(1896, 60, 259, 4)\n"
          ]
        }
      ],
      "source": [
        "mfcc_val_tiled = np.tile(val_features['mfcc'], (1, 3, 1))  # Tile to (n_samples_val, 60, 44)\n",
        "chroma_val_tiled = np.tile(val_features['chroma'], (1, 5, 1))  # Tile to (n_samples_val, 60, 44)\n",
        "rms_val_tiled = np.tile(val_features['rms'], (1, 60, 1))  # Tile to (n_samples_val, 60, 44)\n",
        "\n",
        "melspectrogram_val = val_features['melspectrogram']\n",
        "\n",
        "validation_features = np.stack((melspectrogram_val, mfcc_val_tiled, chroma_val_tiled, rms_val_tiled), axis=-1)\n",
        "\n",
        "print(validation_features.shape)"
      ]
    },
    {
      "cell_type": "code",
      "execution_count": 51,
      "metadata": {
        "colab": {
          "base_uri": "https://localhost:8080/",
          "height": 1000
        },
        "id": "Qj-l8M3iTURV",
        "outputId": "7de1613f-9a29-4a49-d4d9-a230d4c6808c"
      },
      "outputs": [
        {
          "output_type": "display_data",
          "data": {
            "text/plain": [
              "\u001b[1mModel: \"Birds\"\u001b[0m\n"
            ],
            "text/html": [
              "<pre style=\"white-space:pre;overflow-x:auto;line-height:normal;font-family:Menlo,'DejaVu Sans Mono',consolas,'Courier New',monospace\"><span style=\"font-weight: bold\">Model: \"Birds\"</span>\n",
              "</pre>\n"
            ]
          },
          "metadata": {}
        },
        {
          "output_type": "display_data",
          "data": {
            "text/plain": [
              "┏━━━━━━━━━━━━━━━━━━━━━━━━━━━━━━━━━━━━━━┳━━━━━━━━━━━━━━━━━━━━━━━━━━━━━┳━━━━━━━━━━━━━━━━━┓\n",
              "┃\u001b[1m \u001b[0m\u001b[1mLayer (type)                        \u001b[0m\u001b[1m \u001b[0m┃\u001b[1m \u001b[0m\u001b[1mOutput Shape               \u001b[0m\u001b[1m \u001b[0m┃\u001b[1m \u001b[0m\u001b[1m        Param #\u001b[0m\u001b[1m \u001b[0m┃\n",
              "┡━━━━━━━━━━━━━━━━━━━━━━━━━━━━━━━━━━━━━━╇━━━━━━━━━━━━━━━━━━━━━━━━━━━━━╇━━━━━━━━━━━━━━━━━┩\n",
              "│ Audio_Features (\u001b[38;5;33mInputLayer\u001b[0m)          │ (\u001b[38;5;45mNone\u001b[0m, \u001b[38;5;34m60\u001b[0m, \u001b[38;5;34m259\u001b[0m, \u001b[38;5;34m4\u001b[0m)          │               \u001b[38;5;34m0\u001b[0m │\n",
              "├──────────────────────────────────────┼─────────────────────────────┼─────────────────┤\n",
              "│ conv_1 (\u001b[38;5;33mConv2D\u001b[0m)                      │ (\u001b[38;5;45mNone\u001b[0m, \u001b[38;5;34m60\u001b[0m, \u001b[38;5;34m259\u001b[0m, \u001b[38;5;34m64\u001b[0m)         │           \u001b[38;5;34m6,464\u001b[0m │\n",
              "├──────────────────────────────────────┼─────────────────────────────┼─────────────────┤\n",
              "│ pool_1 (\u001b[38;5;33mMaxPooling2D\u001b[0m)                │ (\u001b[38;5;45mNone\u001b[0m, \u001b[38;5;34m30\u001b[0m, \u001b[38;5;34m129\u001b[0m, \u001b[38;5;34m64\u001b[0m)         │               \u001b[38;5;34m0\u001b[0m │\n",
              "├──────────────────────────────────────┼─────────────────────────────┼─────────────────┤\n",
              "│ conv_2 (\u001b[38;5;33mConv2D\u001b[0m)                      │ (\u001b[38;5;45mNone\u001b[0m, \u001b[38;5;34m30\u001b[0m, \u001b[38;5;34m129\u001b[0m, \u001b[38;5;34m32\u001b[0m)         │          \u001b[38;5;34m51,232\u001b[0m │\n",
              "├──────────────────────────────────────┼─────────────────────────────┼─────────────────┤\n",
              "│ pool_2 (\u001b[38;5;33mMaxPooling2D\u001b[0m)                │ (\u001b[38;5;45mNone\u001b[0m, \u001b[38;5;34m15\u001b[0m, \u001b[38;5;34m64\u001b[0m, \u001b[38;5;34m32\u001b[0m)          │               \u001b[38;5;34m0\u001b[0m │\n",
              "├──────────────────────────────────────┼─────────────────────────────┼─────────────────┤\n",
              "│ conv_3 (\u001b[38;5;33mConv2D\u001b[0m)                      │ (\u001b[38;5;45mNone\u001b[0m, \u001b[38;5;34m15\u001b[0m, \u001b[38;5;34m64\u001b[0m, \u001b[38;5;34m32\u001b[0m)          │          \u001b[38;5;34m25,632\u001b[0m │\n",
              "├──────────────────────────────────────┼─────────────────────────────┼─────────────────┤\n",
              "│ batch_normalization                  │ (\u001b[38;5;45mNone\u001b[0m, \u001b[38;5;34m15\u001b[0m, \u001b[38;5;34m64\u001b[0m, \u001b[38;5;34m32\u001b[0m)          │             \u001b[38;5;34m128\u001b[0m │\n",
              "│ (\u001b[38;5;33mBatchNormalization\u001b[0m)                 │                             │                 │\n",
              "├──────────────────────────────────────┼─────────────────────────────┼─────────────────┤\n",
              "│ pool_3 (\u001b[38;5;33mMaxPooling2D\u001b[0m)                │ (\u001b[38;5;45mNone\u001b[0m, \u001b[38;5;34m7\u001b[0m, \u001b[38;5;34m32\u001b[0m, \u001b[38;5;34m32\u001b[0m)           │               \u001b[38;5;34m0\u001b[0m │\n",
              "├──────────────────────────────────────┼─────────────────────────────┼─────────────────┤\n",
              "│ flatten (\u001b[38;5;33mFlatten\u001b[0m)                    │ (\u001b[38;5;45mNone\u001b[0m, \u001b[38;5;34m7168\u001b[0m)                │               \u001b[38;5;34m0\u001b[0m │\n",
              "├──────────────────────────────────────┼─────────────────────────────┼─────────────────┤\n",
              "│ fc_1 (\u001b[38;5;33mDense\u001b[0m)                         │ (\u001b[38;5;45mNone\u001b[0m, \u001b[38;5;34m512\u001b[0m)                 │       \u001b[38;5;34m3,670,528\u001b[0m │\n",
              "├──────────────────────────────────────┼─────────────────────────────┼─────────────────┤\n",
              "│ dropout (\u001b[38;5;33mDropout\u001b[0m)                    │ (\u001b[38;5;45mNone\u001b[0m, \u001b[38;5;34m512\u001b[0m)                 │               \u001b[38;5;34m0\u001b[0m │\n",
              "├──────────────────────────────────────┼─────────────────────────────┼─────────────────┤\n",
              "│ fc_2 (\u001b[38;5;33mDense\u001b[0m)                         │ (\u001b[38;5;45mNone\u001b[0m, \u001b[38;5;34m20\u001b[0m)                  │          \u001b[38;5;34m10,260\u001b[0m │\n",
              "└──────────────────────────────────────┴─────────────────────────────┴─────────────────┘\n"
            ],
            "text/html": [
              "<pre style=\"white-space:pre;overflow-x:auto;line-height:normal;font-family:Menlo,'DejaVu Sans Mono',consolas,'Courier New',monospace\">┏━━━━━━━━━━━━━━━━━━━━━━━━━━━━━━━━━━━━━━┳━━━━━━━━━━━━━━━━━━━━━━━━━━━━━┳━━━━━━━━━━━━━━━━━┓\n",
              "┃<span style=\"font-weight: bold\"> Layer (type)                         </span>┃<span style=\"font-weight: bold\"> Output Shape                </span>┃<span style=\"font-weight: bold\">         Param # </span>┃\n",
              "┡━━━━━━━━━━━━━━━━━━━━━━━━━━━━━━━━━━━━━━╇━━━━━━━━━━━━━━━━━━━━━━━━━━━━━╇━━━━━━━━━━━━━━━━━┩\n",
              "│ Audio_Features (<span style=\"color: #0087ff; text-decoration-color: #0087ff\">InputLayer</span>)          │ (<span style=\"color: #00d7ff; text-decoration-color: #00d7ff\">None</span>, <span style=\"color: #00af00; text-decoration-color: #00af00\">60</span>, <span style=\"color: #00af00; text-decoration-color: #00af00\">259</span>, <span style=\"color: #00af00; text-decoration-color: #00af00\">4</span>)          │               <span style=\"color: #00af00; text-decoration-color: #00af00\">0</span> │\n",
              "├──────────────────────────────────────┼─────────────────────────────┼─────────────────┤\n",
              "│ conv_1 (<span style=\"color: #0087ff; text-decoration-color: #0087ff\">Conv2D</span>)                      │ (<span style=\"color: #00d7ff; text-decoration-color: #00d7ff\">None</span>, <span style=\"color: #00af00; text-decoration-color: #00af00\">60</span>, <span style=\"color: #00af00; text-decoration-color: #00af00\">259</span>, <span style=\"color: #00af00; text-decoration-color: #00af00\">64</span>)         │           <span style=\"color: #00af00; text-decoration-color: #00af00\">6,464</span> │\n",
              "├──────────────────────────────────────┼─────────────────────────────┼─────────────────┤\n",
              "│ pool_1 (<span style=\"color: #0087ff; text-decoration-color: #0087ff\">MaxPooling2D</span>)                │ (<span style=\"color: #00d7ff; text-decoration-color: #00d7ff\">None</span>, <span style=\"color: #00af00; text-decoration-color: #00af00\">30</span>, <span style=\"color: #00af00; text-decoration-color: #00af00\">129</span>, <span style=\"color: #00af00; text-decoration-color: #00af00\">64</span>)         │               <span style=\"color: #00af00; text-decoration-color: #00af00\">0</span> │\n",
              "├──────────────────────────────────────┼─────────────────────────────┼─────────────────┤\n",
              "│ conv_2 (<span style=\"color: #0087ff; text-decoration-color: #0087ff\">Conv2D</span>)                      │ (<span style=\"color: #00d7ff; text-decoration-color: #00d7ff\">None</span>, <span style=\"color: #00af00; text-decoration-color: #00af00\">30</span>, <span style=\"color: #00af00; text-decoration-color: #00af00\">129</span>, <span style=\"color: #00af00; text-decoration-color: #00af00\">32</span>)         │          <span style=\"color: #00af00; text-decoration-color: #00af00\">51,232</span> │\n",
              "├──────────────────────────────────────┼─────────────────────────────┼─────────────────┤\n",
              "│ pool_2 (<span style=\"color: #0087ff; text-decoration-color: #0087ff\">MaxPooling2D</span>)                │ (<span style=\"color: #00d7ff; text-decoration-color: #00d7ff\">None</span>, <span style=\"color: #00af00; text-decoration-color: #00af00\">15</span>, <span style=\"color: #00af00; text-decoration-color: #00af00\">64</span>, <span style=\"color: #00af00; text-decoration-color: #00af00\">32</span>)          │               <span style=\"color: #00af00; text-decoration-color: #00af00\">0</span> │\n",
              "├──────────────────────────────────────┼─────────────────────────────┼─────────────────┤\n",
              "│ conv_3 (<span style=\"color: #0087ff; text-decoration-color: #0087ff\">Conv2D</span>)                      │ (<span style=\"color: #00d7ff; text-decoration-color: #00d7ff\">None</span>, <span style=\"color: #00af00; text-decoration-color: #00af00\">15</span>, <span style=\"color: #00af00; text-decoration-color: #00af00\">64</span>, <span style=\"color: #00af00; text-decoration-color: #00af00\">32</span>)          │          <span style=\"color: #00af00; text-decoration-color: #00af00\">25,632</span> │\n",
              "├──────────────────────────────────────┼─────────────────────────────┼─────────────────┤\n",
              "│ batch_normalization                  │ (<span style=\"color: #00d7ff; text-decoration-color: #00d7ff\">None</span>, <span style=\"color: #00af00; text-decoration-color: #00af00\">15</span>, <span style=\"color: #00af00; text-decoration-color: #00af00\">64</span>, <span style=\"color: #00af00; text-decoration-color: #00af00\">32</span>)          │             <span style=\"color: #00af00; text-decoration-color: #00af00\">128</span> │\n",
              "│ (<span style=\"color: #0087ff; text-decoration-color: #0087ff\">BatchNormalization</span>)                 │                             │                 │\n",
              "├──────────────────────────────────────┼─────────────────────────────┼─────────────────┤\n",
              "│ pool_3 (<span style=\"color: #0087ff; text-decoration-color: #0087ff\">MaxPooling2D</span>)                │ (<span style=\"color: #00d7ff; text-decoration-color: #00d7ff\">None</span>, <span style=\"color: #00af00; text-decoration-color: #00af00\">7</span>, <span style=\"color: #00af00; text-decoration-color: #00af00\">32</span>, <span style=\"color: #00af00; text-decoration-color: #00af00\">32</span>)           │               <span style=\"color: #00af00; text-decoration-color: #00af00\">0</span> │\n",
              "├──────────────────────────────────────┼─────────────────────────────┼─────────────────┤\n",
              "│ flatten (<span style=\"color: #0087ff; text-decoration-color: #0087ff\">Flatten</span>)                    │ (<span style=\"color: #00d7ff; text-decoration-color: #00d7ff\">None</span>, <span style=\"color: #00af00; text-decoration-color: #00af00\">7168</span>)                │               <span style=\"color: #00af00; text-decoration-color: #00af00\">0</span> │\n",
              "├──────────────────────────────────────┼─────────────────────────────┼─────────────────┤\n",
              "│ fc_1 (<span style=\"color: #0087ff; text-decoration-color: #0087ff\">Dense</span>)                         │ (<span style=\"color: #00d7ff; text-decoration-color: #00d7ff\">None</span>, <span style=\"color: #00af00; text-decoration-color: #00af00\">512</span>)                 │       <span style=\"color: #00af00; text-decoration-color: #00af00\">3,670,528</span> │\n",
              "├──────────────────────────────────────┼─────────────────────────────┼─────────────────┤\n",
              "│ dropout (<span style=\"color: #0087ff; text-decoration-color: #0087ff\">Dropout</span>)                    │ (<span style=\"color: #00d7ff; text-decoration-color: #00d7ff\">None</span>, <span style=\"color: #00af00; text-decoration-color: #00af00\">512</span>)                 │               <span style=\"color: #00af00; text-decoration-color: #00af00\">0</span> │\n",
              "├──────────────────────────────────────┼─────────────────────────────┼─────────────────┤\n",
              "│ fc_2 (<span style=\"color: #0087ff; text-decoration-color: #0087ff\">Dense</span>)                         │ (<span style=\"color: #00d7ff; text-decoration-color: #00d7ff\">None</span>, <span style=\"color: #00af00; text-decoration-color: #00af00\">20</span>)                  │          <span style=\"color: #00af00; text-decoration-color: #00af00\">10,260</span> │\n",
              "└──────────────────────────────────────┴─────────────────────────────┴─────────────────┘\n",
              "</pre>\n"
            ]
          },
          "metadata": {}
        },
        {
          "output_type": "display_data",
          "data": {
            "text/plain": [
              "\u001b[1m Total params: \u001b[0m\u001b[38;5;34m3,764,244\u001b[0m (14.36 MB)\n"
            ],
            "text/html": [
              "<pre style=\"white-space:pre;overflow-x:auto;line-height:normal;font-family:Menlo,'DejaVu Sans Mono',consolas,'Courier New',monospace\"><span style=\"font-weight: bold\"> Total params: </span><span style=\"color: #00af00; text-decoration-color: #00af00\">3,764,244</span> (14.36 MB)\n",
              "</pre>\n"
            ]
          },
          "metadata": {}
        },
        {
          "output_type": "display_data",
          "data": {
            "text/plain": [
              "\u001b[1m Trainable params: \u001b[0m\u001b[38;5;34m3,764,180\u001b[0m (14.36 MB)\n"
            ],
            "text/html": [
              "<pre style=\"white-space:pre;overflow-x:auto;line-height:normal;font-family:Menlo,'DejaVu Sans Mono',consolas,'Courier New',monospace\"><span style=\"font-weight: bold\"> Trainable params: </span><span style=\"color: #00af00; text-decoration-color: #00af00\">3,764,180</span> (14.36 MB)\n",
              "</pre>\n"
            ]
          },
          "metadata": {}
        },
        {
          "output_type": "display_data",
          "data": {
            "text/plain": [
              "\u001b[1m Non-trainable params: \u001b[0m\u001b[38;5;34m64\u001b[0m (256.00 B)\n"
            ],
            "text/html": [
              "<pre style=\"white-space:pre;overflow-x:auto;line-height:normal;font-family:Menlo,'DejaVu Sans Mono',consolas,'Courier New',monospace\"><span style=\"font-weight: bold\"> Non-trainable params: </span><span style=\"color: #00af00; text-decoration-color: #00af00\">64</span> (256.00 B)\n",
              "</pre>\n"
            ]
          },
          "metadata": {}
        },
        {
          "output_type": "stream",
          "name": "stdout",
          "text": [
            "None\n",
            "Epoch 1/100\n",
            "\u001b[1m223/223\u001b[0m \u001b[32m━━━━━━━━━━━━━━━━━━━━\u001b[0m\u001b[37m\u001b[0m \u001b[1m13s\u001b[0m 43ms/step - accuracy: 0.1905 - loss: 14.4463 - weighted_accuracy: 0.1905 - val_accuracy: 0.2975 - val_loss: 12.6400 - val_weighted_accuracy: 0.2975\n",
            "Epoch 2/100\n",
            "\u001b[1m223/223\u001b[0m \u001b[32m━━━━━━━━━━━━━━━━━━━━\u001b[0m\u001b[37m\u001b[0m \u001b[1m6s\u001b[0m 27ms/step - accuracy: 0.4016 - loss: 11.3738 - weighted_accuracy: 0.4016 - val_accuracy: 0.3808 - val_loss: 10.3847 - val_weighted_accuracy: 0.3808\n",
            "Epoch 3/100\n",
            "\u001b[1m223/223\u001b[0m \u001b[32m━━━━━━━━━━━━━━━━━━━━\u001b[0m\u001b[37m\u001b[0m \u001b[1m6s\u001b[0m 27ms/step - accuracy: 0.5104 - loss: 9.2283 - weighted_accuracy: 0.5104 - val_accuracy: 0.3914 - val_loss: 8.5991 - val_weighted_accuracy: 0.3914\n",
            "Epoch 4/100\n",
            "\u001b[1m223/223\u001b[0m \u001b[32m━━━━━━━━━━━━━━━━━━━━\u001b[0m\u001b[37m\u001b[0m \u001b[1m6s\u001b[0m 27ms/step - accuracy: 0.5873 - loss: 7.6756 - weighted_accuracy: 0.5873 - val_accuracy: 0.4019 - val_loss: 7.4533 - val_weighted_accuracy: 0.4019\n",
            "Epoch 5/100\n",
            "\u001b[1m223/223\u001b[0m \u001b[32m━━━━━━━━━━━━━━━━━━━━\u001b[0m\u001b[37m\u001b[0m \u001b[1m6s\u001b[0m 27ms/step - accuracy: 0.6493 - loss: 6.5127 - weighted_accuracy: 0.6493 - val_accuracy: 0.3708 - val_loss: 7.1245 - val_weighted_accuracy: 0.3708\n",
            "Epoch 6/100\n",
            "\u001b[1m223/223\u001b[0m \u001b[32m━━━━━━━━━━━━━━━━━━━━\u001b[0m\u001b[37m\u001b[0m \u001b[1m6s\u001b[0m 27ms/step - accuracy: 0.6988 - loss: 5.6060 - weighted_accuracy: 0.6988 - val_accuracy: 0.4868 - val_loss: 5.9272 - val_weighted_accuracy: 0.4868\n",
            "Epoch 7/100\n",
            "\u001b[1m223/223\u001b[0m \u001b[32m━━━━━━━━━━━━━━━━━━━━\u001b[0m\u001b[37m\u001b[0m \u001b[1m6s\u001b[0m 27ms/step - accuracy: 0.7379 - loss: 4.8865 - weighted_accuracy: 0.7379 - val_accuracy: 0.3703 - val_loss: 6.0560 - val_weighted_accuracy: 0.3703\n",
            "Epoch 8/100\n",
            "\u001b[1m223/223\u001b[0m \u001b[32m━━━━━━━━━━━━━━━━━━━━\u001b[0m\u001b[37m\u001b[0m \u001b[1m6s\u001b[0m 27ms/step - accuracy: 0.7528 - loss: 4.3612 - weighted_accuracy: 0.7528 - val_accuracy: 0.3270 - val_loss: 6.2263 - val_weighted_accuracy: 0.3270\n",
            "Epoch 9/100\n",
            "\u001b[1m223/223\u001b[0m \u001b[32m━━━━━━━━━━━━━━━━━━━━\u001b[0m\u001b[37m\u001b[0m \u001b[1m6s\u001b[0m 27ms/step - accuracy: 0.7955 - loss: 3.8371 - weighted_accuracy: 0.7955 - val_accuracy: 0.5438 - val_loss: 4.4791 - val_weighted_accuracy: 0.5438\n",
            "Epoch 10/100\n",
            "\u001b[1m223/223\u001b[0m \u001b[32m━━━━━━━━━━━━━━━━━━━━\u001b[0m\u001b[37m\u001b[0m \u001b[1m6s\u001b[0m 27ms/step - accuracy: 0.8001 - loss: 3.4847 - weighted_accuracy: 0.8001 - val_accuracy: 0.3671 - val_loss: 5.0329 - val_weighted_accuracy: 0.3671\n",
            "Epoch 11/100\n",
            "\u001b[1m223/223\u001b[0m \u001b[32m━━━━━━━━━━━━━━━━━━━━\u001b[0m\u001b[37m\u001b[0m \u001b[1m6s\u001b[0m 27ms/step - accuracy: 0.7949 - loss: 3.2363 - weighted_accuracy: 0.7949 - val_accuracy: 0.5153 - val_loss: 4.1059 - val_weighted_accuracy: 0.5153\n",
            "Epoch 12/100\n",
            "\u001b[1m223/223\u001b[0m \u001b[32m━━━━━━━━━━━━━━━━━━━━\u001b[0m\u001b[37m\u001b[0m \u001b[1m6s\u001b[0m 27ms/step - accuracy: 0.8379 - loss: 2.8981 - weighted_accuracy: 0.8379 - val_accuracy: 0.4768 - val_loss: 4.3805 - val_weighted_accuracy: 0.4768\n",
            "Epoch 13/100\n",
            "\u001b[1m223/223\u001b[0m \u001b[32m━━━━━━━━━━━━━━━━━━━━\u001b[0m\u001b[37m\u001b[0m \u001b[1m6s\u001b[0m 27ms/step - accuracy: 0.8496 - loss: 2.6580 - weighted_accuracy: 0.8496 - val_accuracy: 0.4731 - val_loss: 4.1516 - val_weighted_accuracy: 0.4731\n",
            "Epoch 14/100\n",
            "\u001b[1m223/223\u001b[0m \u001b[32m━━━━━━━━━━━━━━━━━━━━\u001b[0m\u001b[37m\u001b[0m \u001b[1m6s\u001b[0m 28ms/step - accuracy: 0.8745 - loss: 2.4108 - weighted_accuracy: 0.8745 - val_accuracy: 0.5069 - val_loss: 3.5882 - val_weighted_accuracy: 0.5069\n",
            "Epoch 15/100\n",
            "\u001b[1m223/223\u001b[0m \u001b[32m━━━━━━━━━━━━━━━━━━━━\u001b[0m\u001b[37m\u001b[0m \u001b[1m6s\u001b[0m 27ms/step - accuracy: 0.8875 - loss: 2.2200 - weighted_accuracy: 0.8875 - val_accuracy: 0.5406 - val_loss: 3.3658 - val_weighted_accuracy: 0.5406\n",
            "Epoch 16/100\n",
            "\u001b[1m223/223\u001b[0m \u001b[32m━━━━━━━━━━━━━━━━━━━━\u001b[0m\u001b[37m\u001b[0m \u001b[1m6s\u001b[0m 28ms/step - accuracy: 0.8843 - loss: 2.0701 - weighted_accuracy: 0.8843 - val_accuracy: 0.5016 - val_loss: 3.5243 - val_weighted_accuracy: 0.5016\n",
            "Epoch 17/100\n",
            "\u001b[1m223/223\u001b[0m \u001b[32m━━━━━━━━━━━━━━━━━━━━\u001b[0m\u001b[37m\u001b[0m \u001b[1m6s\u001b[0m 27ms/step - accuracy: 0.9015 - loss: 1.9069 - weighted_accuracy: 0.9015 - val_accuracy: 0.4768 - val_loss: 3.7817 - val_weighted_accuracy: 0.4768\n",
            "Epoch 18/100\n",
            "\u001b[1m223/223\u001b[0m \u001b[32m━━━━━━━━━━━━━━━━━━━━\u001b[0m\u001b[37m\u001b[0m \u001b[1m6s\u001b[0m 28ms/step - accuracy: 0.8990 - loss: 1.7990 - weighted_accuracy: 0.8990 - val_accuracy: 0.5464 - val_loss: 3.1797 - val_weighted_accuracy: 0.5464\n",
            "Epoch 19/100\n",
            "\u001b[1m223/223\u001b[0m \u001b[32m━━━━━━━━━━━━━━━━━━━━\u001b[0m\u001b[37m\u001b[0m \u001b[1m6s\u001b[0m 27ms/step - accuracy: 0.9158 - loss: 1.6463 - weighted_accuracy: 0.9158 - val_accuracy: 0.5116 - val_loss: 3.3103 - val_weighted_accuracy: 0.5116\n",
            "Epoch 20/100\n",
            "\u001b[1m223/223\u001b[0m \u001b[32m━━━━━━━━━━━━━━━━━━━━\u001b[0m\u001b[37m\u001b[0m \u001b[1m6s\u001b[0m 28ms/step - accuracy: 0.8713 - loss: 1.6739 - weighted_accuracy: 0.8713 - val_accuracy: 0.4320 - val_loss: 3.9326 - val_weighted_accuracy: 0.4320\n",
            "Epoch 21/100\n",
            "\u001b[1m223/223\u001b[0m \u001b[32m━━━━━━━━━━━━━━━━━━━━\u001b[0m\u001b[37m\u001b[0m \u001b[1m6s\u001b[0m 28ms/step - accuracy: 0.9202 - loss: 1.4641 - weighted_accuracy: 0.9202 - val_accuracy: 0.5327 - val_loss: 3.0428 - val_weighted_accuracy: 0.5327\n",
            "Epoch 22/100\n",
            "\u001b[1m223/223\u001b[0m \u001b[32m━━━━━━━━━━━━━━━━━━━━\u001b[0m\u001b[37m\u001b[0m \u001b[1m6s\u001b[0m 28ms/step - accuracy: 0.9235 - loss: 1.3935 - weighted_accuracy: 0.9235 - val_accuracy: 0.4662 - val_loss: 3.3263 - val_weighted_accuracy: 0.4662\n",
            "Epoch 23/100\n",
            "\u001b[1m223/223\u001b[0m \u001b[32m━━━━━━━━━━━━━━━━━━━━\u001b[0m\u001b[37m\u001b[0m \u001b[1m6s\u001b[0m 28ms/step - accuracy: 0.9517 - loss: 1.2583 - weighted_accuracy: 0.9517 - val_accuracy: 0.4968 - val_loss: 2.8912 - val_weighted_accuracy: 0.4968\n",
            "Epoch 24/100\n",
            "\u001b[1m223/223\u001b[0m \u001b[32m━━━━━━━━━━━━━━━━━━━━\u001b[0m\u001b[37m\u001b[0m \u001b[1m6s\u001b[0m 28ms/step - accuracy: 0.9533 - loss: 1.1738 - weighted_accuracy: 0.9533 - val_accuracy: 0.5200 - val_loss: 2.9682 - val_weighted_accuracy: 0.5200\n",
            "Epoch 25/100\n",
            "\u001b[1m223/223\u001b[0m \u001b[32m━━━━━━━━━━━━━━━━━━━━\u001b[0m\u001b[37m\u001b[0m \u001b[1m6s\u001b[0m 28ms/step - accuracy: 0.9516 - loss: 1.1174 - weighted_accuracy: 0.9516 - val_accuracy: 0.5285 - val_loss: 2.9355 - val_weighted_accuracy: 0.5285\n",
            "Epoch 26/100\n",
            "\u001b[1m223/223\u001b[0m \u001b[32m━━━━━━━━━━━━━━━━━━━━\u001b[0m\u001b[37m\u001b[0m \u001b[1m6s\u001b[0m 28ms/step - accuracy: 0.9535 - loss: 1.0524 - weighted_accuracy: 0.9535 - val_accuracy: 0.5232 - val_loss: 2.7150 - val_weighted_accuracy: 0.5232\n",
            "Epoch 27/100\n",
            "\u001b[1m223/223\u001b[0m \u001b[32m━━━━━━━━━━━━━━━━━━━━\u001b[0m\u001b[37m\u001b[0m \u001b[1m6s\u001b[0m 27ms/step - accuracy: 0.9380 - loss: 1.0416 - weighted_accuracy: 0.9380 - val_accuracy: 0.5332 - val_loss: 2.8064 - val_weighted_accuracy: 0.5332\n",
            "Epoch 28/100\n",
            "\u001b[1m223/223\u001b[0m \u001b[32m━━━━━━━━━━━━━━━━━━━━\u001b[0m\u001b[37m\u001b[0m \u001b[1m6s\u001b[0m 28ms/step - accuracy: 0.9635 - loss: 0.9254 - weighted_accuracy: 0.9635 - val_accuracy: 0.4752 - val_loss: 2.9972 - val_weighted_accuracy: 0.4752\n",
            "Epoch 29/100\n",
            "\u001b[1m223/223\u001b[0m \u001b[32m━━━━━━━━━━━━━━━━━━━━\u001b[0m\u001b[37m\u001b[0m \u001b[1m6s\u001b[0m 28ms/step - accuracy: 0.9681 - loss: 0.8667 - weighted_accuracy: 0.9681 - val_accuracy: 0.4847 - val_loss: 3.0525 - val_weighted_accuracy: 0.4847\n",
            "Epoch 30/100\n",
            "\u001b[1m223/223\u001b[0m \u001b[32m━━━━━━━━━━━━━━━━━━━━\u001b[0m\u001b[37m\u001b[0m \u001b[1m6s\u001b[0m 28ms/step - accuracy: 0.9592 - loss: 0.8548 - weighted_accuracy: 0.9592 - val_accuracy: 0.4958 - val_loss: 2.9209 - val_weighted_accuracy: 0.4958\n",
            "Epoch 31/100\n",
            "\u001b[1m223/223\u001b[0m \u001b[32m━━━━━━━━━━━━━━━━━━━━\u001b[0m\u001b[37m\u001b[0m \u001b[1m6s\u001b[0m 28ms/step - accuracy: 0.9575 - loss: 0.8277 - weighted_accuracy: 0.9575 - val_accuracy: 0.4467 - val_loss: 3.3825 - val_weighted_accuracy: 0.4467\n",
            "Epoch 32/100\n",
            "\u001b[1m223/223\u001b[0m \u001b[32m━━━━━━━━━━━━━━━━━━━━\u001b[0m\u001b[37m\u001b[0m \u001b[1m6s\u001b[0m 28ms/step - accuracy: 0.9734 - loss: 0.7468 - weighted_accuracy: 0.9734 - val_accuracy: 0.5100 - val_loss: 2.6752 - val_weighted_accuracy: 0.5100\n",
            "Epoch 33/100\n",
            "\u001b[1m223/223\u001b[0m \u001b[32m━━━━━━━━━━━━━━━━━━━━\u001b[0m\u001b[37m\u001b[0m \u001b[1m6s\u001b[0m 28ms/step - accuracy: 0.9778 - loss: 0.7018 - weighted_accuracy: 0.9778 - val_accuracy: 0.5411 - val_loss: 2.6467 - val_weighted_accuracy: 0.5411\n",
            "Epoch 34/100\n",
            "\u001b[1m223/223\u001b[0m \u001b[32m━━━━━━━━━━━━━━━━━━━━\u001b[0m\u001b[37m\u001b[0m \u001b[1m6s\u001b[0m 28ms/step - accuracy: 0.9767 - loss: 0.6681 - weighted_accuracy: 0.9767 - val_accuracy: 0.5042 - val_loss: 2.7219 - val_weighted_accuracy: 0.5042\n",
            "Epoch 35/100\n",
            "\u001b[1m223/223\u001b[0m \u001b[32m━━━━━━━━━━━━━━━━━━━━\u001b[0m\u001b[37m\u001b[0m \u001b[1m6s\u001b[0m 28ms/step - accuracy: 0.9794 - loss: 0.6385 - weighted_accuracy: 0.9794 - val_accuracy: 0.4900 - val_loss: 2.7944 - val_weighted_accuracy: 0.4900\n",
            "Epoch 36/100\n",
            "\u001b[1m223/223\u001b[0m \u001b[32m━━━━━━━━━━━━━━━━━━━━\u001b[0m\u001b[37m\u001b[0m \u001b[1m6s\u001b[0m 28ms/step - accuracy: 0.9759 - loss: 0.6204 - weighted_accuracy: 0.9759 - val_accuracy: 0.5248 - val_loss: 2.6779 - val_weighted_accuracy: 0.5248\n",
            "Epoch 37/100\n",
            "\u001b[1m223/223\u001b[0m \u001b[32m━━━━━━━━━━━━━━━━━━━━\u001b[0m\u001b[37m\u001b[0m \u001b[1m6s\u001b[0m 28ms/step - accuracy: 0.9806 - loss: 0.5823 - weighted_accuracy: 0.9806 - val_accuracy: 0.4778 - val_loss: 3.0678 - val_weighted_accuracy: 0.4778\n",
            "Epoch 38/100\n",
            "\u001b[1m223/223\u001b[0m \u001b[32m━━━━━━━━━━━━━━━━━━━━\u001b[0m\u001b[37m\u001b[0m \u001b[1m6s\u001b[0m 28ms/step - accuracy: 0.9787 - loss: 0.5553 - weighted_accuracy: 0.9787 - val_accuracy: 0.4262 - val_loss: 3.3668 - val_weighted_accuracy: 0.4262\n",
            "Epoch 39/100\n",
            "\u001b[1m223/223\u001b[0m \u001b[32m━━━━━━━━━━━━━━━━━━━━\u001b[0m\u001b[37m\u001b[0m \u001b[1m6s\u001b[0m 28ms/step - accuracy: 0.9873 - loss: 0.5183 - weighted_accuracy: 0.9873 - val_accuracy: 0.4483 - val_loss: 3.1468 - val_weighted_accuracy: 0.4483\n",
            "Epoch 40/100\n",
            "\u001b[1m223/223\u001b[0m \u001b[32m━━━━━━━━━━━━━━━━━━━━\u001b[0m\u001b[37m\u001b[0m \u001b[1m6s\u001b[0m 28ms/step - accuracy: 0.9814 - loss: 0.5077 - weighted_accuracy: 0.9814 - val_accuracy: 0.5190 - val_loss: 2.6155 - val_weighted_accuracy: 0.5190\n",
            "Epoch 41/100\n",
            "\u001b[1m223/223\u001b[0m \u001b[32m━━━━━━━━━━━━━━━━━━━━\u001b[0m\u001b[37m\u001b[0m \u001b[1m6s\u001b[0m 28ms/step - accuracy: 0.9702 - loss: 0.5310 - weighted_accuracy: 0.9702 - val_accuracy: 0.4699 - val_loss: 2.6869 - val_weighted_accuracy: 0.4699\n",
            "Epoch 42/100\n",
            "\u001b[1m223/223\u001b[0m \u001b[32m━━━━━━━━━━━━━━━━━━━━\u001b[0m\u001b[37m\u001b[0m \u001b[1m6s\u001b[0m 28ms/step - accuracy: 0.9874 - loss: 0.4586 - weighted_accuracy: 0.9874 - val_accuracy: 0.5264 - val_loss: 2.5087 - val_weighted_accuracy: 0.5264\n",
            "Epoch 43/100\n",
            "\u001b[1m223/223\u001b[0m \u001b[32m━━━━━━━━━━━━━━━━━━━━\u001b[0m\u001b[37m\u001b[0m \u001b[1m6s\u001b[0m 28ms/step - accuracy: 0.9625 - loss: 0.5215 - weighted_accuracy: 0.9625 - val_accuracy: 0.4626 - val_loss: 3.0915 - val_weighted_accuracy: 0.4626\n",
            "Epoch 44/100\n",
            "\u001b[1m223/223\u001b[0m \u001b[32m━━━━━━━━━━━━━━━━━━━━\u001b[0m\u001b[37m\u001b[0m \u001b[1m6s\u001b[0m 28ms/step - accuracy: 0.9884 - loss: 0.4262 - weighted_accuracy: 0.9884 - val_accuracy: 0.3518 - val_loss: 4.3910 - val_weighted_accuracy: 0.3518\n",
            "Epoch 45/100\n",
            "\u001b[1m223/223\u001b[0m \u001b[32m━━━━━━━━━━━━━━━━━━━━\u001b[0m\u001b[37m\u001b[0m \u001b[1m6s\u001b[0m 28ms/step - accuracy: 0.9744 - loss: 0.4586 - weighted_accuracy: 0.9744 - val_accuracy: 0.5032 - val_loss: 2.4855 - val_weighted_accuracy: 0.5032\n",
            "Epoch 46/100\n",
            "\u001b[1m223/223\u001b[0m \u001b[32m━━━━━━━━━━━━━━━━━━━━\u001b[0m\u001b[37m\u001b[0m \u001b[1m6s\u001b[0m 28ms/step - accuracy: 0.9847 - loss: 0.4043 - weighted_accuracy: 0.9847 - val_accuracy: 0.5100 - val_loss: 2.4280 - val_weighted_accuracy: 0.5100\n",
            "Epoch 47/100\n",
            "\u001b[1m223/223\u001b[0m \u001b[32m━━━━━━━━━━━━━━━━━━━━\u001b[0m\u001b[37m\u001b[0m \u001b[1m6s\u001b[0m 28ms/step - accuracy: 0.9881 - loss: 0.3860 - weighted_accuracy: 0.9881 - val_accuracy: 0.4836 - val_loss: 2.8083 - val_weighted_accuracy: 0.4836\n",
            "Epoch 48/100\n",
            "\u001b[1m223/223\u001b[0m \u001b[32m━━━━━━━━━━━━━━━━━━━━\u001b[0m\u001b[37m\u001b[0m \u001b[1m6s\u001b[0m 28ms/step - accuracy: 0.9872 - loss: 0.3780 - weighted_accuracy: 0.9872 - val_accuracy: 0.4520 - val_loss: 3.1507 - val_weighted_accuracy: 0.4520\n",
            "Epoch 49/100\n",
            "\u001b[1m223/223\u001b[0m \u001b[32m━━━━━━━━━━━━━━━━━━━━\u001b[0m\u001b[37m\u001b[0m \u001b[1m6s\u001b[0m 28ms/step - accuracy: 0.9896 - loss: 0.3607 - weighted_accuracy: 0.9896 - val_accuracy: 0.5211 - val_loss: 2.5543 - val_weighted_accuracy: 0.5211\n",
            "Epoch 50/100\n",
            "\u001b[1m223/223\u001b[0m \u001b[32m━━━━━━━━━━━━━━━━━━━━\u001b[0m\u001b[37m\u001b[0m \u001b[1m6s\u001b[0m 28ms/step - accuracy: 0.9901 - loss: 0.3478 - weighted_accuracy: 0.9901 - val_accuracy: 0.5164 - val_loss: 2.6747 - val_weighted_accuracy: 0.5164\n",
            "Epoch 51/100\n",
            "\u001b[1m223/223\u001b[0m \u001b[32m━━━━━━━━━━━━━━━━━━━━\u001b[0m\u001b[37m\u001b[0m \u001b[1m6s\u001b[0m 28ms/step - accuracy: 0.9911 - loss: 0.3428 - weighted_accuracy: 0.9911 - val_accuracy: 0.5158 - val_loss: 2.7198 - val_weighted_accuracy: 0.5158\n",
            "Epoch 52/100\n",
            "\u001b[1m223/223\u001b[0m \u001b[32m━━━━━━━━━━━━━━━━━━━━\u001b[0m\u001b[37m\u001b[0m \u001b[1m6s\u001b[0m 28ms/step - accuracy: 0.9824 - loss: 0.3518 - weighted_accuracy: 0.9824 - val_accuracy: 0.4177 - val_loss: 3.4136 - val_weighted_accuracy: 0.4177\n",
            "Epoch 53/100\n",
            "\u001b[1m223/223\u001b[0m \u001b[32m━━━━━━━━━━━━━━━━━━━━\u001b[0m\u001b[37m\u001b[0m \u001b[1m6s\u001b[0m 28ms/step - accuracy: 0.9801 - loss: 0.3448 - weighted_accuracy: 0.9801 - val_accuracy: 0.5174 - val_loss: 2.5131 - val_weighted_accuracy: 0.5174\n",
            "Epoch 54/100\n",
            "\u001b[1m223/223\u001b[0m \u001b[32m━━━━━━━━━━━━━━━━━━━━\u001b[0m\u001b[37m\u001b[0m \u001b[1m6s\u001b[0m 28ms/step - accuracy: 0.9780 - loss: 0.3534 - weighted_accuracy: 0.9780 - val_accuracy: 0.4710 - val_loss: 2.9199 - val_weighted_accuracy: 0.4710\n",
            "Epoch 55/100\n",
            "\u001b[1m223/223\u001b[0m \u001b[32m━━━━━━━━━━━━━━━━━━━━\u001b[0m\u001b[37m\u001b[0m \u001b[1m6s\u001b[0m 27ms/step - accuracy: 0.9891 - loss: 0.3044 - weighted_accuracy: 0.9891 - val_accuracy: 0.5206 - val_loss: 2.4890 - val_weighted_accuracy: 0.5206\n",
            "Epoch 56/100\n",
            "\u001b[1m223/223\u001b[0m \u001b[32m━━━━━━━━━━━━━━━━━━━━\u001b[0m\u001b[37m\u001b[0m \u001b[1m6s\u001b[0m 28ms/step - accuracy: 0.9935 - loss: 0.2918 - weighted_accuracy: 0.9935 - val_accuracy: 0.5074 - val_loss: 2.5819 - val_weighted_accuracy: 0.5074\n",
            "best_epoch:  17\n"
          ]
        },
        {
          "output_type": "display_data",
          "data": {
            "text/plain": [
              "<Figure size 1500x500 with 2 Axes>"
            ],
            "image/png": "[encoded data removed]"
          },
          "metadata": {}
        }
      ],
      "source": [
        "model = build_model(training_features)\n",
        "\n",
        "callback = tf.keras.callbacks.EarlyStopping(\n",
        "    monitor=\"val_loss\",\n",
        "    patience=10,\n",
        "    restore_best_weights=True\n",
        ")\n",
        "\n",
        "history = model.fit(\n",
        "    x=training_features,\n",
        "    y=train_y,\n",
        "    epochs=100,\n",
        "    validation_data=(\n",
        "        validation_features,\n",
        "        val_y,\n",
        "    ),\n",
        "    batch_size=32,\n",
        "    verbose=1,\n",
        "    callbacks=[callback]\n",
        ")\n",
        "\n",
        "best_epoch = history.history['val_weighted_accuracy'].index(max(history.history['val_weighted_accuracy']))\n",
        "print('best_epoch: ', best_epoch)\n",
        "visualize(history)"
      ]
    },
    {
      "cell_type": "code",
      "execution_count": 52,
      "metadata": {
        "colab": {
          "base_uri": "https://localhost:8080/"
        },
        "id": "RgH6cTZ1TURV",
        "outputId": "02ba3821-4fd9-4218-f1a3-5c468038873e"
      },
      "outputs": [
        {
          "output_type": "stream",
          "name": "stdout",
          "text": [
            "\u001b[1m223/223\u001b[0m \u001b[32m━━━━━━━━━━━━━━━━━━━━\u001b[0m\u001b[37m\u001b[0m \u001b[1m2s\u001b[0m 8ms/step\n",
            "\u001b[1m223/223\u001b[0m \u001b[32m━━━━━━━━━━━━━━━━━━━━\u001b[0m\u001b[37m\u001b[0m \u001b[1m2s\u001b[0m 10ms/step - accuracy: 0.9999 - loss: 0.3471 - weighted_accuracy: 0.9999\n",
            "\u001b[1m60/60\u001b[0m \u001b[32m━━━━━━━━━━━━━━━━━━━━\u001b[0m\u001b[37m\u001b[0m \u001b[1m0s\u001b[0m 8ms/step\n",
            "\u001b[1m60/60\u001b[0m \u001b[32m━━━━━━━━━━━━━━━━━━━━\u001b[0m\u001b[37m\u001b[0m \u001b[1m1s\u001b[0m 9ms/step - accuracy: 0.5199 - loss: 2.3142 - weighted_accuracy: 0.5199\n"
          ]
        }
      ],
      "source": [
        "train_yhat = model.predict(training_features)\n",
        "train_yhat_result = np.argmax(train_yhat, axis=-1)\n",
        "train_results['melspectrogram_chroma_mfcc'] = model.evaluate(training_features, train_y)[-1]\n",
        "\n",
        "val_yhat = model.predict(validation_features)\n",
        "val_yhat_result = np.argmax(val_yhat, axis=-1)\n",
        "val_results['melspectrogram_chroma_mfcc'] = model.evaluate(validation_features, val_y)[-1]"
      ]
    },
    {
      "cell_type": "markdown",
      "metadata": {
        "id": "6nEAMJEYTURV"
      },
      "source": [
        "# Review results from all models"
      ]
    },
    {
      "cell_type": "code",
      "execution_count": 53,
      "metadata": {
        "colab": {
          "base_uri": "https://localhost:8080/",
          "height": 125
        },
        "id": "ZtnjgCgBTURW",
        "outputId": "3604f48e-a074-4bfe-de3d-ee763748875d"
      },
      "outputs": [
        {
          "output_type": "execute_result",
          "data": {
            "text/plain": [
              "                     Features  Train_Accuracy  Val_Accuracy\n",
              "0                all_features           0.997         0.507\n",
              "1  melspectrogram_chroma_mfcc           1.000         0.510"
            ],
            "text/html": [
              "\n",
              "  <div id=\"df-aee177db-3249-4be4-a21e-3ee35d168074\" class=\"colab-df-container\">\n",
              "    <div>\n",
              "<style scoped>\n",
              "    .dataframe tbody tr th:only-of-type {\n",
              "        vertical-align: middle;\n",
              "    }\n",
              "\n",
              "    .dataframe tbody tr th {\n",
              "        vertical-align: top;\n",
              "    }\n",
              "\n",
              "    .dataframe thead th {\n",
              "        text-align: right;\n",
              "    }\n",
              "</style>\n",
              "<table border=\"1\" class=\"dataframe\">\n",
              "  <thead>\n",
              "    <tr style=\"text-align: right;\">\n",
              "      <th></th>\n",
              "      <th>Features</th>\n",
              "      <th>Train_Accuracy</th>\n",
              "      <th>Val_Accuracy</th>\n",
              "    </tr>\n",
              "  </thead>\n",
              "  <tbody>\n",
              "    <tr>\n",
              "      <th>0</th>\n",
              "      <td>all_features</td>\n",
              "      <td>0.997</td>\n",
              "      <td>0.507</td>\n",
              "    </tr>\n",
              "    <tr>\n",
              "      <th>1</th>\n",
              "      <td>melspectrogram_chroma_mfcc</td>\n",
              "      <td>1.000</td>\n",
              "      <td>0.510</td>\n",
              "    </tr>\n",
              "  </tbody>\n",
              "</table>\n",
              "</div>\n",
              "    <div class=\"colab-df-buttons\">\n",
              "\n",
              "  <div class=\"colab-df-container\">\n",
              "    <button class=\"colab-df-convert\" onclick=\"convertToInteractive('df-aee177db-3249-4be4-a21e-3ee35d168074')\"\n",
              "            title=\"Convert this dataframe to an interactive table.\"\n",
              "            style=\"display:none;\">\n",
              "\n",
              "  <svg xmlns=\"http://www.w3.org/2000/svg\" height=\"24px\" viewBox=\"0 -960 960 960\">\n",
              "    <path d=\"M120-120v-720h720v720H120Zm60-500h600v-160H180v160Zm220 220h160v-160H400v160Zm0 220h160v-160H400v160ZM180-400h160v-160H180v160Zm440 0h160v-160H620v160ZM180-180h160v-160H180v160Zm440 0h160v-160H620v160Z\"/>\n",
              "  </svg>\n",
              "    </button>\n",
              "\n",
              "  <style>\n",
              "    .colab-df-container {\n",
              "      display:flex;\n",
              "      gap: 12px;\n",
              "    }\n",
              "\n",
              "    .colab-df-convert {\n",
              "      background-color: #E8F0FE;\n",
              "      border: none;\n",
              "      border-radius: 50%;\n",
              "      cursor: pointer;\n",
              "      display: none;\n",
              "      fill: #1967D2;\n",
              "      height: 32px;\n",
              "      padding: 0 0 0 0;\n",
              "      width: 32px;\n",
              "    }\n",
              "\n",
              "    .colab-df-convert:hover {\n",
              "      background-color: #E2EBFA;\n",
              "      box-shadow: 0px 1px 2px rgba(60, 64, 67, 0.3), 0px 1px 3px 1px rgba(60, 64, 67, 0.15);\n",
              "      fill: #174EA6;\n",
              "    }\n",
              "\n",
              "    .colab-df-buttons div {\n",
              "      margin-bottom: 4px;\n",
              "    }\n",
              "\n",
              "    [theme=dark] .colab-df-convert {\n",
              "      background-color: #3B4455;\n",
              "      fill: #D2E3FC;\n",
              "    }\n",
              "\n",
              "    [theme=dark] .colab-df-convert:hover {\n",
              "      background-color: #434B5C;\n",
              "      box-shadow: 0px 1px 3px 1px rgba(0, 0, 0, 0.15);\n",
              "      filter: drop-shadow(0px 1px 2px rgba(0, 0, 0, 0.3));\n",
              "      fill: #FFFFFF;\n",
              "    }\n",
              "  </style>\n",
              "\n",
              "    <script>\n",
              "      const buttonEl =\n",
              "        document.querySelector('#df-aee177db-3249-4be4-a21e-3ee35d168074 button.colab-df-convert');\n",
              "      buttonEl.style.display =\n",
              "        google.colab.kernel.accessAllowed ? 'block' : 'none';\n",
              "\n",
              "      async function convertToInteractive(key) {\n",
              "        const element = document.querySelector('#df-aee177db-3249-4be4-a21e-3ee35d168074');\n",
              "        const dataTable =\n",
              "          await google.colab.kernel.invokeFunction('convertToInteractive',\n",
              "                                                    [key], {});\n",
              "        if (!dataTable) return;\n",
              "\n",
              "        const docLinkHtml = 'Like what you see? Visit the ' +\n",
              "          '<a target=\"_blank\" href=https://colab.research.google.com/notebooks/data_table.ipynb>data table notebook</a>'\n",
              "          + ' to learn more about interactive tables.';\n",
              "        element.innerHTML = '';\n",
              "        dataTable['output_type'] = 'display_data';\n",
              "        await google.colab.output.renderOutput(dataTable, element);\n",
              "        const docLink = document.createElement('div');\n",
              "        docLink.innerHTML = docLinkHtml;\n",
              "        element.appendChild(docLink);\n",
              "      }\n",
              "    </script>\n",
              "  </div>\n",
              "\n",
              "\n",
              "<div id=\"df-a769bd0e-f808-437c-b4c6-3afb300925b6\">\n",
              "  <button class=\"colab-df-quickchart\" onclick=\"quickchart('df-a769bd0e-f808-437c-b4c6-3afb300925b6')\"\n",
              "            title=\"Suggest charts\"\n",
              "            style=\"display:none;\">\n",
              "\n",
              "<svg xmlns=\"http://www.w3.org/2000/svg\" height=\"24px\"viewBox=\"0 0 24 24\"\n",
              "     width=\"24px\">\n",
              "    <g>\n",
              "        <path d=\"M19 3H5c-1.1 0-2 .9-2 2v14c0 1.1.9 2 2 2h14c1.1 0 2-.9 2-2V5c0-1.1-.9-2-2-2zM9 17H7v-7h2v7zm4 0h-2V7h2v10zm4 0h-2v-4h2v4z\"/>\n",
              "    </g>\n",
              "</svg>\n",
              "  </button>\n",
              "\n",
              "<style>\n",
              "  .colab-df-quickchart {\n",
              "      --bg-color: #E8F0FE;\n",
              "      --fill-color: #1967D2;\n",
              "      --hover-bg-color: #E2EBFA;\n",
              "      --hover-fill-color: #174EA6;\n",
              "      --disabled-fill-color: #AAA;\n",
              "      --disabled-bg-color: #DDD;\n",
              "  }\n",
              "\n",
              "  [theme=dark] .colab-df-quickchart {\n",
              "      --bg-color: #3B4455;\n",
              "      --fill-color: #D2E3FC;\n",
              "      --hover-bg-color: #434B5C;\n",
              "      --hover-fill-color: #FFFFFF;\n",
              "      --disabled-bg-color: #3B4455;\n",
              "      --disabled-fill-color: #666;\n",
              "  }\n",
              "\n",
              "  .colab-df-quickchart {\n",
              "    background-color: var(--bg-color);\n",
              "    border: none;\n",
              "    border-radius: 50%;\n",
              "    cursor: pointer;\n",
              "    display: none;\n",
              "    fill: var(--fill-color);\n",
              "    height: 32px;\n",
              "    padding: 0;\n",
              "    width: 32px;\n",
              "  }\n",
              "\n",
              "  .colab-df-quickchart:hover {\n",
              "    background-color: var(--hover-bg-color);\n",
              "    box-shadow: 0 1px 2px rgba(60, 64, 67, 0.3), 0 1px 3px 1px rgba(60, 64, 67, 0.15);\n",
              "    fill: var(--button-hover-fill-color);\n",
              "  }\n",
              "\n",
              "  .colab-df-quickchart-complete:disabled,\n",
              "  .colab-df-quickchart-complete:disabled:hover {\n",
              "    background-color: var(--disabled-bg-color);\n",
              "    fill: var(--disabled-fill-color);\n",
              "    box-shadow: none;\n",
              "  }\n",
              "\n",
              "  .colab-df-spinner {\n",
              "    border: 2px solid var(--fill-color);\n",
              "    border-color: transparent;\n",
              "    border-bottom-color: var(--fill-color);\n",
              "    animation:\n",
              "      spin 1s steps(1) infinite;\n",
              "  }\n",
              "\n",
              "  @keyframes spin {\n",
              "    0% {\n",
              "      border-color: transparent;\n",
              "      border-bottom-color: var(--fill-color);\n",
              "      border-left-color: var(--fill-color);\n",
              "    }\n",
              "    20% {\n",
              "      border-color: transparent;\n",
              "      border-left-color: var(--fill-color);\n",
              "      border-top-color: var(--fill-color);\n",
              "    }\n",
              "    30% {\n",
              "      border-color: transparent;\n",
              "      border-left-color: var(--fill-color);\n",
              "      border-top-color: var(--fill-color);\n",
              "      border-right-color: var(--fill-color);\n",
              "    }\n",
              "    40% {\n",
              "      border-color: transparent;\n",
              "      border-right-color: var(--fill-color);\n",
              "      border-top-color: var(--fill-color);\n",
              "    }\n",
              "    60% {\n",
              "      border-color: transparent;\n",
              "      border-right-color: var(--fill-color);\n",
              "    }\n",
              "    80% {\n",
              "      border-color: transparent;\n",
              "      border-right-color: var(--fill-color);\n",
              "      border-bottom-color: var(--fill-color);\n",
              "    }\n",
              "    90% {\n",
              "      border-color: transparent;\n",
              "      border-bottom-color: var(--fill-color);\n",
              "    }\n",
              "  }\n",
              "</style>\n",
              "\n",
              "  <script>\n",
              "    async function quickchart(key) {\n",
              "      const quickchartButtonEl =\n",
              "        document.querySelector('#' + key + ' button');\n",
              "      quickchartButtonEl.disabled = true;  // To prevent multiple clicks.\n",
              "      quickchartButtonEl.classList.add('colab-df-spinner');\n",
              "      try {\n",
              "        const charts = await google.colab.kernel.invokeFunction(\n",
              "            'suggestCharts', [key], {});\n",
              "      } catch (error) {\n",
              "        console.error('Error during call to suggestCharts:', error);\n",
              "      }\n",
              "      quickchartButtonEl.classList.remove('colab-df-spinner');\n",
              "      quickchartButtonEl.classList.add('colab-df-quickchart-complete');\n",
              "    }\n",
              "    (() => {\n",
              "      let quickchartButtonEl =\n",
              "        document.querySelector('#df-a769bd0e-f808-437c-b4c6-3afb300925b6 button');\n",
              "      quickchartButtonEl.style.display =\n",
              "        google.colab.kernel.accessAllowed ? 'block' : 'none';\n",
              "    })();\n",
              "  </script>\n",
              "</div>\n",
              "\n",
              "  <div id=\"id_ead06a20-2bce-43ec-be88-f7b1264b3c05\">\n",
              "    <style>\n",
              "      .colab-df-generate {\n",
              "        background-color: #E8F0FE;\n",
              "        border: none;\n",
              "        border-radius: 50%;\n",
              "        cursor: pointer;\n",
              "        display: none;\n",
              "        fill: #1967D2;\n",
              "        height: 32px;\n",
              "        padding: 0 0 0 0;\n",
              "        width: 32px;\n",
              "      }\n",
              "\n",
              "      .colab-df-generate:hover {\n",
              "        background-color: #E2EBFA;\n",
              "        box-shadow: 0px 1px 2px rgba(60, 64, 67, 0.3), 0px 1px 3px 1px rgba(60, 64, 67, 0.15);\n",
              "        fill: #174EA6;\n",
              "      }\n",
              "\n",
              "      [theme=dark] .colab-df-generate {\n",
              "        background-color: #3B4455;\n",
              "        fill: #D2E3FC;\n",
              "      }\n",
              "\n",
              "      [theme=dark] .colab-df-generate:hover {\n",
              "        background-color: #434B5C;\n",
              "        box-shadow: 0px 1px 3px 1px rgba(0, 0, 0, 0.15);\n",
              "        filter: drop-shadow(0px 1px 2px rgba(0, 0, 0, 0.3));\n",
              "        fill: #FFFFFF;\n",
              "      }\n",
              "    </style>\n",
              "    <button class=\"colab-df-generate\" onclick=\"generateWithVariable('result_df')\"\n",
              "            title=\"Generate code using this dataframe.\"\n",
              "            style=\"display:none;\">\n",
              "\n",
              "  <svg xmlns=\"http://www.w3.org/2000/svg\" height=\"24px\"viewBox=\"0 0 24 24\"\n",
              "       width=\"24px\">\n",
              "    <path d=\"M7,19H8.4L18.45,9,17,7.55,7,17.6ZM5,21V16.75L18.45,3.32a2,2,0,0,1,2.83,0l1.4,1.43a1.91,1.91,0,0,1,.58,1.4,1.91,1.91,0,0,1-.58,1.4L9.25,21ZM18.45,9,17,7.55Zm-12,3A5.31,5.31,0,0,0,4.9,8.1,5.31,5.31,0,0,0,1,6.5,5.31,5.31,0,0,0,4.9,4.9,5.31,5.31,0,0,0,6.5,1,5.31,5.31,0,0,0,8.1,4.9,5.31,5.31,0,0,0,12,6.5,5.46,5.46,0,0,0,6.5,12Z\"/>\n",
              "  </svg>\n",
              "    </button>\n",
              "    <script>\n",
              "      (() => {\n",
              "      const buttonEl =\n",
              "        document.querySelector('#id_ead06a20-2bce-43ec-be88-f7b1264b3c05 button.colab-df-generate');\n",
              "      buttonEl.style.display =\n",
              "        google.colab.kernel.accessAllowed ? 'block' : 'none';\n",
              "\n",
              "      buttonEl.onclick = () => {\n",
              "        google.colab.notebook.generateWithVariable('result_df');\n",
              "      }\n",
              "      })();\n",
              "    </script>\n",
              "  </div>\n",
              "\n",
              "    </div>\n",
              "  </div>\n"
            ],
            "application/vnd.google.colaboratory.intrinsic+json": {
              "type": "dataframe",
              "variable_name": "result_df",
              "summary": "{\n  \"name\": \"result_df\",\n  \"rows\": 2,\n  \"fields\": [\n    {\n      \"column\": \"Features\",\n      \"properties\": {\n        \"dtype\": \"string\",\n        \"num_unique_values\": 2,\n        \"samples\": [\n          \"melspectrogram_chroma_mfcc\",\n          \"all_features\"\n        ],\n        \"semantic_type\": \"\",\n        \"description\": \"\"\n      }\n    },\n    {\n      \"column\": \"Train_Accuracy\",\n      \"properties\": {\n        \"dtype\": \"number\",\n        \"std\": 0.0021213203435596446,\n        \"min\": 0.997,\n        \"max\": 1.0,\n        \"num_unique_values\": 2,\n        \"samples\": [\n          1.0,\n          0.997\n        ],\n        \"semantic_type\": \"\",\n        \"description\": \"\"\n      }\n    },\n    {\n      \"column\": \"Val_Accuracy\",\n      \"properties\": {\n        \"dtype\": \"number\",\n        \"std\": 0.0021213203435596446,\n        \"min\": 0.507,\n        \"max\": 0.51,\n        \"num_unique_values\": 2,\n        \"samples\": [\n          0.51,\n          0.507\n        ],\n        \"semantic_type\": \"\",\n        \"description\": \"\"\n      }\n    }\n  ]\n}"
            }
          },
          "metadata": {},
          "execution_count": 53
        }
      ],
      "source": [
        "train_results_df = pd.DataFrame(list(train_results.items()), columns=['Features', 'Train_Accuracy']).round(3)\n",
        "val_results_df = pd.DataFrame(list(val_results.items()), columns=['Features', 'Val_Accuracy']).round(3)\n",
        "\n",
        "result_df = train_results_df.merge(val_results_df, on='Features')\n",
        "result_df = result_df.sort_values('Features')\n",
        "result_df"
      ]
    }
  ],
  "metadata": {
    "colab": {
      "provenance": [],
      "machine_shape": "hm",
      "gpuType": "T4"
    },
    "kernelspec": {
      "display_name": "Python 3",
      "name": "python3"
    },
    "language_info": {
      "codemirror_mode": {
        "name": "ipython",
        "version": 3
      },
      "file_extension": ".py",
      "mimetype": "text/x-python",
      "name": "python",
      "nbconvert_exporter": "python",
      "pygments_lexer": "ipython3",
      "version": "3.12.4"
    },
    "accelerator": "GPU"
  },
  "nbformat": 4,
  "nbformat_minor": 0
}