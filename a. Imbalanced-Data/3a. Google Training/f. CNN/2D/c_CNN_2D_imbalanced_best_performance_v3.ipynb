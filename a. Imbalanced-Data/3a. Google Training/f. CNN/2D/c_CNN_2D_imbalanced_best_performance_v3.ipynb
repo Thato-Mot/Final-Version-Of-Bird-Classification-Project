{
  "cells": [
    {
      "cell_type": "markdown",
      "metadata": {
        "id": "SW2EXQ68TURI"
      },
      "source": [
        "# **CNN**\n",
        "- Using data that was not annotated\n",
        "- Training it on the unbalanced data\n",
        "- Using avgpool\n",
        "- 6 second window"
      ]
    },
    {
      "cell_type": "code",
      "execution_count": 3,
      "metadata": {
        "colab": {
          "base_uri": "https://localhost:8080/"
        },
        "id": "_U9mNYFfTVUj",
        "outputId": "847ff3f1-c960-40ba-832e-c0e486a27903"
      },
      "outputs": [
        {
          "output_type": "stream",
          "name": "stdout",
          "text": [
            "Mounted at /content/drive\n"
          ]
        }
      ],
      "source": [
        "from google.colab import drive\n",
        "drive.mount('/content/drive')"
      ]
    },
    {
      "cell_type": "code",
      "execution_count": 4,
      "metadata": {
        "colab": {
          "base_uri": "https://localhost:8080/"
        },
        "id": "unH9EltATURK",
        "outputId": "5de37380-4f80-4f11-d3d2-98e75bd31020"
      },
      "outputs": [
        {
          "output_type": "stream",
          "name": "stdout",
          "text": [
            "pygame 2.6.1 (SDL 2.28.4, Python 3.10.12)\n",
            "Hello from the pygame community. https://www.pygame.org/contribute.html\n"
          ]
        }
      ],
      "source": [
        "# Standard libraries\n",
        "import numpy as np\n",
        "import pandas as pd\n",
        "import time\n",
        "import os\n",
        "\n",
        "# For audio\n",
        "from IPython.display import Audio\n",
        "import librosa\n",
        "\n",
        "# For preprocessing\n",
        "from sklearn.preprocessing import LabelEncoder\n",
        "from sklearn.preprocessing import MinMaxScaler\n",
        "from sklearn.preprocessing import OneHotEncoder\n",
        "import tensorflow as tf\n",
        "\n",
        "# For modeling\n",
        "from sklearn.preprocessing import StandardScaler\n",
        "from sklearn.metrics import accuracy_score\n",
        "from sklearn.metrics import classification_report\n",
        "from tensorflow.keras.callbacks import EarlyStopping, ModelCheckpoint\n",
        "\n",
        "# Operational\n",
        "from tqdm import tqdm\n",
        "import matplotlib.pyplot as plt\n",
        "import seaborn as sns\n",
        "import pickle\n",
        "import scipy.ndimage\n",
        "import pygame\n",
        "import time\n",
        "from scipy.signal import butter, filtfilt\n",
        "import random"
      ]
    },
    {
      "cell_type": "code",
      "execution_count": 54,
      "metadata": {
        "id": "mlqgV3cmTURL"
      },
      "outputs": [],
      "source": [
        "pkl_path = '/content/drive/My Drive/Final-Year-Project/Dataset/Project-V4/feature-extraction/Annotated/NotAveragePooled/split_features_6s_all.pkl'\n",
        "\n",
        "# Load the pickle file\n",
        "with open(pkl_path, 'rb') as file:\n",
        "    data = pickle.load(file)"
      ]
    },
    {
      "cell_type": "code",
      "execution_count": 55,
      "metadata": {
        "id": "8p6TQhwwTURL"
      },
      "outputs": [],
      "source": [
        "train_data = data['train'].copy()\n",
        "val_data = data['val'].copy()"
      ]
    },
    {
      "cell_type": "code",
      "execution_count": 56,
      "metadata": {
        "id": "qb7f1dNtTURM"
      },
      "outputs": [],
      "source": [
        "# train_data]"
      ]
    },
    {
      "cell_type": "code",
      "execution_count": 57,
      "metadata": {
        "id": "EKxvpIm6TURM"
      },
      "outputs": [],
      "source": [
        "train_labels = train_data['label'].copy()\n",
        "temp = train_data.copy()\n",
        "del temp['label']\n",
        "tr_features = temp"
      ]
    },
    {
      "cell_type": "code",
      "execution_count": 58,
      "metadata": {
        "id": "nE7j0mUyTURM"
      },
      "outputs": [],
      "source": [
        "val_labels = val_data['label'].copy()\n",
        "temp = val_data.copy()\n",
        "del temp['label']\n",
        "v_features = temp"
      ]
    },
    {
      "cell_type": "markdown",
      "metadata": {
        "id": "t1t9jjgRTURM"
      },
      "source": [
        "# Shuffle Data"
      ]
    },
    {
      "cell_type": "code",
      "execution_count": 59,
      "metadata": {
        "id": "ziN0DkZ0TURN"
      },
      "outputs": [],
      "source": [
        "def shuffle_data(input_label, input_features):\n",
        "  input_len = len(input_label)\n",
        "  np.random.seed(1826)\n",
        "  input_indices = np.random.permutation(input_len)\n",
        "  input_features = {key: np.array([input_features[key][i] for i in input_indices]) for key in input_features} # dictionary comprehension\n",
        "  input_label = np.array([input_label[i] for i in input_indices])\n",
        "\n",
        "  return input_label, input_features"
      ]
    },
    {
      "cell_type": "code",
      "execution_count": 60,
      "metadata": {
        "id": "nJipBvImTURN"
      },
      "outputs": [],
      "source": [
        "train_y, train_features = shuffle_data(train_labels, tr_features)"
      ]
    },
    {
      "cell_type": "code",
      "execution_count": 61,
      "metadata": {
        "id": "GSujj_rjTURN"
      },
      "outputs": [],
      "source": [
        "val_y, val_features = shuffle_data(val_labels, v_features)"
      ]
    },
    {
      "cell_type": "code",
      "execution_count": 62,
      "metadata": {
        "id": "LmSwiOgMTURN"
      },
      "outputs": [],
      "source": [
        "# display(train_y.shape)\n",
        "# display(train_y[:15])"
      ]
    },
    {
      "cell_type": "code",
      "execution_count": 63,
      "metadata": {
        "id": "mqnk3KrrTURO"
      },
      "outputs": [],
      "source": [
        "# for key in train_features.keys():\n",
        "#   display(key)\n",
        "#   display(train_features[key].shape)\n",
        "#   display(train_features[key][0])"
      ]
    },
    {
      "cell_type": "code",
      "execution_count": 64,
      "metadata": {
        "id": "--DBo6dJTURO"
      },
      "outputs": [],
      "source": [
        "# display(val_y.shape)\n",
        "# display(val_y[:15])"
      ]
    },
    {
      "cell_type": "code",
      "execution_count": 65,
      "metadata": {
        "id": "-9PplE74TURO"
      },
      "outputs": [],
      "source": [
        "# for key in val_features.keys():\n",
        "#   display(key)\n",
        "#   display(val_features[key].shape)\n",
        "#   display(val_features[key][0])"
      ]
    },
    {
      "cell_type": "markdown",
      "metadata": {
        "id": "xJinfXlETURO"
      },
      "source": [
        "## **CNN Model**"
      ]
    },
    {
      "cell_type": "code",
      "execution_count": 96,
      "metadata": {
        "id": "4vB4WqK0C3z6"
      },
      "outputs": [],
      "source": [
        "def build_model(audio_features,\n",
        "                learning_rate=0.00002):\n",
        "\n",
        "  tf.keras.backend.clear_session()\n",
        "\n",
        "  # set audio features input layer\n",
        "  inputs = tf.keras.layers.Input(shape=(audio_features.shape[1],audio_features.shape[2],audio_features.shape[3]), name='Audio_Features')\n",
        "\n",
        "  # add first convolution layer to the model\n",
        "  features = tf.keras.layers.Conv2D(\n",
        "              filters=64,\n",
        "              kernel_size=(5,5),\n",
        "              strides=(1,1),\n",
        "              padding='same',\n",
        "              data_format='channels_last',\n",
        "              name='conv_1',\n",
        "              activation='relu',\n",
        "              kernel_regularizer=tf.keras.regularizers.l2(0.15))(inputs)\n",
        "\n",
        "  # add first max pooling layer\n",
        "  features = tf.keras.layers.BatchNormalization()(features)\n",
        "  features = tf.keras.layers.MaxPool2D(pool_size=(2,2), name='pool_1')(features)\n",
        "  # add second convolution layer to the model\n",
        "  features = tf.keras.layers.Conv2D(\n",
        "              filters=32,\n",
        "              kernel_size=(5,5),\n",
        "              strides=(1,1),\n",
        "              padding='same',\n",
        "              name='conv_2',\n",
        "              activation='relu',\n",
        "              kernel_regularizer=tf.keras.regularizers.l2(0.15))(features)\n",
        "  features = tf.keras.layers.BatchNormalization()(features)\n",
        "  # add third max pooling layer\n",
        "  features = tf.keras.layers.MaxPool2D(pool_size=(2,2), name='pool_2')(features)\n",
        "\n",
        "  features = tf.keras.layers.Conv2D(\n",
        "              filters=16,\n",
        "              kernel_size=(5,5),\n",
        "              strides=(1,1),\n",
        "              padding='same',\n",
        "              name='conv_3',\n",
        "              activation='relu',\n",
        "              kernel_regularizer=tf.keras.regularizers.l2(0.15))(features)\n",
        "  features = tf.keras.layers.BatchNormalization()(features)\n",
        "  # add second max pooling layer\n",
        "  features = tf.keras.layers.MaxPool2D(pool_size=(2,2), name='pool_3')(features)\n",
        "\n",
        "\n",
        "\n",
        "  # add a fully connected layer (need to flatten the output of the previous layers first)\n",
        "  features = tf.keras.layers.Flatten()(features)\n",
        "\n",
        "  features = tf.keras.layers.Dense(\n",
        "      units=512,\n",
        "      name='fc_1',\n",
        "      activation='relu')(features)\n",
        "\n",
        "  # add dropout layer\n",
        "  features = tf.keras.layers.Dropout(rate=0.5)(features)\n",
        "\n",
        "  # add the last fully connected layer\n",
        "  # this last layer sets the activation function to \"None\" in order to output the logits\n",
        "  # note that passing activation = \"softmax\" will return class memembership probabilities but\n",
        "  # in TensorFlow logits are prefered for numerical stability\n",
        "  # set units=3 to get a 3 output unit (remember it's 3 species)\n",
        "  outputs = tf.keras.layers.Dense(\n",
        "      units=20,\n",
        "      name='fc_2',\n",
        "      activation=None)(features)\n",
        "\n",
        "  # build model and print summary\n",
        "  model = tf.keras.Model(inputs=[inputs],\n",
        "                          outputs=outputs,\n",
        "                          name='Birds')\n",
        "\n",
        "  print(model.summary())\n",
        "\n",
        "  # compile model\n",
        "  model.compile(optimizer=tf.keras.optimizers.Adam(learning_rate=learning_rate),\n",
        "              loss=tf.keras.losses.SparseCategoricalCrossentropy(from_logits=True), #set from_logits=True because our last layer does not apply softmax\n",
        "              metrics=['accuracy'],\n",
        "              weighted_metrics=['accuracy'])\n",
        "\n",
        "  return model"
      ]
    },
    {
      "cell_type": "code",
      "execution_count": 97,
      "metadata": {
        "id": "kca4GAXuC3z6"
      },
      "outputs": [],
      "source": [
        "def visualize(model_history):\n",
        "    fig, axes = plt.subplots(nrows=1, ncols=2, figsize=(15, 5))\n",
        "\n",
        "    # Visualize the loss\n",
        "    axes[0].plot(model_history.history['loss'], color='red', label='Training Loss')\n",
        "    axes[0].plot(model_history.history['val_loss'], color='blue', label='Validation Loss')\n",
        "    axes[0].set_xlabel('Epoch', fontsize=12)\n",
        "    axes[0].set_ylabel('Loss', fontsize=12)\n",
        "    axes[0].set_title('Loss Progression', fontsize=14)\n",
        "    axes[0].grid(True)\n",
        "    axes[0].legend()\n",
        "\n",
        "    # Visualize the accuracy\n",
        "    axes[1].plot(model_history.history['accuracy'], color='green', label='Training Accuracy')\n",
        "    axes[1].plot(model_history.history['val_accuracy'], color='orange', label='Validation Accuracy')\n",
        "    axes[1].set_xlabel('Epoch', fontsize=12)\n",
        "    axes[1].set_ylabel('Accuracy', fontsize=12)\n",
        "    axes[1].set_title('Accuracy Progression', fontsize=14)\n",
        "    axes[1].grid(True)\n",
        "    axes[1].legend()\n",
        "\n",
        "    # Fine-tune layout and display the plots\n",
        "    plt.tight_layout()\n",
        "    plt.show()"
      ]
    },
    {
      "cell_type": "code",
      "execution_count": 98,
      "metadata": {
        "id": "bKS_rAt2TURO"
      },
      "outputs": [],
      "source": [
        "train_results = {}\n",
        "val_results = {}"
      ]
    },
    {
      "cell_type": "markdown",
      "metadata": {
        "id": "9swCKhF1TURO"
      },
      "source": [
        "### **With all the features**"
      ]
    },
    {
      "cell_type": "code",
      "execution_count": 99,
      "metadata": {
        "colab": {
          "base_uri": "https://localhost:8080/"
        },
        "id": "0Un3qBBzTURP",
        "outputId": "98400091-0f9c-4b5b-cf9a-1d98ab4ef5f3"
      },
      "outputs": [
        {
          "output_type": "stream",
          "name": "stdout",
          "text": [
            "(3954, 60, 259, 4)\n"
          ]
        }
      ],
      "source": [
        "n_time = train_features['melspectrogram'].shape[2]\n",
        "\n",
        "mfcc_tiled = np.tile(train_features['mfcc'], (1, 3, 1))  # (3318, 60, 44), tiling 3 times to match 60 features\n",
        "chroma_tiled = np.tile(train_features['chroma'], (1, 5, 1))  # (3318, 60, 44), tiling 5 times to match 60 features\n",
        "rms_tiled = np.tile(train_features['rms'], (1, 60, 1))  # (3318, 60, 44), tiling 60 times to match 60 features\n",
        "\n",
        "training_features = np.stack((train_features['melspectrogram'], mfcc_tiled, chroma_tiled, rms_tiled), axis=-1)\n",
        "\n",
        "print(training_features.shape)"
      ]
    },
    {
      "cell_type": "code",
      "execution_count": 100,
      "metadata": {
        "colab": {
          "base_uri": "https://localhost:8080/"
        },
        "id": "SpD-3zGdTURP",
        "outputId": "fd4e3ccd-8121-4ded-df8c-9343a69763c5"
      },
      "outputs": [
        {
          "output_type": "stream",
          "name": "stdout",
          "text": [
            "(985, 60, 259, 4)\n"
          ]
        }
      ],
      "source": [
        "mfcc_val_tiled = np.tile(val_features['mfcc'], (1, 3, 1))  # Tile to (n_samples_val, 60, 44)\n",
        "chroma_val_tiled = np.tile(val_features['chroma'], (1, 5, 1))  # Tile to (n_samples_val, 60, 44)\n",
        "rms_val_tiled = np.tile(val_features['rms'], (1, 60, 1))  # Tile to (n_samples_val, 60, 44)\n",
        "\n",
        "melspectrogram_val = val_features['melspectrogram']\n",
        "\n",
        "validation_features = np.stack((melspectrogram_val, mfcc_val_tiled, chroma_val_tiled, rms_val_tiled), axis=-1)\n",
        "\n",
        "print(validation_features.shape)"
      ]
    },
    {
      "cell_type": "markdown",
      "metadata": {
        "id": "zOqA2fVuTURP"
      },
      "source": [
        "Fit the model with training data"
      ]
    },
    {
      "cell_type": "code",
      "execution_count": 101,
      "metadata": {
        "colab": {
          "base_uri": "https://localhost:8080/",
          "height": 1000
        },
        "id": "2A-4xHCETURP",
        "outputId": "abbb1c6a-9aa0-4563-affe-250ed1fca0ec"
      },
      "outputs": [
        {
          "output_type": "display_data",
          "data": {
            "text/plain": [
              "\u001b[1mModel: \"Birds\"\u001b[0m\n"
            ],
            "text/html": [
              "<pre style=\"white-space:pre;overflow-x:auto;line-height:normal;font-family:Menlo,'DejaVu Sans Mono',consolas,'Courier New',monospace\"><span style=\"font-weight: bold\">Model: \"Birds\"</span>\n",
              "</pre>\n"
            ]
          },
          "metadata": {}
        },
        {
          "output_type": "display_data",
          "data": {
            "text/plain": [
              "┏━━━━━━━━━━━━━━━━━━━━━━━━━━━━━━━━━━━━━━┳━━━━━━━━━━━━━━━━━━━━━━━━━━━━━┳━━━━━━━━━━━━━━━━━┓\n",
              "┃\u001b[1m \u001b[0m\u001b[1mLayer (type)                        \u001b[0m\u001b[1m \u001b[0m┃\u001b[1m \u001b[0m\u001b[1mOutput Shape               \u001b[0m\u001b[1m \u001b[0m┃\u001b[1m \u001b[0m\u001b[1m        Param #\u001b[0m\u001b[1m \u001b[0m┃\n",
              "┡━━━━━━━━━━━━━━━━━━━━━━━━━━━━━━━━━━━━━━╇━━━━━━━━━━━━━━━━━━━━━━━━━━━━━╇━━━━━━━━━━━━━━━━━┩\n",
              "│ Audio_Features (\u001b[38;5;33mInputLayer\u001b[0m)          │ (\u001b[38;5;45mNone\u001b[0m, \u001b[38;5;34m60\u001b[0m, \u001b[38;5;34m259\u001b[0m, \u001b[38;5;34m4\u001b[0m)          │               \u001b[38;5;34m0\u001b[0m │\n",
              "├──────────────────────────────────────┼─────────────────────────────┼─────────────────┤\n",
              "│ conv_1 (\u001b[38;5;33mConv2D\u001b[0m)                      │ (\u001b[38;5;45mNone\u001b[0m, \u001b[38;5;34m60\u001b[0m, \u001b[38;5;34m259\u001b[0m, \u001b[38;5;34m64\u001b[0m)         │           \u001b[38;5;34m6,464\u001b[0m │\n",
              "├──────────────────────────────────────┼─────────────────────────────┼─────────────────┤\n",
              "│ batch_normalization                  │ (\u001b[38;5;45mNone\u001b[0m, \u001b[38;5;34m60\u001b[0m, \u001b[38;5;34m259\u001b[0m, \u001b[38;5;34m64\u001b[0m)         │             \u001b[38;5;34m256\u001b[0m │\n",
              "│ (\u001b[38;5;33mBatchNormalization\u001b[0m)                 │                             │                 │\n",
              "├──────────────────────────────────────┼─────────────────────────────┼─────────────────┤\n",
              "│ pool_1 (\u001b[38;5;33mMaxPooling2D\u001b[0m)                │ (\u001b[38;5;45mNone\u001b[0m, \u001b[38;5;34m30\u001b[0m, \u001b[38;5;34m129\u001b[0m, \u001b[38;5;34m64\u001b[0m)         │               \u001b[38;5;34m0\u001b[0m │\n",
              "├──────────────────────────────────────┼─────────────────────────────┼─────────────────┤\n",
              "│ conv_2 (\u001b[38;5;33mConv2D\u001b[0m)                      │ (\u001b[38;5;45mNone\u001b[0m, \u001b[38;5;34m30\u001b[0m, \u001b[38;5;34m129\u001b[0m, \u001b[38;5;34m32\u001b[0m)         │          \u001b[38;5;34m51,232\u001b[0m │\n",
              "├──────────────────────────────────────┼─────────────────────────────┼─────────────────┤\n",
              "│ batch_normalization_1                │ (\u001b[38;5;45mNone\u001b[0m, \u001b[38;5;34m30\u001b[0m, \u001b[38;5;34m129\u001b[0m, \u001b[38;5;34m32\u001b[0m)         │             \u001b[38;5;34m128\u001b[0m │\n",
              "│ (\u001b[38;5;33mBatchNormalization\u001b[0m)                 │                             │                 │\n",
              "├──────────────────────────────────────┼─────────────────────────────┼─────────────────┤\n",
              "│ pool_2 (\u001b[38;5;33mMaxPooling2D\u001b[0m)                │ (\u001b[38;5;45mNone\u001b[0m, \u001b[38;5;34m15\u001b[0m, \u001b[38;5;34m64\u001b[0m, \u001b[38;5;34m32\u001b[0m)          │               \u001b[38;5;34m0\u001b[0m │\n",
              "├──────────────────────────────────────┼─────────────────────────────┼─────────────────┤\n",
              "│ conv_3 (\u001b[38;5;33mConv2D\u001b[0m)                      │ (\u001b[38;5;45mNone\u001b[0m, \u001b[38;5;34m15\u001b[0m, \u001b[38;5;34m64\u001b[0m, \u001b[38;5;34m16\u001b[0m)          │          \u001b[38;5;34m12,816\u001b[0m │\n",
              "├──────────────────────────────────────┼─────────────────────────────┼─────────────────┤\n",
              "│ batch_normalization_2                │ (\u001b[38;5;45mNone\u001b[0m, \u001b[38;5;34m15\u001b[0m, \u001b[38;5;34m64\u001b[0m, \u001b[38;5;34m16\u001b[0m)          │              \u001b[38;5;34m64\u001b[0m │\n",
              "│ (\u001b[38;5;33mBatchNormalization\u001b[0m)                 │                             │                 │\n",
              "├──────────────────────────────────────┼─────────────────────────────┼─────────────────┤\n",
              "│ pool_3 (\u001b[38;5;33mMaxPooling2D\u001b[0m)                │ (\u001b[38;5;45mNone\u001b[0m, \u001b[38;5;34m7\u001b[0m, \u001b[38;5;34m32\u001b[0m, \u001b[38;5;34m16\u001b[0m)           │               \u001b[38;5;34m0\u001b[0m │\n",
              "├──────────────────────────────────────┼─────────────────────────────┼─────────────────┤\n",
              "│ flatten (\u001b[38;5;33mFlatten\u001b[0m)                    │ (\u001b[38;5;45mNone\u001b[0m, \u001b[38;5;34m3584\u001b[0m)                │               \u001b[38;5;34m0\u001b[0m │\n",
              "├──────────────────────────────────────┼─────────────────────────────┼─────────────────┤\n",
              "│ fc_1 (\u001b[38;5;33mDense\u001b[0m)                         │ (\u001b[38;5;45mNone\u001b[0m, \u001b[38;5;34m512\u001b[0m)                 │       \u001b[38;5;34m1,835,520\u001b[0m │\n",
              "├──────────────────────────────────────┼─────────────────────────────┼─────────────────┤\n",
              "│ dropout (\u001b[38;5;33mDropout\u001b[0m)                    │ (\u001b[38;5;45mNone\u001b[0m, \u001b[38;5;34m512\u001b[0m)                 │               \u001b[38;5;34m0\u001b[0m │\n",
              "├──────────────────────────────────────┼─────────────────────────────┼─────────────────┤\n",
              "│ fc_2 (\u001b[38;5;33mDense\u001b[0m)                         │ (\u001b[38;5;45mNone\u001b[0m, \u001b[38;5;34m20\u001b[0m)                  │          \u001b[38;5;34m10,260\u001b[0m │\n",
              "└──────────────────────────────────────┴─────────────────────────────┴─────────────────┘\n"
            ],
            "text/html": [
              "<pre style=\"white-space:pre;overflow-x:auto;line-height:normal;font-family:Menlo,'DejaVu Sans Mono',consolas,'Courier New',monospace\">┏━━━━━━━━━━━━━━━━━━━━━━━━━━━━━━━━━━━━━━┳━━━━━━━━━━━━━━━━━━━━━━━━━━━━━┳━━━━━━━━━━━━━━━━━┓\n",
              "┃<span style=\"font-weight: bold\"> Layer (type)                         </span>┃<span style=\"font-weight: bold\"> Output Shape                </span>┃<span style=\"font-weight: bold\">         Param # </span>┃\n",
              "┡━━━━━━━━━━━━━━━━━━━━━━━━━━━━━━━━━━━━━━╇━━━━━━━━━━━━━━━━━━━━━━━━━━━━━╇━━━━━━━━━━━━━━━━━┩\n",
              "│ Audio_Features (<span style=\"color: #0087ff; text-decoration-color: #0087ff\">InputLayer</span>)          │ (<span style=\"color: #00d7ff; text-decoration-color: #00d7ff\">None</span>, <span style=\"color: #00af00; text-decoration-color: #00af00\">60</span>, <span style=\"color: #00af00; text-decoration-color: #00af00\">259</span>, <span style=\"color: #00af00; text-decoration-color: #00af00\">4</span>)          │               <span style=\"color: #00af00; text-decoration-color: #00af00\">0</span> │\n",
              "├──────────────────────────────────────┼─────────────────────────────┼─────────────────┤\n",
              "│ conv_1 (<span style=\"color: #0087ff; text-decoration-color: #0087ff\">Conv2D</span>)                      │ (<span style=\"color: #00d7ff; text-decoration-color: #00d7ff\">None</span>, <span style=\"color: #00af00; text-decoration-color: #00af00\">60</span>, <span style=\"color: #00af00; text-decoration-color: #00af00\">259</span>, <span style=\"color: #00af00; text-decoration-color: #00af00\">64</span>)         │           <span style=\"color: #00af00; text-decoration-color: #00af00\">6,464</span> │\n",
              "├──────────────────────────────────────┼─────────────────────────────┼─────────────────┤\n",
              "│ batch_normalization                  │ (<span style=\"color: #00d7ff; text-decoration-color: #00d7ff\">None</span>, <span style=\"color: #00af00; text-decoration-color: #00af00\">60</span>, <span style=\"color: #00af00; text-decoration-color: #00af00\">259</span>, <span style=\"color: #00af00; text-decoration-color: #00af00\">64</span>)         │             <span style=\"color: #00af00; text-decoration-color: #00af00\">256</span> │\n",
              "│ (<span style=\"color: #0087ff; text-decoration-color: #0087ff\">BatchNormalization</span>)                 │                             │                 │\n",
              "├──────────────────────────────────────┼─────────────────────────────┼─────────────────┤\n",
              "│ pool_1 (<span style=\"color: #0087ff; text-decoration-color: #0087ff\">MaxPooling2D</span>)                │ (<span style=\"color: #00d7ff; text-decoration-color: #00d7ff\">None</span>, <span style=\"color: #00af00; text-decoration-color: #00af00\">30</span>, <span style=\"color: #00af00; text-decoration-color: #00af00\">129</span>, <span style=\"color: #00af00; text-decoration-color: #00af00\">64</span>)         │               <span style=\"color: #00af00; text-decoration-color: #00af00\">0</span> │\n",
              "├──────────────────────────────────────┼─────────────────────────────┼─────────────────┤\n",
              "│ conv_2 (<span style=\"color: #0087ff; text-decoration-color: #0087ff\">Conv2D</span>)                      │ (<span style=\"color: #00d7ff; text-decoration-color: #00d7ff\">None</span>, <span style=\"color: #00af00; text-decoration-color: #00af00\">30</span>, <span style=\"color: #00af00; text-decoration-color: #00af00\">129</span>, <span style=\"color: #00af00; text-decoration-color: #00af00\">32</span>)         │          <span style=\"color: #00af00; text-decoration-color: #00af00\">51,232</span> │\n",
              "├──────────────────────────────────────┼─────────────────────────────┼─────────────────┤\n",
              "│ batch_normalization_1                │ (<span style=\"color: #00d7ff; text-decoration-color: #00d7ff\">None</span>, <span style=\"color: #00af00; text-decoration-color: #00af00\">30</span>, <span style=\"color: #00af00; text-decoration-color: #00af00\">129</span>, <span style=\"color: #00af00; text-decoration-color: #00af00\">32</span>)         │             <span style=\"color: #00af00; text-decoration-color: #00af00\">128</span> │\n",
              "│ (<span style=\"color: #0087ff; text-decoration-color: #0087ff\">BatchNormalization</span>)                 │                             │                 │\n",
              "├──────────────────────────────────────┼─────────────────────────────┼─────────────────┤\n",
              "│ pool_2 (<span style=\"color: #0087ff; text-decoration-color: #0087ff\">MaxPooling2D</span>)                │ (<span style=\"color: #00d7ff; text-decoration-color: #00d7ff\">None</span>, <span style=\"color: #00af00; text-decoration-color: #00af00\">15</span>, <span style=\"color: #00af00; text-decoration-color: #00af00\">64</span>, <span style=\"color: #00af00; text-decoration-color: #00af00\">32</span>)          │               <span style=\"color: #00af00; text-decoration-color: #00af00\">0</span> │\n",
              "├──────────────────────────────────────┼─────────────────────────────┼─────────────────┤\n",
              "│ conv_3 (<span style=\"color: #0087ff; text-decoration-color: #0087ff\">Conv2D</span>)                      │ (<span style=\"color: #00d7ff; text-decoration-color: #00d7ff\">None</span>, <span style=\"color: #00af00; text-decoration-color: #00af00\">15</span>, <span style=\"color: #00af00; text-decoration-color: #00af00\">64</span>, <span style=\"color: #00af00; text-decoration-color: #00af00\">16</span>)          │          <span style=\"color: #00af00; text-decoration-color: #00af00\">12,816</span> │\n",
              "├──────────────────────────────────────┼─────────────────────────────┼─────────────────┤\n",
              "│ batch_normalization_2                │ (<span style=\"color: #00d7ff; text-decoration-color: #00d7ff\">None</span>, <span style=\"color: #00af00; text-decoration-color: #00af00\">15</span>, <span style=\"color: #00af00; text-decoration-color: #00af00\">64</span>, <span style=\"color: #00af00; text-decoration-color: #00af00\">16</span>)          │              <span style=\"color: #00af00; text-decoration-color: #00af00\">64</span> │\n",
              "│ (<span style=\"color: #0087ff; text-decoration-color: #0087ff\">BatchNormalization</span>)                 │                             │                 │\n",
              "├──────────────────────────────────────┼─────────────────────────────┼─────────────────┤\n",
              "│ pool_3 (<span style=\"color: #0087ff; text-decoration-color: #0087ff\">MaxPooling2D</span>)                │ (<span style=\"color: #00d7ff; text-decoration-color: #00d7ff\">None</span>, <span style=\"color: #00af00; text-decoration-color: #00af00\">7</span>, <span style=\"color: #00af00; text-decoration-color: #00af00\">32</span>, <span style=\"color: #00af00; text-decoration-color: #00af00\">16</span>)           │               <span style=\"color: #00af00; text-decoration-color: #00af00\">0</span> │\n",
              "├──────────────────────────────────────┼─────────────────────────────┼─────────────────┤\n",
              "│ flatten (<span style=\"color: #0087ff; text-decoration-color: #0087ff\">Flatten</span>)                    │ (<span style=\"color: #00d7ff; text-decoration-color: #00d7ff\">None</span>, <span style=\"color: #00af00; text-decoration-color: #00af00\">3584</span>)                │               <span style=\"color: #00af00; text-decoration-color: #00af00\">0</span> │\n",
              "├──────────────────────────────────────┼─────────────────────────────┼─────────────────┤\n",
              "│ fc_1 (<span style=\"color: #0087ff; text-decoration-color: #0087ff\">Dense</span>)                         │ (<span style=\"color: #00d7ff; text-decoration-color: #00d7ff\">None</span>, <span style=\"color: #00af00; text-decoration-color: #00af00\">512</span>)                 │       <span style=\"color: #00af00; text-decoration-color: #00af00\">1,835,520</span> │\n",
              "├──────────────────────────────────────┼─────────────────────────────┼─────────────────┤\n",
              "│ dropout (<span style=\"color: #0087ff; text-decoration-color: #0087ff\">Dropout</span>)                    │ (<span style=\"color: #00d7ff; text-decoration-color: #00d7ff\">None</span>, <span style=\"color: #00af00; text-decoration-color: #00af00\">512</span>)                 │               <span style=\"color: #00af00; text-decoration-color: #00af00\">0</span> │\n",
              "├──────────────────────────────────────┼─────────────────────────────┼─────────────────┤\n",
              "│ fc_2 (<span style=\"color: #0087ff; text-decoration-color: #0087ff\">Dense</span>)                         │ (<span style=\"color: #00d7ff; text-decoration-color: #00d7ff\">None</span>, <span style=\"color: #00af00; text-decoration-color: #00af00\">20</span>)                  │          <span style=\"color: #00af00; text-decoration-color: #00af00\">10,260</span> │\n",
              "└──────────────────────────────────────┴─────────────────────────────┴─────────────────┘\n",
              "</pre>\n"
            ]
          },
          "metadata": {}
        },
        {
          "output_type": "display_data",
          "data": {
            "text/plain": [
              "\u001b[1m Total params: \u001b[0m\u001b[38;5;34m1,916,740\u001b[0m (7.31 MB)\n"
            ],
            "text/html": [
              "<pre style=\"white-space:pre;overflow-x:auto;line-height:normal;font-family:Menlo,'DejaVu Sans Mono',consolas,'Courier New',monospace\"><span style=\"font-weight: bold\"> Total params: </span><span style=\"color: #00af00; text-decoration-color: #00af00\">1,916,740</span> (7.31 MB)\n",
              "</pre>\n"
            ]
          },
          "metadata": {}
        },
        {
          "output_type": "display_data",
          "data": {
            "text/plain": [
              "\u001b[1m Trainable params: \u001b[0m\u001b[38;5;34m1,916,516\u001b[0m (7.31 MB)\n"
            ],
            "text/html": [
              "<pre style=\"white-space:pre;overflow-x:auto;line-height:normal;font-family:Menlo,'DejaVu Sans Mono',consolas,'Courier New',monospace\"><span style=\"font-weight: bold\"> Trainable params: </span><span style=\"color: #00af00; text-decoration-color: #00af00\">1,916,516</span> (7.31 MB)\n",
              "</pre>\n"
            ]
          },
          "metadata": {}
        },
        {
          "output_type": "display_data",
          "data": {
            "text/plain": [
              "\u001b[1m Non-trainable params: \u001b[0m\u001b[38;5;34m224\u001b[0m (896.00 B)\n"
            ],
            "text/html": [
              "<pre style=\"white-space:pre;overflow-x:auto;line-height:normal;font-family:Menlo,'DejaVu Sans Mono',consolas,'Courier New',monospace\"><span style=\"font-weight: bold\"> Non-trainable params: </span><span style=\"color: #00af00; text-decoration-color: #00af00\">224</span> (896.00 B)\n",
              "</pre>\n"
            ]
          },
          "metadata": {}
        },
        {
          "output_type": "stream",
          "name": "stdout",
          "text": [
            "None\n",
            "Epoch 1/100\n",
            "\u001b[1m124/124\u001b[0m \u001b[32m━━━━━━━━━━━━━━━━━━━━\u001b[0m\u001b[37m\u001b[0m \u001b[1m17s\u001b[0m 96ms/step - accuracy: 0.1053 - loss: 14.7551 - weighted_accuracy: 0.1053 - val_accuracy: 0.0487 - val_loss: 14.1296 - val_weighted_accuracy: 0.0487\n",
            "Epoch 2/100\n",
            "\u001b[1m124/124\u001b[0m \u001b[32m━━━━━━━━━━━━━━━━━━━━\u001b[0m\u001b[37m\u001b[0m \u001b[1m4s\u001b[0m 29ms/step - accuracy: 0.3015 - loss: 12.8304 - weighted_accuracy: 0.3015 - val_accuracy: 0.0538 - val_loss: 14.3706 - val_weighted_accuracy: 0.0538\n",
            "Epoch 3/100\n",
            "\u001b[1m124/124\u001b[0m \u001b[32m━━━━━━━━━━━━━━━━━━━━\u001b[0m\u001b[37m\u001b[0m \u001b[1m4s\u001b[0m 29ms/step - accuracy: 0.3985 - loss: 12.2188 - weighted_accuracy: 0.3985 - val_accuracy: 0.1178 - val_loss: 13.7554 - val_weighted_accuracy: 0.1178\n",
            "Epoch 4/100\n",
            "\u001b[1m124/124\u001b[0m \u001b[32m━━━━━━━━━━━━━━━━━━━━\u001b[0m\u001b[37m\u001b[0m \u001b[1m4s\u001b[0m 29ms/step - accuracy: 0.4571 - loss: 11.7798 - weighted_accuracy: 0.4571 - val_accuracy: 0.2305 - val_loss: 12.4536 - val_weighted_accuracy: 0.2305\n",
            "Epoch 5/100\n",
            "\u001b[1m124/124\u001b[0m \u001b[32m━━━━━━━━━━━━━━━━━━━━\u001b[0m\u001b[37m\u001b[0m \u001b[1m4s\u001b[0m 29ms/step - accuracy: 0.5259 - loss: 11.3724 - weighted_accuracy: 0.5259 - val_accuracy: 0.4731 - val_loss: 11.4511 - val_weighted_accuracy: 0.4731\n",
            "Epoch 6/100\n",
            "\u001b[1m124/124\u001b[0m \u001b[32m━━━━━━━━━━━━━━━━━━━━\u001b[0m\u001b[37m\u001b[0m \u001b[1m4s\u001b[0m 29ms/step - accuracy: 0.5688 - loss: 10.9546 - weighted_accuracy: 0.5688 - val_accuracy: 0.5411 - val_loss: 10.9013 - val_weighted_accuracy: 0.5411\n",
            "Epoch 7/100\n",
            "\u001b[1m124/124\u001b[0m \u001b[32m━━━━━━━━━━━━━━━━━━━━\u001b[0m\u001b[37m\u001b[0m \u001b[1m4s\u001b[0m 29ms/step - accuracy: 0.5968 - loss: 10.6139 - weighted_accuracy: 0.5968 - val_accuracy: 0.5797 - val_loss: 10.5556 - val_weighted_accuracy: 0.5797\n",
            "Epoch 8/100\n",
            "\u001b[1m124/124\u001b[0m \u001b[32m━━━━━━━━━━━━━━━━━━━━\u001b[0m\u001b[37m\u001b[0m \u001b[1m4s\u001b[0m 29ms/step - accuracy: 0.6417 - loss: 10.2542 - weighted_accuracy: 0.6417 - val_accuracy: 0.6051 - val_loss: 10.2111 - val_weighted_accuracy: 0.6051\n",
            "Epoch 9/100\n",
            "\u001b[1m124/124\u001b[0m \u001b[32m━━━━━━━━━━━━━━━━━━━━\u001b[0m\u001b[37m\u001b[0m \u001b[1m4s\u001b[0m 29ms/step - accuracy: 0.6790 - loss: 9.9101 - weighted_accuracy: 0.6790 - val_accuracy: 0.6132 - val_loss: 9.9455 - val_weighted_accuracy: 0.6132\n",
            "Epoch 10/100\n",
            "\u001b[1m124/124\u001b[0m \u001b[32m━━━━━━━━━━━━━━━━━━━━\u001b[0m\u001b[37m\u001b[0m \u001b[1m4s\u001b[0m 29ms/step - accuracy: 0.7006 - loss: 9.6063 - weighted_accuracy: 0.7006 - val_accuracy: 0.6406 - val_loss: 9.6628 - val_weighted_accuracy: 0.6406\n",
            "Epoch 11/100\n",
            "\u001b[1m124/124\u001b[0m \u001b[32m━━━━━━━━━━━━━━━━━━━━\u001b[0m\u001b[37m\u001b[0m \u001b[1m4s\u001b[0m 29ms/step - accuracy: 0.7351 - loss: 9.2680 - weighted_accuracy: 0.7351 - val_accuracy: 0.6406 - val_loss: 9.4072 - val_weighted_accuracy: 0.6406\n",
            "Epoch 12/100\n",
            "\u001b[1m124/124\u001b[0m \u001b[32m━━━━━━━━━━━━━━━━━━━━\u001b[0m\u001b[37m\u001b[0m \u001b[1m4s\u001b[0m 29ms/step - accuracy: 0.7416 - loss: 8.9925 - weighted_accuracy: 0.7416 - val_accuracy: 0.6518 - val_loss: 9.1495 - val_weighted_accuracy: 0.6518\n",
            "Epoch 13/100\n",
            "\u001b[1m124/124\u001b[0m \u001b[32m━━━━━━━━━━━━━━━━━━━━\u001b[0m\u001b[37m\u001b[0m \u001b[1m4s\u001b[0m 29ms/step - accuracy: 0.7791 - loss: 8.6954 - weighted_accuracy: 0.7791 - val_accuracy: 0.6487 - val_loss: 8.9377 - val_weighted_accuracy: 0.6487\n",
            "Epoch 14/100\n",
            "\u001b[1m124/124\u001b[0m \u001b[32m━━━━━━━━━━━━━━━━━━━━\u001b[0m\u001b[37m\u001b[0m \u001b[1m4s\u001b[0m 29ms/step - accuracy: 0.7964 - loss: 8.4277 - weighted_accuracy: 0.7964 - val_accuracy: 0.6406 - val_loss: 8.7644 - val_weighted_accuracy: 0.6406\n",
            "Epoch 15/100\n",
            "\u001b[1m124/124\u001b[0m \u001b[32m━━━━━━━━━━━━━━━━━━━━\u001b[0m\u001b[37m\u001b[0m \u001b[1m4s\u001b[0m 29ms/step - accuracy: 0.7859 - loss: 8.2219 - weighted_accuracy: 0.7859 - val_accuracy: 0.6680 - val_loss: 8.4734 - val_weighted_accuracy: 0.6680\n",
            "Epoch 16/100\n",
            "\u001b[1m124/124\u001b[0m \u001b[32m━━━━━━━━━━━━━━━━━━━━\u001b[0m\u001b[37m\u001b[0m \u001b[1m4s\u001b[0m 29ms/step - accuracy: 0.8192 - loss: 7.9368 - weighted_accuracy: 0.8192 - val_accuracy: 0.6386 - val_loss: 8.3082 - val_weighted_accuracy: 0.6386\n",
            "Epoch 17/100\n",
            "\u001b[1m124/124\u001b[0m \u001b[32m━━━━━━━━━━━━━━━━━━━━\u001b[0m\u001b[37m\u001b[0m \u001b[1m4s\u001b[0m 29ms/step - accuracy: 0.8313 - loss: 7.6861 - weighted_accuracy: 0.8313 - val_accuracy: 0.6569 - val_loss: 8.0949 - val_weighted_accuracy: 0.6569\n",
            "Epoch 18/100\n",
            "\u001b[1m124/124\u001b[0m \u001b[32m━━━━━━━━━━━━━━━━━━━━\u001b[0m\u001b[37m\u001b[0m \u001b[1m4s\u001b[0m 29ms/step - accuracy: 0.8473 - loss: 7.4816 - weighted_accuracy: 0.8473 - val_accuracy: 0.6599 - val_loss: 7.8747 - val_weighted_accuracy: 0.6599\n",
            "Epoch 19/100\n",
            "\u001b[1m124/124\u001b[0m \u001b[32m━━━━━━━━━━━━━━━━━━━━\u001b[0m\u001b[37m\u001b[0m \u001b[1m4s\u001b[0m 29ms/step - accuracy: 0.8641 - loss: 7.2363 - weighted_accuracy: 0.8641 - val_accuracy: 0.6650 - val_loss: 7.7276 - val_weighted_accuracy: 0.6650\n",
            "Epoch 20/100\n",
            "\u001b[1m124/124\u001b[0m \u001b[32m━━━━━━━━━━━━━━━━━━━━\u001b[0m\u001b[37m\u001b[0m \u001b[1m4s\u001b[0m 29ms/step - accuracy: 0.8760 - loss: 7.0213 - weighted_accuracy: 0.8760 - val_accuracy: 0.6711 - val_loss: 7.5214 - val_weighted_accuracy: 0.6711\n",
            "Epoch 21/100\n",
            "\u001b[1m124/124\u001b[0m \u001b[32m━━━━━━━━━━━━━━━━━━━━\u001b[0m\u001b[37m\u001b[0m \u001b[1m4s\u001b[0m 29ms/step - accuracy: 0.8845 - loss: 6.8053 - weighted_accuracy: 0.8845 - val_accuracy: 0.6599 - val_loss: 7.3504 - val_weighted_accuracy: 0.6599\n",
            "Epoch 22/100\n",
            "\u001b[1m124/124\u001b[0m \u001b[32m━━━━━━━━━━━━━━━━━━━━\u001b[0m\u001b[37m\u001b[0m \u001b[1m4s\u001b[0m 29ms/step - accuracy: 0.8895 - loss: 6.6329 - weighted_accuracy: 0.8895 - val_accuracy: 0.6843 - val_loss: 7.1653 - val_weighted_accuracy: 0.6843\n",
            "Epoch 23/100\n",
            "\u001b[1m124/124\u001b[0m \u001b[32m━━━━━━━━━━━━━━━━━━━━\u001b[0m\u001b[37m\u001b[0m \u001b[1m4s\u001b[0m 29ms/step - accuracy: 0.9019 - loss: 6.4231 - weighted_accuracy: 0.9019 - val_accuracy: 0.6843 - val_loss: 7.0136 - val_weighted_accuracy: 0.6843\n",
            "Epoch 24/100\n",
            "\u001b[1m124/124\u001b[0m \u001b[32m━━━━━━━━━━━━━━━━━━━━\u001b[0m\u001b[37m\u001b[0m \u001b[1m4s\u001b[0m 29ms/step - accuracy: 0.8971 - loss: 6.2690 - weighted_accuracy: 0.8971 - val_accuracy: 0.6711 - val_loss: 6.8657 - val_weighted_accuracy: 0.6711\n",
            "Epoch 25/100\n",
            "\u001b[1m124/124\u001b[0m \u001b[32m━━━━━━━━━━━━━━━━━━━━\u001b[0m\u001b[37m\u001b[0m \u001b[1m4s\u001b[0m 29ms/step - accuracy: 0.9238 - loss: 6.0762 - weighted_accuracy: 0.9238 - val_accuracy: 0.6914 - val_loss: 6.6738 - val_weighted_accuracy: 0.6914\n",
            "Epoch 26/100\n",
            "\u001b[1m124/124\u001b[0m \u001b[32m━━━━━━━━━━━━━━━━━━━━\u001b[0m\u001b[37m\u001b[0m \u001b[1m4s\u001b[0m 29ms/step - accuracy: 0.9277 - loss: 5.8901 - weighted_accuracy: 0.9277 - val_accuracy: 0.6934 - val_loss: 6.5317 - val_weighted_accuracy: 0.6934\n",
            "Epoch 27/100\n",
            "\u001b[1m124/124\u001b[0m \u001b[32m━━━━━━━━━━━━━━━━━━━━\u001b[0m\u001b[37m\u001b[0m \u001b[1m4s\u001b[0m 30ms/step - accuracy: 0.9359 - loss: 5.7299 - weighted_accuracy: 0.9359 - val_accuracy: 0.6802 - val_loss: 6.3968 - val_weighted_accuracy: 0.6802\n",
            "Epoch 28/100\n",
            "\u001b[1m124/124\u001b[0m \u001b[32m━━━━━━━━━━━━━━━━━━━━\u001b[0m\u001b[37m\u001b[0m \u001b[1m4s\u001b[0m 29ms/step - accuracy: 0.9417 - loss: 5.5676 - weighted_accuracy: 0.9417 - val_accuracy: 0.6893 - val_loss: 6.2877 - val_weighted_accuracy: 0.6893\n",
            "Epoch 29/100\n",
            "\u001b[1m124/124\u001b[0m \u001b[32m━━━━━━━━━━━━━━━━━━━━\u001b[0m\u001b[37m\u001b[0m \u001b[1m4s\u001b[0m 29ms/step - accuracy: 0.9495 - loss: 5.4091 - weighted_accuracy: 0.9495 - val_accuracy: 0.6995 - val_loss: 6.1252 - val_weighted_accuracy: 0.6995\n",
            "Epoch 30/100\n",
            "\u001b[1m124/124\u001b[0m \u001b[32m━━━━━━━━━━━━━━━━━━━━\u001b[0m\u001b[37m\u001b[0m \u001b[1m4s\u001b[0m 29ms/step - accuracy: 0.9460 - loss: 5.2763 - weighted_accuracy: 0.9460 - val_accuracy: 0.6934 - val_loss: 6.0429 - val_weighted_accuracy: 0.6934\n",
            "Epoch 31/100\n",
            "\u001b[1m124/124\u001b[0m \u001b[32m━━━━━━━━━━━━━━━━━━━━\u001b[0m\u001b[37m\u001b[0m \u001b[1m4s\u001b[0m 30ms/step - accuracy: 0.9490 - loss: 5.1308 - weighted_accuracy: 0.9490 - val_accuracy: 0.6914 - val_loss: 5.9032 - val_weighted_accuracy: 0.6914\n",
            "Epoch 32/100\n",
            "\u001b[1m124/124\u001b[0m \u001b[32m━━━━━━━━━━━━━━━━━━━━\u001b[0m\u001b[37m\u001b[0m \u001b[1m4s\u001b[0m 29ms/step - accuracy: 0.9545 - loss: 4.9902 - weighted_accuracy: 0.9545 - val_accuracy: 0.7005 - val_loss: 5.7457 - val_weighted_accuracy: 0.7005\n",
            "Epoch 33/100\n",
            "\u001b[1m124/124\u001b[0m \u001b[32m━━━━━━━━━━━━━━━━━━━━\u001b[0m\u001b[37m\u001b[0m \u001b[1m4s\u001b[0m 29ms/step - accuracy: 0.9663 - loss: 4.8387 - weighted_accuracy: 0.9663 - val_accuracy: 0.6995 - val_loss: 5.6067 - val_weighted_accuracy: 0.6995\n",
            "Epoch 34/100\n",
            "\u001b[1m124/124\u001b[0m \u001b[32m━━━━━━━━━━━━━━━━━━━━\u001b[0m\u001b[37m\u001b[0m \u001b[1m4s\u001b[0m 29ms/step - accuracy: 0.9689 - loss: 4.7061 - weighted_accuracy: 0.9689 - val_accuracy: 0.6863 - val_loss: 5.5400 - val_weighted_accuracy: 0.6863\n",
            "Epoch 35/100\n",
            "\u001b[1m124/124\u001b[0m \u001b[32m━━━━━━━━━━━━━━━━━━━━\u001b[0m\u001b[37m\u001b[0m \u001b[1m4s\u001b[0m 30ms/step - accuracy: 0.9670 - loss: 4.5848 - weighted_accuracy: 0.9670 - val_accuracy: 0.6914 - val_loss: 5.4329 - val_weighted_accuracy: 0.6914\n",
            "Epoch 36/100\n",
            "\u001b[1m124/124\u001b[0m \u001b[32m━━━━━━━━━━━━━━━━━━━━\u001b[0m\u001b[37m\u001b[0m \u001b[1m4s\u001b[0m 29ms/step - accuracy: 0.9732 - loss: 4.4554 - weighted_accuracy: 0.9732 - val_accuracy: 0.6975 - val_loss: 5.2817 - val_weighted_accuracy: 0.6975\n",
            "Epoch 37/100\n",
            "\u001b[1m124/124\u001b[0m \u001b[32m━━━━━━━━━━━━━━━━━━━━\u001b[0m\u001b[37m\u001b[0m \u001b[1m4s\u001b[0m 29ms/step - accuracy: 0.9755 - loss: 4.3382 - weighted_accuracy: 0.9755 - val_accuracy: 0.7036 - val_loss: 5.1868 - val_weighted_accuracy: 0.7036\n",
            "Epoch 38/100\n",
            "\u001b[1m124/124\u001b[0m \u001b[32m━━━━━━━━━━━━━━━━━━━━\u001b[0m\u001b[37m\u001b[0m \u001b[1m4s\u001b[0m 30ms/step - accuracy: 0.9759 - loss: 4.2211 - weighted_accuracy: 0.9759 - val_accuracy: 0.6792 - val_loss: 5.1571 - val_weighted_accuracy: 0.6792\n",
            "Epoch 39/100\n",
            "\u001b[1m124/124\u001b[0m \u001b[32m━━━━━━━━━━━━━━━━━━━━\u001b[0m\u001b[37m\u001b[0m \u001b[1m4s\u001b[0m 30ms/step - accuracy: 0.9808 - loss: 4.1097 - weighted_accuracy: 0.9808 - val_accuracy: 0.6853 - val_loss: 4.9778 - val_weighted_accuracy: 0.6853\n",
            "Epoch 40/100\n",
            "\u001b[1m124/124\u001b[0m \u001b[32m━━━━━━━━━━━━━━━━━━━━\u001b[0m\u001b[37m\u001b[0m \u001b[1m4s\u001b[0m 30ms/step - accuracy: 0.9829 - loss: 3.9895 - weighted_accuracy: 0.9829 - val_accuracy: 0.6914 - val_loss: 4.9170 - val_weighted_accuracy: 0.6914\n",
            "Epoch 41/100\n",
            "\u001b[1m124/124\u001b[0m \u001b[32m━━━━━━━━━━━━━━━━━━━━\u001b[0m\u001b[37m\u001b[0m \u001b[1m4s\u001b[0m 30ms/step - accuracy: 0.9826 - loss: 3.8909 - weighted_accuracy: 0.9826 - val_accuracy: 0.6893 - val_loss: 4.8290 - val_weighted_accuracy: 0.6893\n",
            "Epoch 42/100\n",
            "\u001b[1m124/124\u001b[0m \u001b[32m━━━━━━━━━━━━━━━━━━━━\u001b[0m\u001b[37m\u001b[0m \u001b[1m4s\u001b[0m 30ms/step - accuracy: 0.9834 - loss: 3.7828 - weighted_accuracy: 0.9834 - val_accuracy: 0.7086 - val_loss: 4.6516 - val_weighted_accuracy: 0.7086\n",
            "Epoch 43/100\n",
            "\u001b[1m124/124\u001b[0m \u001b[32m━━━━━━━━━━━━━━━━━━━━\u001b[0m\u001b[37m\u001b[0m \u001b[1m4s\u001b[0m 30ms/step - accuracy: 0.9865 - loss: 3.6710 - weighted_accuracy: 0.9865 - val_accuracy: 0.7025 - val_loss: 4.5706 - val_weighted_accuracy: 0.7025\n",
            "Epoch 44/100\n",
            "\u001b[1m124/124\u001b[0m \u001b[32m━━━━━━━━━━━━━━━━━━━━\u001b[0m\u001b[37m\u001b[0m \u001b[1m4s\u001b[0m 30ms/step - accuracy: 0.9875 - loss: 3.5696 - weighted_accuracy: 0.9875 - val_accuracy: 0.7005 - val_loss: 4.5275 - val_weighted_accuracy: 0.7005\n",
            "Epoch 45/100\n",
            "\u001b[1m124/124\u001b[0m \u001b[32m━━━━━━━━━━━━━━━━━━━━\u001b[0m\u001b[37m\u001b[0m \u001b[1m4s\u001b[0m 29ms/step - accuracy: 0.9867 - loss: 3.4754 - weighted_accuracy: 0.9867 - val_accuracy: 0.7015 - val_loss: 4.4178 - val_weighted_accuracy: 0.7015\n",
            "Epoch 46/100\n",
            "\u001b[1m124/124\u001b[0m \u001b[32m━━━━━━━━━━━━━━━━━━━━\u001b[0m\u001b[37m\u001b[0m \u001b[1m4s\u001b[0m 29ms/step - accuracy: 0.9941 - loss: 3.3662 - weighted_accuracy: 0.9941 - val_accuracy: 0.6904 - val_loss: 4.3483 - val_weighted_accuracy: 0.6904\n",
            "Epoch 47/100\n",
            "\u001b[1m124/124\u001b[0m \u001b[32m━━━━━━━━━━━━━━━━━━━━\u001b[0m\u001b[37m\u001b[0m \u001b[1m4s\u001b[0m 30ms/step - accuracy: 0.9899 - loss: 3.2765 - weighted_accuracy: 0.9899 - val_accuracy: 0.6863 - val_loss: 4.2276 - val_weighted_accuracy: 0.6863\n",
            "Epoch 48/100\n",
            "\u001b[1m124/124\u001b[0m \u001b[32m━━━━━━━━━━━━━━━━━━━━\u001b[0m\u001b[37m\u001b[0m \u001b[1m4s\u001b[0m 30ms/step - accuracy: 0.9881 - loss: 3.1920 - weighted_accuracy: 0.9881 - val_accuracy: 0.6934 - val_loss: 4.1344 - val_weighted_accuracy: 0.6934\n",
            "Epoch 49/100\n",
            "\u001b[1m124/124\u001b[0m \u001b[32m━━━━━━━━━━━━━━━━━━━━\u001b[0m\u001b[37m\u001b[0m \u001b[1m4s\u001b[0m 30ms/step - accuracy: 0.9881 - loss: 3.1029 - weighted_accuracy: 0.9881 - val_accuracy: 0.7005 - val_loss: 4.0696 - val_weighted_accuracy: 0.7005\n",
            "Epoch 50/100\n",
            "\u001b[1m124/124\u001b[0m \u001b[32m━━━━━━━━━━━━━━━━━━━━\u001b[0m\u001b[37m\u001b[0m \u001b[1m4s\u001b[0m 30ms/step - accuracy: 0.9901 - loss: 3.0138 - weighted_accuracy: 0.9901 - val_accuracy: 0.6944 - val_loss: 3.9714 - val_weighted_accuracy: 0.6944\n",
            "Epoch 51/100\n",
            "\u001b[1m124/124\u001b[0m \u001b[32m━━━━━━━━━━━━━━━━━━━━\u001b[0m\u001b[37m\u001b[0m \u001b[1m4s\u001b[0m 30ms/step - accuracy: 0.9944 - loss: 2.9186 - weighted_accuracy: 0.9944 - val_accuracy: 0.7107 - val_loss: 3.9021 - val_weighted_accuracy: 0.7107\n",
            "Epoch 52/100\n",
            "\u001b[1m124/124\u001b[0m \u001b[32m━━━━━━━━━━━━━━━━━━━━\u001b[0m\u001b[37m\u001b[0m \u001b[1m4s\u001b[0m 30ms/step - accuracy: 0.9960 - loss: 2.8364 - weighted_accuracy: 0.9960 - val_accuracy: 0.7005 - val_loss: 3.8361 - val_weighted_accuracy: 0.7005\n",
            "Epoch 53/100\n",
            "\u001b[1m124/124\u001b[0m \u001b[32m━━━━━━━━━━━━━━━━━━━━\u001b[0m\u001b[37m\u001b[0m \u001b[1m4s\u001b[0m 30ms/step - accuracy: 0.9899 - loss: 2.7631 - weighted_accuracy: 0.9899 - val_accuracy: 0.7015 - val_loss: 3.7418 - val_weighted_accuracy: 0.7015\n",
            "Epoch 54/100\n",
            "\u001b[1m124/124\u001b[0m \u001b[32m━━━━━━━━━━━━━━━━━━━━\u001b[0m\u001b[37m\u001b[0m \u001b[1m4s\u001b[0m 30ms/step - accuracy: 0.9915 - loss: 2.6812 - weighted_accuracy: 0.9915 - val_accuracy: 0.7025 - val_loss: 3.6912 - val_weighted_accuracy: 0.7025\n",
            "Epoch 55/100\n",
            "\u001b[1m124/124\u001b[0m \u001b[32m━━━━━━━━━━━━━━━━━━━━\u001b[0m\u001b[37m\u001b[0m \u001b[1m4s\u001b[0m 30ms/step - accuracy: 0.9901 - loss: 2.6084 - weighted_accuracy: 0.9901 - val_accuracy: 0.7015 - val_loss: 3.6302 - val_weighted_accuracy: 0.7015\n",
            "Epoch 56/100\n",
            "\u001b[1m124/124\u001b[0m \u001b[32m━━━━━━━━━━━━━━━━━━━━\u001b[0m\u001b[37m\u001b[0m \u001b[1m4s\u001b[0m 30ms/step - accuracy: 0.9959 - loss: 2.5217 - weighted_accuracy: 0.9959 - val_accuracy: 0.7147 - val_loss: 3.5023 - val_weighted_accuracy: 0.7147\n",
            "Epoch 57/100\n",
            "\u001b[1m124/124\u001b[0m \u001b[32m━━━━━━━━━━━━━━━━━━━━\u001b[0m\u001b[37m\u001b[0m \u001b[1m4s\u001b[0m 30ms/step - accuracy: 0.9932 - loss: 2.4527 - weighted_accuracy: 0.9932 - val_accuracy: 0.7056 - val_loss: 3.4513 - val_weighted_accuracy: 0.7056\n",
            "Epoch 58/100\n",
            "\u001b[1m124/124\u001b[0m \u001b[32m━━━━━━━━━━━━━━━━━━━━\u001b[0m\u001b[37m\u001b[0m \u001b[1m4s\u001b[0m 30ms/step - accuracy: 0.9942 - loss: 2.3828 - weighted_accuracy: 0.9942 - val_accuracy: 0.6883 - val_loss: 3.5048 - val_weighted_accuracy: 0.6883\n",
            "Epoch 59/100\n",
            "\u001b[1m124/124\u001b[0m \u001b[32m━━━━━━━━━━━━━━━━━━━━\u001b[0m\u001b[37m\u001b[0m \u001b[1m4s\u001b[0m 30ms/step - accuracy: 0.9910 - loss: 2.3203 - weighted_accuracy: 0.9910 - val_accuracy: 0.6873 - val_loss: 3.4101 - val_weighted_accuracy: 0.6873\n",
            "Epoch 60/100\n",
            "\u001b[1m124/124\u001b[0m \u001b[32m━━━━━━━━━━━━━━━━━━━━\u001b[0m\u001b[37m\u001b[0m \u001b[1m4s\u001b[0m 30ms/step - accuracy: 0.9949 - loss: 2.2508 - weighted_accuracy: 0.9949 - val_accuracy: 0.7107 - val_loss: 3.2449 - val_weighted_accuracy: 0.7107\n",
            "Epoch 61/100\n",
            "\u001b[1m124/124\u001b[0m \u001b[32m━━━━━━━━━━━━━━━━━━━━\u001b[0m\u001b[37m\u001b[0m \u001b[1m4s\u001b[0m 30ms/step - accuracy: 0.9933 - loss: 2.1853 - weighted_accuracy: 0.9933 - val_accuracy: 0.7046 - val_loss: 3.2056 - val_weighted_accuracy: 0.7046\n",
            "Epoch 62/100\n",
            "\u001b[1m124/124\u001b[0m \u001b[32m━━━━━━━━━━━━━━━━━━━━\u001b[0m\u001b[37m\u001b[0m \u001b[1m4s\u001b[0m 30ms/step - accuracy: 0.9956 - loss: 2.1213 - weighted_accuracy: 0.9956 - val_accuracy: 0.7036 - val_loss: 3.1749 - val_weighted_accuracy: 0.7036\n",
            "Epoch 63/100\n",
            "\u001b[1m124/124\u001b[0m \u001b[32m━━━━━━━━━━━━━━━━━━━━\u001b[0m\u001b[37m\u001b[0m \u001b[1m4s\u001b[0m 30ms/step - accuracy: 0.9950 - loss: 2.0621 - weighted_accuracy: 0.9950 - val_accuracy: 0.7147 - val_loss: 3.0587 - val_weighted_accuracy: 0.7147\n",
            "Epoch 64/100\n",
            "\u001b[1m124/124\u001b[0m \u001b[32m━━━━━━━━━━━━━━━━━━━━\u001b[0m\u001b[37m\u001b[0m \u001b[1m4s\u001b[0m 30ms/step - accuracy: 0.9979 - loss: 1.9993 - weighted_accuracy: 0.9979 - val_accuracy: 0.6964 - val_loss: 3.0899 - val_weighted_accuracy: 0.6964\n",
            "Epoch 65/100\n",
            "\u001b[1m124/124\u001b[0m \u001b[32m━━━━━━━━━━━━━━━━━━━━\u001b[0m\u001b[37m\u001b[0m \u001b[1m4s\u001b[0m 30ms/step - accuracy: 0.9966 - loss: 1.9462 - weighted_accuracy: 0.9966 - val_accuracy: 0.7147 - val_loss: 2.9705 - val_weighted_accuracy: 0.7147\n",
            "Epoch 66/100\n",
            "\u001b[1m124/124\u001b[0m \u001b[32m━━━━━━━━━━━━━━━━━━━━\u001b[0m\u001b[37m\u001b[0m \u001b[1m4s\u001b[0m 30ms/step - accuracy: 0.9964 - loss: 1.8892 - weighted_accuracy: 0.9964 - val_accuracy: 0.6954 - val_loss: 3.0064 - val_weighted_accuracy: 0.6954\n",
            "Epoch 67/100\n",
            "\u001b[1m124/124\u001b[0m \u001b[32m━━━━━━━━━━━━━━━━━━━━\u001b[0m\u001b[37m\u001b[0m \u001b[1m4s\u001b[0m 30ms/step - accuracy: 0.9959 - loss: 1.8348 - weighted_accuracy: 0.9959 - val_accuracy: 0.7046 - val_loss: 2.9433 - val_weighted_accuracy: 0.7046\n",
            "Epoch 68/100\n",
            "\u001b[1m124/124\u001b[0m \u001b[32m━━━━━━━━━━━━━━━━━━━━\u001b[0m\u001b[37m\u001b[0m \u001b[1m4s\u001b[0m 30ms/step - accuracy: 0.9990 - loss: 1.7761 - weighted_accuracy: 0.9990 - val_accuracy: 0.7188 - val_loss: 2.9102 - val_weighted_accuracy: 0.7188\n",
            "Epoch 69/100\n",
            "\u001b[1m124/124\u001b[0m \u001b[32m━━━━━━━━━━━━━━━━━━━━\u001b[0m\u001b[37m\u001b[0m \u001b[1m4s\u001b[0m 30ms/step - accuracy: 0.9970 - loss: 1.7293 - weighted_accuracy: 0.9970 - val_accuracy: 0.7076 - val_loss: 2.8350 - val_weighted_accuracy: 0.7076\n",
            "Epoch 70/100\n",
            "\u001b[1m124/124\u001b[0m \u001b[32m━━━━━━━━━━━━━━━━━━━━\u001b[0m\u001b[37m\u001b[0m \u001b[1m4s\u001b[0m 30ms/step - accuracy: 0.9979 - loss: 1.6770 - weighted_accuracy: 0.9979 - val_accuracy: 0.6964 - val_loss: 2.7798 - val_weighted_accuracy: 0.6964\n",
            "Epoch 71/100\n",
            "\u001b[1m124/124\u001b[0m \u001b[32m━━━━━━━━━━━━━━━━━━━━\u001b[0m\u001b[37m\u001b[0m \u001b[1m4s\u001b[0m 30ms/step - accuracy: 0.9975 - loss: 1.6318 - weighted_accuracy: 0.9975 - val_accuracy: 0.7127 - val_loss: 2.7037 - val_weighted_accuracy: 0.7127\n",
            "Epoch 72/100\n",
            "\u001b[1m124/124\u001b[0m \u001b[32m━━━━━━━━━━━━━━━━━━━━\u001b[0m\u001b[37m\u001b[0m \u001b[1m4s\u001b[0m 29ms/step - accuracy: 0.9905 - loss: 1.5928 - weighted_accuracy: 0.9905 - val_accuracy: 0.7096 - val_loss: 2.7174 - val_weighted_accuracy: 0.7096\n",
            "Epoch 73/100\n",
            "\u001b[1m124/124\u001b[0m \u001b[32m━━━━━━━━━━━━━━━━━━━━\u001b[0m\u001b[37m\u001b[0m \u001b[1m4s\u001b[0m 29ms/step - accuracy: 0.9932 - loss: 1.5449 - weighted_accuracy: 0.9932 - val_accuracy: 0.6914 - val_loss: 2.6715 - val_weighted_accuracy: 0.6914\n",
            "Epoch 74/100\n",
            "\u001b[1m124/124\u001b[0m \u001b[32m━━━━━━━━━━━━━━━━━━━━\u001b[0m\u001b[37m\u001b[0m \u001b[1m4s\u001b[0m 29ms/step - accuracy: 0.9966 - loss: 1.5002 - weighted_accuracy: 0.9966 - val_accuracy: 0.6650 - val_loss: 2.7275 - val_weighted_accuracy: 0.6650\n",
            "Epoch 75/100\n",
            "\u001b[1m124/124\u001b[0m \u001b[32m━━━━━━━━━━━━━━━━━━━━\u001b[0m\u001b[37m\u001b[0m \u001b[1m4s\u001b[0m 30ms/step - accuracy: 0.9956 - loss: 1.4604 - weighted_accuracy: 0.9956 - val_accuracy: 0.6995 - val_loss: 2.5300 - val_weighted_accuracy: 0.6995\n",
            "Epoch 76/100\n",
            "\u001b[1m124/124\u001b[0m \u001b[32m━━━━━━━━━━━━━━━━━━━━\u001b[0m\u001b[37m\u001b[0m \u001b[1m4s\u001b[0m 30ms/step - accuracy: 0.9983 - loss: 1.4160 - weighted_accuracy: 0.9983 - val_accuracy: 0.7228 - val_loss: 2.5492 - val_weighted_accuracy: 0.7228\n",
            "Epoch 77/100\n",
            "\u001b[1m124/124\u001b[0m \u001b[32m━━━━━━━━━━━━━━━━━━━━\u001b[0m\u001b[37m\u001b[0m \u001b[1m4s\u001b[0m 30ms/step - accuracy: 0.9981 - loss: 1.3806 - weighted_accuracy: 0.9981 - val_accuracy: 0.7015 - val_loss: 2.4768 - val_weighted_accuracy: 0.7015\n",
            "Epoch 78/100\n",
            "\u001b[1m124/124\u001b[0m \u001b[32m━━━━━━━━━━━━━━━━━━━━\u001b[0m\u001b[37m\u001b[0m \u001b[1m4s\u001b[0m 30ms/step - accuracy: 0.9954 - loss: 1.3459 - weighted_accuracy: 0.9954 - val_accuracy: 0.7228 - val_loss: 2.4399 - val_weighted_accuracy: 0.7228\n",
            "Epoch 79/100\n",
            "\u001b[1m124/124\u001b[0m \u001b[32m━━━━━━━━━━━━━━━━━━━━\u001b[0m\u001b[37m\u001b[0m \u001b[1m4s\u001b[0m 30ms/step - accuracy: 0.9969 - loss: 1.3091 - weighted_accuracy: 0.9969 - val_accuracy: 0.6934 - val_loss: 2.6120 - val_weighted_accuracy: 0.6934\n",
            "Epoch 80/100\n",
            "\u001b[1m124/124\u001b[0m \u001b[32m━━━━━━━━━━━━━━━━━━━━\u001b[0m\u001b[37m\u001b[0m \u001b[1m4s\u001b[0m 30ms/step - accuracy: 0.9949 - loss: 1.2862 - weighted_accuracy: 0.9949 - val_accuracy: 0.7025 - val_loss: 2.3610 - val_weighted_accuracy: 0.7025\n",
            "Epoch 81/100\n",
            "\u001b[1m124/124\u001b[0m \u001b[32m━━━━━━━━━━━━━━━━━━━━\u001b[0m\u001b[37m\u001b[0m \u001b[1m4s\u001b[0m 30ms/step - accuracy: 0.9987 - loss: 1.2387 - weighted_accuracy: 0.9987 - val_accuracy: 0.7086 - val_loss: 2.4111 - val_weighted_accuracy: 0.7086\n",
            "Epoch 82/100\n",
            "\u001b[1m124/124\u001b[0m \u001b[32m━━━━━━━━━━━━━━━━━━━━\u001b[0m\u001b[37m\u001b[0m \u001b[1m4s\u001b[0m 30ms/step - accuracy: 0.9969 - loss: 1.2094 - weighted_accuracy: 0.9969 - val_accuracy: 0.6954 - val_loss: 2.4077 - val_weighted_accuracy: 0.6954\n",
            "Epoch 83/100\n",
            "\u001b[1m124/124\u001b[0m \u001b[32m━━━━━━━━━━━━━━━━━━━━\u001b[0m\u001b[37m\u001b[0m \u001b[1m4s\u001b[0m 30ms/step - accuracy: 0.9983 - loss: 1.1791 - weighted_accuracy: 0.9983 - val_accuracy: 0.7005 - val_loss: 2.3095 - val_weighted_accuracy: 0.7005\n",
            "Epoch 84/100\n",
            "\u001b[1m124/124\u001b[0m \u001b[32m━━━━━━━━━━━━━━━━━━━━\u001b[0m\u001b[37m\u001b[0m \u001b[1m4s\u001b[0m 30ms/step - accuracy: 0.9969 - loss: 1.1497 - weighted_accuracy: 0.9969 - val_accuracy: 0.6944 - val_loss: 2.3815 - val_weighted_accuracy: 0.6944\n",
            "Epoch 85/100\n",
            "\u001b[1m124/124\u001b[0m \u001b[32m━━━━━━━━━━━━━━━━━━━━\u001b[0m\u001b[37m\u001b[0m \u001b[1m4s\u001b[0m 30ms/step - accuracy: 0.9926 - loss: 1.1305 - weighted_accuracy: 0.9926 - val_accuracy: 0.7157 - val_loss: 2.2375 - val_weighted_accuracy: 0.7157\n",
            "Epoch 86/100\n",
            "\u001b[1m124/124\u001b[0m \u001b[32m━━━━━━━━━━━━━━━━━━━━\u001b[0m\u001b[37m\u001b[0m \u001b[1m4s\u001b[0m 30ms/step - accuracy: 0.9959 - loss: 1.0956 - weighted_accuracy: 0.9959 - val_accuracy: 0.7218 - val_loss: 2.2025 - val_weighted_accuracy: 0.7218\n",
            "Epoch 87/100\n",
            "\u001b[1m124/124\u001b[0m \u001b[32m━━━━━━━━━━━━━━━━━━━━\u001b[0m\u001b[37m\u001b[0m \u001b[1m4s\u001b[0m 30ms/step - accuracy: 0.9973 - loss: 1.0658 - weighted_accuracy: 0.9973 - val_accuracy: 0.7096 - val_loss: 2.2172 - val_weighted_accuracy: 0.7096\n",
            "Epoch 88/100\n",
            "\u001b[1m124/124\u001b[0m \u001b[32m━━━━━━━━━━━━━━━━━━━━\u001b[0m\u001b[37m\u001b[0m \u001b[1m4s\u001b[0m 30ms/step - accuracy: 0.9989 - loss: 1.0363 - weighted_accuracy: 0.9989 - val_accuracy: 0.7025 - val_loss: 2.2901 - val_weighted_accuracy: 0.7025\n",
            "Epoch 89/100\n",
            "\u001b[1m124/124\u001b[0m \u001b[32m━━━━━━━━━━━━━━━━━━━━\u001b[0m\u001b[37m\u001b[0m \u001b[1m4s\u001b[0m 30ms/step - accuracy: 0.9986 - loss: 1.0113 - weighted_accuracy: 0.9986 - val_accuracy: 0.7056 - val_loss: 2.2578 - val_weighted_accuracy: 0.7056\n",
            "Epoch 90/100\n",
            "\u001b[1m124/124\u001b[0m \u001b[32m━━━━━━━━━━━━━━━━━━━━\u001b[0m\u001b[37m\u001b[0m \u001b[1m4s\u001b[0m 30ms/step - accuracy: 0.9951 - loss: 1.0006 - weighted_accuracy: 0.9951 - val_accuracy: 0.7157 - val_loss: 2.1234 - val_weighted_accuracy: 0.7157\n",
            "Epoch 91/100\n",
            "\u001b[1m124/124\u001b[0m \u001b[32m━━━━━━━━━━━━━━━━━━━━\u001b[0m\u001b[37m\u001b[0m \u001b[1m4s\u001b[0m 30ms/step - accuracy: 0.9990 - loss: 0.9622 - weighted_accuracy: 0.9990 - val_accuracy: 0.7056 - val_loss: 2.0737 - val_weighted_accuracy: 0.7056\n",
            "Epoch 92/100\n",
            "\u001b[1m124/124\u001b[0m \u001b[32m━━━━━━━━━━━━━━━━━━━━\u001b[0m\u001b[37m\u001b[0m \u001b[1m4s\u001b[0m 30ms/step - accuracy: 0.9967 - loss: 0.9414 - weighted_accuracy: 0.9967 - val_accuracy: 0.7036 - val_loss: 2.0431 - val_weighted_accuracy: 0.7036\n",
            "Epoch 93/100\n",
            "\u001b[1m124/124\u001b[0m \u001b[32m━━━━━━━━━━━━━━━━━━━━\u001b[0m\u001b[37m\u001b[0m \u001b[1m4s\u001b[0m 30ms/step - accuracy: 0.9976 - loss: 0.9186 - weighted_accuracy: 0.9976 - val_accuracy: 0.6995 - val_loss: 2.0318 - val_weighted_accuracy: 0.6995\n",
            "Epoch 94/100\n",
            "\u001b[1m124/124\u001b[0m \u001b[32m━━━━━━━━━━━━━━━━━━━━\u001b[0m\u001b[37m\u001b[0m \u001b[1m4s\u001b[0m 30ms/step - accuracy: 0.9967 - loss: 0.9013 - weighted_accuracy: 0.9967 - val_accuracy: 0.6985 - val_loss: 2.1470 - val_weighted_accuracy: 0.6985\n",
            "Epoch 95/100\n",
            "\u001b[1m124/124\u001b[0m \u001b[32m━━━━━━━━━━━━━━━━━━━━\u001b[0m\u001b[37m\u001b[0m \u001b[1m4s\u001b[0m 30ms/step - accuracy: 0.9936 - loss: 0.8899 - weighted_accuracy: 0.9936 - val_accuracy: 0.6863 - val_loss: 2.0768 - val_weighted_accuracy: 0.6863\n",
            "Epoch 96/100\n",
            "\u001b[1m124/124\u001b[0m \u001b[32m━━━━━━━━━━━━━━━━━━━━\u001b[0m\u001b[37m\u001b[0m \u001b[1m4s\u001b[0m 30ms/step - accuracy: 0.9946 - loss: 0.8671 - weighted_accuracy: 0.9946 - val_accuracy: 0.7320 - val_loss: 2.0135 - val_weighted_accuracy: 0.7320\n",
            "Epoch 97/100\n",
            "\u001b[1m124/124\u001b[0m \u001b[32m━━━━━━━━━━━━━━━━━━━━\u001b[0m\u001b[37m\u001b[0m \u001b[1m4s\u001b[0m 30ms/step - accuracy: 0.9975 - loss: 0.8382 - weighted_accuracy: 0.9975 - val_accuracy: 0.6985 - val_loss: 2.0299 - val_weighted_accuracy: 0.6985\n",
            "Epoch 98/100\n",
            "\u001b[1m124/124\u001b[0m \u001b[32m━━━━━━━━━━━━━━━━━━━━\u001b[0m\u001b[37m\u001b[0m \u001b[1m4s\u001b[0m 30ms/step - accuracy: 0.9963 - loss: 0.8217 - weighted_accuracy: 0.9963 - val_accuracy: 0.6731 - val_loss: 2.2074 - val_weighted_accuracy: 0.6731\n",
            "Epoch 99/100\n",
            "\u001b[1m124/124\u001b[0m \u001b[32m━━━━━━━━━━━━━━━━━━━━\u001b[0m\u001b[37m\u001b[0m \u001b[1m4s\u001b[0m 30ms/step - accuracy: 0.9979 - loss: 0.8019 - weighted_accuracy: 0.9979 - val_accuracy: 0.7036 - val_loss: 2.0187 - val_weighted_accuracy: 0.7036\n",
            "Epoch 100/100\n",
            "\u001b[1m124/124\u001b[0m \u001b[32m━━━━━━━━━━━━━━━━━━━━\u001b[0m\u001b[37m\u001b[0m \u001b[1m4s\u001b[0m 30ms/step - accuracy: 0.9997 - loss: 0.7854 - weighted_accuracy: 0.9997 - val_accuracy: 0.7127 - val_loss: 2.0509 - val_weighted_accuracy: 0.7127\n",
            "best_epoch:  95\n"
          ]
        },
        {
          "output_type": "display_data",
          "data": {
            "text/plain": [
              "<Figure size 1500x500 with 2 Axes>"
            ],
            "image/png": "[encoded data removed]"
          },
          "metadata": {}
        }
      ],
      "source": [
        "model = build_model(training_features)\n",
        "\n",
        "callback = tf.keras.callbacks.EarlyStopping(\n",
        "    monitor=\"val_loss\",\n",
        "    patience=10,\n",
        "    restore_best_weights=True\n",
        ")\n",
        "\n",
        "history = model.fit(\n",
        "    x=training_features,\n",
        "    y=train_y,\n",
        "    epochs=100,\n",
        "    validation_data=(\n",
        "        validation_features,\n",
        "        val_y,\n",
        "    ),\n",
        "    batch_size=32,\n",
        "    verbose=1,\n",
        "    callbacks=[callback]\n",
        ")\n",
        "\n",
        "best_epoch = history.history['val_weighted_accuracy'].index(max(history.history['val_weighted_accuracy']))+1\n",
        "print('best_epoch: ', best_epoch)\n",
        "visualize(history)"
      ]
    },
    {
      "cell_type": "code",
      "execution_count": 102,
      "metadata": {
        "colab": {
          "base_uri": "https://localhost:8080/"
        },
        "id": "qOcHxpkrTURP",
        "outputId": "99d38d48-bed8-40c8-b55a-fce430f638d4"
      },
      "outputs": [
        {
          "output_type": "stream",
          "name": "stdout",
          "text": [
            "\u001b[1m124/124\u001b[0m \u001b[32m━━━━━━━━━━━━━━━━━━━━\u001b[0m\u001b[37m\u001b[0m \u001b[1m2s\u001b[0m 9ms/step\n",
            "\u001b[1m124/124\u001b[0m \u001b[32m━━━━━━━━━━━━━━━━━━━━\u001b[0m\u001b[37m\u001b[0m \u001b[1m2s\u001b[0m 14ms/step - accuracy: 1.0000 - loss: 0.8339 - weighted_accuracy: 1.0000\n",
            "\u001b[1m31/31\u001b[0m \u001b[32m━━━━━━━━━━━━━━━━━━━━\u001b[0m\u001b[37m\u001b[0m \u001b[1m0s\u001b[0m 13ms/step\n",
            "\u001b[1m31/31\u001b[0m \u001b[32m━━━━━━━━━━━━━━━━━━━━\u001b[0m\u001b[37m\u001b[0m \u001b[1m0s\u001b[0m 9ms/step - accuracy: 0.7214 - loss: 2.1312 - weighted_accuracy: 0.7214\n"
          ]
        }
      ],
      "source": [
        "train_yhat = model.predict(training_features)\n",
        "train_yhat_result = np.argmax(train_yhat, axis=-1)\n",
        "train_results['all_features'] = model.evaluate(training_features, train_y)[-1]\n",
        "\n",
        "val_yhat = model.predict(validation_features)\n",
        "val_yhat_result = np.argmax(val_yhat, axis=-1)\n",
        "val_results['all_features'] = model.evaluate(validation_features, val_y)[-1]"
      ]
    },
    {
      "cell_type": "markdown",
      "metadata": {
        "id": "1_8J5UOQTURV"
      },
      "source": [
        "## **With Mel-Spectrogram, MFCCs, Chroma**"
      ]
    },
    {
      "cell_type": "code",
      "execution_count": 103,
      "metadata": {
        "colab": {
          "base_uri": "https://localhost:8080/"
        },
        "id": "3xD3vH9FTURV",
        "outputId": "453ab543-1f68-477d-dc0b-40d9c90e1195"
      },
      "outputs": [
        {
          "output_type": "stream",
          "name": "stdout",
          "text": [
            "(3954, 60, 259, 4)\n"
          ]
        }
      ],
      "source": [
        "n_time = train_features['melspectrogram'].shape[2]\n",
        "\n",
        "mfcc_tiled = np.tile(train_features['mfcc'], (1, 3, 1))  # (3318, 60, 44), tiling 3 times to match 60 features\n",
        "chroma_tiled = np.tile(train_features['chroma'], (1, 5, 1))  # (3318, 60, 44), tiling 5 times to match 60 features\n",
        "rms_tiled = np.tile(train_features['rms'], (1, 60, 1))  # (3318, 60, 44), tiling 60 times to match 60 features\n",
        "\n",
        "training_features = np.stack((train_features['melspectrogram'], mfcc_tiled, chroma_tiled, rms_tiled), axis=-1)\n",
        "\n",
        "print(training_features.shape)"
      ]
    },
    {
      "cell_type": "code",
      "execution_count": 104,
      "metadata": {
        "colab": {
          "base_uri": "https://localhost:8080/"
        },
        "id": "upJmr2o1TURV",
        "outputId": "7d12c40f-3a39-4751-a1d1-0d943d9b6a3d"
      },
      "outputs": [
        {
          "output_type": "stream",
          "name": "stdout",
          "text": [
            "(985, 60, 259, 4)\n"
          ]
        }
      ],
      "source": [
        "mfcc_val_tiled = np.tile(val_features['mfcc'], (1, 3, 1))  # Tile to (n_samples_val, 60, 44)\n",
        "chroma_val_tiled = np.tile(val_features['chroma'], (1, 5, 1))  # Tile to (n_samples_val, 60, 44)\n",
        "rms_val_tiled = np.tile(val_features['rms'], (1, 60, 1))  # Tile to (n_samples_val, 60, 44)\n",
        "\n",
        "melspectrogram_val = val_features['melspectrogram']\n",
        "\n",
        "validation_features = np.stack((melspectrogram_val, mfcc_val_tiled, chroma_val_tiled, rms_val_tiled), axis=-1)\n",
        "\n",
        "print(validation_features.shape)"
      ]
    },
    {
      "cell_type": "code",
      "execution_count": 105,
      "metadata": {
        "colab": {
          "base_uri": "https://localhost:8080/",
          "height": 1000
        },
        "id": "Qj-l8M3iTURV",
        "outputId": "1b0514f7-506a-45f3-cc21-491732243a8e"
      },
      "outputs": [
        {
          "output_type": "display_data",
          "data": {
            "text/plain": [
              "\u001b[1mModel: \"Birds\"\u001b[0m\n"
            ],
            "text/html": [
              "<pre style=\"white-space:pre;overflow-x:auto;line-height:normal;font-family:Menlo,'DejaVu Sans Mono',consolas,'Courier New',monospace\"><span style=\"font-weight: bold\">Model: \"Birds\"</span>\n",
              "</pre>\n"
            ]
          },
          "metadata": {}
        },
        {
          "output_type": "display_data",
          "data": {
            "text/plain": [
              "┏━━━━━━━━━━━━━━━━━━━━━━━━━━━━━━━━━━━━━━┳━━━━━━━━━━━━━━━━━━━━━━━━━━━━━┳━━━━━━━━━━━━━━━━━┓\n",
              "┃\u001b[1m \u001b[0m\u001b[1mLayer (type)                        \u001b[0m\u001b[1m \u001b[0m┃\u001b[1m \u001b[0m\u001b[1mOutput Shape               \u001b[0m\u001b[1m \u001b[0m┃\u001b[1m \u001b[0m\u001b[1m        Param #\u001b[0m\u001b[1m \u001b[0m┃\n",
              "┡━━━━━━━━━━━━━━━━━━━━━━━━━━━━━━━━━━━━━━╇━━━━━━━━━━━━━━━━━━━━━━━━━━━━━╇━━━━━━━━━━━━━━━━━┩\n",
              "│ Audio_Features (\u001b[38;5;33mInputLayer\u001b[0m)          │ (\u001b[38;5;45mNone\u001b[0m, \u001b[38;5;34m60\u001b[0m, \u001b[38;5;34m259\u001b[0m, \u001b[38;5;34m4\u001b[0m)          │               \u001b[38;5;34m0\u001b[0m │\n",
              "├──────────────────────────────────────┼─────────────────────────────┼─────────────────┤\n",
              "│ conv_1 (\u001b[38;5;33mConv2D\u001b[0m)                      │ (\u001b[38;5;45mNone\u001b[0m, \u001b[38;5;34m60\u001b[0m, \u001b[38;5;34m259\u001b[0m, \u001b[38;5;34m64\u001b[0m)         │           \u001b[38;5;34m6,464\u001b[0m │\n",
              "├──────────────────────────────────────┼─────────────────────────────┼─────────────────┤\n",
              "│ batch_normalization                  │ (\u001b[38;5;45mNone\u001b[0m, \u001b[38;5;34m60\u001b[0m, \u001b[38;5;34m259\u001b[0m, \u001b[38;5;34m64\u001b[0m)         │             \u001b[38;5;34m256\u001b[0m │\n",
              "│ (\u001b[38;5;33mBatchNormalization\u001b[0m)                 │                             │                 │\n",
              "├──────────────────────────────────────┼─────────────────────────────┼─────────────────┤\n",
              "│ pool_1 (\u001b[38;5;33mMaxPooling2D\u001b[0m)                │ (\u001b[38;5;45mNone\u001b[0m, \u001b[38;5;34m30\u001b[0m, \u001b[38;5;34m129\u001b[0m, \u001b[38;5;34m64\u001b[0m)         │               \u001b[38;5;34m0\u001b[0m │\n",
              "├──────────────────────────────────────┼─────────────────────────────┼─────────────────┤\n",
              "│ conv_2 (\u001b[38;5;33mConv2D\u001b[0m)                      │ (\u001b[38;5;45mNone\u001b[0m, \u001b[38;5;34m30\u001b[0m, \u001b[38;5;34m129\u001b[0m, \u001b[38;5;34m32\u001b[0m)         │          \u001b[38;5;34m51,232\u001b[0m │\n",
              "├──────────────────────────────────────┼─────────────────────────────┼─────────────────┤\n",
              "│ batch_normalization_1                │ (\u001b[38;5;45mNone\u001b[0m, \u001b[38;5;34m30\u001b[0m, \u001b[38;5;34m129\u001b[0m, \u001b[38;5;34m32\u001b[0m)         │             \u001b[38;5;34m128\u001b[0m │\n",
              "│ (\u001b[38;5;33mBatchNormalization\u001b[0m)                 │                             │                 │\n",
              "├──────────────────────────────────────┼─────────────────────────────┼─────────────────┤\n",
              "│ pool_2 (\u001b[38;5;33mMaxPooling2D\u001b[0m)                │ (\u001b[38;5;45mNone\u001b[0m, \u001b[38;5;34m15\u001b[0m, \u001b[38;5;34m64\u001b[0m, \u001b[38;5;34m32\u001b[0m)          │               \u001b[38;5;34m0\u001b[0m │\n",
              "├──────────────────────────────────────┼─────────────────────────────┼─────────────────┤\n",
              "│ conv_3 (\u001b[38;5;33mConv2D\u001b[0m)                      │ (\u001b[38;5;45mNone\u001b[0m, \u001b[38;5;34m15\u001b[0m, \u001b[38;5;34m64\u001b[0m, \u001b[38;5;34m16\u001b[0m)          │          \u001b[38;5;34m12,816\u001b[0m │\n",
              "├──────────────────────────────────────┼─────────────────────────────┼─────────────────┤\n",
              "│ batch_normalization_2                │ (\u001b[38;5;45mNone\u001b[0m, \u001b[38;5;34m15\u001b[0m, \u001b[38;5;34m64\u001b[0m, \u001b[38;5;34m16\u001b[0m)          │              \u001b[38;5;34m64\u001b[0m │\n",
              "│ (\u001b[38;5;33mBatchNormalization\u001b[0m)                 │                             │                 │\n",
              "├──────────────────────────────────────┼─────────────────────────────┼─────────────────┤\n",
              "│ pool_3 (\u001b[38;5;33mMaxPooling2D\u001b[0m)                │ (\u001b[38;5;45mNone\u001b[0m, \u001b[38;5;34m7\u001b[0m, \u001b[38;5;34m32\u001b[0m, \u001b[38;5;34m16\u001b[0m)           │               \u001b[38;5;34m0\u001b[0m │\n",
              "├──────────────────────────────────────┼─────────────────────────────┼─────────────────┤\n",
              "│ flatten (\u001b[38;5;33mFlatten\u001b[0m)                    │ (\u001b[38;5;45mNone\u001b[0m, \u001b[38;5;34m3584\u001b[0m)                │               \u001b[38;5;34m0\u001b[0m │\n",
              "├──────────────────────────────────────┼─────────────────────────────┼─────────────────┤\n",
              "│ fc_1 (\u001b[38;5;33mDense\u001b[0m)                         │ (\u001b[38;5;45mNone\u001b[0m, \u001b[38;5;34m512\u001b[0m)                 │       \u001b[38;5;34m1,835,520\u001b[0m │\n",
              "├──────────────────────────────────────┼─────────────────────────────┼─────────────────┤\n",
              "│ dropout (\u001b[38;5;33mDropout\u001b[0m)                    │ (\u001b[38;5;45mNone\u001b[0m, \u001b[38;5;34m512\u001b[0m)                 │               \u001b[38;5;34m0\u001b[0m │\n",
              "├──────────────────────────────────────┼─────────────────────────────┼─────────────────┤\n",
              "│ fc_2 (\u001b[38;5;33mDense\u001b[0m)                         │ (\u001b[38;5;45mNone\u001b[0m, \u001b[38;5;34m20\u001b[0m)                  │          \u001b[38;5;34m10,260\u001b[0m │\n",
              "└──────────────────────────────────────┴─────────────────────────────┴─────────────────┘\n"
            ],
            "text/html": [
              "<pre style=\"white-space:pre;overflow-x:auto;line-height:normal;font-family:Menlo,'DejaVu Sans Mono',consolas,'Courier New',monospace\">┏━━━━━━━━━━━━━━━━━━━━━━━━━━━━━━━━━━━━━━┳━━━━━━━━━━━━━━━━━━━━━━━━━━━━━┳━━━━━━━━━━━━━━━━━┓\n",
              "┃<span style=\"font-weight: bold\"> Layer (type)                         </span>┃<span style=\"font-weight: bold\"> Output Shape                </span>┃<span style=\"font-weight: bold\">         Param # </span>┃\n",
              "┡━━━━━━━━━━━━━━━━━━━━━━━━━━━━━━━━━━━━━━╇━━━━━━━━━━━━━━━━━━━━━━━━━━━━━╇━━━━━━━━━━━━━━━━━┩\n",
              "│ Audio_Features (<span style=\"color: #0087ff; text-decoration-color: #0087ff\">InputLayer</span>)          │ (<span style=\"color: #00d7ff; text-decoration-color: #00d7ff\">None</span>, <span style=\"color: #00af00; text-decoration-color: #00af00\">60</span>, <span style=\"color: #00af00; text-decoration-color: #00af00\">259</span>, <span style=\"color: #00af00; text-decoration-color: #00af00\">4</span>)          │               <span style=\"color: #00af00; text-decoration-color: #00af00\">0</span> │\n",
              "├──────────────────────────────────────┼─────────────────────────────┼─────────────────┤\n",
              "│ conv_1 (<span style=\"color: #0087ff; text-decoration-color: #0087ff\">Conv2D</span>)                      │ (<span style=\"color: #00d7ff; text-decoration-color: #00d7ff\">None</span>, <span style=\"color: #00af00; text-decoration-color: #00af00\">60</span>, <span style=\"color: #00af00; text-decoration-color: #00af00\">259</span>, <span style=\"color: #00af00; text-decoration-color: #00af00\">64</span>)         │           <span style=\"color: #00af00; text-decoration-color: #00af00\">6,464</span> │\n",
              "├──────────────────────────────────────┼─────────────────────────────┼─────────────────┤\n",
              "│ batch_normalization                  │ (<span style=\"color: #00d7ff; text-decoration-color: #00d7ff\">None</span>, <span style=\"color: #00af00; text-decoration-color: #00af00\">60</span>, <span style=\"color: #00af00; text-decoration-color: #00af00\">259</span>, <span style=\"color: #00af00; text-decoration-color: #00af00\">64</span>)         │             <span style=\"color: #00af00; text-decoration-color: #00af00\">256</span> │\n",
              "│ (<span style=\"color: #0087ff; text-decoration-color: #0087ff\">BatchNormalization</span>)                 │                             │                 │\n",
              "├──────────────────────────────────────┼─────────────────────────────┼─────────────────┤\n",
              "│ pool_1 (<span style=\"color: #0087ff; text-decoration-color: #0087ff\">MaxPooling2D</span>)                │ (<span style=\"color: #00d7ff; text-decoration-color: #00d7ff\">None</span>, <span style=\"color: #00af00; text-decoration-color: #00af00\">30</span>, <span style=\"color: #00af00; text-decoration-color: #00af00\">129</span>, <span style=\"color: #00af00; text-decoration-color: #00af00\">64</span>)         │               <span style=\"color: #00af00; text-decoration-color: #00af00\">0</span> │\n",
              "├──────────────────────────────────────┼─────────────────────────────┼─────────────────┤\n",
              "│ conv_2 (<span style=\"color: #0087ff; text-decoration-color: #0087ff\">Conv2D</span>)                      │ (<span style=\"color: #00d7ff; text-decoration-color: #00d7ff\">None</span>, <span style=\"color: #00af00; text-decoration-color: #00af00\">30</span>, <span style=\"color: #00af00; text-decoration-color: #00af00\">129</span>, <span style=\"color: #00af00; text-decoration-color: #00af00\">32</span>)         │          <span style=\"color: #00af00; text-decoration-color: #00af00\">51,232</span> │\n",
              "├──────────────────────────────────────┼─────────────────────────────┼─────────────────┤\n",
              "│ batch_normalization_1                │ (<span style=\"color: #00d7ff; text-decoration-color: #00d7ff\">None</span>, <span style=\"color: #00af00; text-decoration-color: #00af00\">30</span>, <span style=\"color: #00af00; text-decoration-color: #00af00\">129</span>, <span style=\"color: #00af00; text-decoration-color: #00af00\">32</span>)         │             <span style=\"color: #00af00; text-decoration-color: #00af00\">128</span> │\n",
              "│ (<span style=\"color: #0087ff; text-decoration-color: #0087ff\">BatchNormalization</span>)                 │                             │                 │\n",
              "├──────────────────────────────────────┼─────────────────────────────┼─────────────────┤\n",
              "│ pool_2 (<span style=\"color: #0087ff; text-decoration-color: #0087ff\">MaxPooling2D</span>)                │ (<span style=\"color: #00d7ff; text-decoration-color: #00d7ff\">None</span>, <span style=\"color: #00af00; text-decoration-color: #00af00\">15</span>, <span style=\"color: #00af00; text-decoration-color: #00af00\">64</span>, <span style=\"color: #00af00; text-decoration-color: #00af00\">32</span>)          │               <span style=\"color: #00af00; text-decoration-color: #00af00\">0</span> │\n",
              "├──────────────────────────────────────┼─────────────────────────────┼─────────────────┤\n",
              "│ conv_3 (<span style=\"color: #0087ff; text-decoration-color: #0087ff\">Conv2D</span>)                      │ (<span style=\"color: #00d7ff; text-decoration-color: #00d7ff\">None</span>, <span style=\"color: #00af00; text-decoration-color: #00af00\">15</span>, <span style=\"color: #00af00; text-decoration-color: #00af00\">64</span>, <span style=\"color: #00af00; text-decoration-color: #00af00\">16</span>)          │          <span style=\"color: #00af00; text-decoration-color: #00af00\">12,816</span> │\n",
              "├──────────────────────────────────────┼─────────────────────────────┼─────────────────┤\n",
              "│ batch_normalization_2                │ (<span style=\"color: #00d7ff; text-decoration-color: #00d7ff\">None</span>, <span style=\"color: #00af00; text-decoration-color: #00af00\">15</span>, <span style=\"color: #00af00; text-decoration-color: #00af00\">64</span>, <span style=\"color: #00af00; text-decoration-color: #00af00\">16</span>)          │              <span style=\"color: #00af00; text-decoration-color: #00af00\">64</span> │\n",
              "│ (<span style=\"color: #0087ff; text-decoration-color: #0087ff\">BatchNormalization</span>)                 │                             │                 │\n",
              "├──────────────────────────────────────┼─────────────────────────────┼─────────────────┤\n",
              "│ pool_3 (<span style=\"color: #0087ff; text-decoration-color: #0087ff\">MaxPooling2D</span>)                │ (<span style=\"color: #00d7ff; text-decoration-color: #00d7ff\">None</span>, <span style=\"color: #00af00; text-decoration-color: #00af00\">7</span>, <span style=\"color: #00af00; text-decoration-color: #00af00\">32</span>, <span style=\"color: #00af00; text-decoration-color: #00af00\">16</span>)           │               <span style=\"color: #00af00; text-decoration-color: #00af00\">0</span> │\n",
              "├──────────────────────────────────────┼─────────────────────────────┼─────────────────┤\n",
              "│ flatten (<span style=\"color: #0087ff; text-decoration-color: #0087ff\">Flatten</span>)                    │ (<span style=\"color: #00d7ff; text-decoration-color: #00d7ff\">None</span>, <span style=\"color: #00af00; text-decoration-color: #00af00\">3584</span>)                │               <span style=\"color: #00af00; text-decoration-color: #00af00\">0</span> │\n",
              "├──────────────────────────────────────┼─────────────────────────────┼─────────────────┤\n",
              "│ fc_1 (<span style=\"color: #0087ff; text-decoration-color: #0087ff\">Dense</span>)                         │ (<span style=\"color: #00d7ff; text-decoration-color: #00d7ff\">None</span>, <span style=\"color: #00af00; text-decoration-color: #00af00\">512</span>)                 │       <span style=\"color: #00af00; text-decoration-color: #00af00\">1,835,520</span> │\n",
              "├──────────────────────────────────────┼─────────────────────────────┼─────────────────┤\n",
              "│ dropout (<span style=\"color: #0087ff; text-decoration-color: #0087ff\">Dropout</span>)                    │ (<span style=\"color: #00d7ff; text-decoration-color: #00d7ff\">None</span>, <span style=\"color: #00af00; text-decoration-color: #00af00\">512</span>)                 │               <span style=\"color: #00af00; text-decoration-color: #00af00\">0</span> │\n",
              "├──────────────────────────────────────┼─────────────────────────────┼─────────────────┤\n",
              "│ fc_2 (<span style=\"color: #0087ff; text-decoration-color: #0087ff\">Dense</span>)                         │ (<span style=\"color: #00d7ff; text-decoration-color: #00d7ff\">None</span>, <span style=\"color: #00af00; text-decoration-color: #00af00\">20</span>)                  │          <span style=\"color: #00af00; text-decoration-color: #00af00\">10,260</span> │\n",
              "└──────────────────────────────────────┴─────────────────────────────┴─────────────────┘\n",
              "</pre>\n"
            ]
          },
          "metadata": {}
        },
        {
          "output_type": "display_data",
          "data": {
            "text/plain": [
              "\u001b[1m Total params: \u001b[0m\u001b[38;5;34m1,916,740\u001b[0m (7.31 MB)\n"
            ],
            "text/html": [
              "<pre style=\"white-space:pre;overflow-x:auto;line-height:normal;font-family:Menlo,'DejaVu Sans Mono',consolas,'Courier New',monospace\"><span style=\"font-weight: bold\"> Total params: </span><span style=\"color: #00af00; text-decoration-color: #00af00\">1,916,740</span> (7.31 MB)\n",
              "</pre>\n"
            ]
          },
          "metadata": {}
        },
        {
          "output_type": "display_data",
          "data": {
            "text/plain": [
              "\u001b[1m Trainable params: \u001b[0m\u001b[38;5;34m1,916,516\u001b[0m (7.31 MB)\n"
            ],
            "text/html": [
              "<pre style=\"white-space:pre;overflow-x:auto;line-height:normal;font-family:Menlo,'DejaVu Sans Mono',consolas,'Courier New',monospace\"><span style=\"font-weight: bold\"> Trainable params: </span><span style=\"color: #00af00; text-decoration-color: #00af00\">1,916,516</span> (7.31 MB)\n",
              "</pre>\n"
            ]
          },
          "metadata": {}
        },
        {
          "output_type": "display_data",
          "data": {
            "text/plain": [
              "\u001b[1m Non-trainable params: \u001b[0m\u001b[38;5;34m224\u001b[0m (896.00 B)\n"
            ],
            "text/html": [
              "<pre style=\"white-space:pre;overflow-x:auto;line-height:normal;font-family:Menlo,'DejaVu Sans Mono',consolas,'Courier New',monospace\"><span style=\"font-weight: bold\"> Non-trainable params: </span><span style=\"color: #00af00; text-decoration-color: #00af00\">224</span> (896.00 B)\n",
              "</pre>\n"
            ]
          },
          "metadata": {}
        },
        {
          "output_type": "stream",
          "name": "stdout",
          "text": [
            "None\n",
            "Epoch 1/100\n",
            "\u001b[1m124/124\u001b[0m \u001b[32m━━━━━━━━━━━━━━━━━━━━\u001b[0m\u001b[37m\u001b[0m \u001b[1m16s\u001b[0m 89ms/step - accuracy: 0.1380 - loss: 14.5580 - weighted_accuracy: 0.1380 - val_accuracy: 0.0162 - val_loss: 14.1185 - val_weighted_accuracy: 0.0162\n",
            "Epoch 2/100\n",
            "\u001b[1m124/124\u001b[0m \u001b[32m━━━━━━━━━━━━━━━━━━━━\u001b[0m\u001b[37m\u001b[0m \u001b[1m4s\u001b[0m 29ms/step - accuracy: 0.3087 - loss: 12.7131 - weighted_accuracy: 0.3087 - val_accuracy: 0.0122 - val_loss: 13.9415 - val_weighted_accuracy: 0.0122\n",
            "Epoch 3/100\n",
            "\u001b[1m124/124\u001b[0m \u001b[32m━━━━━━━━━━━━━━━━━━━━\u001b[0m\u001b[37m\u001b[0m \u001b[1m4s\u001b[0m 29ms/step - accuracy: 0.3906 - loss: 12.1760 - weighted_accuracy: 0.3906 - val_accuracy: 0.1259 - val_loss: 13.0583 - val_weighted_accuracy: 0.1259\n",
            "Epoch 4/100\n",
            "\u001b[1m124/124\u001b[0m \u001b[32m━━━━━━━━━━━━━━━━━━━━\u001b[0m\u001b[37m\u001b[0m \u001b[1m4s\u001b[0m 30ms/step - accuracy: 0.4640 - loss: 11.6411 - weighted_accuracy: 0.4640 - val_accuracy: 0.2761 - val_loss: 12.0279 - val_weighted_accuracy: 0.2761\n",
            "Epoch 5/100\n",
            "\u001b[1m124/124\u001b[0m \u001b[32m━━━━━━━━━━━━━━━━━━━━\u001b[0m\u001b[37m\u001b[0m \u001b[1m4s\u001b[0m 30ms/step - accuracy: 0.5063 - loss: 11.2017 - weighted_accuracy: 0.5063 - val_accuracy: 0.4761 - val_loss: 11.1785 - val_weighted_accuracy: 0.4761\n",
            "Epoch 6/100\n",
            "\u001b[1m124/124\u001b[0m \u001b[32m━━━━━━━━━━━━━━━━━━━━\u001b[0m\u001b[37m\u001b[0m \u001b[1m4s\u001b[0m 30ms/step - accuracy: 0.5422 - loss: 10.8015 - weighted_accuracy: 0.5422 - val_accuracy: 0.5624 - val_loss: 10.6477 - val_weighted_accuracy: 0.5624\n",
            "Epoch 7/100\n",
            "\u001b[1m124/124\u001b[0m \u001b[32m━━━━━━━━━━━━━━━━━━━━\u001b[0m\u001b[37m\u001b[0m \u001b[1m4s\u001b[0m 30ms/step - accuracy: 0.5830 - loss: 10.3603 - weighted_accuracy: 0.5830 - val_accuracy: 0.5929 - val_loss: 10.2402 - val_weighted_accuracy: 0.5929\n",
            "Epoch 8/100\n",
            "\u001b[1m124/124\u001b[0m \u001b[32m━━━━━━━━━━━━━━━━━━━━\u001b[0m\u001b[37m\u001b[0m \u001b[1m4s\u001b[0m 30ms/step - accuracy: 0.6393 - loss: 9.9760 - weighted_accuracy: 0.6393 - val_accuracy: 0.6051 - val_loss: 9.9123 - val_weighted_accuracy: 0.6051\n",
            "Epoch 9/100\n",
            "\u001b[1m124/124\u001b[0m \u001b[32m━━━━━━━━━━━━━━━━━━━━\u001b[0m\u001b[37m\u001b[0m \u001b[1m4s\u001b[0m 30ms/step - accuracy: 0.6516 - loss: 9.6067 - weighted_accuracy: 0.6516 - val_accuracy: 0.6193 - val_loss: 9.5958 - val_weighted_accuracy: 0.6193\n",
            "Epoch 10/100\n",
            "\u001b[1m124/124\u001b[0m \u001b[32m━━━━━━━━━━━━━━━━━━━━\u001b[0m\u001b[37m\u001b[0m \u001b[1m4s\u001b[0m 30ms/step - accuracy: 0.6866 - loss: 9.2445 - weighted_accuracy: 0.6866 - val_accuracy: 0.6406 - val_loss: 9.2994 - val_weighted_accuracy: 0.6406\n",
            "Epoch 11/100\n",
            "\u001b[1m124/124\u001b[0m \u001b[32m━━━━━━━━━━━━━━━━━━━━\u001b[0m\u001b[37m\u001b[0m \u001b[1m4s\u001b[0m 30ms/step - accuracy: 0.7066 - loss: 8.9365 - weighted_accuracy: 0.7066 - val_accuracy: 0.6518 - val_loss: 9.0173 - val_weighted_accuracy: 0.6518\n",
            "Epoch 12/100\n",
            "\u001b[1m124/124\u001b[0m \u001b[32m━━━━━━━━━━━━━━━━━━━━\u001b[0m\u001b[37m\u001b[0m \u001b[1m4s\u001b[0m 30ms/step - accuracy: 0.7300 - loss: 8.6221 - weighted_accuracy: 0.7300 - val_accuracy: 0.6609 - val_loss: 8.7431 - val_weighted_accuracy: 0.6609\n",
            "Epoch 13/100\n",
            "\u001b[1m124/124\u001b[0m \u001b[32m━━━━━━━━━━━━━━━━━━━━\u001b[0m\u001b[37m\u001b[0m \u001b[1m4s\u001b[0m 30ms/step - accuracy: 0.7588 - loss: 8.3052 - weighted_accuracy: 0.7588 - val_accuracy: 0.6579 - val_loss: 8.5161 - val_weighted_accuracy: 0.6579\n",
            "Epoch 14/100\n",
            "\u001b[1m124/124\u001b[0m \u001b[32m━━━━━━━━━━━━━━━━━━━━\u001b[0m\u001b[37m\u001b[0m \u001b[1m4s\u001b[0m 30ms/step - accuracy: 0.7623 - loss: 8.0474 - weighted_accuracy: 0.7623 - val_accuracy: 0.6680 - val_loss: 8.2348 - val_weighted_accuracy: 0.6680\n",
            "Epoch 15/100\n",
            "\u001b[1m124/124\u001b[0m \u001b[32m━━━━━━━━━━━━━━━━━━━━\u001b[0m\u001b[37m\u001b[0m \u001b[1m4s\u001b[0m 30ms/step - accuracy: 0.7769 - loss: 7.7921 - weighted_accuracy: 0.7769 - val_accuracy: 0.6853 - val_loss: 8.0176 - val_weighted_accuracy: 0.6853\n",
            "Epoch 16/100\n",
            "\u001b[1m124/124\u001b[0m \u001b[32m━━━━━━━━━━━━━━━━━━━━\u001b[0m\u001b[37m\u001b[0m \u001b[1m4s\u001b[0m 30ms/step - accuracy: 0.7761 - loss: 7.5827 - weighted_accuracy: 0.7761 - val_accuracy: 0.6843 - val_loss: 7.8031 - val_weighted_accuracy: 0.6843\n",
            "Epoch 17/100\n",
            "\u001b[1m124/124\u001b[0m \u001b[32m━━━━━━━━━━━━━━━━━━━━\u001b[0m\u001b[37m\u001b[0m \u001b[1m4s\u001b[0m 30ms/step - accuracy: 0.8033 - loss: 7.2648 - weighted_accuracy: 0.8033 - val_accuracy: 0.6741 - val_loss: 7.6116 - val_weighted_accuracy: 0.6741\n",
            "Epoch 18/100\n",
            "\u001b[1m124/124\u001b[0m \u001b[32m━━━━━━━━━━━━━━━━━━━━\u001b[0m\u001b[37m\u001b[0m \u001b[1m4s\u001b[0m 30ms/step - accuracy: 0.8225 - loss: 7.0359 - weighted_accuracy: 0.8225 - val_accuracy: 0.6883 - val_loss: 7.3951 - val_weighted_accuracy: 0.6883\n",
            "Epoch 19/100\n",
            "\u001b[1m124/124\u001b[0m \u001b[32m━━━━━━━━━━━━━━━━━━━━\u001b[0m\u001b[37m\u001b[0m \u001b[1m4s\u001b[0m 29ms/step - accuracy: 0.8438 - loss: 6.7804 - weighted_accuracy: 0.8438 - val_accuracy: 0.6954 - val_loss: 7.2099 - val_weighted_accuracy: 0.6954\n",
            "Epoch 20/100\n",
            "\u001b[1m124/124\u001b[0m \u001b[32m━━━━━━━━━━━━━━━━━━━━\u001b[0m\u001b[37m\u001b[0m \u001b[1m4s\u001b[0m 30ms/step - accuracy: 0.8504 - loss: 6.5988 - weighted_accuracy: 0.8504 - val_accuracy: 0.6904 - val_loss: 7.0486 - val_weighted_accuracy: 0.6904\n",
            "Epoch 21/100\n",
            "\u001b[1m124/124\u001b[0m \u001b[32m━━━━━━━━━━━━━━━━━━━━\u001b[0m\u001b[37m\u001b[0m \u001b[1m4s\u001b[0m 30ms/step - accuracy: 0.8623 - loss: 6.3970 - weighted_accuracy: 0.8623 - val_accuracy: 0.7076 - val_loss: 6.8462 - val_weighted_accuracy: 0.7076\n",
            "Epoch 22/100\n",
            "\u001b[1m124/124\u001b[0m \u001b[32m━━━━━━━━━━━━━━━━━━━━\u001b[0m\u001b[37m\u001b[0m \u001b[1m4s\u001b[0m 30ms/step - accuracy: 0.8725 - loss: 6.1913 - weighted_accuracy: 0.8725 - val_accuracy: 0.7025 - val_loss: 6.6386 - val_weighted_accuracy: 0.7025\n",
            "Epoch 23/100\n",
            "\u001b[1m124/124\u001b[0m \u001b[32m━━━━━━━━━━━━━━━━━━━━\u001b[0m\u001b[37m\u001b[0m \u001b[1m4s\u001b[0m 30ms/step - accuracy: 0.8708 - loss: 6.0420 - weighted_accuracy: 0.8708 - val_accuracy: 0.7157 - val_loss: 6.5134 - val_weighted_accuracy: 0.7157\n",
            "Epoch 24/100\n",
            "\u001b[1m124/124\u001b[0m \u001b[32m━━━━━━━━━━━━━━━━━━━━\u001b[0m\u001b[37m\u001b[0m \u001b[1m4s\u001b[0m 30ms/step - accuracy: 0.8863 - loss: 5.8376 - weighted_accuracy: 0.8863 - val_accuracy: 0.7036 - val_loss: 6.4058 - val_weighted_accuracy: 0.7036\n",
            "Epoch 25/100\n",
            "\u001b[1m124/124\u001b[0m \u001b[32m━━━━━━━━━━━━━━━━━━━━\u001b[0m\u001b[37m\u001b[0m \u001b[1m4s\u001b[0m 30ms/step - accuracy: 0.8934 - loss: 5.6694 - weighted_accuracy: 0.8934 - val_accuracy: 0.7168 - val_loss: 6.2351 - val_weighted_accuracy: 0.7168\n",
            "Epoch 26/100\n",
            "\u001b[1m124/124\u001b[0m \u001b[32m━━━━━━━━━━━━━━━━━━━━\u001b[0m\u001b[37m\u001b[0m \u001b[1m4s\u001b[0m 30ms/step - accuracy: 0.9183 - loss: 5.4816 - weighted_accuracy: 0.9183 - val_accuracy: 0.7066 - val_loss: 6.1206 - val_weighted_accuracy: 0.7066\n",
            "Epoch 27/100\n",
            "\u001b[1m124/124\u001b[0m \u001b[32m━━━━━━━━━━━━━━━━━━━━\u001b[0m\u001b[37m\u001b[0m \u001b[1m4s\u001b[0m 30ms/step - accuracy: 0.9131 - loss: 5.3293 - weighted_accuracy: 0.9131 - val_accuracy: 0.6964 - val_loss: 5.9634 - val_weighted_accuracy: 0.6964\n",
            "Epoch 28/100\n",
            "\u001b[1m124/124\u001b[0m \u001b[32m━━━━━━━━━━━━━━━━━━━━\u001b[0m\u001b[37m\u001b[0m \u001b[1m4s\u001b[0m 30ms/step - accuracy: 0.9248 - loss: 5.1736 - weighted_accuracy: 0.9248 - val_accuracy: 0.7259 - val_loss: 5.8514 - val_weighted_accuracy: 0.7259\n",
            "Epoch 29/100\n",
            "\u001b[1m124/124\u001b[0m \u001b[32m━━━━━━━━━━━━━━━━━━━━\u001b[0m\u001b[37m\u001b[0m \u001b[1m4s\u001b[0m 30ms/step - accuracy: 0.9354 - loss: 5.0314 - weighted_accuracy: 0.9354 - val_accuracy: 0.7147 - val_loss: 5.6999 - val_weighted_accuracy: 0.7147\n",
            "Epoch 30/100\n",
            "\u001b[1m124/124\u001b[0m \u001b[32m━━━━━━━━━━━━━━━━━━━━\u001b[0m\u001b[37m\u001b[0m \u001b[1m4s\u001b[0m 30ms/step - accuracy: 0.9330 - loss: 4.8992 - weighted_accuracy: 0.9330 - val_accuracy: 0.6954 - val_loss: 5.7147 - val_weighted_accuracy: 0.6954\n",
            "Epoch 31/100\n",
            "\u001b[1m124/124\u001b[0m \u001b[32m━━━━━━━━━━━━━━━━━━━━\u001b[0m\u001b[37m\u001b[0m \u001b[1m4s\u001b[0m 30ms/step - accuracy: 0.9370 - loss: 4.7788 - weighted_accuracy: 0.9370 - val_accuracy: 0.7147 - val_loss: 5.5780 - val_weighted_accuracy: 0.7147\n",
            "Epoch 32/100\n",
            "\u001b[1m124/124\u001b[0m \u001b[32m━━━━━━━━━━━━━━━━━━━━\u001b[0m\u001b[37m\u001b[0m \u001b[1m4s\u001b[0m 30ms/step - accuracy: 0.9366 - loss: 4.6585 - weighted_accuracy: 0.9366 - val_accuracy: 0.7218 - val_loss: 5.3858 - val_weighted_accuracy: 0.7218\n",
            "Epoch 33/100\n",
            "\u001b[1m124/124\u001b[0m \u001b[32m━━━━━━━━━━━━━━━━━━━━\u001b[0m\u001b[37m\u001b[0m \u001b[1m4s\u001b[0m 30ms/step - accuracy: 0.9420 - loss: 4.5260 - weighted_accuracy: 0.9420 - val_accuracy: 0.7096 - val_loss: 5.2810 - val_weighted_accuracy: 0.7096\n",
            "Epoch 34/100\n",
            "\u001b[1m124/124\u001b[0m \u001b[32m━━━━━━━━━━━━━━━━━━━━\u001b[0m\u001b[37m\u001b[0m \u001b[1m4s\u001b[0m 30ms/step - accuracy: 0.9553 - loss: 4.4026 - weighted_accuracy: 0.9553 - val_accuracy: 0.7025 - val_loss: 5.1800 - val_weighted_accuracy: 0.7025\n",
            "Epoch 35/100\n",
            "\u001b[1m124/124\u001b[0m \u001b[32m━━━━━━━━━━━━━━━━━━━━\u001b[0m\u001b[37m\u001b[0m \u001b[1m4s\u001b[0m 30ms/step - accuracy: 0.9600 - loss: 4.2856 - weighted_accuracy: 0.9600 - val_accuracy: 0.7127 - val_loss: 5.1010 - val_weighted_accuracy: 0.7127\n",
            "Epoch 36/100\n",
            "\u001b[1m124/124\u001b[0m \u001b[32m━━━━━━━━━━━━━━━━━━━━\u001b[0m\u001b[37m\u001b[0m \u001b[1m4s\u001b[0m 30ms/step - accuracy: 0.9614 - loss: 4.1803 - weighted_accuracy: 0.9614 - val_accuracy: 0.7299 - val_loss: 4.9819 - val_weighted_accuracy: 0.7299\n",
            "Epoch 37/100\n",
            "\u001b[1m124/124\u001b[0m \u001b[32m━━━━━━━━━━━━━━━━━━━━\u001b[0m\u001b[37m\u001b[0m \u001b[1m4s\u001b[0m 30ms/step - accuracy: 0.9661 - loss: 4.0728 - weighted_accuracy: 0.9661 - val_accuracy: 0.7259 - val_loss: 4.8991 - val_weighted_accuracy: 0.7259\n",
            "Epoch 38/100\n",
            "\u001b[1m124/124\u001b[0m \u001b[32m━━━━━━━━━━━━━━━━━━━━\u001b[0m\u001b[37m\u001b[0m \u001b[1m4s\u001b[0m 30ms/step - accuracy: 0.9786 - loss: 3.9403 - weighted_accuracy: 0.9786 - val_accuracy: 0.7239 - val_loss: 4.8108 - val_weighted_accuracy: 0.7239\n",
            "Epoch 39/100\n",
            "\u001b[1m124/124\u001b[0m \u001b[32m━━━━━━━━━━━━━━━━━━━━\u001b[0m\u001b[37m\u001b[0m \u001b[1m4s\u001b[0m 30ms/step - accuracy: 0.9738 - loss: 3.8534 - weighted_accuracy: 0.9738 - val_accuracy: 0.7289 - val_loss: 4.7186 - val_weighted_accuracy: 0.7289\n",
            "Epoch 40/100\n",
            "\u001b[1m124/124\u001b[0m \u001b[32m━━━━━━━━━━━━━━━━━━━━\u001b[0m\u001b[37m\u001b[0m \u001b[1m4s\u001b[0m 30ms/step - accuracy: 0.9704 - loss: 3.7659 - weighted_accuracy: 0.9704 - val_accuracy: 0.7208 - val_loss: 4.6010 - val_weighted_accuracy: 0.7208\n",
            "Epoch 41/100\n",
            "\u001b[1m124/124\u001b[0m \u001b[32m━━━━━━━━━━━━━━━━━━━━\u001b[0m\u001b[37m\u001b[0m \u001b[1m4s\u001b[0m 30ms/step - accuracy: 0.9792 - loss: 3.6651 - weighted_accuracy: 0.9792 - val_accuracy: 0.7259 - val_loss: 4.5917 - val_weighted_accuracy: 0.7259\n",
            "Epoch 42/100\n",
            "\u001b[1m124/124\u001b[0m \u001b[32m━━━━━━━━━━━━━━━━━━━━\u001b[0m\u001b[37m\u001b[0m \u001b[1m4s\u001b[0m 29ms/step - accuracy: 0.9738 - loss: 3.5777 - weighted_accuracy: 0.9738 - val_accuracy: 0.7228 - val_loss: 4.4810 - val_weighted_accuracy: 0.7228\n",
            "Epoch 43/100\n",
            "\u001b[1m124/124\u001b[0m \u001b[32m━━━━━━━━━━━━━━━━━━━━\u001b[0m\u001b[37m\u001b[0m \u001b[1m4s\u001b[0m 30ms/step - accuracy: 0.9830 - loss: 3.4755 - weighted_accuracy: 0.9830 - val_accuracy: 0.7147 - val_loss: 4.4077 - val_weighted_accuracy: 0.7147\n",
            "Epoch 44/100\n",
            "\u001b[1m124/124\u001b[0m \u001b[32m━━━━━━━━━━━━━━━━━━━━\u001b[0m\u001b[37m\u001b[0m \u001b[1m4s\u001b[0m 30ms/step - accuracy: 0.9814 - loss: 3.3969 - weighted_accuracy: 0.9814 - val_accuracy: 0.7198 - val_loss: 4.3065 - val_weighted_accuracy: 0.7198\n",
            "Epoch 45/100\n",
            "\u001b[1m124/124\u001b[0m \u001b[32m━━━━━━━━━━━━━━━━━━━━\u001b[0m\u001b[37m\u001b[0m \u001b[1m4s\u001b[0m 30ms/step - accuracy: 0.9797 - loss: 3.3138 - weighted_accuracy: 0.9797 - val_accuracy: 0.7239 - val_loss: 4.2387 - val_weighted_accuracy: 0.7239\n",
            "Epoch 46/100\n",
            "\u001b[1m124/124\u001b[0m \u001b[32m━━━━━━━━━━━━━━━━━━━━\u001b[0m\u001b[37m\u001b[0m \u001b[1m4s\u001b[0m 30ms/step - accuracy: 0.9840 - loss: 3.2310 - weighted_accuracy: 0.9840 - val_accuracy: 0.7279 - val_loss: 4.1244 - val_weighted_accuracy: 0.7279\n",
            "Epoch 47/100\n",
            "\u001b[1m124/124\u001b[0m \u001b[32m━━━━━━━━━━━━━━━━━━━━\u001b[0m\u001b[37m\u001b[0m \u001b[1m4s\u001b[0m 30ms/step - accuracy: 0.9857 - loss: 3.1446 - weighted_accuracy: 0.9857 - val_accuracy: 0.7330 - val_loss: 4.0976 - val_weighted_accuracy: 0.7330\n",
            "Epoch 48/100\n",
            "\u001b[1m124/124\u001b[0m \u001b[32m━━━━━━━━━━━━━━━━━━━━\u001b[0m\u001b[37m\u001b[0m \u001b[1m4s\u001b[0m 30ms/step - accuracy: 0.9866 - loss: 3.0641 - weighted_accuracy: 0.9866 - val_accuracy: 0.7330 - val_loss: 4.0325 - val_weighted_accuracy: 0.7330\n",
            "Epoch 49/100\n",
            "\u001b[1m124/124\u001b[0m \u001b[32m━━━━━━━━━━━━━━━━━━━━\u001b[0m\u001b[37m\u001b[0m \u001b[1m4s\u001b[0m 30ms/step - accuracy: 0.9901 - loss: 2.9866 - weighted_accuracy: 0.9901 - val_accuracy: 0.7279 - val_loss: 3.9562 - val_weighted_accuracy: 0.7279\n",
            "Epoch 50/100\n",
            "\u001b[1m124/124\u001b[0m \u001b[32m━━━━━━━━━━━━━━━━━━━━\u001b[0m\u001b[37m\u001b[0m \u001b[1m4s\u001b[0m 30ms/step - accuracy: 0.9907 - loss: 2.9076 - weighted_accuracy: 0.9907 - val_accuracy: 0.7076 - val_loss: 3.8767 - val_weighted_accuracy: 0.7076\n",
            "Epoch 51/100\n",
            "\u001b[1m124/124\u001b[0m \u001b[32m━━━━━━━━━━━━━━━━━━━━\u001b[0m\u001b[37m\u001b[0m \u001b[1m4s\u001b[0m 30ms/step - accuracy: 0.9873 - loss: 2.8398 - weighted_accuracy: 0.9873 - val_accuracy: 0.7188 - val_loss: 3.8601 - val_weighted_accuracy: 0.7188\n",
            "Epoch 52/100\n",
            "\u001b[1m124/124\u001b[0m \u001b[32m━━━━━━━━━━━━━━━━━━━━\u001b[0m\u001b[37m\u001b[0m \u001b[1m4s\u001b[0m 30ms/step - accuracy: 0.9926 - loss: 2.7600 - weighted_accuracy: 0.9926 - val_accuracy: 0.7239 - val_loss: 3.7127 - val_weighted_accuracy: 0.7239\n",
            "Epoch 53/100\n",
            "\u001b[1m124/124\u001b[0m \u001b[32m━━━━━━━━━━━━━━━━━━━━\u001b[0m\u001b[37m\u001b[0m \u001b[1m4s\u001b[0m 30ms/step - accuracy: 0.9887 - loss: 2.6972 - weighted_accuracy: 0.9887 - val_accuracy: 0.7279 - val_loss: 3.6646 - val_weighted_accuracy: 0.7279\n",
            "Epoch 54/100\n",
            "\u001b[1m124/124\u001b[0m \u001b[32m━━━━━━━━━━━━━━━━━━━━\u001b[0m\u001b[37m\u001b[0m \u001b[1m4s\u001b[0m 30ms/step - accuracy: 0.9906 - loss: 2.6274 - weighted_accuracy: 0.9906 - val_accuracy: 0.7340 - val_loss: 3.5871 - val_weighted_accuracy: 0.7340\n",
            "Epoch 55/100\n",
            "\u001b[1m124/124\u001b[0m \u001b[32m━━━━━━━━━━━━━━━━━━━━\u001b[0m\u001b[37m\u001b[0m \u001b[1m4s\u001b[0m 30ms/step - accuracy: 0.9925 - loss: 2.5543 - weighted_accuracy: 0.9925 - val_accuracy: 0.7289 - val_loss: 3.5653 - val_weighted_accuracy: 0.7289\n",
            "Epoch 56/100\n",
            "\u001b[1m124/124\u001b[0m \u001b[32m━━━━━━━━━━━━━━━━━━━━\u001b[0m\u001b[37m\u001b[0m \u001b[1m4s\u001b[0m 30ms/step - accuracy: 0.9895 - loss: 2.4924 - weighted_accuracy: 0.9895 - val_accuracy: 0.7208 - val_loss: 3.5531 - val_weighted_accuracy: 0.7208\n",
            "Epoch 57/100\n",
            "\u001b[1m124/124\u001b[0m \u001b[32m━━━━━━━━━━━━━━━━━━━━\u001b[0m\u001b[37m\u001b[0m \u001b[1m4s\u001b[0m 30ms/step - accuracy: 0.9914 - loss: 2.4268 - weighted_accuracy: 0.9914 - val_accuracy: 0.7188 - val_loss: 3.4421 - val_weighted_accuracy: 0.7188\n",
            "Epoch 58/100\n",
            "\u001b[1m124/124\u001b[0m \u001b[32m━━━━━━━━━━━━━━━━━━━━\u001b[0m\u001b[37m\u001b[0m \u001b[1m4s\u001b[0m 30ms/step - accuracy: 0.9914 - loss: 2.3650 - weighted_accuracy: 0.9914 - val_accuracy: 0.7249 - val_loss: 3.4125 - val_weighted_accuracy: 0.7249\n",
            "Epoch 59/100\n",
            "\u001b[1m124/124\u001b[0m \u001b[32m━━━━━━━━━━━━━━━━━━━━\u001b[0m\u001b[37m\u001b[0m \u001b[1m4s\u001b[0m 30ms/step - accuracy: 0.9960 - loss: 2.3000 - weighted_accuracy: 0.9960 - val_accuracy: 0.7310 - val_loss: 3.3009 - val_weighted_accuracy: 0.7310\n",
            "Epoch 60/100\n",
            "\u001b[1m124/124\u001b[0m \u001b[32m━━━━━━━━━━━━━━━━━━━━\u001b[0m\u001b[37m\u001b[0m \u001b[1m4s\u001b[0m 30ms/step - accuracy: 0.9937 - loss: 2.2383 - weighted_accuracy: 0.9937 - val_accuracy: 0.7117 - val_loss: 3.3049 - val_weighted_accuracy: 0.7117\n",
            "Epoch 61/100\n",
            "\u001b[1m124/124\u001b[0m \u001b[32m━━━━━━━━━━━━━━━━━━━━\u001b[0m\u001b[37m\u001b[0m \u001b[1m4s\u001b[0m 30ms/step - accuracy: 0.9950 - loss: 2.1830 - weighted_accuracy: 0.9950 - val_accuracy: 0.7279 - val_loss: 3.1990 - val_weighted_accuracy: 0.7279\n",
            "Epoch 62/100\n",
            "\u001b[1m124/124\u001b[0m \u001b[32m━━━━━━━━━━━━━━━━━━━━\u001b[0m\u001b[37m\u001b[0m \u001b[1m4s\u001b[0m 30ms/step - accuracy: 0.9961 - loss: 2.1179 - weighted_accuracy: 0.9961 - val_accuracy: 0.7259 - val_loss: 3.1648 - val_weighted_accuracy: 0.7259\n",
            "Epoch 63/100\n",
            "\u001b[1m124/124\u001b[0m \u001b[32m━━━━━━━━━━━━━━━━━━━━\u001b[0m\u001b[37m\u001b[0m \u001b[1m4s\u001b[0m 30ms/step - accuracy: 0.9940 - loss: 2.0666 - weighted_accuracy: 0.9940 - val_accuracy: 0.7228 - val_loss: 3.2230 - val_weighted_accuracy: 0.7228\n",
            "Epoch 64/100\n",
            "\u001b[1m124/124\u001b[0m \u001b[32m━━━━━━━━━━━━━━━━━━━━\u001b[0m\u001b[37m\u001b[0m \u001b[1m4s\u001b[0m 30ms/step - accuracy: 0.9963 - loss: 2.0091 - weighted_accuracy: 0.9963 - val_accuracy: 0.7086 - val_loss: 3.1273 - val_weighted_accuracy: 0.7086\n",
            "Epoch 65/100\n",
            "\u001b[1m124/124\u001b[0m \u001b[32m━━━━━━━━━━━━━━━━━━━━\u001b[0m\u001b[37m\u001b[0m \u001b[1m4s\u001b[0m 30ms/step - accuracy: 0.9929 - loss: 1.9591 - weighted_accuracy: 0.9929 - val_accuracy: 0.7249 - val_loss: 3.0239 - val_weighted_accuracy: 0.7249\n",
            "Epoch 66/100\n",
            "\u001b[1m124/124\u001b[0m \u001b[32m━━━━━━━━━━━━━━━━━━━━\u001b[0m\u001b[37m\u001b[0m \u001b[1m4s\u001b[0m 30ms/step - accuracy: 0.9972 - loss: 1.9030 - weighted_accuracy: 0.9972 - val_accuracy: 0.7371 - val_loss: 3.0052 - val_weighted_accuracy: 0.7371\n",
            "Epoch 67/100\n",
            "\u001b[1m124/124\u001b[0m \u001b[32m━━━━━━━━━━━━━━━━━━━━\u001b[0m\u001b[37m\u001b[0m \u001b[1m4s\u001b[0m 30ms/step - accuracy: 0.9950 - loss: 1.8595 - weighted_accuracy: 0.9950 - val_accuracy: 0.7239 - val_loss: 2.9962 - val_weighted_accuracy: 0.7239\n",
            "Epoch 68/100\n",
            "\u001b[1m124/124\u001b[0m \u001b[32m━━━━━━━━━━━━━━━━━━━━\u001b[0m\u001b[37m\u001b[0m \u001b[1m4s\u001b[0m 30ms/step - accuracy: 0.9891 - loss: 1.8193 - weighted_accuracy: 0.9891 - val_accuracy: 0.7178 - val_loss: 3.0150 - val_weighted_accuracy: 0.7178\n",
            "Epoch 69/100\n",
            "\u001b[1m124/124\u001b[0m \u001b[32m━━━━━━━━━━━━━━━━━━━━\u001b[0m\u001b[37m\u001b[0m \u001b[1m4s\u001b[0m 29ms/step - accuracy: 0.9953 - loss: 1.7615 - weighted_accuracy: 0.9953 - val_accuracy: 0.7360 - val_loss: 2.8447 - val_weighted_accuracy: 0.7360\n",
            "Epoch 70/100\n",
            "\u001b[1m124/124\u001b[0m \u001b[32m━━━━━━━━━━━━━━━━━━━━\u001b[0m\u001b[37m\u001b[0m \u001b[1m4s\u001b[0m 30ms/step - accuracy: 0.9937 - loss: 1.7160 - weighted_accuracy: 0.9937 - val_accuracy: 0.7188 - val_loss: 2.7895 - val_weighted_accuracy: 0.7188\n",
            "Epoch 71/100\n",
            "\u001b[1m124/124\u001b[0m \u001b[32m━━━━━━━━━━━━━━━━━━━━\u001b[0m\u001b[37m\u001b[0m \u001b[1m4s\u001b[0m 30ms/step - accuracy: 0.9968 - loss: 1.6673 - weighted_accuracy: 0.9968 - val_accuracy: 0.7421 - val_loss: 2.7845 - val_weighted_accuracy: 0.7421\n",
            "Epoch 72/100\n",
            "\u001b[1m124/124\u001b[0m \u001b[32m━━━━━━━━━━━━━━━━━━━━\u001b[0m\u001b[37m\u001b[0m \u001b[1m4s\u001b[0m 30ms/step - accuracy: 0.9968 - loss: 1.6259 - weighted_accuracy: 0.9968 - val_accuracy: 0.7492 - val_loss: 2.7369 - val_weighted_accuracy: 0.7492\n",
            "Epoch 73/100\n",
            "\u001b[1m124/124\u001b[0m \u001b[32m━━━━━━━━━━━━━━━━━━━━\u001b[0m\u001b[37m\u001b[0m \u001b[1m4s\u001b[0m 30ms/step - accuracy: 0.9955 - loss: 1.5851 - weighted_accuracy: 0.9955 - val_accuracy: 0.7157 - val_loss: 2.7350 - val_weighted_accuracy: 0.7157\n",
            "Epoch 74/100\n",
            "\u001b[1m124/124\u001b[0m \u001b[32m━━━━━━━━━━━━━━━━━━━━\u001b[0m\u001b[37m\u001b[0m \u001b[1m4s\u001b[0m 30ms/step - accuracy: 0.9975 - loss: 1.5393 - weighted_accuracy: 0.9975 - val_accuracy: 0.7360 - val_loss: 2.7475 - val_weighted_accuracy: 0.7360\n",
            "Epoch 75/100\n",
            "\u001b[1m124/124\u001b[0m \u001b[32m━━━━━━━━━━━━━━━━━━━━\u001b[0m\u001b[37m\u001b[0m \u001b[1m4s\u001b[0m 30ms/step - accuracy: 0.9938 - loss: 1.5024 - weighted_accuracy: 0.9938 - val_accuracy: 0.7239 - val_loss: 2.7177 - val_weighted_accuracy: 0.7239\n",
            "Epoch 76/100\n",
            "\u001b[1m124/124\u001b[0m \u001b[32m━━━━━━━━━━━━━━━━━━━━\u001b[0m\u001b[37m\u001b[0m \u001b[1m4s\u001b[0m 30ms/step - accuracy: 0.9898 - loss: 1.4747 - weighted_accuracy: 0.9898 - val_accuracy: 0.7401 - val_loss: 2.5750 - val_weighted_accuracy: 0.7401\n",
            "Epoch 77/100\n",
            "\u001b[1m124/124\u001b[0m \u001b[32m━━━━━━━━━━━━━━━━━━━━\u001b[0m\u001b[37m\u001b[0m \u001b[1m4s\u001b[0m 30ms/step - accuracy: 0.9974 - loss: 1.4261 - weighted_accuracy: 0.9974 - val_accuracy: 0.7208 - val_loss: 2.4678 - val_weighted_accuracy: 0.7208\n",
            "Epoch 78/100\n",
            "\u001b[1m124/124\u001b[0m \u001b[32m━━━━━━━━━━━━━━━━━━━━\u001b[0m\u001b[37m\u001b[0m \u001b[1m4s\u001b[0m 30ms/step - accuracy: 0.9967 - loss: 1.3905 - weighted_accuracy: 0.9967 - val_accuracy: 0.7350 - val_loss: 2.4368 - val_weighted_accuracy: 0.7350\n",
            "Epoch 79/100\n",
            "\u001b[1m124/124\u001b[0m \u001b[32m━━━━━━━━━━━━━━━━━━━━\u001b[0m\u001b[37m\u001b[0m \u001b[1m4s\u001b[0m 30ms/step - accuracy: 0.9957 - loss: 1.3591 - weighted_accuracy: 0.9957 - val_accuracy: 0.7462 - val_loss: 2.4721 - val_weighted_accuracy: 0.7462\n",
            "Epoch 80/100\n",
            "\u001b[1m124/124\u001b[0m \u001b[32m━━━━━━━━━━━━━━━━━━━━\u001b[0m\u001b[37m\u001b[0m \u001b[1m4s\u001b[0m 30ms/step - accuracy: 0.9979 - loss: 1.3165 - weighted_accuracy: 0.9979 - val_accuracy: 0.7096 - val_loss: 2.5358 - val_weighted_accuracy: 0.7096\n",
            "Epoch 81/100\n",
            "\u001b[1m124/124\u001b[0m \u001b[32m━━━━━━━━━━━━━━━━━━━━\u001b[0m\u001b[37m\u001b[0m \u001b[1m4s\u001b[0m 30ms/step - accuracy: 0.9980 - loss: 1.2862 - weighted_accuracy: 0.9980 - val_accuracy: 0.7269 - val_loss: 2.4792 - val_weighted_accuracy: 0.7269\n",
            "Epoch 82/100\n",
            "\u001b[1m124/124\u001b[0m \u001b[32m━━━━━━━━━━━━━━━━━━━━\u001b[0m\u001b[37m\u001b[0m \u001b[1m4s\u001b[0m 30ms/step - accuracy: 0.9970 - loss: 1.2524 - weighted_accuracy: 0.9970 - val_accuracy: 0.7178 - val_loss: 2.4310 - val_weighted_accuracy: 0.7178\n",
            "Epoch 83/100\n",
            "\u001b[1m124/124\u001b[0m \u001b[32m━━━━━━━━━━━━━━━━━━━━\u001b[0m\u001b[37m\u001b[0m \u001b[1m4s\u001b[0m 30ms/step - accuracy: 0.9959 - loss: 1.2254 - weighted_accuracy: 0.9959 - val_accuracy: 0.7249 - val_loss: 2.4281 - val_weighted_accuracy: 0.7249\n",
            "Epoch 84/100\n",
            "\u001b[1m124/124\u001b[0m \u001b[32m━━━━━━━━━━━━━━━━━━━━\u001b[0m\u001b[37m\u001b[0m \u001b[1m4s\u001b[0m 30ms/step - accuracy: 0.9953 - loss: 1.1957 - weighted_accuracy: 0.9953 - val_accuracy: 0.7574 - val_loss: 2.3267 - val_weighted_accuracy: 0.7574\n",
            "Epoch 85/100\n",
            "\u001b[1m124/124\u001b[0m \u001b[32m━━━━━━━━━━━━━━━━━━━━\u001b[0m\u001b[37m\u001b[0m \u001b[1m4s\u001b[0m 30ms/step - accuracy: 0.9968 - loss: 1.1612 - weighted_accuracy: 0.9968 - val_accuracy: 0.7228 - val_loss: 2.4331 - val_weighted_accuracy: 0.7228\n",
            "Epoch 86/100\n",
            "\u001b[1m124/124\u001b[0m \u001b[32m━━━━━━━━━━━━━━━━━━━━\u001b[0m\u001b[37m\u001b[0m \u001b[1m4s\u001b[0m 30ms/step - accuracy: 0.9972 - loss: 1.1325 - weighted_accuracy: 0.9972 - val_accuracy: 0.7147 - val_loss: 2.3582 - val_weighted_accuracy: 0.7147\n",
            "Epoch 87/100\n",
            "\u001b[1m124/124\u001b[0m \u001b[32m━━━━━━━━━━━━━━━━━━━━\u001b[0m\u001b[37m\u001b[0m \u001b[1m4s\u001b[0m 30ms/step - accuracy: 0.9962 - loss: 1.1064 - weighted_accuracy: 0.9962 - val_accuracy: 0.7330 - val_loss: 2.1573 - val_weighted_accuracy: 0.7330\n",
            "Epoch 88/100\n",
            "\u001b[1m124/124\u001b[0m \u001b[32m━━━━━━━━━━━━━━━━━━━━\u001b[0m\u001b[37m\u001b[0m \u001b[1m4s\u001b[0m 30ms/step - accuracy: 0.9964 - loss: 1.0806 - weighted_accuracy: 0.9964 - val_accuracy: 0.7472 - val_loss: 2.2732 - val_weighted_accuracy: 0.7472\n",
            "Epoch 89/100\n",
            "\u001b[1m124/124\u001b[0m \u001b[32m━━━━━━━━━━━━━━━━━━━━\u001b[0m\u001b[37m\u001b[0m \u001b[1m4s\u001b[0m 30ms/step - accuracy: 0.9974 - loss: 1.0526 - weighted_accuracy: 0.9974 - val_accuracy: 0.7503 - val_loss: 2.1764 - val_weighted_accuracy: 0.7503\n",
            "Epoch 90/100\n",
            "\u001b[1m124/124\u001b[0m \u001b[32m━━━━━━━━━━━━━━━━━━━━\u001b[0m\u001b[37m\u001b[0m \u001b[1m4s\u001b[0m 30ms/step - accuracy: 0.9941 - loss: 1.0350 - weighted_accuracy: 0.9941 - val_accuracy: 0.7147 - val_loss: 2.1841 - val_weighted_accuracy: 0.7147\n",
            "Epoch 91/100\n",
            "\u001b[1m124/124\u001b[0m \u001b[32m━━━━━━━━━━━━━━━━━━━━\u001b[0m\u001b[37m\u001b[0m \u001b[1m4s\u001b[0m 30ms/step - accuracy: 0.9970 - loss: 1.0069 - weighted_accuracy: 0.9970 - val_accuracy: 0.7269 - val_loss: 2.2429 - val_weighted_accuracy: 0.7269\n",
            "Epoch 92/100\n",
            "\u001b[1m124/124\u001b[0m \u001b[32m━━━━━━━━━━━━━━━━━━━━\u001b[0m\u001b[37m\u001b[0m \u001b[1m4s\u001b[0m 30ms/step - accuracy: 0.9965 - loss: 0.9818 - weighted_accuracy: 0.9965 - val_accuracy: 0.7107 - val_loss: 2.0894 - val_weighted_accuracy: 0.7107\n",
            "Epoch 93/100\n",
            "\u001b[1m124/124\u001b[0m \u001b[32m━━━━━━━━━━━━━━━━━━━━\u001b[0m\u001b[37m\u001b[0m \u001b[1m4s\u001b[0m 30ms/step - accuracy: 0.9971 - loss: 0.9618 - weighted_accuracy: 0.9971 - val_accuracy: 0.7360 - val_loss: 2.0254 - val_weighted_accuracy: 0.7360\n",
            "Epoch 94/100\n",
            "\u001b[1m124/124\u001b[0m \u001b[32m━━━━━━━━━━━━━━━━━━━━\u001b[0m\u001b[37m\u001b[0m \u001b[1m4s\u001b[0m 30ms/step - accuracy: 0.9987 - loss: 0.9395 - weighted_accuracy: 0.9987 - val_accuracy: 0.7208 - val_loss: 2.1575 - val_weighted_accuracy: 0.7208\n",
            "Epoch 95/100\n",
            "\u001b[1m124/124\u001b[0m \u001b[32m━━━━━━━━━━━━━━━━━━━━\u001b[0m\u001b[37m\u001b[0m \u001b[1m4s\u001b[0m 30ms/step - accuracy: 0.9992 - loss: 0.9135 - weighted_accuracy: 0.9992 - val_accuracy: 0.7401 - val_loss: 2.1049 - val_weighted_accuracy: 0.7401\n",
            "Epoch 96/100\n",
            "\u001b[1m124/124\u001b[0m \u001b[32m━━━━━━━━━━━━━━━━━━━━\u001b[0m\u001b[37m\u001b[0m \u001b[1m4s\u001b[0m 30ms/step - accuracy: 0.9946 - loss: 0.9033 - weighted_accuracy: 0.9946 - val_accuracy: 0.7289 - val_loss: 2.1101 - val_weighted_accuracy: 0.7289\n",
            "Epoch 97/100\n",
            "\u001b[1m124/124\u001b[0m \u001b[32m━━━━━━━━━━━━━━━━━━━━\u001b[0m\u001b[37m\u001b[0m \u001b[1m4s\u001b[0m 30ms/step - accuracy: 0.9940 - loss: 0.8826 - weighted_accuracy: 0.9940 - val_accuracy: 0.7462 - val_loss: 1.9440 - val_weighted_accuracy: 0.7462\n",
            "Epoch 98/100\n",
            "\u001b[1m124/124\u001b[0m \u001b[32m━━━━━━━━━━━━━━━━━━━━\u001b[0m\u001b[37m\u001b[0m \u001b[1m4s\u001b[0m 30ms/step - accuracy: 0.9968 - loss: 0.8588 - weighted_accuracy: 0.9968 - val_accuracy: 0.7320 - val_loss: 2.0560 - val_weighted_accuracy: 0.7320\n",
            "Epoch 99/100\n",
            "\u001b[1m124/124\u001b[0m \u001b[32m━━━━━━━━━━━━━━━━━━━━\u001b[0m\u001b[37m\u001b[0m \u001b[1m4s\u001b[0m 30ms/step - accuracy: 0.9967 - loss: 0.8424 - weighted_accuracy: 0.9967 - val_accuracy: 0.7472 - val_loss: 2.0776 - val_weighted_accuracy: 0.7472\n",
            "Epoch 100/100\n",
            "\u001b[1m124/124\u001b[0m \u001b[32m━━━━━━━━━━━━━━━━━━━━\u001b[0m\u001b[37m\u001b[0m \u001b[1m4s\u001b[0m 30ms/step - accuracy: 0.9993 - loss: 0.8183 - weighted_accuracy: 0.9993 - val_accuracy: 0.7340 - val_loss: 1.9963 - val_weighted_accuracy: 0.7340\n",
            "best_epoch:  83\n"
          ]
        },
        {
          "output_type": "display_data",
          "data": {
            "text/plain": [
              "<Figure size 1500x500 with 2 Axes>"
            ],
            "image/png": "[encoded data removed]"
          },
          "metadata": {}
        }
      ],
      "source": [
        "model = build_model(training_features)\n",
        "\n",
        "callback = tf.keras.callbacks.EarlyStopping(\n",
        "    monitor=\"val_loss\",\n",
        "    patience=10,\n",
        "    restore_best_weights=True\n",
        ")\n",
        "\n",
        "history = model.fit(\n",
        "    x=training_features,\n",
        "    y=train_y,\n",
        "    epochs=100,\n",
        "    validation_data=(\n",
        "        validation_features,\n",
        "        val_y,\n",
        "    ),\n",
        "    batch_size=32,\n",
        "    verbose=1,\n",
        "    callbacks=[callback]\n",
        ")\n",
        "\n",
        "best_epoch = history.history['val_weighted_accuracy'].index(max(history.history['val_weighted_accuracy']))+1\n",
        "print('best_epoch: ', best_epoch)\n",
        "visualize(history)"
      ]
    },
    {
      "cell_type": "code",
      "execution_count": 106,
      "metadata": {
        "colab": {
          "base_uri": "https://localhost:8080/"
        },
        "id": "RgH6cTZ1TURV",
        "outputId": "4c764c37-53fd-4d44-a7bd-20e3aeb20c49"
      },
      "outputs": [
        {
          "output_type": "stream",
          "name": "stdout",
          "text": [
            "\u001b[1m124/124\u001b[0m \u001b[32m━━━━━━━━━━━━━━━━━━━━\u001b[0m\u001b[37m\u001b[0m \u001b[1m1s\u001b[0m 9ms/step\n",
            "\u001b[1m124/124\u001b[0m \u001b[32m━━━━━━━━━━━━━━━━━━━━\u001b[0m\u001b[37m\u001b[0m \u001b[1m2s\u001b[0m 12ms/step - accuracy: 1.0000 - loss: 0.8509 - weighted_accuracy: 1.0000\n",
            "\u001b[1m31/31\u001b[0m \u001b[32m━━━━━━━━━━━━━━━━━━━━\u001b[0m\u001b[37m\u001b[0m \u001b[1m0s\u001b[0m 10ms/step\n",
            "\u001b[1m31/31\u001b[0m \u001b[32m━━━━━━━━━━━━━━━━━━━━\u001b[0m\u001b[37m\u001b[0m \u001b[1m0s\u001b[0m 9ms/step - accuracy: 0.7404 - loss: 2.0654 - weighted_accuracy: 0.7404\n"
          ]
        }
      ],
      "source": [
        "train_yhat = model.predict(training_features)\n",
        "train_yhat_result = np.argmax(train_yhat, axis=-1)\n",
        "train_results['melspectrogram_chroma_mfcc'] = model.evaluate(training_features, train_y)[-1]\n",
        "\n",
        "val_yhat = model.predict(validation_features)\n",
        "val_yhat_result = np.argmax(val_yhat, axis=-1)\n",
        "val_results['melspectrogram_chroma_mfcc'] = model.evaluate(validation_features, val_y)[-1]"
      ]
    },
    {
      "cell_type": "markdown",
      "metadata": {
        "id": "6nEAMJEYTURV"
      },
      "source": [
        "# Review results from all models"
      ]
    },
    {
      "cell_type": "code",
      "execution_count": 107,
      "metadata": {
        "colab": {
          "base_uri": "https://localhost:8080/",
          "height": 125
        },
        "id": "ZtnjgCgBTURW",
        "outputId": "ec624594-bbf9-4ae3-f083-73a56cd467cc"
      },
      "outputs": [
        {
          "output_type": "execute_result",
          "data": {
            "text/plain": [
              "                     Features  Train_Accuracy  Val_Accuracy\n",
              "0                all_features             1.0         0.732\n",
              "1  melspectrogram_chroma_mfcc             1.0         0.746"
            ],
            "text/html": [
              "\n",
              "  <div id=\"df-d506c79f-3258-453e-a4c8-a35ae260a574\" class=\"colab-df-container\">\n",
              "    <div>\n",
              "<style scoped>\n",
              "    .dataframe tbody tr th:only-of-type {\n",
              "        vertical-align: middle;\n",
              "    }\n",
              "\n",
              "    .dataframe tbody tr th {\n",
              "        vertical-align: top;\n",
              "    }\n",
              "\n",
              "    .dataframe thead th {\n",
              "        text-align: right;\n",
              "    }\n",
              "</style>\n",
              "<table border=\"1\" class=\"dataframe\">\n",
              "  <thead>\n",
              "    <tr style=\"text-align: right;\">\n",
              "      <th></th>\n",
              "      <th>Features</th>\n",
              "      <th>Train_Accuracy</th>\n",
              "      <th>Val_Accuracy</th>\n",
              "    </tr>\n",
              "  </thead>\n",
              "  <tbody>\n",
              "    <tr>\n",
              "      <th>0</th>\n",
              "      <td>all_features</td>\n",
              "      <td>1.0</td>\n",
              "      <td>0.732</td>\n",
              "    </tr>\n",
              "    <tr>\n",
              "      <th>1</th>\n",
              "      <td>melspectrogram_chroma_mfcc</td>\n",
              "      <td>1.0</td>\n",
              "      <td>0.746</td>\n",
              "    </tr>\n",
              "  </tbody>\n",
              "</table>\n",
              "</div>\n",
              "    <div class=\"colab-df-buttons\">\n",
              "\n",
              "  <div class=\"colab-df-container\">\n",
              "    <button class=\"colab-df-convert\" onclick=\"convertToInteractive('df-d506c79f-3258-453e-a4c8-a35ae260a574')\"\n",
              "            title=\"Convert this dataframe to an interactive table.\"\n",
              "            style=\"display:none;\">\n",
              "\n",
              "  <svg xmlns=\"http://www.w3.org/2000/svg\" height=\"24px\" viewBox=\"0 -960 960 960\">\n",
              "    <path d=\"M120-120v-720h720v720H120Zm60-500h600v-160H180v160Zm220 220h160v-160H400v160Zm0 220h160v-160H400v160ZM180-400h160v-160H180v160Zm440 0h160v-160H620v160ZM180-180h160v-160H180v160Zm440 0h160v-160H620v160Z\"/>\n",
              "  </svg>\n",
              "    </button>\n",
              "\n",
              "  <style>\n",
              "    .colab-df-container {\n",
              "      display:flex;\n",
              "      gap: 12px;\n",
              "    }\n",
              "\n",
              "    .colab-df-convert {\n",
              "      background-color: #E8F0FE;\n",
              "      border: none;\n",
              "      border-radius: 50%;\n",
              "      cursor: pointer;\n",
              "      display: none;\n",
              "      fill: #1967D2;\n",
              "      height: 32px;\n",
              "      padding: 0 0 0 0;\n",
              "      width: 32px;\n",
              "    }\n",
              "\n",
              "    .colab-df-convert:hover {\n",
              "      background-color: #E2EBFA;\n",
              "      box-shadow: 0px 1px 2px rgba(60, 64, 67, 0.3), 0px 1px 3px 1px rgba(60, 64, 67, 0.15);\n",
              "      fill: #174EA6;\n",
              "    }\n",
              "\n",
              "    .colab-df-buttons div {\n",
              "      margin-bottom: 4px;\n",
              "    }\n",
              "\n",
              "    [theme=dark] .colab-df-convert {\n",
              "      background-color: #3B4455;\n",
              "      fill: #D2E3FC;\n",
              "    }\n",
              "\n",
              "    [theme=dark] .colab-df-convert:hover {\n",
              "      background-color: #434B5C;\n",
              "      box-shadow: 0px 1px 3px 1px rgba(0, 0, 0, 0.15);\n",
              "      filter: drop-shadow(0px 1px 2px rgba(0, 0, 0, 0.3));\n",
              "      fill: #FFFFFF;\n",
              "    }\n",
              "  </style>\n",
              "\n",
              "    <script>\n",
              "      const buttonEl =\n",
              "        document.querySelector('#df-d506c79f-3258-453e-a4c8-a35ae260a574 button.colab-df-convert');\n",
              "      buttonEl.style.display =\n",
              "        google.colab.kernel.accessAllowed ? 'block' : 'none';\n",
              "\n",
              "      async function convertToInteractive(key) {\n",
              "        const element = document.querySelector('#df-d506c79f-3258-453e-a4c8-a35ae260a574');\n",
              "        const dataTable =\n",
              "          await google.colab.kernel.invokeFunction('convertToInteractive',\n",
              "                                                    [key], {});\n",
              "        if (!dataTable) return;\n",
              "\n",
              "        const docLinkHtml = 'Like what you see? Visit the ' +\n",
              "          '<a target=\"_blank\" href=https://colab.research.google.com/notebooks/data_table.ipynb>data table notebook</a>'\n",
              "          + ' to learn more about interactive tables.';\n",
              "        element.innerHTML = '';\n",
              "        dataTable['output_type'] = 'display_data';\n",
              "        await google.colab.output.renderOutput(dataTable, element);\n",
              "        const docLink = document.createElement('div');\n",
              "        docLink.innerHTML = docLinkHtml;\n",
              "        element.appendChild(docLink);\n",
              "      }\n",
              "    </script>\n",
              "  </div>\n",
              "\n",
              "\n",
              "<div id=\"df-f37e6ac9-c091-46f5-a73e-ffae97639474\">\n",
              "  <button class=\"colab-df-quickchart\" onclick=\"quickchart('df-f37e6ac9-c091-46f5-a73e-ffae97639474')\"\n",
              "            title=\"Suggest charts\"\n",
              "            style=\"display:none;\">\n",
              "\n",
              "<svg xmlns=\"http://www.w3.org/2000/svg\" height=\"24px\"viewBox=\"0 0 24 24\"\n",
              "     width=\"24px\">\n",
              "    <g>\n",
              "        <path d=\"M19 3H5c-1.1 0-2 .9-2 2v14c0 1.1.9 2 2 2h14c1.1 0 2-.9 2-2V5c0-1.1-.9-2-2-2zM9 17H7v-7h2v7zm4 0h-2V7h2v10zm4 0h-2v-4h2v4z\"/>\n",
              "    </g>\n",
              "</svg>\n",
              "  </button>\n",
              "\n",
              "<style>\n",
              "  .colab-df-quickchart {\n",
              "      --bg-color: #E8F0FE;\n",
              "      --fill-color: #1967D2;\n",
              "      --hover-bg-color: #E2EBFA;\n",
              "      --hover-fill-color: #174EA6;\n",
              "      --disabled-fill-color: #AAA;\n",
              "      --disabled-bg-color: #DDD;\n",
              "  }\n",
              "\n",
              "  [theme=dark] .colab-df-quickchart {\n",
              "      --bg-color: #3B4455;\n",
              "      --fill-color: #D2E3FC;\n",
              "      --hover-bg-color: #434B5C;\n",
              "      --hover-fill-color: #FFFFFF;\n",
              "      --disabled-bg-color: #3B4455;\n",
              "      --disabled-fill-color: #666;\n",
              "  }\n",
              "\n",
              "  .colab-df-quickchart {\n",
              "    background-color: var(--bg-color);\n",
              "    border: none;\n",
              "    border-radius: 50%;\n",
              "    cursor: pointer;\n",
              "    display: none;\n",
              "    fill: var(--fill-color);\n",
              "    height: 32px;\n",
              "    padding: 0;\n",
              "    width: 32px;\n",
              "  }\n",
              "\n",
              "  .colab-df-quickchart:hover {\n",
              "    background-color: var(--hover-bg-color);\n",
              "    box-shadow: 0 1px 2px rgba(60, 64, 67, 0.3), 0 1px 3px 1px rgba(60, 64, 67, 0.15);\n",
              "    fill: var(--button-hover-fill-color);\n",
              "  }\n",
              "\n",
              "  .colab-df-quickchart-complete:disabled,\n",
              "  .colab-df-quickchart-complete:disabled:hover {\n",
              "    background-color: var(--disabled-bg-color);\n",
              "    fill: var(--disabled-fill-color);\n",
              "    box-shadow: none;\n",
              "  }\n",
              "\n",
              "  .colab-df-spinner {\n",
              "    border: 2px solid var(--fill-color);\n",
              "    border-color: transparent;\n",
              "    border-bottom-color: var(--fill-color);\n",
              "    animation:\n",
              "      spin 1s steps(1) infinite;\n",
              "  }\n",
              "\n",
              "  @keyframes spin {\n",
              "    0% {\n",
              "      border-color: transparent;\n",
              "      border-bottom-color: var(--fill-color);\n",
              "      border-left-color: var(--fill-color);\n",
              "    }\n",
              "    20% {\n",
              "      border-color: transparent;\n",
              "      border-left-color: var(--fill-color);\n",
              "      border-top-color: var(--fill-color);\n",
              "    }\n",
              "    30% {\n",
              "      border-color: transparent;\n",
              "      border-left-color: var(--fill-color);\n",
              "      border-top-color: var(--fill-color);\n",
              "      border-right-color: var(--fill-color);\n",
              "    }\n",
              "    40% {\n",
              "      border-color: transparent;\n",
              "      border-right-color: var(--fill-color);\n",
              "      border-top-color: var(--fill-color);\n",
              "    }\n",
              "    60% {\n",
              "      border-color: transparent;\n",
              "      border-right-color: var(--fill-color);\n",
              "    }\n",
              "    80% {\n",
              "      border-color: transparent;\n",
              "      border-right-color: var(--fill-color);\n",
              "      border-bottom-color: var(--fill-color);\n",
              "    }\n",
              "    90% {\n",
              "      border-color: transparent;\n",
              "      border-bottom-color: var(--fill-color);\n",
              "    }\n",
              "  }\n",
              "</style>\n",
              "\n",
              "  <script>\n",
              "    async function quickchart(key) {\n",
              "      const quickchartButtonEl =\n",
              "        document.querySelector('#' + key + ' button');\n",
              "      quickchartButtonEl.disabled = true;  // To prevent multiple clicks.\n",
              "      quickchartButtonEl.classList.add('colab-df-spinner');\n",
              "      try {\n",
              "        const charts = await google.colab.kernel.invokeFunction(\n",
              "            'suggestCharts', [key], {});\n",
              "      } catch (error) {\n",
              "        console.error('Error during call to suggestCharts:', error);\n",
              "      }\n",
              "      quickchartButtonEl.classList.remove('colab-df-spinner');\n",
              "      quickchartButtonEl.classList.add('colab-df-quickchart-complete');\n",
              "    }\n",
              "    (() => {\n",
              "      let quickchartButtonEl =\n",
              "        document.querySelector('#df-f37e6ac9-c091-46f5-a73e-ffae97639474 button');\n",
              "      quickchartButtonEl.style.display =\n",
              "        google.colab.kernel.accessAllowed ? 'block' : 'none';\n",
              "    })();\n",
              "  </script>\n",
              "</div>\n",
              "\n",
              "  <div id=\"id_6552987a-6453-40c4-83d4-ac56caf66361\">\n",
              "    <style>\n",
              "      .colab-df-generate {\n",
              "        background-color: #E8F0FE;\n",
              "        border: none;\n",
              "        border-radius: 50%;\n",
              "        cursor: pointer;\n",
              "        display: none;\n",
              "        fill: #1967D2;\n",
              "        height: 32px;\n",
              "        padding: 0 0 0 0;\n",
              "        width: 32px;\n",
              "      }\n",
              "\n",
              "      .colab-df-generate:hover {\n",
              "        background-color: #E2EBFA;\n",
              "        box-shadow: 0px 1px 2px rgba(60, 64, 67, 0.3), 0px 1px 3px 1px rgba(60, 64, 67, 0.15);\n",
              "        fill: #174EA6;\n",
              "      }\n",
              "\n",
              "      [theme=dark] .colab-df-generate {\n",
              "        background-color: #3B4455;\n",
              "        fill: #D2E3FC;\n",
              "      }\n",
              "\n",
              "      [theme=dark] .colab-df-generate:hover {\n",
              "        background-color: #434B5C;\n",
              "        box-shadow: 0px 1px 3px 1px rgba(0, 0, 0, 0.15);\n",
              "        filter: drop-shadow(0px 1px 2px rgba(0, 0, 0, 0.3));\n",
              "        fill: #FFFFFF;\n",
              "      }\n",
              "    </style>\n",
              "    <button class=\"colab-df-generate\" onclick=\"generateWithVariable('result_df')\"\n",
              "            title=\"Generate code using this dataframe.\"\n",
              "            style=\"display:none;\">\n",
              "\n",
              "  <svg xmlns=\"http://www.w3.org/2000/svg\" height=\"24px\"viewBox=\"0 0 24 24\"\n",
              "       width=\"24px\">\n",
              "    <path d=\"M7,19H8.4L18.45,9,17,7.55,7,17.6ZM5,21V16.75L18.45,3.32a2,2,0,0,1,2.83,0l1.4,1.43a1.91,1.91,0,0,1,.58,1.4,1.91,1.91,0,0,1-.58,1.4L9.25,21ZM18.45,9,17,7.55Zm-12,3A5.31,5.31,0,0,0,4.9,8.1,5.31,5.31,0,0,0,1,6.5,5.31,5.31,0,0,0,4.9,4.9,5.31,5.31,0,0,0,6.5,1,5.31,5.31,0,0,0,8.1,4.9,5.31,5.31,0,0,0,12,6.5,5.46,5.46,0,0,0,6.5,12Z\"/>\n",
              "  </svg>\n",
              "    </button>\n",
              "    <script>\n",
              "      (() => {\n",
              "      const buttonEl =\n",
              "        document.querySelector('#id_6552987a-6453-40c4-83d4-ac56caf66361 button.colab-df-generate');\n",
              "      buttonEl.style.display =\n",
              "        google.colab.kernel.accessAllowed ? 'block' : 'none';\n",
              "\n",
              "      buttonEl.onclick = () => {\n",
              "        google.colab.notebook.generateWithVariable('result_df');\n",
              "      }\n",
              "      })();\n",
              "    </script>\n",
              "  </div>\n",
              "\n",
              "    </div>\n",
              "  </div>\n"
            ],
            "application/vnd.google.colaboratory.intrinsic+json": {
              "type": "dataframe",
              "variable_name": "result_df",
              "summary": "{\n  \"name\": \"result_df\",\n  \"rows\": 2,\n  \"fields\": [\n    {\n      \"column\": \"Features\",\n      \"properties\": {\n        \"dtype\": \"string\",\n        \"num_unique_values\": 2,\n        \"samples\": [\n          \"melspectrogram_chroma_mfcc\",\n          \"all_features\"\n        ],\n        \"semantic_type\": \"\",\n        \"description\": \"\"\n      }\n    },\n    {\n      \"column\": \"Train_Accuracy\",\n      \"properties\": {\n        \"dtype\": \"number\",\n        \"std\": 0.0,\n        \"min\": 1.0,\n        \"max\": 1.0,\n        \"num_unique_values\": 1,\n        \"samples\": [\n          1.0\n        ],\n        \"semantic_type\": \"\",\n        \"description\": \"\"\n      }\n    },\n    {\n      \"column\": \"Val_Accuracy\",\n      \"properties\": {\n        \"dtype\": \"number\",\n        \"std\": 0.009899494936611674,\n        \"min\": 0.732,\n        \"max\": 0.746,\n        \"num_unique_values\": 2,\n        \"samples\": [\n          0.746\n        ],\n        \"semantic_type\": \"\",\n        \"description\": \"\"\n      }\n    }\n  ]\n}"
            }
          },
          "metadata": {},
          "execution_count": 107
        }
      ],
      "source": [
        "train_results_df = pd.DataFrame(list(train_results.items()), columns=['Features', 'Train_Accuracy']).round(3)\n",
        "val_results_df = pd.DataFrame(list(val_results.items()), columns=['Features', 'Val_Accuracy']).round(3)\n",
        "\n",
        "result_df = train_results_df.merge(val_results_df, on='Features')\n",
        "result_df = result_df.sort_values('Features')\n",
        "result_df"
      ]
    }
  ],
  "metadata": {
    "colab": {
      "provenance": [],
      "machine_shape": "hm",
      "gpuType": "T4"
    },
    "kernelspec": {
      "display_name": "Python 3",
      "name": "python3"
    },
    "language_info": {
      "codemirror_mode": {
        "name": "ipython",
        "version": 3
      },
      "file_extension": ".py",
      "mimetype": "text/x-python",
      "name": "python",
      "nbconvert_exporter": "python",
      "pygments_lexer": "ipython3",
      "version": "3.12.4"
    },
    "accelerator": "GPU"
  },
  "nbformat": 4,
  "nbformat_minor": 0
}