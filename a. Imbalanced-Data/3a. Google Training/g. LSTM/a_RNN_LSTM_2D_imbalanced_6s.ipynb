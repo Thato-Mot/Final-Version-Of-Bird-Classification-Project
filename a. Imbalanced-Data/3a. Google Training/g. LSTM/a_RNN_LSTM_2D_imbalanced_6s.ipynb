{
  "cells": [
    {
      "cell_type": "markdown",
      "metadata": {
        "id": "SW2EXQ68TURI"
      },
      "source": [
        "# **CNN**\n",
        "- Using data that was not annotated\n",
        "- Training it on the unbalanced data\n",
        "- Using avgpool\n",
        "- 6 second window"
      ]
    },
    {
      "cell_type": "code",
      "execution_count": 1,
      "metadata": {
        "colab": {
          "base_uri": "https://localhost:8080/"
        },
        "id": "_U9mNYFfTVUj",
        "outputId": "7253f1bd-ee84-435f-a784-c74ee9e9b3ec"
      },
      "outputs": [
        {
          "output_type": "stream",
          "name": "stdout",
          "text": [
            "Mounted at /content/drive\n"
          ]
        }
      ],
      "source": [
        "from google.colab import drive\n",
        "drive.mount('/content/drive')"
      ]
    },
    {
      "cell_type": "code",
      "execution_count": 2,
      "metadata": {
        "colab": {
          "base_uri": "https://localhost:8080/"
        },
        "id": "unH9EltATURK",
        "outputId": "c9d94591-a844-42af-91f5-1d70f3c5b3ad"
      },
      "outputs": [
        {
          "output_type": "stream",
          "name": "stdout",
          "text": [
            "pygame 2.6.1 (SDL 2.28.4, Python 3.10.12)\n",
            "Hello from the pygame community. https://www.pygame.org/contribute.html\n"
          ]
        }
      ],
      "source": [
        "# Standard libraries\n",
        "import numpy as np\n",
        "import pandas as pd\n",
        "import time\n",
        "import os\n",
        "\n",
        "# For audio\n",
        "from IPython.display import Audio\n",
        "import librosa\n",
        "\n",
        "# For preprocessing\n",
        "from sklearn.preprocessing import LabelEncoder\n",
        "from sklearn.preprocessing import MinMaxScaler\n",
        "from sklearn.preprocessing import OneHotEncoder\n",
        "import tensorflow as tf\n",
        "\n",
        "# For modeling\n",
        "from sklearn.preprocessing import StandardScaler\n",
        "from sklearn.metrics import accuracy_score\n",
        "from sklearn.metrics import classification_report\n",
        "from tensorflow.keras.callbacks import EarlyStopping, ModelCheckpoint\n",
        "\n",
        "# Operational\n",
        "from tqdm import tqdm\n",
        "import matplotlib.pyplot as plt\n",
        "import seaborn as sns\n",
        "import pickle\n",
        "import scipy.ndimage\n",
        "import pygame\n",
        "import time\n",
        "from scipy.signal import butter, filtfilt\n",
        "import random"
      ]
    },
    {
      "cell_type": "code",
      "execution_count": 3,
      "metadata": {
        "id": "mlqgV3cmTURL"
      },
      "outputs": [],
      "source": [
        "pkl_path = '/content/drive/My Drive/Final-Year-Project/Dataset/Project-V4/feature-extraction/Annotated/NotAveragePooled/split_features_6s_all.pkl'\n",
        "\n",
        "# Load the pickle file\n",
        "with open(pkl_path, 'rb') as file:\n",
        "    data = pickle.load(file)"
      ]
    },
    {
      "cell_type": "code",
      "execution_count": 4,
      "metadata": {
        "id": "8p6TQhwwTURL"
      },
      "outputs": [],
      "source": [
        "train_data = data['train'].copy()\n",
        "val_data = data['val'].copy()"
      ]
    },
    {
      "cell_type": "code",
      "execution_count": 5,
      "metadata": {
        "id": "qb7f1dNtTURM"
      },
      "outputs": [],
      "source": [
        "# train_data]"
      ]
    },
    {
      "cell_type": "code",
      "execution_count": 6,
      "metadata": {
        "id": "EKxvpIm6TURM"
      },
      "outputs": [],
      "source": [
        "train_labels = train_data['label'].copy()\n",
        "temp = train_data.copy()\n",
        "del temp['label']\n",
        "tr_features = temp"
      ]
    },
    {
      "cell_type": "code",
      "execution_count": 7,
      "metadata": {
        "id": "nE7j0mUyTURM"
      },
      "outputs": [],
      "source": [
        "val_labels = val_data['label'].copy()\n",
        "temp = val_data.copy()\n",
        "del temp['label']\n",
        "v_features = temp"
      ]
    },
    {
      "cell_type": "markdown",
      "metadata": {
        "id": "t1t9jjgRTURM"
      },
      "source": [
        "# Shuffle Data"
      ]
    },
    {
      "cell_type": "code",
      "execution_count": 8,
      "metadata": {
        "id": "ziN0DkZ0TURN"
      },
      "outputs": [],
      "source": [
        "def shuffle_data(input_label, input_features):\n",
        "  input_len = len(input_label)\n",
        "  np.random.seed(1826)\n",
        "  input_indices = np.random.permutation(input_len)\n",
        "  input_features = {key: np.array([input_features[key][i] for i in input_indices]) for key in input_features} # dictionary comprehension\n",
        "  input_label = np.array([input_label[i] for i in input_indices])\n",
        "\n",
        "  return input_label, input_features"
      ]
    },
    {
      "cell_type": "code",
      "execution_count": 9,
      "metadata": {
        "id": "nJipBvImTURN"
      },
      "outputs": [],
      "source": [
        "train_y, train_features = shuffle_data(train_labels, tr_features)"
      ]
    },
    {
      "cell_type": "code",
      "execution_count": 10,
      "metadata": {
        "id": "GSujj_rjTURN"
      },
      "outputs": [],
      "source": [
        "val_y, val_features = shuffle_data(val_labels, v_features)"
      ]
    },
    {
      "cell_type": "code",
      "execution_count": 11,
      "metadata": {
        "id": "LmSwiOgMTURN"
      },
      "outputs": [],
      "source": [
        "# display(train_y.shape)\n",
        "# display(train_y[:15])"
      ]
    },
    {
      "cell_type": "code",
      "execution_count": 12,
      "metadata": {
        "id": "mqnk3KrrTURO"
      },
      "outputs": [],
      "source": [
        "# for key in train_features.keys():\n",
        "#   display(key)\n",
        "#   display(train_features[key].shape)\n",
        "#   display(train_features[key][0])"
      ]
    },
    {
      "cell_type": "code",
      "execution_count": 13,
      "metadata": {
        "id": "--DBo6dJTURO"
      },
      "outputs": [],
      "source": [
        "# display(val_y.shape)\n",
        "# display(val_y[:15])"
      ]
    },
    {
      "cell_type": "code",
      "execution_count": 14,
      "metadata": {
        "id": "-9PplE74TURO"
      },
      "outputs": [],
      "source": [
        "# for key in val_features.keys():\n",
        "#   display(key)\n",
        "#   display(val_features[key].shape)\n",
        "#   display(val_features[key][0])"
      ]
    },
    {
      "cell_type": "markdown",
      "metadata": {
        "id": "xJinfXlETURO"
      },
      "source": [
        "## **LSTM Model**"
      ]
    },
    {
      "cell_type": "code",
      "execution_count": 40,
      "metadata": {
        "id": "4vB4WqK0C3z6"
      },
      "outputs": [],
      "source": [
        "def build_model(audio_features,\n",
        "                learning_rate=0.00001,\n",
        "                lstm=256,\n",
        "                hidden=[128,64,64],\n",
        "                dropout=0.1):\n",
        "\n",
        "  tf.keras.backend.clear_session()\n",
        "\n",
        "  # set audio features input layer\n",
        "  audio_features = tf.keras.layers.Input(shape=(audio_features.shape[1],audio_features.shape[2]), name='Audio_Features')\n",
        "\n",
        "  # add sequential model\n",
        "  model = tf.keras.models.Sequential()\n",
        "  model.add(tf.keras.layers.LSTM(lstm, input_shape=(audio_features.shape[1],audio_features.shape[2])))\n",
        "  model.add(tf.keras.layers.BatchNormalization())\n",
        "  model.add(tf.keras.layers.Dropout(dropout))\n",
        "\n",
        "  for size in hidden:\n",
        "    model.add(tf.keras.layers.Dense(size, activation='relu', kernel_regularizer=tf.keras.regularizers.l2(0.001)))\n",
        "\n",
        "\n",
        "  model.add(tf.keras.layers.Dense(units=20,activation='softmax'))\n",
        "\n",
        "  print(model.summary())\n",
        "\n",
        "  # compile model\n",
        "  model.compile(optimizer=tf.keras.optimizers.Adam(learning_rate=learning_rate),\n",
        "              loss=tf.keras.losses.SparseCategoricalCrossentropy(),\n",
        "              metrics=['accuracy'],\n",
        "              weighted_metrics=['accuracy'])\n",
        "\n",
        "  return model"
      ]
    },
    {
      "cell_type": "code",
      "execution_count": 16,
      "metadata": {
        "id": "kca4GAXuC3z6"
      },
      "outputs": [],
      "source": [
        "def visualize(model_history):\n",
        "    fig, axes = plt.subplots(nrows=1, ncols=2, figsize=(15, 5))\n",
        "\n",
        "    # Visualize the loss\n",
        "    axes[0].plot(model_history.history['loss'], color='red', label='Training Loss')\n",
        "    axes[0].plot(model_history.history['val_loss'], color='blue', label='Validation Loss')\n",
        "    axes[0].set_xlabel('Epoch', fontsize=12)\n",
        "    axes[0].set_ylabel('Loss', fontsize=12)\n",
        "    axes[0].set_title('Loss Progression', fontsize=14)\n",
        "    axes[0].grid(True)\n",
        "    axes[0].legend()\n",
        "\n",
        "    # Visualize the accuracy\n",
        "    axes[1].plot(model_history.history['accuracy'], color='green', label='Training Accuracy')\n",
        "    axes[1].plot(model_history.history['val_accuracy'], color='orange', label='Validation Accuracy')\n",
        "    axes[1].set_xlabel('Epoch', fontsize=12)\n",
        "    axes[1].set_ylabel('Accuracy', fontsize=12)\n",
        "    axes[1].set_title('Accuracy Progression', fontsize=14)\n",
        "    axes[1].grid(True)\n",
        "    axes[1].legend()\n",
        "\n",
        "    # Fine-tune layout and display the plots\n",
        "    plt.tight_layout()\n",
        "    plt.show()"
      ]
    },
    {
      "cell_type": "code",
      "execution_count": 17,
      "metadata": {
        "id": "bKS_rAt2TURO"
      },
      "outputs": [],
      "source": [
        "train_results = {}\n",
        "val_results = {}"
      ]
    },
    {
      "cell_type": "markdown",
      "metadata": {
        "id": "9swCKhF1TURO"
      },
      "source": [
        "### **With all the features**"
      ]
    },
    {
      "cell_type": "code",
      "execution_count": 41,
      "metadata": {
        "colab": {
          "base_uri": "https://localhost:8080/"
        },
        "id": "0Un3qBBzTURP",
        "outputId": "ba9ca9b7-9878-429c-ea54-02107fb78565"
      },
      "outputs": [
        {
          "output_type": "stream",
          "name": "stdout",
          "text": [
            "(3954, 93, 259)\n"
          ]
        }
      ],
      "source": [
        "# n_time = train_features['melspectrogram'].shape[2]\n",
        "\n",
        "# mfcc_tiled = np.tile(train_features['mfcc'], (1, 3, 1))  # (3318, 60, 44), tiling 3 times to match 60 features\n",
        "# chroma_tiled = np.tile(train_features['chroma'], (1, 5, 1))  # (3318, 60, 44), tiling 5 times to match 60 features\n",
        "# rms_tiled = np.tile(train_features['rms'], (1, 60, 1))  # (3318, 60, 44), tiling 60 times to match 60 features\n",
        "\n",
        "training_features = np.concatenate((train_features['melspectrogram'], train_features['mfcc'], train_features['chroma'], train_features['rms']), axis=1)\n",
        "\n",
        "print(training_features.shape)"
      ]
    },
    {
      "cell_type": "code",
      "execution_count": 42,
      "metadata": {
        "colab": {
          "base_uri": "https://localhost:8080/"
        },
        "id": "SpD-3zGdTURP",
        "outputId": "f55f3b05-dfcf-4900-f79e-361712951d82"
      },
      "outputs": [
        {
          "output_type": "stream",
          "name": "stdout",
          "text": [
            "(985, 93, 259)\n"
          ]
        }
      ],
      "source": [
        "# mfcc_val_tiled = np.tile(val_features['mfcc'], (1, 3, 1))  # Tile to (n_samples_val, 60, 44)\n",
        "# chroma_val_tiled = np.tile(val_features['chroma'], (1, 5, 1))  # Tile to (n_samples_val, 60, 44)\n",
        "# rms_val_tiled = np.tile(val_features['rms'], (1, 60, 1))  # Tile to (n_samples_val, 60, 44)\n",
        "\n",
        "# melspectrogram_val = val_features['melspectrogram']\n",
        "\n",
        "validation_features = np.concatenate((val_features['melspectrogram'], val_features['mfcc'], val_features['chroma'], val_features['rms']), axis=1)\n",
        "\n",
        "print(validation_features.shape)"
      ]
    },
    {
      "cell_type": "markdown",
      "metadata": {
        "id": "zOqA2fVuTURP"
      },
      "source": [
        "Fit the model with training data"
      ]
    },
    {
      "cell_type": "code",
      "execution_count": 43,
      "metadata": {
        "colab": {
          "base_uri": "https://localhost:8080/",
          "height": 1000
        },
        "id": "2A-4xHCETURP",
        "outputId": "55971e22-f5e5-40db-df1a-46cfc2fdabf6"
      },
      "outputs": [
        {
          "output_type": "display_data",
          "data": {
            "text/plain": [
              "\u001b[1mModel: \"sequential\"\u001b[0m\n"
            ],
            "text/html": [
              "<pre style=\"white-space:pre;overflow-x:auto;line-height:normal;font-family:Menlo,'DejaVu Sans Mono',consolas,'Courier New',monospace\"><span style=\"font-weight: bold\">Model: \"sequential\"</span>\n",
              "</pre>\n"
            ]
          },
          "metadata": {}
        },
        {
          "output_type": "display_data",
          "data": {
            "text/plain": [
              "┏━━━━━━━━━━━━━━━━━━━━━━━━━━━━━━━━━━━━━━┳━━━━━━━━━━━━━━━━━━━━━━━━━━━━━┳━━━━━━━━━━━━━━━━━┓\n",
              "┃\u001b[1m \u001b[0m\u001b[1mLayer (type)                        \u001b[0m\u001b[1m \u001b[0m┃\u001b[1m \u001b[0m\u001b[1mOutput Shape               \u001b[0m\u001b[1m \u001b[0m┃\u001b[1m \u001b[0m\u001b[1m        Param #\u001b[0m\u001b[1m \u001b[0m┃\n",
              "┡━━━━━━━━━━━━━━━━━━━━━━━━━━━━━━━━━━━━━━╇━━━━━━━━━━━━━━━━━━━━━━━━━━━━━╇━━━━━━━━━━━━━━━━━┩\n",
              "│ lstm (\u001b[38;5;33mLSTM\u001b[0m)                          │ (\u001b[38;5;45mNone\u001b[0m, \u001b[38;5;34m256\u001b[0m)                 │         \u001b[38;5;34m528,384\u001b[0m │\n",
              "├──────────────────────────────────────┼─────────────────────────────┼─────────────────┤\n",
              "│ batch_normalization                  │ (\u001b[38;5;45mNone\u001b[0m, \u001b[38;5;34m256\u001b[0m)                 │           \u001b[38;5;34m1,024\u001b[0m │\n",
              "│ (\u001b[38;5;33mBatchNormalization\u001b[0m)                 │                             │                 │\n",
              "├──────────────────────────────────────┼─────────────────────────────┼─────────────────┤\n",
              "│ dropout (\u001b[38;5;33mDropout\u001b[0m)                    │ (\u001b[38;5;45mNone\u001b[0m, \u001b[38;5;34m256\u001b[0m)                 │               \u001b[38;5;34m0\u001b[0m │\n",
              "├──────────────────────────────────────┼─────────────────────────────┼─────────────────┤\n",
              "│ dense (\u001b[38;5;33mDense\u001b[0m)                        │ (\u001b[38;5;45mNone\u001b[0m, \u001b[38;5;34m128\u001b[0m)                 │          \u001b[38;5;34m32,896\u001b[0m │\n",
              "├──────────────────────────────────────┼─────────────────────────────┼─────────────────┤\n",
              "│ dense_1 (\u001b[38;5;33mDense\u001b[0m)                      │ (\u001b[38;5;45mNone\u001b[0m, \u001b[38;5;34m64\u001b[0m)                  │           \u001b[38;5;34m8,256\u001b[0m │\n",
              "├──────────────────────────────────────┼─────────────────────────────┼─────────────────┤\n",
              "│ dense_2 (\u001b[38;5;33mDense\u001b[0m)                      │ (\u001b[38;5;45mNone\u001b[0m, \u001b[38;5;34m64\u001b[0m)                  │           \u001b[38;5;34m4,160\u001b[0m │\n",
              "├──────────────────────────────────────┼─────────────────────────────┼─────────────────┤\n",
              "│ dense_3 (\u001b[38;5;33mDense\u001b[0m)                      │ (\u001b[38;5;45mNone\u001b[0m, \u001b[38;5;34m20\u001b[0m)                  │           \u001b[38;5;34m1,300\u001b[0m │\n",
              "└──────────────────────────────────────┴─────────────────────────────┴─────────────────┘\n"
            ],
            "text/html": [
              "<pre style=\"white-space:pre;overflow-x:auto;line-height:normal;font-family:Menlo,'DejaVu Sans Mono',consolas,'Courier New',monospace\">┏━━━━━━━━━━━━━━━━━━━━━━━━━━━━━━━━━━━━━━┳━━━━━━━━━━━━━━━━━━━━━━━━━━━━━┳━━━━━━━━━━━━━━━━━┓\n",
              "┃<span style=\"font-weight: bold\"> Layer (type)                         </span>┃<span style=\"font-weight: bold\"> Output Shape                </span>┃<span style=\"font-weight: bold\">         Param # </span>┃\n",
              "┡━━━━━━━━━━━━━━━━━━━━━━━━━━━━━━━━━━━━━━╇━━━━━━━━━━━━━━━━━━━━━━━━━━━━━╇━━━━━━━━━━━━━━━━━┩\n",
              "│ lstm (<span style=\"color: #0087ff; text-decoration-color: #0087ff\">LSTM</span>)                          │ (<span style=\"color: #00d7ff; text-decoration-color: #00d7ff\">None</span>, <span style=\"color: #00af00; text-decoration-color: #00af00\">256</span>)                 │         <span style=\"color: #00af00; text-decoration-color: #00af00\">528,384</span> │\n",
              "├──────────────────────────────────────┼─────────────────────────────┼─────────────────┤\n",
              "│ batch_normalization                  │ (<span style=\"color: #00d7ff; text-decoration-color: #00d7ff\">None</span>, <span style=\"color: #00af00; text-decoration-color: #00af00\">256</span>)                 │           <span style=\"color: #00af00; text-decoration-color: #00af00\">1,024</span> │\n",
              "│ (<span style=\"color: #0087ff; text-decoration-color: #0087ff\">BatchNormalization</span>)                 │                             │                 │\n",
              "├──────────────────────────────────────┼─────────────────────────────┼─────────────────┤\n",
              "│ dropout (<span style=\"color: #0087ff; text-decoration-color: #0087ff\">Dropout</span>)                    │ (<span style=\"color: #00d7ff; text-decoration-color: #00d7ff\">None</span>, <span style=\"color: #00af00; text-decoration-color: #00af00\">256</span>)                 │               <span style=\"color: #00af00; text-decoration-color: #00af00\">0</span> │\n",
              "├──────────────────────────────────────┼─────────────────────────────┼─────────────────┤\n",
              "│ dense (<span style=\"color: #0087ff; text-decoration-color: #0087ff\">Dense</span>)                        │ (<span style=\"color: #00d7ff; text-decoration-color: #00d7ff\">None</span>, <span style=\"color: #00af00; text-decoration-color: #00af00\">128</span>)                 │          <span style=\"color: #00af00; text-decoration-color: #00af00\">32,896</span> │\n",
              "├──────────────────────────────────────┼─────────────────────────────┼─────────────────┤\n",
              "│ dense_1 (<span style=\"color: #0087ff; text-decoration-color: #0087ff\">Dense</span>)                      │ (<span style=\"color: #00d7ff; text-decoration-color: #00d7ff\">None</span>, <span style=\"color: #00af00; text-decoration-color: #00af00\">64</span>)                  │           <span style=\"color: #00af00; text-decoration-color: #00af00\">8,256</span> │\n",
              "├──────────────────────────────────────┼─────────────────────────────┼─────────────────┤\n",
              "│ dense_2 (<span style=\"color: #0087ff; text-decoration-color: #0087ff\">Dense</span>)                      │ (<span style=\"color: #00d7ff; text-decoration-color: #00d7ff\">None</span>, <span style=\"color: #00af00; text-decoration-color: #00af00\">64</span>)                  │           <span style=\"color: #00af00; text-decoration-color: #00af00\">4,160</span> │\n",
              "├──────────────────────────────────────┼─────────────────────────────┼─────────────────┤\n",
              "│ dense_3 (<span style=\"color: #0087ff; text-decoration-color: #0087ff\">Dense</span>)                      │ (<span style=\"color: #00d7ff; text-decoration-color: #00d7ff\">None</span>, <span style=\"color: #00af00; text-decoration-color: #00af00\">20</span>)                  │           <span style=\"color: #00af00; text-decoration-color: #00af00\">1,300</span> │\n",
              "└──────────────────────────────────────┴─────────────────────────────┴─────────────────┘\n",
              "</pre>\n"
            ]
          },
          "metadata": {}
        },
        {
          "output_type": "display_data",
          "data": {
            "text/plain": [
              "\u001b[1m Total params: \u001b[0m\u001b[38;5;34m576,020\u001b[0m (2.20 MB)\n"
            ],
            "text/html": [
              "<pre style=\"white-space:pre;overflow-x:auto;line-height:normal;font-family:Menlo,'DejaVu Sans Mono',consolas,'Courier New',monospace\"><span style=\"font-weight: bold\"> Total params: </span><span style=\"color: #00af00; text-decoration-color: #00af00\">576,020</span> (2.20 MB)\n",
              "</pre>\n"
            ]
          },
          "metadata": {}
        },
        {
          "output_type": "display_data",
          "data": {
            "text/plain": [
              "\u001b[1m Trainable params: \u001b[0m\u001b[38;5;34m575,508\u001b[0m (2.20 MB)\n"
            ],
            "text/html": [
              "<pre style=\"white-space:pre;overflow-x:auto;line-height:normal;font-family:Menlo,'DejaVu Sans Mono',consolas,'Courier New',monospace\"><span style=\"font-weight: bold\"> Trainable params: </span><span style=\"color: #00af00; text-decoration-color: #00af00\">575,508</span> (2.20 MB)\n",
              "</pre>\n"
            ]
          },
          "metadata": {}
        },
        {
          "output_type": "display_data",
          "data": {
            "text/plain": [
              "\u001b[1m Non-trainable params: \u001b[0m\u001b[38;5;34m512\u001b[0m (2.00 KB)\n"
            ],
            "text/html": [
              "<pre style=\"white-space:pre;overflow-x:auto;line-height:normal;font-family:Menlo,'DejaVu Sans Mono',consolas,'Courier New',monospace\"><span style=\"font-weight: bold\"> Non-trainable params: </span><span style=\"color: #00af00; text-decoration-color: #00af00\">512</span> (2.00 KB)\n",
              "</pre>\n"
            ]
          },
          "metadata": {}
        },
        {
          "output_type": "stream",
          "name": "stdout",
          "text": [
            "None\n",
            "Epoch 1/100\n",
            "\u001b[1m124/124\u001b[0m \u001b[32m━━━━━━━━━━━━━━━━━━━━\u001b[0m\u001b[37m\u001b[0m \u001b[1m4s\u001b[0m 15ms/step - accuracy: 0.0648 - loss: 3.3694 - weighted_accuracy: 0.0648 - val_accuracy: 0.0741 - val_loss: 3.2911 - val_weighted_accuracy: 0.0741\n",
            "Epoch 2/100\n",
            "\u001b[1m124/124\u001b[0m \u001b[32m━━━━━━━━━━━━━━━━━━━━\u001b[0m\u001b[37m\u001b[0m \u001b[1m1s\u001b[0m 10ms/step - accuracy: 0.1151 - loss: 3.1918 - weighted_accuracy: 0.1151 - val_accuracy: 0.1117 - val_loss: 3.2390 - val_weighted_accuracy: 0.1117\n",
            "Epoch 3/100\n",
            "\u001b[1m124/124\u001b[0m \u001b[32m━━━━━━━━━━━━━━━━━━━━\u001b[0m\u001b[37m\u001b[0m \u001b[1m1s\u001b[0m 10ms/step - accuracy: 0.1828 - loss: 3.0603 - weighted_accuracy: 0.1828 - val_accuracy: 0.1553 - val_loss: 3.1520 - val_weighted_accuracy: 0.1553\n",
            "Epoch 4/100\n",
            "\u001b[1m124/124\u001b[0m \u001b[32m━━━━━━━━━━━━━━━━━━━━\u001b[0m\u001b[37m\u001b[0m \u001b[1m1s\u001b[0m 10ms/step - accuracy: 0.2303 - loss: 2.9378 - weighted_accuracy: 0.2303 - val_accuracy: 0.1878 - val_loss: 3.0384 - val_weighted_accuracy: 0.1878\n",
            "Epoch 5/100\n",
            "\u001b[1m124/124\u001b[0m \u001b[32m━━━━━━━━━━━━━━━━━━━━\u001b[0m\u001b[37m\u001b[0m \u001b[1m1s\u001b[0m 11ms/step - accuracy: 0.2588 - loss: 2.8425 - weighted_accuracy: 0.2588 - val_accuracy: 0.2213 - val_loss: 2.9298 - val_weighted_accuracy: 0.2213\n",
            "Epoch 6/100\n",
            "\u001b[1m124/124\u001b[0m \u001b[32m━━━━━━━━━━━━━━━━━━━━\u001b[0m\u001b[37m\u001b[0m \u001b[1m1s\u001b[0m 10ms/step - accuracy: 0.2663 - loss: 2.7836 - weighted_accuracy: 0.2663 - val_accuracy: 0.2467 - val_loss: 2.8291 - val_weighted_accuracy: 0.2467\n",
            "Epoch 7/100\n",
            "\u001b[1m124/124\u001b[0m \u001b[32m━━━━━━━━━━━━━━━━━━━━\u001b[0m\u001b[37m\u001b[0m \u001b[1m1s\u001b[0m 11ms/step - accuracy: 0.3002 - loss: 2.7013 - weighted_accuracy: 0.3002 - val_accuracy: 0.2680 - val_loss: 2.7536 - val_weighted_accuracy: 0.2680\n",
            "Epoch 8/100\n",
            "\u001b[1m124/124\u001b[0m \u001b[32m━━━━━━━━━━━━━━━━━━━━\u001b[0m\u001b[37m\u001b[0m \u001b[1m1s\u001b[0m 11ms/step - accuracy: 0.3170 - loss: 2.6059 - weighted_accuracy: 0.3170 - val_accuracy: 0.2751 - val_loss: 2.7210 - val_weighted_accuracy: 0.2751\n",
            "Epoch 9/100\n",
            "\u001b[1m124/124\u001b[0m \u001b[32m━━━━━━━━━━━━━━━━━━━━\u001b[0m\u001b[37m\u001b[0m \u001b[1m1s\u001b[0m 11ms/step - accuracy: 0.3249 - loss: 2.5748 - weighted_accuracy: 0.3249 - val_accuracy: 0.2802 - val_loss: 2.6522 - val_weighted_accuracy: 0.2802\n",
            "Epoch 10/100\n",
            "\u001b[1m124/124\u001b[0m \u001b[32m━━━━━━━━━━━━━━━━━━━━\u001b[0m\u001b[37m\u001b[0m \u001b[1m1s\u001b[0m 11ms/step - accuracy: 0.3211 - loss: 2.5638 - weighted_accuracy: 0.3211 - val_accuracy: 0.2964 - val_loss: 2.6163 - val_weighted_accuracy: 0.2964\n",
            "Epoch 11/100\n",
            "\u001b[1m124/124\u001b[0m \u001b[32m━━━━━━━━━━━━━━━━━━━━\u001b[0m\u001b[37m\u001b[0m \u001b[1m1s\u001b[0m 11ms/step - accuracy: 0.3375 - loss: 2.4762 - weighted_accuracy: 0.3375 - val_accuracy: 0.3015 - val_loss: 2.5814 - val_weighted_accuracy: 0.3015\n",
            "Epoch 12/100\n",
            "\u001b[1m124/124\u001b[0m \u001b[32m━━━━━━━━━━━━━━━━━━━━\u001b[0m\u001b[37m\u001b[0m \u001b[1m1s\u001b[0m 11ms/step - accuracy: 0.3406 - loss: 2.4727 - weighted_accuracy: 0.3406 - val_accuracy: 0.3117 - val_loss: 2.5525 - val_weighted_accuracy: 0.3117\n",
            "Epoch 13/100\n",
            "\u001b[1m124/124\u001b[0m \u001b[32m━━━━━━━━━━━━━━━━━━━━\u001b[0m\u001b[37m\u001b[0m \u001b[1m1s\u001b[0m 11ms/step - accuracy: 0.3538 - loss: 2.3984 - weighted_accuracy: 0.3538 - val_accuracy: 0.3107 - val_loss: 2.5315 - val_weighted_accuracy: 0.3107\n",
            "Epoch 14/100\n",
            "\u001b[1m124/124\u001b[0m \u001b[32m━━━━━━━━━━━━━━━━━━━━\u001b[0m\u001b[37m\u001b[0m \u001b[1m1s\u001b[0m 10ms/step - accuracy: 0.3737 - loss: 2.3333 - weighted_accuracy: 0.3737 - val_accuracy: 0.3117 - val_loss: 2.4983 - val_weighted_accuracy: 0.3117\n",
            "Epoch 15/100\n",
            "\u001b[1m124/124\u001b[0m \u001b[32m━━━━━━━━━━━━━━━━━━━━\u001b[0m\u001b[37m\u001b[0m \u001b[1m1s\u001b[0m 11ms/step - accuracy: 0.3797 - loss: 2.3275 - weighted_accuracy: 0.3797 - val_accuracy: 0.3371 - val_loss: 2.4828 - val_weighted_accuracy: 0.3371\n",
            "Epoch 16/100\n",
            "\u001b[1m124/124\u001b[0m \u001b[32m━━━━━━━━━━━━━━━━━━━━\u001b[0m\u001b[37m\u001b[0m \u001b[1m1s\u001b[0m 11ms/step - accuracy: 0.3816 - loss: 2.2883 - weighted_accuracy: 0.3816 - val_accuracy: 0.3401 - val_loss: 2.4748 - val_weighted_accuracy: 0.3401\n",
            "Epoch 17/100\n",
            "\u001b[1m124/124\u001b[0m \u001b[32m━━━━━━━━━━━━━━━━━━━━\u001b[0m\u001b[37m\u001b[0m \u001b[1m1s\u001b[0m 11ms/step - accuracy: 0.3859 - loss: 2.2669 - weighted_accuracy: 0.3859 - val_accuracy: 0.3401 - val_loss: 2.4469 - val_weighted_accuracy: 0.3401\n",
            "Epoch 18/100\n",
            "\u001b[1m124/124\u001b[0m \u001b[32m━━━━━━━━━━━━━━━━━━━━\u001b[0m\u001b[37m\u001b[0m \u001b[1m1s\u001b[0m 11ms/step - accuracy: 0.4099 - loss: 2.1985 - weighted_accuracy: 0.4099 - val_accuracy: 0.3421 - val_loss: 2.4546 - val_weighted_accuracy: 0.3421\n",
            "Epoch 19/100\n",
            "\u001b[1m124/124\u001b[0m \u001b[32m━━━━━━━━━━━━━━━━━━━━\u001b[0m\u001b[37m\u001b[0m \u001b[1m1s\u001b[0m 11ms/step - accuracy: 0.4282 - loss: 2.1807 - weighted_accuracy: 0.4282 - val_accuracy: 0.3391 - val_loss: 2.4486 - val_weighted_accuracy: 0.3391\n",
            "Epoch 20/100\n",
            "\u001b[1m124/124\u001b[0m \u001b[32m━━━━━━━━━━━━━━━━━━━━\u001b[0m\u001b[37m\u001b[0m \u001b[1m1s\u001b[0m 11ms/step - accuracy: 0.4208 - loss: 2.1873 - weighted_accuracy: 0.4208 - val_accuracy: 0.3482 - val_loss: 2.4350 - val_weighted_accuracy: 0.3482\n",
            "Epoch 21/100\n",
            "\u001b[1m124/124\u001b[0m \u001b[32m━━━━━━━━━━━━━━━━━━━━\u001b[0m\u001b[37m\u001b[0m \u001b[1m1s\u001b[0m 11ms/step - accuracy: 0.4276 - loss: 2.1855 - weighted_accuracy: 0.4276 - val_accuracy: 0.3431 - val_loss: 2.4200 - val_weighted_accuracy: 0.3431\n",
            "Epoch 22/100\n",
            "\u001b[1m124/124\u001b[0m \u001b[32m━━━━━━━━━━━━━━━━━━━━\u001b[0m\u001b[37m\u001b[0m \u001b[1m1s\u001b[0m 11ms/step - accuracy: 0.4304 - loss: 2.1324 - weighted_accuracy: 0.4304 - val_accuracy: 0.3513 - val_loss: 2.4023 - val_weighted_accuracy: 0.3513\n",
            "Epoch 23/100\n",
            "\u001b[1m124/124\u001b[0m \u001b[32m━━━━━━━━━━━━━━━━━━━━\u001b[0m\u001b[37m\u001b[0m \u001b[1m1s\u001b[0m 11ms/step - accuracy: 0.4378 - loss: 2.1188 - weighted_accuracy: 0.4378 - val_accuracy: 0.3482 - val_loss: 2.4006 - val_weighted_accuracy: 0.3482\n",
            "Epoch 24/100\n",
            "\u001b[1m124/124\u001b[0m \u001b[32m━━━━━━━━━━━━━━━━━━━━\u001b[0m\u001b[37m\u001b[0m \u001b[1m1s\u001b[0m 11ms/step - accuracy: 0.4483 - loss: 2.0705 - weighted_accuracy: 0.4483 - val_accuracy: 0.3533 - val_loss: 2.3887 - val_weighted_accuracy: 0.3533\n",
            "Epoch 25/100\n",
            "\u001b[1m124/124\u001b[0m \u001b[32m━━━━━━━━━━━━━━━━━━━━\u001b[0m\u001b[37m\u001b[0m \u001b[1m1s\u001b[0m 10ms/step - accuracy: 0.4389 - loss: 2.0957 - weighted_accuracy: 0.4389 - val_accuracy: 0.3543 - val_loss: 2.3805 - val_weighted_accuracy: 0.3543\n",
            "Epoch 26/100\n",
            "\u001b[1m124/124\u001b[0m \u001b[32m━━━━━━━━━━━━━━━━━━━━\u001b[0m\u001b[37m\u001b[0m \u001b[1m1s\u001b[0m 11ms/step - accuracy: 0.4597 - loss: 2.0410 - weighted_accuracy: 0.4597 - val_accuracy: 0.3563 - val_loss: 2.3831 - val_weighted_accuracy: 0.3563\n",
            "Epoch 27/100\n",
            "\u001b[1m124/124\u001b[0m \u001b[32m━━━━━━━━━━━━━━━━━━━━\u001b[0m\u001b[37m\u001b[0m \u001b[1m1s\u001b[0m 11ms/step - accuracy: 0.4480 - loss: 2.0529 - weighted_accuracy: 0.4480 - val_accuracy: 0.3553 - val_loss: 2.3629 - val_weighted_accuracy: 0.3553\n",
            "Epoch 28/100\n",
            "\u001b[1m124/124\u001b[0m \u001b[32m━━━━━━━━━━━━━━━━━━━━\u001b[0m\u001b[37m\u001b[0m \u001b[1m1s\u001b[0m 11ms/step - accuracy: 0.4525 - loss: 2.0448 - weighted_accuracy: 0.4525 - val_accuracy: 0.3553 - val_loss: 2.3770 - val_weighted_accuracy: 0.3553\n",
            "Epoch 29/100\n",
            "\u001b[1m124/124\u001b[0m \u001b[32m━━━━━━━━━━━━━━━━━━━━\u001b[0m\u001b[37m\u001b[0m \u001b[1m1s\u001b[0m 11ms/step - accuracy: 0.4631 - loss: 2.0293 - weighted_accuracy: 0.4631 - val_accuracy: 0.3584 - val_loss: 2.3698 - val_weighted_accuracy: 0.3584\n",
            "Epoch 30/100\n",
            "\u001b[1m124/124\u001b[0m \u001b[32m━━━━━━━━━━━━━━━━━━━━\u001b[0m\u001b[37m\u001b[0m \u001b[1m1s\u001b[0m 11ms/step - accuracy: 0.4603 - loss: 1.9857 - weighted_accuracy: 0.4603 - val_accuracy: 0.3533 - val_loss: 2.3624 - val_weighted_accuracy: 0.3533\n",
            "Epoch 31/100\n",
            "\u001b[1m124/124\u001b[0m \u001b[32m━━━━━━━━━━━━━━━━━━━━\u001b[0m\u001b[37m\u001b[0m \u001b[1m1s\u001b[0m 11ms/step - accuracy: 0.4695 - loss: 1.9851 - weighted_accuracy: 0.4695 - val_accuracy: 0.3665 - val_loss: 2.3570 - val_weighted_accuracy: 0.3665\n",
            "Epoch 32/100\n",
            "\u001b[1m124/124\u001b[0m \u001b[32m━━━━━━━━━━━━━━━━━━━━\u001b[0m\u001b[37m\u001b[0m \u001b[1m1s\u001b[0m 11ms/step - accuracy: 0.4639 - loss: 1.9997 - weighted_accuracy: 0.4639 - val_accuracy: 0.3624 - val_loss: 2.3464 - val_weighted_accuracy: 0.3624\n",
            "Epoch 33/100\n",
            "\u001b[1m124/124\u001b[0m \u001b[32m━━━━━━━━━━━━━━━━━━━━\u001b[0m\u001b[37m\u001b[0m \u001b[1m1s\u001b[0m 11ms/step - accuracy: 0.4815 - loss: 1.9703 - weighted_accuracy: 0.4815 - val_accuracy: 0.3574 - val_loss: 2.3459 - val_weighted_accuracy: 0.3574\n",
            "Epoch 34/100\n",
            "\u001b[1m124/124\u001b[0m \u001b[32m━━━━━━━━━━━━━━━━━━━━\u001b[0m\u001b[37m\u001b[0m \u001b[1m1s\u001b[0m 11ms/step - accuracy: 0.4844 - loss: 1.9415 - weighted_accuracy: 0.4844 - val_accuracy: 0.3645 - val_loss: 2.3354 - val_weighted_accuracy: 0.3645\n",
            "Epoch 35/100\n",
            "\u001b[1m124/124\u001b[0m \u001b[32m━━━━━━━━━━━━━━━━━━━━\u001b[0m\u001b[37m\u001b[0m \u001b[1m1s\u001b[0m 11ms/step - accuracy: 0.4928 - loss: 1.9488 - weighted_accuracy: 0.4928 - val_accuracy: 0.3655 - val_loss: 2.3410 - val_weighted_accuracy: 0.3655\n",
            "Epoch 36/100\n",
            "\u001b[1m124/124\u001b[0m \u001b[32m━━━━━━━━━━━━━━━━━━━━\u001b[0m\u001b[37m\u001b[0m \u001b[1m1s\u001b[0m 11ms/step - accuracy: 0.4922 - loss: 1.8994 - weighted_accuracy: 0.4922 - val_accuracy: 0.3604 - val_loss: 2.3266 - val_weighted_accuracy: 0.3604\n",
            "Epoch 37/100\n",
            "\u001b[1m124/124\u001b[0m \u001b[32m━━━━━━━━━━━━━━━━━━━━\u001b[0m\u001b[37m\u001b[0m \u001b[1m1s\u001b[0m 11ms/step - accuracy: 0.4940 - loss: 1.9390 - weighted_accuracy: 0.4940 - val_accuracy: 0.3787 - val_loss: 2.3211 - val_weighted_accuracy: 0.3787\n",
            "Epoch 38/100\n",
            "\u001b[1m124/124\u001b[0m \u001b[32m━━━━━━━━━━━━━━━━━━━━\u001b[0m\u001b[37m\u001b[0m \u001b[1m1s\u001b[0m 10ms/step - accuracy: 0.4967 - loss: 1.8949 - weighted_accuracy: 0.4967 - val_accuracy: 0.3766 - val_loss: 2.3252 - val_weighted_accuracy: 0.3766\n",
            "Epoch 39/100\n",
            "\u001b[1m124/124\u001b[0m \u001b[32m━━━━━━━━━━━━━━━━━━━━\u001b[0m\u001b[37m\u001b[0m \u001b[1m1s\u001b[0m 10ms/step - accuracy: 0.4915 - loss: 1.8909 - weighted_accuracy: 0.4915 - val_accuracy: 0.3746 - val_loss: 2.3143 - val_weighted_accuracy: 0.3746\n",
            "Epoch 40/100\n",
            "\u001b[1m124/124\u001b[0m \u001b[32m━━━━━━━━━━━━━━━━━━━━\u001b[0m\u001b[37m\u001b[0m \u001b[1m1s\u001b[0m 10ms/step - accuracy: 0.5100 - loss: 1.8652 - weighted_accuracy: 0.5100 - val_accuracy: 0.3726 - val_loss: 2.3045 - val_weighted_accuracy: 0.3726\n",
            "Epoch 41/100\n",
            "\u001b[1m124/124\u001b[0m \u001b[32m━━━━━━━━━━━━━━━━━━━━\u001b[0m\u001b[37m\u001b[0m \u001b[1m1s\u001b[0m 10ms/step - accuracy: 0.5134 - loss: 1.8470 - weighted_accuracy: 0.5134 - val_accuracy: 0.3787 - val_loss: 2.3087 - val_weighted_accuracy: 0.3787\n",
            "Epoch 42/100\n",
            "\u001b[1m124/124\u001b[0m \u001b[32m━━━━━━━━━━━━━━━━━━━━\u001b[0m\u001b[37m\u001b[0m \u001b[1m1s\u001b[0m 10ms/step - accuracy: 0.5288 - loss: 1.8350 - weighted_accuracy: 0.5288 - val_accuracy: 0.3766 - val_loss: 2.3336 - val_weighted_accuracy: 0.3766\n",
            "Epoch 43/100\n",
            "\u001b[1m124/124\u001b[0m \u001b[32m━━━━━━━━━━━━━━━━━━━━\u001b[0m\u001b[37m\u001b[0m \u001b[1m1s\u001b[0m 10ms/step - accuracy: 0.4991 - loss: 1.8809 - weighted_accuracy: 0.4991 - val_accuracy: 0.3838 - val_loss: 2.2992 - val_weighted_accuracy: 0.3838\n",
            "Epoch 44/100\n",
            "\u001b[1m124/124\u001b[0m \u001b[32m━━━━━━━━━━━━━━━━━━━━\u001b[0m\u001b[37m\u001b[0m \u001b[1m1s\u001b[0m 11ms/step - accuracy: 0.5182 - loss: 1.8096 - weighted_accuracy: 0.5182 - val_accuracy: 0.3787 - val_loss: 2.2834 - val_weighted_accuracy: 0.3787\n",
            "Epoch 45/100\n",
            "\u001b[1m124/124\u001b[0m \u001b[32m━━━━━━━━━━━━━━━━━━━━\u001b[0m\u001b[37m\u001b[0m \u001b[1m1s\u001b[0m 11ms/step - accuracy: 0.5253 - loss: 1.8270 - weighted_accuracy: 0.5253 - val_accuracy: 0.3746 - val_loss: 2.3240 - val_weighted_accuracy: 0.3746\n",
            "Epoch 46/100\n",
            "\u001b[1m124/124\u001b[0m \u001b[32m━━━━━━━━━━━━━━━━━━━━\u001b[0m\u001b[37m\u001b[0m \u001b[1m1s\u001b[0m 11ms/step - accuracy: 0.5170 - loss: 1.8002 - weighted_accuracy: 0.5170 - val_accuracy: 0.3848 - val_loss: 2.2885 - val_weighted_accuracy: 0.3848\n",
            "Epoch 47/100\n",
            "\u001b[1m124/124\u001b[0m \u001b[32m━━━━━━━━━━━━━━━━━━━━\u001b[0m\u001b[37m\u001b[0m \u001b[1m1s\u001b[0m 10ms/step - accuracy: 0.5245 - loss: 1.7828 - weighted_accuracy: 0.5245 - val_accuracy: 0.3726 - val_loss: 2.2868 - val_weighted_accuracy: 0.3726\n",
            "Epoch 48/100\n",
            "\u001b[1m124/124\u001b[0m \u001b[32m━━━━━━━━━━━━━━━━━━━━\u001b[0m\u001b[37m\u001b[0m \u001b[1m1s\u001b[0m 10ms/step - accuracy: 0.5325 - loss: 1.7939 - weighted_accuracy: 0.5325 - val_accuracy: 0.3858 - val_loss: 2.2821 - val_weighted_accuracy: 0.3858\n",
            "Epoch 49/100\n",
            "\u001b[1m124/124\u001b[0m \u001b[32m━━━━━━━━━━━━━━━━━━━━\u001b[0m\u001b[37m\u001b[0m \u001b[1m1s\u001b[0m 10ms/step - accuracy: 0.5339 - loss: 1.7951 - weighted_accuracy: 0.5339 - val_accuracy: 0.3817 - val_loss: 2.3100 - val_weighted_accuracy: 0.3817\n",
            "Epoch 50/100\n",
            "\u001b[1m124/124\u001b[0m \u001b[32m━━━━━━━━━━━━━━━━━━━━\u001b[0m\u001b[37m\u001b[0m \u001b[1m1s\u001b[0m 10ms/step - accuracy: 0.5428 - loss: 1.7463 - weighted_accuracy: 0.5428 - val_accuracy: 0.3726 - val_loss: 2.2884 - val_weighted_accuracy: 0.3726\n",
            "Epoch 51/100\n",
            "\u001b[1m124/124\u001b[0m \u001b[32m━━━━━━━━━━━━━━━━━━━━\u001b[0m\u001b[37m\u001b[0m \u001b[1m1s\u001b[0m 10ms/step - accuracy: 0.5452 - loss: 1.7479 - weighted_accuracy: 0.5452 - val_accuracy: 0.3746 - val_loss: 2.2928 - val_weighted_accuracy: 0.3746\n",
            "Epoch 52/100\n",
            "\u001b[1m124/124\u001b[0m \u001b[32m━━━━━━━━━━━━━━━━━━━━\u001b[0m\u001b[37m\u001b[0m \u001b[1m1s\u001b[0m 10ms/step - accuracy: 0.5315 - loss: 1.7632 - weighted_accuracy: 0.5315 - val_accuracy: 0.3756 - val_loss: 2.2718 - val_weighted_accuracy: 0.3756\n",
            "Epoch 53/100\n",
            "\u001b[1m124/124\u001b[0m \u001b[32m━━━━━━━━━━━━━━━━━━━━\u001b[0m\u001b[37m\u001b[0m \u001b[1m1s\u001b[0m 10ms/step - accuracy: 0.5563 - loss: 1.7311 - weighted_accuracy: 0.5563 - val_accuracy: 0.3797 - val_loss: 2.2782 - val_weighted_accuracy: 0.3797\n",
            "Epoch 54/100\n",
            "\u001b[1m124/124\u001b[0m \u001b[32m━━━━━━━━━━━━━━━━━━━━\u001b[0m\u001b[37m\u001b[0m \u001b[1m1s\u001b[0m 11ms/step - accuracy: 0.5599 - loss: 1.7043 - weighted_accuracy: 0.5599 - val_accuracy: 0.3868 - val_loss: 2.2825 - val_weighted_accuracy: 0.3868\n",
            "Epoch 55/100\n",
            "\u001b[1m124/124\u001b[0m \u001b[32m━━━━━━━━━━━━━━━━━━━━\u001b[0m\u001b[37m\u001b[0m \u001b[1m1s\u001b[0m 11ms/step - accuracy: 0.5610 - loss: 1.7058 - weighted_accuracy: 0.5610 - val_accuracy: 0.3878 - val_loss: 2.2869 - val_weighted_accuracy: 0.3878\n",
            "Epoch 56/100\n",
            "\u001b[1m124/124\u001b[0m \u001b[32m━━━━━━━━━━━━━━━━━━━━\u001b[0m\u001b[37m\u001b[0m \u001b[1m1s\u001b[0m 11ms/step - accuracy: 0.5668 - loss: 1.6962 - weighted_accuracy: 0.5668 - val_accuracy: 0.3797 - val_loss: 2.2582 - val_weighted_accuracy: 0.3797\n",
            "Epoch 57/100\n",
            "\u001b[1m124/124\u001b[0m \u001b[32m━━━━━━━━━━━━━━━━━━━━\u001b[0m\u001b[37m\u001b[0m \u001b[1m1s\u001b[0m 11ms/step - accuracy: 0.5641 - loss: 1.6877 - weighted_accuracy: 0.5641 - val_accuracy: 0.3787 - val_loss: 2.2775 - val_weighted_accuracy: 0.3787\n",
            "Epoch 58/100\n",
            "\u001b[1m124/124\u001b[0m \u001b[32m━━━━━━━━━━━━━━━━━━━━\u001b[0m\u001b[37m\u001b[0m \u001b[1m1s\u001b[0m 11ms/step - accuracy: 0.5627 - loss: 1.6933 - weighted_accuracy: 0.5627 - val_accuracy: 0.3898 - val_loss: 2.3165 - val_weighted_accuracy: 0.3898\n",
            "Epoch 59/100\n",
            "\u001b[1m124/124\u001b[0m \u001b[32m━━━━━━━━━━━━━━━━━━━━\u001b[0m\u001b[37m\u001b[0m \u001b[1m1s\u001b[0m 10ms/step - accuracy: 0.5508 - loss: 1.6839 - weighted_accuracy: 0.5508 - val_accuracy: 0.3777 - val_loss: 2.2630 - val_weighted_accuracy: 0.3777\n",
            "Epoch 60/100\n",
            "\u001b[1m124/124\u001b[0m \u001b[32m━━━━━━━━━━━━━━━━━━━━\u001b[0m\u001b[37m\u001b[0m \u001b[1m1s\u001b[0m 10ms/step - accuracy: 0.5764 - loss: 1.6581 - weighted_accuracy: 0.5764 - val_accuracy: 0.3838 - val_loss: 2.2696 - val_weighted_accuracy: 0.3838\n",
            "Epoch 61/100\n",
            "\u001b[1m124/124\u001b[0m \u001b[32m━━━━━━━━━━━━━━━━━━━━\u001b[0m\u001b[37m\u001b[0m \u001b[1m1s\u001b[0m 10ms/step - accuracy: 0.5789 - loss: 1.6593 - weighted_accuracy: 0.5789 - val_accuracy: 0.3868 - val_loss: 2.2698 - val_weighted_accuracy: 0.3868\n",
            "Epoch 62/100\n",
            "\u001b[1m124/124\u001b[0m \u001b[32m━━━━━━━━━━━━━━━━━━━━\u001b[0m\u001b[37m\u001b[0m \u001b[1m1s\u001b[0m 11ms/step - accuracy: 0.5684 - loss: 1.6372 - weighted_accuracy: 0.5684 - val_accuracy: 0.3888 - val_loss: 2.2445 - val_weighted_accuracy: 0.3888\n",
            "Epoch 63/100\n",
            "\u001b[1m124/124\u001b[0m \u001b[32m━━━━━━━━━━━━━━━━━━━━\u001b[0m\u001b[37m\u001b[0m \u001b[1m1s\u001b[0m 11ms/step - accuracy: 0.5658 - loss: 1.6429 - weighted_accuracy: 0.5658 - val_accuracy: 0.3990 - val_loss: 2.2517 - val_weighted_accuracy: 0.3990\n",
            "Epoch 64/100\n",
            "\u001b[1m124/124\u001b[0m \u001b[32m━━━━━━━━━━━━━━━━━━━━\u001b[0m\u001b[37m\u001b[0m \u001b[1m1s\u001b[0m 11ms/step - accuracy: 0.5872 - loss: 1.6235 - weighted_accuracy: 0.5872 - val_accuracy: 0.3858 - val_loss: 2.2639 - val_weighted_accuracy: 0.3858\n",
            "Epoch 65/100\n",
            "\u001b[1m124/124\u001b[0m \u001b[32m━━━━━━━━━━━━━━━━━━━━\u001b[0m\u001b[37m\u001b[0m \u001b[1m1s\u001b[0m 11ms/step - accuracy: 0.5999 - loss: 1.6116 - weighted_accuracy: 0.5999 - val_accuracy: 0.3909 - val_loss: 2.2514 - val_weighted_accuracy: 0.3909\n",
            "Epoch 66/100\n",
            "\u001b[1m124/124\u001b[0m \u001b[32m━━━━━━━━━━━━━━━━━━━━\u001b[0m\u001b[37m\u001b[0m \u001b[1m1s\u001b[0m 10ms/step - accuracy: 0.5893 - loss: 1.6087 - weighted_accuracy: 0.5893 - val_accuracy: 0.3939 - val_loss: 2.2533 - val_weighted_accuracy: 0.3939\n",
            "Epoch 67/100\n",
            "\u001b[1m124/124\u001b[0m \u001b[32m━━━━━━━━━━━━━━━━━━━━\u001b[0m\u001b[37m\u001b[0m \u001b[1m1s\u001b[0m 10ms/step - accuracy: 0.5778 - loss: 1.6296 - weighted_accuracy: 0.5778 - val_accuracy: 0.3919 - val_loss: 2.2463 - val_weighted_accuracy: 0.3919\n",
            "Epoch 68/100\n",
            "\u001b[1m124/124\u001b[0m \u001b[32m━━━━━━━━━━━━━━━━━━━━\u001b[0m\u001b[37m\u001b[0m \u001b[1m1s\u001b[0m 10ms/step - accuracy: 0.5955 - loss: 1.5672 - weighted_accuracy: 0.5955 - val_accuracy: 0.3990 - val_loss: 2.2327 - val_weighted_accuracy: 0.3990\n",
            "Epoch 69/100\n",
            "\u001b[1m124/124\u001b[0m \u001b[32m━━━━━━━━━━━━━━━━━━━━\u001b[0m\u001b[37m\u001b[0m \u001b[1m1s\u001b[0m 10ms/step - accuracy: 0.5900 - loss: 1.5853 - weighted_accuracy: 0.5900 - val_accuracy: 0.3898 - val_loss: 2.2620 - val_weighted_accuracy: 0.3898\n",
            "Epoch 70/100\n",
            "\u001b[1m124/124\u001b[0m \u001b[32m━━━━━━━━━━━━━━━━━━━━\u001b[0m\u001b[37m\u001b[0m \u001b[1m1s\u001b[0m 11ms/step - accuracy: 0.6236 - loss: 1.5421 - weighted_accuracy: 0.6236 - val_accuracy: 0.3909 - val_loss: 2.2419 - val_weighted_accuracy: 0.3909\n",
            "Epoch 71/100\n",
            "\u001b[1m124/124\u001b[0m \u001b[32m━━━━━━━━━━━━━━━━━━━━\u001b[0m\u001b[37m\u001b[0m \u001b[1m1s\u001b[0m 10ms/step - accuracy: 0.6029 - loss: 1.5401 - weighted_accuracy: 0.6029 - val_accuracy: 0.3838 - val_loss: 2.2749 - val_weighted_accuracy: 0.3838\n",
            "Epoch 72/100\n",
            "\u001b[1m124/124\u001b[0m \u001b[32m━━━━━━━━━━━━━━━━━━━━\u001b[0m\u001b[37m\u001b[0m \u001b[1m1s\u001b[0m 11ms/step - accuracy: 0.6185 - loss: 1.5452 - weighted_accuracy: 0.6185 - val_accuracy: 0.3909 - val_loss: 2.2209 - val_weighted_accuracy: 0.3909\n",
            "Epoch 73/100\n",
            "\u001b[1m124/124\u001b[0m \u001b[32m━━━━━━━━━━━━━━━━━━━━\u001b[0m\u001b[37m\u001b[0m \u001b[1m1s\u001b[0m 11ms/step - accuracy: 0.6163 - loss: 1.5405 - weighted_accuracy: 0.6163 - val_accuracy: 0.3970 - val_loss: 2.2156 - val_weighted_accuracy: 0.3970\n",
            "Epoch 74/100\n",
            "\u001b[1m124/124\u001b[0m \u001b[32m━━━━━━━━━━━━━━━━━━━━\u001b[0m\u001b[37m\u001b[0m \u001b[1m1s\u001b[0m 11ms/step - accuracy: 0.6249 - loss: 1.5111 - weighted_accuracy: 0.6249 - val_accuracy: 0.4041 - val_loss: 2.2042 - val_weighted_accuracy: 0.4041\n",
            "Epoch 75/100\n",
            "\u001b[1m124/124\u001b[0m \u001b[32m━━━━━━━━━━━━━━━━━━━━\u001b[0m\u001b[37m\u001b[0m \u001b[1m1s\u001b[0m 10ms/step - accuracy: 0.6204 - loss: 1.5303 - weighted_accuracy: 0.6204 - val_accuracy: 0.4091 - val_loss: 2.1815 - val_weighted_accuracy: 0.4091\n",
            "Epoch 76/100\n",
            "\u001b[1m124/124\u001b[0m \u001b[32m━━━━━━━━━━━━━━━━━━━━\u001b[0m\u001b[37m\u001b[0m \u001b[1m1s\u001b[0m 10ms/step - accuracy: 0.6254 - loss: 1.5000 - weighted_accuracy: 0.6254 - val_accuracy: 0.4071 - val_loss: 2.2314 - val_weighted_accuracy: 0.4071\n",
            "Epoch 77/100\n",
            "\u001b[1m124/124\u001b[0m \u001b[32m━━━━━━━━━━━━━━━━━━━━\u001b[0m\u001b[37m\u001b[0m \u001b[1m1s\u001b[0m 11ms/step - accuracy: 0.6317 - loss: 1.4716 - weighted_accuracy: 0.6317 - val_accuracy: 0.4061 - val_loss: 2.1874 - val_weighted_accuracy: 0.4061\n",
            "Epoch 78/100\n",
            "\u001b[1m124/124\u001b[0m \u001b[32m━━━━━━━━━━━━━━━━━━━━\u001b[0m\u001b[37m\u001b[0m \u001b[1m1s\u001b[0m 10ms/step - accuracy: 0.6336 - loss: 1.4675 - weighted_accuracy: 0.6336 - val_accuracy: 0.4051 - val_loss: 2.2143 - val_weighted_accuracy: 0.4051\n",
            "Epoch 79/100\n",
            "\u001b[1m124/124\u001b[0m \u001b[32m━━━━━━━━━━━━━━━━━━━━\u001b[0m\u001b[37m\u001b[0m \u001b[1m1s\u001b[0m 11ms/step - accuracy: 0.6321 - loss: 1.4556 - weighted_accuracy: 0.6321 - val_accuracy: 0.4173 - val_loss: 2.1782 - val_weighted_accuracy: 0.4173\n",
            "Epoch 80/100\n",
            "\u001b[1m124/124\u001b[0m \u001b[32m━━━━━━━━━━━━━━━━━━━━\u001b[0m\u001b[37m\u001b[0m \u001b[1m1s\u001b[0m 11ms/step - accuracy: 0.6246 - loss: 1.4854 - weighted_accuracy: 0.6246 - val_accuracy: 0.4213 - val_loss: 2.1561 - val_weighted_accuracy: 0.4213\n",
            "Epoch 81/100\n",
            "\u001b[1m124/124\u001b[0m \u001b[32m━━━━━━━━━━━━━━━━━━━━\u001b[0m\u001b[37m\u001b[0m \u001b[1m1s\u001b[0m 11ms/step - accuracy: 0.6566 - loss: 1.4296 - weighted_accuracy: 0.6566 - val_accuracy: 0.4264 - val_loss: 2.1630 - val_weighted_accuracy: 0.4264\n",
            "Epoch 82/100\n",
            "\u001b[1m124/124\u001b[0m \u001b[32m━━━━━━━━━━━━━━━━━━━━\u001b[0m\u001b[37m\u001b[0m \u001b[1m1s\u001b[0m 11ms/step - accuracy: 0.6306 - loss: 1.4427 - weighted_accuracy: 0.6306 - val_accuracy: 0.4264 - val_loss: 2.1277 - val_weighted_accuracy: 0.4264\n",
            "Epoch 83/100\n",
            "\u001b[1m124/124\u001b[0m \u001b[32m━━━━━━━━━━━━━━━━━━━━\u001b[0m\u001b[37m\u001b[0m \u001b[1m1s\u001b[0m 11ms/step - accuracy: 0.6449 - loss: 1.3874 - weighted_accuracy: 0.6449 - val_accuracy: 0.4305 - val_loss: 2.1727 - val_weighted_accuracy: 0.4305\n",
            "Epoch 84/100\n",
            "\u001b[1m124/124\u001b[0m \u001b[32m━━━━━━━━━━━━━━━━━━━━\u001b[0m\u001b[37m\u001b[0m \u001b[1m1s\u001b[0m 11ms/step - accuracy: 0.6625 - loss: 1.3828 - weighted_accuracy: 0.6625 - val_accuracy: 0.4284 - val_loss: 2.1531 - val_weighted_accuracy: 0.4284\n",
            "Epoch 85/100\n",
            "\u001b[1m124/124\u001b[0m \u001b[32m━━━━━━━━━━━━━━━━━━━━\u001b[0m\u001b[37m\u001b[0m \u001b[1m1s\u001b[0m 11ms/step - accuracy: 0.6593 - loss: 1.3965 - weighted_accuracy: 0.6593 - val_accuracy: 0.4294 - val_loss: 2.1345 - val_weighted_accuracy: 0.4294\n",
            "Epoch 86/100\n",
            "\u001b[1m124/124\u001b[0m \u001b[32m━━━━━━━━━━━━━━━━━━━━\u001b[0m\u001b[37m\u001b[0m \u001b[1m1s\u001b[0m 10ms/step - accuracy: 0.6517 - loss: 1.3842 - weighted_accuracy: 0.6517 - val_accuracy: 0.4244 - val_loss: 2.1541 - val_weighted_accuracy: 0.4244\n",
            "Epoch 87/100\n",
            "\u001b[1m124/124\u001b[0m \u001b[32m━━━━━━━━━━━━━━━━━━━━\u001b[0m\u001b[37m\u001b[0m \u001b[1m1s\u001b[0m 11ms/step - accuracy: 0.6650 - loss: 1.3716 - weighted_accuracy: 0.6650 - val_accuracy: 0.4274 - val_loss: 2.1238 - val_weighted_accuracy: 0.4274\n",
            "Epoch 88/100\n",
            "\u001b[1m124/124\u001b[0m \u001b[32m━━━━━━━━━━━━━━━━━━━━\u001b[0m\u001b[37m\u001b[0m \u001b[1m1s\u001b[0m 11ms/step - accuracy: 0.6658 - loss: 1.3696 - weighted_accuracy: 0.6658 - val_accuracy: 0.4315 - val_loss: 2.1095 - val_weighted_accuracy: 0.4315\n",
            "Epoch 89/100\n",
            "\u001b[1m124/124\u001b[0m \u001b[32m━━━━━━━━━━━━━━━━━━━━\u001b[0m\u001b[37m\u001b[0m \u001b[1m1s\u001b[0m 10ms/step - accuracy: 0.6731 - loss: 1.3632 - weighted_accuracy: 0.6731 - val_accuracy: 0.4426 - val_loss: 2.0947 - val_weighted_accuracy: 0.4426\n",
            "Epoch 90/100\n",
            "\u001b[1m124/124\u001b[0m \u001b[32m━━━━━━━━━━━━━━━━━━━━\u001b[0m\u001b[37m\u001b[0m \u001b[1m1s\u001b[0m 10ms/step - accuracy: 0.6735 - loss: 1.3373 - weighted_accuracy: 0.6735 - val_accuracy: 0.4365 - val_loss: 2.1058 - val_weighted_accuracy: 0.4365\n",
            "Epoch 91/100\n",
            "\u001b[1m124/124\u001b[0m \u001b[32m━━━━━━━━━━━━━━━━━━━━\u001b[0m\u001b[37m\u001b[0m \u001b[1m1s\u001b[0m 11ms/step - accuracy: 0.6804 - loss: 1.3174 - weighted_accuracy: 0.6804 - val_accuracy: 0.4345 - val_loss: 2.0983 - val_weighted_accuracy: 0.4345\n",
            "Epoch 92/100\n",
            "\u001b[1m124/124\u001b[0m \u001b[32m━━━━━━━━━━━━━━━━━━━━\u001b[0m\u001b[37m\u001b[0m \u001b[1m1s\u001b[0m 11ms/step - accuracy: 0.6600 - loss: 1.3503 - weighted_accuracy: 0.6600 - val_accuracy: 0.4365 - val_loss: 2.1158 - val_weighted_accuracy: 0.4365\n",
            "Epoch 93/100\n",
            "\u001b[1m124/124\u001b[0m \u001b[32m━━━━━━━━━━━━━━━━━━━━\u001b[0m\u001b[37m\u001b[0m \u001b[1m1s\u001b[0m 11ms/step - accuracy: 0.6814 - loss: 1.3061 - weighted_accuracy: 0.6814 - val_accuracy: 0.4447 - val_loss: 2.0776 - val_weighted_accuracy: 0.4447\n",
            "Epoch 94/100\n",
            "\u001b[1m124/124\u001b[0m \u001b[32m━━━━━━━━━━━━━━━━━━━━\u001b[0m\u001b[37m\u001b[0m \u001b[1m1s\u001b[0m 11ms/step - accuracy: 0.6642 - loss: 1.3354 - weighted_accuracy: 0.6642 - val_accuracy: 0.4447 - val_loss: 2.0740 - val_weighted_accuracy: 0.4447\n",
            "Epoch 95/100\n",
            "\u001b[1m124/124\u001b[0m \u001b[32m━━━━━━━━━━━━━━━━━━━━\u001b[0m\u001b[37m\u001b[0m \u001b[1m1s\u001b[0m 10ms/step - accuracy: 0.6858 - loss: 1.2787 - weighted_accuracy: 0.6858 - val_accuracy: 0.4355 - val_loss: 2.0768 - val_weighted_accuracy: 0.4355\n",
            "Epoch 96/100\n",
            "\u001b[1m124/124\u001b[0m \u001b[32m━━━━━━━━━━━━━━━━━━━━\u001b[0m\u001b[37m\u001b[0m \u001b[1m1s\u001b[0m 11ms/step - accuracy: 0.6864 - loss: 1.2967 - weighted_accuracy: 0.6864 - val_accuracy: 0.4528 - val_loss: 2.0647 - val_weighted_accuracy: 0.4528\n",
            "Epoch 97/100\n",
            "\u001b[1m124/124\u001b[0m \u001b[32m━━━━━━━━━━━━━━━━━━━━\u001b[0m\u001b[37m\u001b[0m \u001b[1m1s\u001b[0m 10ms/step - accuracy: 0.6832 - loss: 1.2708 - weighted_accuracy: 0.6832 - val_accuracy: 0.4548 - val_loss: 2.0632 - val_weighted_accuracy: 0.4548\n",
            "Epoch 98/100\n",
            "\u001b[1m124/124\u001b[0m \u001b[32m━━━━━━━━━━━━━━━━━━━━\u001b[0m\u001b[37m\u001b[0m \u001b[1m1s\u001b[0m 10ms/step - accuracy: 0.6969 - loss: 1.2725 - weighted_accuracy: 0.6969 - val_accuracy: 0.4487 - val_loss: 2.0649 - val_weighted_accuracy: 0.4487\n",
            "Epoch 99/100\n",
            "\u001b[1m124/124\u001b[0m \u001b[32m━━━━━━━━━━━━━━━━━━━━\u001b[0m\u001b[37m\u001b[0m \u001b[1m1s\u001b[0m 10ms/step - accuracy: 0.6953 - loss: 1.2685 - weighted_accuracy: 0.6953 - val_accuracy: 0.4416 - val_loss: 2.0883 - val_weighted_accuracy: 0.4416\n",
            "Epoch 100/100\n",
            "\u001b[1m124/124\u001b[0m \u001b[32m━━━━━━━━━━━━━━━━━━━━\u001b[0m\u001b[37m\u001b[0m \u001b[1m1s\u001b[0m 11ms/step - accuracy: 0.7315 - loss: 1.2199 - weighted_accuracy: 0.7315 - val_accuracy: 0.4497 - val_loss: 2.0534 - val_weighted_accuracy: 0.4497\n",
            "best_epoch:  97\n"
          ]
        },
        {
          "output_type": "display_data",
          "data": {
            "text/plain": [
              "<Figure size 1500x500 with 2 Axes>"
            ],
            "image/png": "[encoded data removed]"
          },
          "metadata": {}
        }
      ],
      "source": [
        "model = build_model(training_features)\n",
        "\n",
        "callback = tf.keras.callbacks.EarlyStopping(\n",
        "    monitor=\"val_loss\",\n",
        "    patience=20,\n",
        "    restore_best_weights=True\n",
        ")\n",
        "\n",
        "history = model.fit(\n",
        "    x=training_features,\n",
        "    y=train_y,\n",
        "    epochs=100,\n",
        "    validation_data=(\n",
        "        validation_features,\n",
        "        val_y,\n",
        "    ),\n",
        "    batch_size=32,\n",
        "    verbose=1,\n",
        "    callbacks=[callback]\n",
        ")\n",
        "\n",
        "best_epoch = history.history['val_weighted_accuracy'].index(max(history.history['val_weighted_accuracy']))+1\n",
        "print('best_epoch: ', best_epoch)\n",
        "visualize(history)"
      ]
    },
    {
      "cell_type": "code",
      "execution_count": 44,
      "metadata": {
        "colab": {
          "base_uri": "https://localhost:8080/"
        },
        "id": "qOcHxpkrTURP",
        "outputId": "98b93a8e-fd13-4c0e-9a1c-b4f2800d4024"
      },
      "outputs": [
        {
          "output_type": "stream",
          "name": "stdout",
          "text": [
            "\u001b[1m124/124\u001b[0m \u001b[32m━━━━━━━━━━━━━━━━━━━━\u001b[0m\u001b[37m\u001b[0m \u001b[1m1s\u001b[0m 5ms/step\n",
            "\u001b[1m124/124\u001b[0m \u001b[32m━━━━━━━━━━━━━━━━━━━━\u001b[0m\u001b[37m\u001b[0m \u001b[1m1s\u001b[0m 4ms/step - accuracy: 0.7366 - loss: 1.1755 - weighted_accuracy: 0.7366\n",
            "\u001b[1m31/31\u001b[0m \u001b[32m━━━━━━━━━━━━━━━━━━━━\u001b[0m\u001b[37m\u001b[0m \u001b[1m0s\u001b[0m 3ms/step\n",
            "\u001b[1m31/31\u001b[0m \u001b[32m━━━━━━━━━━━━━━━━━━━━\u001b[0m\u001b[37m\u001b[0m \u001b[1m0s\u001b[0m 4ms/step - accuracy: 0.4455 - loss: 2.1002 - weighted_accuracy: 0.4455\n"
          ]
        }
      ],
      "source": [
        "train_yhat = model.predict(training_features)\n",
        "train_yhat_result = np.argmax(train_yhat, axis=-1)\n",
        "train_results['all_features'] = model.evaluate(training_features, train_y)[-1]\n",
        "\n",
        "val_yhat = model.predict(validation_features)\n",
        "val_yhat_result = np.argmax(val_yhat, axis=-1)\n",
        "val_results['all_features'] = model.evaluate(validation_features, val_y)[-1]"
      ]
    },
    {
      "cell_type": "markdown",
      "metadata": {
        "id": "1_8J5UOQTURV"
      },
      "source": [
        "## **With Mel-Spectrogram, MFCCs, Chroma**"
      ]
    },
    {
      "cell_type": "code",
      "execution_count": 45,
      "metadata": {
        "colab": {
          "base_uri": "https://localhost:8080/"
        },
        "id": "3xD3vH9FTURV",
        "outputId": "76b83a0b-75f4-4eb3-8078-07e9c2ba89e8"
      },
      "outputs": [
        {
          "output_type": "stream",
          "name": "stdout",
          "text": [
            "(3954, 92, 259)\n"
          ]
        }
      ],
      "source": [
        "training_features = np.concatenate((train_features['melspectrogram'], train_features['mfcc'], train_features['chroma']), axis=1)\n",
        "\n",
        "print(training_features.shape)"
      ]
    },
    {
      "cell_type": "code",
      "execution_count": 46,
      "metadata": {
        "colab": {
          "base_uri": "https://localhost:8080/"
        },
        "id": "upJmr2o1TURV",
        "outputId": "dcfc0a42-857b-4390-9cc7-58b1eff6096a"
      },
      "outputs": [
        {
          "output_type": "stream",
          "name": "stdout",
          "text": [
            "(985, 92, 259)\n"
          ]
        }
      ],
      "source": [
        "validation_features = np.concatenate((val_features['melspectrogram'], val_features['mfcc'], val_features['chroma']), axis=1)\n",
        "\n",
        "print(validation_features.shape)"
      ]
    },
    {
      "cell_type": "code",
      "execution_count": 47,
      "metadata": {
        "colab": {
          "base_uri": "https://localhost:8080/",
          "height": 1000
        },
        "id": "Qj-l8M3iTURV",
        "outputId": "0b0d9f44-bd2d-4653-f3cf-3a0efb5f13ba"
      },
      "outputs": [
        {
          "output_type": "display_data",
          "data": {
            "text/plain": [
              "\u001b[1mModel: \"sequential\"\u001b[0m\n"
            ],
            "text/html": [
              "<pre style=\"white-space:pre;overflow-x:auto;line-height:normal;font-family:Menlo,'DejaVu Sans Mono',consolas,'Courier New',monospace\"><span style=\"font-weight: bold\">Model: \"sequential\"</span>\n",
              "</pre>\n"
            ]
          },
          "metadata": {}
        },
        {
          "output_type": "display_data",
          "data": {
            "text/plain": [
              "┏━━━━━━━━━━━━━━━━━━━━━━━━━━━━━━━━━━━━━━┳━━━━━━━━━━━━━━━━━━━━━━━━━━━━━┳━━━━━━━━━━━━━━━━━┓\n",
              "┃\u001b[1m \u001b[0m\u001b[1mLayer (type)                        \u001b[0m\u001b[1m \u001b[0m┃\u001b[1m \u001b[0m\u001b[1mOutput Shape               \u001b[0m\u001b[1m \u001b[0m┃\u001b[1m \u001b[0m\u001b[1m        Param #\u001b[0m\u001b[1m \u001b[0m┃\n",
              "┡━━━━━━━━━━━━━━━━━━━━━━━━━━━━━━━━━━━━━━╇━━━━━━━━━━━━━━━━━━━━━━━━━━━━━╇━━━━━━━━━━━━━━━━━┩\n",
              "│ lstm (\u001b[38;5;33mLSTM\u001b[0m)                          │ (\u001b[38;5;45mNone\u001b[0m, \u001b[38;5;34m256\u001b[0m)                 │         \u001b[38;5;34m528,384\u001b[0m │\n",
              "├──────────────────────────────────────┼─────────────────────────────┼─────────────────┤\n",
              "│ batch_normalization                  │ (\u001b[38;5;45mNone\u001b[0m, \u001b[38;5;34m256\u001b[0m)                 │           \u001b[38;5;34m1,024\u001b[0m │\n",
              "│ (\u001b[38;5;33mBatchNormalization\u001b[0m)                 │                             │                 │\n",
              "├──────────────────────────────────────┼─────────────────────────────┼─────────────────┤\n",
              "│ dropout (\u001b[38;5;33mDropout\u001b[0m)                    │ (\u001b[38;5;45mNone\u001b[0m, \u001b[38;5;34m256\u001b[0m)                 │               \u001b[38;5;34m0\u001b[0m │\n",
              "├──────────────────────────────────────┼─────────────────────────────┼─────────────────┤\n",
              "│ dense (\u001b[38;5;33mDense\u001b[0m)                        │ (\u001b[38;5;45mNone\u001b[0m, \u001b[38;5;34m128\u001b[0m)                 │          \u001b[38;5;34m32,896\u001b[0m │\n",
              "├──────────────────────────────────────┼─────────────────────────────┼─────────────────┤\n",
              "│ dense_1 (\u001b[38;5;33mDense\u001b[0m)                      │ (\u001b[38;5;45mNone\u001b[0m, \u001b[38;5;34m64\u001b[0m)                  │           \u001b[38;5;34m8,256\u001b[0m │\n",
              "├──────────────────────────────────────┼─────────────────────────────┼─────────────────┤\n",
              "│ dense_2 (\u001b[38;5;33mDense\u001b[0m)                      │ (\u001b[38;5;45mNone\u001b[0m, \u001b[38;5;34m64\u001b[0m)                  │           \u001b[38;5;34m4,160\u001b[0m │\n",
              "├──────────────────────────────────────┼─────────────────────────────┼─────────────────┤\n",
              "│ dense_3 (\u001b[38;5;33mDense\u001b[0m)                      │ (\u001b[38;5;45mNone\u001b[0m, \u001b[38;5;34m20\u001b[0m)                  │           \u001b[38;5;34m1,300\u001b[0m │\n",
              "└──────────────────────────────────────┴─────────────────────────────┴─────────────────┘\n"
            ],
            "text/html": [
              "<pre style=\"white-space:pre;overflow-x:auto;line-height:normal;font-family:Menlo,'DejaVu Sans Mono',consolas,'Courier New',monospace\">┏━━━━━━━━━━━━━━━━━━━━━━━━━━━━━━━━━━━━━━┳━━━━━━━━━━━━━━━━━━━━━━━━━━━━━┳━━━━━━━━━━━━━━━━━┓\n",
              "┃<span style=\"font-weight: bold\"> Layer (type)                         </span>┃<span style=\"font-weight: bold\"> Output Shape                </span>┃<span style=\"font-weight: bold\">         Param # </span>┃\n",
              "┡━━━━━━━━━━━━━━━━━━━━━━━━━━━━━━━━━━━━━━╇━━━━━━━━━━━━━━━━━━━━━━━━━━━━━╇━━━━━━━━━━━━━━━━━┩\n",
              "│ lstm (<span style=\"color: #0087ff; text-decoration-color: #0087ff\">LSTM</span>)                          │ (<span style=\"color: #00d7ff; text-decoration-color: #00d7ff\">None</span>, <span style=\"color: #00af00; text-decoration-color: #00af00\">256</span>)                 │         <span style=\"color: #00af00; text-decoration-color: #00af00\">528,384</span> │\n",
              "├──────────────────────────────────────┼─────────────────────────────┼─────────────────┤\n",
              "│ batch_normalization                  │ (<span style=\"color: #00d7ff; text-decoration-color: #00d7ff\">None</span>, <span style=\"color: #00af00; text-decoration-color: #00af00\">256</span>)                 │           <span style=\"color: #00af00; text-decoration-color: #00af00\">1,024</span> │\n",
              "│ (<span style=\"color: #0087ff; text-decoration-color: #0087ff\">BatchNormalization</span>)                 │                             │                 │\n",
              "├──────────────────────────────────────┼─────────────────────────────┼─────────────────┤\n",
              "│ dropout (<span style=\"color: #0087ff; text-decoration-color: #0087ff\">Dropout</span>)                    │ (<span style=\"color: #00d7ff; text-decoration-color: #00d7ff\">None</span>, <span style=\"color: #00af00; text-decoration-color: #00af00\">256</span>)                 │               <span style=\"color: #00af00; text-decoration-color: #00af00\">0</span> │\n",
              "├──────────────────────────────────────┼─────────────────────────────┼─────────────────┤\n",
              "│ dense (<span style=\"color: #0087ff; text-decoration-color: #0087ff\">Dense</span>)                        │ (<span style=\"color: #00d7ff; text-decoration-color: #00d7ff\">None</span>, <span style=\"color: #00af00; text-decoration-color: #00af00\">128</span>)                 │          <span style=\"color: #00af00; text-decoration-color: #00af00\">32,896</span> │\n",
              "├──────────────────────────────────────┼─────────────────────────────┼─────────────────┤\n",
              "│ dense_1 (<span style=\"color: #0087ff; text-decoration-color: #0087ff\">Dense</span>)                      │ (<span style=\"color: #00d7ff; text-decoration-color: #00d7ff\">None</span>, <span style=\"color: #00af00; text-decoration-color: #00af00\">64</span>)                  │           <span style=\"color: #00af00; text-decoration-color: #00af00\">8,256</span> │\n",
              "├──────────────────────────────────────┼─────────────────────────────┼─────────────────┤\n",
              "│ dense_2 (<span style=\"color: #0087ff; text-decoration-color: #0087ff\">Dense</span>)                      │ (<span style=\"color: #00d7ff; text-decoration-color: #00d7ff\">None</span>, <span style=\"color: #00af00; text-decoration-color: #00af00\">64</span>)                  │           <span style=\"color: #00af00; text-decoration-color: #00af00\">4,160</span> │\n",
              "├──────────────────────────────────────┼─────────────────────────────┼─────────────────┤\n",
              "│ dense_3 (<span style=\"color: #0087ff; text-decoration-color: #0087ff\">Dense</span>)                      │ (<span style=\"color: #00d7ff; text-decoration-color: #00d7ff\">None</span>, <span style=\"color: #00af00; text-decoration-color: #00af00\">20</span>)                  │           <span style=\"color: #00af00; text-decoration-color: #00af00\">1,300</span> │\n",
              "└──────────────────────────────────────┴─────────────────────────────┴─────────────────┘\n",
              "</pre>\n"
            ]
          },
          "metadata": {}
        },
        {
          "output_type": "display_data",
          "data": {
            "text/plain": [
              "\u001b[1m Total params: \u001b[0m\u001b[38;5;34m576,020\u001b[0m (2.20 MB)\n"
            ],
            "text/html": [
              "<pre style=\"white-space:pre;overflow-x:auto;line-height:normal;font-family:Menlo,'DejaVu Sans Mono',consolas,'Courier New',monospace\"><span style=\"font-weight: bold\"> Total params: </span><span style=\"color: #00af00; text-decoration-color: #00af00\">576,020</span> (2.20 MB)\n",
              "</pre>\n"
            ]
          },
          "metadata": {}
        },
        {
          "output_type": "display_data",
          "data": {
            "text/plain": [
              "\u001b[1m Trainable params: \u001b[0m\u001b[38;5;34m575,508\u001b[0m (2.20 MB)\n"
            ],
            "text/html": [
              "<pre style=\"white-space:pre;overflow-x:auto;line-height:normal;font-family:Menlo,'DejaVu Sans Mono',consolas,'Courier New',monospace\"><span style=\"font-weight: bold\"> Trainable params: </span><span style=\"color: #00af00; text-decoration-color: #00af00\">575,508</span> (2.20 MB)\n",
              "</pre>\n"
            ]
          },
          "metadata": {}
        },
        {
          "output_type": "display_data",
          "data": {
            "text/plain": [
              "\u001b[1m Non-trainable params: \u001b[0m\u001b[38;5;34m512\u001b[0m (2.00 KB)\n"
            ],
            "text/html": [
              "<pre style=\"white-space:pre;overflow-x:auto;line-height:normal;font-family:Menlo,'DejaVu Sans Mono',consolas,'Courier New',monospace\"><span style=\"font-weight: bold\"> Non-trainable params: </span><span style=\"color: #00af00; text-decoration-color: #00af00\">512</span> (2.00 KB)\n",
              "</pre>\n"
            ]
          },
          "metadata": {}
        },
        {
          "output_type": "stream",
          "name": "stdout",
          "text": [
            "None\n",
            "Epoch 1/100\n",
            "\u001b[1m124/124\u001b[0m \u001b[32m━━━━━━━━━━━━━━━━━━━━\u001b[0m\u001b[37m\u001b[0m \u001b[1m4s\u001b[0m 15ms/step - accuracy: 0.0358 - loss: 3.4156 - weighted_accuracy: 0.0358 - val_accuracy: 0.0477 - val_loss: 3.3079 - val_weighted_accuracy: 0.0477\n",
            "Epoch 2/100\n",
            "\u001b[1m124/124\u001b[0m \u001b[32m━━━━━━━━━━━━━━━━━━━━\u001b[0m\u001b[37m\u001b[0m \u001b[1m1s\u001b[0m 10ms/step - accuracy: 0.0738 - loss: 3.2494 - weighted_accuracy: 0.0738 - val_accuracy: 0.0731 - val_loss: 3.2693 - val_weighted_accuracy: 0.0731\n",
            "Epoch 3/100\n",
            "\u001b[1m124/124\u001b[0m \u001b[32m━━━━━━━━━━━━━━━━━━━━\u001b[0m\u001b[37m\u001b[0m \u001b[1m1s\u001b[0m 10ms/step - accuracy: 0.1347 - loss: 3.1364 - weighted_accuracy: 0.1347 - val_accuracy: 0.1259 - val_loss: 3.1852 - val_weighted_accuracy: 0.1259\n",
            "Epoch 4/100\n",
            "\u001b[1m124/124\u001b[0m \u001b[32m━━━━━━━━━━━━━━━━━━━━\u001b[0m\u001b[37m\u001b[0m \u001b[1m1s\u001b[0m 11ms/step - accuracy: 0.1679 - loss: 3.0399 - weighted_accuracy: 0.1679 - val_accuracy: 0.1817 - val_loss: 3.0701 - val_weighted_accuracy: 0.1817\n",
            "Epoch 5/100\n",
            "\u001b[1m124/124\u001b[0m \u001b[32m━━━━━━━━━━━━━━━━━━━━\u001b[0m\u001b[37m\u001b[0m \u001b[1m1s\u001b[0m 11ms/step - accuracy: 0.1951 - loss: 2.9675 - weighted_accuracy: 0.1951 - val_accuracy: 0.2112 - val_loss: 2.9823 - val_weighted_accuracy: 0.2112\n",
            "Epoch 6/100\n",
            "\u001b[1m124/124\u001b[0m \u001b[32m━━━━━━━━━━━━━━━━━━━━\u001b[0m\u001b[37m\u001b[0m \u001b[1m1s\u001b[0m 10ms/step - accuracy: 0.2090 - loss: 2.9033 - weighted_accuracy: 0.2090 - val_accuracy: 0.2254 - val_loss: 2.9107 - val_weighted_accuracy: 0.2254\n",
            "Epoch 7/100\n",
            "\u001b[1m124/124\u001b[0m \u001b[32m━━━━━━━━━━━━━━━━━━━━\u001b[0m\u001b[37m\u001b[0m \u001b[1m1s\u001b[0m 10ms/step - accuracy: 0.2414 - loss: 2.8258 - weighted_accuracy: 0.2414 - val_accuracy: 0.2426 - val_loss: 2.8386 - val_weighted_accuracy: 0.2426\n",
            "Epoch 8/100\n",
            "\u001b[1m124/124\u001b[0m \u001b[32m━━━━━━━━━━━━━━━━━━━━\u001b[0m\u001b[37m\u001b[0m \u001b[1m1s\u001b[0m 10ms/step - accuracy: 0.2476 - loss: 2.7748 - weighted_accuracy: 0.2476 - val_accuracy: 0.2619 - val_loss: 2.7919 - val_weighted_accuracy: 0.2619\n",
            "Epoch 9/100\n",
            "\u001b[1m124/124\u001b[0m \u001b[32m━━━━━━━━━━━━━━━━━━━━\u001b[0m\u001b[37m\u001b[0m \u001b[1m1s\u001b[0m 10ms/step - accuracy: 0.2771 - loss: 2.7185 - weighted_accuracy: 0.2771 - val_accuracy: 0.2660 - val_loss: 2.7600 - val_weighted_accuracy: 0.2660\n",
            "Epoch 10/100\n",
            "\u001b[1m124/124\u001b[0m \u001b[32m━━━━━━━━━━━━━━━━━━━━\u001b[0m\u001b[37m\u001b[0m \u001b[1m1s\u001b[0m 10ms/step - accuracy: 0.2844 - loss: 2.6585 - weighted_accuracy: 0.2844 - val_accuracy: 0.2792 - val_loss: 2.7052 - val_weighted_accuracy: 0.2792\n",
            "Epoch 11/100\n",
            "\u001b[1m124/124\u001b[0m \u001b[32m━━━━━━━━━━━━━━━━━━━━\u001b[0m\u001b[37m\u001b[0m \u001b[1m1s\u001b[0m 10ms/step - accuracy: 0.3086 - loss: 2.6214 - weighted_accuracy: 0.3086 - val_accuracy: 0.2822 - val_loss: 2.6715 - val_weighted_accuracy: 0.2822\n",
            "Epoch 12/100\n",
            "\u001b[1m124/124\u001b[0m \u001b[32m━━━━━━━━━━━━━━━━━━━━\u001b[0m\u001b[37m\u001b[0m \u001b[1m1s\u001b[0m 10ms/step - accuracy: 0.3149 - loss: 2.5714 - weighted_accuracy: 0.3149 - val_accuracy: 0.2914 - val_loss: 2.6408 - val_weighted_accuracy: 0.2914\n",
            "Epoch 13/100\n",
            "\u001b[1m124/124\u001b[0m \u001b[32m━━━━━━━━━━━━━━━━━━━━\u001b[0m\u001b[37m\u001b[0m \u001b[1m1s\u001b[0m 11ms/step - accuracy: 0.3143 - loss: 2.5524 - weighted_accuracy: 0.3143 - val_accuracy: 0.3025 - val_loss: 2.6160 - val_weighted_accuracy: 0.3025\n",
            "Epoch 14/100\n",
            "\u001b[1m124/124\u001b[0m \u001b[32m━━━━━━━━━━━━━━━━━━━━\u001b[0m\u001b[37m\u001b[0m \u001b[1m1s\u001b[0m 11ms/step - accuracy: 0.3351 - loss: 2.4767 - weighted_accuracy: 0.3351 - val_accuracy: 0.3046 - val_loss: 2.5752 - val_weighted_accuracy: 0.3046\n",
            "Epoch 15/100\n",
            "\u001b[1m124/124\u001b[0m \u001b[32m━━━━━━━━━━━━━━━━━━━━\u001b[0m\u001b[37m\u001b[0m \u001b[1m1s\u001b[0m 10ms/step - accuracy: 0.3552 - loss: 2.4296 - weighted_accuracy: 0.3552 - val_accuracy: 0.3107 - val_loss: 2.5527 - val_weighted_accuracy: 0.3107\n",
            "Epoch 16/100\n",
            "\u001b[1m124/124\u001b[0m \u001b[32m━━━━━━━━━━━━━━━━━━━━\u001b[0m\u001b[37m\u001b[0m \u001b[1m1s\u001b[0m 11ms/step - accuracy: 0.3550 - loss: 2.4295 - weighted_accuracy: 0.3550 - val_accuracy: 0.3228 - val_loss: 2.5252 - val_weighted_accuracy: 0.3228\n",
            "Epoch 17/100\n",
            "\u001b[1m124/124\u001b[0m \u001b[32m━━━━━━━━━━━━━━━━━━━━\u001b[0m\u001b[37m\u001b[0m \u001b[1m1s\u001b[0m 10ms/step - accuracy: 0.3546 - loss: 2.4007 - weighted_accuracy: 0.3546 - val_accuracy: 0.3310 - val_loss: 2.4916 - val_weighted_accuracy: 0.3310\n",
            "Epoch 18/100\n",
            "\u001b[1m124/124\u001b[0m \u001b[32m━━━━━━━━━━━━━━━━━━━━\u001b[0m\u001b[37m\u001b[0m \u001b[1m1s\u001b[0m 11ms/step - accuracy: 0.3625 - loss: 2.3678 - weighted_accuracy: 0.3625 - val_accuracy: 0.3259 - val_loss: 2.4792 - val_weighted_accuracy: 0.3259\n",
            "Epoch 19/100\n",
            "\u001b[1m124/124\u001b[0m \u001b[32m━━━━━━━━━━━━━━━━━━━━\u001b[0m\u001b[37m\u001b[0m \u001b[1m1s\u001b[0m 11ms/step - accuracy: 0.3673 - loss: 2.3406 - weighted_accuracy: 0.3673 - val_accuracy: 0.3269 - val_loss: 2.4667 - val_weighted_accuracy: 0.3269\n",
            "Epoch 20/100\n",
            "\u001b[1m124/124\u001b[0m \u001b[32m━━━━━━━━━━━━━━━━━━━━\u001b[0m\u001b[37m\u001b[0m \u001b[1m1s\u001b[0m 11ms/step - accuracy: 0.3691 - loss: 2.3307 - weighted_accuracy: 0.3691 - val_accuracy: 0.3310 - val_loss: 2.4503 - val_weighted_accuracy: 0.3310\n",
            "Epoch 21/100\n",
            "\u001b[1m124/124\u001b[0m \u001b[32m━━━━━━━━━━━━━━━━━━━━\u001b[0m\u001b[37m\u001b[0m \u001b[1m1s\u001b[0m 11ms/step - accuracy: 0.3967 - loss: 2.2650 - weighted_accuracy: 0.3967 - val_accuracy: 0.3391 - val_loss: 2.4351 - val_weighted_accuracy: 0.3391\n",
            "Epoch 22/100\n",
            "\u001b[1m124/124\u001b[0m \u001b[32m━━━━━━━━━━━━━━━━━━━━\u001b[0m\u001b[37m\u001b[0m \u001b[1m1s\u001b[0m 11ms/step - accuracy: 0.4013 - loss: 2.2544 - weighted_accuracy: 0.4013 - val_accuracy: 0.3482 - val_loss: 2.4267 - val_weighted_accuracy: 0.3482\n",
            "Epoch 23/100\n",
            "\u001b[1m124/124\u001b[0m \u001b[32m━━━━━━━━━━━━━━━━━━━━\u001b[0m\u001b[37m\u001b[0m \u001b[1m1s\u001b[0m 11ms/step - accuracy: 0.4047 - loss: 2.2251 - weighted_accuracy: 0.4047 - val_accuracy: 0.3462 - val_loss: 2.4020 - val_weighted_accuracy: 0.3462\n",
            "Epoch 24/100\n",
            "\u001b[1m124/124\u001b[0m \u001b[32m━━━━━━━━━━━━━━━━━━━━\u001b[0m\u001b[37m\u001b[0m \u001b[1m1s\u001b[0m 11ms/step - accuracy: 0.4212 - loss: 2.1961 - weighted_accuracy: 0.4212 - val_accuracy: 0.3553 - val_loss: 2.4040 - val_weighted_accuracy: 0.3553\n",
            "Epoch 25/100\n",
            "\u001b[1m124/124\u001b[0m \u001b[32m━━━━━━━━━━━━━━━━━━━━\u001b[0m\u001b[37m\u001b[0m \u001b[1m1s\u001b[0m 10ms/step - accuracy: 0.4148 - loss: 2.1932 - weighted_accuracy: 0.4148 - val_accuracy: 0.3624 - val_loss: 2.3753 - val_weighted_accuracy: 0.3624\n",
            "Epoch 26/100\n",
            "\u001b[1m124/124\u001b[0m \u001b[32m━━━━━━━━━━━━━━━━━━━━\u001b[0m\u001b[37m\u001b[0m \u001b[1m1s\u001b[0m 10ms/step - accuracy: 0.4333 - loss: 2.1717 - weighted_accuracy: 0.4333 - val_accuracy: 0.3624 - val_loss: 2.3819 - val_weighted_accuracy: 0.3624\n",
            "Epoch 27/100\n",
            "\u001b[1m124/124\u001b[0m \u001b[32m━━━━━━━━━━━━━━━━━━━━\u001b[0m\u001b[37m\u001b[0m \u001b[1m1s\u001b[0m 10ms/step - accuracy: 0.4376 - loss: 2.1343 - weighted_accuracy: 0.4376 - val_accuracy: 0.3665 - val_loss: 2.3718 - val_weighted_accuracy: 0.3665\n",
            "Epoch 28/100\n",
            "\u001b[1m124/124\u001b[0m \u001b[32m━━━━━━━━━━━━━━━━━━━━\u001b[0m\u001b[37m\u001b[0m \u001b[1m1s\u001b[0m 10ms/step - accuracy: 0.4242 - loss: 2.1331 - weighted_accuracy: 0.4242 - val_accuracy: 0.3695 - val_loss: 2.3593 - val_weighted_accuracy: 0.3695\n",
            "Epoch 29/100\n",
            "\u001b[1m124/124\u001b[0m \u001b[32m━━━━━━━━━━━━━━━━━━━━\u001b[0m\u001b[37m\u001b[0m \u001b[1m1s\u001b[0m 10ms/step - accuracy: 0.4393 - loss: 2.1205 - weighted_accuracy: 0.4393 - val_accuracy: 0.3716 - val_loss: 2.3602 - val_weighted_accuracy: 0.3716\n",
            "Epoch 30/100\n",
            "\u001b[1m124/124\u001b[0m \u001b[32m━━━━━━━━━━━━━━━━━━━━\u001b[0m\u001b[37m\u001b[0m \u001b[1m1s\u001b[0m 10ms/step - accuracy: 0.4504 - loss: 2.1170 - weighted_accuracy: 0.4504 - val_accuracy: 0.3655 - val_loss: 2.3514 - val_weighted_accuracy: 0.3655\n",
            "Epoch 31/100\n",
            "\u001b[1m124/124\u001b[0m \u001b[32m━━━━━━━━━━━━━━━━━━━━\u001b[0m\u001b[37m\u001b[0m \u001b[1m1s\u001b[0m 11ms/step - accuracy: 0.4568 - loss: 2.0926 - weighted_accuracy: 0.4568 - val_accuracy: 0.3614 - val_loss: 2.3493 - val_weighted_accuracy: 0.3614\n",
            "Epoch 32/100\n",
            "\u001b[1m124/124\u001b[0m \u001b[32m━━━━━━━━━━━━━━━━━━━━\u001b[0m\u001b[37m\u001b[0m \u001b[1m1s\u001b[0m 11ms/step - accuracy: 0.4638 - loss: 2.0363 - weighted_accuracy: 0.4638 - val_accuracy: 0.3766 - val_loss: 2.3359 - val_weighted_accuracy: 0.3766\n",
            "Epoch 33/100\n",
            "\u001b[1m124/124\u001b[0m \u001b[32m━━━━━━━━━━━━━━━━━━━━\u001b[0m\u001b[37m\u001b[0m \u001b[1m1s\u001b[0m 11ms/step - accuracy: 0.4720 - loss: 2.0454 - weighted_accuracy: 0.4720 - val_accuracy: 0.3766 - val_loss: 2.3374 - val_weighted_accuracy: 0.3766\n",
            "Epoch 34/100\n",
            "\u001b[1m124/124\u001b[0m \u001b[32m━━━━━━━━━━━━━━━━━━━━\u001b[0m\u001b[37m\u001b[0m \u001b[1m1s\u001b[0m 10ms/step - accuracy: 0.4668 - loss: 2.0499 - weighted_accuracy: 0.4668 - val_accuracy: 0.3797 - val_loss: 2.3356 - val_weighted_accuracy: 0.3797\n",
            "Epoch 35/100\n",
            "\u001b[1m124/124\u001b[0m \u001b[32m━━━━━━━━━━━━━━━━━━━━\u001b[0m\u001b[37m\u001b[0m \u001b[1m1s\u001b[0m 10ms/step - accuracy: 0.4706 - loss: 2.0308 - weighted_accuracy: 0.4706 - val_accuracy: 0.3695 - val_loss: 2.3366 - val_weighted_accuracy: 0.3695\n",
            "Epoch 36/100\n",
            "\u001b[1m124/124\u001b[0m \u001b[32m━━━━━━━━━━━━━━━━━━━━\u001b[0m\u001b[37m\u001b[0m \u001b[1m1s\u001b[0m 10ms/step - accuracy: 0.4806 - loss: 2.0199 - weighted_accuracy: 0.4806 - val_accuracy: 0.3695 - val_loss: 2.3235 - val_weighted_accuracy: 0.3695\n",
            "Epoch 37/100\n",
            "\u001b[1m124/124\u001b[0m \u001b[32m━━━━━━━━━━━━━━━━━━━━\u001b[0m\u001b[37m\u001b[0m \u001b[1m1s\u001b[0m 10ms/step - accuracy: 0.4919 - loss: 1.9941 - weighted_accuracy: 0.4919 - val_accuracy: 0.3624 - val_loss: 2.3152 - val_weighted_accuracy: 0.3624\n",
            "Epoch 38/100\n",
            "\u001b[1m124/124\u001b[0m \u001b[32m━━━━━━━━━━━━━━━━━━━━\u001b[0m\u001b[37m\u001b[0m \u001b[1m1s\u001b[0m 10ms/step - accuracy: 0.4829 - loss: 1.9797 - weighted_accuracy: 0.4829 - val_accuracy: 0.3756 - val_loss: 2.3242 - val_weighted_accuracy: 0.3756\n",
            "Epoch 39/100\n",
            "\u001b[1m124/124\u001b[0m \u001b[32m━━━━━━━━━━━━━━━━━━━━\u001b[0m\u001b[37m\u001b[0m \u001b[1m1s\u001b[0m 10ms/step - accuracy: 0.4814 - loss: 1.9926 - weighted_accuracy: 0.4814 - val_accuracy: 0.3635 - val_loss: 2.3137 - val_weighted_accuracy: 0.3635\n",
            "Epoch 40/100\n",
            "\u001b[1m124/124\u001b[0m \u001b[32m━━━━━━━━━━━━━━━━━━━━\u001b[0m\u001b[37m\u001b[0m \u001b[1m1s\u001b[0m 10ms/step - accuracy: 0.4849 - loss: 1.9563 - weighted_accuracy: 0.4849 - val_accuracy: 0.3675 - val_loss: 2.3084 - val_weighted_accuracy: 0.3675\n",
            "Epoch 41/100\n",
            "\u001b[1m124/124\u001b[0m \u001b[32m━━━━━━━━━━━━━━━━━━━━\u001b[0m\u001b[37m\u001b[0m \u001b[1m1s\u001b[0m 11ms/step - accuracy: 0.4996 - loss: 1.9524 - weighted_accuracy: 0.4996 - val_accuracy: 0.3685 - val_loss: 2.3270 - val_weighted_accuracy: 0.3685\n",
            "Epoch 42/100\n",
            "\u001b[1m124/124\u001b[0m \u001b[32m━━━━━━━━━━━━━━━━━━━━\u001b[0m\u001b[37m\u001b[0m \u001b[1m1s\u001b[0m 11ms/step - accuracy: 0.4950 - loss: 1.9427 - weighted_accuracy: 0.4950 - val_accuracy: 0.3756 - val_loss: 2.3125 - val_weighted_accuracy: 0.3756\n",
            "Epoch 43/100\n",
            "\u001b[1m124/124\u001b[0m \u001b[32m━━━━━━━━━━━━━━━━━━━━\u001b[0m\u001b[37m\u001b[0m \u001b[1m1s\u001b[0m 10ms/step - accuracy: 0.4914 - loss: 1.9447 - weighted_accuracy: 0.4914 - val_accuracy: 0.3645 - val_loss: 2.3049 - val_weighted_accuracy: 0.3645\n",
            "Epoch 44/100\n",
            "\u001b[1m124/124\u001b[0m \u001b[32m━━━━━━━━━━━━━━━━━━━━\u001b[0m\u001b[37m\u001b[0m \u001b[1m1s\u001b[0m 10ms/step - accuracy: 0.5025 - loss: 1.9183 - weighted_accuracy: 0.5025 - val_accuracy: 0.3726 - val_loss: 2.3094 - val_weighted_accuracy: 0.3726\n",
            "Epoch 45/100\n",
            "\u001b[1m124/124\u001b[0m \u001b[32m━━━━━━━━━━━━━━━━━━━━\u001b[0m\u001b[37m\u001b[0m \u001b[1m1s\u001b[0m 10ms/step - accuracy: 0.5091 - loss: 1.8913 - weighted_accuracy: 0.5091 - val_accuracy: 0.3604 - val_loss: 2.3045 - val_weighted_accuracy: 0.3604\n",
            "Epoch 46/100\n",
            "\u001b[1m124/124\u001b[0m \u001b[32m━━━━━━━━━━━━━━━━━━━━\u001b[0m\u001b[37m\u001b[0m \u001b[1m1s\u001b[0m 10ms/step - accuracy: 0.5228 - loss: 1.8657 - weighted_accuracy: 0.5228 - val_accuracy: 0.3574 - val_loss: 2.3051 - val_weighted_accuracy: 0.3574\n",
            "Epoch 47/100\n",
            "\u001b[1m124/124\u001b[0m \u001b[32m━━━━━━━━━━━━━━━━━━━━\u001b[0m\u001b[37m\u001b[0m \u001b[1m1s\u001b[0m 10ms/step - accuracy: 0.5228 - loss: 1.8604 - weighted_accuracy: 0.5228 - val_accuracy: 0.3675 - val_loss: 2.3074 - val_weighted_accuracy: 0.3675\n",
            "Epoch 48/100\n",
            "\u001b[1m124/124\u001b[0m \u001b[32m━━━━━━━━━━━━━━━━━━━━\u001b[0m\u001b[37m\u001b[0m \u001b[1m1s\u001b[0m 10ms/step - accuracy: 0.5039 - loss: 1.8844 - weighted_accuracy: 0.5039 - val_accuracy: 0.3584 - val_loss: 2.2865 - val_weighted_accuracy: 0.3584\n",
            "Epoch 49/100\n",
            "\u001b[1m124/124\u001b[0m \u001b[32m━━━━━━━━━━━━━━━━━━━━\u001b[0m\u001b[37m\u001b[0m \u001b[1m1s\u001b[0m 10ms/step - accuracy: 0.5235 - loss: 1.8650 - weighted_accuracy: 0.5235 - val_accuracy: 0.3807 - val_loss: 2.2893 - val_weighted_accuracy: 0.3807\n",
            "Epoch 50/100\n",
            "\u001b[1m124/124\u001b[0m \u001b[32m━━━━━━━━━━━━━━━━━━━━\u001b[0m\u001b[37m\u001b[0m \u001b[1m1s\u001b[0m 11ms/step - accuracy: 0.5237 - loss: 1.8316 - weighted_accuracy: 0.5237 - val_accuracy: 0.3685 - val_loss: 2.3165 - val_weighted_accuracy: 0.3685\n",
            "Epoch 51/100\n",
            "\u001b[1m124/124\u001b[0m \u001b[32m━━━━━━━━━━━━━━━━━━━━\u001b[0m\u001b[37m\u001b[0m \u001b[1m1s\u001b[0m 11ms/step - accuracy: 0.5348 - loss: 1.8300 - weighted_accuracy: 0.5348 - val_accuracy: 0.3604 - val_loss: 2.3166 - val_weighted_accuracy: 0.3604\n",
            "Epoch 52/100\n",
            "\u001b[1m124/124\u001b[0m \u001b[32m━━━━━━━━━━━━━━━━━━━━\u001b[0m\u001b[37m\u001b[0m \u001b[1m1s\u001b[0m 10ms/step - accuracy: 0.5354 - loss: 1.8126 - weighted_accuracy: 0.5354 - val_accuracy: 0.3665 - val_loss: 2.2985 - val_weighted_accuracy: 0.3665\n",
            "Epoch 53/100\n",
            "\u001b[1m124/124\u001b[0m \u001b[32m━━━━━━━━━━━━━━━━━━━━\u001b[0m\u001b[37m\u001b[0m \u001b[1m1s\u001b[0m 10ms/step - accuracy: 0.5507 - loss: 1.7950 - weighted_accuracy: 0.5507 - val_accuracy: 0.3574 - val_loss: 2.2883 - val_weighted_accuracy: 0.3574\n",
            "Epoch 54/100\n",
            "\u001b[1m124/124\u001b[0m \u001b[32m━━━━━━━━━━━━━━━━━━━━\u001b[0m\u001b[37m\u001b[0m \u001b[1m1s\u001b[0m 10ms/step - accuracy: 0.5387 - loss: 1.8058 - weighted_accuracy: 0.5387 - val_accuracy: 0.3777 - val_loss: 2.3031 - val_weighted_accuracy: 0.3777\n",
            "Epoch 55/100\n",
            "\u001b[1m124/124\u001b[0m \u001b[32m━━━━━━━━━━━━━━━━━━━━\u001b[0m\u001b[37m\u001b[0m \u001b[1m1s\u001b[0m 10ms/step - accuracy: 0.5531 - loss: 1.7598 - weighted_accuracy: 0.5531 - val_accuracy: 0.3695 - val_loss: 2.3087 - val_weighted_accuracy: 0.3695\n",
            "Epoch 56/100\n",
            "\u001b[1m124/124\u001b[0m \u001b[32m━━━━━━━━━━━━━━━━━━━━\u001b[0m\u001b[37m\u001b[0m \u001b[1m1s\u001b[0m 10ms/step - accuracy: 0.5545 - loss: 1.7786 - weighted_accuracy: 0.5545 - val_accuracy: 0.3868 - val_loss: 2.3092 - val_weighted_accuracy: 0.3868\n",
            "Epoch 57/100\n",
            "\u001b[1m124/124\u001b[0m \u001b[32m━━━━━━━━━━━━━━━━━━━━\u001b[0m\u001b[37m\u001b[0m \u001b[1m1s\u001b[0m 10ms/step - accuracy: 0.5432 - loss: 1.7695 - weighted_accuracy: 0.5432 - val_accuracy: 0.3665 - val_loss: 2.3079 - val_weighted_accuracy: 0.3665\n",
            "Epoch 58/100\n",
            "\u001b[1m124/124\u001b[0m \u001b[32m━━━━━━━━━━━━━━━━━━━━\u001b[0m\u001b[37m\u001b[0m \u001b[1m1s\u001b[0m 10ms/step - accuracy: 0.5605 - loss: 1.7393 - weighted_accuracy: 0.5605 - val_accuracy: 0.3635 - val_loss: 2.2855 - val_weighted_accuracy: 0.3635\n",
            "Epoch 59/100\n",
            "\u001b[1m124/124\u001b[0m \u001b[32m━━━━━━━━━━━━━━━━━━━━\u001b[0m\u001b[37m\u001b[0m \u001b[1m1s\u001b[0m 11ms/step - accuracy: 0.5687 - loss: 1.7237 - weighted_accuracy: 0.5687 - val_accuracy: 0.3665 - val_loss: 2.2848 - val_weighted_accuracy: 0.3665\n",
            "Epoch 60/100\n",
            "\u001b[1m124/124\u001b[0m \u001b[32m━━━━━━━━━━━━━━━━━━━━\u001b[0m\u001b[37m\u001b[0m \u001b[1m1s\u001b[0m 11ms/step - accuracy: 0.5677 - loss: 1.7115 - weighted_accuracy: 0.5677 - val_accuracy: 0.3756 - val_loss: 2.2805 - val_weighted_accuracy: 0.3756\n",
            "Epoch 61/100\n",
            "\u001b[1m124/124\u001b[0m \u001b[32m━━━━━━━━━━━━━━━━━━━━\u001b[0m\u001b[37m\u001b[0m \u001b[1m1s\u001b[0m 10ms/step - accuracy: 0.5653 - loss: 1.7238 - weighted_accuracy: 0.5653 - val_accuracy: 0.3716 - val_loss: 2.2874 - val_weighted_accuracy: 0.3716\n",
            "Epoch 62/100\n",
            "\u001b[1m124/124\u001b[0m \u001b[32m━━━━━━━━━━━━━━━━━━━━\u001b[0m\u001b[37m\u001b[0m \u001b[1m1s\u001b[0m 10ms/step - accuracy: 0.5590 - loss: 1.7188 - weighted_accuracy: 0.5590 - val_accuracy: 0.3695 - val_loss: 2.2843 - val_weighted_accuracy: 0.3695\n",
            "Epoch 63/100\n",
            "\u001b[1m124/124\u001b[0m \u001b[32m━━━━━━━━━━━━━━━━━━━━\u001b[0m\u001b[37m\u001b[0m \u001b[1m1s\u001b[0m 11ms/step - accuracy: 0.5712 - loss: 1.6921 - weighted_accuracy: 0.5712 - val_accuracy: 0.3736 - val_loss: 2.2594 - val_weighted_accuracy: 0.3736\n",
            "Epoch 64/100\n",
            "\u001b[1m124/124\u001b[0m \u001b[32m━━━━━━━━━━━━━━━━━━━━\u001b[0m\u001b[37m\u001b[0m \u001b[1m1s\u001b[0m 11ms/step - accuracy: 0.5756 - loss: 1.6939 - weighted_accuracy: 0.5756 - val_accuracy: 0.3665 - val_loss: 2.2621 - val_weighted_accuracy: 0.3665\n",
            "Epoch 65/100\n",
            "\u001b[1m124/124\u001b[0m \u001b[32m━━━━━━━━━━━━━━━━━━━━\u001b[0m\u001b[37m\u001b[0m \u001b[1m1s\u001b[0m 10ms/step - accuracy: 0.5830 - loss: 1.6747 - weighted_accuracy: 0.5830 - val_accuracy: 0.3797 - val_loss: 2.2755 - val_weighted_accuracy: 0.3797\n",
            "Epoch 66/100\n",
            "\u001b[1m124/124\u001b[0m \u001b[32m━━━━━━━━━━━━━━━━━━━━\u001b[0m\u001b[37m\u001b[0m \u001b[1m1s\u001b[0m 10ms/step - accuracy: 0.5929 - loss: 1.6567 - weighted_accuracy: 0.5929 - val_accuracy: 0.3858 - val_loss: 2.2532 - val_weighted_accuracy: 0.3858\n",
            "Epoch 67/100\n",
            "\u001b[1m124/124\u001b[0m \u001b[32m━━━━━━━━━━━━━━━━━━━━\u001b[0m\u001b[37m\u001b[0m \u001b[1m1s\u001b[0m 11ms/step - accuracy: 0.5847 - loss: 1.6418 - weighted_accuracy: 0.5847 - val_accuracy: 0.3848 - val_loss: 2.2450 - val_weighted_accuracy: 0.3848\n",
            "Epoch 68/100\n",
            "\u001b[1m124/124\u001b[0m \u001b[32m━━━━━━━━━━━━━━━━━━━━\u001b[0m\u001b[37m\u001b[0m \u001b[1m1s\u001b[0m 11ms/step - accuracy: 0.5696 - loss: 1.6624 - weighted_accuracy: 0.5696 - val_accuracy: 0.3777 - val_loss: 2.2453 - val_weighted_accuracy: 0.3777\n",
            "Epoch 69/100\n",
            "\u001b[1m124/124\u001b[0m \u001b[32m━━━━━━━━━━━━━━━━━━━━\u001b[0m\u001b[37m\u001b[0m \u001b[1m1s\u001b[0m 11ms/step - accuracy: 0.5800 - loss: 1.6549 - weighted_accuracy: 0.5800 - val_accuracy: 0.3970 - val_loss: 2.1918 - val_weighted_accuracy: 0.3970\n",
            "Epoch 70/100\n",
            "\u001b[1m124/124\u001b[0m \u001b[32m━━━━━━━━━━━━━━━━━━━━\u001b[0m\u001b[37m\u001b[0m \u001b[1m1s\u001b[0m 11ms/step - accuracy: 0.5885 - loss: 1.6147 - weighted_accuracy: 0.5885 - val_accuracy: 0.3970 - val_loss: 2.2010 - val_weighted_accuracy: 0.3970\n",
            "Epoch 71/100\n",
            "\u001b[1m124/124\u001b[0m \u001b[32m━━━━━━━━━━━━━━━━━━━━\u001b[0m\u001b[37m\u001b[0m \u001b[1m1s\u001b[0m 10ms/step - accuracy: 0.5979 - loss: 1.5834 - weighted_accuracy: 0.5979 - val_accuracy: 0.3980 - val_loss: 2.1965 - val_weighted_accuracy: 0.3980\n",
            "Epoch 72/100\n",
            "\u001b[1m124/124\u001b[0m \u001b[32m━━━━━━━━━━━━━━━━━━━━\u001b[0m\u001b[37m\u001b[0m \u001b[1m1s\u001b[0m 11ms/step - accuracy: 0.5926 - loss: 1.6175 - weighted_accuracy: 0.5926 - val_accuracy: 0.3990 - val_loss: 2.1772 - val_weighted_accuracy: 0.3990\n",
            "Epoch 73/100\n",
            "\u001b[1m124/124\u001b[0m \u001b[32m━━━━━━━━━━━━━━━━━━━━\u001b[0m\u001b[37m\u001b[0m \u001b[1m1s\u001b[0m 11ms/step - accuracy: 0.5976 - loss: 1.5578 - weighted_accuracy: 0.5976 - val_accuracy: 0.4030 - val_loss: 2.1337 - val_weighted_accuracy: 0.4030\n",
            "Epoch 74/100\n",
            "\u001b[1m124/124\u001b[0m \u001b[32m━━━━━━━━━━━━━━━━━━━━\u001b[0m\u001b[37m\u001b[0m \u001b[1m1s\u001b[0m 10ms/step - accuracy: 0.6072 - loss: 1.5673 - weighted_accuracy: 0.6072 - val_accuracy: 0.4254 - val_loss: 2.1390 - val_weighted_accuracy: 0.4254\n",
            "Epoch 75/100\n",
            "\u001b[1m124/124\u001b[0m \u001b[32m━━━━━━━━━━━━━━━━━━━━\u001b[0m\u001b[37m\u001b[0m \u001b[1m1s\u001b[0m 10ms/step - accuracy: 0.6297 - loss: 1.4983 - weighted_accuracy: 0.6297 - val_accuracy: 0.4152 - val_loss: 2.1246 - val_weighted_accuracy: 0.4152\n",
            "Epoch 76/100\n",
            "\u001b[1m124/124\u001b[0m \u001b[32m━━━━━━━━━━━━━━━━━━━━\u001b[0m\u001b[37m\u001b[0m \u001b[1m1s\u001b[0m 10ms/step - accuracy: 0.6268 - loss: 1.4966 - weighted_accuracy: 0.6268 - val_accuracy: 0.4041 - val_loss: 2.1424 - val_weighted_accuracy: 0.4041\n",
            "Epoch 77/100\n",
            "\u001b[1m124/124\u001b[0m \u001b[32m━━━━━━━━━━━━━━━━━━━━\u001b[0m\u001b[37m\u001b[0m \u001b[1m1s\u001b[0m 10ms/step - accuracy: 0.6109 - loss: 1.5219 - weighted_accuracy: 0.6109 - val_accuracy: 0.4081 - val_loss: 2.1319 - val_weighted_accuracy: 0.4081\n",
            "Epoch 78/100\n",
            "\u001b[1m124/124\u001b[0m \u001b[32m━━━━━━━━━━━━━━━━━━━━\u001b[0m\u001b[37m\u001b[0m \u001b[1m1s\u001b[0m 11ms/step - accuracy: 0.6136 - loss: 1.5171 - weighted_accuracy: 0.6136 - val_accuracy: 0.4315 - val_loss: 2.0828 - val_weighted_accuracy: 0.4315\n",
            "Epoch 79/100\n",
            "\u001b[1m124/124\u001b[0m \u001b[32m━━━━━━━━━━━━━━━━━━━━\u001b[0m\u001b[37m\u001b[0m \u001b[1m1s\u001b[0m 11ms/step - accuracy: 0.6348 - loss: 1.4651 - weighted_accuracy: 0.6348 - val_accuracy: 0.4142 - val_loss: 2.1122 - val_weighted_accuracy: 0.4142\n",
            "Epoch 80/100\n",
            "\u001b[1m124/124\u001b[0m \u001b[32m━━━━━━━━━━━━━━━━━━━━\u001b[0m\u001b[37m\u001b[0m \u001b[1m1s\u001b[0m 11ms/step - accuracy: 0.6266 - loss: 1.4910 - weighted_accuracy: 0.6266 - val_accuracy: 0.4183 - val_loss: 2.0905 - val_weighted_accuracy: 0.4183\n",
            "Epoch 81/100\n",
            "\u001b[1m124/124\u001b[0m \u001b[32m━━━━━━━━━━━━━━━━━━━━\u001b[0m\u001b[37m\u001b[0m \u001b[1m1s\u001b[0m 10ms/step - accuracy: 0.6318 - loss: 1.4900 - weighted_accuracy: 0.6318 - val_accuracy: 0.4365 - val_loss: 2.0715 - val_weighted_accuracy: 0.4365\n",
            "Epoch 82/100\n",
            "\u001b[1m124/124\u001b[0m \u001b[32m━━━━━━━━━━━━━━━━━━━━\u001b[0m\u001b[37m\u001b[0m \u001b[1m1s\u001b[0m 10ms/step - accuracy: 0.6573 - loss: 1.4330 - weighted_accuracy: 0.6573 - val_accuracy: 0.4305 - val_loss: 2.0691 - val_weighted_accuracy: 0.4305\n",
            "Epoch 83/100\n",
            "\u001b[1m124/124\u001b[0m \u001b[32m━━━━━━━━━━━━━━━━━━━━\u001b[0m\u001b[37m\u001b[0m \u001b[1m1s\u001b[0m 11ms/step - accuracy: 0.6415 - loss: 1.4435 - weighted_accuracy: 0.6415 - val_accuracy: 0.4183 - val_loss: 2.0775 - val_weighted_accuracy: 0.4183\n",
            "Epoch 84/100\n",
            "\u001b[1m124/124\u001b[0m \u001b[32m━━━━━━━━━━━━━━━━━━━━\u001b[0m\u001b[37m\u001b[0m \u001b[1m1s\u001b[0m 11ms/step - accuracy: 0.6517 - loss: 1.4363 - weighted_accuracy: 0.6517 - val_accuracy: 0.4396 - val_loss: 2.0636 - val_weighted_accuracy: 0.4396\n",
            "Epoch 85/100\n",
            "\u001b[1m124/124\u001b[0m \u001b[32m━━━━━━━━━━━━━━━━━━━━\u001b[0m\u001b[37m\u001b[0m \u001b[1m1s\u001b[0m 10ms/step - accuracy: 0.6348 - loss: 1.4421 - weighted_accuracy: 0.6348 - val_accuracy: 0.4305 - val_loss: 2.0461 - val_weighted_accuracy: 0.4305\n",
            "Epoch 86/100\n",
            "\u001b[1m124/124\u001b[0m \u001b[32m━━━━━━━━━━━━━━━━━━━━\u001b[0m\u001b[37m\u001b[0m \u001b[1m1s\u001b[0m 10ms/step - accuracy: 0.6507 - loss: 1.4172 - weighted_accuracy: 0.6507 - val_accuracy: 0.4396 - val_loss: 2.0445 - val_weighted_accuracy: 0.4396\n",
            "Epoch 87/100\n",
            "\u001b[1m124/124\u001b[0m \u001b[32m━━━━━━━━━━━━━━━━━━━━\u001b[0m\u001b[37m\u001b[0m \u001b[1m1s\u001b[0m 11ms/step - accuracy: 0.6560 - loss: 1.3907 - weighted_accuracy: 0.6560 - val_accuracy: 0.4325 - val_loss: 2.0605 - val_weighted_accuracy: 0.4325\n",
            "Epoch 88/100\n",
            "\u001b[1m124/124\u001b[0m \u001b[32m━━━━━━━━━━━━━━━━━━━━\u001b[0m\u001b[37m\u001b[0m \u001b[1m1s\u001b[0m 11ms/step - accuracy: 0.6620 - loss: 1.3608 - weighted_accuracy: 0.6620 - val_accuracy: 0.4467 - val_loss: 2.0255 - val_weighted_accuracy: 0.4467\n",
            "Epoch 89/100\n",
            "\u001b[1m124/124\u001b[0m \u001b[32m━━━━━━━━━━━━━━━━━━━━\u001b[0m\u001b[37m\u001b[0m \u001b[1m1s\u001b[0m 11ms/step - accuracy: 0.6552 - loss: 1.4127 - weighted_accuracy: 0.6552 - val_accuracy: 0.4457 - val_loss: 2.0433 - val_weighted_accuracy: 0.4457\n",
            "Epoch 90/100\n",
            "\u001b[1m124/124\u001b[0m \u001b[32m━━━━━━━━━━━━━━━━━━━━\u001b[0m\u001b[37m\u001b[0m \u001b[1m1s\u001b[0m 10ms/step - accuracy: 0.6661 - loss: 1.3650 - weighted_accuracy: 0.6661 - val_accuracy: 0.4467 - val_loss: 2.0438 - val_weighted_accuracy: 0.4467\n",
            "Epoch 91/100\n",
            "\u001b[1m124/124\u001b[0m \u001b[32m━━━━━━━━━━━━━━━━━━━━\u001b[0m\u001b[37m\u001b[0m \u001b[1m1s\u001b[0m 10ms/step - accuracy: 0.6750 - loss: 1.3463 - weighted_accuracy: 0.6750 - val_accuracy: 0.4426 - val_loss: 2.0437 - val_weighted_accuracy: 0.4426\n",
            "Epoch 92/100\n",
            "\u001b[1m124/124\u001b[0m \u001b[32m━━━━━━━━━━━━━━━━━━━━\u001b[0m\u001b[37m\u001b[0m \u001b[1m1s\u001b[0m 10ms/step - accuracy: 0.6765 - loss: 1.3465 - weighted_accuracy: 0.6765 - val_accuracy: 0.4528 - val_loss: 2.0311 - val_weighted_accuracy: 0.4528\n",
            "Epoch 93/100\n",
            "\u001b[1m124/124\u001b[0m \u001b[32m━━━━━━━━━━━━━━━━━━━━\u001b[0m\u001b[37m\u001b[0m \u001b[1m1s\u001b[0m 10ms/step - accuracy: 0.6790 - loss: 1.3213 - weighted_accuracy: 0.6790 - val_accuracy: 0.4426 - val_loss: 2.0244 - val_weighted_accuracy: 0.4426\n",
            "Epoch 94/100\n",
            "\u001b[1m124/124\u001b[0m \u001b[32m━━━━━━━━━━━━━━━━━━━━\u001b[0m\u001b[37m\u001b[0m \u001b[1m1s\u001b[0m 10ms/step - accuracy: 0.6812 - loss: 1.3255 - weighted_accuracy: 0.6812 - val_accuracy: 0.4467 - val_loss: 2.0214 - val_weighted_accuracy: 0.4467\n",
            "Epoch 95/100\n",
            "\u001b[1m124/124\u001b[0m \u001b[32m━━━━━━━━━━━━━━━━━━━━\u001b[0m\u001b[37m\u001b[0m \u001b[1m1s\u001b[0m 10ms/step - accuracy: 0.6963 - loss: 1.2884 - weighted_accuracy: 0.6963 - val_accuracy: 0.4548 - val_loss: 2.0268 - val_weighted_accuracy: 0.4548\n",
            "Epoch 96/100\n",
            "\u001b[1m124/124\u001b[0m \u001b[32m━━━━━━━━━━━━━━━━━━━━\u001b[0m\u001b[37m\u001b[0m \u001b[1m1s\u001b[0m 11ms/step - accuracy: 0.6733 - loss: 1.3328 - weighted_accuracy: 0.6733 - val_accuracy: 0.4396 - val_loss: 2.0160 - val_weighted_accuracy: 0.4396\n",
            "Epoch 97/100\n",
            "\u001b[1m124/124\u001b[0m \u001b[32m━━━━━━━━━━━━━━━━━━━━\u001b[0m\u001b[37m\u001b[0m \u001b[1m1s\u001b[0m 11ms/step - accuracy: 0.6947 - loss: 1.2995 - weighted_accuracy: 0.6947 - val_accuracy: 0.4518 - val_loss: 2.0297 - val_weighted_accuracy: 0.4518\n",
            "Epoch 98/100\n",
            "\u001b[1m124/124\u001b[0m \u001b[32m━━━━━━━━━━━━━━━━━━━━\u001b[0m\u001b[37m\u001b[0m \u001b[1m1s\u001b[0m 11ms/step - accuracy: 0.6919 - loss: 1.3075 - weighted_accuracy: 0.6919 - val_accuracy: 0.4548 - val_loss: 2.0052 - val_weighted_accuracy: 0.4548\n",
            "Epoch 99/100\n",
            "\u001b[1m124/124\u001b[0m \u001b[32m━━━━━━━━━━━━━━━━━━━━\u001b[0m\u001b[37m\u001b[0m \u001b[1m1s\u001b[0m 10ms/step - accuracy: 0.6971 - loss: 1.2823 - weighted_accuracy: 0.6971 - val_accuracy: 0.4508 - val_loss: 1.9948 - val_weighted_accuracy: 0.4508\n",
            "Epoch 100/100\n",
            "\u001b[1m124/124\u001b[0m \u001b[32m━━━━━━━━━━━━━━━━━━━━\u001b[0m\u001b[37m\u001b[0m \u001b[1m1s\u001b[0m 10ms/step - accuracy: 0.6894 - loss: 1.3018 - weighted_accuracy: 0.6894 - val_accuracy: 0.4558 - val_loss: 2.0212 - val_weighted_accuracy: 0.4558\n",
            "best_epoch:  100\n"
          ]
        },
        {
          "output_type": "display_data",
          "data": {
            "text/plain": [
              "<Figure size 1500x500 with 2 Axes>"
            ],
            "image/png": "[encoded data removed]"
          },
          "metadata": {}
        }
      ],
      "source": [
        "model = build_model(training_features)\n",
        "\n",
        "callback = tf.keras.callbacks.EarlyStopping(\n",
        "    monitor=\"val_loss\",\n",
        "    patience=20,\n",
        "    restore_best_weights=True,\n",
        "    start_from_epoch=50\n",
        ")\n",
        "\n",
        "history = model.fit(\n",
        "    x=training_features,\n",
        "    y=train_y,\n",
        "    epochs=100,\n",
        "    validation_data=(\n",
        "        validation_features,\n",
        "        val_y,\n",
        "    ),\n",
        "    batch_size=32,\n",
        "    verbose=1,\n",
        "    callbacks=[callback]\n",
        ")\n",
        "\n",
        "best_epoch = history.history['val_weighted_accuracy'].index(max(history.history['val_weighted_accuracy']))+1\n",
        "print('best_epoch: ', best_epoch)\n",
        "visualize(history)"
      ]
    },
    {
      "cell_type": "code",
      "execution_count": 48,
      "metadata": {
        "colab": {
          "base_uri": "https://localhost:8080/"
        },
        "id": "RgH6cTZ1TURV",
        "outputId": "466d8cd7-75d4-48a6-c491-6d6e87e0b958"
      },
      "outputs": [
        {
          "output_type": "stream",
          "name": "stdout",
          "text": [
            "\u001b[1m124/124\u001b[0m \u001b[32m━━━━━━━━━━━━━━━━━━━━\u001b[0m\u001b[37m\u001b[0m \u001b[1m1s\u001b[0m 4ms/step\n",
            "\u001b[1m124/124\u001b[0m \u001b[32m━━━━━━━━━━━━━━━━━━━━\u001b[0m\u001b[37m\u001b[0m \u001b[1m1s\u001b[0m 4ms/step - accuracy: 0.7262 - loss: 1.2188 - weighted_accuracy: 0.7262\n",
            "\u001b[1m31/31\u001b[0m \u001b[32m━━━━━━━━━━━━━━━━━━━━\u001b[0m\u001b[37m\u001b[0m \u001b[1m0s\u001b[0m 3ms/step\n",
            "\u001b[1m31/31\u001b[0m \u001b[32m━━━━━━━━━━━━━━━━━━━━\u001b[0m\u001b[37m\u001b[0m \u001b[1m0s\u001b[0m 4ms/step - accuracy: 0.4381 - loss: 2.0603 - weighted_accuracy: 0.4381\n"
          ]
        }
      ],
      "source": [
        "train_yhat = model.predict(training_features)\n",
        "train_yhat_result = np.argmax(train_yhat, axis=-1)\n",
        "train_results['melspectrogram_chroma_mfcc'] = model.evaluate(training_features, train_y)[-1]\n",
        "\n",
        "val_yhat = model.predict(validation_features)\n",
        "val_yhat_result = np.argmax(val_yhat, axis=-1)\n",
        "val_results['melspectrogram_chroma_mfcc'] = model.evaluate(validation_features, val_y)[-1]"
      ]
    },
    {
      "cell_type": "markdown",
      "metadata": {
        "id": "6nEAMJEYTURV"
      },
      "source": [
        "# Review results from all models"
      ]
    },
    {
      "cell_type": "code",
      "execution_count": 49,
      "metadata": {
        "colab": {
          "base_uri": "https://localhost:8080/",
          "height": 125
        },
        "id": "ZtnjgCgBTURW",
        "outputId": "cfacee76-fce4-46a7-c07d-79ede04fcd1e"
      },
      "outputs": [
        {
          "output_type": "execute_result",
          "data": {
            "text/plain": [
              "                     Features  Train_Accuracy  Val_Accuracy\n",
              "0                all_features           0.742         0.450\n",
              "1  melspectrogram_chroma_mfcc           0.732         0.451"
            ],
            "text/html": [
              "\n",
              "  <div id=\"df-9cc1d777-52dc-4d02-9ed2-588543be5568\" class=\"colab-df-container\">\n",
              "    <div>\n",
              "<style scoped>\n",
              "    .dataframe tbody tr th:only-of-type {\n",
              "        vertical-align: middle;\n",
              "    }\n",
              "\n",
              "    .dataframe tbody tr th {\n",
              "        vertical-align: top;\n",
              "    }\n",
              "\n",
              "    .dataframe thead th {\n",
              "        text-align: right;\n",
              "    }\n",
              "</style>\n",
              "<table border=\"1\" class=\"dataframe\">\n",
              "  <thead>\n",
              "    <tr style=\"text-align: right;\">\n",
              "      <th></th>\n",
              "      <th>Features</th>\n",
              "      <th>Train_Accuracy</th>\n",
              "      <th>Val_Accuracy</th>\n",
              "    </tr>\n",
              "  </thead>\n",
              "  <tbody>\n",
              "    <tr>\n",
              "      <th>0</th>\n",
              "      <td>all_features</td>\n",
              "      <td>0.742</td>\n",
              "      <td>0.450</td>\n",
              "    </tr>\n",
              "    <tr>\n",
              "      <th>1</th>\n",
              "      <td>melspectrogram_chroma_mfcc</td>\n",
              "      <td>0.732</td>\n",
              "      <td>0.451</td>\n",
              "    </tr>\n",
              "  </tbody>\n",
              "</table>\n",
              "</div>\n",
              "    <div class=\"colab-df-buttons\">\n",
              "\n",
              "  <div class=\"colab-df-container\">\n",
              "    <button class=\"colab-df-convert\" onclick=\"convertToInteractive('df-9cc1d777-52dc-4d02-9ed2-588543be5568')\"\n",
              "            title=\"Convert this dataframe to an interactive table.\"\n",
              "            style=\"display:none;\">\n",
              "\n",
              "  <svg xmlns=\"http://www.w3.org/2000/svg\" height=\"24px\" viewBox=\"0 -960 960 960\">\n",
              "    <path d=\"M120-120v-720h720v720H120Zm60-500h600v-160H180v160Zm220 220h160v-160H400v160Zm0 220h160v-160H400v160ZM180-400h160v-160H180v160Zm440 0h160v-160H620v160ZM180-180h160v-160H180v160Zm440 0h160v-160H620v160Z\"/>\n",
              "  </svg>\n",
              "    </button>\n",
              "\n",
              "  <style>\n",
              "    .colab-df-container {\n",
              "      display:flex;\n",
              "      gap: 12px;\n",
              "    }\n",
              "\n",
              "    .colab-df-convert {\n",
              "      background-color: #E8F0FE;\n",
              "      border: none;\n",
              "      border-radius: 50%;\n",
              "      cursor: pointer;\n",
              "      display: none;\n",
              "      fill: #1967D2;\n",
              "      height: 32px;\n",
              "      padding: 0 0 0 0;\n",
              "      width: 32px;\n",
              "    }\n",
              "\n",
              "    .colab-df-convert:hover {\n",
              "      background-color: #E2EBFA;\n",
              "      box-shadow: 0px 1px 2px rgba(60, 64, 67, 0.3), 0px 1px 3px 1px rgba(60, 64, 67, 0.15);\n",
              "      fill: #174EA6;\n",
              "    }\n",
              "\n",
              "    .colab-df-buttons div {\n",
              "      margin-bottom: 4px;\n",
              "    }\n",
              "\n",
              "    [theme=dark] .colab-df-convert {\n",
              "      background-color: #3B4455;\n",
              "      fill: #D2E3FC;\n",
              "    }\n",
              "\n",
              "    [theme=dark] .colab-df-convert:hover {\n",
              "      background-color: #434B5C;\n",
              "      box-shadow: 0px 1px 3px 1px rgba(0, 0, 0, 0.15);\n",
              "      filter: drop-shadow(0px 1px 2px rgba(0, 0, 0, 0.3));\n",
              "      fill: #FFFFFF;\n",
              "    }\n",
              "  </style>\n",
              "\n",
              "    <script>\n",
              "      const buttonEl =\n",
              "        document.querySelector('#df-9cc1d777-52dc-4d02-9ed2-588543be5568 button.colab-df-convert');\n",
              "      buttonEl.style.display =\n",
              "        google.colab.kernel.accessAllowed ? 'block' : 'none';\n",
              "\n",
              "      async function convertToInteractive(key) {\n",
              "        const element = document.querySelector('#df-9cc1d777-52dc-4d02-9ed2-588543be5568');\n",
              "        const dataTable =\n",
              "          await google.colab.kernel.invokeFunction('convertToInteractive',\n",
              "                                                    [key], {});\n",
              "        if (!dataTable) return;\n",
              "\n",
              "        const docLinkHtml = 'Like what you see? Visit the ' +\n",
              "          '<a target=\"_blank\" href=https://colab.research.google.com/notebooks/data_table.ipynb>data table notebook</a>'\n",
              "          + ' to learn more about interactive tables.';\n",
              "        element.innerHTML = '';\n",
              "        dataTable['output_type'] = 'display_data';\n",
              "        await google.colab.output.renderOutput(dataTable, element);\n",
              "        const docLink = document.createElement('div');\n",
              "        docLink.innerHTML = docLinkHtml;\n",
              "        element.appendChild(docLink);\n",
              "      }\n",
              "    </script>\n",
              "  </div>\n",
              "\n",
              "\n",
              "<div id=\"df-af2db944-79bd-459d-a697-72fc957cd879\">\n",
              "  <button class=\"colab-df-quickchart\" onclick=\"quickchart('df-af2db944-79bd-459d-a697-72fc957cd879')\"\n",
              "            title=\"Suggest charts\"\n",
              "            style=\"display:none;\">\n",
              "\n",
              "<svg xmlns=\"http://www.w3.org/2000/svg\" height=\"24px\"viewBox=\"0 0 24 24\"\n",
              "     width=\"24px\">\n",
              "    <g>\n",
              "        <path d=\"M19 3H5c-1.1 0-2 .9-2 2v14c0 1.1.9 2 2 2h14c1.1 0 2-.9 2-2V5c0-1.1-.9-2-2-2zM9 17H7v-7h2v7zm4 0h-2V7h2v10zm4 0h-2v-4h2v4z\"/>\n",
              "    </g>\n",
              "</svg>\n",
              "  </button>\n",
              "\n",
              "<style>\n",
              "  .colab-df-quickchart {\n",
              "      --bg-color: #E8F0FE;\n",
              "      --fill-color: #1967D2;\n",
              "      --hover-bg-color: #E2EBFA;\n",
              "      --hover-fill-color: #174EA6;\n",
              "      --disabled-fill-color: #AAA;\n",
              "      --disabled-bg-color: #DDD;\n",
              "  }\n",
              "\n",
              "  [theme=dark] .colab-df-quickchart {\n",
              "      --bg-color: #3B4455;\n",
              "      --fill-color: #D2E3FC;\n",
              "      --hover-bg-color: #434B5C;\n",
              "      --hover-fill-color: #FFFFFF;\n",
              "      --disabled-bg-color: #3B4455;\n",
              "      --disabled-fill-color: #666;\n",
              "  }\n",
              "\n",
              "  .colab-df-quickchart {\n",
              "    background-color: var(--bg-color);\n",
              "    border: none;\n",
              "    border-radius: 50%;\n",
              "    cursor: pointer;\n",
              "    display: none;\n",
              "    fill: var(--fill-color);\n",
              "    height: 32px;\n",
              "    padding: 0;\n",
              "    width: 32px;\n",
              "  }\n",
              "\n",
              "  .colab-df-quickchart:hover {\n",
              "    background-color: var(--hover-bg-color);\n",
              "    box-shadow: 0 1px 2px rgba(60, 64, 67, 0.3), 0 1px 3px 1px rgba(60, 64, 67, 0.15);\n",
              "    fill: var(--button-hover-fill-color);\n",
              "  }\n",
              "\n",
              "  .colab-df-quickchart-complete:disabled,\n",
              "  .colab-df-quickchart-complete:disabled:hover {\n",
              "    background-color: var(--disabled-bg-color);\n",
              "    fill: var(--disabled-fill-color);\n",
              "    box-shadow: none;\n",
              "  }\n",
              "\n",
              "  .colab-df-spinner {\n",
              "    border: 2px solid var(--fill-color);\n",
              "    border-color: transparent;\n",
              "    border-bottom-color: var(--fill-color);\n",
              "    animation:\n",
              "      spin 1s steps(1) infinite;\n",
              "  }\n",
              "\n",
              "  @keyframes spin {\n",
              "    0% {\n",
              "      border-color: transparent;\n",
              "      border-bottom-color: var(--fill-color);\n",
              "      border-left-color: var(--fill-color);\n",
              "    }\n",
              "    20% {\n",
              "      border-color: transparent;\n",
              "      border-left-color: var(--fill-color);\n",
              "      border-top-color: var(--fill-color);\n",
              "    }\n",
              "    30% {\n",
              "      border-color: transparent;\n",
              "      border-left-color: var(--fill-color);\n",
              "      border-top-color: var(--fill-color);\n",
              "      border-right-color: var(--fill-color);\n",
              "    }\n",
              "    40% {\n",
              "      border-color: transparent;\n",
              "      border-right-color: var(--fill-color);\n",
              "      border-top-color: var(--fill-color);\n",
              "    }\n",
              "    60% {\n",
              "      border-color: transparent;\n",
              "      border-right-color: var(--fill-color);\n",
              "    }\n",
              "    80% {\n",
              "      border-color: transparent;\n",
              "      border-right-color: var(--fill-color);\n",
              "      border-bottom-color: var(--fill-color);\n",
              "    }\n",
              "    90% {\n",
              "      border-color: transparent;\n",
              "      border-bottom-color: var(--fill-color);\n",
              "    }\n",
              "  }\n",
              "</style>\n",
              "\n",
              "  <script>\n",
              "    async function quickchart(key) {\n",
              "      const quickchartButtonEl =\n",
              "        document.querySelector('#' + key + ' button');\n",
              "      quickchartButtonEl.disabled = true;  // To prevent multiple clicks.\n",
              "      quickchartButtonEl.classList.add('colab-df-spinner');\n",
              "      try {\n",
              "        const charts = await google.colab.kernel.invokeFunction(\n",
              "            'suggestCharts', [key], {});\n",
              "      } catch (error) {\n",
              "        console.error('Error during call to suggestCharts:', error);\n",
              "      }\n",
              "      quickchartButtonEl.classList.remove('colab-df-spinner');\n",
              "      quickchartButtonEl.classList.add('colab-df-quickchart-complete');\n",
              "    }\n",
              "    (() => {\n",
              "      let quickchartButtonEl =\n",
              "        document.querySelector('#df-af2db944-79bd-459d-a697-72fc957cd879 button');\n",
              "      quickchartButtonEl.style.display =\n",
              "        google.colab.kernel.accessAllowed ? 'block' : 'none';\n",
              "    })();\n",
              "  </script>\n",
              "</div>\n",
              "\n",
              "  <div id=\"id_7afc06c1-1538-45a0-b71b-8bdf710816c6\">\n",
              "    <style>\n",
              "      .colab-df-generate {\n",
              "        background-color: #E8F0FE;\n",
              "        border: none;\n",
              "        border-radius: 50%;\n",
              "        cursor: pointer;\n",
              "        display: none;\n",
              "        fill: #1967D2;\n",
              "        height: 32px;\n",
              "        padding: 0 0 0 0;\n",
              "        width: 32px;\n",
              "      }\n",
              "\n",
              "      .colab-df-generate:hover {\n",
              "        background-color: #E2EBFA;\n",
              "        box-shadow: 0px 1px 2px rgba(60, 64, 67, 0.3), 0px 1px 3px 1px rgba(60, 64, 67, 0.15);\n",
              "        fill: #174EA6;\n",
              "      }\n",
              "\n",
              "      [theme=dark] .colab-df-generate {\n",
              "        background-color: #3B4455;\n",
              "        fill: #D2E3FC;\n",
              "      }\n",
              "\n",
              "      [theme=dark] .colab-df-generate:hover {\n",
              "        background-color: #434B5C;\n",
              "        box-shadow: 0px 1px 3px 1px rgba(0, 0, 0, 0.15);\n",
              "        filter: drop-shadow(0px 1px 2px rgba(0, 0, 0, 0.3));\n",
              "        fill: #FFFFFF;\n",
              "      }\n",
              "    </style>\n",
              "    <button class=\"colab-df-generate\" onclick=\"generateWithVariable('result_df')\"\n",
              "            title=\"Generate code using this dataframe.\"\n",
              "            style=\"display:none;\">\n",
              "\n",
              "  <svg xmlns=\"http://www.w3.org/2000/svg\" height=\"24px\"viewBox=\"0 0 24 24\"\n",
              "       width=\"24px\">\n",
              "    <path d=\"M7,19H8.4L18.45,9,17,7.55,7,17.6ZM5,21V16.75L18.45,3.32a2,2,0,0,1,2.83,0l1.4,1.43a1.91,1.91,0,0,1,.58,1.4,1.91,1.91,0,0,1-.58,1.4L9.25,21ZM18.45,9,17,7.55Zm-12,3A5.31,5.31,0,0,0,4.9,8.1,5.31,5.31,0,0,0,1,6.5,5.31,5.31,0,0,0,4.9,4.9,5.31,5.31,0,0,0,6.5,1,5.31,5.31,0,0,0,8.1,4.9,5.31,5.31,0,0,0,12,6.5,5.46,5.46,0,0,0,6.5,12Z\"/>\n",
              "  </svg>\n",
              "    </button>\n",
              "    <script>\n",
              "      (() => {\n",
              "      const buttonEl =\n",
              "        document.querySelector('#id_7afc06c1-1538-45a0-b71b-8bdf710816c6 button.colab-df-generate');\n",
              "      buttonEl.style.display =\n",
              "        google.colab.kernel.accessAllowed ? 'block' : 'none';\n",
              "\n",
              "      buttonEl.onclick = () => {\n",
              "        google.colab.notebook.generateWithVariable('result_df');\n",
              "      }\n",
              "      })();\n",
              "    </script>\n",
              "  </div>\n",
              "\n",
              "    </div>\n",
              "  </div>\n"
            ],
            "application/vnd.google.colaboratory.intrinsic+json": {
              "type": "dataframe",
              "variable_name": "result_df",
              "summary": "{\n  \"name\": \"result_df\",\n  \"rows\": 2,\n  \"fields\": [\n    {\n      \"column\": \"Features\",\n      \"properties\": {\n        \"dtype\": \"string\",\n        \"num_unique_values\": 2,\n        \"samples\": [\n          \"melspectrogram_chroma_mfcc\",\n          \"all_features\"\n        ],\n        \"semantic_type\": \"\",\n        \"description\": \"\"\n      }\n    },\n    {\n      \"column\": \"Train_Accuracy\",\n      \"properties\": {\n        \"dtype\": \"number\",\n        \"std\": 0.007071067811865481,\n        \"min\": 0.732,\n        \"max\": 0.742,\n        \"num_unique_values\": 2,\n        \"samples\": [\n          0.732,\n          0.742\n        ],\n        \"semantic_type\": \"\",\n        \"description\": \"\"\n      }\n    },\n    {\n      \"column\": \"Val_Accuracy\",\n      \"properties\": {\n        \"dtype\": \"number\",\n        \"std\": 0.0007071067811865482,\n        \"min\": 0.45,\n        \"max\": 0.451,\n        \"num_unique_values\": 2,\n        \"samples\": [\n          0.451,\n          0.45\n        ],\n        \"semantic_type\": \"\",\n        \"description\": \"\"\n      }\n    }\n  ]\n}"
            }
          },
          "metadata": {},
          "execution_count": 49
        }
      ],
      "source": [
        "train_results_df = pd.DataFrame(list(train_results.items()), columns=['Features', 'Train_Accuracy']).round(3)\n",
        "val_results_df = pd.DataFrame(list(val_results.items()), columns=['Features', 'Val_Accuracy']).round(3)\n",
        "\n",
        "result_df = train_results_df.merge(val_results_df, on='Features')\n",
        "result_df = result_df.sort_values('Features')\n",
        "result_df"
      ]
    }
  ],
  "metadata": {
    "colab": {
      "provenance": [],
      "machine_shape": "hm",
      "gpuType": "T4"
    },
    "kernelspec": {
      "display_name": "Python 3",
      "name": "python3"
    },
    "language_info": {
      "codemirror_mode": {
        "name": "ipython",
        "version": 3
      },
      "file_extension": ".py",
      "mimetype": "text/x-python",
      "name": "python",
      "nbconvert_exporter": "python",
      "pygments_lexer": "ipython3",
      "version": "3.12.4"
    },
    "accelerator": "GPU"
  },
  "nbformat": 4,
  "nbformat_minor": 0
}