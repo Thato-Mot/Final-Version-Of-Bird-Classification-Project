{
  "cells": [
    {
      "cell_type": "markdown",
      "metadata": {
        "id": "SW2EXQ68TURI"
      },
      "source": [
        "# **FNN**\n",
        "- Using data that was not annotated\n",
        "- Training it on the unbalanced data\n",
        "- Using avgpool\n",
        "- 6 second window"
      ]
    },
    {
      "cell_type": "code",
      "execution_count": 1,
      "metadata": {
        "colab": {
          "base_uri": "https://localhost:8080/"
        },
        "id": "_U9mNYFfTVUj",
        "outputId": "e6ebd8bb-b026-4560-a9b6-960b126d6145"
      },
      "outputs": [
        {
          "output_type": "stream",
          "name": "stdout",
          "text": [
            "Mounted at /content/drive\n"
          ]
        }
      ],
      "source": [
        "from google.colab import drive\n",
        "drive.mount('/content/drive')"
      ]
    },
    {
      "cell_type": "code",
      "execution_count": 21,
      "metadata": {
        "id": "unH9EltATURK"
      },
      "outputs": [],
      "source": [
        "# Standard libraries\n",
        "import numpy as np\n",
        "import pandas as pd\n",
        "import time\n",
        "import os\n",
        "\n",
        "# For audio\n",
        "from IPython.display import Audio\n",
        "import librosa\n",
        "\n",
        "# For preprocessing\n",
        "from sklearn.preprocessing import LabelEncoder\n",
        "from sklearn.preprocessing import MinMaxScaler\n",
        "from sklearn.preprocessing import OneHotEncoder\n",
        "import tensorflow as tf\n",
        "\n",
        "# For modeling\n",
        "from sklearn.preprocessing import StandardScaler\n",
        "from sklearn.metrics import accuracy_score\n",
        "from sklearn.metrics import classification_report\n",
        "from tensorflow.keras.callbacks import EarlyStopping, ModelCheckpoint\n",
        "\n",
        "# Operational\n",
        "from tqdm import tqdm\n",
        "import matplotlib.pyplot as plt\n",
        "import seaborn as sns\n",
        "import pickle\n",
        "import scipy.ndimage\n",
        "import pygame\n",
        "import time\n",
        "from scipy.signal import butter, filtfilt\n",
        "import random"
      ]
    },
    {
      "cell_type": "code",
      "execution_count": 567,
      "metadata": {
        "id": "mlqgV3cmTURL"
      },
      "outputs": [],
      "source": [
        "pkl_path = '/content/drive/My Drive/Final-Year-Project/Dataset/Project-V4/feature-extraction/Annotated/AveragePooled/split_features_1s_all.pkl'\n",
        "\n",
        "# Load the pickle file\n",
        "with open(pkl_path, 'rb') as file:\n",
        "    data = pickle.load(file)"
      ]
    },
    {
      "cell_type": "code",
      "execution_count": 568,
      "metadata": {
        "id": "8p6TQhwwTURL"
      },
      "outputs": [],
      "source": [
        "train_data = data['train'].copy()\n",
        "val_data = data['val'].copy()"
      ]
    },
    {
      "cell_type": "code",
      "execution_count": 569,
      "metadata": {
        "colab": {
          "base_uri": "https://localhost:8080/"
        },
        "id": "qb7f1dNtTURM",
        "outputId": "d51dbe02-da26-468e-a368-65b35ef325c5"
      },
      "outputs": [
        {
          "output_type": "execute_result",
          "data": {
            "text/plain": [
              "{'melspectrogram': array([[9.4866091e-06, 9.5487494e-06, 9.6551566e-06, ..., 9.8847534e-07,\n",
              "         9.3044491e-07, 9.0232516e-07],\n",
              "        [1.2129851e-05, 1.2414495e-05, 1.2921279e-05, ..., 5.2223759e-06,\n",
              "         4.9851474e-06, 4.8430848e-06],\n",
              "        [5.8306232e-05, 5.9333925e-05, 6.1116712e-05, ..., 1.7024886e-06,\n",
              "         1.6033545e-06, 1.5549887e-06],\n",
              "        ...,\n",
              "        [1.7914819e-04, 1.8226101e-04, 1.8773414e-04, ..., 2.3687387e-06,\n",
              "         1.6498615e-06, 1.5470791e-06],\n",
              "        [1.9102510e-05, 1.9464049e-05, 2.0094065e-05, ..., 4.9249811e-06,\n",
              "         4.0005261e-06, 3.6747458e-06],\n",
              "        [9.0032081e-06, 9.2558430e-06, 9.7203119e-06, ..., 9.5587347e-07,\n",
              "         4.5187107e-07, 4.2664561e-07]], dtype=float32),\n",
              " 'mfcc': array([[-1.        , -0.03889354, -0.64160925, ..., -0.02376524,\n",
              "          0.02349628, -0.00874254],\n",
              "        [-1.        , -0.0368154 , -0.633421  , ..., -0.02121266,\n",
              "          0.0290794 , -0.01421679],\n",
              "        [-1.        , -0.028492  , -0.6135318 , ..., -0.01412221,\n",
              "          0.03116367, -0.02399334],\n",
              "        ...,\n",
              "        [-1.        , -0.1546297 , -0.42896062, ..., -0.02429112,\n",
              "          0.00185133, -0.023763  ],\n",
              "        [-1.        , -0.23834963, -0.2839626 , ..., -0.02419488,\n",
              "         -0.01770034, -0.02050554],\n",
              "        [-1.        , -0.18269444, -0.4728804 , ..., -0.02088645,\n",
              "         -0.00905993, -0.02424012]], dtype=float32),\n",
              " 'chroma': array([[0.28168038, 0.44423884, 0.7954796 , ..., 0.34062782, 0.26789963,\n",
              "         0.24262533],\n",
              "        [0.29354393, 0.39524266, 0.80161744, ..., 0.5290854 , 0.27707702,\n",
              "         0.24435301],\n",
              "        [0.26423457, 0.32508212, 0.5428115 , ..., 0.8181757 , 0.43553543,\n",
              "         0.27263308],\n",
              "        ...,\n",
              "        [0.3961731 , 0.4062669 , 0.466302  , ..., 0.5467325 , 0.46560505,\n",
              "         0.3846309 ],\n",
              "        [0.09597728, 0.13536958, 0.2523176 , ..., 0.3600199 , 0.26013952,\n",
              "         0.16794482],\n",
              "        [0.40654755, 0.41130054, 0.41587985, ..., 0.4494035 , 0.38985494,\n",
              "         0.39067504]], dtype=float32),\n",
              " 'rms': array([[0.02573253],\n",
              "        [0.02451546],\n",
              "        [0.02242243],\n",
              "        ...,\n",
              "        [0.05309197],\n",
              "        [0.08728904],\n",
              "        [0.07306994]], dtype=float32),\n",
              " 'label': array([ 9,  9,  9, ..., 17, 17, 17], dtype=int32)}"
            ]
          },
          "metadata": {},
          "execution_count": 569
        }
      ],
      "source": [
        "train_data"
      ]
    },
    {
      "cell_type": "code",
      "execution_count": 570,
      "metadata": {
        "id": "EKxvpIm6TURM"
      },
      "outputs": [],
      "source": [
        "train_labels = train_data['label'].copy()\n",
        "temp = train_data.copy()\n",
        "del temp['label']\n",
        "tr_features = temp"
      ]
    },
    {
      "cell_type": "code",
      "execution_count": 571,
      "metadata": {
        "id": "nE7j0mUyTURM"
      },
      "outputs": [],
      "source": [
        "val_labels = val_data['label'].copy()\n",
        "temp = val_data.copy()\n",
        "del temp['label']\n",
        "v_features = temp"
      ]
    },
    {
      "cell_type": "markdown",
      "metadata": {
        "id": "t1t9jjgRTURM"
      },
      "source": [
        "# Shuffle Data"
      ]
    },
    {
      "cell_type": "code",
      "execution_count": 572,
      "metadata": {
        "id": "ziN0DkZ0TURN"
      },
      "outputs": [],
      "source": [
        "def shuffle_data(input_label, input_features):\n",
        "  input_len = len(input_label)\n",
        "  np.random.seed(1826)\n",
        "  input_indices = np.random.permutation(input_len)\n",
        "  input_features = {key: np.array([input_features[key][i] for i in input_indices]) for key in input_features} # dictionary comprehension\n",
        "  input_label = np.array([input_label[i] for i in input_indices])\n",
        "\n",
        "  return input_label, input_features"
      ]
    },
    {
      "cell_type": "code",
      "execution_count": 573,
      "metadata": {
        "id": "nJipBvImTURN"
      },
      "outputs": [],
      "source": [
        "train_y, train_features = shuffle_data(train_labels, tr_features)"
      ]
    },
    {
      "cell_type": "code",
      "execution_count": 574,
      "metadata": {
        "id": "GSujj_rjTURN"
      },
      "outputs": [],
      "source": [
        "val_y, val_features = shuffle_data(val_labels, v_features)"
      ]
    },
    {
      "cell_type": "code",
      "execution_count": 575,
      "metadata": {
        "colab": {
          "base_uri": "https://localhost:8080/",
          "height": 69
        },
        "id": "LmSwiOgMTURN",
        "outputId": "8e53796e-6e57-4a84-e151-5abfe9354e6e"
      },
      "outputs": [
        {
          "output_type": "display_data",
          "data": {
            "text/plain": [
              "(12565,)"
            ]
          },
          "metadata": {}
        },
        {
          "output_type": "display_data",
          "data": {
            "text/plain": [
              "array([ 0, 19,  2,  1, 11, 17, 15,  2,  2,  2,  0,  1,  1, 12,  0],\n",
              "      dtype=int32)"
            ]
          },
          "metadata": {}
        }
      ],
      "source": [
        "display(train_y.shape)\n",
        "display(train_y[:15])"
      ]
    },
    {
      "cell_type": "code",
      "execution_count": 576,
      "metadata": {
        "colab": {
          "base_uri": "https://localhost:8080/",
          "height": 594
        },
        "id": "mqnk3KrrTURO",
        "outputId": "0c5d5454-5442-4ad9-9bb1-4ce772b87fcf"
      },
      "outputs": [
        {
          "output_type": "display_data",
          "data": {
            "text/plain": [
              "'melspectrogram'"
            ],
            "application/vnd.google.colaboratory.intrinsic+json": {
              "type": "string"
            }
          },
          "metadata": {}
        },
        {
          "output_type": "display_data",
          "data": {
            "text/plain": [
              "(12565, 60)"
            ]
          },
          "metadata": {}
        },
        {
          "output_type": "display_data",
          "data": {
            "text/plain": [
              "array([5.0738169e-07, 5.2262533e-07, 5.5045160e-07, 5.9217962e-07,\n",
              "       6.5191085e-07, 1.0943645e-06, 4.3586356e-06, 1.9036837e-05,\n",
              "       1.2136879e-04, 2.6661658e-04, 8.2672836e-04, 2.7233763e-03,\n",
              "       1.0063773e-02, 1.6930899e-02, 2.1348633e-02, 4.7072649e-02,\n",
              "       7.6561354e-02, 4.7709879e-02, 6.2269606e-02, 7.6247416e-02,\n",
              "       6.1358120e-02, 3.9835755e-02, 4.4739708e-02, 5.0686374e-02,\n",
              "       4.4587012e-02, 5.6312285e-02, 4.7983538e-02, 5.3998958e-02,\n",
              "       9.1156095e-02, 1.2960179e-01, 1.3472772e-01, 7.4508280e-02,\n",
              "       2.8677055e-01, 4.0667152e-01, 7.1514398e-01, 6.9495946e-01,\n",
              "       3.1333745e-01, 2.0148984e-01, 1.1326054e-01, 6.4187691e-02,\n",
              "       7.1493596e-02, 8.1204779e-02, 7.1447775e-02, 5.0326228e-02,\n",
              "       3.6310278e-02, 2.3586553e-02, 1.3296669e-02, 4.2282213e-03,\n",
              "       3.2108359e-03, 4.2909747e-03, 3.0864956e-02, 6.0674440e-02,\n",
              "       5.0374899e-02, 3.0964591e-02, 4.0448662e-03, 3.0534746e-04,\n",
              "       3.1673382e-05, 3.8426388e-06, 2.3940433e-06, 2.1029000e-06],\n",
              "      dtype=float32)"
            ]
          },
          "metadata": {}
        },
        {
          "output_type": "display_data",
          "data": {
            "text/plain": [
              "'mfcc'"
            ],
            "application/vnd.google.colaboratory.intrinsic+json": {
              "type": "string"
            }
          },
          "metadata": {}
        },
        {
          "output_type": "display_data",
          "data": {
            "text/plain": [
              "(12565, 20)"
            ]
          },
          "metadata": {}
        },
        {
          "output_type": "display_data",
          "data": {
            "text/plain": [
              "array([-1.        , -0.16236389, -0.4283241 ,  0.04256841, -0.05486935,\n",
              "        0.01894294,  0.00423389,  0.10348184, -0.03871864,  0.0294642 ,\n",
              "       -0.02652909,  0.01274641, -0.01874611, -0.00494358,  0.02157117,\n",
              "       -0.01889195,  0.00154897, -0.01315036,  0.00566544, -0.00682729],\n",
              "      dtype=float32)"
            ]
          },
          "metadata": {}
        },
        {
          "output_type": "display_data",
          "data": {
            "text/plain": [
              "'chroma'"
            ],
            "application/vnd.google.colaboratory.intrinsic+json": {
              "type": "string"
            }
          },
          "metadata": {}
        },
        {
          "output_type": "display_data",
          "data": {
            "text/plain": [
              "(12565, 12)"
            ]
          },
          "metadata": {}
        },
        {
          "output_type": "display_data",
          "data": {
            "text/plain": [
              "array([0.18776874, 0.15328921, 0.33524922, 0.454852  , 0.7760426 ,\n",
              "       0.67847323, 0.3407292 , 0.24142714, 0.18064852, 0.15764236,\n",
              "       0.18976806, 0.2140399 ], dtype=float32)"
            ]
          },
          "metadata": {}
        },
        {
          "output_type": "display_data",
          "data": {
            "text/plain": [
              "'rms'"
            ],
            "application/vnd.google.colaboratory.intrinsic+json": {
              "type": "string"
            }
          },
          "metadata": {}
        },
        {
          "output_type": "display_data",
          "data": {
            "text/plain": [
              "(12565, 1)"
            ]
          },
          "metadata": {}
        },
        {
          "output_type": "display_data",
          "data": {
            "text/plain": [
              "array([0.0295004], dtype=float32)"
            ]
          },
          "metadata": {}
        }
      ],
      "source": [
        "for key in train_features.keys():\n",
        "  display(key)\n",
        "  display(train_features[key].shape)\n",
        "  display(train_features[key][0])"
      ]
    },
    {
      "cell_type": "code",
      "execution_count": 577,
      "metadata": {
        "colab": {
          "base_uri": "https://localhost:8080/",
          "height": 69
        },
        "id": "--DBo6dJTURO",
        "outputId": "555ea121-439a-4050-b6e4-8911fbd5bef7"
      },
      "outputs": [
        {
          "output_type": "display_data",
          "data": {
            "text/plain": [
              "(3318,)"
            ]
          },
          "metadata": {}
        },
        {
          "output_type": "display_data",
          "data": {
            "text/plain": [
              "array([ 3,  2,  1,  0,  0,  8, 19,  2, 19,  5, 19, 15, 11,  7,  2],\n",
              "      dtype=int32)"
            ]
          },
          "metadata": {}
        }
      ],
      "source": [
        "display(val_y.shape)\n",
        "display(val_y[:15])"
      ]
    },
    {
      "cell_type": "code",
      "execution_count": 578,
      "metadata": {
        "colab": {
          "base_uri": "https://localhost:8080/",
          "height": 612
        },
        "id": "-9PplE74TURO",
        "outputId": "0d671ad7-7ce6-4c74-e6a7-f790fea07ffb"
      },
      "outputs": [
        {
          "output_type": "display_data",
          "data": {
            "text/plain": [
              "'melspectrogram'"
            ],
            "application/vnd.google.colaboratory.intrinsic+json": {
              "type": "string"
            }
          },
          "metadata": {}
        },
        {
          "output_type": "display_data",
          "data": {
            "text/plain": [
              "(3318, 60)"
            ]
          },
          "metadata": {}
        },
        {
          "output_type": "display_data",
          "data": {
            "text/plain": [
              "array([1.8282815e-04, 1.8516471e-04, 1.8923497e-04, 1.9535325e-04,\n",
              "       2.0405794e-04, 2.1621672e-04, 2.3355127e-04, 2.6386356e-04,\n",
              "       3.8294177e-04, 8.7105710e-04, 4.0952233e-03, 7.9782819e-03,\n",
              "       1.2021556e-02, 1.1450265e-02, 1.8598879e-02, 4.5423362e-02,\n",
              "       5.1051736e-02, 2.1339525e-02, 2.7392777e-02, 2.3795826e-02,\n",
              "       1.3348093e-02, 1.3525566e-02, 8.1301248e-03, 8.5273301e-03,\n",
              "       1.1604097e-02, 7.5979652e-03, 4.1982550e-03, 4.9553681e-03,\n",
              "       6.7672539e-03, 8.9110127e-03, 1.0491555e-02, 8.9149661e-03,\n",
              "       8.2060061e-03, 6.9327699e-03, 7.8629563e-03, 8.1582973e-03,\n",
              "       7.1896906e-03, 3.3999698e-03, 3.0463785e-03, 5.0475681e-03,\n",
              "       5.0008059e-03, 4.5382837e-03, 4.0109674e-03, 4.0369830e-03,\n",
              "       9.5070582e-03, 1.8515797e-02, 5.2194532e-02, 2.4449244e-01,\n",
              "       2.7477503e-01, 5.4956347e-01, 6.2898314e-01, 4.4136560e-01,\n",
              "       5.3704370e-02, 2.4117595e-02, 1.1598948e-02, 4.3818848e-03,\n",
              "       2.8213693e-04, 6.7681176e-06, 2.1489736e-06, 2.1393287e-06],\n",
              "      dtype=float32)"
            ]
          },
          "metadata": {}
        },
        {
          "output_type": "display_data",
          "data": {
            "text/plain": [
              "'mfcc'"
            ],
            "application/vnd.google.colaboratory.intrinsic+json": {
              "type": "string"
            }
          },
          "metadata": {}
        },
        {
          "output_type": "display_data",
          "data": {
            "text/plain": [
              "(3318, 20)"
            ]
          },
          "metadata": {}
        },
        {
          "output_type": "display_data",
          "data": {
            "text/plain": [
              "array([-1.0000000e+00, -1.0882675e-01, -1.4413263e-01, -6.7996904e-02,\n",
              "       -1.5429229e-01,  7.5967886e-02, -1.1015258e-01,  1.3946199e-01,\n",
              "       -3.3290099e-02,  4.8340354e-02,  2.1415181e-02, -1.9456839e-02,\n",
              "        2.5275797e-02, -2.4598164e-02, -8.1183799e-03,  6.0081406e-04,\n",
              "       -2.5172167e-02,  8.5308263e-03, -9.6246637e-03,  7.1927463e-04],\n",
              "      dtype=float32)"
            ]
          },
          "metadata": {}
        },
        {
          "output_type": "display_data",
          "data": {
            "text/plain": [
              "'chroma'"
            ],
            "application/vnd.google.colaboratory.intrinsic+json": {
              "type": "string"
            }
          },
          "metadata": {}
        },
        {
          "output_type": "display_data",
          "data": {
            "text/plain": [
              "(3318, 12)"
            ]
          },
          "metadata": {}
        },
        {
          "output_type": "display_data",
          "data": {
            "text/plain": [
              "array([0.02229075, 0.02539484, 0.03112359, 0.1376025 , 0.2878612 ,\n",
              "       0.39549676, 0.5717799 , 0.5721824 , 0.20036055, 0.06311192,\n",
              "       0.03563747, 0.02806006], dtype=float32)"
            ]
          },
          "metadata": {}
        },
        {
          "output_type": "display_data",
          "data": {
            "text/plain": [
              "'rms'"
            ],
            "application/vnd.google.colaboratory.intrinsic+json": {
              "type": "string"
            }
          },
          "metadata": {}
        },
        {
          "output_type": "display_data",
          "data": {
            "text/plain": [
              "(3318, 1)"
            ]
          },
          "metadata": {}
        },
        {
          "output_type": "display_data",
          "data": {
            "text/plain": [
              "array([0.03920381], dtype=float32)"
            ]
          },
          "metadata": {}
        }
      ],
      "source": [
        "for key in val_features.keys():\n",
        "  display(key)\n",
        "  display(val_features[key].shape)\n",
        "  display(val_features[key][0])"
      ]
    },
    {
      "cell_type": "markdown",
      "metadata": {
        "id": "xJinfXlETURO"
      },
      "source": [
        "## **FNN Model**"
      ]
    },
    {
      "cell_type": "code",
      "execution_count": 595,
      "metadata": {
        "id": "sNDcEp1jwcox"
      },
      "outputs": [],
      "source": [
        "def build_model(input_features,\n",
        "                hidden_layers=[256, 256, 128],\n",
        "                learning_rate=0.00005,\n",
        "                output_units=20,\n",
        "                dropout_rate=0.4):\n",
        "\n",
        "  tf.keras.backend.clear_session()\n",
        "\n",
        "  # set input layer\n",
        "  input = tf.keras.Input(shape=(input_features,), name='Input')\n",
        "\n",
        "  # set hidden layers\n",
        "  hidden_output = input\n",
        "\n",
        "  for i, hidden_dim in enumerate(hidden_layers):\n",
        "    hidden_output = tf.keras.layers.Dense(units=hidden_dim,\n",
        "                                          activation='relu',\n",
        "                                          name=f'hidden{i}')(hidden_output)\n",
        "    # hidden_output = tf.keras.layers.Dropout(rate=dropout_rate, name=f'dropout{i}')(hidden_output)\n",
        "\n",
        "  # set output layer\n",
        "  output = tf.keras.layers.Dense(units=output_units,\n",
        "                                 activation='softmax',\n",
        "                                 name='Output')(hidden_output)\n",
        "  # create model\n",
        "  model = tf.keras.models.Model(inputs=input, outputs=[output])\n",
        "\n",
        "  # compile model\n",
        "  model.compile(loss=tf.keras.losses.SparseCategoricalCrossentropy(),\n",
        "                optimizer=tf.keras.optimizers.Adam(learning_rate=learning_rate),\n",
        "                metrics=['accuracy'])\n",
        "\n",
        "  return model"
      ]
    },
    {
      "cell_type": "code",
      "execution_count": 580,
      "metadata": {
        "id": "AiDhRXPMwcox"
      },
      "outputs": [],
      "source": [
        "def visualize(model_history):\n",
        "    fig, axes = plt.subplots(nrows=1, ncols=2, figsize=(15, 5))\n",
        "\n",
        "    # Visualize the loss\n",
        "    axes[0].plot(model_history.history['loss'], color='red', label='Training Loss')\n",
        "    axes[0].plot(model_history.history['val_loss'], color='blue', label='Validation Loss')\n",
        "    axes[0].set_xlabel('Epoch', fontsize=12)\n",
        "    axes[0].set_ylabel('Loss', fontsize=12)\n",
        "    axes[0].set_title('Loss Progression', fontsize=14)\n",
        "    axes[0].grid(True)\n",
        "    axes[0].legend()\n",
        "\n",
        "    # Visualize the accuracy\n",
        "    axes[1].plot(model_history.history['accuracy'], color='green', label='Training Accuracy')\n",
        "    axes[1].plot(model_history.history['val_accuracy'], color='orange', label='Validation Accuracy')\n",
        "    axes[1].set_xlabel('Epoch', fontsize=12)\n",
        "    axes[1].set_ylabel('Accuracy', fontsize=12)\n",
        "    axes[1].set_title('Accuracy Progression', fontsize=14)\n",
        "    axes[1].grid(True)\n",
        "    axes[1].legend()\n",
        "\n",
        "    # Fine-tune layout and display the plots\n",
        "    plt.tight_layout()\n",
        "    plt.show()"
      ]
    },
    {
      "cell_type": "code",
      "execution_count": 581,
      "metadata": {
        "id": "bKS_rAt2TURO"
      },
      "outputs": [],
      "source": [
        "train_results = {}\n",
        "val_results = {}"
      ]
    },
    {
      "cell_type": "markdown",
      "metadata": {
        "id": "9swCKhF1TURO"
      },
      "source": [
        "### **With all the features**"
      ]
    },
    {
      "cell_type": "code",
      "execution_count": 590,
      "metadata": {
        "colab": {
          "base_uri": "https://localhost:8080/"
        },
        "id": "0Un3qBBzTURP",
        "outputId": "1b8d7ef4-119a-42ce-9668-da3fd1b7fb68"
      },
      "outputs": [
        {
          "output_type": "execute_result",
          "data": {
            "text/plain": [
              "(12565, 93)"
            ]
          },
          "metadata": {},
          "execution_count": 590
        }
      ],
      "source": [
        "training_features = np.concatenate((train_features['mfcc'], train_features['chroma'], train_features['rms'], train_features['melspectrogram']), axis=1)\n",
        "training_features.shape"
      ]
    },
    {
      "cell_type": "code",
      "execution_count": 589,
      "metadata": {
        "colab": {
          "base_uri": "https://localhost:8080/"
        },
        "id": "SpD-3zGdTURP",
        "outputId": "e79f0ac7-1398-4739-b812-b8c4dc94349d"
      },
      "outputs": [
        {
          "output_type": "execute_result",
          "data": {
            "text/plain": [
              "(3318, 93)"
            ]
          },
          "metadata": {},
          "execution_count": 589
        }
      ],
      "source": [
        "validation_features = np.concatenate((val_features['mfcc'], val_features['chroma'], val_features['rms'], val_features['melspectrogram']), axis=1)\n",
        "\n",
        "validation_features.shape"
      ]
    },
    {
      "cell_type": "markdown",
      "metadata": {
        "id": "zOqA2fVuTURP"
      },
      "source": [
        "Fit the model with training data"
      ]
    },
    {
      "cell_type": "code",
      "execution_count": 596,
      "metadata": {
        "colab": {
          "base_uri": "https://localhost:8080/",
          "height": 482
        },
        "id": "2A-4xHCETURP",
        "outputId": "ec4eeb9b-055a-4f7e-fb63-324af14017f6"
      },
      "outputs": [
        {
          "output_type": "display_data",
          "data": {
            "text/plain": [
              "<Figure size 1500x500 with 2 Axes>"
            ],
            "image/png": "[encoded data removed]"
          },
          "metadata": {}
        }
      ],
      "source": [
        "scaler = StandardScaler()\n",
        "training_features = scaler.fit_transform(training_features)\n",
        "validation_features = scaler.transform(validation_features)\n",
        "\n",
        "model = build_model(input_features=training_features.shape[1])\n",
        "\n",
        "early_stop = EarlyStopping(monitor='val_loss', patience=20, restore_best_weights=True)\n",
        "model_checkpoint = ModelCheckpoint(\"/content/drive/My Drive/Final-Year-Project/Dataset/Project-V4/feature-extraction/NotAnnotated/AveragePooled/1s_all_features_best_model.keras\", monitor=\"val_loss\", save_best_only=True)\n",
        "\n",
        "history = model.fit(\n",
        "    x=training_features,\n",
        "    y=train_y,\n",
        "    epochs=100,\n",
        "    validation_data=(\n",
        "        validation_features,\n",
        "        val_y,\n",
        "    ),\n",
        "    batch_size=64,\n",
        "    verbose=0,\n",
        "    callbacks=[early_stop, model_checkpoint]\n",
        ")\n",
        "\n",
        "visualize(history)"
      ]
    },
    {
      "cell_type": "code",
      "execution_count": 597,
      "metadata": {
        "colab": {
          "base_uri": "https://localhost:8080/"
        },
        "id": "qOcHxpkrTURP",
        "outputId": "eecec3fa-2419-4c25-8344-1d5aff737f15"
      },
      "outputs": [
        {
          "output_type": "stream",
          "name": "stdout",
          "text": [
            "\u001b[1m393/393\u001b[0m \u001b[32m━━━━━━━━━━━━━━━━━━━━\u001b[0m\u001b[37m\u001b[0m \u001b[1m1s\u001b[0m 2ms/step\n",
            "\u001b[1m393/393\u001b[0m \u001b[32m━━━━━━━━━━━━━━━━━━━━\u001b[0m\u001b[37m\u001b[0m \u001b[1m1s\u001b[0m 2ms/step - accuracy: 0.8744 - loss: 0.4268\n",
            "\u001b[1m104/104\u001b[0m \u001b[32m━━━━━━━━━━━━━━━━━━━━\u001b[0m\u001b[37m\u001b[0m \u001b[1m0s\u001b[0m 3ms/step\n",
            "\u001b[1m104/104\u001b[0m \u001b[32m━━━━━━━━━━━━━━━━━━━━\u001b[0m\u001b[37m\u001b[0m \u001b[1m0s\u001b[0m 3ms/step - accuracy: 0.6464 - loss: 1.0962\n"
          ]
        }
      ],
      "source": [
        "train_yhat = model.predict(training_features)\n",
        "train_yhat_result = np.argmax(train_yhat, axis=-1)\n",
        "train_results['all_features'] = model.evaluate(training_features, train_y)[-1]\n",
        "\n",
        "val_yhat = model.predict(validation_features)\n",
        "val_yhat_result = np.argmax(val_yhat, axis=-1)\n",
        "val_results['all_features'] = model.evaluate(validation_features, val_y)[-1]"
      ]
    },
    {
      "cell_type": "markdown",
      "metadata": {
        "id": "6nEAMJEYTURV"
      },
      "source": [
        "# Review results from all models"
      ]
    },
    {
      "cell_type": "code",
      "execution_count": null,
      "metadata": {
        "id": "ZtnjgCgBTURW"
      },
      "outputs": [],
      "source": [
        "train_results_df = pd.DataFrame(list(train_results.items()), columns=['Features', 'Train_Accuracy']).round(3)\n",
        "val_results_df = pd.DataFrame(list(val_results.items()), columns=['Features', 'Val_Accuracy']).round(3)\n",
        "\n",
        "result_df = train_results_df.merge(val_results_df, on='Features')\n",
        "result_df = result_df.sort_values('Features')\n",
        "result_df"
      ]
    }
  ],
  "metadata": {
    "colab": {
      "provenance": []
    },
    "kernelspec": {
      "display_name": "Python 3",
      "language": "python",
      "name": "python3"
    },
    "language_info": {
      "codemirror_mode": {
        "name": "ipython",
        "version": 3
      },
      "file_extension": ".py",
      "mimetype": "text/x-python",
      "name": "python",
      "nbconvert_exporter": "python",
      "pygments_lexer": "ipython3",
      "version": "3.12.4"
    }
  },
  "nbformat": 4,
  "nbformat_minor": 0
}