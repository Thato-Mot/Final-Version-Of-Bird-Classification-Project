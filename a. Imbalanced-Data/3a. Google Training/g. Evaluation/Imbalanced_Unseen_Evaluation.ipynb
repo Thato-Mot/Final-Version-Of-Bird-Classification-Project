{
  "cells": [
    {
      "cell_type": "markdown",
      "metadata": {
        "id": "lZbjVupctQds"
      },
      "source": [
        "# **Convolutional Neural Network**\n",
        "**Starting parameters**:\n",
        "\n",
        "- Number of epochs: 100\n",
        "- Learning rate: 0.0005\n",
        "- Layers: [64, 32, 32]\n",
        "- Dropout: 0.3\n"
      ]
    },
    {
      "cell_type": "code",
      "execution_count": 1,
      "metadata": {
        "colab": {
          "base_uri": "https://localhost:8080/"
        },
        "id": "sIczGFG3tPW3",
        "outputId": "3f7d8b3e-488c-4a96-acea-de41c01f38a2"
      },
      "outputs": [
        {
          "output_type": "stream",
          "name": "stdout",
          "text": [
            "Mounted at /content/drive\n"
          ]
        }
      ],
      "source": [
        "from google.colab import drive\n",
        "drive.mount('/content/drive')"
      ]
    },
    {
      "cell_type": "code",
      "execution_count": 2,
      "metadata": {
        "id": "fvbc5i78vXj1"
      },
      "outputs": [],
      "source": [
        "# Standard libraries\n",
        "import numpy as np\n",
        "import pandas as pd\n",
        "import time\n",
        "import os\n",
        "\n",
        "# For preprocessing\n",
        "import tensorflow as tf\n",
        "\n",
        "# For modeling\n",
        "from sklearn.preprocessing import StandardScaler\n",
        "from sklearn.metrics import accuracy_score\n",
        "from sklearn.metrics import classification_report, roc_auc_score, f1_score\n",
        "from tensorflow.keras.callbacks import EarlyStopping, ModelCheckpoint\n",
        "from tensorflow.keras.applications import VGG16\n",
        "from tensorflow.keras.models import load_model\n",
        "\n",
        "# Operational\n",
        "from tqdm import tqdm\n",
        "import matplotlib.pyplot as plt\n",
        "import seaborn as sns\n",
        "import pickle\n",
        "import time\n",
        "import random"
      ]
    },
    {
      "cell_type": "code",
      "execution_count": 4,
      "metadata": {
        "id": "fXPOIwALvjaP"
      },
      "outputs": [],
      "source": [
        "pkl_path_1D = '/content/drive/My Drive/Final-Year-Project/Dataset/Final-Version-of-Bird-Classification-Project/feature-extraction/Annotated Test/test_features_3s_all_1D.pkl'\n",
        "\n",
        "# Load the pickle file\n",
        "with open(pkl_path_1D, 'rb') as file:\n",
        "    test_1D = pickle.load(file)\n",
        "del file"
      ]
    },
    {
      "cell_type": "code",
      "source": [
        "pkl_path_2D = '/content/drive/My Drive/Final-Year-Project/Dataset/Final-Version-of-Bird-Classification-Project/feature-extraction/Annotated Test/test_features_3s_all_2D.pkl'\n",
        "\n",
        "# Load the pickle file\n",
        "with open(pkl_path_2D, 'rb') as file:\n",
        "    test_2D = pickle.load(file)\n",
        "del file"
      ],
      "metadata": {
        "id": "wQ4uuSTai9nl"
      },
      "execution_count": 5,
      "outputs": []
    },
    {
      "cell_type": "code",
      "execution_count": 8,
      "metadata": {
        "id": "enVU1ttOvoId"
      },
      "outputs": [],
      "source": [
        "test_f_1D = test_1D['test'].copy()\n",
        "test_f_2D = test_2D['test'].copy()\n",
        "\n",
        "test_labels = test_f_1D['label'].copy()\n",
        "temp = test_f_1D.copy()\n",
        "del temp['label']\n",
        "test_features_1D = temp\n",
        "\n",
        "temp = test_f_2D.copy()\n",
        "del temp['label']\n",
        "test_features_2D = temp"
      ]
    },
    {
      "cell_type": "markdown",
      "metadata": {
        "id": "GSALyZ_ov3Ar"
      },
      "source": [
        "## **Shuffling Data**"
      ]
    },
    {
      "cell_type": "code",
      "execution_count": 9,
      "metadata": {
        "id": "l56DzbZJvtSx"
      },
      "outputs": [],
      "source": [
        "def shuffle_data(input_label, input_features):\n",
        "  input_len = len(input_label)\n",
        "  np.random.seed(1826)\n",
        "  input_indices = np.random.permutation(input_len)\n",
        "  input_features = {key: np.array([input_features[key][i] for i in input_indices]) for key in input_features} # dictionary comprehension\n",
        "  input_label = np.array([input_label[i] for i in input_indices])\n",
        "\n",
        "  return input_label, input_features"
      ]
    },
    {
      "cell_type": "code",
      "execution_count": 10,
      "metadata": {
        "id": "BADXTyNiv7lW"
      },
      "outputs": [],
      "source": [
        "test_y_1D, test_X_1D = shuffle_data(test_labels, test_features_1D)"
      ]
    },
    {
      "cell_type": "code",
      "source": [
        "test_y_2D, test_X_2D = shuffle_data(test_labels, test_features_2D)"
      ],
      "metadata": {
        "id": "nMVI8B8akTk6"
      },
      "execution_count": 11,
      "outputs": []
    },
    {
      "cell_type": "code",
      "source": [
        "# pkl_path = '/content/drive/My Drive/Final-Year-Project/Dataset/Final-Version-of-Bird-Classification-Project/feature-extraction/Annotated/Regular/NotAveragePooled/split_features_3s_all_2D.pkl'\n",
        "\n",
        "# # Load the pickle file\n",
        "# with open(pkl_path, 'rb') as file:\n",
        "#     data = pickle.load(file)\n",
        "# del file"
      ],
      "metadata": {
        "id": "56AnHLVY-jpa"
      },
      "execution_count": 37,
      "outputs": []
    },
    {
      "cell_type": "markdown",
      "metadata": {
        "id": "p6W0uaq-wCfJ"
      },
      "source": [
        "## **CNN Model**"
      ]
    },
    {
      "cell_type": "code",
      "execution_count": 12,
      "metadata": {
        "id": "FQ6ySd5FzwJo"
      },
      "outputs": [],
      "source": [
        "def evaluate_model(val_y, val_yhat, val_yhat_result, num_classes=20):\n",
        "\n",
        "    print('Validation classification Report \\n')\n",
        "    print(classification_report(val_y, val_yhat_result))\n",
        "\n",
        "    # Calculate AUC for multiclass classification using 'ovr' and 'weighted' average\n",
        "    auc_score = roc_auc_score(val_y, val_yhat, multi_class='ovr', average='weighted')\n",
        "    print(f'AUC Score: {auc_score}')\n",
        "\n",
        "    # Calculate F1-score with 'weighted' average for imbalanced dataset\n",
        "    f1 = f1_score(val_y, val_yhat_result, average='weighted')\n",
        "    print(f'F1 Score (Weighted): {f1}')\n",
        "\n",
        "    val_score = {'f1': f1, 'auc': auc_score}\n",
        "\n",
        "    return val_score"
      ]
    },
    {
      "cell_type": "code",
      "execution_count": 13,
      "metadata": {
        "id": "47vW1YbuYIIl"
      },
      "outputs": [],
      "source": [
        "def tile_and_crop(feature, target_size):\n",
        "    tiled = np.tile(feature, (1, target_size // feature.shape[1] + 1, 1))\n",
        "    return tiled[:, :target_size, :]"
      ]
    },
    {
      "cell_type": "code",
      "execution_count": 14,
      "metadata": {
        "id": "DObv-Sqeyb0G"
      },
      "outputs": [],
      "source": [
        "test_results = {}"
      ]
    },
    {
      "cell_type": "markdown",
      "source": [
        "# **Traditional Models**"
      ],
      "metadata": {
        "id": "G-QxmgbZkvJd"
      }
    },
    {
      "cell_type": "code",
      "source": [
        "# # 1D\n",
        "\n",
        "# rf = load_model('/content/drive/My Drive/Final-Year-Project/Dataset/Final-Version-of-Bird-Classification-Project/ML Models/RF/RF_melspectrogram_cqt_mfcc.keras')\n",
        "# xgboost = load_model('/content/drive/My Drive/Final-Year-Project/Dataset/Final-Version-of-Bird-Classification-Project/ML Models/XGB/XGB_melspectrogram_cqt_mfcc.keras')\n",
        "# svm = load_model('/content/drive/My Drive/Final-Year-Project/Dataset/Final-Version-of-Bird-Classification-Project/ML Models/SVM/SVM_melspectrogram_cqt_mfcc.keras')\n",
        "# knn = load_model('/content/drive/My Drive/Final-Year-Project/Dataset/Final-Version-of-Bird-Classification-Project/ML Models/KNN/KNN_melspectrogram_cqt_mfcc.keras')\n",
        "\n",
        "# rf = load_model('/content/drive/My Drive/Final-Year-Project/Dataset/Final-Version-of-Bird-Classification-Project/ML Models/RF/RF_melspectrogram_chroma_mfcc.keras')\n",
        "# xgboost = load_model('/content/drive/My Drive/Final-Year-Project/Dataset/Final-Version-of-Bird-Classification-Project/ML Models/XGB/XGB_melspectrogram_chroma_mfcc.keras')\n",
        "# svm = load_model('/content/drive/My Drive/Final-Year-Project/Dataset/Final-Version-of-Bird-Classification-Project/ML Models/SVM/SVM_melspectrogram_chroma_mfcc.keras')\n",
        "# knn = load_model('/content/drive/My Drive/Final-Year-Project/Dataset/Final-Version-of-Bird-Classification-Project/ML Models/KNN/KNN_melspectrogram_chroma_mfcc.keras')"
      ],
      "metadata": {
        "id": "m9Dew9QtlkSH"
      },
      "execution_count": 15,
      "outputs": []
    },
    {
      "cell_type": "markdown",
      "source": [
        "# **Deep Learning Models**"
      ],
      "metadata": {
        "id": "G-5I5WgWlvK9"
      }
    },
    {
      "cell_type": "code",
      "source": [
        "# 2D\n",
        "\n",
        "ffnn_melmfcccqt = load_model('/content/drive/My Drive/Final-Year-Project/Dataset/Final-Version-of-Bird-Classification-Project/ML Models/FFNN/FFNN_melspectrogram_cqt_mfcc.keras')\n",
        "cnn_melmfcccqt = load_model('/content/drive/My Drive/Final-Year-Project/Dataset/Final-Version-of-Bird-Classification-Project/ML Models/CNN/CNN_melspectrogram_cqt_mfcc.keras')\n",
        "EB0_melmfcccqt = load_model('/content/drive/My Drive/Final-Year-Project/Dataset/Final-Version-of-Bird-Classification-Project/ML Models/Transfer Learning/EfficientB0_melspectrogram_cqt_mfcc.keras')\n",
        "EB4_melmfcccqt = load_model('/content/drive/My Drive/Final-Year-Project/Dataset/Final-Version-of-Bird-Classification-Project/ML Models/Transfer Learning/EfficientB4_melspectrogram_cqt_mfcc.keras')\n",
        "Res_melmfcccqt = load_model('/content/drive/My Drive/Final-Year-Project/Dataset/Final-Version-of-Bird-Classification-Project/ML Models/Transfer Learning/ResNet50_melspectrogram_cqt_mfcc.keras')\n",
        "VGG_melmfcccqt = load_model('/content/drive/My Drive/Final-Year-Project/Dataset/Final-Version-of-Bird-Classification-Project/ML Models/Transfer Learning/VGG16_melspectrogram_cqt_mfcc.keras')\n",
        "\n",
        "ffnn_melmfccchroma = load_model('/content/drive/My Drive/Final-Year-Project/Dataset/Final-Version-of-Bird-Classification-Project/ML Models/FFNN/FFNN_melspectrogram_chroma_mfcc.keras')\n",
        "cnn_melmfccchroma = load_model('/content/drive/My Drive/Final-Year-Project/Dataset/Final-Version-of-Bird-Classification-Project/ML Models/CNN/CNN_melspectrogram_chroma_mfcc.keras')\n",
        "EB0_melmfccchroma = load_model('/content/drive/My Drive/Final-Year-Project/Dataset/Final-Version-of-Bird-Classification-Project/ML Models/Transfer Learning/EfficientB0_melspectrogram_chroma_mfcc.keras')\n",
        "EB4_melmfccchroma = load_model('/content/drive/My Drive/Final-Year-Project/Dataset/Final-Version-of-Bird-Classification-Project/ML Models/Transfer Learning/EfficientB4_melspectrogram_chroma_mfcc.keras')\n",
        "Res_melmfccchroma = load_model('/content/drive/My Drive/Final-Year-Project/Dataset/Final-Version-of-Bird-Classification-Project/ML Models/Transfer Learning/ResNet50_melspectrogram_chroma_mfcc.keras')\n",
        "VGG_melmfccchroma = load_model('/content/drive/My Drive/Final-Year-Project/Dataset/Final-Version-of-Bird-Classification-Project/ML Models/Transfer Learning/VGG16_melspectrogram_chroma_mfcc.keras')"
      ],
      "metadata": {
        "id": "7p2gHrlGlyk6"
      },
      "execution_count": 16,
      "outputs": []
    },
    {
      "cell_type": "markdown",
      "source": [
        "# **Preparing Test Data**"
      ],
      "metadata": {
        "id": "wYjb43HAmMJT"
      }
    },
    {
      "cell_type": "markdown",
      "source": [
        "## 1D Testing Stuff"
      ],
      "metadata": {
        "id": "Jv6Q8aNUmPbM"
      }
    },
    {
      "cell_type": "code",
      "source": [
        "testing_1D_melmfccchroma3D = np.concatenate((test_X_2D['mfcc'], test_X_2D['chroma'], test_X_2D['melspectrogram']), axis=1)\n",
        "testing_1D_melmfccchroma = testing_1D_melmfccchroma3D.reshape(testing_1D_melmfccchroma3D.shape[0], -1)\n",
        "print(testing_1D_melmfccchroma.shape)\n",
        "\n",
        "testing_1D_melmfcccqt3D = np.concatenate((test_X_2D['mfcc'], test_X_2D['cqt'], test_X_2D['melspectrogram']), axis=1)\n",
        "testing_1D_melmfcccqt = testing_1D_melmfcccqt3D.reshape(testing_1D_melmfcccqt3D.shape[0], -1)\n",
        "print(testing_1D_melmfcccqt.shape)"
      ],
      "metadata": {
        "colab": {
          "base_uri": "https://localhost:8080/"
        },
        "id": "uVvoRfQQmUHr",
        "outputId": "eff83898-4882-469c-ab4d-f9427a270880"
      },
      "execution_count": 46,
      "outputs": [
        {
          "output_type": "stream",
          "name": "stdout",
          "text": [
            "(2426, 41440)\n",
            "(2426, 60088)\n"
          ]
        }
      ]
    },
    {
      "cell_type": "code",
      "source": [
        "test_y_2D.shape"
      ],
      "metadata": {
        "colab": {
          "base_uri": "https://localhost:8080/"
        },
        "id": "4k-mjoqe7877",
        "outputId": "344240c1-28e1-47b0-84b5-ded93174c20c"
      },
      "execution_count": 47,
      "outputs": [
        {
          "output_type": "execute_result",
          "data": {
            "text/plain": [
              "(2426,)"
            ]
          },
          "metadata": {},
          "execution_count": 47
        }
      ]
    },
    {
      "cell_type": "markdown",
      "source": [
        "## 2D Testing Stuff"
      ],
      "metadata": {
        "id": "vlPZPVNCmUkg"
      }
    },
    {
      "cell_type": "code",
      "source": [
        "target_size = 128\n",
        "mfcc_tiled = tile_and_crop(test_X_2D['mfcc'], target_size)\n",
        "chroma_tiled = tile_and_crop(test_X_2D['chroma'], target_size)\n",
        "cqt_tiled = tile_and_crop(test_X_2D['cqt'], target_size)\n",
        "\n",
        "testing_2D_melmfccchroma = np.stack((test_X_2D['melspectrogram'], mfcc_tiled, chroma_tiled), axis=-1)\n",
        "testing_2D_melmfcccqt = np.stack((test_X_2D['melspectrogram'], cqt_tiled, chroma_tiled), axis=-1)"
      ],
      "metadata": {
        "id": "GjGz6U_emOkg"
      },
      "execution_count": 48,
      "outputs": []
    },
    {
      "cell_type": "markdown",
      "source": [
        "# **Evaluation**"
      ],
      "metadata": {
        "id": "IIbFsdJA1fPf"
      }
    },
    {
      "cell_type": "markdown",
      "source": [
        "Mel Spectrogram/MFCC/CQT Models"
      ],
      "metadata": {
        "id": "b2aZY9FQ1pd_"
      }
    },
    {
      "cell_type": "code",
      "source": [
        "# train_data = data['train'].copy()\n",
        "# val_data = data['val'].copy()\n",
        "# del data\n",
        "\n",
        "# train_labels = train_data['label'].copy()\n",
        "# temp = train_data.copy()\n",
        "# del temp['label']\n",
        "# tr_features = temp\n",
        "\n",
        "# val_labels = val_data['label'].copy()\n",
        "# temp = val_data.copy()\n",
        "# del temp['label']\n",
        "# v_features = temp\n",
        "\n",
        "# train_y, train_features = shuffle_data(train_labels, tr_features)\n",
        "# training_features_3D = np.concatenate((train_features['mfcc'], train_features['cqt'], train_features['melspectrogram']), axis=1)\n",
        "# training_features = training_features_3D.reshape(training_features_3D.shape[0], -1)\n",
        "\n",
        "\n",
        "# scaler = StandardScaler()\n",
        "# training_features = scaler.fit_transform(training_features)\n",
        "\n",
        "# testing_features = scaler.transform(testing_1D_melmfcccqt)\n",
        "# testing_features.shape"
      ],
      "metadata": {
        "id": "TbnJYump9lch"
      },
      "execution_count": 49,
      "outputs": []
    },
    {
      "cell_type": "code",
      "source": [
        "# test_y_2D.shape"
      ],
      "metadata": {
        "id": "wCAJN-0m9qwk"
      },
      "execution_count": 50,
      "outputs": []
    },
    {
      "cell_type": "code",
      "source": [
        "# loss, accuracy = ffnn_melmfcccqt.evaluate(testing_features, test_y_2D)\n",
        "\n",
        "# test_results['FFNN_CQT'] = accuracy\n",
        "\n",
        "# print(f\"Test Loss: {loss}\")\n",
        "# print(f\"Test Accuracy: {accuracy}\")"
      ],
      "metadata": {
        "id": "HgHakztt1iGZ"
      },
      "execution_count": 51,
      "outputs": []
    },
    {
      "cell_type": "code",
      "source": [
        "accuracy = cnn_melmfcccqt.evaluate(testing_2D_melmfcccqt, test_y_2D)[-1]\n",
        "\n",
        "test_results['CNN_CQT'] = accuracy\n",
        "\n",
        "print(f\"Test Accuracy: {accuracy}\")"
      ],
      "metadata": {
        "colab": {
          "base_uri": "https://localhost:8080/"
        },
        "id": "MopDsXW610W4",
        "outputId": "a5ecfad5-3077-4b55-e31f-226c0c91c0e3"
      },
      "execution_count": 55,
      "outputs": [
        {
          "output_type": "stream",
          "name": "stdout",
          "text": [
            "\u001b[1m76/76\u001b[0m \u001b[32m━━━━━━━━━━━━━━━━━━━━\u001b[0m\u001b[37m\u001b[0m \u001b[1m1s\u001b[0m 14ms/step - accuracy: 0.0196 - loss: 3.1776 - weighted_accuracy: 0.0196\n",
            "Test Accuracy: 0.018549051135778427\n"
          ]
        }
      ]
    },
    {
      "cell_type": "code",
      "source": [
        "accuracy = EB0_melmfcccqt.evaluate(testing_2D_melmfcccqt, test_y_2D)[-1]\n",
        "\n",
        "test_results['EB0_CQT'] = accuracy\n",
        "\n",
        "print(f\"Test Accuracy: {accuracy}\")"
      ],
      "metadata": {
        "id": "v6hII2fT12BQ"
      },
      "execution_count": null,
      "outputs": []
    },
    {
      "cell_type": "code",
      "source": [
        "accuracy = EB4_melmfcccqt.evaluate(testing_2D_melmfcccqt, test_y_2D)[-1]\n",
        "\n",
        "test_results['EB4_CQT'] = accuracy\n",
        "\n",
        "print(f\"Test Accuracy: {accuracy}\")"
      ],
      "metadata": {
        "id": "KJQS-NzQ123K"
      },
      "execution_count": null,
      "outputs": []
    },
    {
      "cell_type": "code",
      "source": [
        "accuracy = Res_melmfcccqt.evaluate(testing_2D_melmfcccqt, test_y_2D)[-1]\n",
        "\n",
        "test_results['Res_CQT'] = accuracy\n",
        "\n",
        "print(f\"Test Accuracy: {accuracy}\")"
      ],
      "metadata": {
        "id": "a98FilKf15b9"
      },
      "execution_count": null,
      "outputs": []
    },
    {
      "cell_type": "code",
      "source": [
        "accuracy = VGG_melmfcccqt.evaluate(testing_2D_melmfcccqt, test_y_2D)[-1]\n",
        "\n",
        "test_results['VGG_CQT'] = accuracy\n",
        "\n",
        "print(f\"Test Accuracy: {accuracy}\")"
      ],
      "metadata": {
        "id": "uU2boOZC16Yx"
      },
      "execution_count": null,
      "outputs": []
    },
    {
      "cell_type": "markdown",
      "source": [
        "# **Evaluation**"
      ],
      "metadata": {
        "id": "VyVQfn3h3Q2h"
      }
    },
    {
      "cell_type": "markdown",
      "source": [
        "Mel Spectrogram/MFCC/Chroma Models"
      ],
      "metadata": {
        "id": "eIq4UXm33Q2i"
      }
    },
    {
      "cell_type": "code",
      "source": [
        "# training_features_3D = np.concatenate((train_features['mfcc'], train_features['chroma'], train_features['melspectrogram']), axis=1)\n",
        "# training_features = training_features_3D.reshape(training_features_3D.shape[0], -1)\n",
        "\n",
        "\n",
        "# scaler = StandardScaler()\n",
        "# training_features = scaler.fit_transform(training_features)\n",
        "\n",
        "# testing_features = scaler.transform(testing_1D_melmfcccqt)\n",
        "# testing_features.shape"
      ],
      "metadata": {
        "id": "bci3DVKG_dgS"
      },
      "execution_count": null,
      "outputs": []
    },
    {
      "cell_type": "code",
      "source": [
        "# loss, accuracy = ffnn_melmfccchroma.evaluate(testing_1D_melmfccchroma, test_y_2D)\n",
        "\n",
        "# test_results['FFNN_Chroma'] = accuracy\n",
        "\n",
        "# print(f\"Test Loss: {loss}\")\n",
        "# print(f\"Test Accuracy: {accuracy}\")"
      ],
      "metadata": {
        "id": "rPKQpiRP3Q2i"
      },
      "execution_count": null,
      "outputs": []
    },
    {
      "cell_type": "code",
      "source": [
        "accuracy = cnn_melmfccchroma.evaluate(testing_2D_melmfccchroma, test_y_2D)[-1]\n",
        "\n",
        "test_results['CNN_Chroma'] = accuracy\n",
        "\n",
        "print(f\"Test Accuracy: {accuracy}\")"
      ],
      "metadata": {
        "id": "DV_0b76M3Q2i"
      },
      "execution_count": null,
      "outputs": []
    },
    {
      "cell_type": "code",
      "source": [
        "accuracy = EB0_melmfccchroma.evaluate(testing_2D_melmfccchroma, test_y_2D)[-1]\n",
        "\n",
        "test_results['EB0_Chroma'] = accuracy\n",
        "\n",
        "print(f\"Test Accuracy: {accuracy}\")"
      ],
      "metadata": {
        "id": "n7eYkVos3Q2i"
      },
      "execution_count": null,
      "outputs": []
    },
    {
      "cell_type": "code",
      "source": [
        "accuracy = EB4_melmfccchroma.evaluate(testing_2D_melmfccchroma, test_y_2D)[-1]\n",
        "\n",
        "test_results['EB4_Chroma'] = accuracy\n",
        "\n",
        "print(f\"Test Accuracy: {accuracy}\")"
      ],
      "metadata": {
        "id": "-FyDzPaa3Q2i"
      },
      "execution_count": null,
      "outputs": []
    },
    {
      "cell_type": "code",
      "source": [
        "accuracy = Res_melmfccchroma.evaluate(testing_2D_melmfccchroma, test_y_2D)[-1]\n",
        "\n",
        "test_results['Res_Chroma'] = accuracy\n",
        "\n",
        "print(f\"Test Accuracy: {accuracy}\")"
      ],
      "metadata": {
        "id": "SuJIOmOO3Q2i"
      },
      "execution_count": null,
      "outputs": []
    },
    {
      "cell_type": "code",
      "source": [
        "accuracy = VGG_melmfccchroma.evaluate(testing_2D_melmfccchroma, test_y_2D)[-1]\n",
        "\n",
        "test_results['VGG_Chroma'] = accuracy\n",
        "\n",
        "print(f\"Test Accuracy: {accuracy}\")"
      ],
      "metadata": {
        "id": "DPjdDryx3Q2j"
      },
      "execution_count": null,
      "outputs": []
    },
    {
      "cell_type": "markdown",
      "metadata": {
        "id": "_xoiahRT3Q2j"
      },
      "source": [
        "## Review all the results"
      ]
    },
    {
      "cell_type": "code",
      "execution_count": null,
      "metadata": {
        "id": "Uwox20ci3Q2j"
      },
      "outputs": [],
      "source": [
        "test_results_df = pd.DataFrame(list(train_results.items()), columns=['Models', 'Testing_Accuracy']).round(3)\n",
        "\n",
        "test_results_df = test_results_df.sort_values('Features')\n",
        "test_results_df"
      ]
    }
  ],
  "metadata": {
    "accelerator": "GPU",
    "colab": {
      "gpuType": "T4",
      "machine_shape": "hm",
      "provenance": [],
      "collapsed_sections": [
        "G-QxmgbZkvJd"
      ]
    },
    "kernelspec": {
      "display_name": "Python 3",
      "name": "python3"
    },
    "language_info": {
      "name": "python"
    }
  },
  "nbformat": 4,
  "nbformat_minor": 0
}