{
 "cells": [
  {
   "cell_type": "markdown",
   "metadata": {},
   "source": [
    "# **Feature Extraction Methods: Imbalanced Data Without Annotations**\n",
    "\n",
    "- *Key Features*: [MFCCs, Mel-Spectrograms, Chroma Frequencies, RMS Power]\n",
    "- *Key Manipulations*: [Varying Window Sizes, Normalization, Average Pooling (Compression), Filtering]\n",
    "- *Process Assistence*: [Converting them to numpy arrays now, easy label access across features]\n",
    "- *Conversion*: [To numpy arrays and pkl files]\n"
   ]
  },
  {
   "cell_type": "code",
   "execution_count": 1,
   "metadata": {},
   "outputs": [
    {
     "name": "stdout",
     "output_type": "stream",
     "text": [
      "pygame 2.6.1 (SDL 2.28.4, Python 3.12.4)\n",
      "Hello from the pygame community. https://www.pygame.org/contribute.html\n"
     ]
    }
   ],
   "source": [
    "# Standard libraries\n",
    "import numpy as np\n",
    "import pandas as pd\n",
    "import os\n",
    "import time\n",
    "\n",
    "# Libraries for audio\n",
    "from IPython.display import Audio\n",
    "import librosa\n",
    "import librosa.display\n",
    "\n",
    "# Training and Testing Split\n",
    "from sklearn.model_selection import train_test_split\n",
    "\n",
    "# for normalization & avgpooling features\n",
    "import tensorflow as tf\n",
    "# for preprocessing\n",
    "from sklearn.preprocessing import LabelEncoder\n",
    "from sklearn.preprocessing import MinMaxScaler\n",
    "from sklearn.preprocessing import OneHotEncoder\n",
    "\n",
    "# Operational\n",
    "from tqdm import tqdm\n",
    "import matplotlib.pyplot as plt\n",
    "import seaborn as sns\n",
    "import pickle\n",
    "import scipy.ndimage\n",
    "import pygame\n",
    "import time\n",
    "from scipy.signal import butter, filtfilt\n",
    "import random\n",
    "import IPython.display as ipd\n",
    "from functools import partial"
   ]
  },
  {
   "cell_type": "code",
   "execution_count": 2,
   "metadata": {},
   "outputs": [],
   "source": [
    "# Variabels to be reused\n",
    "path = 'C:/Users/thato/Documents/Final-Year-Project/Dataset/Project-V4/audio_files' \n",
    "npy_path = 'C:/Users/thato/Documents/Final-Year-Project/Dataset/Project-V4/train_audio_npy/' \n",
    "train_csv = 'C:/Users/thato/Documents/Final-Year-Project/Dataset/Project-V4/train-not-annotated.csv' \n",
    "annotated_train_csv = 'C:/Users/thato/Documents/Final-Year-Project/Dataset/Project-V4/train-annotated.csv'\n",
    "not_annotated_splt = 'C:/Users/thato/Documents/Final-Year-Project/Dataset/Project-V4/trainval-split/trainval.csv'\n",
    "sr = 22050"
   ]
  },
  {
   "cell_type": "code",
   "execution_count": 3,
   "metadata": {},
   "outputs": [],
   "source": [
    "trainval_data = pd.read_csv(not_annotated_splt)\n",
    "train_data = trainval_data[trainval_data['set'] == 'tr']\n",
    "val_data = trainval_data[trainval_data['set'] == 'val']"
   ]
  },
  {
   "cell_type": "code",
   "execution_count": 15,
   "metadata": {},
   "outputs": [
    {
     "data": {
      "text/plain": [
       "species\n",
       "Alcedo atthis                39\n",
       "Himantopus himantopus        36\n",
       "Porphyrio porphyrio          33\n",
       "Acrocephalus melanopogon     32\n",
       "Gallinula chloropus          32\n",
       "Fulica atra                  28\n",
       "Tachybaptus ruficollis       27\n",
       "Botaurus stellaris           27\n",
       "Charadrius alexandrinus      26\n",
       "Ardea purpurea               26\n",
       "Dendrocopos minor            25\n",
       "Motacilla flava              24\n",
       "Acrocephalus arundinaceus    23\n",
       "Ciconia ciconia              22\n",
       "Ixobrychus minutus           21\n",
       "Acrocephalus scirpaceus      20\n",
       "Circus aeruginosus           19\n",
       "Coracias garrulus            11\n",
       "Anas platyrhynchos            9\n",
       "Anas strepera                 5\n",
       "Name: count, dtype: int64"
      ]
     },
     "execution_count": 15,
     "metadata": {},
     "output_type": "execute_result"
    }
   ],
   "source": [
    "train_data['species'].value_counts()"
   ]
  },
  {
   "cell_type": "markdown",
   "metadata": {},
   "source": [
    "# **Creating a class to do the extraction**"
   ]
  },
  {
   "cell_type": "code",
   "execution_count": 6,
   "metadata": {},
   "outputs": [],
   "source": [
    "class Extraction:\n",
    "  def __init__(self, train_df, val_df, window_size, overlap=0.5, npy_path=npy_path, sr=sr, n_mels=60, n_mfcc=20, n_chroma=12, features=['mfcc'], normalize=True, avgpool=False):\n",
    "    \"\"\"\n",
    "    Instantiate the Extraction class to extract features.\n",
    "\n",
    "    Parameters:\n",
    "      sr (int): Sample rate of the audio files.\n",
    "      n_mfccs (int): Number of MFCCs to extract.\n",
    "      n_mels (int): Number of Mel bands to extract.\n",
    "      n_chroma (int): Number of chroma bins to use.\n",
    "      features (list): List of features to extract.\n",
    "        accepted features: 'mfcc', 'chroma', 'rms', 'melspectrogram'.\n",
    "      normalize (bool): Whether to normalize the features.\n",
    "      maxpool (bool): Whether to maxpool the features.\n",
    "    \"\"\"\n",
    "    \n",
    "    self.train_df = train_df\n",
    "    self.val_df = val_df\n",
    "    self.npy_path = npy_path\n",
    "    self.window_size = window_size\n",
    "    self.overlap = overlap\n",
    "    self.sr = sr\n",
    "    self.n_mels = n_mels\n",
    "    self.n_mfcc = n_mfcc\n",
    "    self.n_chroma = n_chroma\n",
    "\n",
    "     # confirm features have been specified\n",
    "    assert len(features) != 0, \"Must Specify At Least One Feature In The Form Of A List.\"\n",
    "    self.features = features\n",
    "\n",
    "    self.accepted_feature = ['mfcc', 'chroma', 'rms', 'melspectrogram']\n",
    "    for feature in self.features:\n",
    "      assert feature in self.accepted_feature, f\"{feature} is not an accepted feature, only 'mfcc', 'chroma', 'rms', 'melspectrogram' are accepted features.\"\n",
    "\n",
    "    self.normalize = normalize\n",
    "    self.avgpool = avgpool\n",
    "\n",
    "    print(f\"Train DataFrame shape: {train_df.shape}\")\n",
    "    print(f\"Validation DataFrame shape: {val_df.shape}\")\n",
    "\n",
    "    # extract train and val labels and features\n",
    "    self.train_y, self.train_features = self.feature_extraction(self.train_df, window_size=self.window_size)\n",
    "    self.val_y, self.val_features = self.feature_extraction(self.val_df, window_size=self.window_size)\n",
    "\n",
    "    # process the features by average pooling\n",
    "    self.train_features, self.val_features = self.process_features(self.train_features, self.val_features)\n",
    "\n",
    "    \n",
    "  \n",
    "\n",
    "  def normalize_audio(self, audio):\n",
    "    return (audio - np.min(audio)) / (np.max(audio) - np.min(audio))\n",
    "  \n",
    "  def bandpass_filter(self, audio, lowcut=800, highcut=8000, order=4):\n",
    "    nyquist = 0.5 * self.sr  # Nyquist frequency\n",
    "    low = lowcut / nyquist\n",
    "    high = highcut / nyquist\n",
    "\n",
    "    b, a = butter(order, [low, high], btype='band')\n",
    "    filtered_audio = filtfilt(b, a, audio)\n",
    "    return filtered_audio\n",
    "  \n",
    "  def generate_pink_noise(self, num_samples):\n",
    "    white_noise = np.random.randn(num_samples)\n",
    "    \n",
    "    # Apply a filter to convert white noise into pink noise (1/f noise)\n",
    "    X = np.fft.rfft(white_noise)\n",
    "    S = np.arange(1, len(X) + 1)  # Frequency scaling\n",
    "    pink_noise = np.fft.irfft(X / S)\n",
    "\n",
    "    if len(pink_noise) < num_samples:\n",
    "        # Pad with zeros if the length is less than num_samples\n",
    "        pink_noise = np.pad(pink_noise, (0, num_samples - len(pink_noise)), mode='constant')\n",
    "    elif len(pink_noise) > num_samples:\n",
    "        # Trim if necessary\n",
    "        pink_noise = pink_noise[:num_samples]\n",
    "    \n",
    "    return self.normalize_audio(pink_noise)\n",
    "  \n",
    "  def pad_with_noise(self, audio_data, window_length, window_samples):\n",
    "    current_length = librosa.get_duration(y=audio_data, sr=self.sr)\n",
    "\n",
    "    if current_length > window_length:\n",
    "        return audio_data\n",
    "    \n",
    "    target_length_samples = int(window_length * sr) \n",
    "    current_length_samples = window_samples\n",
    "    padding_length_samples = target_length_samples - current_length_samples\n",
    "\n",
    "    assert target_length_samples == (current_length_samples+padding_length_samples)\n",
    "    \n",
    "    # Generate pink noise to pad with\n",
    "    pink_noise = self.generate_pink_noise(padding_length_samples)\n",
    "    padded_audio = np.concatenate([audio_data, pink_noise])\n",
    "    # if len(padded_audio) < target_length_samples:\n",
    "    #     padded_audio = np.append(padded_audio, self.generate_pink_noise(1))\n",
    "\n",
    "    assert target_length_samples == len(padded_audio)\n",
    "    \n",
    "    return padded_audio\n",
    "  \n",
    "  def avg_pooling_keras(self, feature):\n",
    "    # Clear the previous Keras session\n",
    "    tf.keras.backend.clear_session()\n",
    "\n",
    "    # Define the input shape based on features\n",
    "    input_shape = feature.shape[1:]  # (n_mels, time_steps)\n",
    "\n",
    "    # Create the Keras model for average pooling\n",
    "    inputs = tf.keras.layers.Input(shape=input_shape)\n",
    "    pooled = tf.keras.layers.GlobalAveragePooling1D()(inputs)\n",
    "    pooling_model = tf.keras.models.Model(inputs=inputs, outputs=pooled)\n",
    "\n",
    "    # Perform pooling using the model\n",
    "    pooled_features = pooling_model.predict(feature)\n",
    "\n",
    "    return pooled_features\n",
    "\n",
    "#-------------------------Feature Extraction---------------------------------------\n",
    "  def extract_mfcc(self, window):\n",
    "    mfcc = librosa.feature.mfcc(y=window, sr=self.sr, n_mfcc=self.n_mfcc)\n",
    "    if self.normalize:\n",
    "      return librosa.util.normalize(mfcc)\n",
    "    else:\n",
    "      return mfcc\n",
    "\n",
    "\n",
    "  def extract_chroma(self, window):\n",
    "    chroma = librosa.feature.chroma_stft(y=window, sr=self.sr, n_chroma=self.n_chroma)\n",
    "    if self.normalize:\n",
    "      return librosa.util.normalize(chroma)\n",
    "    else:\n",
    "      return chroma\n",
    "   \n",
    "\n",
    "  def extract_rms(self, window):\n",
    "    return librosa.feature.rms(y=window)\n",
    "\n",
    "  def extract_melspectrogram(self, window):\n",
    "    mel = librosa.feature.melspectrogram(y=window, sr=self.sr, n_mels=self.n_mels)\n",
    "    if self.normalize:\n",
    "      return librosa.util.normalize(mel)\n",
    "    else:\n",
    "      return mel\n",
    "    \n",
    "  def avgpooling(self, train_X, val_X, n_time, n_features):\n",
    "    \"\"\"\n",
    "    Average pooling the train and val features.\n",
    "\n",
    "    Parameters:\n",
    "      train_X (npy): Training feature array of shape (batch_size, n_features, n_time)\n",
    "      val_X (npy): Validation feature array of shape (batch_size, n_features, n_time)\n",
    "      n_time (int): Time axis\n",
    "      n_features (int): Feature axis\n",
    "\n",
    "    Returns:\n",
    "      train_X (npy): Avgpooled training feature array of shape (batch_size, n_features)\n",
    "      val_X (npy): Avgpooled validation feature array of shape (batch_size, n_features)\n",
    "    \"\"\"\n",
    "    # Clear the Keras session\n",
    "    tf.keras.backend.clear_session()\n",
    "    \n",
    "    # Create the Keras input layer with shape (n_features, n_time)\n",
    "    input_layer = tf.keras.layers.Input(shape=(n_features, n_time))\n",
    "    \n",
    "    # Apply average pooling over the time axis (axis=-1) to reduce n_time\n",
    "    avg_pool = tf.keras.layers.Lambda(lambda x: tf.reduce_mean(x, axis=-1))(input_layer)\n",
    "    \n",
    "    # Build the model\n",
    "    pooling_model = tf.keras.models.Model(inputs=input_layer, outputs=avg_pool)\n",
    "\n",
    "    # Use the model to apply average pooling on the training and validation features\n",
    "    train_X = pooling_model.predict(train_X)\n",
    "    val_X = pooling_model.predict(val_X)\n",
    "\n",
    "    return train_X, val_X\n",
    "\n",
    "    \n",
    "  def process_features(self, train_features_dict, val_features_dict):\n",
    "    for each in train_features_dict.keys():\n",
    "      \n",
    "      if each == 'mfcc':\n",
    "        n_features=self.n_mfcc\n",
    "      elif each == 'chroma':\n",
    "        n_features=self.n_chroma\n",
    "      elif each == 'rms':\n",
    "        n_features=1\n",
    "      elif each == 'melspectrogram':\n",
    "        n_features=self.n_mels\n",
    "      \n",
    "      train_feature = train_features_dict[each]\n",
    "      val_feature = val_features_dict[each]\n",
    "\n",
    "      if self.avgpool:\n",
    "        train_features_dict[each], val_features_dict[each] = self.avgpooling(train_feature, val_feature, n_time=train_feature.shape[2], n_features=n_features)\n",
    "      else:\n",
    "        train_features_dict[each], val_features_dict[each] = train_features_dict[each], val_features_dict[each]\n",
    "    \n",
    "    return train_features_dict, val_features_dict\n",
    "      \n",
    "\n",
    "  def feature_extraction(self, dataframe, window_size, filter=True):\n",
    "    y = [] # To hold the labels\n",
    "    features_dict = {item: [] for item in self.features} # Create a key for each feature listed\n",
    "    print(f\"Number of rows in dataframe: {len(dataframe)}\")\n",
    "    for _, row in tqdm(dataframe.iterrows(), desc=\"Processing data\", total=len(dataframe)):\n",
    "          label = row['species']\n",
    "          file_path = os.path.join(self.npy_path, row['filename_npy'])\n",
    "\n",
    "          try:\n",
    "            \n",
    "              audio = np.load(file_path)\n",
    "          except FileNotFoundError:\n",
    "              print(f\"File not found: {file_path}\")\n",
    "              continue\n",
    "\n",
    "\n",
    "          audio = self.normalize_audio(audio)\n",
    "\n",
    "          audio = self.pad_with_noise(audio, window_length=self.window_size, window_samples=len(audio))\n",
    "          # print(len(sample))\n",
    "\n",
    "          if filter:\n",
    "                  audio = self.bandpass_filter(audio)\n",
    "\n",
    "          window_samples = int(window_size * self.sr)\n",
    "          hop_samples = int(window_samples * (1 - self.overlap))  # For overlapping\n",
    "\n",
    "          # Break the audio into windows with the specified overlap\n",
    "          audio_windows = librosa.util.frame(audio, frame_length=window_samples, hop_length=hop_samples).T\n",
    "          \n",
    "          \n",
    "          # display(label)\n",
    "          \n",
    "          for _, window in enumerate(audio_windows):\n",
    "              \n",
    "              y.append(label)\n",
    "\n",
    "              if len(window) < window_samples:\n",
    "                  if len(window) < 512*2:\n",
    "                     continue\n",
    "                  else:\n",
    "                      window = self.pad_with_noise(window, window_length=window_size)\n",
    "              \n",
    "              # Feature Extraction FR --------------------------------------------------------------------\n",
    "              # dynatically call the extract_x function to extract the listed features\n",
    "              for feature in self.features:\n",
    "                extract = f\"extract_{feature}\"\n",
    "                if hasattr(self, extract) and callable(func := getattr(self, extract)):\n",
    "                  features_dict[feature].append(func(window))\n",
    "\n",
    "          # cast lists to np arrays\n",
    "    for each in features_dict.keys():\n",
    "              features_dict[each] = np.array(features_dict[each])\n",
    "\n",
    "    y = np.array(y)\n",
    "\n",
    "          # If not using average pooling, return resized features\n",
    "    return y, features_dict"
   ]
  },
  {
   "cell_type": "markdown",
   "metadata": {},
   "source": [
    "# **No Average Pooling**"
   ]
  },
  {
   "cell_type": "markdown",
   "metadata": {},
   "source": [
    "## **Window Size = 6s**"
   ]
  },
  {
   "cell_type": "markdown",
   "metadata": {},
   "source": [
    "### **['melspectrogram']**"
   ]
  },
  {
   "cell_type": "code",
   "execution_count": 16,
   "metadata": {},
   "outputs": [],
   "source": [
    "features_list = ['melspectrogram']"
   ]
  },
  {
   "cell_type": "code",
   "execution_count": 17,
   "metadata": {},
   "outputs": [
    {
     "name": "stdout",
     "output_type": "stream",
     "text": [
      "Train DataFrame shape: (485, 6)\n",
      "Validation DataFrame shape: (130, 6)\n",
      "Number of rows in dataframe: 485\n"
     ]
    },
    {
     "name": "stderr",
     "output_type": "stream",
     "text": [
      "Processing data: 100%|██████████| 485/485 [01:03<00:00,  7.63it/s]\n"
     ]
    },
    {
     "name": "stdout",
     "output_type": "stream",
     "text": [
      "Number of rows in dataframe: 130\n"
     ]
    },
    {
     "name": "stderr",
     "output_type": "stream",
     "text": [
      "Processing data: 100%|██████████| 130/130 [00:16<00:00,  8.12it/s]\n"
     ]
    }
   ],
   "source": [
    "features = Extraction(train_data,\n",
    "                      val_data,\n",
    "                      window_size=6,\n",
    "                      features=features_list,\n",
    "                      avgpool=False\n",
    "                      )"
   ]
  },
  {
   "cell_type": "code",
   "execution_count": 18,
   "metadata": {},
   "outputs": [
    {
     "data": {
      "text/plain": [
       "(7105,)"
      ]
     },
     "metadata": {},
     "output_type": "display_data"
    },
    {
     "data": {
      "text/plain": [
       "'melspectrogram'"
      ]
     },
     "metadata": {},
     "output_type": "display_data"
    },
    {
     "data": {
      "text/plain": [
       "(7105, 60, 259)"
      ]
     },
     "metadata": {},
     "output_type": "display_data"
    }
   ],
   "source": [
    "train_y = features.train_y\n",
    "display(train_y.shape)\n",
    "\n",
    "train_features = features.train_features\n",
    "for key in train_features.keys():\n",
    "  display(key)\n",
    "  display(train_features[key].shape)"
   ]
  },
  {
   "cell_type": "code",
   "execution_count": 19,
   "metadata": {},
   "outputs": [
    {
     "data": {
      "text/plain": [
       "array(['Acrocephalus melanopogon', 'Acrocephalus melanopogon',\n",
       "       'Acrocephalus melanopogon', ..., 'Anas strepera', 'Anas strepera',\n",
       "       'Anas strepera'], dtype='<U25')"
      ]
     },
     "execution_count": 19,
     "metadata": {},
     "output_type": "execute_result"
    }
   ],
   "source": [
    "train_y"
   ]
  },
  {
   "cell_type": "code",
   "execution_count": 20,
   "metadata": {},
   "outputs": [
    {
     "data": {
      "text/plain": [
       "(1896,)"
      ]
     },
     "metadata": {},
     "output_type": "display_data"
    },
    {
     "data": {
      "text/plain": [
       "'melspectrogram'"
      ]
     },
     "metadata": {},
     "output_type": "display_data"
    },
    {
     "data": {
      "text/plain": [
       "(1896, 60, 259)"
      ]
     },
     "metadata": {},
     "output_type": "display_data"
    }
   ],
   "source": [
    "val_y = features.val_y\n",
    "display(val_y.shape)\n",
    "\n",
    "val_features = features.val_features\n",
    "for key in val_features.keys():\n",
    "  display(key)\n",
    "  display(val_features[key].shape)"
   ]
  },
  {
   "cell_type": "markdown",
   "metadata": {},
   "source": [
    "### Encode Classes"
   ]
  },
  {
   "cell_type": "code",
   "execution_count": 21,
   "metadata": {},
   "outputs": [
    {
     "name": "stdout",
     "output_type": "stream",
     "text": [
      "Encoded classes for [0, 1, 2]: ['Acrocephalus arundinaceus', 'Acrocephalus melanopogon', 'Acrocephalus scirpaceus']\n",
      "Encoded training labels: [1 1 1 ... 5 5 5]\n",
      "Encoded validation labels: [1 1 1 ... 5 5 5]\n"
     ]
    }
   ],
   "source": [
    "label_encoder = LabelEncoder().fit(train_y)\n",
    "train_y_encoded = label_encoder.transform(train_y)\n",
    "val_y_encoded = label_encoder.transform(val_y)\n",
    "\n",
    "classes = list(label_encoder.inverse_transform([0, 1, 2]))\n",
    "print(\"Encoded classes for [0, 1, 2]:\", classes)\n",
    "print(\"Encoded training labels:\", train_y_encoded)\n",
    "print(\"Encoded validation labels:\", val_y_encoded)"
   ]
  },
  {
   "cell_type": "code",
   "execution_count": 22,
   "metadata": {},
   "outputs": [
    {
     "data": {
      "text/plain": [
       "7105"
      ]
     },
     "metadata": {},
     "output_type": "display_data"
    },
    {
     "data": {
      "text/plain": [
       "array(['Acrocephalus melanopogon', 'Acrocephalus melanopogon',\n",
       "       'Acrocephalus melanopogon', 'Acrocephalus melanopogon',\n",
       "       'Acrocephalus melanopogon', 'Acrocephalus melanopogon',\n",
       "       'Acrocephalus melanopogon', 'Acrocephalus melanopogon',\n",
       "       'Acrocephalus melanopogon', 'Acrocephalus melanopogon'],\n",
       "      dtype='<U25')"
      ]
     },
     "metadata": {},
     "output_type": "display_data"
    },
    {
     "data": {
      "text/plain": [
       "1896"
      ]
     },
     "metadata": {},
     "output_type": "display_data"
    },
    {
     "data": {
      "text/plain": [
       "array(['Acrocephalus melanopogon', 'Acrocephalus melanopogon',\n",
       "       'Acrocephalus melanopogon', 'Acrocephalus melanopogon',\n",
       "       'Acrocephalus melanopogon', 'Acrocephalus melanopogon',\n",
       "       'Acrocephalus melanopogon', 'Acrocephalus melanopogon',\n",
       "       'Acrocephalus melanopogon', 'Acrocephalus melanopogon'],\n",
       "      dtype='<U25')"
      ]
     },
     "metadata": {},
     "output_type": "display_data"
    }
   ],
   "source": [
    "display(len(train_y))\n",
    "display(train_y[:10])\n",
    "\n",
    "display(len(val_y))\n",
    "display(val_y[:10])"
   ]
  },
  {
   "cell_type": "code",
   "execution_count": 23,
   "metadata": {},
   "outputs": [],
   "source": [
    "train_features['label'] = train_y_encoded\n",
    "val_features['label'] = val_y_encoded"
   ]
  },
  {
   "cell_type": "code",
   "execution_count": 24,
   "metadata": {},
   "outputs": [
    {
     "data": {
      "text/plain": [
       "{'train': {'melspectrogram': array([[[2.70414866e-03, 2.79165306e-04, 2.78151976e-06, ...,\n",
       "           2.09090982e-14, 1.00035500e-07, 4.10201886e-06],\n",
       "          [2.85087147e-03, 2.95306839e-04, 3.42857310e-06, ...,\n",
       "           2.42591675e-14, 1.00793242e-07, 4.13385302e-06],\n",
       "          [3.04498922e-03, 3.15533762e-04, 4.71718391e-06, ...,\n",
       "           3.06456201e-14, 1.02097112e-07, 4.18868937e-06],\n",
       "          ...,\n",
       "          [4.71950382e-06, 6.96979924e-07, 9.83989841e-06, ...,\n",
       "           4.76671411e-08, 2.59462464e-08, 1.32848568e-07],\n",
       "          [4.43196142e-06, 4.70733005e-07, 1.06044568e-07, ...,\n",
       "           2.24950763e-10, 2.39690650e-09, 9.34205219e-08],\n",
       "          [4.34125244e-06, 4.54310514e-07, 3.83112779e-09, ...,\n",
       "           6.16144049e-13, 1.95562647e-09, 8.06973052e-08]],\n",
       "  \n",
       "         [[1.73426295e-05, 3.63408438e-06, 4.80290598e-13, ...,\n",
       "           1.60876280e-14, 7.00188949e-08, 1.07775013e-06],\n",
       "          [1.84753151e-05, 3.87795431e-06, 5.39064175e-13, ...,\n",
       "           2.48021127e-14, 7.05198033e-08, 1.08664800e-06],\n",
       "          [2.04588793e-05, 4.30499024e-06, 6.48974409e-13, ...,\n",
       "           4.23482850e-14, 7.14385292e-08, 1.10314929e-06],\n",
       "          ...,\n",
       "          [3.96494239e-05, 1.00302657e-05, 1.57459005e-06, ...,\n",
       "           4.01477919e-08, 4.75987657e-06, 7.04755487e-05],\n",
       "          [3.67085359e-05, 7.86056852e-06, 1.57349826e-08, ...,\n",
       "           1.53969906e-10, 4.29632397e-06, 6.42517428e-05],\n",
       "          [3.50700349e-05, 7.49661568e-06, 6.95534630e-12, ...,\n",
       "           2.00168533e-13, 4.05157044e-06, 6.05970857e-05]],\n",
       "  \n",
       "         [[1.39905270e-03, 1.33439757e-04, 5.75273763e-13, ...,\n",
       "           5.89841679e-15, 2.38372515e-06, 6.72347600e-05],\n",
       "          [1.40995976e-03, 1.34493797e-04, 7.78146365e-13, ...,\n",
       "           5.89168719e-15, 2.39343733e-06, 6.75112785e-05],\n",
       "          [1.42874367e-03, 1.36310827e-04, 1.17197668e-12, ...,\n",
       "           5.91434109e-15, 2.40969361e-06, 6.79760697e-05],\n",
       "          ...,\n",
       "          [4.59703481e-05, 7.59484151e-06, 3.31000770e-06, ...,\n",
       "           2.19214266e-07, 4.23863572e-07, 4.99294751e-06],\n",
       "          [3.20205388e-05, 3.08347345e-06, 2.79666755e-08, ...,\n",
       "           4.69631745e-10, 1.64111417e-07, 4.64225419e-06],\n",
       "          [2.75633313e-05, 2.63967036e-06, 1.70151279e-11, ...,\n",
       "           6.40257895e-13, 1.57878817e-07, 4.48530469e-06]],\n",
       "  \n",
       "         ...,\n",
       "  \n",
       "         [[5.06434348e-05, 9.09517381e-06, 1.52639599e-14, ...,\n",
       "           5.69565579e-13, 2.31836661e-06, 1.23076619e-04],\n",
       "          [5.55218977e-05, 1.00320887e-05, 2.95995962e-14, ...,\n",
       "           6.60314978e-13, 2.35852713e-06, 1.25182668e-04],\n",
       "          [6.37263562e-05, 1.16083006e-05, 1.14836980e-13, ...,\n",
       "           9.92855998e-13, 2.42734571e-06, 1.28778994e-04],\n",
       "          ...,\n",
       "          [2.96187718e-04, 5.68894053e-05, 1.47466885e-09, ...,\n",
       "           4.53442650e-08, 4.78775768e-07, 4.50262898e-06],\n",
       "          [2.84664897e-04, 5.46768209e-05, 6.64319276e-12, ...,\n",
       "           5.44945204e-11, 4.76368422e-08, 2.45046971e-06],\n",
       "          [2.77596122e-04, 5.33190259e-05, 5.50000942e-15, ...,\n",
       "           2.03706242e-14, 4.04135928e-08, 2.11266646e-06]],\n",
       "  \n",
       "         [[5.56861646e-05, 7.75421187e-06, 5.67162777e-13, ...,\n",
       "           2.99704819e-12, 2.66991946e-06, 9.18656481e-05],\n",
       "          [5.57014747e-05, 7.76113961e-06, 6.57309546e-13, ...,\n",
       "           3.33602974e-12, 2.74875521e-06, 9.43955498e-05],\n",
       "          [5.57237387e-05, 7.77350195e-06, 1.14769264e-12, ...,\n",
       "           7.37023754e-12, 2.88360077e-06, 9.86423159e-05],\n",
       "          ...,\n",
       "          [2.85943282e-05, 3.87109110e-06, 1.40175530e-08, ...,\n",
       "           1.93152139e-06, 2.60577479e-06, 1.51937388e-05],\n",
       "          [2.71836699e-05, 3.67603141e-06, 6.09528175e-11, ...,\n",
       "           4.58665303e-09, 4.21866406e-07, 1.38566840e-05],\n",
       "          [2.63366889e-05, 3.56136722e-06, 6.45853468e-14, ...,\n",
       "           1.32588386e-11, 4.00097029e-07, 1.33085883e-05]],\n",
       "  \n",
       "         [[5.08842227e-05, 4.11923279e-06, 1.80624602e-13, ...,\n",
       "           1.22436387e-13, 7.28907259e-06, 1.16067580e-04],\n",
       "          [5.17514505e-05, 4.18895742e-06, 2.00314317e-13, ...,\n",
       "           5.55760340e-13, 7.35569525e-06, 1.17167682e-04],\n",
       "          [5.32323621e-05, 4.30770062e-06, 2.87563927e-13, ...,\n",
       "           1.49348624e-11, 7.46034943e-06, 1.18888211e-04],\n",
       "          ...,\n",
       "          [1.82674126e-06, 3.97582696e-07, 1.90684223e-07, ...,\n",
       "           1.31639087e-06, 1.34078768e-06, 4.33230117e-06],\n",
       "          [9.93346823e-07, 8.12699815e-08, 1.61171735e-09, ...,\n",
       "           1.50839142e-08, 1.99053998e-07, 3.10586924e-06],\n",
       "          [8.70749282e-07, 6.98577905e-08, 6.69438056e-13, ...,\n",
       "           1.15469170e-11, 1.62286066e-07, 2.63052798e-06]]]),\n",
       "  'label': array([1, 1, 1, ..., 5, 5, 5])},\n",
       " 'val': {'melspectrogram': array([[[3.20727065e-05, 1.70512106e-06, 1.61698192e-11, ...,\n",
       "           6.99078403e-15, 9.09006570e-05, 4.15736281e-04],\n",
       "          [3.22422717e-05, 1.71387116e-06, 1.71018208e-11, ...,\n",
       "           7.35246074e-15, 9.10404223e-05, 4.16374167e-04],\n",
       "          [3.25622734e-05, 1.73066317e-06, 2.72505511e-11, ...,\n",
       "           8.27085953e-15, 9.12738954e-05, 4.17439906e-04],\n",
       "          ...,\n",
       "          [5.14212831e-05, 6.76458209e-06, 2.39359128e-06, ...,\n",
       "           1.27000189e-09, 6.52113586e-06, 2.99078099e-05],\n",
       "          [3.93156198e-05, 2.11725020e-06, 1.69905801e-08, ...,\n",
       "           8.64497294e-12, 5.84504725e-06, 2.68147563e-05],\n",
       "          [3.57245249e-05, 1.90032216e-06, 7.52069991e-12, ...,\n",
       "           5.09266877e-15, 5.44659452e-06, 2.49888465e-05]],\n",
       "  \n",
       "         [[4.32216167e-05, 1.06441040e-05, 5.35616229e-14, ...,\n",
       "           1.22390666e-15, 9.81753704e-07, 7.84455117e-05],\n",
       "          [4.38289053e-05, 1.07966869e-05, 5.72430310e-14, ...,\n",
       "           1.38323235e-15, 9.84363301e-07, 7.86690257e-05],\n",
       "          [4.48509481e-05, 1.10535462e-05, 6.44837344e-14, ...,\n",
       "           2.30541879e-15, 9.89100611e-07, 7.90444729e-05],\n",
       "          ...,\n",
       "          [1.65377342e-04, 4.14041947e-05, 4.28108612e-09, ...,\n",
       "           1.08349139e-09, 7.13780353e-08, 4.90441071e-06],\n",
       "          [1.55668963e-04, 3.89724709e-05, 1.22159692e-11, ...,\n",
       "           7.01587187e-12, 6.19931675e-08, 4.92205459e-06],\n",
       "          [1.49847184e-04, 3.75147347e-05, 1.57571033e-14, ...,\n",
       "           3.46565216e-15, 6.16604896e-08, 4.89650250e-06]],\n",
       "  \n",
       "         [[1.38927692e-04, 3.73340197e-05, 2.31414740e-14, ...,\n",
       "           1.44602135e-15, 1.54577526e-06, 2.46019279e-05],\n",
       "          [1.39140752e-04, 3.73912040e-05, 2.33982592e-14, ...,\n",
       "           1.72776902e-15, 1.54839888e-06, 2.46440843e-05],\n",
       "          [1.39496761e-04, 3.74867442e-05, 2.45355225e-14, ...,\n",
       "           3.61964461e-15, 1.55279160e-06, 2.47145718e-05],\n",
       "          ...,\n",
       "          [1.00004560e-05, 2.69248110e-06, 6.55983400e-10, ...,\n",
       "           1.91234928e-09, 9.63909150e-07, 1.54465206e-05],\n",
       "          [8.96621221e-06, 2.41407134e-06, 2.13633533e-12, ...,\n",
       "           8.59856703e-12, 9.01459447e-07, 1.44675063e-05],\n",
       "          [8.35582884e-06, 2.24984669e-06, 3.16834660e-15, ...,\n",
       "           9.78408366e-15, 8.64688978e-07, 1.38790515e-05]],\n",
       "  \n",
       "         ...,\n",
       "  \n",
       "         [[5.85685885e-06, 6.45287035e-07, 1.01928568e-12, ...,\n",
       "           4.14132927e-14, 2.52466254e-04, 3.73900307e-03],\n",
       "          [6.64906224e-06, 7.28075395e-07, 1.16348655e-12, ...,\n",
       "           7.54129709e-14, 2.53894745e-04, 3.76002988e-03],\n",
       "          [8.08529440e-06, 8.78169977e-07, 1.45529703e-12, ...,\n",
       "           2.59712300e-13, 2.56293834e-04, 3.79535250e-03],\n",
       "          ...,\n",
       "          [4.95372932e-05, 5.29086241e-06, 1.22242434e-15, ...,\n",
       "           1.83764816e-08, 5.61301721e-06, 8.34868620e-05],\n",
       "          [4.71100085e-05, 5.03203802e-06, 1.80135151e-14, ...,\n",
       "           1.01521132e-10, 5.28826148e-06, 7.87342156e-05],\n",
       "          [4.56486621e-05, 4.87608923e-06, 1.22029272e-15, ...,\n",
       "           8.35177462e-14, 5.09690081e-06, 7.58873318e-05]],\n",
       "  \n",
       "         [[4.23283280e-04, 6.53650051e-05, 4.62698290e-13, ...,\n",
       "           5.98409383e-15, 7.17400242e-06, 1.47156986e-04],\n",
       "          [4.26951456e-04, 6.59205835e-05, 4.81440644e-13, ...,\n",
       "           2.35676114e-14, 7.22966105e-06, 1.48335237e-04],\n",
       "          [4.33117279e-04, 6.68527595e-05, 5.13051426e-13, ...,\n",
       "           6.48273492e-14, 7.32293780e-06, 1.50313838e-04],\n",
       "          ...,\n",
       "          [2.69235020e-05, 4.12765938e-06, 1.32721433e-09, ...,\n",
       "           5.79256732e-12, 1.50922571e-08, 3.05643743e-07],\n",
       "          [2.58037485e-05, 3.95543505e-06, 7.75124832e-12, ...,\n",
       "           2.40201079e-12, 1.42548845e-08, 2.89060788e-07],\n",
       "          [2.51270802e-05, 3.85166562e-06, 1.08110254e-15, ...,\n",
       "           3.42698994e-16, 1.38444811e-08, 2.80715988e-07]],\n",
       "  \n",
       "         [[2.97158252e-03, 2.85226650e-04, 4.52995963e-13, ...,\n",
       "           4.84470662e-14, 5.84296734e-05, 1.70908113e-03],\n",
       "          [2.98828107e-03, 2.86823808e-04, 4.97379536e-13, ...,\n",
       "           5.45144784e-14, 5.91099166e-05, 1.72915237e-03],\n",
       "          [3.01631448e-03, 2.89505767e-04, 5.77359655e-13, ...,\n",
       "           7.53752136e-14, 6.02711945e-05, 1.76340203e-03],\n",
       "          ...,\n",
       "          [6.64369358e-05, 6.39903299e-06, 3.32201681e-10, ...,\n",
       "           8.51727042e-10, 9.32834658e-07, 2.68121931e-05],\n",
       "          [6.26423131e-05, 6.03302597e-06, 5.71884228e-12, ...,\n",
       "           3.69160296e-13, 8.88846173e-07, 2.56327751e-05],\n",
       "          [6.03767730e-05, 5.81491758e-06, 7.10682441e-15, ...,\n",
       "           3.65576162e-15, 8.64249566e-07, 2.49212923e-05]]]),\n",
       "  'label': array([1, 1, 1, ..., 5, 5, 5])}}"
      ]
     },
     "execution_count": 24,
     "metadata": {},
     "output_type": "execute_result"
    }
   ],
   "source": [
    "merged_dict = {'train': train_features, 'val': val_features}\n",
    "merged_dict"
   ]
  },
  {
   "cell_type": "markdown",
   "metadata": {},
   "source": [
    "### Save the merged dictionary to a pkl"
   ]
  },
  {
   "cell_type": "code",
   "execution_count": 25,
   "metadata": {},
   "outputs": [],
   "source": [
    "with open('C:/Users/thato/Documents/Final-Year-Project/Dataset/Project-V4/feature-extraction/NotAnnotated/NotAveragePooled/split_features_6s_mel.pkl', 'wb') as file:\n",
    "  pickle.dump(merged_dict, file)"
   ]
  },
  {
   "cell_type": "markdown",
   "metadata": {},
   "source": [
    "### **['melspectrogram', 'mfcc']**"
   ]
  },
  {
   "cell_type": "code",
   "execution_count": 26,
   "metadata": {},
   "outputs": [],
   "source": [
    "features_list = ['melspectrogram', 'mfcc']"
   ]
  },
  {
   "cell_type": "code",
   "execution_count": 27,
   "metadata": {},
   "outputs": [
    {
     "name": "stdout",
     "output_type": "stream",
     "text": [
      "Train DataFrame shape: (485, 6)\n",
      "Validation DataFrame shape: (130, 6)\n",
      "Number of rows in dataframe: 485\n"
     ]
    },
    {
     "name": "stderr",
     "output_type": "stream",
     "text": [
      "Processing data: 100%|██████████| 485/485 [03:27<00:00,  2.34it/s]\n"
     ]
    },
    {
     "name": "stdout",
     "output_type": "stream",
     "text": [
      "Number of rows in dataframe: 130\n"
     ]
    },
    {
     "name": "stderr",
     "output_type": "stream",
     "text": [
      "Processing data: 100%|██████████| 130/130 [00:31<00:00,  4.13it/s]\n"
     ]
    }
   ],
   "source": [
    "features = Extraction(train_data,\n",
    "                      val_data,\n",
    "                      window_size=6,\n",
    "                      features=features_list,\n",
    "                      avgpool=False\n",
    "                      )"
   ]
  },
  {
   "cell_type": "code",
   "execution_count": 28,
   "metadata": {},
   "outputs": [
    {
     "data": {
      "text/plain": [
       "(7105,)"
      ]
     },
     "metadata": {},
     "output_type": "display_data"
    },
    {
     "data": {
      "text/plain": [
       "'melspectrogram'"
      ]
     },
     "metadata": {},
     "output_type": "display_data"
    },
    {
     "data": {
      "text/plain": [
       "(7105, 60, 259)"
      ]
     },
     "metadata": {},
     "output_type": "display_data"
    },
    {
     "data": {
      "text/plain": [
       "'mfcc'"
      ]
     },
     "metadata": {},
     "output_type": "display_data"
    },
    {
     "data": {
      "text/plain": [
       "(7105, 20, 259)"
      ]
     },
     "metadata": {},
     "output_type": "display_data"
    }
   ],
   "source": [
    "train_y = features.train_y\n",
    "display(train_y.shape)\n",
    "\n",
    "train_features = features.train_features\n",
    "for key in train_features.keys():\n",
    "  display(key)\n",
    "  display(train_features[key].shape)"
   ]
  },
  {
   "cell_type": "code",
   "execution_count": 29,
   "metadata": {},
   "outputs": [
    {
     "data": {
      "text/plain": [
       "(1896,)"
      ]
     },
     "metadata": {},
     "output_type": "display_data"
    },
    {
     "data": {
      "text/plain": [
       "'melspectrogram'"
      ]
     },
     "metadata": {},
     "output_type": "display_data"
    },
    {
     "data": {
      "text/plain": [
       "(1896, 60, 259)"
      ]
     },
     "metadata": {},
     "output_type": "display_data"
    },
    {
     "data": {
      "text/plain": [
       "'mfcc'"
      ]
     },
     "metadata": {},
     "output_type": "display_data"
    },
    {
     "data": {
      "text/plain": [
       "(1896, 20, 259)"
      ]
     },
     "metadata": {},
     "output_type": "display_data"
    }
   ],
   "source": [
    "val_y = features.val_y\n",
    "display(val_y.shape)\n",
    "\n",
    "val_features = features.val_features\n",
    "for key in val_features.keys():\n",
    "  display(key)\n",
    "  display(val_features[key].shape)"
   ]
  },
  {
   "cell_type": "markdown",
   "metadata": {},
   "source": [
    "### Encode Classes"
   ]
  },
  {
   "cell_type": "code",
   "execution_count": 30,
   "metadata": {},
   "outputs": [
    {
     "name": "stdout",
     "output_type": "stream",
     "text": [
      "Encoded classes for [0, 1, 2]: ['Acrocephalus arundinaceus', 'Acrocephalus melanopogon', 'Acrocephalus scirpaceus']\n",
      "Encoded training labels: [1 1 1 ... 5 5 5]\n",
      "Encoded validation labels: [1 1 1 ... 5 5 5]\n"
     ]
    }
   ],
   "source": [
    "label_encoder = LabelEncoder().fit(train_y)\n",
    "train_y_encoded = label_encoder.transform(train_y)\n",
    "val_y_encoded = label_encoder.transform(val_y)\n",
    "\n",
    "classes = list(label_encoder.inverse_transform([0, 1, 2]))\n",
    "print(\"Encoded classes for [0, 1, 2]:\", classes)\n",
    "print(\"Encoded training labels:\", train_y_encoded)\n",
    "print(\"Encoded validation labels:\", val_y_encoded)"
   ]
  },
  {
   "cell_type": "code",
   "execution_count": 31,
   "metadata": {},
   "outputs": [
    {
     "data": {
      "text/plain": [
       "7105"
      ]
     },
     "metadata": {},
     "output_type": "display_data"
    },
    {
     "data": {
      "text/plain": [
       "array(['Acrocephalus melanopogon', 'Acrocephalus melanopogon',\n",
       "       'Acrocephalus melanopogon', 'Acrocephalus melanopogon',\n",
       "       'Acrocephalus melanopogon', 'Acrocephalus melanopogon',\n",
       "       'Acrocephalus melanopogon', 'Acrocephalus melanopogon',\n",
       "       'Acrocephalus melanopogon', 'Acrocephalus melanopogon'],\n",
       "      dtype='<U25')"
      ]
     },
     "metadata": {},
     "output_type": "display_data"
    },
    {
     "data": {
      "text/plain": [
       "1896"
      ]
     },
     "metadata": {},
     "output_type": "display_data"
    },
    {
     "data": {
      "text/plain": [
       "array(['Acrocephalus melanopogon', 'Acrocephalus melanopogon',\n",
       "       'Acrocephalus melanopogon', 'Acrocephalus melanopogon',\n",
       "       'Acrocephalus melanopogon', 'Acrocephalus melanopogon',\n",
       "       'Acrocephalus melanopogon', 'Acrocephalus melanopogon',\n",
       "       'Acrocephalus melanopogon', 'Acrocephalus melanopogon'],\n",
       "      dtype='<U25')"
      ]
     },
     "metadata": {},
     "output_type": "display_data"
    }
   ],
   "source": [
    "display(len(train_y))\n",
    "display(train_y[:10])\n",
    "\n",
    "display(len(val_y))\n",
    "display(val_y[:10])"
   ]
  },
  {
   "cell_type": "code",
   "execution_count": 32,
   "metadata": {},
   "outputs": [],
   "source": [
    "train_features['label'] = train_y_encoded\n",
    "val_features['label'] = val_y_encoded"
   ]
  },
  {
   "cell_type": "code",
   "execution_count": 33,
   "metadata": {},
   "outputs": [
    {
     "data": {
      "text/plain": [
       "{'train': {'melspectrogram': array([[[2.70414866e-03, 2.79165306e-04, 2.78151976e-06, ...,\n",
       "           2.09090982e-14, 1.00035500e-07, 4.10201886e-06],\n",
       "          [2.85087147e-03, 2.95306839e-04, 3.42857310e-06, ...,\n",
       "           2.42591675e-14, 1.00793242e-07, 4.13385302e-06],\n",
       "          [3.04498922e-03, 3.15533762e-04, 4.71718391e-06, ...,\n",
       "           3.06456201e-14, 1.02097112e-07, 4.18868937e-06],\n",
       "          ...,\n",
       "          [4.71950382e-06, 6.96979924e-07, 9.83989841e-06, ...,\n",
       "           4.76671411e-08, 2.59462464e-08, 1.32848568e-07],\n",
       "          [4.43196142e-06, 4.70733005e-07, 1.06044568e-07, ...,\n",
       "           2.24950763e-10, 2.39690650e-09, 9.34205219e-08],\n",
       "          [4.34125244e-06, 4.54310514e-07, 3.83112779e-09, ...,\n",
       "           6.16144049e-13, 1.95562647e-09, 8.06973052e-08]],\n",
       "  \n",
       "         [[1.73426295e-05, 3.63408438e-06, 4.80290598e-13, ...,\n",
       "           1.60876280e-14, 7.00188949e-08, 1.07775013e-06],\n",
       "          [1.84753151e-05, 3.87795431e-06, 5.39064175e-13, ...,\n",
       "           2.48021127e-14, 7.05198033e-08, 1.08664800e-06],\n",
       "          [2.04588793e-05, 4.30499024e-06, 6.48974409e-13, ...,\n",
       "           4.23482850e-14, 7.14385292e-08, 1.10314929e-06],\n",
       "          ...,\n",
       "          [3.96494239e-05, 1.00302657e-05, 1.57459005e-06, ...,\n",
       "           4.01477919e-08, 4.75987657e-06, 7.04755487e-05],\n",
       "          [3.67085359e-05, 7.86056852e-06, 1.57349826e-08, ...,\n",
       "           1.53969906e-10, 4.29632397e-06, 6.42517428e-05],\n",
       "          [3.50700349e-05, 7.49661568e-06, 6.95534630e-12, ...,\n",
       "           2.00168533e-13, 4.05157044e-06, 6.05970857e-05]],\n",
       "  \n",
       "         [[1.39905270e-03, 1.33439757e-04, 5.75273763e-13, ...,\n",
       "           5.89841679e-15, 2.38372515e-06, 6.72347600e-05],\n",
       "          [1.40995976e-03, 1.34493797e-04, 7.78146365e-13, ...,\n",
       "           5.89168719e-15, 2.39343733e-06, 6.75112785e-05],\n",
       "          [1.42874367e-03, 1.36310827e-04, 1.17197668e-12, ...,\n",
       "           5.91434109e-15, 2.40969361e-06, 6.79760697e-05],\n",
       "          ...,\n",
       "          [4.59703481e-05, 7.59484151e-06, 3.31000770e-06, ...,\n",
       "           2.19214266e-07, 4.23863572e-07, 4.99294751e-06],\n",
       "          [3.20205388e-05, 3.08347345e-06, 2.79666755e-08, ...,\n",
       "           4.69631745e-10, 1.64111417e-07, 4.64225419e-06],\n",
       "          [2.75633313e-05, 2.63967036e-06, 1.70151279e-11, ...,\n",
       "           6.40257895e-13, 1.57878817e-07, 4.48530469e-06]],\n",
       "  \n",
       "         ...,\n",
       "  \n",
       "         [[5.06434348e-05, 9.09517381e-06, 1.52639599e-14, ...,\n",
       "           5.69565579e-13, 2.31836661e-06, 1.23076619e-04],\n",
       "          [5.55218977e-05, 1.00320887e-05, 2.95995962e-14, ...,\n",
       "           6.60314978e-13, 2.35852713e-06, 1.25182668e-04],\n",
       "          [6.37263562e-05, 1.16083006e-05, 1.14836980e-13, ...,\n",
       "           9.92855998e-13, 2.42734571e-06, 1.28778994e-04],\n",
       "          ...,\n",
       "          [2.96187718e-04, 5.68894053e-05, 1.47466885e-09, ...,\n",
       "           4.53442650e-08, 4.78775768e-07, 4.50262898e-06],\n",
       "          [2.84664897e-04, 5.46768209e-05, 6.64319276e-12, ...,\n",
       "           5.44945204e-11, 4.76368422e-08, 2.45046971e-06],\n",
       "          [2.77596122e-04, 5.33190259e-05, 5.50000942e-15, ...,\n",
       "           2.03706242e-14, 4.04135928e-08, 2.11266646e-06]],\n",
       "  \n",
       "         [[5.56861646e-05, 7.75421187e-06, 5.67162777e-13, ...,\n",
       "           2.99704819e-12, 2.66991946e-06, 9.18656481e-05],\n",
       "          [5.57014747e-05, 7.76113961e-06, 6.57309546e-13, ...,\n",
       "           3.33602974e-12, 2.74875521e-06, 9.43955498e-05],\n",
       "          [5.57237387e-05, 7.77350195e-06, 1.14769264e-12, ...,\n",
       "           7.37023754e-12, 2.88360077e-06, 9.86423159e-05],\n",
       "          ...,\n",
       "          [2.85943282e-05, 3.87109110e-06, 1.40175530e-08, ...,\n",
       "           1.93152139e-06, 2.60577479e-06, 1.51937388e-05],\n",
       "          [2.71836699e-05, 3.67603141e-06, 6.09528175e-11, ...,\n",
       "           4.58665303e-09, 4.21866406e-07, 1.38566840e-05],\n",
       "          [2.63366889e-05, 3.56136722e-06, 6.45853468e-14, ...,\n",
       "           1.32588386e-11, 4.00097029e-07, 1.33085883e-05]],\n",
       "  \n",
       "         [[5.08842227e-05, 4.11923279e-06, 1.80624602e-13, ...,\n",
       "           1.22436387e-13, 7.28907259e-06, 1.16067580e-04],\n",
       "          [5.17514505e-05, 4.18895742e-06, 2.00314317e-13, ...,\n",
       "           5.55760340e-13, 7.35569525e-06, 1.17167682e-04],\n",
       "          [5.32323621e-05, 4.30770062e-06, 2.87563927e-13, ...,\n",
       "           1.49348624e-11, 7.46034943e-06, 1.18888211e-04],\n",
       "          ...,\n",
       "          [1.82674126e-06, 3.97582696e-07, 1.90684223e-07, ...,\n",
       "           1.31639087e-06, 1.34078768e-06, 4.33230117e-06],\n",
       "          [9.93346823e-07, 8.12699815e-08, 1.61171735e-09, ...,\n",
       "           1.50839142e-08, 1.99053998e-07, 3.10586924e-06],\n",
       "          [8.70749282e-07, 6.98577905e-08, 6.69438056e-13, ...,\n",
       "           1.15469170e-11, 1.62286066e-07, 2.63052798e-06]]]),\n",
       "  'mfcc': array([[[-1.        , -1.        , -1.        , ..., -1.        ,\n",
       "           -1.        , -1.        ],\n",
       "          [ 0.        ,  0.        ,  0.        , ..., -0.17373779,\n",
       "           -0.15781579, -0.05468241],\n",
       "          [ 0.        ,  0.        ,  0.        , ..., -0.39485264,\n",
       "           -0.38463603, -0.29000239],\n",
       "          ...,\n",
       "          [ 0.        ,  0.        ,  0.        , ...,  0.02551025,\n",
       "            0.0194228 ,  0.00951044],\n",
       "          [ 0.        ,  0.        ,  0.        , ...,  0.04056614,\n",
       "            0.05098266,  0.05237005],\n",
       "          [ 0.        ,  0.        ,  0.        , ..., -0.02892263,\n",
       "           -0.0435002 , -0.03670363]],\n",
       "  \n",
       "         [[-1.        , -1.        , -1.        , ..., -1.        ,\n",
       "           -1.        , -1.        ],\n",
       "          [-0.1250103 , -0.14365384, -0.14427565, ..., -0.14800547,\n",
       "           -0.27352785, -0.32687188],\n",
       "          [-0.29100875, -0.34141116, -0.34730072, ..., -0.35557446,\n",
       "           -0.33805607, -0.27873464],\n",
       "          ...,\n",
       "          [ 0.00269876, -0.00462969, -0.01050022, ..., -0.01653787,\n",
       "           -0.03339773, -0.03757058],\n",
       "          [ 0.00400064,  0.00574322,  0.00192427, ...,  0.01209587,\n",
       "            0.02777838,  0.02106539],\n",
       "          [-0.00302651, -0.00398999, -0.00612853, ...,  0.02050334,\n",
       "            0.02001798,  0.02699105]],\n",
       "  \n",
       "         [[-1.        , -1.        , -1.        , ..., -1.        ,\n",
       "           -1.        , -1.        ],\n",
       "          [-0.02042024, -0.08514001, -0.12648469, ..., -0.19249881,\n",
       "           -0.13378753, -0.03346993],\n",
       "          [-0.22455168, -0.28027467, -0.31234968, ..., -0.37973282,\n",
       "           -0.33874314, -0.23838497],\n",
       "          ...,\n",
       "          [ 0.00641527,  0.00341021, -0.00260231, ..., -0.03104352,\n",
       "           -0.03002155, -0.03346619],\n",
       "          [ 0.03143024,  0.02779777,  0.03388032, ...,  0.0102597 ,\n",
       "            0.02296281,  0.01447938],\n",
       "          [-0.02621753, -0.02771605, -0.03030736, ...,  0.02567885,\n",
       "            0.01756717,  0.02173806]],\n",
       "  \n",
       "         ...,\n",
       "  \n",
       "         [[-1.        , -1.        , -1.        , ..., -1.        ,\n",
       "           -1.        , -1.        ],\n",
       "          [-0.11279961, -0.09692901, -0.08578303, ..., -0.1176853 ,\n",
       "           -0.13632333, -0.06050285],\n",
       "          [-0.49731987, -0.55674417, -0.59895944, ..., -0.64550887,\n",
       "           -0.54392418, -0.4458609 ],\n",
       "          ...,\n",
       "          [ 0.01744117,  0.01418096, -0.02485191, ..., -0.0062013 ,\n",
       "           -0.00940606, -0.00931153],\n",
       "          [-0.03885929, -0.02161129, -0.00516484, ..., -0.00586994,\n",
       "           -0.00590585,  0.00410327],\n",
       "          [-0.02937522, -0.00585464, -0.01466625, ..., -0.04743522,\n",
       "           -0.04039878, -0.02412593]],\n",
       "  \n",
       "         [[-1.        , -1.        , -1.        , ..., -1.        ,\n",
       "           -1.        , -1.        ],\n",
       "          [ 0.02975485,  0.0212539 ,  0.00443176, ..., -0.03201306,\n",
       "           -0.02572209,  0.03827351],\n",
       "          [-0.38589112, -0.44974588, -0.47539009, ..., -0.28333064,\n",
       "           -0.26789213, -0.21379362],\n",
       "          ...,\n",
       "          [ 0.00130686, -0.00482763, -0.0050046 , ..., -0.01117125,\n",
       "           -0.01056705, -0.00358769],\n",
       "          [-0.01129816, -0.01124566, -0.00370088, ...,  0.00727175,\n",
       "            0.00299851,  0.0038515 ],\n",
       "          [-0.02025784, -0.01979136, -0.02186905, ..., -0.02604713,\n",
       "           -0.01868253, -0.00498709]],\n",
       "  \n",
       "         [[-1.        , -1.        , -1.        , ..., -1.        ,\n",
       "           -1.        , -1.        ],\n",
       "          [-0.0429573 , -0.09994193, -0.18008914, ..., -0.02071375,\n",
       "           -0.00175443,  0.00660948],\n",
       "          [-0.46330191, -0.58651592, -0.6687421 , ..., -0.18496168,\n",
       "           -0.1864368 , -0.16813055],\n",
       "          ...,\n",
       "          [ 0.00294732,  0.01416223, -0.00517411, ...,  0.00539114,\n",
       "            0.00391434,  0.00583776],\n",
       "          [ 0.00588758,  0.01734421,  0.00714383, ...,  0.02321898,\n",
       "            0.01662294,  0.01354547],\n",
       "          [-0.02734336, -0.03985411, -0.05648294, ..., -0.00336891,\n",
       "           -0.01338007, -0.01864067]]]),\n",
       "  'label': array([1, 1, 1, ..., 5, 5, 5])},\n",
       " 'val': {'melspectrogram': array([[[3.20727065e-05, 1.70512106e-06, 1.61698192e-11, ...,\n",
       "           6.99078403e-15, 9.09006570e-05, 4.15736281e-04],\n",
       "          [3.22422717e-05, 1.71387116e-06, 1.71018208e-11, ...,\n",
       "           7.35246074e-15, 9.10404223e-05, 4.16374167e-04],\n",
       "          [3.25622734e-05, 1.73066317e-06, 2.72505511e-11, ...,\n",
       "           8.27085953e-15, 9.12738954e-05, 4.17439906e-04],\n",
       "          ...,\n",
       "          [5.14212831e-05, 6.76458209e-06, 2.39359128e-06, ...,\n",
       "           1.27000189e-09, 6.52113586e-06, 2.99078099e-05],\n",
       "          [3.93156198e-05, 2.11725020e-06, 1.69905801e-08, ...,\n",
       "           8.64497294e-12, 5.84504725e-06, 2.68147563e-05],\n",
       "          [3.57245249e-05, 1.90032216e-06, 7.52069991e-12, ...,\n",
       "           5.09266877e-15, 5.44659452e-06, 2.49888465e-05]],\n",
       "  \n",
       "         [[4.32216167e-05, 1.06441040e-05, 5.35616229e-14, ...,\n",
       "           1.22390666e-15, 9.81753704e-07, 7.84455117e-05],\n",
       "          [4.38289053e-05, 1.07966869e-05, 5.72430310e-14, ...,\n",
       "           1.38323235e-15, 9.84363301e-07, 7.86690257e-05],\n",
       "          [4.48509481e-05, 1.10535462e-05, 6.44837344e-14, ...,\n",
       "           2.30541879e-15, 9.89100611e-07, 7.90444729e-05],\n",
       "          ...,\n",
       "          [1.65377342e-04, 4.14041947e-05, 4.28108612e-09, ...,\n",
       "           1.08349139e-09, 7.13780353e-08, 4.90441071e-06],\n",
       "          [1.55668963e-04, 3.89724709e-05, 1.22159692e-11, ...,\n",
       "           7.01587187e-12, 6.19931675e-08, 4.92205459e-06],\n",
       "          [1.49847184e-04, 3.75147347e-05, 1.57571033e-14, ...,\n",
       "           3.46565216e-15, 6.16604896e-08, 4.89650250e-06]],\n",
       "  \n",
       "         [[1.38927692e-04, 3.73340197e-05, 2.31414740e-14, ...,\n",
       "           1.44602135e-15, 1.54577526e-06, 2.46019279e-05],\n",
       "          [1.39140752e-04, 3.73912040e-05, 2.33982592e-14, ...,\n",
       "           1.72776902e-15, 1.54839888e-06, 2.46440843e-05],\n",
       "          [1.39496761e-04, 3.74867442e-05, 2.45355225e-14, ...,\n",
       "           3.61964461e-15, 1.55279160e-06, 2.47145718e-05],\n",
       "          ...,\n",
       "          [1.00004560e-05, 2.69248110e-06, 6.55983400e-10, ...,\n",
       "           1.91234928e-09, 9.63909150e-07, 1.54465206e-05],\n",
       "          [8.96621221e-06, 2.41407134e-06, 2.13633533e-12, ...,\n",
       "           8.59856703e-12, 9.01459447e-07, 1.44675063e-05],\n",
       "          [8.35582884e-06, 2.24984669e-06, 3.16834660e-15, ...,\n",
       "           9.78408366e-15, 8.64688978e-07, 1.38790515e-05]],\n",
       "  \n",
       "         ...,\n",
       "  \n",
       "         [[5.85685885e-06, 6.45287035e-07, 1.01928568e-12, ...,\n",
       "           4.14132927e-14, 2.52466254e-04, 3.73900307e-03],\n",
       "          [6.64906224e-06, 7.28075395e-07, 1.16348655e-12, ...,\n",
       "           7.54129709e-14, 2.53894745e-04, 3.76002988e-03],\n",
       "          [8.08529440e-06, 8.78169977e-07, 1.45529703e-12, ...,\n",
       "           2.59712300e-13, 2.56293834e-04, 3.79535250e-03],\n",
       "          ...,\n",
       "          [4.95372932e-05, 5.29086241e-06, 1.22242434e-15, ...,\n",
       "           1.83764816e-08, 5.61301721e-06, 8.34868620e-05],\n",
       "          [4.71100085e-05, 5.03203802e-06, 1.80135151e-14, ...,\n",
       "           1.01521132e-10, 5.28826148e-06, 7.87342156e-05],\n",
       "          [4.56486621e-05, 4.87608923e-06, 1.22029272e-15, ...,\n",
       "           8.35177462e-14, 5.09690081e-06, 7.58873318e-05]],\n",
       "  \n",
       "         [[4.23283280e-04, 6.53650051e-05, 4.62698290e-13, ...,\n",
       "           5.98409383e-15, 7.17400242e-06, 1.47156986e-04],\n",
       "          [4.26951456e-04, 6.59205835e-05, 4.81440644e-13, ...,\n",
       "           2.35676114e-14, 7.22966105e-06, 1.48335237e-04],\n",
       "          [4.33117279e-04, 6.68527595e-05, 5.13051426e-13, ...,\n",
       "           6.48273492e-14, 7.32293780e-06, 1.50313838e-04],\n",
       "          ...,\n",
       "          [2.69235020e-05, 4.12765938e-06, 1.32721433e-09, ...,\n",
       "           5.79256732e-12, 1.50922571e-08, 3.05643743e-07],\n",
       "          [2.58037485e-05, 3.95543505e-06, 7.75124832e-12, ...,\n",
       "           2.40201079e-12, 1.42548845e-08, 2.89060788e-07],\n",
       "          [2.51270802e-05, 3.85166562e-06, 1.08110254e-15, ...,\n",
       "           3.42698994e-16, 1.38444811e-08, 2.80715988e-07]],\n",
       "  \n",
       "         [[2.97158252e-03, 2.85226650e-04, 4.52995963e-13, ...,\n",
       "           4.84470662e-14, 5.84296734e-05, 1.70908113e-03],\n",
       "          [2.98828107e-03, 2.86823808e-04, 4.97379536e-13, ...,\n",
       "           5.45144784e-14, 5.91099166e-05, 1.72915237e-03],\n",
       "          [3.01631448e-03, 2.89505767e-04, 5.77359655e-13, ...,\n",
       "           7.53752136e-14, 6.02711945e-05, 1.76340203e-03],\n",
       "          ...,\n",
       "          [6.64369358e-05, 6.39903299e-06, 3.32201681e-10, ...,\n",
       "           8.51727042e-10, 9.32834658e-07, 2.68121931e-05],\n",
       "          [6.26423131e-05, 6.03302597e-06, 5.71884228e-12, ...,\n",
       "           3.69160296e-13, 8.88846173e-07, 2.56327751e-05],\n",
       "          [6.03767730e-05, 5.81491758e-06, 7.10682441e-15, ...,\n",
       "           3.65576162e-15, 8.64249566e-07, 2.49212923e-05]]]),\n",
       "  'mfcc': array([[[-1.00000000e+00, -1.00000000e+00, -1.00000000e+00, ...,\n",
       "           -1.00000000e+00, -1.00000000e+00, -1.00000000e+00],\n",
       "          [ 0.00000000e+00, -4.21115694e-03, -1.40191113e-02, ...,\n",
       "           -2.80925419e-01, -8.81853179e-02,  8.71704823e-04],\n",
       "          [ 0.00000000e+00, -6.02528820e-03, -3.05556453e-02, ...,\n",
       "           -5.05988784e-01, -3.32429502e-01, -2.65389669e-01],\n",
       "          ...,\n",
       "          [ 0.00000000e+00,  1.73029867e-03,  1.44067490e-03, ...,\n",
       "            2.62413701e-02,  2.97358474e-02,  4.41919757e-02],\n",
       "          [ 0.00000000e+00, -9.87490846e-04,  3.90160627e-03, ...,\n",
       "            2.05495336e-02,  3.22354432e-02,  1.85131726e-02],\n",
       "          [ 0.00000000e+00,  2.31647256e-03,  3.03908238e-03, ...,\n",
       "           -4.18931081e-02, -4.97590135e-02, -6.25022653e-02]],\n",
       "  \n",
       "         [[-1.00000000e+00, -1.00000000e+00, -1.00000000e+00, ...,\n",
       "           -1.00000000e+00, -1.00000000e+00, -1.00000000e+00],\n",
       "          [-2.87259790e-01, -3.14666940e-01, -2.75510199e-01, ...,\n",
       "           -2.62641065e-01, -2.19813280e-01, -1.50801132e-01],\n",
       "          [-2.99974657e-01, -3.60342878e-01, -3.96446309e-01, ...,\n",
       "           -4.42418738e-01, -3.30485710e-01, -2.84583300e-01],\n",
       "          ...,\n",
       "          [ 6.81462152e-03,  1.00379751e-02,  1.36595230e-02, ...,\n",
       "            7.68045085e-04,  3.17950558e-03,  1.22476324e-03],\n",
       "          [ 3.33370876e-02,  1.82451404e-02,  1.20838226e-02, ...,\n",
       "           -1.47480078e-03, -8.54561902e-03, -1.86226073e-02],\n",
       "          [-3.88050544e-03, -9.76951106e-03, -2.16310706e-02, ...,\n",
       "           -7.97306195e-03,  9.15351175e-03,  1.32817715e-02]],\n",
       "  \n",
       "         [[-1.00000000e+00, -1.00000000e+00, -1.00000000e+00, ...,\n",
       "           -1.00000000e+00, -1.00000000e+00, -1.00000000e+00],\n",
       "          [-1.70420180e-02, -1.13315872e-01, -3.01735455e-01, ...,\n",
       "           -2.85902753e-01, -3.00497382e-01, -2.61680590e-01],\n",
       "          [-3.14542538e-01, -4.47126624e-01, -5.24059540e-01, ...,\n",
       "           -3.80459492e-01, -3.90703494e-01, -3.12929899e-01],\n",
       "          ...,\n",
       "          [ 8.16031035e-02,  5.82802047e-02,  1.73431266e-02, ...,\n",
       "           -6.12869786e-03,  2.66722072e-03,  1.66162565e-02],\n",
       "          [-9.25535235e-03, -1.83547101e-02,  1.06266112e-02, ...,\n",
       "            1.45776850e-04,  5.58284222e-03,  8.67375921e-03],\n",
       "          [-5.99303601e-02, -3.70690943e-02, -2.25652266e-02, ...,\n",
       "           -9.85422196e-04, -2.58037557e-02, -3.05814471e-02]],\n",
       "  \n",
       "         ...,\n",
       "  \n",
       "         [[-1.00000000e+00, -1.00000000e+00, -1.00000000e+00, ...,\n",
       "           -1.00000000e+00, -1.00000000e+00, -1.00000000e+00],\n",
       "          [-6.13150563e-02, -8.43447404e-02, -9.26630414e-02, ...,\n",
       "           -1.44843915e-02,  1.12135017e-01,  2.05546686e-01],\n",
       "          [-4.73658380e-01, -6.22527596e-01, -6.87383776e-01, ...,\n",
       "           -4.57538648e-01, -4.59801448e-01, -3.87227675e-01],\n",
       "          ...,\n",
       "          [-1.00383857e-02,  5.10007919e-04,  9.26022056e-04, ...,\n",
       "           -4.89370215e-03, -4.09795280e-03,  2.38358089e-03],\n",
       "          [-2.34841643e-02, -1.82798607e-02, -1.66465712e-02, ...,\n",
       "           -1.77749401e-02, -1.50930882e-02, -1.88112849e-02],\n",
       "          [-1.68259500e-02, -3.69550261e-02, -1.47661030e-02, ...,\n",
       "           -1.30854453e-02, -3.89672760e-02, -4.45556259e-02]],\n",
       "  \n",
       "         [[-1.00000000e+00, -1.00000000e+00, -1.00000000e+00, ...,\n",
       "           -1.00000000e+00, -1.00000000e+00, -1.00000000e+00],\n",
       "          [ 2.12016359e-01,  1.76740728e-01, -3.45304104e-02, ...,\n",
       "           -4.71646232e-02,  1.30428884e-01,  2.56795621e-01],\n",
       "          [-3.30695231e-01, -4.14236476e-01, -5.46562621e-01, ...,\n",
       "           -6.32970264e-01, -6.36139557e-01, -5.40973127e-01],\n",
       "          ...,\n",
       "          [-2.52669305e-02, -7.39251218e-03,  2.91513977e-04, ...,\n",
       "            3.60486056e-03,  1.76464695e-02,  2.60957581e-02],\n",
       "          [-2.91125626e-02, -3.56826737e-02, -2.92342841e-02, ...,\n",
       "           -1.61637240e-02, -3.33190639e-02, -3.13166196e-02],\n",
       "          [-1.25007466e-02, -3.61529321e-02, -3.46428589e-02, ...,\n",
       "           -1.05832062e-02, -1.32985068e-02, -3.08494004e-02]],\n",
       "  \n",
       "         [[-1.00000000e+00, -1.00000000e+00, -1.00000000e+00, ...,\n",
       "           -1.00000000e+00, -1.00000000e+00, -1.00000000e+00],\n",
       "          [ 2.26736736e-01,  1.99539721e-01, -1.94516159e-02, ...,\n",
       "           -9.92759876e-02,  9.65391290e-02,  2.03540270e-01],\n",
       "          [-3.84792792e-01, -4.90711772e-01, -5.96960290e-01, ...,\n",
       "           -6.46659523e-01, -4.90625507e-01, -3.77913846e-01],\n",
       "          ...,\n",
       "          [-1.17734264e-02, -1.40349750e-02, -5.13454502e-03, ...,\n",
       "           -4.00758371e-03,  1.22213143e-02,  1.23206477e-02],\n",
       "          [-4.44058976e-03, -1.03469680e-02, -9.71319233e-03, ...,\n",
       "           -3.04325411e-02, -2.84355036e-02, -1.94083188e-02],\n",
       "          [-1.56179342e-02, -9.66299050e-03, -2.74065941e-03, ...,\n",
       "           -3.17782573e-02, -3.10468596e-02, -1.73763011e-02]]]),\n",
       "  'label': array([1, 1, 1, ..., 5, 5, 5])}}"
      ]
     },
     "execution_count": 33,
     "metadata": {},
     "output_type": "execute_result"
    }
   ],
   "source": [
    "merged_dict = {'train': train_features, 'val': val_features}\n",
    "merged_dict"
   ]
  },
  {
   "cell_type": "markdown",
   "metadata": {},
   "source": [
    "### Save the merged dictionary to a pkl"
   ]
  },
  {
   "cell_type": "code",
   "execution_count": 34,
   "metadata": {},
   "outputs": [],
   "source": [
    "with open('C:/Users/thato/Documents/Final-Year-Project/Dataset/Project-V4/feature-extraction/NotAnnotated/NotAveragePooled/split_features_6s_mel_mfcc.pkl', 'wb') as file:\n",
    "  pickle.dump(merged_dict, file)"
   ]
  },
  {
   "cell_type": "markdown",
   "metadata": {},
   "source": [
    "### **['melspectrogram', 'mfcc', 'chroma']**"
   ]
  },
  {
   "cell_type": "code",
   "execution_count": 35,
   "metadata": {},
   "outputs": [],
   "source": [
    "features_list = ['melspectrogram', 'mfcc', 'chroma']"
   ]
  },
  {
   "cell_type": "code",
   "execution_count": 36,
   "metadata": {},
   "outputs": [
    {
     "name": "stdout",
     "output_type": "stream",
     "text": [
      "Train DataFrame shape: (485, 6)\n",
      "Validation DataFrame shape: (130, 6)\n",
      "Number of rows in dataframe: 485\n"
     ]
    },
    {
     "name": "stderr",
     "output_type": "stream",
     "text": [
      "Processing data: 100%|██████████| 485/485 [05:24<00:00,  1.49it/s]\n"
     ]
    },
    {
     "name": "stdout",
     "output_type": "stream",
     "text": [
      "Number of rows in dataframe: 130\n"
     ]
    },
    {
     "name": "stderr",
     "output_type": "stream",
     "text": [
      "Processing data: 100%|██████████| 130/130 [00:58<00:00,  2.23it/s]\n"
     ]
    }
   ],
   "source": [
    "features = Extraction(train_data,\n",
    "                      val_data,\n",
    "                      window_size=6,\n",
    "                      features=features_list,\n",
    "                      avgpool=False\n",
    "                      )"
   ]
  },
  {
   "cell_type": "code",
   "execution_count": 37,
   "metadata": {},
   "outputs": [
    {
     "data": {
      "text/plain": [
       "(7105,)"
      ]
     },
     "metadata": {},
     "output_type": "display_data"
    },
    {
     "data": {
      "text/plain": [
       "'melspectrogram'"
      ]
     },
     "metadata": {},
     "output_type": "display_data"
    },
    {
     "data": {
      "text/plain": [
       "(7105, 60, 259)"
      ]
     },
     "metadata": {},
     "output_type": "display_data"
    },
    {
     "data": {
      "text/plain": [
       "'mfcc'"
      ]
     },
     "metadata": {},
     "output_type": "display_data"
    },
    {
     "data": {
      "text/plain": [
       "(7105, 20, 259)"
      ]
     },
     "metadata": {},
     "output_type": "display_data"
    },
    {
     "data": {
      "text/plain": [
       "'chroma'"
      ]
     },
     "metadata": {},
     "output_type": "display_data"
    },
    {
     "data": {
      "text/plain": [
       "(7105, 12, 259)"
      ]
     },
     "metadata": {},
     "output_type": "display_data"
    }
   ],
   "source": [
    "train_y = features.train_y\n",
    "display(train_y.shape)\n",
    "\n",
    "train_features = features.train_features\n",
    "for key in train_features.keys():\n",
    "  display(key)\n",
    "  display(train_features[key].shape)"
   ]
  },
  {
   "cell_type": "code",
   "execution_count": 38,
   "metadata": {},
   "outputs": [
    {
     "data": {
      "text/plain": [
       "(1896,)"
      ]
     },
     "metadata": {},
     "output_type": "display_data"
    },
    {
     "data": {
      "text/plain": [
       "'melspectrogram'"
      ]
     },
     "metadata": {},
     "output_type": "display_data"
    },
    {
     "data": {
      "text/plain": [
       "(1896, 60, 259)"
      ]
     },
     "metadata": {},
     "output_type": "display_data"
    },
    {
     "data": {
      "text/plain": [
       "'mfcc'"
      ]
     },
     "metadata": {},
     "output_type": "display_data"
    },
    {
     "data": {
      "text/plain": [
       "(1896, 20, 259)"
      ]
     },
     "metadata": {},
     "output_type": "display_data"
    },
    {
     "data": {
      "text/plain": [
       "'chroma'"
      ]
     },
     "metadata": {},
     "output_type": "display_data"
    },
    {
     "data": {
      "text/plain": [
       "(1896, 12, 259)"
      ]
     },
     "metadata": {},
     "output_type": "display_data"
    }
   ],
   "source": [
    "val_y = features.val_y\n",
    "display(val_y.shape)\n",
    "\n",
    "val_features = features.val_features\n",
    "for key in val_features.keys():\n",
    "  display(key)\n",
    "  display(val_features[key].shape)"
   ]
  },
  {
   "cell_type": "markdown",
   "metadata": {},
   "source": [
    "### Encode Classes"
   ]
  },
  {
   "cell_type": "code",
   "execution_count": 39,
   "metadata": {},
   "outputs": [
    {
     "name": "stdout",
     "output_type": "stream",
     "text": [
      "Encoded classes for [0, 1, 2]: ['Acrocephalus arundinaceus', 'Acrocephalus melanopogon', 'Acrocephalus scirpaceus']\n",
      "Encoded training labels: [1 1 1 ... 5 5 5]\n",
      "Encoded validation labels: [1 1 1 ... 5 5 5]\n"
     ]
    }
   ],
   "source": [
    "label_encoder = LabelEncoder().fit(train_y)\n",
    "train_y_encoded = label_encoder.transform(train_y)\n",
    "val_y_encoded = label_encoder.transform(val_y)\n",
    "\n",
    "classes = list(label_encoder.inverse_transform([0, 1, 2]))\n",
    "print(\"Encoded classes for [0, 1, 2]:\", classes)\n",
    "print(\"Encoded training labels:\", train_y_encoded)\n",
    "print(\"Encoded validation labels:\", val_y_encoded)"
   ]
  },
  {
   "cell_type": "code",
   "execution_count": 40,
   "metadata": {},
   "outputs": [
    {
     "data": {
      "text/plain": [
       "7105"
      ]
     },
     "metadata": {},
     "output_type": "display_data"
    },
    {
     "data": {
      "text/plain": [
       "array(['Acrocephalus melanopogon', 'Acrocephalus melanopogon',\n",
       "       'Acrocephalus melanopogon', 'Acrocephalus melanopogon',\n",
       "       'Acrocephalus melanopogon', 'Acrocephalus melanopogon',\n",
       "       'Acrocephalus melanopogon', 'Acrocephalus melanopogon',\n",
       "       'Acrocephalus melanopogon', 'Acrocephalus melanopogon'],\n",
       "      dtype='<U25')"
      ]
     },
     "metadata": {},
     "output_type": "display_data"
    },
    {
     "data": {
      "text/plain": [
       "1896"
      ]
     },
     "metadata": {},
     "output_type": "display_data"
    },
    {
     "data": {
      "text/plain": [
       "array(['Acrocephalus melanopogon', 'Acrocephalus melanopogon',\n",
       "       'Acrocephalus melanopogon', 'Acrocephalus melanopogon',\n",
       "       'Acrocephalus melanopogon', 'Acrocephalus melanopogon',\n",
       "       'Acrocephalus melanopogon', 'Acrocephalus melanopogon',\n",
       "       'Acrocephalus melanopogon', 'Acrocephalus melanopogon'],\n",
       "      dtype='<U25')"
      ]
     },
     "metadata": {},
     "output_type": "display_data"
    }
   ],
   "source": [
    "display(len(train_y))\n",
    "display(train_y[:10])\n",
    "\n",
    "display(len(val_y))\n",
    "display(val_y[:10])"
   ]
  },
  {
   "cell_type": "code",
   "execution_count": 41,
   "metadata": {},
   "outputs": [],
   "source": [
    "train_features['label'] = train_y_encoded\n",
    "val_features['label'] = val_y_encoded"
   ]
  },
  {
   "cell_type": "code",
   "execution_count": 42,
   "metadata": {},
   "outputs": [
    {
     "data": {
      "text/plain": [
       "{'train': {'melspectrogram': array([[[2.70414866e-03, 2.79165306e-04, 2.78151976e-06, ...,\n",
       "           2.09090982e-14, 1.00035500e-07, 4.10201886e-06],\n",
       "          [2.85087147e-03, 2.95306839e-04, 3.42857310e-06, ...,\n",
       "           2.42591675e-14, 1.00793242e-07, 4.13385302e-06],\n",
       "          [3.04498922e-03, 3.15533762e-04, 4.71718391e-06, ...,\n",
       "           3.06456201e-14, 1.02097112e-07, 4.18868937e-06],\n",
       "          ...,\n",
       "          [4.71950382e-06, 6.96979924e-07, 9.83989841e-06, ...,\n",
       "           4.76671411e-08, 2.59462464e-08, 1.32848568e-07],\n",
       "          [4.43196142e-06, 4.70733005e-07, 1.06044568e-07, ...,\n",
       "           2.24950763e-10, 2.39690650e-09, 9.34205219e-08],\n",
       "          [4.34125244e-06, 4.54310514e-07, 3.83112779e-09, ...,\n",
       "           6.16144049e-13, 1.95562647e-09, 8.06973052e-08]],\n",
       "  \n",
       "         [[1.73426295e-05, 3.63408438e-06, 4.80290598e-13, ...,\n",
       "           1.60876280e-14, 7.00188949e-08, 1.07775013e-06],\n",
       "          [1.84753151e-05, 3.87795431e-06, 5.39064175e-13, ...,\n",
       "           2.48021127e-14, 7.05198033e-08, 1.08664800e-06],\n",
       "          [2.04588793e-05, 4.30499024e-06, 6.48974409e-13, ...,\n",
       "           4.23482850e-14, 7.14385292e-08, 1.10314929e-06],\n",
       "          ...,\n",
       "          [3.96494239e-05, 1.00302657e-05, 1.57459005e-06, ...,\n",
       "           4.01477919e-08, 4.75987657e-06, 7.04755487e-05],\n",
       "          [3.67085359e-05, 7.86056852e-06, 1.57349826e-08, ...,\n",
       "           1.53969906e-10, 4.29632397e-06, 6.42517428e-05],\n",
       "          [3.50700349e-05, 7.49661568e-06, 6.95534630e-12, ...,\n",
       "           2.00168533e-13, 4.05157044e-06, 6.05970857e-05]],\n",
       "  \n",
       "         [[1.39905270e-03, 1.33439757e-04, 5.75273763e-13, ...,\n",
       "           5.89841679e-15, 2.38372515e-06, 6.72347600e-05],\n",
       "          [1.40995976e-03, 1.34493797e-04, 7.78146365e-13, ...,\n",
       "           5.89168719e-15, 2.39343733e-06, 6.75112785e-05],\n",
       "          [1.42874367e-03, 1.36310827e-04, 1.17197668e-12, ...,\n",
       "           5.91434109e-15, 2.40969361e-06, 6.79760697e-05],\n",
       "          ...,\n",
       "          [4.59703481e-05, 7.59484151e-06, 3.31000770e-06, ...,\n",
       "           2.19214266e-07, 4.23863572e-07, 4.99294751e-06],\n",
       "          [3.20205388e-05, 3.08347345e-06, 2.79666755e-08, ...,\n",
       "           4.69631745e-10, 1.64111417e-07, 4.64225419e-06],\n",
       "          [2.75633313e-05, 2.63967036e-06, 1.70151279e-11, ...,\n",
       "           6.40257895e-13, 1.57878817e-07, 4.48530469e-06]],\n",
       "  \n",
       "         ...,\n",
       "  \n",
       "         [[5.06434348e-05, 9.09517381e-06, 1.52639599e-14, ...,\n",
       "           5.69565579e-13, 2.31836661e-06, 1.23076619e-04],\n",
       "          [5.55218977e-05, 1.00320887e-05, 2.95995962e-14, ...,\n",
       "           6.60314978e-13, 2.35852713e-06, 1.25182668e-04],\n",
       "          [6.37263562e-05, 1.16083006e-05, 1.14836980e-13, ...,\n",
       "           9.92855998e-13, 2.42734571e-06, 1.28778994e-04],\n",
       "          ...,\n",
       "          [2.96187718e-04, 5.68894053e-05, 1.47466885e-09, ...,\n",
       "           4.53442650e-08, 4.78775768e-07, 4.50262898e-06],\n",
       "          [2.84664897e-04, 5.46768209e-05, 6.64319276e-12, ...,\n",
       "           5.44945204e-11, 4.76368422e-08, 2.45046971e-06],\n",
       "          [2.77596122e-04, 5.33190259e-05, 5.50000942e-15, ...,\n",
       "           2.03706242e-14, 4.04135928e-08, 2.11266646e-06]],\n",
       "  \n",
       "         [[5.56861646e-05, 7.75421187e-06, 5.67162777e-13, ...,\n",
       "           2.99704819e-12, 2.66991946e-06, 9.18656481e-05],\n",
       "          [5.57014747e-05, 7.76113961e-06, 6.57309546e-13, ...,\n",
       "           3.33602974e-12, 2.74875521e-06, 9.43955498e-05],\n",
       "          [5.57237387e-05, 7.77350195e-06, 1.14769264e-12, ...,\n",
       "           7.37023754e-12, 2.88360077e-06, 9.86423159e-05],\n",
       "          ...,\n",
       "          [2.85943282e-05, 3.87109110e-06, 1.40175530e-08, ...,\n",
       "           1.93152139e-06, 2.60577479e-06, 1.51937388e-05],\n",
       "          [2.71836699e-05, 3.67603141e-06, 6.09528175e-11, ...,\n",
       "           4.58665303e-09, 4.21866406e-07, 1.38566840e-05],\n",
       "          [2.63366889e-05, 3.56136722e-06, 6.45853468e-14, ...,\n",
       "           1.32588386e-11, 4.00097029e-07, 1.33085883e-05]],\n",
       "  \n",
       "         [[5.08842227e-05, 4.11923279e-06, 1.80624602e-13, ...,\n",
       "           1.22436387e-13, 7.28907259e-06, 1.16067580e-04],\n",
       "          [5.17514505e-05, 4.18895742e-06, 2.00314317e-13, ...,\n",
       "           5.55760340e-13, 7.35569525e-06, 1.17167682e-04],\n",
       "          [5.32323621e-05, 4.30770062e-06, 2.87563927e-13, ...,\n",
       "           1.49348624e-11, 7.46034943e-06, 1.18888211e-04],\n",
       "          ...,\n",
       "          [1.82674126e-06, 3.97582696e-07, 1.90684223e-07, ...,\n",
       "           1.31639087e-06, 1.34078768e-06, 4.33230117e-06],\n",
       "          [9.93346823e-07, 8.12699815e-08, 1.61171735e-09, ...,\n",
       "           1.50839142e-08, 1.99053998e-07, 3.10586924e-06],\n",
       "          [8.70749282e-07, 6.98577905e-08, 6.69438056e-13, ...,\n",
       "           1.15469170e-11, 1.62286066e-07, 2.63052798e-06]]]),\n",
       "  'mfcc': array([[[-1.        , -1.        , -1.        , ..., -1.        ,\n",
       "           -1.        , -1.        ],\n",
       "          [ 0.        ,  0.        ,  0.        , ..., -0.17373779,\n",
       "           -0.15781579, -0.05468241],\n",
       "          [ 0.        ,  0.        ,  0.        , ..., -0.39485264,\n",
       "           -0.38463603, -0.29000239],\n",
       "          ...,\n",
       "          [ 0.        ,  0.        ,  0.        , ...,  0.02551025,\n",
       "            0.0194228 ,  0.00951044],\n",
       "          [ 0.        ,  0.        ,  0.        , ...,  0.04056614,\n",
       "            0.05098266,  0.05237005],\n",
       "          [ 0.        ,  0.        ,  0.        , ..., -0.02892263,\n",
       "           -0.0435002 , -0.03670363]],\n",
       "  \n",
       "         [[-1.        , -1.        , -1.        , ..., -1.        ,\n",
       "           -1.        , -1.        ],\n",
       "          [-0.1250103 , -0.14365384, -0.14427565, ..., -0.14800547,\n",
       "           -0.27352785, -0.32687188],\n",
       "          [-0.29100875, -0.34141116, -0.34730072, ..., -0.35557446,\n",
       "           -0.33805607, -0.27873464],\n",
       "          ...,\n",
       "          [ 0.00269876, -0.00462969, -0.01050022, ..., -0.01653787,\n",
       "           -0.03339773, -0.03757058],\n",
       "          [ 0.00400064,  0.00574322,  0.00192427, ...,  0.01209587,\n",
       "            0.02777838,  0.02106539],\n",
       "          [-0.00302651, -0.00398999, -0.00612853, ...,  0.02050334,\n",
       "            0.02001798,  0.02699105]],\n",
       "  \n",
       "         [[-1.        , -1.        , -1.        , ..., -1.        ,\n",
       "           -1.        , -1.        ],\n",
       "          [-0.02042024, -0.08514001, -0.12648469, ..., -0.19249881,\n",
       "           -0.13378753, -0.03346993],\n",
       "          [-0.22455168, -0.28027467, -0.31234968, ..., -0.37973282,\n",
       "           -0.33874314, -0.23838497],\n",
       "          ...,\n",
       "          [ 0.00641527,  0.00341021, -0.00260231, ..., -0.03104352,\n",
       "           -0.03002155, -0.03346619],\n",
       "          [ 0.03143024,  0.02779777,  0.03388032, ...,  0.0102597 ,\n",
       "            0.02296281,  0.01447938],\n",
       "          [-0.02621753, -0.02771605, -0.03030736, ...,  0.02567885,\n",
       "            0.01756717,  0.02173806]],\n",
       "  \n",
       "         ...,\n",
       "  \n",
       "         [[-1.        , -1.        , -1.        , ..., -1.        ,\n",
       "           -1.        , -1.        ],\n",
       "          [-0.11279961, -0.09692901, -0.08578303, ..., -0.1176853 ,\n",
       "           -0.13632333, -0.06050285],\n",
       "          [-0.49731987, -0.55674417, -0.59895944, ..., -0.64550887,\n",
       "           -0.54392418, -0.4458609 ],\n",
       "          ...,\n",
       "          [ 0.01744117,  0.01418096, -0.02485191, ..., -0.0062013 ,\n",
       "           -0.00940606, -0.00931153],\n",
       "          [-0.03885929, -0.02161129, -0.00516484, ..., -0.00586994,\n",
       "           -0.00590585,  0.00410327],\n",
       "          [-0.02937522, -0.00585464, -0.01466625, ..., -0.04743522,\n",
       "           -0.04039878, -0.02412593]],\n",
       "  \n",
       "         [[-1.        , -1.        , -1.        , ..., -1.        ,\n",
       "           -1.        , -1.        ],\n",
       "          [ 0.02975485,  0.0212539 ,  0.00443176, ..., -0.03201306,\n",
       "           -0.02572209,  0.03827351],\n",
       "          [-0.38589112, -0.44974588, -0.47539009, ..., -0.28333064,\n",
       "           -0.26789213, -0.21379362],\n",
       "          ...,\n",
       "          [ 0.00130686, -0.00482763, -0.0050046 , ..., -0.01117125,\n",
       "           -0.01056705, -0.00358769],\n",
       "          [-0.01129816, -0.01124566, -0.00370088, ...,  0.00727175,\n",
       "            0.00299851,  0.0038515 ],\n",
       "          [-0.02025784, -0.01979136, -0.02186905, ..., -0.02604713,\n",
       "           -0.01868253, -0.00498709]],\n",
       "  \n",
       "         [[-1.        , -1.        , -1.        , ..., -1.        ,\n",
       "           -1.        , -1.        ],\n",
       "          [-0.0429573 , -0.09994193, -0.18008914, ..., -0.02071375,\n",
       "           -0.00175443,  0.00660948],\n",
       "          [-0.46330191, -0.58651592, -0.6687421 , ..., -0.18496168,\n",
       "           -0.1864368 , -0.16813055],\n",
       "          ...,\n",
       "          [ 0.00294732,  0.01416223, -0.00517411, ...,  0.00539114,\n",
       "            0.00391434,  0.00583776],\n",
       "          [ 0.00588758,  0.01734421,  0.00714383, ...,  0.02321898,\n",
       "            0.01662294,  0.01354547],\n",
       "          [-0.02734336, -0.03985411, -0.05648294, ..., -0.00336891,\n",
       "           -0.01338007, -0.01864067]]]),\n",
       "  'chroma': array([[[0.45077237, 0.30515629, 1.        , ..., 0.00620036,\n",
       "           0.00270077, 0.00414615],\n",
       "          [0.65338778, 0.44659847, 0.54656498, ..., 0.02414146,\n",
       "           0.0047452 , 0.00424311],\n",
       "          [0.3450437 , 0.33197443, 0.2480833 , ..., 0.0148384 ,\n",
       "           0.0039918 , 0.00430862],\n",
       "          ...,\n",
       "          [0.3890048 , 0.18626708, 0.06416709, ..., 1.        ,\n",
       "           1.        , 1.        ],\n",
       "          [0.5294871 , 0.30290457, 0.27944772, ..., 0.49158959,\n",
       "           0.23289739, 0.08844084],\n",
       "          [1.        , 1.        , 0.87511089, ..., 0.01600375,\n",
       "           0.00801504, 0.00756762]],\n",
       "  \n",
       "         [[0.10996899, 0.16903949, 0.17930358, ..., 1.        ,\n",
       "           1.        , 0.27677959],\n",
       "          [0.09855903, 0.10636092, 0.09141939, ..., 0.05962343,\n",
       "           0.10834873, 0.09708431],\n",
       "          [0.07009048, 0.11088342, 0.13036132, ..., 0.00655165,\n",
       "           0.09024913, 0.46821447],\n",
       "          ...,\n",
       "          [0.24689786, 0.36923429, 0.3379511 , ..., 0.01331559,\n",
       "           0.06984826, 0.01975651],\n",
       "          [0.22696715, 0.28770531, 0.2533592 , ..., 0.01001625,\n",
       "           0.00854835, 0.00486775],\n",
       "          [0.16039076, 0.22653598, 0.23423613, ..., 0.44557709,\n",
       "           0.27007662, 0.05039359]],\n",
       "  \n",
       "         [[0.22687471, 0.20909647, 0.23801708, ..., 1.        ,\n",
       "           0.36255286, 0.36939309],\n",
       "          [0.25518096, 0.16839662, 0.13586114, ..., 0.78208244,\n",
       "           1.        , 0.88347397],\n",
       "          [0.26519221, 0.20752961, 0.25355824, ..., 0.0745095 ,\n",
       "           0.5961531 , 1.        ],\n",
       "          ...,\n",
       "          [1.        , 1.        , 0.92795926, ..., 0.00722987,\n",
       "           0.0050907 , 0.0054696 ],\n",
       "          [0.43790049, 0.4430944 , 0.44338041, ..., 0.00742805,\n",
       "           0.00461403, 0.00806128],\n",
       "          [0.23904741, 0.24271999, 0.3073915 , ..., 0.05920338,\n",
       "           0.01704068, 0.03132485]],\n",
       "  \n",
       "         ...,\n",
       "  \n",
       "         [[0.74578517, 0.75102403, 0.82633941, ..., 0.54574487,\n",
       "           0.39496574, 0.30359863],\n",
       "          [0.17124246, 0.19886807, 0.27532378, ..., 0.1453367 ,\n",
       "           0.21796434, 0.19465072],\n",
       "          [0.17692037, 0.21396985, 0.23945664, ..., 0.17602478,\n",
       "           0.39395945, 0.30732885],\n",
       "          ...,\n",
       "          [0.0712231 , 0.0654953 , 0.18492642, ..., 0.183057  ,\n",
       "           0.1542146 , 0.49921907],\n",
       "          [0.44226063, 0.48847382, 0.61197351, ..., 0.62560758,\n",
       "           0.32996602, 0.45788835],\n",
       "          [1.        , 1.        , 1.        , ..., 1.        ,\n",
       "           0.53308017, 0.39526837]],\n",
       "  \n",
       "         [[0.88073143, 1.        , 1.        , ..., 0.86802659,\n",
       "           1.        , 1.        ],\n",
       "          [0.5511403 , 0.33281154, 0.28872178, ..., 0.83962596,\n",
       "           0.80064674, 0.59742588],\n",
       "          [0.42601543, 0.29208351, 0.22617806, ..., 0.87445914,\n",
       "           0.46809003, 0.59750325],\n",
       "          ...,\n",
       "          [0.14800936, 0.18007881, 0.19533858, ..., 0.75327675,\n",
       "           0.76235948, 0.67479081],\n",
       "          [0.81521754, 0.63692852, 0.36699813, ..., 0.93588006,\n",
       "           0.84710707, 0.56460809],\n",
       "          [1.        , 0.94581233, 0.89424253, ..., 1.        ,\n",
       "           0.88489639, 0.65888317]],\n",
       "  \n",
       "         [[0.29941684, 0.16272688, 0.29591823, ..., 0.33181226,\n",
       "           0.59604956, 0.40044366],\n",
       "          [0.16768353, 0.1384328 , 0.22099703, ..., 0.59392139,\n",
       "           0.52938164, 0.21811922],\n",
       "          [0.21276446, 0.29774522, 0.33204856, ..., 1.        ,\n",
       "           0.68113051, 0.3386935 ],\n",
       "          ...,\n",
       "          [0.20122383, 0.41105234, 0.41961332, ..., 0.32883453,\n",
       "           0.69179187, 0.6374972 ],\n",
       "          [0.15905535, 0.41940777, 0.85768936, ..., 0.24230229,\n",
       "           0.91271099, 1.        ],\n",
       "          [0.15695147, 0.18788433, 0.57057005, ..., 0.27786323,\n",
       "           0.80103159, 0.59896911]]]),\n",
       "  'label': array([1, 1, 1, ..., 5, 5, 5])},\n",
       " 'val': {'melspectrogram': array([[[3.20727065e-05, 1.70512106e-06, 1.61698192e-11, ...,\n",
       "           6.99078403e-15, 9.09006570e-05, 4.15736281e-04],\n",
       "          [3.22422717e-05, 1.71387116e-06, 1.71018208e-11, ...,\n",
       "           7.35246074e-15, 9.10404223e-05, 4.16374167e-04],\n",
       "          [3.25622734e-05, 1.73066317e-06, 2.72505511e-11, ...,\n",
       "           8.27085953e-15, 9.12738954e-05, 4.17439906e-04],\n",
       "          ...,\n",
       "          [5.14212831e-05, 6.76458209e-06, 2.39359128e-06, ...,\n",
       "           1.27000189e-09, 6.52113586e-06, 2.99078099e-05],\n",
       "          [3.93156198e-05, 2.11725020e-06, 1.69905801e-08, ...,\n",
       "           8.64497294e-12, 5.84504725e-06, 2.68147563e-05],\n",
       "          [3.57245249e-05, 1.90032216e-06, 7.52069991e-12, ...,\n",
       "           5.09266877e-15, 5.44659452e-06, 2.49888465e-05]],\n",
       "  \n",
       "         [[4.32216167e-05, 1.06441040e-05, 5.35616229e-14, ...,\n",
       "           1.22390666e-15, 9.81753704e-07, 7.84455117e-05],\n",
       "          [4.38289053e-05, 1.07966869e-05, 5.72430310e-14, ...,\n",
       "           1.38323235e-15, 9.84363301e-07, 7.86690257e-05],\n",
       "          [4.48509481e-05, 1.10535462e-05, 6.44837344e-14, ...,\n",
       "           2.30541879e-15, 9.89100611e-07, 7.90444729e-05],\n",
       "          ...,\n",
       "          [1.65377342e-04, 4.14041947e-05, 4.28108612e-09, ...,\n",
       "           1.08349139e-09, 7.13780353e-08, 4.90441071e-06],\n",
       "          [1.55668963e-04, 3.89724709e-05, 1.22159692e-11, ...,\n",
       "           7.01587187e-12, 6.19931675e-08, 4.92205459e-06],\n",
       "          [1.49847184e-04, 3.75147347e-05, 1.57571033e-14, ...,\n",
       "           3.46565216e-15, 6.16604896e-08, 4.89650250e-06]],\n",
       "  \n",
       "         [[1.38927692e-04, 3.73340197e-05, 2.31414740e-14, ...,\n",
       "           1.44602135e-15, 1.54577526e-06, 2.46019279e-05],\n",
       "          [1.39140752e-04, 3.73912040e-05, 2.33982592e-14, ...,\n",
       "           1.72776902e-15, 1.54839888e-06, 2.46440843e-05],\n",
       "          [1.39496761e-04, 3.74867442e-05, 2.45355225e-14, ...,\n",
       "           3.61964461e-15, 1.55279160e-06, 2.47145718e-05],\n",
       "          ...,\n",
       "          [1.00004560e-05, 2.69248110e-06, 6.55983400e-10, ...,\n",
       "           1.91234928e-09, 9.63909150e-07, 1.54465206e-05],\n",
       "          [8.96621221e-06, 2.41407134e-06, 2.13633533e-12, ...,\n",
       "           8.59856703e-12, 9.01459447e-07, 1.44675063e-05],\n",
       "          [8.35582884e-06, 2.24984669e-06, 3.16834660e-15, ...,\n",
       "           9.78408366e-15, 8.64688978e-07, 1.38790515e-05]],\n",
       "  \n",
       "         ...,\n",
       "  \n",
       "         [[5.85685885e-06, 6.45287035e-07, 1.01928568e-12, ...,\n",
       "           4.14132927e-14, 2.52466254e-04, 3.73900307e-03],\n",
       "          [6.64906224e-06, 7.28075395e-07, 1.16348655e-12, ...,\n",
       "           7.54129709e-14, 2.53894745e-04, 3.76002988e-03],\n",
       "          [8.08529440e-06, 8.78169977e-07, 1.45529703e-12, ...,\n",
       "           2.59712300e-13, 2.56293834e-04, 3.79535250e-03],\n",
       "          ...,\n",
       "          [4.95372932e-05, 5.29086241e-06, 1.22242434e-15, ...,\n",
       "           1.83764816e-08, 5.61301721e-06, 8.34868620e-05],\n",
       "          [4.71100085e-05, 5.03203802e-06, 1.80135151e-14, ...,\n",
       "           1.01521132e-10, 5.28826148e-06, 7.87342156e-05],\n",
       "          [4.56486621e-05, 4.87608923e-06, 1.22029272e-15, ...,\n",
       "           8.35177462e-14, 5.09690081e-06, 7.58873318e-05]],\n",
       "  \n",
       "         [[4.23283280e-04, 6.53650051e-05, 4.62698290e-13, ...,\n",
       "           5.98409383e-15, 7.17400242e-06, 1.47156986e-04],\n",
       "          [4.26951456e-04, 6.59205835e-05, 4.81440644e-13, ...,\n",
       "           2.35676114e-14, 7.22966105e-06, 1.48335237e-04],\n",
       "          [4.33117279e-04, 6.68527595e-05, 5.13051426e-13, ...,\n",
       "           6.48273492e-14, 7.32293780e-06, 1.50313838e-04],\n",
       "          ...,\n",
       "          [2.69235020e-05, 4.12765938e-06, 1.32721433e-09, ...,\n",
       "           5.79256732e-12, 1.50922571e-08, 3.05643743e-07],\n",
       "          [2.58037485e-05, 3.95543505e-06, 7.75124832e-12, ...,\n",
       "           2.40201079e-12, 1.42548845e-08, 2.89060788e-07],\n",
       "          [2.51270802e-05, 3.85166562e-06, 1.08110254e-15, ...,\n",
       "           3.42698994e-16, 1.38444811e-08, 2.80715988e-07]],\n",
       "  \n",
       "         [[2.97158252e-03, 2.85226650e-04, 4.52995963e-13, ...,\n",
       "           4.84470662e-14, 5.84296734e-05, 1.70908113e-03],\n",
       "          [2.98828107e-03, 2.86823808e-04, 4.97379536e-13, ...,\n",
       "           5.45144784e-14, 5.91099166e-05, 1.72915237e-03],\n",
       "          [3.01631448e-03, 2.89505767e-04, 5.77359655e-13, ...,\n",
       "           7.53752136e-14, 6.02711945e-05, 1.76340203e-03],\n",
       "          ...,\n",
       "          [6.64369358e-05, 6.39903299e-06, 3.32201681e-10, ...,\n",
       "           8.51727042e-10, 9.32834658e-07, 2.68121931e-05],\n",
       "          [6.26423131e-05, 6.03302597e-06, 5.71884228e-12, ...,\n",
       "           3.69160296e-13, 8.88846173e-07, 2.56327751e-05],\n",
       "          [6.03767730e-05, 5.81491758e-06, 7.10682441e-15, ...,\n",
       "           3.65576162e-15, 8.64249566e-07, 2.49212923e-05]]]),\n",
       "  'mfcc': array([[[-1.00000000e+00, -1.00000000e+00, -1.00000000e+00, ...,\n",
       "           -1.00000000e+00, -1.00000000e+00, -1.00000000e+00],\n",
       "          [ 0.00000000e+00, -4.21115694e-03, -1.40191113e-02, ...,\n",
       "           -2.80925419e-01, -8.81853179e-02,  8.71704823e-04],\n",
       "          [ 0.00000000e+00, -6.02528820e-03, -3.05556453e-02, ...,\n",
       "           -5.05988784e-01, -3.32429502e-01, -2.65389669e-01],\n",
       "          ...,\n",
       "          [ 0.00000000e+00,  1.73029867e-03,  1.44067490e-03, ...,\n",
       "            2.62413701e-02,  2.97358474e-02,  4.41919757e-02],\n",
       "          [ 0.00000000e+00, -9.87490846e-04,  3.90160627e-03, ...,\n",
       "            2.05495336e-02,  3.22354432e-02,  1.85131726e-02],\n",
       "          [ 0.00000000e+00,  2.31647256e-03,  3.03908238e-03, ...,\n",
       "           -4.18931081e-02, -4.97590135e-02, -6.25022653e-02]],\n",
       "  \n",
       "         [[-1.00000000e+00, -1.00000000e+00, -1.00000000e+00, ...,\n",
       "           -1.00000000e+00, -1.00000000e+00, -1.00000000e+00],\n",
       "          [-2.87259790e-01, -3.14666940e-01, -2.75510199e-01, ...,\n",
       "           -2.62641065e-01, -2.19813280e-01, -1.50801132e-01],\n",
       "          [-2.99974657e-01, -3.60342878e-01, -3.96446309e-01, ...,\n",
       "           -4.42418738e-01, -3.30485710e-01, -2.84583300e-01],\n",
       "          ...,\n",
       "          [ 6.81462152e-03,  1.00379751e-02,  1.36595230e-02, ...,\n",
       "            7.68045085e-04,  3.17950558e-03,  1.22476324e-03],\n",
       "          [ 3.33370876e-02,  1.82451404e-02,  1.20838226e-02, ...,\n",
       "           -1.47480078e-03, -8.54561902e-03, -1.86226073e-02],\n",
       "          [-3.88050544e-03, -9.76951106e-03, -2.16310706e-02, ...,\n",
       "           -7.97306195e-03,  9.15351175e-03,  1.32817715e-02]],\n",
       "  \n",
       "         [[-1.00000000e+00, -1.00000000e+00, -1.00000000e+00, ...,\n",
       "           -1.00000000e+00, -1.00000000e+00, -1.00000000e+00],\n",
       "          [-1.70420180e-02, -1.13315872e-01, -3.01735455e-01, ...,\n",
       "           -2.85902753e-01, -3.00497382e-01, -2.61680590e-01],\n",
       "          [-3.14542538e-01, -4.47126624e-01, -5.24059540e-01, ...,\n",
       "           -3.80459492e-01, -3.90703494e-01, -3.12929899e-01],\n",
       "          ...,\n",
       "          [ 8.16031035e-02,  5.82802047e-02,  1.73431266e-02, ...,\n",
       "           -6.12869786e-03,  2.66722072e-03,  1.66162565e-02],\n",
       "          [-9.25535235e-03, -1.83547101e-02,  1.06266112e-02, ...,\n",
       "            1.45776850e-04,  5.58284222e-03,  8.67375921e-03],\n",
       "          [-5.99303601e-02, -3.70690943e-02, -2.25652266e-02, ...,\n",
       "           -9.85422196e-04, -2.58037557e-02, -3.05814471e-02]],\n",
       "  \n",
       "         ...,\n",
       "  \n",
       "         [[-1.00000000e+00, -1.00000000e+00, -1.00000000e+00, ...,\n",
       "           -1.00000000e+00, -1.00000000e+00, -1.00000000e+00],\n",
       "          [-6.13150563e-02, -8.43447404e-02, -9.26630414e-02, ...,\n",
       "           -1.44843915e-02,  1.12135017e-01,  2.05546686e-01],\n",
       "          [-4.73658380e-01, -6.22527596e-01, -6.87383776e-01, ...,\n",
       "           -4.57538648e-01, -4.59801448e-01, -3.87227675e-01],\n",
       "          ...,\n",
       "          [-1.00383857e-02,  5.10007919e-04,  9.26022056e-04, ...,\n",
       "           -4.89370215e-03, -4.09795280e-03,  2.38358089e-03],\n",
       "          [-2.34841643e-02, -1.82798607e-02, -1.66465712e-02, ...,\n",
       "           -1.77749401e-02, -1.50930882e-02, -1.88112849e-02],\n",
       "          [-1.68259500e-02, -3.69550261e-02, -1.47661030e-02, ...,\n",
       "           -1.30854453e-02, -3.89672760e-02, -4.45556259e-02]],\n",
       "  \n",
       "         [[-1.00000000e+00, -1.00000000e+00, -1.00000000e+00, ...,\n",
       "           -1.00000000e+00, -1.00000000e+00, -1.00000000e+00],\n",
       "          [ 2.12016359e-01,  1.76740728e-01, -3.45304104e-02, ...,\n",
       "           -4.71646232e-02,  1.30428884e-01,  2.56795621e-01],\n",
       "          [-3.30695231e-01, -4.14236476e-01, -5.46562621e-01, ...,\n",
       "           -6.32970264e-01, -6.36139557e-01, -5.40973127e-01],\n",
       "          ...,\n",
       "          [-2.52669305e-02, -7.39251218e-03,  2.91513977e-04, ...,\n",
       "            3.60486056e-03,  1.76464695e-02,  2.60957581e-02],\n",
       "          [-2.91125626e-02, -3.56826737e-02, -2.92342841e-02, ...,\n",
       "           -1.61637240e-02, -3.33190639e-02, -3.13166196e-02],\n",
       "          [-1.25007466e-02, -3.61529321e-02, -3.46428589e-02, ...,\n",
       "           -1.05832062e-02, -1.32985068e-02, -3.08494004e-02]],\n",
       "  \n",
       "         [[-1.00000000e+00, -1.00000000e+00, -1.00000000e+00, ...,\n",
       "           -1.00000000e+00, -1.00000000e+00, -1.00000000e+00],\n",
       "          [ 2.26736736e-01,  1.99539721e-01, -1.94516159e-02, ...,\n",
       "           -9.92759876e-02,  9.65391290e-02,  2.03540270e-01],\n",
       "          [-3.84792792e-01, -4.90711772e-01, -5.96960290e-01, ...,\n",
       "           -6.46659523e-01, -4.90625507e-01, -3.77913846e-01],\n",
       "          ...,\n",
       "          [-1.17734264e-02, -1.40349750e-02, -5.13454502e-03, ...,\n",
       "           -4.00758371e-03,  1.22213143e-02,  1.23206477e-02],\n",
       "          [-4.44058976e-03, -1.03469680e-02, -9.71319233e-03, ...,\n",
       "           -3.04325411e-02, -2.84355036e-02, -1.94083188e-02],\n",
       "          [-1.56179342e-02, -9.66299050e-03, -2.74065941e-03, ...,\n",
       "           -3.17782573e-02, -3.10468596e-02, -1.73763011e-02]]]),\n",
       "  'chroma': array([[[1.        , 0.82158763, 0.62119429, ..., 0.02380319,\n",
       "           0.01105543, 0.0080308 ],\n",
       "          [0.48209316, 1.        , 1.        , ..., 0.02147725,\n",
       "           0.01033903, 0.00384139],\n",
       "          [0.235259  , 0.83698286, 0.96373214, ..., 0.12188505,\n",
       "           0.02243894, 0.0034344 ],\n",
       "          ...,\n",
       "          [0.18017591, 0.26969608, 0.45614751, ..., 0.38890707,\n",
       "           0.62013834, 0.44653145],\n",
       "          [0.26936556, 0.52499822, 0.52134098, ..., 0.15684905,\n",
       "           1.        , 1.        ],\n",
       "          [0.67199701, 0.71724727, 0.63761475, ..., 0.07282185,\n",
       "           0.06869306, 0.08382002]],\n",
       "  \n",
       "         [[0.2683098 , 0.43491164, 0.42227272, ..., 0.03761925,\n",
       "           0.09874713, 0.24098366],\n",
       "          [0.09511356, 0.18924732, 0.20881938, ..., 0.02280014,\n",
       "           0.07959431, 0.14060751],\n",
       "          [0.13184091, 0.17506193, 0.16096104, ..., 0.10694081,\n",
       "           0.14006471, 0.22004281],\n",
       "          ...,\n",
       "          [0.62474211, 0.92357143, 0.563859  , ..., 0.0708438 ,\n",
       "           0.27605892, 0.32426266],\n",
       "          [1.        , 1.        , 1.        , ..., 0.06394172,\n",
       "           0.2136781 , 0.26485183],\n",
       "          [0.686427  , 0.805482  , 0.69362047, ..., 0.05299557,\n",
       "           0.14633271, 0.22727529]],\n",
       "  \n",
       "         [[0.07901222, 0.11680351, 0.16400459, ..., 0.38341492,\n",
       "           0.38535306, 0.51461082],\n",
       "          [0.00708798, 0.01268611, 0.02727081, ..., 0.13406264,\n",
       "           0.12285697, 0.13188032],\n",
       "          [0.00286053, 0.00888119, 0.058557  , ..., 0.35858375,\n",
       "           0.16541652, 0.14506674],\n",
       "          ...,\n",
       "          [0.05143009, 0.04966387, 0.30540973, ..., 0.19458406,\n",
       "           0.44680744, 0.59686007],\n",
       "          [0.77933683, 0.63235582, 1.        , ..., 0.53981681,\n",
       "           0.64970725, 0.65372715],\n",
       "          [1.        , 1.        , 0.88946083, ..., 1.        ,\n",
       "           1.        , 1.        ]],\n",
       "  \n",
       "         ...,\n",
       "  \n",
       "         [[0.07743505, 0.16818292, 0.18096613, ..., 0.54379233,\n",
       "           0.33653841, 0.28800448],\n",
       "          [0.20891529, 0.19045216, 0.1596151 , ..., 0.25236097,\n",
       "           0.17944153, 0.25733292],\n",
       "          [0.3924657 , 0.37055625, 0.21061672, ..., 0.32473051,\n",
       "           0.64051459, 0.69169506],\n",
       "          ...,\n",
       "          [1.        , 1.        , 0.25488667, ..., 0.72343019,\n",
       "           0.64925429, 0.95916028],\n",
       "          [0.63493465, 0.61141174, 0.28776969, ..., 0.73826463,\n",
       "           0.60932826, 0.72070221],\n",
       "          [0.22191725, 0.3374475 , 0.34753046, ..., 1.        ,\n",
       "           0.82984429, 0.87138225]],\n",
       "  \n",
       "         [[0.12637339, 0.04699507, 0.02106903, ..., 0.03906271,\n",
       "           0.05514295, 0.04280925],\n",
       "          [0.16142536, 0.09419178, 0.01923244, ..., 0.14075625,\n",
       "           0.10388085, 0.09610618],\n",
       "          [0.12055691, 0.07283609, 0.03653388, ..., 0.48152396,\n",
       "           0.1537081 , 0.18691267],\n",
       "          ...,\n",
       "          [0.10780867, 0.16612899, 0.25053825, ..., 0.07728425,\n",
       "           0.08686639, 0.08404703],\n",
       "          [0.14716988, 0.27871749, 0.3220251 , ..., 0.07546477,\n",
       "           0.08536276, 0.0781283 ],\n",
       "          [0.20040451, 0.16107645, 0.10467604, ..., 0.04612757,\n",
       "           0.03897899, 0.033696  ]],\n",
       "  \n",
       "         [[0.68785978, 0.57849681, 0.34896289, ..., 0.85391235,\n",
       "           0.3078534 , 0.25808923],\n",
       "          [0.15210995, 0.22129616, 0.26840228, ..., 0.25168961,\n",
       "           0.16840504, 0.26914057],\n",
       "          [0.14954062, 0.13208163, 0.10379142, ..., 0.12461795,\n",
       "           0.12390337, 0.13049766],\n",
       "          ...,\n",
       "          [0.53685625, 0.51313537, 0.49988096, ..., 0.1496399 ,\n",
       "           0.20896966, 0.39809802],\n",
       "          [0.61081599, 1.        , 1.        , ..., 0.34457973,\n",
       "           0.71464512, 1.        ],\n",
       "          [1.        , 0.7160754 , 0.58608661, ..., 1.        ,\n",
       "           1.        , 0.91206503]]]),\n",
       "  'label': array([1, 1, 1, ..., 5, 5, 5])}}"
      ]
     },
     "execution_count": 42,
     "metadata": {},
     "output_type": "execute_result"
    }
   ],
   "source": [
    "merged_dict = {'train': train_features, 'val': val_features}\n",
    "merged_dict"
   ]
  },
  {
   "cell_type": "markdown",
   "metadata": {},
   "source": [
    "### Save the merged dictionary to a pkl"
   ]
  },
  {
   "cell_type": "code",
   "execution_count": 43,
   "metadata": {},
   "outputs": [],
   "source": [
    "with open('C:/Users/thato/Documents/Final-Year-Project/Dataset/Project-V4/feature-extraction/NotAnnotated/NotAveragePooled/split_features_6s_mel_mfcc_chroma.pkl', 'wb') as file:\n",
    "  pickle.dump(merged_dict, file)"
   ]
  },
  {
   "cell_type": "markdown",
   "metadata": {},
   "source": [
    "### **['melspectrogram', 'mfcc', 'chroma', 'rms']**"
   ]
  },
  {
   "cell_type": "code",
   "execution_count": 44,
   "metadata": {},
   "outputs": [],
   "source": [
    "features_list = ['melspectrogram', 'mfcc', 'chroma', 'rms']"
   ]
  },
  {
   "cell_type": "code",
   "execution_count": 45,
   "metadata": {},
   "outputs": [
    {
     "name": "stdout",
     "output_type": "stream",
     "text": [
      "Train DataFrame shape: (485, 6)\n",
      "Validation DataFrame shape: (130, 6)\n",
      "Number of rows in dataframe: 485\n"
     ]
    },
    {
     "name": "stderr",
     "output_type": "stream",
     "text": [
      "Processing data: 100%|██████████| 485/485 [06:06<00:00,  1.32it/s]\n"
     ]
    },
    {
     "name": "stdout",
     "output_type": "stream",
     "text": [
      "Number of rows in dataframe: 130\n"
     ]
    },
    {
     "name": "stderr",
     "output_type": "stream",
     "text": [
      "Processing data: 100%|██████████| 130/130 [01:15<00:00,  1.72it/s]\n"
     ]
    }
   ],
   "source": [
    "features = Extraction(train_data,\n",
    "                      val_data,\n",
    "                      window_size=6,\n",
    "                      features=features_list,\n",
    "                      avgpool=False\n",
    "                      )"
   ]
  },
  {
   "cell_type": "code",
   "execution_count": 46,
   "metadata": {},
   "outputs": [
    {
     "data": {
      "text/plain": [
       "(7105,)"
      ]
     },
     "metadata": {},
     "output_type": "display_data"
    },
    {
     "data": {
      "text/plain": [
       "'melspectrogram'"
      ]
     },
     "metadata": {},
     "output_type": "display_data"
    },
    {
     "data": {
      "text/plain": [
       "(7105, 60, 259)"
      ]
     },
     "metadata": {},
     "output_type": "display_data"
    },
    {
     "data": {
      "text/plain": [
       "'mfcc'"
      ]
     },
     "metadata": {},
     "output_type": "display_data"
    },
    {
     "data": {
      "text/plain": [
       "(7105, 20, 259)"
      ]
     },
     "metadata": {},
     "output_type": "display_data"
    },
    {
     "data": {
      "text/plain": [
       "'chroma'"
      ]
     },
     "metadata": {},
     "output_type": "display_data"
    },
    {
     "data": {
      "text/plain": [
       "(7105, 12, 259)"
      ]
     },
     "metadata": {},
     "output_type": "display_data"
    },
    {
     "data": {
      "text/plain": [
       "'rms'"
      ]
     },
     "metadata": {},
     "output_type": "display_data"
    },
    {
     "data": {
      "text/plain": [
       "(7105, 1, 259)"
      ]
     },
     "metadata": {},
     "output_type": "display_data"
    }
   ],
   "source": [
    "train_y = features.train_y\n",
    "display(train_y.shape)\n",
    "\n",
    "train_features = features.train_features\n",
    "for key in train_features.keys():\n",
    "  display(key)\n",
    "  display(train_features[key].shape)"
   ]
  },
  {
   "cell_type": "code",
   "execution_count": 47,
   "metadata": {},
   "outputs": [
    {
     "data": {
      "text/plain": [
       "(1896,)"
      ]
     },
     "metadata": {},
     "output_type": "display_data"
    },
    {
     "data": {
      "text/plain": [
       "'melspectrogram'"
      ]
     },
     "metadata": {},
     "output_type": "display_data"
    },
    {
     "data": {
      "text/plain": [
       "(1896, 60, 259)"
      ]
     },
     "metadata": {},
     "output_type": "display_data"
    },
    {
     "data": {
      "text/plain": [
       "'mfcc'"
      ]
     },
     "metadata": {},
     "output_type": "display_data"
    },
    {
     "data": {
      "text/plain": [
       "(1896, 20, 259)"
      ]
     },
     "metadata": {},
     "output_type": "display_data"
    },
    {
     "data": {
      "text/plain": [
       "'chroma'"
      ]
     },
     "metadata": {},
     "output_type": "display_data"
    },
    {
     "data": {
      "text/plain": [
       "(1896, 12, 259)"
      ]
     },
     "metadata": {},
     "output_type": "display_data"
    },
    {
     "data": {
      "text/plain": [
       "'rms'"
      ]
     },
     "metadata": {},
     "output_type": "display_data"
    },
    {
     "data": {
      "text/plain": [
       "(1896, 1, 259)"
      ]
     },
     "metadata": {},
     "output_type": "display_data"
    }
   ],
   "source": [
    "val_y = features.val_y\n",
    "display(val_y.shape)\n",
    "\n",
    "val_features = features.val_features\n",
    "for key in val_features.keys():\n",
    "  display(key)\n",
    "  display(val_features[key].shape)"
   ]
  },
  {
   "cell_type": "markdown",
   "metadata": {},
   "source": [
    "### Encode Classes"
   ]
  },
  {
   "cell_type": "code",
   "execution_count": 48,
   "metadata": {},
   "outputs": [
    {
     "name": "stdout",
     "output_type": "stream",
     "text": [
      "Encoded classes for [0, 1, 2]: ['Acrocephalus arundinaceus', 'Acrocephalus melanopogon', 'Acrocephalus scirpaceus']\n",
      "Encoded training labels: [1 1 1 ... 5 5 5]\n",
      "Encoded validation labels: [1 1 1 ... 5 5 5]\n"
     ]
    }
   ],
   "source": [
    "label_encoder = LabelEncoder().fit(train_y)\n",
    "train_y_encoded = label_encoder.transform(train_y)\n",
    "val_y_encoded = label_encoder.transform(val_y)\n",
    "\n",
    "classes = list(label_encoder.inverse_transform([0, 1, 2]))\n",
    "print(\"Encoded classes for [0, 1, 2]:\", classes)\n",
    "print(\"Encoded training labels:\", train_y_encoded)\n",
    "print(\"Encoded validation labels:\", val_y_encoded)"
   ]
  },
  {
   "cell_type": "code",
   "execution_count": 49,
   "metadata": {},
   "outputs": [
    {
     "data": {
      "text/plain": [
       "7105"
      ]
     },
     "metadata": {},
     "output_type": "display_data"
    },
    {
     "data": {
      "text/plain": [
       "array(['Acrocephalus melanopogon', 'Acrocephalus melanopogon',\n",
       "       'Acrocephalus melanopogon', 'Acrocephalus melanopogon',\n",
       "       'Acrocephalus melanopogon', 'Acrocephalus melanopogon',\n",
       "       'Acrocephalus melanopogon', 'Acrocephalus melanopogon',\n",
       "       'Acrocephalus melanopogon', 'Acrocephalus melanopogon'],\n",
       "      dtype='<U25')"
      ]
     },
     "metadata": {},
     "output_type": "display_data"
    },
    {
     "data": {
      "text/plain": [
       "1896"
      ]
     },
     "metadata": {},
     "output_type": "display_data"
    },
    {
     "data": {
      "text/plain": [
       "array(['Acrocephalus melanopogon', 'Acrocephalus melanopogon',\n",
       "       'Acrocephalus melanopogon', 'Acrocephalus melanopogon',\n",
       "       'Acrocephalus melanopogon', 'Acrocephalus melanopogon',\n",
       "       'Acrocephalus melanopogon', 'Acrocephalus melanopogon',\n",
       "       'Acrocephalus melanopogon', 'Acrocephalus melanopogon'],\n",
       "      dtype='<U25')"
      ]
     },
     "metadata": {},
     "output_type": "display_data"
    }
   ],
   "source": [
    "display(len(train_y))\n",
    "display(train_y[:10])\n",
    "\n",
    "display(len(val_y))\n",
    "display(val_y[:10])"
   ]
  },
  {
   "cell_type": "code",
   "execution_count": 50,
   "metadata": {},
   "outputs": [],
   "source": [
    "train_features['label'] = train_y_encoded\n",
    "val_features['label'] = val_y_encoded"
   ]
  },
  {
   "cell_type": "code",
   "execution_count": 51,
   "metadata": {},
   "outputs": [
    {
     "data": {
      "text/plain": [
       "{'train': {'melspectrogram': array([[[2.70414866e-03, 2.79165306e-04, 2.78151976e-06, ...,\n",
       "           2.09090982e-14, 1.00035500e-07, 4.10201886e-06],\n",
       "          [2.85087147e-03, 2.95306839e-04, 3.42857310e-06, ...,\n",
       "           2.42591675e-14, 1.00793242e-07, 4.13385302e-06],\n",
       "          [3.04498922e-03, 3.15533762e-04, 4.71718391e-06, ...,\n",
       "           3.06456201e-14, 1.02097112e-07, 4.18868937e-06],\n",
       "          ...,\n",
       "          [4.71950382e-06, 6.96979924e-07, 9.83989841e-06, ...,\n",
       "           4.76671411e-08, 2.59462464e-08, 1.32848568e-07],\n",
       "          [4.43196142e-06, 4.70733005e-07, 1.06044568e-07, ...,\n",
       "           2.24950763e-10, 2.39690650e-09, 9.34205219e-08],\n",
       "          [4.34125244e-06, 4.54310514e-07, 3.83112779e-09, ...,\n",
       "           6.16144049e-13, 1.95562647e-09, 8.06973052e-08]],\n",
       "  \n",
       "         [[1.73426295e-05, 3.63408438e-06, 4.80290598e-13, ...,\n",
       "           1.60876280e-14, 7.00188949e-08, 1.07775013e-06],\n",
       "          [1.84753151e-05, 3.87795431e-06, 5.39064175e-13, ...,\n",
       "           2.48021127e-14, 7.05198033e-08, 1.08664800e-06],\n",
       "          [2.04588793e-05, 4.30499024e-06, 6.48974409e-13, ...,\n",
       "           4.23482850e-14, 7.14385292e-08, 1.10314929e-06],\n",
       "          ...,\n",
       "          [3.96494239e-05, 1.00302657e-05, 1.57459005e-06, ...,\n",
       "           4.01477919e-08, 4.75987657e-06, 7.04755487e-05],\n",
       "          [3.67085359e-05, 7.86056852e-06, 1.57349826e-08, ...,\n",
       "           1.53969906e-10, 4.29632397e-06, 6.42517428e-05],\n",
       "          [3.50700349e-05, 7.49661568e-06, 6.95534630e-12, ...,\n",
       "           2.00168533e-13, 4.05157044e-06, 6.05970857e-05]],\n",
       "  \n",
       "         [[1.39905270e-03, 1.33439757e-04, 5.75273763e-13, ...,\n",
       "           5.89841679e-15, 2.38372515e-06, 6.72347600e-05],\n",
       "          [1.40995976e-03, 1.34493797e-04, 7.78146365e-13, ...,\n",
       "           5.89168719e-15, 2.39343733e-06, 6.75112785e-05],\n",
       "          [1.42874367e-03, 1.36310827e-04, 1.17197668e-12, ...,\n",
       "           5.91434109e-15, 2.40969361e-06, 6.79760697e-05],\n",
       "          ...,\n",
       "          [4.59703481e-05, 7.59484151e-06, 3.31000770e-06, ...,\n",
       "           2.19214266e-07, 4.23863572e-07, 4.99294751e-06],\n",
       "          [3.20205388e-05, 3.08347345e-06, 2.79666755e-08, ...,\n",
       "           4.69631745e-10, 1.64111417e-07, 4.64225419e-06],\n",
       "          [2.75633313e-05, 2.63967036e-06, 1.70151279e-11, ...,\n",
       "           6.40257895e-13, 1.57878817e-07, 4.48530469e-06]],\n",
       "  \n",
       "         ...,\n",
       "  \n",
       "         [[5.06434348e-05, 9.09517381e-06, 1.52639599e-14, ...,\n",
       "           5.69565579e-13, 2.31836661e-06, 1.23076619e-04],\n",
       "          [5.55218977e-05, 1.00320887e-05, 2.95995962e-14, ...,\n",
       "           6.60314978e-13, 2.35852713e-06, 1.25182668e-04],\n",
       "          [6.37263562e-05, 1.16083006e-05, 1.14836980e-13, ...,\n",
       "           9.92855998e-13, 2.42734571e-06, 1.28778994e-04],\n",
       "          ...,\n",
       "          [2.96187718e-04, 5.68894053e-05, 1.47466885e-09, ...,\n",
       "           4.53442650e-08, 4.78775768e-07, 4.50262898e-06],\n",
       "          [2.84664897e-04, 5.46768209e-05, 6.64319276e-12, ...,\n",
       "           5.44945204e-11, 4.76368422e-08, 2.45046971e-06],\n",
       "          [2.77596122e-04, 5.33190259e-05, 5.50000942e-15, ...,\n",
       "           2.03706242e-14, 4.04135928e-08, 2.11266646e-06]],\n",
       "  \n",
       "         [[5.56861646e-05, 7.75421187e-06, 5.67162777e-13, ...,\n",
       "           2.99704819e-12, 2.66991946e-06, 9.18656481e-05],\n",
       "          [5.57014747e-05, 7.76113961e-06, 6.57309546e-13, ...,\n",
       "           3.33602974e-12, 2.74875521e-06, 9.43955498e-05],\n",
       "          [5.57237387e-05, 7.77350195e-06, 1.14769264e-12, ...,\n",
       "           7.37023754e-12, 2.88360077e-06, 9.86423159e-05],\n",
       "          ...,\n",
       "          [2.85943282e-05, 3.87109110e-06, 1.40175530e-08, ...,\n",
       "           1.93152139e-06, 2.60577479e-06, 1.51937388e-05],\n",
       "          [2.71836699e-05, 3.67603141e-06, 6.09528175e-11, ...,\n",
       "           4.58665303e-09, 4.21866406e-07, 1.38566840e-05],\n",
       "          [2.63366889e-05, 3.56136722e-06, 6.45853468e-14, ...,\n",
       "           1.32588386e-11, 4.00097029e-07, 1.33085883e-05]],\n",
       "  \n",
       "         [[5.08842227e-05, 4.11923279e-06, 1.80624602e-13, ...,\n",
       "           1.22436387e-13, 7.28907259e-06, 1.16067580e-04],\n",
       "          [5.17514505e-05, 4.18895742e-06, 2.00314317e-13, ...,\n",
       "           5.55760340e-13, 7.35569525e-06, 1.17167682e-04],\n",
       "          [5.32323621e-05, 4.30770062e-06, 2.87563927e-13, ...,\n",
       "           1.49348624e-11, 7.46034943e-06, 1.18888211e-04],\n",
       "          ...,\n",
       "          [1.82674126e-06, 3.97582696e-07, 1.90684223e-07, ...,\n",
       "           1.31639087e-06, 1.34078768e-06, 4.33230117e-06],\n",
       "          [9.93346823e-07, 8.12699815e-08, 1.61171735e-09, ...,\n",
       "           1.50839142e-08, 1.99053998e-07, 3.10586924e-06],\n",
       "          [8.70749282e-07, 6.98577905e-08, 6.69438056e-13, ...,\n",
       "           1.15469170e-11, 1.62286066e-07, 2.63052798e-06]]]),\n",
       "  'mfcc': array([[[-1.        , -1.        , -1.        , ..., -1.        ,\n",
       "           -1.        , -1.        ],\n",
       "          [ 0.        ,  0.        ,  0.        , ..., -0.17373779,\n",
       "           -0.15781579, -0.05468241],\n",
       "          [ 0.        ,  0.        ,  0.        , ..., -0.39485264,\n",
       "           -0.38463603, -0.29000239],\n",
       "          ...,\n",
       "          [ 0.        ,  0.        ,  0.        , ...,  0.02551025,\n",
       "            0.0194228 ,  0.00951044],\n",
       "          [ 0.        ,  0.        ,  0.        , ...,  0.04056614,\n",
       "            0.05098266,  0.05237005],\n",
       "          [ 0.        ,  0.        ,  0.        , ..., -0.02892263,\n",
       "           -0.0435002 , -0.03670363]],\n",
       "  \n",
       "         [[-1.        , -1.        , -1.        , ..., -1.        ,\n",
       "           -1.        , -1.        ],\n",
       "          [-0.1250103 , -0.14365384, -0.14427565, ..., -0.14800547,\n",
       "           -0.27352785, -0.32687188],\n",
       "          [-0.29100875, -0.34141116, -0.34730072, ..., -0.35557446,\n",
       "           -0.33805607, -0.27873464],\n",
       "          ...,\n",
       "          [ 0.00269876, -0.00462969, -0.01050022, ..., -0.01653787,\n",
       "           -0.03339773, -0.03757058],\n",
       "          [ 0.00400064,  0.00574322,  0.00192427, ...,  0.01209587,\n",
       "            0.02777838,  0.02106539],\n",
       "          [-0.00302651, -0.00398999, -0.00612853, ...,  0.02050334,\n",
       "            0.02001798,  0.02699105]],\n",
       "  \n",
       "         [[-1.        , -1.        , -1.        , ..., -1.        ,\n",
       "           -1.        , -1.        ],\n",
       "          [-0.02042024, -0.08514001, -0.12648469, ..., -0.19249881,\n",
       "           -0.13378753, -0.03346993],\n",
       "          [-0.22455168, -0.28027467, -0.31234968, ..., -0.37973282,\n",
       "           -0.33874314, -0.23838497],\n",
       "          ...,\n",
       "          [ 0.00641527,  0.00341021, -0.00260231, ..., -0.03104352,\n",
       "           -0.03002155, -0.03346619],\n",
       "          [ 0.03143024,  0.02779777,  0.03388032, ...,  0.0102597 ,\n",
       "            0.02296281,  0.01447938],\n",
       "          [-0.02621753, -0.02771605, -0.03030736, ...,  0.02567885,\n",
       "            0.01756717,  0.02173806]],\n",
       "  \n",
       "         ...,\n",
       "  \n",
       "         [[-1.        , -1.        , -1.        , ..., -1.        ,\n",
       "           -1.        , -1.        ],\n",
       "          [-0.11279961, -0.09692901, -0.08578303, ..., -0.1176853 ,\n",
       "           -0.13632333, -0.06050285],\n",
       "          [-0.49731987, -0.55674417, -0.59895944, ..., -0.64550887,\n",
       "           -0.54392418, -0.4458609 ],\n",
       "          ...,\n",
       "          [ 0.01744117,  0.01418096, -0.02485191, ..., -0.0062013 ,\n",
       "           -0.00940606, -0.00931153],\n",
       "          [-0.03885929, -0.02161129, -0.00516484, ..., -0.00586994,\n",
       "           -0.00590585,  0.00410327],\n",
       "          [-0.02937522, -0.00585464, -0.01466625, ..., -0.04743522,\n",
       "           -0.04039878, -0.02412593]],\n",
       "  \n",
       "         [[-1.        , -1.        , -1.        , ..., -1.        ,\n",
       "           -1.        , -1.        ],\n",
       "          [ 0.02975485,  0.0212539 ,  0.00443176, ..., -0.03201306,\n",
       "           -0.02572209,  0.03827351],\n",
       "          [-0.38589112, -0.44974588, -0.47539009, ..., -0.28333064,\n",
       "           -0.26789213, -0.21379362],\n",
       "          ...,\n",
       "          [ 0.00130686, -0.00482763, -0.0050046 , ..., -0.01117125,\n",
       "           -0.01056705, -0.00358769],\n",
       "          [-0.01129816, -0.01124566, -0.00370088, ...,  0.00727175,\n",
       "            0.00299851,  0.0038515 ],\n",
       "          [-0.02025784, -0.01979136, -0.02186905, ..., -0.02604713,\n",
       "           -0.01868253, -0.00498709]],\n",
       "  \n",
       "         [[-1.        , -1.        , -1.        , ..., -1.        ,\n",
       "           -1.        , -1.        ],\n",
       "          [-0.0429573 , -0.09994193, -0.18008914, ..., -0.02071375,\n",
       "           -0.00175443,  0.00660948],\n",
       "          [-0.46330191, -0.58651592, -0.6687421 , ..., -0.18496168,\n",
       "           -0.1864368 , -0.16813055],\n",
       "          ...,\n",
       "          [ 0.00294732,  0.01416223, -0.00517411, ...,  0.00539114,\n",
       "            0.00391434,  0.00583776],\n",
       "          [ 0.00588758,  0.01734421,  0.00714383, ...,  0.02321898,\n",
       "            0.01662294,  0.01354547],\n",
       "          [-0.02734336, -0.03985411, -0.05648294, ..., -0.00336891,\n",
       "           -0.01338007, -0.01864067]]]),\n",
       "  'chroma': array([[[0.45077237, 0.30515629, 1.        , ..., 0.00620036,\n",
       "           0.00270077, 0.00414615],\n",
       "          [0.65338778, 0.44659847, 0.54656498, ..., 0.02414146,\n",
       "           0.0047452 , 0.00424311],\n",
       "          [0.3450437 , 0.33197443, 0.2480833 , ..., 0.0148384 ,\n",
       "           0.0039918 , 0.00430862],\n",
       "          ...,\n",
       "          [0.3890048 , 0.18626708, 0.06416709, ..., 1.        ,\n",
       "           1.        , 1.        ],\n",
       "          [0.5294871 , 0.30290457, 0.27944772, ..., 0.49158959,\n",
       "           0.23289739, 0.08844084],\n",
       "          [1.        , 1.        , 0.87511089, ..., 0.01600375,\n",
       "           0.00801504, 0.00756762]],\n",
       "  \n",
       "         [[0.10996899, 0.16903949, 0.17930358, ..., 1.        ,\n",
       "           1.        , 0.27677959],\n",
       "          [0.09855903, 0.10636092, 0.09141939, ..., 0.05962343,\n",
       "           0.10834873, 0.09708431],\n",
       "          [0.07009048, 0.11088342, 0.13036132, ..., 0.00655165,\n",
       "           0.09024913, 0.46821447],\n",
       "          ...,\n",
       "          [0.24689786, 0.36923429, 0.3379511 , ..., 0.01331559,\n",
       "           0.06984826, 0.01975651],\n",
       "          [0.22696715, 0.28770531, 0.2533592 , ..., 0.01001625,\n",
       "           0.00854835, 0.00486775],\n",
       "          [0.16039076, 0.22653598, 0.23423613, ..., 0.44557709,\n",
       "           0.27007662, 0.05039359]],\n",
       "  \n",
       "         [[0.22687471, 0.20909647, 0.23801708, ..., 1.        ,\n",
       "           0.36255286, 0.36939309],\n",
       "          [0.25518096, 0.16839662, 0.13586114, ..., 0.78208244,\n",
       "           1.        , 0.88347397],\n",
       "          [0.26519221, 0.20752961, 0.25355824, ..., 0.0745095 ,\n",
       "           0.5961531 , 1.        ],\n",
       "          ...,\n",
       "          [1.        , 1.        , 0.92795926, ..., 0.00722987,\n",
       "           0.0050907 , 0.0054696 ],\n",
       "          [0.43790049, 0.4430944 , 0.44338041, ..., 0.00742805,\n",
       "           0.00461403, 0.00806128],\n",
       "          [0.23904741, 0.24271999, 0.3073915 , ..., 0.05920338,\n",
       "           0.01704068, 0.03132485]],\n",
       "  \n",
       "         ...,\n",
       "  \n",
       "         [[0.74578517, 0.75102403, 0.82633941, ..., 0.54574487,\n",
       "           0.39496574, 0.30359863],\n",
       "          [0.17124246, 0.19886807, 0.27532378, ..., 0.1453367 ,\n",
       "           0.21796434, 0.19465072],\n",
       "          [0.17692037, 0.21396985, 0.23945664, ..., 0.17602478,\n",
       "           0.39395945, 0.30732885],\n",
       "          ...,\n",
       "          [0.0712231 , 0.0654953 , 0.18492642, ..., 0.183057  ,\n",
       "           0.1542146 , 0.49921907],\n",
       "          [0.44226063, 0.48847382, 0.61197351, ..., 0.62560758,\n",
       "           0.32996602, 0.45788835],\n",
       "          [1.        , 1.        , 1.        , ..., 1.        ,\n",
       "           0.53308017, 0.39526837]],\n",
       "  \n",
       "         [[0.88073143, 1.        , 1.        , ..., 0.86802659,\n",
       "           1.        , 1.        ],\n",
       "          [0.5511403 , 0.33281154, 0.28872178, ..., 0.83962596,\n",
       "           0.80064674, 0.59742588],\n",
       "          [0.42601543, 0.29208351, 0.22617806, ..., 0.87445914,\n",
       "           0.46809003, 0.59750325],\n",
       "          ...,\n",
       "          [0.14800936, 0.18007881, 0.19533858, ..., 0.75327675,\n",
       "           0.76235948, 0.67479081],\n",
       "          [0.81521754, 0.63692852, 0.36699813, ..., 0.93588006,\n",
       "           0.84710707, 0.56460809],\n",
       "          [1.        , 0.94581233, 0.89424253, ..., 1.        ,\n",
       "           0.88489639, 0.65888317]],\n",
       "  \n",
       "         [[0.29941684, 0.16272688, 0.29591823, ..., 0.33181226,\n",
       "           0.59604956, 0.40044366],\n",
       "          [0.16768353, 0.1384328 , 0.22099703, ..., 0.59392139,\n",
       "           0.52938164, 0.21811922],\n",
       "          [0.21276446, 0.29774522, 0.33204856, ..., 1.        ,\n",
       "           0.68113051, 0.3386935 ],\n",
       "          ...,\n",
       "          [0.20122383, 0.41105234, 0.41961332, ..., 0.32883453,\n",
       "           0.69179187, 0.6374972 ],\n",
       "          [0.15905535, 0.41940777, 0.85768936, ..., 0.24230229,\n",
       "           0.91271099, 1.        ],\n",
       "          [0.15695147, 0.18788433, 0.57057005, ..., 0.27786323,\n",
       "           0.80103159, 0.59896911]]]),\n",
       "  'rms': array([[[3.3467971e-16, 4.0070487e-16, 2.4773185e-06, ...,\n",
       "           1.7302422e-02, 1.7318817e-02, 1.6285693e-02]],\n",
       "  \n",
       "         [[4.0657683e-03, 5.0088488e-03, 5.6135925e-03, ...,\n",
       "           2.7793428e-02, 3.1014759e-02, 2.9739056e-02]],\n",
       "  \n",
       "         [[2.4061729e-03, 2.9392322e-03, 1.7562231e-02, ...,\n",
       "           2.3618627e-02, 2.2783406e-02, 1.9530155e-02]],\n",
       "  \n",
       "         ...,\n",
       "  \n",
       "         [[4.4105925e-02, 4.5378849e-02, 4.6441883e-02, ...,\n",
       "           3.5056472e-02, 2.5032466e-02, 1.3008641e-02]],\n",
       "  \n",
       "         [[9.3406234e-03, 1.0476657e-02, 1.1538275e-02, ...,\n",
       "           3.7115151e-03, 2.9345150e-03, 2.4154515e-03]],\n",
       "  \n",
       "         [[2.1762313e-02, 2.8868295e-02, 3.5381507e-02, ...,\n",
       "           1.2147335e-03, 7.8107312e-04, 6.1788107e-04]]], dtype=float32),\n",
       "  'label': array([1, 1, 1, ..., 5, 5, 5])},\n",
       " 'val': {'melspectrogram': array([[[3.20727065e-05, 1.70512106e-06, 1.61698192e-11, ...,\n",
       "           6.99078403e-15, 9.09006570e-05, 4.15736281e-04],\n",
       "          [3.22422717e-05, 1.71387116e-06, 1.71018208e-11, ...,\n",
       "           7.35246074e-15, 9.10404223e-05, 4.16374167e-04],\n",
       "          [3.25622734e-05, 1.73066317e-06, 2.72505511e-11, ...,\n",
       "           8.27085953e-15, 9.12738954e-05, 4.17439906e-04],\n",
       "          ...,\n",
       "          [5.14212831e-05, 6.76458209e-06, 2.39359128e-06, ...,\n",
       "           1.27000189e-09, 6.52113586e-06, 2.99078099e-05],\n",
       "          [3.93156198e-05, 2.11725020e-06, 1.69905801e-08, ...,\n",
       "           8.64497294e-12, 5.84504725e-06, 2.68147563e-05],\n",
       "          [3.57245249e-05, 1.90032216e-06, 7.52069991e-12, ...,\n",
       "           5.09266877e-15, 5.44659452e-06, 2.49888465e-05]],\n",
       "  \n",
       "         [[4.32216167e-05, 1.06441040e-05, 5.35616229e-14, ...,\n",
       "           1.22390666e-15, 9.81753704e-07, 7.84455117e-05],\n",
       "          [4.38289053e-05, 1.07966869e-05, 5.72430310e-14, ...,\n",
       "           1.38323235e-15, 9.84363301e-07, 7.86690257e-05],\n",
       "          [4.48509481e-05, 1.10535462e-05, 6.44837344e-14, ...,\n",
       "           2.30541879e-15, 9.89100611e-07, 7.90444729e-05],\n",
       "          ...,\n",
       "          [1.65377342e-04, 4.14041947e-05, 4.28108612e-09, ...,\n",
       "           1.08349139e-09, 7.13780353e-08, 4.90441071e-06],\n",
       "          [1.55668963e-04, 3.89724709e-05, 1.22159692e-11, ...,\n",
       "           7.01587187e-12, 6.19931675e-08, 4.92205459e-06],\n",
       "          [1.49847184e-04, 3.75147347e-05, 1.57571033e-14, ...,\n",
       "           3.46565216e-15, 6.16604896e-08, 4.89650250e-06]],\n",
       "  \n",
       "         [[1.38927692e-04, 3.73340197e-05, 2.31414740e-14, ...,\n",
       "           1.44602135e-15, 1.54577526e-06, 2.46019279e-05],\n",
       "          [1.39140752e-04, 3.73912040e-05, 2.33982592e-14, ...,\n",
       "           1.72776902e-15, 1.54839888e-06, 2.46440843e-05],\n",
       "          [1.39496761e-04, 3.74867442e-05, 2.45355225e-14, ...,\n",
       "           3.61964461e-15, 1.55279160e-06, 2.47145718e-05],\n",
       "          ...,\n",
       "          [1.00004560e-05, 2.69248110e-06, 6.55983400e-10, ...,\n",
       "           1.91234928e-09, 9.63909150e-07, 1.54465206e-05],\n",
       "          [8.96621221e-06, 2.41407134e-06, 2.13633533e-12, ...,\n",
       "           8.59856703e-12, 9.01459447e-07, 1.44675063e-05],\n",
       "          [8.35582884e-06, 2.24984669e-06, 3.16834660e-15, ...,\n",
       "           9.78408366e-15, 8.64688978e-07, 1.38790515e-05]],\n",
       "  \n",
       "         ...,\n",
       "  \n",
       "         [[5.85685885e-06, 6.45287035e-07, 1.01928568e-12, ...,\n",
       "           4.14132927e-14, 2.52466254e-04, 3.73900307e-03],\n",
       "          [6.64906224e-06, 7.28075395e-07, 1.16348655e-12, ...,\n",
       "           7.54129709e-14, 2.53894745e-04, 3.76002988e-03],\n",
       "          [8.08529440e-06, 8.78169977e-07, 1.45529703e-12, ...,\n",
       "           2.59712300e-13, 2.56293834e-04, 3.79535250e-03],\n",
       "          ...,\n",
       "          [4.95372932e-05, 5.29086241e-06, 1.22242434e-15, ...,\n",
       "           1.83764816e-08, 5.61301721e-06, 8.34868620e-05],\n",
       "          [4.71100085e-05, 5.03203802e-06, 1.80135151e-14, ...,\n",
       "           1.01521132e-10, 5.28826148e-06, 7.87342156e-05],\n",
       "          [4.56486621e-05, 4.87608923e-06, 1.22029272e-15, ...,\n",
       "           8.35177462e-14, 5.09690081e-06, 7.58873318e-05]],\n",
       "  \n",
       "         [[4.23283280e-04, 6.53650051e-05, 4.62698290e-13, ...,\n",
       "           5.98409383e-15, 7.17400242e-06, 1.47156986e-04],\n",
       "          [4.26951456e-04, 6.59205835e-05, 4.81440644e-13, ...,\n",
       "           2.35676114e-14, 7.22966105e-06, 1.48335237e-04],\n",
       "          [4.33117279e-04, 6.68527595e-05, 5.13051426e-13, ...,\n",
       "           6.48273492e-14, 7.32293780e-06, 1.50313838e-04],\n",
       "          ...,\n",
       "          [2.69235020e-05, 4.12765938e-06, 1.32721433e-09, ...,\n",
       "           5.79256732e-12, 1.50922571e-08, 3.05643743e-07],\n",
       "          [2.58037485e-05, 3.95543505e-06, 7.75124832e-12, ...,\n",
       "           2.40201079e-12, 1.42548845e-08, 2.89060788e-07],\n",
       "          [2.51270802e-05, 3.85166562e-06, 1.08110254e-15, ...,\n",
       "           3.42698994e-16, 1.38444811e-08, 2.80715988e-07]],\n",
       "  \n",
       "         [[2.97158252e-03, 2.85226650e-04, 4.52995963e-13, ...,\n",
       "           4.84470662e-14, 5.84296734e-05, 1.70908113e-03],\n",
       "          [2.98828107e-03, 2.86823808e-04, 4.97379536e-13, ...,\n",
       "           5.45144784e-14, 5.91099166e-05, 1.72915237e-03],\n",
       "          [3.01631448e-03, 2.89505767e-04, 5.77359655e-13, ...,\n",
       "           7.53752136e-14, 6.02711945e-05, 1.76340203e-03],\n",
       "          ...,\n",
       "          [6.64369358e-05, 6.39903299e-06, 3.32201681e-10, ...,\n",
       "           8.51727042e-10, 9.32834658e-07, 2.68121931e-05],\n",
       "          [6.26423131e-05, 6.03302597e-06, 5.71884228e-12, ...,\n",
       "           3.69160296e-13, 8.88846173e-07, 2.56327751e-05],\n",
       "          [6.03767730e-05, 5.81491758e-06, 7.10682441e-15, ...,\n",
       "           3.65576162e-15, 8.64249566e-07, 2.49212923e-05]]]),\n",
       "  'mfcc': array([[[-1.00000000e+00, -1.00000000e+00, -1.00000000e+00, ...,\n",
       "           -1.00000000e+00, -1.00000000e+00, -1.00000000e+00],\n",
       "          [ 0.00000000e+00, -4.21115694e-03, -1.40191113e-02, ...,\n",
       "           -2.80925419e-01, -8.81853179e-02,  8.71704823e-04],\n",
       "          [ 0.00000000e+00, -6.02528820e-03, -3.05556453e-02, ...,\n",
       "           -5.05988784e-01, -3.32429502e-01, -2.65389669e-01],\n",
       "          ...,\n",
       "          [ 0.00000000e+00,  1.73029867e-03,  1.44067490e-03, ...,\n",
       "            2.62413701e-02,  2.97358474e-02,  4.41919757e-02],\n",
       "          [ 0.00000000e+00, -9.87490846e-04,  3.90160627e-03, ...,\n",
       "            2.05495336e-02,  3.22354432e-02,  1.85131726e-02],\n",
       "          [ 0.00000000e+00,  2.31647256e-03,  3.03908238e-03, ...,\n",
       "           -4.18931081e-02, -4.97590135e-02, -6.25022653e-02]],\n",
       "  \n",
       "         [[-1.00000000e+00, -1.00000000e+00, -1.00000000e+00, ...,\n",
       "           -1.00000000e+00, -1.00000000e+00, -1.00000000e+00],\n",
       "          [-2.87259790e-01, -3.14666940e-01, -2.75510199e-01, ...,\n",
       "           -2.62641065e-01, -2.19813280e-01, -1.50801132e-01],\n",
       "          [-2.99974657e-01, -3.60342878e-01, -3.96446309e-01, ...,\n",
       "           -4.42418738e-01, -3.30485710e-01, -2.84583300e-01],\n",
       "          ...,\n",
       "          [ 6.81462152e-03,  1.00379751e-02,  1.36595230e-02, ...,\n",
       "            7.68045085e-04,  3.17950558e-03,  1.22476324e-03],\n",
       "          [ 3.33370876e-02,  1.82451404e-02,  1.20838226e-02, ...,\n",
       "           -1.47480078e-03, -8.54561902e-03, -1.86226073e-02],\n",
       "          [-3.88050544e-03, -9.76951106e-03, -2.16310706e-02, ...,\n",
       "           -7.97306195e-03,  9.15351175e-03,  1.32817715e-02]],\n",
       "  \n",
       "         [[-1.00000000e+00, -1.00000000e+00, -1.00000000e+00, ...,\n",
       "           -1.00000000e+00, -1.00000000e+00, -1.00000000e+00],\n",
       "          [-1.70420180e-02, -1.13315872e-01, -3.01735455e-01, ...,\n",
       "           -2.85902753e-01, -3.00497382e-01, -2.61680590e-01],\n",
       "          [-3.14542538e-01, -4.47126624e-01, -5.24059540e-01, ...,\n",
       "           -3.80459492e-01, -3.90703494e-01, -3.12929899e-01],\n",
       "          ...,\n",
       "          [ 8.16031035e-02,  5.82802047e-02,  1.73431266e-02, ...,\n",
       "           -6.12869786e-03,  2.66722072e-03,  1.66162565e-02],\n",
       "          [-9.25535235e-03, -1.83547101e-02,  1.06266112e-02, ...,\n",
       "            1.45776850e-04,  5.58284222e-03,  8.67375921e-03],\n",
       "          [-5.99303601e-02, -3.70690943e-02, -2.25652266e-02, ...,\n",
       "           -9.85422196e-04, -2.58037557e-02, -3.05814471e-02]],\n",
       "  \n",
       "         ...,\n",
       "  \n",
       "         [[-1.00000000e+00, -1.00000000e+00, -1.00000000e+00, ...,\n",
       "           -1.00000000e+00, -1.00000000e+00, -1.00000000e+00],\n",
       "          [-6.13150563e-02, -8.43447404e-02, -9.26630414e-02, ...,\n",
       "           -1.44843915e-02,  1.12135017e-01,  2.05546686e-01],\n",
       "          [-4.73658380e-01, -6.22527596e-01, -6.87383776e-01, ...,\n",
       "           -4.57538648e-01, -4.59801448e-01, -3.87227675e-01],\n",
       "          ...,\n",
       "          [-1.00383857e-02,  5.10007919e-04,  9.26022056e-04, ...,\n",
       "           -4.89370215e-03, -4.09795280e-03,  2.38358089e-03],\n",
       "          [-2.34841643e-02, -1.82798607e-02, -1.66465712e-02, ...,\n",
       "           -1.77749401e-02, -1.50930882e-02, -1.88112849e-02],\n",
       "          [-1.68259500e-02, -3.69550261e-02, -1.47661030e-02, ...,\n",
       "           -1.30854453e-02, -3.89672760e-02, -4.45556259e-02]],\n",
       "  \n",
       "         [[-1.00000000e+00, -1.00000000e+00, -1.00000000e+00, ...,\n",
       "           -1.00000000e+00, -1.00000000e+00, -1.00000000e+00],\n",
       "          [ 2.12016359e-01,  1.76740728e-01, -3.45304104e-02, ...,\n",
       "           -4.71646232e-02,  1.30428884e-01,  2.56795621e-01],\n",
       "          [-3.30695231e-01, -4.14236476e-01, -5.46562621e-01, ...,\n",
       "           -6.32970264e-01, -6.36139557e-01, -5.40973127e-01],\n",
       "          ...,\n",
       "          [-2.52669305e-02, -7.39251218e-03,  2.91513977e-04, ...,\n",
       "            3.60486056e-03,  1.76464695e-02,  2.60957581e-02],\n",
       "          [-2.91125626e-02, -3.56826737e-02, -2.92342841e-02, ...,\n",
       "           -1.61637240e-02, -3.33190639e-02, -3.13166196e-02],\n",
       "          [-1.25007466e-02, -3.61529321e-02, -3.46428589e-02, ...,\n",
       "           -1.05832062e-02, -1.32985068e-02, -3.08494004e-02]],\n",
       "  \n",
       "         [[-1.00000000e+00, -1.00000000e+00, -1.00000000e+00, ...,\n",
       "           -1.00000000e+00, -1.00000000e+00, -1.00000000e+00],\n",
       "          [ 2.26736736e-01,  1.99539721e-01, -1.94516159e-02, ...,\n",
       "           -9.92759876e-02,  9.65391290e-02,  2.03540270e-01],\n",
       "          [-3.84792792e-01, -4.90711772e-01, -5.96960290e-01, ...,\n",
       "           -6.46659523e-01, -4.90625507e-01, -3.77913846e-01],\n",
       "          ...,\n",
       "          [-1.17734264e-02, -1.40349750e-02, -5.13454502e-03, ...,\n",
       "           -4.00758371e-03,  1.22213143e-02,  1.23206477e-02],\n",
       "          [-4.44058976e-03, -1.03469680e-02, -9.71319233e-03, ...,\n",
       "           -3.04325411e-02, -2.84355036e-02, -1.94083188e-02],\n",
       "          [-1.56179342e-02, -9.66299050e-03, -2.74065941e-03, ...,\n",
       "           -3.17782573e-02, -3.10468596e-02, -1.73763011e-02]]]),\n",
       "  'chroma': array([[[1.        , 0.82158763, 0.62119429, ..., 0.02380319,\n",
       "           0.01105543, 0.0080308 ],\n",
       "          [0.48209316, 1.        , 1.        , ..., 0.02147725,\n",
       "           0.01033903, 0.00384139],\n",
       "          [0.235259  , 0.83698286, 0.96373214, ..., 0.12188505,\n",
       "           0.02243894, 0.0034344 ],\n",
       "          ...,\n",
       "          [0.18017591, 0.26969608, 0.45614751, ..., 0.38890707,\n",
       "           0.62013834, 0.44653145],\n",
       "          [0.26936556, 0.52499822, 0.52134098, ..., 0.15684905,\n",
       "           1.        , 1.        ],\n",
       "          [0.67199701, 0.71724727, 0.63761475, ..., 0.07282185,\n",
       "           0.06869306, 0.08382002]],\n",
       "  \n",
       "         [[0.2683098 , 0.43491164, 0.42227272, ..., 0.03761925,\n",
       "           0.09874713, 0.24098366],\n",
       "          [0.09511356, 0.18924732, 0.20881938, ..., 0.02280014,\n",
       "           0.07959431, 0.14060751],\n",
       "          [0.13184091, 0.17506193, 0.16096104, ..., 0.10694081,\n",
       "           0.14006471, 0.22004281],\n",
       "          ...,\n",
       "          [0.62474211, 0.92357143, 0.563859  , ..., 0.0708438 ,\n",
       "           0.27605892, 0.32426266],\n",
       "          [1.        , 1.        , 1.        , ..., 0.06394172,\n",
       "           0.2136781 , 0.26485183],\n",
       "          [0.686427  , 0.805482  , 0.69362047, ..., 0.05299557,\n",
       "           0.14633271, 0.22727529]],\n",
       "  \n",
       "         [[0.07901222, 0.11680351, 0.16400459, ..., 0.38341492,\n",
       "           0.38535306, 0.51461082],\n",
       "          [0.00708798, 0.01268611, 0.02727081, ..., 0.13406264,\n",
       "           0.12285697, 0.13188032],\n",
       "          [0.00286053, 0.00888119, 0.058557  , ..., 0.35858375,\n",
       "           0.16541652, 0.14506674],\n",
       "          ...,\n",
       "          [0.05143009, 0.04966387, 0.30540973, ..., 0.19458406,\n",
       "           0.44680744, 0.59686007],\n",
       "          [0.77933683, 0.63235582, 1.        , ..., 0.53981681,\n",
       "           0.64970725, 0.65372715],\n",
       "          [1.        , 1.        , 0.88946083, ..., 1.        ,\n",
       "           1.        , 1.        ]],\n",
       "  \n",
       "         ...,\n",
       "  \n",
       "         [[0.07743505, 0.16818292, 0.18096613, ..., 0.54379233,\n",
       "           0.33653841, 0.28800448],\n",
       "          [0.20891529, 0.19045216, 0.1596151 , ..., 0.25236097,\n",
       "           0.17944153, 0.25733292],\n",
       "          [0.3924657 , 0.37055625, 0.21061672, ..., 0.32473051,\n",
       "           0.64051459, 0.69169506],\n",
       "          ...,\n",
       "          [1.        , 1.        , 0.25488667, ..., 0.72343019,\n",
       "           0.64925429, 0.95916028],\n",
       "          [0.63493465, 0.61141174, 0.28776969, ..., 0.73826463,\n",
       "           0.60932826, 0.72070221],\n",
       "          [0.22191725, 0.3374475 , 0.34753046, ..., 1.        ,\n",
       "           0.82984429, 0.87138225]],\n",
       "  \n",
       "         [[0.12637339, 0.04699507, 0.02106903, ..., 0.03906271,\n",
       "           0.05514295, 0.04280925],\n",
       "          [0.16142536, 0.09419178, 0.01923244, ..., 0.14075625,\n",
       "           0.10388085, 0.09610618],\n",
       "          [0.12055691, 0.07283609, 0.03653388, ..., 0.48152396,\n",
       "           0.1537081 , 0.18691267],\n",
       "          ...,\n",
       "          [0.10780867, 0.16612899, 0.25053825, ..., 0.07728425,\n",
       "           0.08686639, 0.08404703],\n",
       "          [0.14716988, 0.27871749, 0.3220251 , ..., 0.07546477,\n",
       "           0.08536276, 0.0781283 ],\n",
       "          [0.20040451, 0.16107645, 0.10467604, ..., 0.04612757,\n",
       "           0.03897899, 0.033696  ]],\n",
       "  \n",
       "         [[0.68785978, 0.57849681, 0.34896289, ..., 0.85391235,\n",
       "           0.3078534 , 0.25808923],\n",
       "          [0.15210995, 0.22129616, 0.26840228, ..., 0.25168961,\n",
       "           0.16840504, 0.26914057],\n",
       "          [0.14954062, 0.13208163, 0.10379142, ..., 0.12461795,\n",
       "           0.12390337, 0.13049766],\n",
       "          ...,\n",
       "          [0.53685625, 0.51313537, 0.49988096, ..., 0.1496399 ,\n",
       "           0.20896966, 0.39809802],\n",
       "          [0.61081599, 1.        , 1.        , ..., 0.34457973,\n",
       "           0.71464512, 1.        ],\n",
       "          [1.        , 0.7160754 , 0.58608661, ..., 1.        ,\n",
       "           1.        , 0.91206503]]]),\n",
       "  'rms': array([[[5.05370808e-05, 8.78098072e-05, 2.15589171e-04, ...,\n",
       "           5.13823703e-02, 7.03647807e-02, 5.86311743e-02]],\n",
       "  \n",
       "         [[3.79729755e-02, 3.94145846e-02, 4.04817984e-02, ...,\n",
       "           4.70338650e-02, 3.57368961e-02, 1.08616240e-02]],\n",
       "  \n",
       "         [[1.24829374e-01, 1.25926673e-01, 1.26548901e-01, ...,\n",
       "           4.16470319e-02, 4.78326976e-02, 4.67219427e-02]],\n",
       "  \n",
       "         ...,\n",
       "  \n",
       "         [[1.71901062e-02, 2.60976255e-02, 3.16082686e-02, ...,\n",
       "           1.17451707e-02, 1.27976313e-02, 1.20178480e-02]],\n",
       "  \n",
       "         [[1.65713187e-02, 1.89913698e-02, 2.15556379e-02, ...,\n",
       "           2.83418819e-02, 2.86460817e-02, 2.65037678e-02]],\n",
       "  \n",
       "         [[1.61668118e-02, 1.95897371e-02, 2.23035850e-02, ...,\n",
       "           2.70717498e-02, 2.05202401e-02, 1.15826698e-02]]], dtype=float32),\n",
       "  'label': array([1, 1, 1, ..., 5, 5, 5])}}"
      ]
     },
     "execution_count": 51,
     "metadata": {},
     "output_type": "execute_result"
    }
   ],
   "source": [
    "merged_dict = {'train': train_features, 'val': val_features}\n",
    "merged_dict"
   ]
  },
  {
   "cell_type": "markdown",
   "metadata": {},
   "source": [
    "### Save the merged dictionary to a pkl"
   ]
  },
  {
   "cell_type": "code",
   "execution_count": 52,
   "metadata": {},
   "outputs": [],
   "source": [
    "with open('C:/Users/thato/Documents/Final-Year-Project/Dataset/Project-V4/feature-extraction/NotAnnotated/NotAveragePooled/split_features_6s_all.pkl', 'wb') as file:\n",
    "  pickle.dump(merged_dict, file)"
   ]
  }
 ],
 "metadata": {
  "kernelspec": {
   "display_name": "Python 3",
   "language": "python",
   "name": "python3"
  },
  "language_info": {
   "codemirror_mode": {
    "name": "ipython",
    "version": 3
   },
   "file_extension": ".py",
   "mimetype": "text/x-python",
   "name": "python",
   "nbconvert_exporter": "python",
   "pygments_lexer": "ipython3",
   "version": "3.12.4"
  }
 },
 "nbformat": 4,
 "nbformat_minor": 2
}
