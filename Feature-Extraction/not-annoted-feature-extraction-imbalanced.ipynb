{
 "cells": [
  {
   "cell_type": "markdown",
   "metadata": {},
   "source": [
    "# **Feature Extraction Methods: Imbalanced Data Without Annotations**\n",
    "\n",
    "- *Key Features*: [MFCCs, Mel-Spectrograms, Chroma Frequencies, RMS Power]\n",
    "- *Key Manipulations*: [Varying Window Sizes, Normalization, Average Pooling (Compression), Filtering]\n",
    "- *Process Assistence*: [Converting them to numpy arrays now, easy label access across features]\n",
    "- *Conversion*: [To numpy arrays and pkl files]\n"
   ]
  },
  {
   "cell_type": "code",
   "execution_count": 1,
   "metadata": {},
   "outputs": [
    {
     "name": "stdout",
     "output_type": "stream",
     "text": [
      "pygame 2.6.1 (SDL 2.28.4, Python 3.12.4)\n",
      "Hello from the pygame community. https://www.pygame.org/contribute.html\n"
     ]
    }
   ],
   "source": [
    "# Standard libraries\n",
    "import numpy as np\n",
    "import pandas as pd\n",
    "import os\n",
    "import time\n",
    "\n",
    "# Libraries for audio\n",
    "from IPython.display import Audio\n",
    "import librosa\n",
    "import librosa.display\n",
    "\n",
    "# Training and Testing Split\n",
    "from sklearn.model_selection import train_test_split\n",
    "\n",
    "# for normalization & avgpooling features\n",
    "import tensorflow as tf\n",
    "# for preprocessing\n",
    "from sklearn.preprocessing import LabelEncoder\n",
    "from sklearn.preprocessing import MinMaxScaler\n",
    "from sklearn.preprocessing import OneHotEncoder\n",
    "\n",
    "# Operational\n",
    "from tqdm import tqdm\n",
    "import matplotlib.pyplot as plt\n",
    "import seaborn as sns\n",
    "import pickle\n",
    "import scipy.ndimage\n",
    "import pygame\n",
    "import time\n",
    "from scipy.signal import butter, filtfilt\n",
    "import random\n",
    "import IPython.display as ipd\n",
    "from functools import partial"
   ]
  },
  {
   "cell_type": "code",
   "execution_count": 2,
   "metadata": {},
   "outputs": [],
   "source": [
    "# Variabels to be reused\n",
    "path = 'C:/Users/thato/Documents/Final-Year-Project/Dataset/Project-V4/audio_files' \n",
    "npy_path = 'C:/Users/thato/Documents/Final-Year-Project/Dataset/Project-V4/train_audio_npy/' \n",
    "train_csv = 'C:/Users/thato/Documents/Final-Year-Project/Dataset/Project-V4/train-not-annotated.csv' \n",
    "annotated_train_csv = 'C:/Users/thato/Documents/Final-Year-Project/Dataset/Project-V4/train-annotated.csv'\n",
    "not_annotated_splt = 'C:/Users/thato/Documents/Final-Year-Project/Dataset/Project-V4/trainval-split/trainval.csv'\n",
    "sr = 22050"
   ]
  },
  {
   "cell_type": "code",
   "execution_count": 3,
   "metadata": {},
   "outputs": [],
   "source": [
    "trainval_data = pd.read_csv(not_annotated_splt)\n",
    "train_data = trainval_data[trainval_data['set'] == 'tr']\n",
    "val_data = trainval_data[trainval_data['set'] == 'val']"
   ]
  },
  {
   "cell_type": "code",
   "execution_count": 15,
   "metadata": {},
   "outputs": [
    {
     "data": {
      "text/plain": [
       "species\n",
       "Alcedo atthis                39\n",
       "Himantopus himantopus        36\n",
       "Porphyrio porphyrio          33\n",
       "Acrocephalus melanopogon     32\n",
       "Gallinula chloropus          32\n",
       "Fulica atra                  28\n",
       "Tachybaptus ruficollis       27\n",
       "Botaurus stellaris           27\n",
       "Charadrius alexandrinus      26\n",
       "Ardea purpurea               26\n",
       "Dendrocopos minor            25\n",
       "Motacilla flava              24\n",
       "Acrocephalus arundinaceus    23\n",
       "Ciconia ciconia              22\n",
       "Ixobrychus minutus           21\n",
       "Acrocephalus scirpaceus      20\n",
       "Circus aeruginosus           19\n",
       "Coracias garrulus            11\n",
       "Anas platyrhynchos            9\n",
       "Anas strepera                 5\n",
       "Name: count, dtype: int64"
      ]
     },
     "execution_count": 15,
     "metadata": {},
     "output_type": "execute_result"
    }
   ],
   "source": [
    "train_data['species'].value_counts()"
   ]
  },
  {
   "cell_type": "markdown",
   "metadata": {},
   "source": [
    "# **Creating a class to do the extraction**"
   ]
  },
  {
   "cell_type": "code",
   "execution_count": 6,
   "metadata": {},
   "outputs": [],
   "source": [
    "class Extraction:\n",
    "  def __init__(self, train_df, val_df, window_size, overlap=0.5, npy_path=npy_path, sr=sr, n_mels=60, n_mfcc=20, n_chroma=12, features=['mfcc'], normalize=True, avgpool=False):\n",
    "    \"\"\"\n",
    "    Instantiate the Extraction class to extract features.\n",
    "\n",
    "    Parameters:\n",
    "      sr (int): Sample rate of the audio files.\n",
    "      n_mfccs (int): Number of MFCCs to extract.\n",
    "      n_mels (int): Number of Mel bands to extract.\n",
    "      n_chroma (int): Number of chroma bins to use.\n",
    "      features (list): List of features to extract.\n",
    "        accepted features: 'mfcc', 'chroma', 'rms', 'melspectrogram'.\n",
    "      normalize (bool): Whether to normalize the features.\n",
    "      maxpool (bool): Whether to maxpool the features.\n",
    "    \"\"\"\n",
    "    \n",
    "    self.train_df = train_df\n",
    "    self.val_df = val_df\n",
    "    self.npy_path = npy_path\n",
    "    self.window_size = window_size\n",
    "    self.overlap = overlap\n",
    "    self.sr = sr\n",
    "    self.n_mels = n_mels\n",
    "    self.n_mfcc = n_mfcc\n",
    "    self.n_chroma = n_chroma\n",
    "\n",
    "     # confirm features have been specified\n",
    "    assert len(features) != 0, \"Must Specify At Least One Feature In The Form Of A List.\"\n",
    "    self.features = features\n",
    "\n",
    "    self.accepted_feature = ['mfcc', 'chroma', 'rms', 'melspectrogram']\n",
    "    for feature in self.features:\n",
    "      assert feature in self.accepted_feature, f\"{feature} is not an accepted feature, only 'mfcc', 'chroma', 'rms', 'melspectrogram' are accepted features.\"\n",
    "\n",
    "    self.normalize = normalize\n",
    "    self.avgpool = avgpool\n",
    "\n",
    "    print(f\"Train DataFrame shape: {train_df.shape}\")\n",
    "    print(f\"Validation DataFrame shape: {val_df.shape}\")\n",
    "\n",
    "    # extract train and val labels and features\n",
    "    self.train_y, self.train_features = self.feature_extraction(self.train_df, window_size=self.window_size)\n",
    "    self.val_y, self.val_features = self.feature_extraction(self.val_df, window_size=self.window_size)\n",
    "\n",
    "    # process the features by average pooling\n",
    "    self.train_features, self.val_features = self.process_features(self.train_features, self.val_features)\n",
    "\n",
    "    \n",
    "  \n",
    "\n",
    "  def normalize_audio(self, audio):\n",
    "    return (audio - np.min(audio)) / (np.max(audio) - np.min(audio))\n",
    "  \n",
    "  def bandpass_filter(self, audio, lowcut=800, highcut=8000, order=4):\n",
    "    nyquist = 0.5 * self.sr  # Nyquist frequency\n",
    "    low = lowcut / nyquist\n",
    "    high = highcut / nyquist\n",
    "\n",
    "    b, a = butter(order, [low, high], btype='band')\n",
    "    filtered_audio = filtfilt(b, a, audio)\n",
    "    return filtered_audio\n",
    "  \n",
    "  def generate_pink_noise(self, num_samples):\n",
    "    white_noise = np.random.randn(num_samples)\n",
    "    \n",
    "    # Apply a filter to convert white noise into pink noise (1/f noise)\n",
    "    X = np.fft.rfft(white_noise)\n",
    "    S = np.arange(1, len(X) + 1)  # Frequency scaling\n",
    "    pink_noise = np.fft.irfft(X / S)\n",
    "\n",
    "    if len(pink_noise) < num_samples:\n",
    "        # Pad with zeros if the length is less than num_samples\n",
    "        pink_noise = np.pad(pink_noise, (0, num_samples - len(pink_noise)), mode='constant')\n",
    "    elif len(pink_noise) > num_samples:\n",
    "        # Trim if necessary\n",
    "        pink_noise = pink_noise[:num_samples]\n",
    "    \n",
    "    return self.normalize_audio(pink_noise)\n",
    "  \n",
    "  def pad_with_noise(self, audio_data, window_length, window_samples):\n",
    "    current_length = librosa.get_duration(y=audio_data, sr=self.sr)\n",
    "\n",
    "    if current_length > window_length:\n",
    "        return audio_data\n",
    "    \n",
    "    target_length_samples = int(window_length * sr) \n",
    "    current_length_samples = window_samples\n",
    "    padding_length_samples = target_length_samples - current_length_samples\n",
    "\n",
    "    assert target_length_samples == (current_length_samples+padding_length_samples)\n",
    "    \n",
    "    # Generate pink noise to pad with\n",
    "    pink_noise = self.generate_pink_noise(padding_length_samples)\n",
    "    padded_audio = np.concatenate([audio_data, pink_noise])\n",
    "    # if len(padded_audio) < target_length_samples:\n",
    "    #     padded_audio = np.append(padded_audio, self.generate_pink_noise(1))\n",
    "\n",
    "    assert target_length_samples == len(padded_audio)\n",
    "    \n",
    "    return padded_audio\n",
    "  \n",
    "  def avg_pooling_keras(self, feature):\n",
    "    # Clear the previous Keras session\n",
    "    tf.keras.backend.clear_session()\n",
    "\n",
    "    # Define the input shape based on features\n",
    "    input_shape = feature.shape[1:]  # (n_mels, time_steps)\n",
    "\n",
    "    # Create the Keras model for average pooling\n",
    "    inputs = tf.keras.layers.Input(shape=input_shape)\n",
    "    pooled = tf.keras.layers.GlobalAveragePooling1D()(inputs)\n",
    "    pooling_model = tf.keras.models.Model(inputs=inputs, outputs=pooled)\n",
    "\n",
    "    # Perform pooling using the model\n",
    "    pooled_features = pooling_model.predict(feature)\n",
    "\n",
    "    return pooled_features\n",
    "\n",
    "#-------------------------Feature Extraction---------------------------------------\n",
    "  def extract_mfcc(self, window):\n",
    "    mfcc = librosa.feature.mfcc(y=window, sr=self.sr, n_mfcc=self.n_mfcc)\n",
    "    if self.normalize:\n",
    "      return librosa.util.normalize(mfcc)\n",
    "    else:\n",
    "      return mfcc\n",
    "\n",
    "\n",
    "  def extract_chroma(self, window):\n",
    "    chroma = librosa.feature.chroma_stft(y=window, sr=self.sr, n_chroma=self.n_chroma)\n",
    "    if self.normalize:\n",
    "      return librosa.util.normalize(chroma)\n",
    "    else:\n",
    "      return chroma\n",
    "   \n",
    "\n",
    "  def extract_rms(self, window):\n",
    "    return librosa.feature.rms(y=window)\n",
    "\n",
    "  def extract_melspectrogram(self, window):\n",
    "    mel = librosa.feature.melspectrogram(y=window, sr=self.sr, n_mels=self.n_mels)\n",
    "    if self.normalize:\n",
    "      return librosa.util.normalize(mel)\n",
    "    else:\n",
    "      return mel\n",
    "    \n",
    "  def avgpooling(self, train_X, val_X, n_time, n_features):\n",
    "    \"\"\"\n",
    "    Average pooling the train and val features.\n",
    "\n",
    "    Parameters:\n",
    "      train_X (npy): Training feature array of shape (batch_size, n_features, n_time)\n",
    "      val_X (npy): Validation feature array of shape (batch_size, n_features, n_time)\n",
    "      n_time (int): Time axis\n",
    "      n_features (int): Feature axis\n",
    "\n",
    "    Returns:\n",
    "      train_X (npy): Avgpooled training feature array of shape (batch_size, n_features)\n",
    "      val_X (npy): Avgpooled validation feature array of shape (batch_size, n_features)\n",
    "    \"\"\"\n",
    "    # Clear the Keras session\n",
    "    tf.keras.backend.clear_session()\n",
    "    \n",
    "    # Create the Keras input layer with shape (n_features, n_time)\n",
    "    input_layer = tf.keras.layers.Input(shape=(n_features, n_time))\n",
    "    \n",
    "    # Apply average pooling over the time axis (axis=-1) to reduce n_time\n",
    "    avg_pool = tf.keras.layers.Lambda(lambda x: tf.reduce_mean(x, axis=-1))(input_layer)\n",
    "    \n",
    "    # Build the model\n",
    "    pooling_model = tf.keras.models.Model(inputs=input_layer, outputs=avg_pool)\n",
    "\n",
    "    # Use the model to apply average pooling on the training and validation features\n",
    "    train_X = pooling_model.predict(train_X)\n",
    "    val_X = pooling_model.predict(val_X)\n",
    "\n",
    "    return train_X, val_X\n",
    "\n",
    "    \n",
    "  def process_features(self, train_features_dict, val_features_dict):\n",
    "    for each in train_features_dict.keys():\n",
    "      \n",
    "      if each == 'mfcc':\n",
    "        n_features=self.n_mfcc\n",
    "      elif each == 'chroma':\n",
    "        n_features=self.n_chroma\n",
    "      elif each == 'rms':\n",
    "        n_features=1\n",
    "      elif each == 'melspectrogram':\n",
    "        n_features=self.n_mels\n",
    "      \n",
    "      train_feature = train_features_dict[each]\n",
    "      val_feature = val_features_dict[each]\n",
    "\n",
    "      if self.avgpool:\n",
    "        train_features_dict[each], val_features_dict[each] = self.avgpooling(train_feature, val_feature, n_time=train_feature.shape[2], n_features=n_features)\n",
    "      else:\n",
    "        train_features_dict[each], val_features_dict[each] = train_features_dict[each], val_features_dict[each]\n",
    "    \n",
    "    return train_features_dict, val_features_dict\n",
    "      \n",
    "\n",
    "  def feature_extraction(self, dataframe, window_size, filter=True):\n",
    "    y = [] # To hold the labels\n",
    "    features_dict = {item: [] for item in self.features} # Create a key for each feature listed\n",
    "    print(f\"Number of rows in dataframe: {len(dataframe)}\")\n",
    "    for _, row in tqdm(dataframe.iterrows(), desc=\"Processing data\", total=len(dataframe)):\n",
    "          label = row['species']\n",
    "          file_path = os.path.join(self.npy_path, row['filename_npy'])\n",
    "\n",
    "          try:\n",
    "            \n",
    "              audio = np.load(file_path)\n",
    "          except FileNotFoundError:\n",
    "              print(f\"File not found: {file_path}\")\n",
    "              continue\n",
    "\n",
    "\n",
    "          audio = self.normalize_audio(audio)\n",
    "\n",
    "          audio = self.pad_with_noise(audio, window_length=self.window_size, window_samples=len(audio))\n",
    "          # print(len(sample))\n",
    "\n",
    "          if filter:\n",
    "                  audio = self.bandpass_filter(audio)\n",
    "\n",
    "          window_samples = int(window_size * self.sr)\n",
    "          hop_samples = int(window_samples * (1 - self.overlap))  # For overlapping\n",
    "\n",
    "          # Break the audio into windows with the specified overlap\n",
    "          audio_windows = librosa.util.frame(audio, frame_length=window_samples, hop_length=hop_samples).T\n",
    "          \n",
    "          \n",
    "          # display(label)\n",
    "          \n",
    "          for _, window in enumerate(audio_windows):\n",
    "              \n",
    "              y.append(label)\n",
    "\n",
    "              if len(window) < window_samples:\n",
    "                  if len(window) < 512*2:\n",
    "                     continue\n",
    "                  else:\n",
    "                      window = self.pad_with_noise(window, window_length=window_size)\n",
    "              \n",
    "              # Feature Extraction FR --------------------------------------------------------------------\n",
    "              # dynatically call the extract_x function to extract the listed features\n",
    "              for feature in self.features:\n",
    "                extract = f\"extract_{feature}\"\n",
    "                if hasattr(self, extract) and callable(func := getattr(self, extract)):\n",
    "                  features_dict[feature].append(func(window))\n",
    "\n",
    "          # cast lists to np arrays\n",
    "    for each in features_dict.keys():\n",
    "              features_dict[each] = np.array(features_dict[each])\n",
    "\n",
    "    y = np.array(y)\n",
    "\n",
    "          # If not using average pooling, return resized features\n",
    "    return y, features_dict"
   ]
  },
  {
   "cell_type": "markdown",
   "metadata": {},
   "source": [
    "# **Average Pooling**"
   ]
  },
  {
   "cell_type": "markdown",
   "metadata": {},
   "source": [
    "## **Window Size = 6s**"
   ]
  },
  {
   "cell_type": "markdown",
   "metadata": {},
   "source": [
    "### **['melspectrogram']**"
   ]
  },
  {
   "cell_type": "code",
   "execution_count": 127,
   "metadata": {},
   "outputs": [],
   "source": [
    "features_list = ['melspectrogram']"
   ]
  },
  {
   "cell_type": "code",
   "execution_count": 128,
   "metadata": {},
   "outputs": [
    {
     "name": "stdout",
     "output_type": "stream",
     "text": [
      "Train DataFrame shape: (485, 6)\n",
      "Validation DataFrame shape: (130, 6)\n",
      "Number of rows in dataframe: 485\n"
     ]
    },
    {
     "name": "stderr",
     "output_type": "stream",
     "text": [
      "Processing data: 100%|██████████| 485/485 [01:10<00:00,  6.90it/s]\n"
     ]
    },
    {
     "name": "stdout",
     "output_type": "stream",
     "text": [
      "Number of rows in dataframe: 130\n"
     ]
    },
    {
     "name": "stderr",
     "output_type": "stream",
     "text": [
      "Processing data: 100%|██████████| 130/130 [00:17<00:00,  7.42it/s]\n"
     ]
    },
    {
     "name": "stdout",
     "output_type": "stream",
     "text": [
      "WARNING:tensorflow:From c:\\Users\\thato\\AppData\\Local\\Programs\\Python\\Python312\\Lib\\site-packages\\keras\\src\\backend\\common\\global_state.py:82: The name tf.reset_default_graph is deprecated. Please use tf.compat.v1.reset_default_graph instead.\n",
      "\n",
      "\u001b[1m223/223\u001b[0m \u001b[32m━━━━━━━━━━━━━━━━━━━━\u001b[0m\u001b[37m\u001b[0m \u001b[1m0s\u001b[0m 907us/step\n",
      "\u001b[1m60/60\u001b[0m \u001b[32m━━━━━━━━━━━━━━━━━━━━\u001b[0m\u001b[37m\u001b[0m \u001b[1m0s\u001b[0m 708us/step\n"
     ]
    }
   ],
   "source": [
    "features = Extraction(train_data,\n",
    "                      val_data,\n",
    "                      window_size=6,\n",
    "                      features=features_list,\n",
    "                      avgpool=True\n",
    "                      )"
   ]
  },
  {
   "cell_type": "code",
   "execution_count": 129,
   "metadata": {},
   "outputs": [
    {
     "data": {
      "text/plain": [
       "(7105,)"
      ]
     },
     "metadata": {},
     "output_type": "display_data"
    },
    {
     "data": {
      "text/plain": [
       "'melspectrogram'"
      ]
     },
     "metadata": {},
     "output_type": "display_data"
    },
    {
     "data": {
      "text/plain": [
       "(7105, 60)"
      ]
     },
     "metadata": {},
     "output_type": "display_data"
    }
   ],
   "source": [
    "train_y = features.train_y\n",
    "display(train_y.shape)\n",
    "\n",
    "train_features = features.train_features\n",
    "for key in train_features.keys():\n",
    "  display(key)\n",
    "  display(train_features[key].shape)"
   ]
  },
  {
   "cell_type": "code",
   "execution_count": 130,
   "metadata": {},
   "outputs": [
    {
     "data": {
      "text/plain": [
       "array(['Acrocephalus melanopogon', 'Acrocephalus melanopogon',\n",
       "       'Acrocephalus melanopogon', ..., 'Anas strepera', 'Anas strepera',\n",
       "       'Anas strepera'], dtype='<U25')"
      ]
     },
     "execution_count": 130,
     "metadata": {},
     "output_type": "execute_result"
    }
   ],
   "source": [
    "train_y"
   ]
  },
  {
   "cell_type": "code",
   "execution_count": 131,
   "metadata": {},
   "outputs": [
    {
     "data": {
      "text/plain": [
       "(1896,)"
      ]
     },
     "metadata": {},
     "output_type": "display_data"
    },
    {
     "data": {
      "text/plain": [
       "'melspectrogram'"
      ]
     },
     "metadata": {},
     "output_type": "display_data"
    },
    {
     "data": {
      "text/plain": [
       "(1896, 60)"
      ]
     },
     "metadata": {},
     "output_type": "display_data"
    }
   ],
   "source": [
    "val_y = features.val_y\n",
    "display(val_y.shape)\n",
    "\n",
    "val_features = features.val_features\n",
    "for key in val_features.keys():\n",
    "  display(key)\n",
    "  display(val_features[key].shape)"
   ]
  },
  {
   "cell_type": "markdown",
   "metadata": {},
   "source": [
    "### Encode Classes"
   ]
  },
  {
   "cell_type": "code",
   "execution_count": 132,
   "metadata": {},
   "outputs": [
    {
     "name": "stdout",
     "output_type": "stream",
     "text": [
      "Encoded classes for [0, 1, 2]: ['Acrocephalus arundinaceus', 'Acrocephalus melanopogon', 'Acrocephalus scirpaceus']\n",
      "Encoded training labels: [1 1 1 ... 5 5 5]\n",
      "Encoded validation labels: [1 1 1 ... 5 5 5]\n"
     ]
    }
   ],
   "source": [
    "label_encoder = LabelEncoder().fit(train_y)\n",
    "train_y_encoded = label_encoder.transform(train_y)\n",
    "val_y_encoded = label_encoder.transform(val_y)\n",
    "\n",
    "classes = list(label_encoder.inverse_transform([0, 1, 2]))\n",
    "print(\"Encoded classes for [0, 1, 2]:\", classes)\n",
    "print(\"Encoded training labels:\", train_y_encoded)\n",
    "print(\"Encoded validation labels:\", val_y_encoded)"
   ]
  },
  {
   "cell_type": "code",
   "execution_count": 133,
   "metadata": {},
   "outputs": [
    {
     "data": {
      "text/plain": [
       "7105"
      ]
     },
     "metadata": {},
     "output_type": "display_data"
    },
    {
     "data": {
      "text/plain": [
       "array(['Acrocephalus melanopogon', 'Acrocephalus melanopogon',\n",
       "       'Acrocephalus melanopogon', 'Acrocephalus melanopogon',\n",
       "       'Acrocephalus melanopogon', 'Acrocephalus melanopogon',\n",
       "       'Acrocephalus melanopogon', 'Acrocephalus melanopogon',\n",
       "       'Acrocephalus melanopogon', 'Acrocephalus melanopogon'],\n",
       "      dtype='<U25')"
      ]
     },
     "metadata": {},
     "output_type": "display_data"
    },
    {
     "data": {
      "text/plain": [
       "1896"
      ]
     },
     "metadata": {},
     "output_type": "display_data"
    },
    {
     "data": {
      "text/plain": [
       "array(['Acrocephalus melanopogon', 'Acrocephalus melanopogon',\n",
       "       'Acrocephalus melanopogon', 'Acrocephalus melanopogon',\n",
       "       'Acrocephalus melanopogon', 'Acrocephalus melanopogon',\n",
       "       'Acrocephalus melanopogon', 'Acrocephalus melanopogon',\n",
       "       'Acrocephalus melanopogon', 'Acrocephalus melanopogon'],\n",
       "      dtype='<U25')"
      ]
     },
     "metadata": {},
     "output_type": "display_data"
    }
   ],
   "source": [
    "display(len(train_y))\n",
    "display(train_y[:10])\n",
    "\n",
    "display(len(val_y))\n",
    "display(val_y[:10])"
   ]
  },
  {
   "cell_type": "code",
   "execution_count": 134,
   "metadata": {},
   "outputs": [],
   "source": [
    "train_features['label'] = train_y_encoded\n",
    "val_features['label'] = val_y_encoded"
   ]
  },
  {
   "cell_type": "code",
   "execution_count": 135,
   "metadata": {},
   "outputs": [
    {
     "data": {
      "text/plain": [
       "{'train': {'melspectrogram': array([[1.1545551e-05, 1.2176995e-05, 1.3009772e-05, ..., 4.4375400e-07,\n",
       "          2.2230227e-08, 1.8851988e-08],\n",
       "         [8.5422990e-08, 9.0774186e-08, 1.0014884e-07, ..., 1.3420139e-06,\n",
       "          4.4213351e-07, 4.1396237e-07],\n",
       "         [6.1857563e-06, 6.2330437e-06, 6.3144412e-06, ..., 1.1637738e-06,\n",
       "          1.5971284e-07, 1.3454519e-07],\n",
       "         ...,\n",
       "         [7.1480241e-07, 7.4554231e-07, 7.9745979e-07, ..., 1.4340408e-06,\n",
       "          1.3201277e-06, 1.2859776e-06],\n",
       "         [6.0994887e-07, 6.2010758e-07, 6.3716243e-07, ..., 4.0761867e-07,\n",
       "          1.7535218e-07, 1.6836647e-07],\n",
       "         [6.8865182e-07, 6.9677486e-07, 7.1000841e-07, ..., 3.5803578e-06,\n",
       "          1.9428686e-08, 1.4416809e-08]], dtype=float32),\n",
       "  'label': array([1, 1, 1, ..., 5, 5, 5])},\n",
       " 'val': {'melspectrogram': array([[2.08654342e-06, 2.09023460e-06, 2.09655309e-06, ...,\n",
       "          4.35780862e-07, 2.86455418e-07, 2.62781299e-07],\n",
       "         [5.14644796e-07, 5.18451770e-07, 5.24857455e-07, ...,\n",
       "          8.26180553e-07, 7.70810345e-07, 7.42548536e-07],\n",
       "         [7.81503445e-07, 7.82719894e-07, 7.84752444e-07, ...,\n",
       "          1.19201019e-07, 1.03323671e-07, 9.78742136e-08],\n",
       "         ...,\n",
       "         [1.54361842e-05, 1.55262624e-05, 1.56780297e-05, ...,\n",
       "          5.58050374e-07, 5.25745179e-07, 5.07756681e-07],\n",
       "         [2.48254651e-06, 2.50361859e-06, 2.53902363e-06, ...,\n",
       "          1.24185149e-07, 1.16088565e-07, 1.13024349e-07],\n",
       "         [1.93989199e-05, 1.95496796e-05, 1.98049947e-05, ...,\n",
       "          3.92436135e-07, 3.67574415e-07, 3.55124456e-07]], dtype=float32),\n",
       "  'label': array([1, 1, 1, ..., 5, 5, 5])}}"
      ]
     },
     "execution_count": 135,
     "metadata": {},
     "output_type": "execute_result"
    }
   ],
   "source": [
    "merged_dict = {'train': train_features, 'val': val_features}\n",
    "merged_dict"
   ]
  },
  {
   "cell_type": "markdown",
   "metadata": {},
   "source": [
    "### Save the merged dictionary to a pkl"
   ]
  },
  {
   "cell_type": "code",
   "execution_count": 136,
   "metadata": {},
   "outputs": [],
   "source": [
    "with open('C:/Users/thato/Documents/Final-Year-Project/Dataset/Project-V4/feature-extraction/NotAnnotated/AveragePooled/split_features_6s_mel.pkl', 'wb') as file:\n",
    "  pickle.dump(merged_dict, file)"
   ]
  },
  {
   "cell_type": "markdown",
   "metadata": {},
   "source": [
    "### **['melspectrogram', 'mfcc']**"
   ]
  },
  {
   "cell_type": "code",
   "execution_count": 137,
   "metadata": {},
   "outputs": [],
   "source": [
    "features_list = ['melspectrogram', 'mfcc']"
   ]
  },
  {
   "cell_type": "code",
   "execution_count": 138,
   "metadata": {},
   "outputs": [
    {
     "name": "stdout",
     "output_type": "stream",
     "text": [
      "Train DataFrame shape: (485, 6)\n",
      "Validation DataFrame shape: (130, 6)\n",
      "Number of rows in dataframe: 485\n"
     ]
    },
    {
     "name": "stderr",
     "output_type": "stream",
     "text": [
      "Processing data: 100%|██████████| 485/485 [03:49<00:00,  2.12it/s]\n"
     ]
    },
    {
     "name": "stdout",
     "output_type": "stream",
     "text": [
      "Number of rows in dataframe: 130\n"
     ]
    },
    {
     "name": "stderr",
     "output_type": "stream",
     "text": [
      "Processing data: 100%|██████████| 130/130 [00:34<00:00,  3.73it/s]\n"
     ]
    },
    {
     "name": "stdout",
     "output_type": "stream",
     "text": [
      "\u001b[1m223/223\u001b[0m \u001b[32m━━━━━━━━━━━━━━━━━━━━\u001b[0m\u001b[37m\u001b[0m \u001b[1m0s\u001b[0m 882us/step\n",
      "\u001b[1m60/60\u001b[0m \u001b[32m━━━━━━━━━━━━━━━━━━━━\u001b[0m\u001b[37m\u001b[0m \u001b[1m0s\u001b[0m 693us/step\n",
      "\u001b[1m223/223\u001b[0m \u001b[32m━━━━━━━━━━━━━━━━━━━━\u001b[0m\u001b[37m\u001b[0m \u001b[1m0s\u001b[0m 524us/step\n",
      "\u001b[1m60/60\u001b[0m \u001b[32m━━━━━━━━━━━━━━━━━━━━\u001b[0m\u001b[37m\u001b[0m \u001b[1m0s\u001b[0m 459us/step\n"
     ]
    }
   ],
   "source": [
    "features = Extraction(train_data,\n",
    "                      val_data,\n",
    "                      window_size=6,\n",
    "                      features=features_list,\n",
    "                      avgpool=True\n",
    "                      )"
   ]
  },
  {
   "cell_type": "code",
   "execution_count": 139,
   "metadata": {},
   "outputs": [
    {
     "data": {
      "text/plain": [
       "(7105,)"
      ]
     },
     "metadata": {},
     "output_type": "display_data"
    },
    {
     "data": {
      "text/plain": [
       "'melspectrogram'"
      ]
     },
     "metadata": {},
     "output_type": "display_data"
    },
    {
     "data": {
      "text/plain": [
       "(7105, 60)"
      ]
     },
     "metadata": {},
     "output_type": "display_data"
    },
    {
     "data": {
      "text/plain": [
       "'mfcc'"
      ]
     },
     "metadata": {},
     "output_type": "display_data"
    },
    {
     "data": {
      "text/plain": [
       "(7105, 20)"
      ]
     },
     "metadata": {},
     "output_type": "display_data"
    }
   ],
   "source": [
    "train_y = features.train_y\n",
    "display(train_y.shape)\n",
    "\n",
    "train_features = features.train_features\n",
    "for key in train_features.keys():\n",
    "  display(key)\n",
    "  display(train_features[key].shape)"
   ]
  },
  {
   "cell_type": "code",
   "execution_count": 140,
   "metadata": {},
   "outputs": [
    {
     "data": {
      "text/plain": [
       "(1896,)"
      ]
     },
     "metadata": {},
     "output_type": "display_data"
    },
    {
     "data": {
      "text/plain": [
       "'melspectrogram'"
      ]
     },
     "metadata": {},
     "output_type": "display_data"
    },
    {
     "data": {
      "text/plain": [
       "(1896, 60)"
      ]
     },
     "metadata": {},
     "output_type": "display_data"
    },
    {
     "data": {
      "text/plain": [
       "'mfcc'"
      ]
     },
     "metadata": {},
     "output_type": "display_data"
    },
    {
     "data": {
      "text/plain": [
       "(1896, 20)"
      ]
     },
     "metadata": {},
     "output_type": "display_data"
    }
   ],
   "source": [
    "val_y = features.val_y\n",
    "display(val_y.shape)\n",
    "\n",
    "val_features = features.val_features\n",
    "for key in val_features.keys():\n",
    "  display(key)\n",
    "  display(val_features[key].shape)"
   ]
  },
  {
   "cell_type": "markdown",
   "metadata": {},
   "source": [
    "### Encode Classes"
   ]
  },
  {
   "cell_type": "code",
   "execution_count": 141,
   "metadata": {},
   "outputs": [
    {
     "name": "stdout",
     "output_type": "stream",
     "text": [
      "Encoded classes for [0, 1, 2]: ['Acrocephalus arundinaceus', 'Acrocephalus melanopogon', 'Acrocephalus scirpaceus']\n",
      "Encoded training labels: [1 1 1 ... 5 5 5]\n",
      "Encoded validation labels: [1 1 1 ... 5 5 5]\n"
     ]
    }
   ],
   "source": [
    "label_encoder = LabelEncoder().fit(train_y)\n",
    "train_y_encoded = label_encoder.transform(train_y)\n",
    "val_y_encoded = label_encoder.transform(val_y)\n",
    "\n",
    "classes = list(label_encoder.inverse_transform([0, 1, 2]))\n",
    "print(\"Encoded classes for [0, 1, 2]:\", classes)\n",
    "print(\"Encoded training labels:\", train_y_encoded)\n",
    "print(\"Encoded validation labels:\", val_y_encoded)"
   ]
  },
  {
   "cell_type": "code",
   "execution_count": 142,
   "metadata": {},
   "outputs": [
    {
     "data": {
      "text/plain": [
       "7105"
      ]
     },
     "metadata": {},
     "output_type": "display_data"
    },
    {
     "data": {
      "text/plain": [
       "array(['Acrocephalus melanopogon', 'Acrocephalus melanopogon',\n",
       "       'Acrocephalus melanopogon', 'Acrocephalus melanopogon',\n",
       "       'Acrocephalus melanopogon', 'Acrocephalus melanopogon',\n",
       "       'Acrocephalus melanopogon', 'Acrocephalus melanopogon',\n",
       "       'Acrocephalus melanopogon', 'Acrocephalus melanopogon'],\n",
       "      dtype='<U25')"
      ]
     },
     "metadata": {},
     "output_type": "display_data"
    },
    {
     "data": {
      "text/plain": [
       "1896"
      ]
     },
     "metadata": {},
     "output_type": "display_data"
    },
    {
     "data": {
      "text/plain": [
       "array(['Acrocephalus melanopogon', 'Acrocephalus melanopogon',\n",
       "       'Acrocephalus melanopogon', 'Acrocephalus melanopogon',\n",
       "       'Acrocephalus melanopogon', 'Acrocephalus melanopogon',\n",
       "       'Acrocephalus melanopogon', 'Acrocephalus melanopogon',\n",
       "       'Acrocephalus melanopogon', 'Acrocephalus melanopogon'],\n",
       "      dtype='<U25')"
      ]
     },
     "metadata": {},
     "output_type": "display_data"
    }
   ],
   "source": [
    "display(len(train_y))\n",
    "display(train_y[:10])\n",
    "\n",
    "display(len(val_y))\n",
    "display(val_y[:10])"
   ]
  },
  {
   "cell_type": "code",
   "execution_count": 143,
   "metadata": {},
   "outputs": [],
   "source": [
    "train_features['label'] = train_y_encoded\n",
    "val_features['label'] = val_y_encoded"
   ]
  },
  {
   "cell_type": "code",
   "execution_count": 144,
   "metadata": {},
   "outputs": [
    {
     "data": {
      "text/plain": [
       "{'train': {'melspectrogram': array([[1.1545551e-05, 1.2176995e-05, 1.3009772e-05, ..., 4.4375400e-07,\n",
       "          2.2230227e-08, 1.8851988e-08],\n",
       "         [8.5422990e-08, 9.0774186e-08, 1.0014884e-07, ..., 1.3420139e-06,\n",
       "          4.4213351e-07, 4.1396237e-07],\n",
       "         [6.1857563e-06, 6.2330437e-06, 6.3144412e-06, ..., 1.1637738e-06,\n",
       "          1.5971284e-07, 1.3454519e-07],\n",
       "         ...,\n",
       "         [7.1480241e-07, 7.4554231e-07, 7.9745979e-07, ..., 1.4340408e-06,\n",
       "          1.3201277e-06, 1.2859776e-06],\n",
       "         [6.0994887e-07, 6.2010758e-07, 6.3716243e-07, ..., 4.0761867e-07,\n",
       "          1.7535218e-07, 1.6836647e-07],\n",
       "         [6.8865182e-07, 6.9677486e-07, 7.1000841e-07, ..., 3.5803578e-06,\n",
       "          1.9428686e-08, 1.4416809e-08]], dtype=float32),\n",
       "  'mfcc': array([[-1.00000000e+00, -2.42030799e-01, -4.80754524e-01, ...,\n",
       "           3.10237170e-03,  1.18157947e-02, -6.41129969e-04],\n",
       "         [-1.00000000e+00, -2.10041642e-01, -3.97155881e-01, ...,\n",
       "          -2.89330794e-03,  1.39303915e-02, -7.43062468e-03],\n",
       "         [-1.00000000e+00, -1.58837840e-01, -3.73100877e-01, ...,\n",
       "          -1.23003172e-02,  1.38010504e-02, -1.57749048e-03],\n",
       "         ...,\n",
       "         [-1.00000000e+00, -1.38936890e-02, -4.89315540e-01, ...,\n",
       "          -7.87511747e-03,  1.45043747e-03, -2.23725494e-02],\n",
       "         [-1.00000000e+00, -3.57662961e-02, -4.85042721e-01, ...,\n",
       "          -8.61293636e-03,  5.25546959e-03, -2.76897736e-02],\n",
       "         [-1.00000000e+00, -3.37400734e-02, -3.77177924e-01, ...,\n",
       "          -9.44969244e-03,  6.11816347e-03, -2.02193484e-02]], dtype=float32),\n",
       "  'label': array([1, 1, 1, ..., 5, 5, 5])},\n",
       " 'val': {'melspectrogram': array([[2.08654342e-06, 2.09023460e-06, 2.09655309e-06, ...,\n",
       "          4.35780862e-07, 2.86455418e-07, 2.62781299e-07],\n",
       "         [5.14644796e-07, 5.18451770e-07, 5.24857455e-07, ...,\n",
       "          8.26180553e-07, 7.70810345e-07, 7.42548536e-07],\n",
       "         [7.81503445e-07, 7.82719894e-07, 7.84752444e-07, ...,\n",
       "          1.19201019e-07, 1.03323671e-07, 9.78742136e-08],\n",
       "         ...,\n",
       "         [1.54361842e-05, 1.55262624e-05, 1.56780297e-05, ...,\n",
       "          5.58050374e-07, 5.25745179e-07, 5.07756681e-07],\n",
       "         [2.48254651e-06, 2.50361859e-06, 2.53902363e-06, ...,\n",
       "          1.24185149e-07, 1.16088565e-07, 1.13024349e-07],\n",
       "         [1.93989199e-05, 1.95496796e-05, 1.98049947e-05, ...,\n",
       "          3.92436135e-07, 3.67574415e-07, 3.55124456e-07]], dtype=float32),\n",
       "  'mfcc': array([[-1.        , -0.22734603, -0.37787247, ...,  0.00697774,\n",
       "           0.00993196, -0.02122127],\n",
       "         [-1.        , -0.26769474, -0.38232008, ...,  0.01004697,\n",
       "           0.00816452, -0.02220042],\n",
       "         [-1.        , -0.28279343, -0.37107462, ...,  0.01090213,\n",
       "           0.00712035, -0.02076568],\n",
       "         ...,\n",
       "         [-1.        , -0.06642738, -0.6118404 , ..., -0.00669727,\n",
       "          -0.01643099, -0.01232127],\n",
       "         [-1.        , -0.06773184, -0.6085982 , ..., -0.01411018,\n",
       "          -0.00941584, -0.02025561],\n",
       "         [-1.        , -0.07021626, -0.6018566 , ..., -0.00995805,\n",
       "          -0.00896039, -0.01876554]], dtype=float32),\n",
       "  'label': array([1, 1, 1, ..., 5, 5, 5])}}"
      ]
     },
     "execution_count": 144,
     "metadata": {},
     "output_type": "execute_result"
    }
   ],
   "source": [
    "merged_dict = {'train': train_features, 'val': val_features}\n",
    "merged_dict"
   ]
  },
  {
   "cell_type": "markdown",
   "metadata": {},
   "source": [
    "### Save the merged dictionary to a pkl"
   ]
  },
  {
   "cell_type": "code",
   "execution_count": 145,
   "metadata": {},
   "outputs": [],
   "source": [
    "with open('C:/Users/thato/Documents/Final-Year-Project/Dataset/Project-V4/feature-extraction/NotAnnotated/AveragePooled/split_features_6s_mel_mfcc.pkl', 'wb') as file:\n",
    "  pickle.dump(merged_dict, file)"
   ]
  },
  {
   "cell_type": "markdown",
   "metadata": {},
   "source": [
    "### **['melspectrogram', 'mfcc', 'chroma']**"
   ]
  },
  {
   "cell_type": "code",
   "execution_count": 146,
   "metadata": {},
   "outputs": [],
   "source": [
    "features_list = ['melspectrogram', 'mfcc', 'chroma']"
   ]
  },
  {
   "cell_type": "code",
   "execution_count": 147,
   "metadata": {},
   "outputs": [
    {
     "name": "stdout",
     "output_type": "stream",
     "text": [
      "Train DataFrame shape: (485, 6)\n",
      "Validation DataFrame shape: (130, 6)\n",
      "Number of rows in dataframe: 485\n"
     ]
    },
    {
     "name": "stderr",
     "output_type": "stream",
     "text": [
      "Processing data: 100%|██████████| 485/485 [05:10<00:00,  1.56it/s]\n"
     ]
    },
    {
     "name": "stdout",
     "output_type": "stream",
     "text": [
      "Number of rows in dataframe: 130\n"
     ]
    },
    {
     "name": "stderr",
     "output_type": "stream",
     "text": [
      "Processing data: 100%|██████████| 130/130 [01:01<00:00,  2.10it/s]\n"
     ]
    },
    {
     "name": "stdout",
     "output_type": "stream",
     "text": [
      "\u001b[1m223/223\u001b[0m \u001b[32m━━━━━━━━━━━━━━━━━━━━\u001b[0m\u001b[37m\u001b[0m \u001b[1m0s\u001b[0m 668us/step\n",
      "\u001b[1m60/60\u001b[0m \u001b[32m━━━━━━━━━━━━━━━━━━━━\u001b[0m\u001b[37m\u001b[0m \u001b[1m0s\u001b[0m 618us/step\n",
      "\u001b[1m223/223\u001b[0m \u001b[32m━━━━━━━━━━━━━━━━━━━━\u001b[0m\u001b[37m\u001b[0m \u001b[1m0s\u001b[0m 469us/step\n",
      "\u001b[1m60/60\u001b[0m \u001b[32m━━━━━━━━━━━━━━━━━━━━\u001b[0m\u001b[37m\u001b[0m \u001b[1m0s\u001b[0m 455us/step\n",
      "\u001b[1m223/223\u001b[0m \u001b[32m━━━━━━━━━━━━━━━━━━━━\u001b[0m\u001b[37m\u001b[0m \u001b[1m0s\u001b[0m 441us/step\n",
      "\u001b[1m60/60\u001b[0m \u001b[32m━━━━━━━━━━━━━━━━━━━━\u001b[0m\u001b[37m\u001b[0m \u001b[1m0s\u001b[0m 505us/step\n"
     ]
    }
   ],
   "source": [
    "features = Extraction(train_data,\n",
    "                      val_data,\n",
    "                      window_size=6,\n",
    "                      features=features_list,\n",
    "                      avgpool=True\n",
    "                      )"
   ]
  },
  {
   "cell_type": "code",
   "execution_count": 148,
   "metadata": {},
   "outputs": [
    {
     "data": {
      "text/plain": [
       "(7105,)"
      ]
     },
     "metadata": {},
     "output_type": "display_data"
    },
    {
     "data": {
      "text/plain": [
       "'melspectrogram'"
      ]
     },
     "metadata": {},
     "output_type": "display_data"
    },
    {
     "data": {
      "text/plain": [
       "(7105, 60)"
      ]
     },
     "metadata": {},
     "output_type": "display_data"
    },
    {
     "data": {
      "text/plain": [
       "'mfcc'"
      ]
     },
     "metadata": {},
     "output_type": "display_data"
    },
    {
     "data": {
      "text/plain": [
       "(7105, 20)"
      ]
     },
     "metadata": {},
     "output_type": "display_data"
    },
    {
     "data": {
      "text/plain": [
       "'chroma'"
      ]
     },
     "metadata": {},
     "output_type": "display_data"
    },
    {
     "data": {
      "text/plain": [
       "(7105, 12)"
      ]
     },
     "metadata": {},
     "output_type": "display_data"
    }
   ],
   "source": [
    "train_y = features.train_y\n",
    "display(train_y.shape)\n",
    "\n",
    "train_features = features.train_features\n",
    "for key in train_features.keys():\n",
    "  display(key)\n",
    "  display(train_features[key].shape)"
   ]
  },
  {
   "cell_type": "code",
   "execution_count": 149,
   "metadata": {},
   "outputs": [
    {
     "data": {
      "text/plain": [
       "(1896,)"
      ]
     },
     "metadata": {},
     "output_type": "display_data"
    },
    {
     "data": {
      "text/plain": [
       "'melspectrogram'"
      ]
     },
     "metadata": {},
     "output_type": "display_data"
    },
    {
     "data": {
      "text/plain": [
       "(1896, 60)"
      ]
     },
     "metadata": {},
     "output_type": "display_data"
    },
    {
     "data": {
      "text/plain": [
       "'mfcc'"
      ]
     },
     "metadata": {},
     "output_type": "display_data"
    },
    {
     "data": {
      "text/plain": [
       "(1896, 20)"
      ]
     },
     "metadata": {},
     "output_type": "display_data"
    },
    {
     "data": {
      "text/plain": [
       "'chroma'"
      ]
     },
     "metadata": {},
     "output_type": "display_data"
    },
    {
     "data": {
      "text/plain": [
       "(1896, 12)"
      ]
     },
     "metadata": {},
     "output_type": "display_data"
    }
   ],
   "source": [
    "val_y = features.val_y\n",
    "display(val_y.shape)\n",
    "\n",
    "val_features = features.val_features\n",
    "for key in val_features.keys():\n",
    "  display(key)\n",
    "  display(val_features[key].shape)"
   ]
  },
  {
   "cell_type": "markdown",
   "metadata": {},
   "source": [
    "### Encode Classes"
   ]
  },
  {
   "cell_type": "code",
   "execution_count": 150,
   "metadata": {},
   "outputs": [
    {
     "name": "stdout",
     "output_type": "stream",
     "text": [
      "Encoded classes for [0, 1, 2]: ['Acrocephalus arundinaceus', 'Acrocephalus melanopogon', 'Acrocephalus scirpaceus']\n",
      "Encoded training labels: [1 1 1 ... 5 5 5]\n",
      "Encoded validation labels: [1 1 1 ... 5 5 5]\n"
     ]
    }
   ],
   "source": [
    "label_encoder = LabelEncoder().fit(train_y)\n",
    "train_y_encoded = label_encoder.transform(train_y)\n",
    "val_y_encoded = label_encoder.transform(val_y)\n",
    "\n",
    "classes = list(label_encoder.inverse_transform([0, 1, 2]))\n",
    "print(\"Encoded classes for [0, 1, 2]:\", classes)\n",
    "print(\"Encoded training labels:\", train_y_encoded)\n",
    "print(\"Encoded validation labels:\", val_y_encoded)"
   ]
  },
  {
   "cell_type": "code",
   "execution_count": 151,
   "metadata": {},
   "outputs": [
    {
     "data": {
      "text/plain": [
       "7105"
      ]
     },
     "metadata": {},
     "output_type": "display_data"
    },
    {
     "data": {
      "text/plain": [
       "array(['Acrocephalus melanopogon', 'Acrocephalus melanopogon',\n",
       "       'Acrocephalus melanopogon', 'Acrocephalus melanopogon',\n",
       "       'Acrocephalus melanopogon', 'Acrocephalus melanopogon',\n",
       "       'Acrocephalus melanopogon', 'Acrocephalus melanopogon',\n",
       "       'Acrocephalus melanopogon', 'Acrocephalus melanopogon'],\n",
       "      dtype='<U25')"
      ]
     },
     "metadata": {},
     "output_type": "display_data"
    },
    {
     "data": {
      "text/plain": [
       "1896"
      ]
     },
     "metadata": {},
     "output_type": "display_data"
    },
    {
     "data": {
      "text/plain": [
       "array(['Acrocephalus melanopogon', 'Acrocephalus melanopogon',\n",
       "       'Acrocephalus melanopogon', 'Acrocephalus melanopogon',\n",
       "       'Acrocephalus melanopogon', 'Acrocephalus melanopogon',\n",
       "       'Acrocephalus melanopogon', 'Acrocephalus melanopogon',\n",
       "       'Acrocephalus melanopogon', 'Acrocephalus melanopogon'],\n",
       "      dtype='<U25')"
      ]
     },
     "metadata": {},
     "output_type": "display_data"
    }
   ],
   "source": [
    "display(len(train_y))\n",
    "display(train_y[:10])\n",
    "\n",
    "display(len(val_y))\n",
    "display(val_y[:10])"
   ]
  },
  {
   "cell_type": "code",
   "execution_count": 152,
   "metadata": {},
   "outputs": [],
   "source": [
    "train_features['label'] = train_y_encoded\n",
    "val_features['label'] = val_y_encoded"
   ]
  },
  {
   "cell_type": "code",
   "execution_count": 153,
   "metadata": {},
   "outputs": [
    {
     "data": {
      "text/plain": [
       "{'train': {'melspectrogram': array([[1.1545551e-05, 1.2176995e-05, 1.3009772e-05, ..., 4.4375400e-07,\n",
       "          2.2230227e-08, 1.8851988e-08],\n",
       "         [8.5422990e-08, 9.0774186e-08, 1.0014884e-07, ..., 1.3420139e-06,\n",
       "          4.4213351e-07, 4.1396237e-07],\n",
       "         [6.1857563e-06, 6.2330437e-06, 6.3144412e-06, ..., 1.1637738e-06,\n",
       "          1.5971284e-07, 1.3454519e-07],\n",
       "         ...,\n",
       "         [7.1480241e-07, 7.4554231e-07, 7.9745979e-07, ..., 1.4340408e-06,\n",
       "          1.3201277e-06, 1.2859776e-06],\n",
       "         [6.0994887e-07, 6.2010758e-07, 6.3716243e-07, ..., 4.0761867e-07,\n",
       "          1.7535218e-07, 1.6836647e-07],\n",
       "         [6.8865182e-07, 6.9677486e-07, 7.1000841e-07, ..., 3.5803578e-06,\n",
       "          1.9428686e-08, 1.4416809e-08]], dtype=float32),\n",
       "  'mfcc': array([[-1.00000000e+00, -2.42030799e-01, -4.80754524e-01, ...,\n",
       "           3.10237170e-03,  1.18157947e-02, -6.41129969e-04],\n",
       "         [-1.00000000e+00, -2.10041642e-01, -3.97155881e-01, ...,\n",
       "          -2.89330794e-03,  1.39303915e-02, -7.43062468e-03],\n",
       "         [-1.00000000e+00, -1.58837840e-01, -3.73100877e-01, ...,\n",
       "          -1.23003172e-02,  1.38010504e-02, -1.57749048e-03],\n",
       "         ...,\n",
       "         [-1.00000000e+00, -1.38936890e-02, -4.89315540e-01, ...,\n",
       "          -7.87511747e-03,  1.45043747e-03, -2.23725494e-02],\n",
       "         [-1.00000000e+00, -3.57662961e-02, -4.85042721e-01, ...,\n",
       "          -8.61293636e-03,  5.25546959e-03, -2.76897736e-02],\n",
       "         [-1.00000000e+00, -3.37400734e-02, -3.77177924e-01, ...,\n",
       "          -9.44969244e-03,  6.11816347e-03, -2.02193484e-02]], dtype=float32),\n",
       "  'chroma': array([[0.45420432, 0.47741306, 0.27606258, ..., 0.3193727 , 0.34688896,\n",
       "          0.4286952 ],\n",
       "         [0.4356819 , 0.34249935, 0.27004102, ..., 0.3178777 , 0.3931908 ,\n",
       "          0.43225312],\n",
       "         [0.63328475, 0.37406066, 0.24923299, ..., 0.18869033, 0.274962  ,\n",
       "          0.36646706],\n",
       "         ...,\n",
       "         [0.3551657 , 0.30133966, 0.42815253, ..., 0.31722987, 0.50733495,\n",
       "          0.50202006],\n",
       "         [0.42694405, 0.375813  , 0.48883587, ..., 0.35543406, 0.46209583,\n",
       "          0.50869304],\n",
       "         [0.56880134, 0.5408928 , 0.50224805, ..., 0.41221082, 0.44949648,\n",
       "          0.5340134 ]], dtype=float32),\n",
       "  'label': array([1, 1, 1, ..., 5, 5, 5])},\n",
       " 'val': {'melspectrogram': array([[2.08654342e-06, 2.09023460e-06, 2.09655309e-06, ...,\n",
       "          4.35780862e-07, 2.86455418e-07, 2.62781299e-07],\n",
       "         [5.14644796e-07, 5.18451770e-07, 5.24857455e-07, ...,\n",
       "          8.26180553e-07, 7.70810345e-07, 7.42548536e-07],\n",
       "         [7.81503445e-07, 7.82719894e-07, 7.84752444e-07, ...,\n",
       "          1.19201019e-07, 1.03323671e-07, 9.78742136e-08],\n",
       "         ...,\n",
       "         [1.54361842e-05, 1.55262624e-05, 1.56780297e-05, ...,\n",
       "          5.58050374e-07, 5.25745179e-07, 5.07756681e-07],\n",
       "         [2.48254651e-06, 2.50361859e-06, 2.53902363e-06, ...,\n",
       "          1.24185149e-07, 1.16088565e-07, 1.13024349e-07],\n",
       "         [1.93989199e-05, 1.95496796e-05, 1.98049947e-05, ...,\n",
       "          3.92436135e-07, 3.67574415e-07, 3.55124456e-07]], dtype=float32),\n",
       "  'mfcc': array([[-1.        , -0.22734603, -0.37787247, ...,  0.00697774,\n",
       "           0.00993196, -0.02122127],\n",
       "         [-1.        , -0.26769474, -0.38232008, ...,  0.01004697,\n",
       "           0.00816452, -0.02220042],\n",
       "         [-1.        , -0.28279343, -0.37107462, ...,  0.01090213,\n",
       "           0.00712035, -0.02076568],\n",
       "         ...,\n",
       "         [-1.        , -0.06642738, -0.6118404 , ..., -0.00669727,\n",
       "          -0.01643099, -0.01232127],\n",
       "         [-1.        , -0.06773184, -0.6085982 , ..., -0.01411018,\n",
       "          -0.00941584, -0.02025561],\n",
       "         [-1.        , -0.07021626, -0.6018566 , ..., -0.00995805,\n",
       "          -0.00896039, -0.01876554]], dtype=float32),\n",
       "  'chroma': array([[0.29067138, 0.15418883, 0.23171532, ..., 0.2757813 , 0.52178496,\n",
       "          0.52253646],\n",
       "         [0.27370873, 0.11868938, 0.1546942 , ..., 0.27553728, 0.58054924,\n",
       "          0.5700651 ],\n",
       "         [0.2379946 , 0.09205887, 0.15139487, ..., 0.2874817 , 0.60223377,\n",
       "          0.58479035],\n",
       "         ...,\n",
       "         [0.33443278, 0.2324658 , 0.2735845 , ..., 0.539794  , 0.6129941 ,\n",
       "          0.5201867 ],\n",
       "         [0.33424085, 0.25169027, 0.31665212, ..., 0.52745265, 0.5659953 ,\n",
       "          0.45975223],\n",
       "         [0.37361825, 0.26233044, 0.24325241, ..., 0.4860167 , 0.55098546,\n",
       "          0.55316746]], dtype=float32),\n",
       "  'label': array([1, 1, 1, ..., 5, 5, 5])}}"
      ]
     },
     "execution_count": 153,
     "metadata": {},
     "output_type": "execute_result"
    }
   ],
   "source": [
    "merged_dict = {'train': train_features, 'val': val_features}\n",
    "merged_dict"
   ]
  },
  {
   "cell_type": "markdown",
   "metadata": {},
   "source": [
    "### Save the merged dictionary to a pkl"
   ]
  },
  {
   "cell_type": "code",
   "execution_count": 154,
   "metadata": {},
   "outputs": [],
   "source": [
    "with open('C:/Users/thato/Documents/Final-Year-Project/Dataset/Project-V4/feature-extraction/NotAnnotated/AveragePooled/split_features_6s_mel_mfcc_chroma.pkl', 'wb') as file:\n",
    "  pickle.dump(merged_dict, file)"
   ]
  },
  {
   "cell_type": "markdown",
   "metadata": {},
   "source": [
    "### **['melspectrogram', 'mfcc', 'chroma', 'rms']**"
   ]
  },
  {
   "cell_type": "code",
   "execution_count": 155,
   "metadata": {},
   "outputs": [],
   "source": [
    "features_list = ['melspectrogram', 'mfcc', 'chroma', 'rms']"
   ]
  },
  {
   "cell_type": "code",
   "execution_count": 156,
   "metadata": {},
   "outputs": [
    {
     "name": "stdout",
     "output_type": "stream",
     "text": [
      "Train DataFrame shape: (485, 6)\n",
      "Validation DataFrame shape: (130, 6)\n",
      "Number of rows in dataframe: 485\n"
     ]
    },
    {
     "name": "stderr",
     "output_type": "stream",
     "text": [
      "Processing data: 100%|██████████| 485/485 [05:59<00:00,  1.35it/s]\n"
     ]
    },
    {
     "name": "stdout",
     "output_type": "stream",
     "text": [
      "Number of rows in dataframe: 130\n"
     ]
    },
    {
     "name": "stderr",
     "output_type": "stream",
     "text": [
      "Processing data: 100%|██████████| 130/130 [01:15<00:00,  1.73it/s]\n"
     ]
    },
    {
     "name": "stdout",
     "output_type": "stream",
     "text": [
      "\u001b[1m223/223\u001b[0m \u001b[32m━━━━━━━━━━━━━━━━━━━━\u001b[0m\u001b[37m\u001b[0m \u001b[1m0s\u001b[0m 710us/step\n",
      "\u001b[1m60/60\u001b[0m \u001b[32m━━━━━━━━━━━━━━━━━━━━\u001b[0m\u001b[37m\u001b[0m \u001b[1m0s\u001b[0m 659us/step\n",
      "\u001b[1m223/223\u001b[0m \u001b[32m━━━━━━━━━━━━━━━━━━━━\u001b[0m\u001b[37m\u001b[0m \u001b[1m0s\u001b[0m 499us/step\n",
      "\u001b[1m60/60\u001b[0m \u001b[32m━━━━━━━━━━━━━━━━━━━━\u001b[0m\u001b[37m\u001b[0m \u001b[1m0s\u001b[0m 443us/step\n",
      "\u001b[1m223/223\u001b[0m \u001b[32m━━━━━━━━━━━━━━━━━━━━\u001b[0m\u001b[37m\u001b[0m \u001b[1m0s\u001b[0m 435us/step\n",
      "\u001b[1m60/60\u001b[0m \u001b[32m━━━━━━━━━━━━━━━━━━━━\u001b[0m\u001b[37m\u001b[0m \u001b[1m0s\u001b[0m 426us/step\n",
      "\u001b[1m223/223\u001b[0m \u001b[32m━━━━━━━━━━━━━━━━━━━━\u001b[0m\u001b[37m\u001b[0m \u001b[1m0s\u001b[0m 443us/step\n",
      "\u001b[1m60/60\u001b[0m \u001b[32m━━━━━━━━━━━━━━━━━━━━\u001b[0m\u001b[37m\u001b[0m \u001b[1m0s\u001b[0m 410us/step\n"
     ]
    }
   ],
   "source": [
    "features = Extraction(train_data,\n",
    "                      val_data,\n",
    "                      window_size=6,\n",
    "                      features=features_list,\n",
    "                      avgpool=True\n",
    "                      )"
   ]
  },
  {
   "cell_type": "code",
   "execution_count": 157,
   "metadata": {},
   "outputs": [
    {
     "data": {
      "text/plain": [
       "(7105,)"
      ]
     },
     "metadata": {},
     "output_type": "display_data"
    },
    {
     "data": {
      "text/plain": [
       "'melspectrogram'"
      ]
     },
     "metadata": {},
     "output_type": "display_data"
    },
    {
     "data": {
      "text/plain": [
       "(7105, 60)"
      ]
     },
     "metadata": {},
     "output_type": "display_data"
    },
    {
     "data": {
      "text/plain": [
       "'mfcc'"
      ]
     },
     "metadata": {},
     "output_type": "display_data"
    },
    {
     "data": {
      "text/plain": [
       "(7105, 20)"
      ]
     },
     "metadata": {},
     "output_type": "display_data"
    },
    {
     "data": {
      "text/plain": [
       "'chroma'"
      ]
     },
     "metadata": {},
     "output_type": "display_data"
    },
    {
     "data": {
      "text/plain": [
       "(7105, 12)"
      ]
     },
     "metadata": {},
     "output_type": "display_data"
    },
    {
     "data": {
      "text/plain": [
       "'rms'"
      ]
     },
     "metadata": {},
     "output_type": "display_data"
    },
    {
     "data": {
      "text/plain": [
       "(7105, 1)"
      ]
     },
     "metadata": {},
     "output_type": "display_data"
    }
   ],
   "source": [
    "train_y = features.train_y\n",
    "display(train_y.shape)\n",
    "\n",
    "train_features = features.train_features\n",
    "for key in train_features.keys():\n",
    "  display(key)\n",
    "  display(train_features[key].shape)"
   ]
  },
  {
   "cell_type": "code",
   "execution_count": 158,
   "metadata": {},
   "outputs": [
    {
     "data": {
      "text/plain": [
       "(1896,)"
      ]
     },
     "metadata": {},
     "output_type": "display_data"
    },
    {
     "data": {
      "text/plain": [
       "'melspectrogram'"
      ]
     },
     "metadata": {},
     "output_type": "display_data"
    },
    {
     "data": {
      "text/plain": [
       "(1896, 60)"
      ]
     },
     "metadata": {},
     "output_type": "display_data"
    },
    {
     "data": {
      "text/plain": [
       "'mfcc'"
      ]
     },
     "metadata": {},
     "output_type": "display_data"
    },
    {
     "data": {
      "text/plain": [
       "(1896, 20)"
      ]
     },
     "metadata": {},
     "output_type": "display_data"
    },
    {
     "data": {
      "text/plain": [
       "'chroma'"
      ]
     },
     "metadata": {},
     "output_type": "display_data"
    },
    {
     "data": {
      "text/plain": [
       "(1896, 12)"
      ]
     },
     "metadata": {},
     "output_type": "display_data"
    },
    {
     "data": {
      "text/plain": [
       "'rms'"
      ]
     },
     "metadata": {},
     "output_type": "display_data"
    },
    {
     "data": {
      "text/plain": [
       "(1896, 1)"
      ]
     },
     "metadata": {},
     "output_type": "display_data"
    }
   ],
   "source": [
    "val_y = features.val_y\n",
    "display(val_y.shape)\n",
    "\n",
    "val_features = features.val_features\n",
    "for key in val_features.keys():\n",
    "  display(key)\n",
    "  display(val_features[key].shape)"
   ]
  },
  {
   "cell_type": "markdown",
   "metadata": {},
   "source": [
    "### Encode Classes"
   ]
  },
  {
   "cell_type": "code",
   "execution_count": 159,
   "metadata": {},
   "outputs": [
    {
     "name": "stdout",
     "output_type": "stream",
     "text": [
      "Encoded classes for [0, 1, 2]: ['Acrocephalus arundinaceus', 'Acrocephalus melanopogon', 'Acrocephalus scirpaceus']\n",
      "Encoded training labels: [1 1 1 ... 5 5 5]\n",
      "Encoded validation labels: [1 1 1 ... 5 5 5]\n"
     ]
    }
   ],
   "source": [
    "label_encoder = LabelEncoder().fit(train_y)\n",
    "train_y_encoded = label_encoder.transform(train_y)\n",
    "val_y_encoded = label_encoder.transform(val_y)\n",
    "\n",
    "classes = list(label_encoder.inverse_transform([0, 1, 2]))\n",
    "print(\"Encoded classes for [0, 1, 2]:\", classes)\n",
    "print(\"Encoded training labels:\", train_y_encoded)\n",
    "print(\"Encoded validation labels:\", val_y_encoded)"
   ]
  },
  {
   "cell_type": "code",
   "execution_count": 160,
   "metadata": {},
   "outputs": [
    {
     "data": {
      "text/plain": [
       "7105"
      ]
     },
     "metadata": {},
     "output_type": "display_data"
    },
    {
     "data": {
      "text/plain": [
       "array(['Acrocephalus melanopogon', 'Acrocephalus melanopogon',\n",
       "       'Acrocephalus melanopogon', 'Acrocephalus melanopogon',\n",
       "       'Acrocephalus melanopogon', 'Acrocephalus melanopogon',\n",
       "       'Acrocephalus melanopogon', 'Acrocephalus melanopogon',\n",
       "       'Acrocephalus melanopogon', 'Acrocephalus melanopogon'],\n",
       "      dtype='<U25')"
      ]
     },
     "metadata": {},
     "output_type": "display_data"
    },
    {
     "data": {
      "text/plain": [
       "1896"
      ]
     },
     "metadata": {},
     "output_type": "display_data"
    },
    {
     "data": {
      "text/plain": [
       "array(['Acrocephalus melanopogon', 'Acrocephalus melanopogon',\n",
       "       'Acrocephalus melanopogon', 'Acrocephalus melanopogon',\n",
       "       'Acrocephalus melanopogon', 'Acrocephalus melanopogon',\n",
       "       'Acrocephalus melanopogon', 'Acrocephalus melanopogon',\n",
       "       'Acrocephalus melanopogon', 'Acrocephalus melanopogon'],\n",
       "      dtype='<U25')"
      ]
     },
     "metadata": {},
     "output_type": "display_data"
    }
   ],
   "source": [
    "display(len(train_y))\n",
    "display(train_y[:10])\n",
    "\n",
    "display(len(val_y))\n",
    "display(val_y[:10])"
   ]
  },
  {
   "cell_type": "code",
   "execution_count": 161,
   "metadata": {},
   "outputs": [],
   "source": [
    "train_features['label'] = train_y_encoded\n",
    "val_features['label'] = val_y_encoded"
   ]
  },
  {
   "cell_type": "code",
   "execution_count": 162,
   "metadata": {},
   "outputs": [
    {
     "data": {
      "text/plain": [
       "{'train': {'melspectrogram': array([[1.1545551e-05, 1.2176995e-05, 1.3009772e-05, ..., 4.4375400e-07,\n",
       "          2.2230227e-08, 1.8851988e-08],\n",
       "         [8.5422990e-08, 9.0774186e-08, 1.0014884e-07, ..., 1.3420139e-06,\n",
       "          4.4213351e-07, 4.1396237e-07],\n",
       "         [6.1857563e-06, 6.2330437e-06, 6.3144412e-06, ..., 1.1637738e-06,\n",
       "          1.5971284e-07, 1.3454519e-07],\n",
       "         ...,\n",
       "         [7.1480241e-07, 7.4554231e-07, 7.9745979e-07, ..., 1.4340408e-06,\n",
       "          1.3201277e-06, 1.2859776e-06],\n",
       "         [6.0994887e-07, 6.2010758e-07, 6.3716243e-07, ..., 4.0761867e-07,\n",
       "          1.7535218e-07, 1.6836647e-07],\n",
       "         [6.8865182e-07, 6.9677486e-07, 7.1000841e-07, ..., 3.5803578e-06,\n",
       "          1.9428686e-08, 1.4416809e-08]], dtype=float32),\n",
       "  'mfcc': array([[-1.00000000e+00, -2.42030799e-01, -4.80754524e-01, ...,\n",
       "           3.10237170e-03,  1.18157947e-02, -6.41129969e-04],\n",
       "         [-1.00000000e+00, -2.10041642e-01, -3.97155881e-01, ...,\n",
       "          -2.89330794e-03,  1.39303915e-02, -7.43062468e-03],\n",
       "         [-1.00000000e+00, -1.58837840e-01, -3.73100877e-01, ...,\n",
       "          -1.23003172e-02,  1.38010504e-02, -1.57749048e-03],\n",
       "         ...,\n",
       "         [-1.00000000e+00, -1.38936890e-02, -4.89315540e-01, ...,\n",
       "          -7.87511747e-03,  1.45043747e-03, -2.23725494e-02],\n",
       "         [-1.00000000e+00, -3.57662961e-02, -4.85042721e-01, ...,\n",
       "          -8.61293636e-03,  5.25546959e-03, -2.76897736e-02],\n",
       "         [-1.00000000e+00, -3.37400734e-02, -3.77177924e-01, ...,\n",
       "          -9.44969244e-03,  6.11816347e-03, -2.02193484e-02]], dtype=float32),\n",
       "  'chroma': array([[0.45420432, 0.47741306, 0.27606258, ..., 0.3193727 , 0.34688896,\n",
       "          0.4286952 ],\n",
       "         [0.4356819 , 0.34249935, 0.27004102, ..., 0.3178777 , 0.3931908 ,\n",
       "          0.43225312],\n",
       "         [0.63328475, 0.37406066, 0.24923299, ..., 0.18869033, 0.274962  ,\n",
       "          0.36646706],\n",
       "         ...,\n",
       "         [0.3551657 , 0.30133966, 0.42815253, ..., 0.31722987, 0.50733495,\n",
       "          0.50202006],\n",
       "         [0.42694405, 0.375813  , 0.48883587, ..., 0.35543406, 0.46209583,\n",
       "          0.50869304],\n",
       "         [0.56880134, 0.5408928 , 0.50224805, ..., 0.41221082, 0.44949648,\n",
       "          0.5340134 ]], dtype=float32),\n",
       "  'rms': array([[0.03206969],\n",
       "         [0.02628541],\n",
       "         [0.01985536],\n",
       "         ...,\n",
       "         [0.02025504],\n",
       "         [0.01995105],\n",
       "         [0.01036868]], dtype=float32),\n",
       "  'label': array([1, 1, 1, ..., 5, 5, 5])},\n",
       " 'val': {'melspectrogram': array([[2.08654342e-06, 2.09023460e-06, 2.09655309e-06, ...,\n",
       "          4.35780862e-07, 2.86455418e-07, 2.62781299e-07],\n",
       "         [5.14644796e-07, 5.18451770e-07, 5.24857455e-07, ...,\n",
       "          8.26180553e-07, 7.70810345e-07, 7.42548536e-07],\n",
       "         [7.81503445e-07, 7.82719894e-07, 7.84752444e-07, ...,\n",
       "          1.19201019e-07, 1.03323671e-07, 9.78742136e-08],\n",
       "         ...,\n",
       "         [1.54361842e-05, 1.55262624e-05, 1.56780297e-05, ...,\n",
       "          5.58050374e-07, 5.25745179e-07, 5.07756681e-07],\n",
       "         [2.48254651e-06, 2.50361859e-06, 2.53902363e-06, ...,\n",
       "          1.24185149e-07, 1.16088565e-07, 1.13024349e-07],\n",
       "         [1.93989199e-05, 1.95496796e-05, 1.98049947e-05, ...,\n",
       "          3.92436135e-07, 3.67574415e-07, 3.55124456e-07]], dtype=float32),\n",
       "  'mfcc': array([[-1.        , -0.22734603, -0.37787247, ...,  0.00697774,\n",
       "           0.00993196, -0.02122127],\n",
       "         [-1.        , -0.26769474, -0.38232008, ...,  0.01004697,\n",
       "           0.00816452, -0.02220042],\n",
       "         [-1.        , -0.28279343, -0.37107462, ...,  0.01090213,\n",
       "           0.00712035, -0.02076568],\n",
       "         ...,\n",
       "         [-1.        , -0.06642738, -0.6118404 , ..., -0.00669727,\n",
       "          -0.01643099, -0.01232127],\n",
       "         [-1.        , -0.06773184, -0.6085982 , ..., -0.01411018,\n",
       "          -0.00941584, -0.02025561],\n",
       "         [-1.        , -0.07021626, -0.6018566 , ..., -0.00995805,\n",
       "          -0.00896039, -0.01876554]], dtype=float32),\n",
       "  'chroma': array([[0.29067138, 0.15418883, 0.23171532, ..., 0.2757813 , 0.52178496,\n",
       "          0.52253646],\n",
       "         [0.27370873, 0.11868938, 0.1546942 , ..., 0.27553728, 0.58054924,\n",
       "          0.5700651 ],\n",
       "         [0.2379946 , 0.09205887, 0.15139487, ..., 0.2874817 , 0.60223377,\n",
       "          0.58479035],\n",
       "         ...,\n",
       "         [0.33443278, 0.2324658 , 0.2735845 , ..., 0.539794  , 0.6129941 ,\n",
       "          0.5201867 ],\n",
       "         [0.33424085, 0.25169027, 0.31665212, ..., 0.52745265, 0.5659953 ,\n",
       "          0.45975223],\n",
       "         [0.37361825, 0.26233044, 0.24325241, ..., 0.4860167 , 0.55098546,\n",
       "          0.55316746]], dtype=float32),\n",
       "  'rms': array([[0.04218462],\n",
       "         [0.05527065],\n",
       "         [0.05958944],\n",
       "         ...,\n",
       "         [0.03339591],\n",
       "         [0.02352094],\n",
       "         [0.02306289]], dtype=float32),\n",
       "  'label': array([1, 1, 1, ..., 5, 5, 5])}}"
      ]
     },
     "execution_count": 162,
     "metadata": {},
     "output_type": "execute_result"
    }
   ],
   "source": [
    "merged_dict = {'train': train_features, 'val': val_features}\n",
    "merged_dict"
   ]
  },
  {
   "cell_type": "markdown",
   "metadata": {},
   "source": [
    "### Save the merged dictionary to a pkl"
   ]
  },
  {
   "cell_type": "code",
   "execution_count": 163,
   "metadata": {},
   "outputs": [],
   "source": [
    "with open('C:/Users/thato/Documents/Final-Year-Project/Dataset/Project-V4/feature-extraction/NotAnnotated/AveragePooled/split_features_6s_all.pkl', 'wb') as file:\n",
    "  pickle.dump(merged_dict, file)"
   ]
  },
  {
   "cell_type": "markdown",
   "metadata": {},
   "source": [
    "## **Window Size = 4s**"
   ]
  },
  {
   "cell_type": "markdown",
   "metadata": {},
   "source": [
    "### **['melspectrogram']**"
   ]
  },
  {
   "cell_type": "code",
   "execution_count": 164,
   "metadata": {},
   "outputs": [],
   "source": [
    "features_list = ['melspectrogram']"
   ]
  },
  {
   "cell_type": "code",
   "execution_count": 165,
   "metadata": {},
   "outputs": [
    {
     "name": "stdout",
     "output_type": "stream",
     "text": [
      "Train DataFrame shape: (485, 6)\n",
      "Validation DataFrame shape: (130, 6)\n",
      "Number of rows in dataframe: 485\n"
     ]
    },
    {
     "name": "stderr",
     "output_type": "stream",
     "text": [
      "Processing data: 100%|██████████| 485/485 [01:14<00:00,  6.49it/s]\n"
     ]
    },
    {
     "name": "stdout",
     "output_type": "stream",
     "text": [
      "Number of rows in dataframe: 130\n"
     ]
    },
    {
     "name": "stderr",
     "output_type": "stream",
     "text": [
      "Processing data: 100%|██████████| 130/130 [00:18<00:00,  7.18it/s]\n"
     ]
    },
    {
     "name": "stdout",
     "output_type": "stream",
     "text": [
      "\u001b[1m344/344\u001b[0m \u001b[32m━━━━━━━━━━━━━━━━━━━━\u001b[0m\u001b[37m\u001b[0m \u001b[1m0s\u001b[0m 554us/step\n",
      "\u001b[1m92/92\u001b[0m \u001b[32m━━━━━━━━━━━━━━━━━━━━\u001b[0m\u001b[37m\u001b[0m \u001b[1m0s\u001b[0m 521us/step\n"
     ]
    }
   ],
   "source": [
    "features = Extraction(train_data,\n",
    "                      val_data,\n",
    "                      window_size=4,\n",
    "                      features=features_list,\n",
    "                      avgpool=True\n",
    "                      )"
   ]
  },
  {
   "cell_type": "code",
   "execution_count": 166,
   "metadata": {},
   "outputs": [
    {
     "data": {
      "text/plain": [
       "(10981,)"
      ]
     },
     "metadata": {},
     "output_type": "display_data"
    },
    {
     "data": {
      "text/plain": [
       "'melspectrogram'"
      ]
     },
     "metadata": {},
     "output_type": "display_data"
    },
    {
     "data": {
      "text/plain": [
       "(10981, 60)"
      ]
     },
     "metadata": {},
     "output_type": "display_data"
    }
   ],
   "source": [
    "train_y = features.train_y\n",
    "display(train_y.shape)\n",
    "\n",
    "train_features = features.train_features\n",
    "for key in train_features.keys():\n",
    "  display(key)\n",
    "  display(train_features[key].shape)"
   ]
  },
  {
   "cell_type": "code",
   "execution_count": 167,
   "metadata": {},
   "outputs": [
    {
     "data": {
      "text/plain": [
       "array(['Acrocephalus melanopogon', 'Acrocephalus melanopogon',\n",
       "       'Acrocephalus melanopogon', ..., 'Anas strepera', 'Anas strepera',\n",
       "       'Anas strepera'], dtype='<U25')"
      ]
     },
     "execution_count": 167,
     "metadata": {},
     "output_type": "execute_result"
    }
   ],
   "source": [
    "train_y"
   ]
  },
  {
   "cell_type": "code",
   "execution_count": 168,
   "metadata": {},
   "outputs": [
    {
     "data": {
      "text/plain": [
       "(2928,)"
      ]
     },
     "metadata": {},
     "output_type": "display_data"
    },
    {
     "data": {
      "text/plain": [
       "'melspectrogram'"
      ]
     },
     "metadata": {},
     "output_type": "display_data"
    },
    {
     "data": {
      "text/plain": [
       "(2928, 60)"
      ]
     },
     "metadata": {},
     "output_type": "display_data"
    }
   ],
   "source": [
    "val_y = features.val_y\n",
    "display(val_y.shape)\n",
    "\n",
    "val_features = features.val_features\n",
    "for key in val_features.keys():\n",
    "  display(key)\n",
    "  display(val_features[key].shape)"
   ]
  },
  {
   "cell_type": "markdown",
   "metadata": {},
   "source": [
    "### Encode Classes"
   ]
  },
  {
   "cell_type": "code",
   "execution_count": 169,
   "metadata": {},
   "outputs": [
    {
     "name": "stdout",
     "output_type": "stream",
     "text": [
      "Encoded classes for [0, 1, 2]: ['Acrocephalus arundinaceus', 'Acrocephalus melanopogon', 'Acrocephalus scirpaceus']\n",
      "Encoded training labels: [1 1 1 ... 5 5 5]\n",
      "Encoded validation labels: [1 1 1 ... 5 5 5]\n"
     ]
    }
   ],
   "source": [
    "label_encoder = LabelEncoder().fit(train_y)\n",
    "train_y_encoded = label_encoder.transform(train_y)\n",
    "val_y_encoded = label_encoder.transform(val_y)\n",
    "\n",
    "classes = list(label_encoder.inverse_transform([0, 1, 2]))\n",
    "print(\"Encoded classes for [0, 1, 2]:\", classes)\n",
    "print(\"Encoded training labels:\", train_y_encoded)\n",
    "print(\"Encoded validation labels:\", val_y_encoded)"
   ]
  },
  {
   "cell_type": "code",
   "execution_count": 170,
   "metadata": {},
   "outputs": [
    {
     "data": {
      "text/plain": [
       "10981"
      ]
     },
     "metadata": {},
     "output_type": "display_data"
    },
    {
     "data": {
      "text/plain": [
       "array(['Acrocephalus melanopogon', 'Acrocephalus melanopogon',\n",
       "       'Acrocephalus melanopogon', 'Acrocephalus melanopogon',\n",
       "       'Acrocephalus melanopogon', 'Acrocephalus melanopogon',\n",
       "       'Acrocephalus melanopogon', 'Acrocephalus melanopogon',\n",
       "       'Acrocephalus melanopogon', 'Acrocephalus melanopogon'],\n",
       "      dtype='<U25')"
      ]
     },
     "metadata": {},
     "output_type": "display_data"
    },
    {
     "data": {
      "text/plain": [
       "2928"
      ]
     },
     "metadata": {},
     "output_type": "display_data"
    },
    {
     "data": {
      "text/plain": [
       "array(['Acrocephalus melanopogon', 'Acrocephalus melanopogon',\n",
       "       'Acrocephalus melanopogon', 'Acrocephalus melanopogon',\n",
       "       'Acrocephalus melanopogon', 'Acrocephalus melanopogon',\n",
       "       'Acrocephalus melanopogon', 'Acrocephalus melanopogon',\n",
       "       'Acrocephalus melanopogon', 'Acrocephalus melanopogon'],\n",
       "      dtype='<U25')"
      ]
     },
     "metadata": {},
     "output_type": "display_data"
    }
   ],
   "source": [
    "display(len(train_y))\n",
    "display(train_y[:10])\n",
    "\n",
    "display(len(val_y))\n",
    "display(val_y[:10])"
   ]
  },
  {
   "cell_type": "code",
   "execution_count": 171,
   "metadata": {},
   "outputs": [],
   "source": [
    "train_features['label'] = train_y_encoded\n",
    "val_features['label'] = val_y_encoded"
   ]
  },
  {
   "cell_type": "code",
   "execution_count": 172,
   "metadata": {},
   "outputs": [
    {
     "data": {
      "text/plain": [
       "{'train': {'melspectrogram': array([[1.7294491e-05, 1.8239583e-05, 1.9485902e-05, ..., 5.1940111e-07,\n",
       "          3.2287385e-08, 2.7940120e-08],\n",
       "         [7.9314253e-07, 8.0714307e-07, 8.3096978e-07, ..., 1.3027967e-06,\n",
       "          8.4759665e-07, 8.0172282e-07],\n",
       "         [3.0612518e-06, 3.0607123e-06, 3.0592107e-06, ..., 6.0072955e-07,\n",
       "          3.6999687e-08, 1.4126979e-08],\n",
       "         ...,\n",
       "         [1.0815166e-06, 1.0910663e-06, 1.1071655e-06, ..., 4.2367597e-07,\n",
       "          1.3173792e-07, 1.2475495e-07],\n",
       "         [2.1907644e-07, 2.7223422e-07, 3.6665881e-07, ..., 5.7446897e-07,\n",
       "          1.8625977e-07, 1.7997159e-07],\n",
       "         [2.4198832e-06, 2.6966893e-06, 3.1864115e-06, ..., 1.2659899e-05,\n",
       "          2.3157411e-07, 2.2612821e-07]], dtype=float32),\n",
       "  'label': array([1, 1, 1, ..., 5, 5, 5])},\n",
       " 'val': {'melspectrogram': array([[3.75477839e-06, 3.76116282e-06, 3.77205765e-06, ...,\n",
       "          5.65175878e-06, 5.06358674e-06, 4.80833251e-06],\n",
       "         [3.40994302e-06, 3.41521968e-06, 3.42404178e-06, ...,\n",
       "          3.41328644e-07, 3.00770182e-07, 2.80889481e-07],\n",
       "         [8.39739641e-07, 8.41037206e-07, 8.43205953e-07, ...,\n",
       "          1.24349810e-06, 1.14588988e-06, 1.09064842e-06],\n",
       "         ...,\n",
       "         [2.56626549e-07, 2.66493231e-07, 2.83625809e-07, ...,\n",
       "          4.07689697e-07, 3.82143469e-07, 3.68111017e-07],\n",
       "         [1.88428730e-05, 1.89519051e-05, 1.91351082e-05, ...,\n",
       "          4.76290410e-07, 4.48368240e-07, 4.33282480e-07],\n",
       "         [1.29688988e-05, 1.31203005e-05, 1.33786443e-05, ...,\n",
       "          6.97713119e-07, 6.52227982e-07, 6.30009254e-07]], dtype=float32),\n",
       "  'label': array([1, 1, 1, ..., 5, 5, 5])}}"
      ]
     },
     "execution_count": 172,
     "metadata": {},
     "output_type": "execute_result"
    }
   ],
   "source": [
    "merged_dict = {'train': train_features, 'val': val_features}\n",
    "merged_dict"
   ]
  },
  {
   "cell_type": "markdown",
   "metadata": {},
   "source": [
    "### Save the merged dictionary to a pkl"
   ]
  },
  {
   "cell_type": "code",
   "execution_count": 173,
   "metadata": {},
   "outputs": [],
   "source": [
    "with open('C:/Users/thato/Documents/Final-Year-Project/Dataset/Project-V4/feature-extraction/NotAnnotated/AveragePooled/split_features_4s_mel.pkl', 'wb') as file:\n",
    "  pickle.dump(merged_dict, file)"
   ]
  },
  {
   "cell_type": "markdown",
   "metadata": {},
   "source": [
    "### **['melspectrogram', 'mfcc']**"
   ]
  },
  {
   "cell_type": "code",
   "execution_count": 174,
   "metadata": {},
   "outputs": [],
   "source": [
    "features_list = ['melspectrogram', 'mfcc']"
   ]
  },
  {
   "cell_type": "code",
   "execution_count": 175,
   "metadata": {},
   "outputs": [
    {
     "name": "stdout",
     "output_type": "stream",
     "text": [
      "Train DataFrame shape: (485, 6)\n",
      "Validation DataFrame shape: (130, 6)\n",
      "Number of rows in dataframe: 485\n"
     ]
    },
    {
     "name": "stderr",
     "output_type": "stream",
     "text": [
      "Processing data: 100%|██████████| 485/485 [04:23<00:00,  1.84it/s]\n"
     ]
    },
    {
     "name": "stdout",
     "output_type": "stream",
     "text": [
      "Number of rows in dataframe: 130\n"
     ]
    },
    {
     "name": "stderr",
     "output_type": "stream",
     "text": [
      "Processing data: 100%|██████████| 130/130 [00:38<00:00,  3.39it/s]\n"
     ]
    },
    {
     "name": "stdout",
     "output_type": "stream",
     "text": [
      "\u001b[1m344/344\u001b[0m \u001b[32m━━━━━━━━━━━━━━━━━━━━\u001b[0m\u001b[37m\u001b[0m \u001b[1m0s\u001b[0m 534us/step\n",
      "\u001b[1m92/92\u001b[0m \u001b[32m━━━━━━━━━━━━━━━━━━━━\u001b[0m\u001b[37m\u001b[0m \u001b[1m0s\u001b[0m 509us/step\n",
      "\u001b[1m344/344\u001b[0m \u001b[32m━━━━━━━━━━━━━━━━━━━━\u001b[0m\u001b[37m\u001b[0m \u001b[1m0s\u001b[0m 438us/step\n",
      "\u001b[1m92/92\u001b[0m \u001b[32m━━━━━━━━━━━━━━━━━━━━\u001b[0m\u001b[37m\u001b[0m \u001b[1m0s\u001b[0m 429us/step\n"
     ]
    }
   ],
   "source": [
    "features = Extraction(train_data,\n",
    "                      val_data,\n",
    "                      window_size=4,\n",
    "                      features=features_list,\n",
    "                      avgpool=True\n",
    "                      )"
   ]
  },
  {
   "cell_type": "code",
   "execution_count": 176,
   "metadata": {},
   "outputs": [
    {
     "data": {
      "text/plain": [
       "(10981,)"
      ]
     },
     "metadata": {},
     "output_type": "display_data"
    },
    {
     "data": {
      "text/plain": [
       "'melspectrogram'"
      ]
     },
     "metadata": {},
     "output_type": "display_data"
    },
    {
     "data": {
      "text/plain": [
       "(10981, 60)"
      ]
     },
     "metadata": {},
     "output_type": "display_data"
    },
    {
     "data": {
      "text/plain": [
       "'mfcc'"
      ]
     },
     "metadata": {},
     "output_type": "display_data"
    },
    {
     "data": {
      "text/plain": [
       "(10981, 20)"
      ]
     },
     "metadata": {},
     "output_type": "display_data"
    }
   ],
   "source": [
    "train_y = features.train_y\n",
    "display(train_y.shape)\n",
    "\n",
    "train_features = features.train_features\n",
    "for key in train_features.keys():\n",
    "  display(key)\n",
    "  display(train_features[key].shape)"
   ]
  },
  {
   "cell_type": "code",
   "execution_count": 177,
   "metadata": {},
   "outputs": [
    {
     "data": {
      "text/plain": [
       "(2928,)"
      ]
     },
     "metadata": {},
     "output_type": "display_data"
    },
    {
     "data": {
      "text/plain": [
       "'melspectrogram'"
      ]
     },
     "metadata": {},
     "output_type": "display_data"
    },
    {
     "data": {
      "text/plain": [
       "(2928, 60)"
      ]
     },
     "metadata": {},
     "output_type": "display_data"
    },
    {
     "data": {
      "text/plain": [
       "'mfcc'"
      ]
     },
     "metadata": {},
     "output_type": "display_data"
    },
    {
     "data": {
      "text/plain": [
       "(2928, 20)"
      ]
     },
     "metadata": {},
     "output_type": "display_data"
    }
   ],
   "source": [
    "val_y = features.val_y\n",
    "display(val_y.shape)\n",
    "\n",
    "val_features = features.val_features\n",
    "for key in val_features.keys():\n",
    "  display(key)\n",
    "  display(val_features[key].shape)"
   ]
  },
  {
   "cell_type": "markdown",
   "metadata": {},
   "source": [
    "### Encode Classes"
   ]
  },
  {
   "cell_type": "code",
   "execution_count": 178,
   "metadata": {},
   "outputs": [
    {
     "name": "stdout",
     "output_type": "stream",
     "text": [
      "Encoded classes for [0, 1, 2]: ['Acrocephalus arundinaceus', 'Acrocephalus melanopogon', 'Acrocephalus scirpaceus']\n",
      "Encoded training labels: [1 1 1 ... 5 5 5]\n",
      "Encoded validation labels: [1 1 1 ... 5 5 5]\n"
     ]
    }
   ],
   "source": [
    "label_encoder = LabelEncoder().fit(train_y)\n",
    "train_y_encoded = label_encoder.transform(train_y)\n",
    "val_y_encoded = label_encoder.transform(val_y)\n",
    "\n",
    "classes = list(label_encoder.inverse_transform([0, 1, 2]))\n",
    "print(\"Encoded classes for [0, 1, 2]:\", classes)\n",
    "print(\"Encoded training labels:\", train_y_encoded)\n",
    "print(\"Encoded validation labels:\", val_y_encoded)"
   ]
  },
  {
   "cell_type": "code",
   "execution_count": 179,
   "metadata": {},
   "outputs": [
    {
     "data": {
      "text/plain": [
       "10981"
      ]
     },
     "metadata": {},
     "output_type": "display_data"
    },
    {
     "data": {
      "text/plain": [
       "array(['Acrocephalus melanopogon', 'Acrocephalus melanopogon',\n",
       "       'Acrocephalus melanopogon', 'Acrocephalus melanopogon',\n",
       "       'Acrocephalus melanopogon', 'Acrocephalus melanopogon',\n",
       "       'Acrocephalus melanopogon', 'Acrocephalus melanopogon',\n",
       "       'Acrocephalus melanopogon', 'Acrocephalus melanopogon'],\n",
       "      dtype='<U25')"
      ]
     },
     "metadata": {},
     "output_type": "display_data"
    },
    {
     "data": {
      "text/plain": [
       "2928"
      ]
     },
     "metadata": {},
     "output_type": "display_data"
    },
    {
     "data": {
      "text/plain": [
       "array(['Acrocephalus melanopogon', 'Acrocephalus melanopogon',\n",
       "       'Acrocephalus melanopogon', 'Acrocephalus melanopogon',\n",
       "       'Acrocephalus melanopogon', 'Acrocephalus melanopogon',\n",
       "       'Acrocephalus melanopogon', 'Acrocephalus melanopogon',\n",
       "       'Acrocephalus melanopogon', 'Acrocephalus melanopogon'],\n",
       "      dtype='<U25')"
      ]
     },
     "metadata": {},
     "output_type": "display_data"
    }
   ],
   "source": [
    "display(len(train_y))\n",
    "display(train_y[:10])\n",
    "\n",
    "display(len(val_y))\n",
    "display(val_y[:10])"
   ]
  },
  {
   "cell_type": "code",
   "execution_count": 180,
   "metadata": {},
   "outputs": [],
   "source": [
    "train_features['label'] = train_y_encoded\n",
    "val_features['label'] = val_y_encoded"
   ]
  },
  {
   "cell_type": "code",
   "execution_count": 181,
   "metadata": {},
   "outputs": [
    {
     "data": {
      "text/plain": [
       "{'train': {'melspectrogram': array([[1.7294491e-05, 1.8239583e-05, 1.9485902e-05, ..., 5.1940111e-07,\n",
       "          3.2287385e-08, 2.7940120e-08],\n",
       "         [7.9314253e-07, 8.0714307e-07, 8.3096978e-07, ..., 1.3027967e-06,\n",
       "          8.4759665e-07, 8.0172282e-07],\n",
       "         [3.0612518e-06, 3.0607123e-06, 3.0592107e-06, ..., 6.0072955e-07,\n",
       "          3.6999687e-08, 1.4126979e-08],\n",
       "         ...,\n",
       "         [1.0815166e-06, 1.0910663e-06, 1.1071655e-06, ..., 4.2367597e-07,\n",
       "          1.3173792e-07, 1.2475495e-07],\n",
       "         [2.1907644e-07, 2.7223422e-07, 3.6665881e-07, ..., 5.7446897e-07,\n",
       "          1.8625977e-07, 1.7997159e-07],\n",
       "         [2.4198832e-06, 2.6966893e-06, 3.1864115e-06, ..., 1.2659899e-05,\n",
       "          2.3157411e-07, 2.2612821e-07]], dtype=float32),\n",
       "  'mfcc': array([[-1.0000000e+00, -2.3626368e-01, -5.0428110e-01, ...,\n",
       "           5.1737577e-03,  1.1148715e-02,  3.4610374e-04],\n",
       "         [-1.0000000e+00, -2.4848318e-01, -4.7058651e-01, ...,\n",
       "           2.9826174e-03,  9.7121680e-03, -5.3395964e-03],\n",
       "         [-1.0000000e+00, -2.1472941e-01, -3.9474082e-01, ...,\n",
       "          -3.8874066e-03,  1.6939165e-02, -8.0259237e-03],\n",
       "         ...,\n",
       "         [-1.0000000e+00, -4.8605792e-02, -5.0560749e-01, ...,\n",
       "          -1.1745107e-02,  4.4932691e-03, -2.8505510e-02],\n",
       "         [-1.0000000e+00, -2.8515840e-02, -3.7700239e-01, ...,\n",
       "          -1.1284011e-02,  9.0192836e-03, -2.1381233e-02],\n",
       "         [-1.0000000e+00, -4.6963759e-02, -3.1230685e-01, ...,\n",
       "          -1.1913958e-03,  5.6325276e-03, -1.4546473e-02]], dtype=float32),\n",
       "  'label': array([1, 1, 1, ..., 5, 5, 5])},\n",
       " 'val': {'melspectrogram': array([[3.75477839e-06, 3.76116282e-06, 3.77205765e-06, ...,\n",
       "          5.65175878e-06, 5.06358674e-06, 4.80833251e-06],\n",
       "         [3.40994302e-06, 3.41521968e-06, 3.42404178e-06, ...,\n",
       "          3.41328644e-07, 3.00770182e-07, 2.80889481e-07],\n",
       "         [8.39739641e-07, 8.41037206e-07, 8.43205953e-07, ...,\n",
       "          1.24349810e-06, 1.14588988e-06, 1.09064842e-06],\n",
       "         ...,\n",
       "         [2.56626549e-07, 2.66493231e-07, 2.83625809e-07, ...,\n",
       "          4.07689697e-07, 3.82143469e-07, 3.68111017e-07],\n",
       "         [1.88428730e-05, 1.89519051e-05, 1.91351082e-05, ...,\n",
       "          4.76290410e-07, 4.48368240e-07, 4.33282480e-07],\n",
       "         [1.29688988e-05, 1.31203005e-05, 1.33786443e-05, ...,\n",
       "          6.97713119e-07, 6.52227982e-07, 6.30009254e-07]], dtype=float32),\n",
       "  'mfcc': array([[-1.        , -0.21453853, -0.38537365, ...,  0.00559846,\n",
       "           0.00889489, -0.01819588],\n",
       "         [-1.        , -0.25982228, -0.3988581 , ...,  0.01121113,\n",
       "           0.01036923, -0.0243206 ],\n",
       "         [-1.        , -0.262715  , -0.3744428 , ...,  0.00848942,\n",
       "           0.01277183, -0.02345961],\n",
       "         ...,\n",
       "         [-1.        , -0.06231845, -0.59439707, ..., -0.01251288,\n",
       "          -0.00654217, -0.02056992],\n",
       "         [-1.        , -0.06773086, -0.5973017 , ..., -0.01139232,\n",
       "          -0.01083555, -0.0206809 ],\n",
       "         [-1.        , -0.08160123, -0.6311919 , ..., -0.01181426,\n",
       "          -0.01046068, -0.01674579]], dtype=float32),\n",
       "  'label': array([1, 1, 1, ..., 5, 5, 5])}}"
      ]
     },
     "execution_count": 181,
     "metadata": {},
     "output_type": "execute_result"
    }
   ],
   "source": [
    "merged_dict = {'train': train_features, 'val': val_features}\n",
    "merged_dict"
   ]
  },
  {
   "cell_type": "markdown",
   "metadata": {},
   "source": [
    "### Save the merged dictionary to a pkl"
   ]
  },
  {
   "cell_type": "code",
   "execution_count": 182,
   "metadata": {},
   "outputs": [],
   "source": [
    "with open('C:/Users/thato/Documents/Final-Year-Project/Dataset/Project-V4/feature-extraction/NotAnnotated/AveragePooled/split_features_4s_mel_mfcc.pkl', 'wb') as file:\n",
    "  pickle.dump(merged_dict, file)"
   ]
  },
  {
   "cell_type": "markdown",
   "metadata": {},
   "source": [
    "### **['melspectrogram', 'mfcc', 'chroma']**"
   ]
  },
  {
   "cell_type": "code",
   "execution_count": 183,
   "metadata": {},
   "outputs": [],
   "source": [
    "features_list = ['melspectrogram', 'mfcc', 'chroma']"
   ]
  },
  {
   "cell_type": "code",
   "execution_count": 184,
   "metadata": {},
   "outputs": [
    {
     "name": "stdout",
     "output_type": "stream",
     "text": [
      "Train DataFrame shape: (485, 6)\n",
      "Validation DataFrame shape: (130, 6)\n",
      "Number of rows in dataframe: 485\n"
     ]
    },
    {
     "name": "stderr",
     "output_type": "stream",
     "text": [
      "Processing data: 100%|██████████| 485/485 [04:09<00:00,  1.94it/s]\n"
     ]
    },
    {
     "name": "stdout",
     "output_type": "stream",
     "text": [
      "Number of rows in dataframe: 130\n"
     ]
    },
    {
     "name": "stderr",
     "output_type": "stream",
     "text": [
      "Processing data: 100%|██████████| 130/130 [01:05<00:00,  1.98it/s]\n"
     ]
    },
    {
     "name": "stdout",
     "output_type": "stream",
     "text": [
      "\u001b[1m344/344\u001b[0m \u001b[32m━━━━━━━━━━━━━━━━━━━━\u001b[0m\u001b[37m\u001b[0m \u001b[1m0s\u001b[0m 579us/step\n",
      "\u001b[1m92/92\u001b[0m \u001b[32m━━━━━━━━━━━━━━━━━━━━\u001b[0m\u001b[37m\u001b[0m \u001b[1m0s\u001b[0m 514us/step\n",
      "\u001b[1m344/344\u001b[0m \u001b[32m━━━━━━━━━━━━━━━━━━━━\u001b[0m\u001b[37m\u001b[0m \u001b[1m0s\u001b[0m 444us/step\n",
      "\u001b[1m92/92\u001b[0m \u001b[32m━━━━━━━━━━━━━━━━━━━━\u001b[0m\u001b[37m\u001b[0m \u001b[1m0s\u001b[0m 430us/step\n",
      "\u001b[1m344/344\u001b[0m \u001b[32m━━━━━━━━━━━━━━━━━━━━\u001b[0m\u001b[37m\u001b[0m \u001b[1m0s\u001b[0m 412us/step\n",
      "\u001b[1m92/92\u001b[0m \u001b[32m━━━━━━━━━━━━━━━━━━━━\u001b[0m\u001b[37m\u001b[0m \u001b[1m0s\u001b[0m 400us/step\n"
     ]
    }
   ],
   "source": [
    "features = Extraction(train_data,\n",
    "                      val_data,\n",
    "                      window_size=4,\n",
    "                      features=features_list,\n",
    "                      avgpool=True\n",
    "                      )"
   ]
  },
  {
   "cell_type": "code",
   "execution_count": 185,
   "metadata": {},
   "outputs": [
    {
     "data": {
      "text/plain": [
       "(10981,)"
      ]
     },
     "metadata": {},
     "output_type": "display_data"
    },
    {
     "data": {
      "text/plain": [
       "'melspectrogram'"
      ]
     },
     "metadata": {},
     "output_type": "display_data"
    },
    {
     "data": {
      "text/plain": [
       "(10981, 60)"
      ]
     },
     "metadata": {},
     "output_type": "display_data"
    },
    {
     "data": {
      "text/plain": [
       "'mfcc'"
      ]
     },
     "metadata": {},
     "output_type": "display_data"
    },
    {
     "data": {
      "text/plain": [
       "(10981, 20)"
      ]
     },
     "metadata": {},
     "output_type": "display_data"
    },
    {
     "data": {
      "text/plain": [
       "'chroma'"
      ]
     },
     "metadata": {},
     "output_type": "display_data"
    },
    {
     "data": {
      "text/plain": [
       "(10981, 12)"
      ]
     },
     "metadata": {},
     "output_type": "display_data"
    }
   ],
   "source": [
    "train_y = features.train_y\n",
    "display(train_y.shape)\n",
    "\n",
    "train_features = features.train_features\n",
    "for key in train_features.keys():\n",
    "  display(key)\n",
    "  display(train_features[key].shape)"
   ]
  },
  {
   "cell_type": "code",
   "execution_count": 186,
   "metadata": {},
   "outputs": [
    {
     "data": {
      "text/plain": [
       "(2928,)"
      ]
     },
     "metadata": {},
     "output_type": "display_data"
    },
    {
     "data": {
      "text/plain": [
       "'melspectrogram'"
      ]
     },
     "metadata": {},
     "output_type": "display_data"
    },
    {
     "data": {
      "text/plain": [
       "(2928, 60)"
      ]
     },
     "metadata": {},
     "output_type": "display_data"
    },
    {
     "data": {
      "text/plain": [
       "'mfcc'"
      ]
     },
     "metadata": {},
     "output_type": "display_data"
    },
    {
     "data": {
      "text/plain": [
       "(2928, 20)"
      ]
     },
     "metadata": {},
     "output_type": "display_data"
    },
    {
     "data": {
      "text/plain": [
       "'chroma'"
      ]
     },
     "metadata": {},
     "output_type": "display_data"
    },
    {
     "data": {
      "text/plain": [
       "(2928, 12)"
      ]
     },
     "metadata": {},
     "output_type": "display_data"
    }
   ],
   "source": [
    "val_y = features.val_y\n",
    "display(val_y.shape)\n",
    "\n",
    "val_features = features.val_features\n",
    "for key in val_features.keys():\n",
    "  display(key)\n",
    "  display(val_features[key].shape)"
   ]
  },
  {
   "cell_type": "markdown",
   "metadata": {},
   "source": [
    "### Encode Classes"
   ]
  },
  {
   "cell_type": "code",
   "execution_count": 187,
   "metadata": {},
   "outputs": [
    {
     "name": "stdout",
     "output_type": "stream",
     "text": [
      "Encoded classes for [0, 1, 2]: ['Acrocephalus arundinaceus', 'Acrocephalus melanopogon', 'Acrocephalus scirpaceus']\n",
      "Encoded training labels: [1 1 1 ... 5 5 5]\n",
      "Encoded validation labels: [1 1 1 ... 5 5 5]\n"
     ]
    }
   ],
   "source": [
    "label_encoder = LabelEncoder().fit(train_y)\n",
    "train_y_encoded = label_encoder.transform(train_y)\n",
    "val_y_encoded = label_encoder.transform(val_y)\n",
    "\n",
    "classes = list(label_encoder.inverse_transform([0, 1, 2]))\n",
    "print(\"Encoded classes for [0, 1, 2]:\", classes)\n",
    "print(\"Encoded training labels:\", train_y_encoded)\n",
    "print(\"Encoded validation labels:\", val_y_encoded)"
   ]
  },
  {
   "cell_type": "code",
   "execution_count": 188,
   "metadata": {},
   "outputs": [
    {
     "data": {
      "text/plain": [
       "10981"
      ]
     },
     "metadata": {},
     "output_type": "display_data"
    },
    {
     "data": {
      "text/plain": [
       "array(['Acrocephalus melanopogon', 'Acrocephalus melanopogon',\n",
       "       'Acrocephalus melanopogon', 'Acrocephalus melanopogon',\n",
       "       'Acrocephalus melanopogon', 'Acrocephalus melanopogon',\n",
       "       'Acrocephalus melanopogon', 'Acrocephalus melanopogon',\n",
       "       'Acrocephalus melanopogon', 'Acrocephalus melanopogon'],\n",
       "      dtype='<U25')"
      ]
     },
     "metadata": {},
     "output_type": "display_data"
    },
    {
     "data": {
      "text/plain": [
       "2928"
      ]
     },
     "metadata": {},
     "output_type": "display_data"
    },
    {
     "data": {
      "text/plain": [
       "array(['Acrocephalus melanopogon', 'Acrocephalus melanopogon',\n",
       "       'Acrocephalus melanopogon', 'Acrocephalus melanopogon',\n",
       "       'Acrocephalus melanopogon', 'Acrocephalus melanopogon',\n",
       "       'Acrocephalus melanopogon', 'Acrocephalus melanopogon',\n",
       "       'Acrocephalus melanopogon', 'Acrocephalus melanopogon'],\n",
       "      dtype='<U25')"
      ]
     },
     "metadata": {},
     "output_type": "display_data"
    }
   ],
   "source": [
    "display(len(train_y))\n",
    "display(train_y[:10])\n",
    "\n",
    "display(len(val_y))\n",
    "display(val_y[:10])"
   ]
  },
  {
   "cell_type": "code",
   "execution_count": 189,
   "metadata": {},
   "outputs": [],
   "source": [
    "train_features['label'] = train_y_encoded\n",
    "val_features['label'] = val_y_encoded"
   ]
  },
  {
   "cell_type": "code",
   "execution_count": 190,
   "metadata": {},
   "outputs": [
    {
     "data": {
      "text/plain": [
       "{'train': {'melspectrogram': array([[1.7294491e-05, 1.8239583e-05, 1.9485902e-05, ..., 5.1940111e-07,\n",
       "          3.2287385e-08, 2.7940120e-08],\n",
       "         [7.9314253e-07, 8.0714307e-07, 8.3096978e-07, ..., 1.3027967e-06,\n",
       "          8.4759665e-07, 8.0172282e-07],\n",
       "         [3.0612518e-06, 3.0607123e-06, 3.0592107e-06, ..., 6.0072955e-07,\n",
       "          3.6999687e-08, 1.4126979e-08],\n",
       "         ...,\n",
       "         [1.0815166e-06, 1.0910663e-06, 1.1071655e-06, ..., 4.2367597e-07,\n",
       "          1.3173792e-07, 1.2475495e-07],\n",
       "         [2.1907644e-07, 2.7223422e-07, 3.6665881e-07, ..., 5.7446897e-07,\n",
       "          1.8625977e-07, 1.7997159e-07],\n",
       "         [2.4198832e-06, 2.6966893e-06, 3.1864115e-06, ..., 1.2659899e-05,\n",
       "          2.3157411e-07, 2.2612821e-07]], dtype=float32),\n",
       "  'mfcc': array([[-1.0000000e+00, -2.3626368e-01, -5.0428110e-01, ...,\n",
       "           5.1737577e-03,  1.1148715e-02,  3.4610374e-04],\n",
       "         [-1.0000000e+00, -2.4848318e-01, -4.7058651e-01, ...,\n",
       "           2.9826174e-03,  9.7121680e-03, -5.3395964e-03],\n",
       "         [-1.0000000e+00, -2.1472941e-01, -3.9474082e-01, ...,\n",
       "          -3.8874066e-03,  1.6939165e-02, -8.0259237e-03],\n",
       "         ...,\n",
       "         [-1.0000000e+00, -4.8605792e-02, -5.0560749e-01, ...,\n",
       "          -1.1745107e-02,  4.4932691e-03, -2.8505510e-02],\n",
       "         [-1.0000000e+00, -2.8515840e-02, -3.7700239e-01, ...,\n",
       "          -1.1284011e-02,  9.0192836e-03, -2.1381233e-02],\n",
       "         [-1.0000000e+00, -4.6963759e-02, -3.1230685e-01, ...,\n",
       "          -1.1913958e-03,  5.6325276e-03, -1.4546473e-02]], dtype=float32),\n",
       "  'chroma': array([[0.46446815, 0.49344763, 0.272792  , ..., 0.33641616, 0.35591307,\n",
       "          0.4465878 ],\n",
       "         [0.4498349 , 0.4656876 , 0.2713559 , ..., 0.31607577, 0.35203218,\n",
       "          0.42755732],\n",
       "         [0.36486772, 0.39883375, 0.33119655, ..., 0.30271965, 0.37420923,\n",
       "          0.34706914],\n",
       "         ...,\n",
       "         [0.49500066, 0.43938106, 0.4447228 , ..., 0.31922016, 0.37807077,\n",
       "          0.47952107],\n",
       "         [0.6208546 , 0.57111466, 0.55245966, ..., 0.4631326 , 0.49097157,\n",
       "          0.58401203],\n",
       "         [0.55163413, 0.57258   , 0.57687557, ..., 0.45064372, 0.49031565,\n",
       "          0.5414636 ]], dtype=float32),\n",
       "  'label': array([1, 1, 1, ..., 5, 5, 5])},\n",
       " 'val': {'melspectrogram': array([[3.75477839e-06, 3.76116282e-06, 3.77205765e-06, ...,\n",
       "          5.65175878e-06, 5.06358674e-06, 4.80833251e-06],\n",
       "         [3.40994302e-06, 3.41521968e-06, 3.42404178e-06, ...,\n",
       "          3.41328644e-07, 3.00770182e-07, 2.80889481e-07],\n",
       "         [8.39739641e-07, 8.41037206e-07, 8.43205953e-07, ...,\n",
       "          1.24349810e-06, 1.14588988e-06, 1.09064842e-06],\n",
       "         ...,\n",
       "         [2.56626549e-07, 2.66493231e-07, 2.83625809e-07, ...,\n",
       "          4.07689697e-07, 3.82143469e-07, 3.68111017e-07],\n",
       "         [1.88428730e-05, 1.89519051e-05, 1.91351082e-05, ...,\n",
       "          4.76290410e-07, 4.48368240e-07, 4.33282480e-07],\n",
       "         [1.29688988e-05, 1.31203005e-05, 1.33786443e-05, ...,\n",
       "          6.97713119e-07, 6.52227982e-07, 6.30009254e-07]], dtype=float32),\n",
       "  'mfcc': array([[-1.        , -0.21453853, -0.38537365, ...,  0.00559846,\n",
       "           0.00889489, -0.01819588],\n",
       "         [-1.        , -0.25982228, -0.3988581 , ...,  0.01121113,\n",
       "           0.01036923, -0.0243206 ],\n",
       "         [-1.        , -0.262715  , -0.3744428 , ...,  0.00848942,\n",
       "           0.01277183, -0.02345961],\n",
       "         ...,\n",
       "         [-1.        , -0.06231845, -0.59439707, ..., -0.01251288,\n",
       "          -0.00654217, -0.02056992],\n",
       "         [-1.        , -0.06773086, -0.5973017 , ..., -0.01139232,\n",
       "          -0.01083555, -0.0206809 ],\n",
       "         [-1.        , -0.08160123, -0.6311919 , ..., -0.01181426,\n",
       "          -0.01046068, -0.01674579]], dtype=float32),\n",
       "  'chroma': array([[0.28993642, 0.14844978, 0.25089073, ..., 0.27022564, 0.47226036,\n",
       "          0.50559175],\n",
       "         [0.28735775, 0.13351597, 0.1746383 , ..., 0.25527453, 0.54639953,\n",
       "          0.5476516 ],\n",
       "         [0.24501   , 0.13009955, 0.16586517, ..., 0.2793253 , 0.6059031 ,\n",
       "          0.54991734],\n",
       "         ...,\n",
       "         [0.38608274, 0.30369505, 0.2996028 , ..., 0.5470512 , 0.5838331 ,\n",
       "          0.4617382 ],\n",
       "         [0.36054567, 0.24516311, 0.23104598, ..., 0.50654596, 0.52629155,\n",
       "          0.5030136 ],\n",
       "         [0.2807677 , 0.22412933, 0.3575237 , ..., 0.494704  , 0.60032076,\n",
       "          0.4600499 ]], dtype=float32),\n",
       "  'label': array([1, 1, 1, ..., 5, 5, 5])}}"
      ]
     },
     "execution_count": 190,
     "metadata": {},
     "output_type": "execute_result"
    }
   ],
   "source": [
    "merged_dict = {'train': train_features, 'val': val_features}\n",
    "merged_dict"
   ]
  },
  {
   "cell_type": "markdown",
   "metadata": {},
   "source": [
    "### Save the merged dictionary to a pkl"
   ]
  },
  {
   "cell_type": "code",
   "execution_count": 191,
   "metadata": {},
   "outputs": [],
   "source": [
    "with open('C:/Users/thato/Documents/Final-Year-Project/Dataset/Project-V4/feature-extraction/NotAnnotated/AveragePooled/split_features_4s_mel_mfcc_chroma.pkl', 'wb') as file:\n",
    "  pickle.dump(merged_dict, file)"
   ]
  },
  {
   "cell_type": "markdown",
   "metadata": {},
   "source": [
    "### **['melspectrogram', 'mfcc', 'chroma', 'rms']**"
   ]
  },
  {
   "cell_type": "code",
   "execution_count": 192,
   "metadata": {},
   "outputs": [],
   "source": [
    "features_list = ['melspectrogram', 'mfcc', 'chroma', 'rms']"
   ]
  },
  {
   "cell_type": "code",
   "execution_count": 193,
   "metadata": {},
   "outputs": [
    {
     "name": "stdout",
     "output_type": "stream",
     "text": [
      "Train DataFrame shape: (485, 6)\n",
      "Validation DataFrame shape: (130, 6)\n",
      "Number of rows in dataframe: 485\n"
     ]
    },
    {
     "name": "stderr",
     "output_type": "stream",
     "text": [
      "Processing data: 100%|██████████| 485/485 [04:53<00:00,  1.65it/s]\n"
     ]
    },
    {
     "name": "stdout",
     "output_type": "stream",
     "text": [
      "Number of rows in dataframe: 130\n"
     ]
    },
    {
     "name": "stderr",
     "output_type": "stream",
     "text": [
      "Processing data: 100%|██████████| 130/130 [01:18<00:00,  1.66it/s]\n"
     ]
    },
    {
     "name": "stdout",
     "output_type": "stream",
     "text": [
      "\u001b[1m344/344\u001b[0m \u001b[32m━━━━━━━━━━━━━━━━━━━━\u001b[0m\u001b[37m\u001b[0m \u001b[1m0s\u001b[0m 531us/step\n",
      "\u001b[1m92/92\u001b[0m \u001b[32m━━━━━━━━━━━━━━━━━━━━\u001b[0m\u001b[37m\u001b[0m \u001b[1m0s\u001b[0m 506us/step\n",
      "\u001b[1m344/344\u001b[0m \u001b[32m━━━━━━━━━━━━━━━━━━━━\u001b[0m\u001b[37m\u001b[0m \u001b[1m0s\u001b[0m 437us/step\n",
      "\u001b[1m92/92\u001b[0m \u001b[32m━━━━━━━━━━━━━━━━━━━━\u001b[0m\u001b[37m\u001b[0m \u001b[1m0s\u001b[0m 414us/step\n",
      "\u001b[1m344/344\u001b[0m \u001b[32m━━━━━━━━━━━━━━━━━━━━\u001b[0m\u001b[37m\u001b[0m \u001b[1m0s\u001b[0m 411us/step\n",
      "\u001b[1m92/92\u001b[0m \u001b[32m━━━━━━━━━━━━━━━━━━━━\u001b[0m\u001b[37m\u001b[0m \u001b[1m0s\u001b[0m 403us/step\n",
      "\u001b[1m344/344\u001b[0m \u001b[32m━━━━━━━━━━━━━━━━━━━━\u001b[0m\u001b[37m\u001b[0m \u001b[1m0s\u001b[0m 411us/step\n",
      "\u001b[1m92/92\u001b[0m \u001b[32m━━━━━━━━━━━━━━━━━━━━\u001b[0m\u001b[37m\u001b[0m \u001b[1m0s\u001b[0m 401us/step\n"
     ]
    }
   ],
   "source": [
    "features = Extraction(train_data,\n",
    "                      val_data,\n",
    "                      window_size=4,\n",
    "                      features=features_list,\n",
    "                      avgpool=True\n",
    "                      )"
   ]
  },
  {
   "cell_type": "code",
   "execution_count": 194,
   "metadata": {},
   "outputs": [
    {
     "data": {
      "text/plain": [
       "(10981,)"
      ]
     },
     "metadata": {},
     "output_type": "display_data"
    },
    {
     "data": {
      "text/plain": [
       "'melspectrogram'"
      ]
     },
     "metadata": {},
     "output_type": "display_data"
    },
    {
     "data": {
      "text/plain": [
       "(10981, 60)"
      ]
     },
     "metadata": {},
     "output_type": "display_data"
    },
    {
     "data": {
      "text/plain": [
       "'mfcc'"
      ]
     },
     "metadata": {},
     "output_type": "display_data"
    },
    {
     "data": {
      "text/plain": [
       "(10981, 20)"
      ]
     },
     "metadata": {},
     "output_type": "display_data"
    },
    {
     "data": {
      "text/plain": [
       "'chroma'"
      ]
     },
     "metadata": {},
     "output_type": "display_data"
    },
    {
     "data": {
      "text/plain": [
       "(10981, 12)"
      ]
     },
     "metadata": {},
     "output_type": "display_data"
    },
    {
     "data": {
      "text/plain": [
       "'rms'"
      ]
     },
     "metadata": {},
     "output_type": "display_data"
    },
    {
     "data": {
      "text/plain": [
       "(10981, 1)"
      ]
     },
     "metadata": {},
     "output_type": "display_data"
    }
   ],
   "source": [
    "train_y = features.train_y\n",
    "display(train_y.shape)\n",
    "\n",
    "train_features = features.train_features\n",
    "for key in train_features.keys():\n",
    "  display(key)\n",
    "  display(train_features[key].shape)"
   ]
  },
  {
   "cell_type": "code",
   "execution_count": 195,
   "metadata": {},
   "outputs": [
    {
     "data": {
      "text/plain": [
       "(2928,)"
      ]
     },
     "metadata": {},
     "output_type": "display_data"
    },
    {
     "data": {
      "text/plain": [
       "'melspectrogram'"
      ]
     },
     "metadata": {},
     "output_type": "display_data"
    },
    {
     "data": {
      "text/plain": [
       "(2928, 60)"
      ]
     },
     "metadata": {},
     "output_type": "display_data"
    },
    {
     "data": {
      "text/plain": [
       "'mfcc'"
      ]
     },
     "metadata": {},
     "output_type": "display_data"
    },
    {
     "data": {
      "text/plain": [
       "(2928, 20)"
      ]
     },
     "metadata": {},
     "output_type": "display_data"
    },
    {
     "data": {
      "text/plain": [
       "'chroma'"
      ]
     },
     "metadata": {},
     "output_type": "display_data"
    },
    {
     "data": {
      "text/plain": [
       "(2928, 12)"
      ]
     },
     "metadata": {},
     "output_type": "display_data"
    },
    {
     "data": {
      "text/plain": [
       "'rms'"
      ]
     },
     "metadata": {},
     "output_type": "display_data"
    },
    {
     "data": {
      "text/plain": [
       "(2928, 1)"
      ]
     },
     "metadata": {},
     "output_type": "display_data"
    }
   ],
   "source": [
    "val_y = features.val_y\n",
    "display(val_y.shape)\n",
    "\n",
    "val_features = features.val_features\n",
    "for key in val_features.keys():\n",
    "  display(key)\n",
    "  display(val_features[key].shape)"
   ]
  },
  {
   "cell_type": "markdown",
   "metadata": {},
   "source": [
    "### Encode Classes"
   ]
  },
  {
   "cell_type": "code",
   "execution_count": 196,
   "metadata": {},
   "outputs": [
    {
     "name": "stdout",
     "output_type": "stream",
     "text": [
      "Encoded classes for [0, 1, 2]: ['Acrocephalus arundinaceus', 'Acrocephalus melanopogon', 'Acrocephalus scirpaceus']\n",
      "Encoded training labels: [1 1 1 ... 5 5 5]\n",
      "Encoded validation labels: [1 1 1 ... 5 5 5]\n"
     ]
    }
   ],
   "source": [
    "label_encoder = LabelEncoder().fit(train_y)\n",
    "train_y_encoded = label_encoder.transform(train_y)\n",
    "val_y_encoded = label_encoder.transform(val_y)\n",
    "\n",
    "classes = list(label_encoder.inverse_transform([0, 1, 2]))\n",
    "print(\"Encoded classes for [0, 1, 2]:\", classes)\n",
    "print(\"Encoded training labels:\", train_y_encoded)\n",
    "print(\"Encoded validation labels:\", val_y_encoded)"
   ]
  },
  {
   "cell_type": "code",
   "execution_count": 197,
   "metadata": {},
   "outputs": [
    {
     "data": {
      "text/plain": [
       "10981"
      ]
     },
     "metadata": {},
     "output_type": "display_data"
    },
    {
     "data": {
      "text/plain": [
       "array(['Acrocephalus melanopogon', 'Acrocephalus melanopogon',\n",
       "       'Acrocephalus melanopogon', 'Acrocephalus melanopogon',\n",
       "       'Acrocephalus melanopogon', 'Acrocephalus melanopogon',\n",
       "       'Acrocephalus melanopogon', 'Acrocephalus melanopogon',\n",
       "       'Acrocephalus melanopogon', 'Acrocephalus melanopogon'],\n",
       "      dtype='<U25')"
      ]
     },
     "metadata": {},
     "output_type": "display_data"
    },
    {
     "data": {
      "text/plain": [
       "2928"
      ]
     },
     "metadata": {},
     "output_type": "display_data"
    },
    {
     "data": {
      "text/plain": [
       "array(['Acrocephalus melanopogon', 'Acrocephalus melanopogon',\n",
       "       'Acrocephalus melanopogon', 'Acrocephalus melanopogon',\n",
       "       'Acrocephalus melanopogon', 'Acrocephalus melanopogon',\n",
       "       'Acrocephalus melanopogon', 'Acrocephalus melanopogon',\n",
       "       'Acrocephalus melanopogon', 'Acrocephalus melanopogon'],\n",
       "      dtype='<U25')"
      ]
     },
     "metadata": {},
     "output_type": "display_data"
    }
   ],
   "source": [
    "display(len(train_y))\n",
    "display(train_y[:10])\n",
    "\n",
    "display(len(val_y))\n",
    "display(val_y[:10])"
   ]
  },
  {
   "cell_type": "code",
   "execution_count": 198,
   "metadata": {},
   "outputs": [],
   "source": [
    "train_features['label'] = train_y_encoded\n",
    "val_features['label'] = val_y_encoded"
   ]
  },
  {
   "cell_type": "code",
   "execution_count": 199,
   "metadata": {},
   "outputs": [
    {
     "data": {
      "text/plain": [
       "{'train': {'melspectrogram': array([[1.7294491e-05, 1.8239583e-05, 1.9485902e-05, ..., 5.1940111e-07,\n",
       "          3.2287385e-08, 2.7940120e-08],\n",
       "         [7.9314253e-07, 8.0714307e-07, 8.3096978e-07, ..., 1.3027967e-06,\n",
       "          8.4759665e-07, 8.0172282e-07],\n",
       "         [3.0612518e-06, 3.0607123e-06, 3.0592107e-06, ..., 6.0072955e-07,\n",
       "          3.6999687e-08, 1.4126979e-08],\n",
       "         ...,\n",
       "         [1.0815166e-06, 1.0910663e-06, 1.1071655e-06, ..., 4.2367597e-07,\n",
       "          1.3173792e-07, 1.2475495e-07],\n",
       "         [2.1907644e-07, 2.7223422e-07, 3.6665881e-07, ..., 5.7446897e-07,\n",
       "          1.8625977e-07, 1.7997159e-07],\n",
       "         [2.4198832e-06, 2.6966893e-06, 3.1864115e-06, ..., 1.2659899e-05,\n",
       "          2.3157411e-07, 2.2612821e-07]], dtype=float32),\n",
       "  'mfcc': array([[-1.0000000e+00, -2.3626368e-01, -5.0428110e-01, ...,\n",
       "           5.1737577e-03,  1.1148715e-02,  3.4610374e-04],\n",
       "         [-1.0000000e+00, -2.4848318e-01, -4.7058651e-01, ...,\n",
       "           2.9826174e-03,  9.7121680e-03, -5.3395964e-03],\n",
       "         [-1.0000000e+00, -2.1472941e-01, -3.9474082e-01, ...,\n",
       "          -3.8874066e-03,  1.6939165e-02, -8.0259237e-03],\n",
       "         ...,\n",
       "         [-1.0000000e+00, -4.8605792e-02, -5.0560749e-01, ...,\n",
       "          -1.1745107e-02,  4.4932691e-03, -2.8505510e-02],\n",
       "         [-1.0000000e+00, -2.8515840e-02, -3.7700239e-01, ...,\n",
       "          -1.1284011e-02,  9.0192836e-03, -2.1381233e-02],\n",
       "         [-1.0000000e+00, -4.6963759e-02, -3.1230685e-01, ...,\n",
       "          -1.1913958e-03,  5.6325276e-03, -1.4546473e-02]], dtype=float32),\n",
       "  'chroma': array([[0.46446815, 0.49344763, 0.272792  , ..., 0.33641616, 0.35591307,\n",
       "          0.4465878 ],\n",
       "         [0.4498349 , 0.4656876 , 0.2713559 , ..., 0.31607577, 0.35203218,\n",
       "          0.42755732],\n",
       "         [0.36486772, 0.39883375, 0.33119655, ..., 0.30271965, 0.37420923,\n",
       "          0.34706914],\n",
       "         ...,\n",
       "         [0.49500066, 0.43938106, 0.4447228 , ..., 0.31922016, 0.37807077,\n",
       "          0.47952107],\n",
       "         [0.6208546 , 0.57111466, 0.55245966, ..., 0.4631326 , 0.49097157,\n",
       "          0.58401203],\n",
       "         [0.55163413, 0.57258   , 0.57687557, ..., 0.45064372, 0.49031565,\n",
       "          0.5414636 ]], dtype=float32),\n",
       "  'rms': array([[0.03240787],\n",
       "         [0.03098402],\n",
       "         [0.02741831],\n",
       "         ...,\n",
       "         [0.0192934 ],\n",
       "         [0.00846047],\n",
       "         [0.00208637]], dtype=float32),\n",
       "  'label': array([1, 1, 1, ..., 5, 5, 5])},\n",
       " 'val': {'melspectrogram': array([[3.75477839e-06, 3.76116282e-06, 3.77205765e-06, ...,\n",
       "          5.65175878e-06, 5.06358674e-06, 4.80833251e-06],\n",
       "         [3.40994302e-06, 3.41521968e-06, 3.42404178e-06, ...,\n",
       "          3.41328644e-07, 3.00770182e-07, 2.80889481e-07],\n",
       "         [8.39739641e-07, 8.41037206e-07, 8.43205953e-07, ...,\n",
       "          1.24349810e-06, 1.14588988e-06, 1.09064842e-06],\n",
       "         ...,\n",
       "         [2.56626549e-07, 2.66493231e-07, 2.83625809e-07, ...,\n",
       "          4.07689697e-07, 3.82143469e-07, 3.68111017e-07],\n",
       "         [1.88428730e-05, 1.89519051e-05, 1.91351082e-05, ...,\n",
       "          4.76290410e-07, 4.48368240e-07, 4.33282480e-07],\n",
       "         [1.29688988e-05, 1.31203005e-05, 1.33786443e-05, ...,\n",
       "          6.97713119e-07, 6.52227982e-07, 6.30009254e-07]], dtype=float32),\n",
       "  'mfcc': array([[-1.        , -0.21453853, -0.38537365, ...,  0.00559846,\n",
       "           0.00889489, -0.01819588],\n",
       "         [-1.        , -0.25982228, -0.3988581 , ...,  0.01121113,\n",
       "           0.01036923, -0.0243206 ],\n",
       "         [-1.        , -0.262715  , -0.3744428 , ...,  0.00848942,\n",
       "           0.01277183, -0.02345961],\n",
       "         ...,\n",
       "         [-1.        , -0.06231845, -0.59439707, ..., -0.01251288,\n",
       "          -0.00654217, -0.02056992],\n",
       "         [-1.        , -0.06773086, -0.5973017 , ..., -0.01139232,\n",
       "          -0.01083555, -0.0206809 ],\n",
       "         [-1.        , -0.08160123, -0.6311919 , ..., -0.01181426,\n",
       "          -0.01046068, -0.01674579]], dtype=float32),\n",
       "  'chroma': array([[0.28993642, 0.14844978, 0.25089073, ..., 0.27022564, 0.47226036,\n",
       "          0.50559175],\n",
       "         [0.28735775, 0.13351597, 0.1746383 , ..., 0.25527453, 0.54639953,\n",
       "          0.5476516 ],\n",
       "         [0.24501   , 0.13009955, 0.16586517, ..., 0.2793253 , 0.6059031 ,\n",
       "          0.54991734],\n",
       "         ...,\n",
       "         [0.38608274, 0.30369505, 0.2996028 , ..., 0.5470512 , 0.5838331 ,\n",
       "          0.4617382 ],\n",
       "         [0.36054567, 0.24516311, 0.23104598, ..., 0.50654596, 0.52629155,\n",
       "          0.5030136 ],\n",
       "         [0.2807677 , 0.22412933, 0.3575237 , ..., 0.494704  , 0.60032076,\n",
       "          0.4600499 ]], dtype=float32),\n",
       "  'rms': array([[0.03921141],\n",
       "         [0.04844475],\n",
       "         [0.05661466],\n",
       "         ...,\n",
       "         [0.02227492],\n",
       "         [0.02077173],\n",
       "         [0.02604896]], dtype=float32),\n",
       "  'label': array([1, 1, 1, ..., 5, 5, 5])}}"
      ]
     },
     "execution_count": 199,
     "metadata": {},
     "output_type": "execute_result"
    }
   ],
   "source": [
    "merged_dict = {'train': train_features, 'val': val_features}\n",
    "merged_dict"
   ]
  },
  {
   "cell_type": "markdown",
   "metadata": {},
   "source": [
    "### Save the merged dictionary to a pkl"
   ]
  },
  {
   "cell_type": "code",
   "execution_count": 200,
   "metadata": {},
   "outputs": [],
   "source": [
    "with open('C:/Users/thato/Documents/Final-Year-Project/Dataset/Project-V4/feature-extraction/NotAnnotated/AveragePooled/split_features_4s_all.pkl', 'wb') as file:\n",
    "  pickle.dump(merged_dict, file)"
   ]
  },
  {
   "cell_type": "markdown",
   "metadata": {},
   "source": [
    "## **Window Size = 2s**"
   ]
  },
  {
   "cell_type": "markdown",
   "metadata": {},
   "source": [
    "### **['melspectrogram']**"
   ]
  },
  {
   "cell_type": "code",
   "execution_count": 201,
   "metadata": {},
   "outputs": [],
   "source": [
    "features_list = ['melspectrogram']"
   ]
  },
  {
   "cell_type": "code",
   "execution_count": 202,
   "metadata": {},
   "outputs": [
    {
     "name": "stdout",
     "output_type": "stream",
     "text": [
      "Train DataFrame shape: (485, 6)\n",
      "Validation DataFrame shape: (130, 6)\n",
      "Number of rows in dataframe: 485\n"
     ]
    },
    {
     "name": "stderr",
     "output_type": "stream",
     "text": [
      "Processing data: 100%|██████████| 485/485 [01:29<00:00,  5.39it/s]\n"
     ]
    },
    {
     "name": "stdout",
     "output_type": "stream",
     "text": [
      "Number of rows in dataframe: 130\n"
     ]
    },
    {
     "name": "stderr",
     "output_type": "stream",
     "text": [
      "Processing data: 100%|██████████| 130/130 [00:22<00:00,  5.81it/s]\n"
     ]
    },
    {
     "name": "stdout",
     "output_type": "stream",
     "text": [
      "\u001b[1m708/708\u001b[0m \u001b[32m━━━━━━━━━━━━━━━━━━━━\u001b[0m\u001b[37m\u001b[0m \u001b[1m0s\u001b[0m 452us/step\n",
      "\u001b[1m189/189\u001b[0m \u001b[32m━━━━━━━━━━━━━━━━━━━━\u001b[0m\u001b[37m\u001b[0m \u001b[1m0s\u001b[0m 444us/step\n"
     ]
    }
   ],
   "source": [
    "features = Extraction(train_data,\n",
    "                      val_data,\n",
    "                      window_size=2,\n",
    "                      features=features_list,\n",
    "                      avgpool=True\n",
    "                      )"
   ]
  },
  {
   "cell_type": "code",
   "execution_count": 203,
   "metadata": {},
   "outputs": [
    {
     "data": {
      "text/plain": [
       "(22631,)"
      ]
     },
     "metadata": {},
     "output_type": "display_data"
    },
    {
     "data": {
      "text/plain": [
       "'melspectrogram'"
      ]
     },
     "metadata": {},
     "output_type": "display_data"
    },
    {
     "data": {
      "text/plain": [
       "(22631, 60)"
      ]
     },
     "metadata": {},
     "output_type": "display_data"
    }
   ],
   "source": [
    "train_y = features.train_y\n",
    "display(train_y.shape)\n",
    "\n",
    "train_features = features.train_features\n",
    "for key in train_features.keys():\n",
    "  display(key)\n",
    "  display(train_features[key].shape)"
   ]
  },
  {
   "cell_type": "code",
   "execution_count": 204,
   "metadata": {},
   "outputs": [
    {
     "data": {
      "text/plain": [
       "array(['Acrocephalus melanopogon', 'Acrocephalus melanopogon',\n",
       "       'Acrocephalus melanopogon', ..., 'Anas strepera', 'Anas strepera',\n",
       "       'Anas strepera'], dtype='<U25')"
      ]
     },
     "execution_count": 204,
     "metadata": {},
     "output_type": "execute_result"
    }
   ],
   "source": [
    "train_y"
   ]
  },
  {
   "cell_type": "code",
   "execution_count": 205,
   "metadata": {},
   "outputs": [
    {
     "data": {
      "text/plain": [
       "(6044,)"
      ]
     },
     "metadata": {},
     "output_type": "display_data"
    },
    {
     "data": {
      "text/plain": [
       "'melspectrogram'"
      ]
     },
     "metadata": {},
     "output_type": "display_data"
    },
    {
     "data": {
      "text/plain": [
       "(6044, 60)"
      ]
     },
     "metadata": {},
     "output_type": "display_data"
    }
   ],
   "source": [
    "val_y = features.val_y\n",
    "display(val_y.shape)\n",
    "\n",
    "val_features = features.val_features\n",
    "for key in val_features.keys():\n",
    "  display(key)\n",
    "  display(val_features[key].shape)"
   ]
  },
  {
   "cell_type": "markdown",
   "metadata": {},
   "source": [
    "### Encode Classes"
   ]
  },
  {
   "cell_type": "code",
   "execution_count": 206,
   "metadata": {},
   "outputs": [
    {
     "name": "stdout",
     "output_type": "stream",
     "text": [
      "Encoded classes for [0, 1, 2]: ['Acrocephalus arundinaceus', 'Acrocephalus melanopogon', 'Acrocephalus scirpaceus']\n",
      "Encoded training labels: [1 1 1 ... 5 5 5]\n",
      "Encoded validation labels: [1 1 1 ... 5 5 5]\n"
     ]
    }
   ],
   "source": [
    "label_encoder = LabelEncoder().fit(train_y)\n",
    "train_y_encoded = label_encoder.transform(train_y)\n",
    "val_y_encoded = label_encoder.transform(val_y)\n",
    "\n",
    "classes = list(label_encoder.inverse_transform([0, 1, 2]))\n",
    "print(\"Encoded classes for [0, 1, 2]:\", classes)\n",
    "print(\"Encoded training labels:\", train_y_encoded)\n",
    "print(\"Encoded validation labels:\", val_y_encoded)"
   ]
  },
  {
   "cell_type": "code",
   "execution_count": 207,
   "metadata": {},
   "outputs": [
    {
     "data": {
      "text/plain": [
       "22631"
      ]
     },
     "metadata": {},
     "output_type": "display_data"
    },
    {
     "data": {
      "text/plain": [
       "array(['Acrocephalus melanopogon', 'Acrocephalus melanopogon',\n",
       "       'Acrocephalus melanopogon', 'Acrocephalus melanopogon',\n",
       "       'Acrocephalus melanopogon', 'Acrocephalus melanopogon',\n",
       "       'Acrocephalus melanopogon', 'Acrocephalus melanopogon',\n",
       "       'Acrocephalus melanopogon', 'Acrocephalus melanopogon'],\n",
       "      dtype='<U25')"
      ]
     },
     "metadata": {},
     "output_type": "display_data"
    },
    {
     "data": {
      "text/plain": [
       "6044"
      ]
     },
     "metadata": {},
     "output_type": "display_data"
    },
    {
     "data": {
      "text/plain": [
       "array(['Acrocephalus melanopogon', 'Acrocephalus melanopogon',\n",
       "       'Acrocephalus melanopogon', 'Acrocephalus melanopogon',\n",
       "       'Acrocephalus melanopogon', 'Acrocephalus melanopogon',\n",
       "       'Acrocephalus melanopogon', 'Acrocephalus melanopogon',\n",
       "       'Acrocephalus melanopogon', 'Acrocephalus melanopogon'],\n",
       "      dtype='<U25')"
      ]
     },
     "metadata": {},
     "output_type": "display_data"
    }
   ],
   "source": [
    "display(len(train_y))\n",
    "display(train_y[:10])\n",
    "\n",
    "display(len(val_y))\n",
    "display(val_y[:10])"
   ]
  },
  {
   "cell_type": "code",
   "execution_count": 208,
   "metadata": {},
   "outputs": [],
   "source": [
    "train_features['label'] = train_y_encoded\n",
    "val_features['label'] = val_y_encoded"
   ]
  },
  {
   "cell_type": "code",
   "execution_count": 209,
   "metadata": {},
   "outputs": [
    {
     "data": {
      "text/plain": [
       "{'train': {'melspectrogram': array([[3.6285463e-05, 3.8200385e-05, 4.0739291e-05, ..., 3.0273466e-06,\n",
       "          2.2592510e-06, 2.1416045e-06],\n",
       "         [7.4347768e-09, 8.2490290e-09, 9.6704795e-09, ..., 2.0450429e-07,\n",
       "          2.5535245e-08, 2.3674612e-08],\n",
       "         [1.6406947e-06, 1.6677786e-06, 1.7138188e-06, ..., 2.2908193e-06,\n",
       "          1.6840297e-06, 1.5936671e-06],\n",
       "         ...,\n",
       "         [2.7316248e-06, 2.9339224e-06, 3.2875062e-06, ..., 1.0139429e-06,\n",
       "          5.8416873e-07, 5.6021997e-07],\n",
       "         [2.4674987e-06, 2.5058257e-06, 2.5689174e-06, ..., 9.9417584e-06,\n",
       "          2.3140782e-07, 1.8963851e-07],\n",
       "         [3.0352521e-06, 4.1363774e-06, 6.0993666e-06, ..., 2.6265046e-05,\n",
       "          7.4409758e-07, 7.3155365e-07]], dtype=float32),\n",
       "  'label': array([1, 1, 1, ..., 5, 5, 5])},\n",
       " 'val': {'melspectrogram': array([[4.3031432e-07, 4.3289390e-07, 4.3771132e-07, ..., 1.8346757e-06,\n",
       "          1.3503952e-06, 1.2528141e-06],\n",
       "         [1.0225300e-05, 1.0246177e-05, 1.0281189e-05, ..., 1.5753679e-06,\n",
       "          1.4360394e-06, 1.3587372e-06],\n",
       "         [7.9499705e-06, 7.9620158e-06, 7.9821530e-06, ..., 1.1820090e-05,\n",
       "          1.0926735e-05, 1.0397702e-05],\n",
       "         ...,\n",
       "         [5.0708782e-06, 5.1273469e-06, 5.2236105e-06, ..., 1.1071166e-08,\n",
       "          7.6370981e-09, 7.3590027e-09],\n",
       "         [3.1770160e-05, 3.2150201e-05, 3.2798900e-05, ..., 6.1817065e-07,\n",
       "          5.8752238e-07, 5.7274593e-07],\n",
       "         [1.0563541e-06, 1.1000886e-06, 1.1758916e-06, ..., 4.5908578e-08,\n",
       "          3.7034642e-08, 3.6099699e-08]], dtype=float32),\n",
       "  'label': array([1, 1, 1, ..., 5, 5, 5])}}"
      ]
     },
     "execution_count": 209,
     "metadata": {},
     "output_type": "execute_result"
    }
   ],
   "source": [
    "merged_dict = {'train': train_features, 'val': val_features}\n",
    "merged_dict"
   ]
  },
  {
   "cell_type": "markdown",
   "metadata": {},
   "source": [
    "### Save the merged dictionary to a pkl"
   ]
  },
  {
   "cell_type": "code",
   "execution_count": 210,
   "metadata": {},
   "outputs": [],
   "source": [
    "with open('C:/Users/thato/Documents/Final-Year-Project/Dataset/Project-V4/feature-extraction/NotAnnotated/AveragePooled/split_features_2s_mel.pkl', 'wb') as file:\n",
    "  pickle.dump(merged_dict, file)"
   ]
  },
  {
   "cell_type": "markdown",
   "metadata": {},
   "source": [
    "### **['melspectrogram', 'mfcc']**"
   ]
  },
  {
   "cell_type": "code",
   "execution_count": 211,
   "metadata": {},
   "outputs": [],
   "source": [
    "features_list = ['melspectrogram', 'mfcc']"
   ]
  },
  {
   "cell_type": "code",
   "execution_count": 212,
   "metadata": {},
   "outputs": [
    {
     "name": "stdout",
     "output_type": "stream",
     "text": [
      "Train DataFrame shape: (485, 6)\n",
      "Validation DataFrame shape: (130, 6)\n",
      "Number of rows in dataframe: 485\n"
     ]
    },
    {
     "name": "stderr",
     "output_type": "stream",
     "text": [
      "Processing data: 100%|██████████| 485/485 [03:17<00:00,  2.45it/s]\n"
     ]
    },
    {
     "name": "stdout",
     "output_type": "stream",
     "text": [
      "Number of rows in dataframe: 130\n"
     ]
    },
    {
     "name": "stderr",
     "output_type": "stream",
     "text": [
      "Processing data: 100%|██████████| 130/130 [00:49<00:00,  2.63it/s]\n"
     ]
    },
    {
     "name": "stdout",
     "output_type": "stream",
     "text": [
      "\u001b[1m708/708\u001b[0m \u001b[32m━━━━━━━━━━━━━━━━━━━━\u001b[0m\u001b[37m\u001b[0m \u001b[1m0s\u001b[0m 450us/step\n",
      "\u001b[1m189/189\u001b[0m \u001b[32m━━━━━━━━━━━━━━━━━━━━\u001b[0m\u001b[37m\u001b[0m \u001b[1m0s\u001b[0m 455us/step\n",
      "\u001b[1m708/708\u001b[0m \u001b[32m━━━━━━━━━━━━━━━━━━━━\u001b[0m\u001b[37m\u001b[0m \u001b[1m0s\u001b[0m 417us/step\n",
      "\u001b[1m189/189\u001b[0m \u001b[32m━━━━━━━━━━━━━━━━━━━━\u001b[0m\u001b[37m\u001b[0m \u001b[1m0s\u001b[0m 404us/step\n"
     ]
    }
   ],
   "source": [
    "features = Extraction(train_data,\n",
    "                      val_data,\n",
    "                      window_size=2,\n",
    "                      features=features_list,\n",
    "                      avgpool=True\n",
    "                      )"
   ]
  },
  {
   "cell_type": "code",
   "execution_count": 213,
   "metadata": {},
   "outputs": [
    {
     "data": {
      "text/plain": [
       "(22631,)"
      ]
     },
     "metadata": {},
     "output_type": "display_data"
    },
    {
     "data": {
      "text/plain": [
       "'melspectrogram'"
      ]
     },
     "metadata": {},
     "output_type": "display_data"
    },
    {
     "data": {
      "text/plain": [
       "(22631, 60)"
      ]
     },
     "metadata": {},
     "output_type": "display_data"
    },
    {
     "data": {
      "text/plain": [
       "'mfcc'"
      ]
     },
     "metadata": {},
     "output_type": "display_data"
    },
    {
     "data": {
      "text/plain": [
       "(22631, 20)"
      ]
     },
     "metadata": {},
     "output_type": "display_data"
    }
   ],
   "source": [
    "train_y = features.train_y\n",
    "display(train_y.shape)\n",
    "\n",
    "train_features = features.train_features\n",
    "for key in train_features.keys():\n",
    "  display(key)\n",
    "  display(train_features[key].shape)"
   ]
  },
  {
   "cell_type": "code",
   "execution_count": 214,
   "metadata": {},
   "outputs": [
    {
     "data": {
      "text/plain": [
       "(6044,)"
      ]
     },
     "metadata": {},
     "output_type": "display_data"
    },
    {
     "data": {
      "text/plain": [
       "'melspectrogram'"
      ]
     },
     "metadata": {},
     "output_type": "display_data"
    },
    {
     "data": {
      "text/plain": [
       "(6044, 60)"
      ]
     },
     "metadata": {},
     "output_type": "display_data"
    },
    {
     "data": {
      "text/plain": [
       "'mfcc'"
      ]
     },
     "metadata": {},
     "output_type": "display_data"
    },
    {
     "data": {
      "text/plain": [
       "(6044, 20)"
      ]
     },
     "metadata": {},
     "output_type": "display_data"
    }
   ],
   "source": [
    "val_y = features.val_y\n",
    "display(val_y.shape)\n",
    "\n",
    "val_features = features.val_features\n",
    "for key in val_features.keys():\n",
    "  display(key)\n",
    "  display(val_features[key].shape)"
   ]
  },
  {
   "cell_type": "markdown",
   "metadata": {},
   "source": [
    "### Encode Classes"
   ]
  },
  {
   "cell_type": "code",
   "execution_count": 215,
   "metadata": {},
   "outputs": [
    {
     "name": "stdout",
     "output_type": "stream",
     "text": [
      "Encoded classes for [0, 1, 2]: ['Acrocephalus arundinaceus', 'Acrocephalus melanopogon', 'Acrocephalus scirpaceus']\n",
      "Encoded training labels: [1 1 1 ... 5 5 5]\n",
      "Encoded validation labels: [1 1 1 ... 5 5 5]\n"
     ]
    }
   ],
   "source": [
    "label_encoder = LabelEncoder().fit(train_y)\n",
    "train_y_encoded = label_encoder.transform(train_y)\n",
    "val_y_encoded = label_encoder.transform(val_y)\n",
    "\n",
    "classes = list(label_encoder.inverse_transform([0, 1, 2]))\n",
    "print(\"Encoded classes for [0, 1, 2]:\", classes)\n",
    "print(\"Encoded training labels:\", train_y_encoded)\n",
    "print(\"Encoded validation labels:\", val_y_encoded)"
   ]
  },
  {
   "cell_type": "code",
   "execution_count": 216,
   "metadata": {},
   "outputs": [
    {
     "data": {
      "text/plain": [
       "22631"
      ]
     },
     "metadata": {},
     "output_type": "display_data"
    },
    {
     "data": {
      "text/plain": [
       "array(['Acrocephalus melanopogon', 'Acrocephalus melanopogon',\n",
       "       'Acrocephalus melanopogon', 'Acrocephalus melanopogon',\n",
       "       'Acrocephalus melanopogon', 'Acrocephalus melanopogon',\n",
       "       'Acrocephalus melanopogon', 'Acrocephalus melanopogon',\n",
       "       'Acrocephalus melanopogon', 'Acrocephalus melanopogon'],\n",
       "      dtype='<U25')"
      ]
     },
     "metadata": {},
     "output_type": "display_data"
    },
    {
     "data": {
      "text/plain": [
       "6044"
      ]
     },
     "metadata": {},
     "output_type": "display_data"
    },
    {
     "data": {
      "text/plain": [
       "array(['Acrocephalus melanopogon', 'Acrocephalus melanopogon',\n",
       "       'Acrocephalus melanopogon', 'Acrocephalus melanopogon',\n",
       "       'Acrocephalus melanopogon', 'Acrocephalus melanopogon',\n",
       "       'Acrocephalus melanopogon', 'Acrocephalus melanopogon',\n",
       "       'Acrocephalus melanopogon', 'Acrocephalus melanopogon'],\n",
       "      dtype='<U25')"
      ]
     },
     "metadata": {},
     "output_type": "display_data"
    }
   ],
   "source": [
    "display(len(train_y))\n",
    "display(train_y[:10])\n",
    "\n",
    "display(len(val_y))\n",
    "display(val_y[:10])"
   ]
  },
  {
   "cell_type": "code",
   "execution_count": 217,
   "metadata": {},
   "outputs": [],
   "source": [
    "train_features['label'] = train_y_encoded\n",
    "val_features['label'] = val_y_encoded"
   ]
  },
  {
   "cell_type": "code",
   "execution_count": 218,
   "metadata": {},
   "outputs": [
    {
     "data": {
      "text/plain": [
       "{'train': {'melspectrogram': array([[3.6285463e-05, 3.8200385e-05, 4.0739291e-05, ..., 3.0273466e-06,\n",
       "          2.2592510e-06, 2.1416045e-06],\n",
       "         [7.4347768e-09, 8.2490290e-09, 9.6704795e-09, ..., 2.0450429e-07,\n",
       "          2.5535245e-08, 2.3674612e-08],\n",
       "         [1.6406947e-06, 1.6677786e-06, 1.7138188e-06, ..., 2.2908193e-06,\n",
       "          1.6840297e-06, 1.5936671e-06],\n",
       "         ...,\n",
       "         [2.7316248e-06, 2.9339224e-06, 3.2875062e-06, ..., 1.0139429e-06,\n",
       "          5.8416873e-07, 5.6021997e-07],\n",
       "         [2.4674987e-06, 2.5058257e-06, 2.5689174e-06, ..., 9.9417584e-06,\n",
       "          2.3140782e-07, 1.8963851e-07],\n",
       "         [3.0352521e-06, 4.1363774e-06, 6.0993666e-06, ..., 2.6265046e-05,\n",
       "          7.4409758e-07, 7.3155365e-07]], dtype=float32),\n",
       "  'mfcc': array([[-1.0000000e+00, -2.3037937e-01, -5.0594997e-01, ...,\n",
       "           2.8443993e-03,  1.4909296e-02,  8.9377072e-03],\n",
       "         [-1.0000000e+00, -2.6351056e-01, -5.3618097e-01, ...,\n",
       "           5.8985357e-03,  1.1296259e-02,  1.5974644e-03],\n",
       "         [-1.0000000e+00, -2.4636571e-01, -5.1230544e-01, ...,\n",
       "           6.3217357e-03,  5.6811194e-03, -7.9928376e-03],\n",
       "         ...,\n",
       "         [-1.0000000e+00, -3.3844922e-02, -3.5254931e-01, ...,\n",
       "          -5.0688325e-04,  1.2214681e-02, -1.8479349e-02],\n",
       "         [-1.0000000e+00, -5.2080970e-02, -3.2908642e-01, ...,\n",
       "           2.0972025e-03,  6.5874890e-03, -1.8301791e-02],\n",
       "         [-1.0000000e+00, -6.3805148e-02, -2.8394029e-01, ...,\n",
       "           1.6434706e-03, -4.0379560e-04, -8.8712340e-03]], dtype=float32),\n",
       "  'label': array([1, 1, 1, ..., 5, 5, 5])},\n",
       " 'val': {'melspectrogram': array([[4.3031432e-07, 4.3289390e-07, 4.3771132e-07, ..., 1.8346757e-06,\n",
       "          1.3503952e-06, 1.2528141e-06],\n",
       "         [1.0225300e-05, 1.0246177e-05, 1.0281189e-05, ..., 1.5753679e-06,\n",
       "          1.4360394e-06, 1.3587372e-06],\n",
       "         [7.9499705e-06, 7.9620158e-06, 7.9821530e-06, ..., 1.1820090e-05,\n",
       "          1.0926735e-05, 1.0397702e-05],\n",
       "         ...,\n",
       "         [5.0708782e-06, 5.1273469e-06, 5.2236105e-06, ..., 1.1071166e-08,\n",
       "          7.6370981e-09, 7.3590027e-09],\n",
       "         [3.1770160e-05, 3.2150201e-05, 3.2798900e-05, ..., 6.1817065e-07,\n",
       "          5.8752238e-07, 5.7274593e-07],\n",
       "         [1.0563541e-06, 1.1000886e-06, 1.1758916e-06, ..., 4.5908578e-08,\n",
       "          3.7034642e-08, 3.6099699e-08]], dtype=float32),\n",
       "  'mfcc': array([[-1.        , -0.17316039, -0.3545979 , ..., -0.00252139,\n",
       "           0.01035134, -0.01533805],\n",
       "         [-1.        , -0.23800316, -0.4236931 , ..., -0.00110106,\n",
       "           0.01985768, -0.02032196],\n",
       "         [-1.        , -0.26194647, -0.4237396 , ...,  0.01318335,\n",
       "           0.00775826, -0.02090132],\n",
       "         ...,\n",
       "         [-1.        , -0.07262195, -0.62229264, ..., -0.01146582,\n",
       "          -0.01392007, -0.01412311],\n",
       "         [-1.        , -0.08636797, -0.6325662 , ..., -0.01219559,\n",
       "          -0.00543617, -0.01995962],\n",
       "         [-1.        , -0.06662576, -0.60135156, ..., -0.01522806,\n",
       "          -0.00564914, -0.02205117]], dtype=float32),\n",
       "  'label': array([1, 1, 1, ..., 5, 5, 5])}}"
      ]
     },
     "execution_count": 218,
     "metadata": {},
     "output_type": "execute_result"
    }
   ],
   "source": [
    "merged_dict = {'train': train_features, 'val': val_features}\n",
    "merged_dict"
   ]
  },
  {
   "cell_type": "markdown",
   "metadata": {},
   "source": [
    "### Save the merged dictionary to a pkl"
   ]
  },
  {
   "cell_type": "code",
   "execution_count": 219,
   "metadata": {},
   "outputs": [],
   "source": [
    "with open('C:/Users/thato/Documents/Final-Year-Project/Dataset/Project-V4/feature-extraction/NotAnnotated/AveragePooled/split_features_2s_mel_mfcc.pkl', 'wb') as file:\n",
    "  pickle.dump(merged_dict, file)"
   ]
  },
  {
   "cell_type": "markdown",
   "metadata": {},
   "source": [
    "### **['melspectrogram', 'mfcc', 'chroma']**"
   ]
  },
  {
   "cell_type": "code",
   "execution_count": 220,
   "metadata": {},
   "outputs": [],
   "source": [
    "features_list = ['melspectrogram', 'mfcc', 'chroma']"
   ]
  },
  {
   "cell_type": "code",
   "execution_count": 221,
   "metadata": {},
   "outputs": [
    {
     "name": "stdout",
     "output_type": "stream",
     "text": [
      "Train DataFrame shape: (485, 6)\n",
      "Validation DataFrame shape: (130, 6)\n",
      "Number of rows in dataframe: 485\n"
     ]
    },
    {
     "name": "stderr",
     "output_type": "stream",
     "text": [
      "Processing data: 100%|██████████| 485/485 [07:06<00:00,  1.14it/s]\n"
     ]
    },
    {
     "name": "stdout",
     "output_type": "stream",
     "text": [
      "Number of rows in dataframe: 130\n"
     ]
    },
    {
     "name": "stderr",
     "output_type": "stream",
     "text": [
      "Processing data: 100%|██████████| 130/130 [01:27<00:00,  1.49it/s]\n"
     ]
    },
    {
     "name": "stdout",
     "output_type": "stream",
     "text": [
      "\u001b[1m708/708\u001b[0m \u001b[32m━━━━━━━━━━━━━━━━━━━━\u001b[0m\u001b[37m\u001b[0m \u001b[1m0s\u001b[0m 452us/step\n",
      "\u001b[1m189/189\u001b[0m \u001b[32m━━━━━━━━━━━━━━━━━━━━\u001b[0m\u001b[37m\u001b[0m \u001b[1m0s\u001b[0m 439us/step\n",
      "\u001b[1m708/708\u001b[0m \u001b[32m━━━━━━━━━━━━━━━━━━━━\u001b[0m\u001b[37m\u001b[0m \u001b[1m0s\u001b[0m 422us/step\n",
      "\u001b[1m189/189\u001b[0m \u001b[32m━━━━━━━━━━━━━━━━━━━━\u001b[0m\u001b[37m\u001b[0m \u001b[1m0s\u001b[0m 416us/step\n",
      "\u001b[1m708/708\u001b[0m \u001b[32m━━━━━━━━━━━━━━━━━━━━\u001b[0m\u001b[37m\u001b[0m \u001b[1m0s\u001b[0m 406us/step\n",
      "\u001b[1m189/189\u001b[0m \u001b[32m━━━━━━━━━━━━━━━━━━━━\u001b[0m\u001b[37m\u001b[0m \u001b[1m0s\u001b[0m 399us/step\n"
     ]
    }
   ],
   "source": [
    "features = Extraction(train_data,\n",
    "                      val_data,\n",
    "                      window_size=2,\n",
    "                      features=features_list,\n",
    "                      avgpool=True\n",
    "                      )"
   ]
  },
  {
   "cell_type": "code",
   "execution_count": 222,
   "metadata": {},
   "outputs": [
    {
     "data": {
      "text/plain": [
       "(22631,)"
      ]
     },
     "metadata": {},
     "output_type": "display_data"
    },
    {
     "data": {
      "text/plain": [
       "'melspectrogram'"
      ]
     },
     "metadata": {},
     "output_type": "display_data"
    },
    {
     "data": {
      "text/plain": [
       "(22631, 60)"
      ]
     },
     "metadata": {},
     "output_type": "display_data"
    },
    {
     "data": {
      "text/plain": [
       "'mfcc'"
      ]
     },
     "metadata": {},
     "output_type": "display_data"
    },
    {
     "data": {
      "text/plain": [
       "(22631, 20)"
      ]
     },
     "metadata": {},
     "output_type": "display_data"
    },
    {
     "data": {
      "text/plain": [
       "'chroma'"
      ]
     },
     "metadata": {},
     "output_type": "display_data"
    },
    {
     "data": {
      "text/plain": [
       "(22631, 12)"
      ]
     },
     "metadata": {},
     "output_type": "display_data"
    }
   ],
   "source": [
    "train_y = features.train_y\n",
    "display(train_y.shape)\n",
    "\n",
    "train_features = features.train_features\n",
    "for key in train_features.keys():\n",
    "  display(key)\n",
    "  display(train_features[key].shape)"
   ]
  },
  {
   "cell_type": "code",
   "execution_count": 223,
   "metadata": {},
   "outputs": [
    {
     "data": {
      "text/plain": [
       "(6044,)"
      ]
     },
     "metadata": {},
     "output_type": "display_data"
    },
    {
     "data": {
      "text/plain": [
       "'melspectrogram'"
      ]
     },
     "metadata": {},
     "output_type": "display_data"
    },
    {
     "data": {
      "text/plain": [
       "(6044, 60)"
      ]
     },
     "metadata": {},
     "output_type": "display_data"
    },
    {
     "data": {
      "text/plain": [
       "'mfcc'"
      ]
     },
     "metadata": {},
     "output_type": "display_data"
    },
    {
     "data": {
      "text/plain": [
       "(6044, 20)"
      ]
     },
     "metadata": {},
     "output_type": "display_data"
    },
    {
     "data": {
      "text/plain": [
       "'chroma'"
      ]
     },
     "metadata": {},
     "output_type": "display_data"
    },
    {
     "data": {
      "text/plain": [
       "(6044, 12)"
      ]
     },
     "metadata": {},
     "output_type": "display_data"
    }
   ],
   "source": [
    "val_y = features.val_y\n",
    "display(val_y.shape)\n",
    "\n",
    "val_features = features.val_features\n",
    "for key in val_features.keys():\n",
    "  display(key)\n",
    "  display(val_features[key].shape)"
   ]
  },
  {
   "cell_type": "markdown",
   "metadata": {},
   "source": [
    "### Encode Classes"
   ]
  },
  {
   "cell_type": "code",
   "execution_count": 224,
   "metadata": {},
   "outputs": [
    {
     "name": "stdout",
     "output_type": "stream",
     "text": [
      "Encoded classes for [0, 1, 2]: ['Acrocephalus arundinaceus', 'Acrocephalus melanopogon', 'Acrocephalus scirpaceus']\n",
      "Encoded training labels: [1 1 1 ... 5 5 5]\n",
      "Encoded validation labels: [1 1 1 ... 5 5 5]\n"
     ]
    }
   ],
   "source": [
    "label_encoder = LabelEncoder().fit(train_y)\n",
    "train_y_encoded = label_encoder.transform(train_y)\n",
    "val_y_encoded = label_encoder.transform(val_y)\n",
    "\n",
    "classes = list(label_encoder.inverse_transform([0, 1, 2]))\n",
    "print(\"Encoded classes for [0, 1, 2]:\", classes)\n",
    "print(\"Encoded training labels:\", train_y_encoded)\n",
    "print(\"Encoded validation labels:\", val_y_encoded)"
   ]
  },
  {
   "cell_type": "code",
   "execution_count": 225,
   "metadata": {},
   "outputs": [
    {
     "data": {
      "text/plain": [
       "22631"
      ]
     },
     "metadata": {},
     "output_type": "display_data"
    },
    {
     "data": {
      "text/plain": [
       "array(['Acrocephalus melanopogon', 'Acrocephalus melanopogon',\n",
       "       'Acrocephalus melanopogon', 'Acrocephalus melanopogon',\n",
       "       'Acrocephalus melanopogon', 'Acrocephalus melanopogon',\n",
       "       'Acrocephalus melanopogon', 'Acrocephalus melanopogon',\n",
       "       'Acrocephalus melanopogon', 'Acrocephalus melanopogon'],\n",
       "      dtype='<U25')"
      ]
     },
     "metadata": {},
     "output_type": "display_data"
    },
    {
     "data": {
      "text/plain": [
       "6044"
      ]
     },
     "metadata": {},
     "output_type": "display_data"
    },
    {
     "data": {
      "text/plain": [
       "array(['Acrocephalus melanopogon', 'Acrocephalus melanopogon',\n",
       "       'Acrocephalus melanopogon', 'Acrocephalus melanopogon',\n",
       "       'Acrocephalus melanopogon', 'Acrocephalus melanopogon',\n",
       "       'Acrocephalus melanopogon', 'Acrocephalus melanopogon',\n",
       "       'Acrocephalus melanopogon', 'Acrocephalus melanopogon'],\n",
       "      dtype='<U25')"
      ]
     },
     "metadata": {},
     "output_type": "display_data"
    }
   ],
   "source": [
    "display(len(train_y))\n",
    "display(train_y[:10])\n",
    "\n",
    "display(len(val_y))\n",
    "display(val_y[:10])"
   ]
  },
  {
   "cell_type": "code",
   "execution_count": 226,
   "metadata": {},
   "outputs": [],
   "source": [
    "train_features['label'] = train_y_encoded\n",
    "val_features['label'] = val_y_encoded"
   ]
  },
  {
   "cell_type": "code",
   "execution_count": 227,
   "metadata": {},
   "outputs": [
    {
     "data": {
      "text/plain": [
       "{'train': {'melspectrogram': array([[3.6285463e-05, 3.8200385e-05, 4.0739291e-05, ..., 3.0273466e-06,\n",
       "          2.2592510e-06, 2.1416045e-06],\n",
       "         [7.4347768e-09, 8.2490290e-09, 9.6704795e-09, ..., 2.0450429e-07,\n",
       "          2.5535245e-08, 2.3674612e-08],\n",
       "         [1.6406947e-06, 1.6677786e-06, 1.7138188e-06, ..., 2.2908193e-06,\n",
       "          1.6840297e-06, 1.5936671e-06],\n",
       "         ...,\n",
       "         [2.7316248e-06, 2.9339224e-06, 3.2875062e-06, ..., 1.0139429e-06,\n",
       "          5.8416873e-07, 5.6021997e-07],\n",
       "         [2.4674987e-06, 2.5058257e-06, 2.5689174e-06, ..., 9.9417584e-06,\n",
       "          2.3140782e-07, 1.8963851e-07],\n",
       "         [3.0352521e-06, 4.1363774e-06, 6.0993666e-06, ..., 2.6265046e-05,\n",
       "          7.4409758e-07, 7.3155365e-07]], dtype=float32),\n",
       "  'mfcc': array([[-1.0000000e+00, -2.3037937e-01, -5.0594997e-01, ...,\n",
       "           2.8443993e-03,  1.4909296e-02,  8.9377072e-03],\n",
       "         [-1.0000000e+00, -2.6351056e-01, -5.3618097e-01, ...,\n",
       "           5.8985357e-03,  1.1296259e-02,  1.5974644e-03],\n",
       "         [-1.0000000e+00, -2.4636571e-01, -5.1230544e-01, ...,\n",
       "           6.3217357e-03,  5.6811194e-03, -7.9928376e-03],\n",
       "         ...,\n",
       "         [-1.0000000e+00, -3.3844922e-02, -3.5254931e-01, ...,\n",
       "          -5.0688325e-04,  1.2214681e-02, -1.8479349e-02],\n",
       "         [-1.0000000e+00, -5.2080970e-02, -3.2908642e-01, ...,\n",
       "           2.0972025e-03,  6.5874890e-03, -1.8301791e-02],\n",
       "         [-1.0000000e+00, -6.3805148e-02, -2.8394029e-01, ...,\n",
       "           1.6434706e-03, -4.0379560e-04, -8.8712340e-03]], dtype=float32),\n",
       "  'chroma': array([[0.45171684, 0.5208854 , 0.37008232, ..., 0.34943014, 0.32709607,\n",
       "          0.41093883],\n",
       "         [0.38980624, 0.4756134 , 0.2731501 , ..., 0.25435007, 0.28047627,\n",
       "          0.3474213 ],\n",
       "         [0.46294615, 0.46664438, 0.22451818, ..., 0.3321953 , 0.37677932,\n",
       "          0.4637391 ],\n",
       "         ...,\n",
       "         [0.66463   , 0.5836814 , 0.56719154, ..., 0.5601321 , 0.60573965,\n",
       "          0.67641854],\n",
       "         [0.64052266, 0.5901249 , 0.5253463 , ..., 0.43292692, 0.50466716,\n",
       "          0.6136967 ],\n",
       "         [0.429861  , 0.53515136, 0.58398294, ..., 0.34917453, 0.37820873,\n",
       "          0.41061836]], dtype=float32),\n",
       "  'label': array([1, 1, 1, ..., 5, 5, 5])},\n",
       " 'val': {'melspectrogram': array([[4.3031432e-07, 4.3289390e-07, 4.3771132e-07, ..., 1.8346757e-06,\n",
       "          1.3503952e-06, 1.2528141e-06],\n",
       "         [1.0225300e-05, 1.0246177e-05, 1.0281189e-05, ..., 1.5753679e-06,\n",
       "          1.4360394e-06, 1.3587372e-06],\n",
       "         [7.9499705e-06, 7.9620158e-06, 7.9821530e-06, ..., 1.1820090e-05,\n",
       "          1.0926735e-05, 1.0397702e-05],\n",
       "         ...,\n",
       "         [5.0708782e-06, 5.1273469e-06, 5.2236105e-06, ..., 1.1071166e-08,\n",
       "          7.6370981e-09, 7.3590027e-09],\n",
       "         [3.1770160e-05, 3.2150201e-05, 3.2798900e-05, ..., 6.1817065e-07,\n",
       "          5.8752238e-07, 5.7274593e-07],\n",
       "         [1.0563541e-06, 1.1000886e-06, 1.1758916e-06, ..., 4.5908578e-08,\n",
       "          3.7034642e-08, 3.6099699e-08]], dtype=float32),\n",
       "  'mfcc': array([[-1.        , -0.17316039, -0.3545979 , ..., -0.00252139,\n",
       "           0.01035134, -0.01533805],\n",
       "         [-1.        , -0.23800316, -0.4236931 , ..., -0.00110106,\n",
       "           0.01985768, -0.02032196],\n",
       "         [-1.        , -0.26194647, -0.4237396 , ...,  0.01318335,\n",
       "           0.00775826, -0.02090132],\n",
       "         ...,\n",
       "         [-1.        , -0.07262195, -0.62229264, ..., -0.01146582,\n",
       "          -0.01392007, -0.01412311],\n",
       "         [-1.        , -0.08636797, -0.6325662 , ..., -0.01219559,\n",
       "          -0.00543617, -0.01995962],\n",
       "         [-1.        , -0.06662576, -0.60135156, ..., -0.01522806,\n",
       "          -0.00564914, -0.02205117]], dtype=float32),\n",
       "  'chroma': array([[0.40570298, 0.21734837, 0.2601575 , ..., 0.2816762 , 0.40778702,\n",
       "          0.50344586],\n",
       "         [0.23847961, 0.10583287, 0.26371005, ..., 0.22670296, 0.38745153,\n",
       "          0.43362668],\n",
       "         [0.28493753, 0.10356496, 0.15821137, ..., 0.22313412, 0.4731197 ,\n",
       "          0.5399796 ],\n",
       "         ...,\n",
       "         [0.2893074 , 0.24636072, 0.27708828, ..., 0.53763705, 0.67822737,\n",
       "          0.56500083],\n",
       "         [0.40734518, 0.30319303, 0.26628995, ..., 0.44712067, 0.6030251 ,\n",
       "          0.65899926],\n",
       "         [0.45967966, 0.39143068, 0.39275992, ..., 0.36724252, 0.44772694,\n",
       "          0.52265435]], dtype=float32),\n",
       "  'label': array([1, 1, 1, ..., 5, 5, 5])}}"
      ]
     },
     "execution_count": 227,
     "metadata": {},
     "output_type": "execute_result"
    }
   ],
   "source": [
    "merged_dict = {'train': train_features, 'val': val_features}\n",
    "merged_dict"
   ]
  },
  {
   "cell_type": "markdown",
   "metadata": {},
   "source": [
    "### Save the merged dictionary to a pkl"
   ]
  },
  {
   "cell_type": "code",
   "execution_count": 228,
   "metadata": {},
   "outputs": [],
   "source": [
    "with open('C:/Users/thato/Documents/Final-Year-Project/Dataset/Project-V4/feature-extraction/NotAnnotated/AveragePooled/split_features_2s_mel_mfcc_chroma.pkl', 'wb') as file:\n",
    "  pickle.dump(merged_dict, file)"
   ]
  },
  {
   "cell_type": "markdown",
   "metadata": {},
   "source": [
    "### **['melspectrogram', 'mfcc', 'chroma', 'rms']**"
   ]
  },
  {
   "cell_type": "code",
   "execution_count": 229,
   "metadata": {},
   "outputs": [],
   "source": [
    "features_list = ['melspectrogram', 'mfcc', 'chroma', 'rms']"
   ]
  },
  {
   "cell_type": "code",
   "execution_count": 230,
   "metadata": {},
   "outputs": [
    {
     "name": "stdout",
     "output_type": "stream",
     "text": [
      "Train DataFrame shape: (485, 6)\n",
      "Validation DataFrame shape: (130, 6)\n",
      "Number of rows in dataframe: 485\n"
     ]
    },
    {
     "name": "stderr",
     "output_type": "stream",
     "text": [
      "Processing data: 100%|██████████| 485/485 [08:21<00:00,  1.03s/it]\n"
     ]
    },
    {
     "name": "stdout",
     "output_type": "stream",
     "text": [
      "Number of rows in dataframe: 130\n"
     ]
    },
    {
     "name": "stderr",
     "output_type": "stream",
     "text": [
      "Processing data: 100%|██████████| 130/130 [01:41<00:00,  1.28it/s]\n"
     ]
    },
    {
     "name": "stdout",
     "output_type": "stream",
     "text": [
      "\u001b[1m708/708\u001b[0m \u001b[32m━━━━━━━━━━━━━━━━━━━━\u001b[0m\u001b[37m\u001b[0m \u001b[1m0s\u001b[0m 471us/step\n",
      "\u001b[1m189/189\u001b[0m \u001b[32m━━━━━━━━━━━━━━━━━━━━\u001b[0m\u001b[37m\u001b[0m \u001b[1m0s\u001b[0m 437us/step\n",
      "\u001b[1m708/708\u001b[0m \u001b[32m━━━━━━━━━━━━━━━━━━━━\u001b[0m\u001b[37m\u001b[0m \u001b[1m0s\u001b[0m 416us/step\n",
      "\u001b[1m189/189\u001b[0m \u001b[32m━━━━━━━━━━━━━━━━━━━━\u001b[0m\u001b[37m\u001b[0m \u001b[1m0s\u001b[0m 413us/step\n",
      "\u001b[1m708/708\u001b[0m \u001b[32m━━━━━━━━━━━━━━━━━━━━\u001b[0m\u001b[37m\u001b[0m \u001b[1m0s\u001b[0m 412us/step\n",
      "\u001b[1m189/189\u001b[0m \u001b[32m━━━━━━━━━━━━━━━━━━━━\u001b[0m\u001b[37m\u001b[0m \u001b[1m0s\u001b[0m 397us/step\n",
      "\u001b[1m708/708\u001b[0m \u001b[32m━━━━━━━━━━━━━━━━━━━━\u001b[0m\u001b[37m\u001b[0m \u001b[1m0s\u001b[0m 393us/step\n",
      "\u001b[1m189/189\u001b[0m \u001b[32m━━━━━━━━━━━━━━━━━━━━\u001b[0m\u001b[37m\u001b[0m \u001b[1m0s\u001b[0m 387us/step\n"
     ]
    }
   ],
   "source": [
    "features = Extraction(train_data,\n",
    "                      val_data,\n",
    "                      window_size=2,\n",
    "                      features=features_list,\n",
    "                      avgpool=True\n",
    "                      )"
   ]
  },
  {
   "cell_type": "code",
   "execution_count": 231,
   "metadata": {},
   "outputs": [
    {
     "data": {
      "text/plain": [
       "(22631,)"
      ]
     },
     "metadata": {},
     "output_type": "display_data"
    },
    {
     "data": {
      "text/plain": [
       "'melspectrogram'"
      ]
     },
     "metadata": {},
     "output_type": "display_data"
    },
    {
     "data": {
      "text/plain": [
       "(22631, 60)"
      ]
     },
     "metadata": {},
     "output_type": "display_data"
    },
    {
     "data": {
      "text/plain": [
       "'mfcc'"
      ]
     },
     "metadata": {},
     "output_type": "display_data"
    },
    {
     "data": {
      "text/plain": [
       "(22631, 20)"
      ]
     },
     "metadata": {},
     "output_type": "display_data"
    },
    {
     "data": {
      "text/plain": [
       "'chroma'"
      ]
     },
     "metadata": {},
     "output_type": "display_data"
    },
    {
     "data": {
      "text/plain": [
       "(22631, 12)"
      ]
     },
     "metadata": {},
     "output_type": "display_data"
    },
    {
     "data": {
      "text/plain": [
       "'rms'"
      ]
     },
     "metadata": {},
     "output_type": "display_data"
    },
    {
     "data": {
      "text/plain": [
       "(22631, 1)"
      ]
     },
     "metadata": {},
     "output_type": "display_data"
    }
   ],
   "source": [
    "train_y = features.train_y\n",
    "display(train_y.shape)\n",
    "\n",
    "train_features = features.train_features\n",
    "for key in train_features.keys():\n",
    "  display(key)\n",
    "  display(train_features[key].shape)"
   ]
  },
  {
   "cell_type": "code",
   "execution_count": 232,
   "metadata": {},
   "outputs": [
    {
     "data": {
      "text/plain": [
       "(6044,)"
      ]
     },
     "metadata": {},
     "output_type": "display_data"
    },
    {
     "data": {
      "text/plain": [
       "'melspectrogram'"
      ]
     },
     "metadata": {},
     "output_type": "display_data"
    },
    {
     "data": {
      "text/plain": [
       "(6044, 60)"
      ]
     },
     "metadata": {},
     "output_type": "display_data"
    },
    {
     "data": {
      "text/plain": [
       "'mfcc'"
      ]
     },
     "metadata": {},
     "output_type": "display_data"
    },
    {
     "data": {
      "text/plain": [
       "(6044, 20)"
      ]
     },
     "metadata": {},
     "output_type": "display_data"
    },
    {
     "data": {
      "text/plain": [
       "'chroma'"
      ]
     },
     "metadata": {},
     "output_type": "display_data"
    },
    {
     "data": {
      "text/plain": [
       "(6044, 12)"
      ]
     },
     "metadata": {},
     "output_type": "display_data"
    },
    {
     "data": {
      "text/plain": [
       "'rms'"
      ]
     },
     "metadata": {},
     "output_type": "display_data"
    },
    {
     "data": {
      "text/plain": [
       "(6044, 1)"
      ]
     },
     "metadata": {},
     "output_type": "display_data"
    }
   ],
   "source": [
    "val_y = features.val_y\n",
    "display(val_y.shape)\n",
    "\n",
    "val_features = features.val_features\n",
    "for key in val_features.keys():\n",
    "  display(key)\n",
    "  display(val_features[key].shape)"
   ]
  },
  {
   "cell_type": "markdown",
   "metadata": {},
   "source": [
    "### Encode Classes"
   ]
  },
  {
   "cell_type": "code",
   "execution_count": 233,
   "metadata": {},
   "outputs": [
    {
     "name": "stdout",
     "output_type": "stream",
     "text": [
      "Encoded classes for [0, 1, 2]: ['Acrocephalus arundinaceus', 'Acrocephalus melanopogon', 'Acrocephalus scirpaceus']\n",
      "Encoded training labels: [1 1 1 ... 5 5 5]\n",
      "Encoded validation labels: [1 1 1 ... 5 5 5]\n"
     ]
    }
   ],
   "source": [
    "label_encoder = LabelEncoder().fit(train_y)\n",
    "train_y_encoded = label_encoder.transform(train_y)\n",
    "val_y_encoded = label_encoder.transform(val_y)\n",
    "\n",
    "classes = list(label_encoder.inverse_transform([0, 1, 2]))\n",
    "print(\"Encoded classes for [0, 1, 2]:\", classes)\n",
    "print(\"Encoded training labels:\", train_y_encoded)\n",
    "print(\"Encoded validation labels:\", val_y_encoded)"
   ]
  },
  {
   "cell_type": "code",
   "execution_count": 234,
   "metadata": {},
   "outputs": [
    {
     "data": {
      "text/plain": [
       "22631"
      ]
     },
     "metadata": {},
     "output_type": "display_data"
    },
    {
     "data": {
      "text/plain": [
       "array(['Acrocephalus melanopogon', 'Acrocephalus melanopogon',\n",
       "       'Acrocephalus melanopogon', 'Acrocephalus melanopogon',\n",
       "       'Acrocephalus melanopogon', 'Acrocephalus melanopogon',\n",
       "       'Acrocephalus melanopogon', 'Acrocephalus melanopogon',\n",
       "       'Acrocephalus melanopogon', 'Acrocephalus melanopogon'],\n",
       "      dtype='<U25')"
      ]
     },
     "metadata": {},
     "output_type": "display_data"
    },
    {
     "data": {
      "text/plain": [
       "6044"
      ]
     },
     "metadata": {},
     "output_type": "display_data"
    },
    {
     "data": {
      "text/plain": [
       "array(['Acrocephalus melanopogon', 'Acrocephalus melanopogon',\n",
       "       'Acrocephalus melanopogon', 'Acrocephalus melanopogon',\n",
       "       'Acrocephalus melanopogon', 'Acrocephalus melanopogon',\n",
       "       'Acrocephalus melanopogon', 'Acrocephalus melanopogon',\n",
       "       'Acrocephalus melanopogon', 'Acrocephalus melanopogon'],\n",
       "      dtype='<U25')"
      ]
     },
     "metadata": {},
     "output_type": "display_data"
    }
   ],
   "source": [
    "display(len(train_y))\n",
    "display(train_y[:10])\n",
    "\n",
    "display(len(val_y))\n",
    "display(val_y[:10])"
   ]
  },
  {
   "cell_type": "code",
   "execution_count": 235,
   "metadata": {},
   "outputs": [],
   "source": [
    "train_features['label'] = train_y_encoded\n",
    "val_features['label'] = val_y_encoded"
   ]
  },
  {
   "cell_type": "code",
   "execution_count": 236,
   "metadata": {},
   "outputs": [
    {
     "data": {
      "text/plain": [
       "{'train': {'melspectrogram': array([[3.6285463e-05, 3.8200385e-05, 4.0739291e-05, ..., 3.0273466e-06,\n",
       "          2.2592510e-06, 2.1416045e-06],\n",
       "         [7.4347768e-09, 8.2490290e-09, 9.6704795e-09, ..., 2.0450429e-07,\n",
       "          2.5535245e-08, 2.3674612e-08],\n",
       "         [1.6406947e-06, 1.6677786e-06, 1.7138188e-06, ..., 2.2908193e-06,\n",
       "          1.6840297e-06, 1.5936671e-06],\n",
       "         ...,\n",
       "         [2.7316248e-06, 2.9339224e-06, 3.2875062e-06, ..., 1.0139429e-06,\n",
       "          5.8416873e-07, 5.6021997e-07],\n",
       "         [2.4674987e-06, 2.5058257e-06, 2.5689174e-06, ..., 9.9417584e-06,\n",
       "          2.3140782e-07, 1.8963851e-07],\n",
       "         [3.0352521e-06, 4.1363774e-06, 6.0993666e-06, ..., 2.6265046e-05,\n",
       "          7.4409758e-07, 7.3155365e-07]], dtype=float32),\n",
       "  'mfcc': array([[-1.0000000e+00, -2.3037937e-01, -5.0594997e-01, ...,\n",
       "           2.8443993e-03,  1.4909296e-02,  8.9377072e-03],\n",
       "         [-1.0000000e+00, -2.6351056e-01, -5.3618097e-01, ...,\n",
       "           5.8985357e-03,  1.1296259e-02,  1.5974644e-03],\n",
       "         [-1.0000000e+00, -2.4636571e-01, -5.1230544e-01, ...,\n",
       "           6.3217357e-03,  5.6811194e-03, -7.9928376e-03],\n",
       "         ...,\n",
       "         [-1.0000000e+00, -3.3844922e-02, -3.5254931e-01, ...,\n",
       "          -5.0688325e-04,  1.2214681e-02, -1.8479349e-02],\n",
       "         [-1.0000000e+00, -5.2080970e-02, -3.2908642e-01, ...,\n",
       "           2.0972025e-03,  6.5874890e-03, -1.8301791e-02],\n",
       "         [-1.0000000e+00, -6.3805148e-02, -2.8394029e-01, ...,\n",
       "           1.6434706e-03, -4.0379560e-04, -8.8712340e-03]], dtype=float32),\n",
       "  'chroma': array([[0.45171684, 0.5208854 , 0.37008232, ..., 0.34943014, 0.32709607,\n",
       "          0.41093883],\n",
       "         [0.38980624, 0.4756134 , 0.2731501 , ..., 0.25435007, 0.28047627,\n",
       "          0.3474213 ],\n",
       "         [0.46294615, 0.46664438, 0.22451818, ..., 0.3321953 , 0.37677932,\n",
       "          0.4637391 ],\n",
       "         ...,\n",
       "         [0.66463   , 0.5836814 , 0.56719154, ..., 0.5601321 , 0.60573965,\n",
       "          0.67641854],\n",
       "         [0.64052266, 0.5901249 , 0.5253463 , ..., 0.43292692, 0.50466716,\n",
       "          0.6136967 ],\n",
       "         [0.429861  , 0.53515136, 0.58398294, ..., 0.34917453, 0.37820873,\n",
       "          0.41061836]], dtype=float32),\n",
       "  'rms': array([[0.03409449],\n",
       "         [0.03857416],\n",
       "         [0.03055595],\n",
       "         ...,\n",
       "         [0.00261482],\n",
       "         [0.00234767],\n",
       "         [0.00153452]], dtype=float32),\n",
       "  'label': array([1, 1, 1, ..., 5, 5, 5])},\n",
       " 'val': {'melspectrogram': array([[4.3031432e-07, 4.3289390e-07, 4.3771132e-07, ..., 1.8346757e-06,\n",
       "          1.3503952e-06, 1.2528141e-06],\n",
       "         [1.0225300e-05, 1.0246177e-05, 1.0281189e-05, ..., 1.5753679e-06,\n",
       "          1.4360394e-06, 1.3587372e-06],\n",
       "         [7.9499705e-06, 7.9620158e-06, 7.9821530e-06, ..., 1.1820090e-05,\n",
       "          1.0926735e-05, 1.0397702e-05],\n",
       "         ...,\n",
       "         [5.0708782e-06, 5.1273469e-06, 5.2236105e-06, ..., 1.1071166e-08,\n",
       "          7.6370981e-09, 7.3590027e-09],\n",
       "         [3.1770160e-05, 3.2150201e-05, 3.2798900e-05, ..., 6.1817065e-07,\n",
       "          5.8752238e-07, 5.7274593e-07],\n",
       "         [1.0563541e-06, 1.1000886e-06, 1.1758916e-06, ..., 4.5908578e-08,\n",
       "          3.7034642e-08, 3.6099699e-08]], dtype=float32),\n",
       "  'mfcc': array([[-1.        , -0.17316039, -0.3545979 , ..., -0.00252139,\n",
       "           0.01035134, -0.01533805],\n",
       "         [-1.        , -0.23800316, -0.4236931 , ..., -0.00110106,\n",
       "           0.01985768, -0.02032196],\n",
       "         [-1.        , -0.26194647, -0.4237396 , ...,  0.01318335,\n",
       "           0.00775826, -0.02090132],\n",
       "         ...,\n",
       "         [-1.        , -0.07262195, -0.62229264, ..., -0.01146582,\n",
       "          -0.01392007, -0.01412311],\n",
       "         [-1.        , -0.08636797, -0.6325662 , ..., -0.01219559,\n",
       "          -0.00543617, -0.01995962],\n",
       "         [-1.        , -0.06662576, -0.60135156, ..., -0.01522806,\n",
       "          -0.00564914, -0.02205117]], dtype=float32),\n",
       "  'chroma': array([[0.40570298, 0.21734837, 0.2601575 , ..., 0.2816762 , 0.40778702,\n",
       "          0.50344586],\n",
       "         [0.23847961, 0.10583287, 0.26371005, ..., 0.22670296, 0.38745153,\n",
       "          0.43362668],\n",
       "         [0.28493753, 0.10356496, 0.15821137, ..., 0.22313412, 0.4731197 ,\n",
       "          0.5399796 ],\n",
       "         ...,\n",
       "         [0.2893074 , 0.24636072, 0.27708828, ..., 0.53763705, 0.67822737,\n",
       "          0.56500083],\n",
       "         [0.40734518, 0.30319303, 0.26628995, ..., 0.44712067, 0.6030251 ,\n",
       "          0.65899926],\n",
       "         [0.45967966, 0.39143068, 0.39275992, ..., 0.36724252, 0.44772694,\n",
       "          0.52265435]], dtype=float32),\n",
       "  'rms': array([[0.02916942],\n",
       "         [0.05002625],\n",
       "         [0.04874481],\n",
       "         ...,\n",
       "         [0.02511378],\n",
       "         [0.02726615],\n",
       "         [0.02179141]], dtype=float32),\n",
       "  'label': array([1, 1, 1, ..., 5, 5, 5])}}"
      ]
     },
     "execution_count": 236,
     "metadata": {},
     "output_type": "execute_result"
    }
   ],
   "source": [
    "merged_dict = {'train': train_features, 'val': val_features}\n",
    "merged_dict"
   ]
  },
  {
   "cell_type": "markdown",
   "metadata": {},
   "source": [
    "### Save the merged dictionary to a pkl"
   ]
  },
  {
   "cell_type": "code",
   "execution_count": 237,
   "metadata": {},
   "outputs": [],
   "source": [
    "with open('C:/Users/thato/Documents/Final-Year-Project/Dataset/Project-V4/feature-extraction/NotAnnotated/AveragePooled/split_features_2s_all.pkl', 'wb') as file:\n",
    "  pickle.dump(merged_dict, file)"
   ]
  }
 ],
 "metadata": {
  "kernelspec": {
   "display_name": "Python 3",
   "language": "python",
   "name": "python3"
  },
  "language_info": {
   "codemirror_mode": {
    "name": "ipython",
    "version": 3
   },
   "file_extension": ".py",
   "mimetype": "text/x-python",
   "name": "python",
   "nbconvert_exporter": "python",
   "pygments_lexer": "ipython3",
   "version": "3.12.4"
  }
 },
 "nbformat": 4,
 "nbformat_minor": 2
}
