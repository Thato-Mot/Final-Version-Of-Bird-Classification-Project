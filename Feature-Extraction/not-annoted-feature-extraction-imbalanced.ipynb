{
 "cells": [
  {
   "cell_type": "markdown",
   "metadata": {},
   "source": [
    "# **Feature Extraction Methods: Imbalanced Data Without Annotations**\n",
    "\n",
    "- *Key Features*: [MFCCs, Mel-Spectrograms, Chroma Frequencies, RMS Power]\n",
    "- *Key Manipulations*: [Varying Window Sizes, Normalization, Average Pooling (Compression), Filtering]\n",
    "- *Process Assistence*: [Converting them to numpy arrays now, easy label access across features]\n",
    "- *Conversion*: [To numpy arrays and pkl files]\n"
   ]
  },
  {
   "cell_type": "code",
   "execution_count": 1,
   "metadata": {},
   "outputs": [
    {
     "name": "stdout",
     "output_type": "stream",
     "text": [
      "pygame 2.6.1 (SDL 2.28.4, Python 3.12.4)\n",
      "Hello from the pygame community. https://www.pygame.org/contribute.html\n"
     ]
    }
   ],
   "source": [
    "# Standard libraries\n",
    "import numpy as np\n",
    "import pandas as pd\n",
    "import os\n",
    "import time\n",
    "\n",
    "# Libraries for audio\n",
    "from IPython.display import Audio\n",
    "import librosa\n",
    "import librosa.display\n",
    "\n",
    "# Training and Testing Split\n",
    "from sklearn.model_selection import train_test_split\n",
    "\n",
    "# for normalization & avgpooling features\n",
    "import tensorflow as tf\n",
    "# for preprocessing\n",
    "from sklearn.preprocessing import LabelEncoder\n",
    "from sklearn.preprocessing import MinMaxScaler\n",
    "from sklearn.preprocessing import OneHotEncoder\n",
    "\n",
    "# Operational\n",
    "from tqdm import tqdm\n",
    "import matplotlib.pyplot as plt\n",
    "import seaborn as sns\n",
    "import pickle\n",
    "import scipy.ndimage\n",
    "import pygame\n",
    "import time\n",
    "from scipy.signal import butter, filtfilt\n",
    "import random\n",
    "import IPython.display as ipd\n",
    "from functools import partial"
   ]
  },
  {
   "cell_type": "code",
   "execution_count": 2,
   "metadata": {},
   "outputs": [],
   "source": [
    "# Variabels to be reused\n",
    "path = 'C:/Users/thato/Documents/Final-Year-Project/Dataset/Project-V4/audio_files' \n",
    "npy_path = 'C:/Users/thato/Documents/Final-Year-Project/Dataset/Project-V4/train_audio_npy/' \n",
    "train_csv = 'C:/Users/thato/Documents/Final-Year-Project/Dataset/Project-V4/train-not-annotated.csv' \n",
    "annotated_train_csv = 'C:/Users/thato/Documents/Final-Year-Project/Dataset/Project-V4/train-annotated.csv'\n",
    "not_annotated_splt = 'C:/Users/thato/Documents/Final-Year-Project/Dataset/Project-V4/trainval-split/trainval.csv'\n",
    "sr = 22050"
   ]
  },
  {
   "cell_type": "code",
   "execution_count": 3,
   "metadata": {},
   "outputs": [],
   "source": [
    "trainval_data = pd.read_csv(not_annotated_splt)\n",
    "train_data = trainval_data[trainval_data['set'] == 'tr']\n",
    "val_data = trainval_data[trainval_data['set'] == 'val']"
   ]
  },
  {
   "cell_type": "code",
   "execution_count": 15,
   "metadata": {},
   "outputs": [
    {
     "data": {
      "text/plain": [
       "species\n",
       "Alcedo atthis                39\n",
       "Himantopus himantopus        36\n",
       "Porphyrio porphyrio          33\n",
       "Acrocephalus melanopogon     32\n",
       "Gallinula chloropus          32\n",
       "Fulica atra                  28\n",
       "Tachybaptus ruficollis       27\n",
       "Botaurus stellaris           27\n",
       "Charadrius alexandrinus      26\n",
       "Ardea purpurea               26\n",
       "Dendrocopos minor            25\n",
       "Motacilla flava              24\n",
       "Acrocephalus arundinaceus    23\n",
       "Ciconia ciconia              22\n",
       "Ixobrychus minutus           21\n",
       "Acrocephalus scirpaceus      20\n",
       "Circus aeruginosus           19\n",
       "Coracias garrulus            11\n",
       "Anas platyrhynchos            9\n",
       "Anas strepera                 5\n",
       "Name: count, dtype: int64"
      ]
     },
     "execution_count": 15,
     "metadata": {},
     "output_type": "execute_result"
    }
   ],
   "source": [
    "train_data['species'].value_counts()"
   ]
  },
  {
   "cell_type": "markdown",
   "metadata": {},
   "source": [
    "# **Creating a class to do the extraction**"
   ]
  },
  {
   "cell_type": "code",
   "execution_count": 6,
   "metadata": {},
   "outputs": [],
   "source": [
    "class Extraction:\n",
    "  def __init__(self, train_df, val_df, window_size, overlap=0.5, npy_path=npy_path, sr=sr, n_mels=60, n_mfcc=20, n_chroma=12, features=['mfcc'], normalize=True, avgpool=False):\n",
    "    \"\"\"\n",
    "    Instantiate the Extraction class to extract features.\n",
    "\n",
    "    Parameters:\n",
    "      sr (int): Sample rate of the audio files.\n",
    "      n_mfccs (int): Number of MFCCs to extract.\n",
    "      n_mels (int): Number of Mel bands to extract.\n",
    "      n_chroma (int): Number of chroma bins to use.\n",
    "      features (list): List of features to extract.\n",
    "        accepted features: 'mfcc', 'chroma', 'rms', 'melspectrogram'.\n",
    "      normalize (bool): Whether to normalize the features.\n",
    "      maxpool (bool): Whether to maxpool the features.\n",
    "    \"\"\"\n",
    "    \n",
    "    self.train_df = train_df\n",
    "    self.val_df = val_df\n",
    "    self.npy_path = npy_path\n",
    "    self.window_size = window_size\n",
    "    self.overlap = overlap\n",
    "    self.sr = sr\n",
    "    self.n_mels = n_mels\n",
    "    self.n_mfcc = n_mfcc\n",
    "    self.n_chroma = n_chroma\n",
    "\n",
    "     # confirm features have been specified\n",
    "    assert len(features) != 0, \"Must Specify At Least One Feature In The Form Of A List.\"\n",
    "    self.features = features\n",
    "\n",
    "    self.accepted_feature = ['mfcc', 'chroma', 'rms', 'melspectrogram']\n",
    "    for feature in self.features:\n",
    "      assert feature in self.accepted_feature, f\"{feature} is not an accepted feature, only 'mfcc', 'chroma', 'rms', 'melspectrogram' are accepted features.\"\n",
    "\n",
    "    self.normalize = normalize\n",
    "    self.avgpool = avgpool\n",
    "\n",
    "    print(f\"Train DataFrame shape: {train_df.shape}\")\n",
    "    print(f\"Validation DataFrame shape: {val_df.shape}\")\n",
    "\n",
    "    # extract train and val labels and features\n",
    "    self.train_y, self.train_features = self.feature_extraction(self.train_df, window_size=self.window_size)\n",
    "    self.val_y, self.val_features = self.feature_extraction(self.val_df, window_size=self.window_size)\n",
    "\n",
    "    # process the features by average pooling\n",
    "    self.train_features, self.val_features = self.process_features(self.train_features, self.val_features)\n",
    "\n",
    "    \n",
    "  \n",
    "\n",
    "  def normalize_audio(self, audio):\n",
    "    return (audio - np.min(audio)) / (np.max(audio) - np.min(audio))\n",
    "  \n",
    "  def bandpass_filter(self, audio, lowcut=800, highcut=8000, order=4):\n",
    "    nyquist = 0.5 * self.sr  # Nyquist frequency\n",
    "    low = lowcut / nyquist\n",
    "    high = highcut / nyquist\n",
    "\n",
    "    b, a = butter(order, [low, high], btype='band')\n",
    "    filtered_audio = filtfilt(b, a, audio)\n",
    "    return filtered_audio\n",
    "  \n",
    "  def generate_pink_noise(self, num_samples):\n",
    "    white_noise = np.random.randn(num_samples)\n",
    "    \n",
    "    # Apply a filter to convert white noise into pink noise (1/f noise)\n",
    "    X = np.fft.rfft(white_noise)\n",
    "    S = np.arange(1, len(X) + 1)  # Frequency scaling\n",
    "    pink_noise = np.fft.irfft(X / S)\n",
    "\n",
    "    if len(pink_noise) < num_samples:\n",
    "        # Pad with zeros if the length is less than num_samples\n",
    "        pink_noise = np.pad(pink_noise, (0, num_samples - len(pink_noise)), mode='constant')\n",
    "    elif len(pink_noise) > num_samples:\n",
    "        # Trim if necessary\n",
    "        pink_noise = pink_noise[:num_samples]\n",
    "    \n",
    "    return self.normalize_audio(pink_noise)\n",
    "  \n",
    "  def pad_with_noise(self, audio_data, window_length, window_samples):\n",
    "    current_length = librosa.get_duration(y=audio_data, sr=self.sr)\n",
    "\n",
    "    if current_length > window_length:\n",
    "        return audio_data\n",
    "    \n",
    "    target_length_samples = int(window_length * sr) \n",
    "    current_length_samples = window_samples\n",
    "    padding_length_samples = target_length_samples - current_length_samples\n",
    "\n",
    "    assert target_length_samples == (current_length_samples+padding_length_samples)\n",
    "    \n",
    "    # Generate pink noise to pad with\n",
    "    pink_noise = self.generate_pink_noise(padding_length_samples)\n",
    "    padded_audio = np.concatenate([audio_data, pink_noise])\n",
    "    # if len(padded_audio) < target_length_samples:\n",
    "    #     padded_audio = np.append(padded_audio, self.generate_pink_noise(1))\n",
    "\n",
    "    assert target_length_samples == len(padded_audio)\n",
    "    \n",
    "    return padded_audio\n",
    "  \n",
    "  def avg_pooling_keras(self, feature):\n",
    "    # Clear the previous Keras session\n",
    "    tf.keras.backend.clear_session()\n",
    "\n",
    "    # Define the input shape based on features\n",
    "    input_shape = feature.shape[1:]  # (n_mels, time_steps)\n",
    "\n",
    "    # Create the Keras model for average pooling\n",
    "    inputs = tf.keras.layers.Input(shape=input_shape)\n",
    "    pooled = tf.keras.layers.GlobalAveragePooling1D()(inputs)\n",
    "    pooling_model = tf.keras.models.Model(inputs=inputs, outputs=pooled)\n",
    "\n",
    "    # Perform pooling using the model\n",
    "    pooled_features = pooling_model.predict(feature)\n",
    "\n",
    "    return pooled_features\n",
    "\n",
    "#-------------------------Feature Extraction---------------------------------------\n",
    "  def extract_mfcc(self, window):\n",
    "    mfcc = librosa.feature.mfcc(y=window, sr=self.sr, n_mfcc=self.n_mfcc)\n",
    "    if self.normalize:\n",
    "      return librosa.util.normalize(mfcc)\n",
    "    else:\n",
    "      return mfcc\n",
    "\n",
    "\n",
    "  def extract_chroma(self, window):\n",
    "    chroma = librosa.feature.chroma_stft(y=window, sr=self.sr, n_chroma=self.n_chroma)\n",
    "    if self.normalize:\n",
    "      return librosa.util.normalize(chroma)\n",
    "    else:\n",
    "      return chroma\n",
    "   \n",
    "\n",
    "  def extract_rms(self, window):\n",
    "    return librosa.feature.rms(y=window)\n",
    "\n",
    "  def extract_melspectrogram(self, window):\n",
    "    mel = librosa.feature.melspectrogram(y=window, sr=self.sr, n_mels=self.n_mels)\n",
    "    if self.normalize:\n",
    "      return librosa.util.normalize(mel)\n",
    "    else:\n",
    "      return mel\n",
    "    \n",
    "  def avgpooling(self, train_X, val_X, n_time, n_features):\n",
    "    \"\"\"\n",
    "    Average pooling the train and val features.\n",
    "\n",
    "    Parameters:\n",
    "      train_X (npy): Training feature array of shape (batch_size, n_features, n_time)\n",
    "      val_X (npy): Validation feature array of shape (batch_size, n_features, n_time)\n",
    "      n_time (int): Time axis\n",
    "      n_features (int): Feature axis\n",
    "\n",
    "    Returns:\n",
    "      train_X (npy): Avgpooled training feature array of shape (batch_size, n_features)\n",
    "      val_X (npy): Avgpooled validation feature array of shape (batch_size, n_features)\n",
    "    \"\"\"\n",
    "    # Clear the Keras session\n",
    "    tf.keras.backend.clear_session()\n",
    "    \n",
    "    # Create the Keras input layer with shape (n_features, n_time)\n",
    "    input_layer = tf.keras.layers.Input(shape=(n_features, n_time))\n",
    "    \n",
    "    # Apply average pooling over the time axis (axis=-1) to reduce n_time\n",
    "    avg_pool = tf.keras.layers.Lambda(lambda x: tf.reduce_mean(x, axis=-1))(input_layer)\n",
    "    \n",
    "    # Build the model\n",
    "    pooling_model = tf.keras.models.Model(inputs=input_layer, outputs=avg_pool)\n",
    "\n",
    "    # Use the model to apply average pooling on the training and validation features\n",
    "    train_X = pooling_model.predict(train_X)\n",
    "    val_X = pooling_model.predict(val_X)\n",
    "\n",
    "    return train_X, val_X\n",
    "\n",
    "    \n",
    "  def process_features(self, train_features_dict, val_features_dict):\n",
    "    for each in train_features_dict.keys():\n",
    "      \n",
    "      if each == 'mfcc':\n",
    "        n_features=self.n_mfcc\n",
    "      elif each == 'chroma':\n",
    "        n_features=self.n_chroma\n",
    "      elif each == 'rms':\n",
    "        n_features=1\n",
    "      elif each == 'melspectrogram':\n",
    "        n_features=self.n_mels\n",
    "      \n",
    "      train_feature = train_features_dict[each]\n",
    "      val_feature = val_features_dict[each]\n",
    "\n",
    "      if self.avgpool:\n",
    "        train_features_dict[each], val_features_dict[each] = self.avgpooling(train_feature, val_feature, n_time=train_feature.shape[2], n_features=n_features)\n",
    "      else:\n",
    "        train_features_dict[each], val_features_dict[each] = train_features_dict[each], val_features_dict[each]\n",
    "    \n",
    "    return train_features_dict, val_features_dict\n",
    "      \n",
    "\n",
    "  def feature_extraction(self, dataframe, window_size, filter=True):\n",
    "    y = [] # To hold the labels\n",
    "    features_dict = {item: [] for item in self.features} # Create a key for each feature listed\n",
    "    print(f\"Number of rows in dataframe: {len(dataframe)}\")\n",
    "    for _, row in tqdm(dataframe.iterrows(), desc=\"Processing data\", total=len(dataframe)):\n",
    "          label = row['species']\n",
    "          file_path = os.path.join(self.npy_path, row['filename_npy'])\n",
    "\n",
    "          try:\n",
    "            \n",
    "              audio = np.load(file_path)\n",
    "          except FileNotFoundError:\n",
    "              print(f\"File not found: {file_path}\")\n",
    "              continue\n",
    "\n",
    "\n",
    "          audio = self.normalize_audio(audio)\n",
    "\n",
    "          audio = self.pad_with_noise(audio, window_length=self.window_size, window_samples=len(audio))\n",
    "          # print(len(sample))\n",
    "\n",
    "          if filter:\n",
    "                  audio = self.bandpass_filter(audio)\n",
    "\n",
    "          window_samples = int(window_size * self.sr)\n",
    "          hop_samples = int(window_samples * (1 - self.overlap))  # For overlapping\n",
    "\n",
    "          # Break the audio into windows with the specified overlap\n",
    "          audio_windows = librosa.util.frame(audio, frame_length=window_samples, hop_length=hop_samples).T\n",
    "          \n",
    "          \n",
    "          # display(label)\n",
    "          \n",
    "          for _, window in enumerate(audio_windows):\n",
    "              \n",
    "              y.append(label)\n",
    "\n",
    "              if len(window) < window_samples:\n",
    "                  if len(window) < 512*2:\n",
    "                     continue\n",
    "                  else:\n",
    "                      window = self.pad_with_noise(window, window_length=window_size)\n",
    "              \n",
    "              # Feature Extraction FR --------------------------------------------------------------------\n",
    "              # dynatically call the extract_x function to extract the listed features\n",
    "              for feature in self.features:\n",
    "                extract = f\"extract_{feature}\"\n",
    "                if hasattr(self, extract) and callable(func := getattr(self, extract)):\n",
    "                  features_dict[feature].append(func(window))\n",
    "\n",
    "          # cast lists to np arrays\n",
    "    for each in features_dict.keys():\n",
    "              features_dict[each] = np.array(features_dict[each])\n",
    "\n",
    "    y = np.array(y)\n",
    "\n",
    "          # If not using average pooling, return resized features\n",
    "    return y, features_dict"
   ]
  },
  {
   "cell_type": "markdown",
   "metadata": {},
   "source": [
    "# **No Average Pooling**"
   ]
  },
  {
   "cell_type": "markdown",
   "metadata": {},
   "source": [
    "## **Window Size = 6s**"
   ]
  },
  {
   "cell_type": "markdown",
   "metadata": {},
   "source": [
    "### **['melspectrogram']**"
   ]
  },
  {
   "cell_type": "code",
   "execution_count": 16,
   "metadata": {},
   "outputs": [],
   "source": [
    "features_list = ['melspectrogram']"
   ]
  },
  {
   "cell_type": "code",
   "execution_count": 17,
   "metadata": {},
   "outputs": [
    {
     "name": "stdout",
     "output_type": "stream",
     "text": [
      "Train DataFrame shape: (485, 6)\n",
      "Validation DataFrame shape: (130, 6)\n",
      "Number of rows in dataframe: 485\n"
     ]
    },
    {
     "name": "stderr",
     "output_type": "stream",
     "text": [
      "Processing data: 100%|██████████| 485/485 [01:03<00:00,  7.63it/s]\n"
     ]
    },
    {
     "name": "stdout",
     "output_type": "stream",
     "text": [
      "Number of rows in dataframe: 130\n"
     ]
    },
    {
     "name": "stderr",
     "output_type": "stream",
     "text": [
      "Processing data: 100%|██████████| 130/130 [00:16<00:00,  8.12it/s]\n"
     ]
    }
   ],
   "source": [
    "features = Extraction(train_data,\n",
    "                      val_data,\n",
    "                      window_size=6,\n",
    "                      features=features_list,\n",
    "                      avgpool=False\n",
    "                      )"
   ]
  },
  {
   "cell_type": "code",
   "execution_count": 18,
   "metadata": {},
   "outputs": [
    {
     "data": {
      "text/plain": [
       "(7105,)"
      ]
     },
     "metadata": {},
     "output_type": "display_data"
    },
    {
     "data": {
      "text/plain": [
       "'melspectrogram'"
      ]
     },
     "metadata": {},
     "output_type": "display_data"
    },
    {
     "data": {
      "text/plain": [
       "(7105, 60, 259)"
      ]
     },
     "metadata": {},
     "output_type": "display_data"
    }
   ],
   "source": [
    "train_y = features.train_y\n",
    "display(train_y.shape)\n",
    "\n",
    "train_features = features.train_features\n",
    "for key in train_features.keys():\n",
    "  display(key)\n",
    "  display(train_features[key].shape)"
   ]
  },
  {
   "cell_type": "code",
   "execution_count": 19,
   "metadata": {},
   "outputs": [
    {
     "data": {
      "text/plain": [
       "array(['Acrocephalus melanopogon', 'Acrocephalus melanopogon',\n",
       "       'Acrocephalus melanopogon', ..., 'Anas strepera', 'Anas strepera',\n",
       "       'Anas strepera'], dtype='<U25')"
      ]
     },
     "execution_count": 19,
     "metadata": {},
     "output_type": "execute_result"
    }
   ],
   "source": [
    "train_y"
   ]
  },
  {
   "cell_type": "code",
   "execution_count": 20,
   "metadata": {},
   "outputs": [
    {
     "data": {
      "text/plain": [
       "(1896,)"
      ]
     },
     "metadata": {},
     "output_type": "display_data"
    },
    {
     "data": {
      "text/plain": [
       "'melspectrogram'"
      ]
     },
     "metadata": {},
     "output_type": "display_data"
    },
    {
     "data": {
      "text/plain": [
       "(1896, 60, 259)"
      ]
     },
     "metadata": {},
     "output_type": "display_data"
    }
   ],
   "source": [
    "val_y = features.val_y\n",
    "display(val_y.shape)\n",
    "\n",
    "val_features = features.val_features\n",
    "for key in val_features.keys():\n",
    "  display(key)\n",
    "  display(val_features[key].shape)"
   ]
  },
  {
   "cell_type": "markdown",
   "metadata": {},
   "source": [
    "### Encode Classes"
   ]
  },
  {
   "cell_type": "code",
   "execution_count": 21,
   "metadata": {},
   "outputs": [
    {
     "name": "stdout",
     "output_type": "stream",
     "text": [
      "Encoded classes for [0, 1, 2]: ['Acrocephalus arundinaceus', 'Acrocephalus melanopogon', 'Acrocephalus scirpaceus']\n",
      "Encoded training labels: [1 1 1 ... 5 5 5]\n",
      "Encoded validation labels: [1 1 1 ... 5 5 5]\n"
     ]
    }
   ],
   "source": [
    "label_encoder = LabelEncoder().fit(train_y)\n",
    "train_y_encoded = label_encoder.transform(train_y)\n",
    "val_y_encoded = label_encoder.transform(val_y)\n",
    "\n",
    "classes = list(label_encoder.inverse_transform([0, 1, 2]))\n",
    "print(\"Encoded classes for [0, 1, 2]:\", classes)\n",
    "print(\"Encoded training labels:\", train_y_encoded)\n",
    "print(\"Encoded validation labels:\", val_y_encoded)"
   ]
  },
  {
   "cell_type": "code",
   "execution_count": 22,
   "metadata": {},
   "outputs": [
    {
     "data": {
      "text/plain": [
       "7105"
      ]
     },
     "metadata": {},
     "output_type": "display_data"
    },
    {
     "data": {
      "text/plain": [
       "array(['Acrocephalus melanopogon', 'Acrocephalus melanopogon',\n",
       "       'Acrocephalus melanopogon', 'Acrocephalus melanopogon',\n",
       "       'Acrocephalus melanopogon', 'Acrocephalus melanopogon',\n",
       "       'Acrocephalus melanopogon', 'Acrocephalus melanopogon',\n",
       "       'Acrocephalus melanopogon', 'Acrocephalus melanopogon'],\n",
       "      dtype='<U25')"
      ]
     },
     "metadata": {},
     "output_type": "display_data"
    },
    {
     "data": {
      "text/plain": [
       "1896"
      ]
     },
     "metadata": {},
     "output_type": "display_data"
    },
    {
     "data": {
      "text/plain": [
       "array(['Acrocephalus melanopogon', 'Acrocephalus melanopogon',\n",
       "       'Acrocephalus melanopogon', 'Acrocephalus melanopogon',\n",
       "       'Acrocephalus melanopogon', 'Acrocephalus melanopogon',\n",
       "       'Acrocephalus melanopogon', 'Acrocephalus melanopogon',\n",
       "       'Acrocephalus melanopogon', 'Acrocephalus melanopogon'],\n",
       "      dtype='<U25')"
      ]
     },
     "metadata": {},
     "output_type": "display_data"
    }
   ],
   "source": [
    "display(len(train_y))\n",
    "display(train_y[:10])\n",
    "\n",
    "display(len(val_y))\n",
    "display(val_y[:10])"
   ]
  },
  {
   "cell_type": "code",
   "execution_count": 23,
   "metadata": {},
   "outputs": [],
   "source": [
    "train_features['label'] = train_y_encoded\n",
    "val_features['label'] = val_y_encoded"
   ]
  },
  {
   "cell_type": "code",
   "execution_count": 24,
   "metadata": {},
   "outputs": [
    {
     "data": {
      "text/plain": [
       "{'train': {'melspectrogram': array([[[2.70414866e-03, 2.79165306e-04, 2.78151976e-06, ...,\n",
       "           2.09090982e-14, 1.00035500e-07, 4.10201886e-06],\n",
       "          [2.85087147e-03, 2.95306839e-04, 3.42857310e-06, ...,\n",
       "           2.42591675e-14, 1.00793242e-07, 4.13385302e-06],\n",
       "          [3.04498922e-03, 3.15533762e-04, 4.71718391e-06, ...,\n",
       "           3.06456201e-14, 1.02097112e-07, 4.18868937e-06],\n",
       "          ...,\n",
       "          [4.71950382e-06, 6.96979924e-07, 9.83989841e-06, ...,\n",
       "           4.76671411e-08, 2.59462464e-08, 1.32848568e-07],\n",
       "          [4.43196142e-06, 4.70733005e-07, 1.06044568e-07, ...,\n",
       "           2.24950763e-10, 2.39690650e-09, 9.34205219e-08],\n",
       "          [4.34125244e-06, 4.54310514e-07, 3.83112779e-09, ...,\n",
       "           6.16144049e-13, 1.95562647e-09, 8.06973052e-08]],\n",
       "  \n",
       "         [[1.73426295e-05, 3.63408438e-06, 4.80290598e-13, ...,\n",
       "           1.60876280e-14, 7.00188949e-08, 1.07775013e-06],\n",
       "          [1.84753151e-05, 3.87795431e-06, 5.39064175e-13, ...,\n",
       "           2.48021127e-14, 7.05198033e-08, 1.08664800e-06],\n",
       "          [2.04588793e-05, 4.30499024e-06, 6.48974409e-13, ...,\n",
       "           4.23482850e-14, 7.14385292e-08, 1.10314929e-06],\n",
       "          ...,\n",
       "          [3.96494239e-05, 1.00302657e-05, 1.57459005e-06, ...,\n",
       "           4.01477919e-08, 4.75987657e-06, 7.04755487e-05],\n",
       "          [3.67085359e-05, 7.86056852e-06, 1.57349826e-08, ...,\n",
       "           1.53969906e-10, 4.29632397e-06, 6.42517428e-05],\n",
       "          [3.50700349e-05, 7.49661568e-06, 6.95534630e-12, ...,\n",
       "           2.00168533e-13, 4.05157044e-06, 6.05970857e-05]],\n",
       "  \n",
       "         [[1.39905270e-03, 1.33439757e-04, 5.75273763e-13, ...,\n",
       "           5.89841679e-15, 2.38372515e-06, 6.72347600e-05],\n",
       "          [1.40995976e-03, 1.34493797e-04, 7.78146365e-13, ...,\n",
       "           5.89168719e-15, 2.39343733e-06, 6.75112785e-05],\n",
       "          [1.42874367e-03, 1.36310827e-04, 1.17197668e-12, ...,\n",
       "           5.91434109e-15, 2.40969361e-06, 6.79760697e-05],\n",
       "          ...,\n",
       "          [4.59703481e-05, 7.59484151e-06, 3.31000770e-06, ...,\n",
       "           2.19214266e-07, 4.23863572e-07, 4.99294751e-06],\n",
       "          [3.20205388e-05, 3.08347345e-06, 2.79666755e-08, ...,\n",
       "           4.69631745e-10, 1.64111417e-07, 4.64225419e-06],\n",
       "          [2.75633313e-05, 2.63967036e-06, 1.70151279e-11, ...,\n",
       "           6.40257895e-13, 1.57878817e-07, 4.48530469e-06]],\n",
       "  \n",
       "         ...,\n",
       "  \n",
       "         [[5.06434348e-05, 9.09517381e-06, 1.52639599e-14, ...,\n",
       "           5.69565579e-13, 2.31836661e-06, 1.23076619e-04],\n",
       "          [5.55218977e-05, 1.00320887e-05, 2.95995962e-14, ...,\n",
       "           6.60314978e-13, 2.35852713e-06, 1.25182668e-04],\n",
       "          [6.37263562e-05, 1.16083006e-05, 1.14836980e-13, ...,\n",
       "           9.92855998e-13, 2.42734571e-06, 1.28778994e-04],\n",
       "          ...,\n",
       "          [2.96187718e-04, 5.68894053e-05, 1.47466885e-09, ...,\n",
       "           4.53442650e-08, 4.78775768e-07, 4.50262898e-06],\n",
       "          [2.84664897e-04, 5.46768209e-05, 6.64319276e-12, ...,\n",
       "           5.44945204e-11, 4.76368422e-08, 2.45046971e-06],\n",
       "          [2.77596122e-04, 5.33190259e-05, 5.50000942e-15, ...,\n",
       "           2.03706242e-14, 4.04135928e-08, 2.11266646e-06]],\n",
       "  \n",
       "         [[5.56861646e-05, 7.75421187e-06, 5.67162777e-13, ...,\n",
       "           2.99704819e-12, 2.66991946e-06, 9.18656481e-05],\n",
       "          [5.57014747e-05, 7.76113961e-06, 6.57309546e-13, ...,\n",
       "           3.33602974e-12, 2.74875521e-06, 9.43955498e-05],\n",
       "          [5.57237387e-05, 7.77350195e-06, 1.14769264e-12, ...,\n",
       "           7.37023754e-12, 2.88360077e-06, 9.86423159e-05],\n",
       "          ...,\n",
       "          [2.85943282e-05, 3.87109110e-06, 1.40175530e-08, ...,\n",
       "           1.93152139e-06, 2.60577479e-06, 1.51937388e-05],\n",
       "          [2.71836699e-05, 3.67603141e-06, 6.09528175e-11, ...,\n",
       "           4.58665303e-09, 4.21866406e-07, 1.38566840e-05],\n",
       "          [2.63366889e-05, 3.56136722e-06, 6.45853468e-14, ...,\n",
       "           1.32588386e-11, 4.00097029e-07, 1.33085883e-05]],\n",
       "  \n",
       "         [[5.08842227e-05, 4.11923279e-06, 1.80624602e-13, ...,\n",
       "           1.22436387e-13, 7.28907259e-06, 1.16067580e-04],\n",
       "          [5.17514505e-05, 4.18895742e-06, 2.00314317e-13, ...,\n",
       "           5.55760340e-13, 7.35569525e-06, 1.17167682e-04],\n",
       "          [5.32323621e-05, 4.30770062e-06, 2.87563927e-13, ...,\n",
       "           1.49348624e-11, 7.46034943e-06, 1.18888211e-04],\n",
       "          ...,\n",
       "          [1.82674126e-06, 3.97582696e-07, 1.90684223e-07, ...,\n",
       "           1.31639087e-06, 1.34078768e-06, 4.33230117e-06],\n",
       "          [9.93346823e-07, 8.12699815e-08, 1.61171735e-09, ...,\n",
       "           1.50839142e-08, 1.99053998e-07, 3.10586924e-06],\n",
       "          [8.70749282e-07, 6.98577905e-08, 6.69438056e-13, ...,\n",
       "           1.15469170e-11, 1.62286066e-07, 2.63052798e-06]]]),\n",
       "  'label': array([1, 1, 1, ..., 5, 5, 5])},\n",
       " 'val': {'melspectrogram': array([[[3.20727065e-05, 1.70512106e-06, 1.61698192e-11, ...,\n",
       "           6.99078403e-15, 9.09006570e-05, 4.15736281e-04],\n",
       "          [3.22422717e-05, 1.71387116e-06, 1.71018208e-11, ...,\n",
       "           7.35246074e-15, 9.10404223e-05, 4.16374167e-04],\n",
       "          [3.25622734e-05, 1.73066317e-06, 2.72505511e-11, ...,\n",
       "           8.27085953e-15, 9.12738954e-05, 4.17439906e-04],\n",
       "          ...,\n",
       "          [5.14212831e-05, 6.76458209e-06, 2.39359128e-06, ...,\n",
       "           1.27000189e-09, 6.52113586e-06, 2.99078099e-05],\n",
       "          [3.93156198e-05, 2.11725020e-06, 1.69905801e-08, ...,\n",
       "           8.64497294e-12, 5.84504725e-06, 2.68147563e-05],\n",
       "          [3.57245249e-05, 1.90032216e-06, 7.52069991e-12, ...,\n",
       "           5.09266877e-15, 5.44659452e-06, 2.49888465e-05]],\n",
       "  \n",
       "         [[4.32216167e-05, 1.06441040e-05, 5.35616229e-14, ...,\n",
       "           1.22390666e-15, 9.81753704e-07, 7.84455117e-05],\n",
       "          [4.38289053e-05, 1.07966869e-05, 5.72430310e-14, ...,\n",
       "           1.38323235e-15, 9.84363301e-07, 7.86690257e-05],\n",
       "          [4.48509481e-05, 1.10535462e-05, 6.44837344e-14, ...,\n",
       "           2.30541879e-15, 9.89100611e-07, 7.90444729e-05],\n",
       "          ...,\n",
       "          [1.65377342e-04, 4.14041947e-05, 4.28108612e-09, ...,\n",
       "           1.08349139e-09, 7.13780353e-08, 4.90441071e-06],\n",
       "          [1.55668963e-04, 3.89724709e-05, 1.22159692e-11, ...,\n",
       "           7.01587187e-12, 6.19931675e-08, 4.92205459e-06],\n",
       "          [1.49847184e-04, 3.75147347e-05, 1.57571033e-14, ...,\n",
       "           3.46565216e-15, 6.16604896e-08, 4.89650250e-06]],\n",
       "  \n",
       "         [[1.38927692e-04, 3.73340197e-05, 2.31414740e-14, ...,\n",
       "           1.44602135e-15, 1.54577526e-06, 2.46019279e-05],\n",
       "          [1.39140752e-04, 3.73912040e-05, 2.33982592e-14, ...,\n",
       "           1.72776902e-15, 1.54839888e-06, 2.46440843e-05],\n",
       "          [1.39496761e-04, 3.74867442e-05, 2.45355225e-14, ...,\n",
       "           3.61964461e-15, 1.55279160e-06, 2.47145718e-05],\n",
       "          ...,\n",
       "          [1.00004560e-05, 2.69248110e-06, 6.55983400e-10, ...,\n",
       "           1.91234928e-09, 9.63909150e-07, 1.54465206e-05],\n",
       "          [8.96621221e-06, 2.41407134e-06, 2.13633533e-12, ...,\n",
       "           8.59856703e-12, 9.01459447e-07, 1.44675063e-05],\n",
       "          [8.35582884e-06, 2.24984669e-06, 3.16834660e-15, ...,\n",
       "           9.78408366e-15, 8.64688978e-07, 1.38790515e-05]],\n",
       "  \n",
       "         ...,\n",
       "  \n",
       "         [[5.85685885e-06, 6.45287035e-07, 1.01928568e-12, ...,\n",
       "           4.14132927e-14, 2.52466254e-04, 3.73900307e-03],\n",
       "          [6.64906224e-06, 7.28075395e-07, 1.16348655e-12, ...,\n",
       "           7.54129709e-14, 2.53894745e-04, 3.76002988e-03],\n",
       "          [8.08529440e-06, 8.78169977e-07, 1.45529703e-12, ...,\n",
       "           2.59712300e-13, 2.56293834e-04, 3.79535250e-03],\n",
       "          ...,\n",
       "          [4.95372932e-05, 5.29086241e-06, 1.22242434e-15, ...,\n",
       "           1.83764816e-08, 5.61301721e-06, 8.34868620e-05],\n",
       "          [4.71100085e-05, 5.03203802e-06, 1.80135151e-14, ...,\n",
       "           1.01521132e-10, 5.28826148e-06, 7.87342156e-05],\n",
       "          [4.56486621e-05, 4.87608923e-06, 1.22029272e-15, ...,\n",
       "           8.35177462e-14, 5.09690081e-06, 7.58873318e-05]],\n",
       "  \n",
       "         [[4.23283280e-04, 6.53650051e-05, 4.62698290e-13, ...,\n",
       "           5.98409383e-15, 7.17400242e-06, 1.47156986e-04],\n",
       "          [4.26951456e-04, 6.59205835e-05, 4.81440644e-13, ...,\n",
       "           2.35676114e-14, 7.22966105e-06, 1.48335237e-04],\n",
       "          [4.33117279e-04, 6.68527595e-05, 5.13051426e-13, ...,\n",
       "           6.48273492e-14, 7.32293780e-06, 1.50313838e-04],\n",
       "          ...,\n",
       "          [2.69235020e-05, 4.12765938e-06, 1.32721433e-09, ...,\n",
       "           5.79256732e-12, 1.50922571e-08, 3.05643743e-07],\n",
       "          [2.58037485e-05, 3.95543505e-06, 7.75124832e-12, ...,\n",
       "           2.40201079e-12, 1.42548845e-08, 2.89060788e-07],\n",
       "          [2.51270802e-05, 3.85166562e-06, 1.08110254e-15, ...,\n",
       "           3.42698994e-16, 1.38444811e-08, 2.80715988e-07]],\n",
       "  \n",
       "         [[2.97158252e-03, 2.85226650e-04, 4.52995963e-13, ...,\n",
       "           4.84470662e-14, 5.84296734e-05, 1.70908113e-03],\n",
       "          [2.98828107e-03, 2.86823808e-04, 4.97379536e-13, ...,\n",
       "           5.45144784e-14, 5.91099166e-05, 1.72915237e-03],\n",
       "          [3.01631448e-03, 2.89505767e-04, 5.77359655e-13, ...,\n",
       "           7.53752136e-14, 6.02711945e-05, 1.76340203e-03],\n",
       "          ...,\n",
       "          [6.64369358e-05, 6.39903299e-06, 3.32201681e-10, ...,\n",
       "           8.51727042e-10, 9.32834658e-07, 2.68121931e-05],\n",
       "          [6.26423131e-05, 6.03302597e-06, 5.71884228e-12, ...,\n",
       "           3.69160296e-13, 8.88846173e-07, 2.56327751e-05],\n",
       "          [6.03767730e-05, 5.81491758e-06, 7.10682441e-15, ...,\n",
       "           3.65576162e-15, 8.64249566e-07, 2.49212923e-05]]]),\n",
       "  'label': array([1, 1, 1, ..., 5, 5, 5])}}"
      ]
     },
     "execution_count": 24,
     "metadata": {},
     "output_type": "execute_result"
    }
   ],
   "source": [
    "merged_dict = {'train': train_features, 'val': val_features}\n",
    "merged_dict"
   ]
  },
  {
   "cell_type": "markdown",
   "metadata": {},
   "source": [
    "### Save the merged dictionary to a pkl"
   ]
  },
  {
   "cell_type": "code",
   "execution_count": 25,
   "metadata": {},
   "outputs": [],
   "source": [
    "with open('C:/Users/thato/Documents/Final-Year-Project/Dataset/Project-V4/feature-extraction/NotAnnotated/NotAveragePooled/split_features_6s_mel.pkl', 'wb') as file:\n",
    "  pickle.dump(merged_dict, file)"
   ]
  },
  {
   "cell_type": "markdown",
   "metadata": {},
   "source": [
    "### **['melspectrogram', 'mfcc']**"
   ]
  },
  {
   "cell_type": "code",
   "execution_count": 26,
   "metadata": {},
   "outputs": [],
   "source": [
    "features_list = ['melspectrogram', 'mfcc']"
   ]
  },
  {
   "cell_type": "code",
   "execution_count": 27,
   "metadata": {},
   "outputs": [
    {
     "name": "stdout",
     "output_type": "stream",
     "text": [
      "Train DataFrame shape: (485, 6)\n",
      "Validation DataFrame shape: (130, 6)\n",
      "Number of rows in dataframe: 485\n"
     ]
    },
    {
     "name": "stderr",
     "output_type": "stream",
     "text": [
      "Processing data: 100%|██████████| 485/485 [03:27<00:00,  2.34it/s]\n"
     ]
    },
    {
     "name": "stdout",
     "output_type": "stream",
     "text": [
      "Number of rows in dataframe: 130\n"
     ]
    },
    {
     "name": "stderr",
     "output_type": "stream",
     "text": [
      "Processing data: 100%|██████████| 130/130 [00:31<00:00,  4.13it/s]\n"
     ]
    }
   ],
   "source": [
    "features = Extraction(train_data,\n",
    "                      val_data,\n",
    "                      window_size=6,\n",
    "                      features=features_list,\n",
    "                      avgpool=False\n",
    "                      )"
   ]
  },
  {
   "cell_type": "code",
   "execution_count": 28,
   "metadata": {},
   "outputs": [
    {
     "data": {
      "text/plain": [
       "(7105,)"
      ]
     },
     "metadata": {},
     "output_type": "display_data"
    },
    {
     "data": {
      "text/plain": [
       "'melspectrogram'"
      ]
     },
     "metadata": {},
     "output_type": "display_data"
    },
    {
     "data": {
      "text/plain": [
       "(7105, 60, 259)"
      ]
     },
     "metadata": {},
     "output_type": "display_data"
    },
    {
     "data": {
      "text/plain": [
       "'mfcc'"
      ]
     },
     "metadata": {},
     "output_type": "display_data"
    },
    {
     "data": {
      "text/plain": [
       "(7105, 20, 259)"
      ]
     },
     "metadata": {},
     "output_type": "display_data"
    }
   ],
   "source": [
    "train_y = features.train_y\n",
    "display(train_y.shape)\n",
    "\n",
    "train_features = features.train_features\n",
    "for key in train_features.keys():\n",
    "  display(key)\n",
    "  display(train_features[key].shape)"
   ]
  },
  {
   "cell_type": "code",
   "execution_count": 29,
   "metadata": {},
   "outputs": [
    {
     "data": {
      "text/plain": [
       "(1896,)"
      ]
     },
     "metadata": {},
     "output_type": "display_data"
    },
    {
     "data": {
      "text/plain": [
       "'melspectrogram'"
      ]
     },
     "metadata": {},
     "output_type": "display_data"
    },
    {
     "data": {
      "text/plain": [
       "(1896, 60, 259)"
      ]
     },
     "metadata": {},
     "output_type": "display_data"
    },
    {
     "data": {
      "text/plain": [
       "'mfcc'"
      ]
     },
     "metadata": {},
     "output_type": "display_data"
    },
    {
     "data": {
      "text/plain": [
       "(1896, 20, 259)"
      ]
     },
     "metadata": {},
     "output_type": "display_data"
    }
   ],
   "source": [
    "val_y = features.val_y\n",
    "display(val_y.shape)\n",
    "\n",
    "val_features = features.val_features\n",
    "for key in val_features.keys():\n",
    "  display(key)\n",
    "  display(val_features[key].shape)"
   ]
  },
  {
   "cell_type": "markdown",
   "metadata": {},
   "source": [
    "### Encode Classes"
   ]
  },
  {
   "cell_type": "code",
   "execution_count": 30,
   "metadata": {},
   "outputs": [
    {
     "name": "stdout",
     "output_type": "stream",
     "text": [
      "Encoded classes for [0, 1, 2]: ['Acrocephalus arundinaceus', 'Acrocephalus melanopogon', 'Acrocephalus scirpaceus']\n",
      "Encoded training labels: [1 1 1 ... 5 5 5]\n",
      "Encoded validation labels: [1 1 1 ... 5 5 5]\n"
     ]
    }
   ],
   "source": [
    "label_encoder = LabelEncoder().fit(train_y)\n",
    "train_y_encoded = label_encoder.transform(train_y)\n",
    "val_y_encoded = label_encoder.transform(val_y)\n",
    "\n",
    "classes = list(label_encoder.inverse_transform([0, 1, 2]))\n",
    "print(\"Encoded classes for [0, 1, 2]:\", classes)\n",
    "print(\"Encoded training labels:\", train_y_encoded)\n",
    "print(\"Encoded validation labels:\", val_y_encoded)"
   ]
  },
  {
   "cell_type": "code",
   "execution_count": 31,
   "metadata": {},
   "outputs": [
    {
     "data": {
      "text/plain": [
       "7105"
      ]
     },
     "metadata": {},
     "output_type": "display_data"
    },
    {
     "data": {
      "text/plain": [
       "array(['Acrocephalus melanopogon', 'Acrocephalus melanopogon',\n",
       "       'Acrocephalus melanopogon', 'Acrocephalus melanopogon',\n",
       "       'Acrocephalus melanopogon', 'Acrocephalus melanopogon',\n",
       "       'Acrocephalus melanopogon', 'Acrocephalus melanopogon',\n",
       "       'Acrocephalus melanopogon', 'Acrocephalus melanopogon'],\n",
       "      dtype='<U25')"
      ]
     },
     "metadata": {},
     "output_type": "display_data"
    },
    {
     "data": {
      "text/plain": [
       "1896"
      ]
     },
     "metadata": {},
     "output_type": "display_data"
    },
    {
     "data": {
      "text/plain": [
       "array(['Acrocephalus melanopogon', 'Acrocephalus melanopogon',\n",
       "       'Acrocephalus melanopogon', 'Acrocephalus melanopogon',\n",
       "       'Acrocephalus melanopogon', 'Acrocephalus melanopogon',\n",
       "       'Acrocephalus melanopogon', 'Acrocephalus melanopogon',\n",
       "       'Acrocephalus melanopogon', 'Acrocephalus melanopogon'],\n",
       "      dtype='<U25')"
      ]
     },
     "metadata": {},
     "output_type": "display_data"
    }
   ],
   "source": [
    "display(len(train_y))\n",
    "display(train_y[:10])\n",
    "\n",
    "display(len(val_y))\n",
    "display(val_y[:10])"
   ]
  },
  {
   "cell_type": "code",
   "execution_count": 32,
   "metadata": {},
   "outputs": [],
   "source": [
    "train_features['label'] = train_y_encoded\n",
    "val_features['label'] = val_y_encoded"
   ]
  },
  {
   "cell_type": "code",
   "execution_count": 33,
   "metadata": {},
   "outputs": [
    {
     "data": {
      "text/plain": [
       "{'train': {'melspectrogram': array([[[2.70414866e-03, 2.79165306e-04, 2.78151976e-06, ...,\n",
       "           2.09090982e-14, 1.00035500e-07, 4.10201886e-06],\n",
       "          [2.85087147e-03, 2.95306839e-04, 3.42857310e-06, ...,\n",
       "           2.42591675e-14, 1.00793242e-07, 4.13385302e-06],\n",
       "          [3.04498922e-03, 3.15533762e-04, 4.71718391e-06, ...,\n",
       "           3.06456201e-14, 1.02097112e-07, 4.18868937e-06],\n",
       "          ...,\n",
       "          [4.71950382e-06, 6.96979924e-07, 9.83989841e-06, ...,\n",
       "           4.76671411e-08, 2.59462464e-08, 1.32848568e-07],\n",
       "          [4.43196142e-06, 4.70733005e-07, 1.06044568e-07, ...,\n",
       "           2.24950763e-10, 2.39690650e-09, 9.34205219e-08],\n",
       "          [4.34125244e-06, 4.54310514e-07, 3.83112779e-09, ...,\n",
       "           6.16144049e-13, 1.95562647e-09, 8.06973052e-08]],\n",
       "  \n",
       "         [[1.73426295e-05, 3.63408438e-06, 4.80290598e-13, ...,\n",
       "           1.60876280e-14, 7.00188949e-08, 1.07775013e-06],\n",
       "          [1.84753151e-05, 3.87795431e-06, 5.39064175e-13, ...,\n",
       "           2.48021127e-14, 7.05198033e-08, 1.08664800e-06],\n",
       "          [2.04588793e-05, 4.30499024e-06, 6.48974409e-13, ...,\n",
       "           4.23482850e-14, 7.14385292e-08, 1.10314929e-06],\n",
       "          ...,\n",
       "          [3.96494239e-05, 1.00302657e-05, 1.57459005e-06, ...,\n",
       "           4.01477919e-08, 4.75987657e-06, 7.04755487e-05],\n",
       "          [3.67085359e-05, 7.86056852e-06, 1.57349826e-08, ...,\n",
       "           1.53969906e-10, 4.29632397e-06, 6.42517428e-05],\n",
       "          [3.50700349e-05, 7.49661568e-06, 6.95534630e-12, ...,\n",
       "           2.00168533e-13, 4.05157044e-06, 6.05970857e-05]],\n",
       "  \n",
       "         [[1.39905270e-03, 1.33439757e-04, 5.75273763e-13, ...,\n",
       "           5.89841679e-15, 2.38372515e-06, 6.72347600e-05],\n",
       "          [1.40995976e-03, 1.34493797e-04, 7.78146365e-13, ...,\n",
       "           5.89168719e-15, 2.39343733e-06, 6.75112785e-05],\n",
       "          [1.42874367e-03, 1.36310827e-04, 1.17197668e-12, ...,\n",
       "           5.91434109e-15, 2.40969361e-06, 6.79760697e-05],\n",
       "          ...,\n",
       "          [4.59703481e-05, 7.59484151e-06, 3.31000770e-06, ...,\n",
       "           2.19214266e-07, 4.23863572e-07, 4.99294751e-06],\n",
       "          [3.20205388e-05, 3.08347345e-06, 2.79666755e-08, ...,\n",
       "           4.69631745e-10, 1.64111417e-07, 4.64225419e-06],\n",
       "          [2.75633313e-05, 2.63967036e-06, 1.70151279e-11, ...,\n",
       "           6.40257895e-13, 1.57878817e-07, 4.48530469e-06]],\n",
       "  \n",
       "         ...,\n",
       "  \n",
       "         [[5.06434348e-05, 9.09517381e-06, 1.52639599e-14, ...,\n",
       "           5.69565579e-13, 2.31836661e-06, 1.23076619e-04],\n",
       "          [5.55218977e-05, 1.00320887e-05, 2.95995962e-14, ...,\n",
       "           6.60314978e-13, 2.35852713e-06, 1.25182668e-04],\n",
       "          [6.37263562e-05, 1.16083006e-05, 1.14836980e-13, ...,\n",
       "           9.92855998e-13, 2.42734571e-06, 1.28778994e-04],\n",
       "          ...,\n",
       "          [2.96187718e-04, 5.68894053e-05, 1.47466885e-09, ...,\n",
       "           4.53442650e-08, 4.78775768e-07, 4.50262898e-06],\n",
       "          [2.84664897e-04, 5.46768209e-05, 6.64319276e-12, ...,\n",
       "           5.44945204e-11, 4.76368422e-08, 2.45046971e-06],\n",
       "          [2.77596122e-04, 5.33190259e-05, 5.50000942e-15, ...,\n",
       "           2.03706242e-14, 4.04135928e-08, 2.11266646e-06]],\n",
       "  \n",
       "         [[5.56861646e-05, 7.75421187e-06, 5.67162777e-13, ...,\n",
       "           2.99704819e-12, 2.66991946e-06, 9.18656481e-05],\n",
       "          [5.57014747e-05, 7.76113961e-06, 6.57309546e-13, ...,\n",
       "           3.33602974e-12, 2.74875521e-06, 9.43955498e-05],\n",
       "          [5.57237387e-05, 7.77350195e-06, 1.14769264e-12, ...,\n",
       "           7.37023754e-12, 2.88360077e-06, 9.86423159e-05],\n",
       "          ...,\n",
       "          [2.85943282e-05, 3.87109110e-06, 1.40175530e-08, ...,\n",
       "           1.93152139e-06, 2.60577479e-06, 1.51937388e-05],\n",
       "          [2.71836699e-05, 3.67603141e-06, 6.09528175e-11, ...,\n",
       "           4.58665303e-09, 4.21866406e-07, 1.38566840e-05],\n",
       "          [2.63366889e-05, 3.56136722e-06, 6.45853468e-14, ...,\n",
       "           1.32588386e-11, 4.00097029e-07, 1.33085883e-05]],\n",
       "  \n",
       "         [[5.08842227e-05, 4.11923279e-06, 1.80624602e-13, ...,\n",
       "           1.22436387e-13, 7.28907259e-06, 1.16067580e-04],\n",
       "          [5.17514505e-05, 4.18895742e-06, 2.00314317e-13, ...,\n",
       "           5.55760340e-13, 7.35569525e-06, 1.17167682e-04],\n",
       "          [5.32323621e-05, 4.30770062e-06, 2.87563927e-13, ...,\n",
       "           1.49348624e-11, 7.46034943e-06, 1.18888211e-04],\n",
       "          ...,\n",
       "          [1.82674126e-06, 3.97582696e-07, 1.90684223e-07, ...,\n",
       "           1.31639087e-06, 1.34078768e-06, 4.33230117e-06],\n",
       "          [9.93346823e-07, 8.12699815e-08, 1.61171735e-09, ...,\n",
       "           1.50839142e-08, 1.99053998e-07, 3.10586924e-06],\n",
       "          [8.70749282e-07, 6.98577905e-08, 6.69438056e-13, ...,\n",
       "           1.15469170e-11, 1.62286066e-07, 2.63052798e-06]]]),\n",
       "  'mfcc': array([[[-1.        , -1.        , -1.        , ..., -1.        ,\n",
       "           -1.        , -1.        ],\n",
       "          [ 0.        ,  0.        ,  0.        , ..., -0.17373779,\n",
       "           -0.15781579, -0.05468241],\n",
       "          [ 0.        ,  0.        ,  0.        , ..., -0.39485264,\n",
       "           -0.38463603, -0.29000239],\n",
       "          ...,\n",
       "          [ 0.        ,  0.        ,  0.        , ...,  0.02551025,\n",
       "            0.0194228 ,  0.00951044],\n",
       "          [ 0.        ,  0.        ,  0.        , ...,  0.04056614,\n",
       "            0.05098266,  0.05237005],\n",
       "          [ 0.        ,  0.        ,  0.        , ..., -0.02892263,\n",
       "           -0.0435002 , -0.03670363]],\n",
       "  \n",
       "         [[-1.        , -1.        , -1.        , ..., -1.        ,\n",
       "           -1.        , -1.        ],\n",
       "          [-0.1250103 , -0.14365384, -0.14427565, ..., -0.14800547,\n",
       "           -0.27352785, -0.32687188],\n",
       "          [-0.29100875, -0.34141116, -0.34730072, ..., -0.35557446,\n",
       "           -0.33805607, -0.27873464],\n",
       "          ...,\n",
       "          [ 0.00269876, -0.00462969, -0.01050022, ..., -0.01653787,\n",
       "           -0.03339773, -0.03757058],\n",
       "          [ 0.00400064,  0.00574322,  0.00192427, ...,  0.01209587,\n",
       "            0.02777838,  0.02106539],\n",
       "          [-0.00302651, -0.00398999, -0.00612853, ...,  0.02050334,\n",
       "            0.02001798,  0.02699105]],\n",
       "  \n",
       "         [[-1.        , -1.        , -1.        , ..., -1.        ,\n",
       "           -1.        , -1.        ],\n",
       "          [-0.02042024, -0.08514001, -0.12648469, ..., -0.19249881,\n",
       "           -0.13378753, -0.03346993],\n",
       "          [-0.22455168, -0.28027467, -0.31234968, ..., -0.37973282,\n",
       "           -0.33874314, -0.23838497],\n",
       "          ...,\n",
       "          [ 0.00641527,  0.00341021, -0.00260231, ..., -0.03104352,\n",
       "           -0.03002155, -0.03346619],\n",
       "          [ 0.03143024,  0.02779777,  0.03388032, ...,  0.0102597 ,\n",
       "            0.02296281,  0.01447938],\n",
       "          [-0.02621753, -0.02771605, -0.03030736, ...,  0.02567885,\n",
       "            0.01756717,  0.02173806]],\n",
       "  \n",
       "         ...,\n",
       "  \n",
       "         [[-1.        , -1.        , -1.        , ..., -1.        ,\n",
       "           -1.        , -1.        ],\n",
       "          [-0.11279961, -0.09692901, -0.08578303, ..., -0.1176853 ,\n",
       "           -0.13632333, -0.06050285],\n",
       "          [-0.49731987, -0.55674417, -0.59895944, ..., -0.64550887,\n",
       "           -0.54392418, -0.4458609 ],\n",
       "          ...,\n",
       "          [ 0.01744117,  0.01418096, -0.02485191, ..., -0.0062013 ,\n",
       "           -0.00940606, -0.00931153],\n",
       "          [-0.03885929, -0.02161129, -0.00516484, ..., -0.00586994,\n",
       "           -0.00590585,  0.00410327],\n",
       "          [-0.02937522, -0.00585464, -0.01466625, ..., -0.04743522,\n",
       "           -0.04039878, -0.02412593]],\n",
       "  \n",
       "         [[-1.        , -1.        , -1.        , ..., -1.        ,\n",
       "           -1.        , -1.        ],\n",
       "          [ 0.02975485,  0.0212539 ,  0.00443176, ..., -0.03201306,\n",
       "           -0.02572209,  0.03827351],\n",
       "          [-0.38589112, -0.44974588, -0.47539009, ..., -0.28333064,\n",
       "           -0.26789213, -0.21379362],\n",
       "          ...,\n",
       "          [ 0.00130686, -0.00482763, -0.0050046 , ..., -0.01117125,\n",
       "           -0.01056705, -0.00358769],\n",
       "          [-0.01129816, -0.01124566, -0.00370088, ...,  0.00727175,\n",
       "            0.00299851,  0.0038515 ],\n",
       "          [-0.02025784, -0.01979136, -0.02186905, ..., -0.02604713,\n",
       "           -0.01868253, -0.00498709]],\n",
       "  \n",
       "         [[-1.        , -1.        , -1.        , ..., -1.        ,\n",
       "           -1.        , -1.        ],\n",
       "          [-0.0429573 , -0.09994193, -0.18008914, ..., -0.02071375,\n",
       "           -0.00175443,  0.00660948],\n",
       "          [-0.46330191, -0.58651592, -0.6687421 , ..., -0.18496168,\n",
       "           -0.1864368 , -0.16813055],\n",
       "          ...,\n",
       "          [ 0.00294732,  0.01416223, -0.00517411, ...,  0.00539114,\n",
       "            0.00391434,  0.00583776],\n",
       "          [ 0.00588758,  0.01734421,  0.00714383, ...,  0.02321898,\n",
       "            0.01662294,  0.01354547],\n",
       "          [-0.02734336, -0.03985411, -0.05648294, ..., -0.00336891,\n",
       "           -0.01338007, -0.01864067]]]),\n",
       "  'label': array([1, 1, 1, ..., 5, 5, 5])},\n",
       " 'val': {'melspectrogram': array([[[3.20727065e-05, 1.70512106e-06, 1.61698192e-11, ...,\n",
       "           6.99078403e-15, 9.09006570e-05, 4.15736281e-04],\n",
       "          [3.22422717e-05, 1.71387116e-06, 1.71018208e-11, ...,\n",
       "           7.35246074e-15, 9.10404223e-05, 4.16374167e-04],\n",
       "          [3.25622734e-05, 1.73066317e-06, 2.72505511e-11, ...,\n",
       "           8.27085953e-15, 9.12738954e-05, 4.17439906e-04],\n",
       "          ...,\n",
       "          [5.14212831e-05, 6.76458209e-06, 2.39359128e-06, ...,\n",
       "           1.27000189e-09, 6.52113586e-06, 2.99078099e-05],\n",
       "          [3.93156198e-05, 2.11725020e-06, 1.69905801e-08, ...,\n",
       "           8.64497294e-12, 5.84504725e-06, 2.68147563e-05],\n",
       "          [3.57245249e-05, 1.90032216e-06, 7.52069991e-12, ...,\n",
       "           5.09266877e-15, 5.44659452e-06, 2.49888465e-05]],\n",
       "  \n",
       "         [[4.32216167e-05, 1.06441040e-05, 5.35616229e-14, ...,\n",
       "           1.22390666e-15, 9.81753704e-07, 7.84455117e-05],\n",
       "          [4.38289053e-05, 1.07966869e-05, 5.72430310e-14, ...,\n",
       "           1.38323235e-15, 9.84363301e-07, 7.86690257e-05],\n",
       "          [4.48509481e-05, 1.10535462e-05, 6.44837344e-14, ...,\n",
       "           2.30541879e-15, 9.89100611e-07, 7.90444729e-05],\n",
       "          ...,\n",
       "          [1.65377342e-04, 4.14041947e-05, 4.28108612e-09, ...,\n",
       "           1.08349139e-09, 7.13780353e-08, 4.90441071e-06],\n",
       "          [1.55668963e-04, 3.89724709e-05, 1.22159692e-11, ...,\n",
       "           7.01587187e-12, 6.19931675e-08, 4.92205459e-06],\n",
       "          [1.49847184e-04, 3.75147347e-05, 1.57571033e-14, ...,\n",
       "           3.46565216e-15, 6.16604896e-08, 4.89650250e-06]],\n",
       "  \n",
       "         [[1.38927692e-04, 3.73340197e-05, 2.31414740e-14, ...,\n",
       "           1.44602135e-15, 1.54577526e-06, 2.46019279e-05],\n",
       "          [1.39140752e-04, 3.73912040e-05, 2.33982592e-14, ...,\n",
       "           1.72776902e-15, 1.54839888e-06, 2.46440843e-05],\n",
       "          [1.39496761e-04, 3.74867442e-05, 2.45355225e-14, ...,\n",
       "           3.61964461e-15, 1.55279160e-06, 2.47145718e-05],\n",
       "          ...,\n",
       "          [1.00004560e-05, 2.69248110e-06, 6.55983400e-10, ...,\n",
       "           1.91234928e-09, 9.63909150e-07, 1.54465206e-05],\n",
       "          [8.96621221e-06, 2.41407134e-06, 2.13633533e-12, ...,\n",
       "           8.59856703e-12, 9.01459447e-07, 1.44675063e-05],\n",
       "          [8.35582884e-06, 2.24984669e-06, 3.16834660e-15, ...,\n",
       "           9.78408366e-15, 8.64688978e-07, 1.38790515e-05]],\n",
       "  \n",
       "         ...,\n",
       "  \n",
       "         [[5.85685885e-06, 6.45287035e-07, 1.01928568e-12, ...,\n",
       "           4.14132927e-14, 2.52466254e-04, 3.73900307e-03],\n",
       "          [6.64906224e-06, 7.28075395e-07, 1.16348655e-12, ...,\n",
       "           7.54129709e-14, 2.53894745e-04, 3.76002988e-03],\n",
       "          [8.08529440e-06, 8.78169977e-07, 1.45529703e-12, ...,\n",
       "           2.59712300e-13, 2.56293834e-04, 3.79535250e-03],\n",
       "          ...,\n",
       "          [4.95372932e-05, 5.29086241e-06, 1.22242434e-15, ...,\n",
       "           1.83764816e-08, 5.61301721e-06, 8.34868620e-05],\n",
       "          [4.71100085e-05, 5.03203802e-06, 1.80135151e-14, ...,\n",
       "           1.01521132e-10, 5.28826148e-06, 7.87342156e-05],\n",
       "          [4.56486621e-05, 4.87608923e-06, 1.22029272e-15, ...,\n",
       "           8.35177462e-14, 5.09690081e-06, 7.58873318e-05]],\n",
       "  \n",
       "         [[4.23283280e-04, 6.53650051e-05, 4.62698290e-13, ...,\n",
       "           5.98409383e-15, 7.17400242e-06, 1.47156986e-04],\n",
       "          [4.26951456e-04, 6.59205835e-05, 4.81440644e-13, ...,\n",
       "           2.35676114e-14, 7.22966105e-06, 1.48335237e-04],\n",
       "          [4.33117279e-04, 6.68527595e-05, 5.13051426e-13, ...,\n",
       "           6.48273492e-14, 7.32293780e-06, 1.50313838e-04],\n",
       "          ...,\n",
       "          [2.69235020e-05, 4.12765938e-06, 1.32721433e-09, ...,\n",
       "           5.79256732e-12, 1.50922571e-08, 3.05643743e-07],\n",
       "          [2.58037485e-05, 3.95543505e-06, 7.75124832e-12, ...,\n",
       "           2.40201079e-12, 1.42548845e-08, 2.89060788e-07],\n",
       "          [2.51270802e-05, 3.85166562e-06, 1.08110254e-15, ...,\n",
       "           3.42698994e-16, 1.38444811e-08, 2.80715988e-07]],\n",
       "  \n",
       "         [[2.97158252e-03, 2.85226650e-04, 4.52995963e-13, ...,\n",
       "           4.84470662e-14, 5.84296734e-05, 1.70908113e-03],\n",
       "          [2.98828107e-03, 2.86823808e-04, 4.97379536e-13, ...,\n",
       "           5.45144784e-14, 5.91099166e-05, 1.72915237e-03],\n",
       "          [3.01631448e-03, 2.89505767e-04, 5.77359655e-13, ...,\n",
       "           7.53752136e-14, 6.02711945e-05, 1.76340203e-03],\n",
       "          ...,\n",
       "          [6.64369358e-05, 6.39903299e-06, 3.32201681e-10, ...,\n",
       "           8.51727042e-10, 9.32834658e-07, 2.68121931e-05],\n",
       "          [6.26423131e-05, 6.03302597e-06, 5.71884228e-12, ...,\n",
       "           3.69160296e-13, 8.88846173e-07, 2.56327751e-05],\n",
       "          [6.03767730e-05, 5.81491758e-06, 7.10682441e-15, ...,\n",
       "           3.65576162e-15, 8.64249566e-07, 2.49212923e-05]]]),\n",
       "  'mfcc': array([[[-1.00000000e+00, -1.00000000e+00, -1.00000000e+00, ...,\n",
       "           -1.00000000e+00, -1.00000000e+00, -1.00000000e+00],\n",
       "          [ 0.00000000e+00, -4.21115694e-03, -1.40191113e-02, ...,\n",
       "           -2.80925419e-01, -8.81853179e-02,  8.71704823e-04],\n",
       "          [ 0.00000000e+00, -6.02528820e-03, -3.05556453e-02, ...,\n",
       "           -5.05988784e-01, -3.32429502e-01, -2.65389669e-01],\n",
       "          ...,\n",
       "          [ 0.00000000e+00,  1.73029867e-03,  1.44067490e-03, ...,\n",
       "            2.62413701e-02,  2.97358474e-02,  4.41919757e-02],\n",
       "          [ 0.00000000e+00, -9.87490846e-04,  3.90160627e-03, ...,\n",
       "            2.05495336e-02,  3.22354432e-02,  1.85131726e-02],\n",
       "          [ 0.00000000e+00,  2.31647256e-03,  3.03908238e-03, ...,\n",
       "           -4.18931081e-02, -4.97590135e-02, -6.25022653e-02]],\n",
       "  \n",
       "         [[-1.00000000e+00, -1.00000000e+00, -1.00000000e+00, ...,\n",
       "           -1.00000000e+00, -1.00000000e+00, -1.00000000e+00],\n",
       "          [-2.87259790e-01, -3.14666940e-01, -2.75510199e-01, ...,\n",
       "           -2.62641065e-01, -2.19813280e-01, -1.50801132e-01],\n",
       "          [-2.99974657e-01, -3.60342878e-01, -3.96446309e-01, ...,\n",
       "           -4.42418738e-01, -3.30485710e-01, -2.84583300e-01],\n",
       "          ...,\n",
       "          [ 6.81462152e-03,  1.00379751e-02,  1.36595230e-02, ...,\n",
       "            7.68045085e-04,  3.17950558e-03,  1.22476324e-03],\n",
       "          [ 3.33370876e-02,  1.82451404e-02,  1.20838226e-02, ...,\n",
       "           -1.47480078e-03, -8.54561902e-03, -1.86226073e-02],\n",
       "          [-3.88050544e-03, -9.76951106e-03, -2.16310706e-02, ...,\n",
       "           -7.97306195e-03,  9.15351175e-03,  1.32817715e-02]],\n",
       "  \n",
       "         [[-1.00000000e+00, -1.00000000e+00, -1.00000000e+00, ...,\n",
       "           -1.00000000e+00, -1.00000000e+00, -1.00000000e+00],\n",
       "          [-1.70420180e-02, -1.13315872e-01, -3.01735455e-01, ...,\n",
       "           -2.85902753e-01, -3.00497382e-01, -2.61680590e-01],\n",
       "          [-3.14542538e-01, -4.47126624e-01, -5.24059540e-01, ...,\n",
       "           -3.80459492e-01, -3.90703494e-01, -3.12929899e-01],\n",
       "          ...,\n",
       "          [ 8.16031035e-02,  5.82802047e-02,  1.73431266e-02, ...,\n",
       "           -6.12869786e-03,  2.66722072e-03,  1.66162565e-02],\n",
       "          [-9.25535235e-03, -1.83547101e-02,  1.06266112e-02, ...,\n",
       "            1.45776850e-04,  5.58284222e-03,  8.67375921e-03],\n",
       "          [-5.99303601e-02, -3.70690943e-02, -2.25652266e-02, ...,\n",
       "           -9.85422196e-04, -2.58037557e-02, -3.05814471e-02]],\n",
       "  \n",
       "         ...,\n",
       "  \n",
       "         [[-1.00000000e+00, -1.00000000e+00, -1.00000000e+00, ...,\n",
       "           -1.00000000e+00, -1.00000000e+00, -1.00000000e+00],\n",
       "          [-6.13150563e-02, -8.43447404e-02, -9.26630414e-02, ...,\n",
       "           -1.44843915e-02,  1.12135017e-01,  2.05546686e-01],\n",
       "          [-4.73658380e-01, -6.22527596e-01, -6.87383776e-01, ...,\n",
       "           -4.57538648e-01, -4.59801448e-01, -3.87227675e-01],\n",
       "          ...,\n",
       "          [-1.00383857e-02,  5.10007919e-04,  9.26022056e-04, ...,\n",
       "           -4.89370215e-03, -4.09795280e-03,  2.38358089e-03],\n",
       "          [-2.34841643e-02, -1.82798607e-02, -1.66465712e-02, ...,\n",
       "           -1.77749401e-02, -1.50930882e-02, -1.88112849e-02],\n",
       "          [-1.68259500e-02, -3.69550261e-02, -1.47661030e-02, ...,\n",
       "           -1.30854453e-02, -3.89672760e-02, -4.45556259e-02]],\n",
       "  \n",
       "         [[-1.00000000e+00, -1.00000000e+00, -1.00000000e+00, ...,\n",
       "           -1.00000000e+00, -1.00000000e+00, -1.00000000e+00],\n",
       "          [ 2.12016359e-01,  1.76740728e-01, -3.45304104e-02, ...,\n",
       "           -4.71646232e-02,  1.30428884e-01,  2.56795621e-01],\n",
       "          [-3.30695231e-01, -4.14236476e-01, -5.46562621e-01, ...,\n",
       "           -6.32970264e-01, -6.36139557e-01, -5.40973127e-01],\n",
       "          ...,\n",
       "          [-2.52669305e-02, -7.39251218e-03,  2.91513977e-04, ...,\n",
       "            3.60486056e-03,  1.76464695e-02,  2.60957581e-02],\n",
       "          [-2.91125626e-02, -3.56826737e-02, -2.92342841e-02, ...,\n",
       "           -1.61637240e-02, -3.33190639e-02, -3.13166196e-02],\n",
       "          [-1.25007466e-02, -3.61529321e-02, -3.46428589e-02, ...,\n",
       "           -1.05832062e-02, -1.32985068e-02, -3.08494004e-02]],\n",
       "  \n",
       "         [[-1.00000000e+00, -1.00000000e+00, -1.00000000e+00, ...,\n",
       "           -1.00000000e+00, -1.00000000e+00, -1.00000000e+00],\n",
       "          [ 2.26736736e-01,  1.99539721e-01, -1.94516159e-02, ...,\n",
       "           -9.92759876e-02,  9.65391290e-02,  2.03540270e-01],\n",
       "          [-3.84792792e-01, -4.90711772e-01, -5.96960290e-01, ...,\n",
       "           -6.46659523e-01, -4.90625507e-01, -3.77913846e-01],\n",
       "          ...,\n",
       "          [-1.17734264e-02, -1.40349750e-02, -5.13454502e-03, ...,\n",
       "           -4.00758371e-03,  1.22213143e-02,  1.23206477e-02],\n",
       "          [-4.44058976e-03, -1.03469680e-02, -9.71319233e-03, ...,\n",
       "           -3.04325411e-02, -2.84355036e-02, -1.94083188e-02],\n",
       "          [-1.56179342e-02, -9.66299050e-03, -2.74065941e-03, ...,\n",
       "           -3.17782573e-02, -3.10468596e-02, -1.73763011e-02]]]),\n",
       "  'label': array([1, 1, 1, ..., 5, 5, 5])}}"
      ]
     },
     "execution_count": 33,
     "metadata": {},
     "output_type": "execute_result"
    }
   ],
   "source": [
    "merged_dict = {'train': train_features, 'val': val_features}\n",
    "merged_dict"
   ]
  },
  {
   "cell_type": "markdown",
   "metadata": {},
   "source": [
    "### Save the merged dictionary to a pkl"
   ]
  },
  {
   "cell_type": "code",
   "execution_count": 34,
   "metadata": {},
   "outputs": [],
   "source": [
    "with open('C:/Users/thato/Documents/Final-Year-Project/Dataset/Project-V4/feature-extraction/NotAnnotated/NotAveragePooled/split_features_6s_mel_mfcc.pkl', 'wb') as file:\n",
    "  pickle.dump(merged_dict, file)"
   ]
  },
  {
   "cell_type": "markdown",
   "metadata": {},
   "source": [
    "### **['melspectrogram', 'mfcc', 'chroma']**"
   ]
  },
  {
   "cell_type": "code",
   "execution_count": 35,
   "metadata": {},
   "outputs": [],
   "source": [
    "features_list = ['melspectrogram', 'mfcc', 'chroma']"
   ]
  },
  {
   "cell_type": "code",
   "execution_count": 36,
   "metadata": {},
   "outputs": [
    {
     "name": "stdout",
     "output_type": "stream",
     "text": [
      "Train DataFrame shape: (485, 6)\n",
      "Validation DataFrame shape: (130, 6)\n",
      "Number of rows in dataframe: 485\n"
     ]
    },
    {
     "name": "stderr",
     "output_type": "stream",
     "text": [
      "Processing data: 100%|██████████| 485/485 [05:24<00:00,  1.49it/s]\n"
     ]
    },
    {
     "name": "stdout",
     "output_type": "stream",
     "text": [
      "Number of rows in dataframe: 130\n"
     ]
    },
    {
     "name": "stderr",
     "output_type": "stream",
     "text": [
      "Processing data: 100%|██████████| 130/130 [00:58<00:00,  2.23it/s]\n"
     ]
    }
   ],
   "source": [
    "features = Extraction(train_data,\n",
    "                      val_data,\n",
    "                      window_size=6,\n",
    "                      features=features_list,\n",
    "                      avgpool=False\n",
    "                      )"
   ]
  },
  {
   "cell_type": "code",
   "execution_count": 37,
   "metadata": {},
   "outputs": [
    {
     "data": {
      "text/plain": [
       "(7105,)"
      ]
     },
     "metadata": {},
     "output_type": "display_data"
    },
    {
     "data": {
      "text/plain": [
       "'melspectrogram'"
      ]
     },
     "metadata": {},
     "output_type": "display_data"
    },
    {
     "data": {
      "text/plain": [
       "(7105, 60, 259)"
      ]
     },
     "metadata": {},
     "output_type": "display_data"
    },
    {
     "data": {
      "text/plain": [
       "'mfcc'"
      ]
     },
     "metadata": {},
     "output_type": "display_data"
    },
    {
     "data": {
      "text/plain": [
       "(7105, 20, 259)"
      ]
     },
     "metadata": {},
     "output_type": "display_data"
    },
    {
     "data": {
      "text/plain": [
       "'chroma'"
      ]
     },
     "metadata": {},
     "output_type": "display_data"
    },
    {
     "data": {
      "text/plain": [
       "(7105, 12, 259)"
      ]
     },
     "metadata": {},
     "output_type": "display_data"
    }
   ],
   "source": [
    "train_y = features.train_y\n",
    "display(train_y.shape)\n",
    "\n",
    "train_features = features.train_features\n",
    "for key in train_features.keys():\n",
    "  display(key)\n",
    "  display(train_features[key].shape)"
   ]
  },
  {
   "cell_type": "code",
   "execution_count": 38,
   "metadata": {},
   "outputs": [
    {
     "data": {
      "text/plain": [
       "(1896,)"
      ]
     },
     "metadata": {},
     "output_type": "display_data"
    },
    {
     "data": {
      "text/plain": [
       "'melspectrogram'"
      ]
     },
     "metadata": {},
     "output_type": "display_data"
    },
    {
     "data": {
      "text/plain": [
       "(1896, 60, 259)"
      ]
     },
     "metadata": {},
     "output_type": "display_data"
    },
    {
     "data": {
      "text/plain": [
       "'mfcc'"
      ]
     },
     "metadata": {},
     "output_type": "display_data"
    },
    {
     "data": {
      "text/plain": [
       "(1896, 20, 259)"
      ]
     },
     "metadata": {},
     "output_type": "display_data"
    },
    {
     "data": {
      "text/plain": [
       "'chroma'"
      ]
     },
     "metadata": {},
     "output_type": "display_data"
    },
    {
     "data": {
      "text/plain": [
       "(1896, 12, 259)"
      ]
     },
     "metadata": {},
     "output_type": "display_data"
    }
   ],
   "source": [
    "val_y = features.val_y\n",
    "display(val_y.shape)\n",
    "\n",
    "val_features = features.val_features\n",
    "for key in val_features.keys():\n",
    "  display(key)\n",
    "  display(val_features[key].shape)"
   ]
  },
  {
   "cell_type": "markdown",
   "metadata": {},
   "source": [
    "### Encode Classes"
   ]
  },
  {
   "cell_type": "code",
   "execution_count": 39,
   "metadata": {},
   "outputs": [
    {
     "name": "stdout",
     "output_type": "stream",
     "text": [
      "Encoded classes for [0, 1, 2]: ['Acrocephalus arundinaceus', 'Acrocephalus melanopogon', 'Acrocephalus scirpaceus']\n",
      "Encoded training labels: [1 1 1 ... 5 5 5]\n",
      "Encoded validation labels: [1 1 1 ... 5 5 5]\n"
     ]
    }
   ],
   "source": [
    "label_encoder = LabelEncoder().fit(train_y)\n",
    "train_y_encoded = label_encoder.transform(train_y)\n",
    "val_y_encoded = label_encoder.transform(val_y)\n",
    "\n",
    "classes = list(label_encoder.inverse_transform([0, 1, 2]))\n",
    "print(\"Encoded classes for [0, 1, 2]:\", classes)\n",
    "print(\"Encoded training labels:\", train_y_encoded)\n",
    "print(\"Encoded validation labels:\", val_y_encoded)"
   ]
  },
  {
   "cell_type": "code",
   "execution_count": 40,
   "metadata": {},
   "outputs": [
    {
     "data": {
      "text/plain": [
       "7105"
      ]
     },
     "metadata": {},
     "output_type": "display_data"
    },
    {
     "data": {
      "text/plain": [
       "array(['Acrocephalus melanopogon', 'Acrocephalus melanopogon',\n",
       "       'Acrocephalus melanopogon', 'Acrocephalus melanopogon',\n",
       "       'Acrocephalus melanopogon', 'Acrocephalus melanopogon',\n",
       "       'Acrocephalus melanopogon', 'Acrocephalus melanopogon',\n",
       "       'Acrocephalus melanopogon', 'Acrocephalus melanopogon'],\n",
       "      dtype='<U25')"
      ]
     },
     "metadata": {},
     "output_type": "display_data"
    },
    {
     "data": {
      "text/plain": [
       "1896"
      ]
     },
     "metadata": {},
     "output_type": "display_data"
    },
    {
     "data": {
      "text/plain": [
       "array(['Acrocephalus melanopogon', 'Acrocephalus melanopogon',\n",
       "       'Acrocephalus melanopogon', 'Acrocephalus melanopogon',\n",
       "       'Acrocephalus melanopogon', 'Acrocephalus melanopogon',\n",
       "       'Acrocephalus melanopogon', 'Acrocephalus melanopogon',\n",
       "       'Acrocephalus melanopogon', 'Acrocephalus melanopogon'],\n",
       "      dtype='<U25')"
      ]
     },
     "metadata": {},
     "output_type": "display_data"
    }
   ],
   "source": [
    "display(len(train_y))\n",
    "display(train_y[:10])\n",
    "\n",
    "display(len(val_y))\n",
    "display(val_y[:10])"
   ]
  },
  {
   "cell_type": "code",
   "execution_count": 41,
   "metadata": {},
   "outputs": [],
   "source": [
    "train_features['label'] = train_y_encoded\n",
    "val_features['label'] = val_y_encoded"
   ]
  },
  {
   "cell_type": "code",
   "execution_count": 42,
   "metadata": {},
   "outputs": [
    {
     "data": {
      "text/plain": [
       "{'train': {'melspectrogram': array([[[2.70414866e-03, 2.79165306e-04, 2.78151976e-06, ...,\n",
       "           2.09090982e-14, 1.00035500e-07, 4.10201886e-06],\n",
       "          [2.85087147e-03, 2.95306839e-04, 3.42857310e-06, ...,\n",
       "           2.42591675e-14, 1.00793242e-07, 4.13385302e-06],\n",
       "          [3.04498922e-03, 3.15533762e-04, 4.71718391e-06, ...,\n",
       "           3.06456201e-14, 1.02097112e-07, 4.18868937e-06],\n",
       "          ...,\n",
       "          [4.71950382e-06, 6.96979924e-07, 9.83989841e-06, ...,\n",
       "           4.76671411e-08, 2.59462464e-08, 1.32848568e-07],\n",
       "          [4.43196142e-06, 4.70733005e-07, 1.06044568e-07, ...,\n",
       "           2.24950763e-10, 2.39690650e-09, 9.34205219e-08],\n",
       "          [4.34125244e-06, 4.54310514e-07, 3.83112779e-09, ...,\n",
       "           6.16144049e-13, 1.95562647e-09, 8.06973052e-08]],\n",
       "  \n",
       "         [[1.73426295e-05, 3.63408438e-06, 4.80290598e-13, ...,\n",
       "           1.60876280e-14, 7.00188949e-08, 1.07775013e-06],\n",
       "          [1.84753151e-05, 3.87795431e-06, 5.39064175e-13, ...,\n",
       "           2.48021127e-14, 7.05198033e-08, 1.08664800e-06],\n",
       "          [2.04588793e-05, 4.30499024e-06, 6.48974409e-13, ...,\n",
       "           4.23482850e-14, 7.14385292e-08, 1.10314929e-06],\n",
       "          ...,\n",
       "          [3.96494239e-05, 1.00302657e-05, 1.57459005e-06, ...,\n",
       "           4.01477919e-08, 4.75987657e-06, 7.04755487e-05],\n",
       "          [3.67085359e-05, 7.86056852e-06, 1.57349826e-08, ...,\n",
       "           1.53969906e-10, 4.29632397e-06, 6.42517428e-05],\n",
       "          [3.50700349e-05, 7.49661568e-06, 6.95534630e-12, ...,\n",
       "           2.00168533e-13, 4.05157044e-06, 6.05970857e-05]],\n",
       "  \n",
       "         [[1.39905270e-03, 1.33439757e-04, 5.75273763e-13, ...,\n",
       "           5.89841679e-15, 2.38372515e-06, 6.72347600e-05],\n",
       "          [1.40995976e-03, 1.34493797e-04, 7.78146365e-13, ...,\n",
       "           5.89168719e-15, 2.39343733e-06, 6.75112785e-05],\n",
       "          [1.42874367e-03, 1.36310827e-04, 1.17197668e-12, ...,\n",
       "           5.91434109e-15, 2.40969361e-06, 6.79760697e-05],\n",
       "          ...,\n",
       "          [4.59703481e-05, 7.59484151e-06, 3.31000770e-06, ...,\n",
       "           2.19214266e-07, 4.23863572e-07, 4.99294751e-06],\n",
       "          [3.20205388e-05, 3.08347345e-06, 2.79666755e-08, ...,\n",
       "           4.69631745e-10, 1.64111417e-07, 4.64225419e-06],\n",
       "          [2.75633313e-05, 2.63967036e-06, 1.70151279e-11, ...,\n",
       "           6.40257895e-13, 1.57878817e-07, 4.48530469e-06]],\n",
       "  \n",
       "         ...,\n",
       "  \n",
       "         [[5.06434348e-05, 9.09517381e-06, 1.52639599e-14, ...,\n",
       "           5.69565579e-13, 2.31836661e-06, 1.23076619e-04],\n",
       "          [5.55218977e-05, 1.00320887e-05, 2.95995962e-14, ...,\n",
       "           6.60314978e-13, 2.35852713e-06, 1.25182668e-04],\n",
       "          [6.37263562e-05, 1.16083006e-05, 1.14836980e-13, ...,\n",
       "           9.92855998e-13, 2.42734571e-06, 1.28778994e-04],\n",
       "          ...,\n",
       "          [2.96187718e-04, 5.68894053e-05, 1.47466885e-09, ...,\n",
       "           4.53442650e-08, 4.78775768e-07, 4.50262898e-06],\n",
       "          [2.84664897e-04, 5.46768209e-05, 6.64319276e-12, ...,\n",
       "           5.44945204e-11, 4.76368422e-08, 2.45046971e-06],\n",
       "          [2.77596122e-04, 5.33190259e-05, 5.50000942e-15, ...,\n",
       "           2.03706242e-14, 4.04135928e-08, 2.11266646e-06]],\n",
       "  \n",
       "         [[5.56861646e-05, 7.75421187e-06, 5.67162777e-13, ...,\n",
       "           2.99704819e-12, 2.66991946e-06, 9.18656481e-05],\n",
       "          [5.57014747e-05, 7.76113961e-06, 6.57309546e-13, ...,\n",
       "           3.33602974e-12, 2.74875521e-06, 9.43955498e-05],\n",
       "          [5.57237387e-05, 7.77350195e-06, 1.14769264e-12, ...,\n",
       "           7.37023754e-12, 2.88360077e-06, 9.86423159e-05],\n",
       "          ...,\n",
       "          [2.85943282e-05, 3.87109110e-06, 1.40175530e-08, ...,\n",
       "           1.93152139e-06, 2.60577479e-06, 1.51937388e-05],\n",
       "          [2.71836699e-05, 3.67603141e-06, 6.09528175e-11, ...,\n",
       "           4.58665303e-09, 4.21866406e-07, 1.38566840e-05],\n",
       "          [2.63366889e-05, 3.56136722e-06, 6.45853468e-14, ...,\n",
       "           1.32588386e-11, 4.00097029e-07, 1.33085883e-05]],\n",
       "  \n",
       "         [[5.08842227e-05, 4.11923279e-06, 1.80624602e-13, ...,\n",
       "           1.22436387e-13, 7.28907259e-06, 1.16067580e-04],\n",
       "          [5.17514505e-05, 4.18895742e-06, 2.00314317e-13, ...,\n",
       "           5.55760340e-13, 7.35569525e-06, 1.17167682e-04],\n",
       "          [5.32323621e-05, 4.30770062e-06, 2.87563927e-13, ...,\n",
       "           1.49348624e-11, 7.46034943e-06, 1.18888211e-04],\n",
       "          ...,\n",
       "          [1.82674126e-06, 3.97582696e-07, 1.90684223e-07, ...,\n",
       "           1.31639087e-06, 1.34078768e-06, 4.33230117e-06],\n",
       "          [9.93346823e-07, 8.12699815e-08, 1.61171735e-09, ...,\n",
       "           1.50839142e-08, 1.99053998e-07, 3.10586924e-06],\n",
       "          [8.70749282e-07, 6.98577905e-08, 6.69438056e-13, ...,\n",
       "           1.15469170e-11, 1.62286066e-07, 2.63052798e-06]]]),\n",
       "  'mfcc': array([[[-1.        , -1.        , -1.        , ..., -1.        ,\n",
       "           -1.        , -1.        ],\n",
       "          [ 0.        ,  0.        ,  0.        , ..., -0.17373779,\n",
       "           -0.15781579, -0.05468241],\n",
       "          [ 0.        ,  0.        ,  0.        , ..., -0.39485264,\n",
       "           -0.38463603, -0.29000239],\n",
       "          ...,\n",
       "          [ 0.        ,  0.        ,  0.        , ...,  0.02551025,\n",
       "            0.0194228 ,  0.00951044],\n",
       "          [ 0.        ,  0.        ,  0.        , ...,  0.04056614,\n",
       "            0.05098266,  0.05237005],\n",
       "          [ 0.        ,  0.        ,  0.        , ..., -0.02892263,\n",
       "           -0.0435002 , -0.03670363]],\n",
       "  \n",
       "         [[-1.        , -1.        , -1.        , ..., -1.        ,\n",
       "           -1.        , -1.        ],\n",
       "          [-0.1250103 , -0.14365384, -0.14427565, ..., -0.14800547,\n",
       "           -0.27352785, -0.32687188],\n",
       "          [-0.29100875, -0.34141116, -0.34730072, ..., -0.35557446,\n",
       "           -0.33805607, -0.27873464],\n",
       "          ...,\n",
       "          [ 0.00269876, -0.00462969, -0.01050022, ..., -0.01653787,\n",
       "           -0.03339773, -0.03757058],\n",
       "          [ 0.00400064,  0.00574322,  0.00192427, ...,  0.01209587,\n",
       "            0.02777838,  0.02106539],\n",
       "          [-0.00302651, -0.00398999, -0.00612853, ...,  0.02050334,\n",
       "            0.02001798,  0.02699105]],\n",
       "  \n",
       "         [[-1.        , -1.        , -1.        , ..., -1.        ,\n",
       "           -1.        , -1.        ],\n",
       "          [-0.02042024, -0.08514001, -0.12648469, ..., -0.19249881,\n",
       "           -0.13378753, -0.03346993],\n",
       "          [-0.22455168, -0.28027467, -0.31234968, ..., -0.37973282,\n",
       "           -0.33874314, -0.23838497],\n",
       "          ...,\n",
       "          [ 0.00641527,  0.00341021, -0.00260231, ..., -0.03104352,\n",
       "           -0.03002155, -0.03346619],\n",
       "          [ 0.03143024,  0.02779777,  0.03388032, ...,  0.0102597 ,\n",
       "            0.02296281,  0.01447938],\n",
       "          [-0.02621753, -0.02771605, -0.03030736, ...,  0.02567885,\n",
       "            0.01756717,  0.02173806]],\n",
       "  \n",
       "         ...,\n",
       "  \n",
       "         [[-1.        , -1.        , -1.        , ..., -1.        ,\n",
       "           -1.        , -1.        ],\n",
       "          [-0.11279961, -0.09692901, -0.08578303, ..., -0.1176853 ,\n",
       "           -0.13632333, -0.06050285],\n",
       "          [-0.49731987, -0.55674417, -0.59895944, ..., -0.64550887,\n",
       "           -0.54392418, -0.4458609 ],\n",
       "          ...,\n",
       "          [ 0.01744117,  0.01418096, -0.02485191, ..., -0.0062013 ,\n",
       "           -0.00940606, -0.00931153],\n",
       "          [-0.03885929, -0.02161129, -0.00516484, ..., -0.00586994,\n",
       "           -0.00590585,  0.00410327],\n",
       "          [-0.02937522, -0.00585464, -0.01466625, ..., -0.04743522,\n",
       "           -0.04039878, -0.02412593]],\n",
       "  \n",
       "         [[-1.        , -1.        , -1.        , ..., -1.        ,\n",
       "           -1.        , -1.        ],\n",
       "          [ 0.02975485,  0.0212539 ,  0.00443176, ..., -0.03201306,\n",
       "           -0.02572209,  0.03827351],\n",
       "          [-0.38589112, -0.44974588, -0.47539009, ..., -0.28333064,\n",
       "           -0.26789213, -0.21379362],\n",
       "          ...,\n",
       "          [ 0.00130686, -0.00482763, -0.0050046 , ..., -0.01117125,\n",
       "           -0.01056705, -0.00358769],\n",
       "          [-0.01129816, -0.01124566, -0.00370088, ...,  0.00727175,\n",
       "            0.00299851,  0.0038515 ],\n",
       "          [-0.02025784, -0.01979136, -0.02186905, ..., -0.02604713,\n",
       "           -0.01868253, -0.00498709]],\n",
       "  \n",
       "         [[-1.        , -1.        , -1.        , ..., -1.        ,\n",
       "           -1.        , -1.        ],\n",
       "          [-0.0429573 , -0.09994193, -0.18008914, ..., -0.02071375,\n",
       "           -0.00175443,  0.00660948],\n",
       "          [-0.46330191, -0.58651592, -0.6687421 , ..., -0.18496168,\n",
       "           -0.1864368 , -0.16813055],\n",
       "          ...,\n",
       "          [ 0.00294732,  0.01416223, -0.00517411, ...,  0.00539114,\n",
       "            0.00391434,  0.00583776],\n",
       "          [ 0.00588758,  0.01734421,  0.00714383, ...,  0.02321898,\n",
       "            0.01662294,  0.01354547],\n",
       "          [-0.02734336, -0.03985411, -0.05648294, ..., -0.00336891,\n",
       "           -0.01338007, -0.01864067]]]),\n",
       "  'chroma': array([[[0.45077237, 0.30515629, 1.        , ..., 0.00620036,\n",
       "           0.00270077, 0.00414615],\n",
       "          [0.65338778, 0.44659847, 0.54656498, ..., 0.02414146,\n",
       "           0.0047452 , 0.00424311],\n",
       "          [0.3450437 , 0.33197443, 0.2480833 , ..., 0.0148384 ,\n",
       "           0.0039918 , 0.00430862],\n",
       "          ...,\n",
       "          [0.3890048 , 0.18626708, 0.06416709, ..., 1.        ,\n",
       "           1.        , 1.        ],\n",
       "          [0.5294871 , 0.30290457, 0.27944772, ..., 0.49158959,\n",
       "           0.23289739, 0.08844084],\n",
       "          [1.        , 1.        , 0.87511089, ..., 0.01600375,\n",
       "           0.00801504, 0.00756762]],\n",
       "  \n",
       "         [[0.10996899, 0.16903949, 0.17930358, ..., 1.        ,\n",
       "           1.        , 0.27677959],\n",
       "          [0.09855903, 0.10636092, 0.09141939, ..., 0.05962343,\n",
       "           0.10834873, 0.09708431],\n",
       "          [0.07009048, 0.11088342, 0.13036132, ..., 0.00655165,\n",
       "           0.09024913, 0.46821447],\n",
       "          ...,\n",
       "          [0.24689786, 0.36923429, 0.3379511 , ..., 0.01331559,\n",
       "           0.06984826, 0.01975651],\n",
       "          [0.22696715, 0.28770531, 0.2533592 , ..., 0.01001625,\n",
       "           0.00854835, 0.00486775],\n",
       "          [0.16039076, 0.22653598, 0.23423613, ..., 0.44557709,\n",
       "           0.27007662, 0.05039359]],\n",
       "  \n",
       "         [[0.22687471, 0.20909647, 0.23801708, ..., 1.        ,\n",
       "           0.36255286, 0.36939309],\n",
       "          [0.25518096, 0.16839662, 0.13586114, ..., 0.78208244,\n",
       "           1.        , 0.88347397],\n",
       "          [0.26519221, 0.20752961, 0.25355824, ..., 0.0745095 ,\n",
       "           0.5961531 , 1.        ],\n",
       "          ...,\n",
       "          [1.        , 1.        , 0.92795926, ..., 0.00722987,\n",
       "           0.0050907 , 0.0054696 ],\n",
       "          [0.43790049, 0.4430944 , 0.44338041, ..., 0.00742805,\n",
       "           0.00461403, 0.00806128],\n",
       "          [0.23904741, 0.24271999, 0.3073915 , ..., 0.05920338,\n",
       "           0.01704068, 0.03132485]],\n",
       "  \n",
       "         ...,\n",
       "  \n",
       "         [[0.74578517, 0.75102403, 0.82633941, ..., 0.54574487,\n",
       "           0.39496574, 0.30359863],\n",
       "          [0.17124246, 0.19886807, 0.27532378, ..., 0.1453367 ,\n",
       "           0.21796434, 0.19465072],\n",
       "          [0.17692037, 0.21396985, 0.23945664, ..., 0.17602478,\n",
       "           0.39395945, 0.30732885],\n",
       "          ...,\n",
       "          [0.0712231 , 0.0654953 , 0.18492642, ..., 0.183057  ,\n",
       "           0.1542146 , 0.49921907],\n",
       "          [0.44226063, 0.48847382, 0.61197351, ..., 0.62560758,\n",
       "           0.32996602, 0.45788835],\n",
       "          [1.        , 1.        , 1.        , ..., 1.        ,\n",
       "           0.53308017, 0.39526837]],\n",
       "  \n",
       "         [[0.88073143, 1.        , 1.        , ..., 0.86802659,\n",
       "           1.        , 1.        ],\n",
       "          [0.5511403 , 0.33281154, 0.28872178, ..., 0.83962596,\n",
       "           0.80064674, 0.59742588],\n",
       "          [0.42601543, 0.29208351, 0.22617806, ..., 0.87445914,\n",
       "           0.46809003, 0.59750325],\n",
       "          ...,\n",
       "          [0.14800936, 0.18007881, 0.19533858, ..., 0.75327675,\n",
       "           0.76235948, 0.67479081],\n",
       "          [0.81521754, 0.63692852, 0.36699813, ..., 0.93588006,\n",
       "           0.84710707, 0.56460809],\n",
       "          [1.        , 0.94581233, 0.89424253, ..., 1.        ,\n",
       "           0.88489639, 0.65888317]],\n",
       "  \n",
       "         [[0.29941684, 0.16272688, 0.29591823, ..., 0.33181226,\n",
       "           0.59604956, 0.40044366],\n",
       "          [0.16768353, 0.1384328 , 0.22099703, ..., 0.59392139,\n",
       "           0.52938164, 0.21811922],\n",
       "          [0.21276446, 0.29774522, 0.33204856, ..., 1.        ,\n",
       "           0.68113051, 0.3386935 ],\n",
       "          ...,\n",
       "          [0.20122383, 0.41105234, 0.41961332, ..., 0.32883453,\n",
       "           0.69179187, 0.6374972 ],\n",
       "          [0.15905535, 0.41940777, 0.85768936, ..., 0.24230229,\n",
       "           0.91271099, 1.        ],\n",
       "          [0.15695147, 0.18788433, 0.57057005, ..., 0.27786323,\n",
       "           0.80103159, 0.59896911]]]),\n",
       "  'label': array([1, 1, 1, ..., 5, 5, 5])},\n",
       " 'val': {'melspectrogram': array([[[3.20727065e-05, 1.70512106e-06, 1.61698192e-11, ...,\n",
       "           6.99078403e-15, 9.09006570e-05, 4.15736281e-04],\n",
       "          [3.22422717e-05, 1.71387116e-06, 1.71018208e-11, ...,\n",
       "           7.35246074e-15, 9.10404223e-05, 4.16374167e-04],\n",
       "          [3.25622734e-05, 1.73066317e-06, 2.72505511e-11, ...,\n",
       "           8.27085953e-15, 9.12738954e-05, 4.17439906e-04],\n",
       "          ...,\n",
       "          [5.14212831e-05, 6.76458209e-06, 2.39359128e-06, ...,\n",
       "           1.27000189e-09, 6.52113586e-06, 2.99078099e-05],\n",
       "          [3.93156198e-05, 2.11725020e-06, 1.69905801e-08, ...,\n",
       "           8.64497294e-12, 5.84504725e-06, 2.68147563e-05],\n",
       "          [3.57245249e-05, 1.90032216e-06, 7.52069991e-12, ...,\n",
       "           5.09266877e-15, 5.44659452e-06, 2.49888465e-05]],\n",
       "  \n",
       "         [[4.32216167e-05, 1.06441040e-05, 5.35616229e-14, ...,\n",
       "           1.22390666e-15, 9.81753704e-07, 7.84455117e-05],\n",
       "          [4.38289053e-05, 1.07966869e-05, 5.72430310e-14, ...,\n",
       "           1.38323235e-15, 9.84363301e-07, 7.86690257e-05],\n",
       "          [4.48509481e-05, 1.10535462e-05, 6.44837344e-14, ...,\n",
       "           2.30541879e-15, 9.89100611e-07, 7.90444729e-05],\n",
       "          ...,\n",
       "          [1.65377342e-04, 4.14041947e-05, 4.28108612e-09, ...,\n",
       "           1.08349139e-09, 7.13780353e-08, 4.90441071e-06],\n",
       "          [1.55668963e-04, 3.89724709e-05, 1.22159692e-11, ...,\n",
       "           7.01587187e-12, 6.19931675e-08, 4.92205459e-06],\n",
       "          [1.49847184e-04, 3.75147347e-05, 1.57571033e-14, ...,\n",
       "           3.46565216e-15, 6.16604896e-08, 4.89650250e-06]],\n",
       "  \n",
       "         [[1.38927692e-04, 3.73340197e-05, 2.31414740e-14, ...,\n",
       "           1.44602135e-15, 1.54577526e-06, 2.46019279e-05],\n",
       "          [1.39140752e-04, 3.73912040e-05, 2.33982592e-14, ...,\n",
       "           1.72776902e-15, 1.54839888e-06, 2.46440843e-05],\n",
       "          [1.39496761e-04, 3.74867442e-05, 2.45355225e-14, ...,\n",
       "           3.61964461e-15, 1.55279160e-06, 2.47145718e-05],\n",
       "          ...,\n",
       "          [1.00004560e-05, 2.69248110e-06, 6.55983400e-10, ...,\n",
       "           1.91234928e-09, 9.63909150e-07, 1.54465206e-05],\n",
       "          [8.96621221e-06, 2.41407134e-06, 2.13633533e-12, ...,\n",
       "           8.59856703e-12, 9.01459447e-07, 1.44675063e-05],\n",
       "          [8.35582884e-06, 2.24984669e-06, 3.16834660e-15, ...,\n",
       "           9.78408366e-15, 8.64688978e-07, 1.38790515e-05]],\n",
       "  \n",
       "         ...,\n",
       "  \n",
       "         [[5.85685885e-06, 6.45287035e-07, 1.01928568e-12, ...,\n",
       "           4.14132927e-14, 2.52466254e-04, 3.73900307e-03],\n",
       "          [6.64906224e-06, 7.28075395e-07, 1.16348655e-12, ...,\n",
       "           7.54129709e-14, 2.53894745e-04, 3.76002988e-03],\n",
       "          [8.08529440e-06, 8.78169977e-07, 1.45529703e-12, ...,\n",
       "           2.59712300e-13, 2.56293834e-04, 3.79535250e-03],\n",
       "          ...,\n",
       "          [4.95372932e-05, 5.29086241e-06, 1.22242434e-15, ...,\n",
       "           1.83764816e-08, 5.61301721e-06, 8.34868620e-05],\n",
       "          [4.71100085e-05, 5.03203802e-06, 1.80135151e-14, ...,\n",
       "           1.01521132e-10, 5.28826148e-06, 7.87342156e-05],\n",
       "          [4.56486621e-05, 4.87608923e-06, 1.22029272e-15, ...,\n",
       "           8.35177462e-14, 5.09690081e-06, 7.58873318e-05]],\n",
       "  \n",
       "         [[4.23283280e-04, 6.53650051e-05, 4.62698290e-13, ...,\n",
       "           5.98409383e-15, 7.17400242e-06, 1.47156986e-04],\n",
       "          [4.26951456e-04, 6.59205835e-05, 4.81440644e-13, ...,\n",
       "           2.35676114e-14, 7.22966105e-06, 1.48335237e-04],\n",
       "          [4.33117279e-04, 6.68527595e-05, 5.13051426e-13, ...,\n",
       "           6.48273492e-14, 7.32293780e-06, 1.50313838e-04],\n",
       "          ...,\n",
       "          [2.69235020e-05, 4.12765938e-06, 1.32721433e-09, ...,\n",
       "           5.79256732e-12, 1.50922571e-08, 3.05643743e-07],\n",
       "          [2.58037485e-05, 3.95543505e-06, 7.75124832e-12, ...,\n",
       "           2.40201079e-12, 1.42548845e-08, 2.89060788e-07],\n",
       "          [2.51270802e-05, 3.85166562e-06, 1.08110254e-15, ...,\n",
       "           3.42698994e-16, 1.38444811e-08, 2.80715988e-07]],\n",
       "  \n",
       "         [[2.97158252e-03, 2.85226650e-04, 4.52995963e-13, ...,\n",
       "           4.84470662e-14, 5.84296734e-05, 1.70908113e-03],\n",
       "          [2.98828107e-03, 2.86823808e-04, 4.97379536e-13, ...,\n",
       "           5.45144784e-14, 5.91099166e-05, 1.72915237e-03],\n",
       "          [3.01631448e-03, 2.89505767e-04, 5.77359655e-13, ...,\n",
       "           7.53752136e-14, 6.02711945e-05, 1.76340203e-03],\n",
       "          ...,\n",
       "          [6.64369358e-05, 6.39903299e-06, 3.32201681e-10, ...,\n",
       "           8.51727042e-10, 9.32834658e-07, 2.68121931e-05],\n",
       "          [6.26423131e-05, 6.03302597e-06, 5.71884228e-12, ...,\n",
       "           3.69160296e-13, 8.88846173e-07, 2.56327751e-05],\n",
       "          [6.03767730e-05, 5.81491758e-06, 7.10682441e-15, ...,\n",
       "           3.65576162e-15, 8.64249566e-07, 2.49212923e-05]]]),\n",
       "  'mfcc': array([[[-1.00000000e+00, -1.00000000e+00, -1.00000000e+00, ...,\n",
       "           -1.00000000e+00, -1.00000000e+00, -1.00000000e+00],\n",
       "          [ 0.00000000e+00, -4.21115694e-03, -1.40191113e-02, ...,\n",
       "           -2.80925419e-01, -8.81853179e-02,  8.71704823e-04],\n",
       "          [ 0.00000000e+00, -6.02528820e-03, -3.05556453e-02, ...,\n",
       "           -5.05988784e-01, -3.32429502e-01, -2.65389669e-01],\n",
       "          ...,\n",
       "          [ 0.00000000e+00,  1.73029867e-03,  1.44067490e-03, ...,\n",
       "            2.62413701e-02,  2.97358474e-02,  4.41919757e-02],\n",
       "          [ 0.00000000e+00, -9.87490846e-04,  3.90160627e-03, ...,\n",
       "            2.05495336e-02,  3.22354432e-02,  1.85131726e-02],\n",
       "          [ 0.00000000e+00,  2.31647256e-03,  3.03908238e-03, ...,\n",
       "           -4.18931081e-02, -4.97590135e-02, -6.25022653e-02]],\n",
       "  \n",
       "         [[-1.00000000e+00, -1.00000000e+00, -1.00000000e+00, ...,\n",
       "           -1.00000000e+00, -1.00000000e+00, -1.00000000e+00],\n",
       "          [-2.87259790e-01, -3.14666940e-01, -2.75510199e-01, ...,\n",
       "           -2.62641065e-01, -2.19813280e-01, -1.50801132e-01],\n",
       "          [-2.99974657e-01, -3.60342878e-01, -3.96446309e-01, ...,\n",
       "           -4.42418738e-01, -3.30485710e-01, -2.84583300e-01],\n",
       "          ...,\n",
       "          [ 6.81462152e-03,  1.00379751e-02,  1.36595230e-02, ...,\n",
       "            7.68045085e-04,  3.17950558e-03,  1.22476324e-03],\n",
       "          [ 3.33370876e-02,  1.82451404e-02,  1.20838226e-02, ...,\n",
       "           -1.47480078e-03, -8.54561902e-03, -1.86226073e-02],\n",
       "          [-3.88050544e-03, -9.76951106e-03, -2.16310706e-02, ...,\n",
       "           -7.97306195e-03,  9.15351175e-03,  1.32817715e-02]],\n",
       "  \n",
       "         [[-1.00000000e+00, -1.00000000e+00, -1.00000000e+00, ...,\n",
       "           -1.00000000e+00, -1.00000000e+00, -1.00000000e+00],\n",
       "          [-1.70420180e-02, -1.13315872e-01, -3.01735455e-01, ...,\n",
       "           -2.85902753e-01, -3.00497382e-01, -2.61680590e-01],\n",
       "          [-3.14542538e-01, -4.47126624e-01, -5.24059540e-01, ...,\n",
       "           -3.80459492e-01, -3.90703494e-01, -3.12929899e-01],\n",
       "          ...,\n",
       "          [ 8.16031035e-02,  5.82802047e-02,  1.73431266e-02, ...,\n",
       "           -6.12869786e-03,  2.66722072e-03,  1.66162565e-02],\n",
       "          [-9.25535235e-03, -1.83547101e-02,  1.06266112e-02, ...,\n",
       "            1.45776850e-04,  5.58284222e-03,  8.67375921e-03],\n",
       "          [-5.99303601e-02, -3.70690943e-02, -2.25652266e-02, ...,\n",
       "           -9.85422196e-04, -2.58037557e-02, -3.05814471e-02]],\n",
       "  \n",
       "         ...,\n",
       "  \n",
       "         [[-1.00000000e+00, -1.00000000e+00, -1.00000000e+00, ...,\n",
       "           -1.00000000e+00, -1.00000000e+00, -1.00000000e+00],\n",
       "          [-6.13150563e-02, -8.43447404e-02, -9.26630414e-02, ...,\n",
       "           -1.44843915e-02,  1.12135017e-01,  2.05546686e-01],\n",
       "          [-4.73658380e-01, -6.22527596e-01, -6.87383776e-01, ...,\n",
       "           -4.57538648e-01, -4.59801448e-01, -3.87227675e-01],\n",
       "          ...,\n",
       "          [-1.00383857e-02,  5.10007919e-04,  9.26022056e-04, ...,\n",
       "           -4.89370215e-03, -4.09795280e-03,  2.38358089e-03],\n",
       "          [-2.34841643e-02, -1.82798607e-02, -1.66465712e-02, ...,\n",
       "           -1.77749401e-02, -1.50930882e-02, -1.88112849e-02],\n",
       "          [-1.68259500e-02, -3.69550261e-02, -1.47661030e-02, ...,\n",
       "           -1.30854453e-02, -3.89672760e-02, -4.45556259e-02]],\n",
       "  \n",
       "         [[-1.00000000e+00, -1.00000000e+00, -1.00000000e+00, ...,\n",
       "           -1.00000000e+00, -1.00000000e+00, -1.00000000e+00],\n",
       "          [ 2.12016359e-01,  1.76740728e-01, -3.45304104e-02, ...,\n",
       "           -4.71646232e-02,  1.30428884e-01,  2.56795621e-01],\n",
       "          [-3.30695231e-01, -4.14236476e-01, -5.46562621e-01, ...,\n",
       "           -6.32970264e-01, -6.36139557e-01, -5.40973127e-01],\n",
       "          ...,\n",
       "          [-2.52669305e-02, -7.39251218e-03,  2.91513977e-04, ...,\n",
       "            3.60486056e-03,  1.76464695e-02,  2.60957581e-02],\n",
       "          [-2.91125626e-02, -3.56826737e-02, -2.92342841e-02, ...,\n",
       "           -1.61637240e-02, -3.33190639e-02, -3.13166196e-02],\n",
       "          [-1.25007466e-02, -3.61529321e-02, -3.46428589e-02, ...,\n",
       "           -1.05832062e-02, -1.32985068e-02, -3.08494004e-02]],\n",
       "  \n",
       "         [[-1.00000000e+00, -1.00000000e+00, -1.00000000e+00, ...,\n",
       "           -1.00000000e+00, -1.00000000e+00, -1.00000000e+00],\n",
       "          [ 2.26736736e-01,  1.99539721e-01, -1.94516159e-02, ...,\n",
       "           -9.92759876e-02,  9.65391290e-02,  2.03540270e-01],\n",
       "          [-3.84792792e-01, -4.90711772e-01, -5.96960290e-01, ...,\n",
       "           -6.46659523e-01, -4.90625507e-01, -3.77913846e-01],\n",
       "          ...,\n",
       "          [-1.17734264e-02, -1.40349750e-02, -5.13454502e-03, ...,\n",
       "           -4.00758371e-03,  1.22213143e-02,  1.23206477e-02],\n",
       "          [-4.44058976e-03, -1.03469680e-02, -9.71319233e-03, ...,\n",
       "           -3.04325411e-02, -2.84355036e-02, -1.94083188e-02],\n",
       "          [-1.56179342e-02, -9.66299050e-03, -2.74065941e-03, ...,\n",
       "           -3.17782573e-02, -3.10468596e-02, -1.73763011e-02]]]),\n",
       "  'chroma': array([[[1.        , 0.82158763, 0.62119429, ..., 0.02380319,\n",
       "           0.01105543, 0.0080308 ],\n",
       "          [0.48209316, 1.        , 1.        , ..., 0.02147725,\n",
       "           0.01033903, 0.00384139],\n",
       "          [0.235259  , 0.83698286, 0.96373214, ..., 0.12188505,\n",
       "           0.02243894, 0.0034344 ],\n",
       "          ...,\n",
       "          [0.18017591, 0.26969608, 0.45614751, ..., 0.38890707,\n",
       "           0.62013834, 0.44653145],\n",
       "          [0.26936556, 0.52499822, 0.52134098, ..., 0.15684905,\n",
       "           1.        , 1.        ],\n",
       "          [0.67199701, 0.71724727, 0.63761475, ..., 0.07282185,\n",
       "           0.06869306, 0.08382002]],\n",
       "  \n",
       "         [[0.2683098 , 0.43491164, 0.42227272, ..., 0.03761925,\n",
       "           0.09874713, 0.24098366],\n",
       "          [0.09511356, 0.18924732, 0.20881938, ..., 0.02280014,\n",
       "           0.07959431, 0.14060751],\n",
       "          [0.13184091, 0.17506193, 0.16096104, ..., 0.10694081,\n",
       "           0.14006471, 0.22004281],\n",
       "          ...,\n",
       "          [0.62474211, 0.92357143, 0.563859  , ..., 0.0708438 ,\n",
       "           0.27605892, 0.32426266],\n",
       "          [1.        , 1.        , 1.        , ..., 0.06394172,\n",
       "           0.2136781 , 0.26485183],\n",
       "          [0.686427  , 0.805482  , 0.69362047, ..., 0.05299557,\n",
       "           0.14633271, 0.22727529]],\n",
       "  \n",
       "         [[0.07901222, 0.11680351, 0.16400459, ..., 0.38341492,\n",
       "           0.38535306, 0.51461082],\n",
       "          [0.00708798, 0.01268611, 0.02727081, ..., 0.13406264,\n",
       "           0.12285697, 0.13188032],\n",
       "          [0.00286053, 0.00888119, 0.058557  , ..., 0.35858375,\n",
       "           0.16541652, 0.14506674],\n",
       "          ...,\n",
       "          [0.05143009, 0.04966387, 0.30540973, ..., 0.19458406,\n",
       "           0.44680744, 0.59686007],\n",
       "          [0.77933683, 0.63235582, 1.        , ..., 0.53981681,\n",
       "           0.64970725, 0.65372715],\n",
       "          [1.        , 1.        , 0.88946083, ..., 1.        ,\n",
       "           1.        , 1.        ]],\n",
       "  \n",
       "         ...,\n",
       "  \n",
       "         [[0.07743505, 0.16818292, 0.18096613, ..., 0.54379233,\n",
       "           0.33653841, 0.28800448],\n",
       "          [0.20891529, 0.19045216, 0.1596151 , ..., 0.25236097,\n",
       "           0.17944153, 0.25733292],\n",
       "          [0.3924657 , 0.37055625, 0.21061672, ..., 0.32473051,\n",
       "           0.64051459, 0.69169506],\n",
       "          ...,\n",
       "          [1.        , 1.        , 0.25488667, ..., 0.72343019,\n",
       "           0.64925429, 0.95916028],\n",
       "          [0.63493465, 0.61141174, 0.28776969, ..., 0.73826463,\n",
       "           0.60932826, 0.72070221],\n",
       "          [0.22191725, 0.3374475 , 0.34753046, ..., 1.        ,\n",
       "           0.82984429, 0.87138225]],\n",
       "  \n",
       "         [[0.12637339, 0.04699507, 0.02106903, ..., 0.03906271,\n",
       "           0.05514295, 0.04280925],\n",
       "          [0.16142536, 0.09419178, 0.01923244, ..., 0.14075625,\n",
       "           0.10388085, 0.09610618],\n",
       "          [0.12055691, 0.07283609, 0.03653388, ..., 0.48152396,\n",
       "           0.1537081 , 0.18691267],\n",
       "          ...,\n",
       "          [0.10780867, 0.16612899, 0.25053825, ..., 0.07728425,\n",
       "           0.08686639, 0.08404703],\n",
       "          [0.14716988, 0.27871749, 0.3220251 , ..., 0.07546477,\n",
       "           0.08536276, 0.0781283 ],\n",
       "          [0.20040451, 0.16107645, 0.10467604, ..., 0.04612757,\n",
       "           0.03897899, 0.033696  ]],\n",
       "  \n",
       "         [[0.68785978, 0.57849681, 0.34896289, ..., 0.85391235,\n",
       "           0.3078534 , 0.25808923],\n",
       "          [0.15210995, 0.22129616, 0.26840228, ..., 0.25168961,\n",
       "           0.16840504, 0.26914057],\n",
       "          [0.14954062, 0.13208163, 0.10379142, ..., 0.12461795,\n",
       "           0.12390337, 0.13049766],\n",
       "          ...,\n",
       "          [0.53685625, 0.51313537, 0.49988096, ..., 0.1496399 ,\n",
       "           0.20896966, 0.39809802],\n",
       "          [0.61081599, 1.        , 1.        , ..., 0.34457973,\n",
       "           0.71464512, 1.        ],\n",
       "          [1.        , 0.7160754 , 0.58608661, ..., 1.        ,\n",
       "           1.        , 0.91206503]]]),\n",
       "  'label': array([1, 1, 1, ..., 5, 5, 5])}}"
      ]
     },
     "execution_count": 42,
     "metadata": {},
     "output_type": "execute_result"
    }
   ],
   "source": [
    "merged_dict = {'train': train_features, 'val': val_features}\n",
    "merged_dict"
   ]
  },
  {
   "cell_type": "markdown",
   "metadata": {},
   "source": [
    "### Save the merged dictionary to a pkl"
   ]
  },
  {
   "cell_type": "code",
   "execution_count": 43,
   "metadata": {},
   "outputs": [],
   "source": [
    "with open('C:/Users/thato/Documents/Final-Year-Project/Dataset/Project-V4/feature-extraction/NotAnnotated/NotAveragePooled/split_features_6s_mel_mfcc_chroma.pkl', 'wb') as file:\n",
    "  pickle.dump(merged_dict, file)"
   ]
  },
  {
   "cell_type": "markdown",
   "metadata": {},
   "source": [
    "### **['melspectrogram', 'mfcc', 'chroma', 'rms']**"
   ]
  },
  {
   "cell_type": "code",
   "execution_count": 44,
   "metadata": {},
   "outputs": [],
   "source": [
    "features_list = ['melspectrogram', 'mfcc', 'chroma', 'rms']"
   ]
  },
  {
   "cell_type": "code",
   "execution_count": 45,
   "metadata": {},
   "outputs": [
    {
     "name": "stdout",
     "output_type": "stream",
     "text": [
      "Train DataFrame shape: (485, 6)\n",
      "Validation DataFrame shape: (130, 6)\n",
      "Number of rows in dataframe: 485\n"
     ]
    },
    {
     "name": "stderr",
     "output_type": "stream",
     "text": [
      "Processing data: 100%|██████████| 485/485 [06:06<00:00,  1.32it/s]\n"
     ]
    },
    {
     "name": "stdout",
     "output_type": "stream",
     "text": [
      "Number of rows in dataframe: 130\n"
     ]
    },
    {
     "name": "stderr",
     "output_type": "stream",
     "text": [
      "Processing data: 100%|██████████| 130/130 [01:15<00:00,  1.72it/s]\n"
     ]
    }
   ],
   "source": [
    "features = Extraction(train_data,\n",
    "                      val_data,\n",
    "                      window_size=6,\n",
    "                      features=features_list,\n",
    "                      avgpool=False\n",
    "                      )"
   ]
  },
  {
   "cell_type": "code",
   "execution_count": 46,
   "metadata": {},
   "outputs": [
    {
     "data": {
      "text/plain": [
       "(7105,)"
      ]
     },
     "metadata": {},
     "output_type": "display_data"
    },
    {
     "data": {
      "text/plain": [
       "'melspectrogram'"
      ]
     },
     "metadata": {},
     "output_type": "display_data"
    },
    {
     "data": {
      "text/plain": [
       "(7105, 60, 259)"
      ]
     },
     "metadata": {},
     "output_type": "display_data"
    },
    {
     "data": {
      "text/plain": [
       "'mfcc'"
      ]
     },
     "metadata": {},
     "output_type": "display_data"
    },
    {
     "data": {
      "text/plain": [
       "(7105, 20, 259)"
      ]
     },
     "metadata": {},
     "output_type": "display_data"
    },
    {
     "data": {
      "text/plain": [
       "'chroma'"
      ]
     },
     "metadata": {},
     "output_type": "display_data"
    },
    {
     "data": {
      "text/plain": [
       "(7105, 12, 259)"
      ]
     },
     "metadata": {},
     "output_type": "display_data"
    },
    {
     "data": {
      "text/plain": [
       "'rms'"
      ]
     },
     "metadata": {},
     "output_type": "display_data"
    },
    {
     "data": {
      "text/plain": [
       "(7105, 1, 259)"
      ]
     },
     "metadata": {},
     "output_type": "display_data"
    }
   ],
   "source": [
    "train_y = features.train_y\n",
    "display(train_y.shape)\n",
    "\n",
    "train_features = features.train_features\n",
    "for key in train_features.keys():\n",
    "  display(key)\n",
    "  display(train_features[key].shape)"
   ]
  },
  {
   "cell_type": "code",
   "execution_count": 47,
   "metadata": {},
   "outputs": [
    {
     "data": {
      "text/plain": [
       "(1896,)"
      ]
     },
     "metadata": {},
     "output_type": "display_data"
    },
    {
     "data": {
      "text/plain": [
       "'melspectrogram'"
      ]
     },
     "metadata": {},
     "output_type": "display_data"
    },
    {
     "data": {
      "text/plain": [
       "(1896, 60, 259)"
      ]
     },
     "metadata": {},
     "output_type": "display_data"
    },
    {
     "data": {
      "text/plain": [
       "'mfcc'"
      ]
     },
     "metadata": {},
     "output_type": "display_data"
    },
    {
     "data": {
      "text/plain": [
       "(1896, 20, 259)"
      ]
     },
     "metadata": {},
     "output_type": "display_data"
    },
    {
     "data": {
      "text/plain": [
       "'chroma'"
      ]
     },
     "metadata": {},
     "output_type": "display_data"
    },
    {
     "data": {
      "text/plain": [
       "(1896, 12, 259)"
      ]
     },
     "metadata": {},
     "output_type": "display_data"
    },
    {
     "data": {
      "text/plain": [
       "'rms'"
      ]
     },
     "metadata": {},
     "output_type": "display_data"
    },
    {
     "data": {
      "text/plain": [
       "(1896, 1, 259)"
      ]
     },
     "metadata": {},
     "output_type": "display_data"
    }
   ],
   "source": [
    "val_y = features.val_y\n",
    "display(val_y.shape)\n",
    "\n",
    "val_features = features.val_features\n",
    "for key in val_features.keys():\n",
    "  display(key)\n",
    "  display(val_features[key].shape)"
   ]
  },
  {
   "cell_type": "markdown",
   "metadata": {},
   "source": [
    "### Encode Classes"
   ]
  },
  {
   "cell_type": "code",
   "execution_count": 48,
   "metadata": {},
   "outputs": [
    {
     "name": "stdout",
     "output_type": "stream",
     "text": [
      "Encoded classes for [0, 1, 2]: ['Acrocephalus arundinaceus', 'Acrocephalus melanopogon', 'Acrocephalus scirpaceus']\n",
      "Encoded training labels: [1 1 1 ... 5 5 5]\n",
      "Encoded validation labels: [1 1 1 ... 5 5 5]\n"
     ]
    }
   ],
   "source": [
    "label_encoder = LabelEncoder().fit(train_y)\n",
    "train_y_encoded = label_encoder.transform(train_y)\n",
    "val_y_encoded = label_encoder.transform(val_y)\n",
    "\n",
    "classes = list(label_encoder.inverse_transform([0, 1, 2]))\n",
    "print(\"Encoded classes for [0, 1, 2]:\", classes)\n",
    "print(\"Encoded training labels:\", train_y_encoded)\n",
    "print(\"Encoded validation labels:\", val_y_encoded)"
   ]
  },
  {
   "cell_type": "code",
   "execution_count": 49,
   "metadata": {},
   "outputs": [
    {
     "data": {
      "text/plain": [
       "7105"
      ]
     },
     "metadata": {},
     "output_type": "display_data"
    },
    {
     "data": {
      "text/plain": [
       "array(['Acrocephalus melanopogon', 'Acrocephalus melanopogon',\n",
       "       'Acrocephalus melanopogon', 'Acrocephalus melanopogon',\n",
       "       'Acrocephalus melanopogon', 'Acrocephalus melanopogon',\n",
       "       'Acrocephalus melanopogon', 'Acrocephalus melanopogon',\n",
       "       'Acrocephalus melanopogon', 'Acrocephalus melanopogon'],\n",
       "      dtype='<U25')"
      ]
     },
     "metadata": {},
     "output_type": "display_data"
    },
    {
     "data": {
      "text/plain": [
       "1896"
      ]
     },
     "metadata": {},
     "output_type": "display_data"
    },
    {
     "data": {
      "text/plain": [
       "array(['Acrocephalus melanopogon', 'Acrocephalus melanopogon',\n",
       "       'Acrocephalus melanopogon', 'Acrocephalus melanopogon',\n",
       "       'Acrocephalus melanopogon', 'Acrocephalus melanopogon',\n",
       "       'Acrocephalus melanopogon', 'Acrocephalus melanopogon',\n",
       "       'Acrocephalus melanopogon', 'Acrocephalus melanopogon'],\n",
       "      dtype='<U25')"
      ]
     },
     "metadata": {},
     "output_type": "display_data"
    }
   ],
   "source": [
    "display(len(train_y))\n",
    "display(train_y[:10])\n",
    "\n",
    "display(len(val_y))\n",
    "display(val_y[:10])"
   ]
  },
  {
   "cell_type": "code",
   "execution_count": 50,
   "metadata": {},
   "outputs": [],
   "source": [
    "train_features['label'] = train_y_encoded\n",
    "val_features['label'] = val_y_encoded"
   ]
  },
  {
   "cell_type": "code",
   "execution_count": 51,
   "metadata": {},
   "outputs": [
    {
     "data": {
      "text/plain": [
       "{'train': {'melspectrogram': array([[[2.70414866e-03, 2.79165306e-04, 2.78151976e-06, ...,\n",
       "           2.09090982e-14, 1.00035500e-07, 4.10201886e-06],\n",
       "          [2.85087147e-03, 2.95306839e-04, 3.42857310e-06, ...,\n",
       "           2.42591675e-14, 1.00793242e-07, 4.13385302e-06],\n",
       "          [3.04498922e-03, 3.15533762e-04, 4.71718391e-06, ...,\n",
       "           3.06456201e-14, 1.02097112e-07, 4.18868937e-06],\n",
       "          ...,\n",
       "          [4.71950382e-06, 6.96979924e-07, 9.83989841e-06, ...,\n",
       "           4.76671411e-08, 2.59462464e-08, 1.32848568e-07],\n",
       "          [4.43196142e-06, 4.70733005e-07, 1.06044568e-07, ...,\n",
       "           2.24950763e-10, 2.39690650e-09, 9.34205219e-08],\n",
       "          [4.34125244e-06, 4.54310514e-07, 3.83112779e-09, ...,\n",
       "           6.16144049e-13, 1.95562647e-09, 8.06973052e-08]],\n",
       "  \n",
       "         [[1.73426295e-05, 3.63408438e-06, 4.80290598e-13, ...,\n",
       "           1.60876280e-14, 7.00188949e-08, 1.07775013e-06],\n",
       "          [1.84753151e-05, 3.87795431e-06, 5.39064175e-13, ...,\n",
       "           2.48021127e-14, 7.05198033e-08, 1.08664800e-06],\n",
       "          [2.04588793e-05, 4.30499024e-06, 6.48974409e-13, ...,\n",
       "           4.23482850e-14, 7.14385292e-08, 1.10314929e-06],\n",
       "          ...,\n",
       "          [3.96494239e-05, 1.00302657e-05, 1.57459005e-06, ...,\n",
       "           4.01477919e-08, 4.75987657e-06, 7.04755487e-05],\n",
       "          [3.67085359e-05, 7.86056852e-06, 1.57349826e-08, ...,\n",
       "           1.53969906e-10, 4.29632397e-06, 6.42517428e-05],\n",
       "          [3.50700349e-05, 7.49661568e-06, 6.95534630e-12, ...,\n",
       "           2.00168533e-13, 4.05157044e-06, 6.05970857e-05]],\n",
       "  \n",
       "         [[1.39905270e-03, 1.33439757e-04, 5.75273763e-13, ...,\n",
       "           5.89841679e-15, 2.38372515e-06, 6.72347600e-05],\n",
       "          [1.40995976e-03, 1.34493797e-04, 7.78146365e-13, ...,\n",
       "           5.89168719e-15, 2.39343733e-06, 6.75112785e-05],\n",
       "          [1.42874367e-03, 1.36310827e-04, 1.17197668e-12, ...,\n",
       "           5.91434109e-15, 2.40969361e-06, 6.79760697e-05],\n",
       "          ...,\n",
       "          [4.59703481e-05, 7.59484151e-06, 3.31000770e-06, ...,\n",
       "           2.19214266e-07, 4.23863572e-07, 4.99294751e-06],\n",
       "          [3.20205388e-05, 3.08347345e-06, 2.79666755e-08, ...,\n",
       "           4.69631745e-10, 1.64111417e-07, 4.64225419e-06],\n",
       "          [2.75633313e-05, 2.63967036e-06, 1.70151279e-11, ...,\n",
       "           6.40257895e-13, 1.57878817e-07, 4.48530469e-06]],\n",
       "  \n",
       "         ...,\n",
       "  \n",
       "         [[5.06434348e-05, 9.09517381e-06, 1.52639599e-14, ...,\n",
       "           5.69565579e-13, 2.31836661e-06, 1.23076619e-04],\n",
       "          [5.55218977e-05, 1.00320887e-05, 2.95995962e-14, ...,\n",
       "           6.60314978e-13, 2.35852713e-06, 1.25182668e-04],\n",
       "          [6.37263562e-05, 1.16083006e-05, 1.14836980e-13, ...,\n",
       "           9.92855998e-13, 2.42734571e-06, 1.28778994e-04],\n",
       "          ...,\n",
       "          [2.96187718e-04, 5.68894053e-05, 1.47466885e-09, ...,\n",
       "           4.53442650e-08, 4.78775768e-07, 4.50262898e-06],\n",
       "          [2.84664897e-04, 5.46768209e-05, 6.64319276e-12, ...,\n",
       "           5.44945204e-11, 4.76368422e-08, 2.45046971e-06],\n",
       "          [2.77596122e-04, 5.33190259e-05, 5.50000942e-15, ...,\n",
       "           2.03706242e-14, 4.04135928e-08, 2.11266646e-06]],\n",
       "  \n",
       "         [[5.56861646e-05, 7.75421187e-06, 5.67162777e-13, ...,\n",
       "           2.99704819e-12, 2.66991946e-06, 9.18656481e-05],\n",
       "          [5.57014747e-05, 7.76113961e-06, 6.57309546e-13, ...,\n",
       "           3.33602974e-12, 2.74875521e-06, 9.43955498e-05],\n",
       "          [5.57237387e-05, 7.77350195e-06, 1.14769264e-12, ...,\n",
       "           7.37023754e-12, 2.88360077e-06, 9.86423159e-05],\n",
       "          ...,\n",
       "          [2.85943282e-05, 3.87109110e-06, 1.40175530e-08, ...,\n",
       "           1.93152139e-06, 2.60577479e-06, 1.51937388e-05],\n",
       "          [2.71836699e-05, 3.67603141e-06, 6.09528175e-11, ...,\n",
       "           4.58665303e-09, 4.21866406e-07, 1.38566840e-05],\n",
       "          [2.63366889e-05, 3.56136722e-06, 6.45853468e-14, ...,\n",
       "           1.32588386e-11, 4.00097029e-07, 1.33085883e-05]],\n",
       "  \n",
       "         [[5.08842227e-05, 4.11923279e-06, 1.80624602e-13, ...,\n",
       "           1.22436387e-13, 7.28907259e-06, 1.16067580e-04],\n",
       "          [5.17514505e-05, 4.18895742e-06, 2.00314317e-13, ...,\n",
       "           5.55760340e-13, 7.35569525e-06, 1.17167682e-04],\n",
       "          [5.32323621e-05, 4.30770062e-06, 2.87563927e-13, ...,\n",
       "           1.49348624e-11, 7.46034943e-06, 1.18888211e-04],\n",
       "          ...,\n",
       "          [1.82674126e-06, 3.97582696e-07, 1.90684223e-07, ...,\n",
       "           1.31639087e-06, 1.34078768e-06, 4.33230117e-06],\n",
       "          [9.93346823e-07, 8.12699815e-08, 1.61171735e-09, ...,\n",
       "           1.50839142e-08, 1.99053998e-07, 3.10586924e-06],\n",
       "          [8.70749282e-07, 6.98577905e-08, 6.69438056e-13, ...,\n",
       "           1.15469170e-11, 1.62286066e-07, 2.63052798e-06]]]),\n",
       "  'mfcc': array([[[-1.        , -1.        , -1.        , ..., -1.        ,\n",
       "           -1.        , -1.        ],\n",
       "          [ 0.        ,  0.        ,  0.        , ..., -0.17373779,\n",
       "           -0.15781579, -0.05468241],\n",
       "          [ 0.        ,  0.        ,  0.        , ..., -0.39485264,\n",
       "           -0.38463603, -0.29000239],\n",
       "          ...,\n",
       "          [ 0.        ,  0.        ,  0.        , ...,  0.02551025,\n",
       "            0.0194228 ,  0.00951044],\n",
       "          [ 0.        ,  0.        ,  0.        , ...,  0.04056614,\n",
       "            0.05098266,  0.05237005],\n",
       "          [ 0.        ,  0.        ,  0.        , ..., -0.02892263,\n",
       "           -0.0435002 , -0.03670363]],\n",
       "  \n",
       "         [[-1.        , -1.        , -1.        , ..., -1.        ,\n",
       "           -1.        , -1.        ],\n",
       "          [-0.1250103 , -0.14365384, -0.14427565, ..., -0.14800547,\n",
       "           -0.27352785, -0.32687188],\n",
       "          [-0.29100875, -0.34141116, -0.34730072, ..., -0.35557446,\n",
       "           -0.33805607, -0.27873464],\n",
       "          ...,\n",
       "          [ 0.00269876, -0.00462969, -0.01050022, ..., -0.01653787,\n",
       "           -0.03339773, -0.03757058],\n",
       "          [ 0.00400064,  0.00574322,  0.00192427, ...,  0.01209587,\n",
       "            0.02777838,  0.02106539],\n",
       "          [-0.00302651, -0.00398999, -0.00612853, ...,  0.02050334,\n",
       "            0.02001798,  0.02699105]],\n",
       "  \n",
       "         [[-1.        , -1.        , -1.        , ..., -1.        ,\n",
       "           -1.        , -1.        ],\n",
       "          [-0.02042024, -0.08514001, -0.12648469, ..., -0.19249881,\n",
       "           -0.13378753, -0.03346993],\n",
       "          [-0.22455168, -0.28027467, -0.31234968, ..., -0.37973282,\n",
       "           -0.33874314, -0.23838497],\n",
       "          ...,\n",
       "          [ 0.00641527,  0.00341021, -0.00260231, ..., -0.03104352,\n",
       "           -0.03002155, -0.03346619],\n",
       "          [ 0.03143024,  0.02779777,  0.03388032, ...,  0.0102597 ,\n",
       "            0.02296281,  0.01447938],\n",
       "          [-0.02621753, -0.02771605, -0.03030736, ...,  0.02567885,\n",
       "            0.01756717,  0.02173806]],\n",
       "  \n",
       "         ...,\n",
       "  \n",
       "         [[-1.        , -1.        , -1.        , ..., -1.        ,\n",
       "           -1.        , -1.        ],\n",
       "          [-0.11279961, -0.09692901, -0.08578303, ..., -0.1176853 ,\n",
       "           -0.13632333, -0.06050285],\n",
       "          [-0.49731987, -0.55674417, -0.59895944, ..., -0.64550887,\n",
       "           -0.54392418, -0.4458609 ],\n",
       "          ...,\n",
       "          [ 0.01744117,  0.01418096, -0.02485191, ..., -0.0062013 ,\n",
       "           -0.00940606, -0.00931153],\n",
       "          [-0.03885929, -0.02161129, -0.00516484, ..., -0.00586994,\n",
       "           -0.00590585,  0.00410327],\n",
       "          [-0.02937522, -0.00585464, -0.01466625, ..., -0.04743522,\n",
       "           -0.04039878, -0.02412593]],\n",
       "  \n",
       "         [[-1.        , -1.        , -1.        , ..., -1.        ,\n",
       "           -1.        , -1.        ],\n",
       "          [ 0.02975485,  0.0212539 ,  0.00443176, ..., -0.03201306,\n",
       "           -0.02572209,  0.03827351],\n",
       "          [-0.38589112, -0.44974588, -0.47539009, ..., -0.28333064,\n",
       "           -0.26789213, -0.21379362],\n",
       "          ...,\n",
       "          [ 0.00130686, -0.00482763, -0.0050046 , ..., -0.01117125,\n",
       "           -0.01056705, -0.00358769],\n",
       "          [-0.01129816, -0.01124566, -0.00370088, ...,  0.00727175,\n",
       "            0.00299851,  0.0038515 ],\n",
       "          [-0.02025784, -0.01979136, -0.02186905, ..., -0.02604713,\n",
       "           -0.01868253, -0.00498709]],\n",
       "  \n",
       "         [[-1.        , -1.        , -1.        , ..., -1.        ,\n",
       "           -1.        , -1.        ],\n",
       "          [-0.0429573 , -0.09994193, -0.18008914, ..., -0.02071375,\n",
       "           -0.00175443,  0.00660948],\n",
       "          [-0.46330191, -0.58651592, -0.6687421 , ..., -0.18496168,\n",
       "           -0.1864368 , -0.16813055],\n",
       "          ...,\n",
       "          [ 0.00294732,  0.01416223, -0.00517411, ...,  0.00539114,\n",
       "            0.00391434,  0.00583776],\n",
       "          [ 0.00588758,  0.01734421,  0.00714383, ...,  0.02321898,\n",
       "            0.01662294,  0.01354547],\n",
       "          [-0.02734336, -0.03985411, -0.05648294, ..., -0.00336891,\n",
       "           -0.01338007, -0.01864067]]]),\n",
       "  'chroma': array([[[0.45077237, 0.30515629, 1.        , ..., 0.00620036,\n",
       "           0.00270077, 0.00414615],\n",
       "          [0.65338778, 0.44659847, 0.54656498, ..., 0.02414146,\n",
       "           0.0047452 , 0.00424311],\n",
       "          [0.3450437 , 0.33197443, 0.2480833 , ..., 0.0148384 ,\n",
       "           0.0039918 , 0.00430862],\n",
       "          ...,\n",
       "          [0.3890048 , 0.18626708, 0.06416709, ..., 1.        ,\n",
       "           1.        , 1.        ],\n",
       "          [0.5294871 , 0.30290457, 0.27944772, ..., 0.49158959,\n",
       "           0.23289739, 0.08844084],\n",
       "          [1.        , 1.        , 0.87511089, ..., 0.01600375,\n",
       "           0.00801504, 0.00756762]],\n",
       "  \n",
       "         [[0.10996899, 0.16903949, 0.17930358, ..., 1.        ,\n",
       "           1.        , 0.27677959],\n",
       "          [0.09855903, 0.10636092, 0.09141939, ..., 0.05962343,\n",
       "           0.10834873, 0.09708431],\n",
       "          [0.07009048, 0.11088342, 0.13036132, ..., 0.00655165,\n",
       "           0.09024913, 0.46821447],\n",
       "          ...,\n",
       "          [0.24689786, 0.36923429, 0.3379511 , ..., 0.01331559,\n",
       "           0.06984826, 0.01975651],\n",
       "          [0.22696715, 0.28770531, 0.2533592 , ..., 0.01001625,\n",
       "           0.00854835, 0.00486775],\n",
       "          [0.16039076, 0.22653598, 0.23423613, ..., 0.44557709,\n",
       "           0.27007662, 0.05039359]],\n",
       "  \n",
       "         [[0.22687471, 0.20909647, 0.23801708, ..., 1.        ,\n",
       "           0.36255286, 0.36939309],\n",
       "          [0.25518096, 0.16839662, 0.13586114, ..., 0.78208244,\n",
       "           1.        , 0.88347397],\n",
       "          [0.26519221, 0.20752961, 0.25355824, ..., 0.0745095 ,\n",
       "           0.5961531 , 1.        ],\n",
       "          ...,\n",
       "          [1.        , 1.        , 0.92795926, ..., 0.00722987,\n",
       "           0.0050907 , 0.0054696 ],\n",
       "          [0.43790049, 0.4430944 , 0.44338041, ..., 0.00742805,\n",
       "           0.00461403, 0.00806128],\n",
       "          [0.23904741, 0.24271999, 0.3073915 , ..., 0.05920338,\n",
       "           0.01704068, 0.03132485]],\n",
       "  \n",
       "         ...,\n",
       "  \n",
       "         [[0.74578517, 0.75102403, 0.82633941, ..., 0.54574487,\n",
       "           0.39496574, 0.30359863],\n",
       "          [0.17124246, 0.19886807, 0.27532378, ..., 0.1453367 ,\n",
       "           0.21796434, 0.19465072],\n",
       "          [0.17692037, 0.21396985, 0.23945664, ..., 0.17602478,\n",
       "           0.39395945, 0.30732885],\n",
       "          ...,\n",
       "          [0.0712231 , 0.0654953 , 0.18492642, ..., 0.183057  ,\n",
       "           0.1542146 , 0.49921907],\n",
       "          [0.44226063, 0.48847382, 0.61197351, ..., 0.62560758,\n",
       "           0.32996602, 0.45788835],\n",
       "          [1.        , 1.        , 1.        , ..., 1.        ,\n",
       "           0.53308017, 0.39526837]],\n",
       "  \n",
       "         [[0.88073143, 1.        , 1.        , ..., 0.86802659,\n",
       "           1.        , 1.        ],\n",
       "          [0.5511403 , 0.33281154, 0.28872178, ..., 0.83962596,\n",
       "           0.80064674, 0.59742588],\n",
       "          [0.42601543, 0.29208351, 0.22617806, ..., 0.87445914,\n",
       "           0.46809003, 0.59750325],\n",
       "          ...,\n",
       "          [0.14800936, 0.18007881, 0.19533858, ..., 0.75327675,\n",
       "           0.76235948, 0.67479081],\n",
       "          [0.81521754, 0.63692852, 0.36699813, ..., 0.93588006,\n",
       "           0.84710707, 0.56460809],\n",
       "          [1.        , 0.94581233, 0.89424253, ..., 1.        ,\n",
       "           0.88489639, 0.65888317]],\n",
       "  \n",
       "         [[0.29941684, 0.16272688, 0.29591823, ..., 0.33181226,\n",
       "           0.59604956, 0.40044366],\n",
       "          [0.16768353, 0.1384328 , 0.22099703, ..., 0.59392139,\n",
       "           0.52938164, 0.21811922],\n",
       "          [0.21276446, 0.29774522, 0.33204856, ..., 1.        ,\n",
       "           0.68113051, 0.3386935 ],\n",
       "          ...,\n",
       "          [0.20122383, 0.41105234, 0.41961332, ..., 0.32883453,\n",
       "           0.69179187, 0.6374972 ],\n",
       "          [0.15905535, 0.41940777, 0.85768936, ..., 0.24230229,\n",
       "           0.91271099, 1.        ],\n",
       "          [0.15695147, 0.18788433, 0.57057005, ..., 0.27786323,\n",
       "           0.80103159, 0.59896911]]]),\n",
       "  'rms': array([[[3.3467971e-16, 4.0070487e-16, 2.4773185e-06, ...,\n",
       "           1.7302422e-02, 1.7318817e-02, 1.6285693e-02]],\n",
       "  \n",
       "         [[4.0657683e-03, 5.0088488e-03, 5.6135925e-03, ...,\n",
       "           2.7793428e-02, 3.1014759e-02, 2.9739056e-02]],\n",
       "  \n",
       "         [[2.4061729e-03, 2.9392322e-03, 1.7562231e-02, ...,\n",
       "           2.3618627e-02, 2.2783406e-02, 1.9530155e-02]],\n",
       "  \n",
       "         ...,\n",
       "  \n",
       "         [[4.4105925e-02, 4.5378849e-02, 4.6441883e-02, ...,\n",
       "           3.5056472e-02, 2.5032466e-02, 1.3008641e-02]],\n",
       "  \n",
       "         [[9.3406234e-03, 1.0476657e-02, 1.1538275e-02, ...,\n",
       "           3.7115151e-03, 2.9345150e-03, 2.4154515e-03]],\n",
       "  \n",
       "         [[2.1762313e-02, 2.8868295e-02, 3.5381507e-02, ...,\n",
       "           1.2147335e-03, 7.8107312e-04, 6.1788107e-04]]], dtype=float32),\n",
       "  'label': array([1, 1, 1, ..., 5, 5, 5])},\n",
       " 'val': {'melspectrogram': array([[[3.20727065e-05, 1.70512106e-06, 1.61698192e-11, ...,\n",
       "           6.99078403e-15, 9.09006570e-05, 4.15736281e-04],\n",
       "          [3.22422717e-05, 1.71387116e-06, 1.71018208e-11, ...,\n",
       "           7.35246074e-15, 9.10404223e-05, 4.16374167e-04],\n",
       "          [3.25622734e-05, 1.73066317e-06, 2.72505511e-11, ...,\n",
       "           8.27085953e-15, 9.12738954e-05, 4.17439906e-04],\n",
       "          ...,\n",
       "          [5.14212831e-05, 6.76458209e-06, 2.39359128e-06, ...,\n",
       "           1.27000189e-09, 6.52113586e-06, 2.99078099e-05],\n",
       "          [3.93156198e-05, 2.11725020e-06, 1.69905801e-08, ...,\n",
       "           8.64497294e-12, 5.84504725e-06, 2.68147563e-05],\n",
       "          [3.57245249e-05, 1.90032216e-06, 7.52069991e-12, ...,\n",
       "           5.09266877e-15, 5.44659452e-06, 2.49888465e-05]],\n",
       "  \n",
       "         [[4.32216167e-05, 1.06441040e-05, 5.35616229e-14, ...,\n",
       "           1.22390666e-15, 9.81753704e-07, 7.84455117e-05],\n",
       "          [4.38289053e-05, 1.07966869e-05, 5.72430310e-14, ...,\n",
       "           1.38323235e-15, 9.84363301e-07, 7.86690257e-05],\n",
       "          [4.48509481e-05, 1.10535462e-05, 6.44837344e-14, ...,\n",
       "           2.30541879e-15, 9.89100611e-07, 7.90444729e-05],\n",
       "          ...,\n",
       "          [1.65377342e-04, 4.14041947e-05, 4.28108612e-09, ...,\n",
       "           1.08349139e-09, 7.13780353e-08, 4.90441071e-06],\n",
       "          [1.55668963e-04, 3.89724709e-05, 1.22159692e-11, ...,\n",
       "           7.01587187e-12, 6.19931675e-08, 4.92205459e-06],\n",
       "          [1.49847184e-04, 3.75147347e-05, 1.57571033e-14, ...,\n",
       "           3.46565216e-15, 6.16604896e-08, 4.89650250e-06]],\n",
       "  \n",
       "         [[1.38927692e-04, 3.73340197e-05, 2.31414740e-14, ...,\n",
       "           1.44602135e-15, 1.54577526e-06, 2.46019279e-05],\n",
       "          [1.39140752e-04, 3.73912040e-05, 2.33982592e-14, ...,\n",
       "           1.72776902e-15, 1.54839888e-06, 2.46440843e-05],\n",
       "          [1.39496761e-04, 3.74867442e-05, 2.45355225e-14, ...,\n",
       "           3.61964461e-15, 1.55279160e-06, 2.47145718e-05],\n",
       "          ...,\n",
       "          [1.00004560e-05, 2.69248110e-06, 6.55983400e-10, ...,\n",
       "           1.91234928e-09, 9.63909150e-07, 1.54465206e-05],\n",
       "          [8.96621221e-06, 2.41407134e-06, 2.13633533e-12, ...,\n",
       "           8.59856703e-12, 9.01459447e-07, 1.44675063e-05],\n",
       "          [8.35582884e-06, 2.24984669e-06, 3.16834660e-15, ...,\n",
       "           9.78408366e-15, 8.64688978e-07, 1.38790515e-05]],\n",
       "  \n",
       "         ...,\n",
       "  \n",
       "         [[5.85685885e-06, 6.45287035e-07, 1.01928568e-12, ...,\n",
       "           4.14132927e-14, 2.52466254e-04, 3.73900307e-03],\n",
       "          [6.64906224e-06, 7.28075395e-07, 1.16348655e-12, ...,\n",
       "           7.54129709e-14, 2.53894745e-04, 3.76002988e-03],\n",
       "          [8.08529440e-06, 8.78169977e-07, 1.45529703e-12, ...,\n",
       "           2.59712300e-13, 2.56293834e-04, 3.79535250e-03],\n",
       "          ...,\n",
       "          [4.95372932e-05, 5.29086241e-06, 1.22242434e-15, ...,\n",
       "           1.83764816e-08, 5.61301721e-06, 8.34868620e-05],\n",
       "          [4.71100085e-05, 5.03203802e-06, 1.80135151e-14, ...,\n",
       "           1.01521132e-10, 5.28826148e-06, 7.87342156e-05],\n",
       "          [4.56486621e-05, 4.87608923e-06, 1.22029272e-15, ...,\n",
       "           8.35177462e-14, 5.09690081e-06, 7.58873318e-05]],\n",
       "  \n",
       "         [[4.23283280e-04, 6.53650051e-05, 4.62698290e-13, ...,\n",
       "           5.98409383e-15, 7.17400242e-06, 1.47156986e-04],\n",
       "          [4.26951456e-04, 6.59205835e-05, 4.81440644e-13, ...,\n",
       "           2.35676114e-14, 7.22966105e-06, 1.48335237e-04],\n",
       "          [4.33117279e-04, 6.68527595e-05, 5.13051426e-13, ...,\n",
       "           6.48273492e-14, 7.32293780e-06, 1.50313838e-04],\n",
       "          ...,\n",
       "          [2.69235020e-05, 4.12765938e-06, 1.32721433e-09, ...,\n",
       "           5.79256732e-12, 1.50922571e-08, 3.05643743e-07],\n",
       "          [2.58037485e-05, 3.95543505e-06, 7.75124832e-12, ...,\n",
       "           2.40201079e-12, 1.42548845e-08, 2.89060788e-07],\n",
       "          [2.51270802e-05, 3.85166562e-06, 1.08110254e-15, ...,\n",
       "           3.42698994e-16, 1.38444811e-08, 2.80715988e-07]],\n",
       "  \n",
       "         [[2.97158252e-03, 2.85226650e-04, 4.52995963e-13, ...,\n",
       "           4.84470662e-14, 5.84296734e-05, 1.70908113e-03],\n",
       "          [2.98828107e-03, 2.86823808e-04, 4.97379536e-13, ...,\n",
       "           5.45144784e-14, 5.91099166e-05, 1.72915237e-03],\n",
       "          [3.01631448e-03, 2.89505767e-04, 5.77359655e-13, ...,\n",
       "           7.53752136e-14, 6.02711945e-05, 1.76340203e-03],\n",
       "          ...,\n",
       "          [6.64369358e-05, 6.39903299e-06, 3.32201681e-10, ...,\n",
       "           8.51727042e-10, 9.32834658e-07, 2.68121931e-05],\n",
       "          [6.26423131e-05, 6.03302597e-06, 5.71884228e-12, ...,\n",
       "           3.69160296e-13, 8.88846173e-07, 2.56327751e-05],\n",
       "          [6.03767730e-05, 5.81491758e-06, 7.10682441e-15, ...,\n",
       "           3.65576162e-15, 8.64249566e-07, 2.49212923e-05]]]),\n",
       "  'mfcc': array([[[-1.00000000e+00, -1.00000000e+00, -1.00000000e+00, ...,\n",
       "           -1.00000000e+00, -1.00000000e+00, -1.00000000e+00],\n",
       "          [ 0.00000000e+00, -4.21115694e-03, -1.40191113e-02, ...,\n",
       "           -2.80925419e-01, -8.81853179e-02,  8.71704823e-04],\n",
       "          [ 0.00000000e+00, -6.02528820e-03, -3.05556453e-02, ...,\n",
       "           -5.05988784e-01, -3.32429502e-01, -2.65389669e-01],\n",
       "          ...,\n",
       "          [ 0.00000000e+00,  1.73029867e-03,  1.44067490e-03, ...,\n",
       "            2.62413701e-02,  2.97358474e-02,  4.41919757e-02],\n",
       "          [ 0.00000000e+00, -9.87490846e-04,  3.90160627e-03, ...,\n",
       "            2.05495336e-02,  3.22354432e-02,  1.85131726e-02],\n",
       "          [ 0.00000000e+00,  2.31647256e-03,  3.03908238e-03, ...,\n",
       "           -4.18931081e-02, -4.97590135e-02, -6.25022653e-02]],\n",
       "  \n",
       "         [[-1.00000000e+00, -1.00000000e+00, -1.00000000e+00, ...,\n",
       "           -1.00000000e+00, -1.00000000e+00, -1.00000000e+00],\n",
       "          [-2.87259790e-01, -3.14666940e-01, -2.75510199e-01, ...,\n",
       "           -2.62641065e-01, -2.19813280e-01, -1.50801132e-01],\n",
       "          [-2.99974657e-01, -3.60342878e-01, -3.96446309e-01, ...,\n",
       "           -4.42418738e-01, -3.30485710e-01, -2.84583300e-01],\n",
       "          ...,\n",
       "          [ 6.81462152e-03,  1.00379751e-02,  1.36595230e-02, ...,\n",
       "            7.68045085e-04,  3.17950558e-03,  1.22476324e-03],\n",
       "          [ 3.33370876e-02,  1.82451404e-02,  1.20838226e-02, ...,\n",
       "           -1.47480078e-03, -8.54561902e-03, -1.86226073e-02],\n",
       "          [-3.88050544e-03, -9.76951106e-03, -2.16310706e-02, ...,\n",
       "           -7.97306195e-03,  9.15351175e-03,  1.32817715e-02]],\n",
       "  \n",
       "         [[-1.00000000e+00, -1.00000000e+00, -1.00000000e+00, ...,\n",
       "           -1.00000000e+00, -1.00000000e+00, -1.00000000e+00],\n",
       "          [-1.70420180e-02, -1.13315872e-01, -3.01735455e-01, ...,\n",
       "           -2.85902753e-01, -3.00497382e-01, -2.61680590e-01],\n",
       "          [-3.14542538e-01, -4.47126624e-01, -5.24059540e-01, ...,\n",
       "           -3.80459492e-01, -3.90703494e-01, -3.12929899e-01],\n",
       "          ...,\n",
       "          [ 8.16031035e-02,  5.82802047e-02,  1.73431266e-02, ...,\n",
       "           -6.12869786e-03,  2.66722072e-03,  1.66162565e-02],\n",
       "          [-9.25535235e-03, -1.83547101e-02,  1.06266112e-02, ...,\n",
       "            1.45776850e-04,  5.58284222e-03,  8.67375921e-03],\n",
       "          [-5.99303601e-02, -3.70690943e-02, -2.25652266e-02, ...,\n",
       "           -9.85422196e-04, -2.58037557e-02, -3.05814471e-02]],\n",
       "  \n",
       "         ...,\n",
       "  \n",
       "         [[-1.00000000e+00, -1.00000000e+00, -1.00000000e+00, ...,\n",
       "           -1.00000000e+00, -1.00000000e+00, -1.00000000e+00],\n",
       "          [-6.13150563e-02, -8.43447404e-02, -9.26630414e-02, ...,\n",
       "           -1.44843915e-02,  1.12135017e-01,  2.05546686e-01],\n",
       "          [-4.73658380e-01, -6.22527596e-01, -6.87383776e-01, ...,\n",
       "           -4.57538648e-01, -4.59801448e-01, -3.87227675e-01],\n",
       "          ...,\n",
       "          [-1.00383857e-02,  5.10007919e-04,  9.26022056e-04, ...,\n",
       "           -4.89370215e-03, -4.09795280e-03,  2.38358089e-03],\n",
       "          [-2.34841643e-02, -1.82798607e-02, -1.66465712e-02, ...,\n",
       "           -1.77749401e-02, -1.50930882e-02, -1.88112849e-02],\n",
       "          [-1.68259500e-02, -3.69550261e-02, -1.47661030e-02, ...,\n",
       "           -1.30854453e-02, -3.89672760e-02, -4.45556259e-02]],\n",
       "  \n",
       "         [[-1.00000000e+00, -1.00000000e+00, -1.00000000e+00, ...,\n",
       "           -1.00000000e+00, -1.00000000e+00, -1.00000000e+00],\n",
       "          [ 2.12016359e-01,  1.76740728e-01, -3.45304104e-02, ...,\n",
       "           -4.71646232e-02,  1.30428884e-01,  2.56795621e-01],\n",
       "          [-3.30695231e-01, -4.14236476e-01, -5.46562621e-01, ...,\n",
       "           -6.32970264e-01, -6.36139557e-01, -5.40973127e-01],\n",
       "          ...,\n",
       "          [-2.52669305e-02, -7.39251218e-03,  2.91513977e-04, ...,\n",
       "            3.60486056e-03,  1.76464695e-02,  2.60957581e-02],\n",
       "          [-2.91125626e-02, -3.56826737e-02, -2.92342841e-02, ...,\n",
       "           -1.61637240e-02, -3.33190639e-02, -3.13166196e-02],\n",
       "          [-1.25007466e-02, -3.61529321e-02, -3.46428589e-02, ...,\n",
       "           -1.05832062e-02, -1.32985068e-02, -3.08494004e-02]],\n",
       "  \n",
       "         [[-1.00000000e+00, -1.00000000e+00, -1.00000000e+00, ...,\n",
       "           -1.00000000e+00, -1.00000000e+00, -1.00000000e+00],\n",
       "          [ 2.26736736e-01,  1.99539721e-01, -1.94516159e-02, ...,\n",
       "           -9.92759876e-02,  9.65391290e-02,  2.03540270e-01],\n",
       "          [-3.84792792e-01, -4.90711772e-01, -5.96960290e-01, ...,\n",
       "           -6.46659523e-01, -4.90625507e-01, -3.77913846e-01],\n",
       "          ...,\n",
       "          [-1.17734264e-02, -1.40349750e-02, -5.13454502e-03, ...,\n",
       "           -4.00758371e-03,  1.22213143e-02,  1.23206477e-02],\n",
       "          [-4.44058976e-03, -1.03469680e-02, -9.71319233e-03, ...,\n",
       "           -3.04325411e-02, -2.84355036e-02, -1.94083188e-02],\n",
       "          [-1.56179342e-02, -9.66299050e-03, -2.74065941e-03, ...,\n",
       "           -3.17782573e-02, -3.10468596e-02, -1.73763011e-02]]]),\n",
       "  'chroma': array([[[1.        , 0.82158763, 0.62119429, ..., 0.02380319,\n",
       "           0.01105543, 0.0080308 ],\n",
       "          [0.48209316, 1.        , 1.        , ..., 0.02147725,\n",
       "           0.01033903, 0.00384139],\n",
       "          [0.235259  , 0.83698286, 0.96373214, ..., 0.12188505,\n",
       "           0.02243894, 0.0034344 ],\n",
       "          ...,\n",
       "          [0.18017591, 0.26969608, 0.45614751, ..., 0.38890707,\n",
       "           0.62013834, 0.44653145],\n",
       "          [0.26936556, 0.52499822, 0.52134098, ..., 0.15684905,\n",
       "           1.        , 1.        ],\n",
       "          [0.67199701, 0.71724727, 0.63761475, ..., 0.07282185,\n",
       "           0.06869306, 0.08382002]],\n",
       "  \n",
       "         [[0.2683098 , 0.43491164, 0.42227272, ..., 0.03761925,\n",
       "           0.09874713, 0.24098366],\n",
       "          [0.09511356, 0.18924732, 0.20881938, ..., 0.02280014,\n",
       "           0.07959431, 0.14060751],\n",
       "          [0.13184091, 0.17506193, 0.16096104, ..., 0.10694081,\n",
       "           0.14006471, 0.22004281],\n",
       "          ...,\n",
       "          [0.62474211, 0.92357143, 0.563859  , ..., 0.0708438 ,\n",
       "           0.27605892, 0.32426266],\n",
       "          [1.        , 1.        , 1.        , ..., 0.06394172,\n",
       "           0.2136781 , 0.26485183],\n",
       "          [0.686427  , 0.805482  , 0.69362047, ..., 0.05299557,\n",
       "           0.14633271, 0.22727529]],\n",
       "  \n",
       "         [[0.07901222, 0.11680351, 0.16400459, ..., 0.38341492,\n",
       "           0.38535306, 0.51461082],\n",
       "          [0.00708798, 0.01268611, 0.02727081, ..., 0.13406264,\n",
       "           0.12285697, 0.13188032],\n",
       "          [0.00286053, 0.00888119, 0.058557  , ..., 0.35858375,\n",
       "           0.16541652, 0.14506674],\n",
       "          ...,\n",
       "          [0.05143009, 0.04966387, 0.30540973, ..., 0.19458406,\n",
       "           0.44680744, 0.59686007],\n",
       "          [0.77933683, 0.63235582, 1.        , ..., 0.53981681,\n",
       "           0.64970725, 0.65372715],\n",
       "          [1.        , 1.        , 0.88946083, ..., 1.        ,\n",
       "           1.        , 1.        ]],\n",
       "  \n",
       "         ...,\n",
       "  \n",
       "         [[0.07743505, 0.16818292, 0.18096613, ..., 0.54379233,\n",
       "           0.33653841, 0.28800448],\n",
       "          [0.20891529, 0.19045216, 0.1596151 , ..., 0.25236097,\n",
       "           0.17944153, 0.25733292],\n",
       "          [0.3924657 , 0.37055625, 0.21061672, ..., 0.32473051,\n",
       "           0.64051459, 0.69169506],\n",
       "          ...,\n",
       "          [1.        , 1.        , 0.25488667, ..., 0.72343019,\n",
       "           0.64925429, 0.95916028],\n",
       "          [0.63493465, 0.61141174, 0.28776969, ..., 0.73826463,\n",
       "           0.60932826, 0.72070221],\n",
       "          [0.22191725, 0.3374475 , 0.34753046, ..., 1.        ,\n",
       "           0.82984429, 0.87138225]],\n",
       "  \n",
       "         [[0.12637339, 0.04699507, 0.02106903, ..., 0.03906271,\n",
       "           0.05514295, 0.04280925],\n",
       "          [0.16142536, 0.09419178, 0.01923244, ..., 0.14075625,\n",
       "           0.10388085, 0.09610618],\n",
       "          [0.12055691, 0.07283609, 0.03653388, ..., 0.48152396,\n",
       "           0.1537081 , 0.18691267],\n",
       "          ...,\n",
       "          [0.10780867, 0.16612899, 0.25053825, ..., 0.07728425,\n",
       "           0.08686639, 0.08404703],\n",
       "          [0.14716988, 0.27871749, 0.3220251 , ..., 0.07546477,\n",
       "           0.08536276, 0.0781283 ],\n",
       "          [0.20040451, 0.16107645, 0.10467604, ..., 0.04612757,\n",
       "           0.03897899, 0.033696  ]],\n",
       "  \n",
       "         [[0.68785978, 0.57849681, 0.34896289, ..., 0.85391235,\n",
       "           0.3078534 , 0.25808923],\n",
       "          [0.15210995, 0.22129616, 0.26840228, ..., 0.25168961,\n",
       "           0.16840504, 0.26914057],\n",
       "          [0.14954062, 0.13208163, 0.10379142, ..., 0.12461795,\n",
       "           0.12390337, 0.13049766],\n",
       "          ...,\n",
       "          [0.53685625, 0.51313537, 0.49988096, ..., 0.1496399 ,\n",
       "           0.20896966, 0.39809802],\n",
       "          [0.61081599, 1.        , 1.        , ..., 0.34457973,\n",
       "           0.71464512, 1.        ],\n",
       "          [1.        , 0.7160754 , 0.58608661, ..., 1.        ,\n",
       "           1.        , 0.91206503]]]),\n",
       "  'rms': array([[[5.05370808e-05, 8.78098072e-05, 2.15589171e-04, ...,\n",
       "           5.13823703e-02, 7.03647807e-02, 5.86311743e-02]],\n",
       "  \n",
       "         [[3.79729755e-02, 3.94145846e-02, 4.04817984e-02, ...,\n",
       "           4.70338650e-02, 3.57368961e-02, 1.08616240e-02]],\n",
       "  \n",
       "         [[1.24829374e-01, 1.25926673e-01, 1.26548901e-01, ...,\n",
       "           4.16470319e-02, 4.78326976e-02, 4.67219427e-02]],\n",
       "  \n",
       "         ...,\n",
       "  \n",
       "         [[1.71901062e-02, 2.60976255e-02, 3.16082686e-02, ...,\n",
       "           1.17451707e-02, 1.27976313e-02, 1.20178480e-02]],\n",
       "  \n",
       "         [[1.65713187e-02, 1.89913698e-02, 2.15556379e-02, ...,\n",
       "           2.83418819e-02, 2.86460817e-02, 2.65037678e-02]],\n",
       "  \n",
       "         [[1.61668118e-02, 1.95897371e-02, 2.23035850e-02, ...,\n",
       "           2.70717498e-02, 2.05202401e-02, 1.15826698e-02]]], dtype=float32),\n",
       "  'label': array([1, 1, 1, ..., 5, 5, 5])}}"
      ]
     },
     "execution_count": 51,
     "metadata": {},
     "output_type": "execute_result"
    }
   ],
   "source": [
    "merged_dict = {'train': train_features, 'val': val_features}\n",
    "merged_dict"
   ]
  },
  {
   "cell_type": "markdown",
   "metadata": {},
   "source": [
    "### Save the merged dictionary to a pkl"
   ]
  },
  {
   "cell_type": "code",
   "execution_count": 52,
   "metadata": {},
   "outputs": [],
   "source": [
    "with open('C:/Users/thato/Documents/Final-Year-Project/Dataset/Project-V4/feature-extraction/NotAnnotated/NotAveragePooled/split_features_6s_all.pkl', 'wb') as file:\n",
    "  pickle.dump(merged_dict, file)"
   ]
  },
  {
   "cell_type": "markdown",
   "metadata": {},
   "source": [
    "## **Window Size = 4s**"
   ]
  },
  {
   "cell_type": "markdown",
   "metadata": {},
   "source": [
    "### **['melspectrogram']**"
   ]
  },
  {
   "cell_type": "code",
   "execution_count": 53,
   "metadata": {},
   "outputs": [],
   "source": [
    "features_list = ['melspectrogram']"
   ]
  },
  {
   "cell_type": "code",
   "execution_count": 54,
   "metadata": {},
   "outputs": [
    {
     "name": "stdout",
     "output_type": "stream",
     "text": [
      "Train DataFrame shape: (485, 6)\n",
      "Validation DataFrame shape: (130, 6)\n",
      "Number of rows in dataframe: 485\n"
     ]
    },
    {
     "name": "stderr",
     "output_type": "stream",
     "text": [
      "Processing data: 100%|██████████| 485/485 [01:13<00:00,  6.64it/s]\n"
     ]
    },
    {
     "name": "stdout",
     "output_type": "stream",
     "text": [
      "Number of rows in dataframe: 130\n"
     ]
    },
    {
     "name": "stderr",
     "output_type": "stream",
     "text": [
      "Processing data: 100%|██████████| 130/130 [00:17<00:00,  7.27it/s]\n"
     ]
    }
   ],
   "source": [
    "features = Extraction(train_data,\n",
    "                      val_data,\n",
    "                      window_size=4,\n",
    "                      features=features_list,\n",
    "                      avgpool=False\n",
    "                      )"
   ]
  },
  {
   "cell_type": "code",
   "execution_count": 55,
   "metadata": {},
   "outputs": [
    {
     "data": {
      "text/plain": [
       "(10981,)"
      ]
     },
     "metadata": {},
     "output_type": "display_data"
    },
    {
     "data": {
      "text/plain": [
       "'melspectrogram'"
      ]
     },
     "metadata": {},
     "output_type": "display_data"
    },
    {
     "data": {
      "text/plain": [
       "(10981, 60, 173)"
      ]
     },
     "metadata": {},
     "output_type": "display_data"
    }
   ],
   "source": [
    "train_y = features.train_y\n",
    "display(train_y.shape)\n",
    "\n",
    "train_features = features.train_features\n",
    "for key in train_features.keys():\n",
    "  display(key)\n",
    "  display(train_features[key].shape)"
   ]
  },
  {
   "cell_type": "code",
   "execution_count": 56,
   "metadata": {},
   "outputs": [
    {
     "data": {
      "text/plain": [
       "array(['Acrocephalus melanopogon', 'Acrocephalus melanopogon',\n",
       "       'Acrocephalus melanopogon', ..., 'Anas strepera', 'Anas strepera',\n",
       "       'Anas strepera'], dtype='<U25')"
      ]
     },
     "execution_count": 56,
     "metadata": {},
     "output_type": "execute_result"
    }
   ],
   "source": [
    "train_y"
   ]
  },
  {
   "cell_type": "code",
   "execution_count": 57,
   "metadata": {},
   "outputs": [
    {
     "data": {
      "text/plain": [
       "(2928,)"
      ]
     },
     "metadata": {},
     "output_type": "display_data"
    },
    {
     "data": {
      "text/plain": [
       "'melspectrogram'"
      ]
     },
     "metadata": {},
     "output_type": "display_data"
    },
    {
     "data": {
      "text/plain": [
       "(2928, 60, 173)"
      ]
     },
     "metadata": {},
     "output_type": "display_data"
    }
   ],
   "source": [
    "val_y = features.val_y\n",
    "display(val_y.shape)\n",
    "\n",
    "val_features = features.val_features\n",
    "for key in val_features.keys():\n",
    "  display(key)\n",
    "  display(val_features[key].shape)"
   ]
  },
  {
   "cell_type": "markdown",
   "metadata": {},
   "source": [
    "### Encode Classes"
   ]
  },
  {
   "cell_type": "code",
   "execution_count": 58,
   "metadata": {},
   "outputs": [
    {
     "name": "stdout",
     "output_type": "stream",
     "text": [
      "Encoded classes for [0, 1, 2]: ['Acrocephalus arundinaceus', 'Acrocephalus melanopogon', 'Acrocephalus scirpaceus']\n",
      "Encoded training labels: [1 1 1 ... 5 5 5]\n",
      "Encoded validation labels: [1 1 1 ... 5 5 5]\n"
     ]
    }
   ],
   "source": [
    "label_encoder = LabelEncoder().fit(train_y)\n",
    "train_y_encoded = label_encoder.transform(train_y)\n",
    "val_y_encoded = label_encoder.transform(val_y)\n",
    "\n",
    "classes = list(label_encoder.inverse_transform([0, 1, 2]))\n",
    "print(\"Encoded classes for [0, 1, 2]:\", classes)\n",
    "print(\"Encoded training labels:\", train_y_encoded)\n",
    "print(\"Encoded validation labels:\", val_y_encoded)"
   ]
  },
  {
   "cell_type": "code",
   "execution_count": 59,
   "metadata": {},
   "outputs": [
    {
     "data": {
      "text/plain": [
       "10981"
      ]
     },
     "metadata": {},
     "output_type": "display_data"
    },
    {
     "data": {
      "text/plain": [
       "array(['Acrocephalus melanopogon', 'Acrocephalus melanopogon',\n",
       "       'Acrocephalus melanopogon', 'Acrocephalus melanopogon',\n",
       "       'Acrocephalus melanopogon', 'Acrocephalus melanopogon',\n",
       "       'Acrocephalus melanopogon', 'Acrocephalus melanopogon',\n",
       "       'Acrocephalus melanopogon', 'Acrocephalus melanopogon'],\n",
       "      dtype='<U25')"
      ]
     },
     "metadata": {},
     "output_type": "display_data"
    },
    {
     "data": {
      "text/plain": [
       "2928"
      ]
     },
     "metadata": {},
     "output_type": "display_data"
    },
    {
     "data": {
      "text/plain": [
       "array(['Acrocephalus melanopogon', 'Acrocephalus melanopogon',\n",
       "       'Acrocephalus melanopogon', 'Acrocephalus melanopogon',\n",
       "       'Acrocephalus melanopogon', 'Acrocephalus melanopogon',\n",
       "       'Acrocephalus melanopogon', 'Acrocephalus melanopogon',\n",
       "       'Acrocephalus melanopogon', 'Acrocephalus melanopogon'],\n",
       "      dtype='<U25')"
      ]
     },
     "metadata": {},
     "output_type": "display_data"
    }
   ],
   "source": [
    "display(len(train_y))\n",
    "display(train_y[:10])\n",
    "\n",
    "display(len(val_y))\n",
    "display(val_y[:10])"
   ]
  },
  {
   "cell_type": "code",
   "execution_count": 60,
   "metadata": {},
   "outputs": [],
   "source": [
    "train_features['label'] = train_y_encoded\n",
    "val_features['label'] = val_y_encoded"
   ]
  },
  {
   "cell_type": "code",
   "execution_count": 61,
   "metadata": {},
   "outputs": [
    {
     "data": {
      "text/plain": [
       "{'train': {'melspectrogram': array([[[2.70414866e-03, 2.79165306e-04, 2.78151976e-06, ...,\n",
       "           1.06072697e-14, 6.16832790e-08, 5.78963081e-06],\n",
       "          [2.85087147e-03, 2.95306839e-04, 3.42857310e-06, ...,\n",
       "           1.12205350e-14, 6.15759939e-08, 5.77909589e-06],\n",
       "          [3.04498922e-03, 3.15533762e-04, 4.71718391e-06, ...,\n",
       "           1.25414211e-14, 6.13728398e-08, 5.75930686e-06],\n",
       "          ...,\n",
       "          [4.71950382e-06, 6.96979924e-07, 9.83989841e-06, ...,\n",
       "           1.16200449e-08, 1.17388327e-08, 3.10218327e-07],\n",
       "          [4.43196142e-06, 4.70733005e-07, 1.06044568e-07, ...,\n",
       "           1.11483545e-10, 1.11642392e-09, 9.85757182e-08],\n",
       "          [4.34125244e-06, 4.54310514e-07, 3.83112779e-09, ...,\n",
       "           1.07090598e-13, 3.56324655e-10, 3.34282947e-08]],\n",
       "  \n",
       "         [[1.22058890e-04, 9.34677081e-06, 3.22876749e-15, ...,\n",
       "           9.62427203e-15, 2.13093339e-07, 5.59486302e-06],\n",
       "          [1.24266710e-04, 9.51594868e-06, 1.18513276e-14, ...,\n",
       "           1.10033380e-14, 2.14718425e-07, 5.63834027e-06],\n",
       "          [1.28022462e-04, 9.80447630e-06, 3.00770811e-14, ...,\n",
       "           1.36940054e-14, 2.17515588e-07, 5.71325539e-06],\n",
       "          ...,\n",
       "          [1.50215815e-04, 1.13776341e-05, 5.88939681e-08, ...,\n",
       "           4.16812645e-08, 2.77897772e-08, 1.74555482e-07],\n",
       "          [1.35939287e-04, 1.01194749e-05, 6.81656219e-10, ...,\n",
       "           1.99050115e-10, 4.95835003e-09, 1.27424299e-07],\n",
       "          [1.28983083e-04, 9.60034989e-06, 3.19279506e-13, ...,\n",
       "           5.53632923e-13, 4.17230605e-09, 1.10114459e-07]],\n",
       "  \n",
       "         [[1.85531718e-04, 9.53108016e-06, 6.73317545e-14, ...,\n",
       "           1.53200308e-15, 4.15455699e-05, 2.92988185e-04],\n",
       "          [1.85189439e-04, 9.51309255e-06, 8.42760427e-14, ...,\n",
       "           5.95023518e-15, 4.15813829e-05, 2.93219312e-04],\n",
       "          [1.84552632e-04, 9.47953394e-06, 1.24909763e-13, ...,\n",
       "           1.68148157e-14, 4.16372150e-05, 2.93574015e-04],\n",
       "          ...,\n",
       "          [9.75108828e-06, 1.04482380e-06, 7.89420354e-07, ...,\n",
       "           5.43291212e-07, 7.29145532e-07, 3.91464839e-06],\n",
       "          [3.11197699e-06, 1.65035803e-07, 4.67140284e-09, ...,\n",
       "           2.44161576e-09, 2.99451286e-07, 2.13969076e-06],\n",
       "          [1.06945481e-06, 5.49462517e-08, 2.69519549e-12, ...,\n",
       "           1.80699632e-12, 1.60426648e-07, 1.15864989e-06]],\n",
       "  \n",
       "         ...,\n",
       "  \n",
       "         [[4.53545916e-05, 1.08413024e-05, 4.24713284e-12, ...,\n",
       "           1.79452193e-12, 5.49812374e-06, 1.25407868e-04],\n",
       "          [4.37971747e-05, 1.04546110e-05, 4.65429526e-12, ...,\n",
       "           2.04306704e-12, 5.65769311e-06, 1.28844396e-04],\n",
       "          [4.11926453e-05, 9.80866494e-06, 7.18891216e-12, ...,\n",
       "           5.61405479e-12, 5.92814020e-06, 1.34608965e-04],\n",
       "          ...,\n",
       "          [2.69419111e-06, 7.70524302e-07, 5.31593332e-08, ...,\n",
       "           2.20108621e-06, 2.65937884e-06, 2.05497310e-05],\n",
       "          [2.28072579e-06, 5.53895454e-07, 3.41803059e-10, ...,\n",
       "           5.16434544e-09, 8.54769837e-07, 1.88719287e-05],\n",
       "          [2.12366163e-06, 5.15512523e-07, 2.35857229e-13, ...,\n",
       "           1.50317432e-11, 8.16669463e-07, 1.81266161e-05]],\n",
       "  \n",
       "         [[2.77919571e-05, 6.26175072e-06, 4.30767081e-13, ...,\n",
       "           1.47949633e-13, 1.61745700e-07, 3.68414928e-06],\n",
       "          [2.86982712e-05, 6.46024761e-06, 5.86313694e-13, ...,\n",
       "           1.79571111e-13, 4.38818437e-07, 1.14984100e-05],\n",
       "          [3.02660893e-05, 6.80379156e-06, 9.69896926e-13, ...,\n",
       "           1.39866118e-11, 9.31861554e-07, 2.54277042e-05],\n",
       "          ...,\n",
       "          [1.73688190e-05, 3.83962587e-06, 5.50612062e-09, ...,\n",
       "           2.10456630e-07, 5.35742558e-07, 1.18287610e-05],\n",
       "          [1.68427376e-05, 3.71781534e-06, 4.53019651e-11, ...,\n",
       "           8.05668277e-10, 3.86940104e-07, 1.09509478e-05],\n",
       "          [1.65244224e-05, 3.64759259e-06, 2.31412768e-14, ...,\n",
       "           5.57668664e-13, 3.73854361e-07, 1.05889656e-05]],\n",
       "  \n",
       "         [[2.21190790e-04, 1.11619865e-05, 2.78268022e-13, ...,\n",
       "           6.64144953e-13, 6.06065351e-06, 1.80225760e-04],\n",
       "          [2.27187641e-04, 1.14519734e-05, 4.36195285e-13, ...,\n",
       "           7.53064417e-13, 7.57478226e-06, 2.20312062e-04],\n",
       "          [2.37296329e-04, 1.19372313e-05, 3.16946407e-12, ...,\n",
       "           2.05715536e-11, 1.02697193e-05, 2.91742091e-04],\n",
       "          ...,\n",
       "          [3.49611326e-05, 1.79054528e-06, 3.76184452e-08, ...,\n",
       "           1.14418343e-06, 1.02615584e-06, 3.56901139e-06],\n",
       "          [3.31546237e-05, 1.64014080e-06, 1.89029078e-10, ...,\n",
       "           7.20181581e-09, 1.76884919e-07, 4.48333902e-06],\n",
       "          [3.18327952e-05, 1.57461145e-06, 2.20048537e-13, ...,\n",
       "           2.00185213e-12, 2.10899421e-07, 5.50138228e-06]]]),\n",
       "  'label': array([1, 1, 1, ..., 5, 5, 5])},\n",
       " 'val': {'melspectrogram': array([[[3.20727065e-05, 1.70512106e-06, 1.61698192e-11, ...,\n",
       "           6.51919109e-16, 3.52798572e-05, 5.80518954e-04],\n",
       "          [3.22422717e-05, 1.71387116e-06, 1.71018208e-11, ...,\n",
       "           1.78419135e-15, 3.53328172e-05, 5.81392126e-04],\n",
       "          [3.25622734e-05, 1.73066317e-06, 2.72505511e-11, ...,\n",
       "           9.38545504e-15, 3.54213638e-05, 5.82851237e-04],\n",
       "          ...,\n",
       "          [5.14212831e-05, 6.76458209e-06, 2.39359128e-06, ...,\n",
       "           1.86555335e-08, 5.14694003e-05, 8.50335325e-04],\n",
       "          [3.93156198e-05, 2.11725020e-06, 1.69905801e-08, ...,\n",
       "           5.81475619e-11, 4.76169745e-05, 7.86853952e-04],\n",
       "          [3.57245249e-05, 1.90032216e-06, 7.52069991e-12, ...,\n",
       "           4.47673507e-14, 4.53169271e-05, 7.48899732e-04]],\n",
       "  \n",
       "         [[6.48721776e-07, 2.51687682e-08, 1.20811478e-16, ...,\n",
       "           2.31628441e-16, 1.35943704e-04, 4.53302596e-04],\n",
       "          [6.56912517e-07, 2.54913397e-08, 1.48312609e-16, ...,\n",
       "           5.80674803e-16, 1.36152609e-04, 4.53998021e-04],\n",
       "          [6.71581488e-07, 2.60724107e-08, 5.48819244e-16, ...,\n",
       "           1.75166606e-15, 1.36501635e-04, 4.55159892e-04],\n",
       "          ...,\n",
       "          [1.49919305e-05, 5.92901727e-07, 3.65376164e-09, ...,\n",
       "           1.73699489e-09, 9.75882017e-06, 3.26170258e-05],\n",
       "          [1.35024340e-05, 5.32285488e-07, 2.16074121e-11, ...,\n",
       "           1.14464904e-11, 8.74825819e-06, 2.92439550e-05],\n",
       "          [1.26888818e-05, 5.00144981e-07, 4.81409993e-15, ...,\n",
       "           7.36633734e-15, 8.15206951e-06, 2.72527820e-05]],\n",
       "  \n",
       "         [[9.19919779e-05, 5.26726384e-05, 2.45803321e-15, ...,\n",
       "           3.11911142e-15, 3.19203865e-08, 5.78416526e-07],\n",
       "          [9.21303968e-05, 5.27520088e-05, 3.30938411e-15, ...,\n",
       "           3.35683353e-15, 3.22797805e-08, 5.84737264e-07],\n",
       "          [9.23618232e-05, 5.28847010e-05, 1.73820453e-14, ...,\n",
       "           4.15388779e-15, 3.28749904e-08, 5.95219735e-07],\n",
       "          ...,\n",
       "          [1.34724464e-04, 7.73807048e-05, 7.32493305e-09, ...,\n",
       "           7.22783890e-09, 1.03987422e-07, 1.75648774e-06],\n",
       "          [1.24787908e-04, 7.16834683e-05, 4.83470525e-11, ...,\n",
       "           3.55217389e-11, 9.49702970e-08, 1.66553338e-06],\n",
       "          [1.18756807e-04, 6.82215641e-05, 5.43679073e-14, ...,\n",
       "           3.58539854e-14, 9.18817026e-08, 1.61190990e-06]],\n",
       "  \n",
       "         ...,\n",
       "  \n",
       "         [[2.81189319e-05, 3.29715486e-06, 1.57151534e-13, ...,\n",
       "           4.00597100e-12, 1.37029898e-06, 1.16098332e-05],\n",
       "          [2.96301697e-05, 3.47909463e-06, 2.06332233e-13, ...,\n",
       "           4.37265869e-12, 1.37041705e-06, 1.16234446e-05],\n",
       "          [3.22567490e-05, 3.79543364e-06, 3.07032773e-13, ...,\n",
       "           5.09112164e-12, 1.37027311e-06, 1.16445451e-05],\n",
       "          ...,\n",
       "          [1.34814636e-07, 1.65917712e-08, 3.27621862e-10, ...,\n",
       "           1.57843192e-08, 7.32902996e-06, 6.24554551e-05],\n",
       "          [1.28848714e-07, 1.58343588e-08, 5.49498571e-14, ...,\n",
       "           1.35605479e-10, 6.92316257e-06, 5.90396147e-05],\n",
       "          [1.24150929e-07, 1.52566359e-08, 2.00781633e-17, ...,\n",
       "           3.64225792e-14, 6.66895798e-06, 5.68748356e-05]],\n",
       "  \n",
       "         [[2.97158252e-03, 2.85226650e-04, 4.52995963e-13, ...,\n",
       "           1.33980838e-15, 2.83606005e-07, 2.72429269e-06],\n",
       "          [2.98828107e-03, 2.86823808e-04, 4.97379536e-13, ...,\n",
       "           1.89696938e-15, 3.42923680e-07, 3.23181228e-06],\n",
       "          [3.01631448e-03, 2.89505767e-04, 5.77359655e-13, ...,\n",
       "           3.91624208e-14, 4.45352981e-07, 4.10803218e-06],\n",
       "          ...,\n",
       "          [6.64369358e-05, 6.39903299e-06, 3.32201681e-10, ...,\n",
       "           4.65083375e-10, 9.65546307e-07, 8.10345688e-06],\n",
       "          [6.26423131e-05, 6.03302597e-06, 5.71884228e-12, ...,\n",
       "           1.66595551e-12, 9.46309919e-07, 7.94329431e-06],\n",
       "          [6.03767730e-05, 5.81491758e-06, 7.10682441e-15, ...,\n",
       "           2.60428740e-15, 9.33114729e-07, 7.83306273e-06]],\n",
       "  \n",
       "         [[1.37015581e-05, 1.89107099e-06, 4.75303650e-14, ...,\n",
       "           5.68353732e-15, 1.28459297e-04, 2.09956739e-03],\n",
       "          [1.37199341e-05, 1.89519525e-06, 5.18573563e-14, ...,\n",
       "           1.65724219e-14, 1.29958650e-04, 2.12423806e-03],\n",
       "          [1.37491348e-05, 1.90200919e-06, 6.25458216e-14, ...,\n",
       "           4.86761213e-14, 1.32516478e-04, 2.16633751e-03],\n",
       "          ...,\n",
       "          [7.46596836e-05, 1.03708078e-05, 6.26741169e-09, ...,\n",
       "           1.14556364e-09, 2.03950610e-06, 3.29065955e-05],\n",
       "          [6.97511398e-05, 9.67515422e-06, 8.50388865e-12, ...,\n",
       "           5.56499902e-13, 1.94696047e-06, 3.14592058e-05],\n",
       "          [6.71924180e-05, 9.32031589e-06, 5.79245132e-17, ...,\n",
       "           5.62221301e-15, 1.89304310e-06, 3.05858103e-05]]]),\n",
       "  'label': array([1, 1, 1, ..., 5, 5, 5])}}"
      ]
     },
     "execution_count": 61,
     "metadata": {},
     "output_type": "execute_result"
    }
   ],
   "source": [
    "merged_dict = {'train': train_features, 'val': val_features}\n",
    "merged_dict"
   ]
  },
  {
   "cell_type": "markdown",
   "metadata": {},
   "source": [
    "### Save the merged dictionary to a pkl"
   ]
  },
  {
   "cell_type": "code",
   "execution_count": 62,
   "metadata": {},
   "outputs": [],
   "source": [
    "with open('C:/Users/thato/Documents/Final-Year-Project/Dataset/Project-V4/feature-extraction/NotAnnotated/NotAveragePooled/split_features_4s_mel.pkl', 'wb') as file:\n",
    "  pickle.dump(merged_dict, file)"
   ]
  },
  {
   "cell_type": "markdown",
   "metadata": {},
   "source": [
    "### **['melspectrogram', 'mfcc']**"
   ]
  },
  {
   "cell_type": "code",
   "execution_count": 63,
   "metadata": {},
   "outputs": [],
   "source": [
    "features_list = ['melspectrogram', 'mfcc']"
   ]
  },
  {
   "cell_type": "code",
   "execution_count": 64,
   "metadata": {},
   "outputs": [
    {
     "name": "stdout",
     "output_type": "stream",
     "text": [
      "Train DataFrame shape: (485, 6)\n",
      "Validation DataFrame shape: (130, 6)\n",
      "Number of rows in dataframe: 485\n"
     ]
    },
    {
     "name": "stderr",
     "output_type": "stream",
     "text": [
      "Processing data: 100%|██████████| 485/485 [03:02<00:00,  2.65it/s]\n"
     ]
    },
    {
     "name": "stdout",
     "output_type": "stream",
     "text": [
      "Number of rows in dataframe: 130\n"
     ]
    },
    {
     "name": "stderr",
     "output_type": "stream",
     "text": [
      "Processing data: 100%|██████████| 130/130 [00:43<00:00,  2.98it/s]\n"
     ]
    }
   ],
   "source": [
    "features = Extraction(train_data,\n",
    "                      val_data,\n",
    "                      window_size=4,\n",
    "                      features=features_list,\n",
    "                      avgpool=False\n",
    "                      )"
   ]
  },
  {
   "cell_type": "code",
   "execution_count": 65,
   "metadata": {},
   "outputs": [
    {
     "data": {
      "text/plain": [
       "(10981,)"
      ]
     },
     "metadata": {},
     "output_type": "display_data"
    },
    {
     "data": {
      "text/plain": [
       "'melspectrogram'"
      ]
     },
     "metadata": {},
     "output_type": "display_data"
    },
    {
     "data": {
      "text/plain": [
       "(10981, 60, 173)"
      ]
     },
     "metadata": {},
     "output_type": "display_data"
    },
    {
     "data": {
      "text/plain": [
       "'mfcc'"
      ]
     },
     "metadata": {},
     "output_type": "display_data"
    },
    {
     "data": {
      "text/plain": [
       "(10981, 20, 173)"
      ]
     },
     "metadata": {},
     "output_type": "display_data"
    }
   ],
   "source": [
    "train_y = features.train_y\n",
    "display(train_y.shape)\n",
    "\n",
    "train_features = features.train_features\n",
    "for key in train_features.keys():\n",
    "  display(key)\n",
    "  display(train_features[key].shape)"
   ]
  },
  {
   "cell_type": "code",
   "execution_count": 66,
   "metadata": {},
   "outputs": [
    {
     "data": {
      "text/plain": [
       "(2928,)"
      ]
     },
     "metadata": {},
     "output_type": "display_data"
    },
    {
     "data": {
      "text/plain": [
       "'melspectrogram'"
      ]
     },
     "metadata": {},
     "output_type": "display_data"
    },
    {
     "data": {
      "text/plain": [
       "(2928, 60, 173)"
      ]
     },
     "metadata": {},
     "output_type": "display_data"
    },
    {
     "data": {
      "text/plain": [
       "'mfcc'"
      ]
     },
     "metadata": {},
     "output_type": "display_data"
    },
    {
     "data": {
      "text/plain": [
       "(2928, 20, 173)"
      ]
     },
     "metadata": {},
     "output_type": "display_data"
    }
   ],
   "source": [
    "val_y = features.val_y\n",
    "display(val_y.shape)\n",
    "\n",
    "val_features = features.val_features\n",
    "for key in val_features.keys():\n",
    "  display(key)\n",
    "  display(val_features[key].shape)"
   ]
  },
  {
   "cell_type": "markdown",
   "metadata": {},
   "source": [
    "### Encode Classes"
   ]
  },
  {
   "cell_type": "code",
   "execution_count": 67,
   "metadata": {},
   "outputs": [
    {
     "name": "stdout",
     "output_type": "stream",
     "text": [
      "Encoded classes for [0, 1, 2]: ['Acrocephalus arundinaceus', 'Acrocephalus melanopogon', 'Acrocephalus scirpaceus']\n",
      "Encoded training labels: [1 1 1 ... 5 5 5]\n",
      "Encoded validation labels: [1 1 1 ... 5 5 5]\n"
     ]
    }
   ],
   "source": [
    "label_encoder = LabelEncoder().fit(train_y)\n",
    "train_y_encoded = label_encoder.transform(train_y)\n",
    "val_y_encoded = label_encoder.transform(val_y)\n",
    "\n",
    "classes = list(label_encoder.inverse_transform([0, 1, 2]))\n",
    "print(\"Encoded classes for [0, 1, 2]:\", classes)\n",
    "print(\"Encoded training labels:\", train_y_encoded)\n",
    "print(\"Encoded validation labels:\", val_y_encoded)"
   ]
  },
  {
   "cell_type": "code",
   "execution_count": 68,
   "metadata": {},
   "outputs": [
    {
     "data": {
      "text/plain": [
       "10981"
      ]
     },
     "metadata": {},
     "output_type": "display_data"
    },
    {
     "data": {
      "text/plain": [
       "array(['Acrocephalus melanopogon', 'Acrocephalus melanopogon',\n",
       "       'Acrocephalus melanopogon', 'Acrocephalus melanopogon',\n",
       "       'Acrocephalus melanopogon', 'Acrocephalus melanopogon',\n",
       "       'Acrocephalus melanopogon', 'Acrocephalus melanopogon',\n",
       "       'Acrocephalus melanopogon', 'Acrocephalus melanopogon'],\n",
       "      dtype='<U25')"
      ]
     },
     "metadata": {},
     "output_type": "display_data"
    },
    {
     "data": {
      "text/plain": [
       "2928"
      ]
     },
     "metadata": {},
     "output_type": "display_data"
    },
    {
     "data": {
      "text/plain": [
       "array(['Acrocephalus melanopogon', 'Acrocephalus melanopogon',\n",
       "       'Acrocephalus melanopogon', 'Acrocephalus melanopogon',\n",
       "       'Acrocephalus melanopogon', 'Acrocephalus melanopogon',\n",
       "       'Acrocephalus melanopogon', 'Acrocephalus melanopogon',\n",
       "       'Acrocephalus melanopogon', 'Acrocephalus melanopogon'],\n",
       "      dtype='<U25')"
      ]
     },
     "metadata": {},
     "output_type": "display_data"
    }
   ],
   "source": [
    "display(len(train_y))\n",
    "display(train_y[:10])\n",
    "\n",
    "display(len(val_y))\n",
    "display(val_y[:10])"
   ]
  },
  {
   "cell_type": "code",
   "execution_count": 69,
   "metadata": {},
   "outputs": [],
   "source": [
    "train_features['label'] = train_y_encoded\n",
    "val_features['label'] = val_y_encoded"
   ]
  },
  {
   "cell_type": "code",
   "execution_count": 70,
   "metadata": {},
   "outputs": [
    {
     "data": {
      "text/plain": [
       "{'train': {'melspectrogram': array([[[2.70414866e-03, 2.79165306e-04, 2.78151976e-06, ...,\n",
       "           1.06072697e-14, 6.16832790e-08, 5.78963081e-06],\n",
       "          [2.85087147e-03, 2.95306839e-04, 3.42857310e-06, ...,\n",
       "           1.12205350e-14, 6.15759939e-08, 5.77909589e-06],\n",
       "          [3.04498922e-03, 3.15533762e-04, 4.71718391e-06, ...,\n",
       "           1.25414211e-14, 6.13728398e-08, 5.75930686e-06],\n",
       "          ...,\n",
       "          [4.71950382e-06, 6.96979924e-07, 9.83989841e-06, ...,\n",
       "           1.16200449e-08, 1.17388327e-08, 3.10218327e-07],\n",
       "          [4.43196142e-06, 4.70733005e-07, 1.06044568e-07, ...,\n",
       "           1.11483545e-10, 1.11642392e-09, 9.85757182e-08],\n",
       "          [4.34125244e-06, 4.54310514e-07, 3.83112779e-09, ...,\n",
       "           1.07090598e-13, 3.56324655e-10, 3.34282947e-08]],\n",
       "  \n",
       "         [[1.22058890e-04, 9.34677081e-06, 3.22876749e-15, ...,\n",
       "           9.62427203e-15, 2.13093339e-07, 5.59486302e-06],\n",
       "          [1.24266710e-04, 9.51594868e-06, 1.18513276e-14, ...,\n",
       "           1.10033380e-14, 2.14718425e-07, 5.63834027e-06],\n",
       "          [1.28022462e-04, 9.80447630e-06, 3.00770811e-14, ...,\n",
       "           1.36940054e-14, 2.17515588e-07, 5.71325539e-06],\n",
       "          ...,\n",
       "          [1.50215815e-04, 1.13776341e-05, 5.88939681e-08, ...,\n",
       "           4.16812645e-08, 2.77897772e-08, 1.74555482e-07],\n",
       "          [1.35939287e-04, 1.01194749e-05, 6.81656219e-10, ...,\n",
       "           1.99050115e-10, 4.95835003e-09, 1.27424299e-07],\n",
       "          [1.28983083e-04, 9.60034989e-06, 3.19279506e-13, ...,\n",
       "           5.53632923e-13, 4.17230605e-09, 1.10114459e-07]],\n",
       "  \n",
       "         [[1.85531718e-04, 9.53108016e-06, 6.73317545e-14, ...,\n",
       "           1.53200308e-15, 4.15455699e-05, 2.92988185e-04],\n",
       "          [1.85189439e-04, 9.51309255e-06, 8.42760427e-14, ...,\n",
       "           5.95023518e-15, 4.15813829e-05, 2.93219312e-04],\n",
       "          [1.84552632e-04, 9.47953394e-06, 1.24909763e-13, ...,\n",
       "           1.68148157e-14, 4.16372150e-05, 2.93574015e-04],\n",
       "          ...,\n",
       "          [9.75108828e-06, 1.04482380e-06, 7.89420354e-07, ...,\n",
       "           5.43291212e-07, 7.29145532e-07, 3.91464839e-06],\n",
       "          [3.11197699e-06, 1.65035803e-07, 4.67140284e-09, ...,\n",
       "           2.44161576e-09, 2.99451286e-07, 2.13969076e-06],\n",
       "          [1.06945481e-06, 5.49462517e-08, 2.69519549e-12, ...,\n",
       "           1.80699632e-12, 1.60426648e-07, 1.15864989e-06]],\n",
       "  \n",
       "         ...,\n",
       "  \n",
       "         [[4.53545916e-05, 1.08413024e-05, 4.24713284e-12, ...,\n",
       "           1.79452193e-12, 5.49812374e-06, 1.25407868e-04],\n",
       "          [4.37971747e-05, 1.04546110e-05, 4.65429526e-12, ...,\n",
       "           2.04306704e-12, 5.65769311e-06, 1.28844396e-04],\n",
       "          [4.11926453e-05, 9.80866494e-06, 7.18891216e-12, ...,\n",
       "           5.61405479e-12, 5.92814020e-06, 1.34608965e-04],\n",
       "          ...,\n",
       "          [2.69419111e-06, 7.70524302e-07, 5.31593332e-08, ...,\n",
       "           2.20108621e-06, 2.65937884e-06, 2.05497310e-05],\n",
       "          [2.28072579e-06, 5.53895454e-07, 3.41803059e-10, ...,\n",
       "           5.16434544e-09, 8.54769837e-07, 1.88719287e-05],\n",
       "          [2.12366163e-06, 5.15512523e-07, 2.35857229e-13, ...,\n",
       "           1.50317432e-11, 8.16669463e-07, 1.81266161e-05]],\n",
       "  \n",
       "         [[2.77919571e-05, 6.26175072e-06, 4.30767081e-13, ...,\n",
       "           1.47949633e-13, 1.61745700e-07, 3.68414928e-06],\n",
       "          [2.86982712e-05, 6.46024761e-06, 5.86313694e-13, ...,\n",
       "           1.79571111e-13, 4.38818437e-07, 1.14984100e-05],\n",
       "          [3.02660893e-05, 6.80379156e-06, 9.69896926e-13, ...,\n",
       "           1.39866118e-11, 9.31861554e-07, 2.54277042e-05],\n",
       "          ...,\n",
       "          [1.73688190e-05, 3.83962587e-06, 5.50612062e-09, ...,\n",
       "           2.10456630e-07, 5.35742558e-07, 1.18287610e-05],\n",
       "          [1.68427376e-05, 3.71781534e-06, 4.53019651e-11, ...,\n",
       "           8.05668277e-10, 3.86940104e-07, 1.09509478e-05],\n",
       "          [1.65244224e-05, 3.64759259e-06, 2.31412768e-14, ...,\n",
       "           5.57668664e-13, 3.73854361e-07, 1.05889656e-05]],\n",
       "  \n",
       "         [[2.21190790e-04, 1.11619865e-05, 2.78268022e-13, ...,\n",
       "           6.64144953e-13, 6.06065351e-06, 1.80225760e-04],\n",
       "          [2.27187641e-04, 1.14519734e-05, 4.36195285e-13, ...,\n",
       "           7.53064417e-13, 7.57478226e-06, 2.20312062e-04],\n",
       "          [2.37296329e-04, 1.19372313e-05, 3.16946407e-12, ...,\n",
       "           2.05715536e-11, 1.02697193e-05, 2.91742091e-04],\n",
       "          ...,\n",
       "          [3.49611326e-05, 1.79054528e-06, 3.76184452e-08, ...,\n",
       "           1.14418343e-06, 1.02615584e-06, 3.56901139e-06],\n",
       "          [3.31546237e-05, 1.64014080e-06, 1.89029078e-10, ...,\n",
       "           7.20181581e-09, 1.76884919e-07, 4.48333902e-06],\n",
       "          [3.18327952e-05, 1.57461145e-06, 2.20048537e-13, ...,\n",
       "           2.00185213e-12, 2.10899421e-07, 5.50138228e-06]]]),\n",
       "  'mfcc': array([[[-1.00000000e+00, -1.00000000e+00, -1.00000000e+00, ...,\n",
       "           -1.00000000e+00, -1.00000000e+00, -1.00000000e+00],\n",
       "          [ 0.00000000e+00,  0.00000000e+00,  0.00000000e+00, ...,\n",
       "           -2.71197339e-01, -3.13886948e-01, -2.09831613e-01],\n",
       "          [ 0.00000000e+00,  0.00000000e+00,  0.00000000e+00, ...,\n",
       "           -5.31049173e-01, -6.01874742e-01, -4.93360724e-01],\n",
       "          ...,\n",
       "          [ 0.00000000e+00,  0.00000000e+00,  0.00000000e+00, ...,\n",
       "            2.81308106e-02,  3.07637710e-02,  9.38955135e-03],\n",
       "          [ 0.00000000e+00,  0.00000000e+00,  0.00000000e+00, ...,\n",
       "           -1.49445529e-02, -5.18208515e-04,  4.90068842e-03],\n",
       "          [ 0.00000000e+00,  0.00000000e+00,  0.00000000e+00, ...,\n",
       "           -1.18310387e-02, -1.15409626e-02, -1.49413174e-02]],\n",
       "  \n",
       "         [[-1.00000000e+00, -1.00000000e+00, -1.00000000e+00, ...,\n",
       "           -1.00000000e+00, -1.00000000e+00, -1.00000000e+00],\n",
       "          [-1.13884467e-01, -1.90462338e-01, -2.80728570e-01, ...,\n",
       "           -1.77356949e-01, -1.35265380e-01, -4.48146173e-02],\n",
       "          [-3.88151267e-01, -5.31972506e-01, -6.70721732e-01, ...,\n",
       "           -4.01965096e-01, -3.71173888e-01, -2.80858570e-01],\n",
       "          ...,\n",
       "          [ 1.73255585e-02, -1.06788942e-03, -1.71088627e-02, ...,\n",
       "            2.49748242e-02,  1.92685004e-02,  8.46749671e-03],\n",
       "          [-5.47289939e-03,  1.87034801e-02,  2.71181317e-02, ...,\n",
       "            4.15074098e-02,  5.33255007e-02,  5.02343202e-02],\n",
       "          [ 8.40523932e-03, -2.05144787e-02, -2.06837042e-02, ...,\n",
       "           -3.22943617e-02, -4.34185969e-02, -3.59342818e-02]],\n",
       "  \n",
       "         [[-1.00000000e+00, -1.00000000e+00, -1.00000000e+00, ...,\n",
       "           -1.00000000e+00, -1.00000000e+00, -1.00000000e+00],\n",
       "          [-1.15769114e-01, -1.75398284e-01, -1.88519369e-01, ...,\n",
       "           -2.02845265e-01, -1.81891807e-01, -1.30817563e-01],\n",
       "          [-2.87593679e-01, -3.52038536e-01, -3.60612811e-01, ...,\n",
       "           -3.23979939e-01, -2.88313535e-01, -2.24484996e-01],\n",
       "          ...,\n",
       "          [-4.15002928e-03,  1.65814591e-02,  2.00858316e-02, ...,\n",
       "            1.80511346e-02,  9.11321034e-03,  1.84152950e-02],\n",
       "          [ 9.62602933e-04,  5.92004925e-03,  9.36588659e-03, ...,\n",
       "            2.57671408e-02,  1.48558755e-02, -1.00115332e-02],\n",
       "          [-8.99508201e-03, -1.96778223e-02, -2.87123118e-02, ...,\n",
       "           -2.08099899e-02, -3.02161527e-02, -2.79936937e-02]],\n",
       "  \n",
       "         ...,\n",
       "  \n",
       "         [[-1.00000000e+00, -1.00000000e+00, -1.00000000e+00, ...,\n",
       "           -1.00000000e+00, -1.00000000e+00, -1.00000000e+00],\n",
       "          [ 1.81505237e-02, -2.22198564e-02, -1.29334149e-02, ...,\n",
       "           -4.04412676e-02, -2.59111334e-02,  4.93856753e-02],\n",
       "          [-3.39150452e-01, -3.95483510e-01, -3.76058121e-01, ...,\n",
       "           -2.95452815e-01, -2.77894602e-01, -2.10328343e-01],\n",
       "          ...,\n",
       "          [-4.89397952e-03, -9.57986065e-03, -9.03004413e-03, ...,\n",
       "           -1.22046744e-02, -1.20613899e-02, -3.02773425e-03],\n",
       "          [ 3.92683556e-04, -2.43617802e-04, -6.89425638e-03, ...,\n",
       "            5.57714743e-03,  2.99222366e-03,  3.85289470e-03],\n",
       "          [-1.65961286e-02, -2.22093292e-02, -2.37529600e-02, ...,\n",
       "           -2.88657744e-02, -1.88848214e-02, -5.86946160e-03]],\n",
       "  \n",
       "         [[-1.00000000e+00, -1.00000000e+00, -1.00000000e+00, ...,\n",
       "           -1.00000000e+00, -1.00000000e+00, -1.00000000e+00],\n",
       "          [ 1.23398083e-02, -9.25293640e-03, -2.48735891e-02, ...,\n",
       "           -4.53691606e-02, -3.25590310e-02,  7.50984938e-03],\n",
       "          [-4.19832527e-01, -4.87545845e-01, -5.51475361e-01, ...,\n",
       "           -2.62246102e-01, -2.61531239e-01, -2.24466822e-01],\n",
       "          ...,\n",
       "          [ 1.87954221e-02,  3.26667784e-03, -2.29411321e-02, ...,\n",
       "           -1.12141773e-02, -1.68255951e-02, -2.21169276e-02],\n",
       "          [-8.39194942e-03, -2.22651115e-03,  8.43202990e-03, ...,\n",
       "            1.71225067e-02,  2.85908654e-02,  2.73027009e-02],\n",
       "          [-2.79204545e-02, -1.90769306e-02, -1.71911823e-02, ...,\n",
       "           -2.39012313e-02, -2.78462864e-02, -2.44578822e-02]],\n",
       "  \n",
       "         [[-1.00000000e+00, -1.00000000e+00, -1.00000000e+00, ...,\n",
       "           -1.00000000e+00, -1.00000000e+00, -1.00000000e+00],\n",
       "          [ 6.09129623e-02,  5.16997495e-02,  3.58517762e-04, ...,\n",
       "           -1.99072861e-02, -6.33402224e-03,  2.51941185e-02],\n",
       "          [-2.09043003e-01, -3.37058934e-01, -4.62002069e-01, ...,\n",
       "           -1.82010076e-01, -1.78505734e-01, -1.37507895e-01],\n",
       "          ...,\n",
       "          [-1.28618385e-02, -1.90817063e-02, -6.89565773e-03, ...,\n",
       "           -1.67334471e-02, -9.35585696e-03, -4.43714473e-03],\n",
       "          [ 1.37333461e-02,  2.05511176e-02,  2.13040077e-02, ...,\n",
       "            8.00370711e-03,  1.55610108e-02,  1.56262297e-02],\n",
       "          [-1.51673917e-03, -9.38763901e-03, -4.81557838e-03, ...,\n",
       "           -1.42025540e-02, -1.78523413e-02, -1.77254800e-02]]]),\n",
       "  'label': array([1, 1, 1, ..., 5, 5, 5])},\n",
       " 'val': {'melspectrogram': array([[[3.20727065e-05, 1.70512106e-06, 1.61698192e-11, ...,\n",
       "           6.51919109e-16, 3.52798572e-05, 5.80518954e-04],\n",
       "          [3.22422717e-05, 1.71387116e-06, 1.71018208e-11, ...,\n",
       "           1.78419135e-15, 3.53328172e-05, 5.81392126e-04],\n",
       "          [3.25622734e-05, 1.73066317e-06, 2.72505511e-11, ...,\n",
       "           9.38545504e-15, 3.54213638e-05, 5.82851237e-04],\n",
       "          ...,\n",
       "          [5.14212831e-05, 6.76458209e-06, 2.39359128e-06, ...,\n",
       "           1.86555335e-08, 5.14694003e-05, 8.50335325e-04],\n",
       "          [3.93156198e-05, 2.11725020e-06, 1.69905801e-08, ...,\n",
       "           5.81475619e-11, 4.76169745e-05, 7.86853952e-04],\n",
       "          [3.57245249e-05, 1.90032216e-06, 7.52069991e-12, ...,\n",
       "           4.47673507e-14, 4.53169271e-05, 7.48899732e-04]],\n",
       "  \n",
       "         [[6.48721776e-07, 2.51687682e-08, 1.20811478e-16, ...,\n",
       "           2.31628441e-16, 1.35943704e-04, 4.53302596e-04],\n",
       "          [6.56912517e-07, 2.54913397e-08, 1.48312609e-16, ...,\n",
       "           5.80674803e-16, 1.36152609e-04, 4.53998021e-04],\n",
       "          [6.71581488e-07, 2.60724107e-08, 5.48819244e-16, ...,\n",
       "           1.75166606e-15, 1.36501635e-04, 4.55159892e-04],\n",
       "          ...,\n",
       "          [1.49919305e-05, 5.92901727e-07, 3.65376164e-09, ...,\n",
       "           1.73699489e-09, 9.75882017e-06, 3.26170258e-05],\n",
       "          [1.35024340e-05, 5.32285488e-07, 2.16074121e-11, ...,\n",
       "           1.14464904e-11, 8.74825819e-06, 2.92439550e-05],\n",
       "          [1.26888818e-05, 5.00144981e-07, 4.81409993e-15, ...,\n",
       "           7.36633734e-15, 8.15206951e-06, 2.72527820e-05]],\n",
       "  \n",
       "         [[9.19919779e-05, 5.26726384e-05, 2.45803321e-15, ...,\n",
       "           3.11911142e-15, 3.19203865e-08, 5.78416526e-07],\n",
       "          [9.21303968e-05, 5.27520088e-05, 3.30938411e-15, ...,\n",
       "           3.35683353e-15, 3.22797805e-08, 5.84737264e-07],\n",
       "          [9.23618232e-05, 5.28847010e-05, 1.73820453e-14, ...,\n",
       "           4.15388779e-15, 3.28749904e-08, 5.95219735e-07],\n",
       "          ...,\n",
       "          [1.34724464e-04, 7.73807048e-05, 7.32493305e-09, ...,\n",
       "           7.22783890e-09, 1.03987422e-07, 1.75648774e-06],\n",
       "          [1.24787908e-04, 7.16834683e-05, 4.83470525e-11, ...,\n",
       "           3.55217389e-11, 9.49702970e-08, 1.66553338e-06],\n",
       "          [1.18756807e-04, 6.82215641e-05, 5.43679073e-14, ...,\n",
       "           3.58539854e-14, 9.18817026e-08, 1.61190990e-06]],\n",
       "  \n",
       "         ...,\n",
       "  \n",
       "         [[2.81189319e-05, 3.29715486e-06, 1.57151534e-13, ...,\n",
       "           4.00597100e-12, 1.37029898e-06, 1.16098332e-05],\n",
       "          [2.96301697e-05, 3.47909463e-06, 2.06332233e-13, ...,\n",
       "           4.37265869e-12, 1.37041705e-06, 1.16234446e-05],\n",
       "          [3.22567490e-05, 3.79543364e-06, 3.07032773e-13, ...,\n",
       "           5.09112164e-12, 1.37027311e-06, 1.16445451e-05],\n",
       "          ...,\n",
       "          [1.34814636e-07, 1.65917712e-08, 3.27621862e-10, ...,\n",
       "           1.57843192e-08, 7.32902996e-06, 6.24554551e-05],\n",
       "          [1.28848714e-07, 1.58343588e-08, 5.49498571e-14, ...,\n",
       "           1.35605479e-10, 6.92316257e-06, 5.90396147e-05],\n",
       "          [1.24150929e-07, 1.52566359e-08, 2.00781633e-17, ...,\n",
       "           3.64225792e-14, 6.66895798e-06, 5.68748356e-05]],\n",
       "  \n",
       "         [[2.97158252e-03, 2.85226650e-04, 4.52995963e-13, ...,\n",
       "           1.33980838e-15, 2.83606005e-07, 2.72429269e-06],\n",
       "          [2.98828107e-03, 2.86823808e-04, 4.97379536e-13, ...,\n",
       "           1.89696938e-15, 3.42923680e-07, 3.23181228e-06],\n",
       "          [3.01631448e-03, 2.89505767e-04, 5.77359655e-13, ...,\n",
       "           3.91624208e-14, 4.45352981e-07, 4.10803218e-06],\n",
       "          ...,\n",
       "          [6.64369358e-05, 6.39903299e-06, 3.32201681e-10, ...,\n",
       "           4.65083375e-10, 9.65546307e-07, 8.10345688e-06],\n",
       "          [6.26423131e-05, 6.03302597e-06, 5.71884228e-12, ...,\n",
       "           1.66595551e-12, 9.46309919e-07, 7.94329431e-06],\n",
       "          [6.03767730e-05, 5.81491758e-06, 7.10682441e-15, ...,\n",
       "           2.60428740e-15, 9.33114729e-07, 7.83306273e-06]],\n",
       "  \n",
       "         [[1.37015581e-05, 1.89107099e-06, 4.75303650e-14, ...,\n",
       "           5.68353732e-15, 1.28459297e-04, 2.09956739e-03],\n",
       "          [1.37199341e-05, 1.89519525e-06, 5.18573563e-14, ...,\n",
       "           1.65724219e-14, 1.29958650e-04, 2.12423806e-03],\n",
       "          [1.37491348e-05, 1.90200919e-06, 6.25458216e-14, ...,\n",
       "           4.86761213e-14, 1.32516478e-04, 2.16633751e-03],\n",
       "          ...,\n",
       "          [7.46596836e-05, 1.03708078e-05, 6.26741169e-09, ...,\n",
       "           1.14556364e-09, 2.03950610e-06, 3.29065955e-05],\n",
       "          [6.97511398e-05, 9.67515422e-06, 8.50388865e-12, ...,\n",
       "           5.56499902e-13, 1.94696047e-06, 3.14592058e-05],\n",
       "          [6.71924180e-05, 9.32031589e-06, 5.79245132e-17, ...,\n",
       "           5.62221301e-15, 1.89304310e-06, 3.05858103e-05]]]),\n",
       "  'mfcc': array([[[-1.00000000e+00, -1.00000000e+00, -1.00000000e+00, ...,\n",
       "           -1.00000000e+00, -1.00000000e+00, -1.00000000e+00],\n",
       "          [-2.21370297e-04, -7.33875870e-03, -2.04802497e-02, ...,\n",
       "           -2.66351729e-01, -2.79976194e-01, -2.53877218e-01],\n",
       "          [-7.14082959e-05, -1.22114632e-02, -4.27536122e-02, ...,\n",
       "           -2.79697814e-01, -1.67277198e-01, -9.13101608e-02],\n",
       "          ...,\n",
       "          [ 2.81611650e-04,  2.64634647e-03,  1.23610104e-03, ...,\n",
       "            2.01967272e-02,  3.47393597e-02,  3.76579820e-02],\n",
       "          [-3.30425579e-04, -6.03812244e-04,  4.18097763e-03, ...,\n",
       "           -5.70173102e-05, -9.92630729e-03, -1.30425165e-02],\n",
       "          [ 1.35628882e-04,  2.86172617e-03,  3.17641554e-03, ...,\n",
       "           -2.36247384e-02, -1.94765198e-02, -8.70336274e-03]],\n",
       "  \n",
       "         [[-1.00000000e+00, -1.00000000e+00, -1.00000000e+00, ...,\n",
       "           -1.00000000e+00, -1.00000000e+00, -1.00000000e+00],\n",
       "          [-3.67395375e-01, -4.23818456e-01, -3.78286509e-01, ...,\n",
       "           -2.79280550e-01, -6.65920736e-02,  5.34211153e-03],\n",
       "          [-3.50843169e-01, -4.63790844e-01, -4.81669999e-01, ...,\n",
       "           -4.96977163e-01, -3.16122876e-01, -2.59319168e-01],\n",
       "          ...,\n",
       "          [-2.36569398e-03,  2.54237238e-02,  3.43972209e-02, ...,\n",
       "            2.49789269e-02,  3.30001484e-02,  4.39136641e-02],\n",
       "          [-1.40083461e-02, -3.94093782e-02, -2.61933445e-02, ...,\n",
       "            2.37875834e-02,  2.99399175e-02,  1.79311959e-02],\n",
       "          [ 2.12450383e-02, -7.06766529e-03, -4.96161129e-02, ...,\n",
       "           -4.17418376e-02, -5.31494318e-02, -6.22059697e-02]],\n",
       "  \n",
       "         [[-1.00000000e+00, -1.00000000e+00, -1.00000000e+00, ...,\n",
       "           -1.00000000e+00, -1.00000000e+00, -1.00000000e+00],\n",
       "          [-2.61985178e-01, -2.69898091e-01, -2.47972252e-01, ...,\n",
       "           -3.48380748e-01, -3.06586873e-01, -2.52984585e-01],\n",
       "          [-7.38100253e-02, -1.09199031e-01, -2.35937124e-01, ...,\n",
       "           -4.98694447e-01, -4.43245628e-01, -3.58975978e-01],\n",
       "          ...,\n",
       "          [ 3.94672498e-02,  4.38465808e-02,  1.96445012e-02, ...,\n",
       "            2.65185517e-02,  1.53908008e-02,  8.90187693e-03],\n",
       "          [-4.25573257e-03, -1.63153010e-02, -1.32835759e-02, ...,\n",
       "            1.63458627e-02,  1.56157894e-02,  2.08327774e-02],\n",
       "          [-2.71087144e-02, -1.67795337e-02, -7.00243605e-03, ...,\n",
       "           -3.32549984e-02, -3.21843737e-02, -2.68355342e-02]],\n",
       "  \n",
       "         ...,\n",
       "  \n",
       "         [[-1.00000000e+00, -1.00000000e+00, -1.00000000e+00, ...,\n",
       "           -1.00000000e+00, -1.00000000e+00, -1.00000000e+00],\n",
       "          [ 1.90069114e-01,  1.10761874e-01, -6.62606431e-02, ...,\n",
       "           -7.50761963e-02, -1.08477822e-01, -1.14511194e-01],\n",
       "          [-5.29635669e-01, -6.55856505e-01, -7.06634022e-01, ...,\n",
       "           -5.97322695e-01, -6.11829197e-01, -5.51538873e-01],\n",
       "          ...,\n",
       "          [-6.05537981e-03, -2.96883357e-02, -2.74922394e-02, ...,\n",
       "           -2.74247792e-02, -2.71141360e-02, -1.14783556e-02],\n",
       "          [-1.67855621e-02,  7.75783888e-03,  1.07950601e-02, ...,\n",
       "            1.71046909e-03,  7.16066870e-03,  1.53966661e-03],\n",
       "          [-2.45775200e-03, -1.77921011e-02, -2.75977676e-02, ...,\n",
       "           -2.15282301e-03, -9.07699185e-03, -1.19753185e-02]],\n",
       "  \n",
       "         [[-1.00000000e+00, -1.00000000e+00, -1.00000000e+00, ...,\n",
       "           -1.00000000e+00, -1.00000000e+00, -1.00000000e+00],\n",
       "          [ 2.26736736e-01,  1.99539721e-01, -2.62569713e-02, ...,\n",
       "           -9.51877326e-02, -1.31645186e-01, -1.20107644e-01],\n",
       "          [-3.84792792e-01, -4.90711772e-01, -6.09366554e-01, ...,\n",
       "           -6.50519853e-01, -7.37084940e-01, -7.06214138e-01],\n",
       "          ...,\n",
       "          [-1.17734264e-02, -1.40349750e-02, -9.04688952e-03, ...,\n",
       "           -2.50793030e-02,  2.37822308e-03,  2.71623636e-02],\n",
       "          [-4.44058976e-03, -1.03469680e-02, -9.50907447e-03, ...,\n",
       "           -3.31187405e-02, -2.46486365e-02, -1.57912491e-02],\n",
       "          [-1.56179342e-02, -9.66299050e-03, -6.11773827e-03, ...,\n",
       "           -2.01110820e-02,  9.67896220e-05,  4.01565261e-03]],\n",
       "  \n",
       "         [[-1.00000000e+00, -1.00000000e+00, -1.00000000e+00, ...,\n",
       "           -1.00000000e+00, -1.00000000e+00, -1.00000000e+00],\n",
       "          [-1.24358585e-01, -1.31990456e-01, -9.41052834e-02, ...,\n",
       "           -9.43320538e-02,  1.21158160e-01,  2.09391057e-01],\n",
       "          [-4.87614114e-01, -5.71833574e-01, -6.12685930e-01, ...,\n",
       "           -6.34894360e-01, -4.66997447e-01, -3.65058632e-01],\n",
       "          ...,\n",
       "          [-3.76559186e-02, -3.70117906e-02, -3.99528359e-02, ...,\n",
       "           -9.00542848e-04,  1.24493159e-02,  1.17513160e-02],\n",
       "          [ 7.97529533e-03,  1.70745612e-02,  3.58929242e-02, ...,\n",
       "           -2.95683333e-02, -2.80445036e-02, -1.83322220e-02],\n",
       "          [-8.52121155e-03, -2.20449476e-02, -3.04119928e-02, ...,\n",
       "           -3.11572937e-02, -2.82928541e-02, -1.62531194e-02]]]),\n",
       "  'label': array([1, 1, 1, ..., 5, 5, 5])}}"
      ]
     },
     "execution_count": 70,
     "metadata": {},
     "output_type": "execute_result"
    }
   ],
   "source": [
    "merged_dict = {'train': train_features, 'val': val_features}\n",
    "merged_dict"
   ]
  },
  {
   "cell_type": "markdown",
   "metadata": {},
   "source": [
    "### Save the merged dictionary to a pkl"
   ]
  },
  {
   "cell_type": "code",
   "execution_count": 71,
   "metadata": {},
   "outputs": [],
   "source": [
    "with open('C:/Users/thato/Documents/Final-Year-Project/Dataset/Project-V4/feature-extraction/NotAnnotated/NotAveragePooled/split_features_4s_mel_mfcc.pkl', 'wb') as file:\n",
    "  pickle.dump(merged_dict, file)"
   ]
  },
  {
   "cell_type": "markdown",
   "metadata": {},
   "source": [
    "### **['melspectrogram', 'mfcc', 'chroma']**"
   ]
  },
  {
   "cell_type": "code",
   "execution_count": 72,
   "metadata": {},
   "outputs": [],
   "source": [
    "features_list = ['melspectrogram', 'mfcc', 'chroma']"
   ]
  },
  {
   "cell_type": "code",
   "execution_count": 73,
   "metadata": {},
   "outputs": [
    {
     "name": "stdout",
     "output_type": "stream",
     "text": [
      "Train DataFrame shape: (485, 6)\n",
      "Validation DataFrame shape: (130, 6)\n",
      "Number of rows in dataframe: 485\n"
     ]
    },
    {
     "name": "stderr",
     "output_type": "stream",
     "text": [
      "Processing data: 100%|██████████| 485/485 [04:29<00:00,  1.80it/s]\n"
     ]
    },
    {
     "name": "stdout",
     "output_type": "stream",
     "text": [
      "Number of rows in dataframe: 130\n"
     ]
    },
    {
     "name": "stderr",
     "output_type": "stream",
     "text": [
      "Processing data: 100%|██████████| 130/130 [01:12<00:00,  1.80it/s]\n"
     ]
    }
   ],
   "source": [
    "features = Extraction(train_data,\n",
    "                      val_data,\n",
    "                      window_size=4,\n",
    "                      features=features_list,\n",
    "                      avgpool=False\n",
    "                      )"
   ]
  },
  {
   "cell_type": "code",
   "execution_count": 74,
   "metadata": {},
   "outputs": [
    {
     "data": {
      "text/plain": [
       "(10981,)"
      ]
     },
     "metadata": {},
     "output_type": "display_data"
    },
    {
     "data": {
      "text/plain": [
       "'melspectrogram'"
      ]
     },
     "metadata": {},
     "output_type": "display_data"
    },
    {
     "data": {
      "text/plain": [
       "(10981, 60, 173)"
      ]
     },
     "metadata": {},
     "output_type": "display_data"
    },
    {
     "data": {
      "text/plain": [
       "'mfcc'"
      ]
     },
     "metadata": {},
     "output_type": "display_data"
    },
    {
     "data": {
      "text/plain": [
       "(10981, 20, 173)"
      ]
     },
     "metadata": {},
     "output_type": "display_data"
    },
    {
     "data": {
      "text/plain": [
       "'chroma'"
      ]
     },
     "metadata": {},
     "output_type": "display_data"
    },
    {
     "data": {
      "text/plain": [
       "(10981, 12, 173)"
      ]
     },
     "metadata": {},
     "output_type": "display_data"
    }
   ],
   "source": [
    "train_y = features.train_y\n",
    "display(train_y.shape)\n",
    "\n",
    "train_features = features.train_features\n",
    "for key in train_features.keys():\n",
    "  display(key)\n",
    "  display(train_features[key].shape)"
   ]
  },
  {
   "cell_type": "code",
   "execution_count": 75,
   "metadata": {},
   "outputs": [
    {
     "data": {
      "text/plain": [
       "(2928,)"
      ]
     },
     "metadata": {},
     "output_type": "display_data"
    },
    {
     "data": {
      "text/plain": [
       "'melspectrogram'"
      ]
     },
     "metadata": {},
     "output_type": "display_data"
    },
    {
     "data": {
      "text/plain": [
       "(2928, 60, 173)"
      ]
     },
     "metadata": {},
     "output_type": "display_data"
    },
    {
     "data": {
      "text/plain": [
       "'mfcc'"
      ]
     },
     "metadata": {},
     "output_type": "display_data"
    },
    {
     "data": {
      "text/plain": [
       "(2928, 20, 173)"
      ]
     },
     "metadata": {},
     "output_type": "display_data"
    },
    {
     "data": {
      "text/plain": [
       "'chroma'"
      ]
     },
     "metadata": {},
     "output_type": "display_data"
    },
    {
     "data": {
      "text/plain": [
       "(2928, 12, 173)"
      ]
     },
     "metadata": {},
     "output_type": "display_data"
    }
   ],
   "source": [
    "val_y = features.val_y\n",
    "display(val_y.shape)\n",
    "\n",
    "val_features = features.val_features\n",
    "for key in val_features.keys():\n",
    "  display(key)\n",
    "  display(val_features[key].shape)"
   ]
  },
  {
   "cell_type": "markdown",
   "metadata": {},
   "source": [
    "### Encode Classes"
   ]
  },
  {
   "cell_type": "code",
   "execution_count": 76,
   "metadata": {},
   "outputs": [
    {
     "name": "stdout",
     "output_type": "stream",
     "text": [
      "Encoded classes for [0, 1, 2]: ['Acrocephalus arundinaceus', 'Acrocephalus melanopogon', 'Acrocephalus scirpaceus']\n",
      "Encoded training labels: [1 1 1 ... 5 5 5]\n",
      "Encoded validation labels: [1 1 1 ... 5 5 5]\n"
     ]
    }
   ],
   "source": [
    "label_encoder = LabelEncoder().fit(train_y)\n",
    "train_y_encoded = label_encoder.transform(train_y)\n",
    "val_y_encoded = label_encoder.transform(val_y)\n",
    "\n",
    "classes = list(label_encoder.inverse_transform([0, 1, 2]))\n",
    "print(\"Encoded classes for [0, 1, 2]:\", classes)\n",
    "print(\"Encoded training labels:\", train_y_encoded)\n",
    "print(\"Encoded validation labels:\", val_y_encoded)"
   ]
  },
  {
   "cell_type": "code",
   "execution_count": 77,
   "metadata": {},
   "outputs": [
    {
     "data": {
      "text/plain": [
       "10981"
      ]
     },
     "metadata": {},
     "output_type": "display_data"
    },
    {
     "data": {
      "text/plain": [
       "array(['Acrocephalus melanopogon', 'Acrocephalus melanopogon',\n",
       "       'Acrocephalus melanopogon', 'Acrocephalus melanopogon',\n",
       "       'Acrocephalus melanopogon', 'Acrocephalus melanopogon',\n",
       "       'Acrocephalus melanopogon', 'Acrocephalus melanopogon',\n",
       "       'Acrocephalus melanopogon', 'Acrocephalus melanopogon'],\n",
       "      dtype='<U25')"
      ]
     },
     "metadata": {},
     "output_type": "display_data"
    },
    {
     "data": {
      "text/plain": [
       "2928"
      ]
     },
     "metadata": {},
     "output_type": "display_data"
    },
    {
     "data": {
      "text/plain": [
       "array(['Acrocephalus melanopogon', 'Acrocephalus melanopogon',\n",
       "       'Acrocephalus melanopogon', 'Acrocephalus melanopogon',\n",
       "       'Acrocephalus melanopogon', 'Acrocephalus melanopogon',\n",
       "       'Acrocephalus melanopogon', 'Acrocephalus melanopogon',\n",
       "       'Acrocephalus melanopogon', 'Acrocephalus melanopogon'],\n",
       "      dtype='<U25')"
      ]
     },
     "metadata": {},
     "output_type": "display_data"
    }
   ],
   "source": [
    "display(len(train_y))\n",
    "display(train_y[:10])\n",
    "\n",
    "display(len(val_y))\n",
    "display(val_y[:10])"
   ]
  },
  {
   "cell_type": "code",
   "execution_count": 78,
   "metadata": {},
   "outputs": [],
   "source": [
    "train_features['label'] = train_y_encoded\n",
    "val_features['label'] = val_y_encoded"
   ]
  },
  {
   "cell_type": "code",
   "execution_count": 79,
   "metadata": {},
   "outputs": [
    {
     "data": {
      "text/plain": [
       "{'train': {'melspectrogram': array([[[2.70414866e-03, 2.79165306e-04, 2.78151976e-06, ...,\n",
       "           1.06072697e-14, 6.16832790e-08, 5.78963081e-06],\n",
       "          [2.85087147e-03, 2.95306839e-04, 3.42857310e-06, ...,\n",
       "           1.12205350e-14, 6.15759939e-08, 5.77909589e-06],\n",
       "          [3.04498922e-03, 3.15533762e-04, 4.71718391e-06, ...,\n",
       "           1.25414211e-14, 6.13728398e-08, 5.75930686e-06],\n",
       "          ...,\n",
       "          [4.71950382e-06, 6.96979924e-07, 9.83989841e-06, ...,\n",
       "           1.16200449e-08, 1.17388327e-08, 3.10218327e-07],\n",
       "          [4.43196142e-06, 4.70733005e-07, 1.06044568e-07, ...,\n",
       "           1.11483545e-10, 1.11642392e-09, 9.85757182e-08],\n",
       "          [4.34125244e-06, 4.54310514e-07, 3.83112779e-09, ...,\n",
       "           1.07090598e-13, 3.56324655e-10, 3.34282947e-08]],\n",
       "  \n",
       "         [[1.22058890e-04, 9.34677081e-06, 3.22876749e-15, ...,\n",
       "           9.62427203e-15, 2.13093339e-07, 5.59486302e-06],\n",
       "          [1.24266710e-04, 9.51594868e-06, 1.18513276e-14, ...,\n",
       "           1.10033380e-14, 2.14718425e-07, 5.63834027e-06],\n",
       "          [1.28022462e-04, 9.80447630e-06, 3.00770811e-14, ...,\n",
       "           1.36940054e-14, 2.17515588e-07, 5.71325539e-06],\n",
       "          ...,\n",
       "          [1.50215815e-04, 1.13776341e-05, 5.88939681e-08, ...,\n",
       "           4.16812645e-08, 2.77897772e-08, 1.74555482e-07],\n",
       "          [1.35939287e-04, 1.01194749e-05, 6.81656219e-10, ...,\n",
       "           1.99050115e-10, 4.95835003e-09, 1.27424299e-07],\n",
       "          [1.28983083e-04, 9.60034989e-06, 3.19279506e-13, ...,\n",
       "           5.53632923e-13, 4.17230605e-09, 1.10114459e-07]],\n",
       "  \n",
       "         [[1.85531718e-04, 9.53108016e-06, 6.73317545e-14, ...,\n",
       "           1.53200308e-15, 4.15455699e-05, 2.92988185e-04],\n",
       "          [1.85189439e-04, 9.51309255e-06, 8.42760427e-14, ...,\n",
       "           5.95023518e-15, 4.15813829e-05, 2.93219312e-04],\n",
       "          [1.84552632e-04, 9.47953394e-06, 1.24909763e-13, ...,\n",
       "           1.68148157e-14, 4.16372150e-05, 2.93574015e-04],\n",
       "          ...,\n",
       "          [9.75108828e-06, 1.04482380e-06, 7.89420354e-07, ...,\n",
       "           5.43291212e-07, 7.29145532e-07, 3.91464839e-06],\n",
       "          [3.11197699e-06, 1.65035803e-07, 4.67140284e-09, ...,\n",
       "           2.44161576e-09, 2.99451286e-07, 2.13969076e-06],\n",
       "          [1.06945481e-06, 5.49462517e-08, 2.69519549e-12, ...,\n",
       "           1.80699632e-12, 1.60426648e-07, 1.15864989e-06]],\n",
       "  \n",
       "         ...,\n",
       "  \n",
       "         [[4.53545916e-05, 1.08413024e-05, 4.24713284e-12, ...,\n",
       "           1.79452193e-12, 5.49812374e-06, 1.25407868e-04],\n",
       "          [4.37971747e-05, 1.04546110e-05, 4.65429526e-12, ...,\n",
       "           2.04306704e-12, 5.65769311e-06, 1.28844396e-04],\n",
       "          [4.11926453e-05, 9.80866494e-06, 7.18891216e-12, ...,\n",
       "           5.61405479e-12, 5.92814020e-06, 1.34608965e-04],\n",
       "          ...,\n",
       "          [2.69419111e-06, 7.70524302e-07, 5.31593332e-08, ...,\n",
       "           2.20108621e-06, 2.65937884e-06, 2.05497310e-05],\n",
       "          [2.28072579e-06, 5.53895454e-07, 3.41803059e-10, ...,\n",
       "           5.16434544e-09, 8.54769837e-07, 1.88719287e-05],\n",
       "          [2.12366163e-06, 5.15512523e-07, 2.35857229e-13, ...,\n",
       "           1.50317432e-11, 8.16669463e-07, 1.81266161e-05]],\n",
       "  \n",
       "         [[2.77919571e-05, 6.26175072e-06, 4.30767081e-13, ...,\n",
       "           1.47949633e-13, 1.61745700e-07, 3.68414928e-06],\n",
       "          [2.86982712e-05, 6.46024761e-06, 5.86313694e-13, ...,\n",
       "           1.79571111e-13, 4.38818437e-07, 1.14984100e-05],\n",
       "          [3.02660893e-05, 6.80379156e-06, 9.69896926e-13, ...,\n",
       "           1.39866118e-11, 9.31861554e-07, 2.54277042e-05],\n",
       "          ...,\n",
       "          [1.73688190e-05, 3.83962587e-06, 5.50612062e-09, ...,\n",
       "           2.10456630e-07, 5.35742558e-07, 1.18287610e-05],\n",
       "          [1.68427376e-05, 3.71781534e-06, 4.53019651e-11, ...,\n",
       "           8.05668277e-10, 3.86940104e-07, 1.09509478e-05],\n",
       "          [1.65244224e-05, 3.64759259e-06, 2.31412768e-14, ...,\n",
       "           5.57668664e-13, 3.73854361e-07, 1.05889656e-05]],\n",
       "  \n",
       "         [[2.21190790e-04, 1.11619865e-05, 2.78268022e-13, ...,\n",
       "           6.64144953e-13, 6.06065351e-06, 1.80225760e-04],\n",
       "          [2.27187641e-04, 1.14519734e-05, 4.36195285e-13, ...,\n",
       "           7.53064417e-13, 7.57478226e-06, 2.20312062e-04],\n",
       "          [2.37296329e-04, 1.19372313e-05, 3.16946407e-12, ...,\n",
       "           2.05715536e-11, 1.02697193e-05, 2.91742091e-04],\n",
       "          ...,\n",
       "          [3.49611326e-05, 1.79054528e-06, 3.76184452e-08, ...,\n",
       "           1.14418343e-06, 1.02615584e-06, 3.56901139e-06],\n",
       "          [3.31546237e-05, 1.64014080e-06, 1.89029078e-10, ...,\n",
       "           7.20181581e-09, 1.76884919e-07, 4.48333902e-06],\n",
       "          [3.18327952e-05, 1.57461145e-06, 2.20048537e-13, ...,\n",
       "           2.00185213e-12, 2.10899421e-07, 5.50138228e-06]]]),\n",
       "  'mfcc': array([[[-1.00000000e+00, -1.00000000e+00, -1.00000000e+00, ...,\n",
       "           -1.00000000e+00, -1.00000000e+00, -1.00000000e+00],\n",
       "          [ 0.00000000e+00,  0.00000000e+00,  0.00000000e+00, ...,\n",
       "           -2.71197339e-01, -3.13886948e-01, -2.09831613e-01],\n",
       "          [ 0.00000000e+00,  0.00000000e+00,  0.00000000e+00, ...,\n",
       "           -5.31049173e-01, -6.01874742e-01, -4.93360724e-01],\n",
       "          ...,\n",
       "          [ 0.00000000e+00,  0.00000000e+00,  0.00000000e+00, ...,\n",
       "            2.81308106e-02,  3.07637710e-02,  9.38955135e-03],\n",
       "          [ 0.00000000e+00,  0.00000000e+00,  0.00000000e+00, ...,\n",
       "           -1.49445529e-02, -5.18208515e-04,  4.90068842e-03],\n",
       "          [ 0.00000000e+00,  0.00000000e+00,  0.00000000e+00, ...,\n",
       "           -1.18310387e-02, -1.15409626e-02, -1.49413174e-02]],\n",
       "  \n",
       "         [[-1.00000000e+00, -1.00000000e+00, -1.00000000e+00, ...,\n",
       "           -1.00000000e+00, -1.00000000e+00, -1.00000000e+00],\n",
       "          [-1.13884467e-01, -1.90462338e-01, -2.80728570e-01, ...,\n",
       "           -1.77356949e-01, -1.35265380e-01, -4.48146173e-02],\n",
       "          [-3.88151267e-01, -5.31972506e-01, -6.70721732e-01, ...,\n",
       "           -4.01965096e-01, -3.71173888e-01, -2.80858570e-01],\n",
       "          ...,\n",
       "          [ 1.73255585e-02, -1.06788942e-03, -1.71088627e-02, ...,\n",
       "            2.49748242e-02,  1.92685004e-02,  8.46749671e-03],\n",
       "          [-5.47289939e-03,  1.87034801e-02,  2.71181317e-02, ...,\n",
       "            4.15074098e-02,  5.33255007e-02,  5.02343202e-02],\n",
       "          [ 8.40523932e-03, -2.05144787e-02, -2.06837042e-02, ...,\n",
       "           -3.22943617e-02, -4.34185969e-02, -3.59342818e-02]],\n",
       "  \n",
       "         [[-1.00000000e+00, -1.00000000e+00, -1.00000000e+00, ...,\n",
       "           -1.00000000e+00, -1.00000000e+00, -1.00000000e+00],\n",
       "          [-1.15769114e-01, -1.75398284e-01, -1.88519369e-01, ...,\n",
       "           -2.02845265e-01, -1.81891807e-01, -1.30817563e-01],\n",
       "          [-2.87593679e-01, -3.52038536e-01, -3.60612811e-01, ...,\n",
       "           -3.23979939e-01, -2.88313535e-01, -2.24484996e-01],\n",
       "          ...,\n",
       "          [-4.15002928e-03,  1.65814591e-02,  2.00858316e-02, ...,\n",
       "            1.80511346e-02,  9.11321034e-03,  1.84152950e-02],\n",
       "          [ 9.62602933e-04,  5.92004925e-03,  9.36588659e-03, ...,\n",
       "            2.57671408e-02,  1.48558755e-02, -1.00115332e-02],\n",
       "          [-8.99508201e-03, -1.96778223e-02, -2.87123118e-02, ...,\n",
       "           -2.08099899e-02, -3.02161527e-02, -2.79936937e-02]],\n",
       "  \n",
       "         ...,\n",
       "  \n",
       "         [[-1.00000000e+00, -1.00000000e+00, -1.00000000e+00, ...,\n",
       "           -1.00000000e+00, -1.00000000e+00, -1.00000000e+00],\n",
       "          [ 1.81505237e-02, -2.22198564e-02, -1.29334149e-02, ...,\n",
       "           -4.04412676e-02, -2.59111334e-02,  4.93856753e-02],\n",
       "          [-3.39150452e-01, -3.95483510e-01, -3.76058121e-01, ...,\n",
       "           -2.95452815e-01, -2.77894602e-01, -2.10328343e-01],\n",
       "          ...,\n",
       "          [-4.89397952e-03, -9.57986065e-03, -9.03004413e-03, ...,\n",
       "           -1.22046744e-02, -1.20613899e-02, -3.02773425e-03],\n",
       "          [ 3.92683556e-04, -2.43617802e-04, -6.89425638e-03, ...,\n",
       "            5.57714743e-03,  2.99222366e-03,  3.85289470e-03],\n",
       "          [-1.65961286e-02, -2.22093292e-02, -2.37529600e-02, ...,\n",
       "           -2.88657744e-02, -1.88848214e-02, -5.86946160e-03]],\n",
       "  \n",
       "         [[-1.00000000e+00, -1.00000000e+00, -1.00000000e+00, ...,\n",
       "           -1.00000000e+00, -1.00000000e+00, -1.00000000e+00],\n",
       "          [ 1.23398083e-02, -9.25293640e-03, -2.48735891e-02, ...,\n",
       "           -4.53691606e-02, -3.25590310e-02,  7.50984938e-03],\n",
       "          [-4.19832527e-01, -4.87545845e-01, -5.51475361e-01, ...,\n",
       "           -2.62246102e-01, -2.61531239e-01, -2.24466822e-01],\n",
       "          ...,\n",
       "          [ 1.87954221e-02,  3.26667784e-03, -2.29411321e-02, ...,\n",
       "           -1.12141773e-02, -1.68255951e-02, -2.21169276e-02],\n",
       "          [-8.39194942e-03, -2.22651115e-03,  8.43202990e-03, ...,\n",
       "            1.71225067e-02,  2.85908654e-02,  2.73027009e-02],\n",
       "          [-2.79204545e-02, -1.90769306e-02, -1.71911823e-02, ...,\n",
       "           -2.39012313e-02, -2.78462864e-02, -2.44578822e-02]],\n",
       "  \n",
       "         [[-1.00000000e+00, -1.00000000e+00, -1.00000000e+00, ...,\n",
       "           -1.00000000e+00, -1.00000000e+00, -1.00000000e+00],\n",
       "          [ 6.09129623e-02,  5.16997495e-02,  3.58517762e-04, ...,\n",
       "           -1.99072861e-02, -6.33402224e-03,  2.51941185e-02],\n",
       "          [-2.09043003e-01, -3.37058934e-01, -4.62002069e-01, ...,\n",
       "           -1.82010076e-01, -1.78505734e-01, -1.37507895e-01],\n",
       "          ...,\n",
       "          [-1.28618385e-02, -1.90817063e-02, -6.89565773e-03, ...,\n",
       "           -1.67334471e-02, -9.35585696e-03, -4.43714473e-03],\n",
       "          [ 1.37333461e-02,  2.05511176e-02,  2.13040077e-02, ...,\n",
       "            8.00370711e-03,  1.55610108e-02,  1.56262297e-02],\n",
       "          [-1.51673917e-03, -9.38763901e-03, -4.81557838e-03, ...,\n",
       "           -1.42025540e-02, -1.78523413e-02, -1.77254800e-02]]]),\n",
       "  'chroma': array([[[0.45077237, 0.30515629, 1.        , ..., 1.        ,\n",
       "           1.        , 1.        ],\n",
       "          [0.65338778, 0.44659847, 0.54656498, ..., 0.38940053,\n",
       "           0.45202956, 0.58270182],\n",
       "          [0.3450437 , 0.33197443, 0.2480833 , ..., 0.0303648 ,\n",
       "           0.08049665, 0.34065462],\n",
       "          ...,\n",
       "          [0.3890048 , 0.18626708, 0.06416709, ..., 0.01793839,\n",
       "           0.03164066, 0.18055353],\n",
       "          [0.5294871 , 0.30290457, 0.27944772, ..., 0.04597702,\n",
       "           0.04274071, 0.13430365],\n",
       "          [1.        , 1.        , 0.87511089, ..., 0.31160357,\n",
       "           0.20998431, 0.23687774]],\n",
       "  \n",
       "         [[0.70374374, 0.28931184, 0.19359154, ..., 0.00504078,\n",
       "           0.0027275 , 0.00467649],\n",
       "          [0.6614793 , 0.72422293, 0.34234285, ..., 0.01757052,\n",
       "           0.00400014, 0.00418825],\n",
       "          [0.64255242, 0.8869698 , 0.34085604, ..., 0.01362793,\n",
       "           0.00396847, 0.00436252],\n",
       "          ...,\n",
       "          [1.        , 0.42652404, 0.28273766, ..., 1.        ,\n",
       "           1.        , 1.        ],\n",
       "          [0.50765614, 0.24898938, 0.17604215, ..., 0.5896645 ,\n",
       "           0.24439433, 0.11456653],\n",
       "          [0.6635943 , 0.28407645, 0.17448478, ..., 0.01958196,\n",
       "           0.00883886, 0.00795405]],\n",
       "  \n",
       "         [[1.        , 1.        , 1.        , ..., 0.06227085,\n",
       "           0.13948307, 0.40755589],\n",
       "          [0.3157742 , 0.25007693, 0.29362194, ..., 0.05137221,\n",
       "           0.23045003, 0.56335509],\n",
       "          [0.15029926, 0.06066319, 0.10148795, ..., 0.07706185,\n",
       "           0.32774633, 0.63606238],\n",
       "          ...,\n",
       "          [0.28557991, 0.12659806, 0.16209107, ..., 0.10533426,\n",
       "           0.06170329, 0.0477427 ],\n",
       "          [0.27867267, 0.20939586, 0.25031483, ..., 0.05597635,\n",
       "           0.03578065, 0.07399299],\n",
       "          [0.63184849, 0.64105345, 0.57716678, ..., 0.04463092,\n",
       "           0.0696722 , 0.28189801]],\n",
       "  \n",
       "         ...,\n",
       "  \n",
       "         [[1.        , 1.        , 0.39599394, ..., 0.60522271,\n",
       "           0.89088189, 1.        ],\n",
       "          [0.46783551, 0.7866204 , 0.31170594, ..., 0.76634657,\n",
       "           1.        , 0.65005268],\n",
       "          [0.42290814, 0.78405915, 0.34719932, ..., 0.7293386 ,\n",
       "           0.59674332, 0.6099333 ],\n",
       "          ...,\n",
       "          [0.9047244 , 0.78081404, 0.19953299, ..., 0.61425322,\n",
       "           0.7422545 , 0.64934047],\n",
       "          [0.72792535, 0.66191984, 0.20546592, ..., 0.63236237,\n",
       "           0.70814988, 0.7155682 ],\n",
       "          [0.81201764, 0.93041853, 0.39683383, ..., 1.        ,\n",
       "           0.89428509, 0.46841484]],\n",
       "  \n",
       "         [[0.4943582 , 1.        , 1.        , ..., 0.13685497,\n",
       "           0.10063367, 0.19532605],\n",
       "          [0.20345645, 0.74276001, 0.58524458, ..., 0.18619179,\n",
       "           0.13505327, 0.16505805],\n",
       "          [0.28886493, 0.50075229, 0.42077654, ..., 0.1821597 ,\n",
       "           0.09336672, 0.23342043],\n",
       "          ...,\n",
       "          [0.07673295, 0.1762242 , 0.17517736, ..., 0.08950452,\n",
       "           0.05855969, 0.09857249],\n",
       "          [0.14724641, 0.30668738, 0.22941122, ..., 0.0964959 ,\n",
       "           0.05936881, 0.11110873],\n",
       "          [0.3067571 , 0.55402526, 0.47943917, ..., 0.09129625,\n",
       "           0.07743878, 0.22737379]],\n",
       "  \n",
       "         [[0.46354411, 0.27460906, 0.35706143, ..., 0.70568457,\n",
       "           0.74975189, 0.94581515],\n",
       "          [0.66833545, 0.51240275, 0.6993475 , ..., 0.47676772,\n",
       "           0.4098913 , 0.45805587],\n",
       "          [1.        , 0.44248633, 0.50016922, ..., 0.93132195,\n",
       "           0.93312423, 0.71239724],\n",
       "          ...,\n",
       "          [0.45588916, 1.        , 1.        , ..., 0.69242991,\n",
       "           0.74204324, 0.78940114],\n",
       "          [0.88943062, 0.63983372, 0.54965768, ..., 0.90782861,\n",
       "           0.51448783, 0.65369331],\n",
       "          [0.62202941, 0.43782159, 0.29981175, ..., 0.79778119,\n",
       "           0.53801677, 0.72668788]]]),\n",
       "  'label': array([1, 1, 1, ..., 5, 5, 5])},\n",
       " 'val': {'melspectrogram': array([[[3.20727065e-05, 1.70512106e-06, 1.61698192e-11, ...,\n",
       "           6.51919109e-16, 3.52798572e-05, 5.80518954e-04],\n",
       "          [3.22422717e-05, 1.71387116e-06, 1.71018208e-11, ...,\n",
       "           1.78419135e-15, 3.53328172e-05, 5.81392126e-04],\n",
       "          [3.25622734e-05, 1.73066317e-06, 2.72505511e-11, ...,\n",
       "           9.38545504e-15, 3.54213638e-05, 5.82851237e-04],\n",
       "          ...,\n",
       "          [5.14212831e-05, 6.76458209e-06, 2.39359128e-06, ...,\n",
       "           1.86555335e-08, 5.14694003e-05, 8.50335325e-04],\n",
       "          [3.93156198e-05, 2.11725020e-06, 1.69905801e-08, ...,\n",
       "           5.81475619e-11, 4.76169745e-05, 7.86853952e-04],\n",
       "          [3.57245249e-05, 1.90032216e-06, 7.52069991e-12, ...,\n",
       "           4.47673507e-14, 4.53169271e-05, 7.48899732e-04]],\n",
       "  \n",
       "         [[6.48721776e-07, 2.51687682e-08, 1.20811478e-16, ...,\n",
       "           2.31628441e-16, 1.35943704e-04, 4.53302596e-04],\n",
       "          [6.56912517e-07, 2.54913397e-08, 1.48312609e-16, ...,\n",
       "           5.80674803e-16, 1.36152609e-04, 4.53998021e-04],\n",
       "          [6.71581488e-07, 2.60724107e-08, 5.48819244e-16, ...,\n",
       "           1.75166606e-15, 1.36501635e-04, 4.55159892e-04],\n",
       "          ...,\n",
       "          [1.49919305e-05, 5.92901727e-07, 3.65376164e-09, ...,\n",
       "           1.73699489e-09, 9.75882017e-06, 3.26170258e-05],\n",
       "          [1.35024340e-05, 5.32285488e-07, 2.16074121e-11, ...,\n",
       "           1.14464904e-11, 8.74825819e-06, 2.92439550e-05],\n",
       "          [1.26888818e-05, 5.00144981e-07, 4.81409993e-15, ...,\n",
       "           7.36633734e-15, 8.15206951e-06, 2.72527820e-05]],\n",
       "  \n",
       "         [[9.19919779e-05, 5.26726384e-05, 2.45803321e-15, ...,\n",
       "           3.11911142e-15, 3.19203865e-08, 5.78416526e-07],\n",
       "          [9.21303968e-05, 5.27520088e-05, 3.30938411e-15, ...,\n",
       "           3.35683353e-15, 3.22797805e-08, 5.84737264e-07],\n",
       "          [9.23618232e-05, 5.28847010e-05, 1.73820453e-14, ...,\n",
       "           4.15388779e-15, 3.28749904e-08, 5.95219735e-07],\n",
       "          ...,\n",
       "          [1.34724464e-04, 7.73807048e-05, 7.32493305e-09, ...,\n",
       "           7.22783890e-09, 1.03987422e-07, 1.75648774e-06],\n",
       "          [1.24787908e-04, 7.16834683e-05, 4.83470525e-11, ...,\n",
       "           3.55217389e-11, 9.49702970e-08, 1.66553338e-06],\n",
       "          [1.18756807e-04, 6.82215641e-05, 5.43679073e-14, ...,\n",
       "           3.58539854e-14, 9.18817026e-08, 1.61190990e-06]],\n",
       "  \n",
       "         ...,\n",
       "  \n",
       "         [[2.81189319e-05, 3.29715486e-06, 1.57151534e-13, ...,\n",
       "           4.00597100e-12, 1.37029898e-06, 1.16098332e-05],\n",
       "          [2.96301697e-05, 3.47909463e-06, 2.06332233e-13, ...,\n",
       "           4.37265869e-12, 1.37041705e-06, 1.16234446e-05],\n",
       "          [3.22567490e-05, 3.79543364e-06, 3.07032773e-13, ...,\n",
       "           5.09112164e-12, 1.37027311e-06, 1.16445451e-05],\n",
       "          ...,\n",
       "          [1.34814636e-07, 1.65917712e-08, 3.27621862e-10, ...,\n",
       "           1.57843192e-08, 7.32902996e-06, 6.24554551e-05],\n",
       "          [1.28848714e-07, 1.58343588e-08, 5.49498571e-14, ...,\n",
       "           1.35605479e-10, 6.92316257e-06, 5.90396147e-05],\n",
       "          [1.24150929e-07, 1.52566359e-08, 2.00781633e-17, ...,\n",
       "           3.64225792e-14, 6.66895798e-06, 5.68748356e-05]],\n",
       "  \n",
       "         [[2.97158252e-03, 2.85226650e-04, 4.52995963e-13, ...,\n",
       "           1.33980838e-15, 2.83606005e-07, 2.72429269e-06],\n",
       "          [2.98828107e-03, 2.86823808e-04, 4.97379536e-13, ...,\n",
       "           1.89696938e-15, 3.42923680e-07, 3.23181228e-06],\n",
       "          [3.01631448e-03, 2.89505767e-04, 5.77359655e-13, ...,\n",
       "           3.91624208e-14, 4.45352981e-07, 4.10803218e-06],\n",
       "          ...,\n",
       "          [6.64369358e-05, 6.39903299e-06, 3.32201681e-10, ...,\n",
       "           4.65083375e-10, 9.65546307e-07, 8.10345688e-06],\n",
       "          [6.26423131e-05, 6.03302597e-06, 5.71884228e-12, ...,\n",
       "           1.66595551e-12, 9.46309919e-07, 7.94329431e-06],\n",
       "          [6.03767730e-05, 5.81491758e-06, 7.10682441e-15, ...,\n",
       "           2.60428740e-15, 9.33114729e-07, 7.83306273e-06]],\n",
       "  \n",
       "         [[1.37015581e-05, 1.89107099e-06, 4.75303650e-14, ...,\n",
       "           5.68353732e-15, 1.28459297e-04, 2.09956739e-03],\n",
       "          [1.37199341e-05, 1.89519525e-06, 5.18573563e-14, ...,\n",
       "           1.65724219e-14, 1.29958650e-04, 2.12423806e-03],\n",
       "          [1.37491348e-05, 1.90200919e-06, 6.25458216e-14, ...,\n",
       "           4.86761213e-14, 1.32516478e-04, 2.16633751e-03],\n",
       "          ...,\n",
       "          [7.46596836e-05, 1.03708078e-05, 6.26741169e-09, ...,\n",
       "           1.14556364e-09, 2.03950610e-06, 3.29065955e-05],\n",
       "          [6.97511398e-05, 9.67515422e-06, 8.50388865e-12, ...,\n",
       "           5.56499902e-13, 1.94696047e-06, 3.14592058e-05],\n",
       "          [6.71924180e-05, 9.32031589e-06, 5.79245132e-17, ...,\n",
       "           5.62221301e-15, 1.89304310e-06, 3.05858103e-05]]]),\n",
       "  'mfcc': array([[[-1.00000000e+00, -1.00000000e+00, -1.00000000e+00, ...,\n",
       "           -1.00000000e+00, -1.00000000e+00, -1.00000000e+00],\n",
       "          [-2.21370297e-04, -7.33875870e-03, -2.04802497e-02, ...,\n",
       "           -2.66351729e-01, -2.79976194e-01, -2.53877218e-01],\n",
       "          [-7.14082959e-05, -1.22114632e-02, -4.27536122e-02, ...,\n",
       "           -2.79697814e-01, -1.67277198e-01, -9.13101608e-02],\n",
       "          ...,\n",
       "          [ 2.81611650e-04,  2.64634647e-03,  1.23610104e-03, ...,\n",
       "            2.01967272e-02,  3.47393597e-02,  3.76579820e-02],\n",
       "          [-3.30425579e-04, -6.03812244e-04,  4.18097763e-03, ...,\n",
       "           -5.70173102e-05, -9.92630729e-03, -1.30425165e-02],\n",
       "          [ 1.35628882e-04,  2.86172617e-03,  3.17641554e-03, ...,\n",
       "           -2.36247384e-02, -1.94765198e-02, -8.70336274e-03]],\n",
       "  \n",
       "         [[-1.00000000e+00, -1.00000000e+00, -1.00000000e+00, ...,\n",
       "           -1.00000000e+00, -1.00000000e+00, -1.00000000e+00],\n",
       "          [-3.67395375e-01, -4.23818456e-01, -3.78286509e-01, ...,\n",
       "           -2.79280550e-01, -6.65920736e-02,  5.34211153e-03],\n",
       "          [-3.50843169e-01, -4.63790844e-01, -4.81669999e-01, ...,\n",
       "           -4.96977163e-01, -3.16122876e-01, -2.59319168e-01],\n",
       "          ...,\n",
       "          [-2.36569398e-03,  2.54237238e-02,  3.43972209e-02, ...,\n",
       "            2.49789269e-02,  3.30001484e-02,  4.39136641e-02],\n",
       "          [-1.40083461e-02, -3.94093782e-02, -2.61933445e-02, ...,\n",
       "            2.37875834e-02,  2.99399175e-02,  1.79311959e-02],\n",
       "          [ 2.12450383e-02, -7.06766529e-03, -4.96161129e-02, ...,\n",
       "           -4.17418376e-02, -5.31494318e-02, -6.22059697e-02]],\n",
       "  \n",
       "         [[-1.00000000e+00, -1.00000000e+00, -1.00000000e+00, ...,\n",
       "           -1.00000000e+00, -1.00000000e+00, -1.00000000e+00],\n",
       "          [-2.61985178e-01, -2.69898091e-01, -2.47972252e-01, ...,\n",
       "           -3.48380748e-01, -3.06586873e-01, -2.52984585e-01],\n",
       "          [-7.38100253e-02, -1.09199031e-01, -2.35937124e-01, ...,\n",
       "           -4.98694447e-01, -4.43245628e-01, -3.58975978e-01],\n",
       "          ...,\n",
       "          [ 3.94672498e-02,  4.38465808e-02,  1.96445012e-02, ...,\n",
       "            2.65185517e-02,  1.53908008e-02,  8.90187693e-03],\n",
       "          [-4.25573257e-03, -1.63153010e-02, -1.32835759e-02, ...,\n",
       "            1.63458627e-02,  1.56157894e-02,  2.08327774e-02],\n",
       "          [-2.71087144e-02, -1.67795337e-02, -7.00243605e-03, ...,\n",
       "           -3.32549984e-02, -3.21843737e-02, -2.68355342e-02]],\n",
       "  \n",
       "         ...,\n",
       "  \n",
       "         [[-1.00000000e+00, -1.00000000e+00, -1.00000000e+00, ...,\n",
       "           -1.00000000e+00, -1.00000000e+00, -1.00000000e+00],\n",
       "          [ 1.90069114e-01,  1.10761874e-01, -6.62606431e-02, ...,\n",
       "           -7.50761963e-02, -1.08477822e-01, -1.14511194e-01],\n",
       "          [-5.29635669e-01, -6.55856505e-01, -7.06634022e-01, ...,\n",
       "           -5.97322695e-01, -6.11829197e-01, -5.51538873e-01],\n",
       "          ...,\n",
       "          [-6.05537981e-03, -2.96883357e-02, -2.74922394e-02, ...,\n",
       "           -2.74247792e-02, -2.71141360e-02, -1.14783556e-02],\n",
       "          [-1.67855621e-02,  7.75783888e-03,  1.07950601e-02, ...,\n",
       "            1.71046909e-03,  7.16066870e-03,  1.53966661e-03],\n",
       "          [-2.45775200e-03, -1.77921011e-02, -2.75977676e-02, ...,\n",
       "           -2.15282301e-03, -9.07699185e-03, -1.19753185e-02]],\n",
       "  \n",
       "         [[-1.00000000e+00, -1.00000000e+00, -1.00000000e+00, ...,\n",
       "           -1.00000000e+00, -1.00000000e+00, -1.00000000e+00],\n",
       "          [ 2.26736736e-01,  1.99539721e-01, -2.62569713e-02, ...,\n",
       "           -9.51877326e-02, -1.31645186e-01, -1.20107644e-01],\n",
       "          [-3.84792792e-01, -4.90711772e-01, -6.09366554e-01, ...,\n",
       "           -6.50519853e-01, -7.37084940e-01, -7.06214138e-01],\n",
       "          ...,\n",
       "          [-1.17734264e-02, -1.40349750e-02, -9.04688952e-03, ...,\n",
       "           -2.50793030e-02,  2.37822308e-03,  2.71623636e-02],\n",
       "          [-4.44058976e-03, -1.03469680e-02, -9.50907447e-03, ...,\n",
       "           -3.31187405e-02, -2.46486365e-02, -1.57912491e-02],\n",
       "          [-1.56179342e-02, -9.66299050e-03, -6.11773827e-03, ...,\n",
       "           -2.01110820e-02,  9.67896220e-05,  4.01565261e-03]],\n",
       "  \n",
       "         [[-1.00000000e+00, -1.00000000e+00, -1.00000000e+00, ...,\n",
       "           -1.00000000e+00, -1.00000000e+00, -1.00000000e+00],\n",
       "          [-1.24358585e-01, -1.31990456e-01, -9.41052834e-02, ...,\n",
       "           -9.43320538e-02,  1.21158160e-01,  2.09391057e-01],\n",
       "          [-4.87614114e-01, -5.71833574e-01, -6.12685930e-01, ...,\n",
       "           -6.34894360e-01, -4.66997447e-01, -3.65058632e-01],\n",
       "          ...,\n",
       "          [-3.76559186e-02, -3.70117906e-02, -3.99528359e-02, ...,\n",
       "           -9.00542848e-04,  1.24493159e-02,  1.17513160e-02],\n",
       "          [ 7.97529533e-03,  1.70745612e-02,  3.58929242e-02, ...,\n",
       "           -2.95683333e-02, -2.80445036e-02, -1.83322220e-02],\n",
       "          [-8.52121155e-03, -2.20449476e-02, -3.04119928e-02, ...,\n",
       "           -3.11572937e-02, -2.82928541e-02, -1.62531194e-02]]]),\n",
       "  'chroma': array([[[1.        , 0.82158763, 0.62119429, ..., 0.61060931,\n",
       "           0.25480308, 0.60469264],\n",
       "          [0.48209316, 1.        , 1.        , ..., 0.31451465,\n",
       "           0.12688387, 0.32054242],\n",
       "          [0.235259  , 0.83698286, 0.96373214, ..., 0.30909634,\n",
       "           0.19401341, 0.20055268],\n",
       "          ...,\n",
       "          [0.18017591, 0.26969608, 0.45614751, ..., 0.14961448,\n",
       "           0.06273851, 0.19687217],\n",
       "          [0.26936556, 0.52499822, 0.52134098, ..., 0.38971589,\n",
       "           0.26531595, 0.77441781],\n",
       "          [0.67199701, 0.71724727, 0.63761475, ..., 0.57404198,\n",
       "           0.27760165, 1.        ]],\n",
       "  \n",
       "         [[0.7929543 , 0.85250382, 0.27835462, ..., 0.02699065,\n",
       "           0.0088461 , 0.00843556],\n",
       "          [0.44298594, 0.19803634, 0.04556034, ..., 0.02559509,\n",
       "           0.00740965, 0.00389871],\n",
       "          [1.        , 0.25911703, 0.03755816, ..., 0.13121455,\n",
       "           0.01457284, 0.00321759],\n",
       "          ...,\n",
       "          [0.12840811, 0.04081884, 0.06453507, ..., 0.5047549 ,\n",
       "           0.55036141, 0.44327799],\n",
       "          [0.24479382, 0.35070196, 1.        , ..., 0.18777024,\n",
       "           1.        , 1.        ],\n",
       "          [0.63423126, 1.        , 0.82963814, ..., 0.07996252,\n",
       "           0.06820027, 0.0866796 ]],\n",
       "  \n",
       "         [[0.02175613, 0.05454812, 0.14172051, ..., 0.00672064,\n",
       "           0.00603362, 0.00645187],\n",
       "          [0.05360197, 0.09171403, 0.25457308, ..., 0.00348176,\n",
       "           0.00240834, 0.00260856],\n",
       "          [0.26389499, 0.29752816, 0.60236361, ..., 0.00600314,\n",
       "           0.00517152, 0.00699311],\n",
       "          ...,\n",
       "          [0.00570347, 0.01747421, 0.07948044, ..., 0.0390479 ,\n",
       "           0.11072974, 0.13245414],\n",
       "          [0.02342065, 0.06817487, 0.19982758, ..., 0.0247877 ,\n",
       "           0.05311275, 0.08520841],\n",
       "          [0.0273513 , 0.08711103, 0.23102879, ..., 0.01695671,\n",
       "           0.04064877, 0.07043366]],\n",
       "  \n",
       "         ...,\n",
       "  \n",
       "         [[0.12610382, 0.12471598, 0.16489852, ..., 0.24572749,\n",
       "           0.1238716 , 0.12829781],\n",
       "          [0.07889175, 0.0691538 , 0.08539165, ..., 0.17868977,\n",
       "           0.08346101, 0.08935159],\n",
       "          [0.07791399, 0.07788925, 0.11165839, ..., 0.22554703,\n",
       "           0.11713089, 0.13409487],\n",
       "          ...,\n",
       "          [0.34927074, 0.29280313, 0.63578482, ..., 0.80179949,\n",
       "           0.48508625, 0.26800052],\n",
       "          [1.        , 1.        , 1.        , ..., 0.76482494,\n",
       "           0.44734963, 0.34240191],\n",
       "          [0.32172124, 0.25523317, 0.20641969, ..., 0.50984689,\n",
       "           0.24543164, 0.26158208]],\n",
       "  \n",
       "         [[0.71912408, 0.5869497 , 0.35069952, ..., 0.11160185,\n",
       "           0.06362542, 0.08371525],\n",
       "          [0.16058746, 0.22985644, 0.27579111, ..., 0.18618927,\n",
       "           0.13418522, 0.16739648],\n",
       "          [0.14620432, 0.12890073, 0.10528068, ..., 0.14927212,\n",
       "           0.33896503, 0.52689065],\n",
       "          ...,\n",
       "          [0.53545085, 0.49111222, 0.49420921, ..., 0.11956065,\n",
       "           0.17920637, 0.32188183],\n",
       "          [0.61772104, 1.        , 1.        , ..., 0.08458379,\n",
       "           0.07427718, 0.1417025 ],\n",
       "          [1.        , 0.71848745, 0.61277838, ..., 0.12564109,\n",
       "           0.0638143 , 0.11357068]],\n",
       "  \n",
       "         [[0.06251011, 0.0459738 , 0.01866244, ..., 0.3890229 ,\n",
       "           0.1916717 , 0.23002025],\n",
       "          [0.05628724, 0.03137378, 0.01341336, ..., 0.12954976,\n",
       "           0.11618471, 0.16394116],\n",
       "          [0.11296244, 0.05141744, 0.01453566, ..., 0.20504687,\n",
       "           0.15686029, 0.09212124],\n",
       "          ...,\n",
       "          [0.11323844, 0.1612256 , 0.19061861, ..., 0.29035133,\n",
       "           0.4732978 , 0.63744086],\n",
       "          [0.170899  , 0.18966437, 0.14449896, ..., 0.9010768 ,\n",
       "           1.        , 1.        ],\n",
       "          [0.08161441, 0.07790397, 0.03834329, ..., 1.        ,\n",
       "           0.39198889, 0.26228079]]]),\n",
       "  'label': array([1, 1, 1, ..., 5, 5, 5])}}"
      ]
     },
     "execution_count": 79,
     "metadata": {},
     "output_type": "execute_result"
    }
   ],
   "source": [
    "merged_dict = {'train': train_features, 'val': val_features}\n",
    "merged_dict"
   ]
  },
  {
   "cell_type": "markdown",
   "metadata": {},
   "source": [
    "### Save the merged dictionary to a pkl"
   ]
  },
  {
   "cell_type": "code",
   "execution_count": 80,
   "metadata": {},
   "outputs": [],
   "source": [
    "with open('C:/Users/thato/Documents/Final-Year-Project/Dataset/Project-V4/feature-extraction/NotAnnotated/NotAveragePooled/split_features_4s_mel_mfcc_chroma.pkl', 'wb') as file:\n",
    "  pickle.dump(merged_dict, file)"
   ]
  },
  {
   "cell_type": "markdown",
   "metadata": {},
   "source": [
    "### **['melspectrogram', 'mfcc', 'chroma', 'rms']**"
   ]
  },
  {
   "cell_type": "code",
   "execution_count": 81,
   "metadata": {},
   "outputs": [],
   "source": [
    "features_list = ['melspectrogram', 'mfcc', 'chroma', 'rms']"
   ]
  },
  {
   "cell_type": "code",
   "execution_count": 82,
   "metadata": {},
   "outputs": [
    {
     "name": "stdout",
     "output_type": "stream",
     "text": [
      "Train DataFrame shape: (485, 6)\n",
      "Validation DataFrame shape: (130, 6)\n",
      "Number of rows in dataframe: 485\n"
     ]
    },
    {
     "name": "stderr",
     "output_type": "stream",
     "text": [
      "Processing data: 100%|██████████| 485/485 [05:00<00:00,  1.61it/s]\n"
     ]
    },
    {
     "name": "stdout",
     "output_type": "stream",
     "text": [
      "Number of rows in dataframe: 130\n"
     ]
    },
    {
     "name": "stderr",
     "output_type": "stream",
     "text": [
      "Processing data: 100%|██████████| 130/130 [01:22<00:00,  1.57it/s]\n"
     ]
    }
   ],
   "source": [
    "features = Extraction(train_data,\n",
    "                      val_data,\n",
    "                      window_size=4,\n",
    "                      features=features_list,\n",
    "                      avgpool=False\n",
    "                      )"
   ]
  },
  {
   "cell_type": "code",
   "execution_count": 83,
   "metadata": {},
   "outputs": [
    {
     "data": {
      "text/plain": [
       "(10981,)"
      ]
     },
     "metadata": {},
     "output_type": "display_data"
    },
    {
     "data": {
      "text/plain": [
       "'melspectrogram'"
      ]
     },
     "metadata": {},
     "output_type": "display_data"
    },
    {
     "data": {
      "text/plain": [
       "(10981, 60, 173)"
      ]
     },
     "metadata": {},
     "output_type": "display_data"
    },
    {
     "data": {
      "text/plain": [
       "'mfcc'"
      ]
     },
     "metadata": {},
     "output_type": "display_data"
    },
    {
     "data": {
      "text/plain": [
       "(10981, 20, 173)"
      ]
     },
     "metadata": {},
     "output_type": "display_data"
    },
    {
     "data": {
      "text/plain": [
       "'chroma'"
      ]
     },
     "metadata": {},
     "output_type": "display_data"
    },
    {
     "data": {
      "text/plain": [
       "(10981, 12, 173)"
      ]
     },
     "metadata": {},
     "output_type": "display_data"
    },
    {
     "data": {
      "text/plain": [
       "'rms'"
      ]
     },
     "metadata": {},
     "output_type": "display_data"
    },
    {
     "data": {
      "text/plain": [
       "(10981, 1, 173)"
      ]
     },
     "metadata": {},
     "output_type": "display_data"
    }
   ],
   "source": [
    "train_y = features.train_y\n",
    "display(train_y.shape)\n",
    "\n",
    "train_features = features.train_features\n",
    "for key in train_features.keys():\n",
    "  display(key)\n",
    "  display(train_features[key].shape)"
   ]
  },
  {
   "cell_type": "code",
   "execution_count": 84,
   "metadata": {},
   "outputs": [
    {
     "data": {
      "text/plain": [
       "(2928,)"
      ]
     },
     "metadata": {},
     "output_type": "display_data"
    },
    {
     "data": {
      "text/plain": [
       "'melspectrogram'"
      ]
     },
     "metadata": {},
     "output_type": "display_data"
    },
    {
     "data": {
      "text/plain": [
       "(2928, 60, 173)"
      ]
     },
     "metadata": {},
     "output_type": "display_data"
    },
    {
     "data": {
      "text/plain": [
       "'mfcc'"
      ]
     },
     "metadata": {},
     "output_type": "display_data"
    },
    {
     "data": {
      "text/plain": [
       "(2928, 20, 173)"
      ]
     },
     "metadata": {},
     "output_type": "display_data"
    },
    {
     "data": {
      "text/plain": [
       "'chroma'"
      ]
     },
     "metadata": {},
     "output_type": "display_data"
    },
    {
     "data": {
      "text/plain": [
       "(2928, 12, 173)"
      ]
     },
     "metadata": {},
     "output_type": "display_data"
    },
    {
     "data": {
      "text/plain": [
       "'rms'"
      ]
     },
     "metadata": {},
     "output_type": "display_data"
    },
    {
     "data": {
      "text/plain": [
       "(2928, 1, 173)"
      ]
     },
     "metadata": {},
     "output_type": "display_data"
    }
   ],
   "source": [
    "val_y = features.val_y\n",
    "display(val_y.shape)\n",
    "\n",
    "val_features = features.val_features\n",
    "for key in val_features.keys():\n",
    "  display(key)\n",
    "  display(val_features[key].shape)"
   ]
  },
  {
   "cell_type": "markdown",
   "metadata": {},
   "source": [
    "### Encode Classes"
   ]
  },
  {
   "cell_type": "code",
   "execution_count": 85,
   "metadata": {},
   "outputs": [
    {
     "name": "stdout",
     "output_type": "stream",
     "text": [
      "Encoded classes for [0, 1, 2]: ['Acrocephalus arundinaceus', 'Acrocephalus melanopogon', 'Acrocephalus scirpaceus']\n",
      "Encoded training labels: [1 1 1 ... 5 5 5]\n",
      "Encoded validation labels: [1 1 1 ... 5 5 5]\n"
     ]
    }
   ],
   "source": [
    "label_encoder = LabelEncoder().fit(train_y)\n",
    "train_y_encoded = label_encoder.transform(train_y)\n",
    "val_y_encoded = label_encoder.transform(val_y)\n",
    "\n",
    "classes = list(label_encoder.inverse_transform([0, 1, 2]))\n",
    "print(\"Encoded classes for [0, 1, 2]:\", classes)\n",
    "print(\"Encoded training labels:\", train_y_encoded)\n",
    "print(\"Encoded validation labels:\", val_y_encoded)"
   ]
  },
  {
   "cell_type": "code",
   "execution_count": 86,
   "metadata": {},
   "outputs": [
    {
     "data": {
      "text/plain": [
       "10981"
      ]
     },
     "metadata": {},
     "output_type": "display_data"
    },
    {
     "data": {
      "text/plain": [
       "array(['Acrocephalus melanopogon', 'Acrocephalus melanopogon',\n",
       "       'Acrocephalus melanopogon', 'Acrocephalus melanopogon',\n",
       "       'Acrocephalus melanopogon', 'Acrocephalus melanopogon',\n",
       "       'Acrocephalus melanopogon', 'Acrocephalus melanopogon',\n",
       "       'Acrocephalus melanopogon', 'Acrocephalus melanopogon'],\n",
       "      dtype='<U25')"
      ]
     },
     "metadata": {},
     "output_type": "display_data"
    },
    {
     "data": {
      "text/plain": [
       "2928"
      ]
     },
     "metadata": {},
     "output_type": "display_data"
    },
    {
     "data": {
      "text/plain": [
       "array(['Acrocephalus melanopogon', 'Acrocephalus melanopogon',\n",
       "       'Acrocephalus melanopogon', 'Acrocephalus melanopogon',\n",
       "       'Acrocephalus melanopogon', 'Acrocephalus melanopogon',\n",
       "       'Acrocephalus melanopogon', 'Acrocephalus melanopogon',\n",
       "       'Acrocephalus melanopogon', 'Acrocephalus melanopogon'],\n",
       "      dtype='<U25')"
      ]
     },
     "metadata": {},
     "output_type": "display_data"
    }
   ],
   "source": [
    "display(len(train_y))\n",
    "display(train_y[:10])\n",
    "\n",
    "display(len(val_y))\n",
    "display(val_y[:10])"
   ]
  },
  {
   "cell_type": "code",
   "execution_count": 87,
   "metadata": {},
   "outputs": [],
   "source": [
    "train_features['label'] = train_y_encoded\n",
    "val_features['label'] = val_y_encoded"
   ]
  },
  {
   "cell_type": "code",
   "execution_count": 88,
   "metadata": {},
   "outputs": [
    {
     "data": {
      "text/plain": [
       "{'train': {'melspectrogram': array([[[2.70414866e-03, 2.79165306e-04, 2.78151976e-06, ...,\n",
       "           1.06072697e-14, 6.16832790e-08, 5.78963081e-06],\n",
       "          [2.85087147e-03, 2.95306839e-04, 3.42857310e-06, ...,\n",
       "           1.12205350e-14, 6.15759939e-08, 5.77909589e-06],\n",
       "          [3.04498922e-03, 3.15533762e-04, 4.71718391e-06, ...,\n",
       "           1.25414211e-14, 6.13728398e-08, 5.75930686e-06],\n",
       "          ...,\n",
       "          [4.71950382e-06, 6.96979924e-07, 9.83989841e-06, ...,\n",
       "           1.16200449e-08, 1.17388327e-08, 3.10218327e-07],\n",
       "          [4.43196142e-06, 4.70733005e-07, 1.06044568e-07, ...,\n",
       "           1.11483545e-10, 1.11642392e-09, 9.85757182e-08],\n",
       "          [4.34125244e-06, 4.54310514e-07, 3.83112779e-09, ...,\n",
       "           1.07090598e-13, 3.56324655e-10, 3.34282947e-08]],\n",
       "  \n",
       "         [[1.22058890e-04, 9.34677081e-06, 3.22876749e-15, ...,\n",
       "           9.62427203e-15, 2.13093339e-07, 5.59486302e-06],\n",
       "          [1.24266710e-04, 9.51594868e-06, 1.18513276e-14, ...,\n",
       "           1.10033380e-14, 2.14718425e-07, 5.63834027e-06],\n",
       "          [1.28022462e-04, 9.80447630e-06, 3.00770811e-14, ...,\n",
       "           1.36940054e-14, 2.17515588e-07, 5.71325539e-06],\n",
       "          ...,\n",
       "          [1.50215815e-04, 1.13776341e-05, 5.88939681e-08, ...,\n",
       "           4.16812645e-08, 2.77897772e-08, 1.74555482e-07],\n",
       "          [1.35939287e-04, 1.01194749e-05, 6.81656219e-10, ...,\n",
       "           1.99050115e-10, 4.95835003e-09, 1.27424299e-07],\n",
       "          [1.28983083e-04, 9.60034989e-06, 3.19279506e-13, ...,\n",
       "           5.53632923e-13, 4.17230605e-09, 1.10114459e-07]],\n",
       "  \n",
       "         [[1.85531718e-04, 9.53108016e-06, 6.73317545e-14, ...,\n",
       "           1.53200308e-15, 4.15455699e-05, 2.92988185e-04],\n",
       "          [1.85189439e-04, 9.51309255e-06, 8.42760427e-14, ...,\n",
       "           5.95023518e-15, 4.15813829e-05, 2.93219312e-04],\n",
       "          [1.84552632e-04, 9.47953394e-06, 1.24909763e-13, ...,\n",
       "           1.68148157e-14, 4.16372150e-05, 2.93574015e-04],\n",
       "          ...,\n",
       "          [9.75108828e-06, 1.04482380e-06, 7.89420354e-07, ...,\n",
       "           5.43291212e-07, 7.29145532e-07, 3.91464839e-06],\n",
       "          [3.11197699e-06, 1.65035803e-07, 4.67140284e-09, ...,\n",
       "           2.44161576e-09, 2.99451286e-07, 2.13969076e-06],\n",
       "          [1.06945481e-06, 5.49462517e-08, 2.69519549e-12, ...,\n",
       "           1.80699632e-12, 1.60426648e-07, 1.15864989e-06]],\n",
       "  \n",
       "         ...,\n",
       "  \n",
       "         [[4.53545916e-05, 1.08413024e-05, 4.24713284e-12, ...,\n",
       "           1.79452193e-12, 5.49812374e-06, 1.25407868e-04],\n",
       "          [4.37971747e-05, 1.04546110e-05, 4.65429526e-12, ...,\n",
       "           2.04306704e-12, 5.65769311e-06, 1.28844396e-04],\n",
       "          [4.11926453e-05, 9.80866494e-06, 7.18891216e-12, ...,\n",
       "           5.61405479e-12, 5.92814020e-06, 1.34608965e-04],\n",
       "          ...,\n",
       "          [2.69419111e-06, 7.70524302e-07, 5.31593332e-08, ...,\n",
       "           2.20108621e-06, 2.65937884e-06, 2.05497310e-05],\n",
       "          [2.28072579e-06, 5.53895454e-07, 3.41803059e-10, ...,\n",
       "           5.16434544e-09, 8.54769837e-07, 1.88719287e-05],\n",
       "          [2.12366163e-06, 5.15512523e-07, 2.35857229e-13, ...,\n",
       "           1.50317432e-11, 8.16669463e-07, 1.81266161e-05]],\n",
       "  \n",
       "         [[2.77919571e-05, 6.26175072e-06, 4.30767081e-13, ...,\n",
       "           1.47949633e-13, 1.61745700e-07, 3.68414928e-06],\n",
       "          [2.86982712e-05, 6.46024761e-06, 5.86313694e-13, ...,\n",
       "           1.79571111e-13, 4.38818437e-07, 1.14984100e-05],\n",
       "          [3.02660893e-05, 6.80379156e-06, 9.69896926e-13, ...,\n",
       "           1.39866118e-11, 9.31861554e-07, 2.54277042e-05],\n",
       "          ...,\n",
       "          [1.73688190e-05, 3.83962587e-06, 5.50612062e-09, ...,\n",
       "           2.10456630e-07, 5.35742558e-07, 1.18287610e-05],\n",
       "          [1.68427376e-05, 3.71781534e-06, 4.53019651e-11, ...,\n",
       "           8.05668277e-10, 3.86940104e-07, 1.09509478e-05],\n",
       "          [1.65244224e-05, 3.64759259e-06, 2.31412768e-14, ...,\n",
       "           5.57668664e-13, 3.73854361e-07, 1.05889656e-05]],\n",
       "  \n",
       "         [[2.21190790e-04, 1.11619865e-05, 2.78268022e-13, ...,\n",
       "           6.64144953e-13, 6.06065351e-06, 1.80225760e-04],\n",
       "          [2.27187641e-04, 1.14519734e-05, 4.36195285e-13, ...,\n",
       "           7.53064417e-13, 7.57478226e-06, 2.20312062e-04],\n",
       "          [2.37296329e-04, 1.19372313e-05, 3.16946407e-12, ...,\n",
       "           2.05715536e-11, 1.02697193e-05, 2.91742091e-04],\n",
       "          ...,\n",
       "          [3.49611326e-05, 1.79054528e-06, 3.76184452e-08, ...,\n",
       "           1.14418343e-06, 1.02615584e-06, 3.56901139e-06],\n",
       "          [3.31546237e-05, 1.64014080e-06, 1.89029078e-10, ...,\n",
       "           7.20181581e-09, 1.76884919e-07, 4.48333902e-06],\n",
       "          [3.18327952e-05, 1.57461145e-06, 2.20048537e-13, ...,\n",
       "           2.00185213e-12, 2.10899421e-07, 5.50138228e-06]]]),\n",
       "  'mfcc': array([[[-1.00000000e+00, -1.00000000e+00, -1.00000000e+00, ...,\n",
       "           -1.00000000e+00, -1.00000000e+00, -1.00000000e+00],\n",
       "          [ 0.00000000e+00,  0.00000000e+00,  0.00000000e+00, ...,\n",
       "           -2.71197339e-01, -3.13886948e-01, -2.09831613e-01],\n",
       "          [ 0.00000000e+00,  0.00000000e+00,  0.00000000e+00, ...,\n",
       "           -5.31049173e-01, -6.01874742e-01, -4.93360724e-01],\n",
       "          ...,\n",
       "          [ 0.00000000e+00,  0.00000000e+00,  0.00000000e+00, ...,\n",
       "            2.81308106e-02,  3.07637710e-02,  9.38955135e-03],\n",
       "          [ 0.00000000e+00,  0.00000000e+00,  0.00000000e+00, ...,\n",
       "           -1.49445529e-02, -5.18208515e-04,  4.90068842e-03],\n",
       "          [ 0.00000000e+00,  0.00000000e+00,  0.00000000e+00, ...,\n",
       "           -1.18310387e-02, -1.15409626e-02, -1.49413174e-02]],\n",
       "  \n",
       "         [[-1.00000000e+00, -1.00000000e+00, -1.00000000e+00, ...,\n",
       "           -1.00000000e+00, -1.00000000e+00, -1.00000000e+00],\n",
       "          [-1.13884467e-01, -1.90462338e-01, -2.80728570e-01, ...,\n",
       "           -1.77356949e-01, -1.35265380e-01, -4.48146173e-02],\n",
       "          [-3.88151267e-01, -5.31972506e-01, -6.70721732e-01, ...,\n",
       "           -4.01965096e-01, -3.71173888e-01, -2.80858570e-01],\n",
       "          ...,\n",
       "          [ 1.73255585e-02, -1.06788942e-03, -1.71088627e-02, ...,\n",
       "            2.49748242e-02,  1.92685004e-02,  8.46749671e-03],\n",
       "          [-5.47289939e-03,  1.87034801e-02,  2.71181317e-02, ...,\n",
       "            4.15074098e-02,  5.33255007e-02,  5.02343202e-02],\n",
       "          [ 8.40523932e-03, -2.05144787e-02, -2.06837042e-02, ...,\n",
       "           -3.22943617e-02, -4.34185969e-02, -3.59342818e-02]],\n",
       "  \n",
       "         [[-1.00000000e+00, -1.00000000e+00, -1.00000000e+00, ...,\n",
       "           -1.00000000e+00, -1.00000000e+00, -1.00000000e+00],\n",
       "          [-1.15769114e-01, -1.75398284e-01, -1.88519369e-01, ...,\n",
       "           -2.02845265e-01, -1.81891807e-01, -1.30817563e-01],\n",
       "          [-2.87593679e-01, -3.52038536e-01, -3.60612811e-01, ...,\n",
       "           -3.23979939e-01, -2.88313535e-01, -2.24484996e-01],\n",
       "          ...,\n",
       "          [-4.15002928e-03,  1.65814591e-02,  2.00858316e-02, ...,\n",
       "            1.80511346e-02,  9.11321034e-03,  1.84152950e-02],\n",
       "          [ 9.62602933e-04,  5.92004925e-03,  9.36588659e-03, ...,\n",
       "            2.57671408e-02,  1.48558755e-02, -1.00115332e-02],\n",
       "          [-8.99508201e-03, -1.96778223e-02, -2.87123118e-02, ...,\n",
       "           -2.08099899e-02, -3.02161527e-02, -2.79936937e-02]],\n",
       "  \n",
       "         ...,\n",
       "  \n",
       "         [[-1.00000000e+00, -1.00000000e+00, -1.00000000e+00, ...,\n",
       "           -1.00000000e+00, -1.00000000e+00, -1.00000000e+00],\n",
       "          [ 1.81505237e-02, -2.22198564e-02, -1.29334149e-02, ...,\n",
       "           -4.04412676e-02, -2.59111334e-02,  4.93856753e-02],\n",
       "          [-3.39150452e-01, -3.95483510e-01, -3.76058121e-01, ...,\n",
       "           -2.95452815e-01, -2.77894602e-01, -2.10328343e-01],\n",
       "          ...,\n",
       "          [-4.89397952e-03, -9.57986065e-03, -9.03004413e-03, ...,\n",
       "           -1.22046744e-02, -1.20613899e-02, -3.02773425e-03],\n",
       "          [ 3.92683556e-04, -2.43617802e-04, -6.89425638e-03, ...,\n",
       "            5.57714743e-03,  2.99222366e-03,  3.85289470e-03],\n",
       "          [-1.65961286e-02, -2.22093292e-02, -2.37529600e-02, ...,\n",
       "           -2.88657744e-02, -1.88848214e-02, -5.86946160e-03]],\n",
       "  \n",
       "         [[-1.00000000e+00, -1.00000000e+00, -1.00000000e+00, ...,\n",
       "           -1.00000000e+00, -1.00000000e+00, -1.00000000e+00],\n",
       "          [ 1.23398083e-02, -9.25293640e-03, -2.48735891e-02, ...,\n",
       "           -4.53691606e-02, -3.25590310e-02,  7.50984938e-03],\n",
       "          [-4.19832527e-01, -4.87545845e-01, -5.51475361e-01, ...,\n",
       "           -2.62246102e-01, -2.61531239e-01, -2.24466822e-01],\n",
       "          ...,\n",
       "          [ 1.87954221e-02,  3.26667784e-03, -2.29411321e-02, ...,\n",
       "           -1.12141773e-02, -1.68255951e-02, -2.21169276e-02],\n",
       "          [-8.39194942e-03, -2.22651115e-03,  8.43202990e-03, ...,\n",
       "            1.71225067e-02,  2.85908654e-02,  2.73027009e-02],\n",
       "          [-2.79204545e-02, -1.90769306e-02, -1.71911823e-02, ...,\n",
       "           -2.39012313e-02, -2.78462864e-02, -2.44578822e-02]],\n",
       "  \n",
       "         [[-1.00000000e+00, -1.00000000e+00, -1.00000000e+00, ...,\n",
       "           -1.00000000e+00, -1.00000000e+00, -1.00000000e+00],\n",
       "          [ 6.09129623e-02,  5.16997495e-02,  3.58517762e-04, ...,\n",
       "           -1.99072861e-02, -6.33402224e-03,  2.51941185e-02],\n",
       "          [-2.09043003e-01, -3.37058934e-01, -4.62002069e-01, ...,\n",
       "           -1.82010076e-01, -1.78505734e-01, -1.37507895e-01],\n",
       "          ...,\n",
       "          [-1.28618385e-02, -1.90817063e-02, -6.89565773e-03, ...,\n",
       "           -1.67334471e-02, -9.35585696e-03, -4.43714473e-03],\n",
       "          [ 1.37333461e-02,  2.05511176e-02,  2.13040077e-02, ...,\n",
       "            8.00370711e-03,  1.55610108e-02,  1.56262297e-02],\n",
       "          [-1.51673917e-03, -9.38763901e-03, -4.81557838e-03, ...,\n",
       "           -1.42025540e-02, -1.78523413e-02, -1.77254800e-02]]]),\n",
       "  'chroma': array([[[0.45077237, 0.30515629, 1.        , ..., 1.        ,\n",
       "           1.        , 1.        ],\n",
       "          [0.65338778, 0.44659847, 0.54656498, ..., 0.38940053,\n",
       "           0.45202956, 0.58270182],\n",
       "          [0.3450437 , 0.33197443, 0.2480833 , ..., 0.0303648 ,\n",
       "           0.08049665, 0.34065462],\n",
       "          ...,\n",
       "          [0.3890048 , 0.18626708, 0.06416709, ..., 0.01793839,\n",
       "           0.03164066, 0.18055353],\n",
       "          [0.5294871 , 0.30290457, 0.27944772, ..., 0.04597702,\n",
       "           0.04274071, 0.13430365],\n",
       "          [1.        , 1.        , 0.87511089, ..., 0.31160357,\n",
       "           0.20998431, 0.23687774]],\n",
       "  \n",
       "         [[0.70374374, 0.28931184, 0.19359154, ..., 0.00504078,\n",
       "           0.0027275 , 0.00467649],\n",
       "          [0.6614793 , 0.72422293, 0.34234285, ..., 0.01757052,\n",
       "           0.00400014, 0.00418825],\n",
       "          [0.64255242, 0.8869698 , 0.34085604, ..., 0.01362793,\n",
       "           0.00396847, 0.00436252],\n",
       "          ...,\n",
       "          [1.        , 0.42652404, 0.28273766, ..., 1.        ,\n",
       "           1.        , 1.        ],\n",
       "          [0.50765614, 0.24898938, 0.17604215, ..., 0.5896645 ,\n",
       "           0.24439433, 0.11456653],\n",
       "          [0.6635943 , 0.28407645, 0.17448478, ..., 0.01958196,\n",
       "           0.00883886, 0.00795405]],\n",
       "  \n",
       "         [[1.        , 1.        , 1.        , ..., 0.06227085,\n",
       "           0.13948307, 0.40755589],\n",
       "          [0.3157742 , 0.25007693, 0.29362194, ..., 0.05137221,\n",
       "           0.23045003, 0.56335509],\n",
       "          [0.15029926, 0.06066319, 0.10148795, ..., 0.07706185,\n",
       "           0.32774633, 0.63606238],\n",
       "          ...,\n",
       "          [0.28557991, 0.12659806, 0.16209107, ..., 0.10533426,\n",
       "           0.06170329, 0.0477427 ],\n",
       "          [0.27867267, 0.20939586, 0.25031483, ..., 0.05597635,\n",
       "           0.03578065, 0.07399299],\n",
       "          [0.63184849, 0.64105345, 0.57716678, ..., 0.04463092,\n",
       "           0.0696722 , 0.28189801]],\n",
       "  \n",
       "         ...,\n",
       "  \n",
       "         [[1.        , 1.        , 0.39599394, ..., 0.60522271,\n",
       "           0.89088189, 1.        ],\n",
       "          [0.46783551, 0.7866204 , 0.31170594, ..., 0.76634657,\n",
       "           1.        , 0.65005268],\n",
       "          [0.42290814, 0.78405915, 0.34719932, ..., 0.7293386 ,\n",
       "           0.59674332, 0.6099333 ],\n",
       "          ...,\n",
       "          [0.9047244 , 0.78081404, 0.19953299, ..., 0.61425322,\n",
       "           0.7422545 , 0.64934047],\n",
       "          [0.72792535, 0.66191984, 0.20546592, ..., 0.63236237,\n",
       "           0.70814988, 0.7155682 ],\n",
       "          [0.81201764, 0.93041853, 0.39683383, ..., 1.        ,\n",
       "           0.89428509, 0.46841484]],\n",
       "  \n",
       "         [[0.4943582 , 1.        , 1.        , ..., 0.13685497,\n",
       "           0.10063367, 0.19532605],\n",
       "          [0.20345645, 0.74276001, 0.58524458, ..., 0.18619179,\n",
       "           0.13505327, 0.16505805],\n",
       "          [0.28886493, 0.50075229, 0.42077654, ..., 0.1821597 ,\n",
       "           0.09336672, 0.23342043],\n",
       "          ...,\n",
       "          [0.07673295, 0.1762242 , 0.17517736, ..., 0.08950452,\n",
       "           0.05855969, 0.09857249],\n",
       "          [0.14724641, 0.30668738, 0.22941122, ..., 0.0964959 ,\n",
       "           0.05936881, 0.11110873],\n",
       "          [0.3067571 , 0.55402526, 0.47943917, ..., 0.09129625,\n",
       "           0.07743878, 0.22737379]],\n",
       "  \n",
       "         [[0.46354411, 0.27460906, 0.35706143, ..., 0.70568457,\n",
       "           0.74975189, 0.94581515],\n",
       "          [0.66833545, 0.51240275, 0.6993475 , ..., 0.47676772,\n",
       "           0.4098913 , 0.45805587],\n",
       "          [1.        , 0.44248633, 0.50016922, ..., 0.93132195,\n",
       "           0.93312423, 0.71239724],\n",
       "          ...,\n",
       "          [0.45588916, 1.        , 1.        , ..., 0.69242991,\n",
       "           0.74204324, 0.78940114],\n",
       "          [0.88943062, 0.63983372, 0.54965768, ..., 0.90782861,\n",
       "           0.51448783, 0.65369331],\n",
       "          [0.62202941, 0.43782159, 0.29981175, ..., 0.79778119,\n",
       "           0.53801677, 0.72668788]]]),\n",
       "  'rms': array([[[3.3467971e-16, 4.0070487e-16, 2.4773185e-06, ...,\n",
       "           3.7689310e-02, 3.6285792e-02, 3.6151901e-02]],\n",
       "  \n",
       "         [[1.8833430e-02, 2.5647590e-02, 2.7913796e-02, ...,\n",
       "           1.7426725e-02, 1.7242631e-02, 1.5678870e-02]],\n",
       "  \n",
       "         [[6.0462081e-03, 7.1305856e-03, 7.4494937e-03, ...,\n",
       "           2.0171959e-02, 2.1105055e-02, 2.0845711e-02]],\n",
       "  \n",
       "         ...,\n",
       "  \n",
       "         [[3.7958126e-03, 4.2912513e-03, 4.8542032e-03, ...,\n",
       "           3.7117186e-03, 2.8504834e-03, 2.3636832e-03]],\n",
       "  \n",
       "         [[1.3503442e-02, 1.4892839e-02, 1.8339619e-02, ...,\n",
       "           3.0181650e-03, 2.9591061e-03, 2.6941192e-03]],\n",
       "  \n",
       "         [[2.6155091e-03, 4.2751050e-03, 4.7008558e-03, ...,\n",
       "           3.0868224e-04, 2.1300964e-04, 1.6305846e-04]]], dtype=float32),\n",
       "  'label': array([1, 1, 1, ..., 5, 5, 5])},\n",
       " 'val': {'melspectrogram': array([[[3.20727065e-05, 1.70512106e-06, 1.61698192e-11, ...,\n",
       "           6.51919109e-16, 3.52798572e-05, 5.80518954e-04],\n",
       "          [3.22422717e-05, 1.71387116e-06, 1.71018208e-11, ...,\n",
       "           1.78419135e-15, 3.53328172e-05, 5.81392126e-04],\n",
       "          [3.25622734e-05, 1.73066317e-06, 2.72505511e-11, ...,\n",
       "           9.38545504e-15, 3.54213638e-05, 5.82851237e-04],\n",
       "          ...,\n",
       "          [5.14212831e-05, 6.76458209e-06, 2.39359128e-06, ...,\n",
       "           1.86555335e-08, 5.14694003e-05, 8.50335325e-04],\n",
       "          [3.93156198e-05, 2.11725020e-06, 1.69905801e-08, ...,\n",
       "           5.81475619e-11, 4.76169745e-05, 7.86853952e-04],\n",
       "          [3.57245249e-05, 1.90032216e-06, 7.52069991e-12, ...,\n",
       "           4.47673507e-14, 4.53169271e-05, 7.48899732e-04]],\n",
       "  \n",
       "         [[6.48721776e-07, 2.51687682e-08, 1.20811478e-16, ...,\n",
       "           2.31628441e-16, 1.35943704e-04, 4.53302596e-04],\n",
       "          [6.56912517e-07, 2.54913397e-08, 1.48312609e-16, ...,\n",
       "           5.80674803e-16, 1.36152609e-04, 4.53998021e-04],\n",
       "          [6.71581488e-07, 2.60724107e-08, 5.48819244e-16, ...,\n",
       "           1.75166606e-15, 1.36501635e-04, 4.55159892e-04],\n",
       "          ...,\n",
       "          [1.49919305e-05, 5.92901727e-07, 3.65376164e-09, ...,\n",
       "           1.73699489e-09, 9.75882017e-06, 3.26170258e-05],\n",
       "          [1.35024340e-05, 5.32285488e-07, 2.16074121e-11, ...,\n",
       "           1.14464904e-11, 8.74825819e-06, 2.92439550e-05],\n",
       "          [1.26888818e-05, 5.00144981e-07, 4.81409993e-15, ...,\n",
       "           7.36633734e-15, 8.15206951e-06, 2.72527820e-05]],\n",
       "  \n",
       "         [[9.19919779e-05, 5.26726384e-05, 2.45803321e-15, ...,\n",
       "           3.11911142e-15, 3.19203865e-08, 5.78416526e-07],\n",
       "          [9.21303968e-05, 5.27520088e-05, 3.30938411e-15, ...,\n",
       "           3.35683353e-15, 3.22797805e-08, 5.84737264e-07],\n",
       "          [9.23618232e-05, 5.28847010e-05, 1.73820453e-14, ...,\n",
       "           4.15388779e-15, 3.28749904e-08, 5.95219735e-07],\n",
       "          ...,\n",
       "          [1.34724464e-04, 7.73807048e-05, 7.32493305e-09, ...,\n",
       "           7.22783890e-09, 1.03987422e-07, 1.75648774e-06],\n",
       "          [1.24787908e-04, 7.16834683e-05, 4.83470525e-11, ...,\n",
       "           3.55217389e-11, 9.49702970e-08, 1.66553338e-06],\n",
       "          [1.18756807e-04, 6.82215641e-05, 5.43679073e-14, ...,\n",
       "           3.58539854e-14, 9.18817026e-08, 1.61190990e-06]],\n",
       "  \n",
       "         ...,\n",
       "  \n",
       "         [[2.81189319e-05, 3.29715486e-06, 1.57151534e-13, ...,\n",
       "           4.00597100e-12, 1.37029898e-06, 1.16098332e-05],\n",
       "          [2.96301697e-05, 3.47909463e-06, 2.06332233e-13, ...,\n",
       "           4.37265869e-12, 1.37041705e-06, 1.16234446e-05],\n",
       "          [3.22567490e-05, 3.79543364e-06, 3.07032773e-13, ...,\n",
       "           5.09112164e-12, 1.37027311e-06, 1.16445451e-05],\n",
       "          ...,\n",
       "          [1.34814636e-07, 1.65917712e-08, 3.27621862e-10, ...,\n",
       "           1.57843192e-08, 7.32902996e-06, 6.24554551e-05],\n",
       "          [1.28848714e-07, 1.58343588e-08, 5.49498571e-14, ...,\n",
       "           1.35605479e-10, 6.92316257e-06, 5.90396147e-05],\n",
       "          [1.24150929e-07, 1.52566359e-08, 2.00781633e-17, ...,\n",
       "           3.64225792e-14, 6.66895798e-06, 5.68748356e-05]],\n",
       "  \n",
       "         [[2.97158252e-03, 2.85226650e-04, 4.52995963e-13, ...,\n",
       "           1.33980838e-15, 2.83606005e-07, 2.72429269e-06],\n",
       "          [2.98828107e-03, 2.86823808e-04, 4.97379536e-13, ...,\n",
       "           1.89696938e-15, 3.42923680e-07, 3.23181228e-06],\n",
       "          [3.01631448e-03, 2.89505767e-04, 5.77359655e-13, ...,\n",
       "           3.91624208e-14, 4.45352981e-07, 4.10803218e-06],\n",
       "          ...,\n",
       "          [6.64369358e-05, 6.39903299e-06, 3.32201681e-10, ...,\n",
       "           4.65083375e-10, 9.65546307e-07, 8.10345688e-06],\n",
       "          [6.26423131e-05, 6.03302597e-06, 5.71884228e-12, ...,\n",
       "           1.66595551e-12, 9.46309919e-07, 7.94329431e-06],\n",
       "          [6.03767730e-05, 5.81491758e-06, 7.10682441e-15, ...,\n",
       "           2.60428740e-15, 9.33114729e-07, 7.83306273e-06]],\n",
       "  \n",
       "         [[1.37015581e-05, 1.89107099e-06, 4.75303650e-14, ...,\n",
       "           5.68353732e-15, 1.28459297e-04, 2.09956739e-03],\n",
       "          [1.37199341e-05, 1.89519525e-06, 5.18573563e-14, ...,\n",
       "           1.65724219e-14, 1.29958650e-04, 2.12423806e-03],\n",
       "          [1.37491348e-05, 1.90200919e-06, 6.25458216e-14, ...,\n",
       "           4.86761213e-14, 1.32516478e-04, 2.16633751e-03],\n",
       "          ...,\n",
       "          [7.46596836e-05, 1.03708078e-05, 6.26741169e-09, ...,\n",
       "           1.14556364e-09, 2.03950610e-06, 3.29065955e-05],\n",
       "          [6.97511398e-05, 9.67515422e-06, 8.50388865e-12, ...,\n",
       "           5.56499902e-13, 1.94696047e-06, 3.14592058e-05],\n",
       "          [6.71924180e-05, 9.32031589e-06, 5.79245132e-17, ...,\n",
       "           5.62221301e-15, 1.89304310e-06, 3.05858103e-05]]]),\n",
       "  'mfcc': array([[[-1.00000000e+00, -1.00000000e+00, -1.00000000e+00, ...,\n",
       "           -1.00000000e+00, -1.00000000e+00, -1.00000000e+00],\n",
       "          [-2.21370297e-04, -7.33875870e-03, -2.04802497e-02, ...,\n",
       "           -2.66351729e-01, -2.79976194e-01, -2.53877218e-01],\n",
       "          [-7.14082959e-05, -1.22114632e-02, -4.27536122e-02, ...,\n",
       "           -2.79697814e-01, -1.67277198e-01, -9.13101608e-02],\n",
       "          ...,\n",
       "          [ 2.81611650e-04,  2.64634647e-03,  1.23610104e-03, ...,\n",
       "            2.01967272e-02,  3.47393597e-02,  3.76579820e-02],\n",
       "          [-3.30425579e-04, -6.03812244e-04,  4.18097763e-03, ...,\n",
       "           -5.70173102e-05, -9.92630729e-03, -1.30425165e-02],\n",
       "          [ 1.35628882e-04,  2.86172617e-03,  3.17641554e-03, ...,\n",
       "           -2.36247384e-02, -1.94765198e-02, -8.70336274e-03]],\n",
       "  \n",
       "         [[-1.00000000e+00, -1.00000000e+00, -1.00000000e+00, ...,\n",
       "           -1.00000000e+00, -1.00000000e+00, -1.00000000e+00],\n",
       "          [-3.67395375e-01, -4.23818456e-01, -3.78286509e-01, ...,\n",
       "           -2.79280550e-01, -6.65920736e-02,  5.34211153e-03],\n",
       "          [-3.50843169e-01, -4.63790844e-01, -4.81669999e-01, ...,\n",
       "           -4.96977163e-01, -3.16122876e-01, -2.59319168e-01],\n",
       "          ...,\n",
       "          [-2.36569398e-03,  2.54237238e-02,  3.43972209e-02, ...,\n",
       "            2.49789269e-02,  3.30001484e-02,  4.39136641e-02],\n",
       "          [-1.40083461e-02, -3.94093782e-02, -2.61933445e-02, ...,\n",
       "            2.37875834e-02,  2.99399175e-02,  1.79311959e-02],\n",
       "          [ 2.12450383e-02, -7.06766529e-03, -4.96161129e-02, ...,\n",
       "           -4.17418376e-02, -5.31494318e-02, -6.22059697e-02]],\n",
       "  \n",
       "         [[-1.00000000e+00, -1.00000000e+00, -1.00000000e+00, ...,\n",
       "           -1.00000000e+00, -1.00000000e+00, -1.00000000e+00],\n",
       "          [-2.61985178e-01, -2.69898091e-01, -2.47972252e-01, ...,\n",
       "           -3.48380748e-01, -3.06586873e-01, -2.52984585e-01],\n",
       "          [-7.38100253e-02, -1.09199031e-01, -2.35937124e-01, ...,\n",
       "           -4.98694447e-01, -4.43245628e-01, -3.58975978e-01],\n",
       "          ...,\n",
       "          [ 3.94672498e-02,  4.38465808e-02,  1.96445012e-02, ...,\n",
       "            2.65185517e-02,  1.53908008e-02,  8.90187693e-03],\n",
       "          [-4.25573257e-03, -1.63153010e-02, -1.32835759e-02, ...,\n",
       "            1.63458627e-02,  1.56157894e-02,  2.08327774e-02],\n",
       "          [-2.71087144e-02, -1.67795337e-02, -7.00243605e-03, ...,\n",
       "           -3.32549984e-02, -3.21843737e-02, -2.68355342e-02]],\n",
       "  \n",
       "         ...,\n",
       "  \n",
       "         [[-1.00000000e+00, -1.00000000e+00, -1.00000000e+00, ...,\n",
       "           -1.00000000e+00, -1.00000000e+00, -1.00000000e+00],\n",
       "          [ 1.90069114e-01,  1.10761874e-01, -6.62606431e-02, ...,\n",
       "           -7.50761963e-02, -1.08477822e-01, -1.14511194e-01],\n",
       "          [-5.29635669e-01, -6.55856505e-01, -7.06634022e-01, ...,\n",
       "           -5.97322695e-01, -6.11829197e-01, -5.51538873e-01],\n",
       "          ...,\n",
       "          [-6.05537981e-03, -2.96883357e-02, -2.74922394e-02, ...,\n",
       "           -2.74247792e-02, -2.71141360e-02, -1.14783556e-02],\n",
       "          [-1.67855621e-02,  7.75783888e-03,  1.07950601e-02, ...,\n",
       "            1.71046909e-03,  7.16066870e-03,  1.53966661e-03],\n",
       "          [-2.45775200e-03, -1.77921011e-02, -2.75977676e-02, ...,\n",
       "           -2.15282301e-03, -9.07699185e-03, -1.19753185e-02]],\n",
       "  \n",
       "         [[-1.00000000e+00, -1.00000000e+00, -1.00000000e+00, ...,\n",
       "           -1.00000000e+00, -1.00000000e+00, -1.00000000e+00],\n",
       "          [ 2.26736736e-01,  1.99539721e-01, -2.62569713e-02, ...,\n",
       "           -9.51877326e-02, -1.31645186e-01, -1.20107644e-01],\n",
       "          [-3.84792792e-01, -4.90711772e-01, -6.09366554e-01, ...,\n",
       "           -6.50519853e-01, -7.37084940e-01, -7.06214138e-01],\n",
       "          ...,\n",
       "          [-1.17734264e-02, -1.40349750e-02, -9.04688952e-03, ...,\n",
       "           -2.50793030e-02,  2.37822308e-03,  2.71623636e-02],\n",
       "          [-4.44058976e-03, -1.03469680e-02, -9.50907447e-03, ...,\n",
       "           -3.31187405e-02, -2.46486365e-02, -1.57912491e-02],\n",
       "          [-1.56179342e-02, -9.66299050e-03, -6.11773827e-03, ...,\n",
       "           -2.01110820e-02,  9.67896220e-05,  4.01565261e-03]],\n",
       "  \n",
       "         [[-1.00000000e+00, -1.00000000e+00, -1.00000000e+00, ...,\n",
       "           -1.00000000e+00, -1.00000000e+00, -1.00000000e+00],\n",
       "          [-1.24358585e-01, -1.31990456e-01, -9.41052834e-02, ...,\n",
       "           -9.43320538e-02,  1.21158160e-01,  2.09391057e-01],\n",
       "          [-4.87614114e-01, -5.71833574e-01, -6.12685930e-01, ...,\n",
       "           -6.34894360e-01, -4.66997447e-01, -3.65058632e-01],\n",
       "          ...,\n",
       "          [-3.76559186e-02, -3.70117906e-02, -3.99528359e-02, ...,\n",
       "           -9.00542848e-04,  1.24493159e-02,  1.17513160e-02],\n",
       "          [ 7.97529533e-03,  1.70745612e-02,  3.58929242e-02, ...,\n",
       "           -2.95683333e-02, -2.80445036e-02, -1.83322220e-02],\n",
       "          [-8.52121155e-03, -2.20449476e-02, -3.04119928e-02, ...,\n",
       "           -3.11572937e-02, -2.82928541e-02, -1.62531194e-02]]]),\n",
       "  'chroma': array([[[1.        , 0.82158763, 0.62119429, ..., 0.61060931,\n",
       "           0.25480308, 0.60469264],\n",
       "          [0.48209316, 1.        , 1.        , ..., 0.31451465,\n",
       "           0.12688387, 0.32054242],\n",
       "          [0.235259  , 0.83698286, 0.96373214, ..., 0.30909634,\n",
       "           0.19401341, 0.20055268],\n",
       "          ...,\n",
       "          [0.18017591, 0.26969608, 0.45614751, ..., 0.14961448,\n",
       "           0.06273851, 0.19687217],\n",
       "          [0.26936556, 0.52499822, 0.52134098, ..., 0.38971589,\n",
       "           0.26531595, 0.77441781],\n",
       "          [0.67199701, 0.71724727, 0.63761475, ..., 0.57404198,\n",
       "           0.27760165, 1.        ]],\n",
       "  \n",
       "         [[0.7929543 , 0.85250382, 0.27835462, ..., 0.02699065,\n",
       "           0.0088461 , 0.00843556],\n",
       "          [0.44298594, 0.19803634, 0.04556034, ..., 0.02559509,\n",
       "           0.00740965, 0.00389871],\n",
       "          [1.        , 0.25911703, 0.03755816, ..., 0.13121455,\n",
       "           0.01457284, 0.00321759],\n",
       "          ...,\n",
       "          [0.12840811, 0.04081884, 0.06453507, ..., 0.5047549 ,\n",
       "           0.55036141, 0.44327799],\n",
       "          [0.24479382, 0.35070196, 1.        , ..., 0.18777024,\n",
       "           1.        , 1.        ],\n",
       "          [0.63423126, 1.        , 0.82963814, ..., 0.07996252,\n",
       "           0.06820027, 0.0866796 ]],\n",
       "  \n",
       "         [[0.02175613, 0.05454812, 0.14172051, ..., 0.00672064,\n",
       "           0.00603362, 0.00645187],\n",
       "          [0.05360197, 0.09171403, 0.25457308, ..., 0.00348176,\n",
       "           0.00240834, 0.00260856],\n",
       "          [0.26389499, 0.29752816, 0.60236361, ..., 0.00600314,\n",
       "           0.00517152, 0.00699311],\n",
       "          ...,\n",
       "          [0.00570347, 0.01747421, 0.07948044, ..., 0.0390479 ,\n",
       "           0.11072974, 0.13245414],\n",
       "          [0.02342065, 0.06817487, 0.19982758, ..., 0.0247877 ,\n",
       "           0.05311275, 0.08520841],\n",
       "          [0.0273513 , 0.08711103, 0.23102879, ..., 0.01695671,\n",
       "           0.04064877, 0.07043366]],\n",
       "  \n",
       "         ...,\n",
       "  \n",
       "         [[0.12610382, 0.12471598, 0.16489852, ..., 0.24572749,\n",
       "           0.1238716 , 0.12829781],\n",
       "          [0.07889175, 0.0691538 , 0.08539165, ..., 0.17868977,\n",
       "           0.08346101, 0.08935159],\n",
       "          [0.07791399, 0.07788925, 0.11165839, ..., 0.22554703,\n",
       "           0.11713089, 0.13409487],\n",
       "          ...,\n",
       "          [0.34927074, 0.29280313, 0.63578482, ..., 0.80179949,\n",
       "           0.48508625, 0.26800052],\n",
       "          [1.        , 1.        , 1.        , ..., 0.76482494,\n",
       "           0.44734963, 0.34240191],\n",
       "          [0.32172124, 0.25523317, 0.20641969, ..., 0.50984689,\n",
       "           0.24543164, 0.26158208]],\n",
       "  \n",
       "         [[0.71912408, 0.5869497 , 0.35069952, ..., 0.11160185,\n",
       "           0.06362542, 0.08371525],\n",
       "          [0.16058746, 0.22985644, 0.27579111, ..., 0.18618927,\n",
       "           0.13418522, 0.16739648],\n",
       "          [0.14620432, 0.12890073, 0.10528068, ..., 0.14927212,\n",
       "           0.33896503, 0.52689065],\n",
       "          ...,\n",
       "          [0.53545085, 0.49111222, 0.49420921, ..., 0.11956065,\n",
       "           0.17920637, 0.32188183],\n",
       "          [0.61772104, 1.        , 1.        , ..., 0.08458379,\n",
       "           0.07427718, 0.1417025 ],\n",
       "          [1.        , 0.71848745, 0.61277838, ..., 0.12564109,\n",
       "           0.0638143 , 0.11357068]],\n",
       "  \n",
       "         [[0.06251011, 0.0459738 , 0.01866244, ..., 0.3890229 ,\n",
       "           0.1916717 , 0.23002025],\n",
       "          [0.05628724, 0.03137378, 0.01341336, ..., 0.12954976,\n",
       "           0.11618471, 0.16394116],\n",
       "          [0.11296244, 0.05141744, 0.01453566, ..., 0.20504687,\n",
       "           0.15686029, 0.09212124],\n",
       "          ...,\n",
       "          [0.11323844, 0.1612256 , 0.19061861, ..., 0.29035133,\n",
       "           0.4732978 , 0.63744086],\n",
       "          [0.170899  , 0.18966437, 0.14449896, ..., 0.9010768 ,\n",
       "           1.        , 1.        ],\n",
       "          [0.08161441, 0.07790397, 0.03834329, ..., 1.        ,\n",
       "           0.39198889, 0.26228079]]]),\n",
       "  'rms': array([[[5.0537081e-05, 8.7809807e-05, 2.1558917e-04, ...,\n",
       "           2.0112241e-02, 2.3547107e-02, 2.3032244e-02]],\n",
       "  \n",
       "         [[5.9022203e-02, 7.7420928e-02, 9.1956422e-02, ...,\n",
       "           5.5388685e-02, 7.0185959e-02, 5.8370076e-02]],\n",
       "  \n",
       "         [[3.5044800e-02, 3.5492942e-02, 3.5686325e-02, ...,\n",
       "           9.5981665e-02, 8.3434425e-02, 6.4239785e-02]],\n",
       "  \n",
       "         ...,\n",
       "  \n",
       "         [[2.4467155e-02, 2.9263666e-02, 3.2515202e-02, ...,\n",
       "           2.0815453e-02, 2.1103306e-02, 1.9506481e-02]],\n",
       "  \n",
       "         [[1.6166812e-02, 1.9589737e-02, 2.2303585e-02, ...,\n",
       "           3.4045406e-02, 3.8497332e-02, 3.7684117e-02]],\n",
       "  \n",
       "         [[2.3877256e-02, 3.0599359e-02, 3.7385475e-02, ...,\n",
       "           2.7134217e-02, 1.8058987e-02, 1.1232513e-02]]], dtype=float32),\n",
       "  'label': array([1, 1, 1, ..., 5, 5, 5])}}"
      ]
     },
     "execution_count": 88,
     "metadata": {},
     "output_type": "execute_result"
    }
   ],
   "source": [
    "merged_dict = {'train': train_features, 'val': val_features}\n",
    "merged_dict"
   ]
  },
  {
   "cell_type": "markdown",
   "metadata": {},
   "source": [
    "### Save the merged dictionary to a pkl"
   ]
  },
  {
   "cell_type": "code",
   "execution_count": 89,
   "metadata": {},
   "outputs": [],
   "source": [
    "with open('C:/Users/thato/Documents/Final-Year-Project/Dataset/Project-V4/feature-extraction/NotAnnotated/NotAveragePooled/split_features_4s_all.pkl', 'wb') as file:\n",
    "  pickle.dump(merged_dict, file)"
   ]
  },
  {
   "cell_type": "markdown",
   "metadata": {},
   "source": [
    "## **Window Size = 2s**"
   ]
  },
  {
   "cell_type": "markdown",
   "metadata": {},
   "source": [
    "### **['melspectrogram']**"
   ]
  },
  {
   "cell_type": "code",
   "execution_count": 90,
   "metadata": {},
   "outputs": [],
   "source": [
    "features_list = ['melspectrogram']"
   ]
  },
  {
   "cell_type": "code",
   "execution_count": 91,
   "metadata": {},
   "outputs": [
    {
     "name": "stdout",
     "output_type": "stream",
     "text": [
      "Train DataFrame shape: (485, 6)\n",
      "Validation DataFrame shape: (130, 6)\n",
      "Number of rows in dataframe: 485\n"
     ]
    },
    {
     "name": "stderr",
     "output_type": "stream",
     "text": [
      "Processing data: 100%|██████████| 485/485 [01:32<00:00,  5.27it/s]\n"
     ]
    },
    {
     "name": "stdout",
     "output_type": "stream",
     "text": [
      "Number of rows in dataframe: 130\n"
     ]
    },
    {
     "name": "stderr",
     "output_type": "stream",
     "text": [
      "Processing data: 100%|██████████| 130/130 [00:22<00:00,  5.79it/s]\n"
     ]
    }
   ],
   "source": [
    "features = Extraction(train_data,\n",
    "                      val_data,\n",
    "                      window_size=2,\n",
    "                      features=features_list,\n",
    "                      avgpool=False\n",
    "                      )"
   ]
  },
  {
   "cell_type": "code",
   "execution_count": 92,
   "metadata": {},
   "outputs": [
    {
     "data": {
      "text/plain": [
       "(22631,)"
      ]
     },
     "metadata": {},
     "output_type": "display_data"
    },
    {
     "data": {
      "text/plain": [
       "'melspectrogram'"
      ]
     },
     "metadata": {},
     "output_type": "display_data"
    },
    {
     "data": {
      "text/plain": [
       "(22631, 60, 87)"
      ]
     },
     "metadata": {},
     "output_type": "display_data"
    }
   ],
   "source": [
    "train_y = features.train_y\n",
    "display(train_y.shape)\n",
    "\n",
    "train_features = features.train_features\n",
    "for key in train_features.keys():\n",
    "  display(key)\n",
    "  display(train_features[key].shape)"
   ]
  },
  {
   "cell_type": "code",
   "execution_count": 93,
   "metadata": {},
   "outputs": [
    {
     "data": {
      "text/plain": [
       "array(['Acrocephalus melanopogon', 'Acrocephalus melanopogon',\n",
       "       'Acrocephalus melanopogon', ..., 'Anas strepera', 'Anas strepera',\n",
       "       'Anas strepera'], dtype='<U25')"
      ]
     },
     "execution_count": 93,
     "metadata": {},
     "output_type": "execute_result"
    }
   ],
   "source": [
    "train_y"
   ]
  },
  {
   "cell_type": "code",
   "execution_count": 94,
   "metadata": {},
   "outputs": [
    {
     "data": {
      "text/plain": [
       "(6044,)"
      ]
     },
     "metadata": {},
     "output_type": "display_data"
    },
    {
     "data": {
      "text/plain": [
       "'melspectrogram'"
      ]
     },
     "metadata": {},
     "output_type": "display_data"
    },
    {
     "data": {
      "text/plain": [
       "(6044, 60, 87)"
      ]
     },
     "metadata": {},
     "output_type": "display_data"
    }
   ],
   "source": [
    "val_y = features.val_y\n",
    "display(val_y.shape)\n",
    "\n",
    "val_features = features.val_features\n",
    "for key in val_features.keys():\n",
    "  display(key)\n",
    "  display(val_features[key].shape)"
   ]
  },
  {
   "cell_type": "markdown",
   "metadata": {},
   "source": [
    "### Encode Classes"
   ]
  },
  {
   "cell_type": "code",
   "execution_count": 95,
   "metadata": {},
   "outputs": [
    {
     "name": "stdout",
     "output_type": "stream",
     "text": [
      "Encoded classes for [0, 1, 2]: ['Acrocephalus arundinaceus', 'Acrocephalus melanopogon', 'Acrocephalus scirpaceus']\n",
      "Encoded training labels: [1 1 1 ... 5 5 5]\n",
      "Encoded validation labels: [1 1 1 ... 5 5 5]\n"
     ]
    }
   ],
   "source": [
    "label_encoder = LabelEncoder().fit(train_y)\n",
    "train_y_encoded = label_encoder.transform(train_y)\n",
    "val_y_encoded = label_encoder.transform(val_y)\n",
    "\n",
    "classes = list(label_encoder.inverse_transform([0, 1, 2]))\n",
    "print(\"Encoded classes for [0, 1, 2]:\", classes)\n",
    "print(\"Encoded training labels:\", train_y_encoded)\n",
    "print(\"Encoded validation labels:\", val_y_encoded)"
   ]
  },
  {
   "cell_type": "code",
   "execution_count": 96,
   "metadata": {},
   "outputs": [
    {
     "data": {
      "text/plain": [
       "22631"
      ]
     },
     "metadata": {},
     "output_type": "display_data"
    },
    {
     "data": {
      "text/plain": [
       "array(['Acrocephalus melanopogon', 'Acrocephalus melanopogon',\n",
       "       'Acrocephalus melanopogon', 'Acrocephalus melanopogon',\n",
       "       'Acrocephalus melanopogon', 'Acrocephalus melanopogon',\n",
       "       'Acrocephalus melanopogon', 'Acrocephalus melanopogon',\n",
       "       'Acrocephalus melanopogon', 'Acrocephalus melanopogon'],\n",
       "      dtype='<U25')"
      ]
     },
     "metadata": {},
     "output_type": "display_data"
    },
    {
     "data": {
      "text/plain": [
       "6044"
      ]
     },
     "metadata": {},
     "output_type": "display_data"
    },
    {
     "data": {
      "text/plain": [
       "array(['Acrocephalus melanopogon', 'Acrocephalus melanopogon',\n",
       "       'Acrocephalus melanopogon', 'Acrocephalus melanopogon',\n",
       "       'Acrocephalus melanopogon', 'Acrocephalus melanopogon',\n",
       "       'Acrocephalus melanopogon', 'Acrocephalus melanopogon',\n",
       "       'Acrocephalus melanopogon', 'Acrocephalus melanopogon'],\n",
       "      dtype='<U25')"
      ]
     },
     "metadata": {},
     "output_type": "display_data"
    }
   ],
   "source": [
    "display(len(train_y))\n",
    "display(train_y[:10])\n",
    "\n",
    "display(len(val_y))\n",
    "display(val_y[:10])"
   ]
  },
  {
   "cell_type": "code",
   "execution_count": 97,
   "metadata": {},
   "outputs": [],
   "source": [
    "train_features['label'] = train_y_encoded\n",
    "val_features['label'] = val_y_encoded"
   ]
  },
  {
   "cell_type": "code",
   "execution_count": 98,
   "metadata": {},
   "outputs": [
    {
     "data": {
      "text/plain": [
       "{'train': {'melspectrogram': array([[[2.70414866e-03, 2.79165306e-04, 2.78151976e-06, ...,\n",
       "           5.40252245e-16, 1.56153176e-05, 1.55124408e-04],\n",
       "          [2.85087147e-03, 2.95306839e-04, 3.42857310e-06, ...,\n",
       "           1.44704444e-15, 1.58973962e-05, 1.57929313e-04],\n",
       "          [3.04498922e-03, 3.15533762e-04, 4.71718391e-06, ...,\n",
       "           3.38392743e-15, 1.63767277e-05, 1.62701248e-04],\n",
       "          ...,\n",
       "          [4.71950382e-06, 6.96979924e-07, 9.83989841e-06, ...,\n",
       "           4.08672234e-08, 1.99395944e-05, 1.89381415e-04],\n",
       "          [4.43196142e-06, 4.70733005e-07, 1.06044568e-07, ...,\n",
       "           4.94281655e-10, 1.80252409e-05, 1.73290591e-04],\n",
       "          [4.34125244e-06, 4.54310514e-07, 3.83112779e-09, ...,\n",
       "           2.21867693e-13, 1.70996799e-05, 1.64420217e-04]],\n",
       "  \n",
       "         [[2.21674682e-07, 8.28132378e-09, 1.14113669e-16, ...,\n",
       "           5.64442031e-13, 4.15756946e-08, 3.75276195e-07],\n",
       "          [2.63981337e-07, 9.74223593e-09, 2.37362292e-16, ...,\n",
       "           5.92175932e-13, 4.42072655e-08, 3.99715798e-07],\n",
       "          [3.37689066e-07, 1.22883134e-08, 5.17506993e-16, ...,\n",
       "           6.43548501e-13, 4.88149812e-08, 4.42517953e-07],\n",
       "          ...,\n",
       "          [1.24221423e-06, 4.60586002e-08, 9.70200993e-09, ...,\n",
       "           2.21176805e-07, 1.38921091e-07, 9.19623650e-07],\n",
       "          [1.18960547e-06, 4.02294314e-08, 6.11671643e-11, ...,\n",
       "           1.14089998e-09, 8.66023738e-08, 7.95996925e-07],\n",
       "          [1.18027896e-06, 3.98905750e-08, 5.35617338e-14, ...,\n",
       "           7.09815142e-13, 8.21373182e-08, 7.57310404e-07]],\n",
       "  \n",
       "         [[1.22058890e-04, 9.34677081e-06, 3.22876749e-15, ...,\n",
       "           1.16298733e-14, 1.22834425e-07, 1.12118992e-05],\n",
       "          [1.24266710e-04, 9.51594868e-06, 1.18513276e-14, ...,\n",
       "           1.24177431e-14, 1.22618447e-07, 1.11914349e-05],\n",
       "          [1.28022462e-04, 9.80447630e-06, 3.00770811e-14, ...,\n",
       "           1.40192738e-14, 1.22210139e-07, 1.11530365e-05],\n",
       "          ...,\n",
       "          [1.50215815e-04, 1.13776341e-05, 5.88939681e-08, ...,\n",
       "           9.70304505e-09, 1.55419074e-08, 5.80670822e-07],\n",
       "          [1.35939287e-04, 1.01194749e-05, 6.81656219e-10, ...,\n",
       "           9.28519809e-11, 2.15696595e-09, 1.90870739e-07],\n",
       "          [1.28983083e-04, 9.60034989e-06, 3.19279506e-13, ...,\n",
       "           8.41850007e-14, 7.09439993e-10, 6.47348860e-08]],\n",
       "  \n",
       "         ...,\n",
       "  \n",
       "         [[2.21190790e-04, 1.11619865e-05, 2.78268022e-13, ...,\n",
       "           1.16655524e-12, 2.86467632e-07, 5.01181085e-06],\n",
       "          [2.27187641e-04, 1.14519734e-05, 4.36195285e-13, ...,\n",
       "           1.49694979e-12, 8.03164735e-07, 1.58080789e-05],\n",
       "          [2.37296329e-04, 1.19372313e-05, 3.16946407e-12, ...,\n",
       "           1.38095078e-11, 1.72303729e-06, 3.50546831e-05],\n",
       "          ...,\n",
       "          [3.49611326e-05, 1.79054528e-06, 3.76184452e-08, ...,\n",
       "           1.83735118e-07, 8.93140530e-07, 1.62979154e-05],\n",
       "          [3.31546237e-05, 1.64014080e-06, 1.89029078e-10, ...,\n",
       "           6.55938962e-10, 7.22135098e-07, 1.51337809e-05],\n",
       "          [3.18327952e-05, 1.57461145e-06, 2.20048537e-13, ...,\n",
       "           4.54218096e-13, 6.97990886e-07, 1.46336116e-05]],\n",
       "  \n",
       "         [[9.28293796e-06, 8.80186231e-07, 9.71151637e-12, ...,\n",
       "           5.76394778e-13, 2.07389599e-05, 1.83769965e-04],\n",
       "          [1.05478390e-05, 1.00716296e-06, 1.13567924e-11, ...,\n",
       "           8.90076629e-13, 2.09316945e-05, 1.85519761e-04],\n",
       "          [1.27738439e-05, 1.23076803e-06, 2.97900411e-11, ...,\n",
       "           1.51397020e-11, 2.12326352e-05, 1.88256790e-04],\n",
       "          ...,\n",
       "          [1.82649467e-05, 2.14926302e-06, 4.95592478e-07, ...,\n",
       "           1.49483611e-06, 1.40780630e-06, 6.60807807e-06],\n",
       "          [1.29827135e-05, 1.33111630e-06, 3.30222561e-09, ...,\n",
       "           1.17212554e-08, 5.54495582e-07, 4.92670401e-06],\n",
       "          [1.07567421e-05, 1.10118534e-06, 2.07558184e-12, ...,\n",
       "           8.93726053e-12, 4.65363529e-07, 4.17494435e-06]],\n",
       "  \n",
       "         [[1.66002590e-05, 2.08753392e-06, 5.17446353e-12, ...,\n",
       "           1.72114188e-12, 1.19098446e-05, 2.33468937e-04],\n",
       "          [5.28939195e-05, 7.23103147e-06, 9.25834186e-12, ...,\n",
       "           1.99458249e-12, 1.48048586e-05, 2.84934542e-04],\n",
       "          [1.17623931e-04, 1.64111316e-05, 3.83605586e-11, ...,\n",
       "           2.72143698e-11, 1.99588292e-05, 3.76648939e-04],\n",
       "          ...,\n",
       "          [5.60726492e-05, 8.61579281e-06, 6.15390724e-05, ...,\n",
       "           1.23614275e-06, 1.11632352e-06, 4.29756085e-06],\n",
       "          [5.09890167e-05, 7.24329330e-06, 4.37902098e-09, ...,\n",
       "           7.73468341e-09, 3.32286453e-07, 5.74729608e-06],\n",
       "          [4.92019233e-05, 6.98686666e-06, 3.19411450e-12, ...,\n",
       "           2.33464641e-12, 4.01913941e-07, 7.05410795e-06]]]),\n",
       "  'label': array([1, 1, 1, ..., 5, 5, 5])},\n",
       " 'val': {'melspectrogram': array([[[3.20727065e-05, 1.70512106e-06, 1.61698192e-11, ...,\n",
       "           7.22252679e-15, 2.69283220e-07, 3.39019824e-06],\n",
       "          [3.22422717e-05, 1.71387116e-06, 1.71018208e-11, ...,\n",
       "           8.45951209e-15, 2.72619082e-07, 3.43296506e-06],\n",
       "          [3.25622734e-05, 1.73066317e-06, 2.72505511e-11, ...,\n",
       "           2.73338675e-14, 2.78504740e-07, 3.50895954e-06],\n",
       "          ...,\n",
       "          [5.14212831e-05, 6.76458209e-06, 2.39359128e-06, ...,\n",
       "           6.30893990e-09, 6.11588980e-06, 7.81709836e-05],\n",
       "          [3.93156198e-05, 2.11725020e-06, 1.69905801e-08, ...,\n",
       "           1.81867133e-11, 5.49903895e-06, 7.04596725e-05],\n",
       "          [3.57245249e-05, 1.90032216e-06, 7.52069991e-12, ...,\n",
       "           1.08188427e-14, 5.16713334e-06, 6.62027836e-05]],\n",
       "  \n",
       "         [[7.67939508e-04, 8.86466934e-05, 1.32991794e-14, ...,\n",
       "           1.57970377e-14, 7.55694365e-06, 2.54579127e-05],\n",
       "          [7.69154986e-04, 8.87870046e-05, 1.39016140e-14, ...,\n",
       "           1.65775339e-14, 7.66055853e-06, 2.58148905e-05],\n",
       "          [7.71190660e-04, 8.90219420e-05, 1.12911211e-13, ...,\n",
       "           2.12653285e-14, 7.83495949e-06, 2.64159078e-05],\n",
       "          ...,\n",
       "          [9.45084473e-06, 1.10264178e-06, 3.05756701e-08, ...,\n",
       "           4.18262054e-09, 2.83884946e-05, 9.73770684e-05],\n",
       "          [6.01727539e-06, 7.00735316e-07, 2.08139458e-10, ...,\n",
       "           4.49919935e-11, 2.66796293e-05, 9.15327017e-05],\n",
       "          [3.95455043e-06, 4.62359201e-07, 2.36568448e-13, ...,\n",
       "           1.06233019e-14, 2.56824178e-05, 8.81108068e-05]],\n",
       "  \n",
       "         [[6.48721776e-07, 2.51687682e-08, 1.20811478e-16, ...,\n",
       "           1.30132639e-14, 6.18270368e-05, 6.29146592e-04],\n",
       "          [6.56912517e-07, 2.54913397e-08, 1.48312609e-16, ...,\n",
       "           1.31511495e-14, 6.19198921e-05, 6.30093058e-04],\n",
       "          [6.71581488e-07, 2.60724107e-08, 5.48819244e-16, ...,\n",
       "           1.83047008e-14, 6.20751178e-05, 6.31674541e-04],\n",
       "          ...,\n",
       "          [1.49919305e-05, 5.92901727e-07, 3.65376164e-09, ...,\n",
       "           1.22876564e-08, 9.02803896e-05, 9.21869874e-04],\n",
       "          [1.35024340e-05, 5.32285488e-07, 2.16074121e-11, ...,\n",
       "           3.84824667e-11, 8.35282517e-05, 8.53059152e-04],\n",
       "          [1.26888818e-05, 5.00144981e-07, 4.81409993e-15, ...,\n",
       "           3.21925392e-14, 7.94948751e-05, 8.11916160e-04]],\n",
       "  \n",
       "         ...,\n",
       "  \n",
       "         [[2.79701408e-04, 4.34947074e-05, 4.29942295e-13, ...,\n",
       "           1.26963522e-12, 1.73066861e-05, 1.00663595e-04],\n",
       "          [2.81954846e-04, 4.38518396e-05, 4.53512408e-13, ...,\n",
       "           1.43887940e-12, 1.76455142e-05, 1.02626955e-04],\n",
       "          [2.85739681e-04, 4.44521653e-05, 5.03427081e-13, ...,\n",
       "           1.77615609e-12, 1.82325546e-05, 1.06029656e-04],\n",
       "          ...,\n",
       "          [5.80771124e-07, 9.00255674e-08, 1.56240015e-10, ...,\n",
       "           1.50649080e-11, 5.42662453e-09, 3.23174508e-08],\n",
       "          [5.48062473e-07, 8.46335862e-08, 1.36293422e-13, ...,\n",
       "           3.72605134e-14, 4.41823421e-09, 2.61668936e-08],\n",
       "          [5.32353265e-07, 8.22130062e-08, 3.95376370e-18, ...,\n",
       "           8.03567657e-17, 3.71531077e-09, 2.19502559e-08]],\n",
       "  \n",
       "         [[3.15187499e-06, 2.89428521e-07, 2.70221719e-14, ...,\n",
       "           1.48056737e-15, 2.40914304e-04, 2.51964810e-03],\n",
       "          [3.72881846e-06, 3.38281788e-07, 3.74882083e-14, ...,\n",
       "           5.36750194e-15, 2.43730630e-04, 2.54927003e-03],\n",
       "          [4.72470674e-06, 4.22629644e-07, 5.84173101e-14, ...,\n",
       "           3.12851393e-14, 2.48535438e-04, 2.59982134e-03],\n",
       "          ...,\n",
       "          [9.18194915e-06, 7.65939411e-07, 5.60757571e-16, ...,\n",
       "           1.47036705e-09, 3.81191126e-06, 3.94546596e-05],\n",
       "          [9.00066336e-06, 7.50893994e-07, 4.90253083e-18, ...,\n",
       "           8.23424412e-13, 3.64171086e-06, 3.77191248e-05],\n",
       "          [8.87585337e-06, 7.40518431e-07, 1.12649499e-18, ...,\n",
       "           8.24201731e-15, 3.54080434e-06, 3.66717183e-05]],\n",
       "  \n",
       "         [[7.98440050e-05, 1.07336331e-05, 2.52167341e-12, ...,\n",
       "           1.51385192e-12, 1.12161293e-07, 1.21288623e-06],\n",
       "          [8.14003782e-05, 1.09420324e-05, 2.74702510e-12, ...,\n",
       "           1.64131167e-12, 2.55375556e-07, 3.10978889e-06],\n",
       "          [8.40973909e-05, 1.13036278e-05, 3.16179345e-12, ...,\n",
       "           1.86404934e-12, 5.03657633e-07, 6.39771735e-06],\n",
       "          ...,\n",
       "          [2.59605016e-08, 4.95465925e-09, 2.47782912e-09, ...,\n",
       "           2.91136362e-10, 2.33332568e-07, 3.07955750e-06],\n",
       "          [2.07930317e-08, 2.85055138e-09, 1.14060655e-11, ...,\n",
       "           1.55821794e-12, 2.24607375e-07, 2.97084136e-06],\n",
       "          [1.74360613e-08, 2.37762987e-09, 4.04613665e-15, ...,\n",
       "           4.34750646e-17, 2.19348212e-07, 2.90151027e-06]]]),\n",
       "  'label': array([1, 1, 1, ..., 5, 5, 5])}}"
      ]
     },
     "execution_count": 98,
     "metadata": {},
     "output_type": "execute_result"
    }
   ],
   "source": [
    "merged_dict = {'train': train_features, 'val': val_features}\n",
    "merged_dict"
   ]
  },
  {
   "cell_type": "markdown",
   "metadata": {},
   "source": [
    "### Save the merged dictionary to a pkl"
   ]
  },
  {
   "cell_type": "code",
   "execution_count": 99,
   "metadata": {},
   "outputs": [],
   "source": [
    "with open('C:/Users/thato/Documents/Final-Year-Project/Dataset/Project-V4/feature-extraction/NotAnnotated/NotAveragePooled/split_features_2s_mel.pkl', 'wb') as file:\n",
    "  pickle.dump(merged_dict, file)"
   ]
  },
  {
   "cell_type": "markdown",
   "metadata": {},
   "source": [
    "### **['melspectrogram', 'mfcc']**"
   ]
  },
  {
   "cell_type": "code",
   "execution_count": 100,
   "metadata": {},
   "outputs": [],
   "source": [
    "features_list = ['melspectrogram', 'mfcc']"
   ]
  },
  {
   "cell_type": "code",
   "execution_count": 101,
   "metadata": {},
   "outputs": [
    {
     "name": "stdout",
     "output_type": "stream",
     "text": [
      "Train DataFrame shape: (485, 6)\n",
      "Validation DataFrame shape: (130, 6)\n",
      "Number of rows in dataframe: 485\n"
     ]
    },
    {
     "name": "stderr",
     "output_type": "stream",
     "text": [
      "Processing data: 100%|██████████| 485/485 [03:18<00:00,  2.44it/s]\n"
     ]
    },
    {
     "name": "stdout",
     "output_type": "stream",
     "text": [
      "Number of rows in dataframe: 130\n"
     ]
    },
    {
     "name": "stderr",
     "output_type": "stream",
     "text": [
      "Processing data: 100%|██████████| 130/130 [00:48<00:00,  2.69it/s]\n"
     ]
    }
   ],
   "source": [
    "features = Extraction(train_data,\n",
    "                      val_data,\n",
    "                      window_size=2,\n",
    "                      features=features_list,\n",
    "                      avgpool=False\n",
    "                      )"
   ]
  },
  {
   "cell_type": "code",
   "execution_count": 102,
   "metadata": {},
   "outputs": [
    {
     "data": {
      "text/plain": [
       "(22631,)"
      ]
     },
     "metadata": {},
     "output_type": "display_data"
    },
    {
     "data": {
      "text/plain": [
       "'melspectrogram'"
      ]
     },
     "metadata": {},
     "output_type": "display_data"
    },
    {
     "data": {
      "text/plain": [
       "(22631, 60, 87)"
      ]
     },
     "metadata": {},
     "output_type": "display_data"
    },
    {
     "data": {
      "text/plain": [
       "'mfcc'"
      ]
     },
     "metadata": {},
     "output_type": "display_data"
    },
    {
     "data": {
      "text/plain": [
       "(22631, 20, 87)"
      ]
     },
     "metadata": {},
     "output_type": "display_data"
    }
   ],
   "source": [
    "train_y = features.train_y\n",
    "display(train_y.shape)\n",
    "\n",
    "train_features = features.train_features\n",
    "for key in train_features.keys():\n",
    "  display(key)\n",
    "  display(train_features[key].shape)"
   ]
  },
  {
   "cell_type": "code",
   "execution_count": 103,
   "metadata": {},
   "outputs": [
    {
     "data": {
      "text/plain": [
       "(6044,)"
      ]
     },
     "metadata": {},
     "output_type": "display_data"
    },
    {
     "data": {
      "text/plain": [
       "'melspectrogram'"
      ]
     },
     "metadata": {},
     "output_type": "display_data"
    },
    {
     "data": {
      "text/plain": [
       "(6044, 60, 87)"
      ]
     },
     "metadata": {},
     "output_type": "display_data"
    },
    {
     "data": {
      "text/plain": [
       "'mfcc'"
      ]
     },
     "metadata": {},
     "output_type": "display_data"
    },
    {
     "data": {
      "text/plain": [
       "(6044, 20, 87)"
      ]
     },
     "metadata": {},
     "output_type": "display_data"
    }
   ],
   "source": [
    "val_y = features.val_y\n",
    "display(val_y.shape)\n",
    "\n",
    "val_features = features.val_features\n",
    "for key in val_features.keys():\n",
    "  display(key)\n",
    "  display(val_features[key].shape)"
   ]
  },
  {
   "cell_type": "markdown",
   "metadata": {},
   "source": [
    "### Encode Classes"
   ]
  },
  {
   "cell_type": "code",
   "execution_count": 104,
   "metadata": {},
   "outputs": [
    {
     "name": "stdout",
     "output_type": "stream",
     "text": [
      "Encoded classes for [0, 1, 2]: ['Acrocephalus arundinaceus', 'Acrocephalus melanopogon', 'Acrocephalus scirpaceus']\n",
      "Encoded training labels: [1 1 1 ... 5 5 5]\n",
      "Encoded validation labels: [1 1 1 ... 5 5 5]\n"
     ]
    }
   ],
   "source": [
    "label_encoder = LabelEncoder().fit(train_y)\n",
    "train_y_encoded = label_encoder.transform(train_y)\n",
    "val_y_encoded = label_encoder.transform(val_y)\n",
    "\n",
    "classes = list(label_encoder.inverse_transform([0, 1, 2]))\n",
    "print(\"Encoded classes for [0, 1, 2]:\", classes)\n",
    "print(\"Encoded training labels:\", train_y_encoded)\n",
    "print(\"Encoded validation labels:\", val_y_encoded)"
   ]
  },
  {
   "cell_type": "code",
   "execution_count": 105,
   "metadata": {},
   "outputs": [
    {
     "data": {
      "text/plain": [
       "22631"
      ]
     },
     "metadata": {},
     "output_type": "display_data"
    },
    {
     "data": {
      "text/plain": [
       "array(['Acrocephalus melanopogon', 'Acrocephalus melanopogon',\n",
       "       'Acrocephalus melanopogon', 'Acrocephalus melanopogon',\n",
       "       'Acrocephalus melanopogon', 'Acrocephalus melanopogon',\n",
       "       'Acrocephalus melanopogon', 'Acrocephalus melanopogon',\n",
       "       'Acrocephalus melanopogon', 'Acrocephalus melanopogon'],\n",
       "      dtype='<U25')"
      ]
     },
     "metadata": {},
     "output_type": "display_data"
    },
    {
     "data": {
      "text/plain": [
       "6044"
      ]
     },
     "metadata": {},
     "output_type": "display_data"
    },
    {
     "data": {
      "text/plain": [
       "array(['Acrocephalus melanopogon', 'Acrocephalus melanopogon',\n",
       "       'Acrocephalus melanopogon', 'Acrocephalus melanopogon',\n",
       "       'Acrocephalus melanopogon', 'Acrocephalus melanopogon',\n",
       "       'Acrocephalus melanopogon', 'Acrocephalus melanopogon',\n",
       "       'Acrocephalus melanopogon', 'Acrocephalus melanopogon'],\n",
       "      dtype='<U25')"
      ]
     },
     "metadata": {},
     "output_type": "display_data"
    }
   ],
   "source": [
    "display(len(train_y))\n",
    "display(train_y[:10])\n",
    "\n",
    "display(len(val_y))\n",
    "display(val_y[:10])"
   ]
  },
  {
   "cell_type": "code",
   "execution_count": 106,
   "metadata": {},
   "outputs": [],
   "source": [
    "train_features['label'] = train_y_encoded\n",
    "val_features['label'] = val_y_encoded"
   ]
  },
  {
   "cell_type": "code",
   "execution_count": 107,
   "metadata": {},
   "outputs": [
    {
     "data": {
      "text/plain": [
       "{'train': {'melspectrogram': array([[[2.70414866e-03, 2.79165306e-04, 2.78151976e-06, ...,\n",
       "           5.40252245e-16, 1.56153176e-05, 1.55124408e-04],\n",
       "          [2.85087147e-03, 2.95306839e-04, 3.42857310e-06, ...,\n",
       "           1.44704444e-15, 1.58973962e-05, 1.57929313e-04],\n",
       "          [3.04498922e-03, 3.15533762e-04, 4.71718391e-06, ...,\n",
       "           3.38392743e-15, 1.63767277e-05, 1.62701248e-04],\n",
       "          ...,\n",
       "          [4.71950382e-06, 6.96979924e-07, 9.83989841e-06, ...,\n",
       "           4.08672234e-08, 1.99395944e-05, 1.89381415e-04],\n",
       "          [4.43196142e-06, 4.70733005e-07, 1.06044568e-07, ...,\n",
       "           4.94281655e-10, 1.80252409e-05, 1.73290591e-04],\n",
       "          [4.34125244e-06, 4.54310514e-07, 3.83112779e-09, ...,\n",
       "           2.21867693e-13, 1.70996799e-05, 1.64420217e-04]],\n",
       "  \n",
       "         [[2.21674682e-07, 8.28132378e-09, 1.14113669e-16, ...,\n",
       "           5.64442031e-13, 4.15756946e-08, 3.75276195e-07],\n",
       "          [2.63981337e-07, 9.74223593e-09, 2.37362292e-16, ...,\n",
       "           5.92175932e-13, 4.42072655e-08, 3.99715798e-07],\n",
       "          [3.37689066e-07, 1.22883134e-08, 5.17506993e-16, ...,\n",
       "           6.43548501e-13, 4.88149812e-08, 4.42517953e-07],\n",
       "          ...,\n",
       "          [1.24221423e-06, 4.60586002e-08, 9.70200993e-09, ...,\n",
       "           2.21176805e-07, 1.38921091e-07, 9.19623650e-07],\n",
       "          [1.18960547e-06, 4.02294314e-08, 6.11671643e-11, ...,\n",
       "           1.14089998e-09, 8.66023738e-08, 7.95996925e-07],\n",
       "          [1.18027896e-06, 3.98905750e-08, 5.35617338e-14, ...,\n",
       "           7.09815142e-13, 8.21373182e-08, 7.57310404e-07]],\n",
       "  \n",
       "         [[1.22058890e-04, 9.34677081e-06, 3.22876749e-15, ...,\n",
       "           1.16298733e-14, 1.22834425e-07, 1.12118992e-05],\n",
       "          [1.24266710e-04, 9.51594868e-06, 1.18513276e-14, ...,\n",
       "           1.24177431e-14, 1.22618447e-07, 1.11914349e-05],\n",
       "          [1.28022462e-04, 9.80447630e-06, 3.00770811e-14, ...,\n",
       "           1.40192738e-14, 1.22210139e-07, 1.11530365e-05],\n",
       "          ...,\n",
       "          [1.50215815e-04, 1.13776341e-05, 5.88939681e-08, ...,\n",
       "           9.70304505e-09, 1.55419074e-08, 5.80670822e-07],\n",
       "          [1.35939287e-04, 1.01194749e-05, 6.81656219e-10, ...,\n",
       "           9.28519809e-11, 2.15696595e-09, 1.90870739e-07],\n",
       "          [1.28983083e-04, 9.60034989e-06, 3.19279506e-13, ...,\n",
       "           8.41850007e-14, 7.09439993e-10, 6.47348860e-08]],\n",
       "  \n",
       "         ...,\n",
       "  \n",
       "         [[2.21190790e-04, 1.11619865e-05, 2.78268022e-13, ...,\n",
       "           1.16655524e-12, 2.86467632e-07, 5.01181085e-06],\n",
       "          [2.27187641e-04, 1.14519734e-05, 4.36195285e-13, ...,\n",
       "           1.49694979e-12, 8.03164735e-07, 1.58080789e-05],\n",
       "          [2.37296329e-04, 1.19372313e-05, 3.16946407e-12, ...,\n",
       "           1.38095078e-11, 1.72303729e-06, 3.50546831e-05],\n",
       "          ...,\n",
       "          [3.49611326e-05, 1.79054528e-06, 3.76184452e-08, ...,\n",
       "           1.83735118e-07, 8.93140530e-07, 1.62979154e-05],\n",
       "          [3.31546237e-05, 1.64014080e-06, 1.89029078e-10, ...,\n",
       "           6.55938962e-10, 7.22135098e-07, 1.51337809e-05],\n",
       "          [3.18327952e-05, 1.57461145e-06, 2.20048537e-13, ...,\n",
       "           4.54218096e-13, 6.97990886e-07, 1.46336116e-05]],\n",
       "  \n",
       "         [[9.28293796e-06, 8.80186231e-07, 9.71151637e-12, ...,\n",
       "           5.76394778e-13, 2.07389599e-05, 1.83769965e-04],\n",
       "          [1.05478390e-05, 1.00716296e-06, 1.13567924e-11, ...,\n",
       "           8.90076629e-13, 2.09316945e-05, 1.85519761e-04],\n",
       "          [1.27738439e-05, 1.23076803e-06, 2.97900411e-11, ...,\n",
       "           1.51397020e-11, 2.12326352e-05, 1.88256790e-04],\n",
       "          ...,\n",
       "          [1.82649467e-05, 2.14926302e-06, 4.95592478e-07, ...,\n",
       "           1.49483611e-06, 1.40780630e-06, 6.60807807e-06],\n",
       "          [1.29827135e-05, 1.33111630e-06, 3.30222561e-09, ...,\n",
       "           1.17212554e-08, 5.54495582e-07, 4.92670401e-06],\n",
       "          [1.07567421e-05, 1.10118534e-06, 2.07558184e-12, ...,\n",
       "           8.93726053e-12, 4.65363529e-07, 4.17494435e-06]],\n",
       "  \n",
       "         [[1.66002590e-05, 2.08753392e-06, 5.17446353e-12, ...,\n",
       "           1.72114188e-12, 1.19098446e-05, 2.33468937e-04],\n",
       "          [5.28939195e-05, 7.23103147e-06, 9.25834186e-12, ...,\n",
       "           1.99458249e-12, 1.48048586e-05, 2.84934542e-04],\n",
       "          [1.17623931e-04, 1.64111316e-05, 3.83605586e-11, ...,\n",
       "           2.72143698e-11, 1.99588292e-05, 3.76648939e-04],\n",
       "          ...,\n",
       "          [5.60726492e-05, 8.61579281e-06, 6.15390724e-05, ...,\n",
       "           1.23614275e-06, 1.11632352e-06, 4.29756085e-06],\n",
       "          [5.09890167e-05, 7.24329330e-06, 4.37902098e-09, ...,\n",
       "           7.73468341e-09, 3.32286453e-07, 5.74729608e-06],\n",
       "          [4.92019233e-05, 6.98686666e-06, 3.19411450e-12, ...,\n",
       "           2.33464641e-12, 4.01913941e-07, 7.05410795e-06]]]),\n",
       "  'mfcc': array([[[-1.00000000e+00, -1.00000000e+00, -1.00000000e+00, ...,\n",
       "           -1.00000000e+00, -1.00000000e+00, -1.00000000e+00],\n",
       "          [ 0.00000000e+00,  0.00000000e+00,  0.00000000e+00, ...,\n",
       "           -3.05051249e-01, -1.97002369e-01, -1.13290030e-01],\n",
       "          [ 0.00000000e+00,  0.00000000e+00,  0.00000000e+00, ...,\n",
       "           -6.19583357e-01, -4.92588817e-01, -3.98970522e-01],\n",
       "          ...,\n",
       "          [ 0.00000000e+00,  0.00000000e+00,  0.00000000e+00, ...,\n",
       "            1.48003232e-02,  9.83373317e-03, -5.78426032e-03],\n",
       "          [ 0.00000000e+00,  0.00000000e+00,  0.00000000e+00, ...,\n",
       "            1.58720677e-03,  1.46802665e-02, -8.42869731e-03],\n",
       "          [ 0.00000000e+00,  0.00000000e+00,  0.00000000e+00, ...,\n",
       "            2.14601974e-02,  1.35293444e-02,  4.27793189e-02]],\n",
       "  \n",
       "         [[-1.00000000e+00, -1.00000000e+00, -1.00000000e+00, ...,\n",
       "           -1.00000000e+00, -1.00000000e+00, -1.00000000e+00],\n",
       "          [-2.73754648e-01, -3.12543682e-01, -2.51784109e-01, ...,\n",
       "           -2.24977034e-01, -2.75655359e-01, -2.44628888e-01],\n",
       "          [-5.21659146e-01, -6.25294014e-01, -5.52422911e-01, ...,\n",
       "           -4.37599593e-01, -4.97770806e-01, -4.64626442e-01],\n",
       "          ...,\n",
       "          [-8.08266994e-03,  7.84945999e-03,  1.57406956e-02, ...,\n",
       "            2.51435623e-03, -2.27700421e-03,  7.76248406e-03],\n",
       "          [-1.60630839e-02,  9.63285793e-04,  2.31560568e-02, ...,\n",
       "            4.62682590e-03, -1.93320673e-02, -9.65222984e-03],\n",
       "          [ 2.94930420e-03, -1.51941759e-02, -3.33099954e-02, ...,\n",
       "           -2.69080595e-03,  1.77551620e-02,  2.90481769e-03]],\n",
       "  \n",
       "         [[-1.00000000e+00, -1.00000000e+00, -1.00000000e+00, ...,\n",
       "           -1.00000000e+00, -1.00000000e+00, -1.00000000e+00],\n",
       "          [-1.13884467e-01, -1.90462338e-01, -2.86657281e-01, ...,\n",
       "           -2.88680052e-01, -2.89538104e-01, -1.87282876e-01],\n",
       "          [-3.88151267e-01, -5.31972506e-01, -6.79934072e-01, ...,\n",
       "           -5.61636048e-01, -5.99655786e-01, -4.73035552e-01],\n",
       "          ...,\n",
       "          [ 1.73255585e-02, -1.06788942e-03, -1.80711935e-02, ...,\n",
       "            2.73328153e-02,  2.95873560e-02,  7.54436120e-03],\n",
       "          [-5.47289939e-03,  1.87034801e-02,  2.51865707e-02, ...,\n",
       "           -1.41245875e-02,  7.58157617e-05,  5.04805563e-03],\n",
       "          [ 8.40523932e-03, -2.05144787e-02, -2.07558067e-02, ...,\n",
       "           -1.21660538e-02, -1.24760434e-02, -1.34068909e-02]],\n",
       "  \n",
       "         ...,\n",
       "  \n",
       "         [[-1.00000000e+00, -1.00000000e+00, -1.00000000e+00, ...,\n",
       "           -1.00000000e+00, -1.00000000e+00, -1.00000000e+00],\n",
       "          [ 6.09129623e-02,  5.16997495e-02,  3.58517762e-04, ...,\n",
       "           -6.92650182e-02, -2.87075113e-02,  6.89945408e-03],\n",
       "          [-2.09043003e-01, -3.37058934e-01, -4.62002069e-01, ...,\n",
       "           -3.32229503e-01, -2.87916173e-01, -2.23718094e-01],\n",
       "          ...,\n",
       "          [-1.28618385e-02, -1.90817063e-02, -6.89565773e-03, ...,\n",
       "            2.15964582e-04, -1.94490168e-02, -2.69067821e-02],\n",
       "          [ 1.37333461e-02,  2.05511176e-02,  2.13040077e-02, ...,\n",
       "            2.22961630e-02,  2.68512032e-02,  2.07482414e-02],\n",
       "          [-1.51673917e-03, -9.38763901e-03, -4.81557838e-03, ...,\n",
       "           -2.05278059e-02, -2.99995602e-02, -2.80432782e-02]],\n",
       "  \n",
       "         [[-1.00000000e+00, -1.00000000e+00, -1.00000000e+00, ...,\n",
       "           -1.00000000e+00, -1.00000000e+00, -1.00000000e+00],\n",
       "          [-3.79728082e-02, -5.23365139e-02, -6.09870377e-02, ...,\n",
       "           -4.43654717e-02,  4.64810527e-03,  3.25475269e-02],\n",
       "          [-2.15782437e-01, -3.08620446e-01, -3.76077144e-01, ...,\n",
       "           -2.69169746e-01, -2.38679898e-01, -1.87844310e-01],\n",
       "          ...,\n",
       "          [ 1.04371826e-02,  1.36647613e-02,  1.21357230e-02, ...,\n",
       "            5.11088364e-03,  1.17772962e-03,  3.85848513e-03],\n",
       "          [ 2.26330581e-02,  2.66441686e-02,  2.06536690e-02, ...,\n",
       "            1.98238089e-02,  1.42740025e-02,  1.42269356e-02],\n",
       "          [-2.69236186e-02, -3.41896203e-02, -3.93791118e-02, ...,\n",
       "           -1.28633483e-02, -2.19575820e-02, -2.27007009e-02]],\n",
       "  \n",
       "         [[-1.00000000e+00, -1.00000000e+00, -1.00000000e+00, ...,\n",
       "           -1.00000000e+00, -1.00000000e+00, -1.00000000e+00],\n",
       "          [ 1.67805067e-02, -5.42051497e-03, -8.36455614e-02, ...,\n",
       "           -2.47353884e-02,  4.32246116e-03,  3.49474540e-02],\n",
       "          [-2.08447092e-01, -2.50811514e-01, -3.01774614e-01, ...,\n",
       "           -1.99698483e-01, -1.81173815e-01, -1.38837498e-01],\n",
       "          ...,\n",
       "          [ 1.52846628e-04, -7.41006222e-03,  2.09883395e-02, ...,\n",
       "           -1.52422166e-02, -8.67184834e-03, -4.99254176e-03],\n",
       "          [ 1.70957430e-02,  1.14996458e-02, -2.11122078e-03, ...,\n",
       "            8.02083023e-03,  1.60698431e-02,  1.55993206e-02],\n",
       "          [-2.88076202e-02, -2.75561513e-02, -7.63011546e-03, ...,\n",
       "           -1.62036903e-02, -1.86813482e-02, -1.81492977e-02]]]),\n",
       "  'label': array([1, 1, 1, ..., 5, 5, 5])},\n",
       " 'val': {'melspectrogram': array([[[3.20727065e-05, 1.70512106e-06, 1.61698192e-11, ...,\n",
       "           7.22252679e-15, 2.69283220e-07, 3.39019824e-06],\n",
       "          [3.22422717e-05, 1.71387116e-06, 1.71018208e-11, ...,\n",
       "           8.45951209e-15, 2.72619082e-07, 3.43296506e-06],\n",
       "          [3.25622734e-05, 1.73066317e-06, 2.72505511e-11, ...,\n",
       "           2.73338675e-14, 2.78504740e-07, 3.50895954e-06],\n",
       "          ...,\n",
       "          [5.14212831e-05, 6.76458209e-06, 2.39359128e-06, ...,\n",
       "           6.30893990e-09, 6.11588980e-06, 7.81709836e-05],\n",
       "          [3.93156198e-05, 2.11725020e-06, 1.69905801e-08, ...,\n",
       "           1.81867133e-11, 5.49903895e-06, 7.04596725e-05],\n",
       "          [3.57245249e-05, 1.90032216e-06, 7.52069991e-12, ...,\n",
       "           1.08188427e-14, 5.16713334e-06, 6.62027836e-05]],\n",
       "  \n",
       "         [[7.67939508e-04, 8.86466934e-05, 1.32991794e-14, ...,\n",
       "           1.57970377e-14, 7.55694365e-06, 2.54579127e-05],\n",
       "          [7.69154986e-04, 8.87870046e-05, 1.39016140e-14, ...,\n",
       "           1.65775339e-14, 7.66055853e-06, 2.58148905e-05],\n",
       "          [7.71190660e-04, 8.90219420e-05, 1.12911211e-13, ...,\n",
       "           2.12653285e-14, 7.83495949e-06, 2.64159078e-05],\n",
       "          ...,\n",
       "          [9.45084473e-06, 1.10264178e-06, 3.05756701e-08, ...,\n",
       "           4.18262054e-09, 2.83884946e-05, 9.73770684e-05],\n",
       "          [6.01727539e-06, 7.00735316e-07, 2.08139458e-10, ...,\n",
       "           4.49919935e-11, 2.66796293e-05, 9.15327017e-05],\n",
       "          [3.95455043e-06, 4.62359201e-07, 2.36568448e-13, ...,\n",
       "           1.06233019e-14, 2.56824178e-05, 8.81108068e-05]],\n",
       "  \n",
       "         [[6.48721776e-07, 2.51687682e-08, 1.20811478e-16, ...,\n",
       "           1.30132639e-14, 6.18270368e-05, 6.29146592e-04],\n",
       "          [6.56912517e-07, 2.54913397e-08, 1.48312609e-16, ...,\n",
       "           1.31511495e-14, 6.19198921e-05, 6.30093058e-04],\n",
       "          [6.71581488e-07, 2.60724107e-08, 5.48819244e-16, ...,\n",
       "           1.83047008e-14, 6.20751178e-05, 6.31674541e-04],\n",
       "          ...,\n",
       "          [1.49919305e-05, 5.92901727e-07, 3.65376164e-09, ...,\n",
       "           1.22876564e-08, 9.02803896e-05, 9.21869874e-04],\n",
       "          [1.35024340e-05, 5.32285488e-07, 2.16074121e-11, ...,\n",
       "           3.84824667e-11, 8.35282517e-05, 8.53059152e-04],\n",
       "          [1.26888818e-05, 5.00144981e-07, 4.81409993e-15, ...,\n",
       "           3.21925392e-14, 7.94948751e-05, 8.11916160e-04]],\n",
       "  \n",
       "         ...,\n",
       "  \n",
       "         [[2.79701408e-04, 4.34947074e-05, 4.29942295e-13, ...,\n",
       "           1.26963522e-12, 1.73066861e-05, 1.00663595e-04],\n",
       "          [2.81954846e-04, 4.38518396e-05, 4.53512408e-13, ...,\n",
       "           1.43887940e-12, 1.76455142e-05, 1.02626955e-04],\n",
       "          [2.85739681e-04, 4.44521653e-05, 5.03427081e-13, ...,\n",
       "           1.77615609e-12, 1.82325546e-05, 1.06029656e-04],\n",
       "          ...,\n",
       "          [5.80771124e-07, 9.00255674e-08, 1.56240015e-10, ...,\n",
       "           1.50649080e-11, 5.42662453e-09, 3.23174508e-08],\n",
       "          [5.48062473e-07, 8.46335862e-08, 1.36293422e-13, ...,\n",
       "           3.72605134e-14, 4.41823421e-09, 2.61668936e-08],\n",
       "          [5.32353265e-07, 8.22130062e-08, 3.95376370e-18, ...,\n",
       "           8.03567657e-17, 3.71531077e-09, 2.19502559e-08]],\n",
       "  \n",
       "         [[3.15187499e-06, 2.89428521e-07, 2.70221719e-14, ...,\n",
       "           1.48056737e-15, 2.40914304e-04, 2.51964810e-03],\n",
       "          [3.72881846e-06, 3.38281788e-07, 3.74882083e-14, ...,\n",
       "           5.36750194e-15, 2.43730630e-04, 2.54927003e-03],\n",
       "          [4.72470674e-06, 4.22629644e-07, 5.84173101e-14, ...,\n",
       "           3.12851393e-14, 2.48535438e-04, 2.59982134e-03],\n",
       "          ...,\n",
       "          [9.18194915e-06, 7.65939411e-07, 5.60757571e-16, ...,\n",
       "           1.47036705e-09, 3.81191126e-06, 3.94546596e-05],\n",
       "          [9.00066336e-06, 7.50893994e-07, 4.90253083e-18, ...,\n",
       "           8.23424412e-13, 3.64171086e-06, 3.77191248e-05],\n",
       "          [8.87585337e-06, 7.40518431e-07, 1.12649499e-18, ...,\n",
       "           8.24201731e-15, 3.54080434e-06, 3.66717183e-05]],\n",
       "  \n",
       "         [[7.98440050e-05, 1.07336331e-05, 2.52167341e-12, ...,\n",
       "           1.51385192e-12, 1.12161293e-07, 1.21288623e-06],\n",
       "          [8.14003782e-05, 1.09420324e-05, 2.74702510e-12, ...,\n",
       "           1.64131167e-12, 2.55375556e-07, 3.10978889e-06],\n",
       "          [8.40973909e-05, 1.13036278e-05, 3.16179345e-12, ...,\n",
       "           1.86404934e-12, 5.03657633e-07, 6.39771735e-06],\n",
       "          ...,\n",
       "          [2.59605016e-08, 4.95465925e-09, 2.47782912e-09, ...,\n",
       "           2.91136362e-10, 2.33332568e-07, 3.07955750e-06],\n",
       "          [2.07930317e-08, 2.85055138e-09, 1.14060655e-11, ...,\n",
       "           1.55821794e-12, 2.24607375e-07, 2.97084136e-06],\n",
       "          [1.74360613e-08, 2.37762987e-09, 4.04613665e-15, ...,\n",
       "           4.34750646e-17, 2.19348212e-07, 2.90151027e-06]]]),\n",
       "  'mfcc': array([[[-1.00000000e+00, -1.00000000e+00, -1.00000000e+00, ...,\n",
       "           -1.00000000e+00, -1.00000000e+00, -1.00000000e+00],\n",
       "          [-7.00707010e-04, -1.10340650e-02, -2.53207104e-02, ...,\n",
       "           -1.90162895e-01, -2.16063378e-01, -2.11972315e-01],\n",
       "          [-2.30403412e-04, -1.93250846e-02, -5.28779337e-02, ...,\n",
       "           -3.58255856e-01, -3.05092116e-01, -2.19645277e-01],\n",
       "          ...,\n",
       "          [ 8.92748369e-04,  2.45776340e-03,  6.40560815e-04, ...,\n",
       "           -1.93165006e-02,  1.90836487e-03,  1.53599035e-02],\n",
       "          [-1.01578118e-03,  5.70393629e-04,  4.12071403e-03, ...,\n",
       "            1.80110427e-02,  6.68295572e-03,  2.60244596e-03],\n",
       "          [ 3.89081089e-04,  3.20602251e-03,  3.84064179e-03, ...,\n",
       "            3.76464548e-03,  1.18844310e-02,  1.75205206e-03]],\n",
       "  \n",
       "         [[-1.00000000e+00, -1.00000000e+00, -1.00000000e+00, ...,\n",
       "           -1.00000000e+00, -1.00000000e+00, -1.00000000e+00],\n",
       "          [-5.12846941e-02, -1.29384499e-01, -2.96563590e-01, ...,\n",
       "           -3.22378346e-01, -3.57611828e-01, -3.19196378e-01],\n",
       "          [-1.91341974e-01, -2.70547661e-01, -4.10818698e-01, ...,\n",
       "           -3.41421706e-01, -3.39514598e-01, -3.31654210e-01],\n",
       "          ...,\n",
       "          [ 2.63213212e-02,  7.12581329e-03, -9.82603052e-03, ...,\n",
       "            3.72021912e-02,  6.95291039e-02,  6.34998707e-02],\n",
       "          [-1.50043528e-02, -2.39938207e-03,  2.25641721e-02, ...,\n",
       "            1.39872397e-02, -2.13417097e-02, -4.80909329e-03],\n",
       "          [-1.92396331e-02, -2.11570822e-02, -2.96183110e-02, ...,\n",
       "            7.60861544e-03, -2.59830995e-02, -5.18662556e-02]],\n",
       "  \n",
       "         [[-1.00000000e+00, -1.00000000e+00, -1.00000000e+00, ...,\n",
       "           -1.00000000e+00, -1.00000000e+00, -1.00000000e+00],\n",
       "          [-3.67429024e-01, -4.36197260e-01, -3.82324107e-01, ...,\n",
       "           -2.76487536e-01, -2.77447007e-01, -2.47640669e-01],\n",
       "          [-3.50873655e-01, -4.73527006e-01, -4.95483858e-01, ...,\n",
       "           -2.84991364e-01, -1.49499788e-01, -8.59114143e-02],\n",
       "          ...,\n",
       "          [-2.40434435e-03,  2.33267200e-02,  3.29270512e-02, ...,\n",
       "            2.11940566e-02,  3.57910634e-02,  3.72085897e-02],\n",
       "          [-1.40414450e-02, -4.00139767e-02, -2.50074660e-02, ...,\n",
       "           -1.38567797e-03, -1.01794358e-02, -1.35754487e-02],\n",
       "          [ 2.12173041e-02, -7.31798322e-03, -4.97225087e-02, ...,\n",
       "           -2.48472140e-02, -1.84978586e-02, -6.73953116e-03]],\n",
       "  \n",
       "         ...,\n",
       "  \n",
       "         [[-1.00000000e+00, -1.00000000e+00, -1.00000000e+00, ...,\n",
       "           -1.00000000e+00, -1.00000000e+00, -1.00000000e+00],\n",
       "          [ 2.80163716e-01,  2.19332904e-01, -8.15107010e-02, ...,\n",
       "           -8.26716551e-02,  1.05577206e-01,  2.21011647e-01],\n",
       "          [-4.07582667e-01, -6.18777085e-01, -8.25904061e-01, ...,\n",
       "           -6.43743834e-01, -6.14018277e-01, -5.48936970e-01],\n",
       "          ...,\n",
       "          [-8.81656412e-03, -5.25657818e-03, -7.70787333e-03, ...,\n",
       "            1.24009345e-02,  1.33406868e-03, -8.86914404e-03],\n",
       "          [-3.95639359e-02, -4.27389397e-02, -4.32641553e-02, ...,\n",
       "            1.38211365e-02, -7.94537089e-03, -2.78657214e-03],\n",
       "          [-6.72387684e-03, -2.75625290e-02, -2.09721085e-02, ...,\n",
       "           -1.28641913e-02, -1.87358146e-02, -1.08627330e-02]],\n",
       "  \n",
       "         [[-1.00000000e+00, -1.00000000e+00, -1.00000000e+00, ...,\n",
       "           -1.00000000e+00, -1.00000000e+00, -1.00000000e+00],\n",
       "          [-1.24142996e-01, -2.11746916e-01, -2.43130385e-01, ...,\n",
       "           -8.92769309e-02,  1.41111257e-01,  2.13858641e-01],\n",
       "          [-7.11005566e-01, -8.92337690e-01, -9.38117519e-01, ...,\n",
       "           -6.23224599e-01, -4.48327587e-01, -3.51484677e-01],\n",
       "          ...,\n",
       "          [ 1.28120208e-02,  5.40194878e-03, -1.97636913e-02, ...,\n",
       "            2.55834844e-03,  1.24588481e-02,  1.09743929e-02],\n",
       "          [-3.10807116e-02, -3.94178217e-02, -1.71989381e-02, ...,\n",
       "           -2.85473345e-02, -2.70613184e-02, -1.74758260e-02],\n",
       "          [-2.34571955e-02, -2.48682431e-02, -1.37448813e-02, ...,\n",
       "           -3.06935893e-02, -2.56667784e-02, -1.51426733e-02]],\n",
       "  \n",
       "         [[-1.00000000e+00, -1.00000000e+00, -1.00000000e+00, ...,\n",
       "           -1.00000000e+00, -1.00000000e+00, -1.00000000e+00],\n",
       "          [ 2.15552547e-01,  1.31402513e-01, -6.38143779e-02, ...,\n",
       "           -7.90807029e-02,  1.15629464e-02,  6.70020994e-02],\n",
       "          [-4.70236588e-01, -5.42875709e-01, -6.22507197e-01, ...,\n",
       "           -6.83171343e-01, -5.94067264e-01, -4.77600859e-01],\n",
       "          ...,\n",
       "          [-4.89136489e-03, -1.85415152e-02, -1.90251372e-02, ...,\n",
       "           -1.45361003e-02, -6.08822727e-03, -3.62029856e-03],\n",
       "          [-9.02846018e-03, -5.01169258e-03, -1.04178310e-02, ...,\n",
       "            5.40034614e-03,  7.06046640e-03, -3.46061883e-04],\n",
       "          [-1.66252111e-02, -2.16062380e-02, -2.23465091e-02, ...,\n",
       "           -4.31707575e-02, -3.34089181e-02, -1.43541420e-02]]]),\n",
       "  'label': array([1, 1, 1, ..., 5, 5, 5])}}"
      ]
     },
     "execution_count": 107,
     "metadata": {},
     "output_type": "execute_result"
    }
   ],
   "source": [
    "merged_dict = {'train': train_features, 'val': val_features}\n",
    "merged_dict"
   ]
  },
  {
   "cell_type": "markdown",
   "metadata": {},
   "source": [
    "### Save the merged dictionary to a pkl"
   ]
  },
  {
   "cell_type": "code",
   "execution_count": 108,
   "metadata": {},
   "outputs": [],
   "source": [
    "with open('C:/Users/thato/Documents/Final-Year-Project/Dataset/Project-V4/feature-extraction/NotAnnotated/NotAveragePooled/split_features_2s_mel_mfcc.pkl', 'wb') as file:\n",
    "  pickle.dump(merged_dict, file)"
   ]
  },
  {
   "cell_type": "markdown",
   "metadata": {},
   "source": [
    "### **['melspectrogram', 'mfcc', 'chroma']**"
   ]
  },
  {
   "cell_type": "code",
   "execution_count": 109,
   "metadata": {},
   "outputs": [],
   "source": [
    "features_list = ['melspectrogram', 'mfcc', 'chroma']"
   ]
  },
  {
   "cell_type": "code",
   "execution_count": 110,
   "metadata": {},
   "outputs": [
    {
     "name": "stdout",
     "output_type": "stream",
     "text": [
      "Train DataFrame shape: (485, 6)\n",
      "Validation DataFrame shape: (130, 6)\n",
      "Number of rows in dataframe: 485\n"
     ]
    },
    {
     "name": "stderr",
     "output_type": "stream",
     "text": [
      "Processing data: 100%|██████████| 485/485 [06:28<00:00,  1.25it/s]\n"
     ]
    },
    {
     "name": "stdout",
     "output_type": "stream",
     "text": [
      "Number of rows in dataframe: 130\n"
     ]
    },
    {
     "name": "stderr",
     "output_type": "stream",
     "text": [
      "Processing data: 100%|██████████| 130/130 [01:26<00:00,  1.50it/s]\n"
     ]
    }
   ],
   "source": [
    "features = Extraction(train_data,\n",
    "                      val_data,\n",
    "                      window_size=2,\n",
    "                      features=features_list,\n",
    "                      avgpool=False\n",
    "                      )"
   ]
  },
  {
   "cell_type": "code",
   "execution_count": 111,
   "metadata": {},
   "outputs": [
    {
     "data": {
      "text/plain": [
       "(22631,)"
      ]
     },
     "metadata": {},
     "output_type": "display_data"
    },
    {
     "data": {
      "text/plain": [
       "'melspectrogram'"
      ]
     },
     "metadata": {},
     "output_type": "display_data"
    },
    {
     "data": {
      "text/plain": [
       "(22631, 60, 87)"
      ]
     },
     "metadata": {},
     "output_type": "display_data"
    },
    {
     "data": {
      "text/plain": [
       "'mfcc'"
      ]
     },
     "metadata": {},
     "output_type": "display_data"
    },
    {
     "data": {
      "text/plain": [
       "(22631, 20, 87)"
      ]
     },
     "metadata": {},
     "output_type": "display_data"
    },
    {
     "data": {
      "text/plain": [
       "'chroma'"
      ]
     },
     "metadata": {},
     "output_type": "display_data"
    },
    {
     "data": {
      "text/plain": [
       "(22631, 12, 87)"
      ]
     },
     "metadata": {},
     "output_type": "display_data"
    }
   ],
   "source": [
    "train_y = features.train_y\n",
    "display(train_y.shape)\n",
    "\n",
    "train_features = features.train_features\n",
    "for key in train_features.keys():\n",
    "  display(key)\n",
    "  display(train_features[key].shape)"
   ]
  },
  {
   "cell_type": "code",
   "execution_count": 112,
   "metadata": {},
   "outputs": [
    {
     "data": {
      "text/plain": [
       "(6044,)"
      ]
     },
     "metadata": {},
     "output_type": "display_data"
    },
    {
     "data": {
      "text/plain": [
       "'melspectrogram'"
      ]
     },
     "metadata": {},
     "output_type": "display_data"
    },
    {
     "data": {
      "text/plain": [
       "(6044, 60, 87)"
      ]
     },
     "metadata": {},
     "output_type": "display_data"
    },
    {
     "data": {
      "text/plain": [
       "'mfcc'"
      ]
     },
     "metadata": {},
     "output_type": "display_data"
    },
    {
     "data": {
      "text/plain": [
       "(6044, 20, 87)"
      ]
     },
     "metadata": {},
     "output_type": "display_data"
    },
    {
     "data": {
      "text/plain": [
       "'chroma'"
      ]
     },
     "metadata": {},
     "output_type": "display_data"
    },
    {
     "data": {
      "text/plain": [
       "(6044, 12, 87)"
      ]
     },
     "metadata": {},
     "output_type": "display_data"
    }
   ],
   "source": [
    "val_y = features.val_y\n",
    "display(val_y.shape)\n",
    "\n",
    "val_features = features.val_features\n",
    "for key in val_features.keys():\n",
    "  display(key)\n",
    "  display(val_features[key].shape)"
   ]
  },
  {
   "cell_type": "markdown",
   "metadata": {},
   "source": [
    "### Encode Classes"
   ]
  },
  {
   "cell_type": "code",
   "execution_count": 113,
   "metadata": {},
   "outputs": [
    {
     "name": "stdout",
     "output_type": "stream",
     "text": [
      "Encoded classes for [0, 1, 2]: ['Acrocephalus arundinaceus', 'Acrocephalus melanopogon', 'Acrocephalus scirpaceus']\n",
      "Encoded training labels: [1 1 1 ... 5 5 5]\n",
      "Encoded validation labels: [1 1 1 ... 5 5 5]\n"
     ]
    }
   ],
   "source": [
    "label_encoder = LabelEncoder().fit(train_y)\n",
    "train_y_encoded = label_encoder.transform(train_y)\n",
    "val_y_encoded = label_encoder.transform(val_y)\n",
    "\n",
    "classes = list(label_encoder.inverse_transform([0, 1, 2]))\n",
    "print(\"Encoded classes for [0, 1, 2]:\", classes)\n",
    "print(\"Encoded training labels:\", train_y_encoded)\n",
    "print(\"Encoded validation labels:\", val_y_encoded)"
   ]
  },
  {
   "cell_type": "code",
   "execution_count": 114,
   "metadata": {},
   "outputs": [
    {
     "data": {
      "text/plain": [
       "22631"
      ]
     },
     "metadata": {},
     "output_type": "display_data"
    },
    {
     "data": {
      "text/plain": [
       "array(['Acrocephalus melanopogon', 'Acrocephalus melanopogon',\n",
       "       'Acrocephalus melanopogon', 'Acrocephalus melanopogon',\n",
       "       'Acrocephalus melanopogon', 'Acrocephalus melanopogon',\n",
       "       'Acrocephalus melanopogon', 'Acrocephalus melanopogon',\n",
       "       'Acrocephalus melanopogon', 'Acrocephalus melanopogon'],\n",
       "      dtype='<U25')"
      ]
     },
     "metadata": {},
     "output_type": "display_data"
    },
    {
     "data": {
      "text/plain": [
       "6044"
      ]
     },
     "metadata": {},
     "output_type": "display_data"
    },
    {
     "data": {
      "text/plain": [
       "array(['Acrocephalus melanopogon', 'Acrocephalus melanopogon',\n",
       "       'Acrocephalus melanopogon', 'Acrocephalus melanopogon',\n",
       "       'Acrocephalus melanopogon', 'Acrocephalus melanopogon',\n",
       "       'Acrocephalus melanopogon', 'Acrocephalus melanopogon',\n",
       "       'Acrocephalus melanopogon', 'Acrocephalus melanopogon'],\n",
       "      dtype='<U25')"
      ]
     },
     "metadata": {},
     "output_type": "display_data"
    }
   ],
   "source": [
    "display(len(train_y))\n",
    "display(train_y[:10])\n",
    "\n",
    "display(len(val_y))\n",
    "display(val_y[:10])"
   ]
  },
  {
   "cell_type": "code",
   "execution_count": 115,
   "metadata": {},
   "outputs": [],
   "source": [
    "train_features['label'] = train_y_encoded\n",
    "val_features['label'] = val_y_encoded"
   ]
  },
  {
   "cell_type": "code",
   "execution_count": 116,
   "metadata": {},
   "outputs": [
    {
     "data": {
      "text/plain": [
       "{'train': {'melspectrogram': array([[[2.70414866e-03, 2.79165306e-04, 2.78151976e-06, ...,\n",
       "           5.40252245e-16, 1.56153176e-05, 1.55124408e-04],\n",
       "          [2.85087147e-03, 2.95306839e-04, 3.42857310e-06, ...,\n",
       "           1.44704444e-15, 1.58973962e-05, 1.57929313e-04],\n",
       "          [3.04498922e-03, 3.15533762e-04, 4.71718391e-06, ...,\n",
       "           3.38392743e-15, 1.63767277e-05, 1.62701248e-04],\n",
       "          ...,\n",
       "          [4.71950382e-06, 6.96979924e-07, 9.83989841e-06, ...,\n",
       "           4.08672234e-08, 1.99395944e-05, 1.89381415e-04],\n",
       "          [4.43196142e-06, 4.70733005e-07, 1.06044568e-07, ...,\n",
       "           4.94281655e-10, 1.80252409e-05, 1.73290591e-04],\n",
       "          [4.34125244e-06, 4.54310514e-07, 3.83112779e-09, ...,\n",
       "           2.21867693e-13, 1.70996799e-05, 1.64420217e-04]],\n",
       "  \n",
       "         [[2.21674682e-07, 8.28132378e-09, 1.14113669e-16, ...,\n",
       "           5.64442031e-13, 4.15756946e-08, 3.75276195e-07],\n",
       "          [2.63981337e-07, 9.74223593e-09, 2.37362292e-16, ...,\n",
       "           5.92175932e-13, 4.42072655e-08, 3.99715798e-07],\n",
       "          [3.37689066e-07, 1.22883134e-08, 5.17506993e-16, ...,\n",
       "           6.43548501e-13, 4.88149812e-08, 4.42517953e-07],\n",
       "          ...,\n",
       "          [1.24221423e-06, 4.60586002e-08, 9.70200993e-09, ...,\n",
       "           2.21176805e-07, 1.38921091e-07, 9.19623650e-07],\n",
       "          [1.18960547e-06, 4.02294314e-08, 6.11671643e-11, ...,\n",
       "           1.14089998e-09, 8.66023738e-08, 7.95996925e-07],\n",
       "          [1.18027896e-06, 3.98905750e-08, 5.35617338e-14, ...,\n",
       "           7.09815142e-13, 8.21373182e-08, 7.57310404e-07]],\n",
       "  \n",
       "         [[1.22058890e-04, 9.34677081e-06, 3.22876749e-15, ...,\n",
       "           1.16298733e-14, 1.22834425e-07, 1.12118992e-05],\n",
       "          [1.24266710e-04, 9.51594868e-06, 1.18513276e-14, ...,\n",
       "           1.24177431e-14, 1.22618447e-07, 1.11914349e-05],\n",
       "          [1.28022462e-04, 9.80447630e-06, 3.00770811e-14, ...,\n",
       "           1.40192738e-14, 1.22210139e-07, 1.11530365e-05],\n",
       "          ...,\n",
       "          [1.50215815e-04, 1.13776341e-05, 5.88939681e-08, ...,\n",
       "           9.70304505e-09, 1.55419074e-08, 5.80670822e-07],\n",
       "          [1.35939287e-04, 1.01194749e-05, 6.81656219e-10, ...,\n",
       "           9.28519809e-11, 2.15696595e-09, 1.90870739e-07],\n",
       "          [1.28983083e-04, 9.60034989e-06, 3.19279506e-13, ...,\n",
       "           8.41850007e-14, 7.09439993e-10, 6.47348860e-08]],\n",
       "  \n",
       "         ...,\n",
       "  \n",
       "         [[2.21190790e-04, 1.11619865e-05, 2.78268022e-13, ...,\n",
       "           1.16655524e-12, 2.86467632e-07, 5.01181085e-06],\n",
       "          [2.27187641e-04, 1.14519734e-05, 4.36195285e-13, ...,\n",
       "           1.49694979e-12, 8.03164735e-07, 1.58080789e-05],\n",
       "          [2.37296329e-04, 1.19372313e-05, 3.16946407e-12, ...,\n",
       "           1.38095078e-11, 1.72303729e-06, 3.50546831e-05],\n",
       "          ...,\n",
       "          [3.49611326e-05, 1.79054528e-06, 3.76184452e-08, ...,\n",
       "           1.83735118e-07, 8.93140530e-07, 1.62979154e-05],\n",
       "          [3.31546237e-05, 1.64014080e-06, 1.89029078e-10, ...,\n",
       "           6.55938962e-10, 7.22135098e-07, 1.51337809e-05],\n",
       "          [3.18327952e-05, 1.57461145e-06, 2.20048537e-13, ...,\n",
       "           4.54218096e-13, 6.97990886e-07, 1.46336116e-05]],\n",
       "  \n",
       "         [[9.28293796e-06, 8.80186231e-07, 9.71151637e-12, ...,\n",
       "           5.76394778e-13, 2.07389599e-05, 1.83769965e-04],\n",
       "          [1.05478390e-05, 1.00716296e-06, 1.13567924e-11, ...,\n",
       "           8.90076629e-13, 2.09316945e-05, 1.85519761e-04],\n",
       "          [1.27738439e-05, 1.23076803e-06, 2.97900411e-11, ...,\n",
       "           1.51397020e-11, 2.12326352e-05, 1.88256790e-04],\n",
       "          ...,\n",
       "          [1.82649467e-05, 2.14926302e-06, 4.95592478e-07, ...,\n",
       "           1.49483611e-06, 1.40780630e-06, 6.60807807e-06],\n",
       "          [1.29827135e-05, 1.33111630e-06, 3.30222561e-09, ...,\n",
       "           1.17212554e-08, 5.54495582e-07, 4.92670401e-06],\n",
       "          [1.07567421e-05, 1.10118534e-06, 2.07558184e-12, ...,\n",
       "           8.93726053e-12, 4.65363529e-07, 4.17494435e-06]],\n",
       "  \n",
       "         [[1.66002590e-05, 2.08753392e-06, 5.17446353e-12, ...,\n",
       "           1.72114188e-12, 1.19098446e-05, 2.33468937e-04],\n",
       "          [5.28939195e-05, 7.23103147e-06, 9.25834186e-12, ...,\n",
       "           1.99458249e-12, 1.48048586e-05, 2.84934542e-04],\n",
       "          [1.17623931e-04, 1.64111316e-05, 3.83605586e-11, ...,\n",
       "           2.72143698e-11, 1.99588292e-05, 3.76648939e-04],\n",
       "          ...,\n",
       "          [5.60726492e-05, 8.61579281e-06, 6.15390724e-05, ...,\n",
       "           1.23614275e-06, 1.11632352e-06, 4.29756085e-06],\n",
       "          [5.09890167e-05, 7.24329330e-06, 4.37902098e-09, ...,\n",
       "           7.73468341e-09, 3.32286453e-07, 5.74729608e-06],\n",
       "          [4.92019233e-05, 6.98686666e-06, 3.19411450e-12, ...,\n",
       "           2.33464641e-12, 4.01913941e-07, 7.05410795e-06]]]),\n",
       "  'mfcc': array([[[-1.00000000e+00, -1.00000000e+00, -1.00000000e+00, ...,\n",
       "           -1.00000000e+00, -1.00000000e+00, -1.00000000e+00],\n",
       "          [ 0.00000000e+00,  0.00000000e+00,  0.00000000e+00, ...,\n",
       "           -3.05051249e-01, -1.97002369e-01, -1.13290030e-01],\n",
       "          [ 0.00000000e+00,  0.00000000e+00,  0.00000000e+00, ...,\n",
       "           -6.19583357e-01, -4.92588817e-01, -3.98970522e-01],\n",
       "          ...,\n",
       "          [ 0.00000000e+00,  0.00000000e+00,  0.00000000e+00, ...,\n",
       "            1.48003232e-02,  9.83373317e-03, -5.78426032e-03],\n",
       "          [ 0.00000000e+00,  0.00000000e+00,  0.00000000e+00, ...,\n",
       "            1.58720677e-03,  1.46802665e-02, -8.42869731e-03],\n",
       "          [ 0.00000000e+00,  0.00000000e+00,  0.00000000e+00, ...,\n",
       "            2.14601974e-02,  1.35293444e-02,  4.27793189e-02]],\n",
       "  \n",
       "         [[-1.00000000e+00, -1.00000000e+00, -1.00000000e+00, ...,\n",
       "           -1.00000000e+00, -1.00000000e+00, -1.00000000e+00],\n",
       "          [-2.73754648e-01, -3.12543682e-01, -2.51784109e-01, ...,\n",
       "           -2.24977034e-01, -2.75655359e-01, -2.44628888e-01],\n",
       "          [-5.21659146e-01, -6.25294014e-01, -5.52422911e-01, ...,\n",
       "           -4.37599593e-01, -4.97770806e-01, -4.64626442e-01],\n",
       "          ...,\n",
       "          [-8.08266994e-03,  7.84945999e-03,  1.57406956e-02, ...,\n",
       "            2.51435623e-03, -2.27700421e-03,  7.76248406e-03],\n",
       "          [-1.60630839e-02,  9.63285793e-04,  2.31560568e-02, ...,\n",
       "            4.62682590e-03, -1.93320673e-02, -9.65222984e-03],\n",
       "          [ 2.94930420e-03, -1.51941759e-02, -3.33099954e-02, ...,\n",
       "           -2.69080595e-03,  1.77551620e-02,  2.90481769e-03]],\n",
       "  \n",
       "         [[-1.00000000e+00, -1.00000000e+00, -1.00000000e+00, ...,\n",
       "           -1.00000000e+00, -1.00000000e+00, -1.00000000e+00],\n",
       "          [-1.13884467e-01, -1.90462338e-01, -2.86657281e-01, ...,\n",
       "           -2.88680052e-01, -2.89538104e-01, -1.87282876e-01],\n",
       "          [-3.88151267e-01, -5.31972506e-01, -6.79934072e-01, ...,\n",
       "           -5.61636048e-01, -5.99655786e-01, -4.73035552e-01],\n",
       "          ...,\n",
       "          [ 1.73255585e-02, -1.06788942e-03, -1.80711935e-02, ...,\n",
       "            2.73328153e-02,  2.95873560e-02,  7.54436120e-03],\n",
       "          [-5.47289939e-03,  1.87034801e-02,  2.51865707e-02, ...,\n",
       "           -1.41245875e-02,  7.58157617e-05,  5.04805563e-03],\n",
       "          [ 8.40523932e-03, -2.05144787e-02, -2.07558067e-02, ...,\n",
       "           -1.21660538e-02, -1.24760434e-02, -1.34068909e-02]],\n",
       "  \n",
       "         ...,\n",
       "  \n",
       "         [[-1.00000000e+00, -1.00000000e+00, -1.00000000e+00, ...,\n",
       "           -1.00000000e+00, -1.00000000e+00, -1.00000000e+00],\n",
       "          [ 6.09129623e-02,  5.16997495e-02,  3.58517762e-04, ...,\n",
       "           -6.92650182e-02, -2.87075113e-02,  6.89945408e-03],\n",
       "          [-2.09043003e-01, -3.37058934e-01, -4.62002069e-01, ...,\n",
       "           -3.32229503e-01, -2.87916173e-01, -2.23718094e-01],\n",
       "          ...,\n",
       "          [-1.28618385e-02, -1.90817063e-02, -6.89565773e-03, ...,\n",
       "            2.15964582e-04, -1.94490168e-02, -2.69067821e-02],\n",
       "          [ 1.37333461e-02,  2.05511176e-02,  2.13040077e-02, ...,\n",
       "            2.22961630e-02,  2.68512032e-02,  2.07482414e-02],\n",
       "          [-1.51673917e-03, -9.38763901e-03, -4.81557838e-03, ...,\n",
       "           -2.05278059e-02, -2.99995602e-02, -2.80432782e-02]],\n",
       "  \n",
       "         [[-1.00000000e+00, -1.00000000e+00, -1.00000000e+00, ...,\n",
       "           -1.00000000e+00, -1.00000000e+00, -1.00000000e+00],\n",
       "          [-3.79728082e-02, -5.23365139e-02, -6.09870377e-02, ...,\n",
       "           -4.43654717e-02,  4.64810527e-03,  3.25475269e-02],\n",
       "          [-2.15782437e-01, -3.08620446e-01, -3.76077144e-01, ...,\n",
       "           -2.69169746e-01, -2.38679898e-01, -1.87844310e-01],\n",
       "          ...,\n",
       "          [ 1.04371826e-02,  1.36647613e-02,  1.21357230e-02, ...,\n",
       "            5.11088364e-03,  1.17772962e-03,  3.85848513e-03],\n",
       "          [ 2.26330581e-02,  2.66441686e-02,  2.06536690e-02, ...,\n",
       "            1.98238089e-02,  1.42740025e-02,  1.42269356e-02],\n",
       "          [-2.69236186e-02, -3.41896203e-02, -3.93791118e-02, ...,\n",
       "           -1.28633483e-02, -2.19575820e-02, -2.27007009e-02]],\n",
       "  \n",
       "         [[-1.00000000e+00, -1.00000000e+00, -1.00000000e+00, ...,\n",
       "           -1.00000000e+00, -1.00000000e+00, -1.00000000e+00],\n",
       "          [ 1.67805067e-02, -5.42051497e-03, -8.36455614e-02, ...,\n",
       "           -2.47353884e-02,  4.32246116e-03,  3.49474540e-02],\n",
       "          [-2.08447092e-01, -2.50811514e-01, -3.01774614e-01, ...,\n",
       "           -1.99698483e-01, -1.81173815e-01, -1.38837498e-01],\n",
       "          ...,\n",
       "          [ 1.52846628e-04, -7.41006222e-03,  2.09883395e-02, ...,\n",
       "           -1.52422166e-02, -8.67184834e-03, -4.99254176e-03],\n",
       "          [ 1.70957430e-02,  1.14996458e-02, -2.11122078e-03, ...,\n",
       "            8.02083023e-03,  1.60698431e-02,  1.55993206e-02],\n",
       "          [-2.88076202e-02, -2.75561513e-02, -7.63011546e-03, ...,\n",
       "           -1.62036903e-02, -1.86813482e-02, -1.81492977e-02]]]),\n",
       "  'chroma': array([[[0.45705368, 0.36510644, 1.        , ..., 0.69405934,\n",
       "           0.68307337, 0.37000194],\n",
       "          [0.61913306, 0.40418268, 0.61639109, ..., 1.        ,\n",
       "           0.99598853, 0.59470795],\n",
       "          [0.4044294 , 0.37789571, 0.25607475, ..., 0.6808072 ,\n",
       "           1.        , 1.        ],\n",
       "          ...,\n",
       "          [0.35754365, 0.19012297, 0.05423201, ..., 0.07375896,\n",
       "           0.65735613, 0.51217102],\n",
       "          [0.42670997, 0.19810298, 0.19571045, ..., 0.19418476,\n",
       "           0.36100437, 0.37131856],\n",
       "          [1.        , 1.        , 0.73467459, ..., 0.6700258 ,\n",
       "           0.53110915, 0.28649484]],\n",
       "  \n",
       "         [[0.21474037, 0.05475106, 0.01790058, ..., 0.27206238,\n",
       "           0.11700675, 0.07041661],\n",
       "          [0.25580977, 0.06069663, 0.0178926 , ..., 0.30113138,\n",
       "           0.10232912, 0.05121728],\n",
       "          [0.12998258, 0.03310094, 0.03201717, ..., 0.09278093,\n",
       "           0.02507199, 0.02273562],\n",
       "          ...,\n",
       "          [0.12243839, 0.04717768, 0.03146893, ..., 0.19836505,\n",
       "           0.06743811, 0.06854137],\n",
       "          [0.11666601, 0.03792501, 0.0273314 , ..., 0.14886355,\n",
       "           0.04816066, 0.05605441],\n",
       "          [0.14403906, 0.04154497, 0.01932454, ..., 0.20070921,\n",
       "           0.10187148, 0.08161173]],\n",
       "  \n",
       "         [[0.73328407, 0.28566832, 0.20327247, ..., 1.        ,\n",
       "           1.        , 1.        ],\n",
       "          [0.68817063, 0.72564081, 0.35843549, ..., 0.39781895,\n",
       "           0.46194141, 0.6213176 ],\n",
       "          [0.65556012, 0.80957075, 0.33296922, ..., 0.03374261,\n",
       "           0.09348394, 0.44680949],\n",
       "          ...,\n",
       "          [1.        , 0.38677994, 0.27921555, ..., 0.01739512,\n",
       "           0.03731558, 0.25471791],\n",
       "          [0.50877549, 0.22924879, 0.17421948, ..., 0.0425944 ,\n",
       "           0.04595403, 0.17547282],\n",
       "          [0.70424693, 0.26771726, 0.1774882 , ..., 0.2907226 ,\n",
       "           0.20307236, 0.27696506]],\n",
       "  \n",
       "         ...,\n",
       "  \n",
       "         [[0.51330763, 0.31738165, 0.43066206, ..., 0.13164247,\n",
       "           0.10463944, 0.22032979],\n",
       "          [0.68438195, 0.52924486, 0.67985763, ..., 0.18724733,\n",
       "           0.13467381, 0.17598457],\n",
       "          [1.        , 0.43893276, 0.48438646, ..., 0.16122955,\n",
       "           0.10023251, 0.26644859],\n",
       "          ...,\n",
       "          [0.49295063, 1.        , 1.        , ..., 0.08685577,\n",
       "           0.05901181, 0.11418899],\n",
       "          [0.90568157, 0.60069831, 0.46845354, ..., 0.08986673,\n",
       "           0.0606616 , 0.12929986],\n",
       "          [0.54246366, 0.41646676, 0.28815438, ..., 0.08643994,\n",
       "           0.08645683, 0.26983561]],\n",
       "  \n",
       "         [[0.62894544, 0.84997914, 0.42379057, ..., 0.42862476,\n",
       "           0.51388721, 0.38685475],\n",
       "          [0.17811368, 0.36453106, 0.34433185, ..., 0.74268964,\n",
       "           0.38596732, 0.21773257],\n",
       "          [0.21102257, 0.66236388, 0.76031744, ..., 1.        ,\n",
       "           0.52614895, 0.47576988],\n",
       "          ...,\n",
       "          [0.12932746, 0.3063624 , 0.40347329, ..., 0.40919401,\n",
       "           0.74186425, 0.92817335],\n",
       "          [0.23327287, 0.37141128, 0.44547509, ..., 0.3249197 ,\n",
       "           1.        , 1.        ],\n",
       "          [1.        , 1.        , 0.71975624, ..., 0.3462258 ,\n",
       "           0.62155025, 0.48507436]],\n",
       "  \n",
       "         [[0.59255143, 0.67866958, 0.96886654, ..., 0.68150909,\n",
       "           0.76021787, 0.89571608],\n",
       "          [0.56882295, 0.6064348 , 1.        , ..., 0.43459431,\n",
       "           0.40464122, 0.41110206],\n",
       "          [0.68087127, 0.52435042, 0.77521897, ..., 0.77424923,\n",
       "           0.82781554, 0.5533592 ],\n",
       "          ...,\n",
       "          [0.56038345, 0.67581205, 0.90728781, ..., 0.65443962,\n",
       "           0.73668907, 0.70025498],\n",
       "          [0.67055391, 0.57205637, 0.49513892, ..., 0.8199419 ,\n",
       "           0.50807878, 0.60350397],\n",
       "          [0.82114434, 0.64609978, 0.46340442, ..., 0.69890361,\n",
       "           0.48383798, 0.59338363]]]),\n",
       "  'label': array([1, 1, 1, ..., 5, 5, 5])},\n",
       " 'val': {'melspectrogram': array([[[3.20727065e-05, 1.70512106e-06, 1.61698192e-11, ...,\n",
       "           7.22252679e-15, 2.69283220e-07, 3.39019824e-06],\n",
       "          [3.22422717e-05, 1.71387116e-06, 1.71018208e-11, ...,\n",
       "           8.45951209e-15, 2.72619082e-07, 3.43296506e-06],\n",
       "          [3.25622734e-05, 1.73066317e-06, 2.72505511e-11, ...,\n",
       "           2.73338675e-14, 2.78504740e-07, 3.50895954e-06],\n",
       "          ...,\n",
       "          [5.14212831e-05, 6.76458209e-06, 2.39359128e-06, ...,\n",
       "           6.30893990e-09, 6.11588980e-06, 7.81709836e-05],\n",
       "          [3.93156198e-05, 2.11725020e-06, 1.69905801e-08, ...,\n",
       "           1.81867133e-11, 5.49903895e-06, 7.04596725e-05],\n",
       "          [3.57245249e-05, 1.90032216e-06, 7.52069991e-12, ...,\n",
       "           1.08188427e-14, 5.16713334e-06, 6.62027836e-05]],\n",
       "  \n",
       "         [[7.67939508e-04, 8.86466934e-05, 1.32991794e-14, ...,\n",
       "           1.57970377e-14, 7.55694365e-06, 2.54579127e-05],\n",
       "          [7.69154986e-04, 8.87870046e-05, 1.39016140e-14, ...,\n",
       "           1.65775339e-14, 7.66055853e-06, 2.58148905e-05],\n",
       "          [7.71190660e-04, 8.90219420e-05, 1.12911211e-13, ...,\n",
       "           2.12653285e-14, 7.83495949e-06, 2.64159078e-05],\n",
       "          ...,\n",
       "          [9.45084473e-06, 1.10264178e-06, 3.05756701e-08, ...,\n",
       "           4.18262054e-09, 2.83884946e-05, 9.73770684e-05],\n",
       "          [6.01727539e-06, 7.00735316e-07, 2.08139458e-10, ...,\n",
       "           4.49919935e-11, 2.66796293e-05, 9.15327017e-05],\n",
       "          [3.95455043e-06, 4.62359201e-07, 2.36568448e-13, ...,\n",
       "           1.06233019e-14, 2.56824178e-05, 8.81108068e-05]],\n",
       "  \n",
       "         [[6.48721776e-07, 2.51687682e-08, 1.20811478e-16, ...,\n",
       "           1.30132639e-14, 6.18270368e-05, 6.29146592e-04],\n",
       "          [6.56912517e-07, 2.54913397e-08, 1.48312609e-16, ...,\n",
       "           1.31511495e-14, 6.19198921e-05, 6.30093058e-04],\n",
       "          [6.71581488e-07, 2.60724107e-08, 5.48819244e-16, ...,\n",
       "           1.83047008e-14, 6.20751178e-05, 6.31674541e-04],\n",
       "          ...,\n",
       "          [1.49919305e-05, 5.92901727e-07, 3.65376164e-09, ...,\n",
       "           1.22876564e-08, 9.02803896e-05, 9.21869874e-04],\n",
       "          [1.35024340e-05, 5.32285488e-07, 2.16074121e-11, ...,\n",
       "           3.84824667e-11, 8.35282517e-05, 8.53059152e-04],\n",
       "          [1.26888818e-05, 5.00144981e-07, 4.81409993e-15, ...,\n",
       "           3.21925392e-14, 7.94948751e-05, 8.11916160e-04]],\n",
       "  \n",
       "         ...,\n",
       "  \n",
       "         [[2.79701408e-04, 4.34947074e-05, 4.29942295e-13, ...,\n",
       "           1.26963522e-12, 1.73066861e-05, 1.00663595e-04],\n",
       "          [2.81954846e-04, 4.38518396e-05, 4.53512408e-13, ...,\n",
       "           1.43887940e-12, 1.76455142e-05, 1.02626955e-04],\n",
       "          [2.85739681e-04, 4.44521653e-05, 5.03427081e-13, ...,\n",
       "           1.77615609e-12, 1.82325546e-05, 1.06029656e-04],\n",
       "          ...,\n",
       "          [5.80771124e-07, 9.00255674e-08, 1.56240015e-10, ...,\n",
       "           1.50649080e-11, 5.42662453e-09, 3.23174508e-08],\n",
       "          [5.48062473e-07, 8.46335862e-08, 1.36293422e-13, ...,\n",
       "           3.72605134e-14, 4.41823421e-09, 2.61668936e-08],\n",
       "          [5.32353265e-07, 8.22130062e-08, 3.95376370e-18, ...,\n",
       "           8.03567657e-17, 3.71531077e-09, 2.19502559e-08]],\n",
       "  \n",
       "         [[3.15187499e-06, 2.89428521e-07, 2.70221719e-14, ...,\n",
       "           1.48056737e-15, 2.40914304e-04, 2.51964810e-03],\n",
       "          [3.72881846e-06, 3.38281788e-07, 3.74882083e-14, ...,\n",
       "           5.36750194e-15, 2.43730630e-04, 2.54927003e-03],\n",
       "          [4.72470674e-06, 4.22629644e-07, 5.84173101e-14, ...,\n",
       "           3.12851393e-14, 2.48535438e-04, 2.59982134e-03],\n",
       "          ...,\n",
       "          [9.18194915e-06, 7.65939411e-07, 5.60757571e-16, ...,\n",
       "           1.47036705e-09, 3.81191126e-06, 3.94546596e-05],\n",
       "          [9.00066336e-06, 7.50893994e-07, 4.90253083e-18, ...,\n",
       "           8.23424412e-13, 3.64171086e-06, 3.77191248e-05],\n",
       "          [8.87585337e-06, 7.40518431e-07, 1.12649499e-18, ...,\n",
       "           8.24201731e-15, 3.54080434e-06, 3.66717183e-05]],\n",
       "  \n",
       "         [[7.98440050e-05, 1.07336331e-05, 2.52167341e-12, ...,\n",
       "           1.51385192e-12, 1.12161293e-07, 1.21288623e-06],\n",
       "          [8.14003782e-05, 1.09420324e-05, 2.74702510e-12, ...,\n",
       "           1.64131167e-12, 2.55375556e-07, 3.10978889e-06],\n",
       "          [8.40973909e-05, 1.13036278e-05, 3.16179345e-12, ...,\n",
       "           1.86404934e-12, 5.03657633e-07, 6.39771735e-06],\n",
       "          ...,\n",
       "          [2.59605016e-08, 4.95465925e-09, 2.47782912e-09, ...,\n",
       "           2.91136362e-10, 2.33332568e-07, 3.07955750e-06],\n",
       "          [2.07930317e-08, 2.85055138e-09, 1.14060655e-11, ...,\n",
       "           1.55821794e-12, 2.24607375e-07, 2.97084136e-06],\n",
       "          [1.74360613e-08, 2.37762987e-09, 4.04613665e-15, ...,\n",
       "           4.34750646e-17, 2.19348212e-07, 2.90151027e-06]]]),\n",
       "  'mfcc': array([[[-1.00000000e+00, -1.00000000e+00, -1.00000000e+00, ...,\n",
       "           -1.00000000e+00, -1.00000000e+00, -1.00000000e+00],\n",
       "          [-7.00707010e-04, -1.10340650e-02, -2.53207104e-02, ...,\n",
       "           -1.90162895e-01, -2.16063378e-01, -2.11972315e-01],\n",
       "          [-2.30403412e-04, -1.93250846e-02, -5.28779337e-02, ...,\n",
       "           -3.58255856e-01, -3.05092116e-01, -2.19645277e-01],\n",
       "          ...,\n",
       "          [ 8.92748369e-04,  2.45776340e-03,  6.40560815e-04, ...,\n",
       "           -1.93165006e-02,  1.90836487e-03,  1.53599035e-02],\n",
       "          [-1.01578118e-03,  5.70393629e-04,  4.12071403e-03, ...,\n",
       "            1.80110427e-02,  6.68295572e-03,  2.60244596e-03],\n",
       "          [ 3.89081089e-04,  3.20602251e-03,  3.84064179e-03, ...,\n",
       "            3.76464548e-03,  1.18844310e-02,  1.75205206e-03]],\n",
       "  \n",
       "         [[-1.00000000e+00, -1.00000000e+00, -1.00000000e+00, ...,\n",
       "           -1.00000000e+00, -1.00000000e+00, -1.00000000e+00],\n",
       "          [-5.12846941e-02, -1.29384499e-01, -2.96563590e-01, ...,\n",
       "           -3.22378346e-01, -3.57611828e-01, -3.19196378e-01],\n",
       "          [-1.91341974e-01, -2.70547661e-01, -4.10818698e-01, ...,\n",
       "           -3.41421706e-01, -3.39514598e-01, -3.31654210e-01],\n",
       "          ...,\n",
       "          [ 2.63213212e-02,  7.12581329e-03, -9.82603052e-03, ...,\n",
       "            3.72021912e-02,  6.95291039e-02,  6.34998707e-02],\n",
       "          [-1.50043528e-02, -2.39938207e-03,  2.25641721e-02, ...,\n",
       "            1.39872397e-02, -2.13417097e-02, -4.80909329e-03],\n",
       "          [-1.92396331e-02, -2.11570822e-02, -2.96183110e-02, ...,\n",
       "            7.60861544e-03, -2.59830995e-02, -5.18662556e-02]],\n",
       "  \n",
       "         [[-1.00000000e+00, -1.00000000e+00, -1.00000000e+00, ...,\n",
       "           -1.00000000e+00, -1.00000000e+00, -1.00000000e+00],\n",
       "          [-3.67429024e-01, -4.36197260e-01, -3.82324107e-01, ...,\n",
       "           -2.76487536e-01, -2.77447007e-01, -2.47640669e-01],\n",
       "          [-3.50873655e-01, -4.73527006e-01, -4.95483858e-01, ...,\n",
       "           -2.84991364e-01, -1.49499788e-01, -8.59114143e-02],\n",
       "          ...,\n",
       "          [-2.40434435e-03,  2.33267200e-02,  3.29270512e-02, ...,\n",
       "            2.11940566e-02,  3.57910634e-02,  3.72085897e-02],\n",
       "          [-1.40414450e-02, -4.00139767e-02, -2.50074660e-02, ...,\n",
       "           -1.38567797e-03, -1.01794358e-02, -1.35754487e-02],\n",
       "          [ 2.12173041e-02, -7.31798322e-03, -4.97225087e-02, ...,\n",
       "           -2.48472140e-02, -1.84978586e-02, -6.73953116e-03]],\n",
       "  \n",
       "         ...,\n",
       "  \n",
       "         [[-1.00000000e+00, -1.00000000e+00, -1.00000000e+00, ...,\n",
       "           -1.00000000e+00, -1.00000000e+00, -1.00000000e+00],\n",
       "          [ 2.80163716e-01,  2.19332904e-01, -8.15107010e-02, ...,\n",
       "           -8.26716551e-02,  1.05577206e-01,  2.21011647e-01],\n",
       "          [-4.07582667e-01, -6.18777085e-01, -8.25904061e-01, ...,\n",
       "           -6.43743834e-01, -6.14018277e-01, -5.48936970e-01],\n",
       "          ...,\n",
       "          [-8.81656412e-03, -5.25657818e-03, -7.70787333e-03, ...,\n",
       "            1.24009345e-02,  1.33406868e-03, -8.86914404e-03],\n",
       "          [-3.95639359e-02, -4.27389397e-02, -4.32641553e-02, ...,\n",
       "            1.38211365e-02, -7.94537089e-03, -2.78657214e-03],\n",
       "          [-6.72387684e-03, -2.75625290e-02, -2.09721085e-02, ...,\n",
       "           -1.28641913e-02, -1.87358146e-02, -1.08627330e-02]],\n",
       "  \n",
       "         [[-1.00000000e+00, -1.00000000e+00, -1.00000000e+00, ...,\n",
       "           -1.00000000e+00, -1.00000000e+00, -1.00000000e+00],\n",
       "          [-1.24142996e-01, -2.11746916e-01, -2.43130385e-01, ...,\n",
       "           -8.92769309e-02,  1.41111257e-01,  2.13858641e-01],\n",
       "          [-7.11005566e-01, -8.92337690e-01, -9.38117519e-01, ...,\n",
       "           -6.23224599e-01, -4.48327587e-01, -3.51484677e-01],\n",
       "          ...,\n",
       "          [ 1.28120208e-02,  5.40194878e-03, -1.97636913e-02, ...,\n",
       "            2.55834844e-03,  1.24588481e-02,  1.09743929e-02],\n",
       "          [-3.10807116e-02, -3.94178217e-02, -1.71989381e-02, ...,\n",
       "           -2.85473345e-02, -2.70613184e-02, -1.74758260e-02],\n",
       "          [-2.34571955e-02, -2.48682431e-02, -1.37448813e-02, ...,\n",
       "           -3.06935893e-02, -2.56667784e-02, -1.51426733e-02]],\n",
       "  \n",
       "         [[-1.00000000e+00, -1.00000000e+00, -1.00000000e+00, ...,\n",
       "           -1.00000000e+00, -1.00000000e+00, -1.00000000e+00],\n",
       "          [ 2.15552547e-01,  1.31402513e-01, -6.38143779e-02, ...,\n",
       "           -7.90807029e-02,  1.15629464e-02,  6.70020994e-02],\n",
       "          [-4.70236588e-01, -5.42875709e-01, -6.22507197e-01, ...,\n",
       "           -6.83171343e-01, -5.94067264e-01, -4.77600859e-01],\n",
       "          ...,\n",
       "          [-4.89136489e-03, -1.85415152e-02, -1.90251372e-02, ...,\n",
       "           -1.45361003e-02, -6.08822727e-03, -3.62029856e-03],\n",
       "          [-9.02846018e-03, -5.01169258e-03, -1.04178310e-02, ...,\n",
       "            5.40034614e-03,  7.06046640e-03, -3.46061883e-04],\n",
       "          [-1.66252111e-02, -2.16062380e-02, -2.23465091e-02, ...,\n",
       "           -4.31707575e-02, -3.34089181e-02, -1.43541420e-02]]]),\n",
       "  'chroma': array([[[1.        , 0.76698781, 0.5835686 , ..., 0.37495381,\n",
       "           0.20316086, 0.05185377],\n",
       "          [0.76076327, 0.72283746, 0.69529811, ..., 0.42568056,\n",
       "           0.491869  , 0.45309781],\n",
       "          [0.3631438 , 1.        , 1.        , ..., 1.        ,\n",
       "           1.        , 1.        ],\n",
       "          ...,\n",
       "          [0.2075693 , 0.33043776, 0.52795307, ..., 0.00959495,\n",
       "           0.00907293, 0.00741895],\n",
       "          [0.21526949, 0.3453023 , 0.42528559, ..., 0.02201683,\n",
       "           0.01994017, 0.02485421],\n",
       "          [0.41329967, 0.57715684, 0.56585585, ..., 0.16171153,\n",
       "           0.09878923, 0.05487508]],\n",
       "  \n",
       "         [[1.        , 0.47366975, 0.71683042, ..., 0.05595545,\n",
       "           0.77246438, 0.58880552],\n",
       "          [0.47025013, 0.27056198, 0.33283014, ..., 0.06536368,\n",
       "           0.26742519, 0.13113292],\n",
       "          [0.6108023 , 0.8936805 , 0.95195132, ..., 0.24271686,\n",
       "           0.31832083, 0.1181938 ],\n",
       "          ...,\n",
       "          [0.05754764, 0.05378022, 0.18408856, ..., 0.01206241,\n",
       "           0.20886557, 0.2350149 ],\n",
       "          [0.27952244, 0.22620547, 0.35861111, ..., 0.02338247,\n",
       "           0.43658822, 0.34058818],\n",
       "          [0.90289026, 0.60514437, 0.9665672 , ..., 0.04613008,\n",
       "           1.        , 1.        ]],\n",
       "  \n",
       "         [[0.7929543 , 0.85250382, 0.27835462, ..., 0.48007815,\n",
       "           0.26548429, 0.60113755],\n",
       "          [0.44298594, 0.19803634, 0.04556034, ..., 0.24263328,\n",
       "           0.13359347, 0.31914767],\n",
       "          [1.        , 0.25911703, 0.03755816, ..., 0.26372395,\n",
       "           0.19438117, 0.17534141],\n",
       "          ...,\n",
       "          [0.12840811, 0.04081884, 0.06453507, ..., 0.11298178,\n",
       "           0.07010893, 0.19376349],\n",
       "          [0.24479382, 0.35070196, 1.        , ..., 0.331015  ,\n",
       "           0.29520971, 0.75890213],\n",
       "          [0.63423126, 1.        , 0.82963814, ..., 0.43424193,\n",
       "           0.31626838, 1.        ]],\n",
       "  \n",
       "         ...,\n",
       "  \n",
       "         [[0.06228524, 0.13306582, 0.32886903, ..., 0.22196682,\n",
       "           0.21518645, 0.15597391],\n",
       "          [0.04003751, 0.05897615, 0.1386    , ..., 0.20359081,\n",
       "           0.54895371, 0.59579584],\n",
       "          [0.02875753, 0.07329577, 0.22183365, ..., 0.29516601,\n",
       "           0.64245847, 0.4597945 ],\n",
       "          ...,\n",
       "          [0.05784378, 0.17526172, 0.28401921, ..., 0.6302393 ,\n",
       "           0.49347367, 0.43510616],\n",
       "          [0.06169578, 0.2161168 , 0.30435452, ..., 1.        ,\n",
       "           1.        , 0.51957593],\n",
       "          [0.04986166, 0.17202571, 0.46468163, ..., 0.58150901,\n",
       "           0.44865932, 0.19515259]],\n",
       "  \n",
       "         [[0.17015371, 0.15251171, 0.19879181, ..., 0.66333888,\n",
       "           0.29676765, 0.22544814],\n",
       "          [0.15255713, 0.14943817, 0.18224434, ..., 0.20047005,\n",
       "           0.20523229, 0.25764729],\n",
       "          [0.3900476 , 0.3292578 , 0.36269471, ..., 0.11930049,\n",
       "           0.12660726, 0.12501323],\n",
       "          ...,\n",
       "          [0.22116529, 0.20477083, 0.1768781 , ..., 0.15200358,\n",
       "           0.25794824, 0.40417982],\n",
       "          [0.34408095, 0.39581106, 0.54204244, ..., 0.41448935,\n",
       "           0.81117285, 1.        ],\n",
       "          [0.2252497 , 0.32661762, 0.5609087 , ..., 1.        ,\n",
       "           1.        , 0.83181384]],\n",
       "  \n",
       "         [[0.0472928 , 0.02990529, 0.06585321, ..., 0.21152292,\n",
       "           0.49286147, 0.43660717],\n",
       "          [0.05053186, 0.03958122, 0.06318199, ..., 0.17762474,\n",
       "           0.32017664, 0.40764909],\n",
       "          [0.04972383, 0.03336379, 0.03971065, ..., 0.61213107,\n",
       "           0.71998099, 0.3769125 ],\n",
       "          ...,\n",
       "          [0.36952658, 0.37917759, 0.41633374, ..., 0.16081353,\n",
       "           0.3764299 , 0.57995241],\n",
       "          [0.49747666, 0.30075767, 0.15463732, ..., 0.16903706,\n",
       "           0.19959782, 0.16506534],\n",
       "          [0.19922915, 0.09828857, 0.05475609, ..., 0.21236189,\n",
       "           0.24473608, 0.21440318]]]),\n",
       "  'label': array([1, 1, 1, ..., 5, 5, 5])}}"
      ]
     },
     "execution_count": 116,
     "metadata": {},
     "output_type": "execute_result"
    }
   ],
   "source": [
    "merged_dict = {'train': train_features, 'val': val_features}\n",
    "merged_dict"
   ]
  },
  {
   "cell_type": "markdown",
   "metadata": {},
   "source": [
    "### Save the merged dictionary to a pkl"
   ]
  },
  {
   "cell_type": "code",
   "execution_count": 117,
   "metadata": {},
   "outputs": [],
   "source": [
    "with open('C:/Users/thato/Documents/Final-Year-Project/Dataset/Project-V4/feature-extraction/NotAnnotated/NotAveragePooled/split_features_2s_mel_mfcc_chroma.pkl', 'wb') as file:\n",
    "  pickle.dump(merged_dict, file)"
   ]
  },
  {
   "cell_type": "markdown",
   "metadata": {},
   "source": [
    "### **['melspectrogram', 'mfcc', 'chroma', 'rms']**"
   ]
  },
  {
   "cell_type": "code",
   "execution_count": 118,
   "metadata": {},
   "outputs": [],
   "source": [
    "features_list = ['melspectrogram', 'mfcc', 'chroma', 'rms']"
   ]
  },
  {
   "cell_type": "code",
   "execution_count": 119,
   "metadata": {},
   "outputs": [
    {
     "name": "stdout",
     "output_type": "stream",
     "text": [
      "Train DataFrame shape: (485, 6)\n",
      "Validation DataFrame shape: (130, 6)\n",
      "Number of rows in dataframe: 485\n"
     ]
    },
    {
     "name": "stderr",
     "output_type": "stream",
     "text": [
      "Processing data: 100%|██████████| 485/485 [07:37<00:00,  1.06it/s]\n"
     ]
    },
    {
     "name": "stdout",
     "output_type": "stream",
     "text": [
      "Number of rows in dataframe: 130\n"
     ]
    },
    {
     "name": "stderr",
     "output_type": "stream",
     "text": [
      "Processing data: 100%|██████████| 130/130 [01:38<00:00,  1.32it/s]\n"
     ]
    }
   ],
   "source": [
    "features = Extraction(train_data,\n",
    "                      val_data,\n",
    "                      window_size=2,\n",
    "                      features=features_list,\n",
    "                      avgpool=False\n",
    "                      )"
   ]
  },
  {
   "cell_type": "code",
   "execution_count": 120,
   "metadata": {},
   "outputs": [
    {
     "data": {
      "text/plain": [
       "(22631,)"
      ]
     },
     "metadata": {},
     "output_type": "display_data"
    },
    {
     "data": {
      "text/plain": [
       "'melspectrogram'"
      ]
     },
     "metadata": {},
     "output_type": "display_data"
    },
    {
     "data": {
      "text/plain": [
       "(22631, 60, 87)"
      ]
     },
     "metadata": {},
     "output_type": "display_data"
    },
    {
     "data": {
      "text/plain": [
       "'mfcc'"
      ]
     },
     "metadata": {},
     "output_type": "display_data"
    },
    {
     "data": {
      "text/plain": [
       "(22631, 20, 87)"
      ]
     },
     "metadata": {},
     "output_type": "display_data"
    },
    {
     "data": {
      "text/plain": [
       "'chroma'"
      ]
     },
     "metadata": {},
     "output_type": "display_data"
    },
    {
     "data": {
      "text/plain": [
       "(22631, 12, 87)"
      ]
     },
     "metadata": {},
     "output_type": "display_data"
    },
    {
     "data": {
      "text/plain": [
       "'rms'"
      ]
     },
     "metadata": {},
     "output_type": "display_data"
    },
    {
     "data": {
      "text/plain": [
       "(22631, 1, 87)"
      ]
     },
     "metadata": {},
     "output_type": "display_data"
    }
   ],
   "source": [
    "train_y = features.train_y\n",
    "display(train_y.shape)\n",
    "\n",
    "train_features = features.train_features\n",
    "for key in train_features.keys():\n",
    "  display(key)\n",
    "  display(train_features[key].shape)"
   ]
  },
  {
   "cell_type": "code",
   "execution_count": 121,
   "metadata": {},
   "outputs": [
    {
     "data": {
      "text/plain": [
       "(6044,)"
      ]
     },
     "metadata": {},
     "output_type": "display_data"
    },
    {
     "data": {
      "text/plain": [
       "'melspectrogram'"
      ]
     },
     "metadata": {},
     "output_type": "display_data"
    },
    {
     "data": {
      "text/plain": [
       "(6044, 60, 87)"
      ]
     },
     "metadata": {},
     "output_type": "display_data"
    },
    {
     "data": {
      "text/plain": [
       "'mfcc'"
      ]
     },
     "metadata": {},
     "output_type": "display_data"
    },
    {
     "data": {
      "text/plain": [
       "(6044, 20, 87)"
      ]
     },
     "metadata": {},
     "output_type": "display_data"
    },
    {
     "data": {
      "text/plain": [
       "'chroma'"
      ]
     },
     "metadata": {},
     "output_type": "display_data"
    },
    {
     "data": {
      "text/plain": [
       "(6044, 12, 87)"
      ]
     },
     "metadata": {},
     "output_type": "display_data"
    },
    {
     "data": {
      "text/plain": [
       "'rms'"
      ]
     },
     "metadata": {},
     "output_type": "display_data"
    },
    {
     "data": {
      "text/plain": [
       "(6044, 1, 87)"
      ]
     },
     "metadata": {},
     "output_type": "display_data"
    }
   ],
   "source": [
    "val_y = features.val_y\n",
    "display(val_y.shape)\n",
    "\n",
    "val_features = features.val_features\n",
    "for key in val_features.keys():\n",
    "  display(key)\n",
    "  display(val_features[key].shape)"
   ]
  },
  {
   "cell_type": "markdown",
   "metadata": {},
   "source": [
    "### Encode Classes"
   ]
  },
  {
   "cell_type": "code",
   "execution_count": 122,
   "metadata": {},
   "outputs": [
    {
     "name": "stdout",
     "output_type": "stream",
     "text": [
      "Encoded classes for [0, 1, 2]: ['Acrocephalus arundinaceus', 'Acrocephalus melanopogon', 'Acrocephalus scirpaceus']\n",
      "Encoded training labels: [1 1 1 ... 5 5 5]\n",
      "Encoded validation labels: [1 1 1 ... 5 5 5]\n"
     ]
    }
   ],
   "source": [
    "label_encoder = LabelEncoder().fit(train_y)\n",
    "train_y_encoded = label_encoder.transform(train_y)\n",
    "val_y_encoded = label_encoder.transform(val_y)\n",
    "\n",
    "classes = list(label_encoder.inverse_transform([0, 1, 2]))\n",
    "print(\"Encoded classes for [0, 1, 2]:\", classes)\n",
    "print(\"Encoded training labels:\", train_y_encoded)\n",
    "print(\"Encoded validation labels:\", val_y_encoded)"
   ]
  },
  {
   "cell_type": "code",
   "execution_count": 123,
   "metadata": {},
   "outputs": [
    {
     "data": {
      "text/plain": [
       "22631"
      ]
     },
     "metadata": {},
     "output_type": "display_data"
    },
    {
     "data": {
      "text/plain": [
       "array(['Acrocephalus melanopogon', 'Acrocephalus melanopogon',\n",
       "       'Acrocephalus melanopogon', 'Acrocephalus melanopogon',\n",
       "       'Acrocephalus melanopogon', 'Acrocephalus melanopogon',\n",
       "       'Acrocephalus melanopogon', 'Acrocephalus melanopogon',\n",
       "       'Acrocephalus melanopogon', 'Acrocephalus melanopogon'],\n",
       "      dtype='<U25')"
      ]
     },
     "metadata": {},
     "output_type": "display_data"
    },
    {
     "data": {
      "text/plain": [
       "6044"
      ]
     },
     "metadata": {},
     "output_type": "display_data"
    },
    {
     "data": {
      "text/plain": [
       "array(['Acrocephalus melanopogon', 'Acrocephalus melanopogon',\n",
       "       'Acrocephalus melanopogon', 'Acrocephalus melanopogon',\n",
       "       'Acrocephalus melanopogon', 'Acrocephalus melanopogon',\n",
       "       'Acrocephalus melanopogon', 'Acrocephalus melanopogon',\n",
       "       'Acrocephalus melanopogon', 'Acrocephalus melanopogon'],\n",
       "      dtype='<U25')"
      ]
     },
     "metadata": {},
     "output_type": "display_data"
    }
   ],
   "source": [
    "display(len(train_y))\n",
    "display(train_y[:10])\n",
    "\n",
    "display(len(val_y))\n",
    "display(val_y[:10])"
   ]
  },
  {
   "cell_type": "code",
   "execution_count": 124,
   "metadata": {},
   "outputs": [],
   "source": [
    "train_features['label'] = train_y_encoded\n",
    "val_features['label'] = val_y_encoded"
   ]
  },
  {
   "cell_type": "code",
   "execution_count": 125,
   "metadata": {},
   "outputs": [
    {
     "data": {
      "text/plain": [
       "{'train': {'melspectrogram': array([[[2.70414866e-03, 2.79165306e-04, 2.78151976e-06, ...,\n",
       "           5.40252245e-16, 1.56153176e-05, 1.55124408e-04],\n",
       "          [2.85087147e-03, 2.95306839e-04, 3.42857310e-06, ...,\n",
       "           1.44704444e-15, 1.58973962e-05, 1.57929313e-04],\n",
       "          [3.04498922e-03, 3.15533762e-04, 4.71718391e-06, ...,\n",
       "           3.38392743e-15, 1.63767277e-05, 1.62701248e-04],\n",
       "          ...,\n",
       "          [4.71950382e-06, 6.96979924e-07, 9.83989841e-06, ...,\n",
       "           4.08672234e-08, 1.99395944e-05, 1.89381415e-04],\n",
       "          [4.43196142e-06, 4.70733005e-07, 1.06044568e-07, ...,\n",
       "           4.94281655e-10, 1.80252409e-05, 1.73290591e-04],\n",
       "          [4.34125244e-06, 4.54310514e-07, 3.83112779e-09, ...,\n",
       "           2.21867693e-13, 1.70996799e-05, 1.64420217e-04]],\n",
       "  \n",
       "         [[2.21674682e-07, 8.28132378e-09, 1.14113669e-16, ...,\n",
       "           5.64442031e-13, 4.15756946e-08, 3.75276195e-07],\n",
       "          [2.63981337e-07, 9.74223593e-09, 2.37362292e-16, ...,\n",
       "           5.92175932e-13, 4.42072655e-08, 3.99715798e-07],\n",
       "          [3.37689066e-07, 1.22883134e-08, 5.17506993e-16, ...,\n",
       "           6.43548501e-13, 4.88149812e-08, 4.42517953e-07],\n",
       "          ...,\n",
       "          [1.24221423e-06, 4.60586002e-08, 9.70200993e-09, ...,\n",
       "           2.21176805e-07, 1.38921091e-07, 9.19623650e-07],\n",
       "          [1.18960547e-06, 4.02294314e-08, 6.11671643e-11, ...,\n",
       "           1.14089998e-09, 8.66023738e-08, 7.95996925e-07],\n",
       "          [1.18027896e-06, 3.98905750e-08, 5.35617338e-14, ...,\n",
       "           7.09815142e-13, 8.21373182e-08, 7.57310404e-07]],\n",
       "  \n",
       "         [[1.22058890e-04, 9.34677081e-06, 3.22876749e-15, ...,\n",
       "           1.16298733e-14, 1.22834425e-07, 1.12118992e-05],\n",
       "          [1.24266710e-04, 9.51594868e-06, 1.18513276e-14, ...,\n",
       "           1.24177431e-14, 1.22618447e-07, 1.11914349e-05],\n",
       "          [1.28022462e-04, 9.80447630e-06, 3.00770811e-14, ...,\n",
       "           1.40192738e-14, 1.22210139e-07, 1.11530365e-05],\n",
       "          ...,\n",
       "          [1.50215815e-04, 1.13776341e-05, 5.88939681e-08, ...,\n",
       "           9.70304505e-09, 1.55419074e-08, 5.80670822e-07],\n",
       "          [1.35939287e-04, 1.01194749e-05, 6.81656219e-10, ...,\n",
       "           9.28519809e-11, 2.15696595e-09, 1.90870739e-07],\n",
       "          [1.28983083e-04, 9.60034989e-06, 3.19279506e-13, ...,\n",
       "           8.41850007e-14, 7.09439993e-10, 6.47348860e-08]],\n",
       "  \n",
       "         ...,\n",
       "  \n",
       "         [[2.21190790e-04, 1.11619865e-05, 2.78268022e-13, ...,\n",
       "           1.16655524e-12, 2.86467632e-07, 5.01181085e-06],\n",
       "          [2.27187641e-04, 1.14519734e-05, 4.36195285e-13, ...,\n",
       "           1.49694979e-12, 8.03164735e-07, 1.58080789e-05],\n",
       "          [2.37296329e-04, 1.19372313e-05, 3.16946407e-12, ...,\n",
       "           1.38095078e-11, 1.72303729e-06, 3.50546831e-05],\n",
       "          ...,\n",
       "          [3.49611326e-05, 1.79054528e-06, 3.76184452e-08, ...,\n",
       "           1.83735118e-07, 8.93140530e-07, 1.62979154e-05],\n",
       "          [3.31546237e-05, 1.64014080e-06, 1.89029078e-10, ...,\n",
       "           6.55938962e-10, 7.22135098e-07, 1.51337809e-05],\n",
       "          [3.18327952e-05, 1.57461145e-06, 2.20048537e-13, ...,\n",
       "           4.54218096e-13, 6.97990886e-07, 1.46336116e-05]],\n",
       "  \n",
       "         [[9.28293796e-06, 8.80186231e-07, 9.71151637e-12, ...,\n",
       "           5.76394778e-13, 2.07389599e-05, 1.83769965e-04],\n",
       "          [1.05478390e-05, 1.00716296e-06, 1.13567924e-11, ...,\n",
       "           8.90076629e-13, 2.09316945e-05, 1.85519761e-04],\n",
       "          [1.27738439e-05, 1.23076803e-06, 2.97900411e-11, ...,\n",
       "           1.51397020e-11, 2.12326352e-05, 1.88256790e-04],\n",
       "          ...,\n",
       "          [1.82649467e-05, 2.14926302e-06, 4.95592478e-07, ...,\n",
       "           1.49483611e-06, 1.40780630e-06, 6.60807807e-06],\n",
       "          [1.29827135e-05, 1.33111630e-06, 3.30222561e-09, ...,\n",
       "           1.17212554e-08, 5.54495582e-07, 4.92670401e-06],\n",
       "          [1.07567421e-05, 1.10118534e-06, 2.07558184e-12, ...,\n",
       "           8.93726053e-12, 4.65363529e-07, 4.17494435e-06]],\n",
       "  \n",
       "         [[1.66002590e-05, 2.08753392e-06, 5.17446353e-12, ...,\n",
       "           1.72114188e-12, 1.19098446e-05, 2.33468937e-04],\n",
       "          [5.28939195e-05, 7.23103147e-06, 9.25834186e-12, ...,\n",
       "           1.99458249e-12, 1.48048586e-05, 2.84934542e-04],\n",
       "          [1.17623931e-04, 1.64111316e-05, 3.83605586e-11, ...,\n",
       "           2.72143698e-11, 1.99588292e-05, 3.76648939e-04],\n",
       "          ...,\n",
       "          [5.60726492e-05, 8.61579281e-06, 6.15390724e-05, ...,\n",
       "           1.23614275e-06, 1.11632352e-06, 4.29756085e-06],\n",
       "          [5.09890167e-05, 7.24329330e-06, 4.37902098e-09, ...,\n",
       "           7.73468341e-09, 3.32286453e-07, 5.74729608e-06],\n",
       "          [4.92019233e-05, 6.98686666e-06, 3.19411450e-12, ...,\n",
       "           2.33464641e-12, 4.01913941e-07, 7.05410795e-06]]]),\n",
       "  'mfcc': array([[[-1.00000000e+00, -1.00000000e+00, -1.00000000e+00, ...,\n",
       "           -1.00000000e+00, -1.00000000e+00, -1.00000000e+00],\n",
       "          [ 0.00000000e+00,  0.00000000e+00,  0.00000000e+00, ...,\n",
       "           -3.05051249e-01, -1.97002369e-01, -1.13290030e-01],\n",
       "          [ 0.00000000e+00,  0.00000000e+00,  0.00000000e+00, ...,\n",
       "           -6.19583357e-01, -4.92588817e-01, -3.98970522e-01],\n",
       "          ...,\n",
       "          [ 0.00000000e+00,  0.00000000e+00,  0.00000000e+00, ...,\n",
       "            1.48003232e-02,  9.83373317e-03, -5.78426032e-03],\n",
       "          [ 0.00000000e+00,  0.00000000e+00,  0.00000000e+00, ...,\n",
       "            1.58720677e-03,  1.46802665e-02, -8.42869731e-03],\n",
       "          [ 0.00000000e+00,  0.00000000e+00,  0.00000000e+00, ...,\n",
       "            2.14601974e-02,  1.35293444e-02,  4.27793189e-02]],\n",
       "  \n",
       "         [[-1.00000000e+00, -1.00000000e+00, -1.00000000e+00, ...,\n",
       "           -1.00000000e+00, -1.00000000e+00, -1.00000000e+00],\n",
       "          [-2.73754648e-01, -3.12543682e-01, -2.51784109e-01, ...,\n",
       "           -2.24977034e-01, -2.75655359e-01, -2.44628888e-01],\n",
       "          [-5.21659146e-01, -6.25294014e-01, -5.52422911e-01, ...,\n",
       "           -4.37599593e-01, -4.97770806e-01, -4.64626442e-01],\n",
       "          ...,\n",
       "          [-8.08266994e-03,  7.84945999e-03,  1.57406956e-02, ...,\n",
       "            2.51435623e-03, -2.27700421e-03,  7.76248406e-03],\n",
       "          [-1.60630839e-02,  9.63285793e-04,  2.31560568e-02, ...,\n",
       "            4.62682590e-03, -1.93320673e-02, -9.65222984e-03],\n",
       "          [ 2.94930420e-03, -1.51941759e-02, -3.33099954e-02, ...,\n",
       "           -2.69080595e-03,  1.77551620e-02,  2.90481769e-03]],\n",
       "  \n",
       "         [[-1.00000000e+00, -1.00000000e+00, -1.00000000e+00, ...,\n",
       "           -1.00000000e+00, -1.00000000e+00, -1.00000000e+00],\n",
       "          [-1.13884467e-01, -1.90462338e-01, -2.86657281e-01, ...,\n",
       "           -2.88680052e-01, -2.89538104e-01, -1.87282876e-01],\n",
       "          [-3.88151267e-01, -5.31972506e-01, -6.79934072e-01, ...,\n",
       "           -5.61636048e-01, -5.99655786e-01, -4.73035552e-01],\n",
       "          ...,\n",
       "          [ 1.73255585e-02, -1.06788942e-03, -1.80711935e-02, ...,\n",
       "            2.73328153e-02,  2.95873560e-02,  7.54436120e-03],\n",
       "          [-5.47289939e-03,  1.87034801e-02,  2.51865707e-02, ...,\n",
       "           -1.41245875e-02,  7.58157617e-05,  5.04805563e-03],\n",
       "          [ 8.40523932e-03, -2.05144787e-02, -2.07558067e-02, ...,\n",
       "           -1.21660538e-02, -1.24760434e-02, -1.34068909e-02]],\n",
       "  \n",
       "         ...,\n",
       "  \n",
       "         [[-1.00000000e+00, -1.00000000e+00, -1.00000000e+00, ...,\n",
       "           -1.00000000e+00, -1.00000000e+00, -1.00000000e+00],\n",
       "          [ 6.09129623e-02,  5.16997495e-02,  3.58517762e-04, ...,\n",
       "           -6.92650182e-02, -2.87075113e-02,  6.89945408e-03],\n",
       "          [-2.09043003e-01, -3.37058934e-01, -4.62002069e-01, ...,\n",
       "           -3.32229503e-01, -2.87916173e-01, -2.23718094e-01],\n",
       "          ...,\n",
       "          [-1.28618385e-02, -1.90817063e-02, -6.89565773e-03, ...,\n",
       "            2.15964582e-04, -1.94490168e-02, -2.69067821e-02],\n",
       "          [ 1.37333461e-02,  2.05511176e-02,  2.13040077e-02, ...,\n",
       "            2.22961630e-02,  2.68512032e-02,  2.07482414e-02],\n",
       "          [-1.51673917e-03, -9.38763901e-03, -4.81557838e-03, ...,\n",
       "           -2.05278059e-02, -2.99995602e-02, -2.80432782e-02]],\n",
       "  \n",
       "         [[-1.00000000e+00, -1.00000000e+00, -1.00000000e+00, ...,\n",
       "           -1.00000000e+00, -1.00000000e+00, -1.00000000e+00],\n",
       "          [-3.79728082e-02, -5.23365139e-02, -6.09870377e-02, ...,\n",
       "           -4.43654717e-02,  4.64810527e-03,  3.25475269e-02],\n",
       "          [-2.15782437e-01, -3.08620446e-01, -3.76077144e-01, ...,\n",
       "           -2.69169746e-01, -2.38679898e-01, -1.87844310e-01],\n",
       "          ...,\n",
       "          [ 1.04371826e-02,  1.36647613e-02,  1.21357230e-02, ...,\n",
       "            5.11088364e-03,  1.17772962e-03,  3.85848513e-03],\n",
       "          [ 2.26330581e-02,  2.66441686e-02,  2.06536690e-02, ...,\n",
       "            1.98238089e-02,  1.42740025e-02,  1.42269356e-02],\n",
       "          [-2.69236186e-02, -3.41896203e-02, -3.93791118e-02, ...,\n",
       "           -1.28633483e-02, -2.19575820e-02, -2.27007009e-02]],\n",
       "  \n",
       "         [[-1.00000000e+00, -1.00000000e+00, -1.00000000e+00, ...,\n",
       "           -1.00000000e+00, -1.00000000e+00, -1.00000000e+00],\n",
       "          [ 1.67805067e-02, -5.42051497e-03, -8.36455614e-02, ...,\n",
       "           -2.47353884e-02,  4.32246116e-03,  3.49474540e-02],\n",
       "          [-2.08447092e-01, -2.50811514e-01, -3.01774614e-01, ...,\n",
       "           -1.99698483e-01, -1.81173815e-01, -1.38837498e-01],\n",
       "          ...,\n",
       "          [ 1.52846628e-04, -7.41006222e-03,  2.09883395e-02, ...,\n",
       "           -1.52422166e-02, -8.67184834e-03, -4.99254176e-03],\n",
       "          [ 1.70957430e-02,  1.14996458e-02, -2.11122078e-03, ...,\n",
       "            8.02083023e-03,  1.60698431e-02,  1.55993206e-02],\n",
       "          [-2.88076202e-02, -2.75561513e-02, -7.63011546e-03, ...,\n",
       "           -1.62036903e-02, -1.86813482e-02, -1.81492977e-02]]]),\n",
       "  'chroma': array([[[0.45705368, 0.36510644, 1.        , ..., 0.69405934,\n",
       "           0.68307337, 0.37000194],\n",
       "          [0.61913306, 0.40418268, 0.61639109, ..., 1.        ,\n",
       "           0.99598853, 0.59470795],\n",
       "          [0.4044294 , 0.37789571, 0.25607475, ..., 0.6808072 ,\n",
       "           1.        , 1.        ],\n",
       "          ...,\n",
       "          [0.35754365, 0.19012297, 0.05423201, ..., 0.07375896,\n",
       "           0.65735613, 0.51217102],\n",
       "          [0.42670997, 0.19810298, 0.19571045, ..., 0.19418476,\n",
       "           0.36100437, 0.37131856],\n",
       "          [1.        , 1.        , 0.73467459, ..., 0.6700258 ,\n",
       "           0.53110915, 0.28649484]],\n",
       "  \n",
       "         [[0.21474037, 0.05475106, 0.01790058, ..., 0.27206238,\n",
       "           0.11700675, 0.07041661],\n",
       "          [0.25580977, 0.06069663, 0.0178926 , ..., 0.30113138,\n",
       "           0.10232912, 0.05121728],\n",
       "          [0.12998258, 0.03310094, 0.03201717, ..., 0.09278093,\n",
       "           0.02507199, 0.02273562],\n",
       "          ...,\n",
       "          [0.12243839, 0.04717768, 0.03146893, ..., 0.19836505,\n",
       "           0.06743811, 0.06854137],\n",
       "          [0.11666601, 0.03792501, 0.0273314 , ..., 0.14886355,\n",
       "           0.04816066, 0.05605441],\n",
       "          [0.14403906, 0.04154497, 0.01932454, ..., 0.20070921,\n",
       "           0.10187148, 0.08161173]],\n",
       "  \n",
       "         [[0.73328407, 0.28566832, 0.20327247, ..., 1.        ,\n",
       "           1.        , 1.        ],\n",
       "          [0.68817063, 0.72564081, 0.35843549, ..., 0.39781895,\n",
       "           0.46194141, 0.6213176 ],\n",
       "          [0.65556012, 0.80957075, 0.33296922, ..., 0.03374261,\n",
       "           0.09348394, 0.44680949],\n",
       "          ...,\n",
       "          [1.        , 0.38677994, 0.27921555, ..., 0.01739512,\n",
       "           0.03731558, 0.25471791],\n",
       "          [0.50877549, 0.22924879, 0.17421948, ..., 0.0425944 ,\n",
       "           0.04595403, 0.17547282],\n",
       "          [0.70424693, 0.26771726, 0.1774882 , ..., 0.2907226 ,\n",
       "           0.20307236, 0.27696506]],\n",
       "  \n",
       "         ...,\n",
       "  \n",
       "         [[0.51330763, 0.31738165, 0.43066206, ..., 0.13164247,\n",
       "           0.10463944, 0.22032979],\n",
       "          [0.68438195, 0.52924486, 0.67985763, ..., 0.18724733,\n",
       "           0.13467381, 0.17598457],\n",
       "          [1.        , 0.43893276, 0.48438646, ..., 0.16122955,\n",
       "           0.10023251, 0.26644859],\n",
       "          ...,\n",
       "          [0.49295063, 1.        , 1.        , ..., 0.08685577,\n",
       "           0.05901181, 0.11418899],\n",
       "          [0.90568157, 0.60069831, 0.46845354, ..., 0.08986673,\n",
       "           0.0606616 , 0.12929986],\n",
       "          [0.54246366, 0.41646676, 0.28815438, ..., 0.08643994,\n",
       "           0.08645683, 0.26983561]],\n",
       "  \n",
       "         [[0.62894544, 0.84997914, 0.42379057, ..., 0.42862476,\n",
       "           0.51388721, 0.38685475],\n",
       "          [0.17811368, 0.36453106, 0.34433185, ..., 0.74268964,\n",
       "           0.38596732, 0.21773257],\n",
       "          [0.21102257, 0.66236388, 0.76031744, ..., 1.        ,\n",
       "           0.52614895, 0.47576988],\n",
       "          ...,\n",
       "          [0.12932746, 0.3063624 , 0.40347329, ..., 0.40919401,\n",
       "           0.74186425, 0.92817335],\n",
       "          [0.23327287, 0.37141128, 0.44547509, ..., 0.3249197 ,\n",
       "           1.        , 1.        ],\n",
       "          [1.        , 1.        , 0.71975624, ..., 0.3462258 ,\n",
       "           0.62155025, 0.48507436]],\n",
       "  \n",
       "         [[0.59255143, 0.67866958, 0.96886654, ..., 0.68150909,\n",
       "           0.76021787, 0.89571608],\n",
       "          [0.56882295, 0.6064348 , 1.        , ..., 0.43459431,\n",
       "           0.40464122, 0.41110206],\n",
       "          [0.68087127, 0.52435042, 0.77521897, ..., 0.77424923,\n",
       "           0.82781554, 0.5533592 ],\n",
       "          ...,\n",
       "          [0.56038345, 0.67581205, 0.90728781, ..., 0.65443962,\n",
       "           0.73668907, 0.70025498],\n",
       "          [0.67055391, 0.57205637, 0.49513892, ..., 0.8199419 ,\n",
       "           0.50807878, 0.60350397],\n",
       "          [0.82114434, 0.64609978, 0.46340442, ..., 0.69890361,\n",
       "           0.48383798, 0.59338363]]]),\n",
       "  'rms': array([[[3.3467971e-16, 4.0070487e-16, 2.4773185e-06, ...,\n",
       "           4.8679538e-02, 3.4915783e-02, 1.5257582e-02]],\n",
       "  \n",
       "         [[3.7664782e-02, 3.9334305e-02, 4.0531728e-02, ...,\n",
       "           3.2551464e-02, 2.2656469e-02, 2.2296958e-02]],\n",
       "  \n",
       "         [[1.8833430e-02, 2.5647590e-02, 2.7913796e-02, ...,\n",
       "           3.7286103e-02, 3.6265619e-02, 3.6075085e-02]],\n",
       "  \n",
       "         ...,\n",
       "  \n",
       "         [[2.6155091e-03, 4.2751050e-03, 4.7008558e-03, ...,\n",
       "           3.0222377e-03, 2.9431870e-03, 2.5999905e-03]],\n",
       "  \n",
       "         [[1.6264125e-03, 2.0915640e-03, 2.9026957e-03, ...,\n",
       "           1.1826984e-03, 7.3192158e-04, 5.7596772e-04]],\n",
       "  \n",
       "         [[1.1639476e-03, 1.4117084e-03, 1.8001590e-03, ...,\n",
       "           2.9779261e-04, 2.0526910e-04, 1.5897358e-04]]], dtype=float32),\n",
       "  'label': array([1, 1, 1, ..., 5, 5, 5])},\n",
       " 'val': {'melspectrogram': array([[[3.20727065e-05, 1.70512106e-06, 1.61698192e-11, ...,\n",
       "           7.22252679e-15, 2.69283220e-07, 3.39019824e-06],\n",
       "          [3.22422717e-05, 1.71387116e-06, 1.71018208e-11, ...,\n",
       "           8.45951209e-15, 2.72619082e-07, 3.43296506e-06],\n",
       "          [3.25622734e-05, 1.73066317e-06, 2.72505511e-11, ...,\n",
       "           2.73338675e-14, 2.78504740e-07, 3.50895954e-06],\n",
       "          ...,\n",
       "          [5.14212831e-05, 6.76458209e-06, 2.39359128e-06, ...,\n",
       "           6.30893990e-09, 6.11588980e-06, 7.81709836e-05],\n",
       "          [3.93156198e-05, 2.11725020e-06, 1.69905801e-08, ...,\n",
       "           1.81867133e-11, 5.49903895e-06, 7.04596725e-05],\n",
       "          [3.57245249e-05, 1.90032216e-06, 7.52069991e-12, ...,\n",
       "           1.08188427e-14, 5.16713334e-06, 6.62027836e-05]],\n",
       "  \n",
       "         [[7.67939508e-04, 8.86466934e-05, 1.32991794e-14, ...,\n",
       "           1.57970377e-14, 7.55694365e-06, 2.54579127e-05],\n",
       "          [7.69154986e-04, 8.87870046e-05, 1.39016140e-14, ...,\n",
       "           1.65775339e-14, 7.66055853e-06, 2.58148905e-05],\n",
       "          [7.71190660e-04, 8.90219420e-05, 1.12911211e-13, ...,\n",
       "           2.12653285e-14, 7.83495949e-06, 2.64159078e-05],\n",
       "          ...,\n",
       "          [9.45084473e-06, 1.10264178e-06, 3.05756701e-08, ...,\n",
       "           4.18262054e-09, 2.83884946e-05, 9.73770684e-05],\n",
       "          [6.01727539e-06, 7.00735316e-07, 2.08139458e-10, ...,\n",
       "           4.49919935e-11, 2.66796293e-05, 9.15327017e-05],\n",
       "          [3.95455043e-06, 4.62359201e-07, 2.36568448e-13, ...,\n",
       "           1.06233019e-14, 2.56824178e-05, 8.81108068e-05]],\n",
       "  \n",
       "         [[6.48721776e-07, 2.51687682e-08, 1.20811478e-16, ...,\n",
       "           1.30132639e-14, 6.18270368e-05, 6.29146592e-04],\n",
       "          [6.56912517e-07, 2.54913397e-08, 1.48312609e-16, ...,\n",
       "           1.31511495e-14, 6.19198921e-05, 6.30093058e-04],\n",
       "          [6.71581488e-07, 2.60724107e-08, 5.48819244e-16, ...,\n",
       "           1.83047008e-14, 6.20751178e-05, 6.31674541e-04],\n",
       "          ...,\n",
       "          [1.49919305e-05, 5.92901727e-07, 3.65376164e-09, ...,\n",
       "           1.22876564e-08, 9.02803896e-05, 9.21869874e-04],\n",
       "          [1.35024340e-05, 5.32285488e-07, 2.16074121e-11, ...,\n",
       "           3.84824667e-11, 8.35282517e-05, 8.53059152e-04],\n",
       "          [1.26888818e-05, 5.00144981e-07, 4.81409993e-15, ...,\n",
       "           3.21925392e-14, 7.94948751e-05, 8.11916160e-04]],\n",
       "  \n",
       "         ...,\n",
       "  \n",
       "         [[2.79701408e-04, 4.34947074e-05, 4.29942295e-13, ...,\n",
       "           1.26963522e-12, 1.73066861e-05, 1.00663595e-04],\n",
       "          [2.81954846e-04, 4.38518396e-05, 4.53512408e-13, ...,\n",
       "           1.43887940e-12, 1.76455142e-05, 1.02626955e-04],\n",
       "          [2.85739681e-04, 4.44521653e-05, 5.03427081e-13, ...,\n",
       "           1.77615609e-12, 1.82325546e-05, 1.06029656e-04],\n",
       "          ...,\n",
       "          [5.80771124e-07, 9.00255674e-08, 1.56240015e-10, ...,\n",
       "           1.50649080e-11, 5.42662453e-09, 3.23174508e-08],\n",
       "          [5.48062473e-07, 8.46335862e-08, 1.36293422e-13, ...,\n",
       "           3.72605134e-14, 4.41823421e-09, 2.61668936e-08],\n",
       "          [5.32353265e-07, 8.22130062e-08, 3.95376370e-18, ...,\n",
       "           8.03567657e-17, 3.71531077e-09, 2.19502559e-08]],\n",
       "  \n",
       "         [[3.15187499e-06, 2.89428521e-07, 2.70221719e-14, ...,\n",
       "           1.48056737e-15, 2.40914304e-04, 2.51964810e-03],\n",
       "          [3.72881846e-06, 3.38281788e-07, 3.74882083e-14, ...,\n",
       "           5.36750194e-15, 2.43730630e-04, 2.54927003e-03],\n",
       "          [4.72470674e-06, 4.22629644e-07, 5.84173101e-14, ...,\n",
       "           3.12851393e-14, 2.48535438e-04, 2.59982134e-03],\n",
       "          ...,\n",
       "          [9.18194915e-06, 7.65939411e-07, 5.60757571e-16, ...,\n",
       "           1.47036705e-09, 3.81191126e-06, 3.94546596e-05],\n",
       "          [9.00066336e-06, 7.50893994e-07, 4.90253083e-18, ...,\n",
       "           8.23424412e-13, 3.64171086e-06, 3.77191248e-05],\n",
       "          [8.87585337e-06, 7.40518431e-07, 1.12649499e-18, ...,\n",
       "           8.24201731e-15, 3.54080434e-06, 3.66717183e-05]],\n",
       "  \n",
       "         [[7.98440050e-05, 1.07336331e-05, 2.52167341e-12, ...,\n",
       "           1.51385192e-12, 1.12161293e-07, 1.21288623e-06],\n",
       "          [8.14003782e-05, 1.09420324e-05, 2.74702510e-12, ...,\n",
       "           1.64131167e-12, 2.55375556e-07, 3.10978889e-06],\n",
       "          [8.40973909e-05, 1.13036278e-05, 3.16179345e-12, ...,\n",
       "           1.86404934e-12, 5.03657633e-07, 6.39771735e-06],\n",
       "          ...,\n",
       "          [2.59605016e-08, 4.95465925e-09, 2.47782912e-09, ...,\n",
       "           2.91136362e-10, 2.33332568e-07, 3.07955750e-06],\n",
       "          [2.07930317e-08, 2.85055138e-09, 1.14060655e-11, ...,\n",
       "           1.55821794e-12, 2.24607375e-07, 2.97084136e-06],\n",
       "          [1.74360613e-08, 2.37762987e-09, 4.04613665e-15, ...,\n",
       "           4.34750646e-17, 2.19348212e-07, 2.90151027e-06]]]),\n",
       "  'mfcc': array([[[-1.00000000e+00, -1.00000000e+00, -1.00000000e+00, ...,\n",
       "           -1.00000000e+00, -1.00000000e+00, -1.00000000e+00],\n",
       "          [-7.00707010e-04, -1.10340650e-02, -2.53207104e-02, ...,\n",
       "           -1.90162895e-01, -2.16063378e-01, -2.11972315e-01],\n",
       "          [-2.30403412e-04, -1.93250846e-02, -5.28779337e-02, ...,\n",
       "           -3.58255856e-01, -3.05092116e-01, -2.19645277e-01],\n",
       "          ...,\n",
       "          [ 8.92748369e-04,  2.45776340e-03,  6.40560815e-04, ...,\n",
       "           -1.93165006e-02,  1.90836487e-03,  1.53599035e-02],\n",
       "          [-1.01578118e-03,  5.70393629e-04,  4.12071403e-03, ...,\n",
       "            1.80110427e-02,  6.68295572e-03,  2.60244596e-03],\n",
       "          [ 3.89081089e-04,  3.20602251e-03,  3.84064179e-03, ...,\n",
       "            3.76464548e-03,  1.18844310e-02,  1.75205206e-03]],\n",
       "  \n",
       "         [[-1.00000000e+00, -1.00000000e+00, -1.00000000e+00, ...,\n",
       "           -1.00000000e+00, -1.00000000e+00, -1.00000000e+00],\n",
       "          [-5.12846941e-02, -1.29384499e-01, -2.96563590e-01, ...,\n",
       "           -3.22378346e-01, -3.57611828e-01, -3.19196378e-01],\n",
       "          [-1.91341974e-01, -2.70547661e-01, -4.10818698e-01, ...,\n",
       "           -3.41421706e-01, -3.39514598e-01, -3.31654210e-01],\n",
       "          ...,\n",
       "          [ 2.63213212e-02,  7.12581329e-03, -9.82603052e-03, ...,\n",
       "            3.72021912e-02,  6.95291039e-02,  6.34998707e-02],\n",
       "          [-1.50043528e-02, -2.39938207e-03,  2.25641721e-02, ...,\n",
       "            1.39872397e-02, -2.13417097e-02, -4.80909329e-03],\n",
       "          [-1.92396331e-02, -2.11570822e-02, -2.96183110e-02, ...,\n",
       "            7.60861544e-03, -2.59830995e-02, -5.18662556e-02]],\n",
       "  \n",
       "         [[-1.00000000e+00, -1.00000000e+00, -1.00000000e+00, ...,\n",
       "           -1.00000000e+00, -1.00000000e+00, -1.00000000e+00],\n",
       "          [-3.67429024e-01, -4.36197260e-01, -3.82324107e-01, ...,\n",
       "           -2.76487536e-01, -2.77447007e-01, -2.47640669e-01],\n",
       "          [-3.50873655e-01, -4.73527006e-01, -4.95483858e-01, ...,\n",
       "           -2.84991364e-01, -1.49499788e-01, -8.59114143e-02],\n",
       "          ...,\n",
       "          [-2.40434435e-03,  2.33267200e-02,  3.29270512e-02, ...,\n",
       "            2.11940566e-02,  3.57910634e-02,  3.72085897e-02],\n",
       "          [-1.40414450e-02, -4.00139767e-02, -2.50074660e-02, ...,\n",
       "           -1.38567797e-03, -1.01794358e-02, -1.35754487e-02],\n",
       "          [ 2.12173041e-02, -7.31798322e-03, -4.97225087e-02, ...,\n",
       "           -2.48472140e-02, -1.84978586e-02, -6.73953116e-03]],\n",
       "  \n",
       "         ...,\n",
       "  \n",
       "         [[-1.00000000e+00, -1.00000000e+00, -1.00000000e+00, ...,\n",
       "           -1.00000000e+00, -1.00000000e+00, -1.00000000e+00],\n",
       "          [ 2.80163716e-01,  2.19332904e-01, -8.15107010e-02, ...,\n",
       "           -8.26716551e-02,  1.05577206e-01,  2.21011647e-01],\n",
       "          [-4.07582667e-01, -6.18777085e-01, -8.25904061e-01, ...,\n",
       "           -6.43743834e-01, -6.14018277e-01, -5.48936970e-01],\n",
       "          ...,\n",
       "          [-8.81656412e-03, -5.25657818e-03, -7.70787333e-03, ...,\n",
       "            1.24009345e-02,  1.33406868e-03, -8.86914404e-03],\n",
       "          [-3.95639359e-02, -4.27389397e-02, -4.32641553e-02, ...,\n",
       "            1.38211365e-02, -7.94537089e-03, -2.78657214e-03],\n",
       "          [-6.72387684e-03, -2.75625290e-02, -2.09721085e-02, ...,\n",
       "           -1.28641913e-02, -1.87358146e-02, -1.08627330e-02]],\n",
       "  \n",
       "         [[-1.00000000e+00, -1.00000000e+00, -1.00000000e+00, ...,\n",
       "           -1.00000000e+00, -1.00000000e+00, -1.00000000e+00],\n",
       "          [-1.24142996e-01, -2.11746916e-01, -2.43130385e-01, ...,\n",
       "           -8.92769309e-02,  1.41111257e-01,  2.13858641e-01],\n",
       "          [-7.11005566e-01, -8.92337690e-01, -9.38117519e-01, ...,\n",
       "           -6.23224599e-01, -4.48327587e-01, -3.51484677e-01],\n",
       "          ...,\n",
       "          [ 1.28120208e-02,  5.40194878e-03, -1.97636913e-02, ...,\n",
       "            2.55834844e-03,  1.24588481e-02,  1.09743929e-02],\n",
       "          [-3.10807116e-02, -3.94178217e-02, -1.71989381e-02, ...,\n",
       "           -2.85473345e-02, -2.70613184e-02, -1.74758260e-02],\n",
       "          [-2.34571955e-02, -2.48682431e-02, -1.37448813e-02, ...,\n",
       "           -3.06935893e-02, -2.56667784e-02, -1.51426733e-02]],\n",
       "  \n",
       "         [[-1.00000000e+00, -1.00000000e+00, -1.00000000e+00, ...,\n",
       "           -1.00000000e+00, -1.00000000e+00, -1.00000000e+00],\n",
       "          [ 2.15552547e-01,  1.31402513e-01, -6.38143779e-02, ...,\n",
       "           -7.90807029e-02,  1.15629464e-02,  6.70020994e-02],\n",
       "          [-4.70236588e-01, -5.42875709e-01, -6.22507197e-01, ...,\n",
       "           -6.83171343e-01, -5.94067264e-01, -4.77600859e-01],\n",
       "          ...,\n",
       "          [-4.89136489e-03, -1.85415152e-02, -1.90251372e-02, ...,\n",
       "           -1.45361003e-02, -6.08822727e-03, -3.62029856e-03],\n",
       "          [-9.02846018e-03, -5.01169258e-03, -1.04178310e-02, ...,\n",
       "            5.40034614e-03,  7.06046640e-03, -3.46061883e-04],\n",
       "          [-1.66252111e-02, -2.16062380e-02, -2.23465091e-02, ...,\n",
       "           -4.31707575e-02, -3.34089181e-02, -1.43541420e-02]]]),\n",
       "  'chroma': array([[[1.        , 0.76698781, 0.5835686 , ..., 0.37495381,\n",
       "           0.20316086, 0.05185377],\n",
       "          [0.76076327, 0.72283746, 0.69529811, ..., 0.42568056,\n",
       "           0.491869  , 0.45309781],\n",
       "          [0.3631438 , 1.        , 1.        , ..., 1.        ,\n",
       "           1.        , 1.        ],\n",
       "          ...,\n",
       "          [0.2075693 , 0.33043776, 0.52795307, ..., 0.00959495,\n",
       "           0.00907293, 0.00741895],\n",
       "          [0.21526949, 0.3453023 , 0.42528559, ..., 0.02201683,\n",
       "           0.01994017, 0.02485421],\n",
       "          [0.41329967, 0.57715684, 0.56585585, ..., 0.16171153,\n",
       "           0.09878923, 0.05487508]],\n",
       "  \n",
       "         [[1.        , 0.47366975, 0.71683042, ..., 0.05595545,\n",
       "           0.77246438, 0.58880552],\n",
       "          [0.47025013, 0.27056198, 0.33283014, ..., 0.06536368,\n",
       "           0.26742519, 0.13113292],\n",
       "          [0.6108023 , 0.8936805 , 0.95195132, ..., 0.24271686,\n",
       "           0.31832083, 0.1181938 ],\n",
       "          ...,\n",
       "          [0.05754764, 0.05378022, 0.18408856, ..., 0.01206241,\n",
       "           0.20886557, 0.2350149 ],\n",
       "          [0.27952244, 0.22620547, 0.35861111, ..., 0.02338247,\n",
       "           0.43658822, 0.34058818],\n",
       "          [0.90289026, 0.60514437, 0.9665672 , ..., 0.04613008,\n",
       "           1.        , 1.        ]],\n",
       "  \n",
       "         [[0.7929543 , 0.85250382, 0.27835462, ..., 0.48007815,\n",
       "           0.26548429, 0.60113755],\n",
       "          [0.44298594, 0.19803634, 0.04556034, ..., 0.24263328,\n",
       "           0.13359347, 0.31914767],\n",
       "          [1.        , 0.25911703, 0.03755816, ..., 0.26372395,\n",
       "           0.19438117, 0.17534141],\n",
       "          ...,\n",
       "          [0.12840811, 0.04081884, 0.06453507, ..., 0.11298178,\n",
       "           0.07010893, 0.19376349],\n",
       "          [0.24479382, 0.35070196, 1.        , ..., 0.331015  ,\n",
       "           0.29520971, 0.75890213],\n",
       "          [0.63423126, 1.        , 0.82963814, ..., 0.43424193,\n",
       "           0.31626838, 1.        ]],\n",
       "  \n",
       "         ...,\n",
       "  \n",
       "         [[0.06228524, 0.13306582, 0.32886903, ..., 0.22196682,\n",
       "           0.21518645, 0.15597391],\n",
       "          [0.04003751, 0.05897615, 0.1386    , ..., 0.20359081,\n",
       "           0.54895371, 0.59579584],\n",
       "          [0.02875753, 0.07329577, 0.22183365, ..., 0.29516601,\n",
       "           0.64245847, 0.4597945 ],\n",
       "          ...,\n",
       "          [0.05784378, 0.17526172, 0.28401921, ..., 0.6302393 ,\n",
       "           0.49347367, 0.43510616],\n",
       "          [0.06169578, 0.2161168 , 0.30435452, ..., 1.        ,\n",
       "           1.        , 0.51957593],\n",
       "          [0.04986166, 0.17202571, 0.46468163, ..., 0.58150901,\n",
       "           0.44865932, 0.19515259]],\n",
       "  \n",
       "         [[0.17015371, 0.15251171, 0.19879181, ..., 0.66333888,\n",
       "           0.29676765, 0.22544814],\n",
       "          [0.15255713, 0.14943817, 0.18224434, ..., 0.20047005,\n",
       "           0.20523229, 0.25764729],\n",
       "          [0.3900476 , 0.3292578 , 0.36269471, ..., 0.11930049,\n",
       "           0.12660726, 0.12501323],\n",
       "          ...,\n",
       "          [0.22116529, 0.20477083, 0.1768781 , ..., 0.15200358,\n",
       "           0.25794824, 0.40417982],\n",
       "          [0.34408095, 0.39581106, 0.54204244, ..., 0.41448935,\n",
       "           0.81117285, 1.        ],\n",
       "          [0.2252497 , 0.32661762, 0.5609087 , ..., 1.        ,\n",
       "           1.        , 0.83181384]],\n",
       "  \n",
       "         [[0.0472928 , 0.02990529, 0.06585321, ..., 0.21152292,\n",
       "           0.49286147, 0.43660717],\n",
       "          [0.05053186, 0.03958122, 0.06318199, ..., 0.17762474,\n",
       "           0.32017664, 0.40764909],\n",
       "          [0.04972383, 0.03336379, 0.03971065, ..., 0.61213107,\n",
       "           0.71998099, 0.3769125 ],\n",
       "          ...,\n",
       "          [0.36952658, 0.37917759, 0.41633374, ..., 0.16081353,\n",
       "           0.3764299 , 0.57995241],\n",
       "          [0.49747666, 0.30075767, 0.15463732, ..., 0.16903706,\n",
       "           0.19959782, 0.16506534],\n",
       "          [0.19922915, 0.09828857, 0.05475609, ..., 0.21236189,\n",
       "           0.24473608, 0.21440318]]]),\n",
       "  'rms': array([[[5.0537081e-05, 8.7809807e-05, 2.1558917e-04, ...,\n",
       "           3.5072166e-02, 2.2182429e-02, 1.3397392e-02]],\n",
       "  \n",
       "         [[2.2268703e-02, 2.7747450e-02, 2.8174037e-02, ...,\n",
       "           5.4407801e-02, 5.1534221e-02, 4.2299856e-02]],\n",
       "  \n",
       "         [[5.9022203e-02, 7.7420928e-02, 9.1956422e-02, ...,\n",
       "           2.1986639e-02, 2.3460593e-02, 2.2945454e-02]],\n",
       "  \n",
       "         ...,\n",
       "  \n",
       "         [[2.5681421e-02, 3.9317381e-02, 4.6703633e-02, ...,\n",
       "           2.5509870e-02, 2.4106570e-02, 2.0790087e-02]],\n",
       "  \n",
       "         [[6.2689431e-02, 7.5680733e-02, 8.5018814e-02, ...,\n",
       "           2.6503952e-02, 1.7080860e-02, 1.1010036e-02]],\n",
       "  \n",
       "         [[2.0793073e-02, 2.5292618e-02, 3.0307293e-02, ...,\n",
       "           2.0914158e-02, 1.9370038e-02, 1.5021272e-02]]], dtype=float32),\n",
       "  'label': array([1, 1, 1, ..., 5, 5, 5])}}"
      ]
     },
     "execution_count": 125,
     "metadata": {},
     "output_type": "execute_result"
    }
   ],
   "source": [
    "merged_dict = {'train': train_features, 'val': val_features}\n",
    "merged_dict"
   ]
  },
  {
   "cell_type": "markdown",
   "metadata": {},
   "source": [
    "### Save the merged dictionary to a pkl"
   ]
  },
  {
   "cell_type": "code",
   "execution_count": 126,
   "metadata": {},
   "outputs": [],
   "source": [
    "with open('C:/Users/thato/Documents/Final-Year-Project/Dataset/Project-V4/feature-extraction/NotAnnotated/NotAveragePooled/split_features_2s_all.pkl', 'wb') as file:\n",
    "  pickle.dump(merged_dict, file)"
   ]
  }
 ],
 "metadata": {
  "kernelspec": {
   "display_name": "Python 3",
   "language": "python",
   "name": "python3"
  },
  "language_info": {
   "codemirror_mode": {
    "name": "ipython",
    "version": 3
   },
   "file_extension": ".py",
   "mimetype": "text/x-python",
   "name": "python",
   "nbconvert_exporter": "python",
   "pygments_lexer": "ipython3",
   "version": "3.12.4"
  }
 },
 "nbformat": 4,
 "nbformat_minor": 2
}
