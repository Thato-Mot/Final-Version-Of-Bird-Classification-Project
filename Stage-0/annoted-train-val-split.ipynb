{
 "cells": [
  {
   "cell_type": "markdown",
   "metadata": {},
   "source": [
    "# **Consistent Annotated Train-Validation Split**"
   ]
  },
  {
   "cell_type": "markdown",
   "metadata": {},
   "source": [
    "- Just splitting the training data now, so that there is consistency between all the other stages of the training and feature extraction process\n",
    "- It will be a 75-25 split of the training data"
   ]
  },
  {
   "cell_type": "code",
   "execution_count": 1,
   "metadata": {},
   "outputs": [],
   "source": [
    "# Standard libraries\n",
    "import numpy as np\n",
    "import pandas as pd\n",
    "import os\n",
    "import time\n",
    "\n",
    "# Libraries for audio\n",
    "from IPython.display import Audio\n",
    "import librosa\n",
    "\n",
    "# Training and Testing Split\n",
    "from sklearn.model_selection import train_test_split\n",
    "\n",
    "# for normalization & avgpooling features\n",
    "from sklearn.preprocessing import MinMaxScaler # to squeeze all the features to be within 0 and 1\n",
    "import tensorflow as tf\n",
    "\n",
    "# Operational\n",
    "from tqdm import tqdm\n",
    "import matplotlib.pyplot as plt\n",
    "import seaborn as sns\n",
    "import pickle\n",
    "import scipy.ndimage"
   ]
  },
  {
   "cell_type": "code",
   "execution_count": 5,
   "metadata": {},
   "outputs": [],
   "source": [
    "# Variabels to be reused\n",
    "path = 'C:/Users/thato/Documents/Final-Year-Project/Dataset/Project-V4/audio_files' \n",
    "npy_path = 'C:/Users/thato/Documents/Final-Year-Project/Dataset/Project-V4/train_audio_npy/' \n",
    "train_csv = 'C:/Users/thato/Documents/Final-Year-Project/Dataset/Project-V4/train-not-annotated.csv' \n",
    "annotated_train_csv = 'C:/Users/thato/Documents/Final-Year-Project/Dataset/Project-V4/train-annotated.csv'\n",
    "not_annotated_splt = 'C:/Users/thato/Documents/Final-Year-Project/Dataset/Project-V4/trainval-split/trainval.csv'\n",
    "sr = 22050"
   ]
  },
  {
   "cell_type": "code",
   "execution_count": 9,
   "metadata": {},
   "outputs": [
    {
     "data": {
      "text/html": [
       "<div>\n",
       "<style scoped>\n",
       "    .dataframe tbody tr th:only-of-type {\n",
       "        vertical-align: middle;\n",
       "    }\n",
       "\n",
       "    .dataframe tbody tr th {\n",
       "        vertical-align: top;\n",
       "    }\n",
       "\n",
       "    .dataframe thead th {\n",
       "        text-align: right;\n",
       "    }\n",
       "</style>\n",
       "<table border=\"1\" class=\"dataframe\">\n",
       "  <thead>\n",
       "    <tr style=\"text-align: right;\">\n",
       "      <th></th>\n",
       "      <th>Unnamed: 0</th>\n",
       "      <th>species</th>\n",
       "      <th>audio_name</th>\n",
       "      <th>duration</th>\n",
       "      <th>filename_npy</th>\n",
       "      <th>start</th>\n",
       "      <th>end</th>\n",
       "      <th>label</th>\n",
       "    </tr>\n",
       "  </thead>\n",
       "  <tbody>\n",
       "    <tr>\n",
       "      <th>0</th>\n",
       "      <td>0</td>\n",
       "      <td>Ciconia ciconia</td>\n",
       "      <td>XC171088.mp3</td>\n",
       "      <td>32.470204</td>\n",
       "      <td>Ciconia ciconia/XC171088.npy</td>\n",
       "      <td>11.021315</td>\n",
       "      <td>16.283807</td>\n",
       "      <td>clapping</td>\n",
       "    </tr>\n",
       "    <tr>\n",
       "      <th>1</th>\n",
       "      <td>1</td>\n",
       "      <td>Ciconia ciconia</td>\n",
       "      <td>XC171088.mp3</td>\n",
       "      <td>32.470204</td>\n",
       "      <td>Ciconia ciconia/XC171088.npy</td>\n",
       "      <td>19.004347</td>\n",
       "      <td>27.850152</td>\n",
       "      <td>clapping</td>\n",
       "    </tr>\n",
       "    <tr>\n",
       "      <th>2</th>\n",
       "      <td>2</td>\n",
       "      <td>Ciconia ciconia</td>\n",
       "      <td>XC171088.mp3</td>\n",
       "      <td>32.470204</td>\n",
       "      <td>Ciconia ciconia/XC171088.npy</td>\n",
       "      <td>28.105281</td>\n",
       "      <td>29.315961</td>\n",
       "      <td>clapping</td>\n",
       "    </tr>\n",
       "    <tr>\n",
       "      <th>3</th>\n",
       "      <td>3</td>\n",
       "      <td>Alcedo atthis</td>\n",
       "      <td>XC503772.mp3</td>\n",
       "      <td>9.195102</td>\n",
       "      <td>Alcedo atthis/XC503772.npy</td>\n",
       "      <td>1.875801</td>\n",
       "      <td>3.946005</td>\n",
       "      <td>call</td>\n",
       "    </tr>\n",
       "    <tr>\n",
       "      <th>4</th>\n",
       "      <td>4</td>\n",
       "      <td>Alcedo atthis</td>\n",
       "      <td>XC503772.mp3</td>\n",
       "      <td>9.195102</td>\n",
       "      <td>Alcedo atthis/XC503772.npy</td>\n",
       "      <td>4.429412</td>\n",
       "      <td>4.707893</td>\n",
       "      <td>call</td>\n",
       "    </tr>\n",
       "  </tbody>\n",
       "</table>\n",
       "</div>"
      ],
      "text/plain": [
       "   Unnamed: 0          species    audio_name   duration  \\\n",
       "0           0  Ciconia ciconia  XC171088.mp3  32.470204   \n",
       "1           1  Ciconia ciconia  XC171088.mp3  32.470204   \n",
       "2           2  Ciconia ciconia  XC171088.mp3  32.470204   \n",
       "3           3    Alcedo atthis  XC503772.mp3   9.195102   \n",
       "4           4    Alcedo atthis  XC503772.mp3   9.195102   \n",
       "\n",
       "                   filename_npy      start        end     label  \n",
       "0  Ciconia ciconia/XC171088.npy  11.021315  16.283807  clapping  \n",
       "1  Ciconia ciconia/XC171088.npy  19.004347  27.850152  clapping  \n",
       "2  Ciconia ciconia/XC171088.npy  28.105281  29.315961  clapping  \n",
       "3    Alcedo atthis/XC503772.npy   1.875801   3.946005      call  \n",
       "4    Alcedo atthis/XC503772.npy   4.429412   4.707893      call  "
      ]
     },
     "execution_count": 9,
     "metadata": {},
     "output_type": "execute_result"
    }
   ],
   "source": [
    "df_train = pd.read_csv(annotated_train_csv) # Reading in training data\n",
    "df_train.head()"
   ]
  },
  {
   "cell_type": "code",
   "execution_count": 11,
   "metadata": {},
   "outputs": [
    {
     "data": {
      "text/html": [
       "<div>\n",
       "<style scoped>\n",
       "    .dataframe tbody tr th:only-of-type {\n",
       "        vertical-align: middle;\n",
       "    }\n",
       "\n",
       "    .dataframe tbody tr th {\n",
       "        vertical-align: top;\n",
       "    }\n",
       "\n",
       "    .dataframe thead th {\n",
       "        text-align: right;\n",
       "    }\n",
       "</style>\n",
       "<table border=\"1\" class=\"dataframe\">\n",
       "  <thead>\n",
       "    <tr style=\"text-align: right;\">\n",
       "      <th></th>\n",
       "      <th>Unnamed: 0</th>\n",
       "      <th>species</th>\n",
       "      <th>audio_name</th>\n",
       "      <th>duration</th>\n",
       "      <th>filename_npy</th>\n",
       "      <th>set</th>\n",
       "    </tr>\n",
       "  </thead>\n",
       "  <tbody>\n",
       "    <tr>\n",
       "      <th>0</th>\n",
       "      <td>602</td>\n",
       "      <td>Acrocephalus melanopogon</td>\n",
       "      <td>XC542357.mp3</td>\n",
       "      <td>37.955918</td>\n",
       "      <td>Acrocephalus melanopogon/XC542357.npy</td>\n",
       "      <td>tr</td>\n",
       "    </tr>\n",
       "    <tr>\n",
       "      <th>1</th>\n",
       "      <td>195</td>\n",
       "      <td>Acrocephalus melanopogon</td>\n",
       "      <td>XC360704.mp3</td>\n",
       "      <td>18.796553</td>\n",
       "      <td>Acrocephalus melanopogon/XC360704.npy</td>\n",
       "      <td>tr</td>\n",
       "    </tr>\n",
       "    <tr>\n",
       "      <th>2</th>\n",
       "      <td>116</td>\n",
       "      <td>Acrocephalus melanopogon</td>\n",
       "      <td>XC213784.mp3</td>\n",
       "      <td>75.455782</td>\n",
       "      <td>Acrocephalus melanopogon/XC213784.npy</td>\n",
       "      <td>tr</td>\n",
       "    </tr>\n",
       "    <tr>\n",
       "      <th>3</th>\n",
       "      <td>596</td>\n",
       "      <td>Acrocephalus melanopogon</td>\n",
       "      <td>XC358629.mp3</td>\n",
       "      <td>40.449161</td>\n",
       "      <td>Acrocephalus melanopogon/XC358629.npy</td>\n",
       "      <td>tr</td>\n",
       "    </tr>\n",
       "    <tr>\n",
       "      <th>4</th>\n",
       "      <td>219</td>\n",
       "      <td>Acrocephalus melanopogon</td>\n",
       "      <td>XC357368.mp3</td>\n",
       "      <td>86.232018</td>\n",
       "      <td>Acrocephalus melanopogon/XC357368.npy</td>\n",
       "      <td>tr</td>\n",
       "    </tr>\n",
       "  </tbody>\n",
       "</table>\n",
       "</div>"
      ],
      "text/plain": [
       "   Unnamed: 0                   species    audio_name   duration  \\\n",
       "0         602  Acrocephalus melanopogon  XC542357.mp3  37.955918   \n",
       "1         195  Acrocephalus melanopogon  XC360704.mp3  18.796553   \n",
       "2         116  Acrocephalus melanopogon  XC213784.mp3  75.455782   \n",
       "3         596  Acrocephalus melanopogon  XC358629.mp3  40.449161   \n",
       "4         219  Acrocephalus melanopogon  XC357368.mp3  86.232018   \n",
       "\n",
       "                            filename_npy set  \n",
       "0  Acrocephalus melanopogon/XC542357.npy  tr  \n",
       "1  Acrocephalus melanopogon/XC360704.npy  tr  \n",
       "2  Acrocephalus melanopogon/XC213784.npy  tr  \n",
       "3  Acrocephalus melanopogon/XC358629.npy  tr  \n",
       "4  Acrocephalus melanopogon/XC357368.npy  tr  "
      ]
     },
     "execution_count": 11,
     "metadata": {},
     "output_type": "execute_result"
    }
   ],
   "source": [
    "split_df = pd.read_csv(not_annotated_splt) # Reading in train-val split data\n",
    "split_df.head()"
   ]
  },
  {
   "cell_type": "code",
   "execution_count": 4,
   "metadata": {},
   "outputs": [
    {
     "data": {
      "text/plain": [
       "species\n",
       "Dendrocopos minor            378\n",
       "Alcedo atthis                374\n",
       "Ixobrychus minutus           374\n",
       "Acrocephalus arundinaceus    339\n",
       "Motacilla flava              326\n",
       "Botaurus stellaris           281\n",
       "Fulica atra                  276\n",
       "Charadrius alexandrinus      245\n",
       "Gallinula chloropus          216\n",
       "Circus aeruginosus           201\n",
       "Himantopus himantopus        196\n",
       "Acrocephalus melanopogon     179\n",
       "Coracias garrulus            179\n",
       "Ardea purpurea               164\n",
       "Porphyrio porphyrio          161\n",
       "Ciconia ciconia               96\n",
       "Acrocephalus scirpaceus       90\n",
       "Tachybaptus ruficollis        89\n",
       "Anas strepera                 76\n",
       "Anas platyrhynchos            38\n",
       "Name: count, dtype: int64"
      ]
     },
     "execution_count": 4,
     "metadata": {},
     "output_type": "execute_result"
    }
   ],
   "source": [
    "df_train['species'].value_counts()"
   ]
  },
  {
   "cell_type": "code",
   "execution_count": 13,
   "metadata": {},
   "outputs": [
    {
     "data": {
      "text/html": [
       "<div>\n",
       "<style scoped>\n",
       "    .dataframe tbody tr th:only-of-type {\n",
       "        vertical-align: middle;\n",
       "    }\n",
       "\n",
       "    .dataframe tbody tr th {\n",
       "        vertical-align: top;\n",
       "    }\n",
       "\n",
       "    .dataframe thead th {\n",
       "        text-align: right;\n",
       "    }\n",
       "</style>\n",
       "<table border=\"1\" class=\"dataframe\">\n",
       "  <thead>\n",
       "    <tr style=\"text-align: right;\">\n",
       "      <th></th>\n",
       "      <th>Unnamed: 0</th>\n",
       "      <th>species</th>\n",
       "      <th>audio_name</th>\n",
       "      <th>duration</th>\n",
       "      <th>filename_npy</th>\n",
       "      <th>start</th>\n",
       "      <th>end</th>\n",
       "      <th>label</th>\n",
       "      <th>set</th>\n",
       "    </tr>\n",
       "  </thead>\n",
       "  <tbody>\n",
       "    <tr>\n",
       "      <th>0</th>\n",
       "      <td>0</td>\n",
       "      <td>Ciconia ciconia</td>\n",
       "      <td>XC171088.mp3</td>\n",
       "      <td>32.470204</td>\n",
       "      <td>Ciconia ciconia/XC171088.npy</td>\n",
       "      <td>11.021315</td>\n",
       "      <td>16.283807</td>\n",
       "      <td>clapping</td>\n",
       "      <td>tr</td>\n",
       "    </tr>\n",
       "    <tr>\n",
       "      <th>1</th>\n",
       "      <td>1</td>\n",
       "      <td>Ciconia ciconia</td>\n",
       "      <td>XC171088.mp3</td>\n",
       "      <td>32.470204</td>\n",
       "      <td>Ciconia ciconia/XC171088.npy</td>\n",
       "      <td>19.004347</td>\n",
       "      <td>27.850152</td>\n",
       "      <td>clapping</td>\n",
       "      <td>tr</td>\n",
       "    </tr>\n",
       "    <tr>\n",
       "      <th>2</th>\n",
       "      <td>2</td>\n",
       "      <td>Ciconia ciconia</td>\n",
       "      <td>XC171088.mp3</td>\n",
       "      <td>32.470204</td>\n",
       "      <td>Ciconia ciconia/XC171088.npy</td>\n",
       "      <td>28.105281</td>\n",
       "      <td>29.315961</td>\n",
       "      <td>clapping</td>\n",
       "      <td>tr</td>\n",
       "    </tr>\n",
       "    <tr>\n",
       "      <th>3</th>\n",
       "      <td>3</td>\n",
       "      <td>Alcedo atthis</td>\n",
       "      <td>XC503772.mp3</td>\n",
       "      <td>9.195102</td>\n",
       "      <td>Alcedo atthis/XC503772.npy</td>\n",
       "      <td>1.875801</td>\n",
       "      <td>3.946005</td>\n",
       "      <td>call</td>\n",
       "      <td>tr</td>\n",
       "    </tr>\n",
       "    <tr>\n",
       "      <th>4</th>\n",
       "      <td>4</td>\n",
       "      <td>Alcedo atthis</td>\n",
       "      <td>XC503772.mp3</td>\n",
       "      <td>9.195102</td>\n",
       "      <td>Alcedo atthis/XC503772.npy</td>\n",
       "      <td>4.429412</td>\n",
       "      <td>4.707893</td>\n",
       "      <td>call</td>\n",
       "      <td>tr</td>\n",
       "    </tr>\n",
       "  </tbody>\n",
       "</table>\n",
       "</div>"
      ],
      "text/plain": [
       "   Unnamed: 0          species    audio_name   duration  \\\n",
       "0           0  Ciconia ciconia  XC171088.mp3  32.470204   \n",
       "1           1  Ciconia ciconia  XC171088.mp3  32.470204   \n",
       "2           2  Ciconia ciconia  XC171088.mp3  32.470204   \n",
       "3           3    Alcedo atthis  XC503772.mp3   9.195102   \n",
       "4           4    Alcedo atthis  XC503772.mp3   9.195102   \n",
       "\n",
       "                   filename_npy      start        end     label set  \n",
       "0  Ciconia ciconia/XC171088.npy  11.021315  16.283807  clapping  tr  \n",
       "1  Ciconia ciconia/XC171088.npy  19.004347  27.850152  clapping  tr  \n",
       "2  Ciconia ciconia/XC171088.npy  28.105281  29.315961  clapping  tr  \n",
       "3    Alcedo atthis/XC503772.npy   1.875801   3.946005      call  tr  \n",
       "4    Alcedo atthis/XC503772.npy   4.429412   4.707893      call  tr  "
      ]
     },
     "execution_count": 13,
     "metadata": {},
     "output_type": "execute_result"
    }
   ],
   "source": [
    "df = df_train.merge(split_df[['audio_name', 'set']], on='audio_name', how='left')\n",
    "\n",
    "# Check the updated DataFrame\n",
    "df.head()"
   ]
  },
  {
   "cell_type": "code",
   "execution_count": 14,
   "metadata": {},
   "outputs": [
    {
     "data": {
      "text/plain": [
       "set\n",
       "tr     3444\n",
       "val     834\n",
       "Name: count, dtype: int64"
      ]
     },
     "execution_count": 14,
     "metadata": {},
     "output_type": "execute_result"
    }
   ],
   "source": [
    "df['set'].value_counts()"
   ]
  },
  {
   "cell_type": "code",
   "execution_count": 15,
   "metadata": {},
   "outputs": [],
   "source": [
    "filepaths = df['filename_npy']"
   ]
  },
  {
   "cell_type": "code",
   "execution_count": 18,
   "metadata": {},
   "outputs": [
    {
     "name": "stdout",
     "output_type": "stream",
     "text": [
      "All unique audio_name and set pairs match between df_train and split_df.\n"
     ]
    }
   ],
   "source": [
    "# Extract unique combinations of 'audio_name' and 'set' in both DataFrames\n",
    "train_unique = df[['audio_name', 'set']].drop_duplicates().reset_index(drop=True)\n",
    "split_unique = split_df[['audio_name', 'set']].drop_duplicates().reset_index(drop=True)\n",
    "\n",
    "# Sort by 'audio_name' to ensure order is consistent for comparison\n",
    "train_unique = train_unique.sort_values(by='audio_name').reset_index(drop=True)\n",
    "split_unique = split_unique.sort_values(by='audio_name').reset_index(drop=True)\n",
    "\n",
    "if train_unique.equals(split_unique):\n",
    "    print(\"All unique audio_name and set pairs match between df_train and split_df.\")\n",
    "else:\n",
    "    print(\"There are mismatches between df_train and split_df.\")\n",
    "    # Show mismatched rows by doing an anti-join (rows in one DataFrame but not the other)\n",
    "    mismatched_rows = pd.concat([train_unique, split_unique]).drop_duplicates(keep=False)\n",
    "    print(\"Mismatched rows:\")\n",
    "    print(mismatched_rows)"
   ]
  },
  {
   "cell_type": "code",
   "execution_count": 19,
   "metadata": {},
   "outputs": [],
   "source": [
    "df.to_csv('C:/Users/thato/Documents/Final-Year-Project/Dataset/Project-V4/trainval-split/trainval-annotated.csv', index=False)"
   ]
  }
 ],
 "metadata": {
  "kernelspec": {
   "display_name": "Python 3",
   "language": "python",
   "name": "python3"
  },
  "language_info": {
   "codemirror_mode": {
    "name": "ipython",
    "version": 3
   },
   "file_extension": ".py",
   "mimetype": "text/x-python",
   "name": "python",
   "nbconvert_exporter": "python",
   "pygments_lexer": "ipython3",
   "version": "3.12.4"
  }
 },
 "nbformat": 4,
 "nbformat_minor": 2
}
