{
 "cells": [
  {
   "cell_type": "markdown",
   "metadata": {},
   "source": [
    "# **SVM**\n",
    "- Using data that was not annotated\n",
    "- Training it on the unbalanced data\n",
    "- Using avgpool\n",
    "- 2 second window"
   ]
  },
  {
   "cell_type": "code",
   "execution_count": null,
   "metadata": {},
   "outputs": [],
   "source": [
    "# Standard libraries\n",
    "import numpy as np\n",
    "import pandas as pd\n",
    "import time\n",
    "import os\n",
    "\n",
    "# For audio\n",
    "from IPython.display import Audio\n",
    "import librosa\n",
    "\n",
    "# For preprocessing\n",
    "from sklearn.preprocessing import LabelEncoder\n",
    "from sklearn.preprocessing import MinMaxScaler\n",
    "from sklearn.preprocessing import OneHotEncoder\n",
    "import tensorflow as tf\n",
    "\n",
    "# For modeling\n",
    "from sklearn.svm import SVC\n",
    "from sklearn.metrics import classification_report\n",
    "\n",
    "# Operational\n",
    "from tqdm import tqdm\n",
    "import matplotlib.pyplot as plt\n",
    "import seaborn as sns\n",
    "import pickle\n",
    "import scipy.ndimage\n",
    "import pygame\n",
    "import time\n",
    "from scipy.signal import butter, filtfilt\n",
    "import random"
   ]
  },
  {
   "cell_type": "code",
   "execution_count": 2,
   "metadata": {},
   "outputs": [],
   "source": [
    "pkl_path = 'C:/Users/thato/Documents/Final-Year-Project/Dataset/Project-V4/feature-extraction/NotAnnotated/AveragePooled/split_features_2s_all.pkl'\n",
    "\n",
    "# Load the pickle file\n",
    "with open(pkl_path, 'rb') as file:\n",
    "    data = pickle.load(file)"
   ]
  },
  {
   "cell_type": "code",
   "execution_count": 3,
   "metadata": {},
   "outputs": [],
   "source": [
    "train_data = data['train'].copy()\n",
    "val_data = data['val'].copy()"
   ]
  },
  {
   "cell_type": "code",
   "execution_count": null,
   "metadata": {},
   "outputs": [],
   "source": [
    "train_data"
   ]
  },
  {
   "cell_type": "code",
   "execution_count": 5,
   "metadata": {},
   "outputs": [],
   "source": [
    "train_labels = train_data['label'].copy()\n",
    "temp = train_data.copy()\n",
    "del temp['label']\n",
    "tr_features = temp"
   ]
  },
  {
   "cell_type": "code",
   "execution_count": 6,
   "metadata": {},
   "outputs": [],
   "source": [
    "val_labels = val_data['label'].copy()\n",
    "temp = val_data.copy()\n",
    "del temp['label']\n",
    "v_features = temp"
   ]
  },
  {
   "cell_type": "markdown",
   "metadata": {},
   "source": [
    "# Shuffle Data"
   ]
  },
  {
   "cell_type": "code",
   "execution_count": 7,
   "metadata": {},
   "outputs": [],
   "source": [
    "def shuffle_data(input_label, input_features):\n",
    "  input_len = len(input_label)\n",
    "  np.random.seed(1826)\n",
    "  input_indices = np.random.permutation(input_len)\n",
    "  input_features = {key: np.array([input_features[key][i] for i in input_indices]) for key in input_features} # dictionary comprehension\n",
    "  input_label = np.array([input_label[i] for i in input_indices])\n",
    "\n",
    "  return input_label, input_features"
   ]
  },
  {
   "cell_type": "code",
   "execution_count": 8,
   "metadata": {},
   "outputs": [],
   "source": [
    "train_y, train_features = shuffle_data(train_labels, tr_features)"
   ]
  },
  {
   "cell_type": "code",
   "execution_count": 9,
   "metadata": {},
   "outputs": [],
   "source": [
    "val_y, val_features = shuffle_data(val_labels, v_features)"
   ]
  },
  {
   "cell_type": "code",
   "execution_count": null,
   "metadata": {},
   "outputs": [],
   "source": [
    "display(train_y.shape)\n",
    "display(train_y[:15])"
   ]
  },
  {
   "cell_type": "code",
   "execution_count": null,
   "metadata": {},
   "outputs": [],
   "source": [
    "for key in train_features.keys():\n",
    "  display(key)\n",
    "  display(train_features[key].shape)\n",
    "  display(train_features[key][0])"
   ]
  },
  {
   "cell_type": "code",
   "execution_count": null,
   "metadata": {},
   "outputs": [],
   "source": [
    "display(val_y.shape)\n",
    "display(val_y[:15])"
   ]
  },
  {
   "cell_type": "code",
   "execution_count": null,
   "metadata": {},
   "outputs": [],
   "source": [
    "for key in val_features.keys():\n",
    "  display(key)\n",
    "  display(val_features[key].shape)\n",
    "  display(val_features[key][0])"
   ]
  },
  {
   "cell_type": "markdown",
   "metadata": {},
   "source": [
    "## **SVM Model**"
   ]
  },
  {
   "cell_type": "code",
   "execution_count": null,
   "metadata": {},
   "outputs": [],
   "source": [
    "train_results = {}\n",
    "val_results = {}"
   ]
  },
  {
   "cell_type": "markdown",
   "metadata": {},
   "source": [
    "### **With all the features**"
   ]
  },
  {
   "cell_type": "code",
   "execution_count": null,
   "metadata": {},
   "outputs": [],
   "source": [
    "training_features = np.concatenate((train_features['mfcc'], train_features['chroma'], train_features['rms'], train_features['melspectrogram']), axis=1)\n",
    "\n",
    "training_features.shape"
   ]
  },
  {
   "cell_type": "code",
   "execution_count": null,
   "metadata": {},
   "outputs": [],
   "source": [
    "validation_features = np.concatenate((val_features['mfcc'], val_features['chroma'], val_features['rms'], val_features['melspectrogram']), axis=1)\n",
    "\n",
    "validation_features.shape"
   ]
  },
  {
   "cell_type": "markdown",
   "metadata": {},
   "source": [
    "Fit the model with training data"
   ]
  },
  {
   "cell_type": "code",
   "execution_count": null,
   "metadata": {},
   "outputs": [],
   "source": [
    "model = SVC(kernel='rbf', C=4)\n",
    "model.fit(training_features, train_y)"
   ]
  },
  {
   "cell_type": "code",
   "execution_count": null,
   "metadata": {},
   "outputs": [],
   "source": [
    "print('Training accuracy:', model.score(training_features, train_y))\n",
    "train_results['all_features'] = model.score(training_features, train_y)\n",
    "\n",
    "print('Validation accuracy:', model.score(validation_features, val_y))\n",
    "val_results['all_features'] = model.score(validation_features, val_y)"
   ]
  },
  {
   "cell_type": "code",
   "execution_count": null,
   "metadata": {},
   "outputs": [],
   "source": [
    "train_yhat_result = model.predict(training_features)\n",
    "\n",
    "print('Training classification Report \\n')\n",
    "print(classification_report(train_y, train_yhat_result))"
   ]
  },
  {
   "cell_type": "code",
   "execution_count": null,
   "metadata": {},
   "outputs": [],
   "source": [
    "val_yhat_result = model.predict(validation_features)\n",
    "\n",
    "print('Validation classification Report \\n')\n",
    "print(classification_report(val_y, val_yhat_result))"
   ]
  },
  {
   "cell_type": "markdown",
   "metadata": {},
   "source": [
    "### **With MFCCs only**"
   ]
  },
  {
   "cell_type": "code",
   "execution_count": null,
   "metadata": {},
   "outputs": [],
   "source": [
    "training_features = train_features['mfcc']\n",
    "\n",
    "training_features.shape"
   ]
  },
  {
   "cell_type": "code",
   "execution_count": null,
   "metadata": {},
   "outputs": [],
   "source": [
    "validation_features = val_features['mfcc']\n",
    "\n",
    "validation_features.shape"
   ]
  },
  {
   "cell_type": "code",
   "execution_count": null,
   "metadata": {},
   "outputs": [],
   "source": [
    "model = SVC(kernel='rbf', C=4)\n",
    "model.fit(training_features, train_y)"
   ]
  },
  {
   "cell_type": "code",
   "execution_count": null,
   "metadata": {},
   "outputs": [],
   "source": [
    "print('Training accuracy:', model.score(training_features, train_y))\n",
    "train_results['mfcc'] = model.score(training_features, train_y)\n",
    "\n",
    "print('Validation accuracy:', model.score(validation_features, val_y))\n",
    "val_results['mfcc'] = model.score(validation_features, val_y)"
   ]
  },
  {
   "cell_type": "markdown",
   "metadata": {},
   "source": [
    "### **With Mel-Spectrogram Only**"
   ]
  },
  {
   "cell_type": "code",
   "execution_count": null,
   "metadata": {},
   "outputs": [],
   "source": [
    "training_features = train_features['melspectrogram']\n",
    "\n",
    "training_features.shape"
   ]
  },
  {
   "cell_type": "code",
   "execution_count": null,
   "metadata": {},
   "outputs": [],
   "source": [
    "validation_features = val_features['melspectrogram']\n",
    "\n",
    "validation_features.shape"
   ]
  },
  {
   "cell_type": "code",
   "execution_count": null,
   "metadata": {},
   "outputs": [],
   "source": [
    "model = SVC(kernel='rbf', C=4)\n",
    "model.fit(training_features, train_y)"
   ]
  },
  {
   "cell_type": "code",
   "execution_count": null,
   "metadata": {},
   "outputs": [],
   "source": [
    "print('Training accuracy:', model.score(training_features, train_y))\n",
    "train_results['melspectrogram'] = model.score(training_features, train_y)\n",
    "\n",
    "print('Validation accuracy:', model.score(validation_features, val_y))\n",
    "val_results['melspectrogram'] = model.score(validation_features, val_y)"
   ]
  },
  {
   "cell_type": "markdown",
   "metadata": {},
   "source": [
    "## **With MFCCs and Mel-Spectrogram**"
   ]
  },
  {
   "cell_type": "code",
   "execution_count": null,
   "metadata": {},
   "outputs": [],
   "source": [
    "training_features = np.concatenate((train_features['mfcc'], train_features['melspectrogram']), axis=1)\n",
    "\n",
    "training_features.shape"
   ]
  },
  {
   "cell_type": "code",
   "execution_count": null,
   "metadata": {},
   "outputs": [],
   "source": [
    "validation_features = np.concatenate((val_features['mfcc'], val_features['melspectrogram']), axis=1)\n",
    "\n",
    "validation_features.shape"
   ]
  },
  {
   "cell_type": "code",
   "execution_count": null,
   "metadata": {},
   "outputs": [],
   "source": [
    "model = SVC(kernel='rbf', C=4)\n",
    "model.fit(training_features, train_y)"
   ]
  },
  {
   "cell_type": "code",
   "execution_count": null,
   "metadata": {},
   "outputs": [],
   "source": [
    "print('Training accuracy:', model.score(training_features, train_y))\n",
    "train_results['mfcc_melspectrogram'] = model.score(training_features, train_y)\n",
    "\n",
    "print('Validation accuracy:', model.score(validation_features, val_y))\n",
    "val_results['mfcc_melspectrogram'] = model.score(validation_features, val_y)"
   ]
  },
  {
   "cell_type": "markdown",
   "metadata": {},
   "source": [
    "## **With MFCCs and Chroma**"
   ]
  },
  {
   "cell_type": "code",
   "execution_count": null,
   "metadata": {},
   "outputs": [],
   "source": [
    "training_features = np.concatenate((train_features['mfcc'], train_features['chroma']), axis=1)\n",
    "\n",
    "training_features.shape"
   ]
  },
  {
   "cell_type": "code",
   "execution_count": null,
   "metadata": {},
   "outputs": [],
   "source": [
    "validation_features = np.concatenate((val_features['mfcc'], val_features['chroma']), axis=1)\n",
    "\n",
    "validation_features.shape"
   ]
  },
  {
   "cell_type": "code",
   "execution_count": null,
   "metadata": {},
   "outputs": [],
   "source": [
    "model = SVC(kernel='rbf', C=4)\n",
    "model.fit(training_features, train_y)"
   ]
  },
  {
   "cell_type": "code",
   "execution_count": null,
   "metadata": {},
   "outputs": [],
   "source": [
    "print('Training accuracy:', model.score(training_features, train_y))\n",
    "train_results['mfcc_chroma'] = model.score(training_features, train_y)\n",
    "\n",
    "print('Validation accuracy:', model.score(validation_features, val_y))\n",
    "val_results['mfcc_chroma'] = model.score(validation_features, val_y)"
   ]
  },
  {
   "cell_type": "markdown",
   "metadata": {},
   "source": [
    "## **With MFCCs and RMS**"
   ]
  },
  {
   "cell_type": "code",
   "execution_count": null,
   "metadata": {},
   "outputs": [],
   "source": [
    "training_features = np.concatenate((train_features['mfcc'], train_features['rms']), axis=1)\n",
    "\n",
    "training_features.shape"
   ]
  },
  {
   "cell_type": "code",
   "execution_count": null,
   "metadata": {},
   "outputs": [],
   "source": [
    "validation_features = np.concatenate((val_features['mfcc'], val_features['rms']), axis=1)\n",
    "\n",
    "validation_features.shape"
   ]
  },
  {
   "cell_type": "code",
   "execution_count": null,
   "metadata": {},
   "outputs": [],
   "source": [
    "model = SVC(kernel='rbf', C=4)\n",
    "model.fit(training_features, train_y)"
   ]
  },
  {
   "cell_type": "code",
   "execution_count": null,
   "metadata": {},
   "outputs": [],
   "source": [
    "print('Training accuracy:', model.score(training_features, train_y))\n",
    "train_results['mfcc_rms'] = model.score(training_features, train_y)\n",
    "\n",
    "print('Validation accuracy:', model.score(validation_features, val_y))\n",
    "val_results['mfcc_rms'] = model.score(validation_features, val_y)"
   ]
  },
  {
   "cell_type": "markdown",
   "metadata": {},
   "source": [
    "## **With Mel-Spectrogram and Chroma**"
   ]
  },
  {
   "cell_type": "code",
   "execution_count": null,
   "metadata": {},
   "outputs": [],
   "source": [
    "training_features = np.concatenate((train_features['melspectrogram'], train_features['chroma']), axis=1)\n",
    "\n",
    "training_features.shape"
   ]
  },
  {
   "cell_type": "code",
   "execution_count": null,
   "metadata": {},
   "outputs": [],
   "source": [
    "validation_features = np.concatenate((val_features['melspectrogram'], val_features['chroma']), axis=1)\n",
    "\n",
    "validation_features.shape"
   ]
  },
  {
   "cell_type": "code",
   "execution_count": null,
   "metadata": {},
   "outputs": [],
   "source": [
    "model = SVC(kernel='rbf', C=4)\n",
    "model.fit(training_features, train_y)"
   ]
  },
  {
   "cell_type": "code",
   "execution_count": null,
   "metadata": {},
   "outputs": [],
   "source": [
    "print('Training accuracy:', model.score(training_features, train_y))\n",
    "train_results['melspectrogram_chroma'] = model.score(training_features, train_y)\n",
    "\n",
    "print('Validation accuracy:', model.score(validation_features, val_y))\n",
    "val_results['melspectrogram_chroma'] = model.score(validation_features, val_y)"
   ]
  },
  {
   "cell_type": "markdown",
   "metadata": {},
   "source": [
    "## **With Mel-Spectrogram, MFCCs, RMS**"
   ]
  },
  {
   "cell_type": "code",
   "execution_count": null,
   "metadata": {},
   "outputs": [],
   "source": [
    "training_features = np.concatenate((train_features['melspectrogram'], train_features['rms'], train_features['mfcc']), axis=1)\n",
    "\n",
    "training_features.shape"
   ]
  },
  {
   "cell_type": "code",
   "execution_count": null,
   "metadata": {},
   "outputs": [],
   "source": [
    "validation_features = np.concatenate((val_features['melspectrogram'], val_features['rms'], val_features['mfcc']), axis=1)\n",
    "\n",
    "validation_features.shape"
   ]
  },
  {
   "cell_type": "code",
   "execution_count": null,
   "metadata": {},
   "outputs": [],
   "source": [
    "model = SVC(kernel='rbf', C=4)\n",
    "model.fit(training_features, train_y)"
   ]
  },
  {
   "cell_type": "code",
   "execution_count": null,
   "metadata": {},
   "outputs": [],
   "source": [
    "print('Training accuracy:', model.score(training_features, train_y))\n",
    "train_results['melspectrogram_rms_mfcc'] = model.score(training_features, train_y)\n",
    "\n",
    "print('Validation accuracy:', model.score(validation_features, val_y))\n",
    "val_results['melspectrogram_rms_mfcc'] = model.score(validation_features, val_y)"
   ]
  },
  {
   "cell_type": "markdown",
   "metadata": {},
   "source": [
    "## **With Mel-Spectrogram, MFCCs, Chroma**"
   ]
  },
  {
   "cell_type": "code",
   "execution_count": null,
   "metadata": {},
   "outputs": [],
   "source": [
    "training_features = np.concatenate((train_features['melspectrogram'], train_features['chroma'], train_features['mfcc']), axis=1)\n",
    "\n",
    "training_features.shape"
   ]
  },
  {
   "cell_type": "code",
   "execution_count": null,
   "metadata": {},
   "outputs": [],
   "source": [
    "validation_features = np.concatenate((val_features['melspectrogram'], val_features['chroma'], val_features['mfcc']), axis=1)\n",
    "\n",
    "validation_features.shape"
   ]
  },
  {
   "cell_type": "code",
   "execution_count": null,
   "metadata": {},
   "outputs": [],
   "source": [
    "model = SVC(kernel='rbf', C=4)\n",
    "model.fit(training_features, train_y)"
   ]
  },
  {
   "cell_type": "code",
   "execution_count": null,
   "metadata": {},
   "outputs": [],
   "source": [
    "print('Training accuracy:', model.score(training_features, train_y))\n",
    "train_results['melspectrogram_chroma_mfcc'] = model.score(training_features, train_y)\n",
    "\n",
    "print('Validation accuracy:', model.score(validation_features, val_y))\n",
    "val_results['melspectrogram_chroma_mfcc'] = model.score(validation_features, val_y)"
   ]
  },
  {
   "cell_type": "markdown",
   "metadata": {},
   "source": [
    "# Review results from all models"
   ]
  },
  {
   "cell_type": "code",
   "execution_count": null,
   "metadata": {},
   "outputs": [],
   "source": [
    "train_results_df = pd.DataFrame(list(train_results.items()), columns=['Features', 'Train_Accuracy']).round(2)\n",
    "val_results_df = pd.DataFrame(list(val_results.items()), columns=['Features', 'Val_Accuracy']).round(2)\n",
    "\n",
    "result_df = train_results_df.merge(val_results_df, on='Features')\n",
    "result_df = result_df.sort_values('Val_Accuracy')\n",
    "result_df"
   ]
  }
 ],
 "metadata": {
  "kernelspec": {
   "display_name": "Python 3",
   "language": "python",
   "name": "python3"
  },
  "language_info": {
   "codemirror_mode": {
    "name": "ipython",
    "version": 3
   },
   "file_extension": ".py",
   "mimetype": "text/x-python",
   "name": "python",
   "nbconvert_exporter": "python",
   "pygments_lexer": "ipython3",
   "version": "3.12.4"
  }
 },
 "nbformat": 4,
 "nbformat_minor": 2
}
