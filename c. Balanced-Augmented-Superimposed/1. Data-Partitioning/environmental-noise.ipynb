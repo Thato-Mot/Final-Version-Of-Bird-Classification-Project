{
 "cells": [
  {
   "cell_type": "markdown",
   "metadata": {},
   "source": [
    "# ** Notebook To Use Noise Samples With The Bird Samples **\n",
    "\n",
    "- I am using the FSC22 dataset for this and im going to filter out the noises i don't want"
   ]
  },
  {
   "cell_type": "code",
   "execution_count": 1,
   "metadata": {},
   "outputs": [],
   "source": [
    "# Standard libraries\n",
    "import numpy as np\n",
    "import pandas as pd\n",
    "import os\n",
    "import time\n",
    "\n",
    "# Libraries for audio\n",
    "from IPython.display import Audio\n",
    "import librosa\n",
    "\n",
    "# Training and Testing Split\n",
    "from sklearn.model_selection import train_test_split\n",
    "\n",
    "# Splitting data\n",
    "import tensorflow as tf\n",
    "\n",
    "# Operational\n",
    "from tqdm import tqdm\n",
    "import matplotlib.pyplot as plt\n",
    "import seaborn as sns\n",
    "import time\n",
    "import random\n",
    "import IPython.display as ipd"
   ]
  },
  {
   "cell_type": "code",
   "execution_count": 3,
   "metadata": {},
   "outputs": [
    {
     "data": {
      "text/html": [
       "<div>\n",
       "<style scoped>\n",
       "    .dataframe tbody tr th:only-of-type {\n",
       "        vertical-align: middle;\n",
       "    }\n",
       "\n",
       "    .dataframe tbody tr th {\n",
       "        vertical-align: top;\n",
       "    }\n",
       "\n",
       "    .dataframe thead th {\n",
       "        text-align: right;\n",
       "    }\n",
       "</style>\n",
       "<table border=\"1\" class=\"dataframe\">\n",
       "  <thead>\n",
       "    <tr style=\"text-align: right;\">\n",
       "      <th></th>\n",
       "      <th>Source File Name</th>\n",
       "      <th>Dataset File Name</th>\n",
       "      <th>Class ID</th>\n",
       "      <th>Class Name</th>\n",
       "    </tr>\n",
       "  </thead>\n",
       "  <tbody>\n",
       "    <tr>\n",
       "      <th>0</th>\n",
       "      <td>17548__A.wav</td>\n",
       "      <td>1_10101.wav</td>\n",
       "      <td>1</td>\n",
       "      <td>Fire</td>\n",
       "    </tr>\n",
       "    <tr>\n",
       "      <th>1</th>\n",
       "      <td>17548_B.wav</td>\n",
       "      <td>1_10102.wav</td>\n",
       "      <td>1</td>\n",
       "      <td>Fire</td>\n",
       "    </tr>\n",
       "    <tr>\n",
       "      <th>2</th>\n",
       "      <td>17548_C.wav</td>\n",
       "      <td>1_10103.wav</td>\n",
       "      <td>1</td>\n",
       "      <td>Fire</td>\n",
       "    </tr>\n",
       "    <tr>\n",
       "      <th>3</th>\n",
       "      <td>17548_D.wav</td>\n",
       "      <td>1_10104.wav</td>\n",
       "      <td>1</td>\n",
       "      <td>Fire</td>\n",
       "    </tr>\n",
       "    <tr>\n",
       "      <th>4</th>\n",
       "      <td>17548_E.wav</td>\n",
       "      <td>1_10105.wav</td>\n",
       "      <td>1</td>\n",
       "      <td>Fire</td>\n",
       "    </tr>\n",
       "  </tbody>\n",
       "</table>\n",
       "</div>"
      ],
      "text/plain": [
       "  Source File Name Dataset File Name  Class ID Class Name\n",
       "0     17548__A.wav       1_10101.wav         1       Fire\n",
       "1      17548_B.wav       1_10102.wav         1       Fire\n",
       "2      17548_C.wav       1_10103.wav         1       Fire\n",
       "3      17548_D.wav       1_10104.wav         1       Fire\n",
       "4      17548_E.wav       1_10105.wav         1       Fire"
      ]
     },
     "execution_count": 3,
     "metadata": {},
     "output_type": "execute_result"
    }
   ],
   "source": [
    "# Locations\n",
    "path = 'C:/Users/thato/Documents/Final-Year-Project/Dataset/Final-Version-Of-Bird-Classification-Project/EnvironmentalNoise/Audio Wise V1.0/' # Where all the species are stored\n",
    "input_file = 'C:/Users/thato/Documents/Final-Year-Project/Dataset/Final-Version-Of-Bird-Classification-Project/EnvironmentalNoise/Metadata V1.0 FSC22.csv' # raw metadata\n",
    "df = pd.read_csv(input_file, delimiter=',')\n",
    "sr = 22050\n",
    "df.head()"
   ]
  },
  {
   "cell_type": "code",
   "execution_count": 4,
   "metadata": {},
   "outputs": [
    {
     "data": {
      "text/plain": [
       "Class Name\n",
       "Fire             75\n",
       "Gunshot          75\n",
       "WolfHowl         75\n",
       "Lion             75\n",
       "WingFlaping      75\n",
       "BirdChirping     75\n",
       "Frog             75\n",
       "Insect           75\n",
       "Clapping         75\n",
       "Footsteps        75\n",
       "Speaking         75\n",
       "Whistling        75\n",
       "WoodChop         75\n",
       "Firework         75\n",
       "Rain             75\n",
       "Handsaw          75\n",
       "Generator        75\n",
       "Chainsaw         75\n",
       "Axe              75\n",
       "VehicleEngine    75\n",
       "Helicopter       75\n",
       "TreeFalling      75\n",
       "Silence          75\n",
       "Wind             75\n",
       "WaterDrops       75\n",
       "Thunderstorm     75\n",
       "Squirrel         75\n",
       "Name: count, dtype: int64"
      ]
     },
     "execution_count": 4,
     "metadata": {},
     "output_type": "execute_result"
    }
   ],
   "source": [
    "df['Class Name'].value_counts()"
   ]
  },
  {
   "cell_type": "code",
   "execution_count": 5,
   "metadata": {},
   "outputs": [],
   "source": [
    "interestedclasses = ['Fire', 'Rain', 'Silence', 'Wind']"
   ]
  },
  {
   "cell_type": "code",
   "execution_count": 6,
   "metadata": {},
   "outputs": [
    {
     "data": {
      "text/html": [
       "<div>\n",
       "<style scoped>\n",
       "    .dataframe tbody tr th:only-of-type {\n",
       "        vertical-align: middle;\n",
       "    }\n",
       "\n",
       "    .dataframe tbody tr th {\n",
       "        vertical-align: top;\n",
       "    }\n",
       "\n",
       "    .dataframe thead th {\n",
       "        text-align: right;\n",
       "    }\n",
       "</style>\n",
       "<table border=\"1\" class=\"dataframe\">\n",
       "  <thead>\n",
       "    <tr style=\"text-align: right;\">\n",
       "      <th></th>\n",
       "      <th>Source File Name</th>\n",
       "      <th>Dataset File Name</th>\n",
       "      <th>Class ID</th>\n",
       "      <th>Class Name</th>\n",
       "    </tr>\n",
       "  </thead>\n",
       "  <tbody>\n",
       "    <tr>\n",
       "      <th>0</th>\n",
       "      <td>17548__A.wav</td>\n",
       "      <td>1_10101.wav</td>\n",
       "      <td>1</td>\n",
       "      <td>Fire</td>\n",
       "    </tr>\n",
       "    <tr>\n",
       "      <th>1</th>\n",
       "      <td>17548_B.wav</td>\n",
       "      <td>1_10102.wav</td>\n",
       "      <td>1</td>\n",
       "      <td>Fire</td>\n",
       "    </tr>\n",
       "    <tr>\n",
       "      <th>2</th>\n",
       "      <td>17548_C.wav</td>\n",
       "      <td>1_10103.wav</td>\n",
       "      <td>1</td>\n",
       "      <td>Fire</td>\n",
       "    </tr>\n",
       "    <tr>\n",
       "      <th>3</th>\n",
       "      <td>17548_D.wav</td>\n",
       "      <td>1_10104.wav</td>\n",
       "      <td>1</td>\n",
       "      <td>Fire</td>\n",
       "    </tr>\n",
       "    <tr>\n",
       "      <th>4</th>\n",
       "      <td>17548_E.wav</td>\n",
       "      <td>1_10105.wav</td>\n",
       "      <td>1</td>\n",
       "      <td>Fire</td>\n",
       "    </tr>\n",
       "  </tbody>\n",
       "</table>\n",
       "</div>"
      ],
      "text/plain": [
       "  Source File Name Dataset File Name  Class ID Class Name\n",
       "0     17548__A.wav       1_10101.wav         1       Fire\n",
       "1      17548_B.wav       1_10102.wav         1       Fire\n",
       "2      17548_C.wav       1_10103.wav         1       Fire\n",
       "3      17548_D.wav       1_10104.wav         1       Fire\n",
       "4      17548_E.wav       1_10105.wav         1       Fire"
      ]
     },
     "execution_count": 6,
     "metadata": {},
     "output_type": "execute_result"
    }
   ],
   "source": [
    "filtered_df = df[df['Class Name'].isin(interestedclasses)]\n",
    "\n",
    "filtered_df.head()"
   ]
  },
  {
   "cell_type": "code",
   "execution_count": 7,
   "metadata": {},
   "outputs": [
    {
     "data": {
      "text/plain": [
       "Class Name\n",
       "Fire       75\n",
       "Rain       75\n",
       "Wind       75\n",
       "Silence    75\n",
       "Name: count, dtype: int64"
      ]
     },
     "execution_count": 7,
     "metadata": {},
     "output_type": "execute_result"
    }
   ],
   "source": [
    "filtered_df['Class Name'].value_counts()"
   ]
  },
  {
   "cell_type": "markdown",
   "metadata": {},
   "source": [
    "Im stopping here. It just clicked that imma need labelled data for the training, validation, and the testing to ensure that it works properly. As a ground truth referecne for a \"no call\" thing. Coz i just thought of adding a second class to the training set to identify no calls. But i would need to actually label the no calls in the data set so that when i do testing, i know what is there when i evaluate. \n",
    "\n",
    "So basically, I would need to do either of the following:\n",
    "- Use the annotated data, and remove the sections with the bird call from the audio sample and make the remainder of that sample a \"no call\" class. That is a whole other research project on its own so imma leave it there. I was planning on using the FSC22 dataset with forest sounds, but nah. Too much thinking that would need to go about completing this. Coz this will help with non annotated data classification... where if i window an audio and there is no bird call, it can accurately classify it as no call. SO its for future recommendations fr. "
   ]
  },
  {
   "cell_type": "markdown",
   "metadata": {},
   "source": [
    "In considering the inclusion of a \"no call\" class, it became clear that labeled data across the training, validation, and testing sets is essential for robust evaluation. This would ensure the model can accurately distinguish between bird calls and non-calls during testing, providing a ground truth reference for sections without bird sounds.\n",
    "\n",
    "One potential approach would be to utilize annotated data, removing the sections containing bird calls and labeling the remaining audio as a \"no call\" class. However, this would essentially require a separate research effort, as it would involve additional preprocessing and could be complex, especially when dealing with large datasets or unannotated audio.\n",
    "\n",
    "Although integrating datasets like FSC22 (forest sounds) to address non-call classification for unannotated data is a valid idea, the complexity of completing this task outweighs its immediate benefits. Therefore, while I acknowledge the importance of classifying \"no call\" sections, I recommend this as a potential direction for future work, particularly for enhancing the model’s performance on unannotated audio.\n",
    "\n",
    "It can be found here https://www.kaggle.com/datasets/irmiot22/fsc22-dataset and here https://www.mdpi.com/1424-8220/23/4/2032 "
   ]
  },
  {
   "cell_type": "code",
   "execution_count": null,
   "metadata": {},
   "outputs": [],
   "source": []
  }
 ],
 "metadata": {
  "kernelspec": {
   "display_name": "Python 3",
   "language": "python",
   "name": "python3"
  },
  "language_info": {
   "codemirror_mode": {
    "name": "ipython",
    "version": 3
   },
   "file_extension": ".py",
   "mimetype": "text/x-python",
   "name": "python",
   "nbconvert_exporter": "python",
   "pygments_lexer": "ipython3",
   "version": "3.12.4"
  }
 },
 "nbformat": 4,
 "nbformat_minor": 2
}
