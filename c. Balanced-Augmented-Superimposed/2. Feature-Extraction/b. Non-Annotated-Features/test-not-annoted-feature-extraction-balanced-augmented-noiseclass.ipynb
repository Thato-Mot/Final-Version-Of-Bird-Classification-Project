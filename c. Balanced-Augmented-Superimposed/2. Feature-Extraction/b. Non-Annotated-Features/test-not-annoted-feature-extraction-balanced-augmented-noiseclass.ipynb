{
 "cells": [
  {
   "cell_type": "markdown",
   "metadata": {},
   "source": [
    "# **Feature Extraction Methods: Balanced Data With Annotations and Augmentation**\n",
    "\n",
    "- *Key Features*: [MFCCs, Mel-Spectrograms, Chroma Frequencies, RMS Power]\n",
    "- *Key Manipulations*: [Varying Window Sizes, Normalization, Average Pooling (Compression), Filtering]\n",
    "- *Process Assistence*: [Converting them to numpy arrays now, easy label access across features]\n",
    "- *Conversion*: [To numpy arrays and pkl files]\n"
   ]
  },
  {
   "cell_type": "code",
   "execution_count": 1,
   "metadata": {},
   "outputs": [],
   "source": [
    "# Standard libraries\n",
    "import numpy as np\n",
    "import pandas as pd\n",
    "import os\n",
    "import time\n",
    "\n",
    "# Libraries for audio\n",
    "from IPython.display import Audio\n",
    "import librosa\n",
    "import librosa.display\n",
    "\n",
    "# Training and Testing Split\n",
    "from sklearn.model_selection import train_test_split\n",
    "\n",
    "# for normalization & avgpooling features\n",
    "import tensorflow as tf\n",
    "# for preprocessing\n",
    "from sklearn.preprocessing import LabelEncoder\n",
    "from sklearn.preprocessing import MinMaxScaler\n",
    "from sklearn.preprocessing import OneHotEncoder\n",
    "from sklearn.utils import resample\n",
    "\n",
    "# Operational\n",
    "from tqdm import tqdm\n",
    "import matplotlib.pyplot as plt\n",
    "import seaborn as sns\n",
    "import pickle\n",
    "import time\n",
    "import random\n",
    "import IPython.display as ipd"
   ]
  },
  {
   "cell_type": "code",
   "execution_count": 9,
   "metadata": {},
   "outputs": [],
   "source": [
    "# Variabels to be reused\n",
    "path =        'C:/Users/thato/Documents/Final-Year-Project/Dataset/Project-V4/audio_files' \n",
    "npy_path =    'C:/Users/thato/Documents/Final-Year-Project/Dataset/test_audio_npy/' \n",
    "test_csv =    'C:/Users/thato/Documents/Final-Year-Project/Dataset/Project-V4/test-not-annotated.csv' \n",
    "sr = 22050"
   ]
  },
  {
   "cell_type": "code",
   "execution_count": 10,
   "metadata": {},
   "outputs": [],
   "source": [
    "test_data = pd.read_csv(test_csv)"
   ]
  },
  {
   "cell_type": "code",
   "execution_count": 11,
   "metadata": {},
   "outputs": [
    {
     "data": {
      "text/plain": [
       "species\n",
       "Charadrius alexandrinus      25\n",
       "Himantopus himantopus        25\n",
       "Botaurus stellaris           22\n",
       "Tachybaptus ruficollis       22\n",
       "Fulica atra                  20\n",
       "Alcedo atthis                15\n",
       "Gallinula chloropus          14\n",
       "Circus aeruginosus           14\n",
       "Acrocephalus scirpaceus      12\n",
       "Ciconia ciconia              12\n",
       "Motacilla flava              11\n",
       "Ixobrychus minutus           11\n",
       "Porphyrio porphyrio          11\n",
       "Ardea purpurea               10\n",
       "Coracias garrulus            10\n",
       "Acrocephalus melanopogon      9\n",
       "Dendrocopos minor             7\n",
       "Anas platyrhynchos            7\n",
       "Acrocephalus arundinaceus     5\n",
       "Anas strepera                 2\n",
       "Name: count, dtype: int64"
      ]
     },
     "execution_count": 11,
     "metadata": {},
     "output_type": "execute_result"
    }
   ],
   "source": [
    "test_data['species'].value_counts()"
   ]
  },
  {
   "cell_type": "code",
   "execution_count": 12,
   "metadata": {},
   "outputs": [
    {
     "data": {
      "text/html": [
       "<div>\n",
       "<style scoped>\n",
       "    .dataframe tbody tr th:only-of-type {\n",
       "        vertical-align: middle;\n",
       "    }\n",
       "\n",
       "    .dataframe tbody tr th {\n",
       "        vertical-align: top;\n",
       "    }\n",
       "\n",
       "    .dataframe thead th {\n",
       "        text-align: right;\n",
       "    }\n",
       "</style>\n",
       "<table border=\"1\" class=\"dataframe\">\n",
       "  <thead>\n",
       "    <tr style=\"text-align: right;\">\n",
       "      <th></th>\n",
       "      <th>Unnamed: 0</th>\n",
       "      <th>species</th>\n",
       "      <th>audio_name</th>\n",
       "      <th>duration</th>\n",
       "      <th>filename_npy</th>\n",
       "    </tr>\n",
       "  </thead>\n",
       "  <tbody>\n",
       "    <tr>\n",
       "      <th>0</th>\n",
       "      <td>0</td>\n",
       "      <td>Acrocephalus scirpaceus</td>\n",
       "      <td>XC421435.mp3</td>\n",
       "      <td>9.247347</td>\n",
       "      <td>Acrocephalus scirpaceus/XC421435.npy</td>\n",
       "    </tr>\n",
       "    <tr>\n",
       "      <th>1</th>\n",
       "      <td>1</td>\n",
       "      <td>Tachybaptus ruficollis</td>\n",
       "      <td>XC459394.mp3</td>\n",
       "      <td>7.784490</td>\n",
       "      <td>Tachybaptus ruficollis/XC459394.npy</td>\n",
       "    </tr>\n",
       "    <tr>\n",
       "      <th>2</th>\n",
       "      <td>2</td>\n",
       "      <td>Fulica atra</td>\n",
       "      <td>XC543771.mp3</td>\n",
       "      <td>3.059002</td>\n",
       "      <td>Fulica atra/XC543771.npy</td>\n",
       "    </tr>\n",
       "    <tr>\n",
       "      <th>3</th>\n",
       "      <td>3</td>\n",
       "      <td>Coracias garrulus</td>\n",
       "      <td>XC318427.mp3</td>\n",
       "      <td>760.058776</td>\n",
       "      <td>Coracias garrulus/XC318427.npy</td>\n",
       "    </tr>\n",
       "    <tr>\n",
       "      <th>4</th>\n",
       "      <td>4</td>\n",
       "      <td>Circus aeruginosus</td>\n",
       "      <td>XC100621.mp3</td>\n",
       "      <td>18.840000</td>\n",
       "      <td>Circus aeruginosus/XC100621.npy</td>\n",
       "    </tr>\n",
       "  </tbody>\n",
       "</table>\n",
       "</div>"
      ],
      "text/plain": [
       "   Unnamed: 0                  species    audio_name    duration  \\\n",
       "0           0  Acrocephalus scirpaceus  XC421435.mp3    9.247347   \n",
       "1           1   Tachybaptus ruficollis  XC459394.mp3    7.784490   \n",
       "2           2              Fulica atra  XC543771.mp3    3.059002   \n",
       "3           3        Coracias garrulus  XC318427.mp3  760.058776   \n",
       "4           4       Circus aeruginosus  XC100621.mp3   18.840000   \n",
       "\n",
       "                           filename_npy  \n",
       "0  Acrocephalus scirpaceus/XC421435.npy  \n",
       "1   Tachybaptus ruficollis/XC459394.npy  \n",
       "2              Fulica atra/XC543771.npy  \n",
       "3        Coracias garrulus/XC318427.npy  \n",
       "4       Circus aeruginosus/XC100621.npy  "
      ]
     },
     "execution_count": 12,
     "metadata": {},
     "output_type": "execute_result"
    }
   ],
   "source": [
    "test_data.head()"
   ]
  },
  {
   "cell_type": "markdown",
   "metadata": {},
   "source": [
    "# **Creating a class to do the extraction**"
   ]
  },
  {
   "cell_type": "code",
   "execution_count": 16,
   "metadata": {},
   "outputs": [],
   "source": [
    "class Extraction:\n",
    "  def __init__(self, test_df, window_size, overlap=0.5, npy_path=npy_path, sr=sr, n_mels=128, n_mfcc=20, n_chroma=12, n_cqt=84, hoplength=256, features=['mfcc'], normalize=True, avgpool=False, augment=False):\n",
    "    \"\"\"\n",
    "    Instantiate the Extraction class to extract features.\n",
    "\n",
    "    Parameters:\n",
    "      sr (int): Sample rate of the audio files.\n",
    "      n_mfccs (int): Number of MFCCs to extract.\n",
    "      n_mels (int): Number of Mel bands to extract.\n",
    "      n_chroma (int): Number of chroma bins to use.\n",
    "      n_cqt (int): Number of CQT bins to use.\n",
    "      features (list): List of features to extract.\n",
    "        accepted features: 'mfcc', 'chroma', 'cqt', 'melspectrogram'.\n",
    "      normalize (bool): Whether to normalize the features.\n",
    "      avgpool (bool): Whether to avgpool the features.\n",
    "    \"\"\"\n",
    "    \n",
    "    self.test_df = test_df\n",
    "    self.npy_path = npy_path\n",
    "    self.window_size = window_size\n",
    "    self.overlap = overlap\n",
    "    self.sr = sr\n",
    "    self.n_mels = n_mels\n",
    "    self.n_mfcc = n_mfcc\n",
    "    self.n_chroma = n_chroma\n",
    "    self.n_cqt = n_cqt\n",
    "    self.hoplength = hoplength\n",
    "    \n",
    "     # confirm features have been specified\n",
    "    assert len(features) != 0, \"Must Specify At Least One Feature In The Form Of A List.\"\n",
    "    self.features = features\n",
    "\n",
    "    self.accepted_feature = ['mfcc', 'chroma', 'cqt', 'melspectrogram']\n",
    "    for feature in self.features:\n",
    "      assert feature in self.accepted_feature, f\"{feature} is not an accepted feature, only 'mfcc', 'chroma', 'cqt', 'melspectrogram' are accepted features.\"\n",
    "\n",
    "    self.normalize = normalize\n",
    "    self.avgpool = avgpool\n",
    "    self.augment = augment\n",
    "\n",
    "    print(f\"Test DataFrame shape: {test_df.shape}\")\n",
    "\n",
    "    # extract train and val labels and features\n",
    "    self.test_y, self.test_features, self.test_ids = self.feature_extraction(self.test_df, window_size=self.window_size)\n",
    "\n",
    "    # process the features by average pooling\n",
    "    self.test_features_2D, self.test_features_1D,  = self.process_features(self.test_features)\n",
    "\n",
    "  def random_augmentation(self, audio):\n",
    "        \"\"\"\n",
    "        Apply random augmentation to the audio: pitch shift, time stretch, or add noise.\n",
    "        \"\"\"\n",
    "        aug_type = np.random.choice(['pitch_up', 'pitch_down', 'noise', 'stretch', 'shrink'])\n",
    "\n",
    "        if aug_type == 'pitch_up':\n",
    "            # Random pitch up (between 1 and 4 semitones)\n",
    "            pitch_shift = np.random.uniform(1, 4)\n",
    "            audio = librosa.effects.pitch_shift(audio, sr=self.sr, n_steps=pitch_shift)\n",
    "        elif aug_type == 'pitch_down':\n",
    "            # Random pitch down (between -1 and -4 semitones)\n",
    "            pitch_shift = np.random.uniform(-4, -1)\n",
    "            audio = librosa.effects.pitch_shift(audio, sr=self.sr, n_steps=pitch_shift)\n",
    "        elif aug_type == 'noise':\n",
    "            # Add random noise at a fraction of the original audio volume\n",
    "            noise = self.generate_pink_noise(len(audio))\n",
    "            audio = audio + 0.01 * np.random.uniform(0.2, 0.5) * np.max(audio) * noise\n",
    "        elif aug_type == 'stretch':\n",
    "            # Randomly stretch audio (speed up)\n",
    "            stretch_factor = np.random.uniform(1.1, 1.5)\n",
    "            audio = librosa.effects.time_stretch(audio, rate=stretch_factor)\n",
    "        elif aug_type == 'shrink':\n",
    "            # Randomly shrink audio (slow down)\n",
    "            stretch_factor = np.random.uniform(0.8, 0.9)\n",
    "            audio = librosa.effects.time_stretch(audio, rate=stretch_factor)\n",
    "\n",
    "        return audio\n",
    "\n",
    "  def normalize_audio(self, audio):\n",
    "    return (audio - np.min(audio)) / (np.max(audio) - np.min(audio))\n",
    "  \n",
    "  def generate_pink_noise(self, num_samples):\n",
    "    white_noise = np.random.randn(num_samples)\n",
    "    \n",
    "    # Apply a filter to convert white noise into pink noise (1/f noise)\n",
    "    X = np.fft.rfft(white_noise)\n",
    "    S = np.arange(1, len(X) + 1)  # Frequency scaling\n",
    "    pink_noise = np.fft.irfft(X / S)\n",
    "\n",
    "    if len(pink_noise) < num_samples:\n",
    "        # Pad with zeros if the length is less than num_samples\n",
    "        pink_noise = np.pad(pink_noise, (0, num_samples - len(pink_noise)), mode='constant')\n",
    "    elif len(pink_noise) > num_samples:\n",
    "        # Trim if necessary\n",
    "        pink_noise = pink_noise[:num_samples]\n",
    "    \n",
    "    return self.normalize_audio(pink_noise)\n",
    "  \n",
    "  def pad_with_noise(self, audio_data, window_length, window_samples):\n",
    "    current_length = librosa.get_duration(y=audio_data, sr=self.sr)\n",
    "\n",
    "    if current_length > window_length:\n",
    "        return audio_data\n",
    "    \n",
    "    target_length_samples = int(window_length * sr) \n",
    "    current_length_samples = window_samples\n",
    "    padding_length_samples = target_length_samples - current_length_samples\n",
    "\n",
    "    assert target_length_samples == (current_length_samples+padding_length_samples)\n",
    "    \n",
    "    # Generate pink noise to pad with\n",
    "    pink_noise = self.generate_pink_noise(padding_length_samples)\n",
    "    padded_audio = np.concatenate([audio_data, pink_noise])\n",
    "    # if len(padded_audio) < target_length_samples:\n",
    "    #     padded_audio = np.append(padded_audio, self.generate_pink_noise(1))\n",
    "\n",
    "    assert target_length_samples == len(padded_audio)\n",
    "    \n",
    "    return padded_audio\n",
    "  \n",
    "  def avg_pooling_keras(self, feature):\n",
    "    # Clear the previous Keras session\n",
    "    tf.keras.backend.clear_session()\n",
    "\n",
    "    # Define the input shape based on features\n",
    "    input_shape = feature.shape[1:]  # (n_mels, time_steps)\n",
    "\n",
    "    # Create the Keras model for average pooling\n",
    "    inputs = tf.keras.layers.Input(shape=input_shape)\n",
    "    pooled = tf.keras.layers.GlobalAveragePooling1D()(inputs)\n",
    "    pooling_model = tf.keras.models.Model(inputs=inputs, outputs=pooled)\n",
    "\n",
    "    # Perform pooling using the model\n",
    "    pooled_features = pooling_model.predict(feature)\n",
    "\n",
    "    return pooled_features\n",
    "\n",
    "#-------------------------Feature Extraction---------------------------------------\n",
    "  def extract_mfcc(self, window):\n",
    "    mfcc = librosa.feature.mfcc(y=window, sr=self.sr, n_mfcc=self.n_mfcc, hop_length=self.hoplength)\n",
    "    if self.normalize:\n",
    "      return librosa.util.normalize(mfcc)\n",
    "    else:\n",
    "      return mfcc\n",
    "\n",
    "\n",
    "  def extract_chroma(self, window):\n",
    "    chroma = librosa.feature.chroma_stft(y=window, sr=self.sr, n_chroma=self.n_chroma, hop_length=self.hoplength)\n",
    "    if self.normalize:\n",
    "      return librosa.util.normalize(chroma)\n",
    "    else:\n",
    "      return chroma\n",
    "   \n",
    "\n",
    "  def extract_cqt(self, window):\n",
    "    cqt = librosa.cqt(y=window, sr=sr, hop_length=self.hoplength, n_bins=self.n_cqt)\n",
    "    cqt_db = librosa.amplitude_to_db(np.abs(cqt), ref=np.max)\n",
    "    return cqt_db\n",
    "\n",
    "  def extract_melspectrogram(self, window):\n",
    "    mel = librosa.feature.melspectrogram(y=window, sr=self.sr, n_mels=self.n_mels, hop_length=self.hoplength)\n",
    "    mel_db = librosa.power_to_db(mel, ref=np.max)\n",
    "    if self.normalize:\n",
    "      return librosa.util.normalize(mel_db)\n",
    "    else:\n",
    "      return mel_db\n",
    "    \n",
    "  def avgpooling(self, train_X, n_time, n_features):\n",
    "    \"\"\"\n",
    "    Average pooling the train and val features.\n",
    "\n",
    "    Parameters:\n",
    "      train_X (npy): Training feature array of shape (batch_size, n_features, n_time)\n",
    "      val_X (npy): Validation feature array of shape (batch_size, n_features, n_time)\n",
    "      n_time (int): Time axis\n",
    "      n_features (int): Feature axis\n",
    "\n",
    "    Returns:\n",
    "      train_X (npy): Avgpooled training feature array of shape (batch_size, n_features)\n",
    "      val_X (npy): Avgpooled validation feature array of shape (batch_size, n_features)\n",
    "    \"\"\"\n",
    "    # Clear the Keras session\n",
    "    tf.keras.backend.clear_session()\n",
    "    \n",
    "    # Create the Keras input layer with shape (n_features, n_time)\n",
    "    input_layer = tf.keras.layers.Input(shape=(n_features, n_time))\n",
    "    \n",
    "    # Apply average pooling over the time axis (axis=-1) to reduce n_time\n",
    "    avg_pool = tf.keras.layers.Lambda(lambda x: tf.reduce_mean(x, axis=-1))(input_layer)\n",
    "    \n",
    "    # Build the model\n",
    "    pooling_model = tf.keras.models.Model(inputs=input_layer, outputs=avg_pool)\n",
    "\n",
    "    # Use the model to apply average pooling on the training and validation features\n",
    "    train_X = pooling_model.predict(train_X)\n",
    "\n",
    "    return train_X\n",
    "\n",
    "    \n",
    "  def process_features(self, train_features_dict):\n",
    "    train_copy = train_features_dict.copy()\n",
    "    for each in train_copy.keys():\n",
    "      \n",
    "      if each == 'mfcc':\n",
    "        n_features=self.n_mfcc\n",
    "      elif each == 'chroma':\n",
    "        n_features=self.n_chroma\n",
    "      elif each == 'cqt':\n",
    "        n_features=self.n_cqt\n",
    "      elif each == 'melspectrogram':\n",
    "        n_features=self.n_mels\n",
    "      \n",
    "      train_feature = train_copy[each]\n",
    "\n",
    "      if self.avgpool:\n",
    "        train_copy[each] = self.avgpooling(train_feature, n_time=train_feature.shape[2], n_features=n_features)\n",
    "      else:\n",
    "        train_copy[each] = train_copy[each]\n",
    "    \n",
    "    return train_features_dict, train_copy\n",
    "      \n",
    "\n",
    "  def feature_extraction(self, dataframe, window_size):\n",
    "    y = [] # To hold the labels\n",
    "    ids = []\n",
    "    features_dict = {item: [] for item in self.features} # Create a key for each feature listed\n",
    "    print(f\"Number of rows in dataframe: {len(dataframe)}\")\n",
    "    for _, row in tqdm(dataframe.iterrows(), desc=\"Processing data\", total=len(dataframe)):\n",
    "          label = row['species']\n",
    "          file_path =  os.path.join(self.npy_path, row['filename_npy'])\n",
    "          id = row['audio_name']\n",
    "          \n",
    "\n",
    "          # print(f\"Processing file: {file_path}\")\n",
    "\n",
    "          try:\n",
    "            \n",
    "              audio = np.load(file_path)\n",
    "          except FileNotFoundError:\n",
    "              print(f\"File not found: {file_path}\")\n",
    "              continue\n",
    "\n",
    "\n",
    "          sample = audio.copy()\n",
    "\n",
    "          if len(sample) < 512:\n",
    "                continue\n",
    "\n",
    "          sample = self.normalize_audio(sample)\n",
    "\n",
    "          sample = self.pad_with_noise(sample, window_length=self.window_size, window_samples=len(sample))\n",
    "          \n",
    "\n",
    "          window_samples = int(window_size * self.sr)\n",
    "          hop_samples = int(window_samples * (1 - self.overlap))  # For overlapping\n",
    "\n",
    "          # Break the audio into windows with the specified overlap\n",
    "          audio_windows = librosa.util.frame(sample, frame_length=window_samples, hop_length=hop_samples).T\n",
    "          \n",
    "          \n",
    "          # display(label)\n",
    "          \n",
    "          for _, window in enumerate(audio_windows):\n",
    "              \n",
    "              y.append(label)\n",
    "              ids.append(id)\n",
    "\n",
    "              if len(window) < window_samples:\n",
    "                  if len(window) < 512*2:\n",
    "                     continue\n",
    "                  else:\n",
    "                      window = self.pad_with_noise(window, window_length=window_size)\n",
    "              \n",
    "              # Feature Extraction FR --------------------------------------------------------------------\n",
    "              # dynatically call the extract_x function to extract the listed features\n",
    "              for feature in self.features:\n",
    "                extract = f\"extract_{feature}\"\n",
    "                if hasattr(self, extract) and callable(func := getattr(self, extract)):\n",
    "                  features_dict[feature].append(func(window))\n",
    "\n",
    "          # cast lists to np arrays\n",
    "    for each in features_dict.keys():\n",
    "              features_dict[each] = np.array(features_dict[each])\n",
    "\n",
    "    y = np.array(y)\n",
    "    ids = np.array(ids)\n",
    "\n",
    "          # If not using average pooling, return resized features\n",
    "    return y, features_dict, ids"
   ]
  },
  {
   "cell_type": "markdown",
   "metadata": {},
   "source": [
    "## **Window Size = 3s**"
   ]
  },
  {
   "cell_type": "code",
   "execution_count": 14,
   "metadata": {},
   "outputs": [],
   "source": [
    "features_list = ['melspectrogram', 'mfcc', 'chroma', 'cqt']"
   ]
  },
  {
   "cell_type": "code",
   "execution_count": 17,
   "metadata": {},
   "outputs": [
    {
     "name": "stdout",
     "output_type": "stream",
     "text": [
      "Test DataFrame shape: (264, 5)\n",
      "Number of rows in dataframe: 264\n"
     ]
    },
    {
     "name": "stderr",
     "output_type": "stream",
     "text": [
      "Processing data:   0%|          | 0/264 [00:00<?, ?it/s]c:\\Users\\thato\\AppData\\Local\\Programs\\Python\\Python312\\Lib\\site-packages\\librosa\\core\\pitch.py:101: UserWarning: Trying to estimate tuning from empty frequency set.\n",
      "  return pitch_tuning(\n",
      "Processing data: 100%|██████████| 264/264 [08:33<00:00,  1.94s/it]\n"
     ]
    },
    {
     "name": "stdout",
     "output_type": "stream",
     "text": [
      "WARNING:tensorflow:From c:\\Users\\thato\\AppData\\Local\\Programs\\Python\\Python312\\Lib\\site-packages\\keras\\src\\backend\\common\\global_state.py:82: The name tf.reset_default_graph is deprecated. Please use tf.compat.v1.reset_default_graph instead.\n",
      "\n",
      "\u001b[1m230/230\u001b[0m \u001b[32m━━━━━━━━━━━━━━━━━━━━\u001b[0m\u001b[37m\u001b[0m \u001b[1m0s\u001b[0m 1ms/step\n",
      "\u001b[1m230/230\u001b[0m \u001b[32m━━━━━━━━━━━━━━━━━━━━\u001b[0m\u001b[37m\u001b[0m \u001b[1m0s\u001b[0m 665us/step\n",
      "\u001b[1m230/230\u001b[0m \u001b[32m━━━━━━━━━━━━━━━━━━━━\u001b[0m\u001b[37m\u001b[0m \u001b[1m0s\u001b[0m 672us/step\n",
      "\u001b[1m230/230\u001b[0m \u001b[32m━━━━━━━━━━━━━━━━━━━━\u001b[0m\u001b[37m\u001b[0m \u001b[1m0s\u001b[0m 985us/step\n"
     ]
    }
   ],
   "source": [
    "features = Extraction(test_data,\n",
    "                      window_size=3,\n",
    "                      features=features_list,\n",
    "                      avgpool=True\n",
    "                      )"
   ]
  },
  {
   "cell_type": "code",
   "execution_count": 18,
   "metadata": {},
   "outputs": [
    {
     "data": {
      "text/plain": [
       "(7349,)"
      ]
     },
     "metadata": {},
     "output_type": "display_data"
    }
   ],
   "source": [
    "test_y = features.test_y\n",
    "\n",
    "display(test_y.shape)"
   ]
  },
  {
   "cell_type": "code",
   "execution_count": 19,
   "metadata": {},
   "outputs": [
    {
     "data": {
      "text/plain": [
       "'melspectrogram'"
      ]
     },
     "metadata": {},
     "output_type": "display_data"
    },
    {
     "data": {
      "text/plain": [
       "(7349, 128)"
      ]
     },
     "metadata": {},
     "output_type": "display_data"
    },
    {
     "data": {
      "text/plain": [
       "'mfcc'"
      ]
     },
     "metadata": {},
     "output_type": "display_data"
    },
    {
     "data": {
      "text/plain": [
       "(7349, 20)"
      ]
     },
     "metadata": {},
     "output_type": "display_data"
    },
    {
     "data": {
      "text/plain": [
       "'chroma'"
      ]
     },
     "metadata": {},
     "output_type": "display_data"
    },
    {
     "data": {
      "text/plain": [
       "(7349, 12)"
      ]
     },
     "metadata": {},
     "output_type": "display_data"
    },
    {
     "data": {
      "text/plain": [
       "'cqt'"
      ]
     },
     "metadata": {},
     "output_type": "display_data"
    },
    {
     "data": {
      "text/plain": [
       "(7349, 84)"
      ]
     },
     "metadata": {},
     "output_type": "display_data"
    }
   ],
   "source": [
    "# Avgpooled Features\n",
    "test_features_1D = features.test_features_1D\n",
    "for key in test_features_1D.keys():\n",
    "  display(key)\n",
    "  display(test_features_1D[key].shape)"
   ]
  },
  {
   "cell_type": "code",
   "execution_count": 20,
   "metadata": {},
   "outputs": [
    {
     "data": {
      "text/plain": [
       "'melspectrogram'"
      ]
     },
     "metadata": {},
     "output_type": "display_data"
    },
    {
     "data": {
      "text/plain": [
       "(7349, 128, 259)"
      ]
     },
     "metadata": {},
     "output_type": "display_data"
    },
    {
     "data": {
      "text/plain": [
       "'mfcc'"
      ]
     },
     "metadata": {},
     "output_type": "display_data"
    },
    {
     "data": {
      "text/plain": [
       "(7349, 20, 259)"
      ]
     },
     "metadata": {},
     "output_type": "display_data"
    },
    {
     "data": {
      "text/plain": [
       "'chroma'"
      ]
     },
     "metadata": {},
     "output_type": "display_data"
    },
    {
     "data": {
      "text/plain": [
       "(7349, 12, 259)"
      ]
     },
     "metadata": {},
     "output_type": "display_data"
    },
    {
     "data": {
      "text/plain": [
       "'cqt'"
      ]
     },
     "metadata": {},
     "output_type": "display_data"
    },
    {
     "data": {
      "text/plain": [
       "(7349, 84, 259)"
      ]
     },
     "metadata": {},
     "output_type": "display_data"
    }
   ],
   "source": [
    "# Not avgpooled Features\n",
    "test_features_2D = features.test_features_2D\n",
    "for key in test_features_2D.keys():\n",
    "  display(key)\n",
    "  display(test_features_2D[key].shape)"
   ]
  },
  {
   "cell_type": "code",
   "execution_count": 21,
   "metadata": {},
   "outputs": [],
   "source": [
    "test_ids = features.test_ids"
   ]
  },
  {
   "cell_type": "markdown",
   "metadata": {},
   "source": [
    "### Encode Classes"
   ]
  },
  {
   "cell_type": "code",
   "execution_count": 22,
   "metadata": {},
   "outputs": [
    {
     "name": "stdout",
     "output_type": "stream",
     "text": [
      "Encoded classes: ['Acrocephalus arundinaceus', 'Acrocephalus melanopogon', 'Acrocephalus scirpaceus', 'Alcedo atthis', 'Anas platyrhynchos', 'Anas strepera', 'Ardea purpurea', 'Botaurus stellaris', 'Charadrius alexandrinus', 'Ciconia ciconia', 'Circus aeruginosus', 'Coracias garrulus', 'Dendrocopos minor', 'Fulica atra', 'Gallinula chloropus', 'Himantopus himantopus', 'Ixobrychus minutus', 'Motacilla flava', 'Porphyrio porphyrio', 'Tachybaptus ruficollis']\n",
      "Encoded training labels: [2 2 2 ... 3 3 3]\n"
     ]
    }
   ],
   "source": [
    "label_encoder = LabelEncoder().fit(test_y)\n",
    "test_y_encoded = label_encoder.transform(test_y)\n",
    "\n",
    "classes = list(label_encoder.inverse_transform([0, 1, 2, 3, 4, 5, 6, 7, 8, 9, 10, 11, 12, 13, 14, 15, 16, 17, 18, 19]))\n",
    "print(\"Encoded classes:\", classes)\n",
    "print(\"Encoded training labels:\", test_y_encoded)"
   ]
  },
  {
   "cell_type": "code",
   "execution_count": 23,
   "metadata": {},
   "outputs": [],
   "source": [
    "# Avg Pooled\n",
    "\n",
    "test_features_1D['label'] = test_y_encoded\n",
    "\n",
    "\n",
    "test_features_1D['id'] = test_ids\n",
    "\n",
    "\n",
    "# Not Avg Pooled\n",
    "\n",
    "test_features_2D['label'] = test_y_encoded\n",
    "\n",
    "test_features_2D['id'] = test_ids\n"
   ]
  },
  {
   "cell_type": "code",
   "execution_count": 24,
   "metadata": {},
   "outputs": [
    {
     "data": {
      "text/plain": [
       "{'test': {'melspectrogram': array([[-0.0176525 , -0.97828585, -0.98017514, ..., -0.71472144,\n",
       "          -0.747796  , -0.8750666 ],\n",
       "         [-0.01765439, -0.9782942 , -0.98016405, ..., -0.7101959 ,\n",
       "          -0.74066454, -0.8719466 ],\n",
       "         [-0.01765663, -0.9784361 , -0.98033446, ..., -0.7191713 ,\n",
       "          -0.7481973 , -0.87630737],\n",
       "         ...,\n",
       "         [-0.0203373 , -0.9024343 , -0.88190603, ..., -0.8073667 ,\n",
       "          -0.8481265 , -0.9984192 ],\n",
       "         [-0.01999963, -0.8998117 , -0.8703364 , ..., -0.8076148 ,\n",
       "          -0.84703326, -0.99737525],\n",
       "         [-0.01995196, -0.9041279 , -0.86233217, ..., -0.80547255,\n",
       "          -0.8468942 , -0.99675184]], dtype=float32),\n",
       "  'mfcc': array([[-0.99985766, -0.26917735, -0.1320615 , ...,  0.03152308,\n",
       "           0.02190971,  0.04245044],\n",
       "         [-0.9994832 , -0.3066085 , -0.15518537, ...,  0.03022101,\n",
       "           0.0339629 ,  0.04487871],\n",
       "         [-0.9997456 , -0.29917315, -0.14050432, ...,  0.03299716,\n",
       "           0.03303996,  0.04636334],\n",
       "         ...,\n",
       "         [-0.99992496,  0.19538318, -0.04242224, ...,  0.03309016,\n",
       "           0.01544069,  0.04799609],\n",
       "         [-0.9997039 ,  0.20319754, -0.07188876, ...,  0.03713803,\n",
       "           0.01563275,  0.0571596 ],\n",
       "         [-0.9997746 ,  0.22089642, -0.0956148 , ...,  0.0368475 ,\n",
       "           0.00916694,  0.06667244]], dtype=float32),\n",
       "  'chroma': array([[0.49866223, 0.53505766, 0.55154496, ..., 0.6836404 , 0.61944985,\n",
       "          0.5178189 ],\n",
       "         [0.43195713, 0.5123356 , 0.5300091 , ..., 0.7521752 , 0.5731768 ,\n",
       "          0.42335355],\n",
       "         [0.46380705, 0.5419118 , 0.5826819 , ..., 0.7156221 , 0.5514029 ,\n",
       "          0.43539083],\n",
       "         ...,\n",
       "         [0.7310933 , 0.8019032 , 0.8570771 , ..., 0.793597  , 0.70879483,\n",
       "          0.6784344 ],\n",
       "         [0.7008187 , 0.76325846, 0.8177195 , ..., 0.76363623, 0.6767001 ,\n",
       "          0.63579077],\n",
       "         [0.6505146 , 0.7068546 , 0.76039046, ..., 0.6908944 , 0.624261  ,\n",
       "          0.5905255 ]], dtype=float32),\n",
       "  'cqt': array([[-66.14956 , -66.74201 , -66.871735, ..., -32.14788 , -33.694473,\n",
       "          -35.287556],\n",
       "         [-66.26794 , -66.85838 , -66.98951 , ..., -28.690863, -31.157555,\n",
       "          -34.711033],\n",
       "         [-65.77339 , -66.37145 , -66.49553 , ..., -29.839224, -30.31697 ,\n",
       "          -32.81825 ],\n",
       "         ...,\n",
       "         [-51.67306 , -53.843704, -52.15002 , ..., -37.182888, -36.68476 ,\n",
       "          -37.467873],\n",
       "         [-51.99505 , -53.97982 , -51.971596, ..., -36.8215  , -36.930138,\n",
       "          -37.465847],\n",
       "         [-51.02868 , -53.106552, -53.487114, ..., -37.977974, -37.942844,\n",
       "          -37.48812 ]], dtype=float32),\n",
       "  'label': array([2, 2, 2, ..., 3, 3, 3]),\n",
       "  'id': array(['XC421435.mp3', 'XC421435.mp3', 'XC421435.mp3', ...,\n",
       "         'XC509674.mp3', 'XC509674.mp3', 'XC509674.mp3'], dtype='<U12')}}"
      ]
     },
     "execution_count": 24,
     "metadata": {},
     "output_type": "execute_result"
    }
   ],
   "source": [
    "merged_dict_1D = {'test': test_features_1D}\n",
    "merged_dict_1D"
   ]
  },
  {
   "cell_type": "code",
   "execution_count": 25,
   "metadata": {},
   "outputs": [
    {
     "data": {
      "text/plain": [
       "{'test': {'melspectrogram': array([[[-0.01736392,  0.        , -0.00813095, ..., -0.01304301,\n",
       "           -0.00132603, -0.00622145],\n",
       "          [-0.1938493 , -0.21230054, -0.26985499, ..., -0.30557457,\n",
       "           -0.22740984, -0.19391967],\n",
       "          [-0.26834923, -0.28665653, -0.34289044, ..., -0.37502521,\n",
       "           -0.29998928, -0.26736379],\n",
       "          ...,\n",
       "          [-0.99895918, -0.99854666, -0.9918586 , ..., -0.89447725,\n",
       "           -0.95579219, -0.97648239],\n",
       "          [-0.99957073, -0.99912   , -0.99232167, ..., -0.91377246,\n",
       "           -0.97081757, -0.99212426],\n",
       "          [-1.        , -1.        , -1.        , ..., -1.        ,\n",
       "           -1.        , -1.        ]],\n",
       "  \n",
       "         [[-0.01770214,  0.        , -0.00831963, ..., -0.01256057,\n",
       "           -0.00124793, -0.00581391],\n",
       "          [-0.19749348, -0.21654767, -0.27626368, ..., -0.29428038,\n",
       "           -0.21418518, -0.18125534],\n",
       "          [-0.27339751, -0.29239982, -0.3510446 , ..., -0.36115357,\n",
       "           -0.28253412, -0.24989378],\n",
       "          ...,\n",
       "          [-0.99632472, -0.98255652, -0.94419664, ..., -0.86538088,\n",
       "           -0.9308489 , -0.96983767],\n",
       "          [-0.99389577, -0.98433626, -0.95364451, ..., -0.89869767,\n",
       "           -0.94127071, -0.96592265],\n",
       "          [-1.        , -1.        , -1.        , ..., -1.        ,\n",
       "           -1.        , -1.        ]],\n",
       "  \n",
       "         [[-0.016762  ,  0.        , -0.00804002, ..., -0.01340577,\n",
       "           -0.00136675, -0.00639292],\n",
       "          [-0.18720533, -0.20897435, -0.26675358, ..., -0.31399912,\n",
       "           -0.23372255, -0.19953205],\n",
       "          [-0.25914952, -0.28216004, -0.33894292, ..., -0.38534814,\n",
       "           -0.308314  , -0.27510527],\n",
       "          ...,\n",
       "          [-0.95230794, -0.95808375, -0.9242962 , ..., -0.9142527 ,\n",
       "           -0.96608692, -0.98439819],\n",
       "          [-0.96069896, -0.96714669, -0.93834043, ..., -0.93870574,\n",
       "           -0.98404163, -0.99716878],\n",
       "          [-0.98222631, -1.        , -1.        , ..., -1.        ,\n",
       "           -1.        , -1.        ]],\n",
       "  \n",
       "         ...,\n",
       "  \n",
       "         [[-0.01737492,  0.        , -0.00823955, ..., -0.01335255,\n",
       "           -0.00136615, -0.00640722],\n",
       "          [-0.19398198, -0.21298949, -0.27338818, ..., -0.31262612,\n",
       "           -0.23291261, -0.19867973],\n",
       "          [-0.2685672 , -0.2876448 , -0.34745309, ..., -0.38328737,\n",
       "           -0.30708063, -0.27387068],\n",
       "          ...,\n",
       "          [-0.98300165, -0.94372225, -0.87929982, ..., -0.88528305,\n",
       "           -0.94104373, -0.96187019],\n",
       "          [-0.99100864, -0.96655655, -0.91585082, ..., -0.93412381,\n",
       "           -0.98396701, -0.99666142],\n",
       "          [-1.        , -1.        , -1.        , ..., -1.        ,\n",
       "           -1.        , -1.        ]],\n",
       "  \n",
       "         [[-0.01761546,  0.        , -0.0081935 , ..., -0.01314962,\n",
       "           -0.0013237 , -0.00621805],\n",
       "          [-0.19619004, -0.21488835, -0.27316499, ..., -0.3085179 ,\n",
       "           -0.23081486, -0.19509105],\n",
       "          [-0.27169874, -0.29030901, -0.34730241, ..., -0.37902537,\n",
       "           -0.30465731, -0.26902744],\n",
       "          ...,\n",
       "          [-0.99616325, -0.98225683, -0.93939692, ..., -0.89679098,\n",
       "           -0.9522441 , -0.96573979],\n",
       "          [-0.99902004, -0.99387366, -0.97759908, ..., -0.92247474,\n",
       "           -0.9794488 , -0.99282187],\n",
       "          [-1.        , -1.        , -1.        , ..., -1.        ,\n",
       "           -1.        , -0.99027121]],\n",
       "  \n",
       "         [[-0.01742955,  0.        , -0.00825262, ..., -0.01350513,\n",
       "           -0.00135556, -0.00632018],\n",
       "          [-0.194884  , -0.21523385, -0.27376649, ..., -0.31638384,\n",
       "           -0.23270537, -0.19782254],\n",
       "          [-0.26973298, -0.29045185, -0.3475123 , ..., -0.38856634,\n",
       "           -0.30715114, -0.27287942],\n",
       "          ...,\n",
       "          [-1.        , -0.99361783, -0.95007437, ..., -0.84329975,\n",
       "           -0.91109419, -0.95083582],\n",
       "          [-0.99686354, -0.99048066, -0.95272249, ..., -0.89106584,\n",
       "           -0.95175582, -0.98198551],\n",
       "          [-0.99219549, -1.        , -1.        , ..., -1.        ,\n",
       "           -1.        , -1.        ]]]),\n",
       "  'mfcc': array([[[-1.        , -1.        , -1.        , ..., -1.        ,\n",
       "           -1.        , -0.96314031],\n",
       "          [ 0.98168033,  0.86237639,  0.60650986, ...,  0.25859103,\n",
       "            0.70876664,  1.        ],\n",
       "          [ 0.1998409 ,  0.17814846,  0.13499984, ...,  0.15382466,\n",
       "            0.14378016,  0.12694684],\n",
       "          ...,\n",
       "          [ 0.0319487 ,  0.03014821,  0.0229354 , ..., -0.07452767,\n",
       "           -0.08848514, -0.08601297],\n",
       "          [ 0.02997842,  0.02883467,  0.02493838, ...,  0.06957145,\n",
       "            0.08482463,  0.09750355],\n",
       "          [ 0.0284131 ,  0.02706005,  0.02075735, ...,  0.08347573,\n",
       "            0.11728989,  0.10993995]],\n",
       "  \n",
       "         [[-1.        , -1.        , -1.        , ..., -1.        ,\n",
       "           -1.        , -0.86614639],\n",
       "          [ 0.97949815,  0.83402437,  0.50212628, ...,  0.25415877,\n",
       "            0.77092814,  1.        ],\n",
       "          [ 0.23150463,  0.19918582,  0.14322224, ...,  0.1152982 ,\n",
       "            0.03514259, -0.03747924],\n",
       "          ...,\n",
       "          [ 0.06072316,  0.04777987,  0.03628295, ..., -0.04408658,\n",
       "            0.00231512,  0.06218446],\n",
       "          [ 0.07141469,  0.07509542,  0.05641139, ...,  0.03186597,\n",
       "           -0.01723454, -0.04910119],\n",
       "          [ 0.0042711 ,  0.01818269,  0.02654536, ...,  0.10510229,\n",
       "            0.16076045,  0.13265283]],\n",
       "  \n",
       "         [[-0.93667489, -1.        , -1.        , ..., -1.        ,\n",
       "           -1.        , -0.99742502],\n",
       "          [ 1.        ,  0.90288538,  0.4677614 , ...,  0.40843427,\n",
       "            0.75511384,  1.        ],\n",
       "          [ 0.07716324,  0.05451303,  0.05172992, ...,  0.06752966,\n",
       "            0.09937648,  0.13796288],\n",
       "          ...,\n",
       "          [-0.0685607 , -0.08660673, -0.07786661, ..., -0.00716975,\n",
       "           -0.03231309, -0.05598724],\n",
       "          [ 0.05092325,  0.07199518,  0.08083311, ..., -0.00444113,\n",
       "            0.01945215,  0.04612615],\n",
       "          [ 0.12976024,  0.133009  ,  0.08647605, ...,  0.10203027,\n",
       "            0.12170291,  0.12870197]],\n",
       "  \n",
       "         ...,\n",
       "  \n",
       "         [[-0.98056966, -1.        , -1.        , ..., -1.        ,\n",
       "           -1.        , -1.        ],\n",
       "          [ 1.        ,  0.91688216,  0.61679232, ...,  0.45261383,\n",
       "            0.74571913,  0.96522862],\n",
       "          [ 0.2112712 ,  0.20423804,  0.12161269, ...,  0.21648149,\n",
       "            0.35001105,  0.411091  ],\n",
       "          ...,\n",
       "          [ 0.03481398,  0.04172549,  0.04652276, ...,  0.06592734,\n",
       "            0.10692895,  0.13089174],\n",
       "          [ 0.03197566,  0.0336973 ,  0.02755861, ..., -0.0733453 ,\n",
       "           -0.07224774, -0.07259902],\n",
       "          [ 0.02974709,  0.03282335,  0.0319158 , ...,  0.10593496,\n",
       "            0.10024531,  0.09556039]],\n",
       "  \n",
       "         [[-0.97166038, -1.        , -1.        , ..., -1.        ,\n",
       "           -1.        , -0.95164305],\n",
       "          [ 1.        ,  0.91625762,  0.64693916, ...,  0.61133683,\n",
       "            0.88143939,  1.        ],\n",
       "          [ 0.19903366,  0.189824  ,  0.13495234, ...,  0.08645389,\n",
       "            0.16600128,  0.19823448],\n",
       "          ...,\n",
       "          [ 0.02025941,  0.02065049,  0.02487557, ...,  0.04485725,\n",
       "            0.03123015,  0.01867661],\n",
       "          [ 0.01422611,  0.01982509,  0.02320233, ...,  0.03188412,\n",
       "            0.03623286,  0.03038489],\n",
       "          [ 0.02316154,  0.01980049,  0.01111437, ...,  0.05424909,\n",
       "            0.05426963,  0.04740476]],\n",
       "  \n",
       "         [[-0.96523368, -1.        , -1.        , ..., -1.        ,\n",
       "           -1.        , -0.9763844 ],\n",
       "          [ 1.        ,  0.90868193,  0.61125696, ...,  0.5269984 ,\n",
       "            0.82132125,  1.        ],\n",
       "          [ 0.31038609,  0.30949739,  0.23333843, ...,  0.14534141,\n",
       "            0.24812584,  0.27214891],\n",
       "          ...,\n",
       "          [ 0.0621034 ,  0.07167122,  0.06179093, ...,  0.0486999 ,\n",
       "            0.03934768,  0.02451749],\n",
       "          [-0.00434066, -0.01982918, -0.01901635, ...,  0.01497446,\n",
       "            0.00306706,  0.00155771],\n",
       "          [ 0.04119922,  0.06049473,  0.06865145, ...,  0.05295927,\n",
       "            0.05487952,  0.05840327]]]),\n",
       "  'chroma': array([[[0.8650195 , 0.89273143, 0.85677654, ..., 0.31801617,\n",
       "           0.55662984, 0.73209304],\n",
       "          [0.89087993, 0.92223406, 0.90240741, ..., 0.36536971,\n",
       "           0.6372456 , 0.83466089],\n",
       "          [0.93410593, 0.9580825 , 0.94813925, ..., 0.35945788,\n",
       "           0.61182159, 0.81953835],\n",
       "          ...,\n",
       "          [0.86025751, 0.89302391, 0.86946744, ..., 0.65838444,\n",
       "           0.83224225, 0.9338361 ],\n",
       "          [0.82201266, 0.85469013, 0.81810027, ..., 0.40782622,\n",
       "           0.63357824, 0.7689209 ],\n",
       "          [0.80841684, 0.83542377, 0.7905978 , ..., 0.2914266 ,\n",
       "           0.49563572, 0.64694309]],\n",
       "  \n",
       "         [[0.69274735, 0.51977289, 0.36998442, ..., 0.07632047,\n",
       "           0.09736105, 0.14185418],\n",
       "          [0.68366975, 0.50425452, 0.34616861, ..., 0.07898451,\n",
       "           0.09805854, 0.14397638],\n",
       "          [0.72082037, 0.52543938, 0.3607142 , ..., 0.0861405 ,\n",
       "           0.10541528, 0.15590928],\n",
       "          ...,\n",
       "          [1.        , 1.        , 1.        , ..., 0.67276144,\n",
       "           0.53803748, 0.49364588],\n",
       "          [0.81793827, 0.66301608, 0.51983899, ..., 0.27649528,\n",
       "           0.27027407, 0.29093266],\n",
       "          [0.77064627, 0.6260137 , 0.51126373, ..., 0.07266355,\n",
       "           0.09278337, 0.13548119]],\n",
       "  \n",
       "         [[0.5206039 , 0.50173706, 0.51657474, ..., 0.47724423,\n",
       "           0.45439753, 0.4891133 ],\n",
       "          [1.        , 1.        , 1.        , ..., 0.44849506,\n",
       "           0.45710331, 0.50667286],\n",
       "          [0.84447002, 0.81823248, 0.81012136, ..., 0.42236143,\n",
       "           0.44521666, 0.50558543],\n",
       "          ...,\n",
       "          [0.57358336, 0.63321596, 0.79383922, ..., 0.47407651,\n",
       "           0.49720547, 0.54970801],\n",
       "          [0.46384463, 0.46398064, 0.53305209, ..., 0.42262155,\n",
       "           0.45475334, 0.50613034],\n",
       "          [0.42538714, 0.39688125, 0.39564157, ..., 0.37828374,\n",
       "           0.40367785, 0.44540668]],\n",
       "  \n",
       "         ...,\n",
       "  \n",
       "         [[0.86544621, 0.89333892, 0.86167151, ..., 0.13550358,\n",
       "           0.29105973, 0.49954265],\n",
       "          [0.8942312 , 0.93041247, 0.91967934, ..., 0.14231315,\n",
       "           0.29553592, 0.50816363],\n",
       "          [0.93475133, 0.9579699 , 0.94915223, ..., 0.15196687,\n",
       "           0.31383672, 0.54620463],\n",
       "          ...,\n",
       "          [0.86236   , 0.89806336, 0.88057417, ..., 0.3316384 ,\n",
       "           0.45553973, 0.61501992],\n",
       "          [0.81996965, 0.8487941 , 0.8093853 , ..., 0.13469006,\n",
       "           0.28176498, 0.48767883],\n",
       "          [0.81063157, 0.83800274, 0.79249424, ..., 0.12156309,\n",
       "           0.26359162, 0.45846614]],\n",
       "  \n",
       "         [[0.85335916, 0.8760466 , 0.82556289, ..., 0.80856812,\n",
       "           0.88947463, 0.86784339],\n",
       "          [0.9066444 , 0.92571598, 0.8747142 , ..., 0.83184195,\n",
       "           0.85912353, 0.83734578],\n",
       "          [0.94077653, 0.95586264, 0.91785973, ..., 0.93403465,\n",
       "           0.92638218, 0.90691102],\n",
       "          ...,\n",
       "          [0.85264689, 0.87956756, 0.8366574 , ..., 0.78900063,\n",
       "           0.82029659, 0.82007521],\n",
       "          [0.80352873, 0.83369803, 0.78855926, ..., 0.76565045,\n",
       "           0.80694771, 0.79678649],\n",
       "          [0.75044519, 0.77405417, 0.7334308 , ..., 0.74720401,\n",
       "           0.82960588, 0.81716049]],\n",
       "  \n",
       "         [[0.83133554, 0.84854162, 0.75931817, ..., 0.77930397,\n",
       "           0.83867383, 0.80843991],\n",
       "          [0.88342899, 0.90672994, 0.81588566, ..., 0.84781599,\n",
       "           0.8832438 , 0.84882188],\n",
       "          [0.92168468, 0.93294781, 0.84461123, ..., 0.93219543,\n",
       "           0.96284848, 0.92988342],\n",
       "          ...,\n",
       "          [0.81260103, 0.85465997, 0.81776184, ..., 0.82846588,\n",
       "           0.84212148, 0.82074797],\n",
       "          [0.75859404, 0.78434664, 0.70860797, ..., 0.77909964,\n",
       "           0.82299626, 0.79611409],\n",
       "          [0.76851708, 0.78472292, 0.69155854, ..., 0.743806  ,\n",
       "           0.80300963, 0.77399927]]]),\n",
       "  'cqt': array([[[-2.70305467e+00, -2.73136330e+00, -2.87684345e+00, ...,\n",
       "           -2.67907524e+00, -2.51357007e+00, -2.47523022e+00],\n",
       "          [-2.93020940e+00, -3.00705814e+00, -3.15385437e+00, ...,\n",
       "           -2.92150140e+00, -2.76589775e+00, -2.68059611e+00],\n",
       "          [-3.24268770e+00, -3.25955105e+00, -3.46328020e+00, ...,\n",
       "           -3.21845317e+00, -2.99129891e+00, -2.94012618e+00],\n",
       "          ...,\n",
       "          [-2.25086975e+01, -8.00000000e+01, -8.00000000e+01, ...,\n",
       "           -3.23095016e+01, -2.05324383e+01, -1.88946323e+01],\n",
       "          [-2.27459297e+01, -8.00000000e+01, -8.00000000e+01, ...,\n",
       "           -3.84933395e+01, -4.60581512e+01, -1.94081020e+01],\n",
       "          [-2.29318962e+01, -8.00000000e+01, -8.00000000e+01, ...,\n",
       "           -4.03347778e+01, -3.70035095e+01, -3.05427189e+01]],\n",
       "  \n",
       "         [[-3.17448878e+00, -3.20276666e+00, -3.34818077e+00, ...,\n",
       "           -3.14941239e+00, -2.98389411e+00, -2.94553852e+00],\n",
       "          [-3.40171766e+00, -3.47852206e+00, -3.62528014e+00, ...,\n",
       "           -3.39177942e+00, -3.23616529e+00, -3.15085196e+00],\n",
       "          [-3.71429038e+00, -3.73113465e+00, -3.93476105e+00, ...,\n",
       "           -3.68866420e+00, -3.46151066e+00, -3.41030407e+00],\n",
       "          ...,\n",
       "          [-1.82271805e+01, -1.35260153e+01, -9.83646393e+00, ...,\n",
       "           -9.84929276e+00, -6.59574080e+00, -9.31478214e+00],\n",
       "          [-1.55728960e+01, -1.41177979e+01, -2.49301815e+01, ...,\n",
       "           -1.87338295e+01, -8.51285362e+00, -1.41497679e+01],\n",
       "          [-1.86123352e+01, -1.69979229e+01, -2.21449432e+01, ...,\n",
       "           -2.96905937e+01, -2.05246468e+01, -2.88263931e+01]],\n",
       "  \n",
       "         [[-1.20284247e+00, -1.23116696e+00, -1.37667465e+00, ...,\n",
       "           -1.17943108e+00, -1.01393330e+00, -9.75601196e-01],\n",
       "          [-1.42996716e+00, -1.50683618e+00, -1.65365076e+00, ...,\n",
       "           -1.42189217e+00, -1.26629543e+00, -1.18099737e+00],\n",
       "          [-1.74240112e+00, -1.75927329e+00, -1.96305442e+00, ...,\n",
       "           -1.71887958e+00, -1.49172449e+00, -1.44056714e+00],\n",
       "          ...,\n",
       "          [-1.41744022e+01, -1.17472477e+01, -2.04832592e+01, ...,\n",
       "           -2.62826366e+01, -1.60845394e+01, -1.93776455e+01],\n",
       "          [-1.46907997e+01, -1.90282269e+01, -2.10284138e+01, ...,\n",
       "           -3.67553444e+01, -1.90877304e+01, -2.40915775e+01],\n",
       "          [-1.64051208e+01, -2.76296329e+01, -2.13243008e+01, ...,\n",
       "           -3.76972733e+01, -2.35949535e+01, -3.71521149e+01]],\n",
       "  \n",
       "         ...,\n",
       "  \n",
       "         [[-2.26921096e-01, -2.55429089e-01, -4.01081443e-01, ...,\n",
       "           -2.03011066e-01, -3.79342735e-02, -5.96046448e-08],\n",
       "          [-4.49602008e-01, -5.26613414e-01, -6.73589528e-01, ...,\n",
       "           -4.50097501e-01, -2.94451207e-01, -2.09074974e-01],\n",
       "          [-7.55081773e-01, -7.71313608e-01, -9.74238038e-01, ...,\n",
       "           -7.53515959e-01, -5.25334239e-01, -4.73349780e-01],\n",
       "          ...,\n",
       "          [-2.00275269e+01, -8.00000000e+01, -3.47104759e+01, ...,\n",
       "           -3.91907463e+01, -3.77254601e+01, -4.60998116e+01],\n",
       "          [-2.02647572e+01, -8.00000000e+01, -3.71076431e+01, ...,\n",
       "           -5.76853943e+01, -3.31424522e+01, -3.67636414e+01],\n",
       "          [-2.04507217e+01, -8.00000000e+01, -4.31177979e+01, ...,\n",
       "           -3.45755539e+01, -3.69002037e+01, -3.55116615e+01]],\n",
       "  \n",
       "         [[-2.32699350e-01, -2.61129498e-01, -4.06763583e-01, ...,\n",
       "           -2.05760360e-01, -3.92387807e-02,  2.98023224e-08],\n",
       "          [-4.54463810e-01, -5.31205475e-01, -6.77885056e-01, ...,\n",
       "           -4.45607573e-01, -2.89734989e-01, -2.04116136e-01],\n",
       "          [-7.62227595e-01, -7.78423369e-01, -9.81271267e-01, ...,\n",
       "           -7.37114787e-01, -5.09765089e-01, -4.58359271e-01],\n",
       "          ...,\n",
       "          [-1.91806583e+01, -4.12503548e+01, -3.02554417e+01, ...,\n",
       "           -3.74975128e+01, -3.65392532e+01, -3.51871338e+01],\n",
       "          [-1.91109505e+01, -3.62968903e+01, -3.74350357e+01, ...,\n",
       "           -3.73693924e+01, -3.11267967e+01, -4.29033508e+01],\n",
       "          [-1.93794289e+01, -4.19806252e+01, -4.28479233e+01, ...,\n",
       "           -4.36096306e+01, -3.55474129e+01, -3.49360695e+01]],\n",
       "  \n",
       "         [[-2.31311664e-01, -2.59865969e-01, -4.05743212e-01, ...,\n",
       "           -2.05337971e-01, -3.90400887e-02, -1.49011612e-07],\n",
       "          [-4.51964468e-01, -5.29123783e-01, -6.76236510e-01, ...,\n",
       "           -4.39842552e-01, -2.84696728e-01, -1.99818119e-01],\n",
       "          [-7.55897522e-01, -7.71914542e-01, -9.74883258e-01, ...,\n",
       "           -7.37440348e-01, -5.10679364e-01, -4.59827989e-01],\n",
       "          ...,\n",
       "          [-1.96075134e+01, -3.31435051e+01, -3.92827263e+01, ...,\n",
       "           -3.83973274e+01, -3.54087791e+01, -3.92269363e+01],\n",
       "          [-2.00049629e+01, -3.55129280e+01, -3.41689186e+01, ...,\n",
       "           -3.26206818e+01, -4.47627640e+01, -3.24394073e+01],\n",
       "          [-1.93993549e+01, -3.69789772e+01, -3.11117630e+01, ...,\n",
       "           -3.24237938e+01, -3.94333229e+01, -3.15488892e+01]]]),\n",
       "  'label': array([2, 2, 2, ..., 3, 3, 3]),\n",
       "  'id': array(['XC421435.mp3', 'XC421435.mp3', 'XC421435.mp3', ...,\n",
       "         'XC509674.mp3', 'XC509674.mp3', 'XC509674.mp3'], dtype='<U12')}}"
      ]
     },
     "execution_count": 25,
     "metadata": {},
     "output_type": "execute_result"
    }
   ],
   "source": [
    "merged_dict_2D = {'test': test_features_2D}\n",
    "merged_dict_2D"
   ]
  },
  {
   "cell_type": "markdown",
   "metadata": {},
   "source": [
    "### Save the merged dictionary to a pkl"
   ]
  },
  {
   "cell_type": "code",
   "execution_count": 26,
   "metadata": {},
   "outputs": [],
   "source": [
    "# Avrg Pooled\n",
    "with open('C:/Users/thato/Documents/Final-Year-Project/Dataset/Final-Version-Of-Bird-Classification-Project/feature-extraction/NotAnnotatedTest/test_features_3s_all_1D.pkl', 'wb') as file:\n",
    "  pickle.dump(merged_dict_1D, file)\n",
    "del file"
   ]
  },
  {
   "cell_type": "code",
   "execution_count": 27,
   "metadata": {},
   "outputs": [],
   "source": [
    "# Avrg Pooled\n",
    "with open('C:/Users/thato/Documents/Final-Year-Project/Dataset/Final-Version-Of-Bird-Classification-Project/feature-extraction/NotAnnotatedTest/test_features_3s_all_2D.pkl', 'wb') as file:\n",
    "  pickle.dump(merged_dict_2D, file)\n",
    "del file"
   ]
  }
 ],
 "metadata": {
  "kernelspec": {
   "display_name": "Python 3",
   "language": "python",
   "name": "python3"
  },
  "language_info": {
   "codemirror_mode": {
    "name": "ipython",
    "version": 3
   },
   "file_extension": ".py",
   "mimetype": "text/x-python",
   "name": "python",
   "nbconvert_exporter": "python",
   "pygments_lexer": "ipython3",
   "version": "3.12.4"
  }
 },
 "nbformat": 4,
 "nbformat_minor": 2
}
