{
 "cells": [
  {
   "cell_type": "markdown",
   "metadata": {},
   "source": [
    "# **Feature Extraction Methods: Imbalanced Data Without Annotations**\n",
    "\n",
    "- *Key Features*: [MFCCs, Mel-Spectrograms, Chroma Frequencies, CQT]\n",
    "- *Key Manipulations*: [Varying Window Sizes, Normalization, Average Pooling (Compression)]\n",
    "- *Process Assistence*: [Converting them to numpy arrays now, easy label access across features]\n",
    "- *Conversion*: [To numpy arrays and pkl files]\n"
   ]
  },
  {
   "cell_type": "code",
   "execution_count": 1,
   "metadata": {},
   "outputs": [],
   "source": [
    "# Standard libraries\n",
    "import numpy as np\n",
    "import pandas as pd\n",
    "import os\n",
    "import time\n",
    "\n",
    "# Libraries for audio\n",
    "from IPython.display import Audio\n",
    "import librosa\n",
    "import librosa.display\n",
    "\n",
    "# Training and Testing Split\n",
    "from sklearn.model_selection import train_test_split\n",
    "\n",
    "# for normalization & avgpooling features\n",
    "import tensorflow as tf\n",
    "# for preprocessing\n",
    "from sklearn.preprocessing import LabelEncoder\n",
    "from sklearn.preprocessing import MinMaxScaler\n",
    "from sklearn.preprocessing import OneHotEncoder\n",
    "from sklearn.utils import resample\n",
    "\n",
    "# Operational\n",
    "from tqdm import tqdm\n",
    "import matplotlib.pyplot as plt\n",
    "import seaborn as sns\n",
    "import pickle\n",
    "import time\n",
    "import IPython.display as ipd\n",
    "from functools import partial"
   ]
  },
  {
   "cell_type": "code",
   "execution_count": 4,
   "metadata": {},
   "outputs": [],
   "source": [
    "# Variabels to be reused\n",
    "path = 'C:/Users/thato/Documents/Final-Year-Project/Dataset/Final-Version-Of-Bird-Classification-Project/audio_files' \n",
    "npy_path = 'C:/Users/thato/Documents/Final-Year-Project/Dataset/Final-Version-Of-Bird-Classification-Project/train_audio_npy/' \n",
    "train_csv = 'C:/Users/thato/Documents/Final-Year-Project/Dataset/Final-Version-Of-Bird-Classification-Project/train-not-annotated.csv' \n",
    "annotated_train_csv = 'C:/Users/thato/Documents/Final-Year-Project/Dataset/Final-Version-Of-Bird-Classification-Project/train-annotated.csv'\n",
    "not_annotated_splt = 'C:/Users/thato/Documents/Final-Year-Project/Dataset/Final-Version-Of-Bird-Classification-Project/trainval-split/trainval.csv'\n",
    "sr = 22050"
   ]
  },
  {
   "cell_type": "code",
   "execution_count": 5,
   "metadata": {},
   "outputs": [],
   "source": [
    "trainval_data = pd.read_csv(not_annotated_splt)\n",
    "train_data = trainval_data[trainval_data['set'] == 'tr']\n",
    "val_data = trainval_data[trainval_data['set'] == 'val']"
   ]
  },
  {
   "cell_type": "code",
   "execution_count": 7,
   "metadata": {},
   "outputs": [
    {
     "data": {
      "text/plain": [
       "species\n",
       "Himantopus himantopus        43\n",
       "Alcedo atthis                37\n",
       "Tachybaptus ruficollis       36\n",
       "Botaurus stellaris           32\n",
       "Gallinula chloropus          30\n",
       "Charadrius alexandrinus      30\n",
       "Porphyrio porphyrio          29\n",
       "Fulica atra                  28\n",
       "Acrocephalus melanopogon     28\n",
       "Ardea purpurea               24\n",
       "Motacilla flava              20\n",
       "Acrocephalus scirpaceus      20\n",
       "Circus aeruginosus           20\n",
       "Acrocephalus arundinaceus    19\n",
       "Ixobrychus minutus           19\n",
       "Ciconia ciconia              19\n",
       "Dendrocopos minor            19\n",
       "Coracias garrulus            13\n",
       "Anas platyrhynchos           12\n",
       "Anas strepera                 4\n",
       "Name: count, dtype: int64"
      ]
     },
     "execution_count": 7,
     "metadata": {},
     "output_type": "execute_result"
    }
   ],
   "source": [
    "train_data['species'].value_counts()"
   ]
  },
  {
   "cell_type": "markdown",
   "metadata": {},
   "source": [
    "# **Creating a class to do the extraction**"
   ]
  },
  {
   "cell_type": "code",
   "execution_count": 12,
   "metadata": {},
   "outputs": [],
   "source": [
    "class Extraction:\n",
    "  def __init__(self, train_df, val_df, window_size, overlap=0.5, npy_path=npy_path, sr=sr, n_mels=128, n_mfcc=20, n_chroma=12, n_cqt=84, hoplength=256, features=['mfcc'], normalize=True, avgpool=False, augment=True):\n",
    "    \"\"\"\n",
    "    Instantiate the Extraction class to extract features.\n",
    "\n",
    "    Parameters:\n",
    "      sr (int): Sample rate of the audio files.\n",
    "      n_mfccs (int): Number of MFCCs to extract.\n",
    "      n_mels (int): Number of Mel bands to extract.\n",
    "      n_chroma (int): Number of chroma bins to use.\n",
    "      n_cqt (int): Number of CQT bins to use.\n",
    "      features (list): List of features to extract.\n",
    "        accepted features: 'mfcc', 'chroma', 'cqt', 'melspectrogram'.\n",
    "      normalize (bool): Whether to normalize the features.\n",
    "      avgpool (bool): Whether to avgpool the features.\n",
    "    \"\"\"\n",
    "    \n",
    "    self.train_df = train_df\n",
    "    self.val_df = val_df\n",
    "    self.npy_path = npy_path\n",
    "    self.window_size = window_size\n",
    "    self.overlap = overlap\n",
    "    self.sr = sr\n",
    "    self.n_mels = n_mels\n",
    "    self.n_mfcc = n_mfcc\n",
    "    self.n_chroma = n_chroma\n",
    "    self.n_cqt = n_cqt\n",
    "    self.hoplength = hoplength\n",
    "\n",
    "     # confirm features have been specified\n",
    "    assert len(features) != 0, \"Must Specify At Least One Feature In The Form Of A List.\"\n",
    "    self.features = features\n",
    "\n",
    "    self.accepted_feature = ['mfcc', 'chroma', 'cqt', 'melspectrogram']\n",
    "    for feature in self.features:\n",
    "      assert feature in self.accepted_feature, f\"{feature} is not an accepted feature, only 'mfcc', 'chroma', 'cqt', 'melspectrogram' are accepted features.\"\n",
    "\n",
    "    self.normalize = normalize\n",
    "    self.avgpool = avgpool\n",
    "    self.augment = augment\n",
    "\n",
    "    print(f\"Train DataFrame shape: {train_df.shape}\")\n",
    "    print(f\"Validation DataFrame shape: {val_df.shape}\")\n",
    "\n",
    "    # extract train and val labels and features\n",
    "    self.train_y, self.train_features, self.train_ids = self.feature_extraction(self.train_df, window_size=self.window_size)\n",
    "    self.val_y, self.val_features, self.val_ids = self.feature_extraction(self.val_df, window_size=self.window_size, augment=False)\n",
    "\n",
    "    # process the features by average pooling\n",
    "    self.train_features_2D, self.val_features_2D, self.train_features_1D, self.val_features_1D = self.process_features(self.train_features, self.val_features)\n",
    "\n",
    "  def random_augmentation(self, audio):\n",
    "        \"\"\"\n",
    "        Apply random augmentation to the audio: pitch shift, time stretch, or add noise.\n",
    "        \"\"\"\n",
    "        aug_type = np.random.choice(['pitch_up', 'pitch_down', 'noise', 'stretch', 'shrink'])\n",
    "\n",
    "        if aug_type == 'pitch_up':\n",
    "            # Random pitch up (between 1 and 4 semitones)\n",
    "            pitch_shift = np.random.uniform(1, 4)\n",
    "            audio = librosa.effects.pitch_shift(audio, sr=self.sr, n_steps=pitch_shift)\n",
    "            return audio\n",
    "        elif aug_type == 'pitch_down':\n",
    "            # Random pitch down (between -1 and -4 semitones)\n",
    "            pitch_shift = np.random.uniform(-4, -1)\n",
    "            audio = librosa.effects.pitch_shift(audio, sr=self.sr, n_steps=pitch_shift)\n",
    "            return audio\n",
    "        elif aug_type == 'noise':\n",
    "            # Add random noise at a fraction of the original audio volume\n",
    "            noise = self.generate_pink_noise(len(audio))\n",
    "            audio = audio + 0.01 * np.random.uniform(0.2, 0.5) * np.max(audio) * noise\n",
    "            return audio\n",
    "        elif aug_type == 'stretch':\n",
    "            # Randomly stretch audio (speed up)\n",
    "            stretch_factor = np.random.uniform(1.1, 1.5)\n",
    "            audio = librosa.effects.time_stretch(audio, rate=stretch_factor)\n",
    "            return audio\n",
    "        elif aug_type == 'shrink':\n",
    "            # Randomly shrink audio (slow down)\n",
    "            stretch_factor = np.random.uniform(0.8, 0.9)\n",
    "            audio = librosa.effects.time_stretch(audio, rate=stretch_factor)\n",
    "            return audio\n",
    "        \n",
    "\n",
    "  def normalize_audio(self, audio):\n",
    "    return (audio - np.min(audio)) / (np.max(audio) - np.min(audio))\n",
    "  \n",
    "  def generate_pink_noise(self, num_samples):\n",
    "    white_noise = np.random.randn(num_samples)\n",
    "    \n",
    "    # Apply a filter to convert white noise into pink noise (1/f noise)\n",
    "    X = np.fft.rfft(white_noise)\n",
    "    S = np.arange(1, len(X) + 1)  # Frequency scaling\n",
    "    pink_noise = np.fft.irfft(X / S)\n",
    "\n",
    "    if len(pink_noise) < num_samples:\n",
    "        # Pad with zeros if the length is less than num_samples\n",
    "        pink_noise = np.pad(pink_noise, (0, num_samples - len(pink_noise)), mode='constant')\n",
    "    elif len(pink_noise) > num_samples:\n",
    "        # Trim if necessary\n",
    "        pink_noise = pink_noise[:num_samples]\n",
    "    \n",
    "    return self.normalize_audio(pink_noise)\n",
    "  \n",
    "  def pad_with_noise(self, audio_data, window_length, window_samples):\n",
    "    current_length = librosa.get_duration(y=audio_data, sr=self.sr)\n",
    "\n",
    "    if current_length > window_length:\n",
    "        return audio_data\n",
    "    \n",
    "    target_length_samples = int(window_length * sr) \n",
    "    current_length_samples = window_samples\n",
    "    padding_length_samples = target_length_samples - current_length_samples\n",
    "\n",
    "    assert target_length_samples == (current_length_samples+padding_length_samples)\n",
    "    \n",
    "    # Generate pink noise to pad with\n",
    "    pink_noise = self.generate_pink_noise(padding_length_samples)\n",
    "    padded_audio = np.concatenate([audio_data, pink_noise])\n",
    "    # if len(padded_audio) < target_length_samples:\n",
    "    #     padded_audio = np.append(padded_audio, self.generate_pink_noise(1))\n",
    "\n",
    "    assert target_length_samples == len(padded_audio)\n",
    "    \n",
    "    return padded_audio\n",
    "\n",
    "#-------------------------Feature Extraction---------------------------------------\n",
    "  def extract_mfcc(self, window):\n",
    "    mfcc = librosa.feature.mfcc(y=window, sr=self.sr, n_mfcc=self.n_mfcc, hop_length=self.hoplength)\n",
    "    if self.normalize:\n",
    "      return librosa.util.normalize(mfcc)\n",
    "    else:\n",
    "      return mfcc\n",
    "\n",
    "\n",
    "  def extract_chroma(self, window):\n",
    "    chroma = librosa.feature.chroma_stft(y=window, sr=self.sr, n_chroma=self.n_chroma, hop_length=self.hoplength)\n",
    "    if self.normalize:\n",
    "      return librosa.util.normalize(chroma)\n",
    "    else:\n",
    "      return chroma\n",
    "   \n",
    "\n",
    "  def extract_cqt(self, window):\n",
    "    cqt = librosa.cqt(y=window, sr=sr, hop_length=self.hoplength, n_bins=self.n_cqt)\n",
    "    cqt_db = librosa.amplitude_to_db(np.abs(cqt), ref=np.max)\n",
    "    return cqt_db\n",
    "\n",
    "  def extract_melspectrogram(self, window):\n",
    "    mel = librosa.feature.melspectrogram(y=window, sr=self.sr, n_mels=self.n_mels, hop_length=self.hoplength)\n",
    "    mel_db = librosa.power_to_db(mel, ref=np.max)\n",
    "    if self.normalize:\n",
    "      return librosa.util.normalize(mel_db)\n",
    "    else:\n",
    "      return mel_db\n",
    "    \n",
    "  def avgpooling(self, train_X, val_X, n_time, n_features):\n",
    "    \"\"\"\n",
    "    Average pooling the train and val features.\n",
    "\n",
    "    Parameters:\n",
    "      train_X (npy): Training feature array of shape (batch_size, n_features, n_time)\n",
    "      val_X (npy): Validation feature array of shape (batch_size, n_features, n_time)\n",
    "      n_time (int): Time axis\n",
    "      n_features (int): Feature axis\n",
    "\n",
    "    Returns:\n",
    "      train_X (npy): Avgpooled training feature array of shape (batch_size, n_features)\n",
    "      val_X (npy): Avgpooled validation feature array of shape (batch_size, n_features)\n",
    "    \"\"\"\n",
    "    # Clear the Keras session\n",
    "    tf.keras.backend.clear_session()\n",
    "    \n",
    "    # Create the Keras input layer with shape (n_features, n_time)\n",
    "    input_layer = tf.keras.layers.Input(shape=(n_features, n_time))\n",
    "    \n",
    "    # Apply average pooling over the time axis (axis=-1) to reduce n_time\n",
    "    avg_pool = tf.keras.layers.Lambda(lambda x: tf.reduce_mean(x, axis=-1))(input_layer)\n",
    "    \n",
    "    # Build the model\n",
    "    pooling_model = tf.keras.models.Model(inputs=input_layer, outputs=avg_pool)\n",
    "\n",
    "    # Use the model to apply average pooling on the training and validation features\n",
    "    train_X = pooling_model.predict(train_X)\n",
    "    val_X = pooling_model.predict(val_X)\n",
    "\n",
    "    return train_X, val_X\n",
    "\n",
    "    \n",
    "  def process_features(self, train_features_dict, val_features_dict):\n",
    "    train_copy = train_features_dict.copy()\n",
    "    val_copy = val_features_dict.copy()\n",
    "    for each in train_copy.keys():\n",
    "      \n",
    "      if each == 'mfcc':\n",
    "        n_features=self.n_mfcc\n",
    "      elif each == 'chroma':\n",
    "        n_features=self.n_chroma\n",
    "      elif each == 'cqt':\n",
    "        n_features=self.n_cqt\n",
    "      elif each == 'melspectrogram':\n",
    "        n_features=self.n_mels\n",
    "      \n",
    "      train_feature = train_copy[each]\n",
    "      val_feature = val_copy[each]\n",
    "\n",
    "      if self.avgpool:\n",
    "        train_copy[each], val_copy[each] = self.avgpooling(train_feature, val_feature, n_time=train_feature.shape[2], n_features=n_features)\n",
    "      else:\n",
    "        train_copy[each], val_copy[each] = train_copy[each], val_copy[each]\n",
    "    \n",
    "    return train_features_dict, val_features_dict, train_copy, val_copy\n",
    "      \n",
    "\n",
    "  def feature_extraction(self, dataframe, window_size, augment=True):\n",
    "    y = [] # To hold the labels\n",
    "    ids = [] # To hold the audio name (going to use it to aggregate the results for one audio file)\n",
    "    features_dict = {item: [] for item in self.features} # Create a key for each feature listed\n",
    "    print(f\"Number of rows in dataframe: {len(dataframe)}\")\n",
    "    for _, row in tqdm(dataframe.iterrows(), desc=\"Processing data\", total=len(dataframe)):\n",
    "          label = row['species']\n",
    "          file_path = os.path.join(self.npy_path, row['filename_npy'])\n",
    "          id = row['audio_name']\n",
    "\n",
    "          try:\n",
    "              audio = np.load(file_path)\n",
    "          except FileNotFoundError:\n",
    "              print(f\"File not found: {file_path}\")\n",
    "              continue\n",
    "\n",
    "\n",
    "          audio = self.normalize_audio(audio)\n",
    "          if augment:\n",
    "                audio = self.random_augmentation(audio)\n",
    "          audio = self.pad_with_noise(audio, window_length=self.window_size, window_samples=len(audio))\n",
    "          # print(len(sample))\n",
    "\n",
    "          window_samples = int(window_size * self.sr)\n",
    "          hop_samples = int(window_samples * (1 - self.overlap))  # For overlapping\n",
    "\n",
    "          # Break the audio into windows with the specified overlap\n",
    "          audio_windows = librosa.util.frame(audio, frame_length=window_samples, hop_length=hop_samples).T\n",
    "          \n",
    "          \n",
    "          # display(label)\n",
    "          \n",
    "          for _, window in enumerate(audio_windows):\n",
    "              \n",
    "              y.append(label)\n",
    "              ids.append(id)\n",
    "\n",
    "              if len(window) < window_samples:\n",
    "                  if len(window) < 512*2:\n",
    "                     continue\n",
    "                  else:\n",
    "                      window = self.pad_with_noise(window, window_length=window_size)\n",
    "              \n",
    "              # Feature Extraction FR --------------------------------------------------------------------\n",
    "              # dynatically call the extract_x function to extract the listed features\n",
    "              for feature in self.features:\n",
    "                extract = f\"extract_{feature}\"\n",
    "                if hasattr(self, extract) and callable(func := getattr(self, extract)):\n",
    "                  features_dict[feature].append(func(window))\n",
    "\n",
    "          # cast lists to np arrays\n",
    "    for each in features_dict.keys():\n",
    "              features_dict[each] = np.array(features_dict[each])\n",
    "\n",
    "    y = np.array(y)\n",
    "    ids = np.array(ids)\n",
    "\n",
    "          # If not using average pooling, return resized features\n",
    "    return y, features_dict, ids"
   ]
  },
  {
   "cell_type": "markdown",
   "metadata": {},
   "source": [
    "# **Trying to balance the training set**"
   ]
  },
  {
   "cell_type": "code",
   "execution_count": 13,
   "metadata": {},
   "outputs": [
    {
     "name": "stdout",
     "output_type": "stream",
     "text": [
      "species\n",
      "Himantopus himantopus        43\n",
      "Alcedo atthis                37\n",
      "Tachybaptus ruficollis       36\n",
      "Botaurus stellaris           32\n",
      "Circus aeruginosus           30\n",
      "Anas platyrhynchos           30\n",
      "Coracias garrulus            30\n",
      "Dendrocopos minor            30\n",
      "Ciconia ciconia              30\n",
      "Ixobrychus minutus           30\n",
      "Acrocephalus arundinaceus    30\n",
      "Motacilla flava              30\n",
      "Acrocephalus scirpaceus      30\n",
      "Ardea purpurea               30\n",
      "Acrocephalus melanopogon     30\n",
      "Fulica atra                  30\n",
      "Porphyrio porphyrio          30\n",
      "Charadrius alexandrinus      30\n",
      "Gallinula chloropus          30\n",
      "Anas strepera                30\n",
      "Name: count, dtype: int64\n"
     ]
    }
   ],
   "source": [
    "# Step 1: Identify the majority class count\n",
    "species_counts = train_data['species'].value_counts()\n",
    "majority_class_count = species_counts.max()\n",
    "\n",
    "# Step 2: Define the target for oversampling (0.7 times the majority class count)\n",
    "target_count = int(majority_class_count * 0.7)\n",
    "\n",
    "# Step 3: Separate majority and minority classes\n",
    "df_majority = train_data[train_data['species'].map(species_counts) == majority_class_count]\n",
    "\n",
    "# Step 4: Oversample the minority classes to the target count\n",
    "oversampled_data = pd.DataFrame()\n",
    "\n",
    "for species, count in species_counts.items():\n",
    "    species_df = train_data[train_data['species'] == species]\n",
    "    if count < target_count:\n",
    "        species_upsampled = resample(species_df, \n",
    "                                     replace=True,     # Allow oversampling\n",
    "                                     n_samples=target_count,  # Target count for each class\n",
    "                                     random_state=42)  # For reproducibility\n",
    "        oversampled_data = pd.concat([oversampled_data, species_upsampled])\n",
    "    else:\n",
    "        oversampled_data = pd.concat([oversampled_data, species_df])\n",
    "\n",
    "# Combine with majority class data\n",
    "train_data_balanced = pd.concat([oversampled_data])\n",
    "\n",
    "# Check the new class distribution\n",
    "print(train_data_balanced['species'].value_counts())"
   ]
  },
  {
   "cell_type": "markdown",
   "metadata": {},
   "source": [
    "# **Average Pooling**"
   ]
  },
  {
   "cell_type": "markdown",
   "metadata": {},
   "source": [
    "## **Window Size = 6s**"
   ]
  },
  {
   "cell_type": "markdown",
   "metadata": {},
   "source": [
    "### **['melspectrogram', 'mfcc', 'chroma', 'cqt']**"
   ]
  },
  {
   "cell_type": "code",
   "execution_count": 14,
   "metadata": {},
   "outputs": [],
   "source": [
    "features_list = ['melspectrogram', 'mfcc', 'chroma', 'cqt']"
   ]
  },
  {
   "cell_type": "code",
   "execution_count": 15,
   "metadata": {},
   "outputs": [
    {
     "name": "stdout",
     "output_type": "stream",
     "text": [
      "Train DataFrame shape: (628, 6)\n",
      "Validation DataFrame shape: (133, 6)\n",
      "Number of rows in dataframe: 628\n"
     ]
    },
    {
     "name": "stderr",
     "output_type": "stream",
     "text": [
      "Processing data:   0%|          | 0/628 [00:00<?, ?it/s]c:\\Users\\thato\\AppData\\Local\\Programs\\Python\\Python312\\Lib\\site-packages\\librosa\\core\\pitch.py:101: UserWarning: Trying to estimate tuning from empty frequency set.\n",
      "  return pitch_tuning(\n",
      "Processing data: 100%|██████████| 628/628 [38:42<00:00,  3.70s/it]  \n"
     ]
    },
    {
     "name": "stdout",
     "output_type": "stream",
     "text": [
      "Number of rows in dataframe: 133\n"
     ]
    },
    {
     "name": "stderr",
     "output_type": "stream",
     "text": [
      "Processing data: 100%|██████████| 133/133 [02:46<00:00,  1.25s/it]\n"
     ]
    },
    {
     "name": "stdout",
     "output_type": "stream",
     "text": [
      "WARNING:tensorflow:From c:\\Users\\thato\\AppData\\Local\\Programs\\Python\\Python312\\Lib\\site-packages\\keras\\src\\backend\\common\\global_state.py:82: The name tf.reset_default_graph is deprecated. Please use tf.compat.v1.reset_default_graph instead.\n",
      "\n",
      "\u001b[1m307/307\u001b[0m \u001b[32m━━━━━━━━━━━━━━━━━━━━\u001b[0m\u001b[37m\u001b[0m \u001b[1m1s\u001b[0m 2ms/step\n",
      "\u001b[1m64/64\u001b[0m \u001b[32m━━━━━━━━━━━━━━━━━━━━\u001b[0m\u001b[37m\u001b[0m \u001b[1m0s\u001b[0m 2ms/step\n",
      "\u001b[1m307/307\u001b[0m \u001b[32m━━━━━━━━━━━━━━━━━━━━\u001b[0m\u001b[37m\u001b[0m \u001b[1m0s\u001b[0m 541us/step\n",
      "\u001b[1m64/64\u001b[0m \u001b[32m━━━━━━━━━━━━━━━━━━━━\u001b[0m\u001b[37m\u001b[0m \u001b[1m0s\u001b[0m 560us/step\n",
      "\u001b[1m307/307\u001b[0m \u001b[32m━━━━━━━━━━━━━━━━━━━━\u001b[0m\u001b[37m\u001b[0m \u001b[1m0s\u001b[0m 501us/step\n",
      "\u001b[1m64/64\u001b[0m \u001b[32m━━━━━━━━━━━━━━━━━━━━\u001b[0m\u001b[37m\u001b[0m \u001b[1m0s\u001b[0m 479us/step\n",
      "\u001b[1m307/307\u001b[0m \u001b[32m━━━━━━━━━━━━━━━━━━━━\u001b[0m\u001b[37m\u001b[0m \u001b[1m0s\u001b[0m 1ms/step\n",
      "\u001b[1m64/64\u001b[0m \u001b[32m━━━━━━━━━━━━━━━━━━━━\u001b[0m\u001b[37m\u001b[0m \u001b[1m0s\u001b[0m 958us/step\n"
     ]
    }
   ],
   "source": [
    "features = Extraction(train_data_balanced,\n",
    "                      val_data,\n",
    "                      window_size=6,\n",
    "                      features=features_list,\n",
    "                      avgpool=True\n",
    "                      )"
   ]
  },
  {
   "cell_type": "code",
   "execution_count": 16,
   "metadata": {},
   "outputs": [
    {
     "data": {
      "text/plain": [
       "(9800,)"
      ]
     },
     "metadata": {},
     "output_type": "display_data"
    },
    {
     "data": {
      "text/plain": [
       "(2028,)"
      ]
     },
     "metadata": {},
     "output_type": "display_data"
    }
   ],
   "source": [
    "train_y = features.train_y\n",
    "val_y = features.val_y\n",
    "\n",
    "display(train_y.shape)\n",
    "display(val_y.shape)"
   ]
  },
  {
   "cell_type": "code",
   "execution_count": 17,
   "metadata": {},
   "outputs": [
    {
     "data": {
      "text/plain": [
       "'melspectrogram'"
      ]
     },
     "metadata": {},
     "output_type": "display_data"
    },
    {
     "data": {
      "text/plain": [
       "(9800, 128)"
      ]
     },
     "metadata": {},
     "output_type": "display_data"
    },
    {
     "data": {
      "text/plain": [
       "'mfcc'"
      ]
     },
     "metadata": {},
     "output_type": "display_data"
    },
    {
     "data": {
      "text/plain": [
       "(9800, 20)"
      ]
     },
     "metadata": {},
     "output_type": "display_data"
    },
    {
     "data": {
      "text/plain": [
       "'chroma'"
      ]
     },
     "metadata": {},
     "output_type": "display_data"
    },
    {
     "data": {
      "text/plain": [
       "(9800, 12)"
      ]
     },
     "metadata": {},
     "output_type": "display_data"
    },
    {
     "data": {
      "text/plain": [
       "'cqt'"
      ]
     },
     "metadata": {},
     "output_type": "display_data"
    },
    {
     "data": {
      "text/plain": [
       "(9800, 84)"
      ]
     },
     "metadata": {},
     "output_type": "display_data"
    }
   ],
   "source": [
    "# Avgpooled Features\n",
    "train_features_1D = features.train_features_1D\n",
    "for key in train_features_1D.keys():\n",
    "  display(key)\n",
    "  display(train_features_1D[key].shape)"
   ]
  },
  {
   "cell_type": "code",
   "execution_count": 18,
   "metadata": {},
   "outputs": [
    {
     "data": {
      "text/plain": [
       "'melspectrogram'"
      ]
     },
     "metadata": {},
     "output_type": "display_data"
    },
    {
     "data": {
      "text/plain": [
       "(2028, 128)"
      ]
     },
     "metadata": {},
     "output_type": "display_data"
    },
    {
     "data": {
      "text/plain": [
       "'mfcc'"
      ]
     },
     "metadata": {},
     "output_type": "display_data"
    },
    {
     "data": {
      "text/plain": [
       "(2028, 20)"
      ]
     },
     "metadata": {},
     "output_type": "display_data"
    },
    {
     "data": {
      "text/plain": [
       "'chroma'"
      ]
     },
     "metadata": {},
     "output_type": "display_data"
    },
    {
     "data": {
      "text/plain": [
       "(2028, 12)"
      ]
     },
     "metadata": {},
     "output_type": "display_data"
    },
    {
     "data": {
      "text/plain": [
       "'cqt'"
      ]
     },
     "metadata": {},
     "output_type": "display_data"
    },
    {
     "data": {
      "text/plain": [
       "(2028, 84)"
      ]
     },
     "metadata": {},
     "output_type": "display_data"
    }
   ],
   "source": [
    "# Avgpooled Features\n",
    "val_features_1D = features.val_features_1D\n",
    "for key in val_features_1D.keys():\n",
    "  display(key)\n",
    "  display(val_features_1D[key].shape)"
   ]
  },
  {
   "cell_type": "code",
   "execution_count": 19,
   "metadata": {},
   "outputs": [
    {
     "data": {
      "text/plain": [
       "'melspectrogram'"
      ]
     },
     "metadata": {},
     "output_type": "display_data"
    },
    {
     "data": {
      "text/plain": [
       "(9800, 128, 517)"
      ]
     },
     "metadata": {},
     "output_type": "display_data"
    },
    {
     "data": {
      "text/plain": [
       "'mfcc'"
      ]
     },
     "metadata": {},
     "output_type": "display_data"
    },
    {
     "data": {
      "text/plain": [
       "(9800, 20, 517)"
      ]
     },
     "metadata": {},
     "output_type": "display_data"
    },
    {
     "data": {
      "text/plain": [
       "'chroma'"
      ]
     },
     "metadata": {},
     "output_type": "display_data"
    },
    {
     "data": {
      "text/plain": [
       "(9800, 12, 517)"
      ]
     },
     "metadata": {},
     "output_type": "display_data"
    },
    {
     "data": {
      "text/plain": [
       "'cqt'"
      ]
     },
     "metadata": {},
     "output_type": "display_data"
    },
    {
     "data": {
      "text/plain": [
       "(9800, 84, 517)"
      ]
     },
     "metadata": {},
     "output_type": "display_data"
    }
   ],
   "source": [
    "# Not avgpooled Features\n",
    "train_features_2D = features.train_features_2D\n",
    "for key in train_features_2D.keys():\n",
    "  display(key)\n",
    "  display(train_features_2D[key].shape)"
   ]
  },
  {
   "cell_type": "code",
   "execution_count": 20,
   "metadata": {},
   "outputs": [
    {
     "data": {
      "text/plain": [
       "'melspectrogram'"
      ]
     },
     "metadata": {},
     "output_type": "display_data"
    },
    {
     "data": {
      "text/plain": [
       "(2028, 128, 517)"
      ]
     },
     "metadata": {},
     "output_type": "display_data"
    },
    {
     "data": {
      "text/plain": [
       "'mfcc'"
      ]
     },
     "metadata": {},
     "output_type": "display_data"
    },
    {
     "data": {
      "text/plain": [
       "(2028, 20, 517)"
      ]
     },
     "metadata": {},
     "output_type": "display_data"
    },
    {
     "data": {
      "text/plain": [
       "'chroma'"
      ]
     },
     "metadata": {},
     "output_type": "display_data"
    },
    {
     "data": {
      "text/plain": [
       "(2028, 12, 517)"
      ]
     },
     "metadata": {},
     "output_type": "display_data"
    },
    {
     "data": {
      "text/plain": [
       "'cqt'"
      ]
     },
     "metadata": {},
     "output_type": "display_data"
    },
    {
     "data": {
      "text/plain": [
       "(2028, 84, 517)"
      ]
     },
     "metadata": {},
     "output_type": "display_data"
    }
   ],
   "source": [
    "# Not avgpooled Features\n",
    "val_features_2D = features.val_features_2D\n",
    "for key in val_features_2D.keys():\n",
    "  display(key)\n",
    "  display(val_features_2D[key].shape)"
   ]
  },
  {
   "cell_type": "code",
   "execution_count": 21,
   "metadata": {},
   "outputs": [],
   "source": [
    "train_ids = features.train_ids\n",
    "val_ids = features.val_ids"
   ]
  },
  {
   "cell_type": "markdown",
   "metadata": {},
   "source": [
    "### Encode Classes"
   ]
  },
  {
   "cell_type": "code",
   "execution_count": 22,
   "metadata": {},
   "outputs": [
    {
     "name": "stdout",
     "output_type": "stream",
     "text": [
      "Encoded classes for [0, 1, 2]: ['Acrocephalus arundinaceus', 'Acrocephalus melanopogon', 'Acrocephalus scirpaceus']\n",
      "Encoded training labels: [15 15 15 ...  5  5  5]\n",
      "Encoded validation labels: [15 15 15 ... 12 12 12]\n"
     ]
    }
   ],
   "source": [
    "label_encoder = LabelEncoder().fit(train_y)\n",
    "train_y_encoded = label_encoder.transform(train_y)\n",
    "val_y_encoded = label_encoder.transform(val_y)\n",
    "\n",
    "classes = list(label_encoder.inverse_transform([0, 1, 2]))\n",
    "print(\"Encoded classes for [0, 1, 2]:\", classes)\n",
    "print(\"Encoded training labels:\", train_y_encoded)\n",
    "print(\"Encoded validation labels:\", val_y_encoded)"
   ]
  },
  {
   "cell_type": "code",
   "execution_count": 23,
   "metadata": {},
   "outputs": [],
   "source": [
    "# Avg Pooled\n",
    "\n",
    "train_features_1D['label'] = train_y_encoded\n",
    "val_features_1D['label'] = val_y_encoded\n",
    "\n",
    "train_features_1D['id'] = train_ids\n",
    "val_features_1D['id'] = val_ids\n",
    "\n",
    "# Not Avg Pooled\n",
    "\n",
    "train_features_2D['label'] = train_y_encoded\n",
    "val_features_2D['label'] = val_y_encoded\n",
    "\n",
    "train_features_2D['id'] = train_ids\n",
    "val_features_2D['id'] = val_ids"
   ]
  },
  {
   "cell_type": "code",
   "execution_count": 24,
   "metadata": {},
   "outputs": [
    {
     "data": {
      "text/plain": [
       "{'train': {'melspectrogram': array([[-0.01737999, -0.9887568 , -0.9906883 , ..., -0.86174977,\n",
       "          -0.8951953 , -0.9989192 ],\n",
       "         [-0.01776686, -0.9898095 , -0.9906936 , ..., -0.86467505,\n",
       "          -0.8967181 , -0.9992211 ],\n",
       "         [-0.01776693, -0.98981524, -0.99070024, ..., -0.869458  ,\n",
       "          -0.9015527 , -0.9991495 ],\n",
       "         ...,\n",
       "         [-0.01774816, -0.87505704, -0.83074677, ..., -0.9999875 ,\n",
       "          -0.99999493, -1.        ],\n",
       "         [-0.01776952, -0.8752005 , -0.83170116, ..., -0.9999876 ,\n",
       "          -0.99999493, -1.        ],\n",
       "         [-0.01775181, -0.8790601 , -0.83794415, ..., -0.99998736,\n",
       "          -0.99999493, -1.        ]], dtype=float32),\n",
       "  'mfcc': array([[-1.        , -0.06654957, -0.12421619, ...,  0.02332132,\n",
       "           0.01864451,  0.04465649],\n",
       "         [-1.        , -0.07432997, -0.16210054, ...,  0.02310089,\n",
       "           0.01966888,  0.04817654],\n",
       "         [-1.        , -0.07249828, -0.15793009, ...,  0.02668171,\n",
       "           0.01590823,  0.04401247],\n",
       "         ...,\n",
       "         [-1.        ,  0.18369238, -0.4319995 , ...,  0.05928305,\n",
       "           0.01504175,  0.01224459],\n",
       "         [-1.        ,  0.1923442 , -0.3717733 , ...,  0.05413547,\n",
       "           0.02563475,  0.01003358],\n",
       "         [-1.        ,  0.18727218, -0.36927885, ...,  0.04995684,\n",
       "           0.03064486,  0.00947934]], dtype=float32),\n",
       "  'chroma': array([[0.7984942 , 0.8775951 , 0.9301104 , ..., 0.82917774, 0.75516325,\n",
       "          0.7156394 ],\n",
       "         [0.76844054, 0.8519839 , 0.91398925, ..., 0.78318673, 0.71509093,\n",
       "          0.6823157 ],\n",
       "         [0.75302315, 0.8265566 , 0.8853985 , ..., 0.768789  , 0.7018961 ,\n",
       "          0.6694744 ],\n",
       "         ...,\n",
       "         [0.612485  , 0.6739042 , 0.7543135 , ..., 0.7898745 , 0.70870894,\n",
       "          0.60678035],\n",
       "         [0.6866234 , 0.7512927 , 0.8394614 , ..., 0.81948626, 0.71411836,\n",
       "          0.6522874 ],\n",
       "         [0.6843642 , 0.76298356, 0.87128437, ..., 0.8218206 , 0.73044115,\n",
       "          0.6425947 ]], dtype=float32),\n",
       "  'cqt': array([[-72.81657 , -73.1111  , -73.16638 , ..., -53.655697, -53.62718 ,\n",
       "          -52.566044],\n",
       "         [-72.81462 , -73.11025 , -73.1641  , ..., -52.781616, -52.86593 ,\n",
       "          -51.43971 ],\n",
       "         [-72.81466 , -73.11033 , -73.16407 , ..., -51.63003 , -52.53683 ,\n",
       "          -51.381668],\n",
       "         ...,\n",
       "         [-55.27539 , -58.28477 , -58.97746 , ..., -44.744114, -44.976974,\n",
       "          -45.56381 ],\n",
       "         [-54.24552 , -55.15051 , -56.015064, ..., -43.918514, -44.040222,\n",
       "          -45.034386],\n",
       "         [-55.090298, -55.418556, -55.985336, ..., -41.376133, -41.567158,\n",
       "          -43.003155]], dtype=float32),\n",
       "  'label': array([15, 15, 15, ...,  5,  5,  5]),\n",
       "  'id': array(['XC184422.mp3', 'XC184422.mp3', 'XC184422.mp3', ..., 'XC26960.mp3',\n",
       "         'XC26960.mp3', 'XC26960.mp3'], dtype='<U12')},\n",
       " 'val': {'melspectrogram': array([[-0.01802412, -0.5716782 , -0.60311687, ..., -0.9712199 ,\n",
       "          -0.97905004, -0.9999987 ],\n",
       "         [-0.01783214, -0.58044875, -0.60235274, ..., -0.97815204,\n",
       "          -0.9846973 , -0.99999726],\n",
       "         [-0.01765023, -0.59897846, -0.6155522 , ..., -0.9816154 ,\n",
       "          -0.9888769 , -1.        ],\n",
       "         ...,\n",
       "         [-0.01776476, -0.7650678 , -0.7335544 , ..., -0.9999726 ,\n",
       "          -0.999994  , -1.        ],\n",
       "         [-0.01777423, -0.76801825, -0.72973883, ..., -0.9999791 ,\n",
       "          -0.99998903, -1.        ],\n",
       "         [-0.01777378, -0.77380633, -0.7363263 , ..., -0.9999829 ,\n",
       "          -0.99998397, -0.9999988 ]], dtype=float32),\n",
       "  'mfcc': array([[-9.9986780e-01,  6.2879890e-02,  2.9990528e-02, ...,\n",
       "           2.5231950e-02,  3.3420660e-02,  8.8889366e-03],\n",
       "         [-9.9989986e-01,  7.1387522e-02,  4.7658239e-02, ...,\n",
       "           2.4249818e-02,  2.7591342e-02,  2.8304721e-03],\n",
       "         [-9.9986589e-01,  7.7712901e-02,  6.5958261e-02, ...,\n",
       "           2.3140291e-02,  2.3855576e-02, -7.0546195e-03],\n",
       "         ...,\n",
       "         [-9.9991477e-01,  1.1204580e-01,  1.2980585e-03, ...,\n",
       "           1.3083958e-02,  2.3603421e-02, -6.9500494e-04],\n",
       "         [-9.9990982e-01,  1.1674297e-01,  4.0181954e-03, ...,\n",
       "           1.2992748e-02,  2.2343716e-02, -1.1950482e-03],\n",
       "         [-9.9991488e-01,  1.5007354e-01,  1.0725763e-02, ...,\n",
       "           1.6623089e-02,  1.0829890e-02,  1.3954273e-02]], dtype=float32),\n",
       "  'chroma': array([[0.736195  , 0.79992664, 0.8599113 , ..., 0.76174515, 0.6978517 ,\n",
       "          0.67534465],\n",
       "         [0.75475967, 0.8227752 , 0.88019073, ..., 0.78969646, 0.71881056,\n",
       "          0.6799919 ],\n",
       "         [0.7596153 , 0.8249054 , 0.8779707 , ..., 0.79544365, 0.719981  ,\n",
       "          0.67794603],\n",
       "         ...,\n",
       "         [0.7476916 , 0.78121674, 0.83269167, ..., 0.75338614, 0.6823434 ,\n",
       "          0.65673834],\n",
       "         [0.7459311 , 0.7944982 , 0.84880495, ..., 0.76699233, 0.6941862 ,\n",
       "          0.66099304],\n",
       "         [0.8150256 , 0.8859486 , 0.9433669 , ..., 0.85393924, 0.77852327,\n",
       "          0.73553884]], dtype=float32),\n",
       "  'cqt': array([[-32.5889  , -31.910084, -32.43853 , ..., -53.975613, -54.76907 ,\n",
       "          -54.04593 ],\n",
       "         [-33.701385, -33.035034, -32.76675 , ..., -55.56621 , -56.26283 ,\n",
       "          -55.873512],\n",
       "         [-33.977757, -35.357246, -34.641743, ..., -56.2398  , -57.15876 ,\n",
       "          -57.21576 ],\n",
       "         ...,\n",
       "         [-49.219967, -49.002415, -48.299747, ..., -56.557323, -54.99859 ,\n",
       "          -53.338654],\n",
       "         [-48.736134, -50.397842, -50.970757, ..., -57.191517, -56.228977,\n",
       "          -54.98083 ],\n",
       "         [-49.83268 , -51.63599 , -52.274303, ..., -60.55834 , -59.857494,\n",
       "          -59.249626]], dtype=float32),\n",
       "  'label': array([15, 15, 15, ..., 12, 12, 12]),\n",
       "  'id': array(['XC514030.mp3', 'XC514030.mp3', 'XC514030.mp3', ...,\n",
       "         'XC308991.mp3', 'XC308991.mp3', 'XC308991.mp3'], dtype='<U12')}}"
      ]
     },
     "execution_count": 24,
     "metadata": {},
     "output_type": "execute_result"
    }
   ],
   "source": [
    "merged_dict_1D = {'train': train_features_1D, 'val': val_features_1D}\n",
    "merged_dict_1D"
   ]
  },
  {
   "cell_type": "code",
   "execution_count": 25,
   "metadata": {},
   "outputs": [
    {
     "data": {
      "text/plain": [
       "{'train': {'melspectrogram': array([[[-1.75276976e-02,  0.00000000e+00, -7.71940732e-03, ...,\n",
       "           -1.61800776e-02, -4.91444208e-03, -2.97452265e-04],\n",
       "          [-1.94064215e-01, -2.12444767e-01, -2.69574255e-01, ...,\n",
       "           -3.59871984e-01, -2.52936304e-01, -2.02870801e-01],\n",
       "          [-2.68468022e-01, -2.86741257e-01, -3.42513889e-01, ...,\n",
       "           -4.10629153e-01, -3.25488627e-01, -2.76673973e-01],\n",
       "          ...,\n",
       "          [-9.98166680e-01, -9.98050034e-01, -9.95472729e-01, ...,\n",
       "           -9.54798877e-01, -9.99729514e-01, -1.00000000e+00],\n",
       "          [-9.99085188e-01, -9.98989701e-01, -9.97560978e-01, ...,\n",
       "           -9.73816872e-01, -9.94321585e-01, -9.91682649e-01],\n",
       "          [-1.00000000e+00, -1.00000000e+00, -1.00000000e+00, ...,\n",
       "           -1.00000000e+00, -1.00000000e+00, -9.94185746e-01]],\n",
       "  \n",
       "         [[-1.73332524e-02,  0.00000000e+00, -8.11586156e-03, ...,\n",
       "           -1.66160017e-02, -5.43642510e-03, -8.62621004e-04],\n",
       "          [-1.93515822e-01, -2.12081432e-01, -2.69346118e-01, ...,\n",
       "           -3.59874457e-01, -2.53532499e-01, -2.04729259e-01],\n",
       "          [-2.67887354e-01, -2.86360145e-01, -3.42243165e-01, ...,\n",
       "           -4.10595775e-01, -3.26110244e-01, -2.79006511e-01],\n",
       "          ...,\n",
       "          [-9.95617568e-01, -9.94898677e-01, -9.88808215e-01, ...,\n",
       "           -9.76370275e-01, -9.92485166e-01, -9.94196415e-01],\n",
       "          [-1.00000000e+00, -9.99636710e-01, -9.94746208e-01, ...,\n",
       "           -9.87320006e-01, -9.97966468e-01, -9.99115944e-01],\n",
       "          [-9.99344587e-01, -1.00000000e+00, -1.00000000e+00, ...,\n",
       "           -1.00000000e+00, -1.00000000e+00, -1.00000000e+00]],\n",
       "  \n",
       "         [[-1.73037108e-02,  0.00000000e+00, -8.09777249e-03, ...,\n",
       "           -1.67268272e-02, -5.47271734e-03, -8.63207912e-04],\n",
       "          [-1.93162248e-01, -2.11570099e-01, -2.68770695e-01, ...,\n",
       "           -3.62288356e-01, -2.55055487e-01, -2.05428019e-01],\n",
       "          [-2.67398328e-01, -2.85670966e-01, -3.41513634e-01, ...,\n",
       "           -4.13322151e-01, -3.28065574e-01, -2.79957920e-01],\n",
       "          ...,\n",
       "          [-9.90673482e-01, -9.89947975e-01, -9.86208618e-01, ...,\n",
       "           -9.75045681e-01, -9.97374058e-01, -9.96849358e-01],\n",
       "          [-9.98742521e-01, -9.98209357e-01, -9.95943367e-01, ...,\n",
       "           -9.79346454e-01, -9.96781826e-01, -9.95891094e-01],\n",
       "          [-1.00000000e+00, -1.00000000e+00, -1.00000000e+00, ...,\n",
       "           -1.00000000e+00, -9.98981118e-01, -9.96030807e-01]],\n",
       "  \n",
       "         ...,\n",
       "  \n",
       "         [[-1.73819028e-02,  0.00000000e+00, -8.08980037e-03, ...,\n",
       "           -1.65578648e-02, -5.43198502e-03, -8.54118611e-04],\n",
       "          [-1.93849549e-01, -2.12255001e-01, -2.69406140e-01, ...,\n",
       "           -3.58194768e-01, -2.52513856e-01, -2.03870997e-01],\n",
       "          [-2.68469095e-01, -2.86762476e-01, -3.42547297e-01, ...,\n",
       "           -4.08773214e-01, -3.24866861e-01, -2.77898073e-01],\n",
       "          ...,\n",
       "          [-9.98953223e-01, -9.98979211e-01, -9.99058187e-01, ...,\n",
       "           -9.99210477e-01, -9.99092102e-01, -9.99028802e-01],\n",
       "          [-9.99573886e-01, -9.99584436e-01, -9.99616563e-01, ...,\n",
       "           -9.99673784e-01, -9.99624848e-01, -9.99598742e-01],\n",
       "          [-1.00000000e+00, -1.00000000e+00, -1.00000000e+00, ...,\n",
       "           -1.00000000e+00, -1.00000000e+00, -1.00000000e+00]],\n",
       "  \n",
       "         [[-1.74669586e-02,  0.00000000e+00, -8.17190669e-03, ...,\n",
       "           -1.64982639e-02, -5.41591132e-03, -8.79709842e-04],\n",
       "          [-1.95095092e-01, -2.13612005e-01, -2.71014243e-01, ...,\n",
       "           -3.57158065e-01, -2.51770377e-01, -2.03275695e-01],\n",
       "          [-2.70101935e-01, -2.88439035e-01, -3.44344258e-01, ...,\n",
       "           -4.08233792e-01, -3.24233711e-01, -2.77263373e-01],\n",
       "          ...,\n",
       "          [-9.98972118e-01, -9.98997331e-01, -9.99074697e-01, ...,\n",
       "           -9.99220729e-01, -9.99104559e-01, -9.99042630e-01],\n",
       "          [-9.99580264e-01, -9.99590635e-01, -9.99622524e-01, ...,\n",
       "           -9.99678195e-01, -9.99629974e-01, -9.99604285e-01],\n",
       "          [-1.00000000e+00, -1.00000000e+00, -1.00000000e+00, ...,\n",
       "           -1.00000000e+00, -1.00000000e+00, -1.00000000e+00]],\n",
       "  \n",
       "         [[-1.72512215e-02,  0.00000000e+00, -8.06825515e-03, ...,\n",
       "           -1.66677497e-02, -5.46124158e-03, -8.67384602e-04],\n",
       "          [-1.92622423e-01, -2.10952789e-01, -2.67858952e-01, ...,\n",
       "           -3.61231446e-01, -2.54970640e-01, -2.05999702e-01],\n",
       "          [-2.66750127e-01, -2.84989357e-01, -3.40582013e-01, ...,\n",
       "           -4.12325799e-01, -3.28078449e-01, -2.80804068e-01],\n",
       "          ...,\n",
       "          [-9.99013543e-01, -9.99038219e-01, -9.99112666e-01, ...,\n",
       "           -9.99133945e-01, -9.99001682e-01, -9.98930931e-01],\n",
       "          [-9.99592543e-01, -9.99602675e-01, -9.99633372e-01, ...,\n",
       "           -9.99649704e-01, -9.99596417e-01, -9.99567926e-01],\n",
       "          [-1.00000000e+00, -1.00000000e+00, -1.00000000e+00, ...,\n",
       "           -1.00000000e+00, -1.00000000e+00, -1.00000000e+00]]]),\n",
       "  'mfcc': array([[[-1.00000000e+00, -1.00000000e+00, -1.00000000e+00, ...,\n",
       "           -1.00000000e+00, -1.00000000e+00, -1.00000000e+00],\n",
       "          [ 9.28888977e-01,  8.21539700e-01,  5.88943720e-01, ...,\n",
       "            3.94155592e-01,  6.41869485e-01,  8.63480091e-01],\n",
       "          [ 1.89027667e-01,  1.69112608e-01,  1.24448732e-01, ...,\n",
       "            9.49309543e-02,  1.36415914e-01,  1.77982062e-01],\n",
       "          ...,\n",
       "          [ 3.03276815e-02,  2.90728696e-02,  2.42268834e-02, ...,\n",
       "            2.27181297e-02,  2.62652840e-02,  3.09487339e-02],\n",
       "          [ 2.85204276e-02,  2.73697432e-02,  2.25529727e-02, ...,\n",
       "            1.74135808e-02,  2.28290819e-02,  2.71820873e-02],\n",
       "          [ 2.70631257e-02,  2.61639282e-02,  2.21490413e-02, ...,\n",
       "            2.42952146e-02,  2.62303650e-02,  3.04973796e-02]],\n",
       "  \n",
       "         [[-1.00000000e+00, -1.00000000e+00, -1.00000000e+00, ...,\n",
       "           -1.00000000e+00, -1.00000000e+00, -1.00000000e+00],\n",
       "          [ 9.31568682e-01,  8.23340833e-01,  5.87908864e-01, ...,\n",
       "            3.87687147e-01,  6.41660094e-01,  8.68921340e-01],\n",
       "          [ 1.91123486e-01,  1.71566501e-01,  1.27414122e-01, ...,\n",
       "            5.90122268e-02,  1.10390365e-01,  1.56567186e-01],\n",
       "          ...,\n",
       "          [ 2.84555033e-02,  2.83856485e-02,  2.53239553e-02, ...,\n",
       "            5.06181642e-02,  6.21086173e-02,  7.09140822e-02],\n",
       "          [ 2.80061197e-02,  2.68145036e-02,  2.20101196e-02, ...,\n",
       "           -2.45769937e-02, -2.37614028e-02, -2.10902467e-02],\n",
       "          [ 3.12284771e-02,  2.96895802e-02,  2.40217373e-02, ...,\n",
       "            2.35648956e-02,  2.79849991e-02,  3.08762398e-02]],\n",
       "  \n",
       "         [[-1.00000000e+00, -1.00000000e+00, -1.00000000e+00, ...,\n",
       "           -1.00000000e+00, -1.00000000e+00, -1.00000000e+00],\n",
       "          [ 9.30554390e-01,  8.23429346e-01,  5.90621471e-01, ...,\n",
       "            3.87363046e-01,  6.38284862e-01,  8.61039579e-01],\n",
       "          [ 1.88665748e-01,  1.69287845e-01,  1.25270337e-01, ...,\n",
       "            9.20166299e-02,  1.33696258e-01,  1.75390482e-01],\n",
       "          ...,\n",
       "          [ 3.56872492e-02,  3.41525935e-02,  2.78294105e-02, ...,\n",
       "            2.86694858e-02,  3.09375692e-02,  3.60513963e-02],\n",
       "          [ 2.54076105e-02,  2.45103724e-02,  2.04306729e-02, ...,\n",
       "            1.66421942e-02,  2.35517249e-02,  2.88625602e-02],\n",
       "          [ 2.45512165e-02,  2.43786871e-02,  2.24156119e-02, ...,\n",
       "            1.57866515e-02,  1.83647182e-02,  2.09196750e-02]],\n",
       "  \n",
       "         ...,\n",
       "  \n",
       "         [[-1.00000000e+00, -1.00000000e+00, -1.00000000e+00, ...,\n",
       "           -1.00000000e+00, -1.00000000e+00, -1.00000000e+00],\n",
       "          [ 9.22516584e-01,  8.64607394e-01,  6.68564677e-01, ...,\n",
       "            4.88669336e-01,  6.87614799e-01,  8.70648086e-01],\n",
       "          [ 1.44612342e-01,  5.94854839e-02, -8.00220892e-02, ...,\n",
       "           -8.42410699e-02,  3.91874947e-02,  1.15753882e-01],\n",
       "          ...,\n",
       "          [ 3.64952311e-02,  5.80909923e-02,  7.15756565e-02, ...,\n",
       "            3.32104973e-02,  3.27765569e-02,  3.60844918e-02],\n",
       "          [ 3.46324407e-02,  4.05149944e-02,  3.31455842e-02, ...,\n",
       "            3.38169336e-02,  5.27583547e-02,  6.49740398e-02],\n",
       "          [ 1.57324467e-02,  5.78220097e-05, -1.03881536e-02, ...,\n",
       "            7.44545646e-03,  1.34018045e-02,  1.61246229e-02]],\n",
       "  \n",
       "         [[-1.00000000e+00, -1.00000000e+00, -1.00000000e+00, ...,\n",
       "           -1.00000000e+00, -1.00000000e+00, -1.00000000e+00],\n",
       "          [ 9.13134813e-01,  8.35045993e-01,  6.42506182e-01, ...,\n",
       "            5.11695325e-01,  7.24803567e-01,  9.06309903e-01],\n",
       "          [ 1.20282210e-01,  8.60648826e-02,  1.67247429e-02, ...,\n",
       "           -1.53512090e-01, -2.39310044e-04,  9.65268910e-02],\n",
       "          ...,\n",
       "          [ 5.88212237e-02,  6.35060742e-02,  6.21625185e-02, ...,\n",
       "            4.10316363e-02,  4.49823625e-02,  4.00922410e-02],\n",
       "          [ 1.23741999e-02,  1.40547277e-02,  1.47019532e-02, ...,\n",
       "            3.28521989e-02,  3.60241942e-02,  3.76304165e-02],\n",
       "          [-1.66930314e-02, -2.21051108e-02, -2.70521622e-02, ...,\n",
       "            2.40961444e-02,  3.64237167e-02,  4.52373885e-02]],\n",
       "  \n",
       "         [[-1.00000000e+00, -1.00000000e+00, -1.00000000e+00, ...,\n",
       "           -1.00000000e+00, -1.00000000e+00, -1.00000000e+00],\n",
       "          [ 9.21727717e-01,  8.56656373e-01,  6.74105048e-01, ...,\n",
       "            4.73719984e-01,  6.61064684e-01,  8.37783873e-01],\n",
       "          [ 1.44679919e-01,  9.06496421e-02, -8.65907408e-03, ...,\n",
       "           -1.24526717e-01,  5.10328002e-02,  1.37562245e-01],\n",
       "          ...,\n",
       "          [ 1.95712373e-02,  2.74795480e-02,  3.09622195e-02, ...,\n",
       "            6.45233169e-02,  4.53815833e-02,  4.03847396e-02],\n",
       "          [ 4.83263172e-02,  4.86164242e-02,  4.11048420e-02, ...,\n",
       "            3.06759570e-02,  3.47928032e-02,  3.29942480e-02],\n",
       "          [ 3.34730744e-02,  2.67073885e-02,  1.57110747e-02, ...,\n",
       "           -8.51673633e-03,  9.58252139e-03,  1.82076674e-02]]]),\n",
       "  'chroma': array([[[0.86484909, 0.89311284, 0.85734689, ..., 0.82776934,\n",
       "           0.87471002, 0.88637722],\n",
       "          [0.89066845, 0.92248255, 0.9029218 , ..., 0.89205903,\n",
       "           0.91537392, 0.91590756],\n",
       "          [0.9339416 , 0.95822042, 0.94852793, ..., 0.94595766,\n",
       "           0.95747739, 0.95471066],\n",
       "          ...,\n",
       "          [0.86007088, 0.89326787, 0.86953735, ..., 0.85951549,\n",
       "           0.87341434, 0.88866323],\n",
       "          [0.82174945, 0.85494614, 0.81797975, ..., 0.78837109,\n",
       "           0.82994634, 0.84722924],\n",
       "          [0.80821103, 0.83579868, 0.79088205, ..., 0.74997723,\n",
       "           0.80726939, 0.82542688]],\n",
       "  \n",
       "         [[0.86682558, 0.89458466, 0.85859162, ..., 0.74611777,\n",
       "           0.77933013, 0.82024395],\n",
       "          [0.89076525, 0.92214566, 0.90268737, ..., 0.79967177,\n",
       "           0.81389886, 0.84808052],\n",
       "          [0.93518919, 0.95910305, 0.94885069, ..., 0.8400737 ,\n",
       "           0.84147835, 0.87564582],\n",
       "          ...,\n",
       "          [0.86056781, 0.89303988, 0.86892432, ..., 0.76385045,\n",
       "           0.76783711, 0.81541175],\n",
       "          [0.82275331, 0.85523909, 0.818012  , ..., 0.70101136,\n",
       "           0.73072904, 0.77902889],\n",
       "          [0.8114931 , 0.83840942, 0.79288775, ..., 0.66654289,\n",
       "           0.71194667, 0.76083195]],\n",
       "  \n",
       "         [[0.86361331, 0.89193815, 0.85816628, ..., 0.82407182,\n",
       "           0.86945909, 0.88064951],\n",
       "          [0.88872844, 0.92083669, 0.90309727, ..., 0.88978595,\n",
       "           0.91275299, 0.91318792],\n",
       "          [0.93379295, 0.95810455, 0.94872481, ..., 0.94514811,\n",
       "           0.9563607 , 0.95375264],\n",
       "          ...,\n",
       "          [0.86106467, 0.8936305 , 0.86942446, ..., 0.85895228,\n",
       "           0.87246078, 0.88768709],\n",
       "          [0.82300121, 0.85558432, 0.81832701, ..., 0.78732818,\n",
       "           0.82835019, 0.84560943],\n",
       "          [0.8081181 , 0.835495  , 0.79194987, ..., 0.74754208,\n",
       "           0.80547291, 0.82436049]],\n",
       "  \n",
       "         ...,\n",
       "  \n",
       "         [[0.87644529, 0.86303806, 0.73604333, ..., 0.79838151,\n",
       "           0.85309839, 0.87968892],\n",
       "          [0.91072845, 0.90823835, 0.81301236, ..., 0.88229042,\n",
       "           0.91081065, 0.92257917],\n",
       "          [0.95914203, 0.95344949, 0.877141  , ..., 0.93783593,\n",
       "           0.95741743, 0.96824211],\n",
       "          ...,\n",
       "          [0.92397201, 0.94196117, 0.85474449, ..., 0.86024696,\n",
       "           0.89136231, 0.91501337],\n",
       "          [0.88014585, 0.88831466, 0.78763825, ..., 0.81548971,\n",
       "           0.84460092, 0.86617309],\n",
       "          [0.82886982, 0.82242274, 0.70690441, ..., 0.74769896,\n",
       "           0.79804754, 0.82581729]],\n",
       "  \n",
       "         [[0.77726609, 0.76767582, 0.65860164, ..., 0.73451144,\n",
       "           0.79495555, 0.85118806],\n",
       "          [0.8158043 , 0.80746233, 0.70404023, ..., 0.77384526,\n",
       "           0.80088043, 0.85150987],\n",
       "          [0.87994468, 0.87330902, 0.79301608, ..., 0.92116493,\n",
       "           0.93645859, 0.96627551],\n",
       "          ...,\n",
       "          [0.80413634, 0.8088553 , 0.73124468, ..., 0.71056676,\n",
       "           0.74589962, 0.80487978],\n",
       "          [0.78637516, 0.79320967, 0.69972485, ..., 0.63846874,\n",
       "           0.69648588, 0.7618075 ],\n",
       "          [0.75891048, 0.75451046, 0.63907659, ..., 0.61647052,\n",
       "           0.68912983, 0.756607  ]],\n",
       "  \n",
       "         [[0.86880392, 0.89184409, 0.845792  , ..., 0.82732344,\n",
       "           0.89398998, 0.90897852],\n",
       "          [0.90831721, 0.93887335, 0.91035891, ..., 0.89598358,\n",
       "           0.91651076, 0.91662121],\n",
       "          [0.94508231, 0.9684363 , 0.95785856, ..., 0.9757216 ,\n",
       "           0.9682709 , 0.96006793],\n",
       "          ...,\n",
       "          [0.86344582, 0.91645098, 0.95401084, ..., 0.95633054,\n",
       "           0.93487138, 0.92872792],\n",
       "          [0.81913865, 0.86421591, 0.85678667, ..., 0.90913719,\n",
       "           0.87403721, 0.87174517],\n",
       "          [0.80792397, 0.84326857, 0.8206619 , ..., 0.78442425,\n",
       "           0.82982749, 0.84840769]]]),\n",
       "  'cqt': array([[[-7.22918510e-02, -1.00035429e-01, -2.45110452e-01, ...,\n",
       "           -2.88550258e-01, -9.34975147e-02, -5.96046448e-08],\n",
       "          [-3.03003013e-01, -3.79698396e-01, -5.26229382e-01, ...,\n",
       "           -5.66583991e-01, -3.67560029e-01, -2.50920415e-01],\n",
       "          [-6.19096518e-01, -6.35748744e-01, -8.39716554e-01, ...,\n",
       "           -8.72206330e-01, -6.57375455e-01, -5.00582695e-01],\n",
       "          ...,\n",
       "          [-1.98525944e+01, -7.70145340e+01, -8.00000000e+01, ...,\n",
       "           -5.48977470e+01, -5.51289749e+01, -6.04277954e+01],\n",
       "          [-2.00860233e+01, -7.91967316e+01, -7.89667511e+01, ...,\n",
       "           -6.30837097e+01, -4.83159332e+01, -5.10475731e+01],\n",
       "          [-2.02637844e+01, -8.00000000e+01, -7.58555832e+01, ...,\n",
       "           -6.13300323e+01, -4.80841675e+01, -5.37418213e+01]],\n",
       "  \n",
       "         [[-4.16287780e-02, -6.99379444e-02, -2.15418398e-01, ...,\n",
       "           -2.88548887e-01, -9.34965611e-02,  1.19209290e-07],\n",
       "          [-2.68773735e-01, -3.45624208e-01, -4.92421865e-01, ...,\n",
       "           -5.66587687e-01, -3.67562890e-01, -2.50921249e-01],\n",
       "          [-5.81247330e-01, -5.98111510e-01, -8.01844120e-01, ...,\n",
       "           -8.72203112e-01, -6.57373905e-01, -5.00577450e-01],\n",
       "          ...,\n",
       "          [-1.98499546e+01, -5.07023926e+01, -6.45747757e+01, ...,\n",
       "           -5.46463737e+01, -4.39221039e+01, -4.49247513e+01],\n",
       "          [-2.03757992e+01, -4.64333954e+01, -4.69527435e+01, ...,\n",
       "           -5.46081161e+01, -4.44212112e+01, -4.66013107e+01],\n",
       "          [-2.04287910e+01, -4.91453857e+01, -4.67034111e+01, ...,\n",
       "           -4.34484634e+01, -4.35357285e+01, -4.95512199e+01]],\n",
       "  \n",
       "         [[-4.16038632e-02, -6.99083209e-02, -2.15377569e-01, ...,\n",
       "           -2.88541734e-01, -9.34908390e-02, -1.19209290e-07],\n",
       "          [-2.68767416e-01, -3.45610678e-01, -4.92402852e-01, ...,\n",
       "           -5.66583216e-01, -3.67564857e-01, -2.50926673e-01],\n",
       "          [-5.81254065e-01, -5.98114669e-01, -8.01834166e-01, ...,\n",
       "           -8.72214377e-01, -6.57383859e-01, -5.00598133e-01],\n",
       "          ...,\n",
       "          [-1.97904987e+01, -5.31877670e+01, -4.70206947e+01, ...,\n",
       "           -5.30838966e+01, -5.11705055e+01, -6.47135315e+01],\n",
       "          [-1.99148178e+01, -4.89843254e+01, -5.03893471e+01, ...,\n",
       "           -5.83843269e+01, -5.41533890e+01, -5.63779945e+01],\n",
       "          [-1.99995842e+01, -5.02663307e+01, -6.48421936e+01, ...,\n",
       "           -5.04891052e+01, -5.02718124e+01, -4.45611153e+01]],\n",
       "  \n",
       "         ...,\n",
       "  \n",
       "         [[-2.44451904e+00, -2.47241473e+00, -2.61741662e+00, ...,\n",
       "           -2.68541694e+00, -2.49065137e+00, -2.39730930e+00],\n",
       "          [-2.66649652e+00, -2.74340725e+00, -2.89040327e+00, ...,\n",
       "           -2.95975399e+00, -2.76088095e+00, -2.64446211e+00],\n",
       "          [-2.97339630e+00, -2.98946333e+00, -3.19211340e+00, ...,\n",
       "           -3.26614928e+00, -3.05165982e+00, -2.89511442e+00],\n",
       "          ...,\n",
       "          [-2.23002167e+01, -3.19717255e+01, -3.21331062e+01, ...,\n",
       "           -4.68266411e+01, -4.68564339e+01, -5.09441338e+01],\n",
       "          [-2.15299702e+01, -3.23650665e+01, -3.32431908e+01, ...,\n",
       "           -5.05428505e+01, -5.26492119e+01, -5.11517563e+01],\n",
       "          [-2.14267006e+01, -3.83233452e+01, -4.10742149e+01, ...,\n",
       "           -5.85711403e+01, -5.92558937e+01, -5.01924667e+01]],\n",
       "  \n",
       "         [[-5.61037064e-02, -8.46848488e-02, -2.30461001e-01, ...,\n",
       "           -2.87549615e-01, -9.30240154e-02, -1.19209290e-07],\n",
       "          [-2.80411959e-01, -3.57119083e-01, -5.03722310e-01, ...,\n",
       "           -5.67263007e-01, -3.68734479e-01, -2.52527595e-01],\n",
       "          [-5.92688680e-01, -6.09480739e-01, -8.13237548e-01, ...,\n",
       "           -8.79065871e-01, -6.63966298e-01, -5.07037401e-01],\n",
       "          ...,\n",
       "          [-1.94796047e+01, -4.39034653e+01, -3.71586342e+01, ...,\n",
       "           -3.79290466e+01, -3.73047371e+01, -3.81643906e+01],\n",
       "          [-1.94074993e+01, -5.06560097e+01, -4.14843941e+01, ...,\n",
       "           -4.24650917e+01, -3.69446564e+01, -4.66396255e+01],\n",
       "          [-1.97435741e+01, -5.42156830e+01, -4.75299454e+01, ...,\n",
       "           -4.28168030e+01, -3.79689484e+01, -4.44252319e+01]],\n",
       "  \n",
       "         [[-4.42917347e-02, -7.31106997e-02, -2.19107747e-01, ...,\n",
       "           -2.87543893e-01, -9.30515528e-02,  2.38418579e-07],\n",
       "          [-2.74297833e-01, -3.51987600e-01, -4.99718070e-01, ...,\n",
       "           -5.70944190e-01, -3.71996045e-01, -2.55459785e-01],\n",
       "          [-5.78796387e-01, -5.94943523e-01, -7.97797322e-01, ...,\n",
       "           -8.85420442e-01, -6.69598222e-01, -5.11813998e-01],\n",
       "          ...,\n",
       "          [-2.03169270e+01, -5.73430023e+01, -4.82879982e+01, ...,\n",
       "           -5.01079330e+01, -3.78508568e+01, -4.53328133e+01],\n",
       "          [-2.06129456e+01, -5.47485847e+01, -5.71910248e+01, ...,\n",
       "           -3.51383438e+01, -3.70040779e+01, -4.38126869e+01],\n",
       "          [-2.06684227e+01, -6.58634109e+01, -5.56891823e+01, ...,\n",
       "           -3.48066063e+01, -3.66229439e+01, -4.05462685e+01]]]),\n",
       "  'label': array([15, 15, 15, ...,  5,  5,  5]),\n",
       "  'id': array(['XC184422.mp3', 'XC184422.mp3', 'XC184422.mp3', ..., 'XC26960.mp3',\n",
       "         'XC26960.mp3', 'XC26960.mp3'], dtype='<U12')},\n",
       " 'val': {'melspectrogram': array([[[-1.71700697e-02,  0.00000000e+00, -8.30828026e-03, ...,\n",
       "           -1.68431718e-02, -5.68776811e-03, -1.10488222e-03],\n",
       "          [-1.92667842e-01, -2.11222529e-01, -2.68523276e-01, ...,\n",
       "           -3.57451975e-01, -2.52361894e-01, -2.03726232e-01],\n",
       "          [-2.65452743e-01, -2.83159614e-01, -3.38062525e-01, ...,\n",
       "           -4.10313517e-01, -3.26220393e-01, -2.79070407e-01],\n",
       "          ...,\n",
       "          [-9.98307705e-01, -9.98598397e-01, -9.98571098e-01, ...,\n",
       "           -9.95554268e-01, -9.98826265e-01, -9.98852611e-01],\n",
       "          [-9.99315262e-01, -9.99614060e-01, -9.99599457e-01, ...,\n",
       "           -9.98658717e-01, -1.00000000e+00, -1.00000000e+00],\n",
       "          [-9.99707043e-01, -1.00000000e+00, -1.00000000e+00, ...,\n",
       "           -1.00000000e+00, -9.99852240e-01, -9.99767363e-01]],\n",
       "  \n",
       "         [[-1.74641944e-02,  0.00000000e+00, -8.08914285e-03, ...,\n",
       "           -1.66994110e-02, -5.44855325e-03, -7.67449616e-04],\n",
       "          [-1.94975287e-01, -2.13107750e-01, -2.69573063e-01, ...,\n",
       "           -3.58825564e-01, -2.54051030e-01, -2.05573931e-01],\n",
       "          [-2.71891356e-01, -2.90700912e-01, -3.47119987e-01, ...,\n",
       "           -4.16169345e-01, -3.30978721e-01, -2.83135653e-01],\n",
       "          ...,\n",
       "          [-9.98852193e-01, -9.98849869e-01, -9.98865485e-01, ...,\n",
       "           -9.98426676e-01, -9.99161541e-01, -9.99147952e-01],\n",
       "          [-1.00000000e+00, -1.00000000e+00, -1.00000000e+00, ...,\n",
       "           -9.99716401e-01, -1.00000000e+00, -1.00000000e+00],\n",
       "          [-9.99581575e-01, -9.99586105e-01, -9.99682128e-01, ...,\n",
       "           -1.00000000e+00, -9.99897659e-01, -9.99856174e-01]],\n",
       "  \n",
       "         [[-1.74410082e-02,  0.00000000e+00, -7.96812773e-03, ...,\n",
       "           -1.64802354e-02, -5.28292218e-03, -6.95740397e-04],\n",
       "          [-1.95203975e-01, -2.14193553e-01, -2.71712095e-01, ...,\n",
       "           -3.61637592e-01, -2.55230010e-01, -2.06171095e-01],\n",
       "          [-2.65948564e-01, -2.82996148e-01, -3.36586535e-01, ...,\n",
       "           -4.07308102e-01, -3.25273126e-01, -2.78585106e-01],\n",
       "          ...,\n",
       "          [-9.99757826e-01, -9.99737084e-01, -9.99579966e-01, ...,\n",
       "           -9.98120070e-01, -9.98889565e-01, -9.98911619e-01],\n",
       "          [-9.99662757e-01, -9.99656737e-01, -9.99617100e-01, ...,\n",
       "           -9.98424709e-01, -9.98936951e-01, -9.98956263e-01],\n",
       "          [-1.00000000e+00, -1.00000000e+00, -1.00000000e+00, ...,\n",
       "           -1.00000000e+00, -1.00000000e+00, -1.00000000e+00]],\n",
       "  \n",
       "         ...,\n",
       "  \n",
       "         [[-1.73723530e-02,  0.00000000e+00, -8.11671093e-03, ...,\n",
       "           -1.66444778e-02, -5.49176475e-03, -9.21831524e-04],\n",
       "          [-1.93797097e-01, -2.12248981e-01, -2.69479126e-01, ...,\n",
       "           -3.60984981e-01, -2.54639983e-01, -2.05678210e-01],\n",
       "          [-2.68159151e-01, -2.86440760e-01, -3.42225373e-01, ...,\n",
       "           -4.10874724e-01, -3.26693118e-01, -2.79582381e-01],\n",
       "          ...,\n",
       "          [-9.97223318e-01, -9.97211158e-01, -9.97233510e-01, ...,\n",
       "           -9.98601079e-01, -9.99769151e-01, -9.99849021e-01],\n",
       "          [-9.99853849e-01, -9.99870539e-01, -9.99850035e-01, ...,\n",
       "           -9.98812854e-01, -9.99658525e-01, -9.99766827e-01],\n",
       "          [-1.00000000e+00, -1.00000000e+00, -1.00000000e+00, ...,\n",
       "           -1.00000000e+00, -1.00000000e+00, -1.00000000e+00]],\n",
       "  \n",
       "         [[-1.73768848e-02,  0.00000000e+00, -8.10965989e-03, ...,\n",
       "           -1.66363139e-02, -5.46427397e-03, -8.71978526e-04],\n",
       "          [-1.93964884e-01, -2.12446675e-01, -2.69658178e-01, ...,\n",
       "           -3.59892726e-01, -2.53874689e-01, -2.05041870e-01],\n",
       "          [-2.67942339e-01, -2.86131233e-01, -3.41786087e-01, ...,\n",
       "           -4.10783410e-01, -3.26747388e-01, -2.79655755e-01],\n",
       "          ...,\n",
       "          [-9.99134541e-01, -9.99107242e-01, -9.98978853e-01, ...,\n",
       "           -9.98179615e-01, -9.98666048e-01, -9.98656631e-01],\n",
       "          [-9.99430120e-01, -9.99423623e-01, -9.99367952e-01, ...,\n",
       "           -9.99146521e-01, -9.99519944e-01, -9.99532819e-01],\n",
       "          [-1.00000000e+00, -1.00000000e+00, -1.00000000e+00, ...,\n",
       "           -1.00000000e+00, -1.00000000e+00, -1.00000000e+00]],\n",
       "  \n",
       "         [[-1.73759833e-02,  0.00000000e+00, -8.11314024e-03, ...,\n",
       "           -1.66572090e-02, -5.44842565e-03, -8.37058993e-04],\n",
       "          [-1.93972707e-01, -2.12401554e-01, -2.69586951e-01, ...,\n",
       "           -3.60521555e-01, -2.54601061e-01, -2.05748230e-01],\n",
       "          [-2.68278182e-01, -2.86560148e-01, -3.42413247e-01, ...,\n",
       "           -4.12366033e-01, -3.27897847e-01, -2.80571133e-01],\n",
       "          ...,\n",
       "          [-9.99224901e-01, -9.99173939e-01, -9.99106586e-01, ...,\n",
       "           -9.98222649e-01, -9.99274254e-01, -9.99331474e-01],\n",
       "          [-9.98865843e-01, -9.98812199e-01, -9.98744428e-01, ...,\n",
       "           -9.99197304e-01, -9.99705970e-01, -9.99742448e-01],\n",
       "          [-9.99771416e-01, -9.99755561e-01, -9.99834239e-01, ...,\n",
       "           -1.00000000e+00, -1.00000000e+00, -1.00000000e+00]]]),\n",
       "  'mfcc': array([[[-9.31605041e-01, -1.00000000e+00, -1.00000000e+00, ...,\n",
       "           -1.00000000e+00, -1.00000000e+00, -1.00000000e+00],\n",
       "          [ 1.00000000e+00,  9.31185246e-01,  6.37448430e-01, ...,\n",
       "            3.95200342e-01,  7.06573009e-01,  9.81344044e-01],\n",
       "          [ 2.06005126e-01,  1.97422177e-01,  1.48139417e-01, ...,\n",
       "           -3.26340050e-02,  1.35114983e-01,  2.01973259e-01],\n",
       "          ...,\n",
       "          [ 3.24366130e-02,  3.37172151e-02,  2.84145065e-02, ...,\n",
       "            3.79166678e-02,  3.20385322e-02,  3.31115313e-02],\n",
       "          [ 2.99576931e-02,  3.05611026e-02,  2.53106765e-02, ...,\n",
       "            1.77105255e-02,  2.37260964e-02,  3.62099744e-02],\n",
       "          [ 2.73951367e-02,  2.69601196e-02,  1.85830761e-02, ...,\n",
       "            8.74408893e-03,  2.11204272e-02,  2.73943786e-02]],\n",
       "  \n",
       "         [[-9.48231399e-01, -1.00000000e+00, -1.00000000e+00, ...,\n",
       "           -1.00000000e+00, -1.00000000e+00, -1.00000000e+00],\n",
       "          [ 1.00000000e+00,  9.16687310e-01,  6.26588404e-01, ...,\n",
       "            3.89613390e-01,  6.97372913e-01,  9.77271259e-01],\n",
       "          [ 2.11269632e-01,  1.97754830e-01,  1.43854409e-01, ...,\n",
       "            1.10733137e-01,  1.54401526e-01,  2.04015121e-01],\n",
       "          ...,\n",
       "          [ 3.63556743e-02,  4.16942239e-02,  4.57623228e-02, ...,\n",
       "            4.29858044e-02,  3.60575467e-02,  3.81394513e-02],\n",
       "          [ 3.28927562e-02,  3.38296629e-02,  2.71976665e-02, ...,\n",
       "            8.66485294e-03,  2.25963332e-02,  3.13890763e-02],\n",
       "          [ 2.36172304e-02,  1.75518207e-02,  1.70921790e-03, ...,\n",
       "            1.39225340e-02,  2.36465354e-02,  3.08089610e-02]],\n",
       "  \n",
       "         [[-9.30677891e-01, -1.00000000e+00, -1.00000000e+00, ...,\n",
       "           -1.00000000e+00, -1.00000000e+00, -1.00000000e+00],\n",
       "          [ 1.00000000e+00,  9.31746244e-01,  6.37871206e-01, ...,\n",
       "            4.08945620e-01,  7.01468527e-01,  9.81275439e-01],\n",
       "          [ 2.03270495e-01,  1.94773272e-01,  1.45183921e-01, ...,\n",
       "            1.16773039e-01,  1.55540481e-01,  2.05101967e-01],\n",
       "          ...,\n",
       "          [ 3.09473574e-02,  3.19939218e-02,  2.68055629e-02, ...,\n",
       "            2.42110603e-02,  3.02217472e-02,  3.63454223e-02],\n",
       "          [ 3.28793563e-02,  3.33597921e-02,  2.69445181e-02, ...,\n",
       "            2.48702858e-02,  2.72012316e-02,  3.18152867e-02],\n",
       "          [ 2.35653725e-02,  2.36123502e-02,  1.70360580e-02, ...,\n",
       "            9.01274849e-03,  2.16200091e-02,  2.97294781e-02]],\n",
       "  \n",
       "         ...,\n",
       "  \n",
       "         [[-9.55929577e-01, -1.00000000e+00, -1.00000000e+00, ...,\n",
       "           -1.00000000e+00, -1.00000000e+00, -1.00000000e+00],\n",
       "          [ 1.00000000e+00,  9.11683023e-01,  6.34346783e-01, ...,\n",
       "            4.09608990e-01,  6.93880022e-01,  9.59224403e-01],\n",
       "          [ 2.03550309e-01,  1.87641159e-01,  1.33066788e-01, ...,\n",
       "            5.73010743e-02,  1.34766206e-01,  1.93004474e-01],\n",
       "          ...,\n",
       "          [ 3.40370946e-02,  3.34656723e-02,  2.64001880e-02, ...,\n",
       "            3.52938846e-02,  2.91718561e-02,  3.14687677e-02],\n",
       "          [ 2.91247740e-02,  2.89012566e-02,  2.29488704e-02, ...,\n",
       "            3.25646363e-02,  3.70216630e-02,  4.18164693e-02],\n",
       "          [ 2.84698941e-02,  2.83367466e-02,  2.27907281e-02, ...,\n",
       "            5.72303589e-03,  1.90061405e-02,  2.62872428e-02]],\n",
       "  \n",
       "         [[-9.53395247e-01, -1.00000000e+00, -1.00000000e+00, ...,\n",
       "           -1.00000000e+00, -1.00000000e+00, -1.00000000e+00],\n",
       "          [ 1.00000000e+00,  9.11829889e-01,  6.11018360e-01, ...,\n",
       "            4.24262196e-01,  6.92367971e-01,  9.56479013e-01],\n",
       "          [ 2.00297251e-01,  1.90333501e-01,  1.46379367e-01, ...,\n",
       "            9.00245234e-02,  1.43772632e-01,  1.95525318e-01],\n",
       "          ...,\n",
       "          [ 3.29946913e-02,  2.07203068e-02, -8.18417873e-03, ...,\n",
       "            2.01993845e-02,  2.67527234e-02,  3.29858102e-02],\n",
       "          [ 2.95453444e-02,  4.18829657e-02,  6.28675669e-02, ...,\n",
       "            1.88674387e-02,  2.53239758e-02,  3.10875885e-02],\n",
       "          [ 2.93355025e-02,  2.33606156e-02,  2.24766103e-04, ...,\n",
       "            1.93623211e-02,  2.43719090e-02,  2.95508541e-02]],\n",
       "  \n",
       "         [[-9.56001759e-01, -1.00000000e+00, -1.00000000e+00, ...,\n",
       "           -1.00000000e+00, -1.00000000e+00, -1.00000000e+00],\n",
       "          [ 1.00000000e+00,  9.12014067e-01,  6.34679496e-01, ...,\n",
       "            4.25991118e-01,  6.95767820e-01,  9.62340415e-01],\n",
       "          [ 2.03871116e-01,  1.87191442e-01,  1.31231233e-01, ...,\n",
       "            9.09689069e-02,  1.46014675e-01,  1.98893234e-01],\n",
       "          ...,\n",
       "          [ 3.43805775e-02,  3.36490795e-02,  2.64667626e-02, ...,\n",
       "            2.03159526e-02,  2.68364903e-02,  3.30867209e-02],\n",
       "          [ 3.24318595e-02,  3.26857120e-02,  2.70143617e-02, ...,\n",
       "            1.96079798e-02,  2.67770775e-02,  3.31372544e-02],\n",
       "          [ 2.71582995e-02,  2.71383747e-02,  2.17057802e-02, ...,\n",
       "            1.81198586e-02,  2.36424617e-02,  2.89060287e-02]]]),\n",
       "  'chroma': array([[[0.86045229, 0.88607621, 0.85130161, ..., 0.80359608,\n",
       "           0.8788318 , 0.88858503],\n",
       "          [0.89149094, 0.92004347, 0.89722443, ..., 0.85828298,\n",
       "           0.9110263 , 0.91064435],\n",
       "          [0.93950146, 0.96209449, 0.94911122, ..., 0.89053816,\n",
       "           0.9463073 , 0.94628304],\n",
       "          ...,\n",
       "          [0.84926474, 0.87709194, 0.85441053, ..., 0.81647986,\n",
       "           0.88092703, 0.89606929],\n",
       "          [0.81510401, 0.84275943, 0.80430114, ..., 0.75915903,\n",
       "           0.83512807, 0.85132694],\n",
       "          [0.80382645, 0.82709807, 0.78125834, ..., 0.70988166,\n",
       "           0.81227696, 0.83139062]],\n",
       "  \n",
       "         [[0.85437012, 0.87969232, 0.84490335, ..., 0.8332783 ,\n",
       "           0.86917019, 0.87868822],\n",
       "          [0.8811112 , 0.90940595, 0.88906246, ..., 0.8947497 ,\n",
       "           0.90657359, 0.90511793],\n",
       "          [0.9253816 , 0.94685149, 0.93615317, ..., 0.94145727,\n",
       "           0.95222652, 0.95022923],\n",
       "          ...,\n",
       "          [0.85346621, 0.8833791 , 0.857916  , ..., 0.85807168,\n",
       "           0.87184215, 0.88781261],\n",
       "          [0.81618005, 0.84817421, 0.81613576, ..., 0.78614765,\n",
       "           0.8245216 , 0.84322882],\n",
       "          [0.80027431, 0.82643938, 0.79077607, ..., 0.74865419,\n",
       "           0.80286443, 0.82241589]],\n",
       "  \n",
       "         [[0.85852045, 0.88852739, 0.85408813, ..., 0.82015425,\n",
       "           0.86080986, 0.87430042],\n",
       "          [0.89079875, 0.92606205, 0.9073903 , ..., 0.88490218,\n",
       "           0.90260607, 0.90473121],\n",
       "          [0.94266838, 0.97180569, 0.96233368, ..., 0.94224197,\n",
       "           0.94902402, 0.94681293],\n",
       "          ...,\n",
       "          [0.85278088, 0.88068157, 0.85288328, ..., 0.85818911,\n",
       "           0.86638546, 0.88019073],\n",
       "          [0.81643933, 0.84666514, 0.80747682, ..., 0.78144586,\n",
       "           0.81683445, 0.83591032],\n",
       "          [0.80430532, 0.83256745, 0.78763407, ..., 0.74392128,\n",
       "           0.79900318, 0.82061511]],\n",
       "  \n",
       "         ...,\n",
       "  \n",
       "         [[0.87178743, 0.90117896, 0.86432707, ..., 0.82801867,\n",
       "           0.86686492, 0.8763867 ],\n",
       "          [0.89521933, 0.92822099, 0.9076134 , ..., 0.88685644,\n",
       "           0.90210372, 0.90269172],\n",
       "          [0.93632179, 0.96185422, 0.95196456, ..., 0.9618876 ,\n",
       "           0.96525091, 0.95615953],\n",
       "          ...,\n",
       "          [0.86798424, 0.90154368, 0.87577784, ..., 0.85921407,\n",
       "           0.86454481, 0.87994546],\n",
       "          [0.82966602, 0.86200434, 0.82176358, ..., 0.79122931,\n",
       "           0.82057834, 0.83860457],\n",
       "          [0.81537306, 0.84314674, 0.79609573, ..., 0.7550289 ,\n",
       "           0.80471134, 0.82220298]],\n",
       "  \n",
       "         [[0.86618853, 0.89047182, 0.77606839, ..., 0.82569116,\n",
       "           0.87344241, 0.88601267],\n",
       "          [0.8927179 , 0.92247194, 0.82416093, ..., 0.89065802,\n",
       "           0.91427475, 0.91545093],\n",
       "          [0.93544513, 0.95833302, 0.8717643 , ..., 0.94466168,\n",
       "           0.95757985, 0.955845  ],\n",
       "          ...,\n",
       "          [0.85908759, 0.88803828, 0.78349286, ..., 0.85969657,\n",
       "           0.87400103, 0.8902058 ],\n",
       "          [0.81988311, 0.84897655, 0.73763192, ..., 0.78828979,\n",
       "           0.82993519, 0.84778965],\n",
       "          [0.80805826, 0.83077502, 0.71254617, ..., 0.74682695,\n",
       "           0.80500567, 0.82513976]],\n",
       "  \n",
       "         [[0.86139458, 0.88815242, 0.85242605, ..., 0.82197315,\n",
       "           0.86635476, 0.87872958],\n",
       "          [0.88605446, 0.91663295, 0.89751631, ..., 0.88688433,\n",
       "           0.9088316 , 0.91051883],\n",
       "          [0.93114889, 0.95445675, 0.94463921, ..., 0.9431771 ,\n",
       "           0.95358783, 0.95150411],\n",
       "          ...,\n",
       "          [0.85728103, 0.88950533, 0.8664608 , ..., 0.85918254,\n",
       "           0.87335706, 0.88977784],\n",
       "          [0.81671238, 0.84759295, 0.81114203, ..., 0.78982925,\n",
       "           0.8319791 , 0.84912062],\n",
       "          [0.80313718, 0.82865965, 0.78431416, ..., 0.7465775 ,\n",
       "           0.80438668, 0.82419437]]]),\n",
       "  'cqt': array([[[-1.19209290e-07, -2.11827159e-02, -1.57983899e-01, ...,\n",
       "           -3.47800016e-01, -1.59179389e-01, -7.03710914e-02],\n",
       "          [-2.73116291e-01, -3.51509303e-01, -5.00663757e-01, ...,\n",
       "           -6.60483956e-01, -4.49899673e-01, -3.24040234e-01],\n",
       "          [-6.09345973e-01, -6.29476190e-01, -8.36795568e-01, ...,\n",
       "           -8.27198744e-01, -6.26161158e-01, -4.80693668e-01],\n",
       "          ...,\n",
       "          [-1.98948860e+01, -6.05153503e+01, -6.67829285e+01, ...,\n",
       "           -4.98285522e+01, -5.87951241e+01, -5.34887657e+01],\n",
       "          [-2.01164341e+01, -8.00000000e+01, -6.43699646e+01, ...,\n",
       "           -5.35202751e+01, -6.40136108e+01, -5.52889977e+01],\n",
       "          [-2.02948494e+01, -6.64961243e+01, -5.73209763e+01, ...,\n",
       "           -5.34471359e+01, -5.83577766e+01, -6.61936722e+01]],\n",
       "  \n",
       "         [[-1.83578551e-01, -2.21466243e-01, -3.77063066e-01, ...,\n",
       "           -2.81375796e-01, -9.03340578e-02,  1.78813934e-07],\n",
       "          [-3.68844122e-01, -4.54239517e-01, -6.10559285e-01, ...,\n",
       "           -5.50637484e-01, -3.52867424e-01, -2.38155603e-01],\n",
       "          [-5.64147353e-01, -5.66311240e-01, -7.51300335e-01, ...,\n",
       "           -9.03913021e-01, -6.89843476e-01, -5.33587158e-01],\n",
       "          ...,\n",
       "          [-2.00910378e+01, -4.55204277e+01, -4.24195862e+01, ...,\n",
       "           -4.24089470e+01, -6.51509094e+01, -7.38096848e+01],\n",
       "          [-2.03246670e+01, -4.88312721e+01, -3.24789505e+01, ...,\n",
       "           -5.13884697e+01, -6.15594330e+01, -6.63408661e+01],\n",
       "          [-2.04515362e+01, -5.95169296e+01, -3.65666695e+01, ...,\n",
       "           -4.84323463e+01, -5.30123253e+01, -6.67609329e+01]],\n",
       "  \n",
       "         [[-3.70627642e-02, -6.17532134e-02, -2.03309596e-01, ...,\n",
       "           -2.90950805e-01, -9.43089128e-02,  2.38418579e-07],\n",
       "          [-2.77856529e-01, -3.57825905e-01, -5.07999778e-01, ...,\n",
       "           -5.69294155e-01, -3.74545485e-01, -2.61459678e-01],\n",
       "          [-5.24944425e-01, -5.39691448e-01, -7.41172075e-01, ...,\n",
       "           -9.24727023e-01, -7.12106705e-01, -5.58782101e-01],\n",
       "          ...,\n",
       "          [-1.97483749e+01, -8.00000000e+01, -6.59954834e+01, ...,\n",
       "           -7.68610153e+01, -6.89366226e+01, -6.35334816e+01],\n",
       "          [-1.99383316e+01, -7.37710876e+01, -5.97581406e+01, ...,\n",
       "           -6.68354950e+01, -6.42393951e+01, -5.85474014e+01],\n",
       "          [-2.01553535e+01, -6.86824951e+01, -5.43753738e+01, ...,\n",
       "           -8.00000000e+01, -6.49790192e+01, -6.19324150e+01]],\n",
       "  \n",
       "         ...,\n",
       "  \n",
       "         [[-4.02923524e-02, -6.86384737e-02, -2.14209974e-01, ...,\n",
       "           -2.89592564e-01, -9.40823257e-02, -1.19209290e-07],\n",
       "          [-2.68500417e-01, -3.46701115e-01, -4.94971395e-01, ...,\n",
       "           -5.46560943e-01, -3.49333853e-01, -2.34438598e-01],\n",
       "          [-5.70771337e-01, -5.87744594e-01, -7.91772485e-01, ...,\n",
       "           -8.61976922e-01, -6.47283614e-01, -4.90707874e-01],\n",
       "          ...,\n",
       "          [-1.97707958e+01, -5.15952759e+01, -6.55839157e+01, ...,\n",
       "           -4.57296677e+01, -4.26304016e+01, -4.48262787e+01],\n",
       "          [-1.99586086e+01, -5.28356438e+01, -5.86884308e+01, ...,\n",
       "           -3.82720375e+01, -5.09561005e+01, -6.04284019e+01],\n",
       "          [-2.01210651e+01, -5.43590393e+01, -5.65329742e+01, ...,\n",
       "           -4.16865120e+01, -4.14576035e+01, -4.42802315e+01]],\n",
       "  \n",
       "         [[-5.78545928e-02, -8.65508020e-02, -2.32606024e-01, ...,\n",
       "           -2.88235098e-01, -9.34059918e-02,  1.49011612e-07],\n",
       "          [-2.79752970e-01, -3.55197340e-01, -5.00316679e-01, ...,\n",
       "           -5.52506924e-01, -3.54041874e-01, -2.37999648e-01],\n",
       "          [-6.04610443e-01, -6.22477472e-01, -8.27510476e-01, ...,\n",
       "           -8.46984506e-01, -6.33927464e-01, -4.78902042e-01],\n",
       "          ...,\n",
       "          [-1.98462334e+01, -5.65538139e+01, -5.68196793e+01, ...,\n",
       "           -6.13219376e+01, -5.92372856e+01, -6.44939117e+01],\n",
       "          [-2.01051788e+01, -6.36018906e+01, -5.75713196e+01, ...,\n",
       "           -6.05513763e+01, -6.81118469e+01, -6.43347015e+01],\n",
       "          [-2.03033466e+01, -5.65038643e+01, -5.04326706e+01, ...,\n",
       "           -6.54621277e+01, -6.01371231e+01, -5.90405655e+01]],\n",
       "  \n",
       "         [[-2.92013884e-02, -5.77844083e-02, -2.03484267e-01, ...,\n",
       "           -2.92344362e-01, -9.52919424e-02,  1.78813934e-07],\n",
       "          [-2.55794078e-01, -3.33540201e-01, -4.81399119e-01, ...,\n",
       "           -5.60375094e-01, -3.60815704e-01, -2.43651092e-01],\n",
       "          [-5.59993148e-01, -5.76661408e-01, -7.80238152e-01, ...,\n",
       "           -8.54807973e-01, -6.40408218e-01, -4.83886540e-01],\n",
       "          ...,\n",
       "          [-1.99372101e+01, -5.32297173e+01, -5.65578804e+01, ...,\n",
       "           -5.85778847e+01, -6.11929054e+01, -5.94801750e+01],\n",
       "          [-2.01721878e+01, -4.89935036e+01, -6.62113724e+01, ...,\n",
       "           -6.46210632e+01, -6.05470581e+01, -6.51959152e+01],\n",
       "          [-2.03285828e+01, -5.03304710e+01, -5.77689438e+01, ...,\n",
       "           -6.41649780e+01, -6.37975655e+01, -5.56505127e+01]]]),\n",
       "  'label': array([15, 15, 15, ..., 12, 12, 12]),\n",
       "  'id': array(['XC514030.mp3', 'XC514030.mp3', 'XC514030.mp3', ...,\n",
       "         'XC308991.mp3', 'XC308991.mp3', 'XC308991.mp3'], dtype='<U12')}}"
      ]
     },
     "execution_count": 25,
     "metadata": {},
     "output_type": "execute_result"
    }
   ],
   "source": [
    "merged_dict_2D = {'train': train_features_2D, 'val': val_features_2D}\n",
    "merged_dict_2D"
   ]
  },
  {
   "cell_type": "markdown",
   "metadata": {},
   "source": [
    "### Save the merged dictionary to a pkl"
   ]
  },
  {
   "cell_type": "code",
   "execution_count": 26,
   "metadata": {},
   "outputs": [],
   "source": [
    "# Avrg Pooled\n",
    "with open('C:/Users/thato/Documents/Final-Year-Project/Dataset/Final-Version-Of-Bird-Classification-Project/feature-extraction/NotAnnotated/Augmented/AveragePooled/split_features_6s_all_1D.pkl', 'wb') as file:\n",
    "  pickle.dump(merged_dict_1D, file)\n",
    "del file"
   ]
  },
  {
   "cell_type": "code",
   "execution_count": 27,
   "metadata": {},
   "outputs": [],
   "source": [
    "# Not Avg Pooled\n",
    "with open('C:/Users/thato/Documents/Final-Year-Project/Dataset/Final-Version-Of-Bird-Classification-Project/feature-extraction/NotAnnotated/Augmented/NotAveragePooled/split_features_6s_all_2D.pkl', 'wb') as file:\n",
    "  pickle.dump(merged_dict_2D, file)\n",
    "del file"
   ]
  },
  {
   "cell_type": "markdown",
   "metadata": {},
   "source": [
    "## **Window Size = 3s**"
   ]
  },
  {
   "cell_type": "markdown",
   "metadata": {},
   "source": [
    "### **['melspectrogram', 'mfcc', 'chroma', 'cqt']**"
   ]
  },
  {
   "cell_type": "code",
   "execution_count": 28,
   "metadata": {},
   "outputs": [],
   "source": [
    "features_list = ['melspectrogram', 'mfcc', 'chroma', 'cqt']"
   ]
  },
  {
   "cell_type": "code",
   "execution_count": 29,
   "metadata": {},
   "outputs": [
    {
     "name": "stdout",
     "output_type": "stream",
     "text": [
      "Train DataFrame shape: (628, 6)\n",
      "Validation DataFrame shape: (133, 6)\n",
      "Number of rows in dataframe: 628\n"
     ]
    },
    {
     "name": "stderr",
     "output_type": "stream",
     "text": [
      "Processing data:   0%|          | 0/628 [00:00<?, ?it/s]c:\\Users\\thato\\AppData\\Local\\Programs\\Python\\Python312\\Lib\\site-packages\\librosa\\core\\pitch.py:101: UserWarning: Trying to estimate tuning from empty frequency set.\n",
      "  return pitch_tuning(\n",
      "Processing data: 100%|██████████| 628/628 [52:12<00:00,  4.99s/it]  \n"
     ]
    },
    {
     "name": "stdout",
     "output_type": "stream",
     "text": [
      "Number of rows in dataframe: 133\n"
     ]
    },
    {
     "name": "stderr",
     "output_type": "stream",
     "text": [
      "Processing data: 100%|██████████| 133/133 [03:47<00:00,  1.71s/it]\n"
     ]
    },
    {
     "name": "stdout",
     "output_type": "stream",
     "text": [
      "\u001b[1m618/618\u001b[0m \u001b[32m━━━━━━━━━━━━━━━━━━━━\u001b[0m\u001b[37m\u001b[0m \u001b[1m1s\u001b[0m 2ms/step\n",
      "\u001b[1m133/133\u001b[0m \u001b[32m━━━━━━━━━━━━━━━━━━━━\u001b[0m\u001b[37m\u001b[0m \u001b[1m0s\u001b[0m 2ms/step\n",
      "\u001b[1m618/618\u001b[0m \u001b[32m━━━━━━━━━━━━━━━━━━━━\u001b[0m\u001b[37m\u001b[0m \u001b[1m1s\u001b[0m 985us/step\n",
      "\u001b[1m133/133\u001b[0m \u001b[32m━━━━━━━━━━━━━━━━━━━━\u001b[0m\u001b[37m\u001b[0m \u001b[1m0s\u001b[0m 437us/step\n",
      "\u001b[1m618/618\u001b[0m \u001b[32m━━━━━━━━━━━━━━━━━━━━\u001b[0m\u001b[37m\u001b[0m \u001b[1m0s\u001b[0m 505us/step\n",
      "\u001b[1m133/133\u001b[0m \u001b[32m━━━━━━━━━━━━━━━━━━━━\u001b[0m\u001b[37m\u001b[0m \u001b[1m0s\u001b[0m 400us/step\n",
      "\u001b[1m618/618\u001b[0m \u001b[32m━━━━━━━━━━━━━━━━━━━━\u001b[0m\u001b[37m\u001b[0m \u001b[1m1s\u001b[0m 760us/step\n",
      "\u001b[1m133/133\u001b[0m \u001b[32m━━━━━━━━━━━━━━━━━━━━\u001b[0m\u001b[37m\u001b[0m \u001b[1m0s\u001b[0m 1ms/step\n"
     ]
    }
   ],
   "source": [
    "features = Extraction(train_data_balanced,\n",
    "                      val_data,\n",
    "                      window_size=3,\n",
    "                      features=features_list,\n",
    "                      avgpool=True\n",
    "                      )"
   ]
  },
  {
   "cell_type": "code",
   "execution_count": 30,
   "metadata": {},
   "outputs": [
    {
     "data": {
      "text/plain": [
       "(19766,)"
      ]
     },
     "metadata": {},
     "output_type": "display_data"
    },
    {
     "data": {
      "text/plain": [
       "(4231,)"
      ]
     },
     "metadata": {},
     "output_type": "display_data"
    }
   ],
   "source": [
    "train_y = features.train_y\n",
    "val_y = features.val_y\n",
    "\n",
    "display(train_y.shape)\n",
    "display(val_y.shape)"
   ]
  },
  {
   "cell_type": "code",
   "execution_count": 31,
   "metadata": {},
   "outputs": [
    {
     "data": {
      "text/plain": [
       "'melspectrogram'"
      ]
     },
     "metadata": {},
     "output_type": "display_data"
    },
    {
     "data": {
      "text/plain": [
       "(19766, 128)"
      ]
     },
     "metadata": {},
     "output_type": "display_data"
    },
    {
     "data": {
      "text/plain": [
       "'mfcc'"
      ]
     },
     "metadata": {},
     "output_type": "display_data"
    },
    {
     "data": {
      "text/plain": [
       "(19766, 20)"
      ]
     },
     "metadata": {},
     "output_type": "display_data"
    },
    {
     "data": {
      "text/plain": [
       "'chroma'"
      ]
     },
     "metadata": {},
     "output_type": "display_data"
    },
    {
     "data": {
      "text/plain": [
       "(19766, 12)"
      ]
     },
     "metadata": {},
     "output_type": "display_data"
    },
    {
     "data": {
      "text/plain": [
       "'cqt'"
      ]
     },
     "metadata": {},
     "output_type": "display_data"
    },
    {
     "data": {
      "text/plain": [
       "(19766, 84)"
      ]
     },
     "metadata": {},
     "output_type": "display_data"
    }
   ],
   "source": [
    "# Avgpooled Features\n",
    "train_features_1D = features.train_features_1D\n",
    "for key in train_features_1D.keys():\n",
    "  display(key)\n",
    "  display(train_features_1D[key].shape)"
   ]
  },
  {
   "cell_type": "code",
   "execution_count": 32,
   "metadata": {},
   "outputs": [
    {
     "data": {
      "text/plain": [
       "'melspectrogram'"
      ]
     },
     "metadata": {},
     "output_type": "display_data"
    },
    {
     "data": {
      "text/plain": [
       "(4231, 128)"
      ]
     },
     "metadata": {},
     "output_type": "display_data"
    },
    {
     "data": {
      "text/plain": [
       "'mfcc'"
      ]
     },
     "metadata": {},
     "output_type": "display_data"
    },
    {
     "data": {
      "text/plain": [
       "(4231, 20)"
      ]
     },
     "metadata": {},
     "output_type": "display_data"
    },
    {
     "data": {
      "text/plain": [
       "'chroma'"
      ]
     },
     "metadata": {},
     "output_type": "display_data"
    },
    {
     "data": {
      "text/plain": [
       "(4231, 12)"
      ]
     },
     "metadata": {},
     "output_type": "display_data"
    },
    {
     "data": {
      "text/plain": [
       "'cqt'"
      ]
     },
     "metadata": {},
     "output_type": "display_data"
    },
    {
     "data": {
      "text/plain": [
       "(4231, 84)"
      ]
     },
     "metadata": {},
     "output_type": "display_data"
    }
   ],
   "source": [
    "# Avgpooled Features\n",
    "val_features_1D = features.val_features_1D\n",
    "for key in val_features_1D.keys():\n",
    "  display(key)\n",
    "  display(val_features_1D[key].shape)"
   ]
  },
  {
   "cell_type": "code",
   "execution_count": 33,
   "metadata": {},
   "outputs": [
    {
     "data": {
      "text/plain": [
       "'melspectrogram'"
      ]
     },
     "metadata": {},
     "output_type": "display_data"
    },
    {
     "data": {
      "text/plain": [
       "(19766, 128, 259)"
      ]
     },
     "metadata": {},
     "output_type": "display_data"
    },
    {
     "data": {
      "text/plain": [
       "'mfcc'"
      ]
     },
     "metadata": {},
     "output_type": "display_data"
    },
    {
     "data": {
      "text/plain": [
       "(19766, 20, 259)"
      ]
     },
     "metadata": {},
     "output_type": "display_data"
    },
    {
     "data": {
      "text/plain": [
       "'chroma'"
      ]
     },
     "metadata": {},
     "output_type": "display_data"
    },
    {
     "data": {
      "text/plain": [
       "(19766, 12, 259)"
      ]
     },
     "metadata": {},
     "output_type": "display_data"
    },
    {
     "data": {
      "text/plain": [
       "'cqt'"
      ]
     },
     "metadata": {},
     "output_type": "display_data"
    },
    {
     "data": {
      "text/plain": [
       "(19766, 84, 259)"
      ]
     },
     "metadata": {},
     "output_type": "display_data"
    }
   ],
   "source": [
    "# Not avgpooled Features\n",
    "train_features_2D = features.train_features_2D\n",
    "for key in train_features_2D.keys():\n",
    "  display(key)\n",
    "  display(train_features_2D[key].shape)"
   ]
  },
  {
   "cell_type": "code",
   "execution_count": 34,
   "metadata": {},
   "outputs": [
    {
     "data": {
      "text/plain": [
       "'melspectrogram'"
      ]
     },
     "metadata": {},
     "output_type": "display_data"
    },
    {
     "data": {
      "text/plain": [
       "(4231, 128, 259)"
      ]
     },
     "metadata": {},
     "output_type": "display_data"
    },
    {
     "data": {
      "text/plain": [
       "'mfcc'"
      ]
     },
     "metadata": {},
     "output_type": "display_data"
    },
    {
     "data": {
      "text/plain": [
       "(4231, 20, 259)"
      ]
     },
     "metadata": {},
     "output_type": "display_data"
    },
    {
     "data": {
      "text/plain": [
       "'chroma'"
      ]
     },
     "metadata": {},
     "output_type": "display_data"
    },
    {
     "data": {
      "text/plain": [
       "(4231, 12, 259)"
      ]
     },
     "metadata": {},
     "output_type": "display_data"
    },
    {
     "data": {
      "text/plain": [
       "'cqt'"
      ]
     },
     "metadata": {},
     "output_type": "display_data"
    },
    {
     "data": {
      "text/plain": [
       "(4231, 84, 259)"
      ]
     },
     "metadata": {},
     "output_type": "display_data"
    }
   ],
   "source": [
    "# Not avgpooled Features\n",
    "val_features_2D = features.val_features_2D\n",
    "for key in val_features_2D.keys():\n",
    "  display(key)\n",
    "  display(val_features_2D[key].shape)"
   ]
  },
  {
   "cell_type": "code",
   "execution_count": 35,
   "metadata": {},
   "outputs": [],
   "source": [
    "train_ids = features.train_ids\n",
    "val_ids = features.val_ids"
   ]
  },
  {
   "cell_type": "markdown",
   "metadata": {},
   "source": [
    "### Encode Classes"
   ]
  },
  {
   "cell_type": "code",
   "execution_count": 36,
   "metadata": {},
   "outputs": [
    {
     "name": "stdout",
     "output_type": "stream",
     "text": [
      "Encoded classes for [0, 1, 2]: ['Acrocephalus arundinaceus', 'Acrocephalus melanopogon', 'Acrocephalus scirpaceus']\n",
      "Encoded training labels: [15 15 15 ...  5  5  5]\n",
      "Encoded validation labels: [15 15 15 ... 12 12 12]\n"
     ]
    }
   ],
   "source": [
    "label_encoder = LabelEncoder().fit(train_y)\n",
    "train_y_encoded = label_encoder.transform(train_y)\n",
    "val_y_encoded = label_encoder.transform(val_y)\n",
    "\n",
    "classes = list(label_encoder.inverse_transform([0, 1, 2]))\n",
    "print(\"Encoded classes for [0, 1, 2]:\", classes)\n",
    "print(\"Encoded training labels:\", train_y_encoded)\n",
    "print(\"Encoded validation labels:\", val_y_encoded)"
   ]
  },
  {
   "cell_type": "code",
   "execution_count": 37,
   "metadata": {},
   "outputs": [],
   "source": [
    "# Avg Pooled\n",
    "\n",
    "train_features_1D['label'] = train_y_encoded\n",
    "val_features_1D['label'] = val_y_encoded\n",
    "\n",
    "train_features_1D['id'] = train_ids\n",
    "val_features_1D['id'] = val_ids\n",
    "\n",
    "# Not Avg Pooled\n",
    "\n",
    "train_features_2D['label'] = train_y_encoded\n",
    "val_features_2D['label'] = val_y_encoded\n",
    "\n",
    "train_features_2D['id'] = train_ids\n",
    "val_features_2D['id'] = val_ids"
   ]
  },
  {
   "cell_type": "code",
   "execution_count": 38,
   "metadata": {},
   "outputs": [
    {
     "data": {
      "text/plain": [
       "{'train': {'melspectrogram': array([[-0.03214124, -0.96890205, -0.97514397, ..., -0.8797835 ,\n",
       "          -0.9103911 , -0.9997485 ],\n",
       "         [-0.01764496, -0.9780887 , -0.97997576, ..., -0.86167973,\n",
       "          -0.89395815, -0.99885833],\n",
       "         [-0.01764421, -0.97806746, -0.9799561 , ..., -0.8564302 ,\n",
       "          -0.88675773, -0.99834627],\n",
       "         ...,\n",
       "         [-0.01767047, -0.85546976, -0.822436  , ..., -0.99997175,\n",
       "          -0.99998844, -1.        ],\n",
       "         [-0.01765394, -0.8588135 , -0.8415632 , ..., -0.9999724 ,\n",
       "          -0.9999887 , -1.        ],\n",
       "         [-0.01762162, -0.8556395 , -0.8310128 , ..., -0.999972  ,\n",
       "          -0.99998856, -1.        ]], dtype=float32),\n",
       "  'mfcc': array([[-1.        , -0.04497185, -0.09596926, ...,  0.03470058,\n",
       "           0.02980951,  0.03267538],\n",
       "         [-1.        , -0.07467373, -0.12447219, ...,  0.03321128,\n",
       "           0.02954703,  0.04010739],\n",
       "         [-1.        , -0.09055886, -0.12986107, ...,  0.03218639,\n",
       "           0.03536548,  0.03869862],\n",
       "         ...,\n",
       "         [-1.        ,  0.21139991, -0.3258003 , ...,  0.05039598,\n",
       "           0.04435815,  0.0172057 ],\n",
       "         [-1.        ,  0.20524842, -0.38131666, ...,  0.05473849,\n",
       "           0.03572975,  0.01586089],\n",
       "         [-1.        ,  0.21195596, -0.39656973, ...,  0.05142422,\n",
       "           0.03633682,  0.01814351]], dtype=float32),\n",
       "  'chroma': array([[0.80566126, 0.8799981 , 0.93799084, ..., 0.84294605, 0.7706411 ,\n",
       "          0.7265018 ],\n",
       "         [0.78821385, 0.86043966, 0.93282783, ..., 0.825938  , 0.7530615 ,\n",
       "          0.7111624 ],\n",
       "         [0.7773413 , 0.8489524 , 0.92286855, ..., 0.8149596 , 0.7420761 ,\n",
       "          0.7011153 ],\n",
       "         ...,\n",
       "         [0.70447165, 0.8040593 , 0.88156813, ..., 0.802297  , 0.7077788 ,\n",
       "          0.63871473],\n",
       "         [0.67505383, 0.8067611 , 0.8763586 , ..., 0.77449536, 0.6728247 ,\n",
       "          0.6022954 ],\n",
       "         [0.6834581 , 0.8042581 , 0.8737182 , ..., 0.8144921 , 0.6874666 ,\n",
       "          0.61506397]], dtype=float32),\n",
       "  'cqt': array([[-65.44818 , -66.07872 , -66.06589 , ..., -53.862843, -53.727165,\n",
       "          -54.41718 ],\n",
       "         [-65.52865 , -66.1304  , -66.250534, ..., -52.077637, -53.448586,\n",
       "          -52.93797 ],\n",
       "         [-65.52852 , -66.1304  , -66.250565, ..., -50.937008, -52.65543 ,\n",
       "          -52.233498],\n",
       "         ...,\n",
       "         [-52.63624 , -52.784477, -50.91344 , ..., -43.03678 , -44.308273,\n",
       "          -43.75354 ],\n",
       "         [-50.27611 , -52.17273 , -52.577442, ..., -41.073467, -41.79296 ,\n",
       "          -41.431812],\n",
       "         [-50.888344, -52.949986, -53.64714 , ..., -39.69046 , -40.870296,\n",
       "          -41.68758 ]], dtype=float32),\n",
       "  'label': array([15, 15, 15, ...,  5,  5,  5]),\n",
       "  'id': array(['XC184422.mp3', 'XC184422.mp3', 'XC184422.mp3', ..., 'XC26960.mp3',\n",
       "         'XC26960.mp3', 'XC26960.mp3'], dtype='<U12')},\n",
       " 'val': {'melspectrogram': array([[-0.01788826, -0.5753415 , -0.6118873 , ..., -0.9646103 ,\n",
       "          -0.97536886, -0.9999988 ],\n",
       "         [-0.01773422, -0.5705537 , -0.59677875, ..., -0.96264297,\n",
       "          -0.972764  , -0.9999999 ],\n",
       "         [-0.01773936, -0.5596973 , -0.5860485 , ..., -0.977573  ,\n",
       "          -0.98254895, -0.99999386],\n",
       "         ...,\n",
       "         [-0.01764877, -0.7628719 , -0.7308356 , ..., -0.9998969 ,\n",
       "          -0.9999729 , -1.        ],\n",
       "         [-0.01764908, -0.76086473, -0.7259736 , ..., -0.9999134 ,\n",
       "          -0.9999524 , -1.        ],\n",
       "         [-0.01763438, -0.77261305, -0.73164004, ..., -0.999938  ,\n",
       "          -0.9999861 , -0.99999976]], dtype=float32),\n",
       "  'mfcc': array([[-0.9996147 ,  0.06156728,  0.03113873, ...,  0.02697225,\n",
       "           0.03467499,  0.01139968],\n",
       "         [-0.9968358 ,  0.05311262,  0.01125892, ...,  0.03336405,\n",
       "           0.03124065,  0.00888333],\n",
       "         [-0.99961567,  0.08456841,  0.03105736, ...,  0.02383158,\n",
       "           0.03221554,  0.00673043],\n",
       "         ...,\n",
       "         [-0.9997364 ,  0.16028735,  0.01237273, ...,  0.01758275,\n",
       "           0.0111886 ,  0.01331571],\n",
       "         [-0.99971616,  0.15851206,  0.0121394 , ...,  0.01826452,\n",
       "           0.01231271,  0.01479692],\n",
       "         [-0.99972725,  0.15512289,  0.01676699, ...,  0.01671068,\n",
       "           0.01205778,  0.01538745]], dtype=float32),\n",
       "  'chroma': array([[0.7171985 , 0.77864194, 0.83390164, ..., 0.72689986, 0.67765456,\n",
       "          0.6672544 ],\n",
       "         [0.7121463 , 0.77440673, 0.8351661 , ..., 0.72022516, 0.66816056,\n",
       "          0.65678495],\n",
       "         [0.756882  , 0.8220161 , 0.88638824, ..., 0.79751784, 0.7195339 ,\n",
       "          0.6854339 ],\n",
       "         ...,\n",
       "         [0.8158133 , 0.88626873, 0.943453  , ..., 0.8542201 , 0.7793561 ,\n",
       "          0.73659956],\n",
       "         [0.81574166, 0.88619304, 0.94341284, ..., 0.8542065 , 0.77934676,\n",
       "          0.73655164],\n",
       "         [0.8157068 , 0.88621795, 0.9434436 , ..., 0.8541298 , 0.77882737,\n",
       "          0.7360453 ]], dtype=float32),\n",
       "  'cqt': array([[-31.387533, -31.150387, -30.885073, ..., -53.172073, -53.56068 ,\n",
       "          -52.4913  ],\n",
       "         [-29.703842, -30.128725, -30.12344 , ..., -51.762936, -51.79172 ,\n",
       "          -49.7251  ],\n",
       "         [-30.235857, -27.942846, -29.62724 , ..., -55.314293, -55.489716,\n",
       "          -55.12318 ],\n",
       "         ...,\n",
       "         [-46.07696 , -47.042675, -48.664333, ..., -60.59032 , -60.16724 ,\n",
       "          -59.76265 ],\n",
       "         [-47.73779 , -46.591454, -48.37094 , ..., -60.98732 , -59.703617,\n",
       "          -59.234825],\n",
       "         [-49.090797, -48.558178, -48.741936, ..., -61.55073 , -61.36818 ,\n",
       "          -61.4665  ]], dtype=float32),\n",
       "  'label': array([15, 15, 15, ..., 12, 12, 12]),\n",
       "  'id': array(['XC514030.mp3', 'XC514030.mp3', 'XC514030.mp3', ...,\n",
       "         'XC308991.mp3', 'XC308991.mp3', 'XC308991.mp3'], dtype='<U12')}}"
      ]
     },
     "execution_count": 38,
     "metadata": {},
     "output_type": "execute_result"
    }
   ],
   "source": [
    "merged_dict_1D = {'train': train_features_1D, 'val': val_features_1D}\n",
    "merged_dict_1D"
   ]
  },
  {
   "cell_type": "code",
   "execution_count": 39,
   "metadata": {},
   "outputs": [
    {
     "data": {
      "text/plain": [
       "{'train': {'melspectrogram': array([[[-1.85656399e-02,  0.00000000e+00, -3.36131151e-03, ...,\n",
       "           -3.11951861e-02, -2.16903072e-02, -2.74765622e-02],\n",
       "          [-1.81066856e-01, -1.98433727e-01, -2.51744866e-01, ...,\n",
       "           -3.19155753e-01, -2.45763719e-01, -2.13726968e-01],\n",
       "          [-2.44508147e-01, -2.61068732e-01, -3.12649548e-01, ...,\n",
       "           -3.87516648e-01, -3.17697823e-01, -2.86605179e-01],\n",
       "          ...,\n",
       "          [-9.15928841e-01, -9.17033315e-01, -9.20726717e-01, ...,\n",
       "           -9.89644527e-01, -9.96836066e-01, -9.98356640e-01],\n",
       "          [-9.31999445e-01, -9.32433367e-01, -9.34706330e-01, ...,\n",
       "           -9.88947153e-01, -9.96383667e-01, -9.97944832e-01],\n",
       "          [-1.00000000e+00, -1.00000000e+00, -1.00000000e+00, ...,\n",
       "           -1.00000000e+00, -1.00000000e+00, -1.00000000e+00]],\n",
       "  \n",
       "         [[-1.73473042e-02,  0.00000000e+00, -8.11313186e-03, ...,\n",
       "           -1.30778868e-02, -1.34250743e-03, -6.29630731e-03],\n",
       "          [-1.93665311e-01, -2.12086484e-01, -2.69262016e-01, ...,\n",
       "           -3.06366026e-01, -2.29990244e-01, -1.96355924e-01],\n",
       "          [-2.68094420e-01, -2.86367357e-01, -3.42136830e-01, ...,\n",
       "           -3.75990778e-01, -3.03392559e-01, -2.70724475e-01],\n",
       "          ...,\n",
       "          [-9.95767832e-01, -9.94761109e-01, -9.90713537e-01, ...,\n",
       "           -9.84228194e-01, -9.94422317e-01, -9.95249212e-01],\n",
       "          [-9.99609590e-01, -9.99203563e-01, -9.97426629e-01, ...,\n",
       "           -9.90717769e-01, -9.98893261e-01, -9.99329388e-01],\n",
       "          [-1.00000000e+00, -1.00000000e+00, -1.00000000e+00, ...,\n",
       "           -1.00000000e+00, -1.00000000e+00, -9.99130607e-01]],\n",
       "  \n",
       "         [[-1.73597261e-02,  3.44143061e-08, -8.12190212e-03, ...,\n",
       "           -1.31061058e-02, -1.34536217e-03, -6.30185101e-03],\n",
       "          [-1.93825141e-01, -2.12273166e-01, -2.69532859e-01, ...,\n",
       "           -3.07018042e-01, -2.30413646e-01, -1.96568668e-01],\n",
       "          [-2.68315911e-01, -2.86618859e-01, -3.42480123e-01, ...,\n",
       "           -3.76787335e-01, -3.03949267e-01, -2.71016777e-01],\n",
       "          ...,\n",
       "          [-9.98180807e-01, -9.96807218e-01, -9.91290271e-01, ...,\n",
       "           -9.70803916e-01, -9.91629720e-01, -9.94342864e-01],\n",
       "          [-9.94932652e-01, -9.94224548e-01, -9.91431415e-01, ...,\n",
       "           -9.86740172e-01, -9.94506776e-01, -9.94274437e-01],\n",
       "          [-1.00000000e+00, -1.00000000e+00, -1.00000000e+00, ...,\n",
       "           -1.00000000e+00, -9.98671412e-01, -9.96799469e-01]],\n",
       "  \n",
       "         ...,\n",
       "  \n",
       "         [[-1.73040573e-02,  0.00000000e+00, -8.11171625e-03, ...,\n",
       "           -1.31389517e-02, -1.42977398e-03, -6.36542169e-03],\n",
       "          [-1.93338335e-01, -2.11742550e-01, -2.68826723e-01, ...,\n",
       "           -3.06141376e-01, -2.30024502e-01, -1.96550727e-01],\n",
       "          [-2.67747343e-01, -2.86017478e-01, -3.41697484e-01, ...,\n",
       "           -3.75681639e-01, -3.03395897e-01, -2.70945609e-01],\n",
       "          ...,\n",
       "          [-9.98967588e-01, -9.98993218e-01, -9.99071002e-01, ...,\n",
       "           -9.99122977e-01, -9.99022901e-01, -9.98976946e-01],\n",
       "          [-9.99579251e-01, -9.99589682e-01, -9.99621391e-01, ...,\n",
       "           -9.99642015e-01, -9.99601305e-01, -9.99582589e-01],\n",
       "          [-1.00000000e+00, -1.00000000e+00, -1.00000000e+00, ...,\n",
       "           -1.00000000e+00, -1.00000000e+00, -1.00000000e+00]],\n",
       "  \n",
       "         [[-1.73750017e-02,  0.00000000e+00, -8.10297485e-03, ...,\n",
       "           -1.31160347e-02, -1.33471889e-03, -6.28033234e-03],\n",
       "          [-1.93827182e-01, -2.12211534e-01, -2.69317657e-01, ...,\n",
       "           -3.06835681e-01, -2.30640754e-01, -1.97122008e-01],\n",
       "          [-2.68525451e-01, -2.86829054e-01, -3.42608988e-01, ...,\n",
       "           -3.76146793e-01, -3.04019064e-01, -2.71644801e-01],\n",
       "          ...,\n",
       "          [-9.99001801e-01, -9.99026895e-01, -9.99102592e-01, ...,\n",
       "           -9.99136508e-01, -9.99038935e-01, -9.98994052e-01],\n",
       "          [-9.99589860e-01, -9.99600112e-01, -9.99631166e-01, ...,\n",
       "           -9.99646842e-01, -9.99606788e-01, -9.99588311e-01],\n",
       "          [-1.00000000e+00, -1.00000000e+00, -1.00000000e+00, ...,\n",
       "           -1.00000000e+00, -1.00000000e+00, -1.00000000e+00]],\n",
       "  \n",
       "         [[-1.73732508e-02,  0.00000000e+00, -8.10301676e-03, ...,\n",
       "           -1.29834889e-02, -1.33786106e-03, -6.23764703e-03],\n",
       "          [-1.93567067e-01, -2.11932525e-01, -2.69010067e-01, ...,\n",
       "           -3.04134041e-01, -2.28351042e-01, -1.95049703e-01],\n",
       "          [-2.67872393e-01, -2.86078423e-01, -3.41734320e-01, ...,\n",
       "           -3.72656018e-01, -3.00750732e-01, -2.68540651e-01],\n",
       "          ...,\n",
       "          [-9.98972535e-01, -9.98997927e-01, -9.99075055e-01, ...,\n",
       "           -9.99136925e-01, -9.99039710e-01, -9.98995066e-01],\n",
       "          [-9.99580860e-01, -9.99591291e-01, -9.99622762e-01, ...,\n",
       "           -9.99647558e-01, -9.99607861e-01, -9.99589562e-01],\n",
       "          [-1.00000000e+00, -1.00000000e+00, -1.00000000e+00, ...,\n",
       "           -1.00000000e+00, -1.00000000e+00, -1.00000000e+00]]]),\n",
       "  'mfcc': array([[[-1.00000000e+00, -1.00000000e+00, -1.00000000e+00, ...,\n",
       "           -1.00000000e+00, -1.00000000e+00, -1.00000000e+00],\n",
       "          [ 9.36135530e-01,  8.31230760e-01,  6.00644588e-01, ...,\n",
       "            4.69679415e-01,  6.91211462e-01,  8.44382405e-01],\n",
       "          [ 1.60082877e-01,  1.44300163e-01,  1.07850291e-01, ...,\n",
       "            1.03834525e-01,  1.45299718e-01,  1.74056590e-01],\n",
       "          ...,\n",
       "          [ 3.55104282e-02,  3.38411704e-02,  2.81497631e-02, ...,\n",
       "            2.28928756e-02,  2.74786334e-02,  3.05019338e-02],\n",
       "          [ 2.14982517e-02,  2.13120133e-02,  1.81618202e-02, ...,\n",
       "            1.86282340e-02,  2.22257040e-02,  2.42214687e-02],\n",
       "          [ 3.21281664e-02,  3.08285598e-02,  2.54120417e-02, ...,\n",
       "            1.84707809e-02,  2.25089975e-02,  2.49144547e-02]],\n",
       "  \n",
       "         [[-1.00000000e+00, -1.00000000e+00, -1.00000000e+00, ...,\n",
       "           -1.00000000e+00, -1.00000000e+00, -1.00000000e+00],\n",
       "          [ 8.62816095e-01,  7.69617379e-01,  5.61185718e-01, ...,\n",
       "            4.77492243e-01,  6.96515918e-01,  8.47538054e-01],\n",
       "          [ 1.73311263e-01,  1.57095656e-01,  1.19203709e-01, ...,\n",
       "            7.65049160e-02,  1.35258332e-01,  1.69516325e-01],\n",
       "          ...,\n",
       "          [ 2.88983379e-02,  2.79569589e-02,  2.36637089e-02, ...,\n",
       "            2.79383510e-02,  2.82060858e-02,  3.03811952e-02],\n",
       "          [ 2.57490259e-02,  2.51215696e-02,  2.12572701e-02, ...,\n",
       "            4.16573174e-02,  3.36386636e-02,  3.07912808e-02],\n",
       "          [ 2.82701943e-02,  2.74066348e-02,  2.29272265e-02, ...,\n",
       "            6.68628700e-03,  2.12447327e-02,  2.63772700e-02]],\n",
       "  \n",
       "         [[-1.00000000e+00, -1.00000000e+00, -1.00000000e+00, ...,\n",
       "           -1.00000000e+00, -1.00000000e+00, -1.00000000e+00],\n",
       "          [ 8.63095343e-01,  7.69515336e-01,  5.60306728e-01, ...,\n",
       "            4.69155073e-01,  6.92026615e-01,  8.46156418e-01],\n",
       "          [ 1.75523892e-01,  1.59025207e-01,  1.20317817e-01, ...,\n",
       "            1.06425673e-01,  1.45098284e-01,  1.73264921e-01],\n",
       "          ...,\n",
       "          [ 3.12822983e-02,  2.99332477e-02,  2.44520828e-02, ...,\n",
       "            1.83076225e-02,  2.29819454e-02,  2.55760942e-02],\n",
       "          [ 2.61945203e-02,  2.56927982e-02,  2.24679243e-02, ...,\n",
       "            2.40650512e-02,  2.82103531e-02,  3.11594307e-02],\n",
       "          [ 2.27180962e-02,  2.22056769e-02,  1.89982429e-02, ...,\n",
       "            2.07882077e-02,  2.34137829e-02,  2.55074557e-02]],\n",
       "  \n",
       "         ...,\n",
       "  \n",
       "         [[-1.00000000e+00, -1.00000000e+00, -1.00000000e+00, ...,\n",
       "           -1.00000000e+00, -1.00000000e+00, -1.00000000e+00],\n",
       "          [ 9.22916055e-01,  8.53407860e-01,  6.70454681e-01, ...,\n",
       "            6.14872992e-01,  8.48211944e-01,  9.96015489e-01],\n",
       "          [ 1.41469538e-01,  9.25210267e-02, -2.64492212e-03, ...,\n",
       "           -9.40975621e-02,  1.03793563e-02,  7.77497813e-02],\n",
       "          ...,\n",
       "          [ 4.10550945e-02,  3.75465602e-02,  3.07507701e-02, ...,\n",
       "            5.11767678e-02,  4.87408638e-02,  4.50680815e-02],\n",
       "          [ 2.85844319e-02,  3.14390659e-02,  3.16502377e-02, ...,\n",
       "            4.24862243e-02,  4.67836075e-02,  4.83527929e-02],\n",
       "          [ 1.63517464e-02,  1.93578750e-02,  1.87476315e-02, ...,\n",
       "            1.96359996e-02,  2.35063303e-02,  2.32873838e-02]],\n",
       "  \n",
       "         [[-1.00000000e+00, -1.00000000e+00, -1.00000000e+00, ...,\n",
       "           -1.00000000e+00, -1.00000000e+00, -1.00000000e+00],\n",
       "          [ 8.89877141e-01,  8.16781938e-01,  6.26238525e-01, ...,\n",
       "            5.32752991e-01,  7.38352835e-01,  8.82961512e-01],\n",
       "          [ 1.66363314e-01,  1.29999042e-01,  5.81475981e-02, ...,\n",
       "            2.75387173e-03,  9.34711248e-02,  1.45780310e-01],\n",
       "          ...,\n",
       "          [ 4.67160568e-02,  4.39081416e-02,  4.18043323e-02, ...,\n",
       "            2.87577696e-02,  3.16227116e-02,  3.24325971e-02],\n",
       "          [ 4.61259969e-02,  4.80671152e-02,  3.94158065e-02, ...,\n",
       "            3.95836011e-02,  3.94580700e-02,  3.73526737e-02],\n",
       "          [ 1.84781812e-02,  2.17143558e-02,  2.13056151e-02, ...,\n",
       "            1.41477957e-02,  1.55470176e-02,  1.91813949e-02]],\n",
       "  \n",
       "         [[-1.00000000e+00, -1.00000000e+00, -1.00000000e+00, ...,\n",
       "           -1.00000000e+00, -1.00000000e+00, -1.00000000e+00],\n",
       "          [ 9.61250782e-01,  9.25074279e-01,  7.44749486e-01, ...,\n",
       "            5.72408497e-01,  7.68924117e-01,  9.04801548e-01],\n",
       "          [ 1.14973269e-01,  2.56267805e-02, -1.19238153e-01, ...,\n",
       "           -6.00096993e-02,  7.79792145e-02,  1.43450871e-01],\n",
       "          ...,\n",
       "          [ 9.16156098e-02,  8.86953697e-02,  7.45834410e-02, ...,\n",
       "            4.53694649e-02,  3.94561701e-02,  3.25625911e-02],\n",
       "          [ 3.80061902e-02,  5.48913404e-02,  5.30331172e-02, ...,\n",
       "            5.19290976e-02,  4.87579927e-02,  4.79806475e-02],\n",
       "          [-2.48948820e-02, -1.93137694e-02, -1.15440181e-02, ...,\n",
       "           -4.25035105e-04,  1.21642519e-02,  2.31774040e-02]]]),\n",
       "  'chroma': array([[[0.85568845, 0.87424862, 0.83894789, ..., 0.83766878,\n",
       "           0.89698631, 0.86485809],\n",
       "          [0.88399857, 0.90832824, 0.89027423, ..., 0.89266026,\n",
       "           0.92788619, 0.8958323 ],\n",
       "          [0.93027037, 0.94984663, 0.94156015, ..., 0.94225562,\n",
       "           0.96126544, 0.94011778],\n",
       "          ...,\n",
       "          [0.85657674, 0.88425237, 0.8625524 , ..., 0.87145877,\n",
       "           0.88728148, 0.86904132],\n",
       "          [0.81431574, 0.83891743, 0.80295604, ..., 0.80583143,\n",
       "           0.85001528, 0.83008927],\n",
       "          [0.7981481 , 0.81529528, 0.77021205, ..., 0.76843375,\n",
       "           0.83497018, 0.81098789]],\n",
       "  \n",
       "         [[0.8666454 , 0.89420742, 0.85766691, ..., 0.82656187,\n",
       "           0.89881617, 0.86810344],\n",
       "          [0.89274937, 0.9242155 , 0.90410119, ..., 0.88402927,\n",
       "           0.93100053, 0.89964175],\n",
       "          [0.93467754, 0.9587478 , 0.94889063, ..., 0.95635712,\n",
       "           0.97627485, 0.95168585],\n",
       "          ...,\n",
       "          [0.8616848 , 0.89433503, 0.87014675, ..., 0.86054754,\n",
       "           0.88770437, 0.87027603],\n",
       "          [0.82309538, 0.85568684, 0.81846303, ..., 0.79498398,\n",
       "           0.85094517, 0.83213913],\n",
       "          [0.80946851, 0.83641928, 0.79120392, ..., 0.75783122,\n",
       "           0.83621007, 0.8135944 ]],\n",
       "  \n",
       "         [[0.86406463, 0.89185894, 0.85627019, ..., 0.83939332,\n",
       "           0.89925992, 0.86740804],\n",
       "          [0.89108956, 0.9225589 , 0.90314066, ..., 0.89616644,\n",
       "           0.93143082, 0.89962369],\n",
       "          [0.93484229, 0.95891464, 0.94924134, ..., 0.94444811,\n",
       "           0.96529466, 0.94471699],\n",
       "          ...,\n",
       "          [0.85870481, 0.89157504, 0.8684234 , ..., 0.87179393,\n",
       "           0.88882858, 0.87100309],\n",
       "          [0.82176501, 0.85446429, 0.8177436 , ..., 0.8063072 ,\n",
       "           0.85105926, 0.83126706],\n",
       "          [0.80784577, 0.83489323, 0.79012764, ..., 0.76885843,\n",
       "           0.83614177, 0.81238109]],\n",
       "  \n",
       "         ...,\n",
       "  \n",
       "         [[0.86502075, 0.89007872, 0.8416307 , ..., 0.45122218,\n",
       "           0.63550061, 0.73487264],\n",
       "          [0.89381838, 0.92556262, 0.90222555, ..., 0.57752985,\n",
       "           0.70945072, 0.78266615],\n",
       "          [0.93524724, 0.95643467, 0.937042  , ..., 1.        ,\n",
       "           1.        , 1.        ],\n",
       "          ...,\n",
       "          [0.90064341, 0.9433229 , 0.93248391, ..., 0.44164324,\n",
       "           0.60432124, 0.71759254],\n",
       "          [0.82878631, 0.87554914, 0.86754662, ..., 0.4057914 ,\n",
       "           0.57742763, 0.68431407],\n",
       "          [0.80206931, 0.82817966, 0.77867067, ..., 0.39892268,\n",
       "           0.58503783, 0.68920499]],\n",
       "  \n",
       "         [[0.85618281, 0.87546116, 0.78954166, ..., 0.81894934,\n",
       "           0.88208443, 0.85062289],\n",
       "          [0.88899982, 0.91261947, 0.84308344, ..., 0.87723804,\n",
       "           0.91656399, 0.88489473],\n",
       "          [0.93630111, 0.96255839, 0.91930568, ..., 0.92402464,\n",
       "           0.94985139, 0.93051946],\n",
       "          ...,\n",
       "          [0.85629839, 0.88045865, 0.80387479, ..., 0.91617835,\n",
       "           0.90117061, 0.86428547],\n",
       "          [0.81400508, 0.83870304, 0.7534126 , ..., 0.80027348,\n",
       "           0.84576839, 0.82262027],\n",
       "          [0.79763311, 0.8181107 , 0.73353189, ..., 0.75550884,\n",
       "           0.82265908, 0.79850334]],\n",
       "  \n",
       "         [[0.6758846 , 0.5465728 , 0.40221366, ..., 0.79930675,\n",
       "           0.88916475, 0.86337894],\n",
       "          [0.75504833, 0.65812451, 0.55291599, ..., 0.87150675,\n",
       "           0.93085849, 0.90323848],\n",
       "          [1.        , 1.        , 1.        , ..., 1.        ,\n",
       "           0.98412377, 0.94728678],\n",
       "          ...,\n",
       "          [0.70036781, 0.56937099, 0.42762205, ..., 0.87772846,\n",
       "           0.91046423, 0.89302564],\n",
       "          [0.65184689, 0.53890079, 0.42323112, ..., 0.81575722,\n",
       "           0.86416882, 0.84361953],\n",
       "          [0.63410467, 0.51397485, 0.37435806, ..., 0.76661938,\n",
       "           0.8471368 , 0.82327354]]]),\n",
       "  'cqt': array([[[-1.19209290e-07, -1.98930502e-02, -1.54320598e-01, ...,\n",
       "           -7.30013609e-01, -5.64513803e-01, -5.26180744e-01],\n",
       "          [-1.89829051e-01, -2.53209829e-01, -3.88169765e-01, ...,\n",
       "           -9.72469091e-01, -8.16869855e-01, -7.31571674e-01],\n",
       "          [-5.74115157e-01, -5.87623954e-01, -7.80043125e-01, ...,\n",
       "           -1.26944637e+00, -1.04229188e+00, -9.91131663e-01],\n",
       "          ...,\n",
       "          [-1.99960423e+01, -8.00000000e+01, -7.78677292e+01, ...,\n",
       "           -4.73074570e+01, -4.88059578e+01, -4.76566582e+01],\n",
       "          [-2.02604942e+01, -7.69185944e+01, -7.51031647e+01, ...,\n",
       "           -5.08241119e+01, -4.74092026e+01, -4.80731583e+01],\n",
       "          [-2.04742889e+01, -8.00000000e+01, -7.47137527e+01, ...,\n",
       "           -5.94135513e+01, -5.33199196e+01, -5.30056534e+01]],\n",
       "  \n",
       "         [[-2.27672338e-01, -2.55980492e-01, -4.01459336e-01, ...,\n",
       "           -2.03833818e-01, -3.83343697e-02, -1.19209290e-07],\n",
       "          [-4.54827189e-01, -5.31674266e-01, -6.78471446e-01, ...,\n",
       "           -4.46281672e-01, -2.90684104e-01, -2.05385327e-01],\n",
       "          [-7.67304420e-01, -7.84166813e-01, -9.87896919e-01, ...,\n",
       "           -7.43263721e-01, -5.16108871e-01, -4.64944601e-01],\n",
       "          ...,\n",
       "          [-1.99387741e+01, -6.09304199e+01, -5.14964066e+01, ...,\n",
       "           -4.61657829e+01, -6.08390465e+01, -5.28039474e+01],\n",
       "          [-2.02273254e+01, -5.85946732e+01, -5.38191490e+01, ...,\n",
       "           -5.15290871e+01, -6.07430077e+01, -5.36241646e+01],\n",
       "          [-2.04646759e+01, -5.90655556e+01, -4.95125351e+01, ...,\n",
       "           -6.02650986e+01, -5.77378159e+01, -6.53548889e+01]],\n",
       "  \n",
       "         [[-2.27620840e-01, -2.55933881e-01, -4.01421785e-01, ...,\n",
       "           -2.03836799e-01, -3.83353233e-02,  1.19209290e-07],\n",
       "          [-4.54762816e-01, -5.31616569e-01, -6.78418875e-01, ...,\n",
       "           -4.46279407e-01, -2.90679932e-01, -2.05379725e-01],\n",
       "          [-7.67228842e-01, -7.84095049e-01, -9.87839937e-01, ...,\n",
       "           -7.43248701e-01, -5.16094327e-01, -4.64927197e-01],\n",
       "          ...,\n",
       "          [-2.00340004e+01, -5.48306541e+01, -5.23625374e+01, ...,\n",
       "           -5.74837151e+01, -4.66022491e+01, -7.08697586e+01],\n",
       "          [-2.01556683e+01, -5.34826927e+01, -6.47922287e+01, ...,\n",
       "           -5.64515724e+01, -4.75991058e+01, -5.03032875e+01],\n",
       "          [-2.03551922e+01, -4.74108887e+01, -6.11342278e+01, ...,\n",
       "           -5.91995659e+01, -5.36578636e+01, -4.93483315e+01]],\n",
       "  \n",
       "         ...,\n",
       "  \n",
       "         [[-2.26904154e-01, -2.55812883e-01, -4.01985407e-01, ...,\n",
       "           -2.03479171e-01, -3.81677151e-02,  0.00000000e+00],\n",
       "          [-4.52277660e-01, -5.28845787e-01, -6.75293207e-01, ...,\n",
       "           -4.37785029e-01, -2.83152103e-01, -1.98750615e-01],\n",
       "          [-7.64230490e-01, -7.80668736e-01, -9.83933687e-01, ...,\n",
       "           -7.37698078e-01, -5.10779262e-01, -4.59754109e-01],\n",
       "          ...,\n",
       "          [-2.01088123e+01, -4.52130013e+01, -5.59521980e+01, ...,\n",
       "           -3.59463882e+01, -4.03910828e+01, -3.81021004e+01],\n",
       "          [-2.03246117e+01, -5.13768501e+01, -5.67889137e+01, ...,\n",
       "           -4.60698586e+01, -4.15323524e+01, -4.01019821e+01],\n",
       "          [-2.06686859e+01, -6.95990677e+01, -5.53146667e+01, ...,\n",
       "           -3.99770355e+01, -3.90303497e+01, -3.75094070e+01]],\n",
       "  \n",
       "         [[-2.32576132e-01, -2.60894537e-01, -4.06359911e-01, ...,\n",
       "           -2.03201413e-01, -3.80512476e-02,  0.00000000e+00],\n",
       "          [-4.52958465e-01, -5.29445410e-01, -6.75962210e-01, ...,\n",
       "           -4.49072361e-01, -2.93665409e-01, -2.08541751e-01],\n",
       "          [-7.63069510e-01, -7.78653860e-01, -9.80665207e-01, ...,\n",
       "           -7.52799988e-01, -5.24805903e-01, -4.72924829e-01],\n",
       "          ...,\n",
       "          [-2.02017460e+01, -4.50221214e+01, -3.57340317e+01, ...,\n",
       "           -2.98739128e+01, -3.92081680e+01, -5.40860939e+01],\n",
       "          [-1.98827934e+01, -4.38839569e+01, -3.92809753e+01, ...,\n",
       "           -3.48300934e+01, -5.17310028e+01, -5.59372902e+01],\n",
       "          [-2.02149601e+01, -5.59777679e+01, -3.97037926e+01, ...,\n",
       "           -4.65867996e+01, -4.40636520e+01, -4.61052132e+01]],\n",
       "  \n",
       "         [[-2.40214586e-01, -2.68531561e-01, -4.13883209e-01, ...,\n",
       "           -2.04339504e-01, -3.85553837e-02,  0.00000000e+00],\n",
       "          [-4.65617657e-01, -5.43221474e-01, -6.90882921e-01, ...,\n",
       "           -4.46793556e-01, -2.91226387e-01, -2.05900192e-01],\n",
       "          [-7.69268513e-01, -7.85837173e-01, -9.89151478e-01, ...,\n",
       "           -7.43606329e-01, -5.16166449e-01, -4.64809299e-01],\n",
       "          ...,\n",
       "          [-2.07648258e+01, -5.02129593e+01, -3.39078217e+01, ...,\n",
       "           -4.18770981e+01, -3.89264297e+01, -4.48360405e+01],\n",
       "          [-2.02770061e+01, -4.39167671e+01, -3.80736809e+01, ...,\n",
       "           -4.13959312e+01, -3.82759857e+01, -3.79304886e+01],\n",
       "          [-1.95853157e+01, -4.00322952e+01, -3.86264572e+01, ...,\n",
       "           -4.24768982e+01, -4.41514397e+01, -4.31591377e+01]]]),\n",
       "  'label': array([15, 15, 15, ...,  5,  5,  5]),\n",
       "  'id': array(['XC184422.mp3', 'XC184422.mp3', 'XC184422.mp3', ..., 'XC26960.mp3',\n",
       "         'XC26960.mp3', 'XC26960.mp3'], dtype='<U12')},\n",
       " 'val': {'melspectrogram': array([[[-0.01717007,  0.        , -0.00830828, ..., -0.01331007,\n",
       "           -0.00158496, -0.00637724],\n",
       "          [-0.19266784, -0.21122253, -0.26852328, ..., -0.30360812,\n",
       "           -0.22879134, -0.1959869 ],\n",
       "          [-0.26545274, -0.28315961, -0.33806252, ..., -0.3797172 ,\n",
       "           -0.30667982, -0.27378425],\n",
       "          ...,\n",
       "          [-0.9983077 , -0.9985984 , -0.9985711 , ..., -0.99904412,\n",
       "           -0.99917001, -0.99917388],\n",
       "          [-0.99931526, -0.99961406, -0.99959946, ..., -0.99951518,\n",
       "           -0.99957865, -0.99957836],\n",
       "          [-0.99970704, -1.        , -1.        , ..., -1.        ,\n",
       "           -1.        , -1.        ]],\n",
       "  \n",
       "         [[-0.01591541,  0.        , -0.00754655, ..., -0.01289825,\n",
       "           -0.00108561, -0.00615855],\n",
       "          [-0.17720377, -0.19455263, -0.24904656, ..., -0.305457  ,\n",
       "           -0.22979553, -0.19653499],\n",
       "          [-0.24614851, -0.26383126, -0.3179093 , ..., -0.37638527,\n",
       "           -0.30517912, -0.27306995],\n",
       "          ...,\n",
       "          [-0.92940235, -0.91833186, -0.89729089, ..., -0.99904269,\n",
       "           -0.99925643, -0.99923104],\n",
       "          [-0.94434077, -0.93236423, -0.91494018, ..., -0.9994365 ,\n",
       "           -0.9994899 , -0.99945635],\n",
       "          [-1.        , -1.        , -1.        , ..., -1.        ,\n",
       "           -1.        , -0.99997115]],\n",
       "  \n",
       "         [[-0.01746419,  0.        , -0.00808914, ..., -0.01307487,\n",
       "           -0.00135384, -0.00626871],\n",
       "          [-0.19497529, -0.21310775, -0.26957306, ..., -0.30391064,\n",
       "           -0.22815509, -0.19494779],\n",
       "          [-0.27189136, -0.29070091, -0.34711999, ..., -0.37485904,\n",
       "           -0.30259937, -0.27017927],\n",
       "          ...,\n",
       "          [-0.99885219, -0.99884987, -0.99886549, ..., -0.99835694,\n",
       "           -0.99884892, -0.99885541],\n",
       "          [-1.        , -1.        , -1.        , ..., -0.99983203,\n",
       "           -1.        , -1.        ],\n",
       "          [-0.99958158, -0.99958611, -0.99968213, ..., -1.        ,\n",
       "           -0.99979961, -0.99975783]],\n",
       "  \n",
       "         ...,\n",
       "  \n",
       "         [[-0.01733071,  0.        , -0.00812982, ..., -0.01306333,\n",
       "           -0.00133658, -0.00629143],\n",
       "          [-0.19355771, -0.21195808, -0.26909611, ..., -0.3057926 ,\n",
       "           -0.22982927, -0.19645059],\n",
       "          [-0.26822492, -0.28653786, -0.34229928, ..., -0.37585753,\n",
       "           -0.30358118, -0.27114701],\n",
       "          ...,\n",
       "          [-0.99823672, -0.9982208 , -0.99817997, ..., -0.99867493,\n",
       "           -0.9989295 , -0.99893308],\n",
       "          [-0.99998391, -0.99999475, -0.99996436, ..., -0.99982727,\n",
       "           -0.99995339, -0.99996674],\n",
       "          [-1.        , -1.        , -1.        , ..., -1.        ,\n",
       "           -1.        , -1.        ]],\n",
       "  \n",
       "         [[-0.01734152,  0.        , -0.00812253, ..., -0.01308176,\n",
       "           -0.00132531, -0.00628305],\n",
       "          [-0.19359393, -0.21198045, -0.26911494, ..., -0.30649063,\n",
       "           -0.23050003, -0.19706598],\n",
       "          [-0.26831055, -0.28663135, -0.34243336, ..., -0.37685123,\n",
       "           -0.30436569, -0.27182299],\n",
       "          ...,\n",
       "          [-0.99929678, -0.99927205, -0.99914438, ..., -0.99900788,\n",
       "           -0.99931598, -0.99933261],\n",
       "          [-0.99942386, -0.99939555, -0.99931079, ..., -0.9995749 ,\n",
       "           -0.99972945, -0.99974632],\n",
       "          [-1.        , -1.        , -1.        , ..., -1.        ,\n",
       "           -1.        , -1.        ]],\n",
       "  \n",
       "         [[-0.0173694 ,  0.        , -0.00810485, ..., -0.01306642,\n",
       "           -0.00133138, -0.00628393],\n",
       "          [-0.19399804, -0.21250968, -0.26975229, ..., -0.30623242,\n",
       "           -0.23014386, -0.19668284],\n",
       "          [-0.2680026 , -0.28625244, -0.34197408, ..., -0.3755433 ,\n",
       "           -0.3033663 , -0.27100015],\n",
       "          ...,\n",
       "          [-0.99828899, -0.9982788 , -0.99820375, ..., -0.99925762,\n",
       "           -0.99929649, -0.99929148],\n",
       "          [-1.        , -1.        , -0.99994737, ..., -0.99974263,\n",
       "           -0.99973685, -0.99972534],\n",
       "          [-0.99996477, -0.99997014, -1.        , ..., -1.        ,\n",
       "           -1.        , -1.        ]]]),\n",
       "  'mfcc': array([[[-0.93160504, -1.        , -1.        , ..., -1.        ,\n",
       "           -1.        , -0.96860731],\n",
       "          [ 1.        ,  0.93118525,  0.63744843, ...,  0.50605345,\n",
       "            0.80930358,  1.        ],\n",
       "          [ 0.20600513,  0.19742218,  0.14813942, ...,  0.12214778,\n",
       "            0.17637093,  0.21035995],\n",
       "          ...,\n",
       "          [ 0.03243661,  0.03371722,  0.02841451, ...,  0.03984548,\n",
       "            0.03474196,  0.03421085],\n",
       "          [ 0.02995769,  0.0305611 ,  0.02531068, ...,  0.01037417,\n",
       "            0.02233533,  0.02953626],\n",
       "          [ 0.02739514,  0.02696012,  0.01858308, ...,  0.02380232,\n",
       "            0.03331175,  0.03469582]],\n",
       "  \n",
       "         [[-0.6437372 , -0.69045305, -0.88633066, ..., -1.        ,\n",
       "           -1.        , -0.95997477],\n",
       "          [ 1.        ,  0.94766867,  0.62397426, ...,  0.51709074,\n",
       "            0.81536019,  1.        ],\n",
       "          [-0.19319496, -0.29408693, -0.33629733, ...,  0.1311311 ,\n",
       "            0.17939793,  0.21092267],\n",
       "          ...,\n",
       "          [ 0.04747832,  0.04070108,  0.03599771, ...,  0.02589774,\n",
       "            0.03164478,  0.03403728],\n",
       "          [ 0.06128303,  0.08313162,  0.08090916, ...,  0.02538081,\n",
       "            0.02881895,  0.03080999],\n",
       "          [ 0.04811459,  0.04933565,  0.05185964, ...,  0.0123606 ,\n",
       "            0.02282407,  0.02743344]],\n",
       "  \n",
       "         [[-0.9482314 , -1.        , -1.        , ..., -1.        ,\n",
       "           -1.        , -0.95223719],\n",
       "          [ 1.        ,  0.91668731,  0.6265884 , ...,  0.5267818 ,\n",
       "            0.82376403,  1.        ],\n",
       "          [ 0.21126963,  0.19775483,  0.14385441, ...,  0.04642091,\n",
       "            0.16940068,  0.20370306],\n",
       "          ...,\n",
       "          [ 0.03635567,  0.04169422,  0.04576232, ...,  0.03646164,\n",
       "            0.03175593,  0.03214948],\n",
       "          [ 0.03289276,  0.03382966,  0.02719767, ...,  0.01622314,\n",
       "            0.03043476,  0.03562911],\n",
       "          [ 0.02361723,  0.01755182,  0.00170922, ...,  0.01460957,\n",
       "            0.02366603,  0.02750018]],\n",
       "  \n",
       "         ...,\n",
       "  \n",
       "         [[-0.95502222, -1.        , -1.        , ..., -1.        ,\n",
       "           -1.        , -0.97672057],\n",
       "          [ 1.        ,  0.91288632,  0.63578933, ...,  0.52658808,\n",
       "            0.80764395,  1.        ],\n",
       "          [ 0.20309018,  0.18740349,  0.13294105, ...,  0.11136951,\n",
       "            0.16683969,  0.20386215],\n",
       "          ...,\n",
       "          [ 0.03235712,  0.03194593,  0.02537736, ...,  0.02368445,\n",
       "            0.03083967,  0.03482836],\n",
       "          [ 0.02824664,  0.02807084,  0.02245473, ...,  0.02126587,\n",
       "            0.02753516,  0.03086886],\n",
       "          [ 0.02759712,  0.02747116,  0.02190972, ...,  0.020395  ,\n",
       "            0.02651289,  0.02969422]],\n",
       "  \n",
       "         [[-0.9538157 , -1.        , -1.        , ..., -1.        ,\n",
       "           -1.        , -0.97267413],\n",
       "          [ 1.        ,  0.91379195,  0.63599497, ...,  0.52789378,\n",
       "            0.81020749,  1.        ],\n",
       "          [ 0.20229875,  0.18682986,  0.132452  , ...,  0.11221033,\n",
       "            0.1688358 ,  0.20580149],\n",
       "          ...,\n",
       "          [ 0.03130609,  0.03098279,  0.02457898, ...,  0.02273158,\n",
       "            0.02961927,  0.03329286],\n",
       "          [ 0.03057492,  0.03031592,  0.02402175, ...,  0.02246172,\n",
       "            0.02961961,  0.0333563 ],\n",
       "          [ 0.02941161,  0.0293414 ,  0.0235601 , ...,  0.02016298,\n",
       "            0.02599477,  0.02901047]],\n",
       "  \n",
       "         [[-0.95377642, -1.        , -1.        , ..., -1.        ,\n",
       "           -1.        , -0.97558129],\n",
       "          [ 1.        ,  0.91377676,  0.63590091, ...,  0.52709079,\n",
       "            0.8082962 ,  1.        ],\n",
       "          [ 0.20320013,  0.18766619,  0.13298675, ...,  0.11162966,\n",
       "            0.16712333,  0.20404512],\n",
       "          ...,\n",
       "          [ 0.03416991,  0.03364363,  0.02632556, ...,  0.02265179,\n",
       "            0.02958269,  0.03335384],\n",
       "          [ 0.02952937,  0.02938235,  0.02343507, ...,  0.02230876,\n",
       "            0.0290424 ,  0.03266235],\n",
       "          [ 0.02970637,  0.02960215,  0.02380529, ...,  0.02089993,\n",
       "            0.02693174,  0.03007979]]]),\n",
       "  'chroma': array([[[0.86045271, 0.88607651, 0.85130209, ..., 0.84868622,\n",
       "           0.90009248, 0.86538213],\n",
       "          [0.89149088, 0.92004347, 0.89722496, ..., 0.90396762,\n",
       "           0.93045932, 0.89622641],\n",
       "          [0.93950111, 0.96209466, 0.94911194, ..., 0.94191319,\n",
       "           0.9614715 , 0.94098228],\n",
       "          ...,\n",
       "          [0.84926474, 0.87709194, 0.85441107, ..., 0.86992282,\n",
       "           0.88283062, 0.86422765],\n",
       "          [0.81510401, 0.84275943, 0.80430162, ..., 0.8072058 ,\n",
       "           0.84561533, 0.82378054],\n",
       "          [0.80382645, 0.82709807, 0.78125882, ..., 0.77369511,\n",
       "           0.83436304, 0.80825388]],\n",
       "  \n",
       "         [[0.32225931, 0.26889616, 0.23392656, ..., 0.84033954,\n",
       "           0.90716827, 0.87264174],\n",
       "          [0.24447577, 0.20724289, 0.20589593, ..., 0.88859046,\n",
       "           0.93056864, 0.89899743],\n",
       "          [0.47219935, 0.40467933, 0.35525987, ..., 0.93898064,\n",
       "           0.96613252, 0.94581258],\n",
       "          ...,\n",
       "          [0.21656282, 0.1702171 , 0.15296115, ..., 0.85961032,\n",
       "           0.88294691, 0.86789852],\n",
       "          [0.23801455, 0.2108058 , 0.214755  , ..., 0.797162  ,\n",
       "           0.84790063, 0.82911992],\n",
       "          [0.50673974, 0.47735241, 0.45159033, ..., 0.76483172,\n",
       "           0.83713627, 0.81254721]],\n",
       "  \n",
       "         [[0.85437053, 0.87969309, 0.84490341, ..., 0.84134817,\n",
       "           0.90538204, 0.87233824],\n",
       "          [0.88111073, 0.90940589, 0.8890624 , ..., 0.88668919,\n",
       "           0.9272449 , 0.89594704],\n",
       "          [0.92538077, 0.94685245, 0.93615323, ..., 0.92109287,\n",
       "           0.95506233, 0.9367969 ],\n",
       "          ...,\n",
       "          [0.85346609, 0.88337946, 0.85791588, ..., 0.86533397,\n",
       "           0.89540488, 0.87600166],\n",
       "          [0.81617987, 0.84817457, 0.81613564, ..., 0.80480945,\n",
       "           0.85525841, 0.83473933],\n",
       "          [0.80027419, 0.82643968, 0.79077595, ..., 0.76305848,\n",
       "           0.8410241 , 0.81654817]],\n",
       "  \n",
       "         ...,\n",
       "  \n",
       "         [[0.86732656, 0.89622802, 0.86021692, ..., 0.83755732,\n",
       "           0.89750695, 0.86603326],\n",
       "          [0.89221191, 0.92506754, 0.90617442, ..., 0.89051342,\n",
       "           0.92626607, 0.89572281],\n",
       "          [0.93450022, 0.95940429, 0.95007068, ..., 0.94236684,\n",
       "           0.96243   , 0.942137  ],\n",
       "          ...,\n",
       "          [0.86214751, 0.89583087, 0.87201798, ..., 0.86777723,\n",
       "           0.88421506, 0.86721534],\n",
       "          [0.82333773, 0.85709512, 0.82074273, ..., 0.80535489,\n",
       "           0.84858829, 0.82847291],\n",
       "          [0.81069946, 0.83879012, 0.7940827 , ..., 0.76734054,\n",
       "           0.83351851, 0.80995238]],\n",
       "  \n",
       "         [[0.86517382, 0.89402968, 0.85850585, ..., 0.83414292,\n",
       "           0.89386493, 0.86359286],\n",
       "          [0.89031941, 0.92247844, 0.90327108, ..., 0.88922858,\n",
       "           0.92615527, 0.89629775],\n",
       "          [0.93476582, 0.95974225, 0.94993126, ..., 0.94108802,\n",
       "           0.96130949, 0.94166249],\n",
       "          ...,\n",
       "          [0.86012352, 0.89280981, 0.86839038, ..., 0.87035441,\n",
       "           0.88793451, 0.87104362],\n",
       "          [0.82159698, 0.85486948, 0.8184036 , ..., 0.80783468,\n",
       "           0.85286337, 0.83281696],\n",
       "          [0.80868238, 0.83686632, 0.79248458, ..., 0.76628125,\n",
       "           0.83296382, 0.81015509]],\n",
       "  \n",
       "         [[0.86228752, 0.88964653, 0.85411388, ..., 0.83839512,\n",
       "           0.89963412, 0.86821777],\n",
       "          [0.88993287, 0.92015594, 0.89975214, ..., 0.89341259,\n",
       "           0.93056363, 0.89919508],\n",
       "          [0.93487912, 0.95838076, 0.94775015, ..., 0.94436711,\n",
       "           0.96539384, 0.94440287],\n",
       "          ...,\n",
       "          [0.85676003, 0.88782406, 0.86363202, ..., 0.86999625,\n",
       "           0.88686866, 0.86966938],\n",
       "          [0.81778675, 0.84980607, 0.81378973, ..., 0.80487972,\n",
       "           0.84963989, 0.83021933],\n",
       "          [0.80408931, 0.83050466, 0.78641999, ..., 0.76800674,\n",
       "           0.83560205, 0.81231338]]]),\n",
       "  'cqt': array([[[-2.58463025e-02, -4.70293164e-02, -1.83831573e-01, ...,\n",
       "           -2.43928254e-01, -5.70318103e-02,  0.00000000e+00],\n",
       "          [-2.98962682e-01, -3.77355754e-01, -5.26509404e-01, ...,\n",
       "           -4.16805267e-01, -2.61381596e-01, -1.74927175e-01],\n",
       "          [-6.35188639e-01, -6.55317783e-01, -8.62639308e-01, ...,\n",
       "           -6.62461877e-01, -4.28937793e-01, -3.72208565e-01],\n",
       "          ...,\n",
       "          [-1.99207287e+01, -6.05411949e+01, -6.68087692e+01, ...,\n",
       "           -5.60532990e+01, -3.97932587e+01, -6.74451675e+01],\n",
       "          [-2.01422768e+01, -8.00000000e+01, -6.43958054e+01, ...,\n",
       "           -5.47037811e+01, -3.82170830e+01, -5.86143112e+01],\n",
       "          [-2.03206921e+01, -6.65219650e+01, -5.73468208e+01, ...,\n",
       "           -4.71015854e+01, -4.36059074e+01, -5.22294922e+01]],\n",
       "  \n",
       "         [[-1.64691806e-01, -1.86558723e-01, -3.26043814e-01, ...,\n",
       "           -2.44567335e-01, -6.42820001e-02, -1.35313869e-02],\n",
       "          [-3.69112790e-01, -4.36904699e-01, -5.73111892e-01, ...,\n",
       "           -2.19065368e-01, -7.47945309e-02, -1.78813934e-07],\n",
       "          [-7.32176602e-01, -7.59608805e-01, -9.76900458e-01, ...,\n",
       "           -3.51524025e-01, -1.56215191e-01, -1.32897496e-01],\n",
       "          ...,\n",
       "          [-1.46053476e+01, -1.74465351e+01, -1.24763603e+01, ...,\n",
       "           -5.40474129e+01, -5.17833290e+01, -5.93782616e+01],\n",
       "          [-1.32154598e+01, -1.92444382e+01, -1.05415564e+01, ...,\n",
       "           -5.77835426e+01, -5.23732605e+01, -5.34356499e+01],\n",
       "          [-1.13677673e+01, -7.64661169e+00, -9.76956081e+00, ...,\n",
       "           -5.81648369e+01, -5.74642906e+01, -5.64378433e+01]],\n",
       "  \n",
       "         [[-3.21651936e-01, -3.59540492e-01, -5.15137672e-01, ...,\n",
       "           -1.93787932e-01, -3.40141654e-02, -1.19209290e-07],\n",
       "          [-5.06924510e-01, -5.92317998e-01, -7.48639822e-01, ...,\n",
       "           -4.66120362e-01, -3.00120234e-01, -2.06284106e-01],\n",
       "          [-7.02225804e-01, -7.04390764e-01, -8.89377832e-01, ...,\n",
       "           -6.38336003e-01, -4.23167348e-01, -3.81056130e-01],\n",
       "          ...,\n",
       "          [-2.02291145e+01, -4.56585045e+01, -4.25576630e+01, ...,\n",
       "           -5.91911926e+01, -5.05614967e+01, -5.15791245e+01],\n",
       "          [-2.04627457e+01, -4.89693489e+01, -3.26170273e+01, ...,\n",
       "           -5.51421318e+01, -5.28699341e+01, -5.53058128e+01],\n",
       "          [-2.05896149e+01, -5.96550064e+01, -3.67047462e+01, ...,\n",
       "           -5.56483383e+01, -6.32518959e+01, -6.47923737e+01]],\n",
       "  \n",
       "         ...,\n",
       "  \n",
       "         [[-2.17535645e-01, -2.45398909e-01, -3.90312254e-01, ...,\n",
       "           -2.06946045e-01, -3.97436023e-02,  0.00000000e+00],\n",
       "          [-4.63186175e-01, -5.41122198e-01, -6.89009070e-01, ...,\n",
       "           -4.39809442e-01, -2.84955353e-01, -2.00181752e-01],\n",
       "          [-7.80993938e-01, -7.99799204e-01, -1.00580180e+00, ...,\n",
       "           -7.36378431e-01, -5.08330822e-01, -4.56176877e-01],\n",
       "          ...,\n",
       "          [-2.00267868e+01, -6.33292542e+01, -7.30854568e+01, ...,\n",
       "           -6.24565163e+01, -5.36171761e+01, -6.81019211e+01],\n",
       "          [-2.02855721e+01, -6.09048042e+01, -7.07209549e+01, ...,\n",
       "           -5.87237587e+01, -5.60561409e+01, -6.25056114e+01],\n",
       "          [-2.04621735e+01, -8.00000000e+01, -6.53195114e+01, ...,\n",
       "           -5.86287041e+01, -6.07979393e+01, -6.62771454e+01]],\n",
       "  \n",
       "         [[-2.06374675e-01, -2.34621197e-01, -3.80036592e-01, ...,\n",
       "           -2.07383454e-01, -4.00065780e-02, -2.38418579e-07],\n",
       "          [-4.31450367e-01, -5.08746922e-01, -6.56034708e-01, ...,\n",
       "           -4.41938758e-01, -2.85754532e-01, -1.99854493e-01],\n",
       "          [-7.34474897e-01, -7.51394987e-01, -9.55282509e-01, ...,\n",
       "           -7.28380322e-01, -5.01549006e-01, -4.50684965e-01],\n",
       "          ...,\n",
       "          [-1.99460869e+01, -6.54201431e+01, -5.94509850e+01, ...,\n",
       "           -5.76903801e+01, -5.29584618e+01, -5.49454269e+01],\n",
       "          [-2.02018585e+01, -5.75153618e+01, -5.68880806e+01, ...,\n",
       "           -5.29413834e+01, -5.06328201e+01, -5.66090279e+01],\n",
       "          [-2.04792595e+01, -5.36291237e+01, -5.76286316e+01, ...,\n",
       "           -5.10258789e+01, -5.15572662e+01, -5.82225533e+01]],\n",
       "  \n",
       "         [[-2.43059188e-01, -2.71315485e-01, -4.16783482e-01, ...,\n",
       "           -2.03418463e-01, -3.81457806e-02,  5.96046448e-08],\n",
       "          [-4.62778747e-01, -5.38688302e-01, -6.84472144e-01, ...,\n",
       "           -4.49168742e-01, -2.93283641e-01, -2.07727462e-01],\n",
       "          [-7.80270576e-01, -7.98046350e-01, -1.00295830e+00, ...,\n",
       "           -7.46361494e-01, -5.18655777e-01, -4.66886282e-01],\n",
       "          ...,\n",
       "          [-2.01245155e+01, -6.86800079e+01, -6.18599930e+01, ...,\n",
       "           -6.37506447e+01, -6.59621201e+01, -7.22124252e+01],\n",
       "          [-2.02882786e+01, -6.43859634e+01, -5.92206345e+01, ...,\n",
       "           -6.03330460e+01, -6.47827301e+01, -7.22558899e+01],\n",
       "          [-2.04456196e+01, -6.04279900e+01, -5.52756119e+01, ...,\n",
       "           -6.09625740e+01, -6.91421051e+01, -7.16131058e+01]]]),\n",
       "  'label': array([15, 15, 15, ..., 12, 12, 12]),\n",
       "  'id': array(['XC514030.mp3', 'XC514030.mp3', 'XC514030.mp3', ...,\n",
       "         'XC308991.mp3', 'XC308991.mp3', 'XC308991.mp3'], dtype='<U12')}}"
      ]
     },
     "execution_count": 39,
     "metadata": {},
     "output_type": "execute_result"
    }
   ],
   "source": [
    "merged_dict_2D = {'train': train_features_2D, 'val': val_features_2D}\n",
    "merged_dict_2D"
   ]
  },
  {
   "cell_type": "markdown",
   "metadata": {},
   "source": [
    "### Save the merged dictionary to a pkl"
   ]
  },
  {
   "cell_type": "code",
   "execution_count": 40,
   "metadata": {},
   "outputs": [],
   "source": [
    "# Avrg Pooled\n",
    "with open('C:/Users/thato/Documents/Final-Year-Project/Dataset/Final-Version-Of-Bird-Classification-Project/feature-extraction/NotAnnotated/Augmented/AveragePooled/split_features_3s_all_1D.pkl', 'wb') as file:\n",
    "  pickle.dump(merged_dict_1D, file)\n",
    "del file"
   ]
  },
  {
   "cell_type": "code",
   "execution_count": 41,
   "metadata": {},
   "outputs": [],
   "source": [
    "# Avrg Pooled\n",
    "with open('C:/Users/thato/Documents/Final-Year-Project/Dataset/Final-Version-Of-Bird-Classification-Project/feature-extraction/NotAnnotated/Augmented/NotAveragePooled/split_features_3s_all_2D.pkl', 'wb') as file:\n",
    "  pickle.dump(merged_dict_2D, file)\n",
    "del file"
   ]
  },
  {
   "cell_type": "markdown",
   "metadata": {},
   "source": [
    "## **Window Size = 1s**"
   ]
  },
  {
   "cell_type": "markdown",
   "metadata": {},
   "source": [
    "### **['melspectrogram', 'mfcc', 'chroma', 'cqt']**"
   ]
  },
  {
   "cell_type": "code",
   "execution_count": 42,
   "metadata": {},
   "outputs": [],
   "source": [
    "features_list = ['melspectrogram', 'mfcc', 'chroma', 'cqt']"
   ]
  },
  {
   "cell_type": "code",
   "execution_count": 43,
   "metadata": {},
   "outputs": [
    {
     "name": "stdout",
     "output_type": "stream",
     "text": [
      "Train DataFrame shape: (628, 6)\n",
      "Validation DataFrame shape: (133, 6)\n",
      "Number of rows in dataframe: 628\n"
     ]
    },
    {
     "name": "stderr",
     "output_type": "stream",
     "text": [
      "Processing data:   0%|          | 0/628 [00:00<?, ?it/s]"
     ]
    },
    {
     "name": "stderr",
     "output_type": "stream",
     "text": [
      "c:\\Users\\thato\\AppData\\Local\\Programs\\Python\\Python312\\Lib\\site-packages\\librosa\\core\\pitch.py:101: UserWarning: Trying to estimate tuning from empty frequency set.\n",
      "  return pitch_tuning(\n",
      "Processing data: 100%|██████████| 628/628 [1:28:57<00:00,  8.50s/it]  \n"
     ]
    },
    {
     "name": "stdout",
     "output_type": "stream",
     "text": [
      "Number of rows in dataframe: 133\n"
     ]
    },
    {
     "name": "stderr",
     "output_type": "stream",
     "text": [
      "Processing data: 100%|██████████| 133/133 [10:40<00:00,  4.81s/it]\n"
     ]
    },
    {
     "name": "stdout",
     "output_type": "stream",
     "text": [
      "\u001b[1m1978/1978\u001b[0m \u001b[32m━━━━━━━━━━━━━━━━━━━━\u001b[0m\u001b[37m\u001b[0m \u001b[1m7s\u001b[0m 3ms/step\n",
      "\u001b[1m409/409\u001b[0m \u001b[32m━━━━━━━━━━━━━━━━━━━━\u001b[0m\u001b[37m\u001b[0m \u001b[1m1s\u001b[0m 2ms/step\n",
      "\u001b[1m1978/1978\u001b[0m \u001b[32m━━━━━━━━━━━━━━━━━━━━\u001b[0m\u001b[37m\u001b[0m \u001b[1m2s\u001b[0m 762us/step\n",
      "\u001b[1m409/409\u001b[0m \u001b[32m━━━━━━━━━━━━━━━━━━━━\u001b[0m\u001b[37m\u001b[0m \u001b[1m0s\u001b[0m 442us/step\n",
      "\u001b[1m1978/1978\u001b[0m \u001b[32m━━━━━━━━━━━━━━━━━━━━\u001b[0m\u001b[37m\u001b[0m \u001b[1m1s\u001b[0m 552us/step\n",
      "\u001b[1m409/409\u001b[0m \u001b[32m━━━━━━━━━━━━━━━━━━━━\u001b[0m\u001b[37m\u001b[0m \u001b[1m0s\u001b[0m 420us/step\n",
      "\u001b[1m1978/1978\u001b[0m \u001b[32m━━━━━━━━━━━━━━━━━━━━\u001b[0m\u001b[37m\u001b[0m \u001b[1m1s\u001b[0m 534us/step\n",
      "\u001b[1m409/409\u001b[0m \u001b[32m━━━━━━━━━━━━━━━━━━━━\u001b[0m\u001b[37m\u001b[0m \u001b[1m0s\u001b[0m 533us/step\n"
     ]
    }
   ],
   "source": [
    "features = Extraction(train_data_balanced,\n",
    "                      val_data,\n",
    "                      window_size=1,\n",
    "                      features=features_list,\n",
    "                      avgpool=True\n",
    "                      )"
   ]
  },
  {
   "cell_type": "code",
   "execution_count": 44,
   "metadata": {},
   "outputs": [
    {
     "data": {
      "text/plain": [
       "(63281,)"
      ]
     },
     "metadata": {},
     "output_type": "display_data"
    },
    {
     "data": {
      "text/plain": [
       "(13083,)"
      ]
     },
     "metadata": {},
     "output_type": "display_data"
    }
   ],
   "source": [
    "train_y = features.train_y\n",
    "val_y = features.val_y\n",
    "\n",
    "display(train_y.shape)\n",
    "display(val_y.shape)"
   ]
  },
  {
   "cell_type": "code",
   "execution_count": 45,
   "metadata": {},
   "outputs": [
    {
     "data": {
      "text/plain": [
       "'melspectrogram'"
      ]
     },
     "metadata": {},
     "output_type": "display_data"
    },
    {
     "data": {
      "text/plain": [
       "(63281, 128)"
      ]
     },
     "metadata": {},
     "output_type": "display_data"
    },
    {
     "data": {
      "text/plain": [
       "'mfcc'"
      ]
     },
     "metadata": {},
     "output_type": "display_data"
    },
    {
     "data": {
      "text/plain": [
       "(63281, 20)"
      ]
     },
     "metadata": {},
     "output_type": "display_data"
    },
    {
     "data": {
      "text/plain": [
       "'chroma'"
      ]
     },
     "metadata": {},
     "output_type": "display_data"
    },
    {
     "data": {
      "text/plain": [
       "(63281, 12)"
      ]
     },
     "metadata": {},
     "output_type": "display_data"
    },
    {
     "data": {
      "text/plain": [
       "'cqt'"
      ]
     },
     "metadata": {},
     "output_type": "display_data"
    },
    {
     "data": {
      "text/plain": [
       "(63281, 84)"
      ]
     },
     "metadata": {},
     "output_type": "display_data"
    }
   ],
   "source": [
    "# Avgpooled Features\n",
    "train_features_1D = features.train_features_1D\n",
    "for key in train_features_1D.keys():\n",
    "  display(key)\n",
    "  display(train_features_1D[key].shape)"
   ]
  },
  {
   "cell_type": "code",
   "execution_count": 46,
   "metadata": {},
   "outputs": [
    {
     "data": {
      "text/plain": [
       "'melspectrogram'"
      ]
     },
     "metadata": {},
     "output_type": "display_data"
    },
    {
     "data": {
      "text/plain": [
       "(13083, 128)"
      ]
     },
     "metadata": {},
     "output_type": "display_data"
    },
    {
     "data": {
      "text/plain": [
       "'mfcc'"
      ]
     },
     "metadata": {},
     "output_type": "display_data"
    },
    {
     "data": {
      "text/plain": [
       "(13083, 20)"
      ]
     },
     "metadata": {},
     "output_type": "display_data"
    },
    {
     "data": {
      "text/plain": [
       "'chroma'"
      ]
     },
     "metadata": {},
     "output_type": "display_data"
    },
    {
     "data": {
      "text/plain": [
       "(13083, 12)"
      ]
     },
     "metadata": {},
     "output_type": "display_data"
    },
    {
     "data": {
      "text/plain": [
       "'cqt'"
      ]
     },
     "metadata": {},
     "output_type": "display_data"
    },
    {
     "data": {
      "text/plain": [
       "(13083, 84)"
      ]
     },
     "metadata": {},
     "output_type": "display_data"
    }
   ],
   "source": [
    "# Avgpooled Features\n",
    "val_features_1D = features.val_features_1D\n",
    "for key in val_features_1D.keys():\n",
    "  display(key)\n",
    "  display(val_features_1D[key].shape)"
   ]
  },
  {
   "cell_type": "code",
   "execution_count": 47,
   "metadata": {},
   "outputs": [
    {
     "data": {
      "text/plain": [
       "'melspectrogram'"
      ]
     },
     "metadata": {},
     "output_type": "display_data"
    },
    {
     "data": {
      "text/plain": [
       "(63281, 128, 87)"
      ]
     },
     "metadata": {},
     "output_type": "display_data"
    },
    {
     "data": {
      "text/plain": [
       "'mfcc'"
      ]
     },
     "metadata": {},
     "output_type": "display_data"
    },
    {
     "data": {
      "text/plain": [
       "(63281, 20, 87)"
      ]
     },
     "metadata": {},
     "output_type": "display_data"
    },
    {
     "data": {
      "text/plain": [
       "'chroma'"
      ]
     },
     "metadata": {},
     "output_type": "display_data"
    },
    {
     "data": {
      "text/plain": [
       "(63281, 12, 87)"
      ]
     },
     "metadata": {},
     "output_type": "display_data"
    },
    {
     "data": {
      "text/plain": [
       "'cqt'"
      ]
     },
     "metadata": {},
     "output_type": "display_data"
    },
    {
     "data": {
      "text/plain": [
       "(63281, 84, 87)"
      ]
     },
     "metadata": {},
     "output_type": "display_data"
    }
   ],
   "source": [
    "# Not avgpooled Features\n",
    "train_features_2D = features.train_features_2D\n",
    "for key in train_features_2D.keys():\n",
    "  display(key)\n",
    "  display(train_features_2D[key].shape)"
   ]
  },
  {
   "cell_type": "code",
   "execution_count": 48,
   "metadata": {},
   "outputs": [
    {
     "data": {
      "text/plain": [
       "'melspectrogram'"
      ]
     },
     "metadata": {},
     "output_type": "display_data"
    },
    {
     "data": {
      "text/plain": [
       "(13083, 128, 87)"
      ]
     },
     "metadata": {},
     "output_type": "display_data"
    },
    {
     "data": {
      "text/plain": [
       "'mfcc'"
      ]
     },
     "metadata": {},
     "output_type": "display_data"
    },
    {
     "data": {
      "text/plain": [
       "(13083, 20, 87)"
      ]
     },
     "metadata": {},
     "output_type": "display_data"
    },
    {
     "data": {
      "text/plain": [
       "'chroma'"
      ]
     },
     "metadata": {},
     "output_type": "display_data"
    },
    {
     "data": {
      "text/plain": [
       "(13083, 12, 87)"
      ]
     },
     "metadata": {},
     "output_type": "display_data"
    },
    {
     "data": {
      "text/plain": [
       "'cqt'"
      ]
     },
     "metadata": {},
     "output_type": "display_data"
    },
    {
     "data": {
      "text/plain": [
       "(13083, 84, 87)"
      ]
     },
     "metadata": {},
     "output_type": "display_data"
    }
   ],
   "source": [
    "# Not avgpooled Features\n",
    "val_features_2D = features.val_features_2D\n",
    "for key in val_features_2D.keys():\n",
    "  display(key)\n",
    "  display(val_features_2D[key].shape)"
   ]
  },
  {
   "cell_type": "code",
   "execution_count": 49,
   "metadata": {},
   "outputs": [],
   "source": [
    "train_ids = features.train_ids\n",
    "val_ids = features.val_ids"
   ]
  },
  {
   "cell_type": "markdown",
   "metadata": {},
   "source": [
    "### Encode Classes"
   ]
  },
  {
   "cell_type": "code",
   "execution_count": 50,
   "metadata": {},
   "outputs": [
    {
     "name": "stdout",
     "output_type": "stream",
     "text": [
      "Encoded classes for [0, 1, 2]: ['Acrocephalus arundinaceus', 'Acrocephalus melanopogon', 'Acrocephalus scirpaceus']\n",
      "Encoded training labels: [15 15 15 ...  5  5  5]\n",
      "Encoded validation labels: [15 15 15 ... 12 12 12]\n"
     ]
    }
   ],
   "source": [
    "label_encoder = LabelEncoder().fit(train_y)\n",
    "train_y_encoded = label_encoder.transform(train_y)\n",
    "val_y_encoded = label_encoder.transform(val_y)\n",
    "\n",
    "classes = list(label_encoder.inverse_transform([0, 1, 2]))\n",
    "print(\"Encoded classes for [0, 1, 2]:\", classes)\n",
    "print(\"Encoded training labels:\", train_y_encoded)\n",
    "print(\"Encoded validation labels:\", val_y_encoded)"
   ]
  },
  {
   "cell_type": "code",
   "execution_count": 51,
   "metadata": {},
   "outputs": [],
   "source": [
    "# Avg Pooled\n",
    "\n",
    "train_features_1D['label'] = train_y_encoded\n",
    "val_features_1D['label'] = val_y_encoded\n",
    "\n",
    "train_features_1D['id'] = train_ids\n",
    "val_features_1D['id'] = val_ids\n",
    "\n",
    "# Not Avg Pooled\n",
    "\n",
    "train_features_2D['label'] = train_y_encoded\n",
    "val_features_2D['label'] = val_y_encoded\n",
    "\n",
    "train_features_2D['id'] = train_ids\n",
    "val_features_2D['id'] = val_ids"
   ]
  },
  {
   "cell_type": "code",
   "execution_count": 52,
   "metadata": {},
   "outputs": [
    {
     "data": {
      "text/plain": [
       "{'train': {'melspectrogram': array([[-0.03103661, -0.90614426, -0.9229933 , ..., -0.87592673,\n",
       "          -0.9008445 , -0.99924344],\n",
       "         [-0.01720369, -0.9333362 , -0.9391782 , ..., -0.86896664,\n",
       "          -0.89278305, -0.9972611 ],\n",
       "         [-0.01720074, -0.9332653 , -0.9390875 , ..., -0.8818467 ,\n",
       "          -0.90610874, -0.99969536],\n",
       "         ...,\n",
       "         [-0.01721118, -0.80984443, -0.799863  , ..., -0.9994762 ,\n",
       "          -0.99993706, -1.        ],\n",
       "         [-0.01722834, -0.82910657, -0.8080832 , ..., -0.99950963,\n",
       "          -0.9999029 , -0.99997866],\n",
       "         [-0.01722996, -0.8216893 , -0.7997474 , ..., -0.99965185,\n",
       "          -0.9999266 , -1.        ]], dtype=float32),\n",
       "  'mfcc': array([[-1.        , -0.0058945 , -0.07317362, ...,  0.04118359,\n",
       "           0.02143237,  0.01942439],\n",
       "         [-1.        , -0.02000155, -0.07986975, ...,  0.041522  ,\n",
       "           0.02601608,  0.0182024 ],\n",
       "         [-1.        , -0.00311628, -0.07623003, ...,  0.03411018,\n",
       "           0.02587876,  0.0210204 ],\n",
       "         ...,\n",
       "         [-1.        ,  0.1947848 , -0.3451269 , ...,  0.03095642,\n",
       "           0.00326317,  0.0094212 ],\n",
       "         [-1.        ,  0.22904076, -0.27447903, ...,  0.03127327,\n",
       "          -0.00195193,  0.01324003],\n",
       "         [-1.        ,  0.22394493, -0.28050685, ...,  0.03253658,\n",
       "           0.01610512,  0.01364332]], dtype=float32),\n",
       "  'chroma': array([[0.81614345, 0.8868039 , 0.94507176, ..., 0.8526392 , 0.77941227,\n",
       "          0.7393994 ],\n",
       "         [0.8163575 , 0.88754946, 0.94597423, ..., 0.8523206 , 0.78019243,\n",
       "          0.7415288 ],\n",
       "         [0.81532145, 0.8840246 , 0.9418593 , ..., 0.8532183 , 0.7799219 ,\n",
       "          0.73878294],\n",
       "         ...,\n",
       "         [0.75974476, 0.7679446 , 0.8187185 , ..., 0.74502695, 0.7616512 ,\n",
       "          0.7702935 ],\n",
       "         [0.81040096, 0.84758604, 0.8896245 , ..., 0.8243209 , 0.78449327,\n",
       "          0.7595654 ],\n",
       "         [0.7395401 , 0.86994785, 0.87369853, ..., 0.7444731 , 0.6873598 ,\n",
       "          0.65592945]], dtype=float32),\n",
       "  'cqt': array([[-36.48607 , -38.439957, -38.381405, ..., -53.71039 , -52.977173,\n",
       "          -52.30814 ],\n",
       "         [-36.706608, -38.572765, -38.97139 , ..., -52.452396, -51.869366,\n",
       "          -50.485836],\n",
       "         [-36.707165, -38.573   , -38.971176, ..., -53.58501 , -54.539646,\n",
       "          -54.07586 ],\n",
       "         ...,\n",
       "         [-31.689886, -33.36222 , -34.188705, ..., -41.569668, -41.354156,\n",
       "          -41.66784 ],\n",
       "         [-31.01621 , -33.30176 , -34.78672 , ..., -45.9929  , -45.225708,\n",
       "          -46.02821 ],\n",
       "         [-31.187332, -32.210575, -35.702282, ..., -44.863224, -43.381504,\n",
       "          -44.01324 ]], dtype=float32),\n",
       "  'label': array([15, 15, 15, ...,  5,  5,  5]),\n",
       "  'id': array(['XC184422.mp3', 'XC184422.mp3', 'XC184422.mp3', ..., 'XC26960.mp3',\n",
       "         'XC26960.mp3', 'XC26960.mp3'], dtype='<U12')},\n",
       " 'val': {'melspectrogram': array([[-0.01745493, -0.55265135, -0.6019275 , ..., -0.98821425,\n",
       "          -0.99094564, -0.99999666],\n",
       "         [-0.01719118, -0.5449842 , -0.59809476, ..., -0.95883864,\n",
       "          -0.9753695 , -0.99997264],\n",
       "         [-0.01724182, -0.56005096, -0.59076387, ..., -0.95402026,\n",
       "          -0.96716774, -1.        ],\n",
       "         ...,\n",
       "         [-0.01717577, -0.7440504 , -0.70493203, ..., -0.99984497,\n",
       "          -0.9999163 , -1.        ],\n",
       "         [-0.01719172, -0.7624394 , -0.7260496 , ..., -0.9999123 ,\n",
       "          -0.99996686, -1.        ],\n",
       "         [-0.01720358, -0.7953272 , -0.76104695, ..., -0.9999252 ,\n",
       "          -0.9999566 , -1.        ]], dtype=float32),\n",
       "  'mfcc': array([[-0.9984871 ,  0.14371385,  0.09447124, ...,  0.02052981,\n",
       "           0.0356813 , -0.00140353],\n",
       "         [-0.99456096,  0.09521145,  0.02019927, ...,  0.02551902,\n",
       "           0.0407992 ,  0.01751641],\n",
       "         [-0.998602  ,  0.08533647,  0.02952283, ...,  0.02222835,\n",
       "           0.04165795,  0.0237745 ],\n",
       "         ...,\n",
       "         [-0.9989823 ,  0.19427887,  0.0247453 , ...,  0.01668994,\n",
       "           0.01091636,  0.01423398],\n",
       "         [-0.9989975 ,  0.18133731,  0.03316664, ...,  0.01496921,\n",
       "           0.01430995,  0.01419251],\n",
       "         [-0.99901634,  0.15469694,  0.04362481, ...,  0.01535054,\n",
       "           0.01416197,  0.01375389]], dtype=float32),\n",
       "  'chroma': array([[0.7883736 , 0.8412515 , 0.9099283 , ..., 0.8039329 , 0.7380081 ,\n",
       "          0.71586716],\n",
       "         [0.70143825, 0.7574719 , 0.8273144 , ..., 0.7062013 , 0.663373  ,\n",
       "          0.66379964],\n",
       "         [0.6982627 , 0.76300436, 0.82520425, ..., 0.7164394 , 0.67430574,\n",
       "          0.66939104],\n",
       "         ...,\n",
       "         [0.81852204, 0.88721293, 0.9436147 , ..., 0.8551366 , 0.7815503 ,\n",
       "          0.7399605 ],\n",
       "         [0.818311  , 0.8871713 , 0.9435777 , ..., 0.85491836, 0.7812924 ,\n",
       "          0.73957735],\n",
       "         [0.8186761 , 0.88754046, 0.94383216, ..., 0.85509664, 0.7813553 ,\n",
       "          0.7397839 ]], dtype=float32),\n",
       "  'cqt': array([[-22.816525, -24.62903 , -26.704334, ..., -59.864697, -61.06984 ,\n",
       "          -60.356968],\n",
       "         [-25.249975, -22.489212, -23.85598 , ..., -51.820133, -52.8715  ,\n",
       "          -52.23352 ],\n",
       "         [-21.202805, -23.309643, -22.361273, ..., -49.955387, -51.813477,\n",
       "          -50.914852],\n",
       "         ...,\n",
       "         [-30.594156, -31.883537, -32.675114, ..., -60.251072, -60.36445 ,\n",
       "          -61.2064  ],\n",
       "         [-32.49347 , -32.938034, -34.659035, ..., -62.148083, -62.60908 ,\n",
       "          -63.497597],\n",
       "         [-32.427994, -36.442535, -37.6033  , ..., -65.75708 , -66.075745,\n",
       "          -65.70697 ]], dtype=float32),\n",
       "  'label': array([15, 15, 15, ..., 12, 12, 12]),\n",
       "  'id': array(['XC514030.mp3', 'XC514030.mp3', 'XC514030.mp3', ...,\n",
       "         'XC308991.mp3', 'XC308991.mp3', 'XC308991.mp3'], dtype='<U12')}}"
      ]
     },
     "execution_count": 52,
     "metadata": {},
     "output_type": "execute_result"
    }
   ],
   "source": [
    "merged_dict_1D = {'train': train_features_1D, 'val': val_features_1D}\n",
    "merged_dict_1D"
   ]
  },
  {
   "cell_type": "code",
   "execution_count": 53,
   "metadata": {},
   "outputs": [
    {
     "data": {
      "text/plain": [
       "{'train': {'melspectrogram': array([[[-1.81918368e-02,  0.00000000e+00, -3.80866183e-03, ...,\n",
       "           -2.83528697e-02, -2.04673894e-02, -3.38529013e-02],\n",
       "          [-1.78424492e-01, -1.95810318e-01, -2.48889446e-01, ...,\n",
       "           -2.93606758e-01, -2.33252510e-01, -2.10932076e-01],\n",
       "          [-2.40419298e-01, -2.56736904e-01, -3.07756722e-01, ...,\n",
       "           -3.65042359e-01, -3.05814385e-01, -2.83785045e-01],\n",
       "          ...,\n",
       "          [-9.10081625e-01, -9.10845101e-01, -9.12104130e-01, ...,\n",
       "           -9.95257854e-01, -9.99354243e-01, -9.99998152e-01],\n",
       "          [-9.27481830e-01, -9.27993119e-01, -9.30427134e-01, ...,\n",
       "           -9.94865358e-01, -9.97100115e-01, -9.97618139e-01],\n",
       "          [-1.00000000e+00, -1.00000000e+00, -1.00000000e+00, ...,\n",
       "           -1.00000000e+00, -1.00000000e+00, -9.99944270e-01]],\n",
       "  \n",
       "         [[-1.73634682e-02,  0.00000000e+00, -8.13149754e-03, ...,\n",
       "           -9.82963014e-03, -4.79028240e-05, -1.30828759e-02],\n",
       "          [-1.93872809e-01, -2.12541118e-01, -2.69847184e-01, ...,\n",
       "           -2.80784190e-01, -2.17551753e-01, -1.94161162e-01],\n",
       "          [-2.68382728e-01, -2.86981344e-01, -3.42880130e-01, ...,\n",
       "           -3.53756577e-01, -2.91723549e-01, -2.68660069e-01],\n",
       "          ...,\n",
       "          [-1.00000000e+00, -9.98372018e-01, -9.88628924e-01, ...,\n",
       "           -9.98766243e-01, -1.00000000e+00, -1.00000000e+00],\n",
       "          [-9.90491986e-01, -9.90179896e-01, -9.85400021e-01, ...,\n",
       "           -9.97319579e-01, -9.99069631e-01, -9.99329865e-01],\n",
       "          [-9.98904467e-01, -1.00000000e+00, -1.00000000e+00, ...,\n",
       "           -1.00000000e+00, -9.98359144e-01, -9.97887433e-01]],\n",
       "  \n",
       "         [[-1.73145384e-02,  0.00000000e+00, -8.11125990e-03, ...,\n",
       "           -9.81192291e-03, -4.76826754e-05, -1.29950298e-02],\n",
       "          [-1.93260491e-01, -2.11806580e-01, -2.69245476e-01, ...,\n",
       "           -2.80236214e-01, -2.16560587e-01, -1.92940250e-01],\n",
       "          [-2.67536104e-01, -2.85992950e-01, -3.42120111e-01, ...,\n",
       "           -3.53061050e-01, -2.90390939e-01, -2.66969770e-01],\n",
       "          ...,\n",
       "          [-9.93778765e-01, -9.93186474e-01, -9.88194108e-01, ...,\n",
       "           -9.94733095e-01, -1.00000000e+00, -1.00000000e+00],\n",
       "          [-9.92291093e-01, -9.92540836e-01, -9.91663098e-01, ...,\n",
       "           -9.93174076e-01, -9.92172420e-01, -9.90934491e-01],\n",
       "          [-9.98020947e-01, -9.98807192e-01, -1.00000000e+00, ...,\n",
       "           -1.00000000e+00, -9.95926499e-01, -9.93805885e-01]],\n",
       "  \n",
       "         ...,\n",
       "  \n",
       "         [[-1.74730700e-02, -3.46431150e-08, -8.15010164e-03, ...,\n",
       "           -9.92251374e-03, -1.09518631e-04, -1.31793655e-02],\n",
       "          [-1.95014402e-01, -2.13526443e-01, -2.70949751e-01, ...,\n",
       "           -2.81129986e-01, -2.18269169e-01, -1.94913104e-01],\n",
       "          [-2.70006478e-01, -2.88370818e-01, -3.44345063e-01, ...,\n",
       "           -3.54053497e-01, -2.92585999e-01, -2.69626319e-01],\n",
       "          ...,\n",
       "          [-9.98010993e-01, -9.97982919e-01, -9.97909307e-01, ...,\n",
       "           -9.99796748e-01, -9.99923170e-01, -9.99936879e-01],\n",
       "          [-9.99709845e-01, -9.99725461e-01, -9.99753773e-01, ...,\n",
       "           -9.99165177e-01, -9.99181747e-01, -9.99185085e-01],\n",
       "          [-1.00000000e+00, -1.00000000e+00, -1.00000000e+00, ...,\n",
       "           -1.00000000e+00, -1.00000000e+00, -1.00000000e+00]],\n",
       "  \n",
       "         [[-1.71393938e-02,  0.00000000e+00, -8.05370510e-03, ...,\n",
       "           -9.78907291e-03, -7.50789550e-05, -1.30425338e-02],\n",
       "          [-1.91653520e-01, -2.09972739e-01, -2.66774565e-01, ...,\n",
       "           -2.78747827e-01, -2.16237351e-01, -1.93055838e-01],\n",
       "          [-2.65219629e-01, -2.83399642e-01, -3.38855207e-01, ...,\n",
       "           -3.51529151e-01, -2.90170193e-01, -2.67259628e-01],\n",
       "          ...,\n",
       "          [-9.99338567e-01, -9.99361157e-01, -9.99415100e-01, ...,\n",
       "           -1.00000000e+00, -1.00000000e+00, -1.00000000e+00],\n",
       "          [-9.99639153e-01, -9.99644518e-01, -9.99663651e-01, ...,\n",
       "           -9.98842537e-01, -9.98701930e-01, -9.98674810e-01],\n",
       "          [-1.00000000e+00, -1.00000000e+00, -1.00000000e+00, ...,\n",
       "           -9.99611735e-01, -9.99306262e-01, -9.99229968e-01]],\n",
       "  \n",
       "         [[-1.74298361e-02,  0.00000000e+00, -8.13167822e-03, ...,\n",
       "           -9.81296971e-03, -9.48692759e-05, -1.31083354e-02],\n",
       "          [-1.94514811e-01, -2.12987036e-01, -2.70291775e-01, ...,\n",
       "           -2.79375553e-01, -2.16822803e-01, -1.93607911e-01],\n",
       "          [-2.69416988e-01, -2.87744761e-01, -3.43588263e-01, ...,\n",
       "           -3.51897597e-01, -2.90667206e-01, -2.67828375e-01],\n",
       "          ...,\n",
       "          [-9.97496009e-01, -9.97445405e-01, -9.97197926e-01, ...,\n",
       "           -9.99008358e-01, -9.99215722e-01, -9.99232531e-01],\n",
       "          [-9.99729633e-01, -9.99721348e-01, -9.99674320e-01, ...,\n",
       "           -9.99542594e-01, -9.99599397e-01, -9.99597907e-01],\n",
       "          [-1.00000000e+00, -1.00000000e+00, -1.00000000e+00, ...,\n",
       "           -1.00000000e+00, -1.00000000e+00, -1.00000000e+00]]]),\n",
       "  'mfcc': array([[[-1.00000000e+00, -1.00000000e+00, -1.00000000e+00, ...,\n",
       "           -1.00000000e+00, -1.00000000e+00, -1.00000000e+00],\n",
       "          [ 9.37276423e-01,  8.32867980e-01,  6.02545679e-01, ...,\n",
       "            5.32099485e-01,  7.53317237e-01,  8.66778791e-01],\n",
       "          [ 1.52229294e-01,  1.37483969e-01,  1.03294447e-01, ...,\n",
       "            5.91323189e-02,  1.24203973e-01,  1.57550901e-01],\n",
       "          ...,\n",
       "          [ 3.60100232e-02,  3.42482552e-02,  2.83328872e-02, ...,\n",
       "            6.63122013e-02,  6.57906383e-02,  5.91579154e-02],\n",
       "          [ 2.05973703e-02,  2.05161069e-02,  1.74346678e-02, ...,\n",
       "            2.11569350e-02,  1.86731908e-02,  2.11985018e-02],\n",
       "          [ 3.25995386e-02,  3.11931167e-02,  2.53456905e-02, ...,\n",
       "            4.13456606e-03,  6.00445829e-03,  9.09858383e-03]],\n",
       "  \n",
       "         [[-1.00000000e+00, -1.00000000e+00, -1.00000000e+00, ...,\n",
       "           -1.00000000e+00, -1.00000000e+00, -1.00000000e+00],\n",
       "          [ 8.64645362e-01,  7.70909131e-01,  5.60897708e-01, ...,\n",
       "            5.30800819e-01,  7.44611323e-01,  8.59542072e-01],\n",
       "          [ 1.72096193e-01,  1.55921832e-01,  1.17943577e-01, ...,\n",
       "            1.13406628e-01,  1.52747452e-01,  1.73542097e-01],\n",
       "          ...,\n",
       "          [ 3.11964732e-02,  3.02185826e-02,  2.57501416e-02, ...,\n",
       "            2.40531713e-02,  2.87177470e-02,  3.04440316e-02],\n",
       "          [ 2.58119348e-02,  2.45754216e-02,  1.90839879e-02, ...,\n",
       "            2.04289537e-02,  2.47124378e-02,  2.61024144e-02],\n",
       "          [ 2.41653565e-02,  2.33953297e-02,  1.91869065e-02, ...,\n",
       "            1.85264740e-02,  2.17769071e-02,  2.27639806e-02]],\n",
       "  \n",
       "         [[-1.00000000e+00, -1.00000000e+00, -1.00000000e+00, ...,\n",
       "           -1.00000000e+00, -1.00000000e+00, -1.00000000e+00],\n",
       "          [ 8.66662860e-01,  7.74727881e-01,  5.63076496e-01, ...,\n",
       "            5.43684959e-01,  7.61698425e-01,  8.75663579e-01],\n",
       "          [ 1.67553216e-01,  1.47003293e-01,  1.03927799e-01, ...,\n",
       "            8.02351162e-02,  1.26073077e-01,  1.52386263e-01],\n",
       "          ...,\n",
       "          [ 3.21116783e-02,  3.67022902e-02,  3.69029231e-02, ...,\n",
       "           -1.12862361e-03,  7.32749933e-03,  1.34268515e-02],\n",
       "          [ 3.18048894e-02,  3.31710652e-02,  3.15996818e-02, ...,\n",
       "           -9.16784746e-04,  4.28304588e-03,  7.50523666e-03],\n",
       "          [ 1.89490039e-02,  1.36100389e-02,  6.32996252e-03, ...,\n",
       "            5.58258444e-02,  5.55318445e-02,  5.11028171e-02]],\n",
       "  \n",
       "         ...,\n",
       "  \n",
       "         [[-1.00000000e+00, -1.00000000e+00, -1.00000000e+00, ...,\n",
       "           -1.00000000e+00, -1.00000000e+00, -1.00000000e+00],\n",
       "          [ 8.33517909e-01,  7.62121141e-01,  5.80407023e-01, ...,\n",
       "            5.61449766e-01,  7.33494759e-01,  8.19329917e-01],\n",
       "          [ 1.35618314e-01,  9.62857977e-02,  1.45313805e-02, ...,\n",
       "            2.98020132e-02,  1.09428808e-01,  1.49412602e-01],\n",
       "          ...,\n",
       "          [ 7.20088463e-03,  5.79759898e-03,  5.79384947e-03, ...,\n",
       "            1.73697434e-02,  2.90734135e-02,  3.44679467e-02],\n",
       "          [ 1.94325950e-02,  2.07487736e-02,  2.21113618e-02, ...,\n",
       "           -2.12046225e-03,  1.89113989e-02,  3.15993540e-02],\n",
       "          [ 3.63282636e-02,  3.67896855e-02,  2.98277643e-02, ...,\n",
       "            1.90427080e-02,  1.85096804e-02,  1.84528548e-02]],\n",
       "  \n",
       "         [[-1.00000000e+00, -1.00000000e+00, -1.00000000e+00, ...,\n",
       "           -1.00000000e+00, -1.00000000e+00, -1.00000000e+00],\n",
       "          [ 9.16423500e-01,  8.42986524e-01,  6.28386796e-01, ...,\n",
       "            6.05458498e-01,  7.72795379e-01,  8.45933974e-01],\n",
       "          [-3.52793140e-03, -6.68638125e-02, -1.50922447e-01, ...,\n",
       "            1.74382608e-02,  1.01269335e-01,  1.45585835e-01],\n",
       "          ...,\n",
       "          [ 7.72079676e-02,  7.59374052e-02,  6.12377115e-02, ...,\n",
       "            4.82167937e-02,  4.37761620e-02,  3.31711769e-02],\n",
       "          [-9.85359587e-03, -3.03145181e-02, -4.21123542e-02, ...,\n",
       "            3.41820382e-02,  3.93091962e-02,  3.74385267e-02],\n",
       "          [-1.52147263e-02, -5.44505194e-03,  2.95715267e-03, ...,\n",
       "            8.46294779e-03,  1.63754039e-02,  2.41379291e-02]],\n",
       "  \n",
       "         [[-1.00000000e+00, -1.00000000e+00, -1.00000000e+00, ...,\n",
       "           -1.00000000e+00, -1.00000000e+00, -1.00000000e+00],\n",
       "          [ 8.28420460e-01,  7.65669227e-01,  6.00378871e-01, ...,\n",
       "            5.81786752e-01,  7.46283591e-01,  8.26343358e-01],\n",
       "          [ 1.42063946e-01,  1.01204298e-01,  1.97330434e-02, ...,\n",
       "            2.19595339e-02,  1.06276423e-01,  1.46052822e-01],\n",
       "          ...,\n",
       "          [ 3.79415788e-02,  4.26030867e-02,  4.27828580e-02, ...,\n",
       "            3.34388018e-02,  3.12824585e-02,  2.49341447e-02],\n",
       "          [ 1.25609599e-02,  6.28828118e-03, -5.38835675e-03, ...,\n",
       "            1.80592909e-02,  2.09912807e-02,  2.07177941e-02],\n",
       "          [ 7.06610177e-03,  2.34774547e-03, -1.65265542e-03, ...,\n",
       "            8.26800335e-03,  1.63786635e-02,  2.26332117e-02]]]),\n",
       "  'chroma': array([[[0.85619617, 0.87248689, 0.83522779, ..., 0.83036017,\n",
       "           0.88862216, 0.85635102],\n",
       "          [0.88465762, 0.9069702 , 0.88701695, ..., 0.89906216,\n",
       "           0.92410833, 0.88859051],\n",
       "          [0.93090212, 0.94892883, 0.93930191, ..., 0.95387548,\n",
       "           0.96613294, 0.93756652],\n",
       "          ...,\n",
       "          [0.85650158, 0.88171023, 0.85839826, ..., 0.8419131 ,\n",
       "           0.88206273, 0.85480809],\n",
       "          [0.81444317, 0.8363567 , 0.7987892 , ..., 0.80016214,\n",
       "           0.85377735, 0.82090658],\n",
       "          [0.79840529, 0.81296778, 0.76612377, ..., 0.80180693,\n",
       "           0.85424614, 0.81370008]],\n",
       "  \n",
       "         [[0.8652541 , 0.89262825, 0.85554886, ..., 0.84925318,\n",
       "           0.89758903, 0.86344314],\n",
       "          [0.8916294 , 0.92252433, 0.90135372, ..., 0.89762694,\n",
       "           0.92431414, 0.8892833 ],\n",
       "          [0.93800217, 0.96130544, 0.94909883, ..., 0.94563437,\n",
       "           0.96051514, 0.93462509],\n",
       "          ...,\n",
       "          [0.86345738, 0.89560705, 0.86985964, ..., 0.87006718,\n",
       "           0.89316428, 0.86117321],\n",
       "          [0.82346469, 0.85561186, 0.81729746, ..., 0.81299692,\n",
       "           0.85608685, 0.82186049],\n",
       "          [0.80950308, 0.83610749, 0.78999114, ..., 0.78148788,\n",
       "           0.83856988, 0.80661643]],\n",
       "  \n",
       "         [[0.85911328, 0.88661331, 0.85191125, ..., 0.79880351,\n",
       "           0.87322032, 0.86540657],\n",
       "          [0.88139063, 0.91389495, 0.89799792, ..., 0.84063679,\n",
       "           0.89618719, 0.88863289],\n",
       "          [0.94872999, 0.97478878, 0.96405172, ..., 0.88412958,\n",
       "           0.92908329, 0.931382  ],\n",
       "          ...,\n",
       "          [0.85830128, 0.89022905, 0.86645025, ..., 0.81146169,\n",
       "           0.86147177, 0.85577714],\n",
       "          [0.81790364, 0.85080224, 0.81565177, ..., 0.75868952,\n",
       "           0.82595336, 0.8167935 ],\n",
       "          [0.80757868, 0.83463103, 0.79038727, ..., 0.73616612,\n",
       "           0.81605995, 0.80795914]],\n",
       "  \n",
       "         ...,\n",
       "  \n",
       "         [[0.84416258, 0.86288291, 0.81857693, ..., 0.84286404,\n",
       "           0.90588999, 0.8735618 ],\n",
       "          [0.86980867, 0.89204776, 0.86416775, ..., 0.88078082,\n",
       "           0.93237758, 0.90209526],\n",
       "          [0.91233218, 0.92519653, 0.90137416, ..., 0.92494571,\n",
       "           0.96617866, 0.94655561],\n",
       "          ...,\n",
       "          [0.83471417, 0.85984129, 0.83378112, ..., 0.85815763,\n",
       "           0.9051944 , 0.87661624],\n",
       "          [0.80040067, 0.825688  , 0.78515571, ..., 0.81629956,\n",
       "           0.86640245, 0.83023089],\n",
       "          [0.79431289, 0.81316805, 0.76007986, ..., 0.8139531 ,\n",
       "           0.85902458, 0.82194769]],\n",
       "  \n",
       "         [[0.8151868 , 0.83548921, 0.83094543, ..., 0.82538295,\n",
       "           0.88507205, 0.8505792 ],\n",
       "          [0.82361382, 0.79715306, 0.69613737, ..., 1.        ,\n",
       "           0.97280997, 0.90432221],\n",
       "          [0.86210877, 0.83192885, 0.74300867, ..., 0.92674828,\n",
       "           0.9509691 , 0.9269622 ],\n",
       "          ...,\n",
       "          [0.80632704, 0.77394849, 0.66867477, ..., 0.80272627,\n",
       "           0.87243378, 0.85231602],\n",
       "          [0.81189132, 0.80704063, 0.74550813, ..., 0.73673767,\n",
       "           0.82467455, 0.8054049 ],\n",
       "          [0.80255449, 0.85303664, 0.91225177, ..., 0.69943684,\n",
       "           0.79881227, 0.78446096]],\n",
       "  \n",
       "         [[0.85176188, 0.86862493, 0.80301207, ..., 0.80511069,\n",
       "           0.87249434, 0.84511834],\n",
       "          [0.87470508, 0.89110553, 0.83158159, ..., 0.86999047,\n",
       "           0.90718716, 0.87275219],\n",
       "          [0.91948539, 0.92792493, 0.87464249, ..., 0.97556823,\n",
       "           0.96626914, 0.92500728],\n",
       "          ...,\n",
       "          [0.86175609, 0.90462518, 0.8994565 , ..., 0.83158851,\n",
       "           0.86809003, 0.83905375],\n",
       "          [0.81606704, 0.84672272, 0.80504078, ..., 0.78843933,\n",
       "           0.84437323, 0.81216908],\n",
       "          [0.80169362, 0.82368207, 0.75878662, ..., 0.74441099,\n",
       "           0.81784505, 0.79187989]]]),\n",
       "  'cqt': array([[[ 1.19209290e-07, -2.26269960e-02, -1.60802960e-01, ...,\n",
       "           -5.79370141e-01, -4.42620873e-01, -4.27766681e-01],\n",
       "          [-1.03794217e-01, -1.66501760e-01, -3.00726295e-01, ...,\n",
       "           -8.25820804e-01, -6.89184904e-01, -6.29070401e-01],\n",
       "          [-4.02989268e-01, -4.10883784e-01, -5.97632170e-01, ...,\n",
       "           -1.11782014e+00, -9.07075644e-01, -9.07512784e-01],\n",
       "          ...,\n",
       "          [-1.99005814e+01, -8.00000000e+01, -8.00000000e+01, ...,\n",
       "           -3.87886887e+01, -3.77525024e+01, -2.81665363e+01],\n",
       "          [-2.01685314e+01, -8.00000000e+01, -7.76172638e+01, ...,\n",
       "           -3.56622276e+01, -3.59201508e+01, -3.30888062e+01],\n",
       "          [-2.03871384e+01, -8.00000000e+01, -7.26302872e+01, ...,\n",
       "           -2.57976093e+01, -2.92057610e+01, -3.38931007e+01]],\n",
       "  \n",
       "         [[-2.10467935e-01, -2.38781333e-01, -3.84270310e-01, ...,\n",
       "           -1.51600361e-01, -1.48527622e-02,  0.00000000e+00],\n",
       "          [-4.37610626e-01, -5.14465213e-01, -6.61268234e-01, ...,\n",
       "           -3.98062587e-01, -2.61429310e-01, -2.01314688e-01],\n",
       "          [-7.50078440e-01, -7.66942978e-01, -9.70688820e-01, ...,\n",
       "           -6.90066099e-01, -4.79323387e-01, -4.79766130e-01],\n",
       "          ...,\n",
       "          [-1.99439030e+01, -5.83520432e+01, -5.15235977e+01, ...,\n",
       "           -5.50233879e+01, -5.26230621e+01, -2.93398571e+01],\n",
       "          [-2.00846004e+01, -6.34884491e+01, -5.33800964e+01, ...,\n",
       "           -6.26022720e+01, -5.22940826e+01, -3.11027546e+01],\n",
       "          [-2.03556156e+01, -5.51664276e+01, -4.60813179e+01, ...,\n",
       "           -6.70749664e+01, -5.36381569e+01, -3.27820892e+01]],\n",
       "  \n",
       "         [[-2.10928917e-01, -2.39231348e-01, -3.84695292e-01, ...,\n",
       "           -1.51615143e-01, -1.48600340e-02,  1.19209290e-07],\n",
       "          [-4.38098788e-01, -5.14937043e-01, -6.61725998e-01, ...,\n",
       "           -3.98045540e-01, -2.61409044e-01, -2.01287270e-01],\n",
       "          [-7.50597239e-01, -7.67455339e-01, -9.71163511e-01, ...,\n",
       "           -6.90024614e-01, -4.79275942e-01, -4.79707718e-01],\n",
       "          ...,\n",
       "          [-2.02877769e+01, -3.94133148e+01, -4.23928680e+01, ...,\n",
       "           -4.68094711e+01, -5.30310822e+01, -2.99453545e+01],\n",
       "          [-2.30047684e+01, -4.49084015e+01, -3.67598038e+01, ...,\n",
       "           -5.32580109e+01, -5.84754791e+01, -3.11525593e+01],\n",
       "          [-2.16702728e+01, -3.82127762e+01, -3.94972534e+01, ...,\n",
       "           -5.12719803e+01, -7.04599228e+01, -3.23827972e+01]],\n",
       "  \n",
       "         ...,\n",
       "  \n",
       "         [[-2.16132641e-01, -2.43976116e-01, -3.88843298e-01, ...,\n",
       "           -1.48777008e-01, -1.35467052e-02, -1.19209290e-07],\n",
       "          [-4.43539143e-01, -5.20821571e-01, -6.68196201e-01, ...,\n",
       "           -4.08251762e-01, -2.70772219e-01, -2.10011959e-01],\n",
       "          [-7.53691673e-01, -7.70490885e-01, -9.74181175e-01, ...,\n",
       "           -7.00694084e-01, -4.90036011e-01, -4.90468740e-01],\n",
       "          ...,\n",
       "          [-1.87857647e+01, -3.66787567e+01, -3.20649109e+01, ...,\n",
       "           -5.43451653e+01, -5.33009300e+01, -2.87257786e+01],\n",
       "          [-2.00561085e+01, -3.59994888e+01, -3.55556145e+01, ...,\n",
       "           -5.31208572e+01, -4.56090431e+01, -3.08344269e+01],\n",
       "          [-2.03948326e+01, -4.06717873e+01, -3.61562195e+01, ...,\n",
       "           -6.16853065e+01, -5.00885086e+01, -3.27972145e+01]],\n",
       "  \n",
       "         [[-1.95080996e-01, -2.23579168e-01, -3.69353771e-01, ...,\n",
       "           -1.52131796e-01, -1.50997639e-02,  0.00000000e+00],\n",
       "          [-4.22918320e-01, -4.99691248e-01, -6.46318913e-01, ...,\n",
       "           -3.95443201e-01, -2.58076429e-01, -1.97295904e-01],\n",
       "          [-7.36415148e-01, -7.53379822e-01, -9.57355022e-01, ...,\n",
       "           -6.76903725e-01, -4.66872692e-01, -4.67923403e-01],\n",
       "          ...,\n",
       "          [-1.94659481e+01, -3.49028130e+01, -4.69350929e+01, ...,\n",
       "           -4.92854576e+01, -5.79859009e+01, -2.90271320e+01],\n",
       "          [-1.89481068e+01, -3.29239922e+01, -3.73101234e+01, ...,\n",
       "           -4.54003868e+01, -4.47811012e+01, -3.06807842e+01],\n",
       "          [-1.98341236e+01, -2.84893360e+01, -3.32576904e+01, ...,\n",
       "           -4.02149887e+01, -4.94791908e+01, -3.40904732e+01]],\n",
       "  \n",
       "         [[-2.12590694e-01, -2.40892172e-01, -3.86380196e-01, ...,\n",
       "           -1.47585869e-01, -1.29370689e-02,  0.00000000e+00],\n",
       "          [-4.42429543e-01, -5.18925428e-01, -6.65300608e-01, ...,\n",
       "           -3.87832165e-01, -2.52814531e-01, -1.94293499e-01],\n",
       "          [-7.60219574e-01, -7.77885675e-01, -9.82601166e-01, ...,\n",
       "           -6.94226027e-01, -4.83351946e-01, -4.83762503e-01],\n",
       "          ...,\n",
       "          [-1.96735039e+01, -4.98694801e+01, -4.95578270e+01, ...,\n",
       "           -4.51811943e+01, -4.30453606e+01, -3.24362144e+01],\n",
       "          [-1.99802971e+01, -6.03687248e+01, -5.33139191e+01, ...,\n",
       "           -4.86921806e+01, -4.52290840e+01, -3.14357605e+01],\n",
       "          [-2.02875443e+01, -5.43030663e+01, -4.71954384e+01, ...,\n",
       "           -4.74601936e+01, -4.37207603e+01, -3.34988174e+01]]]),\n",
       "  'label': array([15, 15, 15, ...,  5,  5,  5]),\n",
       "  'id': array(['XC184422.mp3', 'XC184422.mp3', 'XC184422.mp3', ..., 'XC26960.mp3',\n",
       "         'XC26960.mp3', 'XC26960.mp3'], dtype='<U12')},\n",
       " 'val': {'melspectrogram': array([[[-1.71700697e-02,  0.00000000e+00, -8.30828026e-03, ...,\n",
       "           -1.01140933e-02, -3.98544158e-04, -1.31881302e-02],\n",
       "          [-1.92667842e-01, -2.11222529e-01, -2.68523276e-01, ...,\n",
       "           -2.76578993e-01, -2.14545652e-01, -1.91812575e-01],\n",
       "          [-2.65452743e-01, -2.83159614e-01, -3.38062525e-01, ...,\n",
       "           -3.53267580e-01, -2.91180611e-01, -2.67854631e-01],\n",
       "          ...,\n",
       "          [-9.98307705e-01, -9.98598397e-01, -9.98571098e-01, ...,\n",
       "           -9.98218954e-01, -9.98274803e-01, -9.98271227e-01],\n",
       "          [-9.99315262e-01, -9.99614060e-01, -9.99599457e-01, ...,\n",
       "           -9.99848366e-01, -9.99889135e-01, -9.99877870e-01],\n",
       "          [-9.99707043e-01, -1.00000000e+00, -1.00000000e+00, ...,\n",
       "           -1.00000000e+00, -1.00000000e+00, -1.00000000e+00]],\n",
       "  \n",
       "         [[-1.74357686e-02, -5.40845576e-05, -8.17554444e-03, ...,\n",
       "           -9.07407328e-03,  0.00000000e+00, -1.18078534e-02],\n",
       "          [-1.94196641e-01, -2.12481096e-01, -2.69468606e-01, ...,\n",
       "           -2.57630289e-01, -1.98672324e-01, -1.76625371e-01],\n",
       "          [-2.70481884e-01, -2.89271355e-01, -3.45794827e-01, ...,\n",
       "           -3.28331828e-01, -2.68465430e-01, -2.45479271e-01],\n",
       "          ...,\n",
       "          [-9.98979032e-01, -9.98958349e-01, -9.98880148e-01, ...,\n",
       "           -8.76666963e-01, -8.88870060e-01, -8.97926092e-01],\n",
       "          [-9.99499381e-01, -9.99498367e-01, -9.99475837e-01, ...,\n",
       "           -9.92214143e-01, -9.98531342e-01, -1.00000000e+00],\n",
       "          [-1.00000000e+00, -1.00000000e+00, -1.00000000e+00, ...,\n",
       "           -1.00000000e+00, -1.00000000e+00, -9.97616887e-01]],\n",
       "  \n",
       "         [[-1.74912084e-02, -5.66526105e-05, -8.07961635e-03, ...,\n",
       "           -9.75035504e-03,  0.00000000e+00, -1.31438784e-02],\n",
       "          [-1.94405094e-01, -2.12699175e-01, -2.69539028e-01, ...,\n",
       "           -2.80990034e-01, -2.18454197e-01, -1.95157409e-01],\n",
       "          [-2.69538313e-01, -2.87991136e-01, -3.43966305e-01, ...,\n",
       "           -3.54282171e-01, -2.92815685e-01, -2.69837171e-01],\n",
       "          ...,\n",
       "          [-9.99316096e-01, -9.99325931e-01, -9.99243796e-01, ...,\n",
       "           -9.99267280e-01, -9.99325991e-01, -9.99316096e-01],\n",
       "          [-9.99517322e-01, -9.99509931e-01, -9.99443769e-01, ...,\n",
       "           -9.99920964e-01, -9.99946952e-01, -9.99941707e-01],\n",
       "          [-1.00000000e+00, -1.00000000e+00, -1.00000000e+00, ...,\n",
       "           -1.00000000e+00, -1.00000000e+00, -1.00000000e+00]],\n",
       "  \n",
       "         ...,\n",
       "  \n",
       "         [[-1.74060259e-02,  0.00000000e+00, -8.08810536e-03, ...,\n",
       "           -9.75420792e-03, -9.90285116e-06, -1.30409934e-02],\n",
       "          [-1.94310397e-01, -2.12836444e-01, -2.70119280e-01, ...,\n",
       "           -2.80079484e-01, -2.17388883e-01, -1.94086239e-01],\n",
       "          [-2.68472016e-01, -2.86788940e-01, -3.42586458e-01, ...,\n",
       "           -3.52687120e-01, -2.91194111e-01, -2.68222302e-01],\n",
       "          ...,\n",
       "          [-9.99173939e-01, -9.99161780e-01, -9.99027133e-01, ...,\n",
       "           -9.98569667e-01, -9.98530328e-01, -9.98510480e-01],\n",
       "          [-9.99570131e-01, -9.99542415e-01, -9.99471545e-01, ...,\n",
       "           -9.99085069e-01, -9.99052823e-01, -9.99040186e-01],\n",
       "          [-1.00000000e+00, -1.00000000e+00, -1.00000000e+00, ...,\n",
       "           -1.00000000e+00, -1.00000000e+00, -1.00000000e+00]],\n",
       "  \n",
       "         [[-1.73612144e-02,  6.88302677e-08, -8.10584147e-03, ...,\n",
       "           -9.80556197e-03, -3.60954728e-05, -1.30618913e-02],\n",
       "          [-1.93687841e-01, -2.12129042e-01, -2.69340634e-01, ...,\n",
       "           -2.80193955e-01, -2.17463359e-01, -1.94160640e-01],\n",
       "          [-2.67866910e-01, -2.85968989e-01, -3.41474682e-01, ...,\n",
       "           -3.52741867e-01, -2.91388839e-01, -2.68496901e-01],\n",
       "          ...,\n",
       "          [-9.99457300e-01, -9.99462306e-01, -9.99407113e-01, ...,\n",
       "           -9.99286294e-01, -9.99294400e-01, -9.99292970e-01],\n",
       "          [-9.99999702e-01, -9.99983907e-01, -9.99884546e-01, ...,\n",
       "           -9.99745548e-01, -9.99733031e-01, -9.99724030e-01],\n",
       "          [-1.00000000e+00, -1.00000000e+00, -1.00000000e+00, ...,\n",
       "           -1.00000000e+00, -1.00000000e+00, -1.00000000e+00]],\n",
       "  \n",
       "         [[-1.73634496e-02,  0.00000000e+00, -8.10568407e-03, ...,\n",
       "           -9.80718527e-03, -4.76982241e-05, -1.30785825e-02],\n",
       "          [-1.93623587e-01, -2.12048799e-01, -2.69232452e-01, ...,\n",
       "           -2.80076981e-01, -2.17364699e-01, -1.94076210e-01],\n",
       "          [-2.68151551e-01, -2.86333025e-01, -3.41873318e-01, ...,\n",
       "           -3.52642119e-01, -2.91331887e-01, -2.68452585e-01],\n",
       "          ...,\n",
       "          [-9.99569893e-01, -9.99552488e-01, -9.99491811e-01, ...,\n",
       "           -9.99127507e-01, -9.99063194e-01, -9.99036074e-01],\n",
       "          [-9.99589741e-01, -9.99592245e-01, -9.99593318e-01, ...,\n",
       "           -9.99570727e-01, -9.99544799e-01, -9.99533951e-01],\n",
       "          [-1.00000000e+00, -1.00000000e+00, -1.00000000e+00, ...,\n",
       "           -1.00000000e+00, -1.00000000e+00, -1.00000000e+00]]],\n",
       "        dtype=float32),\n",
       "  'mfcc': array([[[-0.93160504, -1.        , -1.        , ..., -1.        ,\n",
       "           -1.        , -0.9367653 ],\n",
       "          [ 1.        ,  0.93118525,  0.63744843, ...,  0.5969844 ,\n",
       "            0.8941571 ,  1.        ],\n",
       "          [ 0.20600511,  0.19742218,  0.1481394 , ...,  0.14291814,\n",
       "            0.19241503,  0.2074877 ],\n",
       "          ...,\n",
       "          [ 0.03243662,  0.03371722,  0.02841452, ...,  0.02767297,\n",
       "            0.0345356 ,  0.03499261],\n",
       "          [ 0.02995769,  0.0305611 ,  0.02531067, ...,  0.02782422,\n",
       "            0.0314752 ,  0.03075657],\n",
       "          [ 0.02739514,  0.02696012,  0.01858307, ...,  0.01651644,\n",
       "            0.02775172,  0.0306799 ]],\n",
       "  \n",
       "         [[-0.93149924, -1.        , -1.        , ..., -1.        ,\n",
       "           -0.88961244, -0.70568854],\n",
       "          [ 1.        ,  0.9310237 ,  0.6367076 , ...,  0.63788366,\n",
       "            1.        ,  1.        ],\n",
       "          [ 0.20781593,  0.19971476,  0.14984886, ..., -0.13377854,\n",
       "           -0.17759408, -0.15531807],\n",
       "          ...,\n",
       "          [ 0.03327785,  0.03362826,  0.02682183, ...,  0.05161607,\n",
       "            0.07629017,  0.07433017],\n",
       "          [ 0.03194048,  0.03383966,  0.03019912, ...,  0.02615907,\n",
       "            0.01870133,  0.00737059],\n",
       "          [ 0.02822617,  0.02643634,  0.0153455 , ...,  0.0364236 ,\n",
       "            0.05387847,  0.05445948]],\n",
       "  \n",
       "         [[-0.94023114, -1.        , -1.        , ..., -1.        ,\n",
       "           -1.        , -0.9381402 ],\n",
       "          [ 1.        ,  0.9235499 ,  0.6343588 , ...,  0.5963594 ,\n",
       "            0.8935127 ,  1.        ],\n",
       "          [ 0.20567757,  0.19519891,  0.14506759, ...,  0.14126459,\n",
       "            0.19059987,  0.2062133 ],\n",
       "          ...,\n",
       "          [ 0.03277213,  0.03347692,  0.02778098, ...,  0.03257481,\n",
       "            0.03680483,  0.03606868],\n",
       "          [ 0.03082353,  0.0311292 ,  0.02546982, ...,  0.0223744 ,\n",
       "            0.02677764,  0.02675767],\n",
       "          [ 0.02887502,  0.02850099,  0.02074854, ...,  0.01800437,\n",
       "            0.02932946,  0.03214759]],\n",
       "  \n",
       "         ...,\n",
       "  \n",
       "         [[-0.9535827 , -1.        , -1.        , ..., -1.        ,\n",
       "           -1.        , -0.9578748 ],\n",
       "          [ 1.        ,  0.9139433 ,  0.6361165 , ...,  0.59934247,\n",
       "            0.87977874,  1.        ],\n",
       "          [ 0.20582113,  0.18999366,  0.13418299, ...,  0.12600893,\n",
       "            0.18131971,  0.20375703],\n",
       "          ...,\n",
       "          [ 0.03312817,  0.03276342,  0.02612329, ...,  0.02556458,\n",
       "            0.03275145,  0.03437225],\n",
       "          [ 0.02946259,  0.02932506,  0.02335803, ...,  0.02153757,\n",
       "            0.02722353,  0.02824944],\n",
       "          [ 0.02907628,  0.0289537 ,  0.02309764, ...,  0.02197287,\n",
       "            0.02766586,  0.02866283]],\n",
       "  \n",
       "         [[-0.9559879 , -1.        , -1.        , ..., -1.        ,\n",
       "           -1.        , -0.9567972 ],\n",
       "          [ 1.        ,  0.911736  ,  0.6346008 , ...,  0.59919333,\n",
       "            0.88030976,  1.        ],\n",
       "          [ 0.20321931,  0.18725453,  0.13272831, ...,  0.12590596,\n",
       "            0.18124063,  0.20352367],\n",
       "          ...,\n",
       "          [ 0.03182453,  0.03143441,  0.02504676, ...,  0.02443812,\n",
       "            0.03128761,  0.0327271 ],\n",
       "          [ 0.03006484,  0.02976069,  0.02363588, ...,  0.0240461 ,\n",
       "            0.03069425,  0.03202734],\n",
       "          [ 0.02939453,  0.02925187,  0.02345211, ...,  0.02245994,\n",
       "            0.02840344,  0.02944957]],\n",
       "  \n",
       "         [[-0.9565871 , -1.        , -1.        , ..., -1.        ,\n",
       "           -1.        , -0.95782995],\n",
       "          [ 1.        ,  0.9115273 ,  0.63502234, ...,  0.5988917 ,\n",
       "            0.87954164,  1.        ],\n",
       "          [ 0.20209931,  0.18626767,  0.13229097, ...,  0.12619993,\n",
       "            0.1815084 ,  0.20399615],\n",
       "          ...,\n",
       "          [ 0.03272372,  0.03227057,  0.02563622, ...,  0.02438859,\n",
       "            0.03124497,  0.03272761],\n",
       "          [ 0.03030955,  0.02998744,  0.02379985, ...,  0.02287446,\n",
       "            0.0290799 ,  0.0302877 ],\n",
       "          [ 0.02904006,  0.02882648,  0.02308265, ...,  0.02253046,\n",
       "            0.02851477,  0.02961629]]], dtype=float32),\n",
       "  'chroma': array([[[0.8604527 , 0.8860765 , 0.8513021 , ..., 0.8439439 ,\n",
       "           0.89355534, 0.86024594],\n",
       "          [0.8914909 , 0.92004347, 0.89722496, ..., 0.8933638 ,\n",
       "           0.92079175, 0.8864081 ],\n",
       "          [0.9395011 , 0.96209466, 0.94911194, ..., 0.93483096,\n",
       "           0.9505655 , 0.9264711 ],\n",
       "          ...,\n",
       "          [0.84926474, 0.87709194, 0.85441107, ..., 0.87592715,\n",
       "           0.8977636 , 0.86224735],\n",
       "          [0.815104  , 0.84275943, 0.8043016 , ..., 0.8128998 ,\n",
       "           0.8555757 , 0.8206078 ],\n",
       "          [0.80382645, 0.8270981 , 0.7812588 , ..., 0.7766202 ,\n",
       "           0.834827  , 0.8039636 ]],\n",
       "  \n",
       "         [[0.8647543 , 0.8916218 , 0.8542218 , ..., 0.24175581,\n",
       "           0.2433164 , 0.2699631 ],\n",
       "          [0.8900035 , 0.9192913 , 0.89676386, ..., 0.30937207,\n",
       "           0.29332852, 0.3096337 ],\n",
       "          [0.9316683 , 0.95355743, 0.9403877 , ..., 0.52230287,\n",
       "           0.5295636 , 0.5564619 ],\n",
       "          ...,\n",
       "          [0.86305875, 0.8942188 , 0.86578846, ..., 0.2342141 ,\n",
       "           0.22384647, 0.2467413 ],\n",
       "          [0.8240049 , 0.85519475, 0.81454766, ..., 0.32264566,\n",
       "           0.30865508, 0.31679055],\n",
       "          [0.8089089 , 0.83515716, 0.7881331 , ..., 0.4404959 ,\n",
       "           0.4551699 , 0.47327834]],\n",
       "  \n",
       "         [[0.85870796, 0.8841541 , 0.8474742 , ..., 0.84262305,\n",
       "           0.89139533, 0.85979694],\n",
       "          [0.8853445 , 0.91629857, 0.8977412 , ..., 0.89322746,\n",
       "           0.9216022 , 0.887911  ],\n",
       "          [0.92904377, 0.95139456, 0.9413339 , ..., 0.9387824 ,\n",
       "           0.9565135 , 0.93311113],\n",
       "          ...,\n",
       "          [0.8559998 , 0.88834894, 0.86574835, ..., 0.85894644,\n",
       "           0.88519   , 0.8574657 ],\n",
       "          [0.8175422 , 0.8485815 , 0.81184053, ..., 0.8024807 ,\n",
       "           0.8489884 , 0.8185244 ],\n",
       "          [0.8024614 , 0.826311  , 0.7802086 , ..., 0.7738578 ,\n",
       "           0.8329894 , 0.8040928 ]],\n",
       "  \n",
       "         ...,\n",
       "  \n",
       "         [[0.8684678 , 0.89514273, 0.8569582 , ..., 0.8494882 ,\n",
       "           0.89785326, 0.86401004],\n",
       "          [0.89176404, 0.9229407 , 0.9030156 , ..., 0.8990293 ,\n",
       "           0.92698085, 0.8923764 ],\n",
       "          [0.9343642 , 0.9583949 , 0.9488999 , ..., 0.9468523 ,\n",
       "           0.96244067, 0.93639755],\n",
       "          ...,\n",
       "          [0.861907  , 0.89478296, 0.8710245 , ..., 0.8666742 ,\n",
       "           0.88913625, 0.8579869 ],\n",
       "          [0.8242564 , 0.8562535 , 0.8188191 , ..., 0.81370264,\n",
       "           0.85664344, 0.8222182 ],\n",
       "          [0.8111013 , 0.8369324 , 0.79029787, ..., 0.7853287 ,\n",
       "           0.84288263, 0.8103827 ]],\n",
       "  \n",
       "         [[0.86264414, 0.8896671 , 0.853809  , ..., 0.8494654 ,\n",
       "           0.8986945 , 0.8648722 ],\n",
       "          [0.890951  , 0.92244774, 0.9028125 , ..., 0.89899296,\n",
       "           0.92700243, 0.8922681 ],\n",
       "          [0.9326932 , 0.9561903 , 0.94650286, ..., 0.946759  ,\n",
       "           0.9622974 , 0.9361571 ],\n",
       "          ...,\n",
       "          [0.8564969 , 0.88768274, 0.86400956, ..., 0.8684891 ,\n",
       "           0.89215744, 0.8609481 ],\n",
       "          [0.8206236 , 0.85260797, 0.8158747 , ..., 0.81211334,\n",
       "           0.8557799 , 0.822075  ],\n",
       "          [0.805709  , 0.8321311 , 0.7877193 , ..., 0.78142524,\n",
       "           0.83950526, 0.8081024 ]],\n",
       "  \n",
       "         [[0.8709916 , 0.901193  , 0.86525804, ..., 0.85028046,\n",
       "           0.8991547 , 0.86497825],\n",
       "          [0.89714617, 0.93268186, 0.91437703, ..., 0.9006461 ,\n",
       "           0.92794275, 0.8924227 ],\n",
       "          [0.9383233 , 0.96461797, 0.9556482 , ..., 0.946222  ,\n",
       "           0.9612692 , 0.9352248 ],\n",
       "          ...,\n",
       "          [0.8596627 , 0.8928458 , 0.86944747, ..., 0.8692149 ,\n",
       "           0.8916822 , 0.8595873 ],\n",
       "          [0.82354146, 0.85675853, 0.8193712 , ..., 0.8118225 ,\n",
       "           0.8548074 , 0.82083637],\n",
       "          [0.81212217, 0.8401211 , 0.7943663 , ..., 0.7816965 ,\n",
       "           0.8392993 , 0.80757236]]], dtype=float32),\n",
       "  'cqt': array([[[-1.6980207e-01, -1.9098467e-01, -3.2778591e-01, ...,\n",
       "           -1.5915972e-01, -1.8550277e-02, -5.9604645e-08],\n",
       "          [-4.4291836e-01, -5.2131045e-01, -6.7046499e-01, ...,\n",
       "           -3.6169910e-01, -2.2248507e-01, -1.6020250e-01],\n",
       "          [-7.7914524e-01, -7.9927540e-01, -1.0065954e+00, ...,\n",
       "           -5.5497384e-01, -3.6265659e-01, -3.7759483e-01],\n",
       "          ...,\n",
       "          [-2.0064686e+01, -6.0685150e+01, -6.6952728e+01, ...,\n",
       "           -5.6533001e+01, -5.2853477e+01, -2.9784256e+01],\n",
       "          [-2.0286234e+01, -8.0000000e+01, -6.4539764e+01, ...,\n",
       "           -5.5968109e+01, -5.4193325e+01, -3.1356224e+01],\n",
       "          [-2.0464649e+01, -6.6665924e+01, -5.7490776e+01, ...,\n",
       "           -5.9317860e+01, -6.5463989e+01, -3.3448719e+01]],\n",
       "  \n",
       "         [[-2.6087630e-01, -2.9420769e-01, -4.4571993e-01, ...,\n",
       "           -1.3434899e-01, -6.7760944e-03,  1.7881393e-07],\n",
       "          [-4.3089741e-01, -5.0342464e-01, -6.4533877e-01, ...,\n",
       "           -4.5139533e-01, -3.0766684e-01, -2.4121898e-01],\n",
       "          [-7.3003435e-01, -7.3981571e-01, -9.3566608e-01, ...,\n",
       "           -6.9799393e-01, -4.8800790e-01, -4.8836160e-01],\n",
       "          ...,\n",
       "          [-2.0055223e+01, -7.4333244e+01, -6.4408905e+01, ...,\n",
       "           -5.5569336e+01, -1.6189121e+01, -2.2022831e+01],\n",
       "          [-2.0292103e+01, -7.7333000e+01, -6.5402458e+01, ...,\n",
       "           -5.6332706e+01, -9.6461868e+00, -1.2732306e+01],\n",
       "          [-2.0495483e+01, -7.3467857e+01, -6.5998177e+01, ...,\n",
       "           -6.2305809e+01, -1.1662912e+01, -6.2106433e+00]],\n",
       "  \n",
       "         [[-1.7620409e-01, -2.0359683e-01, -3.4720233e-01, ...,\n",
       "           -1.5855670e-01, -1.7833471e-02, -1.1920929e-07],\n",
       "          [-4.8287249e-01, -5.6797493e-01, -7.2379518e-01, ...,\n",
       "           -3.5962710e-01, -2.3128700e-01, -1.7795765e-01],\n",
       "          [-7.8067571e-01, -8.0257386e-01, -1.0125742e+00, ...,\n",
       "           -7.1769261e-01, -4.9461207e-01, -4.8553076e-01],\n",
       "          ...,\n",
       "          [-2.0032347e+01, -6.3557167e+01, -5.9377644e+01, ...,\n",
       "           -4.4077545e+01, -5.0132706e+01, -2.9366520e+01],\n",
       "          [-2.0275558e+01, -6.4680710e+01, -6.4378288e+01, ...,\n",
       "           -4.6990604e+01, -5.6758266e+01, -3.1281467e+01],\n",
       "          [-2.0429268e+01, -5.9605751e+01, -7.1003349e+01, ...,\n",
       "           -5.2208912e+01, -5.6937901e+01, -3.3685600e+01]],\n",
       "  \n",
       "         ...,\n",
       "  \n",
       "         [[-2.3041224e-01, -2.6017308e-01, -4.0737283e-01, ...,\n",
       "           -1.5047759e-01, -1.4350295e-02,  0.0000000e+00],\n",
       "          [-4.5027521e-01, -5.2741486e-01, -6.7441279e-01, ...,\n",
       "           -4.0582174e-01, -2.6875859e-01, -2.0828521e-01],\n",
       "          [-7.5370651e-01, -7.6936704e-01, -9.7187603e-01, ...,\n",
       "           -7.0273316e-01, -4.9159193e-01, -4.9171346e-01],\n",
       "          ...,\n",
       "          [-2.0069502e+01, -6.3608120e+01, -5.4907089e+01, ...,\n",
       "           -5.5889145e+01, -7.6820854e+01, -2.9788820e+01],\n",
       "          [-2.0293909e+01, -6.3743374e+01, -6.3449337e+01, ...,\n",
       "           -5.6792061e+01, -6.0058662e+01, -3.1051569e+01],\n",
       "          [-2.0444332e+01, -6.0636730e+01, -5.2644894e+01, ...,\n",
       "           -5.8737759e+01, -6.5532547e+01, -3.2634659e+01]],\n",
       "  \n",
       "         [[-2.1058151e-01, -2.3855007e-01, -3.8355589e-01, ...,\n",
       "           -1.5121043e-01, -1.4667571e-02,  1.1920929e-07],\n",
       "          [-4.4205576e-01, -5.1951122e-01, -6.6705841e-01, ...,\n",
       "           -4.0081638e-01, -2.6390290e-01, -2.0353004e-01],\n",
       "          [-7.5649321e-01, -7.7286416e-01, -9.7597146e-01, ...,\n",
       "           -6.9280696e-01, -4.8149326e-01, -4.8138660e-01],\n",
       "          ...,\n",
       "          [-2.0020685e+01, -6.6973137e+01, -5.6958355e+01, ...,\n",
       "           -6.8808876e+01, -5.9941544e+01, -2.9440956e+01],\n",
       "          [-2.0227760e+01, -7.0834129e+01, -5.5091537e+01, ...,\n",
       "           -6.6735512e+01, -6.2522537e+01, -3.1143627e+01],\n",
       "          [-2.0437319e+01, -6.1071526e+01, -5.6730999e+01, ...,\n",
       "           -7.1633911e+01, -6.8364861e+01, -3.3082352e+01]],\n",
       "  \n",
       "         [[-2.1265209e-01, -2.4086249e-01, -3.8624913e-01, ...,\n",
       "           -1.5189198e-01, -1.4997005e-02,  1.1920929e-07],\n",
       "          [-4.3756801e-01, -5.1417094e-01, -6.6067642e-01, ...,\n",
       "           -4.0006152e-01, -2.6306477e-01, -2.0263004e-01],\n",
       "          [-7.4974418e-01, -7.6679152e-01, -9.7078043e-01, ...,\n",
       "           -6.9038022e-01, -4.7984308e-01, -4.8040327e-01],\n",
       "          ...,\n",
       "          [-2.0019548e+01, -6.2284866e+01, -6.7221657e+01, ...,\n",
       "           -7.4355965e+01, -7.4530090e+01, -2.9512926e+01],\n",
       "          [-2.0304729e+01, -5.9780060e+01, -8.0000000e+01, ...,\n",
       "           -7.3592979e+01, -6.9606857e+01, -3.1349102e+01],\n",
       "          [-2.0507160e+01, -5.9021744e+01, -6.3708496e+01, ...,\n",
       "           -7.4303535e+01, -6.7424202e+01, -3.3237350e+01]]], dtype=float32),\n",
       "  'label': array([15, 15, 15, ..., 12, 12, 12]),\n",
       "  'id': array(['XC514030.mp3', 'XC514030.mp3', 'XC514030.mp3', ...,\n",
       "         'XC308991.mp3', 'XC308991.mp3', 'XC308991.mp3'], dtype='<U12')}}"
      ]
     },
     "execution_count": 53,
     "metadata": {},
     "output_type": "execute_result"
    }
   ],
   "source": [
    "merged_dict_2D = {'train': train_features_2D, 'val': val_features_2D}\n",
    "merged_dict_2D"
   ]
  },
  {
   "cell_type": "markdown",
   "metadata": {},
   "source": [
    "### Save the merged dictionary to a pkl"
   ]
  },
  {
   "cell_type": "code",
   "execution_count": 54,
   "metadata": {},
   "outputs": [],
   "source": [
    "# Avrg Pooled\n",
    "with open('C:/Users/thato/Documents/Final-Year-Project/Dataset/Final-Version-Of-Bird-Classification-Project/feature-extraction/NotAnnotated/Augmented/AveragePooled/split_features_1s_all_1D.pkl', 'wb') as file:\n",
    "  pickle.dump(merged_dict_1D, file)\n",
    "del file"
   ]
  },
  {
   "cell_type": "code",
   "execution_count": 55,
   "metadata": {},
   "outputs": [
    {
     "ename": "OSError",
     "evalue": "[Errno 28] No space left on device",
     "output_type": "error",
     "traceback": [
      "\u001b[1;31m---------------------------------------------------------------------------\u001b[0m",
      "\u001b[1;31mOSError\u001b[0m                                   Traceback (most recent call last)",
      "Cell \u001b[1;32mIn[55], line 3\u001b[0m\n\u001b[0;32m      1\u001b[0m \u001b[38;5;66;03m# Avrg Pooled\u001b[39;00m\n\u001b[0;32m      2\u001b[0m \u001b[38;5;28;01mwith\u001b[39;00m \u001b[38;5;28mopen\u001b[39m(\u001b[38;5;124m'\u001b[39m\u001b[38;5;124mC:/Users/thato/Documents/Final-Year-Project/Dataset/Final-Version-Of-Bird-Classification-Project/feature-extraction/NotAnnotated/Augmented/NotAveragePooled/split_features_1s_all_2D.pkl\u001b[39m\u001b[38;5;124m'\u001b[39m, \u001b[38;5;124m'\u001b[39m\u001b[38;5;124mwb\u001b[39m\u001b[38;5;124m'\u001b[39m) \u001b[38;5;28;01mas\u001b[39;00m file:\n\u001b[1;32m----> 3\u001b[0m   \u001b[43mpickle\u001b[49m\u001b[38;5;241;43m.\u001b[39;49m\u001b[43mdump\u001b[49m\u001b[43m(\u001b[49m\u001b[43mmerged_dict_2D\u001b[49m\u001b[43m,\u001b[49m\u001b[43m \u001b[49m\u001b[43mfile\u001b[49m\u001b[43m)\u001b[49m\n\u001b[0;32m      4\u001b[0m \u001b[38;5;28;01mdel\u001b[39;00m file\n",
      "\u001b[1;31mOSError\u001b[0m: [Errno 28] No space left on device"
     ]
    }
   ],
   "source": [
    "# Avrg Pooled\n",
    "with open('C:/Users/thato/Documents/Final-Year-Project/Dataset/Final-Version-Of-Bird-Classification-Project/feature-extraction/NotAnnotated/Augmented/NotAveragePooled/split_features_1s_all_2D.pkl', 'wb') as file:\n",
    "  pickle.dump(merged_dict_2D, file)\n",
    "del file"
   ]
  }
 ],
 "metadata": {
  "kernelspec": {
   "display_name": "Python 3",
   "language": "python",
   "name": "python3"
  },
  "language_info": {
   "codemirror_mode": {
    "name": "ipython",
    "version": 3
   },
   "file_extension": ".py",
   "mimetype": "text/x-python",
   "name": "python",
   "nbconvert_exporter": "python",
   "pygments_lexer": "ipython3",
   "version": "3.12.4"
  }
 },
 "nbformat": 4,
 "nbformat_minor": 2
}
