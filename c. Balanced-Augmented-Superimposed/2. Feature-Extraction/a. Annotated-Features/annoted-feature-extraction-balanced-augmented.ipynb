{
 "cells": [
  {
   "cell_type": "markdown",
   "metadata": {},
   "source": [
    "# **Feature Extraction Methods: Balanced Data With Annotations and Augmentation**\n",
    "\n",
    "- *Key Features*: [MFCCs, Mel-Spectrograms, Chroma Frequencies, RMS Power]\n",
    "- *Key Manipulations*: [Varying Window Sizes, Normalization, Average Pooling (Compression), Filtering]\n",
    "- *Process Assistence*: [Converting them to numpy arrays now, easy label access across features]\n",
    "- *Conversion*: [To numpy arrays and pkl files]\n"
   ]
  },
  {
   "cell_type": "code",
   "execution_count": 1,
   "metadata": {},
   "outputs": [],
   "source": [
    "# Standard libraries\n",
    "import numpy as np\n",
    "import pandas as pd\n",
    "import os\n",
    "import time\n",
    "\n",
    "# Libraries for audio\n",
    "from IPython.display import Audio\n",
    "import librosa\n",
    "import librosa.display\n",
    "\n",
    "# Training and Testing Split\n",
    "from sklearn.model_selection import train_test_split\n",
    "\n",
    "# for normalization & avgpooling features\n",
    "import tensorflow as tf\n",
    "# for preprocessing\n",
    "from sklearn.preprocessing import LabelEncoder\n",
    "from sklearn.preprocessing import MinMaxScaler\n",
    "from sklearn.preprocessing import OneHotEncoder\n",
    "from sklearn.utils import resample\n",
    "\n",
    "# Operational\n",
    "from tqdm import tqdm\n",
    "import matplotlib.pyplot as plt\n",
    "import seaborn as sns\n",
    "import pickle\n",
    "import time\n",
    "import random\n",
    "import IPython.display as ipd"
   ]
  },
  {
   "cell_type": "code",
   "execution_count": 2,
   "metadata": {},
   "outputs": [],
   "source": [
    "# Variabels to be reused\n",
    "path = 'C:/Users/thato/Documents/Final-Year-Project/Dataset/Project-V4/audio_files' \n",
    "npy_path = 'C:/Users/thato/Documents/Final-Year-Project/Dataset/Project-V4/train_audio_npy/' \n",
    "train_csv = 'C:/Users/thato/Documents/Final-Year-Project/Dataset/Project-V4/train-not-annotated.csv' \n",
    "annotated_train_csv = 'C:/Users/thato/Documents/Final-Year-Project/Dataset/Project-V4/trainval-split/trainval-annotated.csv'\n",
    "not_annotated_splt = 'C:/Users/thato/Documents/Final-Year-Project/Dataset/Project-V4/trainval-split/trainval.csv'\n",
    "sr = 22050"
   ]
  },
  {
   "cell_type": "code",
   "execution_count": 3,
   "metadata": {},
   "outputs": [],
   "source": [
    "trainval_data = pd.read_csv(annotated_train_csv)\n",
    "train_data = trainval_data[trainval_data['set'] == 'tr']\n",
    "val_data = trainval_data[trainval_data['set'] == 'val']"
   ]
  },
  {
   "cell_type": "code",
   "execution_count": 4,
   "metadata": {},
   "outputs": [
    {
     "data": {
      "text/plain": [
       "species\n",
       "Dendrocopos minor            324\n",
       "Ixobrychus minutus           319\n",
       "Alcedo atthis                293\n",
       "Acrocephalus arundinaceus    263\n",
       "Motacilla flava              257\n",
       "Botaurus stellaris           237\n",
       "Fulica atra                  230\n",
       "Charadrius alexandrinus      195\n",
       "Gallinula chloropus          178\n",
       "Circus aeruginosus           153\n",
       "Acrocephalus melanopogon     147\n",
       "Porphyrio porphyrio          142\n",
       "Ardea purpurea               141\n",
       "Coracias garrulus            134\n",
       "Himantopus himantopus        121\n",
       "Ciconia ciconia               81\n",
       "Anas strepera                 68\n",
       "Tachybaptus ruficollis        65\n",
       "Acrocephalus scirpaceus       64\n",
       "Anas platyrhynchos            32\n",
       "Name: count, dtype: int64"
      ]
     },
     "execution_count": 4,
     "metadata": {},
     "output_type": "execute_result"
    }
   ],
   "source": [
    "train_data['species'].value_counts()"
   ]
  },
  {
   "cell_type": "markdown",
   "metadata": {},
   "source": [
    "# **Creating a class to do the extraction**"
   ]
  },
  {
   "cell_type": "code",
   "execution_count": 5,
   "metadata": {},
   "outputs": [],
   "source": [
    "class Extraction:\n",
    "  def __init__(self, train_df, val_df, window_size, overlap=0.5, npy_path=npy_path, sr=sr, n_mels=128, n_mfcc=20, n_chroma=12, n_cqt=84, hoplength=256, features=['mfcc'], normalize=True, avgpool=False, augment=True):\n",
    "    \"\"\"\n",
    "    Instantiate the Extraction class to extract features.\n",
    "\n",
    "    Parameters:\n",
    "      sr (int): Sample rate of the audio files.\n",
    "      n_mfccs (int): Number of MFCCs to extract.\n",
    "      n_mels (int): Number of Mel bands to extract.\n",
    "      n_chroma (int): Number of chroma bins to use.\n",
    "      n_cqt (int): Number of CQT bins to use.\n",
    "      features (list): List of features to extract.\n",
    "        accepted features: 'mfcc', 'chroma', 'cqt', 'melspectrogram'.\n",
    "      normalize (bool): Whether to normalize the features.\n",
    "      avgpool (bool): Whether to avgpool the features.\n",
    "    \"\"\"\n",
    "    \n",
    "    self.train_df = train_df\n",
    "    self.val_df = val_df\n",
    "    self.npy_path = npy_path\n",
    "    self.window_size = window_size\n",
    "    self.overlap = overlap\n",
    "    self.sr = sr\n",
    "    self.n_mels = n_mels\n",
    "    self.n_mfcc = n_mfcc\n",
    "    self.n_chroma = n_chroma\n",
    "    self.n_cqt = n_cqt\n",
    "    self.hoplength = hoplength\n",
    "    \n",
    "     # confirm features have been specified\n",
    "    assert len(features) != 0, \"Must Specify At Least One Feature In The Form Of A List.\"\n",
    "    self.features = features\n",
    "\n",
    "    self.accepted_feature = ['mfcc', 'chroma', 'cqt', 'melspectrogram']\n",
    "    for feature in self.features:\n",
    "      assert feature in self.accepted_feature, f\"{feature} is not an accepted feature, only 'mfcc', 'chroma', 'cqt', 'melspectrogram' are accepted features.\"\n",
    "\n",
    "    self.normalize = normalize\n",
    "    self.avgpool = avgpool\n",
    "    self.augment = augment\n",
    "\n",
    "    print(f\"Train DataFrame shape: {train_df.shape}\")\n",
    "    print(f\"Validation DataFrame shape: {val_df.shape}\")\n",
    "\n",
    "    # extract train and val labels and features\n",
    "    self.train_y, self.train_features, self.train_ids = self.feature_extraction(self.train_df, window_size=self.window_size)\n",
    "    self.val_y, self.val_features, self.val_ids = self.feature_extraction(self.val_df, window_size=self.window_size, augment=False)\n",
    "\n",
    "    # process the features by average pooling\n",
    "    self.train_features_2D, self.val_features_2D, self.train_features_1D, self.val_features_1D = self.process_features(self.train_features, self.val_features)\n",
    "\n",
    "  def random_augmentation(self, audio):\n",
    "        \"\"\"\n",
    "        Apply random augmentation to the audio: pitch shift, time stretch, or add noise.\n",
    "        \"\"\"\n",
    "        aug_type = np.random.choice(['pitch_up', 'pitch_down', 'noise', 'stretch', 'shrink'])\n",
    "\n",
    "        if aug_type == 'pitch_up':\n",
    "            # Random pitch up (between 1 and 4 semitones)\n",
    "            pitch_shift = np.random.uniform(1, 4)\n",
    "            audio = librosa.effects.pitch_shift(audio, sr=self.sr, n_steps=pitch_shift)\n",
    "        elif aug_type == 'pitch_down':\n",
    "            # Random pitch down (between -1 and -4 semitones)\n",
    "            pitch_shift = np.random.uniform(-4, -1)\n",
    "            audio = librosa.effects.pitch_shift(audio, sr=self.sr, n_steps=pitch_shift)\n",
    "        elif aug_type == 'noise':\n",
    "            # Add random noise at a fraction of the original audio volume\n",
    "            noise = self.generate_pink_noise(len(audio))\n",
    "            audio = audio + 0.01 * np.random.uniform(0.2, 0.5) * np.max(audio) * noise\n",
    "        elif aug_type == 'stretch':\n",
    "            # Randomly stretch audio (speed up)\n",
    "            stretch_factor = np.random.uniform(1.1, 1.5)\n",
    "            audio = librosa.effects.time_stretch(audio, rate=stretch_factor)\n",
    "        elif aug_type == 'shrink':\n",
    "            # Randomly shrink audio (slow down)\n",
    "            stretch_factor = np.random.uniform(0.8, 0.9)\n",
    "            audio = librosa.effects.time_stretch(audio, rate=stretch_factor)\n",
    "\n",
    "        return audio\n",
    "\n",
    "  def normalize_audio(self, audio):\n",
    "    return (audio - np.min(audio)) / (np.max(audio) - np.min(audio))\n",
    "  \n",
    "  def generate_pink_noise(self, num_samples):\n",
    "    white_noise = np.random.randn(num_samples)\n",
    "    \n",
    "    # Apply a filter to convert white noise into pink noise (1/f noise)\n",
    "    X = np.fft.rfft(white_noise)\n",
    "    S = np.arange(1, len(X) + 1)  # Frequency scaling\n",
    "    pink_noise = np.fft.irfft(X / S)\n",
    "\n",
    "    if len(pink_noise) < num_samples:\n",
    "        # Pad with zeros if the length is less than num_samples\n",
    "        pink_noise = np.pad(pink_noise, (0, num_samples - len(pink_noise)), mode='constant')\n",
    "    elif len(pink_noise) > num_samples:\n",
    "        # Trim if necessary\n",
    "        pink_noise = pink_noise[:num_samples]\n",
    "    \n",
    "    return self.normalize_audio(pink_noise)\n",
    "  \n",
    "  def pad_with_noise(self, audio_data, window_length, window_samples):\n",
    "    current_length = librosa.get_duration(y=audio_data, sr=self.sr)\n",
    "\n",
    "    if current_length > window_length:\n",
    "        return audio_data\n",
    "    \n",
    "    target_length_samples = int(window_length * sr) \n",
    "    current_length_samples = window_samples\n",
    "    padding_length_samples = target_length_samples - current_length_samples\n",
    "\n",
    "    assert target_length_samples == (current_length_samples+padding_length_samples)\n",
    "    \n",
    "    # Generate pink noise to pad with\n",
    "    pink_noise = self.generate_pink_noise(padding_length_samples)\n",
    "    padded_audio = np.concatenate([audio_data, pink_noise])\n",
    "    # if len(padded_audio) < target_length_samples:\n",
    "    #     padded_audio = np.append(padded_audio, self.generate_pink_noise(1))\n",
    "\n",
    "    assert target_length_samples == len(padded_audio)\n",
    "    \n",
    "    return padded_audio\n",
    "  \n",
    "  def avg_pooling_keras(self, feature):\n",
    "    # Clear the previous Keras session\n",
    "    tf.keras.backend.clear_session()\n",
    "\n",
    "    # Define the input shape based on features\n",
    "    input_shape = feature.shape[1:]  # (n_mels, time_steps)\n",
    "\n",
    "    # Create the Keras model for average pooling\n",
    "    inputs = tf.keras.layers.Input(shape=input_shape)\n",
    "    pooled = tf.keras.layers.GlobalAveragePooling1D()(inputs)\n",
    "    pooling_model = tf.keras.models.Model(inputs=inputs, outputs=pooled)\n",
    "\n",
    "    # Perform pooling using the model\n",
    "    pooled_features = pooling_model.predict(feature)\n",
    "\n",
    "    return pooled_features\n",
    "\n",
    "#-------------------------Feature Extraction---------------------------------------\n",
    "  def extract_mfcc(self, window):\n",
    "    mfcc = librosa.feature.mfcc(y=window, sr=self.sr, n_mfcc=self.n_mfcc, hop_length=self.hoplength)\n",
    "    if self.normalize:\n",
    "      return librosa.util.normalize(mfcc)\n",
    "    else:\n",
    "      return mfcc\n",
    "\n",
    "\n",
    "  def extract_chroma(self, window):\n",
    "    chroma = librosa.feature.chroma_stft(y=window, sr=self.sr, n_chroma=self.n_chroma, hop_length=self.hoplength)\n",
    "    if self.normalize:\n",
    "      return librosa.util.normalize(chroma)\n",
    "    else:\n",
    "      return chroma\n",
    "   \n",
    "\n",
    "  def extract_cqt(self, window):\n",
    "    cqt = librosa.cqt(y=window, sr=sr, hop_length=self.hoplength, n_bins=self.n_cqt)\n",
    "    cqt_db = librosa.amplitude_to_db(np.abs(cqt), ref=np.max)\n",
    "    return cqt_db\n",
    "\n",
    "  def extract_melspectrogram(self, window):\n",
    "    mel = librosa.feature.melspectrogram(y=window, sr=self.sr, n_mels=self.n_mels, hop_length=self.hoplength)\n",
    "    mel_db = librosa.power_to_db(mel, ref=np.max)\n",
    "    if self.normalize:\n",
    "      return librosa.util.normalize(mel_db)\n",
    "    else:\n",
    "      return mel_db\n",
    "    \n",
    "  def avgpooling(self, train_X, val_X, n_time, n_features):\n",
    "    \"\"\"\n",
    "    Average pooling the train and val features.\n",
    "\n",
    "    Parameters:\n",
    "      train_X (npy): Training feature array of shape (batch_size, n_features, n_time)\n",
    "      val_X (npy): Validation feature array of shape (batch_size, n_features, n_time)\n",
    "      n_time (int): Time axis\n",
    "      n_features (int): Feature axis\n",
    "\n",
    "    Returns:\n",
    "      train_X (npy): Avgpooled training feature array of shape (batch_size, n_features)\n",
    "      val_X (npy): Avgpooled validation feature array of shape (batch_size, n_features)\n",
    "    \"\"\"\n",
    "    # Clear the Keras session\n",
    "    tf.keras.backend.clear_session()\n",
    "    \n",
    "    # Create the Keras input layer with shape (n_features, n_time)\n",
    "    input_layer = tf.keras.layers.Input(shape=(n_features, n_time))\n",
    "    \n",
    "    # Apply average pooling over the time axis (axis=-1) to reduce n_time\n",
    "    avg_pool = tf.keras.layers.Lambda(lambda x: tf.reduce_mean(x, axis=-1))(input_layer)\n",
    "    \n",
    "    # Build the model\n",
    "    pooling_model = tf.keras.models.Model(inputs=input_layer, outputs=avg_pool)\n",
    "\n",
    "    # Use the model to apply average pooling on the training and validation features\n",
    "    train_X = pooling_model.predict(train_X)\n",
    "    val_X = pooling_model.predict(val_X)\n",
    "\n",
    "    return train_X, val_X\n",
    "\n",
    "    \n",
    "  def process_features(self, train_features_dict, val_features_dict):\n",
    "    train_copy = train_features_dict.copy()\n",
    "    val_copy = val_features_dict.copy()\n",
    "    for each in train_copy.keys():\n",
    "      \n",
    "      if each == 'mfcc':\n",
    "        n_features=self.n_mfcc\n",
    "      elif each == 'chroma':\n",
    "        n_features=self.n_chroma\n",
    "      elif each == 'cqt':\n",
    "        n_features=self.n_cqt\n",
    "      elif each == 'melspectrogram':\n",
    "        n_features=self.n_mels\n",
    "      \n",
    "      train_feature = train_copy[each]\n",
    "      val_feature = val_copy[each]\n",
    "\n",
    "      if self.avgpool:\n",
    "        train_copy[each], val_copy[each] = self.avgpooling(train_feature, val_feature, n_time=train_feature.shape[2], n_features=n_features)\n",
    "      else:\n",
    "        train_copy[each], val_copy[each] = train_copy[each], val_copy[each]\n",
    "    \n",
    "    return train_features_dict, val_features_dict, train_copy, val_copy\n",
    "      \n",
    "\n",
    "  def feature_extraction(self, dataframe, window_size, augment=True):\n",
    "    y = [] # To hold the labels\n",
    "    ids = []\n",
    "    features_dict = {item: [] for item in self.features} # Create a key for each feature listed\n",
    "    print(f\"Number of rows in dataframe: {len(dataframe)}\")\n",
    "    for _, row in tqdm(dataframe.iterrows(), desc=\"Processing data\", total=len(dataframe)):\n",
    "          label = row['species']\n",
    "          file_path = os.path.join(self.npy_path, row['filename_npy'])\n",
    "          id = row['audio_name']\n",
    "          start = row['start']\n",
    "          end = row['end']\n",
    "\n",
    "          # print(f\"Processing file: {file_path}\")\n",
    "\n",
    "          try:\n",
    "            \n",
    "              audio = np.load(file_path)\n",
    "          except FileNotFoundError:\n",
    "              print(f\"File not found: {file_path}\")\n",
    "              continue\n",
    "\n",
    "\n",
    "          start = int(start * sr)\n",
    "          end = int(end * sr)+512\n",
    "\n",
    "\n",
    "\n",
    "          if end > len(audio):\n",
    "             end = len(audio)\n",
    "\n",
    "          sample = audio[start:end]\n",
    "\n",
    "          if len(sample) < 512:\n",
    "                continue\n",
    "\n",
    "          sample = self.normalize_audio(sample)\n",
    "          if augment:\n",
    "                sample = self.random_augmentation(sample)\n",
    "\n",
    "          sample = self.pad_with_noise(sample, window_length=self.window_size, window_samples=len(sample))\n",
    "          # print(len(sample))\n",
    "\n",
    "          window_samples = int(window_size * self.sr)\n",
    "          hop_samples = int(window_samples * (1 - self.overlap))  # For overlapping\n",
    "\n",
    "          # Break the audio into windows with the specified overlap\n",
    "          audio_windows = librosa.util.frame(sample, frame_length=window_samples, hop_length=hop_samples).T\n",
    "          \n",
    "          \n",
    "          # display(label)\n",
    "          \n",
    "          for _, window in enumerate(audio_windows):\n",
    "              \n",
    "              y.append(label)\n",
    "              ids.append(id)\n",
    "\n",
    "              if len(window) < window_samples:\n",
    "                  if len(window) < 512*2:\n",
    "                     continue\n",
    "                  else:\n",
    "                      window = self.pad_with_noise(window, window_length=window_size)\n",
    "              \n",
    "              # Feature Extraction FR --------------------------------------------------------------------\n",
    "              # dynatically call the extract_x function to extract the listed features\n",
    "              for feature in self.features:\n",
    "                extract = f\"extract_{feature}\"\n",
    "                if hasattr(self, extract) and callable(func := getattr(self, extract)):\n",
    "                  features_dict[feature].append(func(window))\n",
    "\n",
    "          # cast lists to np arrays\n",
    "    for each in features_dict.keys():\n",
    "              features_dict[each] = np.array(features_dict[each])\n",
    "\n",
    "    y = np.array(y)\n",
    "    ids = np.array(ids)\n",
    "\n",
    "          # If not using average pooling, return resized features\n",
    "    return y, features_dict, ids"
   ]
  },
  {
   "cell_type": "markdown",
   "metadata": {},
   "source": [
    "# **Trying to balance the training set**"
   ]
  },
  {
   "cell_type": "code",
   "execution_count": 6,
   "metadata": {},
   "outputs": [
    {
     "name": "stdout",
     "output_type": "stream",
     "text": [
      "species\n",
      "Dendrocopos minor            324\n",
      "Ixobrychus minutus           319\n",
      "Alcedo atthis                293\n",
      "Acrocephalus arundinaceus    263\n",
      "Motacilla flava              257\n",
      "Botaurus stellaris           237\n",
      "Fulica atra                  230\n",
      "Coracias garrulus            226\n",
      "Acrocephalus scirpaceus      226\n",
      "Tachybaptus ruficollis       226\n",
      "Anas strepera                226\n",
      "Ciconia ciconia              226\n",
      "Himantopus himantopus        226\n",
      "Acrocephalus melanopogon     226\n",
      "Ardea purpurea               226\n",
      "Porphyrio porphyrio          226\n",
      "Circus aeruginosus           226\n",
      "Gallinula chloropus          226\n",
      "Charadrius alexandrinus      226\n",
      "Anas platyrhynchos           226\n",
      "Name: count, dtype: int64\n"
     ]
    }
   ],
   "source": [
    "# Step 1: Identify the majority class count\n",
    "species_counts = train_data['species'].value_counts()\n",
    "majority_class_count = species_counts.max()\n",
    "\n",
    "# Step 2: Define the target for oversampling (0.7 times the majority class count)\n",
    "target_count = int(majority_class_count * 0.7)\n",
    "\n",
    "# Step 3: Separate majority and minority classes\n",
    "df_majority = train_data[train_data['species'].map(species_counts) == majority_class_count]\n",
    "\n",
    "# Step 4: Oversample the minority classes to the target count\n",
    "oversampled_data = pd.DataFrame()\n",
    "\n",
    "for species, count in species_counts.items():\n",
    "    species_df = train_data[train_data['species'] == species]\n",
    "    if count < target_count:\n",
    "        species_upsampled = resample(species_df, \n",
    "                                     replace=True,     # Allow oversampling\n",
    "                                     n_samples=target_count,  # Target count for each class\n",
    "                                     random_state=42)  # For reproducibility\n",
    "        oversampled_data = pd.concat([oversampled_data, species_upsampled])\n",
    "    else:\n",
    "        oversampled_data = pd.concat([oversampled_data, species_df])\n",
    "\n",
    "# Combine with majority class data\n",
    "train_data_balanced = pd.concat([oversampled_data])\n",
    "\n",
    "# Check the new class distribution\n",
    "print(train_data_balanced['species'].value_counts())"
   ]
  },
  {
   "cell_type": "markdown",
   "metadata": {},
   "source": [
    "## **Window Size = 3s**"
   ]
  },
  {
   "cell_type": "code",
   "execution_count": 7,
   "metadata": {},
   "outputs": [],
   "source": [
    "features_list = ['melspectrogram', 'mfcc', 'chroma', 'cqt']"
   ]
  },
  {
   "cell_type": "code",
   "execution_count": 8,
   "metadata": {},
   "outputs": [
    {
     "name": "stdout",
     "output_type": "stream",
     "text": [
      "Train DataFrame shape: (4861, 9)\n",
      "Validation DataFrame shape: (834, 9)\n",
      "Number of rows in dataframe: 4861\n"
     ]
    },
    {
     "name": "stderr",
     "output_type": "stream",
     "text": [
      "Processing data:   0%|          | 0/4861 [00:00<?, ?it/s]c:\\Users\\thato\\AppData\\Local\\Programs\\Python\\Python312\\Lib\\site-packages\\librosa\\core\\pitch.py:101: UserWarning: Trying to estimate tuning from empty frequency set.\n",
      "  return pitch_tuning(\n",
      "Processing data:  19%|█▉        | 923/4861 [01:16<05:45, 11.40it/s]c:\\Users\\thato\\AppData\\Local\\Programs\\Python\\Python312\\Lib\\site-packages\\librosa\\core\\spectrum.py:266: UserWarning: n_fft=2048 is too large for input signal of length=1959\n",
      "  warnings.warn(\n",
      "Processing data:  43%|████▎     | 2071/4861 [03:15<05:51,  7.95it/s]c:\\Users\\thato\\AppData\\Local\\Programs\\Python\\Python312\\Lib\\site-packages\\librosa\\core\\spectrum.py:266: UserWarning: n_fft=2048 is too large for input signal of length=1927\n",
      "  warnings.warn(\n",
      "Processing data:  47%|████▋     | 2288/4861 [03:42<05:05,  8.43it/s]c:\\Users\\thato\\AppData\\Local\\Programs\\Python\\Python312\\Lib\\site-packages\\librosa\\core\\spectrum.py:266: UserWarning: n_fft=2048 is too large for input signal of length=1986\n",
      "  warnings.warn(\n",
      "Processing data: 100%|██████████| 4861/4861 [17:34<00:00,  4.61it/s]\n"
     ]
    },
    {
     "name": "stdout",
     "output_type": "stream",
     "text": [
      "Number of rows in dataframe: 834\n"
     ]
    },
    {
     "name": "stderr",
     "output_type": "stream",
     "text": [
      "Processing data: 100%|██████████| 834/834 [01:30<00:00,  9.17it/s]\n"
     ]
    },
    {
     "name": "stdout",
     "output_type": "stream",
     "text": [
      "WARNING:tensorflow:From c:\\Users\\thato\\AppData\\Local\\Programs\\Python\\Python312\\Lib\\site-packages\\keras\\src\\backend\\common\\global_state.py:82: The name tf.reset_default_graph is deprecated. Please use tf.compat.v1.reset_default_graph instead.\n",
      "\n",
      "\u001b[1m288/288\u001b[0m \u001b[32m━━━━━━━━━━━━━━━━━━━━\u001b[0m\u001b[37m\u001b[0m \u001b[1m1s\u001b[0m 1ms/step\n",
      "\u001b[1m43/43\u001b[0m \u001b[32m━━━━━━━━━━━━━━━━━━━━\u001b[0m\u001b[37m\u001b[0m \u001b[1m0s\u001b[0m 1ms/step \n",
      "\u001b[1m288/288\u001b[0m \u001b[32m━━━━━━━━━━━━━━━━━━━━\u001b[0m\u001b[37m\u001b[0m \u001b[1m0s\u001b[0m 486us/step\n",
      "\u001b[1m43/43\u001b[0m \u001b[32m━━━━━━━━━━━━━━━━━━━━\u001b[0m\u001b[37m\u001b[0m \u001b[1m0s\u001b[0m 466us/step\n",
      "\u001b[1m288/288\u001b[0m \u001b[32m━━━━━━━━━━━━━━━━━━━━\u001b[0m\u001b[37m\u001b[0m \u001b[1m0s\u001b[0m 442us/step\n",
      "\u001b[1m43/43\u001b[0m \u001b[32m━━━━━━━━━━━━━━━━━━━━\u001b[0m\u001b[37m\u001b[0m \u001b[1m0s\u001b[0m 439us/step\n",
      "\u001b[1m288/288\u001b[0m \u001b[32m━━━━━━━━━━━━━━━━━━━━\u001b[0m\u001b[37m\u001b[0m \u001b[1m0s\u001b[0m 1ms/step  \n",
      "\u001b[1m43/43\u001b[0m \u001b[32m━━━━━━━━━━━━━━━━━━━━\u001b[0m\u001b[37m\u001b[0m \u001b[1m0s\u001b[0m 936us/step\n"
     ]
    }
   ],
   "source": [
    "features = Extraction(train_data_balanced,\n",
    "                      val_data,\n",
    "                      window_size=3,\n",
    "                      features=features_list,\n",
    "                      avgpool=True\n",
    "                      )"
   ]
  },
  {
   "cell_type": "code",
   "execution_count": 9,
   "metadata": {},
   "outputs": [
    {
     "data": {
      "text/plain": [
       "(9197,)"
      ]
     },
     "metadata": {},
     "output_type": "display_data"
    },
    {
     "data": {
      "text/plain": [
       "(1350,)"
      ]
     },
     "metadata": {},
     "output_type": "display_data"
    }
   ],
   "source": [
    "train_y = features.train_y\n",
    "val_y = features.val_y\n",
    "\n",
    "display(train_y.shape)\n",
    "display(val_y.shape)"
   ]
  },
  {
   "cell_type": "code",
   "execution_count": 10,
   "metadata": {},
   "outputs": [
    {
     "data": {
      "text/plain": [
       "'melspectrogram'"
      ]
     },
     "metadata": {},
     "output_type": "display_data"
    },
    {
     "data": {
      "text/plain": [
       "(9197, 128)"
      ]
     },
     "metadata": {},
     "output_type": "display_data"
    },
    {
     "data": {
      "text/plain": [
       "'mfcc'"
      ]
     },
     "metadata": {},
     "output_type": "display_data"
    },
    {
     "data": {
      "text/plain": [
       "(9197, 20)"
      ]
     },
     "metadata": {},
     "output_type": "display_data"
    },
    {
     "data": {
      "text/plain": [
       "'chroma'"
      ]
     },
     "metadata": {},
     "output_type": "display_data"
    },
    {
     "data": {
      "text/plain": [
       "(9197, 12)"
      ]
     },
     "metadata": {},
     "output_type": "display_data"
    },
    {
     "data": {
      "text/plain": [
       "'cqt'"
      ]
     },
     "metadata": {},
     "output_type": "display_data"
    },
    {
     "data": {
      "text/plain": [
       "(9197, 84)"
      ]
     },
     "metadata": {},
     "output_type": "display_data"
    }
   ],
   "source": [
    "# Avgpooled Features\n",
    "train_features_1D = features.train_features_1D\n",
    "for key in train_features_1D.keys():\n",
    "  display(key)\n",
    "  display(train_features_1D[key].shape)"
   ]
  },
  {
   "cell_type": "code",
   "execution_count": 11,
   "metadata": {},
   "outputs": [
    {
     "data": {
      "text/plain": [
       "'melspectrogram'"
      ]
     },
     "metadata": {},
     "output_type": "display_data"
    },
    {
     "data": {
      "text/plain": [
       "(1350, 128)"
      ]
     },
     "metadata": {},
     "output_type": "display_data"
    },
    {
     "data": {
      "text/plain": [
       "'mfcc'"
      ]
     },
     "metadata": {},
     "output_type": "display_data"
    },
    {
     "data": {
      "text/plain": [
       "(1350, 20)"
      ]
     },
     "metadata": {},
     "output_type": "display_data"
    },
    {
     "data": {
      "text/plain": [
       "'chroma'"
      ]
     },
     "metadata": {},
     "output_type": "display_data"
    },
    {
     "data": {
      "text/plain": [
       "(1350, 12)"
      ]
     },
     "metadata": {},
     "output_type": "display_data"
    },
    {
     "data": {
      "text/plain": [
       "'cqt'"
      ]
     },
     "metadata": {},
     "output_type": "display_data"
    },
    {
     "data": {
      "text/plain": [
       "(1350, 84)"
      ]
     },
     "metadata": {},
     "output_type": "display_data"
    }
   ],
   "source": [
    "# Avgpooled Features\n",
    "val_features_1D = features.val_features_1D\n",
    "for key in val_features_1D.keys():\n",
    "  display(key)\n",
    "  display(val_features_1D[key].shape)"
   ]
  },
  {
   "cell_type": "code",
   "execution_count": 12,
   "metadata": {},
   "outputs": [
    {
     "data": {
      "text/plain": [
       "'melspectrogram'"
      ]
     },
     "metadata": {},
     "output_type": "display_data"
    },
    {
     "data": {
      "text/plain": [
       "(9197, 128, 259)"
      ]
     },
     "metadata": {},
     "output_type": "display_data"
    },
    {
     "data": {
      "text/plain": [
       "'mfcc'"
      ]
     },
     "metadata": {},
     "output_type": "display_data"
    },
    {
     "data": {
      "text/plain": [
       "(9197, 20, 259)"
      ]
     },
     "metadata": {},
     "output_type": "display_data"
    },
    {
     "data": {
      "text/plain": [
       "'chroma'"
      ]
     },
     "metadata": {},
     "output_type": "display_data"
    },
    {
     "data": {
      "text/plain": [
       "(9197, 12, 259)"
      ]
     },
     "metadata": {},
     "output_type": "display_data"
    },
    {
     "data": {
      "text/plain": [
       "'cqt'"
      ]
     },
     "metadata": {},
     "output_type": "display_data"
    },
    {
     "data": {
      "text/plain": [
       "(9197, 84, 259)"
      ]
     },
     "metadata": {},
     "output_type": "display_data"
    }
   ],
   "source": [
    "# Not avgpooled Features\n",
    "train_features_2D = features.train_features_2D\n",
    "for key in train_features_2D.keys():\n",
    "  display(key)\n",
    "  display(train_features_2D[key].shape)"
   ]
  },
  {
   "cell_type": "code",
   "execution_count": 13,
   "metadata": {},
   "outputs": [
    {
     "data": {
      "text/plain": [
       "'melspectrogram'"
      ]
     },
     "metadata": {},
     "output_type": "display_data"
    },
    {
     "data": {
      "text/plain": [
       "(1350, 128, 259)"
      ]
     },
     "metadata": {},
     "output_type": "display_data"
    },
    {
     "data": {
      "text/plain": [
       "'mfcc'"
      ]
     },
     "metadata": {},
     "output_type": "display_data"
    },
    {
     "data": {
      "text/plain": [
       "(1350, 20, 259)"
      ]
     },
     "metadata": {},
     "output_type": "display_data"
    },
    {
     "data": {
      "text/plain": [
       "'chroma'"
      ]
     },
     "metadata": {},
     "output_type": "display_data"
    },
    {
     "data": {
      "text/plain": [
       "(1350, 12, 259)"
      ]
     },
     "metadata": {},
     "output_type": "display_data"
    },
    {
     "data": {
      "text/plain": [
       "'cqt'"
      ]
     },
     "metadata": {},
     "output_type": "display_data"
    },
    {
     "data": {
      "text/plain": [
       "(1350, 84, 259)"
      ]
     },
     "metadata": {},
     "output_type": "display_data"
    }
   ],
   "source": [
    "# Not avgpooled Features\n",
    "val_features_2D = features.val_features_2D\n",
    "for key in val_features_2D.keys():\n",
    "  display(key)\n",
    "  display(val_features_2D[key].shape)"
   ]
  },
  {
   "cell_type": "code",
   "execution_count": 14,
   "metadata": {},
   "outputs": [],
   "source": [
    "train_ids = features.train_ids\n",
    "val_ids = features.val_ids"
   ]
  },
  {
   "cell_type": "markdown",
   "metadata": {},
   "source": [
    "### Encode Classes"
   ]
  },
  {
   "cell_type": "code",
   "execution_count": 15,
   "metadata": {},
   "outputs": [
    {
     "name": "stdout",
     "output_type": "stream",
     "text": [
      "Encoded classes for [0, 1, 2]: ['Acrocephalus arundinaceus', 'Acrocephalus melanopogon', 'Acrocephalus scirpaceus']\n",
      "Encoded training labels: [12 12 12 ...  4  4  4]\n",
      "Encoded validation labels: [14 14 14 ...  4  4  4]\n"
     ]
    }
   ],
   "source": [
    "label_encoder = LabelEncoder().fit(train_y)\n",
    "train_y_encoded = label_encoder.transform(train_y)\n",
    "val_y_encoded = label_encoder.transform(val_y)\n",
    "\n",
    "classes = list(label_encoder.inverse_transform([0, 1, 2]))\n",
    "print(\"Encoded classes for [0, 1, 2]:\", classes)\n",
    "print(\"Encoded training labels:\", train_y_encoded)\n",
    "print(\"Encoded validation labels:\", val_y_encoded)"
   ]
  },
  {
   "cell_type": "code",
   "execution_count": 16,
   "metadata": {},
   "outputs": [],
   "source": [
    "# Avg Pooled\n",
    "\n",
    "train_features_1D['label'] = train_y_encoded\n",
    "val_features_1D['label'] = val_y_encoded\n",
    "\n",
    "train_features_1D['id'] = train_ids\n",
    "val_features_1D['id'] = val_ids\n",
    "\n",
    "# Not Avg Pooled\n",
    "\n",
    "train_features_2D['label'] = train_y_encoded\n",
    "val_features_2D['label'] = val_y_encoded\n",
    "\n",
    "train_features_2D['id'] = train_ids\n",
    "val_features_2D['id'] = val_ids"
   ]
  },
  {
   "cell_type": "code",
   "execution_count": 17,
   "metadata": {},
   "outputs": [
    {
     "data": {
      "text/plain": [
       "{'train': {'melspectrogram': array([[-0.08778238, -0.42542818, -0.45237106, ..., -0.9883016 ,\n",
       "          -0.99088913, -0.9917844 ],\n",
       "         [-0.08818693, -0.4527624 , -0.48460808, ..., -0.9879749 ,\n",
       "          -0.9912214 , -0.99346757],\n",
       "         [-0.06666847, -0.4327347 , -0.45371366, ..., -0.98730004,\n",
       "          -0.9916132 , -0.9961998 ],\n",
       "         ...,\n",
       "         [-0.01765106, -0.9769646 , -0.97906095, ..., -0.86725354,\n",
       "          -0.8884754 , -0.9976066 ],\n",
       "         [-0.01777176, -0.7929504 , -0.7817982 , ..., -0.98777676,\n",
       "          -0.9978452 , -1.        ],\n",
       "         [-0.03171015, -0.9459309 , -0.8921383 , ..., -0.9837095 ,\n",
       "          -0.9915168 , -0.9999268 ]], dtype=float32),\n",
       "  'mfcc': array([[-0.9975469 ,  0.5757494 , -0.13481264, ...,  0.03258222,\n",
       "           0.01895186,  0.02151072],\n",
       "         [-0.99573815,  0.5883738 , -0.2239488 , ...,  0.03442121,\n",
       "           0.02149916,  0.03377577],\n",
       "         [-0.9786744 ,  0.7425647 , -0.30753863, ...,  0.03714854,\n",
       "           0.02035247,  0.02320485],\n",
       "         ...,\n",
       "         [-0.99990857,  0.20879869, -0.32062474, ...,  0.04008904,\n",
       "           0.01760379,  0.046748  ],\n",
       "         [-0.99684715,  0.2375039 , -0.287915  , ...,  0.02319987,\n",
       "           0.01774615,  0.04711789],\n",
       "         [-1.        ,  0.12325118, -0.2297887 , ...,  0.03825118,\n",
       "           0.05043153,  0.0370025 ]], dtype=float32),\n",
       "  'chroma': array([[0.87184685, 0.7516057 , 0.80790395, ..., 0.63995904, 0.66279036,\n",
       "          0.67392   ],\n",
       "         [0.68856746, 0.8771596 , 0.8853689 , ..., 0.5832576 , 0.557402  ,\n",
       "          0.6183345 ],\n",
       "         [0.90636724, 0.6765755 , 0.7316615 , ..., 0.574898  , 0.6444524 ,\n",
       "          0.6391934 ],\n",
       "         ...,\n",
       "         [0.761904  , 0.804265  , 0.8397299 , ..., 0.7578583 , 0.7091568 ,\n",
       "          0.6983173 ],\n",
       "         [0.7874651 , 0.780069  , 0.7393448 , ..., 0.8536531 , 0.7786835 ,\n",
       "          0.7066715 ],\n",
       "         [0.812806  , 0.9062658 , 0.86862266, ..., 0.68802476, 0.63845325,\n",
       "          0.6256744 ]], dtype=float32),\n",
       "  'cqt': array([[-15.312243, -18.01874 , -17.474686, ..., -48.200493, -48.4746  ,\n",
       "          -48.94926 ],\n",
       "         [-23.222773, -23.541252, -23.4059  , ..., -52.429813, -53.51776 ,\n",
       "          -54.445152],\n",
       "         [-17.754786, -18.340878, -19.66245 , ..., -46.49086 , -47.69936 ,\n",
       "          -48.638107],\n",
       "         ...,\n",
       "         [-66.1416  , -66.775246, -66.90125 , ..., -49.75864 , -52.220528,\n",
       "          -53.886276],\n",
       "         [-47.081093, -46.661476, -48.524323, ..., -55.01477 , -59.399834,\n",
       "          -59.25022 ],\n",
       "         [-58.036755, -58.987347, -58.21432 , ..., -55.085728, -55.870945,\n",
       "          -58.33026 ]], dtype=float32),\n",
       "  'label': array([12, 12, 12, ...,  4,  4,  4]),\n",
       "  'id': array(['XC236456.mp3', 'XC236456.mp3', 'XC236456.mp3', ...,\n",
       "         'XC348396.mp3', 'XC196991.mp3', 'XC196991.mp3'], dtype='<U12')},\n",
       " 'val': {'melspectrogram': array([[-0.0806358 , -0.37552848, -0.43324372, ..., -0.96588415,\n",
       "          -0.97044414, -0.9865678 ],\n",
       "         [-0.05890397, -0.40336198, -0.45907786, ..., -0.97432065,\n",
       "          -0.980271  , -0.98935807],\n",
       "         [-0.05254215, -0.39758354, -0.45495692, ..., -0.9732132 ,\n",
       "          -0.9766845 , -0.98626375],\n",
       "         ...,\n",
       "         [-0.05707096, -0.3468635 , -0.41959167, ..., -0.87230897,\n",
       "          -0.8986535 , -0.9992664 ],\n",
       "         [-0.01739925, -0.22140917, -0.2751635 , ..., -0.8166208 ,\n",
       "          -0.8508779 , -0.9999578 ],\n",
       "         [-0.03683949, -0.2650059 , -0.32295132, ..., -0.84981304,\n",
       "          -0.87835675, -0.99855316]], dtype=float32),\n",
       "  'mfcc': array([[-0.99811405,  0.47875777,  0.04949142, ...,  0.02663393,\n",
       "           0.02548754,  0.00986996],\n",
       "         [-0.9972205 ,  0.39541098,  0.05562288, ...,  0.02161534,\n",
       "           0.02399812,  0.0117452 ],\n",
       "         [-0.9963161 ,  0.4066379 ,  0.05202716, ...,  0.02564094,\n",
       "           0.02688964,  0.01189604],\n",
       "         ...,\n",
       "         [-0.9993993 ,  0.49107578, -0.00304913, ...,  0.07074362,\n",
       "           0.02300931,  0.04303064],\n",
       "         [-0.99728924,  0.6323807 , -0.07991379, ...,  0.03809247,\n",
       "          -0.00320488,  0.04974035],\n",
       "         [-0.9915206 ,  0.5488334 , -0.05207566, ...,  0.04089627,\n",
       "           0.00550454,  0.01689702]], dtype=float32),\n",
       "  'chroma': array([[0.76361316, 0.80501544, 0.8565721 , ..., 0.8250183 , 0.76773953,\n",
       "          0.71664155],\n",
       "         [0.7947206 , 0.86155254, 0.91981983, ..., 0.8438479 , 0.77328736,\n",
       "          0.7251114 ],\n",
       "         [0.7957872 , 0.85898584, 0.91952723, ..., 0.847612  , 0.7773492 ,\n",
       "          0.7298687 ],\n",
       "         ...,\n",
       "         [0.6203407 , 0.6283597 , 0.6791077 , ..., 0.7067577 , 0.65839267,\n",
       "          0.612537  ],\n",
       "         [0.6701216 , 0.750219  , 0.62284327, ..., 0.7508035 , 0.73229885,\n",
       "          0.62431306],\n",
       "         [0.81327444, 0.8117917 , 0.8203043 , ..., 0.71392673, 0.71518916,\n",
       "          0.75946987]], dtype=float32),\n",
       "  'cqt': array([[-10.111274,  -9.371502, -10.10206 , ..., -48.16892 , -48.309364,\n",
       "          -49.324158],\n",
       "         [ -9.646272, -11.039111, -12.125656, ..., -52.582832, -52.954914,\n",
       "          -53.2905  ],\n",
       "         [-12.475959, -12.100569, -11.658258, ..., -51.666737, -52.514385,\n",
       "          -53.434742],\n",
       "         ...,\n",
       "         [-18.011625, -17.099947, -17.993172, ..., -46.836227, -46.944965,\n",
       "          -46.717632],\n",
       "         [-18.796904, -20.99182 , -18.07979 , ..., -44.77531 , -44.677525,\n",
       "          -44.461674],\n",
       "         [-14.87527 , -15.127611, -15.193157, ..., -55.712303, -55.030098,\n",
       "          -54.771317]], dtype=float32),\n",
       "  'label': array([14, 14, 14, ...,  4,  4,  4]),\n",
       "  'id': array(['XC466994.mp3', 'XC466994.mp3', 'XC466994.mp3', ...,\n",
       "         'XC207216.mp3', 'XC207216.mp3', 'XC207216.mp3'], dtype='<U12')}}"
      ]
     },
     "execution_count": 17,
     "metadata": {},
     "output_type": "execute_result"
    }
   ],
   "source": [
    "merged_dict_1D = {'train': train_features_1D, 'val': val_features_1D}\n",
    "merged_dict_1D"
   ]
  },
  {
   "cell_type": "code",
   "execution_count": 18,
   "metadata": {},
   "outputs": [
    {
     "data": {
      "text/plain": [
       "{'train': {'melspectrogram': array([[[-0.085169  , -0.06403001, -0.06252546, ..., -0.18273787,\n",
       "           -0.18892042, -0.20181585],\n",
       "          [-0.25508188, -0.27114728, -0.32115506, ..., -0.38445121,\n",
       "           -0.39873584, -0.3933129 ],\n",
       "          [-0.32371444, -0.33958841, -0.38829561, ..., -0.45105063,\n",
       "           -0.444728  , -0.43501664],\n",
       "          ...,\n",
       "          [-0.9979125 , -0.99782803, -0.99764849, ..., -0.99674981,\n",
       "           -1.        , -0.99783832],\n",
       "          [-0.99790549, -0.99786567, -0.99781859, ..., -0.99581807,\n",
       "           -0.99702104, -0.99504838],\n",
       "          [-1.        , -1.        , -1.        , ..., -1.        ,\n",
       "           -0.99911522, -0.99625083]],\n",
       "  \n",
       "         [[-0.07655078, -0.05783229, -0.05719943, ..., -0.06720283,\n",
       "           -0.05434324, -0.06117152],\n",
       "          [-0.22979912, -0.2450997 , -0.29211519, ..., -0.29226506,\n",
       "           -0.26610162, -0.24624838],\n",
       "          [-0.28998886, -0.30498022, -0.35125536, ..., -0.38577562,\n",
       "           -0.34912624, -0.32429723],\n",
       "          ...,\n",
       "          [-0.92192602, -0.92284397, -0.92673158, ..., -0.99078406,\n",
       "           -0.9917205 , -0.99207791],\n",
       "          [-0.93518005, -0.93547153, -0.93805554, ..., -1.        ,\n",
       "           -1.        , -1.        ],\n",
       "          [-1.        , -1.        , -1.        , ..., -0.98966954,\n",
       "           -0.99144873, -0.9922848 ]],\n",
       "  \n",
       "         [[-0.06649296, -0.0492879 , -0.05307363, ..., -0.02284564,\n",
       "           -0.00498904, -0.01072901],\n",
       "          [-0.22687837, -0.2433147 , -0.29483896, ..., -0.31379468,\n",
       "           -0.2437902 , -0.20595458],\n",
       "          [-0.29222851, -0.30645473, -0.35253962, ..., -0.33582919,\n",
       "           -0.27817246, -0.25177326],\n",
       "          ...,\n",
       "          [-0.99670051, -0.99655048, -0.9959133 , ..., -0.98630493,\n",
       "           -1.        , -1.        ],\n",
       "          [-0.99848783, -0.99843257, -0.99823217, ..., -0.99078701,\n",
       "           -0.99746127, -0.99537557],\n",
       "          [-1.        , -1.        , -1.        , ..., -0.98499356,\n",
       "           -0.99240149, -0.99285741]],\n",
       "  \n",
       "         ...,\n",
       "  \n",
       "         [[-0.01732242,  0.        , -0.00812245, ..., -0.0134274 ,\n",
       "           -0.00188914, -0.0067618 ],\n",
       "          [-0.19359027, -0.2120474 , -0.26933786, ..., -0.3032845 ,\n",
       "           -0.22683673, -0.19356354],\n",
       "          [-0.26797563, -0.28629044, -0.34220347, ..., -0.3704761 ,\n",
       "           -0.2992605 , -0.26755983],\n",
       "          ...,\n",
       "          [-0.99447328, -0.99292153, -0.98714346, ..., -0.97780603,\n",
       "           -0.98604208, -0.98800373],\n",
       "          [-0.99887383, -0.99841291, -0.99619222, ..., -0.98334324,\n",
       "           -0.9883911 , -0.98929089],\n",
       "          [-1.        , -1.        , -1.        , ..., -1.        ,\n",
       "           -1.        , -1.        ]],\n",
       "  \n",
       "         [[-0.01734276,  0.        , -0.00812186, ..., -0.01351123,\n",
       "           -0.00158242, -0.00653056],\n",
       "          [-0.19368864, -0.21208936, -0.26920727, ..., -0.31086012,\n",
       "           -0.23403028, -0.20015767],\n",
       "          [-0.26825062, -0.28662283, -0.34251692, ..., -0.38236714,\n",
       "           -0.30937574, -0.27648425],\n",
       "          ...,\n",
       "          [-0.99913023, -0.99914707, -0.99918563, ..., -0.99856624,\n",
       "           -0.99871956, -0.99875958],\n",
       "          [-0.99954101, -0.99954387, -0.9995572 , ..., -0.99926913,\n",
       "           -0.99926347, -0.99925518],\n",
       "          [-1.        , -1.        , -1.        , ..., -1.        ,\n",
       "           -1.        , -1.        ]],\n",
       "  \n",
       "         [[-0.01776153,  0.        , -0.00434016, ..., -0.03059632,\n",
       "           -0.02105511, -0.02682533],\n",
       "          [-0.17565893, -0.19309789, -0.24577917, ..., -0.31851837,\n",
       "           -0.24533439, -0.21328445],\n",
       "          [-0.23597939, -0.2520262 , -0.30222818, ..., -0.38685477,\n",
       "           -0.31735995, -0.28628352],\n",
       "          ...,\n",
       "          [-0.90419441, -0.90565926, -0.91125685, ..., -0.9988991 ,\n",
       "           -0.99880481, -0.99875933],\n",
       "          [-0.92277539, -0.92350215, -0.92743951, ..., -0.99950987,\n",
       "           -0.99947327, -0.99945295],\n",
       "          [-1.        , -1.        , -1.        , ..., -1.        ,\n",
       "           -1.        , -1.        ]]]),\n",
       "  'mfcc': array([[[-6.97462453e-01, -7.36611779e-01, -9.30577182e-01, ...,\n",
       "           -1.00000000e+00, -1.00000000e+00, -1.00000000e+00],\n",
       "          [ 1.00000000e+00,  1.00000000e+00,  1.00000000e+00, ...,\n",
       "            4.17989581e-01,  4.44104301e-01,  4.66983935e-01],\n",
       "          [ 2.48229627e-02, -4.98760584e-02, -2.05551625e-01, ...,\n",
       "            1.00871292e-01,  1.51709157e-01,  1.78630255e-01],\n",
       "          ...,\n",
       "          [ 4.67962426e-02,  5.49332617e-02,  6.67392317e-02, ...,\n",
       "            2.12941953e-02,  1.20156920e-02,  8.03901343e-03],\n",
       "          [-2.71932753e-03, -2.16670613e-02, -3.02607357e-02, ...,\n",
       "            1.72951109e-02,  1.33443338e-02,  1.45493849e-02],\n",
       "          [ 1.06117562e-02,  4.49312895e-03,  7.36125128e-04, ...,\n",
       "            2.72523991e-02,  2.32806503e-02,  2.25481737e-02]],\n",
       "  \n",
       "         [[-6.07086308e-01, -5.94278554e-01, -7.90043533e-01, ...,\n",
       "           -1.00000000e+00, -1.00000000e+00, -9.04778237e-01],\n",
       "          [ 1.00000000e+00,  1.00000000e+00,  1.00000000e+00, ...,\n",
       "            6.07137558e-01,  8.77651993e-01,  1.00000000e+00],\n",
       "          [-1.64839994e-01, -2.74719255e-01, -4.12531263e-01, ...,\n",
       "            1.32471611e-01,  1.91389242e-01,  2.16321360e-01],\n",
       "          ...,\n",
       "          [ 4.72431170e-02,  5.47455912e-02,  6.00432797e-02, ...,\n",
       "            1.77723348e-02,  1.98978084e-02,  1.99180179e-02],\n",
       "          [ 1.42911463e-02,  2.04458440e-02,  2.58565634e-02, ...,\n",
       "            2.22288039e-02,  2.56694572e-02,  2.61396156e-02],\n",
       "          [ 3.31490097e-02,  3.77154453e-02,  5.04120443e-02, ...,\n",
       "            2.26567078e-02,  2.52981345e-02,  2.57784801e-02]],\n",
       "  \n",
       "         [[-7.35663287e-01, -6.78720078e-01, -7.61742815e-01, ...,\n",
       "           -1.00000000e+00, -9.48943156e-01, -7.49168508e-01],\n",
       "          [ 1.00000000e+00,  1.00000000e+00,  1.00000000e+00, ...,\n",
       "            7.10764090e-01,  1.00000000e+00,  1.00000000e+00],\n",
       "          [ 4.92456608e-02, -1.02848556e-01, -3.24301244e-01, ...,\n",
       "            6.58167984e-02,  6.24359549e-02,  5.18761733e-02],\n",
       "          ...,\n",
       "          [ 3.68180333e-02,  2.40005703e-02,  2.08797851e-02, ...,\n",
       "            2.62608999e-02,  3.53063756e-02,  3.39970330e-02],\n",
       "          [ 1.41322898e-02,  2.44729715e-02,  3.17541787e-02, ...,\n",
       "            3.58638750e-02,  3.06306221e-02,  2.36582423e-02],\n",
       "          [-5.56475592e-03,  1.43167890e-02,  2.51001837e-02, ...,\n",
       "            2.11575011e-02,  1.75430352e-02,  1.39938408e-02]],\n",
       "  \n",
       "         ...,\n",
       "  \n",
       "         [[-9.76324856e-01, -1.00000000e+00, -1.00000000e+00, ...,\n",
       "           -1.00000000e+00, -1.00000000e+00, -1.00000000e+00],\n",
       "          [ 1.00000000e+00,  9.61860120e-01,  7.48126864e-01, ...,\n",
       "            6.06946707e-01,  7.83991814e-01,  9.17229533e-01],\n",
       "          [ 8.00366327e-02,  5.97680500e-03, -1.07083187e-01, ...,\n",
       "            4.82977815e-02,  1.21545978e-01,  1.65316343e-01],\n",
       "          ...,\n",
       "          [ 4.45353948e-02,  4.33000401e-02,  2.26358492e-02, ...,\n",
       "            4.16587368e-02,  4.25353274e-02,  4.10227478e-02],\n",
       "          [ 3.55482325e-02,  3.15123536e-02,  1.38616990e-02, ...,\n",
       "            1.95035599e-02,  3.21761705e-02,  3.76285240e-02],\n",
       "          [ 1.58775076e-02,  1.73896123e-02,  2.75970753e-02, ...,\n",
       "            1.73046254e-02,  2.58736927e-02,  3.40519622e-02]],\n",
       "  \n",
       "         [[-1.00000000e+00, -1.00000000e+00, -1.00000000e+00, ...,\n",
       "           -1.00000000e+00, -8.42179992e-01, -6.94088079e-01],\n",
       "          [ 9.93062373e-01,  8.71611427e-01,  6.15608452e-01, ...,\n",
       "            8.01964909e-01,  1.00000000e+00,  1.00000000e+00],\n",
       "          [ 2.02638835e-01,  1.79735853e-01,  1.29191783e-01, ...,\n",
       "           -2.92693610e-01, -2.25494665e-01, -1.36130825e-01],\n",
       "          ...,\n",
       "          [ 3.28782533e-02,  3.11858452e-02,  2.49651714e-02, ...,\n",
       "           -3.63474208e-03,  1.40288265e-02,  2.18973867e-02],\n",
       "          [ 2.93215604e-02,  2.79736472e-02,  2.25942438e-02, ...,\n",
       "            3.66999350e-02,  3.35868615e-02,  2.66101575e-02],\n",
       "          [ 2.79509905e-02,  2.67719258e-02,  2.17800499e-02, ...,\n",
       "            7.06616917e-02,  5.59266471e-02,  4.01503196e-02]],\n",
       "  \n",
       "         [[-1.00000000e+00, -1.00000000e+00, -1.00000000e+00, ...,\n",
       "           -1.00000000e+00, -1.00000000e+00, -1.00000000e+00],\n",
       "          [ 9.52157497e-01,  8.45529675e-01,  6.11817598e-01, ...,\n",
       "            4.79668617e-01,  7.00963676e-01,  8.57883155e-01],\n",
       "          [ 1.45875260e-01,  1.31378293e-01,  9.70702246e-02, ...,\n",
       "            1.00910649e-01,  1.44663244e-01,  1.74827695e-01],\n",
       "          ...,\n",
       "          [ 3.67083736e-02,  3.49395163e-02,  2.85581462e-02, ...,\n",
       "            2.09243782e-02,  2.62036342e-02,  2.92838346e-02],\n",
       "          [ 2.13309582e-02,  2.11714599e-02,  1.80283636e-02, ...,\n",
       "            1.95757300e-02,  2.42489856e-02,  2.69171726e-02],\n",
       "          [ 3.29004638e-02,  3.12548578e-02,  2.49972958e-02, ...,\n",
       "            1.86221879e-02,  2.28322130e-02,  2.52122656e-02]]]),\n",
       "  'chroma': array([[[1.        , 1.        , 1.        , ..., 0.8128365 ,\n",
       "           0.89156027, 0.83422093],\n",
       "          [0.76029707, 0.71191808, 0.61294008, ..., 0.84608094,\n",
       "           0.92330877, 0.86993079],\n",
       "          [0.81115329, 0.77632157, 0.68462354, ..., 0.84245538,\n",
       "           0.96785358, 0.9790809 ],\n",
       "          ...,\n",
       "          [0.74454359, 0.75166842, 0.62163241, ..., 0.89741098,\n",
       "           0.91053889, 0.82849615],\n",
       "          [0.7505057 , 0.78966928, 0.72268223, ..., 0.76656073,\n",
       "           0.80645468, 0.75134076],\n",
       "          [0.807015  , 0.82858352, 0.74580596, ..., 0.80116409,\n",
       "           0.87499155, 0.80665236]],\n",
       "  \n",
       "         [[0.67292204, 0.59080848, 0.56461257, ..., 0.62965998,\n",
       "           0.63050086, 0.69276898],\n",
       "          [0.84742179, 0.85013795, 0.91978406, ..., 0.70409323,\n",
       "           0.6992566 , 0.74844482],\n",
       "          [1.        , 1.        , 1.        , ..., 0.82152376,\n",
       "           0.8502798 , 0.87778943],\n",
       "          ...,\n",
       "          [0.52629867, 0.40542017, 0.32125772, ..., 0.83848966,\n",
       "           0.81498789, 0.83239214],\n",
       "          [0.50198407, 0.36998222, 0.28426395, ..., 0.71547876,\n",
       "           0.70282077, 0.7326156 ],\n",
       "          [0.61538046, 0.50780316, 0.45036906, ..., 0.60233426,\n",
       "           0.60778224, 0.66453906]],\n",
       "  \n",
       "         [[0.82106508, 0.98174403, 1.        , ..., 0.85039416,\n",
       "           0.87609815, 0.88599502],\n",
       "          [0.79528464, 0.82945441, 0.70156251, ..., 0.93849322,\n",
       "           0.93672575, 0.9294468 ],\n",
       "          [0.89106754, 0.82979142, 0.57683794, ..., 0.98424065,\n",
       "           0.99624922, 0.99219726],\n",
       "          ...,\n",
       "          [0.80332106, 0.73255278, 0.38052489, ..., 0.79416825,\n",
       "           0.78656968, 0.79987217],\n",
       "          [1.        , 1.        , 0.64135954, ..., 0.79398273,\n",
       "           0.75444167, 0.7543272 ],\n",
       "          [0.93216354, 0.93292109, 0.60907975, ..., 0.78332425,\n",
       "           0.76361335, 0.76142989]],\n",
       "  \n",
       "         ...,\n",
       "  \n",
       "         [[0.88031584, 0.89994365, 0.8682453 , ..., 0.81991434,\n",
       "           0.87544066, 0.84950686],\n",
       "          [0.90862536, 0.95072573, 0.98005128, ..., 0.90089291,\n",
       "           0.93540001, 0.90600133],\n",
       "          [0.93204236, 0.95840335, 0.95881647, ..., 0.93275082,\n",
       "           0.94280618, 0.92152083],\n",
       "          ...,\n",
       "          [0.86677271, 0.89006799, 0.84780425, ..., 0.90804636,\n",
       "           0.88121372, 0.85766661],\n",
       "          [0.85236639, 0.89381778, 0.8860119 , ..., 0.8156392 ,\n",
       "           0.85282516, 0.83044773],\n",
       "          [0.83372927, 0.86042112, 0.84320396, ..., 0.73747617,\n",
       "           0.81849313, 0.80286694]],\n",
       "  \n",
       "         [[0.86081458, 0.88781078, 0.85272578, ..., 0.50336748,\n",
       "           0.57701706, 0.66814519],\n",
       "          [0.88793789, 0.91918015, 0.90019554, ..., 0.48531206,\n",
       "           0.53345126, 0.62424175],\n",
       "          [0.9317287 , 0.95518742, 0.94559676, ..., 0.51177058,\n",
       "           0.55708959, 0.65980201],\n",
       "          ...,\n",
       "          [0.85629272, 0.88883102, 0.86619349, ..., 0.72702108,\n",
       "           0.77593928, 0.84403397],\n",
       "          [0.81980804, 0.85315564, 0.81759399, ..., 0.51025677,\n",
       "           0.59900911, 0.69529621],\n",
       "          [0.8059274 , 0.83320945, 0.78953462, ..., 0.50832277,\n",
       "           0.58698453, 0.67306999]],\n",
       "  \n",
       "         [[0.85565901, 0.86959958, 0.83072209, ..., 0.83891809,\n",
       "           0.89952618, 0.86767995],\n",
       "          [0.88533437, 0.90575325, 0.88411951, ..., 0.89386475,\n",
       "           0.93037844, 0.89857316],\n",
       "          [0.93205166, 0.94858384, 0.93727416, ..., 0.94359034,\n",
       "           0.96344024, 0.94238114],\n",
       "          ...,\n",
       "          [0.85495603, 0.87725484, 0.85214096, ..., 0.87113708,\n",
       "           0.88727242, 0.8690412 ],\n",
       "          [0.81349611, 0.83266926, 0.79322243, ..., 0.80665159,\n",
       "           0.85135496, 0.83123642],\n",
       "          [0.7973302 , 0.80930638, 0.76087654, ..., 0.76975113,\n",
       "           0.83708155, 0.81297016]]]),\n",
       "  'cqt': array([[[-2.44566397e+00, -2.47327508e+00, -2.61637118e+00, ...,\n",
       "           -1.10200332e+00, -1.49326349e+00, -2.00132465e+00],\n",
       "          [-2.71446442e+00, -2.79152327e+00, -2.93932805e+00, ...,\n",
       "           -7.19430170e+00, -7.22845939e+00, -7.35073162e+00],\n",
       "          [-3.10697592e+00, -3.13543282e+00, -3.34947627e+00, ...,\n",
       "           -2.19852121e+01, -2.14227250e+01, -2.13103187e+01],\n",
       "          ...,\n",
       "          [-2.11377020e+01, -3.99117566e+01, -4.40265980e+01, ...,\n",
       "           -6.27056766e+01, -4.75083936e+01, -4.24629360e+01],\n",
       "          [-2.15687527e+01, -4.14252728e+01, -3.47843090e+01, ...,\n",
       "           -5.18140806e+01, -4.18384693e+01, -4.39217995e+01],\n",
       "          [-2.17590669e+01, -2.81475303e+01, -2.38602060e+01, ...,\n",
       "           -5.03755423e+01, -4.19635481e+01, -4.83937388e+01]],\n",
       "  \n",
       "         [[-7.96449600e+00, -7.99409298e+00, -8.13960225e+00, ...,\n",
       "           -8.60123578e+00, -8.73216426e+00, -8.94982100e+00],\n",
       "          [-8.03118652e+00, -8.09174229e+00, -8.22350634e+00, ...,\n",
       "           -1.30353442e+01, -1.21917143e+01, -1.15291038e+01],\n",
       "          [-8.32741279e+00, -8.32785313e+00, -8.50513870e+00, ...,\n",
       "           -9.66046118e+00, -9.52382127e+00, -9.45836353e+00],\n",
       "          ...,\n",
       "          [-2.76880200e+01, -4.56886333e+01, -5.06602483e+01, ...,\n",
       "           -4.93336823e+01, -5.86062200e+01, -4.53268874e+01],\n",
       "          [-2.80484010e+01, -5.09772076e+01, -6.16963049e+01, ...,\n",
       "           -4.57685710e+01, -5.42866759e+01, -4.84530926e+01],\n",
       "          [-2.82223335e+01, -5.72150483e+01, -5.35796882e+01, ...,\n",
       "           -5.61740341e+01, -5.64304602e+01, -5.55871766e+01]],\n",
       "  \n",
       "         [[-3.23801895e+00, -3.26067387e+00, -3.40169010e+00, ...,\n",
       "           -5.12427717e+00, -4.79282596e+00, -4.56739392e+00],\n",
       "          [-3.32758155e+00, -3.39382471e+00, -3.52936776e+00, ...,\n",
       "           -5.71100875e+00, -5.34454069e+00, -5.09217420e+00],\n",
       "          [-3.59342366e+00, -3.58348462e+00, -3.75554037e+00, ...,\n",
       "           -4.42566736e+00, -4.18112960e+00, -4.04899527e+00],\n",
       "          ...,\n",
       "          [-2.51288726e+01, -4.97024255e+01, -4.77568670e+01, ...,\n",
       "           -4.56540170e+01, -3.96755182e+01, -4.69205340e+01],\n",
       "          [-2.53794628e+01, -4.69458363e+01, -4.92005824e+01, ...,\n",
       "           -4.04925337e+01, -4.20802047e+01, -4.25515386e+01],\n",
       "          [-2.55322206e+01, -4.82731821e+01, -5.58211031e+01, ...,\n",
       "           -4.29648486e+01, -4.87017894e+01, -4.55183077e+01]],\n",
       "  \n",
       "         ...,\n",
       "  \n",
       "         [[-2.83320498e+00, -2.86154628e+00, -3.00708914e+00, ...,\n",
       "           -2.82323575e+00, -2.65615225e+00, -2.61622000e+00],\n",
       "          [-3.06025290e+00, -3.13713431e+00, -3.28395820e+00, ...,\n",
       "           -3.03986597e+00, -2.88290930e+00, -2.79633880e+00],\n",
       "          [-3.37278724e+00, -3.38968420e+00, -3.59354711e+00, ...,\n",
       "           -3.30433559e+00, -3.07724714e+00, -3.02352285e+00],\n",
       "          ...,\n",
       "          [-2.24703064e+01, -3.91019669e+01, -4.12044258e+01, ...,\n",
       "           -4.97892418e+01, -6.47453537e+01, -5.92939110e+01],\n",
       "          [-2.26298294e+01, -4.53545036e+01, -4.81635437e+01, ...,\n",
       "           -4.71561279e+01, -5.68821754e+01, -5.84892311e+01],\n",
       "          [-2.27052879e+01, -5.77457428e+01, -5.75832558e+01, ...,\n",
       "           -5.21312904e+01, -5.72145195e+01, -5.48347511e+01]],\n",
       "  \n",
       "         [[-2.15736746e-01, -2.44717216e-01, -3.90977803e-01, ...,\n",
       "           -2.06845226e-01, -3.97474673e-02,  0.00000000e+00],\n",
       "          [-4.45384418e-01, -5.22599240e-01, -6.69673963e-01, ...,\n",
       "           -4.38598125e-01, -2.82616617e-01, -1.96954380e-01],\n",
       "          [-7.53588078e-01, -7.71384684e-01, -9.76301613e-01, ...,\n",
       "           -7.25996257e-01, -4.98329540e-01, -4.46479650e-01],\n",
       "          ...,\n",
       "          [-2.00381126e+01, -6.33414406e+01, -8.00000000e+01, ...,\n",
       "           -4.12375219e+01, -4.69094362e+01, -3.46144098e+01],\n",
       "          [-2.02694280e+01, -6.63484844e+01, -7.41613247e+01, ...,\n",
       "           -5.13708521e+01, -5.74157835e+01, -4.76179444e+01],\n",
       "          [-2.04536327e+01, -7.20515861e+01, -6.84275862e+01, ...,\n",
       "           -5.46745041e+01, -4.68340973e+01, -5.28030410e+01]],\n",
       "  \n",
       "         [[ 0.00000000e+00, -2.78847814e-02, -1.72538340e-01, ...,\n",
       "           -4.27295864e-01, -2.61785209e-01, -2.23422468e-01],\n",
       "          [-2.99012065e-02, -9.63885188e-02, -2.34314263e-01, ...,\n",
       "           -6.69739902e-01, -5.13983905e-01, -4.28568780e-01],\n",
       "          [-2.24054873e-01, -2.30032265e-01, -4.16073620e-01, ...,\n",
       "           -9.64935839e-01, -7.37914741e-01, -6.86869442e-01],\n",
       "          ...,\n",
       "          [-1.96318932e+01, -5.27729301e+01, -5.57270012e+01, ...,\n",
       "           -8.00000000e+01, -6.70364609e+01, -6.60295792e+01],\n",
       "          [-1.99616451e+01, -6.14552002e+01, -5.49454346e+01, ...,\n",
       "           -7.66339188e+01, -7.26916809e+01, -6.84844284e+01],\n",
       "          [-2.02832012e+01, -6.08861809e+01, -5.49425545e+01, ...,\n",
       "           -7.41843033e+01, -8.00000000e+01, -7.13696365e+01]]]),\n",
       "  'label': array([12, 12, 12, ...,  4,  4,  4]),\n",
       "  'id': array(['XC236456.mp3', 'XC236456.mp3', 'XC236456.mp3', ...,\n",
       "         'XC348396.mp3', 'XC196991.mp3', 'XC196991.mp3'], dtype='<U12')},\n",
       " 'val': {'melspectrogram': array([[[-0.10182968, -0.08362885, -0.08609574, ..., -0.05238522,\n",
       "           -0.02639981, -0.0269748 ],\n",
       "          [-0.2702154 , -0.28723259, -0.34015793, ..., -0.31913935,\n",
       "           -0.24032562, -0.20562907],\n",
       "          [-0.3412712 , -0.35851819, -0.41102631, ..., -0.36591089,\n",
       "           -0.30433251, -0.27515487],\n",
       "          ...,\n",
       "          [-0.90799296, -0.8940671 , -0.87046578, ..., -0.99380486,\n",
       "           -0.99318201, -0.99328394],\n",
       "          [-0.94944273, -0.93493505, -0.9137674 , ..., -1.        ,\n",
       "           -1.        , -1.        ],\n",
       "          [-1.        , -1.        , -1.        , ..., -0.9999848 ,\n",
       "           -0.99912803, -0.99926695]],\n",
       "  \n",
       "         [[-0.10818082, -0.08967427, -0.09097896, ..., -0.02701626,\n",
       "           -0.02209085, -0.03380553],\n",
       "          [-0.27315339, -0.28855477, -0.33757676, ..., -0.32419156,\n",
       "           -0.25195876, -0.21928615],\n",
       "          [-0.34285039, -0.35826447, -0.40646038, ..., -0.36910555,\n",
       "           -0.30325305, -0.2742332 ],\n",
       "          ...,\n",
       "          [-0.84260754, -0.82329558, -0.80378564, ..., -0.99894374,\n",
       "           -0.99996544, -1.        ],\n",
       "          [-0.95429341, -0.93362496, -0.89882336, ..., -1.        ,\n",
       "           -1.        , -0.99983034],\n",
       "          [-1.        , -1.        , -1.        , ..., -0.99730701,\n",
       "           -0.99671753, -0.9963736 ]],\n",
       "  \n",
       "         [[-0.09754939, -0.08019394, -0.08245476, ..., -0.0434745 ,\n",
       "           -0.04801365, -0.05958777],\n",
       "          [-0.27189156, -0.29438046, -0.34700684, ..., -0.32236849,\n",
       "           -0.26375533, -0.23597346],\n",
       "          [-0.34547722, -0.36938987, -0.42081427, ..., -0.39680121,\n",
       "           -0.33613725, -0.30576873],\n",
       "          ...,\n",
       "          [-0.89593747, -0.89719181, -0.87366121, ..., -0.9937452 ,\n",
       "           -0.99702076, -0.99707873],\n",
       "          [-0.96669375, -0.97758855, -0.95656224, ..., -0.99612281,\n",
       "           -0.99673784, -0.9963195 ],\n",
       "          [-0.97988881, -1.        , -1.        , ..., -1.        ,\n",
       "           -0.99889102, -0.99813396]],\n",
       "  \n",
       "         ...,\n",
       "  \n",
       "         [[-0.06372905, -0.04711858, -0.05250885, ..., -0.09869152,\n",
       "           -0.09260439, -0.0784172 ],\n",
       "          [-0.22987142, -0.24622256, -0.2969085 , ..., -0.24821264,\n",
       "           -0.17777211, -0.15021266],\n",
       "          [-0.30597724, -0.32308364, -0.36994986, ..., -0.34277668,\n",
       "           -0.27186175, -0.23208871],\n",
       "          ...,\n",
       "          [-0.98442497, -0.98575498, -0.97977551, ..., -0.95766821,\n",
       "           -0.96605346, -0.97669333],\n",
       "          [-0.99808973, -0.99966048, -0.99405349, ..., -0.98276254,\n",
       "           -0.97628027, -0.9677133 ],\n",
       "          [-0.9941895 , -0.99775814, -1.        , ..., -1.        ,\n",
       "           -1.        , -1.        ]],\n",
       "  \n",
       "         [[-0.01447381,  0.        , -0.00764276, ..., -0.01130498,\n",
       "           -0.00166604, -0.00940259],\n",
       "          [-0.14310175, -0.14069405, -0.16202113, ..., -0.25266382,\n",
       "           -0.23634617, -0.20761091],\n",
       "          [-0.26838917, -0.28069711, -0.29886284, ..., -0.29434764,\n",
       "           -0.2669324 , -0.24945046],\n",
       "          ...,\n",
       "          [-0.96764636, -0.95614177, -0.92769486, ..., -0.90384007,\n",
       "           -0.95238853, -0.9595989 ],\n",
       "          [-0.97910112, -0.96794814, -0.93561089, ..., -0.94657433,\n",
       "           -0.97252673, -0.96980399],\n",
       "          [-1.        , -1.        , -1.        , ..., -1.        ,\n",
       "           -1.        , -0.98906487]],\n",
       "  \n",
       "         [[-0.05042563, -0.03293128, -0.03856392, ..., -0.04278924,\n",
       "           -0.03204191, -0.03485859],\n",
       "          [-0.2342616 , -0.25022178, -0.29124714, ..., -0.31006537,\n",
       "           -0.21887114, -0.18024283],\n",
       "          [-0.29786981, -0.3121705 , -0.35612289, ..., -0.30469759,\n",
       "           -0.23199704, -0.20235306],\n",
       "          ...,\n",
       "          [-0.99471837, -0.99540629, -0.98678843, ..., -0.93358062,\n",
       "           -0.9104056 , -0.89912933],\n",
       "          [-0.99515755, -0.99645806, -0.99125308, ..., -0.91649187,\n",
       "           -0.89033834, -0.87759932],\n",
       "          [-0.99736406, -1.        , -1.        , ..., -0.89820472,\n",
       "           -0.87646191, -0.87064089]]]),\n",
       "  'mfcc': array([[[-9.15432964e-01, -9.37539397e-01, -1.00000000e+00, ...,\n",
       "           -1.00000000e+00, -9.48609855e-01, -7.09951677e-01],\n",
       "          [ 1.00000000e+00,  9.21689569e-01,  5.17991348e-01, ...,\n",
       "            6.78450688e-01,  1.00000000e+00,  1.00000000e+00],\n",
       "          [ 1.83925578e-01,  2.45199519e-02, -1.96539172e-01, ...,\n",
       "            1.27638455e-01,  2.08838060e-01,  2.11371517e-01],\n",
       "          ...,\n",
       "          [ 3.32476796e-01,  3.51959585e-01,  2.80736699e-01, ...,\n",
       "            2.04717974e-02,  3.13796967e-02,  3.09340289e-02],\n",
       "          [ 1.57025292e-01,  2.05315333e-01,  1.81926292e-01, ...,\n",
       "            1.18681863e-02,  2.33085211e-02,  2.43039699e-02],\n",
       "          [-4.03129569e-01, -4.85010408e-01, -3.90367179e-01, ...,\n",
       "            2.55841505e-02,  4.59431856e-02,  4.54156623e-02]],\n",
       "  \n",
       "         [[-7.81154168e-01, -8.67774548e-01, -1.00000000e+00, ...,\n",
       "           -1.00000000e+00, -9.43077265e-01, -6.88124181e-01],\n",
       "          [ 1.00000000e+00,  1.00000000e+00,  5.93637839e-01, ...,\n",
       "            6.45252060e-01,  1.00000000e+00,  1.00000000e+00],\n",
       "          [-6.68116566e-02, -1.82776879e-01, -2.87417664e-01, ...,\n",
       "            1.35139933e-01,  2.04690494e-01,  2.01659942e-01],\n",
       "          ...,\n",
       "          [ 1.72726483e-01,  2.12766019e-01,  1.94069024e-01, ...,\n",
       "            2.80551468e-02,  3.97411814e-02,  3.63214617e-02],\n",
       "          [ 3.00559564e-01,  4.10233164e-01,  3.72938312e-01, ...,\n",
       "            2.53060090e-02,  3.35393054e-02,  2.98328180e-02],\n",
       "          [-3.48478691e-01, -4.11338952e-01, -3.10141856e-01, ...,\n",
       "            2.14197431e-02,  2.74857853e-02,  2.41368823e-02]],\n",
       "  \n",
       "         [[-6.29036793e-01, -6.06395324e-01, -9.61068281e-01, ...,\n",
       "           -1.00000000e+00, -1.00000000e+00, -8.49369755e-01],\n",
       "          [ 1.00000000e+00,  8.80566211e-01,  6.20397778e-01, ...,\n",
       "            5.95737179e-01,  9.10064513e-01,  1.00000000e+00],\n",
       "          [-1.38501432e-01, -2.72430414e-01, -4.22528593e-01, ...,\n",
       "            1.26941505e-01,  1.91565079e-01,  2.08086874e-01],\n",
       "          ...,\n",
       "          [ 1.58380924e-01,  2.12228975e-01,  2.59283519e-01, ...,\n",
       "            3.34004577e-02,  3.82656157e-02,  3.73375988e-02],\n",
       "          [ 3.71564039e-01,  4.22582675e-01,  4.24794781e-01, ...,\n",
       "            2.75114326e-02,  2.95045496e-02,  2.79896708e-02],\n",
       "          [-3.99190917e-01, -4.27000012e-01, -3.90671359e-01, ...,\n",
       "            2.10085165e-02,  2.26340876e-02,  2.12156087e-02]],\n",
       "  \n",
       "         ...,\n",
       "  \n",
       "         [[-9.80798522e-01, -1.00000000e+00, -1.00000000e+00, ...,\n",
       "           -1.00000000e+00, -1.00000000e+00, -9.84032198e-01],\n",
       "          [ 1.00000000e+00,  8.85079838e-01,  5.95596839e-01, ...,\n",
       "            6.92877430e-01,  8.73499399e-01,  1.00000000e+00],\n",
       "          [ 2.42884323e-01,  2.35503518e-01,  1.91525078e-01, ...,\n",
       "            8.56769807e-02,  7.77426094e-02,  6.29411991e-02],\n",
       "          ...,\n",
       "          [ 2.93859376e-02,  2.85232269e-02,  2.32646512e-02, ...,\n",
       "            1.30600679e-02,  2.17161094e-02,  3.16802111e-02],\n",
       "          [ 3.57746131e-02,  3.65102916e-02,  3.09980593e-02, ...,\n",
       "            2.30950325e-02,  1.68271536e-02,  1.47260079e-02],\n",
       "          [ 2.60315150e-02,  2.60160104e-02,  2.20032942e-02, ...,\n",
       "           -2.43513680e-03, -4.89021161e-03, -5.09371077e-03]],\n",
       "  \n",
       "         [[-1.00000000e+00, -1.00000000e+00, -1.00000000e+00, ...,\n",
       "           -1.00000000e+00, -1.00000000e+00, -8.95754099e-01],\n",
       "          [ 9.86786246e-01,  8.97578359e-01,  6.96576715e-01, ...,\n",
       "            7.12713540e-01,  9.65071201e-01,  1.00000000e+00],\n",
       "          [ 2.34906659e-01,  2.31680140e-01,  1.12014882e-01, ...,\n",
       "           -1.81495577e-01, -1.28653094e-01, -4.84248437e-02],\n",
       "          ...,\n",
       "          [ 1.07817752e-02,  4.41391254e-03,  7.99018797e-03, ...,\n",
       "            3.68978269e-02,  5.87265491e-02,  5.25882281e-02],\n",
       "          [ 3.32057178e-02,  3.48222815e-02,  3.96218598e-02, ...,\n",
       "            1.27239740e-02,  4.82312851e-02,  7.28030726e-02],\n",
       "          [ 3.32994908e-02,  3.46398689e-02,  2.51372438e-02, ...,\n",
       "            2.23800186e-02,  2.11418178e-02,  1.83716081e-02]],\n",
       "  \n",
       "         [[-1.00000000e+00, -1.00000000e+00, -1.00000000e+00, ...,\n",
       "           -1.00000000e+00, -7.25252523e-01, -6.15008451e-01],\n",
       "          [ 9.79143428e-01,  8.84898863e-01,  6.57931090e-01, ...,\n",
       "            9.04859674e-01,  1.00000000e+00,  1.00000000e+00],\n",
       "          [ 2.21857359e-01,  1.73688734e-01,  6.06071206e-02, ...,\n",
       "            1.47436364e-01,  2.04401217e-01,  2.29392702e-01],\n",
       "          ...,\n",
       "          [ 3.54180598e-02,  3.11633306e-02,  3.54678178e-02, ...,\n",
       "            5.17098859e-02,  3.88649066e-02,  1.88548790e-02],\n",
       "          [ 3.08734772e-02,  2.08363285e-02,  8.01004804e-03, ...,\n",
       "            7.38996919e-02,  7.12606010e-02,  6.48918820e-02],\n",
       "          [ 3.22611114e-02,  3.90431483e-02,  2.73256496e-02, ...,\n",
       "           -5.52483419e-03, -9.07249079e-04, -3.94921034e-03]]]),\n",
       "  'chroma': array([[[0.11491658, 0.08663396, 0.07027419, ..., 0.77092537,\n",
       "           0.8517644 , 0.86838387],\n",
       "          [0.07813403, 0.04682901, 0.03153524, ..., 0.81888439,\n",
       "           0.8387261 , 0.8490117 ],\n",
       "          [0.10087923, 0.07763508, 0.08584979, ..., 0.87852614,\n",
       "           0.88081985, 0.89811874],\n",
       "          ...,\n",
       "          [0.0948258 , 0.10379117, 0.16820346, ..., 0.8614423 ,\n",
       "           0.8648448 , 0.87706171],\n",
       "          [0.24160686, 0.25641439, 0.34505154, ..., 0.82362211,\n",
       "           0.84190241, 0.85187359],\n",
       "          [0.41496333, 0.38836571, 0.3754165 , ..., 0.75729762,\n",
       "           0.81306362, 0.82473653]],\n",
       "  \n",
       "         [[0.06456686, 0.04272887, 0.03065471, ..., 0.7879802 ,\n",
       "           0.84899668, 0.86463158],\n",
       "          [0.06753846, 0.04862877, 0.04452146, ..., 0.88407195,\n",
       "           0.90930681, 0.90001649],\n",
       "          [0.12613209, 0.12618951, 0.1633832 , ..., 0.9410178 ,\n",
       "           0.9527245 , 0.94667819],\n",
       "          ...,\n",
       "          [0.15177771, 0.27967028, 0.54101782, ..., 0.82316319,\n",
       "           0.83811915, 0.86117238],\n",
       "          [0.29225407, 0.32921945, 0.43240587, ..., 0.76941534,\n",
       "           0.80087359, 0.81906922],\n",
       "          [0.18097645, 0.15694757, 0.14871948, ..., 0.72457941,\n",
       "           0.7947324 , 0.81953098]],\n",
       "  \n",
       "         [[0.08174279, 0.05768348, 0.04506791, ..., 0.82934327,\n",
       "           0.91316551, 0.85926484],\n",
       "          [0.08894219, 0.07183906, 0.07203258, ..., 0.88270369,\n",
       "           0.92574184, 0.87665008],\n",
       "          [0.19912335, 0.22266973, 0.28653441, ..., 0.95360191,\n",
       "           0.98845756, 0.95082075],\n",
       "          ...,\n",
       "          [0.26266429, 0.40240714, 0.65918527, ..., 0.90396695,\n",
       "           0.93627496, 0.88954   ],\n",
       "          [0.28207121, 0.32828114, 0.42846166, ..., 0.86522631,\n",
       "           0.93278343, 0.87236803],\n",
       "          [0.11837646, 0.1019493 , 0.10323326, ..., 0.80546624,\n",
       "           0.89458436, 0.83322698]],\n",
       "  \n",
       "         ...,\n",
       "  \n",
       "         [[0.89751999, 0.91628533, 0.8456915 , ..., 0.87335125,\n",
       "           0.96188675, 0.97734561],\n",
       "          [0.90863298, 0.92194834, 0.87292953, ..., 0.98384112,\n",
       "           1.        , 1.        ],\n",
       "          [0.96185954, 0.95840588, 0.89764994, ..., 1.        ,\n",
       "           0.94720858, 0.99469393],\n",
       "          ...,\n",
       "          [0.81586538, 0.82192236, 0.78383206, ..., 0.8170547 ,\n",
       "           0.79802987, 0.87056331],\n",
       "          [0.81246771, 0.8405388 , 0.80574814, ..., 0.78196063,\n",
       "           0.80466151, 0.86453465],\n",
       "          [0.84292172, 0.87705509, 0.81934685, ..., 0.84193371,\n",
       "           0.90474731, 0.92269597]],\n",
       "  \n",
       "         [[0.7652719 , 0.6726526 , 0.64038455, ..., 0.65175658,\n",
       "           0.64968026, 0.70082545],\n",
       "          [0.74106175, 0.66207278, 0.64920568, ..., 1.        ,\n",
       "           1.        , 1.        ],\n",
       "          [0.74980235, 0.64549035, 0.63347399, ..., 0.61863428,\n",
       "           0.71724993, 0.82911623],\n",
       "          ...,\n",
       "          [0.96504354, 0.98417854, 1.        , ..., 0.67211795,\n",
       "           0.63120419, 0.73088807],\n",
       "          [0.8518675 , 0.86511314, 0.89793605, ..., 0.93004453,\n",
       "           0.74691731, 0.70910907],\n",
       "          [0.7672016 , 0.73315799, 0.75075346, ..., 0.5100531 ,\n",
       "           0.50203609, 0.57646573]],\n",
       "  \n",
       "         [[0.88828044, 0.9519833 , 1.        , ..., 0.95279832,\n",
       "           0.92622525, 0.87341845],\n",
       "          [0.92500669, 0.97475876, 0.98111748, ..., 0.87813453,\n",
       "           0.78830234, 0.74698256],\n",
       "          [0.97101873, 0.98181701, 0.91993042, ..., 0.91796364,\n",
       "           0.83791601, 0.79270593],\n",
       "          ...,\n",
       "          [0.76334806, 0.75820416, 0.72986174, ..., 0.84920576,\n",
       "           0.89848592, 0.91970949],\n",
       "          [0.70756435, 0.70609132, 0.68404305, ..., 0.86546395,\n",
       "           0.97525585, 0.99632992],\n",
       "          [0.74380548, 0.75297446, 0.71908182, ..., 0.92794591,\n",
       "           0.99768373, 0.98929104]]]),\n",
       "  'cqt': array([[[ -7.19725618,  -7.22719923,  -7.35846413, ...,  -1.34590211,\n",
       "            -1.38141749,  -1.519729  ],\n",
       "          [ -7.40038904,  -7.46555207,  -7.61055784, ...,  -0.39685376,\n",
       "            -0.45247142,  -0.58009535],\n",
       "          [ -7.71709039,  -7.741981  ,  -7.94390191, ...,  -1.54415187,\n",
       "            -1.57897211,  -1.78465768],\n",
       "          ...,\n",
       "          [-14.34639752, -29.09387   , -27.24498824, ..., -45.01013156,\n",
       "           -49.8104171 , -55.58957905],\n",
       "          [-10.38885509, -14.79101372, -11.6226996 , ..., -74.15350078,\n",
       "           -45.49022282, -49.43635198],\n",
       "          [-10.83688887,  -8.51644508,  -9.16527989, ..., -62.22629348,\n",
       "           -44.27609563, -54.24818286]],\n",
       "  \n",
       "         [[ -5.02497729,  -5.02010742,  -5.06445566, ...,  -1.90108739,\n",
       "            -1.87347525,  -1.9734802 ],\n",
       "          [ -6.8437554 ,  -7.3085852 ,  -7.85525594, ...,  -5.29990574,\n",
       "            -4.83196683,  -4.44305035],\n",
       "          [ -4.24332788,  -3.87960033,  -3.65723097, ...,  -4.08558906,\n",
       "            -3.7367903 ,  -3.52803385],\n",
       "          ...,\n",
       "          [-12.29116667, -17.3640285 ,  -7.85076242, ..., -60.65081193,\n",
       "           -52.91334734, -47.44023405],\n",
       "          [-10.63999219,  -9.6211251 ,  -4.38587132, ..., -59.88105929,\n",
       "           -56.33514325, -54.43976514],\n",
       "          [-11.68544094,  -9.47666687, -10.67848205, ..., -59.28593133,\n",
       "           -59.32928065, -51.42372567]],\n",
       "  \n",
       "         [[ -5.42467189,  -5.54103952,  -5.78654311, ...,  -1.48499905,\n",
       "            -1.37487854,  -1.3867322 ],\n",
       "          [ -4.73053882,  -4.71620687,  -4.7684406 , ...,  -4.3143163 ,\n",
       "            -3.97523461,  -3.72026706],\n",
       "          [ -5.61725246,  -5.61275691,  -5.76061222, ...,  -4.19620195,\n",
       "            -4.03260295,  -4.05941934],\n",
       "          ...,\n",
       "          [-10.22322537, -17.76194568,   0.        , ..., -54.20418721,\n",
       "           -57.42728328, -44.08591824],\n",
       "          [ -9.17758899, -16.12423489,  -5.32752231, ..., -50.18245375,\n",
       "           -52.3803808 , -49.18692423],\n",
       "          [-12.2423891 , -22.13001161, -27.1463382 , ..., -52.34149553,\n",
       "           -55.20073991, -54.76296217]],\n",
       "  \n",
       "         ...,\n",
       "  \n",
       "         [[ -8.1898801 ,  -8.27606396,  -8.49072387, ...,  -0.47177218,\n",
       "            -0.58724853,  -0.79660258],\n",
       "          [ -7.20427811,  -7.16343908,  -7.18516915, ...,  -6.32049899,\n",
       "            -5.91690211,  -5.5835471 ],\n",
       "          [ -7.60266914,  -7.61130867,  -7.79833396, ...,  -7.10473777,\n",
       "            -6.86330052,  -6.75385935],\n",
       "          ...,\n",
       "          [-27.40024744, -62.11418986, -54.1167756 , ..., -44.90786911,\n",
       "           -44.9063388 , -44.30905971],\n",
       "          [-28.39311412, -48.52403615, -51.30613101, ..., -45.41324497,\n",
       "           -51.1578581 , -44.51317451],\n",
       "          [-28.59015284, -51.08401957, -46.04282746, ..., -58.28673099,\n",
       "           -51.5849915 , -49.2181369 ]],\n",
       "  \n",
       "         [[ -7.69572401,  -7.52786922,  -7.47366714, ..., -10.3390522 ,\n",
       "           -10.37977028, -10.51315689],\n",
       "          [ -8.02674198,  -7.84291458,  -7.70371819, ..., -14.37409687,\n",
       "           -13.68000603, -13.14634132],\n",
       "          [-10.69924736, -10.80393219, -11.11252689, ..., -11.51083565,\n",
       "           -11.40095329, -11.38945675],\n",
       "          ...,\n",
       "          [-27.02580452, -47.16927338, -41.25261688, ..., -48.02320099,\n",
       "           -48.83699799, -40.77880859],\n",
       "          [-28.07681847, -48.74456024, -44.25624847, ..., -40.23323822,\n",
       "           -48.78229523, -44.48682404],\n",
       "          [-28.7984581 , -38.88822174, -44.78414154, ..., -39.1378479 ,\n",
       "           -39.96257782, -40.7204361 ]],\n",
       "  \n",
       "         [[-14.81966428, -14.95824615, -15.22293065, ..., -13.81651463,\n",
       "           -13.69488875, -13.69006901],\n",
       "          [-13.85077312, -13.88161381, -13.98198431, ..., -14.88926901,\n",
       "           -14.60319932, -14.40337649],\n",
       "          [-13.72764174, -13.62028524, -13.66662525, ..., -14.39200698,\n",
       "           -14.17880799, -14.10088566],\n",
       "          ...,\n",
       "          [-33.09437289, -62.41013385, -52.2092027 , ..., -50.59207417,\n",
       "           -52.92942792, -33.14446643],\n",
       "          [-33.74399946, -53.71239929, -51.95216219, ..., -47.5957146 ,\n",
       "           -52.63733931, -33.35189705],\n",
       "          [-33.91468246, -51.7633736 , -50.54124522, ..., -45.89557015,\n",
       "           -54.8367775 , -36.68810437]]]),\n",
       "  'label': array([14, 14, 14, ...,  4,  4,  4]),\n",
       "  'id': array(['XC466994.mp3', 'XC466994.mp3', 'XC466994.mp3', ...,\n",
       "         'XC207216.mp3', 'XC207216.mp3', 'XC207216.mp3'], dtype='<U12')}}"
      ]
     },
     "execution_count": 18,
     "metadata": {},
     "output_type": "execute_result"
    }
   ],
   "source": [
    "merged_dict_2D = {'train': train_features_2D, 'val': val_features_2D}\n",
    "merged_dict_2D"
   ]
  },
  {
   "cell_type": "markdown",
   "metadata": {},
   "source": [
    "### Save the merged dictionary to a pkl"
   ]
  },
  {
   "cell_type": "code",
   "execution_count": 19,
   "metadata": {},
   "outputs": [],
   "source": [
    "# Avrg Pooled\n",
    "with open('C:/Users/thato/Documents/Final-Year-Project/Dataset/Final-Version-Of-Bird-Classification-Project/feature-extraction/Annotated/Augmented/AveragePooled/split_features_3s_all_1D.pkl', 'wb') as file:\n",
    "  pickle.dump(merged_dict_1D, file)\n",
    "del file"
   ]
  },
  {
   "cell_type": "code",
   "execution_count": 20,
   "metadata": {},
   "outputs": [],
   "source": [
    "# Avrg Pooled\n",
    "with open('C:/Users/thato/Documents/Final-Year-Project/Dataset/Final-Version-Of-Bird-Classification-Project/feature-extraction/Annotated/Augmented/NotAveragePooled/split_features_3s_all_2D.pkl', 'wb') as file:\n",
    "  pickle.dump(merged_dict_2D, file)\n",
    "del file"
   ]
  },
  {
   "cell_type": "markdown",
   "metadata": {},
   "source": [
    "## **Window Size = 1s**"
   ]
  },
  {
   "cell_type": "code",
   "execution_count": 21,
   "metadata": {},
   "outputs": [],
   "source": [
    "features_list = ['melspectrogram', 'mfcc', 'chroma', 'cqt']"
   ]
  },
  {
   "cell_type": "code",
   "execution_count": 22,
   "metadata": {},
   "outputs": [
    {
     "name": "stdout",
     "output_type": "stream",
     "text": [
      "Train DataFrame shape: (4861, 9)\n",
      "Validation DataFrame shape: (834, 9)\n",
      "Number of rows in dataframe: 4861\n"
     ]
    },
    {
     "name": "stderr",
     "output_type": "stream",
     "text": [
      "Processing data:   0%|          | 0/4861 [00:00<?, ?it/s]c:\\Users\\thato\\AppData\\Local\\Programs\\Python\\Python312\\Lib\\site-packages\\librosa\\core\\pitch.py:101: UserWarning: Trying to estimate tuning from empty frequency set.\n",
      "  return pitch_tuning(\n",
      "Processing data:  19%|█▉        | 923/4861 [00:56<05:04, 12.95it/s]c:\\Users\\thato\\AppData\\Local\\Programs\\Python\\Python312\\Lib\\site-packages\\librosa\\core\\spectrum.py:266: UserWarning: n_fft=2048 is too large for input signal of length=1959\n",
      "  warnings.warn(\n",
      "Processing data:  43%|████▎     | 2070/4861 [03:20<03:03, 15.18it/s]c:\\Users\\thato\\AppData\\Local\\Programs\\Python\\Python312\\Lib\\site-packages\\librosa\\core\\spectrum.py:266: UserWarning: n_fft=2048 is too large for input signal of length=1927\n",
      "  warnings.warn(\n",
      "Processing data:  45%|████▌     | 2190/4861 [03:28<03:13, 13.79it/s]c:\\Users\\thato\\AppData\\Local\\Programs\\Python\\Python312\\Lib\\site-packages\\librosa\\core\\spectrum.py:266: UserWarning: n_fft=2048 is too large for input signal of length=1928\n",
      "  warnings.warn(\n",
      "Processing data:  47%|████▋     | 2288/4861 [03:36<03:04, 13.92it/s]c:\\Users\\thato\\AppData\\Local\\Programs\\Python\\Python312\\Lib\\site-packages\\librosa\\core\\spectrum.py:266: UserWarning: n_fft=2048 is too large for input signal of length=1986\n",
      "  warnings.warn(\n",
      "Processing data: 100%|██████████| 4861/4861 [41:10<00:00,  1.97it/s]  \n"
     ]
    },
    {
     "name": "stdout",
     "output_type": "stream",
     "text": [
      "Number of rows in dataframe: 834\n"
     ]
    },
    {
     "name": "stderr",
     "output_type": "stream",
     "text": [
      "Processing data: 100%|██████████| 834/834 [02:09<00:00,  6.44it/s]\n"
     ]
    },
    {
     "name": "stdout",
     "output_type": "stream",
     "text": [
      "\u001b[1m787/787\u001b[0m \u001b[32m━━━━━━━━━━━━━━━━━━━━\u001b[0m\u001b[37m\u001b[0m \u001b[1m1s\u001b[0m 701us/step\n",
      "\u001b[1m104/104\u001b[0m \u001b[32m━━━━━━━━━━━━━━━━━━━━\u001b[0m\u001b[37m\u001b[0m \u001b[1m0s\u001b[0m 635us/step\n",
      "\u001b[1m787/787\u001b[0m \u001b[32m━━━━━━━━━━━━━━━━━━━━\u001b[0m\u001b[37m\u001b[0m \u001b[1m0s\u001b[0m 527us/step\n",
      "\u001b[1m104/104\u001b[0m \u001b[32m━━━━━━━━━━━━━━━━━━━━\u001b[0m\u001b[37m\u001b[0m \u001b[1m0s\u001b[0m 608us/step\n",
      "\u001b[1m787/787\u001b[0m \u001b[32m━━━━━━━━━━━━━━━━━━━━\u001b[0m\u001b[37m\u001b[0m \u001b[1m0s\u001b[0m 464us/step\n",
      "\u001b[1m104/104\u001b[0m \u001b[32m━━━━━━━━━━━━━━━━━━━━\u001b[0m\u001b[37m\u001b[0m \u001b[1m0s\u001b[0m 435us/step\n",
      "\u001b[1m787/787\u001b[0m \u001b[32m━━━━━━━━━━━━━━━━━━━━\u001b[0m\u001b[37m\u001b[0m \u001b[1m0s\u001b[0m 507us/step\n",
      "\u001b[1m104/104\u001b[0m \u001b[32m━━━━━━━━━━━━━━━━━━━━\u001b[0m\u001b[37m\u001b[0m \u001b[1m0s\u001b[0m 513us/step\n"
     ]
    }
   ],
   "source": [
    "features = Extraction(train_data_balanced,\n",
    "                      val_data,\n",
    "                      window_size=1,\n",
    "                      features=features_list,\n",
    "                      avgpool=True\n",
    "                      )"
   ]
  },
  {
   "cell_type": "code",
   "execution_count": 23,
   "metadata": {},
   "outputs": [
    {
     "data": {
      "text/plain": [
       "(25159,)"
      ]
     },
     "metadata": {},
     "output_type": "display_data"
    },
    {
     "data": {
      "text/plain": [
       "(3318,)"
      ]
     },
     "metadata": {},
     "output_type": "display_data"
    }
   ],
   "source": [
    "train_y = features.train_y\n",
    "val_y = features.val_y\n",
    "\n",
    "display(train_y.shape)\n",
    "display(val_y.shape)"
   ]
  },
  {
   "cell_type": "code",
   "execution_count": 24,
   "metadata": {},
   "outputs": [
    {
     "data": {
      "text/plain": [
       "'melspectrogram'"
      ]
     },
     "metadata": {},
     "output_type": "display_data"
    },
    {
     "data": {
      "text/plain": [
       "(25159, 128)"
      ]
     },
     "metadata": {},
     "output_type": "display_data"
    },
    {
     "data": {
      "text/plain": [
       "'mfcc'"
      ]
     },
     "metadata": {},
     "output_type": "display_data"
    },
    {
     "data": {
      "text/plain": [
       "(25159, 20)"
      ]
     },
     "metadata": {},
     "output_type": "display_data"
    },
    {
     "data": {
      "text/plain": [
       "'chroma'"
      ]
     },
     "metadata": {},
     "output_type": "display_data"
    },
    {
     "data": {
      "text/plain": [
       "(25159, 12)"
      ]
     },
     "metadata": {},
     "output_type": "display_data"
    },
    {
     "data": {
      "text/plain": [
       "'cqt'"
      ]
     },
     "metadata": {},
     "output_type": "display_data"
    },
    {
     "data": {
      "text/plain": [
       "(25159, 84)"
      ]
     },
     "metadata": {},
     "output_type": "display_data"
    }
   ],
   "source": [
    "# Avgpooled Features\n",
    "train_features_1D = features.train_features_1D\n",
    "for key in train_features_1D.keys():\n",
    "  display(key)\n",
    "  display(train_features_1D[key].shape)"
   ]
  },
  {
   "cell_type": "code",
   "execution_count": 25,
   "metadata": {},
   "outputs": [
    {
     "data": {
      "text/plain": [
       "'melspectrogram'"
      ]
     },
     "metadata": {},
     "output_type": "display_data"
    },
    {
     "data": {
      "text/plain": [
       "(3318, 128)"
      ]
     },
     "metadata": {},
     "output_type": "display_data"
    },
    {
     "data": {
      "text/plain": [
       "'mfcc'"
      ]
     },
     "metadata": {},
     "output_type": "display_data"
    },
    {
     "data": {
      "text/plain": [
       "(3318, 20)"
      ]
     },
     "metadata": {},
     "output_type": "display_data"
    },
    {
     "data": {
      "text/plain": [
       "'chroma'"
      ]
     },
     "metadata": {},
     "output_type": "display_data"
    },
    {
     "data": {
      "text/plain": [
       "(3318, 12)"
      ]
     },
     "metadata": {},
     "output_type": "display_data"
    },
    {
     "data": {
      "text/plain": [
       "'cqt'"
      ]
     },
     "metadata": {},
     "output_type": "display_data"
    },
    {
     "data": {
      "text/plain": [
       "(3318, 84)"
      ]
     },
     "metadata": {},
     "output_type": "display_data"
    }
   ],
   "source": [
    "# Avgpooled Features\n",
    "val_features_1D = features.val_features_1D\n",
    "for key in val_features_1D.keys():\n",
    "  display(key)\n",
    "  display(val_features_1D[key].shape)"
   ]
  },
  {
   "cell_type": "code",
   "execution_count": 26,
   "metadata": {},
   "outputs": [
    {
     "data": {
      "text/plain": [
       "'melspectrogram'"
      ]
     },
     "metadata": {},
     "output_type": "display_data"
    },
    {
     "data": {
      "text/plain": [
       "(25159, 128, 87)"
      ]
     },
     "metadata": {},
     "output_type": "display_data"
    },
    {
     "data": {
      "text/plain": [
       "'mfcc'"
      ]
     },
     "metadata": {},
     "output_type": "display_data"
    },
    {
     "data": {
      "text/plain": [
       "(25159, 20, 87)"
      ]
     },
     "metadata": {},
     "output_type": "display_data"
    },
    {
     "data": {
      "text/plain": [
       "'chroma'"
      ]
     },
     "metadata": {},
     "output_type": "display_data"
    },
    {
     "data": {
      "text/plain": [
       "(25159, 12, 87)"
      ]
     },
     "metadata": {},
     "output_type": "display_data"
    },
    {
     "data": {
      "text/plain": [
       "'cqt'"
      ]
     },
     "metadata": {},
     "output_type": "display_data"
    },
    {
     "data": {
      "text/plain": [
       "(25159, 84, 87)"
      ]
     },
     "metadata": {},
     "output_type": "display_data"
    }
   ],
   "source": [
    "# Not avgpooled Features\n",
    "train_features_2D = features.train_features_2D\n",
    "for key in train_features_2D.keys():\n",
    "  display(key)\n",
    "  display(train_features_2D[key].shape)"
   ]
  },
  {
   "cell_type": "code",
   "execution_count": 27,
   "metadata": {},
   "outputs": [
    {
     "data": {
      "text/plain": [
       "'melspectrogram'"
      ]
     },
     "metadata": {},
     "output_type": "display_data"
    },
    {
     "data": {
      "text/plain": [
       "(3318, 128, 87)"
      ]
     },
     "metadata": {},
     "output_type": "display_data"
    },
    {
     "data": {
      "text/plain": [
       "'mfcc'"
      ]
     },
     "metadata": {},
     "output_type": "display_data"
    },
    {
     "data": {
      "text/plain": [
       "(3318, 20, 87)"
      ]
     },
     "metadata": {},
     "output_type": "display_data"
    },
    {
     "data": {
      "text/plain": [
       "'chroma'"
      ]
     },
     "metadata": {},
     "output_type": "display_data"
    },
    {
     "data": {
      "text/plain": [
       "(3318, 12, 87)"
      ]
     },
     "metadata": {},
     "output_type": "display_data"
    },
    {
     "data": {
      "text/plain": [
       "'cqt'"
      ]
     },
     "metadata": {},
     "output_type": "display_data"
    },
    {
     "data": {
      "text/plain": [
       "(3318, 84, 87)"
      ]
     },
     "metadata": {},
     "output_type": "display_data"
    }
   ],
   "source": [
    "# Not avgpooled Features\n",
    "val_features_2D = features.val_features_2D\n",
    "for key in val_features_2D.keys():\n",
    "  display(key)\n",
    "  display(val_features_2D[key].shape)"
   ]
  },
  {
   "cell_type": "code",
   "execution_count": 28,
   "metadata": {},
   "outputs": [],
   "source": [
    "train_ids = features.train_ids\n",
    "val_ids = features.val_ids"
   ]
  },
  {
   "cell_type": "markdown",
   "metadata": {},
   "source": [
    "### Encode Classes"
   ]
  },
  {
   "cell_type": "code",
   "execution_count": 29,
   "metadata": {},
   "outputs": [
    {
     "name": "stdout",
     "output_type": "stream",
     "text": [
      "Encoded classes for [0, 1, 2]: ['Acrocephalus arundinaceus', 'Acrocephalus melanopogon', 'Acrocephalus scirpaceus']\n",
      "Encoded training labels: [12 12 12 ...  4  4  4]\n",
      "Encoded validation labels: [14 14 14 ...  4  4  4]\n"
     ]
    }
   ],
   "source": [
    "label_encoder = LabelEncoder().fit(train_y)\n",
    "train_y_encoded = label_encoder.transform(train_y)\n",
    "val_y_encoded = label_encoder.transform(val_y)\n",
    "\n",
    "classes = list(label_encoder.inverse_transform([0, 1, 2]))\n",
    "print(\"Encoded classes for [0, 1, 2]:\", classes)\n",
    "print(\"Encoded training labels:\", train_y_encoded)\n",
    "print(\"Encoded validation labels:\", val_y_encoded)"
   ]
  },
  {
   "cell_type": "code",
   "execution_count": 30,
   "metadata": {},
   "outputs": [],
   "source": [
    "# Avg Pooled\n",
    "\n",
    "train_features_1D['label'] = train_y_encoded\n",
    "val_features_1D['label'] = val_y_encoded\n",
    "\n",
    "train_features_1D['id'] = train_ids\n",
    "val_features_1D['id'] = val_ids\n",
    "\n",
    "# Not Avg Pooled\n",
    "\n",
    "train_features_2D['label'] = train_y_encoded\n",
    "val_features_2D['label'] = val_y_encoded\n",
    "\n",
    "train_features_2D['id'] = train_ids\n",
    "val_features_2D['id'] = val_ids"
   ]
  },
  {
   "cell_type": "code",
   "execution_count": 31,
   "metadata": {},
   "outputs": [
    {
     "data": {
      "text/plain": [
       "{'train': {'melspectrogram': array([[-0.04504155, -0.5129219 , -0.47196412, ..., -0.9712567 ,\n",
       "          -0.99281067, -0.99828345],\n",
       "         [-0.01699185, -0.51559293, -0.53285223, ..., -0.9912033 ,\n",
       "          -0.99977577, -1.        ],\n",
       "         [-0.01728415, -0.5161555 , -0.49409568, ..., -0.9978849 ,\n",
       "          -0.99978524, -0.9999946 ],\n",
       "         ...,\n",
       "         [-0.0171945 , -0.8915984 , -0.8546513 , ..., -0.99450314,\n",
       "          -0.9996007 , -1.        ],\n",
       "         [-0.01721412, -0.9050265 , -0.8571305 , ..., -0.99341494,\n",
       "          -0.99945045, -0.99988985],\n",
       "         [-0.01719472, -0.9099785 , -0.8790836 , ..., -0.99427086,\n",
       "          -0.9995546 , -1.        ]], dtype=float32),\n",
       "  'mfcc': array([[-0.965824  ,  0.7495787 , -0.56103367, ...,  0.01619458,\n",
       "           0.04867846,  0.05167317],\n",
       "         [-0.9794857 ,  0.8005483 , -0.5696797 , ...,  0.05881221,\n",
       "           0.02247417,  0.03910745],\n",
       "         [-0.9795871 ,  0.84554815, -0.5713744 , ...,  0.04461651,\n",
       "           0.01746377,  0.03254361],\n",
       "         ...,\n",
       "         [-1.        ,  0.17421977, -0.1631651 , ...,  0.02594637,\n",
       "           0.02707718,  0.04946522],\n",
       "         [-0.995486  ,  0.20605627, -0.25823963, ...,  0.02862497,\n",
       "           0.02721656,  0.05426457],\n",
       "         [-0.9956224 ,  0.22709218, -0.2500746 , ...,  0.0271624 ,\n",
       "           0.02696949,  0.05151295]], dtype=float32),\n",
       "  'chroma': array([[0.37481347, 0.5813034 , 0.59041536, ..., 0.306074  , 0.31283063,\n",
       "          0.3315222 ],\n",
       "         [0.9718861 , 0.58898056, 0.6809763 , ..., 0.36373988, 0.5034247 ,\n",
       "          0.47123578],\n",
       "         [0.9679087 , 0.5436398 , 0.6204184 , ..., 0.33195964, 0.48699865,\n",
       "          0.53503937],\n",
       "         ...,\n",
       "         [0.84485304, 0.8153314 , 0.8237476 , ..., 0.7352933 , 0.7335952 ,\n",
       "          0.78062433],\n",
       "         [0.8310188 , 0.818447  , 0.76144576, ..., 0.6757489 , 0.7365956 ,\n",
       "          0.804932  ],\n",
       "         [0.83243024, 0.8139083 , 0.77523506, ..., 0.70107573, 0.749332  ,\n",
       "          0.76797146]], dtype=float32),\n",
       "  'cqt': array([[-31.339762, -30.387003, -29.497608, ..., -47.60946 , -51.50007 ,\n",
       "          -53.21948 ],\n",
       "         [-23.089819, -25.12366 , -25.712523, ..., -45.72004 , -47.33227 ,\n",
       "          -50.5094  ],\n",
       "         [-25.211979, -22.933607, -25.712324, ..., -44.837547, -45.499393,\n",
       "          -45.843945],\n",
       "         ...,\n",
       "         [-33.353157, -34.275066, -34.694836, ..., -61.43893 , -65.12373 ,\n",
       "          -66.54318 ],\n",
       "         [-34.159912, -35.63471 , -36.5011  , ..., -56.19393 , -61.18868 ,\n",
       "          -61.44217 ],\n",
       "         [-33.20047 , -35.051094, -35.459362, ..., -57.324158, -61.871666,\n",
       "          -62.9148  ]], dtype=float32),\n",
       "  'label': array([12, 12, 12, ...,  4,  4,  4]),\n",
       "  'id': array(['XC236456.mp3', 'XC236456.mp3', 'XC236456.mp3', ...,\n",
       "         'XC196991.mp3', 'XC196991.mp3', 'XC196991.mp3'], dtype='<U12')},\n",
       " 'val': {'melspectrogram': array([[-0.06486248, -0.43688795, -0.48112553, ..., -0.9258578 ,\n",
       "          -0.93780756, -0.9752835 ],\n",
       "         [-0.09466525, -0.3845491 , -0.43868804, ..., -0.95288146,\n",
       "          -0.9659517 , -0.9847693 ],\n",
       "         [-0.07353085, -0.38766897, -0.43416825, ..., -0.94864184,\n",
       "          -0.95760643, -0.9761665 ],\n",
       "         ...,\n",
       "         [-0.03195459, -0.17425258, -0.24347146, ..., -0.85529053,\n",
       "          -0.88159645, -0.9997882 ],\n",
       "         [-0.01786823, -0.18674868, -0.25255963, ..., -0.847973  ,\n",
       "          -0.87998164, -0.9999829 ],\n",
       "         [-0.02767456, -0.24895333, -0.32091704, ..., -0.8548628 ,\n",
       "          -0.88543236, -0.99996984]], dtype=float32),\n",
       "  'mfcc': array([[-9.90987837e-01,  4.39725190e-01, -1.91961564e-02, ...,\n",
       "           4.04420272e-02,  4.11587805e-02, -1.04252230e-02],\n",
       "         [-9.95964646e-01,  4.99907136e-01,  4.50095870e-02, ...,\n",
       "           2.48361696e-02,  2.89645717e-02,  6.55402197e-03],\n",
       "         [-9.87031162e-01,  4.88386035e-01,  2.90898699e-02, ...,\n",
       "           3.00784186e-02,  3.87018956e-02, -8.41632835e-04],\n",
       "         ...,\n",
       "         [-9.84740853e-01,  6.44255161e-01, -1.24020554e-01, ...,\n",
       "           4.35317643e-02,  6.33906480e-03,  2.30679270e-02],\n",
       "         [-9.83021975e-01,  6.34832561e-01, -6.55943602e-02, ...,\n",
       "           4.30065133e-02,  2.79003289e-03,  1.72829237e-02],\n",
       "         [-9.97589707e-01,  5.83920240e-01,  9.68145486e-03, ...,\n",
       "           4.00246754e-02,  3.98847973e-03,  1.21376598e-02]], dtype=float32),\n",
       "  'chroma': array([[0.67754173, 0.7168786 , 0.80213886, ..., 0.8060799 , 0.7646961 ,\n",
       "          0.68545324],\n",
       "         [0.7237549 , 0.76963866, 0.8034099 , ..., 0.8108489 , 0.7303683 ,\n",
       "          0.6698883 ],\n",
       "         [0.7523659 , 0.81211853, 0.8659644 , ..., 0.8348262 , 0.7601286 ,\n",
       "          0.6996612 ],\n",
       "         ...,\n",
       "         [0.7877888 , 0.7489027 , 0.7357811 , ..., 0.6299312 , 0.6630117 ,\n",
       "          0.76643336],\n",
       "         [0.84909815, 0.824357  , 0.81033325, ..., 0.6793096 , 0.68251294,\n",
       "          0.7815064 ],\n",
       "         [0.81525594, 0.84753734, 0.88621503, ..., 0.76313686, 0.76676273,\n",
       "          0.77627546]], dtype=float32),\n",
       "  'cqt': array([[-11.314604 , -11.164054 , -12.188162 , ..., -43.54724  ,\n",
       "          -44.464787 , -45.118664 ],\n",
       "         [ -6.702486 ,  -7.804719 ,  -5.6134424, ..., -44.550793 ,\n",
       "          -45.297653 , -45.34632  ],\n",
       "         [ -7.486748 ,  -5.005557 ,  -8.560985 , ..., -44.35578  ,\n",
       "          -44.670788 , -46.269653 ],\n",
       "         ...,\n",
       "         [ -8.781953 ,  -7.5785   , -10.861528 , ..., -54.162636 ,\n",
       "          -52.71224  , -52.064762 ],\n",
       "         [-12.07128  , -13.684768 , -12.209711 , ..., -53.629776 ,\n",
       "          -51.879463 , -51.02832  ],\n",
       "         [ -9.919465 , -14.635019 ,  -9.857887 , ..., -55.287476 ,\n",
       "          -55.782204 , -55.553505 ]], dtype=float32),\n",
       "  'label': array([14, 14, 14, ...,  4,  4,  4]),\n",
       "  'id': array(['XC466994.mp3', 'XC466994.mp3', 'XC466994.mp3', ...,\n",
       "         'XC207216.mp3', 'XC207216.mp3', 'XC207216.mp3'], dtype='<U12')}}"
      ]
     },
     "execution_count": 31,
     "metadata": {},
     "output_type": "execute_result"
    }
   ],
   "source": [
    "merged_dict_1D = {'train': train_features_1D, 'val': val_features_1D}\n",
    "merged_dict_1D"
   ]
  },
  {
   "cell_type": "code",
   "execution_count": 32,
   "metadata": {},
   "outputs": [
    {
     "data": {
      "text/plain": [
       "{'train': {'melspectrogram': array([[[-3.67881385e-02, -1.84207382e-02, -2.13169485e-02, ...,\n",
       "           -3.30114481e-02, -4.38906960e-02, -4.98871926e-02],\n",
       "          [-1.94555980e-01, -2.12092587e-01, -2.64288687e-01, ...,\n",
       "           -1.90025605e-01, -1.55930098e-01, -1.45294745e-01],\n",
       "          [-2.51263802e-01, -2.65686724e-01, -3.12424335e-01, ...,\n",
       "           -2.59840115e-01, -2.19372969e-01, -2.05539240e-01],\n",
       "          ...,\n",
       "          [-9.07598412e-01, -9.08638426e-01, -9.12845269e-01, ...,\n",
       "           -9.70791936e-01, -9.62711216e-01, -9.53373095e-01],\n",
       "          [-9.21042425e-01, -9.21481495e-01, -9.24874317e-01, ...,\n",
       "           -1.00000000e+00, -9.75673073e-01, -9.62109094e-01],\n",
       "          [-1.00000000e+00, -1.00000000e+00, -1.00000000e+00, ...,\n",
       "           -9.99230228e-01, -9.94950480e-01, -9.86188374e-01]],\n",
       "  \n",
       "         [[-1.76479556e-02, -1.33084832e-04, -7.89614767e-03, ...,\n",
       "           -9.56111681e-03,  3.35906343e-08, -1.28647378e-02],\n",
       "          [-1.94707453e-01, -2.13216081e-01, -2.70237088e-01, ...,\n",
       "           -2.73681849e-01, -2.12566435e-01, -1.90173134e-01],\n",
       "          [-2.68724859e-01, -2.87114739e-01, -3.42765242e-01, ...,\n",
       "           -3.54137242e-01, -2.92198628e-01, -2.68492222e-01],\n",
       "          ...,\n",
       "          [-9.98595297e-01, -9.98447478e-01, -9.97901797e-01, ...,\n",
       "           -9.98129785e-01, -9.98455584e-01, -9.98499930e-01],\n",
       "          [-9.99751210e-01, -9.99727190e-01, -9.99599099e-01, ...,\n",
       "           -9.97405469e-01, -9.97815549e-01, -9.97933626e-01],\n",
       "          [-1.00000000e+00, -1.00000000e+00, -1.00000000e+00, ...,\n",
       "           -1.00000000e+00, -1.00000000e+00, -1.00000000e+00]],\n",
       "  \n",
       "         [[-1.79643240e-02, -9.25079221e-04, -8.12869146e-03, ...,\n",
       "           -1.00305844e-02,  0.00000000e+00, -1.31175099e-02],\n",
       "          [-1.86758980e-01, -2.04947218e-01, -2.61718035e-01, ...,\n",
       "           -2.80483603e-01, -2.18254298e-01, -1.95504069e-01],\n",
       "          [-2.55538583e-01, -2.71542549e-01, -3.22848737e-01, ...,\n",
       "           -3.62073988e-01, -2.99486786e-01, -2.75765896e-01],\n",
       "          ...,\n",
       "          [-9.96322215e-01, -9.96205151e-01, -9.95712101e-01, ...,\n",
       "           -9.99735296e-01, -1.00000000e+00, -1.00000000e+00],\n",
       "          [-9.98256683e-01, -9.98215020e-01, -9.98082697e-01, ...,\n",
       "           -9.99352694e-01, -9.99483585e-01, -9.99457836e-01],\n",
       "          [-1.00000000e+00, -1.00000000e+00, -1.00000000e+00, ...,\n",
       "           -1.00000000e+00, -9.99807835e-01, -9.99722779e-01]],\n",
       "  \n",
       "         ...,\n",
       "  \n",
       "         [[-1.73537601e-02,  0.00000000e+00, -8.12055543e-03, ...,\n",
       "           -9.78235528e-03, -2.57980064e-05, -1.30604776e-02],\n",
       "          [-1.93785131e-01, -2.12207049e-01, -2.69360006e-01, ...,\n",
       "           -2.80136764e-01, -2.17434376e-01, -1.94144115e-01],\n",
       "          [-2.68308997e-01, -2.86588162e-01, -3.42328101e-01, ...,\n",
       "           -3.52868587e-01, -2.91469365e-01, -2.68542886e-01],\n",
       "          ...,\n",
       "          [-9.99171257e-01, -9.99195695e-01, -9.99255478e-01, ...,\n",
       "           -9.99466658e-01, -9.99410629e-01, -9.99382496e-01],\n",
       "          [-9.99505997e-01, -9.99512196e-01, -9.99535978e-01, ...,\n",
       "           -9.99524653e-01, -9.99499500e-01, -9.99492168e-01],\n",
       "          [-1.00000000e+00, -1.00000000e+00, -1.00000000e+00, ...,\n",
       "           -1.00000000e+00, -1.00000000e+00, -1.00000000e+00]],\n",
       "  \n",
       "         [[-1.69416443e-02, -3.37657475e-08, -8.03038478e-03, ...,\n",
       "           -9.83216427e-03, -8.68877905e-05, -1.31185493e-02],\n",
       "          [-1.89773843e-01, -2.08337590e-01, -2.65854985e-01, ...,\n",
       "           -2.80039579e-01, -2.17364401e-01, -1.94091961e-01],\n",
       "          [-2.62847722e-01, -2.81437933e-01, -3.37937146e-01, ...,\n",
       "           -3.52812737e-01, -2.91474789e-01, -2.68567711e-01],\n",
       "          ...,\n",
       "          [-9.93367195e-01, -9.94994044e-01, -9.97839093e-01, ...,\n",
       "           -9.99213219e-01, -9.99147177e-01, -9.99116361e-01],\n",
       "          [-9.93139565e-01, -9.94873762e-01, -9.98472810e-01, ...,\n",
       "           -9.99539971e-01, -9.99512613e-01, -9.99502897e-01],\n",
       "          [-9.94297981e-01, -9.96120691e-01, -1.00000000e+00, ...,\n",
       "           -1.00000000e+00, -1.00000000e+00, -1.00000000e+00]],\n",
       "  \n",
       "         [[-1.73587166e-02,  0.00000000e+00, -8.11988395e-03, ...,\n",
       "           -9.75831505e-03, -5.12445331e-06, -1.30550023e-02],\n",
       "          [-1.93766549e-01, -2.12193996e-01, -2.69369274e-01, ...,\n",
       "           -2.79977858e-01, -2.17305422e-01, -1.94053620e-01],\n",
       "          [-2.68190801e-01, -2.86449730e-01, -3.42182517e-01, ...,\n",
       "           -3.52746069e-01, -2.91376323e-01, -2.68483549e-01],\n",
       "          ...,\n",
       "          [-9.99088883e-01, -9.99108553e-01, -9.99161839e-01, ...,\n",
       "           -9.95874405e-01, -9.97433722e-01, -9.97763634e-01],\n",
       "          [-9.99743640e-01, -9.99752104e-01, -9.99766707e-01, ...,\n",
       "           -9.97886360e-01, -9.98515368e-01, -9.98648226e-01],\n",
       "          [-1.00000000e+00, -1.00000000e+00, -1.00000000e+00, ...,\n",
       "           -1.00000000e+00, -1.00000000e+00, -1.00000000e+00]]]),\n",
       "  'mfcc': array([[[-7.23385372e-01, -7.54318489e-01, -9.56133890e-01, ...,\n",
       "           -6.59132749e-01, -6.26533908e-01, -7.05872226e-01],\n",
       "          [ 1.00000000e+00,  1.00000000e+00,  1.00000000e+00, ...,\n",
       "            1.00000000e+00,  1.00000000e+00,  1.00000000e+00],\n",
       "          [-7.56774884e-02, -1.68320129e-01, -3.47399495e-01, ...,\n",
       "            1.74036352e-01,  1.77052260e-01,  1.81704691e-01],\n",
       "          ...,\n",
       "          [ 1.11640821e-02,  5.01680758e-03, -3.92874279e-04, ...,\n",
       "            3.63278263e-02,  5.18454561e-02,  7.69822957e-02],\n",
       "          [ 5.18246633e-02,  6.81174762e-02,  7.58153425e-02, ...,\n",
       "            4.12762623e-02,  4.24320996e-02,  4.30091813e-02],\n",
       "          [ 5.96940423e-02,  6.90654083e-02,  7.62129067e-02, ...,\n",
       "            2.54674914e-02,  3.79622473e-02,  4.70880951e-02]],\n",
       "  \n",
       "         [[-6.12944305e-01, -5.93665421e-01, -7.76381969e-01, ...,\n",
       "           -8.61610174e-01, -6.85942292e-01, -6.84709013e-01],\n",
       "          [ 1.00000000e+00,  1.00000000e+00,  1.00000000e+00, ...,\n",
       "            1.00000000e+00,  1.00000000e+00,  1.00000000e+00],\n",
       "          [-8.94051492e-02, -1.96440488e-01, -3.28661412e-01, ...,\n",
       "           -3.28280330e-01, -1.61991939e-01, -4.70882989e-02],\n",
       "          ...,\n",
       "          [ 4.14215364e-02,  3.97584848e-02,  4.03233841e-02, ...,\n",
       "            2.84173563e-02,  2.84427460e-02,  2.88652647e-02],\n",
       "          [ 3.09157670e-02,  3.56976613e-02,  3.35704759e-02, ...,\n",
       "            3.48771438e-02,  3.04039009e-02,  2.92158257e-02],\n",
       "          [ 1.90143120e-02,  2.11310610e-02,  1.99848581e-02, ...,\n",
       "            2.19152682e-02,  7.78798806e-03,  2.10592127e-03]],\n",
       "  \n",
       "         [[-7.38998413e-01, -6.83960378e-01, -7.69962072e-01, ...,\n",
       "           -8.53014410e-01, -6.19908154e-01, -5.75996935e-01],\n",
       "          [ 1.00000000e+00,  1.00000000e+00,  1.00000000e+00, ...,\n",
       "            1.00000000e+00,  1.00000000e+00,  1.00000000e+00],\n",
       "          [ 4.91516106e-02, -1.01595819e-01, -3.22865427e-01, ...,\n",
       "           -2.92460322e-01, -1.48123816e-01, -6.23196624e-02],\n",
       "          ...,\n",
       "          [ 3.88307050e-02,  2.59537213e-02,  2.21681837e-02, ...,\n",
       "            3.20408344e-02,  2.62937564e-02,  2.79237404e-02],\n",
       "          [ 1.46289337e-02,  2.27543898e-02,  2.82335766e-02, ...,\n",
       "           -5.39998338e-03, -2.44796975e-03,  9.98573261e-04],\n",
       "          [-6.54313434e-03,  1.16497958e-02,  2.13603340e-02, ...,\n",
       "           -4.14353469e-03, -5.41275658e-04,  3.19898268e-03]],\n",
       "  \n",
       "         ...,\n",
       "  \n",
       "         [[-1.00000000e+00, -1.00000000e+00, -1.00000000e+00, ...,\n",
       "           -1.00000000e+00, -1.00000000e+00, -1.00000000e+00],\n",
       "          [ 8.73609602e-01,  7.78459430e-01,  5.67922413e-01, ...,\n",
       "            5.38610637e-01,  7.54441321e-01,  8.71824086e-01],\n",
       "          [ 1.76753476e-01,  1.59018576e-01,  1.17507897e-01, ...,\n",
       "            1.12820387e-01,  1.55236125e-01,  1.77410170e-01],\n",
       "          ...,\n",
       "          [ 2.89998949e-02,  2.78717279e-02,  2.28961669e-02, ...,\n",
       "            2.21337937e-02,  2.70794686e-02,  2.88528483e-02],\n",
       "          [ 2.72318441e-02,  2.63602696e-02,  2.20560711e-02, ...,\n",
       "            2.11239178e-02,  2.55944263e-02,  2.71146242e-02],\n",
       "          [ 2.45113727e-02,  2.38597896e-02,  2.01226156e-02, ...,\n",
       "            1.99235976e-02,  2.40027308e-02,  2.52950806e-02]],\n",
       "  \n",
       "         [[-7.89714813e-01, -8.17566574e-01, -1.00000000e+00, ...,\n",
       "           -1.00000000e+00, -1.00000000e+00, -1.00000000e+00],\n",
       "          [ 1.00000000e+00,  1.00000000e+00,  9.06583607e-01, ...,\n",
       "            5.39729118e-01,  7.55317986e-01,  8.72531831e-01],\n",
       "          [-2.15312719e-01, -3.33815813e-01, -4.93799061e-01, ...,\n",
       "            1.09636322e-01,  1.53385237e-01,  1.75801784e-01],\n",
       "          ...,\n",
       "          [-2.63493285e-02, -4.56935950e-02, -2.61468329e-02, ...,\n",
       "            2.22887415e-02,  2.75059938e-02,  2.93577854e-02],\n",
       "          [-1.37307700e-02, -6.79749390e-03,  1.02523447e-03, ...,\n",
       "            1.98471919e-02,  2.42160801e-02,  2.56412085e-02],\n",
       "          [ 5.57045490e-02,  9.84495431e-02,  1.37135550e-01, ...,\n",
       "            1.96864381e-02,  2.35715136e-02,  2.48099845e-02]],\n",
       "  \n",
       "         [[-1.00000000e+00, -1.00000000e+00, -1.00000000e+00, ...,\n",
       "           -1.00000000e+00, -8.31853509e-01, -7.87292719e-01],\n",
       "          [ 8.73025417e-01,  7.77842879e-01,  5.67267954e-01, ...,\n",
       "            8.85025442e-01,  1.00000000e+00,  1.00000000e+00],\n",
       "          [ 1.77563116e-01,  1.59900218e-01,  1.18767813e-01, ...,\n",
       "           -5.51239550e-01, -4.01621968e-01, -2.68720776e-01],\n",
       "          ...,\n",
       "          [ 2.89226081e-02,  2.78284475e-02,  2.29837820e-02, ...,\n",
       "            7.06244085e-04, -2.25406922e-02, -2.92808376e-02],\n",
       "          [ 2.73813922e-02,  2.64646299e-02,  2.20081564e-02, ...,\n",
       "            4.08215448e-02,  3.00996322e-02,  2.85540819e-02],\n",
       "          [ 2.47383304e-02,  2.40772255e-02,  2.02476345e-02, ...,\n",
       "            1.21651687e-01,  1.15202002e-01,  1.07712179e-01]]]),\n",
       "  'chroma': array([[[0.69058287, 0.64895071, 0.48499476, ..., 0.71555811,\n",
       "           0.63641569, 0.57128096],\n",
       "          [0.76693951, 0.76319261, 0.64702437, ..., 0.7775759 ,\n",
       "           0.73386381, 0.68637522],\n",
       "          [0.81585035, 0.79516473, 0.67563778, ..., 0.89791755,\n",
       "           0.89454703, 0.88448755],\n",
       "          ...,\n",
       "          [0.60034439, 0.54989349, 0.39737745, ..., 0.5629736 ,\n",
       "           0.72235753, 0.80777948],\n",
       "          [0.54477363, 0.49909197, 0.36239552, ..., 0.50689538,\n",
       "           0.63921201, 0.68251003],\n",
       "          [0.57940113, 0.54026291, 0.40405429, ..., 0.52443885,\n",
       "           0.57521806, 0.58731409]],\n",
       "  \n",
       "         [[1.        , 1.        , 1.        , ..., 1.        ,\n",
       "           1.        , 1.        ],\n",
       "          [0.76973122, 0.70046461, 0.6321857 , ..., 0.45247146,\n",
       "           0.51492977, 0.66072524],\n",
       "          [0.87212098, 0.84194243, 0.78668773, ..., 0.53153664,\n",
       "           0.53679425, 0.69442028],\n",
       "          ...,\n",
       "          [0.58838278, 0.41639525, 0.31131098, ..., 0.21847799,\n",
       "           0.3179321 , 0.49713093],\n",
       "          [0.68225747, 0.57028919, 0.50272936, ..., 0.35511404,\n",
       "           0.42590305, 0.59541827],\n",
       "          [0.66769356, 0.56432581, 0.51713401, ..., 0.40175909,\n",
       "           0.52268136, 0.73104912]],\n",
       "  \n",
       "         [[0.82054466, 0.96773183, 1.        , ..., 1.        ,\n",
       "           1.        , 1.        ],\n",
       "          [0.79452032, 0.81457323, 0.69710761, ..., 0.6461091 ,\n",
       "           0.68847734, 0.7452991 ],\n",
       "          [0.89828509, 0.83489358, 0.59971803, ..., 0.66210365,\n",
       "           0.59542722, 0.67417943],\n",
       "          ...,\n",
       "          [0.80981618, 0.74016225, 0.40284839, ..., 0.56370151,\n",
       "           0.69339079, 0.78234035],\n",
       "          [1.        , 1.        , 0.67345268, ..., 0.80652487,\n",
       "           0.90234768, 0.91752815],\n",
       "          [0.9268744 , 0.92156768, 0.62531972, ..., 0.67934042,\n",
       "           0.75664556, 0.7851392 ]],\n",
       "  \n",
       "         ...,\n",
       "  \n",
       "         [[0.86543572, 0.89311612, 0.85715669, ..., 0.84859252,\n",
       "           0.89685792, 0.86307365],\n",
       "          [0.89106208, 0.92241192, 0.9026351 , ..., 0.89748198,\n",
       "           0.92483556, 0.89038181],\n",
       "          [0.93447292, 0.95844924, 0.94853991, ..., 0.94481432,\n",
       "           0.95986634, 0.93426645],\n",
       "          ...,\n",
       "          [0.86220485, 0.89504468, 0.87107182, ..., 0.86971831,\n",
       "           0.89248061, 0.86051154],\n",
       "          [0.82210189, 0.85452038, 0.81755894, ..., 0.81291372,\n",
       "           0.85595089, 0.82184082],\n",
       "          [0.80795205, 0.83487815, 0.79015023, ..., 0.78134066,\n",
       "           0.83851486, 0.80684429]],\n",
       "  \n",
       "         [[0.71810484, 0.81355596, 0.9684512 , ..., 0.85080254,\n",
       "           0.89887089, 0.86432767],\n",
       "          [0.43949136, 0.42043111, 0.39452305, ..., 0.89989567,\n",
       "           0.92749321, 0.89244342],\n",
       "          [0.40276819, 0.39501873, 0.38740471, ..., 0.94688833,\n",
       "           0.96143198, 0.93506992],\n",
       "          ...,\n",
       "          [0.47885615, 0.34042203, 0.20931078, ..., 0.86997074,\n",
       "           0.89286464, 0.86082804],\n",
       "          [0.6931473 , 0.5429458 , 0.39468032, ..., 0.8152253 ,\n",
       "           0.85860461, 0.82406318],\n",
       "          [1.        , 1.        , 1.        , ..., 0.78393769,\n",
       "           0.84115911, 0.80887252]],\n",
       "  \n",
       "         [[0.86452657, 0.89230418, 0.8564918 , ..., 1.        ,\n",
       "           1.        , 1.        ],\n",
       "          [0.88998717, 0.92133254, 0.90175843, ..., 0.4721261 ,\n",
       "           0.61432564, 0.78720349],\n",
       "          [0.93339169, 0.95725971, 0.94734204, ..., 0.42058605,\n",
       "           0.59992456, 0.77644974],\n",
       "          ...,\n",
       "          [0.85990089, 0.89260614, 0.86899   , ..., 0.27831545,\n",
       "           0.43420815, 0.59084874],\n",
       "          [0.82127488, 0.85388952, 0.81722277, ..., 0.55602902,\n",
       "           0.74194384, 0.89301425],\n",
       "          [0.80805218, 0.8350029 , 0.7901572 , ..., 0.58302683,\n",
       "           0.64258319, 0.65804088]]]),\n",
       "  'cqt': array([[[-9.63703060e+00, -9.65411546e+00, -9.78736012e+00, ...,\n",
       "           -1.65427792e+00, -1.55898145e+00, -1.56547487e+00],\n",
       "          [-9.79964116e+00, -9.87249571e+00, -1.00165579e+01, ...,\n",
       "           -8.35278545e-01, -8.02219916e-01, -8.56288101e-01],\n",
       "          [-1.00853002e+01, -1.01018778e+01, -1.03031437e+01, ...,\n",
       "            0.00000000e+00, -2.73334174e-02, -1.87324514e-01],\n",
       "          ...,\n",
       "          [-2.93644284e+01, -5.50033863e+01, -5.09964454e+01, ...,\n",
       "           -3.13690884e+01, -3.65857358e+01, -3.87705807e+01],\n",
       "          [-3.01444620e+01, -4.46666947e+01, -5.19981536e+01, ...,\n",
       "           -3.21296103e+01, -3.56384756e+01, -3.79271036e+01],\n",
       "          [-2.98353687e+01, -4.47118078e+01, -6.35397716e+01, ...,\n",
       "           -3.88941304e+01, -4.56536941e+01, -4.35642908e+01]],\n",
       "  \n",
       "         [[-1.67994726e+00, -1.69789386e+00, -1.83310580e+00, ...,\n",
       "           -1.66600847e+00, -1.53473353e+00, -1.52443910e+00],\n",
       "          [-1.84221423e+00, -1.90657783e+00, -2.03972697e+00, ...,\n",
       "           -2.03592300e+00, -1.90274799e+00, -1.84600449e+00],\n",
       "          [-2.22426510e+00, -2.24528122e+00, -2.45390797e+00, ...,\n",
       "           -2.64707351e+00, -2.40018392e+00, -2.37063861e+00],\n",
       "          ...,\n",
       "          [-2.14650230e+01, -4.85829697e+01, -4.34631233e+01, ...,\n",
       "           -5.27571869e+01, -4.27650719e+01, -3.17243824e+01],\n",
       "          [-2.14965134e+01, -6.31951790e+01, -4.46294136e+01, ...,\n",
       "           -4.73896484e+01, -4.64704781e+01, -3.37834091e+01],\n",
       "          [-2.15856838e+01, -5.87431946e+01, -5.38534966e+01, ...,\n",
       "           -4.42448692e+01, -6.29435730e+01, -3.70050430e+01]],\n",
       "  \n",
       "         [[-8.84103954e-01, -9.13695455e-01, -1.06196594e+00, ...,\n",
       "           -8.32647443e-01, -6.90855920e-01, -6.71730995e-01],\n",
       "          [-8.95911515e-01, -9.59511936e-01, -1.09315443e+00, ...,\n",
       "           -1.00726926e+00, -8.73784542e-01, -8.16292405e-01],\n",
       "          [-1.15960205e+00, -1.13971543e+00, -1.29908001e+00, ...,\n",
       "           -1.26294839e+00, -1.05372393e+00, -1.05450583e+00],\n",
       "          ...,\n",
       "          [-2.26238804e+01, -4.77444954e+01, -4.54945602e+01, ...,\n",
       "           -4.61817207e+01, -4.90009384e+01, -2.95674839e+01],\n",
       "          [-2.28710995e+01, -4.48029976e+01, -4.67647591e+01, ...,\n",
       "           -4.77604332e+01, -4.28861504e+01, -3.07652702e+01],\n",
       "          [-2.30269661e+01, -4.62705612e+01, -5.36273270e+01, ...,\n",
       "           -5.78495598e+01, -4.42765846e+01, -3.20404663e+01]],\n",
       "  \n",
       "         ...,\n",
       "  \n",
       "         [[-2.08400488e-01, -2.36745715e-01, -3.82232547e-01, ...,\n",
       "           -1.50985241e-01, -1.45862103e-02,  0.00000000e+00],\n",
       "          [-4.38213348e-01, -5.15071034e-01, -6.61876440e-01, ...,\n",
       "           -3.97272110e-01, -2.60469794e-01, -2.00267434e-01],\n",
       "          [-7.53144026e-01, -7.70176530e-01, -9.74062800e-01, ...,\n",
       "           -6.87108636e-01, -4.76827621e-01, -4.77621794e-01],\n",
       "          ...,\n",
       "          [-2.00217533e+01, -7.50747681e+01, -7.70492401e+01, ...,\n",
       "           -8.00000000e+01, -6.98396149e+01, -2.95344162e+01],\n",
       "          [-2.02674770e+01, -6.65953217e+01, -8.00000000e+01, ...,\n",
       "           -7.78577347e+01, -7.09191589e+01, -3.11304703e+01],\n",
       "          [-2.04490757e+01, -7.07824326e+01, -8.00000000e+01, ...,\n",
       "           -7.57727509e+01, -6.75022736e+01, -3.32540970e+01]],\n",
       "  \n",
       "         [[-3.07879448e-01, -3.36269736e-01, -4.81933355e-01, ...,\n",
       "           -2.57895589e-01, -1.21137500e-01, -1.06277347e-01],\n",
       "          [-5.31696200e-01, -6.08025670e-01, -7.54256606e-01, ...,\n",
       "           -5.04094243e-01, -3.67436767e-01, -3.07303071e-01],\n",
       "          [-8.47874284e-01, -8.64893436e-01, -1.06905210e+00, ...,\n",
       "           -7.94996142e-01, -5.84361911e-01, -5.84918261e-01],\n",
       "          ...,\n",
       "          [-2.08715725e+01, -3.29126358e+01, -3.18805752e+01, ...,\n",
       "           -6.24880295e+01, -7.07734375e+01, -2.95359955e+01],\n",
       "          [-2.16221981e+01, -4.28296127e+01, -4.39920197e+01, ...,\n",
       "           -6.51136856e+01, -6.80564270e+01, -3.13524952e+01],\n",
       "          [-2.17811279e+01, -4.66078987e+01, -4.33397293e+01, ...,\n",
       "           -6.73302307e+01, -7.45900192e+01, -3.33211021e+01]],\n",
       "  \n",
       "         [[-4.25643027e-01, -4.54160154e-01, -5.99871576e-01, ...,\n",
       "           -3.65973771e-01, -2.29321301e-01, -2.14536965e-01],\n",
       "          [-6.51441991e-01, -7.28325546e-01, -8.75167429e-01, ...,\n",
       "           -6.14654839e-01, -4.77829516e-01, -4.17559564e-01],\n",
       "          [-9.62493956e-01, -9.79077637e-01, -1.18247271e+00, ...,\n",
       "           -9.06003296e-01, -6.95075691e-01, -6.95383847e-01],\n",
       "          ...,\n",
       "          [-2.02374935e+01, -8.00000000e+01, -6.78496475e+01, ...,\n",
       "           -3.82893105e+01, -2.86652908e+01, -2.81809483e+01],\n",
       "          [-2.04666843e+01, -7.70992126e+01, -6.62988281e+01, ...,\n",
       "           -4.02678757e+01, -4.29689903e+01, -4.12888756e+01],\n",
       "          [-2.06568184e+01, -8.00000000e+01, -7.73080750e+01, ...,\n",
       "           -5.60702744e+01, -4.42237701e+01, -3.09579258e+01]]]),\n",
       "  'label': array([12, 12, 12, ...,  4,  4,  4]),\n",
       "  'id': array(['XC236456.mp3', 'XC236456.mp3', 'XC236456.mp3', ...,\n",
       "         'XC196991.mp3', 'XC196991.mp3', 'XC196991.mp3'], dtype='<U12')},\n",
       " 'val': {'melspectrogram': array([[[-0.0950508 , -0.07685079, -0.07977913, ..., -0.00660827,\n",
       "           -0.00846386, -0.02150396],\n",
       "          [-0.2647074 , -0.28196051, -0.33559732, ..., -0.21302998,\n",
       "           -0.17348696, -0.16087401],\n",
       "          [-0.33629949, -0.35377338, -0.40695552, ..., -0.30534362,\n",
       "           -0.25182466, -0.23199906],\n",
       "          ...,\n",
       "          [-0.90729854, -0.89328355, -0.86957048, ..., -0.99214954,\n",
       "           -0.99327749, -0.99402669],\n",
       "          [-0.94906115, -0.93445379, -0.91317139, ..., -0.98702447,\n",
       "           -0.9898283 , -0.99103203],\n",
       "          [-1.        , -1.        , -1.        , ..., -0.99269861,\n",
       "           -0.9953856 , -0.99643371]],\n",
       "  \n",
       "         [[-0.10034516, -0.08185801, -0.08372583, ..., -0.17439501,\n",
       "           -0.14560209, -0.14743999],\n",
       "          [-0.2667672 , -0.28244615, -0.33229124, ..., -0.32859983,\n",
       "           -0.28738084, -0.26992641],\n",
       "          [-0.33707658, -0.35275439, -0.40172449, ..., -0.35138604,\n",
       "           -0.32592187, -0.31646219],\n",
       "          ...,\n",
       "          [-0.84122467, -0.82177835, -0.80222003, ..., -0.98391164,\n",
       "           -0.99283789, -0.99386588],\n",
       "          [-0.95389182, -0.93305505, -0.89801606, ..., -0.98825502,\n",
       "           -0.99284998, -0.99069599],\n",
       "          [-1.        , -1.        , -1.        , ..., -0.99224645,\n",
       "           -0.99943834, -1.        ]],\n",
       "  \n",
       "         [[-0.0817268 , -0.06413494, -0.06765274, ..., -0.02040716,\n",
       "           -0.00834362, -0.02183076],\n",
       "          [-0.2591257 , -0.28206097, -0.33647263, ..., -0.27886099,\n",
       "           -0.23715847, -0.21617428],\n",
       "          [-0.33400152, -0.35837998, -0.41147074, ..., -0.36954903,\n",
       "           -0.31997814, -0.29952858],\n",
       "          ...,\n",
       "          [-0.89411295, -0.89539687, -0.87162308, ..., -0.99344931,\n",
       "           -0.99150961, -0.99022029],\n",
       "          [-0.9661098 , -0.97719726, -0.95586149, ..., -1.        ,\n",
       "           -1.        , -0.9994091 ],\n",
       "          [-0.9795362 , -1.        , -1.        , ..., -0.99671469,\n",
       "           -0.99984021, -1.        ]],\n",
       "  \n",
       "         ...,\n",
       "  \n",
       "         [[-0.04226195, -0.02462682, -0.03075489, ..., -0.03282351,\n",
       "           -0.0319077 , -0.0409    ],\n",
       "          [-0.25092614, -0.23951234, -0.23330933, ..., -0.16969587,\n",
       "           -0.18335989, -0.18376185],\n",
       "          [-0.27993143, -0.28015152, -0.30583617, ..., -0.22405043,\n",
       "           -0.32205513, -0.32980445],\n",
       "          ...,\n",
       "          [-0.98826492, -0.98702264, -0.98158199, ..., -0.97634852,\n",
       "           -0.993186  , -0.98901272],\n",
       "          [-0.98961753, -0.98912889, -0.98603863, ..., -0.98224711,\n",
       "           -0.99216044, -0.98604286],\n",
       "          [-0.99412745, -0.99585915, -1.        , ..., -1.        ,\n",
       "           -1.        , -0.99159431]],\n",
       "  \n",
       "         [[-0.04151559, -0.00643165, -0.0024472 , ..., -0.01136859,\n",
       "           -0.00483926, -0.02578196],\n",
       "          [-0.24336183, -0.25318629, -0.27513096, ..., -0.2092292 ,\n",
       "           -0.22124496, -0.21283004],\n",
       "          [-0.25784948, -0.27172211, -0.3160122 , ..., -0.27738842,\n",
       "           -0.26600793, -0.2625533 ],\n",
       "          ...,\n",
       "          [-0.99205959, -0.98959357, -0.97840577, ..., -0.95924914,\n",
       "           -0.98244762, -0.98653567],\n",
       "          [-0.99404317, -0.992989  , -0.98740339, ..., -0.98914075,\n",
       "           -0.99599218, -0.99628955],\n",
       "          [-0.99953061, -1.        , -1.        , ..., -1.        ,\n",
       "           -1.        , -0.99898285]],\n",
       "  \n",
       "         [[-0.01775503,  0.        , -0.01051809, ..., -0.02624731,\n",
       "           -0.02174374, -0.03724938],\n",
       "          [-0.20698491, -0.2151041 , -0.23915756, ..., -0.30095071,\n",
       "           -0.23808894, -0.21426572],\n",
       "          [-0.34298503, -0.36070198, -0.38054737, ..., -0.3330639 ,\n",
       "           -0.28821084, -0.27267569],\n",
       "          ...,\n",
       "          [-0.99102807, -0.98845935, -0.97281551, ..., -0.97261626,\n",
       "           -0.98529428, -0.98896164],\n",
       "          [-0.99890298, -1.        , -0.99426752, ..., -0.98748541,\n",
       "           -0.99624014, -0.99790329],\n",
       "          [-0.99756473, -0.99981207, -1.        , ..., -1.        ,\n",
       "           -1.        , -1.        ]]]),\n",
       "  'mfcc': array([[[-9.15432964e-01, -9.37539397e-01, -1.00000000e+00, ...,\n",
       "           -1.00000000e+00, -7.59424401e-01, -6.03549575e-01],\n",
       "          [ 1.00000000e+00,  9.21689569e-01,  5.17991348e-01, ...,\n",
       "            8.46258664e-01,  1.00000000e+00,  1.00000000e+00],\n",
       "          [ 1.83925578e-01,  2.45199519e-02, -1.96539172e-01, ...,\n",
       "            1.62250902e-01,  1.99628606e-01,  2.00802523e-01],\n",
       "          ...,\n",
       "          [ 3.32476796e-01,  3.51959585e-01,  2.80736699e-01, ...,\n",
       "            2.19795732e-02,  2.21534912e-02,  1.99044361e-02],\n",
       "          [ 1.57025292e-01,  2.05315333e-01,  1.81926292e-01, ...,\n",
       "            2.85966271e-02,  2.48874520e-02,  2.18282357e-02],\n",
       "          [-4.03129569e-01, -4.85010408e-01, -3.90367179e-01, ...,\n",
       "            3.17195003e-02,  2.59977805e-02,  2.18210066e-02]],\n",
       "  \n",
       "         [[-7.81154168e-01, -8.67774548e-01, -1.00000000e+00, ...,\n",
       "           -1.00000000e+00, -1.00000000e+00, -1.00000000e+00],\n",
       "          [ 1.00000000e+00,  1.00000000e+00,  5.93637839e-01, ...,\n",
       "            5.60217408e-01,  6.06398945e-01,  6.21552149e-01],\n",
       "          [-6.68116566e-02, -1.82776879e-01, -2.87417664e-01, ...,\n",
       "            1.14222164e-01,  1.32033166e-01,  1.29394426e-01],\n",
       "          ...,\n",
       "          [ 1.72726483e-01,  2.12766019e-01,  1.94069024e-01, ...,\n",
       "            1.21484878e-02,  1.95980382e-02,  2.32554160e-02],\n",
       "          [ 3.00559564e-01,  4.10233164e-01,  3.72938312e-01, ...,\n",
       "            1.57535865e-02,  2.43159046e-02,  2.61001292e-02],\n",
       "          [-3.48478691e-01, -4.11338952e-01, -3.10141856e-01, ...,\n",
       "            2.81313754e-02,  2.78469449e-02,  2.54775593e-02]],\n",
       "  \n",
       "         [[-6.29036793e-01, -6.06395324e-01, -9.61068281e-01, ...,\n",
       "           -1.00000000e+00, -9.13863949e-01, -7.61341874e-01],\n",
       "          [ 1.00000000e+00,  8.80566211e-01,  6.20397778e-01, ...,\n",
       "            7.58576589e-01,  1.00000000e+00,  1.00000000e+00],\n",
       "          [-1.38501432e-01, -2.72430414e-01, -4.22528593e-01, ...,\n",
       "            1.47452655e-01,  2.13655792e-01,  2.17298911e-01],\n",
       "          ...,\n",
       "          [ 1.58380924e-01,  2.12228975e-01,  2.59283519e-01, ...,\n",
       "            2.72475150e-02,  3.39458972e-02,  3.22656694e-02],\n",
       "          [ 3.71564039e-01,  4.22582675e-01,  4.24794781e-01, ...,\n",
       "            1.87103228e-02,  3.16200179e-02,  3.06645132e-02],\n",
       "          [-3.99190917e-01, -4.27000012e-01, -3.90671359e-01, ...,\n",
       "            2.32784683e-02,  3.74557925e-02,  3.61087286e-02]],\n",
       "  \n",
       "         ...,\n",
       "  \n",
       "         [[-1.00000000e+00, -1.00000000e+00, -1.00000000e+00, ...,\n",
       "           -1.00000000e+00, -1.00000000e+00, -1.00000000e+00],\n",
       "          [ 9.66401696e-01,  9.02173400e-01,  7.02957511e-01, ...,\n",
       "            8.02622378e-01,  8.21843565e-01,  8.57364833e-01],\n",
       "          [ 1.65391952e-01,  1.08215250e-01, -1.53682427e-02, ...,\n",
       "           -2.15423983e-02,  1.02098495e-01,  1.59335166e-01],\n",
       "          ...,\n",
       "          [ 4.95159179e-02,  4.54586558e-02,  3.66147570e-02, ...,\n",
       "            2.86754966e-02,  1.76918227e-02,  1.49295731e-02],\n",
       "          [ 5.42141274e-02,  5.73188178e-02,  5.14549427e-02, ...,\n",
       "            1.06507412e-03,  2.02371459e-02,  3.09622791e-02],\n",
       "          [ 1.46473870e-02,  1.80663969e-02,  2.29083914e-02, ...,\n",
       "            5.29943267e-03,  7.18695577e-03,  8.17584526e-03]],\n",
       "  \n",
       "         [[-8.87686014e-01, -8.30752015e-01, -8.19672883e-01, ...,\n",
       "           -1.00000000e+00, -1.00000000e+00, -1.00000000e+00],\n",
       "          [ 1.00000000e+00,  1.00000000e+00,  1.00000000e+00, ...,\n",
       "            5.91196537e-01,  8.19143176e-01,  9.45540547e-01],\n",
       "          [ 1.81121290e-01,  6.92372546e-02, -1.09686486e-01, ...,\n",
       "            1.60523385e-01,  1.88215643e-01,  2.03402385e-01],\n",
       "          ...,\n",
       "          [ 2.85811964e-02,  3.03944703e-02,  4.74945791e-02, ...,\n",
       "            2.84032021e-02,  2.89782323e-02,  2.95147691e-02],\n",
       "          [ 3.54489833e-02,  4.63776253e-02,  4.20613363e-02, ...,\n",
       "            1.86042245e-02,  2.74182465e-02,  2.97398772e-02],\n",
       "          [ 1.00621292e-02,  1.07033225e-02,  1.91809628e-02, ...,\n",
       "            2.03280263e-02,  1.79447066e-02,  1.93475839e-02]],\n",
       "  \n",
       "         [[-1.00000000e+00, -1.00000000e+00, -1.00000000e+00, ...,\n",
       "           -1.00000000e+00, -1.00000000e+00, -1.00000000e+00],\n",
       "          [ 8.20006371e-01,  7.42609680e-01,  5.59356868e-01, ...,\n",
       "            6.75557733e-01,  8.60915065e-01,  9.99748290e-01],\n",
       "          [ 1.76322624e-01,  1.67887360e-01,  1.40361443e-01, ...,\n",
       "            1.13609843e-01,  1.78314537e-01,  2.06482306e-01],\n",
       "          ...,\n",
       "          [ 3.31777409e-02,  3.13446857e-02,  2.74468176e-02, ...,\n",
       "            2.52965372e-02,  2.99565457e-02,  3.13306637e-02],\n",
       "          [ 3.02512832e-02,  2.63660178e-02,  2.07522139e-02, ...,\n",
       "            1.29324105e-02,  2.48187892e-02,  2.33273450e-02],\n",
       "          [ 2.98043508e-02,  2.91037764e-02,  3.02793868e-02, ...,\n",
       "           -4.11473593e-04,  2.65640039e-02,  3.15352269e-02]]]),\n",
       "  'chroma': array([[[0.11491658, 0.08663396, 0.07027419, ..., 0.66404544,\n",
       "           0.7400284 , 0.76631734],\n",
       "          [0.07813403, 0.04682901, 0.03153524, ..., 0.689344  ,\n",
       "           0.72930067, 0.75223198],\n",
       "          [0.10087923, 0.07763508, 0.08584979, ..., 0.80661009,\n",
       "           0.83193158, 0.83706397],\n",
       "          ...,\n",
       "          [0.0948258 , 0.10379117, 0.16820346, ..., 0.85590306,\n",
       "           0.9309778 , 0.92615897],\n",
       "          [0.24160686, 0.25641439, 0.34505154, ..., 0.75328045,\n",
       "           0.83532695, 0.84296552],\n",
       "          [0.41496333, 0.38836571, 0.3754165 , ..., 0.63884815,\n",
       "           0.72743901, 0.75859042]],\n",
       "  \n",
       "         [[0.06456686, 0.04272887, 0.03065471, ..., 0.68786621,\n",
       "           0.91942089, 0.89221678],\n",
       "          [0.06753846, 0.04862877, 0.04452146, ..., 0.59722726,\n",
       "           0.86863439, 0.88771719],\n",
       "          [0.12613209, 0.12618951, 0.1633832 , ..., 0.71560005,\n",
       "           0.99105267, 1.        ],\n",
       "          ...,\n",
       "          [0.15177771, 0.27967028, 0.54101782, ..., 0.77433856,\n",
       "           0.86572779, 0.82807882],\n",
       "          [0.29225407, 0.32921945, 0.43240587, ..., 0.72748727,\n",
       "           0.84773574, 0.8011125 ],\n",
       "          [0.18097645, 0.15694757, 0.14871948, ..., 0.74683747,\n",
       "           0.9358525 , 0.87300588]],\n",
       "  \n",
       "         [[0.08174279, 0.05768348, 0.04506791, ..., 0.9412823 ,\n",
       "           0.96189017, 0.92483702],\n",
       "          [0.08894219, 0.07183906, 0.07203258, ..., 0.9792345 ,\n",
       "           0.95608057, 0.92392748],\n",
       "          [0.19912335, 0.22266973, 0.28653441, ..., 1.        ,\n",
       "           0.96636259, 0.93865369],\n",
       "          ...,\n",
       "          [0.26266429, 0.40240714, 0.65918527, ..., 0.88917798,\n",
       "           0.874884  , 0.83636053],\n",
       "          [0.28207121, 0.32828114, 0.42846166, ..., 0.79031478,\n",
       "           0.79439378, 0.77897108],\n",
       "          [0.11837646, 0.1019493 , 0.10323326, ..., 0.8025557 ,\n",
       "           0.82462887, 0.80840107]],\n",
       "  \n",
       "         ...,\n",
       "  \n",
       "         [[0.76113808, 0.80930865, 0.94006461, ..., 1.        ,\n",
       "           1.        , 0.86552918],\n",
       "          [0.88518739, 0.93496186, 1.        , ..., 0.98897415,\n",
       "           0.96095532, 0.86316276],\n",
       "          [0.97881931, 1.        , 0.99079692, ..., 0.85429764,\n",
       "           0.86130536, 0.87861735],\n",
       "          ...,\n",
       "          [0.72577602, 0.72589976, 0.75960463, ..., 0.7503435 ,\n",
       "           0.93685734, 0.89115608],\n",
       "          [0.6939283 , 0.7280724 , 0.81520545, ..., 0.82485873,\n",
       "           0.93673921, 0.85894418],\n",
       "          [0.67089796, 0.72076887, 0.85583287, ..., 0.94231653,\n",
       "           0.97404891, 0.84127188]],\n",
       "  \n",
       "         [[0.8889966 , 0.91356421, 0.94665205, ..., 0.8522957 ,\n",
       "           0.86592454, 0.89625031],\n",
       "          [0.91230148, 0.91967767, 0.95067197, ..., 0.91525197,\n",
       "           0.94745797, 0.96706223],\n",
       "          [0.98223084, 1.        , 1.        , ..., 0.96451652,\n",
       "           1.        , 1.        ],\n",
       "          ...,\n",
       "          [0.91124576, 0.90355676, 0.83785087, ..., 0.72285271,\n",
       "           0.75219494, 0.79236895],\n",
       "          [0.83255959, 0.81046706, 0.73185492, ..., 0.66155654,\n",
       "           0.68582743, 0.7607733 ],\n",
       "          [0.83677596, 0.80372107, 0.75913399, ..., 0.69581831,\n",
       "           0.70778185, 0.7727139 ]],\n",
       "  \n",
       "         [[0.78104287, 0.8037973 , 0.88682157, ..., 0.78472513,\n",
       "           0.86348641, 0.87790412],\n",
       "          [0.84361744, 0.87008351, 0.93348902, ..., 0.91526818,\n",
       "           0.94059604, 0.94282848],\n",
       "          [0.92347318, 0.95619631, 0.98564225, ..., 1.        ,\n",
       "           1.        , 1.        ],\n",
       "          ...,\n",
       "          [0.76530838, 0.83443624, 0.95719641, ..., 0.74220818,\n",
       "           0.75321174, 0.77068502],\n",
       "          [0.70404965, 0.76464015, 0.8893832 , ..., 0.70101649,\n",
       "           0.72243077, 0.74645352],\n",
       "          [0.69455481, 0.72891271, 0.83511454, ..., 0.69001055,\n",
       "           0.76227134, 0.78651512]]]),\n",
       "  'cqt': array([[[ -8.89877955,  -8.88823928,  -8.99079991, ...,  -3.02516259,\n",
       "            -2.84282775,  -2.75871137],\n",
       "          [ -9.01754207,  -9.09595101,  -9.24873585, ...,  -4.08614373,\n",
       "            -3.88987746,  -3.7808488 ],\n",
       "          [ -9.41808558,  -9.41733504,  -9.65771648, ...,  -4.1414152 ,\n",
       "            -3.88064063,  -3.75932773],\n",
       "          ...,\n",
       "          [-16.00364285, -30.75111533, -28.90223357, ..., -53.73727556,\n",
       "           -44.88736388, -35.79630018],\n",
       "          [-12.04610042, -16.44825905, -13.27994493, ..., -56.1728531 ,\n",
       "           -46.23814326, -35.12365374],\n",
       "          [-12.4941342 , -10.17369041, -10.82252521, ..., -62.58757457,\n",
       "           -47.58228006, -36.62561661]],\n",
       "  \n",
       "         [[ -4.03351815,  -3.71708258,  -3.42880252, ...,  -2.37353397,\n",
       "            -2.44937303,  -2.65866335],\n",
       "          [ -4.89278747,  -5.06029269,  -5.37999619, ...,  -1.56202842,\n",
       "            -1.81534389,  -2.12812913],\n",
       "          [ -5.99080164,  -6.04422446,  -6.16488404, ...,  -4.41936561,\n",
       "            -4.31664443,  -4.4566445 ],\n",
       "          ...,\n",
       "          [-12.40619791, -17.47905974,  -7.96579366, ..., -51.30403652,\n",
       "           -56.13573418, -42.9372328 ],\n",
       "          [-10.75502342,  -9.73615634,  -4.50090255, ..., -52.50214816,\n",
       "           -52.17736453, -38.5690643 ],\n",
       "          [-11.80047217,  -9.5916981 , -10.79351329, ..., -48.43453734,\n",
       "           -48.77171252, -42.06189796]],\n",
       "  \n",
       "         [[ -5.17322988,  -5.33681581,  -5.66728084, ...,  -5.70634337,\n",
       "            -5.6843369 ,  -5.70635462],\n",
       "          [ -4.67511101,  -4.59016004,  -4.53871916, ...,  -7.85538764,\n",
       "            -7.69498642,  -7.56239581],\n",
       "          [ -5.80557244,  -5.93925497,  -6.24573296, ...,  -9.31361704,\n",
       "            -8.75085359,  -8.33968602],\n",
       "          ...,\n",
       "          [-10.22322537, -17.76194568,   0.        , ..., -45.16209281,\n",
       "           -42.0757462 , -32.69061671],\n",
       "          [ -9.17758899, -16.12423489,  -5.32752231, ..., -46.1249687 ,\n",
       "           -42.80489533, -31.94589109],\n",
       "          [-12.2423891 , -22.13001161, -27.1463382 , ..., -49.28140106,\n",
       "           -44.34811364, -33.73977103]],\n",
       "  \n",
       "         ...,\n",
       "  \n",
       "         [[ -7.87038469,  -7.81044197,  -7.81141901, ...,  -7.18496466,\n",
       "            -7.3060379 ,  -7.50084972],\n",
       "          [ -8.26841259,  -8.29874802,  -8.4448719 , ...,  -4.04314804,\n",
       "            -4.27066994,  -4.57797527],\n",
       "          [ -7.25671101,  -6.88324213,  -6.58726692, ...,  -3.50113678,\n",
       "            -3.70832825,  -4.05578709],\n",
       "          ...,\n",
       "          [-34.74564743, -52.01068115, -56.07302856, ..., -59.26554871,\n",
       "           -63.021492  , -43.9043808 ],\n",
       "          [-34.46356964, -50.70739746, -49.67944336, ..., -52.81013489,\n",
       "           -79.95851898, -44.67324448],\n",
       "          [-34.19592285, -45.51480103, -50.31811523, ..., -51.61022949,\n",
       "           -55.71685791, -54.41547394]],\n",
       "  \n",
       "         [[-12.33228493, -11.57052422, -10.91008949, ..., -19.6495018 ,\n",
       "           -20.00868225, -20.25165176],\n",
       "          [-10.69051838, -10.22058296,  -9.83285904, ..., -55.03276062,\n",
       "           -46.66409683, -44.23128128],\n",
       "          [-10.31316185, -10.1054287 , -10.09535408, ..., -17.02450562,\n",
       "           -17.14317322, -17.16097641],\n",
       "          ...,\n",
       "          [-30.85791206, -49.61346436, -47.0570755 , ..., -62.75254822,\n",
       "           -60.35948944, -41.5273819 ],\n",
       "          [-30.92616844, -49.4762001 , -43.54808807, ..., -56.08934784,\n",
       "           -63.2279129 , -47.50414276],\n",
       "          [-31.06998062, -47.24834442, -42.34357452, ..., -57.00344849,\n",
       "           -69.95187378, -43.42355347]],\n",
       "  \n",
       "         [[ -6.55717611,  -6.1439743 ,  -5.76918459, ..., -12.30663681,\n",
       "           -12.35730076, -12.48334312],\n",
       "          [-14.21314812, -15.82038307, -18.01564217, ..., -13.02364731,\n",
       "           -12.73493385, -12.58085155],\n",
       "          [ -9.47588158,  -8.78444767,  -8.13729382, ..., -12.75783634,\n",
       "           -12.73055935, -12.85413742],\n",
       "          ...,\n",
       "          [-33.87117767, -54.42829895, -65.72683716, ..., -60.18536377,\n",
       "           -52.56848526, -43.06120682],\n",
       "          [-34.22443771, -58.05443573, -67.40764618, ..., -60.57512665,\n",
       "           -52.20968628, -41.25112915],\n",
       "          [-34.1008873 , -62.63257217, -64.25193024, ..., -59.5242157 ,\n",
       "           -57.41749954, -44.68730545]]]),\n",
       "  'label': array([14, 14, 14, ...,  4,  4,  4]),\n",
       "  'id': array(['XC466994.mp3', 'XC466994.mp3', 'XC466994.mp3', ...,\n",
       "         'XC207216.mp3', 'XC207216.mp3', 'XC207216.mp3'], dtype='<U12')}}"
      ]
     },
     "execution_count": 32,
     "metadata": {},
     "output_type": "execute_result"
    }
   ],
   "source": [
    "merged_dict_2D = {'train': train_features_2D, 'val': val_features_2D}\n",
    "merged_dict_2D"
   ]
  },
  {
   "cell_type": "markdown",
   "metadata": {},
   "source": [
    "### Save the merged dictionary to a pkl"
   ]
  },
  {
   "cell_type": "code",
   "execution_count": 33,
   "metadata": {},
   "outputs": [],
   "source": [
    "# Avrg Pooled\n",
    "with open('C:/Users/thato/Documents/Final-Year-Project/Dataset/Final-Version-Of-Bird-Classification-Project/feature-extraction/Annotated/Augmented/AveragePooled/split_features_1s_all_1D.pkl', 'wb') as file:\n",
    "  pickle.dump(merged_dict_1D, file)\n",
    "del file"
   ]
  },
  {
   "cell_type": "code",
   "execution_count": 34,
   "metadata": {},
   "outputs": [],
   "source": [
    "# Avrg Pooled\n",
    "with open('C:/Users/thato/Documents/Final-Year-Project/Dataset/Final-Version-Of-Bird-Classification-Project/feature-extraction/Annotated/Augmented/NotAveragePooled/split_features_1s_all_2D.pkl', 'wb') as file:\n",
    "  pickle.dump(merged_dict_2D, file)\n",
    "del file"
   ]
  }
 ],
 "metadata": {
  "kernelspec": {
   "display_name": "Python 3",
   "language": "python",
   "name": "python3"
  },
  "language_info": {
   "codemirror_mode": {
    "name": "ipython",
    "version": 3
   },
   "file_extension": ".py",
   "mimetype": "text/x-python",
   "name": "python",
   "nbconvert_exporter": "python",
   "pygments_lexer": "ipython3",
   "version": "3.12.4"
  }
 },
 "nbformat": 4,
 "nbformat_minor": 2
}
