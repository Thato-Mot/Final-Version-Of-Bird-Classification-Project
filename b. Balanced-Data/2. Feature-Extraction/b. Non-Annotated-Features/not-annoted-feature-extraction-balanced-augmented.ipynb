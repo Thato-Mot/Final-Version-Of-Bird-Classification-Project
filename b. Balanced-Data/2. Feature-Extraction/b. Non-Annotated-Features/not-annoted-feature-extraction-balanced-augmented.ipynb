{
 "cells": [
  {
   "cell_type": "markdown",
   "metadata": {},
   "source": [
    "# **Feature Extraction Methods: Imbalanced Data Without Annotations**\n",
    "\n",
    "- *Key Features*: [MFCCs, Mel-Spectrograms, Chroma Frequencies, CQT]\n",
    "- *Key Manipulations*: [Varying Window Sizes, Normalization, Average Pooling (Compression)]\n",
    "- *Process Assistence*: [Converting them to numpy arrays now, easy label access across features]\n",
    "- *Conversion*: [To numpy arrays and pkl files]\n"
   ]
  },
  {
   "cell_type": "code",
   "execution_count": 1,
   "metadata": {},
   "outputs": [],
   "source": [
    "# Standard libraries\n",
    "import numpy as np\n",
    "import pandas as pd\n",
    "import os\n",
    "import time\n",
    "\n",
    "# Libraries for audio\n",
    "from IPython.display import Audio\n",
    "import librosa\n",
    "import librosa.display\n",
    "\n",
    "# Training and Testing Split\n",
    "from sklearn.model_selection import train_test_split\n",
    "\n",
    "# for normalization & avgpooling features\n",
    "import tensorflow as tf\n",
    "# for preprocessing\n",
    "from sklearn.preprocessing import LabelEncoder\n",
    "from sklearn.preprocessing import MinMaxScaler\n",
    "from sklearn.preprocessing import OneHotEncoder\n",
    "from sklearn.utils import resample\n",
    "\n",
    "# Operational\n",
    "from tqdm import tqdm\n",
    "import matplotlib.pyplot as plt\n",
    "import seaborn as sns\n",
    "import pickle\n",
    "import time\n",
    "import IPython.display as ipd\n",
    "from functools import partial"
   ]
  },
  {
   "cell_type": "code",
   "execution_count": 2,
   "metadata": {},
   "outputs": [],
   "source": [
    "# Variabels to be reused\n",
    "path = '/content/drive/My Drive/Final-Year-Project/Dataset/Final-Version-Of-Bird-Classification-Project/audio_files' \n",
    "npy_path = '/content/drive/My Drive/Final-Year-Project/Dataset/Final-Version-Of-Bird-Classification-Project/train_audio_npy/' \n",
    "train_csv = '/content/drive/My Drive/Final-Year-Project/Dataset/Final-Version-Of-Bird-Classification-Project/train-not-annotated.csv' \n",
    "annotated_train_csv = '/content/drive/My Drive/Final-Year-Project/Dataset/Final-Version-Of-Bird-Classification-Project/train-annotated.csv'\n",
    "not_annotated_splt = '/content/drive/My Drive/Final-Year-Project/Dataset/Final-Version-Of-Bird-Classification-Project/trainval-split/trainval.csv'\n",
    "sr = 22050"
   ]
  },
  {
   "cell_type": "code",
   "execution_count": 3,
   "metadata": {},
   "outputs": [],
   "source": [
    "trainval_data = pd.read_csv(not_annotated_splt)\n",
    "train_data = trainval_data[trainval_data['set'] == 'tr']\n",
    "val_data = trainval_data[trainval_data['set'] == 'val']"
   ]
  },
  {
   "cell_type": "code",
   "execution_count": 4,
   "metadata": {},
   "outputs": [
    {
     "data": {
      "text/plain": [
       "species\n",
       "Himantopus himantopus        43\n",
       "Alcedo atthis                37\n",
       "Tachybaptus ruficollis       36\n",
       "Botaurus stellaris           32\n",
       "Gallinula chloropus          30\n",
       "Charadrius alexandrinus      30\n",
       "Porphyrio porphyrio          29\n",
       "Fulica atra                  28\n",
       "Acrocephalus melanopogon     28\n",
       "Ardea purpurea               24\n",
       "Motacilla flava              20\n",
       "Acrocephalus scirpaceus      20\n",
       "Circus aeruginosus           20\n",
       "Acrocephalus arundinaceus    19\n",
       "Ixobrychus minutus           19\n",
       "Ciconia ciconia              19\n",
       "Dendrocopos minor            19\n",
       "Coracias garrulus            13\n",
       "Anas platyrhynchos           12\n",
       "Anas strepera                 4\n",
       "Name: count, dtype: int64"
      ]
     },
     "execution_count": 4,
     "metadata": {},
     "output_type": "execute_result"
    }
   ],
   "source": [
    "train_data['species'].value_counts()"
   ]
  },
  {
   "cell_type": "markdown",
   "metadata": {},
   "source": [
    "# **Creating a class to do the extraction**"
   ]
  },
  {
   "cell_type": "code",
   "execution_count": 5,
   "metadata": {},
   "outputs": [],
   "source": [
    "class Extraction:\n",
    "  def __init__(self, train_df, val_df, window_size, overlap=0.5, npy_path=npy_path, sr=sr, n_mels=128, n_mfcc=20, n_chroma=12, n_cqt=84, hoplength=256, features=['mfcc'], normalize=True, avgpool=False, augment=True):\n",
    "    \"\"\"\n",
    "    Instantiate the Extraction class to extract features.\n",
    "\n",
    "    Parameters:\n",
    "      sr (int): Sample rate of the audio files.\n",
    "      n_mfccs (int): Number of MFCCs to extract.\n",
    "      n_mels (int): Number of Mel bands to extract.\n",
    "      n_chroma (int): Number of chroma bins to use.\n",
    "      n_cqt (int): Number of CQT bins to use.\n",
    "      features (list): List of features to extract.\n",
    "        accepted features: 'mfcc', 'chroma', 'cqt', 'melspectrogram'.\n",
    "      normalize (bool): Whether to normalize the features.\n",
    "      avgpool (bool): Whether to avgpool the features.\n",
    "    \"\"\"\n",
    "    \n",
    "    self.train_df = train_df\n",
    "    self.val_df = val_df\n",
    "    self.npy_path = npy_path\n",
    "    self.window_size = window_size\n",
    "    self.overlap = overlap\n",
    "    self.sr = sr\n",
    "    self.n_mels = n_mels\n",
    "    self.n_mfcc = n_mfcc\n",
    "    self.n_chroma = n_chroma\n",
    "    self.n_cqt = n_cqt\n",
    "    self.hoplength = hoplength\n",
    "\n",
    "     # confirm features have been specified\n",
    "    assert len(features) != 0, \"Must Specify At Least One Feature In The Form Of A List.\"\n",
    "    self.features = features\n",
    "\n",
    "    self.accepted_feature = ['mfcc', 'chroma', 'cqt', 'melspectrogram']\n",
    "    for feature in self.features:\n",
    "      assert feature in self.accepted_feature, f\"{feature} is not an accepted feature, only 'mfcc', 'chroma', 'cqt', 'melspectrogram' are accepted features.\"\n",
    "\n",
    "    self.normalize = normalize\n",
    "    self.avgpool = avgpool\n",
    "    self.augment = augment\n",
    "\n",
    "    print(f\"Train DataFrame shape: {train_df.shape}\")\n",
    "    print(f\"Validation DataFrame shape: {val_df.shape}\")\n",
    "\n",
    "    # extract train and val labels and features\n",
    "    self.train_y, self.train_features, self.train_ids = self.feature_extraction(self.train_df, window_size=self.window_size)\n",
    "    self.val_y, self.val_features, self.val_ids = self.feature_extraction(self.val_df, window_size=self.window_size)\n",
    "\n",
    "    # process the features by average pooling\n",
    "    self.train_features_2D, self.val_features_2D, self.train_features_1D, self.val_features_1D = self.process_features(self.train_features, self.val_features)\n",
    "\n",
    "  def random_augmentation(self, audio):\n",
    "        \"\"\"\n",
    "        Apply random augmentation to the audio: pitch shift, time stretch, or add noise.\n",
    "        \"\"\"\n",
    "        aug_type = np.random.choice(['pitch_up', 'pitch_down', 'noise', 'stretch', 'shrink'])\n",
    "\n",
    "        if aug_type == 'pitch_up':\n",
    "            # Random pitch up (between 1 and 4 semitones)\n",
    "            pitch_shift = np.random.uniform(1, 4)\n",
    "            audio = librosa.effects.pitch_shift(audio, sr=self.sr, n_steps=pitch_shift)\n",
    "        elif aug_type == 'pitch_down':\n",
    "            # Random pitch down (between -1 and -4 semitones)\n",
    "            pitch_shift = np.random.uniform(-4, -1)\n",
    "            audio = librosa.effects.pitch_shift(audio, sr=self.sr, n_steps=pitch_shift)\n",
    "        elif aug_type == 'noise':\n",
    "            # Add random noise at a fraction of the original audio volume\n",
    "            noise = self.generate_pink_noise(len(audio))\n",
    "            audio = audio + 0.01 * np.random.uniform(0.2, 0.5) * np.max(audio) * noise\n",
    "        elif aug_type == 'stretch':\n",
    "            # Randomly stretch audio (speed up)\n",
    "            stretch_factor = np.random.uniform(1.1, 1.5)\n",
    "            audio = librosa.effects.time_stretch(audio, rate=stretch_factor)\n",
    "        elif aug_type == 'shrink':\n",
    "            # Randomly shrink audio (slow down)\n",
    "            stretch_factor = np.random.uniform(0.8, 0.9)\n",
    "            audio = librosa.effects.time_stretch(audio, rate=stretch_factor)\n",
    "\n",
    "  def normalize_audio(self, audio):\n",
    "    return (audio - np.min(audio)) / (np.max(audio) - np.min(audio))\n",
    "  \n",
    "  def generate_pink_noise(self, num_samples):\n",
    "    white_noise = np.random.randn(num_samples)\n",
    "    \n",
    "    # Apply a filter to convert white noise into pink noise (1/f noise)\n",
    "    X = np.fft.rfft(white_noise)\n",
    "    S = np.arange(1, len(X) + 1)  # Frequency scaling\n",
    "    pink_noise = np.fft.irfft(X / S)\n",
    "\n",
    "    if len(pink_noise) < num_samples:\n",
    "        # Pad with zeros if the length is less than num_samples\n",
    "        pink_noise = np.pad(pink_noise, (0, num_samples - len(pink_noise)), mode='constant')\n",
    "    elif len(pink_noise) > num_samples:\n",
    "        # Trim if necessary\n",
    "        pink_noise = pink_noise[:num_samples]\n",
    "    \n",
    "    return self.normalize_audio(pink_noise)\n",
    "  \n",
    "  def pad_with_noise(self, audio_data, window_length, window_samples):\n",
    "    current_length = librosa.get_duration(y=audio_data, sr=self.sr)\n",
    "\n",
    "    if current_length > window_length:\n",
    "        return audio_data\n",
    "    \n",
    "    target_length_samples = int(window_length * sr) \n",
    "    current_length_samples = window_samples\n",
    "    padding_length_samples = target_length_samples - current_length_samples\n",
    "\n",
    "    assert target_length_samples == (current_length_samples+padding_length_samples)\n",
    "    \n",
    "    # Generate pink noise to pad with\n",
    "    pink_noise = self.generate_pink_noise(padding_length_samples)\n",
    "    padded_audio = np.concatenate([audio_data, pink_noise])\n",
    "    # if len(padded_audio) < target_length_samples:\n",
    "    #     padded_audio = np.append(padded_audio, self.generate_pink_noise(1))\n",
    "\n",
    "    assert target_length_samples == len(padded_audio)\n",
    "    \n",
    "    return padded_audio\n",
    "\n",
    "#-------------------------Feature Extraction---------------------------------------\n",
    "  def extract_mfcc(self, window):\n",
    "    mfcc = librosa.feature.mfcc(y=window, sr=self.sr, n_mfcc=self.n_mfcc, hop_length=self.hoplength)\n",
    "    if self.normalize:\n",
    "      return librosa.util.normalize(mfcc)\n",
    "    else:\n",
    "      return mfcc\n",
    "\n",
    "\n",
    "  def extract_chroma(self, window):\n",
    "    chroma = librosa.feature.chroma_stft(y=window, sr=self.sr, n_chroma=self.n_chroma, hop_length=self.hoplength)\n",
    "    if self.normalize:\n",
    "      return librosa.util.normalize(chroma)\n",
    "    else:\n",
    "      return chroma\n",
    "   \n",
    "\n",
    "  def extract_cqt(self, window):\n",
    "    cqt = librosa.cqt(y=window, sr=sr, hop_length=self.hoplength, n_bins=self.n_cqt)\n",
    "    cqt_db = librosa.amplitude_to_db(np.abs(cqt), ref=np.max)\n",
    "    return cqt_db\n",
    "\n",
    "  def extract_melspectrogram(self, window):\n",
    "    mel = librosa.feature.melspectrogram(y=window, sr=self.sr, n_mels=self.n_mels, hop_length=self.hoplength)\n",
    "    mel_db = librosa.power_to_db(mel, ref=np.max)\n",
    "    if self.normalize:\n",
    "      return librosa.util.normalize(mel_db)\n",
    "    else:\n",
    "      return mel_db\n",
    "    \n",
    "  def avgpooling(self, train_X, val_X, n_time, n_features):\n",
    "    \"\"\"\n",
    "    Average pooling the train and val features.\n",
    "\n",
    "    Parameters:\n",
    "      train_X (npy): Training feature array of shape (batch_size, n_features, n_time)\n",
    "      val_X (npy): Validation feature array of shape (batch_size, n_features, n_time)\n",
    "      n_time (int): Time axis\n",
    "      n_features (int): Feature axis\n",
    "\n",
    "    Returns:\n",
    "      train_X (npy): Avgpooled training feature array of shape (batch_size, n_features)\n",
    "      val_X (npy): Avgpooled validation feature array of shape (batch_size, n_features)\n",
    "    \"\"\"\n",
    "    # Clear the Keras session\n",
    "    tf.keras.backend.clear_session()\n",
    "    \n",
    "    # Create the Keras input layer with shape (n_features, n_time)\n",
    "    input_layer = tf.keras.layers.Input(shape=(n_features, n_time))\n",
    "    \n",
    "    # Apply average pooling over the time axis (axis=-1) to reduce n_time\n",
    "    avg_pool = tf.keras.layers.Lambda(lambda x: tf.reduce_mean(x, axis=-1))(input_layer)\n",
    "    \n",
    "    # Build the model\n",
    "    pooling_model = tf.keras.models.Model(inputs=input_layer, outputs=avg_pool)\n",
    "\n",
    "    # Use the model to apply average pooling on the training and validation features\n",
    "    train_X = pooling_model.predict(train_X)\n",
    "    val_X = pooling_model.predict(val_X)\n",
    "\n",
    "    return train_X, val_X\n",
    "\n",
    "    \n",
    "  def process_features(self, train_features_dict, val_features_dict):\n",
    "    train_copy = train_features_dict.copy()\n",
    "    val_copy = val_features_dict.copy()\n",
    "    for each in train_copy.keys():\n",
    "      \n",
    "      if each == 'mfcc':\n",
    "        n_features=self.n_mfcc\n",
    "      elif each == 'chroma':\n",
    "        n_features=self.n_chroma\n",
    "      elif each == 'cqt':\n",
    "        n_features=self.n_cqt\n",
    "      elif each == 'melspectrogram':\n",
    "        n_features=self.n_mels\n",
    "      \n",
    "      train_feature = train_copy[each]\n",
    "      val_feature = val_copy[each]\n",
    "\n",
    "      if self.avgpool:\n",
    "        train_copy[each], val_copy[each] = self.avgpooling(train_feature, val_feature, n_time=train_feature.shape[2], n_features=n_features)\n",
    "      else:\n",
    "        train_copy[each], val_copy[each] = train_copy[each], val_copy[each]\n",
    "    \n",
    "    return train_features_dict, val_features_dict, train_copy, val_copy\n",
    "      \n",
    "\n",
    "  def feature_extraction(self, dataframe, window_size):\n",
    "    y = [] # To hold the labels\n",
    "    ids = [] # To hold the audio name (going to use it to aggregate the results for one audio file)\n",
    "    features_dict = {item: [] for item in self.features} # Create a key for each feature listed\n",
    "    print(f\"Number of rows in dataframe: {len(dataframe)}\")\n",
    "    for _, row in tqdm(dataframe.iterrows(), desc=\"Processing data\", total=len(dataframe)):\n",
    "          label = row['species']\n",
    "          file_path = os.path.join(self.npy_path, row['filename_npy'])\n",
    "          id = row['audio_name']\n",
    "\n",
    "          try:\n",
    "              audio = np.load(file_path)\n",
    "          except FileNotFoundError:\n",
    "              print(f\"File not found: {file_path}\")\n",
    "              continue\n",
    "\n",
    "\n",
    "          audio = self.normalize_audio(audio)\n",
    "          if self.augment:\n",
    "                audio = self.random_augmentation(audio)\n",
    "          audio = self.pad_with_noise(audio, window_length=self.window_size, window_samples=len(audio))\n",
    "          # print(len(sample))\n",
    "\n",
    "          window_samples = int(window_size * self.sr)\n",
    "          hop_samples = int(window_samples * (1 - self.overlap))  # For overlapping\n",
    "\n",
    "          # Break the audio into windows with the specified overlap\n",
    "          audio_windows = librosa.util.frame(audio, frame_length=window_samples, hop_length=hop_samples).T\n",
    "          \n",
    "          \n",
    "          # display(label)\n",
    "          \n",
    "          for _, window in enumerate(audio_windows):\n",
    "              \n",
    "              y.append(label)\n",
    "              ids.append(id)\n",
    "\n",
    "              if len(window) < window_samples:\n",
    "                  if len(window) < 512*2:\n",
    "                     continue\n",
    "                  else:\n",
    "                      window = self.pad_with_noise(window, window_length=window_size)\n",
    "              \n",
    "              # Feature Extraction FR --------------------------------------------------------------------\n",
    "              # dynatically call the extract_x function to extract the listed features\n",
    "              for feature in self.features:\n",
    "                extract = f\"extract_{feature}\"\n",
    "                if hasattr(self, extract) and callable(func := getattr(self, extract)):\n",
    "                  features_dict[feature].append(func(window))\n",
    "\n",
    "          # cast lists to np arrays\n",
    "    for each in features_dict.keys():\n",
    "              features_dict[each] = np.array(features_dict[each])\n",
    "\n",
    "    y = np.array(y)\n",
    "    ids = np.array(ids)\n",
    "\n",
    "          # If not using average pooling, return resized features\n",
    "    return y, features_dict, ids"
   ]
  },
  {
   "cell_type": "markdown",
   "metadata": {},
   "source": [
    "# **Trying to balance the training set**"
   ]
  },
  {
   "cell_type": "code",
   "execution_count": 10,
   "metadata": {},
   "outputs": [
    {
     "name": "stdout",
     "output_type": "stream",
     "text": [
      "species\n",
      "Himantopus himantopus        43\n",
      "Alcedo atthis                37\n",
      "Tachybaptus ruficollis       36\n",
      "Botaurus stellaris           32\n",
      "Circus aeruginosus           30\n",
      "Anas platyrhynchos           30\n",
      "Coracias garrulus            30\n",
      "Dendrocopos minor            30\n",
      "Ciconia ciconia              30\n",
      "Ixobrychus minutus           30\n",
      "Acrocephalus arundinaceus    30\n",
      "Motacilla flava              30\n",
      "Acrocephalus scirpaceus      30\n",
      "Ardea purpurea               30\n",
      "Acrocephalus melanopogon     30\n",
      "Fulica atra                  30\n",
      "Porphyrio porphyrio          30\n",
      "Charadrius alexandrinus      30\n",
      "Gallinula chloropus          30\n",
      "Anas strepera                30\n",
      "Name: count, dtype: int64\n"
     ]
    }
   ],
   "source": [
    "# Step 1: Identify the majority class count\n",
    "species_counts = train_data['species'].value_counts()\n",
    "majority_class_count = species_counts.max()\n",
    "\n",
    "# Step 2: Define the target for oversampling (0.7 times the majority class count)\n",
    "target_count = int(majority_class_count * 0.7)\n",
    "\n",
    "# Step 3: Separate majority and minority classes\n",
    "df_majority = train_data[train_data['species'].map(species_counts) == majority_class_count]\n",
    "\n",
    "# Step 4: Oversample the minority classes to the target count\n",
    "oversampled_data = pd.DataFrame()\n",
    "\n",
    "for species, count in species_counts.items():\n",
    "    species_df = train_data[train_data['species'] == species]\n",
    "    if count < target_count:\n",
    "        species_upsampled = resample(species_df, \n",
    "                                     replace=True,     # Allow oversampling\n",
    "                                     n_samples=target_count,  # Target count for each class\n",
    "                                     random_state=42)  # For reproducibility\n",
    "        oversampled_data = pd.concat([oversampled_data, species_upsampled])\n",
    "    else:\n",
    "        oversampled_data = pd.concat([oversampled_data, species_df])\n",
    "\n",
    "# Combine with majority class data\n",
    "train_data_balanced = pd.concat([oversampled_data])\n",
    "\n",
    "# Check the new class distribution\n",
    "print(train_data_balanced['species'].value_counts())"
   ]
  },
  {
   "cell_type": "markdown",
   "metadata": {},
   "source": [
    "# **Average Pooling**"
   ]
  },
  {
   "cell_type": "markdown",
   "metadata": {},
   "source": [
    "## **Window Size = 6s**"
   ]
  },
  {
   "cell_type": "markdown",
   "metadata": {},
   "source": [
    "### **['melspectrogram', 'mfcc', 'chroma', 'cqt']**"
   ]
  },
  {
   "cell_type": "code",
   "execution_count": 16,
   "metadata": {},
   "outputs": [],
   "source": [
    "features_list = ['melspectrogram', 'mfcc', 'chroma', 'cqt']"
   ]
  },
  {
   "cell_type": "code",
   "execution_count": 17,
   "metadata": {},
   "outputs": [
    {
     "name": "stdout",
     "output_type": "stream",
     "text": [
      "Train DataFrame shape: (482, 6)\n",
      "Validation DataFrame shape: (133, 6)\n",
      "Number of rows in dataframe: 482\n"
     ]
    },
    {
     "name": "stderr",
     "output_type": "stream",
     "text": [
      "Processing data: 100%|██████████| 482/482 [17:35<00:00,  2.19s/it]\n"
     ]
    },
    {
     "name": "stdout",
     "output_type": "stream",
     "text": [
      "Number of rows in dataframe: 133\n"
     ]
    },
    {
     "name": "stderr",
     "output_type": "stream",
     "text": [
      "Processing data: 100%|██████████| 133/133 [02:57<00:00,  1.33s/it]\n"
     ]
    },
    {
     "name": "stdout",
     "output_type": "stream",
     "text": [
      "\u001b[1m205/205\u001b[0m \u001b[32m━━━━━━━━━━━━━━━━━━━━\u001b[0m\u001b[37m\u001b[0m \u001b[1m0s\u001b[0m 2ms/step\n",
      "\u001b[1m64/64\u001b[0m \u001b[32m━━━━━━━━━━━━━━━━━━━━\u001b[0m\u001b[37m\u001b[0m \u001b[1m0s\u001b[0m 3ms/step\n",
      "\u001b[1m205/205\u001b[0m \u001b[32m━━━━━━━━━━━━━━━━━━━━\u001b[0m\u001b[37m\u001b[0m \u001b[1m0s\u001b[0m 673us/step\n",
      "\u001b[1m64/64\u001b[0m \u001b[32m━━━━━━━━━━━━━━━━━━━━\u001b[0m\u001b[37m\u001b[0m \u001b[1m0s\u001b[0m 656us/step\n",
      "\u001b[1m205/205\u001b[0m \u001b[32m━━━━━━━━━━━━━━━━━━━━\u001b[0m\u001b[37m\u001b[0m \u001b[1m0s\u001b[0m 634us/step\n",
      "\u001b[1m64/64\u001b[0m \u001b[32m━━━━━━━━━━━━━━━━━━━━\u001b[0m\u001b[37m\u001b[0m \u001b[1m0s\u001b[0m 748us/step\n",
      "\u001b[1m205/205\u001b[0m \u001b[32m━━━━━━━━━━━━━━━━━━━━\u001b[0m\u001b[37m\u001b[0m \u001b[1m0s\u001b[0m 2ms/step\n",
      "\u001b[1m64/64\u001b[0m \u001b[32m━━━━━━━━━━━━━━━━━━━━\u001b[0m\u001b[37m\u001b[0m \u001b[1m0s\u001b[0m 2ms/step\n"
     ]
    }
   ],
   "source": [
    "features = Extraction(train_data,\n",
    "                      val_data,\n",
    "                      window_size=6,\n",
    "                      features=features_list,\n",
    "                      avgpool=True\n",
    "                      )"
   ]
  },
  {
   "cell_type": "code",
   "execution_count": 18,
   "metadata": {},
   "outputs": [
    {
     "data": {
      "text/plain": [
       "(6543,)"
      ]
     },
     "metadata": {},
     "output_type": "display_data"
    },
    {
     "data": {
      "text/plain": [
       "(2028,)"
      ]
     },
     "metadata": {},
     "output_type": "display_data"
    }
   ],
   "source": [
    "train_y = features.train_y\n",
    "val_y = features.val_y\n",
    "\n",
    "display(train_y.shape)\n",
    "display(val_y.shape)"
   ]
  },
  {
   "cell_type": "code",
   "execution_count": 19,
   "metadata": {},
   "outputs": [
    {
     "data": {
      "text/plain": [
       "'melspectrogram'"
      ]
     },
     "metadata": {},
     "output_type": "display_data"
    },
    {
     "data": {
      "text/plain": [
       "(6543, 128)"
      ]
     },
     "metadata": {},
     "output_type": "display_data"
    },
    {
     "data": {
      "text/plain": [
       "'mfcc'"
      ]
     },
     "metadata": {},
     "output_type": "display_data"
    },
    {
     "data": {
      "text/plain": [
       "(6543, 20)"
      ]
     },
     "metadata": {},
     "output_type": "display_data"
    },
    {
     "data": {
      "text/plain": [
       "'chroma'"
      ]
     },
     "metadata": {},
     "output_type": "display_data"
    },
    {
     "data": {
      "text/plain": [
       "(6543, 12)"
      ]
     },
     "metadata": {},
     "output_type": "display_data"
    },
    {
     "data": {
      "text/plain": [
       "'cqt'"
      ]
     },
     "metadata": {},
     "output_type": "display_data"
    },
    {
     "data": {
      "text/plain": [
       "(6543, 84)"
      ]
     },
     "metadata": {},
     "output_type": "display_data"
    }
   ],
   "source": [
    "# Avgpooled Features\n",
    "train_features_1D = features.train_features_1D\n",
    "for key in train_features_1D.keys():\n",
    "  display(key)\n",
    "  display(train_features_1D[key].shape)"
   ]
  },
  {
   "cell_type": "code",
   "execution_count": 20,
   "metadata": {},
   "outputs": [
    {
     "data": {
      "text/plain": [
       "'melspectrogram'"
      ]
     },
     "metadata": {},
     "output_type": "display_data"
    },
    {
     "data": {
      "text/plain": [
       "(2028, 128)"
      ]
     },
     "metadata": {},
     "output_type": "display_data"
    },
    {
     "data": {
      "text/plain": [
       "'mfcc'"
      ]
     },
     "metadata": {},
     "output_type": "display_data"
    },
    {
     "data": {
      "text/plain": [
       "(2028, 20)"
      ]
     },
     "metadata": {},
     "output_type": "display_data"
    },
    {
     "data": {
      "text/plain": [
       "'chroma'"
      ]
     },
     "metadata": {},
     "output_type": "display_data"
    },
    {
     "data": {
      "text/plain": [
       "(2028, 12)"
      ]
     },
     "metadata": {},
     "output_type": "display_data"
    },
    {
     "data": {
      "text/plain": [
       "'cqt'"
      ]
     },
     "metadata": {},
     "output_type": "display_data"
    },
    {
     "data": {
      "text/plain": [
       "(2028, 84)"
      ]
     },
     "metadata": {},
     "output_type": "display_data"
    }
   ],
   "source": [
    "# Avgpooled Features\n",
    "val_features_1D = features.val_features_1D\n",
    "for key in val_features_1D.keys():\n",
    "  display(key)\n",
    "  display(val_features_1D[key].shape)"
   ]
  },
  {
   "cell_type": "code",
   "execution_count": 21,
   "metadata": {},
   "outputs": [
    {
     "data": {
      "text/plain": [
       "'melspectrogram'"
      ]
     },
     "metadata": {},
     "output_type": "display_data"
    },
    {
     "data": {
      "text/plain": [
       "(6543, 128, 517)"
      ]
     },
     "metadata": {},
     "output_type": "display_data"
    },
    {
     "data": {
      "text/plain": [
       "'mfcc'"
      ]
     },
     "metadata": {},
     "output_type": "display_data"
    },
    {
     "data": {
      "text/plain": [
       "(6543, 20, 517)"
      ]
     },
     "metadata": {},
     "output_type": "display_data"
    },
    {
     "data": {
      "text/plain": [
       "'chroma'"
      ]
     },
     "metadata": {},
     "output_type": "display_data"
    },
    {
     "data": {
      "text/plain": [
       "(6543, 12, 517)"
      ]
     },
     "metadata": {},
     "output_type": "display_data"
    },
    {
     "data": {
      "text/plain": [
       "'cqt'"
      ]
     },
     "metadata": {},
     "output_type": "display_data"
    },
    {
     "data": {
      "text/plain": [
       "(6543, 84, 517)"
      ]
     },
     "metadata": {},
     "output_type": "display_data"
    }
   ],
   "source": [
    "# Not avgpooled Features\n",
    "train_features_2D = features.train_features_2D\n",
    "for key in train_features_2D.keys():\n",
    "  display(key)\n",
    "  display(train_features_2D[key].shape)"
   ]
  },
  {
   "cell_type": "code",
   "execution_count": 22,
   "metadata": {},
   "outputs": [
    {
     "data": {
      "text/plain": [
       "'melspectrogram'"
      ]
     },
     "metadata": {},
     "output_type": "display_data"
    },
    {
     "data": {
      "text/plain": [
       "(2028, 128, 517)"
      ]
     },
     "metadata": {},
     "output_type": "display_data"
    },
    {
     "data": {
      "text/plain": [
       "'mfcc'"
      ]
     },
     "metadata": {},
     "output_type": "display_data"
    },
    {
     "data": {
      "text/plain": [
       "(2028, 20, 517)"
      ]
     },
     "metadata": {},
     "output_type": "display_data"
    },
    {
     "data": {
      "text/plain": [
       "'chroma'"
      ]
     },
     "metadata": {},
     "output_type": "display_data"
    },
    {
     "data": {
      "text/plain": [
       "(2028, 12, 517)"
      ]
     },
     "metadata": {},
     "output_type": "display_data"
    },
    {
     "data": {
      "text/plain": [
       "'cqt'"
      ]
     },
     "metadata": {},
     "output_type": "display_data"
    },
    {
     "data": {
      "text/plain": [
       "(2028, 84, 517)"
      ]
     },
     "metadata": {},
     "output_type": "display_data"
    }
   ],
   "source": [
    "# Not avgpooled Features\n",
    "val_features_2D = features.val_features_2D\n",
    "for key in val_features_2D.keys():\n",
    "  display(key)\n",
    "  display(val_features_2D[key].shape)"
   ]
  },
  {
   "cell_type": "code",
   "execution_count": 23,
   "metadata": {},
   "outputs": [],
   "source": [
    "train_ids = features.train_ids\n",
    "val_ids = features.val_ids"
   ]
  },
  {
   "cell_type": "markdown",
   "metadata": {},
   "source": [
    "### Encode Classes"
   ]
  },
  {
   "cell_type": "code",
   "execution_count": 24,
   "metadata": {},
   "outputs": [
    {
     "name": "stdout",
     "output_type": "stream",
     "text": [
      "Encoded classes for [0, 1, 2]: ['Acrocephalus arundinaceus', 'Acrocephalus melanopogon', 'Acrocephalus scirpaceus']\n",
      "Encoded training labels: [15 15 15 ... 12 12 12]\n",
      "Encoded validation labels: [15 15 15 ... 12 12 12]\n"
     ]
    }
   ],
   "source": [
    "label_encoder = LabelEncoder().fit(train_y)\n",
    "train_y_encoded = label_encoder.transform(train_y)\n",
    "val_y_encoded = label_encoder.transform(val_y)\n",
    "\n",
    "classes = list(label_encoder.inverse_transform([0, 1, 2]))\n",
    "print(\"Encoded classes for [0, 1, 2]:\", classes)\n",
    "print(\"Encoded training labels:\", train_y_encoded)\n",
    "print(\"Encoded validation labels:\", val_y_encoded)"
   ]
  },
  {
   "cell_type": "code",
   "execution_count": 25,
   "metadata": {},
   "outputs": [],
   "source": [
    "# Avg Pooled\n",
    "\n",
    "train_features_1D['label'] = train_y_encoded\n",
    "val_features_1D['label'] = val_y_encoded\n",
    "\n",
    "train_features_1D['id'] = train_ids\n",
    "val_features_1D['id'] = val_ids\n",
    "\n",
    "# Not Avg Pooled\n",
    "\n",
    "train_features_2D['label'] = train_y_encoded\n",
    "val_features_2D['label'] = val_y_encoded\n",
    "\n",
    "train_features_2D['id'] = train_ids\n",
    "val_features_2D['id'] = val_ids"
   ]
  },
  {
   "cell_type": "code",
   "execution_count": 26,
   "metadata": {},
   "outputs": [
    {
     "data": {
      "text/plain": [
       "{'train': {'melspectrogram': array([[-0.01776731, -0.989827  , -0.99071366, ..., -0.8216415 ,\n",
       "          -0.85376334, -0.9824129 ],\n",
       "         [-0.01776753, -0.9898328 , -0.99071616, ..., -0.8170307 ,\n",
       "          -0.84770477, -0.9777302 ],\n",
       "         [-0.01776784, -0.989846  , -0.99073434, ..., -0.82816565,\n",
       "          -0.8608326 , -0.98463976],\n",
       "         ...,\n",
       "         [-0.01781281, -0.5766479 , -0.54141074, ..., -0.87102264,\n",
       "          -0.89623916, -0.99998677],\n",
       "         [-0.01774438, -0.57157916, -0.5401701 , ..., -0.8684321 ,\n",
       "          -0.89438707, -0.99997807],\n",
       "         [-0.01779194, -0.5788874 , -0.54096264, ..., -0.8674551 ,\n",
       "          -0.89504766, -0.999996  ]], dtype=float32),\n",
       "  'mfcc': array([[-1.        , -0.10011531, -0.14837739, ...,  0.02309681,\n",
       "           0.0204311 ,  0.04844239],\n",
       "         [-1.        , -0.11325053, -0.18573974, ...,  0.02437621,\n",
       "           0.02035097,  0.05108224],\n",
       "         [-1.        , -0.10374827, -0.18394189, ...,  0.02396246,\n",
       "           0.01970905,  0.04918307],\n",
       "         ...,\n",
       "         [-0.9998807 ,  0.35547334, -0.09699669, ...,  0.00907653,\n",
       "           0.02503491,  0.02524052],\n",
       "         [-0.9998737 ,  0.3698382 , -0.10598595, ...,  0.0089216 ,\n",
       "           0.02656874,  0.03092691],\n",
       "         [-0.9998217 ,  0.39726207, -0.12472909, ...,  0.00862652,\n",
       "           0.03149103,  0.03828396]], dtype=float32),\n",
       "  'chroma': array([[0.7854955 , 0.86587876, 0.9112478 , ..., 0.80830246, 0.7355714 ,\n",
       "          0.69997567],\n",
       "         [0.73295444, 0.8113373 , 0.86120427, ..., 0.72751105, 0.66635495,\n",
       "          0.6433154 ],\n",
       "         [0.7166233 , 0.78861344, 0.83983785, ..., 0.71303874, 0.65299654,\n",
       "          0.63022655],\n",
       "         ...,\n",
       "         [0.820863  , 0.85228   , 0.88140017, ..., 0.7867256 , 0.74385476,\n",
       "          0.7415259 ],\n",
       "         [0.82487917, 0.85229367, 0.8792416 , ..., 0.7855009 , 0.7467469 ,\n",
       "          0.7477119 ],\n",
       "         [0.8163711 , 0.8397115 , 0.86340624, ..., 0.7711674 , 0.73081714,\n",
       "          0.7362189 ]], dtype=float32),\n",
       "  'cqt': array([[-72.81464 , -73.11027 , -73.16409 , ..., -50.85276 , -50.774723,\n",
       "          -50.22291 ],\n",
       "         [-72.814804, -73.110374, -73.16421 , ..., -49.040653, -49.648727,\n",
       "          -48.917923],\n",
       "         [-72.81465 , -73.11037 , -73.16406 , ..., -49.54331 , -49.87663 ,\n",
       "          -49.85825 ],\n",
       "         ...,\n",
       "         [-41.341087, -39.060753, -38.40202 , ..., -48.936356, -49.108307,\n",
       "          -48.61533 ],\n",
       "         [-39.90575 , -40.39064 , -39.79281 , ..., -48.733074, -48.645294,\n",
       "          -46.633743],\n",
       "         [-39.204117, -41.7253  , -39.567173, ..., -48.801395, -48.801483,\n",
       "          -45.8832  ]], dtype=float32),\n",
       "  'label': array([15, 15, 15, ..., 12, 12, 12]),\n",
       "  'id': array(['XC184422.mp3', 'XC184422.mp3', 'XC184422.mp3', ...,\n",
       "         'XC466742.mp3', 'XC466742.mp3', 'XC466742.mp3'], dtype='<U12')},\n",
       " 'val': {'melspectrogram': array([[-0.01802412, -0.5716782 , -0.60311687, ..., -0.9712199 ,\n",
       "          -0.97905004, -0.9999987 ],\n",
       "         [-0.01783214, -0.58044875, -0.60235274, ..., -0.97815204,\n",
       "          -0.9846973 , -0.99999726],\n",
       "         [-0.01765023, -0.59897846, -0.6155522 , ..., -0.9816154 ,\n",
       "          -0.9888769 , -1.        ],\n",
       "         ...,\n",
       "         [-0.01776476, -0.7650678 , -0.7335544 , ..., -0.9999726 ,\n",
       "          -0.999994  , -1.        ],\n",
       "         [-0.01777423, -0.76801825, -0.72973883, ..., -0.9999791 ,\n",
       "          -0.99998903, -1.        ],\n",
       "         [-0.01777378, -0.77380633, -0.7363263 , ..., -0.9999829 ,\n",
       "          -0.99998397, -0.9999988 ]], dtype=float32),\n",
       "  'mfcc': array([[-9.9986780e-01,  6.2879890e-02,  2.9990528e-02, ...,\n",
       "           2.5231950e-02,  3.3420660e-02,  8.8889366e-03],\n",
       "         [-9.9989986e-01,  7.1387522e-02,  4.7658239e-02, ...,\n",
       "           2.4249818e-02,  2.7591342e-02,  2.8304721e-03],\n",
       "         [-9.9986589e-01,  7.7712901e-02,  6.5958261e-02, ...,\n",
       "           2.3140291e-02,  2.3855576e-02, -7.0546195e-03],\n",
       "         ...,\n",
       "         [-9.9991477e-01,  1.1204580e-01,  1.2980585e-03, ...,\n",
       "           1.3083958e-02,  2.3603421e-02, -6.9500494e-04],\n",
       "         [-9.9990982e-01,  1.1674297e-01,  4.0181954e-03, ...,\n",
       "           1.2992748e-02,  2.2343716e-02, -1.1950482e-03],\n",
       "         [-9.9991488e-01,  1.5007354e-01,  1.0725763e-02, ...,\n",
       "           1.6623089e-02,  1.0829890e-02,  1.3954273e-02]], dtype=float32),\n",
       "  'chroma': array([[0.736195  , 0.79992664, 0.8599113 , ..., 0.76174515, 0.6978517 ,\n",
       "          0.67534465],\n",
       "         [0.75475967, 0.8227752 , 0.88019073, ..., 0.78969646, 0.71881056,\n",
       "          0.6799919 ],\n",
       "         [0.7596153 , 0.8249054 , 0.8779707 , ..., 0.79544365, 0.719981  ,\n",
       "          0.67794603],\n",
       "         ...,\n",
       "         [0.7476916 , 0.78121674, 0.83269167, ..., 0.75338614, 0.6823434 ,\n",
       "          0.65673834],\n",
       "         [0.7459311 , 0.7944982 , 0.84880495, ..., 0.76699233, 0.6941862 ,\n",
       "          0.66099304],\n",
       "         [0.8150256 , 0.8859486 , 0.9433669 , ..., 0.85393924, 0.77852327,\n",
       "          0.73553884]], dtype=float32),\n",
       "  'cqt': array([[-32.5889  , -31.910084, -32.43853 , ..., -53.975613, -54.76907 ,\n",
       "          -54.04593 ],\n",
       "         [-33.701385, -33.035034, -32.76675 , ..., -55.56621 , -56.26283 ,\n",
       "          -55.873512],\n",
       "         [-33.977757, -35.357246, -34.641743, ..., -56.2398  , -57.15876 ,\n",
       "          -57.21576 ],\n",
       "         ...,\n",
       "         [-49.219967, -49.002415, -48.299747, ..., -56.557323, -54.99859 ,\n",
       "          -53.338654],\n",
       "         [-48.736134, -50.397842, -50.970757, ..., -57.191517, -56.228977,\n",
       "          -54.98083 ],\n",
       "         [-49.83268 , -51.63599 , -52.274303, ..., -60.55834 , -59.857494,\n",
       "          -59.249626]], dtype=float32),\n",
       "  'label': array([15, 15, 15, ..., 12, 12, 12]),\n",
       "  'id': array(['XC514030.mp3', 'XC514030.mp3', 'XC514030.mp3', ...,\n",
       "         'XC308991.mp3', 'XC308991.mp3', 'XC308991.mp3'], dtype='<U12')}}"
      ]
     },
     "execution_count": 26,
     "metadata": {},
     "output_type": "execute_result"
    }
   ],
   "source": [
    "merged_dict_1D = {'train': train_features_1D, 'val': val_features_1D}\n",
    "merged_dict_1D"
   ]
  },
  {
   "cell_type": "code",
   "execution_count": 27,
   "metadata": {},
   "outputs": [
    {
     "data": {
      "text/plain": [
       "{'train': {'melspectrogram': array([[[-1.73638668e-02,  0.00000000e+00, -8.11987277e-03, ...,\n",
       "           -1.67526044e-02, -5.46729891e-03, -8.64551112e-04],\n",
       "          [-1.93848714e-01, -2.12280467e-01, -2.69487441e-01, ...,\n",
       "           -3.62844795e-01, -2.54802048e-01, -2.05738589e-01],\n",
       "          [-2.68348396e-01, -2.86629409e-01, -3.42423439e-01, ...,\n",
       "           -4.13956523e-01, -3.27738762e-01, -2.80380309e-01],\n",
       "          ...,\n",
       "          [-9.98975337e-01, -9.98841584e-01, -9.96024787e-01, ...,\n",
       "           -9.24670994e-01, -9.80563939e-01, -9.91996884e-01],\n",
       "          [-9.99578595e-01, -9.99459684e-01, -9.97734010e-01, ...,\n",
       "           -9.48356807e-01, -9.88852501e-01, -9.95917022e-01],\n",
       "          [-1.00000000e+00, -1.00000000e+00, -1.00000000e+00, ...,\n",
       "           -1.00000000e+00, -1.00000000e+00, -1.00000000e+00]],\n",
       "  \n",
       "         [[-1.72525998e-02,  0.00000000e+00, -8.14473629e-03, ...,\n",
       "           -1.66835915e-02, -5.44226915e-03, -8.53342586e-04],\n",
       "          [-1.92598045e-01, -2.11414754e-01, -2.70316750e-01, ...,\n",
       "           -3.61343712e-01, -2.53617704e-01, -2.03308925e-01],\n",
       "          [-2.66615361e-01, -2.85458952e-01, -3.43475699e-01, ...,\n",
       "           -4.12229508e-01, -3.26202780e-01, -2.77057320e-01],\n",
       "          ...,\n",
       "          [-9.97084141e-01, -9.95764077e-01, -9.90899205e-01, ...,\n",
       "           -9.33196425e-01, -9.88748193e-01, -9.90353405e-01],\n",
       "          [-9.92685258e-01, -9.93555725e-01, -9.94730115e-01, ...,\n",
       "           -9.64424193e-01, -9.93017614e-01, -9.89557505e-01],\n",
       "          [-9.91158724e-01, -9.93358910e-01, -1.00000000e+00, ...,\n",
       "           -1.00000000e+00, -1.00000000e+00, -9.93222535e-01]],\n",
       "  \n",
       "         [[-1.73821356e-02,  3.45267424e-08, -8.14949721e-03, ...,\n",
       "           -1.67166125e-02, -5.46391355e-03, -8.64492613e-04],\n",
       "          [-1.94036409e-01, -2.12961882e-01, -2.70489454e-01, ...,\n",
       "           -3.62063795e-01, -2.54699171e-01, -2.05603912e-01],\n",
       "          [-2.68608779e-01, -2.87550658e-01, -3.43698025e-01, ...,\n",
       "           -4.13073152e-01, -3.27607065e-01, -2.80196637e-01],\n",
       "          ...,\n",
       "          [-9.92264807e-01, -9.90734696e-01, -9.77589309e-01, ...,\n",
       "           -9.23063099e-01, -9.78276730e-01, -9.89565074e-01],\n",
       "          [-9.93842959e-01, -9.94872510e-01, -9.91257548e-01, ...,\n",
       "           -9.58794236e-01, -9.89036560e-01, -9.92660820e-01],\n",
       "          [-9.97829318e-01, -1.00000000e+00, -1.00000000e+00, ...,\n",
       "           -1.00000000e+00, -1.00000000e+00, -9.99524057e-01]],\n",
       "  \n",
       "         ...,\n",
       "  \n",
       "         [[-1.73458830e-02,  0.00000000e+00, -8.10068287e-03, ...,\n",
       "           -1.67267211e-02, -5.44837071e-03, -8.16792541e-04],\n",
       "          [-1.93232670e-01, -2.11979181e-01, -2.69896924e-01, ...,\n",
       "           -3.60655636e-01, -2.54522622e-01, -2.05724716e-01],\n",
       "          [-2.65960872e-01, -2.84330338e-01, -3.40629548e-01, ...,\n",
       "           -4.13175315e-01, -3.29706788e-01, -2.82361060e-01],\n",
       "          ...,\n",
       "          [-9.97160316e-01, -9.97207880e-01, -9.92088139e-01, ...,\n",
       "           -9.60162580e-01, -9.89689887e-01, -9.94282544e-01],\n",
       "          [-9.94593322e-01, -9.95374084e-01, -9.94630754e-01, ...,\n",
       "           -9.75648463e-01, -9.92282152e-01, -9.94449556e-01],\n",
       "          [-9.95779634e-01, -9.97386396e-01, -1.00000000e+00, ...,\n",
       "           -1.00000000e+00, -1.00000000e+00, -1.00000000e+00]],\n",
       "  \n",
       "         [[-1.74498502e-02,  6.89440753e-08, -8.10660422e-03, ...,\n",
       "           -1.64872911e-02, -5.29278442e-03, -7.53575878e-04],\n",
       "          [-1.94075033e-01, -2.12659702e-01, -2.70538747e-01, ...,\n",
       "           -3.58677924e-01, -2.52236545e-01, -2.02945381e-01],\n",
       "          [-2.69959271e-01, -2.88689882e-01, -3.45424473e-01, ...,\n",
       "           -4.05501574e-01, -3.22273105e-01, -2.74803996e-01],\n",
       "          ...,\n",
       "          [-1.00000000e+00, -1.00000000e+00, -9.97902691e-01, ...,\n",
       "           -9.65010405e-01, -9.97008920e-01, -9.97830272e-01],\n",
       "          [-9.92737174e-01, -9.93589401e-01, -9.95110512e-01, ...,\n",
       "           -9.82342005e-01, -9.97405887e-01, -9.95402336e-01],\n",
       "          [-9.95318413e-01, -9.96730268e-01, -1.00000000e+00, ...,\n",
       "           -1.00000000e+00, -1.00000000e+00, -9.96607423e-01]],\n",
       "  \n",
       "         [[-1.73715204e-02,  0.00000000e+00, -8.09670705e-03, ...,\n",
       "           -1.71882473e-02, -5.63631160e-03, -9.36611264e-04],\n",
       "          [-1.93439215e-01, -2.11739272e-01, -2.68835157e-01, ...,\n",
       "           -3.75650764e-01, -2.65537471e-01, -2.14414895e-01],\n",
       "          [-2.68454880e-01, -2.86914170e-01, -3.42922568e-01, ...,\n",
       "           -4.21756685e-01, -3.36886227e-01, -2.88037986e-01],\n",
       "          ...,\n",
       "          [-9.94504154e-01, -9.93204951e-01, -9.88577425e-01, ...,\n",
       "           -9.82132494e-01, -9.98263657e-01, -9.98232961e-01],\n",
       "          [-9.99078810e-01, -9.98193085e-01, -9.94214296e-01, ...,\n",
       "           -9.86007452e-01, -9.95764315e-01, -9.94723022e-01],\n",
       "          [-1.00000000e+00, -1.00000000e+00, -1.00000000e+00, ...,\n",
       "           -1.00000000e+00, -1.00000000e+00, -9.97916400e-01]]]),\n",
       "  'mfcc': array([[[-1.        , -1.        , -1.        , ..., -1.        ,\n",
       "           -1.        , -1.        ],\n",
       "          [ 0.93146574,  0.82369339,  0.59023488, ...,  0.37746885,\n",
       "            0.63796264,  0.86235112],\n",
       "          [ 0.18959469,  0.16958825,  0.12472927, ...,  0.1045967 ,\n",
       "            0.14081421,  0.18047355],\n",
       "          ...,\n",
       "          [ 0.03032444,  0.02907115,  0.02430543, ...,  0.02110802,\n",
       "            0.02683808,  0.03215123],\n",
       "          [ 0.02843441,  0.02726812,  0.02244391, ...,  0.01465174,\n",
       "            0.02106649,  0.02533234],\n",
       "          [ 0.02696544,  0.02607154,  0.02218735, ...,  0.01688475,\n",
       "            0.0205965 ,  0.02395696]],\n",
       "  \n",
       "         [[-1.        , -1.        , -1.        , ..., -1.        ,\n",
       "           -1.        , -1.        ],\n",
       "          [ 0.93114024,  0.82333368,  0.58668631, ...,  0.37163559,\n",
       "            0.65205264,  0.90126342],\n",
       "          [ 0.19056387,  0.17241618,  0.13114184, ...,  0.04696578,\n",
       "            0.11154441,  0.16425367],\n",
       "          ...,\n",
       "          [ 0.03310421,  0.03202653,  0.02713516, ...,  0.04265858,\n",
       "            0.06546804,  0.08364945],\n",
       "          [ 0.02993954,  0.02830736,  0.02241185, ..., -0.04338073,\n",
       "           -0.08200223, -0.10763095],\n",
       "          [ 0.0234581 ,  0.02332699,  0.02063916, ...,  0.083983  ,\n",
       "            0.0989134 ,  0.11515989]],\n",
       "  \n",
       "         [[-1.        , -1.        , -1.        , ..., -1.        ,\n",
       "           -1.        , -1.        ],\n",
       "          [ 0.92924786,  0.82089961,  0.58462387, ...,  0.36648524,\n",
       "            0.63858479,  0.85951841],\n",
       "          [ 0.1943911 ,  0.1758952 ,  0.12487501, ...,  0.03263189,\n",
       "            0.12993173,  0.18659872],\n",
       "          ...,\n",
       "          [ 0.03059693,  0.02931653,  0.03210229, ...,  0.04218315,\n",
       "            0.03130641,  0.02847829],\n",
       "          [ 0.02667053,  0.02588658,  0.01702236, ...,  0.04831285,\n",
       "            0.03635667,  0.03459562],\n",
       "          [ 0.02826947,  0.02742257,  0.018944  , ..., -0.01431397,\n",
       "            0.00431708,  0.01725231]],\n",
       "  \n",
       "         ...,\n",
       "  \n",
       "         [[-0.93827951, -1.        , -1.        , ..., -1.        ,\n",
       "           -1.        , -1.        ],\n",
       "          [ 1.        ,  0.92884034,  0.64629585, ...,  0.44293901,\n",
       "            0.71385789,  0.9851141 ],\n",
       "          [ 0.20424666,  0.19189963,  0.13605227, ...,  0.09850919,\n",
       "            0.15025778,  0.20246814],\n",
       "          ...,\n",
       "          [ 0.03100011,  0.03081375,  0.02241077, ...,  0.02886394,\n",
       "            0.03441015,  0.04078934],\n",
       "          [ 0.03233338,  0.03301309,  0.02767052, ...,  0.03917957,\n",
       "            0.03432884,  0.03775627],\n",
       "          [ 0.03074299,  0.03052479,  0.0223971 , ...,  0.03133447,\n",
       "            0.0271982 ,  0.02909528]],\n",
       "  \n",
       "         [[-0.93468034, -1.        , -1.        , ..., -1.        ,\n",
       "           -1.        , -1.        ],\n",
       "          [ 1.        ,  0.9264468 ,  0.62801409, ...,  0.41915217,\n",
       "            0.70307595,  0.96823955],\n",
       "          [ 0.21676116,  0.21083789,  0.15425588, ...,  0.10235102,\n",
       "            0.15420519,  0.20354287],\n",
       "          ...,\n",
       "          [ 0.02412962,  0.02222151,  0.01528338, ...,  0.01626586,\n",
       "            0.02657764,  0.03453298],\n",
       "          [ 0.04007537,  0.04980316,  0.04793864, ...,  0.0370877 ,\n",
       "            0.03483963,  0.03593326],\n",
       "          [ 0.01702901,  0.00604123, -0.00584714, ...,  0.00910863,\n",
       "            0.02661092,  0.03967533]],\n",
       "  \n",
       "         [[-0.94506472, -1.        , -1.        , ..., -1.        ,\n",
       "           -1.        , -0.96278316],\n",
       "          [ 1.        ,  0.92166483,  0.63892585, ...,  0.81012833,\n",
       "            0.92910045,  1.        ],\n",
       "          [ 0.20617881,  0.19257587,  0.13770165, ..., -0.26198235,\n",
       "           -0.01947148,  0.13302255],\n",
       "          ...,\n",
       "          [ 0.03397948,  0.03315895,  0.02432456, ...,  0.00744744,\n",
       "            0.00408199,  0.02365752],\n",
       "          [ 0.0279563 ,  0.02835167,  0.02335399, ...,  0.03810446,\n",
       "            0.02669609,  0.03170369],\n",
       "          [ 0.02509683,  0.02491775,  0.01870434, ...,  0.05038714,\n",
       "            0.04553264,  0.04183118]]]),\n",
       "  'chroma': array([[[0.86501992, 0.89277518, 0.85716188, ..., 0.82660002,\n",
       "           0.870992  , 0.88173735],\n",
       "          [0.89087957, 0.92226619, 0.90277827, ..., 0.88924783,\n",
       "           0.91136175, 0.91138047],\n",
       "          [0.93410504, 0.9580971 , 0.94846445, ..., 0.94486701,\n",
       "           0.95627677, 0.95357782],\n",
       "          ...,\n",
       "          [0.86025643, 0.89300036, 0.86930913, ..., 0.85944766,\n",
       "           0.87267107, 0.8876189 ],\n",
       "          [0.82201171, 0.85465276, 0.81778479, ..., 0.78831452,\n",
       "           0.82885927, 0.84588301],\n",
       "          [0.80841649, 0.83543956, 0.79070544, ..., 0.75254273,\n",
       "           0.80813742, 0.82615125]],\n",
       "  \n",
       "         [[0.86731184, 0.89499712, 0.85822088, ..., 0.73590583,\n",
       "           0.69523209, 0.70118994],\n",
       "          [0.89062887, 0.9220612 , 0.90220028, ..., 0.82120979,\n",
       "           0.7931329 , 0.79677737],\n",
       "          [0.93383765, 0.95775533, 0.94778693, ..., 0.81271303,\n",
       "           0.72584146, 0.72627413],\n",
       "          ...,\n",
       "          [0.86389244, 0.89603341, 0.87075543, ..., 0.7250843 ,\n",
       "           0.64384639, 0.6559518 ],\n",
       "          [0.82582712, 0.85773093, 0.81905764, ..., 0.66552854,\n",
       "           0.61314327, 0.62746745],\n",
       "          [0.81336474, 0.84001225, 0.79376566, ..., 0.63504773,\n",
       "           0.59838247, 0.61379457]],\n",
       "  \n",
       "         [[0.86194098, 0.8900789 , 0.85300183, ..., 0.8007232 ,\n",
       "           0.8663404 , 0.88239092],\n",
       "          [0.88832563, 0.91988826, 0.89859706, ..., 0.86082727,\n",
       "           0.90653372, 0.91184032],\n",
       "          [0.9302246 , 0.95438623, 0.94274205, ..., 0.92295182,\n",
       "           0.95112658, 0.95168293],\n",
       "          ...,\n",
       "          [0.85637337, 0.88928884, 0.86397916, ..., 0.84741044,\n",
       "           0.87033373, 0.8869406 ],\n",
       "          [0.81697947, 0.84987652, 0.81180418, ..., 0.76612884,\n",
       "           0.82410151, 0.8451345 ],\n",
       "          [0.8032921 , 0.83059585, 0.78502148, ..., 0.72552133,\n",
       "           0.80174571, 0.82488137]],\n",
       "  \n",
       "         ...,\n",
       "  \n",
       "         [[0.87261856, 0.90081775, 0.85657293, ..., 0.78996813,\n",
       "           0.8568573 , 0.87695986],\n",
       "          [0.8941344 , 0.92968976, 0.91003489, ..., 0.86060995,\n",
       "           0.91162592, 0.91584235],\n",
       "          [0.93549991, 0.96326953, 0.95292717, ..., 0.91095847,\n",
       "           0.94520342, 0.94803584],\n",
       "          ...,\n",
       "          [0.86134523, 0.89659709, 0.87066239, ..., 0.84775352,\n",
       "           0.901191  , 0.91841757],\n",
       "          [0.80754042, 0.84034544, 0.80591154, ..., 0.77107686,\n",
       "           0.84699345, 0.87385136],\n",
       "          [0.79986   , 0.82559001, 0.77738553, ..., 0.72546035,\n",
       "           0.81099015, 0.84014869]],\n",
       "  \n",
       "         [[0.87691128, 0.90379733, 0.85916144, ..., 0.81014591,\n",
       "           0.83713001, 0.83909434],\n",
       "          [0.89514667, 0.92041498, 0.89177072, ..., 0.88293505,\n",
       "           0.89456451, 0.88537526],\n",
       "          [0.93643266, 0.95054764, 0.92871547, ..., 0.93833631,\n",
       "           0.95065778, 0.94714636],\n",
       "          ...,\n",
       "          [0.85827482, 0.88121831, 0.84681761, ..., 0.84700066,\n",
       "           0.84662646, 0.85988104],\n",
       "          [0.82605094, 0.85685229, 0.81559199, ..., 0.77189904,\n",
       "           0.7916069 , 0.80491006],\n",
       "          [0.81516176, 0.84007967, 0.7883786 , ..., 0.73296273,\n",
       "           0.77001339, 0.78184992]],\n",
       "  \n",
       "         [[0.84706759, 0.87424201, 0.84606147, ..., 0.72682136,\n",
       "           0.80452001, 0.87032771],\n",
       "          [0.87669522, 0.90450072, 0.88704342, ..., 0.68754601,\n",
       "           0.82360476, 0.91161257],\n",
       "          [0.91951025, 0.93927866, 0.93261558, ..., 0.64031357,\n",
       "           0.81884927, 0.94083601],\n",
       "          ...,\n",
       "          [0.84316075, 0.87354451, 0.85394812, ..., 0.61691433,\n",
       "           0.76594973, 0.85767257],\n",
       "          [0.8107264 , 0.84350896, 0.8135578 , ..., 0.6013301 ,\n",
       "           0.71661133, 0.79952061],\n",
       "          [0.79147577, 0.81924862, 0.78421736, ..., 0.62351114,\n",
       "           0.70956248, 0.7915104 ]]]),\n",
       "  'cqt': array([[[-4.15984392e-02, -6.99067712e-02, -2.15385318e-01, ...,\n",
       "           -2.88548350e-01, -9.34953690e-02,  1.19209290e-07],\n",
       "          [-2.68752038e-01, -3.45600724e-01, -4.92396951e-01, ...,\n",
       "           -5.66581964e-01, -3.67560625e-01, -2.50920296e-01],\n",
       "          [-5.81231356e-01, -5.98093390e-01, -8.01823258e-01, ...,\n",
       "           -8.72202039e-01, -6.57370567e-01, -5.00577927e-01],\n",
       "          ...,\n",
       "          [-1.98472481e+01, -8.00000000e+01, -8.00000000e+01, ...,\n",
       "           -4.75841141e+01, -5.40746002e+01, -4.93805046e+01],\n",
       "          [-2.00844803e+01, -8.00000000e+01, -8.00000000e+01, ...,\n",
       "           -4.66622887e+01, -4.97053337e+01, -4.84742355e+01],\n",
       "          [-2.02704468e+01, -8.00000000e+01, -8.00000000e+01, ...,\n",
       "           -4.56287041e+01, -4.55509262e+01, -4.71606560e+01]],\n",
       "  \n",
       "         [[-4.20576930e-02, -7.03624487e-02, -2.15839028e-01, ...,\n",
       "           -2.88586676e-01, -9.35251713e-02,  0.00000000e+00],\n",
       "          [-2.69211769e-01, -3.46056223e-01, -4.92851734e-01, ...,\n",
       "           -5.66575050e-01, -3.67529154e-01, -2.50877023e-01],\n",
       "          [-5.81692338e-01, -5.98555207e-01, -8.02279353e-01, ...,\n",
       "           -8.72126222e-01, -6.57303572e-01, -5.00470400e-01],\n",
       "          ...,\n",
       "          [-1.98636703e+01, -4.87251205e+01, -4.25342331e+01, ...,\n",
       "           -4.58947830e+01, -4.73284416e+01, -4.97008133e+01],\n",
       "          [-1.99361858e+01, -4.84050064e+01, -5.06807404e+01, ...,\n",
       "           -5.24339104e+01, -4.19217339e+01, -5.63891258e+01],\n",
       "          [-2.02792740e+01, -4.88696747e+01, -4.54559174e+01, ...,\n",
       "           -5.22416992e+01, -4.14003067e+01, -3.43086395e+01]],\n",
       "  \n",
       "         [[-4.16838527e-02, -6.99916482e-02, -2.15464890e-01, ...,\n",
       "           -2.88548172e-01, -9.34958458e-02,  5.96046448e-08],\n",
       "          [-2.68841922e-01, -3.45688164e-01, -4.92479980e-01, ...,\n",
       "           -5.66584170e-01, -3.67559016e-01, -2.50918388e-01],\n",
       "          [-5.81327021e-01, -5.98188579e-01, -8.01909149e-01, ...,\n",
       "           -8.72201025e-01, -6.57370150e-01, -5.00577867e-01],\n",
       "          ...,\n",
       "          [-1.99846230e+01, -7.71861649e+01, -4.84146004e+01, ...,\n",
       "           -4.23480606e+01, -4.67349091e+01, -4.42590294e+01],\n",
       "          [-2.01946220e+01, -5.54342880e+01, -4.90263214e+01, ...,\n",
       "           -4.39364891e+01, -5.30527267e+01, -4.45469055e+01],\n",
       "          [-2.01327267e+01, -7.95771484e+01, -5.23874512e+01, ...,\n",
       "           -4.27129745e+01, -4.46368942e+01, -4.56510162e+01]],\n",
       "  \n",
       "         ...,\n",
       "  \n",
       "         [[-4.37623262e-02, -7.12202787e-02, -2.15737075e-01, ...,\n",
       "           -2.86761224e-01, -9.27327275e-02,  1.78813934e-07],\n",
       "          [-3.03209096e-01, -3.87468636e-01, -5.42116880e-01, ...,\n",
       "           -5.25255203e-01, -3.30196798e-01, -2.17492253e-01],\n",
       "          [-5.25439262e-01, -5.41974485e-01, -7.46533513e-01, ...,\n",
       "           -8.58013988e-01, -6.44714773e-01, -4.89542633e-01],\n",
       "          ...,\n",
       "          [-1.98496265e+01, -5.00750275e+01, -4.37686577e+01, ...,\n",
       "           -5.22553520e+01, -4.90440445e+01, -5.14547768e+01],\n",
       "          [-2.01581726e+01, -4.71016960e+01, -4.29384842e+01, ...,\n",
       "           -4.57572250e+01, -6.27043610e+01, -6.27628174e+01],\n",
       "          [-2.02743187e+01, -4.47306137e+01, -4.80545692e+01, ...,\n",
       "           -5.14091721e+01, -5.22101135e+01, -6.07695618e+01]],\n",
       "  \n",
       "         [[-1.32762492e-01, -1.62390471e-01, -3.09475511e-01, ...,\n",
       "           -2.84536541e-01, -9.17717218e-02,  5.96046448e-08],\n",
       "          [-3.15867364e-01, -3.91151071e-01, -5.36307633e-01, ...,\n",
       "           -5.09337187e-01, -3.16241503e-01, -2.05388814e-01],\n",
       "          [-6.21747553e-01, -6.34819806e-01, -8.33728194e-01, ...,\n",
       "           -8.44137430e-01, -6.36314809e-01, -4.88201857e-01],\n",
       "          ...,\n",
       "          [-1.99767265e+01, -5.09779739e+01, -5.62383003e+01, ...,\n",
       "           -4.86419373e+01, -4.63758049e+01, -4.81881065e+01],\n",
       "          [-2.00911903e+01, -6.21307297e+01, -5.94366302e+01, ...,\n",
       "           -6.19463501e+01, -5.50718803e+01, -5.89684677e+01],\n",
       "          [-2.02871704e+01, -5.58768234e+01, -5.05538712e+01, ...,\n",
       "           -5.37280884e+01, -4.93482132e+01, -4.66112442e+01]],\n",
       "  \n",
       "         [[-1.08539999e-01, -1.42367482e-01, -2.93744683e-01, ...,\n",
       "           -2.83774644e-01, -9.11647081e-02,  5.96046448e-08],\n",
       "          [-2.46538788e-01, -3.20033818e-01, -4.63533849e-01, ...,\n",
       "           -5.61521411e-01, -3.70794743e-01, -2.61151910e-01],\n",
       "          [-5.21362007e-01, -5.32928646e-01, -7.30735242e-01, ...,\n",
       "           -9.97108996e-01, -7.63905466e-01, -5.91107845e-01],\n",
       "          ...,\n",
       "          [-2.00422001e+01, -5.15704689e+01, -6.70797806e+01, ...,\n",
       "           -3.45471992e+01, -6.28353043e+01, -4.83458405e+01],\n",
       "          [-2.00822544e+01, -5.56633072e+01, -6.01976852e+01, ...,\n",
       "           -3.53171120e+01, -8.00000000e+01, -5.28247986e+01],\n",
       "          [-2.02243786e+01, -5.96918755e+01, -7.06107864e+01, ...,\n",
       "           -4.53977966e+01, -5.57242661e+01, -4.88674812e+01]]]),\n",
       "  'label': array([15, 15, 15, ..., 12, 12, 12]),\n",
       "  'id': array(['XC184422.mp3', 'XC184422.mp3', 'XC184422.mp3', ...,\n",
       "         'XC466742.mp3', 'XC466742.mp3', 'XC466742.mp3'], dtype='<U12')},\n",
       " 'val': {'melspectrogram': array([[[-1.71700697e-02,  0.00000000e+00, -8.30828026e-03, ...,\n",
       "           -1.68431718e-02, -5.68776811e-03, -1.10488222e-03],\n",
       "          [-1.92667842e-01, -2.11222529e-01, -2.68523276e-01, ...,\n",
       "           -3.57451975e-01, -2.52361894e-01, -2.03726232e-01],\n",
       "          [-2.65452743e-01, -2.83159614e-01, -3.38062525e-01, ...,\n",
       "           -4.10313517e-01, -3.26220393e-01, -2.79070407e-01],\n",
       "          ...,\n",
       "          [-9.98307705e-01, -9.98598397e-01, -9.98571098e-01, ...,\n",
       "           -9.95554268e-01, -9.98826265e-01, -9.98852611e-01],\n",
       "          [-9.99315262e-01, -9.99614060e-01, -9.99599457e-01, ...,\n",
       "           -9.98658717e-01, -1.00000000e+00, -1.00000000e+00],\n",
       "          [-9.99707043e-01, -1.00000000e+00, -1.00000000e+00, ...,\n",
       "           -1.00000000e+00, -9.99852240e-01, -9.99767363e-01]],\n",
       "  \n",
       "         [[-1.74641944e-02,  0.00000000e+00, -8.08914285e-03, ...,\n",
       "           -1.66994110e-02, -5.44855325e-03, -7.67449616e-04],\n",
       "          [-1.94975287e-01, -2.13107750e-01, -2.69573063e-01, ...,\n",
       "           -3.58825564e-01, -2.54051030e-01, -2.05573931e-01],\n",
       "          [-2.71891356e-01, -2.90700912e-01, -3.47119987e-01, ...,\n",
       "           -4.16169345e-01, -3.30978721e-01, -2.83135653e-01],\n",
       "          ...,\n",
       "          [-9.98852193e-01, -9.98849869e-01, -9.98865485e-01, ...,\n",
       "           -9.98426676e-01, -9.99161541e-01, -9.99147952e-01],\n",
       "          [-1.00000000e+00, -1.00000000e+00, -1.00000000e+00, ...,\n",
       "           -9.99716401e-01, -1.00000000e+00, -1.00000000e+00],\n",
       "          [-9.99581575e-01, -9.99586105e-01, -9.99682128e-01, ...,\n",
       "           -1.00000000e+00, -9.99897659e-01, -9.99856174e-01]],\n",
       "  \n",
       "         [[-1.74410082e-02,  0.00000000e+00, -7.96812773e-03, ...,\n",
       "           -1.64802354e-02, -5.28292218e-03, -6.95740397e-04],\n",
       "          [-1.95203975e-01, -2.14193553e-01, -2.71712095e-01, ...,\n",
       "           -3.61637592e-01, -2.55230010e-01, -2.06171095e-01],\n",
       "          [-2.65948564e-01, -2.82996148e-01, -3.36586535e-01, ...,\n",
       "           -4.07308102e-01, -3.25273126e-01, -2.78585106e-01],\n",
       "          ...,\n",
       "          [-9.99757826e-01, -9.99737084e-01, -9.99579966e-01, ...,\n",
       "           -9.98120070e-01, -9.98889565e-01, -9.98911619e-01],\n",
       "          [-9.99662757e-01, -9.99656737e-01, -9.99617100e-01, ...,\n",
       "           -9.98424709e-01, -9.98936951e-01, -9.98956263e-01],\n",
       "          [-1.00000000e+00, -1.00000000e+00, -1.00000000e+00, ...,\n",
       "           -1.00000000e+00, -1.00000000e+00, -1.00000000e+00]],\n",
       "  \n",
       "         ...,\n",
       "  \n",
       "         [[-1.73723530e-02,  0.00000000e+00, -8.11671093e-03, ...,\n",
       "           -1.66444778e-02, -5.49176475e-03, -9.21831524e-04],\n",
       "          [-1.93797097e-01, -2.12248981e-01, -2.69479126e-01, ...,\n",
       "           -3.60984981e-01, -2.54639983e-01, -2.05678210e-01],\n",
       "          [-2.68159151e-01, -2.86440760e-01, -3.42225373e-01, ...,\n",
       "           -4.10874724e-01, -3.26693118e-01, -2.79582381e-01],\n",
       "          ...,\n",
       "          [-9.97223318e-01, -9.97211158e-01, -9.97233510e-01, ...,\n",
       "           -9.98601079e-01, -9.99769151e-01, -9.99849021e-01],\n",
       "          [-9.99853849e-01, -9.99870539e-01, -9.99850035e-01, ...,\n",
       "           -9.98812854e-01, -9.99658525e-01, -9.99766827e-01],\n",
       "          [-1.00000000e+00, -1.00000000e+00, -1.00000000e+00, ...,\n",
       "           -1.00000000e+00, -1.00000000e+00, -1.00000000e+00]],\n",
       "  \n",
       "         [[-1.73768848e-02,  0.00000000e+00, -8.10965989e-03, ...,\n",
       "           -1.66363139e-02, -5.46427397e-03, -8.71978526e-04],\n",
       "          [-1.93964884e-01, -2.12446675e-01, -2.69658178e-01, ...,\n",
       "           -3.59892726e-01, -2.53874689e-01, -2.05041870e-01],\n",
       "          [-2.67942339e-01, -2.86131233e-01, -3.41786087e-01, ...,\n",
       "           -4.10783410e-01, -3.26747388e-01, -2.79655755e-01],\n",
       "          ...,\n",
       "          [-9.99134541e-01, -9.99107242e-01, -9.98978853e-01, ...,\n",
       "           -9.98179615e-01, -9.98666048e-01, -9.98656631e-01],\n",
       "          [-9.99430120e-01, -9.99423623e-01, -9.99367952e-01, ...,\n",
       "           -9.99146521e-01, -9.99519944e-01, -9.99532819e-01],\n",
       "          [-1.00000000e+00, -1.00000000e+00, -1.00000000e+00, ...,\n",
       "           -1.00000000e+00, -1.00000000e+00, -1.00000000e+00]],\n",
       "  \n",
       "         [[-1.73759833e-02,  0.00000000e+00, -8.11314024e-03, ...,\n",
       "           -1.66572090e-02, -5.44842565e-03, -8.37058993e-04],\n",
       "          [-1.93972707e-01, -2.12401554e-01, -2.69586951e-01, ...,\n",
       "           -3.60521555e-01, -2.54601061e-01, -2.05748230e-01],\n",
       "          [-2.68278182e-01, -2.86560148e-01, -3.42413247e-01, ...,\n",
       "           -4.12366033e-01, -3.27897847e-01, -2.80571133e-01],\n",
       "          ...,\n",
       "          [-9.99224901e-01, -9.99173939e-01, -9.99106586e-01, ...,\n",
       "           -9.98222649e-01, -9.99274254e-01, -9.99331474e-01],\n",
       "          [-9.98865843e-01, -9.98812199e-01, -9.98744428e-01, ...,\n",
       "           -9.99197304e-01, -9.99705970e-01, -9.99742448e-01],\n",
       "          [-9.99771416e-01, -9.99755561e-01, -9.99834239e-01, ...,\n",
       "           -1.00000000e+00, -1.00000000e+00, -1.00000000e+00]]]),\n",
       "  'mfcc': array([[[-9.31605041e-01, -1.00000000e+00, -1.00000000e+00, ...,\n",
       "           -1.00000000e+00, -1.00000000e+00, -1.00000000e+00],\n",
       "          [ 1.00000000e+00,  9.31185246e-01,  6.37448430e-01, ...,\n",
       "            3.95200342e-01,  7.06573009e-01,  9.81344044e-01],\n",
       "          [ 2.06005126e-01,  1.97422177e-01,  1.48139417e-01, ...,\n",
       "           -3.26340050e-02,  1.35114983e-01,  2.01973259e-01],\n",
       "          ...,\n",
       "          [ 3.24366130e-02,  3.37172151e-02,  2.84145065e-02, ...,\n",
       "            3.79166678e-02,  3.20385322e-02,  3.31115313e-02],\n",
       "          [ 2.99576931e-02,  3.05611026e-02,  2.53106765e-02, ...,\n",
       "            1.77105255e-02,  2.37260964e-02,  3.62099744e-02],\n",
       "          [ 2.73951367e-02,  2.69601196e-02,  1.85830761e-02, ...,\n",
       "            8.74408893e-03,  2.11204272e-02,  2.73943786e-02]],\n",
       "  \n",
       "         [[-9.48231399e-01, -1.00000000e+00, -1.00000000e+00, ...,\n",
       "           -1.00000000e+00, -1.00000000e+00, -1.00000000e+00],\n",
       "          [ 1.00000000e+00,  9.16687310e-01,  6.26588404e-01, ...,\n",
       "            3.89613390e-01,  6.97372913e-01,  9.77271259e-01],\n",
       "          [ 2.11269632e-01,  1.97754830e-01,  1.43854409e-01, ...,\n",
       "            1.10733137e-01,  1.54401526e-01,  2.04015121e-01],\n",
       "          ...,\n",
       "          [ 3.63556743e-02,  4.16942239e-02,  4.57623228e-02, ...,\n",
       "            4.29858044e-02,  3.60575467e-02,  3.81394513e-02],\n",
       "          [ 3.28927562e-02,  3.38296629e-02,  2.71976665e-02, ...,\n",
       "            8.66485294e-03,  2.25963332e-02,  3.13890763e-02],\n",
       "          [ 2.36172304e-02,  1.75518207e-02,  1.70921790e-03, ...,\n",
       "            1.39225340e-02,  2.36465354e-02,  3.08089610e-02]],\n",
       "  \n",
       "         [[-9.30677891e-01, -1.00000000e+00, -1.00000000e+00, ...,\n",
       "           -1.00000000e+00, -1.00000000e+00, -1.00000000e+00],\n",
       "          [ 1.00000000e+00,  9.31746244e-01,  6.37871206e-01, ...,\n",
       "            4.08945620e-01,  7.01468527e-01,  9.81275439e-01],\n",
       "          [ 2.03270495e-01,  1.94773272e-01,  1.45183921e-01, ...,\n",
       "            1.16773039e-01,  1.55540481e-01,  2.05101967e-01],\n",
       "          ...,\n",
       "          [ 3.09473574e-02,  3.19939218e-02,  2.68055629e-02, ...,\n",
       "            2.42110603e-02,  3.02217472e-02,  3.63454223e-02],\n",
       "          [ 3.28793563e-02,  3.33597921e-02,  2.69445181e-02, ...,\n",
       "            2.48702858e-02,  2.72012316e-02,  3.18152867e-02],\n",
       "          [ 2.35653725e-02,  2.36123502e-02,  1.70360580e-02, ...,\n",
       "            9.01274849e-03,  2.16200091e-02,  2.97294781e-02]],\n",
       "  \n",
       "         ...,\n",
       "  \n",
       "         [[-9.55929577e-01, -1.00000000e+00, -1.00000000e+00, ...,\n",
       "           -1.00000000e+00, -1.00000000e+00, -1.00000000e+00],\n",
       "          [ 1.00000000e+00,  9.11683023e-01,  6.34346783e-01, ...,\n",
       "            4.09608990e-01,  6.93880022e-01,  9.59224403e-01],\n",
       "          [ 2.03550309e-01,  1.87641159e-01,  1.33066788e-01, ...,\n",
       "            5.73010743e-02,  1.34766206e-01,  1.93004474e-01],\n",
       "          ...,\n",
       "          [ 3.40370946e-02,  3.34656723e-02,  2.64001880e-02, ...,\n",
       "            3.52938846e-02,  2.91718561e-02,  3.14687677e-02],\n",
       "          [ 2.91247740e-02,  2.89012566e-02,  2.29488704e-02, ...,\n",
       "            3.25646363e-02,  3.70216630e-02,  4.18164693e-02],\n",
       "          [ 2.84698941e-02,  2.83367466e-02,  2.27907281e-02, ...,\n",
       "            5.72303589e-03,  1.90061405e-02,  2.62872428e-02]],\n",
       "  \n",
       "         [[-9.53395247e-01, -1.00000000e+00, -1.00000000e+00, ...,\n",
       "           -1.00000000e+00, -1.00000000e+00, -1.00000000e+00],\n",
       "          [ 1.00000000e+00,  9.11829889e-01,  6.11018360e-01, ...,\n",
       "            4.24262196e-01,  6.92367971e-01,  9.56479013e-01],\n",
       "          [ 2.00297251e-01,  1.90333501e-01,  1.46379367e-01, ...,\n",
       "            9.00245234e-02,  1.43772632e-01,  1.95525318e-01],\n",
       "          ...,\n",
       "          [ 3.29946913e-02,  2.07203068e-02, -8.18417873e-03, ...,\n",
       "            2.01993845e-02,  2.67527234e-02,  3.29858102e-02],\n",
       "          [ 2.95453444e-02,  4.18829657e-02,  6.28675669e-02, ...,\n",
       "            1.88674387e-02,  2.53239758e-02,  3.10875885e-02],\n",
       "          [ 2.93355025e-02,  2.33606156e-02,  2.24766103e-04, ...,\n",
       "            1.93623211e-02,  2.43719090e-02,  2.95508541e-02]],\n",
       "  \n",
       "         [[-9.56001759e-01, -1.00000000e+00, -1.00000000e+00, ...,\n",
       "           -1.00000000e+00, -1.00000000e+00, -1.00000000e+00],\n",
       "          [ 1.00000000e+00,  9.12014067e-01,  6.34679496e-01, ...,\n",
       "            4.25991118e-01,  6.95767820e-01,  9.62340415e-01],\n",
       "          [ 2.03871116e-01,  1.87191442e-01,  1.31231233e-01, ...,\n",
       "            9.09689069e-02,  1.46014675e-01,  1.98893234e-01],\n",
       "          ...,\n",
       "          [ 3.43805775e-02,  3.36490795e-02,  2.64667626e-02, ...,\n",
       "            2.03159526e-02,  2.68364903e-02,  3.30867209e-02],\n",
       "          [ 3.24318595e-02,  3.26857120e-02,  2.70143617e-02, ...,\n",
       "            1.96079798e-02,  2.67770775e-02,  3.31372544e-02],\n",
       "          [ 2.71582995e-02,  2.71383747e-02,  2.17057802e-02, ...,\n",
       "            1.81198586e-02,  2.36424617e-02,  2.89060287e-02]]]),\n",
       "  'chroma': array([[[0.86045229, 0.88607621, 0.85130161, ..., 0.80359608,\n",
       "           0.8788318 , 0.88858503],\n",
       "          [0.89149094, 0.92004347, 0.89722443, ..., 0.85828298,\n",
       "           0.9110263 , 0.91064435],\n",
       "          [0.93950146, 0.96209449, 0.94911122, ..., 0.89053816,\n",
       "           0.9463073 , 0.94628304],\n",
       "          ...,\n",
       "          [0.84926474, 0.87709194, 0.85441053, ..., 0.81647986,\n",
       "           0.88092703, 0.89606929],\n",
       "          [0.81510401, 0.84275943, 0.80430114, ..., 0.75915903,\n",
       "           0.83512807, 0.85132694],\n",
       "          [0.80382645, 0.82709807, 0.78125834, ..., 0.70988166,\n",
       "           0.81227696, 0.83139062]],\n",
       "  \n",
       "         [[0.85437012, 0.87969232, 0.84490335, ..., 0.8332783 ,\n",
       "           0.86917019, 0.87868822],\n",
       "          [0.8811112 , 0.90940595, 0.88906246, ..., 0.8947497 ,\n",
       "           0.90657359, 0.90511793],\n",
       "          [0.9253816 , 0.94685149, 0.93615317, ..., 0.94145727,\n",
       "           0.95222652, 0.95022923],\n",
       "          ...,\n",
       "          [0.85346621, 0.8833791 , 0.857916  , ..., 0.85807168,\n",
       "           0.87184215, 0.88781261],\n",
       "          [0.81618005, 0.84817421, 0.81613576, ..., 0.78614765,\n",
       "           0.8245216 , 0.84322882],\n",
       "          [0.80027431, 0.82643938, 0.79077607, ..., 0.74865419,\n",
       "           0.80286443, 0.82241589]],\n",
       "  \n",
       "         [[0.85852045, 0.88852739, 0.85408813, ..., 0.82015425,\n",
       "           0.86080986, 0.87430042],\n",
       "          [0.89079875, 0.92606205, 0.9073903 , ..., 0.88490218,\n",
       "           0.90260607, 0.90473121],\n",
       "          [0.94266838, 0.97180569, 0.96233368, ..., 0.94224197,\n",
       "           0.94902402, 0.94681293],\n",
       "          ...,\n",
       "          [0.85278088, 0.88068157, 0.85288328, ..., 0.85818911,\n",
       "           0.86638546, 0.88019073],\n",
       "          [0.81643933, 0.84666514, 0.80747682, ..., 0.78144586,\n",
       "           0.81683445, 0.83591032],\n",
       "          [0.80430532, 0.83256745, 0.78763407, ..., 0.74392128,\n",
       "           0.79900318, 0.82061511]],\n",
       "  \n",
       "         ...,\n",
       "  \n",
       "         [[0.87178743, 0.90117896, 0.86432707, ..., 0.82801867,\n",
       "           0.86686492, 0.8763867 ],\n",
       "          [0.89521933, 0.92822099, 0.9076134 , ..., 0.88685644,\n",
       "           0.90210372, 0.90269172],\n",
       "          [0.93632179, 0.96185422, 0.95196456, ..., 0.9618876 ,\n",
       "           0.96525091, 0.95615953],\n",
       "          ...,\n",
       "          [0.86798424, 0.90154368, 0.87577784, ..., 0.85921407,\n",
       "           0.86454481, 0.87994546],\n",
       "          [0.82966602, 0.86200434, 0.82176358, ..., 0.79122931,\n",
       "           0.82057834, 0.83860457],\n",
       "          [0.81537306, 0.84314674, 0.79609573, ..., 0.7550289 ,\n",
       "           0.80471134, 0.82220298]],\n",
       "  \n",
       "         [[0.86618853, 0.89047182, 0.77606839, ..., 0.82569116,\n",
       "           0.87344241, 0.88601267],\n",
       "          [0.8927179 , 0.92247194, 0.82416093, ..., 0.89065802,\n",
       "           0.91427475, 0.91545093],\n",
       "          [0.93544513, 0.95833302, 0.8717643 , ..., 0.94466168,\n",
       "           0.95757985, 0.955845  ],\n",
       "          ...,\n",
       "          [0.85908759, 0.88803828, 0.78349286, ..., 0.85969657,\n",
       "           0.87400103, 0.8902058 ],\n",
       "          [0.81988311, 0.84897655, 0.73763192, ..., 0.78828979,\n",
       "           0.82993519, 0.84778965],\n",
       "          [0.80805826, 0.83077502, 0.71254617, ..., 0.74682695,\n",
       "           0.80500567, 0.82513976]],\n",
       "  \n",
       "         [[0.86139458, 0.88815242, 0.85242605, ..., 0.82197315,\n",
       "           0.86635476, 0.87872958],\n",
       "          [0.88605446, 0.91663295, 0.89751631, ..., 0.88688433,\n",
       "           0.9088316 , 0.91051883],\n",
       "          [0.93114889, 0.95445675, 0.94463921, ..., 0.9431771 ,\n",
       "           0.95358783, 0.95150411],\n",
       "          ...,\n",
       "          [0.85728103, 0.88950533, 0.8664608 , ..., 0.85918254,\n",
       "           0.87335706, 0.88977784],\n",
       "          [0.81671238, 0.84759295, 0.81114203, ..., 0.78982925,\n",
       "           0.8319791 , 0.84912062],\n",
       "          [0.80313718, 0.82865965, 0.78431416, ..., 0.7465775 ,\n",
       "           0.80438668, 0.82419437]]]),\n",
       "  'cqt': array([[[-1.19209290e-07, -2.11827159e-02, -1.57983899e-01, ...,\n",
       "           -3.47800016e-01, -1.59179389e-01, -7.03710914e-02],\n",
       "          [-2.73116291e-01, -3.51509303e-01, -5.00663757e-01, ...,\n",
       "           -6.60483956e-01, -4.49899673e-01, -3.24040234e-01],\n",
       "          [-6.09345973e-01, -6.29476190e-01, -8.36795568e-01, ...,\n",
       "           -8.27198744e-01, -6.26161158e-01, -4.80693668e-01],\n",
       "          ...,\n",
       "          [-1.98948860e+01, -6.05153503e+01, -6.67829285e+01, ...,\n",
       "           -4.98285522e+01, -5.87951241e+01, -5.34887657e+01],\n",
       "          [-2.01164341e+01, -8.00000000e+01, -6.43699646e+01, ...,\n",
       "           -5.35202751e+01, -6.40136108e+01, -5.52889977e+01],\n",
       "          [-2.02948494e+01, -6.64961243e+01, -5.73209763e+01, ...,\n",
       "           -5.34471359e+01, -5.83577766e+01, -6.61936722e+01]],\n",
       "  \n",
       "         [[-1.83578551e-01, -2.21466243e-01, -3.77063066e-01, ...,\n",
       "           -2.81375796e-01, -9.03340578e-02,  1.78813934e-07],\n",
       "          [-3.68844122e-01, -4.54239517e-01, -6.10559285e-01, ...,\n",
       "           -5.50637484e-01, -3.52867424e-01, -2.38155603e-01],\n",
       "          [-5.64147353e-01, -5.66311240e-01, -7.51300335e-01, ...,\n",
       "           -9.03913021e-01, -6.89843476e-01, -5.33587158e-01],\n",
       "          ...,\n",
       "          [-2.00910378e+01, -4.55204277e+01, -4.24195862e+01, ...,\n",
       "           -4.24089470e+01, -6.51509094e+01, -7.38096848e+01],\n",
       "          [-2.03246670e+01, -4.88312721e+01, -3.24789505e+01, ...,\n",
       "           -5.13884697e+01, -6.15594330e+01, -6.63408661e+01],\n",
       "          [-2.04515362e+01, -5.95169296e+01, -3.65666695e+01, ...,\n",
       "           -4.84323463e+01, -5.30123253e+01, -6.67609329e+01]],\n",
       "  \n",
       "         [[-3.70627642e-02, -6.17532134e-02, -2.03309596e-01, ...,\n",
       "           -2.90950805e-01, -9.43089128e-02,  2.38418579e-07],\n",
       "          [-2.77856529e-01, -3.57825905e-01, -5.07999778e-01, ...,\n",
       "           -5.69294155e-01, -3.74545485e-01, -2.61459678e-01],\n",
       "          [-5.24944425e-01, -5.39691448e-01, -7.41172075e-01, ...,\n",
       "           -9.24727023e-01, -7.12106705e-01, -5.58782101e-01],\n",
       "          ...,\n",
       "          [-1.97483749e+01, -8.00000000e+01, -6.59954834e+01, ...,\n",
       "           -7.68610153e+01, -6.89366226e+01, -6.35334816e+01],\n",
       "          [-1.99383316e+01, -7.37710876e+01, -5.97581406e+01, ...,\n",
       "           -6.68354950e+01, -6.42393951e+01, -5.85474014e+01],\n",
       "          [-2.01553535e+01, -6.86824951e+01, -5.43753738e+01, ...,\n",
       "           -8.00000000e+01, -6.49790192e+01, -6.19324150e+01]],\n",
       "  \n",
       "         ...,\n",
       "  \n",
       "         [[-4.02923524e-02, -6.86384737e-02, -2.14209974e-01, ...,\n",
       "           -2.89592564e-01, -9.40823257e-02, -1.19209290e-07],\n",
       "          [-2.68500417e-01, -3.46701115e-01, -4.94971395e-01, ...,\n",
       "           -5.46560943e-01, -3.49333853e-01, -2.34438598e-01],\n",
       "          [-5.70771337e-01, -5.87744594e-01, -7.91772485e-01, ...,\n",
       "           -8.61976922e-01, -6.47283614e-01, -4.90707874e-01],\n",
       "          ...,\n",
       "          [-1.97707958e+01, -5.15952759e+01, -6.55839157e+01, ...,\n",
       "           -4.57296677e+01, -4.26304016e+01, -4.48262787e+01],\n",
       "          [-1.99586086e+01, -5.28356438e+01, -5.86884308e+01, ...,\n",
       "           -3.82720375e+01, -5.09561005e+01, -6.04284019e+01],\n",
       "          [-2.01210651e+01, -5.43590393e+01, -5.65329742e+01, ...,\n",
       "           -4.16865120e+01, -4.14576035e+01, -4.42802315e+01]],\n",
       "  \n",
       "         [[-5.78545928e-02, -8.65508020e-02, -2.32606024e-01, ...,\n",
       "           -2.88235098e-01, -9.34059918e-02,  1.49011612e-07],\n",
       "          [-2.79752970e-01, -3.55197340e-01, -5.00316679e-01, ...,\n",
       "           -5.52506924e-01, -3.54041874e-01, -2.37999648e-01],\n",
       "          [-6.04610443e-01, -6.22477472e-01, -8.27510476e-01, ...,\n",
       "           -8.46984506e-01, -6.33927464e-01, -4.78902042e-01],\n",
       "          ...,\n",
       "          [-1.98462334e+01, -5.65538139e+01, -5.68196793e+01, ...,\n",
       "           -6.13219376e+01, -5.92372856e+01, -6.44939117e+01],\n",
       "          [-2.01051788e+01, -6.36018906e+01, -5.75713196e+01, ...,\n",
       "           -6.05513763e+01, -6.81118469e+01, -6.43347015e+01],\n",
       "          [-2.03033466e+01, -5.65038643e+01, -5.04326706e+01, ...,\n",
       "           -6.54621277e+01, -6.01371231e+01, -5.90405655e+01]],\n",
       "  \n",
       "         [[-2.92013884e-02, -5.77844083e-02, -2.03484267e-01, ...,\n",
       "           -2.92344362e-01, -9.52919424e-02,  1.78813934e-07],\n",
       "          [-2.55794078e-01, -3.33540201e-01, -4.81399119e-01, ...,\n",
       "           -5.60375094e-01, -3.60815704e-01, -2.43651092e-01],\n",
       "          [-5.59993148e-01, -5.76661408e-01, -7.80238152e-01, ...,\n",
       "           -8.54807973e-01, -6.40408218e-01, -4.83886540e-01],\n",
       "          ...,\n",
       "          [-1.99372101e+01, -5.32297173e+01, -5.65578804e+01, ...,\n",
       "           -5.85778847e+01, -6.11929054e+01, -5.94801750e+01],\n",
       "          [-2.01721878e+01, -4.89935036e+01, -6.62113724e+01, ...,\n",
       "           -6.46210632e+01, -6.05470581e+01, -6.51959152e+01],\n",
       "          [-2.03285828e+01, -5.03304710e+01, -5.77689438e+01, ...,\n",
       "           -6.41649780e+01, -6.37975655e+01, -5.56505127e+01]]]),\n",
       "  'label': array([15, 15, 15, ..., 12, 12, 12]),\n",
       "  'id': array(['XC514030.mp3', 'XC514030.mp3', 'XC514030.mp3', ...,\n",
       "         'XC308991.mp3', 'XC308991.mp3', 'XC308991.mp3'], dtype='<U12')}}"
      ]
     },
     "execution_count": 27,
     "metadata": {},
     "output_type": "execute_result"
    }
   ],
   "source": [
    "merged_dict_2D = {'train': train_features_2D, 'val': val_features_2D}\n",
    "merged_dict_2D"
   ]
  },
  {
   "cell_type": "markdown",
   "metadata": {},
   "source": [
    "### Save the merged dictionary to a pkl"
   ]
  },
  {
   "cell_type": "code",
   "execution_count": 28,
   "metadata": {},
   "outputs": [],
   "source": [
    "# Avrg Pooled\n",
    "with open('/content/drive/My Drive/Final-Year-Project/Dataset/Final-Version-Of-Bird-Classification-Project/feature-extraction/NotAnnotated/Augmented/AveragePooled/split_features_6s_all_1D.pkl', 'wb') as file:\n",
    "  pickle.dump(merged_dict_1D, file)\n",
    "del file"
   ]
  },
  {
   "cell_type": "code",
   "execution_count": 29,
   "metadata": {},
   "outputs": [],
   "source": [
    "# Not Avg Pooled\n",
    "with open('/content/drive/My Drive/Final-Year-Project/Dataset/Final-Version-Of-Bird-Classification-Project/feature-extraction/NotAnnotated/Augmented/NotAveragePooled/split_features_6s_all_2D.pkl', 'wb') as file:\n",
    "  pickle.dump(merged_dict_2D, file)\n",
    "del file"
   ]
  },
  {
   "cell_type": "markdown",
   "metadata": {},
   "source": [
    "## **Window Size = 3s**"
   ]
  },
  {
   "cell_type": "markdown",
   "metadata": {},
   "source": [
    "### **['melspectrogram', 'mfcc', 'chroma', 'cqt']**"
   ]
  },
  {
   "cell_type": "code",
   "execution_count": 30,
   "metadata": {},
   "outputs": [],
   "source": [
    "features_list = ['melspectrogram', 'mfcc', 'chroma', 'cqt']"
   ]
  },
  {
   "cell_type": "code",
   "execution_count": 31,
   "metadata": {},
   "outputs": [
    {
     "name": "stdout",
     "output_type": "stream",
     "text": [
      "Train DataFrame shape: (482, 6)\n",
      "Validation DataFrame shape: (133, 6)\n",
      "Number of rows in dataframe: 482\n"
     ]
    },
    {
     "name": "stderr",
     "output_type": "stream",
     "text": [
      "Processing data:   0%|          | 0/482 [00:00<?, ?it/s]c:\\Users\\thato\\AppData\\Local\\Programs\\Python\\Python312\\Lib\\site-packages\\librosa\\core\\pitch.py:101: UserWarning: Trying to estimate tuning from empty frequency set.\n",
      "  return pitch_tuning(\n",
      "Processing data: 100%|██████████| 482/482 [25:58<00:00,  3.23s/it]  \n"
     ]
    },
    {
     "name": "stdout",
     "output_type": "stream",
     "text": [
      "Number of rows in dataframe: 133\n"
     ]
    },
    {
     "name": "stderr",
     "output_type": "stream",
     "text": [
      "Processing data: 100%|██████████| 133/133 [03:47<00:00,  1.71s/it]\n"
     ]
    },
    {
     "name": "stdout",
     "output_type": "stream",
     "text": [
      "\u001b[1m429/429\u001b[0m \u001b[32m━━━━━━━━━━━━━━━━━━━━\u001b[0m\u001b[37m\u001b[0m \u001b[1m1s\u001b[0m 1ms/step\n",
      "\u001b[1m133/133\u001b[0m \u001b[32m━━━━━━━━━━━━━━━━━━━━\u001b[0m\u001b[37m\u001b[0m \u001b[1m0s\u001b[0m 1ms/step\n",
      "\u001b[1m429/429\u001b[0m \u001b[32m━━━━━━━━━━━━━━━━━━━━\u001b[0m\u001b[37m\u001b[0m \u001b[1m0s\u001b[0m 517us/step\n",
      "\u001b[1m133/133\u001b[0m \u001b[32m━━━━━━━━━━━━━━━━━━━━\u001b[0m\u001b[37m\u001b[0m \u001b[1m0s\u001b[0m 475us/step\n",
      "\u001b[1m429/429\u001b[0m \u001b[32m━━━━━━━━━━━━━━━━━━━━\u001b[0m\u001b[37m\u001b[0m \u001b[1m0s\u001b[0m 458us/step\n",
      "\u001b[1m133/133\u001b[0m \u001b[32m━━━━━━━━━━━━━━━━━━━━\u001b[0m\u001b[37m\u001b[0m \u001b[1m0s\u001b[0m 498us/step\n",
      "\u001b[1m429/429\u001b[0m \u001b[32m━━━━━━━━━━━━━━━━━━━━\u001b[0m\u001b[37m\u001b[0m \u001b[1m1s\u001b[0m 1ms/step\n",
      "\u001b[1m133/133\u001b[0m \u001b[32m━━━━━━━━━━━━━━━━━━━━\u001b[0m\u001b[37m\u001b[0m \u001b[1m0s\u001b[0m 1ms/step\n"
     ]
    }
   ],
   "source": [
    "features = Extraction(train_data,\n",
    "                      val_data,\n",
    "                      window_size=3,\n",
    "                      features=features_list,\n",
    "                      avgpool=True\n",
    "                      )"
   ]
  },
  {
   "cell_type": "code",
   "execution_count": 32,
   "metadata": {},
   "outputs": [
    {
     "data": {
      "text/plain": [
       "(13725,)"
      ]
     },
     "metadata": {},
     "output_type": "display_data"
    },
    {
     "data": {
      "text/plain": [
       "(4231,)"
      ]
     },
     "metadata": {},
     "output_type": "display_data"
    }
   ],
   "source": [
    "train_y = features.train_y\n",
    "val_y = features.val_y\n",
    "\n",
    "display(train_y.shape)\n",
    "display(val_y.shape)"
   ]
  },
  {
   "cell_type": "code",
   "execution_count": 33,
   "metadata": {},
   "outputs": [
    {
     "data": {
      "text/plain": [
       "'melspectrogram'"
      ]
     },
     "metadata": {},
     "output_type": "display_data"
    },
    {
     "data": {
      "text/plain": [
       "(13725, 128)"
      ]
     },
     "metadata": {},
     "output_type": "display_data"
    },
    {
     "data": {
      "text/plain": [
       "'mfcc'"
      ]
     },
     "metadata": {},
     "output_type": "display_data"
    },
    {
     "data": {
      "text/plain": [
       "(13725, 20)"
      ]
     },
     "metadata": {},
     "output_type": "display_data"
    },
    {
     "data": {
      "text/plain": [
       "'chroma'"
      ]
     },
     "metadata": {},
     "output_type": "display_data"
    },
    {
     "data": {
      "text/plain": [
       "(13725, 12)"
      ]
     },
     "metadata": {},
     "output_type": "display_data"
    },
    {
     "data": {
      "text/plain": [
       "'cqt'"
      ]
     },
     "metadata": {},
     "output_type": "display_data"
    },
    {
     "data": {
      "text/plain": [
       "(13725, 84)"
      ]
     },
     "metadata": {},
     "output_type": "display_data"
    }
   ],
   "source": [
    "# Avgpooled Features\n",
    "train_features_1D = features.train_features_1D\n",
    "for key in train_features_1D.keys():\n",
    "  display(key)\n",
    "  display(train_features_1D[key].shape)"
   ]
  },
  {
   "cell_type": "code",
   "execution_count": 34,
   "metadata": {},
   "outputs": [
    {
     "data": {
      "text/plain": [
       "'melspectrogram'"
      ]
     },
     "metadata": {},
     "output_type": "display_data"
    },
    {
     "data": {
      "text/plain": [
       "(4231, 128)"
      ]
     },
     "metadata": {},
     "output_type": "display_data"
    },
    {
     "data": {
      "text/plain": [
       "'mfcc'"
      ]
     },
     "metadata": {},
     "output_type": "display_data"
    },
    {
     "data": {
      "text/plain": [
       "(4231, 20)"
      ]
     },
     "metadata": {},
     "output_type": "display_data"
    },
    {
     "data": {
      "text/plain": [
       "'chroma'"
      ]
     },
     "metadata": {},
     "output_type": "display_data"
    },
    {
     "data": {
      "text/plain": [
       "(4231, 12)"
      ]
     },
     "metadata": {},
     "output_type": "display_data"
    },
    {
     "data": {
      "text/plain": [
       "'cqt'"
      ]
     },
     "metadata": {},
     "output_type": "display_data"
    },
    {
     "data": {
      "text/plain": [
       "(4231, 84)"
      ]
     },
     "metadata": {},
     "output_type": "display_data"
    }
   ],
   "source": [
    "# Avgpooled Features\n",
    "val_features_1D = features.val_features_1D\n",
    "for key in val_features_1D.keys():\n",
    "  display(key)\n",
    "  display(val_features_1D[key].shape)"
   ]
  },
  {
   "cell_type": "code",
   "execution_count": 35,
   "metadata": {},
   "outputs": [
    {
     "data": {
      "text/plain": [
       "'melspectrogram'"
      ]
     },
     "metadata": {},
     "output_type": "display_data"
    },
    {
     "data": {
      "text/plain": [
       "(13725, 128, 259)"
      ]
     },
     "metadata": {},
     "output_type": "display_data"
    },
    {
     "data": {
      "text/plain": [
       "'mfcc'"
      ]
     },
     "metadata": {},
     "output_type": "display_data"
    },
    {
     "data": {
      "text/plain": [
       "(13725, 20, 259)"
      ]
     },
     "metadata": {},
     "output_type": "display_data"
    },
    {
     "data": {
      "text/plain": [
       "'chroma'"
      ]
     },
     "metadata": {},
     "output_type": "display_data"
    },
    {
     "data": {
      "text/plain": [
       "(13725, 12, 259)"
      ]
     },
     "metadata": {},
     "output_type": "display_data"
    },
    {
     "data": {
      "text/plain": [
       "'cqt'"
      ]
     },
     "metadata": {},
     "output_type": "display_data"
    },
    {
     "data": {
      "text/plain": [
       "(13725, 84, 259)"
      ]
     },
     "metadata": {},
     "output_type": "display_data"
    }
   ],
   "source": [
    "# Not avgpooled Features\n",
    "train_features_2D = features.train_features_2D\n",
    "for key in train_features_2D.keys():\n",
    "  display(key)\n",
    "  display(train_features_2D[key].shape)"
   ]
  },
  {
   "cell_type": "code",
   "execution_count": 36,
   "metadata": {},
   "outputs": [
    {
     "data": {
      "text/plain": [
       "'melspectrogram'"
      ]
     },
     "metadata": {},
     "output_type": "display_data"
    },
    {
     "data": {
      "text/plain": [
       "(4231, 128, 259)"
      ]
     },
     "metadata": {},
     "output_type": "display_data"
    },
    {
     "data": {
      "text/plain": [
       "'mfcc'"
      ]
     },
     "metadata": {},
     "output_type": "display_data"
    },
    {
     "data": {
      "text/plain": [
       "(4231, 20, 259)"
      ]
     },
     "metadata": {},
     "output_type": "display_data"
    },
    {
     "data": {
      "text/plain": [
       "'chroma'"
      ]
     },
     "metadata": {},
     "output_type": "display_data"
    },
    {
     "data": {
      "text/plain": [
       "(4231, 12, 259)"
      ]
     },
     "metadata": {},
     "output_type": "display_data"
    },
    {
     "data": {
      "text/plain": [
       "'cqt'"
      ]
     },
     "metadata": {},
     "output_type": "display_data"
    },
    {
     "data": {
      "text/plain": [
       "(4231, 84, 259)"
      ]
     },
     "metadata": {},
     "output_type": "display_data"
    }
   ],
   "source": [
    "# Not avgpooled Features\n",
    "val_features_2D = features.val_features_2D\n",
    "for key in val_features_2D.keys():\n",
    "  display(key)\n",
    "  display(val_features_2D[key].shape)"
   ]
  },
  {
   "cell_type": "code",
   "execution_count": 37,
   "metadata": {},
   "outputs": [],
   "source": [
    "train_ids = features.train_ids\n",
    "val_ids = features.val_ids"
   ]
  },
  {
   "cell_type": "markdown",
   "metadata": {},
   "source": [
    "### Encode Classes"
   ]
  },
  {
   "cell_type": "code",
   "execution_count": 38,
   "metadata": {},
   "outputs": [
    {
     "name": "stdout",
     "output_type": "stream",
     "text": [
      "Encoded classes for [0, 1, 2]: ['Acrocephalus arundinaceus', 'Acrocephalus melanopogon', 'Acrocephalus scirpaceus']\n",
      "Encoded training labels: [15 15 15 ... 12 12 12]\n",
      "Encoded validation labels: [15 15 15 ... 12 12 12]\n"
     ]
    }
   ],
   "source": [
    "label_encoder = LabelEncoder().fit(train_y)\n",
    "train_y_encoded = label_encoder.transform(train_y)\n",
    "val_y_encoded = label_encoder.transform(val_y)\n",
    "\n",
    "classes = list(label_encoder.inverse_transform([0, 1, 2]))\n",
    "print(\"Encoded classes for [0, 1, 2]:\", classes)\n",
    "print(\"Encoded training labels:\", train_y_encoded)\n",
    "print(\"Encoded validation labels:\", val_y_encoded)"
   ]
  },
  {
   "cell_type": "code",
   "execution_count": 39,
   "metadata": {},
   "outputs": [],
   "source": [
    "# Avg Pooled\n",
    "\n",
    "train_features_1D['label'] = train_y_encoded\n",
    "val_features_1D['label'] = val_y_encoded\n",
    "\n",
    "train_features_1D['id'] = train_ids\n",
    "val_features_1D['id'] = val_ids\n",
    "\n",
    "# Not Avg Pooled\n",
    "\n",
    "train_features_2D['label'] = train_y_encoded\n",
    "val_features_2D['label'] = val_y_encoded\n",
    "\n",
    "train_features_2D['id'] = train_ids\n",
    "val_features_2D['id'] = val_ids"
   ]
  },
  {
   "cell_type": "code",
   "execution_count": 40,
   "metadata": {},
   "outputs": [
    {
     "data": {
      "text/plain": [
       "{'train': {'melspectrogram': array([[-0.01764554, -0.97810674, -0.97999614, ..., -0.82831436,\n",
       "          -0.86151993, -0.9852102 ],\n",
       "         [-0.0176447 , -0.97808164, -0.9799673 , ..., -0.82414514,\n",
       "          -0.85394555, -0.982918  ],\n",
       "         [-0.01764692, -0.97814673, -0.9800371 , ..., -0.81990373,\n",
       "          -0.8500417 , -0.98001206],\n",
       "         ...,\n",
       "         [-0.01758811, -0.57715386, -0.5305197 , ..., -0.86590964,\n",
       "          -0.8951364 , -0.9996821 ],\n",
       "         [-0.01772401, -0.58169186, -0.5389059 , ..., -0.8691575 ,\n",
       "          -0.89791137, -0.99996406],\n",
       "         [-0.01760773, -0.57361674, -0.5377899 , ..., -0.8711317 ,\n",
       "          -0.9001475 , -0.99997455]], dtype=float32),\n",
       "  'mfcc': array([[-1.        , -0.07280675, -0.12869048, ...,  0.02178697,\n",
       "           0.02212632,  0.04228346],\n",
       "         [-1.        , -0.08856594, -0.15130392, ...,  0.02659525,\n",
       "           0.01738   ,  0.04704501],\n",
       "         [-1.        , -0.10337539, -0.15928885, ...,  0.02455455,\n",
       "           0.01868342,  0.05395849],\n",
       "         ...,\n",
       "         [-0.99669856,  0.42184576, -0.11776876, ...,  0.01067464,\n",
       "           0.03201345,  0.04115919],\n",
       "         [-0.9969836 ,  0.41956392, -0.13893692, ...,  0.00971565,\n",
       "           0.0327703 ,  0.04319186],\n",
       "         [-0.9995403 ,  0.36329782, -0.09231157, ...,  0.01051033,\n",
       "           0.0279961 ,  0.03427156]], dtype=float32),\n",
       "  'chroma': array([[0.80626285, 0.8739305 , 0.92336303, ..., 0.8349409 , 0.7588354 ,\n",
       "          0.7237216 ],\n",
       "         [0.7773857 , 0.8620382 , 0.8931705 , ..., 0.7966082 , 0.72638214,\n",
       "          0.68956596],\n",
       "         [0.7661131 , 0.85828674, 0.89923626, ..., 0.7823227 , 0.71374255,\n",
       "          0.6781947 ],\n",
       "         ...,\n",
       "         [0.82116383, 0.8422053 , 0.86109054, ..., 0.7780653 , 0.7413189 ,\n",
       "          0.74502593],\n",
       "         [0.80788183, 0.8270313 , 0.8485058 , ..., 0.75419784, 0.71243525,\n",
       "          0.72500604],\n",
       "         [0.79655534, 0.8331482 , 0.8655442 , ..., 0.7647314 , 0.71383035,\n",
       "          0.71248853]], dtype=float32),\n",
       "  'cqt': array([[-65.52843 , -66.130394, -66.25054 , ..., -51.331326, -51.57434 ,\n",
       "          -51.28357 ],\n",
       "         [-65.52862 , -66.13041 , -66.250534, ..., -50.571728, -50.524525,\n",
       "          -49.64564 ],\n",
       "         [-65.52841 , -66.130356, -66.25049 , ..., -49.92294 , -50.58811 ,\n",
       "          -50.167698],\n",
       "         ...,\n",
       "         [-36.322006, -40.1863  , -37.71395 , ..., -48.844418, -49.271088,\n",
       "          -47.38526 ],\n",
       "         [-36.948643, -38.64421 , -36.12435 , ..., -48.200905, -47.282764,\n",
       "          -44.89004 ],\n",
       "         [-37.053722, -35.88914 , -33.073048, ..., -49.317642, -48.259335,\n",
       "          -47.485073]], dtype=float32),\n",
       "  'label': array([15, 15, 15, ..., 12, 12, 12]),\n",
       "  'id': array(['XC184422.mp3', 'XC184422.mp3', 'XC184422.mp3', ...,\n",
       "         'XC466742.mp3', 'XC466742.mp3', 'XC466742.mp3'], dtype='<U12')},\n",
       " 'val': {'melspectrogram': array([[-0.01788826, -0.5753415 , -0.6118873 , ..., -0.9646103 ,\n",
       "          -0.97536886, -0.9999988 ],\n",
       "         [-0.01773422, -0.5705537 , -0.59677875, ..., -0.96264297,\n",
       "          -0.972764  , -0.9999999 ],\n",
       "         [-0.01773936, -0.5596973 , -0.5860485 , ..., -0.977573  ,\n",
       "          -0.98254895, -0.99999386],\n",
       "         ...,\n",
       "         [-0.01764877, -0.7628719 , -0.7308356 , ..., -0.9998969 ,\n",
       "          -0.9999729 , -1.        ],\n",
       "         [-0.01764908, -0.76086473, -0.7259736 , ..., -0.9999134 ,\n",
       "          -0.9999524 , -1.        ],\n",
       "         [-0.01763438, -0.77261305, -0.73164004, ..., -0.999938  ,\n",
       "          -0.9999861 , -0.99999976]], dtype=float32),\n",
       "  'mfcc': array([[-0.9996147 ,  0.06156728,  0.03113873, ...,  0.02697225,\n",
       "           0.03467499,  0.01139968],\n",
       "         [-0.9968358 ,  0.05311262,  0.01125892, ...,  0.03336405,\n",
       "           0.03124065,  0.00888333],\n",
       "         [-0.99961567,  0.08456841,  0.03105736, ...,  0.02383158,\n",
       "           0.03221554,  0.00673043],\n",
       "         ...,\n",
       "         [-0.9997364 ,  0.16028735,  0.01237273, ...,  0.01758275,\n",
       "           0.0111886 ,  0.01331571],\n",
       "         [-0.99971616,  0.15851206,  0.0121394 , ...,  0.01826452,\n",
       "           0.01231271,  0.01479692],\n",
       "         [-0.99972725,  0.15512289,  0.01676699, ...,  0.01671068,\n",
       "           0.01205778,  0.01538745]], dtype=float32),\n",
       "  'chroma': array([[0.7171985 , 0.77864194, 0.83390164, ..., 0.72689986, 0.67765456,\n",
       "          0.6672544 ],\n",
       "         [0.7121463 , 0.77440673, 0.8351661 , ..., 0.72022516, 0.66816056,\n",
       "          0.65678495],\n",
       "         [0.756882  , 0.8220161 , 0.88638824, ..., 0.79751784, 0.7195339 ,\n",
       "          0.6854339 ],\n",
       "         ...,\n",
       "         [0.8158133 , 0.88626873, 0.943453  , ..., 0.8542201 , 0.7793561 ,\n",
       "          0.73659956],\n",
       "         [0.81574166, 0.88619304, 0.94341284, ..., 0.8542065 , 0.77934676,\n",
       "          0.73655164],\n",
       "         [0.8157068 , 0.88621795, 0.9434436 , ..., 0.8541298 , 0.77882737,\n",
       "          0.7360453 ]], dtype=float32),\n",
       "  'cqt': array([[-31.387533, -31.150387, -30.885073, ..., -53.172073, -53.56068 ,\n",
       "          -52.4913  ],\n",
       "         [-29.703842, -30.128725, -30.12344 , ..., -51.762936, -51.79172 ,\n",
       "          -49.7251  ],\n",
       "         [-30.235857, -27.942846, -29.62724 , ..., -55.314293, -55.489716,\n",
       "          -55.12318 ],\n",
       "         ...,\n",
       "         [-46.07696 , -47.042675, -48.664333, ..., -60.59032 , -60.16724 ,\n",
       "          -59.76265 ],\n",
       "         [-47.73779 , -46.591454, -48.37094 , ..., -60.98732 , -59.703617,\n",
       "          -59.234825],\n",
       "         [-49.090797, -48.558178, -48.741936, ..., -61.55073 , -61.36818 ,\n",
       "          -61.4665  ]], dtype=float32),\n",
       "  'label': array([15, 15, 15, ..., 12, 12, 12]),\n",
       "  'id': array(['XC514030.mp3', 'XC514030.mp3', 'XC514030.mp3', ...,\n",
       "         'XC308991.mp3', 'XC308991.mp3', 'XC308991.mp3'], dtype='<U12')}}"
      ]
     },
     "execution_count": 40,
     "metadata": {},
     "output_type": "execute_result"
    }
   ],
   "source": [
    "merged_dict_1D = {'train': train_features_1D, 'val': val_features_1D}\n",
    "merged_dict_1D"
   ]
  },
  {
   "cell_type": "code",
   "execution_count": 41,
   "metadata": {},
   "outputs": [
    {
     "data": {
      "text/plain": [
       "{'train': {'melspectrogram': array([[[-1.73638668e-02,  0.00000000e+00, -8.11987277e-03, ...,\n",
       "           -1.30902734e-02, -1.34414493e-03, -6.30739005e-03],\n",
       "          [-1.93848714e-01, -2.12280467e-01, -2.69487441e-01, ...,\n",
       "           -3.06648046e-01, -2.30226904e-01, -1.96743473e-01],\n",
       "          [-2.68348396e-01, -2.86629409e-01, -3.42423439e-01, ...,\n",
       "           -3.76332015e-01, -3.03701609e-01, -2.71256447e-01],\n",
       "          ...,\n",
       "          [-9.98975337e-01, -9.98841584e-01, -9.96024787e-01, ...,\n",
       "           -9.55386639e-01, -9.84975278e-01, -9.91272390e-01],\n",
       "          [-9.99578595e-01, -9.99459684e-01, -9.97734010e-01, ...,\n",
       "           -9.75634158e-01, -9.92564321e-01, -9.96132433e-01],\n",
       "          [-1.00000000e+00, -1.00000000e+00, -1.00000000e+00, ...,\n",
       "           -1.00000000e+00, -1.00000000e+00, -1.00000000e+00]],\n",
       "  \n",
       "         [[-1.73103306e-02,  0.00000000e+00, -8.10205285e-03, ...,\n",
       "           -1.30698718e-02, -1.34197809e-03, -6.29818905e-03],\n",
       "          [-1.93254337e-01, -2.11670950e-01, -2.68891245e-01, ...,\n",
       "           -3.06179851e-01, -2.29926705e-01, -1.96413264e-01],\n",
       "          [-2.67524809e-01, -2.85805523e-01, -3.41664821e-01, ...,\n",
       "           -3.75761181e-01, -3.03307533e-01, -2.70802200e-01],\n",
       "          ...,\n",
       "          [-9.94058371e-01, -9.92610335e-01, -9.87005770e-01, ...,\n",
       "           -9.77853894e-01, -9.92544770e-01, -9.94750023e-01],\n",
       "          [-9.97529030e-01, -9.96308863e-01, -9.91842687e-01, ...,\n",
       "           -9.90497410e-01, -9.97875988e-01, -9.98599768e-01],\n",
       "          [-1.00000000e+00, -1.00000000e+00, -1.00000000e+00, ...,\n",
       "           -1.00000000e+00, -1.00000000e+00, -9.99626040e-01]],\n",
       "  \n",
       "         [[-1.72525998e-02,  0.00000000e+00, -8.14473629e-03, ...,\n",
       "           -1.31161539e-02, -1.34654751e-03, -6.31638197e-03],\n",
       "          [-1.92598045e-01, -2.11414754e-01, -2.70316750e-01, ...,\n",
       "           -3.07250112e-01, -2.30578482e-01, -1.97031900e-01],\n",
       "          [-2.66615361e-01, -2.85458952e-01, -3.43475699e-01, ...,\n",
       "           -3.77072066e-01, -3.04167211e-01, -2.71656185e-01],\n",
       "          ...,\n",
       "          [-9.97084141e-01, -9.95764077e-01, -9.90899205e-01, ...,\n",
       "           -9.57947612e-01, -9.87066507e-01, -9.93761063e-01],\n",
       "          [-9.92685258e-01, -9.93555725e-01, -9.94730115e-01, ...,\n",
       "           -9.73803103e-01, -9.92879570e-01, -9.97033417e-01],\n",
       "          [-9.91158724e-01, -9.93358910e-01, -1.00000000e+00, ...,\n",
       "           -1.00000000e+00, -1.00000000e+00, -1.00000000e+00]],\n",
       "  \n",
       "         ...,\n",
       "  \n",
       "         [[-1.59426425e-02, -6.45108216e-08, -7.80729670e-03, ...,\n",
       "           -1.29884649e-02, -1.30219723e-03, -6.27982151e-03],\n",
       "          [-1.77003324e-01, -1.98812187e-01, -2.61591613e-01, ...,\n",
       "           -3.06467593e-01, -2.29802147e-01, -1.95995122e-01],\n",
       "          [-2.41190687e-01, -2.63052911e-01, -3.24771762e-01, ...,\n",
       "           -3.74791682e-01, -3.03121418e-01, -2.70575225e-01],\n",
       "          ...,\n",
       "          [-9.31676626e-01, -9.50729370e-01, -9.72530425e-01, ...,\n",
       "           -9.80920136e-01, -9.93046284e-01, -9.94142234e-01],\n",
       "          [-9.44060147e-01, -9.64187741e-01, -9.88761663e-01, ...,\n",
       "           -9.89946246e-01, -9.99775589e-01, -1.00000000e+00],\n",
       "          [-9.48645234e-01, -9.70157444e-01, -1.00000000e+00, ...,\n",
       "           -1.00000000e+00, -1.00000000e+00, -9.98872995e-01]],\n",
       "  \n",
       "         [[-1.69855040e-02,  0.00000000e+00, -8.07894673e-03, ...,\n",
       "           -1.35659426e-02, -1.45852915e-03, -6.69243326e-03],\n",
       "          [-1.88972861e-01, -2.07450911e-01, -2.64949560e-01, ...,\n",
       "           -3.19240361e-01, -2.40413398e-01, -2.05310881e-01],\n",
       "          [-2.60274827e-01, -2.77819008e-01, -3.32753152e-01, ...,\n",
       "           -3.86416227e-01, -3.12612772e-01, -2.79131502e-01],\n",
       "          ...,\n",
       "          [-9.99467373e-01, -9.98789549e-01, -9.93295074e-01, ...,\n",
       "           -9.93262887e-01, -9.98380601e-01, -9.98261631e-01],\n",
       "          [-9.82980669e-01, -9.82662916e-01, -9.80340123e-01, ...,\n",
       "           -9.92933631e-01, -9.95308399e-01, -9.94602323e-01],\n",
       "          [-9.96415794e-01, -9.97735858e-01, -1.00000000e+00, ...,\n",
       "           -1.00000000e+00, -9.98926878e-01, -9.97636795e-01]],\n",
       "  \n",
       "         [[-1.75385904e-02,  0.00000000e+00, -8.05727020e-03, ...,\n",
       "           -1.29874926e-02, -1.28333957e-03, -6.34913519e-03],\n",
       "          [-1.96201980e-01, -2.15096638e-01, -2.72736937e-01, ...,\n",
       "           -3.07498991e-01, -2.30724201e-01, -1.97000757e-01],\n",
       "          [-2.70053089e-01, -2.88436413e-01, -3.44239116e-01, ...,\n",
       "           -3.75868201e-01, -3.05487126e-01, -2.73141116e-01],\n",
       "          ...,\n",
       "          [-9.99412477e-01, -9.98301327e-01, -9.93153811e-01, ...,\n",
       "           -9.84394491e-01, -9.93467033e-01, -9.94849861e-01],\n",
       "          [-9.98140097e-01, -9.97499108e-01, -9.94827747e-01, ...,\n",
       "           -9.96015251e-01, -1.00000000e+00, -1.00000000e+00],\n",
       "          [-1.00000000e+00, -1.00000000e+00, -1.00000000e+00, ...,\n",
       "           -1.00000000e+00, -9.97491360e-01, -9.95913863e-01]]]),\n",
       "  'mfcc': array([[[-1.00000000e+00, -1.00000000e+00, -1.00000000e+00, ...,\n",
       "           -1.00000000e+00, -1.00000000e+00, -1.00000000e+00],\n",
       "          [ 9.31465745e-01,  8.23693395e-01,  5.90234876e-01, ...,\n",
       "            4.85354364e-01,  7.35688806e-01,  9.12888169e-01],\n",
       "          [ 1.89594686e-01,  1.69588253e-01,  1.24729268e-01, ...,\n",
       "            1.16533279e-01,  1.60790697e-01,  1.93829775e-01],\n",
       "          ...,\n",
       "          [ 3.03244386e-02,  2.90711485e-02,  2.43054349e-02, ...,\n",
       "            1.99771989e-02,  2.49304604e-02,  2.77461503e-02],\n",
       "          [ 2.84344051e-02,  2.72681173e-02,  2.24439111e-02, ...,\n",
       "            2.11261474e-02,  2.59023495e-02,  2.91455928e-02],\n",
       "          [ 2.69654449e-02,  2.60715429e-02,  2.21873540e-02, ...,\n",
       "            2.16845050e-02,  2.63804011e-02,  2.93380413e-02]],\n",
       "  \n",
       "         [[-1.00000000e+00, -1.00000000e+00, -1.00000000e+00, ...,\n",
       "           -1.00000000e+00, -1.00000000e+00, -1.00000000e+00],\n",
       "          [ 9.31911767e-01,  8.23762059e-01,  5.87888360e-01, ...,\n",
       "            5.00887156e-01,  7.38141358e-01,  9.11440432e-01],\n",
       "          [ 1.89286903e-01,  1.70359880e-01,  1.27678126e-01, ...,\n",
       "            7.71802068e-02,  1.50433064e-01,  1.88395709e-01],\n",
       "          ...,\n",
       "          [ 2.67263316e-02,  2.57100221e-02,  2.12273207e-02, ...,\n",
       "            2.35820818e-03,  1.84892621e-02,  2.36799195e-02],\n",
       "          [ 2.70028207e-02,  2.58402228e-02,  2.09929775e-02, ...,\n",
       "            1.99072771e-02,  2.10071746e-02,  2.37994753e-02],\n",
       "          [ 2.49801800e-02,  2.44397447e-02,  2.10752338e-02, ...,\n",
       "            4.96724248e-02,  3.06292158e-02,  2.89971512e-02]],\n",
       "  \n",
       "         [[-1.00000000e+00, -1.00000000e+00, -1.00000000e+00, ...,\n",
       "           -1.00000000e+00, -1.00000000e+00, -1.00000000e+00],\n",
       "          [ 9.31140244e-01,  8.23333681e-01,  5.86686313e-01, ...,\n",
       "            4.83768731e-01,  7.36472130e-01,  9.15234387e-01],\n",
       "          [ 1.90563872e-01,  1.72416180e-01,  1.31141841e-01, ...,\n",
       "            1.17201760e-01,  1.57954007e-01,  1.89595938e-01],\n",
       "          ...,\n",
       "          [ 3.31042074e-02,  3.20265256e-02,  2.71351580e-02, ...,\n",
       "            2.31465288e-02,  2.92610377e-02,  3.30186412e-02],\n",
       "          [ 2.99395416e-02,  2.83073615e-02,  2.24118475e-02, ...,\n",
       "            1.75953023e-02,  2.30592377e-02,  2.59810127e-02],\n",
       "          [ 2.34581046e-02,  2.33269874e-02,  2.06391551e-02, ...,\n",
       "            1.82593539e-02,  2.21521333e-02,  2.43892316e-02]],\n",
       "  \n",
       "         ...,\n",
       "  \n",
       "         [[-6.34614646e-01, -6.73360229e-01, -8.91052961e-01, ...,\n",
       "           -1.00000000e+00, -1.00000000e+00, -9.45901930e-01],\n",
       "          [ 1.00000000e+00,  1.00000000e+00,  1.00000000e+00, ...,\n",
       "            4.97655302e-01,  8.16109657e-01,  1.00000000e+00],\n",
       "          [-1.53793748e-02, -5.96444085e-02, -1.48630455e-01, ...,\n",
       "            1.47775635e-01,  2.03694150e-01,  2.31258675e-01],\n",
       "          ...,\n",
       "          [-3.89848463e-03, -6.01584138e-03, -1.79791206e-03, ...,\n",
       "            4.01066616e-02,  4.85738032e-02,  4.81868163e-02],\n",
       "          [ 2.42301561e-02,  2.21793335e-02,  2.65974235e-02, ...,\n",
       "            1.35883465e-02,  2.38137785e-02,  2.63250861e-02],\n",
       "          [ 6.58056587e-02,  6.69560581e-02,  6.86956048e-02, ...,\n",
       "            1.23161431e-02,  1.30592994e-02,  1.86205618e-02]],\n",
       "  \n",
       "         [[-6.27309024e-01, -6.87667847e-01, -9.87834811e-01, ...,\n",
       "           -1.00000000e+00, -1.00000000e+00, -9.15950119e-01],\n",
       "          [ 1.00000000e+00,  1.00000000e+00,  1.00000000e+00, ...,\n",
       "            8.67487490e-01,  9.62603390e-01,  1.00000000e+00],\n",
       "          [-5.51057281e-03, -4.82010394e-02, -1.12952448e-01, ...,\n",
       "           -1.60943419e-01,  6.00585304e-02,  1.48365214e-01],\n",
       "          ...,\n",
       "          [-4.88451682e-04, -2.59647518e-03, -4.96488158e-03, ...,\n",
       "            5.21320198e-03,  9.36809834e-03,  2.75090151e-02],\n",
       "          [ 2.52574086e-02,  3.80203202e-02,  5.92240989e-02, ...,\n",
       "            3.38824280e-02,  2.58148219e-02,  3.39578949e-02],\n",
       "          [ 3.29842642e-02,  3.48340422e-02,  3.67232785e-02, ...,\n",
       "            4.67211008e-02,  4.47321422e-02,  4.03738432e-02]],\n",
       "  \n",
       "         [[-9.30217922e-01, -1.00000000e+00, -1.00000000e+00, ...,\n",
       "           -1.00000000e+00, -1.00000000e+00, -9.50719357e-01],\n",
       "          [ 1.00000000e+00,  9.27365541e-01,  6.08550072e-01, ...,\n",
       "            5.35929084e-01,  8.25556159e-01,  1.00000000e+00],\n",
       "          [ 2.24524617e-01,  2.23013192e-01,  1.73461735e-01, ...,\n",
       "            1.14386879e-01,  1.72452495e-01,  2.05872849e-01],\n",
       "          ...,\n",
       "          [ 1.40127130e-02,  1.03474716e-02,  2.02827249e-02, ...,\n",
       "            2.20612250e-02,  3.05172000e-02,  3.41390669e-02],\n",
       "          [ 4.98721227e-02,  5.85071370e-02,  4.32286523e-02, ...,\n",
       "            1.85147151e-02,  2.44841054e-02,  2.66366638e-02],\n",
       "          [ 2.69182716e-02,  2.14091744e-02,  1.04688760e-02, ...,\n",
       "            2.33653001e-02,  3.01837996e-02,  3.32228616e-02]]]),\n",
       "  'chroma': array([[[0.8650198 , 0.89277565, 0.85716158, ..., 0.83858824,\n",
       "           0.89988035, 0.86871737],\n",
       "          [0.89087981, 0.92226654, 0.90277803, ..., 0.89232975,\n",
       "           0.92943263, 0.89846182],\n",
       "          [0.93410474, 0.95809722, 0.94846445, ..., 0.94292134,\n",
       "           0.96332663, 0.94284767],\n",
       "          ...,\n",
       "          [0.86025625, 0.8930006 , 0.86930895, ..., 0.87077302,\n",
       "           0.88871604, 0.8714329 ],\n",
       "          [0.82201153, 0.854653  , 0.81778455, ..., 0.80489486,\n",
       "           0.85033435, 0.83113396],\n",
       "          [0.80841631, 0.8354398 , 0.79070526, ..., 0.76861131,\n",
       "           0.83676004, 0.81366956]],\n",
       "  \n",
       "         [[0.86402762, 0.89209259, 0.85680628, ..., 0.86418712,\n",
       "           0.89930266, 0.86502421],\n",
       "          [0.88676488, 0.91859102, 0.90018183, ..., 0.9361276 ,\n",
       "           0.93022108, 0.89515901],\n",
       "          [0.93021154, 0.95451516, 0.94579411, ..., 0.9518227 ,\n",
       "           0.96158332, 0.93984175],\n",
       "          ...,\n",
       "          [0.85954893, 0.89231801, 0.86884022, ..., 0.86850345,\n",
       "           0.88539028, 0.86814702],\n",
       "          [0.82134473, 0.85403943, 0.81742346, ..., 0.8045246 ,\n",
       "           0.85009336, 0.83115977],\n",
       "          [0.80889976, 0.83603066, 0.79129684, ..., 0.77019209,\n",
       "           0.83495057, 0.8112672 ]],\n",
       "  \n",
       "         [[0.86731207, 0.89499748, 0.85822088, ..., 0.83919466,\n",
       "           0.89807183, 0.86577266],\n",
       "          [0.89062911, 0.92206174, 0.90220052, ..., 0.89219236,\n",
       "           0.9281407 , 0.89642596],\n",
       "          [0.93383753, 0.95775574, 0.94778705, ..., 0.94348896,\n",
       "           0.96389967, 0.94317174],\n",
       "          ...,\n",
       "          [0.86389244, 0.8960337 , 0.87075543, ..., 0.87061197,\n",
       "           0.88658011, 0.86833411],\n",
       "          [0.82582712, 0.85773122, 0.81905764, ..., 0.8056066 ,\n",
       "           0.84958971, 0.82961053],\n",
       "          [0.81336474, 0.84001255, 0.79376566, ..., 0.77157295,\n",
       "           0.83601677, 0.8114621 ]],\n",
       "  \n",
       "         ...,\n",
       "  \n",
       "         [[0.93116808, 0.94624281, 0.91766405, ..., 0.8340919 ,\n",
       "           0.88783687, 0.86156172],\n",
       "          [0.79253447, 0.79628122, 0.79523081, ..., 0.88904727,\n",
       "           0.92723274, 0.89954722],\n",
       "          [0.70612729, 0.68942642, 0.7222833 , ..., 0.93441308,\n",
       "           0.96471041, 0.9474799 ],\n",
       "          ...,\n",
       "          [0.67662132, 0.69185603, 0.69726789, ..., 0.84976202,\n",
       "           0.87491804, 0.86559033],\n",
       "          [0.74853146, 0.77202684, 0.75921738, ..., 0.80834854,\n",
       "           0.86068064, 0.84134251],\n",
       "          [0.688739  , 0.7085709 , 0.7398808 , ..., 0.76258439,\n",
       "           0.83264291, 0.81192642]],\n",
       "  \n",
       "         [[0.86604899, 0.85960013, 0.80235296, ..., 0.73707521,\n",
       "           0.86049467, 0.85792977],\n",
       "          [0.81705546, 0.81381106, 0.77792329, ..., 0.72097874,\n",
       "           0.88939297, 0.90388137],\n",
       "          [0.75348741, 0.72430986, 0.69442743, ..., 0.68455338,\n",
       "           0.89727199, 0.94099528],\n",
       "          ...,\n",
       "          [0.81407088, 0.79697269, 0.75008678, ..., 0.66762114,\n",
       "           0.82472044, 0.84358901],\n",
       "          [0.79233396, 0.76829594, 0.7010377 , ..., 0.63394111,\n",
       "           0.77239746, 0.79128677],\n",
       "          [0.8642469 , 0.8335259 , 0.73901314, ..., 0.63712597,\n",
       "           0.76919818, 0.78473389]],\n",
       "  \n",
       "         [[0.86532277, 0.88368666, 0.80667895, ..., 0.84503257,\n",
       "           0.91894877, 0.88820028],\n",
       "          [0.89479941, 0.91551781, 0.84700227, ..., 0.90504122,\n",
       "           0.94844186, 0.91405201],\n",
       "          [0.94413513, 0.95707005, 0.89052498, ..., 0.94089288,\n",
       "           0.97345662, 0.95456934],\n",
       "          ...,\n",
       "          [0.85565412, 0.86990273, 0.7896328 , ..., 0.8675155 ,\n",
       "           0.89375967, 0.87513179],\n",
       "          [0.82142723, 0.84354448, 0.75713986, ..., 0.81343365,\n",
       "           0.86936748, 0.8483755 ],\n",
       "          [0.80616552, 0.82366884, 0.73485243, ..., 0.77108628,\n",
       "           0.84884912, 0.82684314]]]),\n",
       "  'cqt': array([[[-2.27751583e-01, -2.56059319e-01, -4.01539654e-01, ...,\n",
       "           -2.03839391e-01, -3.83351147e-02,  2.98023224e-08],\n",
       "          [-4.54905242e-01, -5.31754375e-01, -6.78550363e-01, ...,\n",
       "           -4.46277231e-01, -2.90676802e-01, -2.05375403e-01],\n",
       "          [-7.67383695e-01, -7.84245729e-01, -9.87975836e-01, ...,\n",
       "           -7.43241072e-01, -5.16085744e-01, -4.64917153e-01],\n",
       "          ...,\n",
       "          [-2.00333939e+01, -8.00000000e+01, -8.00000000e+01, ...,\n",
       "           -4.90452957e+01, -5.15249863e+01, -4.93485260e+01],\n",
       "          [-2.02706280e+01, -8.00000000e+01, -8.00000000e+01, ...,\n",
       "           -5.12672005e+01, -5.20180016e+01, -4.83185349e+01],\n",
       "          [-2.04565926e+01, -8.00000000e+01, -8.00000000e+01, ...,\n",
       "           -4.69344254e+01, -5.46765594e+01, -5.56693573e+01]],\n",
       "  \n",
       "         [[-2.27641225e-01, -2.55950034e-01, -4.01430070e-01, ...,\n",
       "           -2.03835309e-01, -3.83328199e-02,  8.94069672e-08],\n",
       "          [-4.54791367e-01, -5.31641841e-01, -6.78438544e-01, ...,\n",
       "           -4.46284950e-01, -2.90686250e-01, -2.05386817e-01],\n",
       "          [-7.67269731e-01, -7.84134746e-01, -9.87867475e-01, ...,\n",
       "           -7.43260026e-01, -5.16105592e-01, -4.64943588e-01],\n",
       "          ...,\n",
       "          [-1.98908329e+01, -5.56651878e+01, -4.86239586e+01, ...,\n",
       "           -5.57039375e+01, -5.14890633e+01, -5.25599365e+01],\n",
       "          [-2.03032894e+01, -6.01589394e+01, -5.73285179e+01, ...,\n",
       "           -5.66637764e+01, -5.21120033e+01, -5.97875443e+01],\n",
       "          [-2.05282669e+01, -7.36199036e+01, -5.76230164e+01, ...,\n",
       "           -5.42124977e+01, -5.02772217e+01, -5.79166756e+01]],\n",
       "  \n",
       "         [[-2.27705210e-01, -2.56011516e-01, -4.01486248e-01, ...,\n",
       "           -2.03836888e-01, -3.83354127e-02,  0.00000000e+00],\n",
       "          [-4.54859704e-01, -5.31706452e-01, -6.78499579e-01, ...,\n",
       "           -4.46279377e-01, -2.90680736e-01, -2.05380768e-01],\n",
       "          [-7.67342687e-01, -7.84204841e-01, -9.87928391e-01, ...,\n",
       "           -7.43247986e-01, -5.16095161e-01, -4.64930862e-01],\n",
       "          ...,\n",
       "          [-2.00493183e+01, -4.89107666e+01, -4.27198792e+01, ...,\n",
       "           -5.26121902e+01, -5.12198410e+01, -4.68009644e+01],\n",
       "          [-2.01218338e+01, -4.85906525e+01, -5.08663864e+01, ...,\n",
       "           -5.56591797e+01, -5.08687439e+01, -5.04479675e+01],\n",
       "          [-2.04649220e+01, -4.90553207e+01, -4.56415634e+01, ...,\n",
       "           -4.93011894e+01, -4.94263000e+01, -6.26340904e+01]],\n",
       "  \n",
       "         ...,\n",
       "  \n",
       "         [[-1.41951442e-01, -1.63099825e-01, -3.00218403e-01, ...,\n",
       "           -2.04325318e-01, -3.84984612e-02,  0.00000000e+00],\n",
       "          [-4.28848356e-01, -5.10789514e-01, -6.63519144e-01, ...,\n",
       "           -3.92293453e-01, -2.43887246e-01, -1.65166676e-01],\n",
       "          [-7.37372220e-01, -7.53522515e-01, -9.56002474e-01, ...,\n",
       "           -7.67395794e-01, -5.40947080e-01, -4.91239637e-01],\n",
       "          ...,\n",
       "          [-1.98358707e+01, -4.16189156e+01, -5.19915047e+01, ...,\n",
       "           -5.49767876e+01, -5.42512398e+01, -5.62754936e+01],\n",
       "          [-1.92009659e+01, -4.71387749e+01, -4.14476738e+01, ...,\n",
       "           -4.52895508e+01, -4.32980232e+01, -5.45517693e+01],\n",
       "          [-1.99007435e+01, -2.76569271e+01, -2.74321404e+01, ...,\n",
       "           -5.08146591e+01, -4.67137489e+01, -4.31510811e+01]],\n",
       "  \n",
       "         [[-2.26160049e-01, -2.58628428e-01, -4.09302503e-01, ...,\n",
       "           -2.00239778e-01, -3.65030169e-02, -5.96046448e-08],\n",
       "          [-4.71940845e-01, -5.55018425e-01, -7.07485855e-01, ...,\n",
       "           -4.38074112e-01, -2.90618241e-01, -2.12358534e-01],\n",
       "          [-7.21446157e-01, -7.40734816e-01, -9.48603272e-01, ...,\n",
       "           -8.55843663e-01, -6.11483693e-01, -5.46697617e-01],\n",
       "          ...,\n",
       "          [-2.10036945e+01, -3.72712555e+01, -4.06193924e+01, ...,\n",
       "           -4.42450981e+01, -4.79502258e+01, -4.95967751e+01],\n",
       "          [-2.14611778e+01, -4.23398170e+01, -4.19448128e+01, ...,\n",
       "           -4.55926323e+01, -4.53692245e+01, -4.86596451e+01],\n",
       "          [-2.06850777e+01, -3.69924583e+01, -3.59630470e+01, ...,\n",
       "           -4.53425636e+01, -4.99451561e+01, -4.84928017e+01]],\n",
       "  \n",
       "         [[-3.18054378e-01, -3.51587355e-01, -5.03253102e-01, ...,\n",
       "           -1.93521440e-01, -3.35430503e-02,  1.19209290e-07],\n",
       "          [-5.48801482e-01, -6.21499360e-01, -7.63071656e-01, ...,\n",
       "           -3.95167500e-01, -2.46572077e-01, -1.68605745e-01],\n",
       "          [-9.18413043e-01, -9.35870409e-01, -1.13994598e+00, ...,\n",
       "           -7.59335756e-01, -5.37854552e-01, -4.92496729e-01],\n",
       "          ...,\n",
       "          [-2.04030323e+01, -5.50574722e+01, -5.71230659e+01, ...,\n",
       "           -5.18262672e+01, -5.01131287e+01, -4.81775398e+01],\n",
       "          [-2.09770718e+01, -5.68169746e+01, -5.01190147e+01, ...,\n",
       "           -5.42707062e+01, -5.36425133e+01, -4.90613632e+01],\n",
       "          [-2.07130032e+01, -4.71496201e+01, -6.28737755e+01, ...,\n",
       "           -5.28741150e+01, -5.28177605e+01, -5.39069519e+01]]]),\n",
       "  'label': array([15, 15, 15, ..., 12, 12, 12]),\n",
       "  'id': array(['XC184422.mp3', 'XC184422.mp3', 'XC184422.mp3', ...,\n",
       "         'XC466742.mp3', 'XC466742.mp3', 'XC466742.mp3'], dtype='<U12')},\n",
       " 'val': {'melspectrogram': array([[[-0.01717007,  0.        , -0.00830828, ..., -0.01331007,\n",
       "           -0.00158496, -0.00637724],\n",
       "          [-0.19266784, -0.21122253, -0.26852328, ..., -0.30360812,\n",
       "           -0.22879134, -0.1959869 ],\n",
       "          [-0.26545274, -0.28315961, -0.33806252, ..., -0.3797172 ,\n",
       "           -0.30667982, -0.27378425],\n",
       "          ...,\n",
       "          [-0.9983077 , -0.9985984 , -0.9985711 , ..., -0.99904412,\n",
       "           -0.99917001, -0.99917388],\n",
       "          [-0.99931526, -0.99961406, -0.99959946, ..., -0.99951518,\n",
       "           -0.99957865, -0.99957836],\n",
       "          [-0.99970704, -1.        , -1.        , ..., -1.        ,\n",
       "           -1.        , -1.        ]],\n",
       "  \n",
       "         [[-0.01591541,  0.        , -0.00754655, ..., -0.01289825,\n",
       "           -0.00108561, -0.00615855],\n",
       "          [-0.17720377, -0.19455263, -0.24904656, ..., -0.305457  ,\n",
       "           -0.22979553, -0.19653499],\n",
       "          [-0.24614851, -0.26383126, -0.3179093 , ..., -0.37638527,\n",
       "           -0.30517912, -0.27306995],\n",
       "          ...,\n",
       "          [-0.92940235, -0.91833186, -0.89729089, ..., -0.99904269,\n",
       "           -0.99925643, -0.99923104],\n",
       "          [-0.94434077, -0.93236423, -0.91494018, ..., -0.9994365 ,\n",
       "           -0.9994899 , -0.99945635],\n",
       "          [-1.        , -1.        , -1.        , ..., -1.        ,\n",
       "           -1.        , -0.99997115]],\n",
       "  \n",
       "         [[-0.01746419,  0.        , -0.00808914, ..., -0.01307487,\n",
       "           -0.00135384, -0.00626871],\n",
       "          [-0.19497529, -0.21310775, -0.26957306, ..., -0.30391064,\n",
       "           -0.22815509, -0.19494779],\n",
       "          [-0.27189136, -0.29070091, -0.34711999, ..., -0.37485904,\n",
       "           -0.30259937, -0.27017927],\n",
       "          ...,\n",
       "          [-0.99885219, -0.99884987, -0.99886549, ..., -0.99835694,\n",
       "           -0.99884892, -0.99885541],\n",
       "          [-1.        , -1.        , -1.        , ..., -0.99983203,\n",
       "           -1.        , -1.        ],\n",
       "          [-0.99958158, -0.99958611, -0.99968213, ..., -1.        ,\n",
       "           -0.99979961, -0.99975783]],\n",
       "  \n",
       "         ...,\n",
       "  \n",
       "         [[-0.01733071,  0.        , -0.00812982, ..., -0.01306333,\n",
       "           -0.00133658, -0.00629143],\n",
       "          [-0.19355771, -0.21195808, -0.26909611, ..., -0.3057926 ,\n",
       "           -0.22982927, -0.19645059],\n",
       "          [-0.26822492, -0.28653786, -0.34229928, ..., -0.37585753,\n",
       "           -0.30358118, -0.27114701],\n",
       "          ...,\n",
       "          [-0.99823672, -0.9982208 , -0.99817997, ..., -0.99867493,\n",
       "           -0.9989295 , -0.99893308],\n",
       "          [-0.99998391, -0.99999475, -0.99996436, ..., -0.99982727,\n",
       "           -0.99995339, -0.99996674],\n",
       "          [-1.        , -1.        , -1.        , ..., -1.        ,\n",
       "           -1.        , -1.        ]],\n",
       "  \n",
       "         [[-0.01734152,  0.        , -0.00812253, ..., -0.01308176,\n",
       "           -0.00132531, -0.00628305],\n",
       "          [-0.19359393, -0.21198045, -0.26911494, ..., -0.30649063,\n",
       "           -0.23050003, -0.19706598],\n",
       "          [-0.26831055, -0.28663135, -0.34243336, ..., -0.37685123,\n",
       "           -0.30436569, -0.27182299],\n",
       "          ...,\n",
       "          [-0.99929678, -0.99927205, -0.99914438, ..., -0.99900788,\n",
       "           -0.99931598, -0.99933261],\n",
       "          [-0.99942386, -0.99939555, -0.99931079, ..., -0.9995749 ,\n",
       "           -0.99972945, -0.99974632],\n",
       "          [-1.        , -1.        , -1.        , ..., -1.        ,\n",
       "           -1.        , -1.        ]],\n",
       "  \n",
       "         [[-0.0173694 ,  0.        , -0.00810485, ..., -0.01306642,\n",
       "           -0.00133138, -0.00628393],\n",
       "          [-0.19399804, -0.21250968, -0.26975229, ..., -0.30623242,\n",
       "           -0.23014386, -0.19668284],\n",
       "          [-0.2680026 , -0.28625244, -0.34197408, ..., -0.3755433 ,\n",
       "           -0.3033663 , -0.27100015],\n",
       "          ...,\n",
       "          [-0.99828899, -0.9982788 , -0.99820375, ..., -0.99925762,\n",
       "           -0.99929649, -0.99929148],\n",
       "          [-1.        , -1.        , -0.99994737, ..., -0.99974263,\n",
       "           -0.99973685, -0.99972534],\n",
       "          [-0.99996477, -0.99997014, -1.        , ..., -1.        ,\n",
       "           -1.        , -1.        ]]]),\n",
       "  'mfcc': array([[[-0.93160504, -1.        , -1.        , ..., -1.        ,\n",
       "           -1.        , -0.96860731],\n",
       "          [ 1.        ,  0.93118525,  0.63744843, ...,  0.50605345,\n",
       "            0.80930358,  1.        ],\n",
       "          [ 0.20600513,  0.19742218,  0.14813942, ...,  0.12214778,\n",
       "            0.17637093,  0.21035995],\n",
       "          ...,\n",
       "          [ 0.03243661,  0.03371722,  0.02841451, ...,  0.03984548,\n",
       "            0.03474196,  0.03421085],\n",
       "          [ 0.02995769,  0.0305611 ,  0.02531068, ...,  0.01037417,\n",
       "            0.02233533,  0.02953626],\n",
       "          [ 0.02739514,  0.02696012,  0.01858308, ...,  0.02380232,\n",
       "            0.03331175,  0.03469582]],\n",
       "  \n",
       "         [[-0.6437372 , -0.69045305, -0.88633066, ..., -1.        ,\n",
       "           -1.        , -0.95997477],\n",
       "          [ 1.        ,  0.94766867,  0.62397426, ...,  0.51709074,\n",
       "            0.81536019,  1.        ],\n",
       "          [-0.19319496, -0.29408693, -0.33629733, ...,  0.1311311 ,\n",
       "            0.17939793,  0.21092267],\n",
       "          ...,\n",
       "          [ 0.04747832,  0.04070108,  0.03599771, ...,  0.02589774,\n",
       "            0.03164478,  0.03403728],\n",
       "          [ 0.06128303,  0.08313162,  0.08090916, ...,  0.02538081,\n",
       "            0.02881895,  0.03080999],\n",
       "          [ 0.04811459,  0.04933565,  0.05185964, ...,  0.0123606 ,\n",
       "            0.02282407,  0.02743344]],\n",
       "  \n",
       "         [[-0.9482314 , -1.        , -1.        , ..., -1.        ,\n",
       "           -1.        , -0.95223719],\n",
       "          [ 1.        ,  0.91668731,  0.6265884 , ...,  0.5267818 ,\n",
       "            0.82376403,  1.        ],\n",
       "          [ 0.21126963,  0.19775483,  0.14385441, ...,  0.04642091,\n",
       "            0.16940068,  0.20370306],\n",
       "          ...,\n",
       "          [ 0.03635567,  0.04169422,  0.04576232, ...,  0.03646164,\n",
       "            0.03175593,  0.03214948],\n",
       "          [ 0.03289276,  0.03382966,  0.02719767, ...,  0.01622314,\n",
       "            0.03043476,  0.03562911],\n",
       "          [ 0.02361723,  0.01755182,  0.00170922, ...,  0.01460957,\n",
       "            0.02366603,  0.02750018]],\n",
       "  \n",
       "         ...,\n",
       "  \n",
       "         [[-0.95502222, -1.        , -1.        , ..., -1.        ,\n",
       "           -1.        , -0.97672057],\n",
       "          [ 1.        ,  0.91288632,  0.63578933, ...,  0.52658808,\n",
       "            0.80764395,  1.        ],\n",
       "          [ 0.20309018,  0.18740349,  0.13294105, ...,  0.11136951,\n",
       "            0.16683969,  0.20386215],\n",
       "          ...,\n",
       "          [ 0.03235712,  0.03194593,  0.02537736, ...,  0.02368445,\n",
       "            0.03083967,  0.03482836],\n",
       "          [ 0.02824664,  0.02807084,  0.02245473, ...,  0.02126587,\n",
       "            0.02753516,  0.03086886],\n",
       "          [ 0.02759712,  0.02747116,  0.02190972, ...,  0.020395  ,\n",
       "            0.02651289,  0.02969422]],\n",
       "  \n",
       "         [[-0.9538157 , -1.        , -1.        , ..., -1.        ,\n",
       "           -1.        , -0.97267413],\n",
       "          [ 1.        ,  0.91379195,  0.63599497, ...,  0.52789378,\n",
       "            0.81020749,  1.        ],\n",
       "          [ 0.20229875,  0.18682986,  0.132452  , ...,  0.11221033,\n",
       "            0.1688358 ,  0.20580149],\n",
       "          ...,\n",
       "          [ 0.03130609,  0.03098279,  0.02457898, ...,  0.02273158,\n",
       "            0.02961927,  0.03329286],\n",
       "          [ 0.03057492,  0.03031592,  0.02402175, ...,  0.02246172,\n",
       "            0.02961961,  0.0333563 ],\n",
       "          [ 0.02941161,  0.0293414 ,  0.0235601 , ...,  0.02016298,\n",
       "            0.02599477,  0.02901047]],\n",
       "  \n",
       "         [[-0.95377642, -1.        , -1.        , ..., -1.        ,\n",
       "           -1.        , -0.97558129],\n",
       "          [ 1.        ,  0.91377676,  0.63590091, ...,  0.52709079,\n",
       "            0.8082962 ,  1.        ],\n",
       "          [ 0.20320013,  0.18766619,  0.13298675, ...,  0.11162966,\n",
       "            0.16712333,  0.20404512],\n",
       "          ...,\n",
       "          [ 0.03416991,  0.03364363,  0.02632556, ...,  0.02265179,\n",
       "            0.02958269,  0.03335384],\n",
       "          [ 0.02952937,  0.02938235,  0.02343507, ...,  0.02230876,\n",
       "            0.0290424 ,  0.03266235],\n",
       "          [ 0.02970637,  0.02960215,  0.02380529, ...,  0.02089993,\n",
       "            0.02693174,  0.03007979]]]),\n",
       "  'chroma': array([[[0.86045271, 0.88607651, 0.85130209, ..., 0.84868622,\n",
       "           0.90009248, 0.86538213],\n",
       "          [0.89149088, 0.92004347, 0.89722496, ..., 0.90396762,\n",
       "           0.93045932, 0.89622641],\n",
       "          [0.93950111, 0.96209466, 0.94911194, ..., 0.94191319,\n",
       "           0.9614715 , 0.94098228],\n",
       "          ...,\n",
       "          [0.84926474, 0.87709194, 0.85441107, ..., 0.86992282,\n",
       "           0.88283062, 0.86422765],\n",
       "          [0.81510401, 0.84275943, 0.80430162, ..., 0.8072058 ,\n",
       "           0.84561533, 0.82378054],\n",
       "          [0.80382645, 0.82709807, 0.78125882, ..., 0.77369511,\n",
       "           0.83436304, 0.80825388]],\n",
       "  \n",
       "         [[0.32225931, 0.26889616, 0.23392656, ..., 0.84033954,\n",
       "           0.90716827, 0.87264174],\n",
       "          [0.24447577, 0.20724289, 0.20589593, ..., 0.88859046,\n",
       "           0.93056864, 0.89899743],\n",
       "          [0.47219935, 0.40467933, 0.35525987, ..., 0.93898064,\n",
       "           0.96613252, 0.94581258],\n",
       "          ...,\n",
       "          [0.21656282, 0.1702171 , 0.15296115, ..., 0.85961032,\n",
       "           0.88294691, 0.86789852],\n",
       "          [0.23801455, 0.2108058 , 0.214755  , ..., 0.797162  ,\n",
       "           0.84790063, 0.82911992],\n",
       "          [0.50673974, 0.47735241, 0.45159033, ..., 0.76483172,\n",
       "           0.83713627, 0.81254721]],\n",
       "  \n",
       "         [[0.85437053, 0.87969309, 0.84490341, ..., 0.84134817,\n",
       "           0.90538204, 0.87233824],\n",
       "          [0.88111073, 0.90940589, 0.8890624 , ..., 0.88668919,\n",
       "           0.9272449 , 0.89594704],\n",
       "          [0.92538077, 0.94685245, 0.93615323, ..., 0.92109287,\n",
       "           0.95506233, 0.9367969 ],\n",
       "          ...,\n",
       "          [0.85346609, 0.88337946, 0.85791588, ..., 0.86533397,\n",
       "           0.89540488, 0.87600166],\n",
       "          [0.81617987, 0.84817457, 0.81613564, ..., 0.80480945,\n",
       "           0.85525841, 0.83473933],\n",
       "          [0.80027419, 0.82643968, 0.79077595, ..., 0.76305848,\n",
       "           0.8410241 , 0.81654817]],\n",
       "  \n",
       "         ...,\n",
       "  \n",
       "         [[0.86732656, 0.89622802, 0.86021692, ..., 0.83755732,\n",
       "           0.89750695, 0.86603326],\n",
       "          [0.89221191, 0.92506754, 0.90617442, ..., 0.89051342,\n",
       "           0.92626607, 0.89572281],\n",
       "          [0.93450022, 0.95940429, 0.95007068, ..., 0.94236684,\n",
       "           0.96243   , 0.942137  ],\n",
       "          ...,\n",
       "          [0.86214751, 0.89583087, 0.87201798, ..., 0.86777723,\n",
       "           0.88421506, 0.86721534],\n",
       "          [0.82333773, 0.85709512, 0.82074273, ..., 0.80535489,\n",
       "           0.84858829, 0.82847291],\n",
       "          [0.81069946, 0.83879012, 0.7940827 , ..., 0.76734054,\n",
       "           0.83351851, 0.80995238]],\n",
       "  \n",
       "         [[0.86517382, 0.89402968, 0.85850585, ..., 0.83414292,\n",
       "           0.89386493, 0.86359286],\n",
       "          [0.89031941, 0.92247844, 0.90327108, ..., 0.88922858,\n",
       "           0.92615527, 0.89629775],\n",
       "          [0.93476582, 0.95974225, 0.94993126, ..., 0.94108802,\n",
       "           0.96130949, 0.94166249],\n",
       "          ...,\n",
       "          [0.86012352, 0.89280981, 0.86839038, ..., 0.87035441,\n",
       "           0.88793451, 0.87104362],\n",
       "          [0.82159698, 0.85486948, 0.8184036 , ..., 0.80783468,\n",
       "           0.85286337, 0.83281696],\n",
       "          [0.80868238, 0.83686632, 0.79248458, ..., 0.76628125,\n",
       "           0.83296382, 0.81015509]],\n",
       "  \n",
       "         [[0.86228752, 0.88964653, 0.85411388, ..., 0.83839512,\n",
       "           0.89963412, 0.86821777],\n",
       "          [0.88993287, 0.92015594, 0.89975214, ..., 0.89341259,\n",
       "           0.93056363, 0.89919508],\n",
       "          [0.93487912, 0.95838076, 0.94775015, ..., 0.94436711,\n",
       "           0.96539384, 0.94440287],\n",
       "          ...,\n",
       "          [0.85676003, 0.88782406, 0.86363202, ..., 0.86999625,\n",
       "           0.88686866, 0.86966938],\n",
       "          [0.81778675, 0.84980607, 0.81378973, ..., 0.80487972,\n",
       "           0.84963989, 0.83021933],\n",
       "          [0.80408931, 0.83050466, 0.78641999, ..., 0.76800674,\n",
       "           0.83560205, 0.81231338]]]),\n",
       "  'cqt': array([[[-2.58463025e-02, -4.70293164e-02, -1.83831573e-01, ...,\n",
       "           -2.43928254e-01, -5.70318103e-02,  0.00000000e+00],\n",
       "          [-2.98962682e-01, -3.77355754e-01, -5.26509404e-01, ...,\n",
       "           -4.16805267e-01, -2.61381596e-01, -1.74927175e-01],\n",
       "          [-6.35188639e-01, -6.55317783e-01, -8.62639308e-01, ...,\n",
       "           -6.62461877e-01, -4.28937793e-01, -3.72208565e-01],\n",
       "          ...,\n",
       "          [-1.99207287e+01, -6.05411949e+01, -6.68087692e+01, ...,\n",
       "           -5.60532990e+01, -3.97932587e+01, -6.74451675e+01],\n",
       "          [-2.01422768e+01, -8.00000000e+01, -6.43958054e+01, ...,\n",
       "           -5.47037811e+01, -3.82170830e+01, -5.86143112e+01],\n",
       "          [-2.03206921e+01, -6.65219650e+01, -5.73468208e+01, ...,\n",
       "           -4.71015854e+01, -4.36059074e+01, -5.22294922e+01]],\n",
       "  \n",
       "         [[-1.64691806e-01, -1.86558723e-01, -3.26043814e-01, ...,\n",
       "           -2.44567335e-01, -6.42820001e-02, -1.35313869e-02],\n",
       "          [-3.69112790e-01, -4.36904699e-01, -5.73111892e-01, ...,\n",
       "           -2.19065368e-01, -7.47945309e-02, -1.78813934e-07],\n",
       "          [-7.32176602e-01, -7.59608805e-01, -9.76900458e-01, ...,\n",
       "           -3.51524025e-01, -1.56215191e-01, -1.32897496e-01],\n",
       "          ...,\n",
       "          [-1.46053476e+01, -1.74465351e+01, -1.24763603e+01, ...,\n",
       "           -5.40474129e+01, -5.17833290e+01, -5.93782616e+01],\n",
       "          [-1.32154598e+01, -1.92444382e+01, -1.05415564e+01, ...,\n",
       "           -5.77835426e+01, -5.23732605e+01, -5.34356499e+01],\n",
       "          [-1.13677673e+01, -7.64661169e+00, -9.76956081e+00, ...,\n",
       "           -5.81648369e+01, -5.74642906e+01, -5.64378433e+01]],\n",
       "  \n",
       "         [[-3.21651936e-01, -3.59540492e-01, -5.15137672e-01, ...,\n",
       "           -1.93787932e-01, -3.40141654e-02, -1.19209290e-07],\n",
       "          [-5.06924510e-01, -5.92317998e-01, -7.48639822e-01, ...,\n",
       "           -4.66120362e-01, -3.00120234e-01, -2.06284106e-01],\n",
       "          [-7.02225804e-01, -7.04390764e-01, -8.89377832e-01, ...,\n",
       "           -6.38336003e-01, -4.23167348e-01, -3.81056130e-01],\n",
       "          ...,\n",
       "          [-2.02291145e+01, -4.56585045e+01, -4.25576630e+01, ...,\n",
       "           -5.91911926e+01, -5.05614967e+01, -5.15791245e+01],\n",
       "          [-2.04627457e+01, -4.89693489e+01, -3.26170273e+01, ...,\n",
       "           -5.51421318e+01, -5.28699341e+01, -5.53058128e+01],\n",
       "          [-2.05896149e+01, -5.96550064e+01, -3.67047462e+01, ...,\n",
       "           -5.56483383e+01, -6.32518959e+01, -6.47923737e+01]],\n",
       "  \n",
       "         ...,\n",
       "  \n",
       "         [[-2.17535645e-01, -2.45398909e-01, -3.90312254e-01, ...,\n",
       "           -2.06946045e-01, -3.97436023e-02,  0.00000000e+00],\n",
       "          [-4.63186175e-01, -5.41122198e-01, -6.89009070e-01, ...,\n",
       "           -4.39809442e-01, -2.84955353e-01, -2.00181752e-01],\n",
       "          [-7.80993938e-01, -7.99799204e-01, -1.00580180e+00, ...,\n",
       "           -7.36378431e-01, -5.08330822e-01, -4.56176877e-01],\n",
       "          ...,\n",
       "          [-2.00267868e+01, -6.33292542e+01, -7.30854568e+01, ...,\n",
       "           -6.24565163e+01, -5.36171761e+01, -6.81019211e+01],\n",
       "          [-2.02855721e+01, -6.09048042e+01, -7.07209549e+01, ...,\n",
       "           -5.87237587e+01, -5.60561409e+01, -6.25056114e+01],\n",
       "          [-2.04621735e+01, -8.00000000e+01, -6.53195114e+01, ...,\n",
       "           -5.86287041e+01, -6.07979393e+01, -6.62771454e+01]],\n",
       "  \n",
       "         [[-2.06374675e-01, -2.34621197e-01, -3.80036592e-01, ...,\n",
       "           -2.07383454e-01, -4.00065780e-02, -2.38418579e-07],\n",
       "          [-4.31450367e-01, -5.08746922e-01, -6.56034708e-01, ...,\n",
       "           -4.41938758e-01, -2.85754532e-01, -1.99854493e-01],\n",
       "          [-7.34474897e-01, -7.51394987e-01, -9.55282509e-01, ...,\n",
       "           -7.28380322e-01, -5.01549006e-01, -4.50684965e-01],\n",
       "          ...,\n",
       "          [-1.99460869e+01, -6.54201431e+01, -5.94509850e+01, ...,\n",
       "           -5.76903801e+01, -5.29584618e+01, -5.49454269e+01],\n",
       "          [-2.02018585e+01, -5.75153618e+01, -5.68880806e+01, ...,\n",
       "           -5.29413834e+01, -5.06328201e+01, -5.66090279e+01],\n",
       "          [-2.04792595e+01, -5.36291237e+01, -5.76286316e+01, ...,\n",
       "           -5.10258789e+01, -5.15572662e+01, -5.82225533e+01]],\n",
       "  \n",
       "         [[-2.43059188e-01, -2.71315485e-01, -4.16783482e-01, ...,\n",
       "           -2.03418463e-01, -3.81457806e-02,  5.96046448e-08],\n",
       "          [-4.62778747e-01, -5.38688302e-01, -6.84472144e-01, ...,\n",
       "           -4.49168742e-01, -2.93283641e-01, -2.07727462e-01],\n",
       "          [-7.80270576e-01, -7.98046350e-01, -1.00295830e+00, ...,\n",
       "           -7.46361494e-01, -5.18655777e-01, -4.66886282e-01],\n",
       "          ...,\n",
       "          [-2.01245155e+01, -6.86800079e+01, -6.18599930e+01, ...,\n",
       "           -6.37506447e+01, -6.59621201e+01, -7.22124252e+01],\n",
       "          [-2.02882786e+01, -6.43859634e+01, -5.92206345e+01, ...,\n",
       "           -6.03330460e+01, -6.47827301e+01, -7.22558899e+01],\n",
       "          [-2.04456196e+01, -6.04279900e+01, -5.52756119e+01, ...,\n",
       "           -6.09625740e+01, -6.91421051e+01, -7.16131058e+01]]]),\n",
       "  'label': array([15, 15, 15, ..., 12, 12, 12]),\n",
       "  'id': array(['XC514030.mp3', 'XC514030.mp3', 'XC514030.mp3', ...,\n",
       "         'XC308991.mp3', 'XC308991.mp3', 'XC308991.mp3'], dtype='<U12')}}"
      ]
     },
     "execution_count": 41,
     "metadata": {},
     "output_type": "execute_result"
    }
   ],
   "source": [
    "merged_dict_2D = {'train': train_features_2D, 'val': val_features_2D}\n",
    "merged_dict_2D"
   ]
  },
  {
   "cell_type": "markdown",
   "metadata": {},
   "source": [
    "### Save the merged dictionary to a pkl"
   ]
  },
  {
   "cell_type": "code",
   "execution_count": 42,
   "metadata": {},
   "outputs": [],
   "source": [
    "# Avrg Pooled\n",
    "with open('/content/drive/My Drive/Final-Year-Project/Dataset/Final-Version-Of-Bird-Classification-Project/feature-extraction/NotAnnotated/Augmented/AveragePooled/split_features_3s_all_1D.pkl', 'wb') as file:\n",
    "  pickle.dump(merged_dict_1D, file)\n",
    "del file"
   ]
  },
  {
   "cell_type": "code",
   "execution_count": 43,
   "metadata": {},
   "outputs": [],
   "source": [
    "# Avrg Pooled\n",
    "with open('/content/drive/My Drive/Final-Year-Project/Dataset/Final-Version-Of-Bird-Classification-Project/feature-extraction/NotAnnotated/Augmented/NotAveragePooled/split_features_3s_all_2D.pkl', 'wb') as file:\n",
    "  pickle.dump(merged_dict_2D, file)\n",
    "del file"
   ]
  },
  {
   "cell_type": "markdown",
   "metadata": {},
   "source": [
    "## **Window Size = 1s**"
   ]
  },
  {
   "cell_type": "markdown",
   "metadata": {},
   "source": [
    "### **['melspectrogram', 'mfcc', 'chroma', 'cqt']**"
   ]
  },
  {
   "cell_type": "code",
   "execution_count": 44,
   "metadata": {},
   "outputs": [],
   "source": [
    "features_list = ['melspectrogram', 'mfcc', 'chroma', 'cqt']"
   ]
  },
  {
   "cell_type": "code",
   "execution_count": 45,
   "metadata": {},
   "outputs": [
    {
     "name": "stdout",
     "output_type": "stream",
     "text": [
      "Train DataFrame shape: (482, 6)\n",
      "Validation DataFrame shape: (133, 6)\n",
      "Number of rows in dataframe: 482\n"
     ]
    },
    {
     "name": "stderr",
     "output_type": "stream",
     "text": [
      "Processing data:   0%|          | 0/482 [00:00<?, ?it/s]c:\\Users\\thato\\AppData\\Local\\Programs\\Python\\Python312\\Lib\\site-packages\\librosa\\core\\pitch.py:101: UserWarning: Trying to estimate tuning from empty frequency set.\n",
      "  return pitch_tuning(\n",
      "Processing data: 100%|██████████| 482/482 [33:42<00:00,  4.20s/it]  \n"
     ]
    },
    {
     "name": "stdout",
     "output_type": "stream",
     "text": [
      "Number of rows in dataframe: 133\n"
     ]
    },
    {
     "name": "stderr",
     "output_type": "stream",
     "text": [
      "Processing data: 100%|██████████| 133/133 [08:24<00:00,  3.79s/it]\n"
     ]
    },
    {
     "name": "stdout",
     "output_type": "stream",
     "text": [
      "\u001b[1m1331/1331\u001b[0m \u001b[32m━━━━━━━━━━━━━━━━━━━━\u001b[0m\u001b[37m\u001b[0m \u001b[1m1s\u001b[0m 619us/step\n",
      "\u001b[1m409/409\u001b[0m \u001b[32m━━━━━━━━━━━━━━━━━━━━\u001b[0m\u001b[37m\u001b[0m \u001b[1m0s\u001b[0m 684us/step\n",
      "\u001b[1m1331/1331\u001b[0m \u001b[32m━━━━━━━━━━━━━━━━━━━━\u001b[0m\u001b[37m\u001b[0m \u001b[1m1s\u001b[0m 474us/step\n",
      "\u001b[1m409/409\u001b[0m \u001b[32m━━━━━━━━━━━━━━━━━━━━\u001b[0m\u001b[37m\u001b[0m \u001b[1m0s\u001b[0m 463us/step\n",
      "\u001b[1m1331/1331\u001b[0m \u001b[32m━━━━━━━━━━━━━━━━━━━━\u001b[0m\u001b[37m\u001b[0m \u001b[1m1s\u001b[0m 458us/step\n",
      "\u001b[1m409/409\u001b[0m \u001b[32m━━━━━━━━━━━━━━━━━━━━\u001b[0m\u001b[37m\u001b[0m \u001b[1m0s\u001b[0m 428us/step\n",
      "\u001b[1m1331/1331\u001b[0m \u001b[32m━━━━━━━━━━━━━━━━━━━━\u001b[0m\u001b[37m\u001b[0m \u001b[1m1s\u001b[0m 566us/step\n",
      "\u001b[1m409/409\u001b[0m \u001b[32m━━━━━━━━━━━━━━━━━━━━\u001b[0m\u001b[37m\u001b[0m \u001b[1m0s\u001b[0m 514us/step\n"
     ]
    }
   ],
   "source": [
    "features = Extraction(train_data,\n",
    "                      val_data,\n",
    "                      window_size=1,\n",
    "                      features=features_list,\n",
    "                      avgpool=True\n",
    "                      )"
   ]
  },
  {
   "cell_type": "code",
   "execution_count": 46,
   "metadata": {},
   "outputs": [
    {
     "data": {
      "text/plain": [
       "(42578,)"
      ]
     },
     "metadata": {},
     "output_type": "display_data"
    },
    {
     "data": {
      "text/plain": [
       "(13083,)"
      ]
     },
     "metadata": {},
     "output_type": "display_data"
    }
   ],
   "source": [
    "train_y = features.train_y\n",
    "val_y = features.val_y\n",
    "\n",
    "display(train_y.shape)\n",
    "display(val_y.shape)"
   ]
  },
  {
   "cell_type": "code",
   "execution_count": 47,
   "metadata": {},
   "outputs": [
    {
     "data": {
      "text/plain": [
       "'melspectrogram'"
      ]
     },
     "metadata": {},
     "output_type": "display_data"
    },
    {
     "data": {
      "text/plain": [
       "(42578, 128)"
      ]
     },
     "metadata": {},
     "output_type": "display_data"
    },
    {
     "data": {
      "text/plain": [
       "'mfcc'"
      ]
     },
     "metadata": {},
     "output_type": "display_data"
    },
    {
     "data": {
      "text/plain": [
       "(42578, 20)"
      ]
     },
     "metadata": {},
     "output_type": "display_data"
    },
    {
     "data": {
      "text/plain": [
       "'chroma'"
      ]
     },
     "metadata": {},
     "output_type": "display_data"
    },
    {
     "data": {
      "text/plain": [
       "(42578, 12)"
      ]
     },
     "metadata": {},
     "output_type": "display_data"
    },
    {
     "data": {
      "text/plain": [
       "'cqt'"
      ]
     },
     "metadata": {},
     "output_type": "display_data"
    },
    {
     "data": {
      "text/plain": [
       "(42578, 84)"
      ]
     },
     "metadata": {},
     "output_type": "display_data"
    }
   ],
   "source": [
    "# Avgpooled Features\n",
    "train_features_1D = features.train_features_1D\n",
    "for key in train_features_1D.keys():\n",
    "  display(key)\n",
    "  display(train_features_1D[key].shape)"
   ]
  },
  {
   "cell_type": "code",
   "execution_count": 48,
   "metadata": {},
   "outputs": [
    {
     "data": {
      "text/plain": [
       "'melspectrogram'"
      ]
     },
     "metadata": {},
     "output_type": "display_data"
    },
    {
     "data": {
      "text/plain": [
       "(13083, 128)"
      ]
     },
     "metadata": {},
     "output_type": "display_data"
    },
    {
     "data": {
      "text/plain": [
       "'mfcc'"
      ]
     },
     "metadata": {},
     "output_type": "display_data"
    },
    {
     "data": {
      "text/plain": [
       "(13083, 20)"
      ]
     },
     "metadata": {},
     "output_type": "display_data"
    },
    {
     "data": {
      "text/plain": [
       "'chroma'"
      ]
     },
     "metadata": {},
     "output_type": "display_data"
    },
    {
     "data": {
      "text/plain": [
       "(13083, 12)"
      ]
     },
     "metadata": {},
     "output_type": "display_data"
    },
    {
     "data": {
      "text/plain": [
       "'cqt'"
      ]
     },
     "metadata": {},
     "output_type": "display_data"
    },
    {
     "data": {
      "text/plain": [
       "(13083, 84)"
      ]
     },
     "metadata": {},
     "output_type": "display_data"
    }
   ],
   "source": [
    "# Avgpooled Features\n",
    "val_features_1D = features.val_features_1D\n",
    "for key in val_features_1D.keys():\n",
    "  display(key)\n",
    "  display(val_features_1D[key].shape)"
   ]
  },
  {
   "cell_type": "code",
   "execution_count": 49,
   "metadata": {},
   "outputs": [
    {
     "data": {
      "text/plain": [
       "'melspectrogram'"
      ]
     },
     "metadata": {},
     "output_type": "display_data"
    },
    {
     "data": {
      "text/plain": [
       "(42578, 128, 87)"
      ]
     },
     "metadata": {},
     "output_type": "display_data"
    },
    {
     "data": {
      "text/plain": [
       "'mfcc'"
      ]
     },
     "metadata": {},
     "output_type": "display_data"
    },
    {
     "data": {
      "text/plain": [
       "(42578, 20, 87)"
      ]
     },
     "metadata": {},
     "output_type": "display_data"
    },
    {
     "data": {
      "text/plain": [
       "'chroma'"
      ]
     },
     "metadata": {},
     "output_type": "display_data"
    },
    {
     "data": {
      "text/plain": [
       "(42578, 12, 87)"
      ]
     },
     "metadata": {},
     "output_type": "display_data"
    },
    {
     "data": {
      "text/plain": [
       "'cqt'"
      ]
     },
     "metadata": {},
     "output_type": "display_data"
    },
    {
     "data": {
      "text/plain": [
       "(42578, 84, 87)"
      ]
     },
     "metadata": {},
     "output_type": "display_data"
    }
   ],
   "source": [
    "# Not avgpooled Features\n",
    "train_features_2D = features.train_features_2D\n",
    "for key in train_features_2D.keys():\n",
    "  display(key)\n",
    "  display(train_features_2D[key].shape)"
   ]
  },
  {
   "cell_type": "code",
   "execution_count": 50,
   "metadata": {},
   "outputs": [
    {
     "data": {
      "text/plain": [
       "'melspectrogram'"
      ]
     },
     "metadata": {},
     "output_type": "display_data"
    },
    {
     "data": {
      "text/plain": [
       "(13083, 128, 87)"
      ]
     },
     "metadata": {},
     "output_type": "display_data"
    },
    {
     "data": {
      "text/plain": [
       "'mfcc'"
      ]
     },
     "metadata": {},
     "output_type": "display_data"
    },
    {
     "data": {
      "text/plain": [
       "(13083, 20, 87)"
      ]
     },
     "metadata": {},
     "output_type": "display_data"
    },
    {
     "data": {
      "text/plain": [
       "'chroma'"
      ]
     },
     "metadata": {},
     "output_type": "display_data"
    },
    {
     "data": {
      "text/plain": [
       "(13083, 12, 87)"
      ]
     },
     "metadata": {},
     "output_type": "display_data"
    },
    {
     "data": {
      "text/plain": [
       "'cqt'"
      ]
     },
     "metadata": {},
     "output_type": "display_data"
    },
    {
     "data": {
      "text/plain": [
       "(13083, 84, 87)"
      ]
     },
     "metadata": {},
     "output_type": "display_data"
    }
   ],
   "source": [
    "# Not avgpooled Features\n",
    "val_features_2D = features.val_features_2D\n",
    "for key in val_features_2D.keys():\n",
    "  display(key)\n",
    "  display(val_features_2D[key].shape)"
   ]
  },
  {
   "cell_type": "code",
   "execution_count": 51,
   "metadata": {},
   "outputs": [],
   "source": [
    "train_ids = features.train_ids\n",
    "val_ids = features.val_ids"
   ]
  },
  {
   "cell_type": "markdown",
   "metadata": {},
   "source": [
    "### Encode Classes"
   ]
  },
  {
   "cell_type": "code",
   "execution_count": 52,
   "metadata": {},
   "outputs": [
    {
     "name": "stdout",
     "output_type": "stream",
     "text": [
      "Encoded classes for [0, 1, 2]: ['Acrocephalus arundinaceus', 'Acrocephalus melanopogon', 'Acrocephalus scirpaceus']\n",
      "Encoded training labels: [15 15 15 ... 12 12 12]\n",
      "Encoded validation labels: [15 15 15 ... 12 12 12]\n"
     ]
    }
   ],
   "source": [
    "label_encoder = LabelEncoder().fit(train_y)\n",
    "train_y_encoded = label_encoder.transform(train_y)\n",
    "val_y_encoded = label_encoder.transform(val_y)\n",
    "\n",
    "classes = list(label_encoder.inverse_transform([0, 1, 2]))\n",
    "print(\"Encoded classes for [0, 1, 2]:\", classes)\n",
    "print(\"Encoded training labels:\", train_y_encoded)\n",
    "print(\"Encoded validation labels:\", val_y_encoded)"
   ]
  },
  {
   "cell_type": "code",
   "execution_count": 53,
   "metadata": {},
   "outputs": [],
   "source": [
    "# Avg Pooled\n",
    "\n",
    "train_features_1D['label'] = train_y_encoded\n",
    "val_features_1D['label'] = val_y_encoded\n",
    "\n",
    "train_features_1D['id'] = train_ids\n",
    "val_features_1D['id'] = val_ids\n",
    "\n",
    "# Not Avg Pooled\n",
    "\n",
    "train_features_2D['label'] = train_y_encoded\n",
    "val_features_2D['label'] = val_y_encoded\n",
    "\n",
    "train_features_2D['id'] = train_ids\n",
    "val_features_2D['id'] = val_ids"
   ]
  },
  {
   "cell_type": "code",
   "execution_count": 54,
   "metadata": {},
   "outputs": [
    {
     "data": {
      "text/plain": [
       "{'train': {'melspectrogram': array([[-0.01720456, -0.9333485 , -0.9391832 , ..., -0.82813597,\n",
       "          -0.8620985 , -0.9794059 ],\n",
       "         [-0.01720306, -0.9333132 , -0.93914014, ..., -0.8327555 ,\n",
       "          -0.86637986, -0.97935015],\n",
       "         [-0.01720168, -0.9332716 , -0.93908674, ..., -0.847576  ,\n",
       "          -0.8784226 , -0.9896085 ],\n",
       "         ...,\n",
       "         [-0.01720948, -0.55143994, -0.52205884, ..., -0.87508094,\n",
       "          -0.90587527, -0.9997576 ],\n",
       "         [-0.0171332 , -0.55125844, -0.51631904, ..., -0.8850505 ,\n",
       "          -0.9144034 , -0.99985427],\n",
       "         [-0.01714398, -0.5486961 , -0.5132266 , ..., -0.88104194,\n",
       "          -0.911118  , -1.        ]], dtype=float32),\n",
       "  'mfcc': array([[-1.        , -0.02898505, -0.10768069, ...,  0.01827751,\n",
       "           0.02722204,  0.04308926],\n",
       "         [-1.        , -0.02902972, -0.1065027 , ...,  0.01701666,\n",
       "           0.02487057,  0.04410085],\n",
       "         [-1.        , -0.0125336 , -0.09841443, ...,  0.02036034,\n",
       "           0.02327715,  0.04241924],\n",
       "         ...,\n",
       "         [-0.98799   ,  0.37737554, -0.05744054, ...,  0.00969456,\n",
       "           0.03462029,  0.02820013],\n",
       "         [-0.99841714,  0.28738308,  0.04535313, ...,  0.02533017,\n",
       "           0.01294063,  0.02416952],\n",
       "         [-0.99857014,  0.27322164,  0.0469696 , ...,  0.02253128,\n",
       "           0.01113787,  0.02222918]], dtype=float32),\n",
       "  'chroma': array([[0.8271548 , 0.8883066 , 0.9453744 , ..., 0.8582767 , 0.779931  ,\n",
       "          0.7495196 ],\n",
       "         [0.8292698 , 0.88771284, 0.94576025, ..., 0.85984206, 0.77957153,\n",
       "          0.7523162 ],\n",
       "         [0.8166487 , 0.8833283 , 0.93871975, ..., 0.85220855, 0.7768211 ,\n",
       "          0.73735136],\n",
       "         ...,\n",
       "         [0.78609914, 0.8277655 , 0.86288786, ..., 0.7711425 , 0.72293115,\n",
       "          0.70888925],\n",
       "         [0.8171861 , 0.8880911 , 0.9406314 , ..., 0.8598663 , 0.7814945 ,\n",
       "          0.73908824],\n",
       "         [0.8211049 , 0.89171416, 0.9438331 , ..., 0.8557635 , 0.7822152 ,\n",
       "          0.7408176 ]], dtype=float32),\n",
       "  'cqt': array([[-36.707176, -38.57261 , -38.971214, ..., -50.6422  , -50.96052 ,\n",
       "          -50.331028],\n",
       "         [-36.706562, -38.572975, -38.97125 , ..., -49.9499  , -51.10147 ,\n",
       "          -50.653656],\n",
       "         [-36.707714, -38.57384 , -38.972214, ..., -51.43663 , -51.212334,\n",
       "          -51.352066],\n",
       "         ...,\n",
       "         [-27.419268, -26.019049, -23.20853 , ..., -49.93564 , -50.779854,\n",
       "          -50.333607],\n",
       "         [-25.379627, -26.58342 , -26.29915 , ..., -50.4188  , -52.32583 ,\n",
       "          -50.808083],\n",
       "         [-23.626596, -25.636744, -24.509665, ..., -51.084373, -52.791965,\n",
       "          -51.471027]], dtype=float32),\n",
       "  'label': array([15, 15, 15, ..., 12, 12, 12]),\n",
       "  'id': array(['XC184422.mp3', 'XC184422.mp3', 'XC184422.mp3', ...,\n",
       "         'XC466742.mp3', 'XC466742.mp3', 'XC466742.mp3'], dtype='<U12')},\n",
       " 'val': {'melspectrogram': array([[-0.01745493, -0.55265135, -0.6019275 , ..., -0.98821425,\n",
       "          -0.99094564, -0.99999666],\n",
       "         [-0.01719118, -0.5449842 , -0.59809476, ..., -0.95883864,\n",
       "          -0.9753695 , -0.99997264],\n",
       "         [-0.01724182, -0.56005096, -0.59076387, ..., -0.95402026,\n",
       "          -0.96716774, -1.        ],\n",
       "         ...,\n",
       "         [-0.01717577, -0.7440504 , -0.70493203, ..., -0.99984497,\n",
       "          -0.9999163 , -1.        ],\n",
       "         [-0.01719172, -0.7624394 , -0.7260496 , ..., -0.9999123 ,\n",
       "          -0.99996686, -1.        ],\n",
       "         [-0.01720358, -0.7953272 , -0.76104695, ..., -0.9999252 ,\n",
       "          -0.9999566 , -1.        ]], dtype=float32),\n",
       "  'mfcc': array([[-0.9984871 ,  0.14371385,  0.09447124, ...,  0.02052981,\n",
       "           0.0356813 , -0.00140353],\n",
       "         [-0.99456096,  0.09521145,  0.02019927, ...,  0.02551902,\n",
       "           0.0407992 ,  0.01751641],\n",
       "         [-0.998602  ,  0.08533647,  0.02952283, ...,  0.02222835,\n",
       "           0.04165795,  0.0237745 ],\n",
       "         ...,\n",
       "         [-0.9989823 ,  0.19427887,  0.0247453 , ...,  0.01668994,\n",
       "           0.01091636,  0.01423398],\n",
       "         [-0.9989975 ,  0.18133731,  0.03316664, ...,  0.01496921,\n",
       "           0.01430995,  0.01419251],\n",
       "         [-0.99901634,  0.15469694,  0.04362481, ...,  0.01535054,\n",
       "           0.01416197,  0.01375389]], dtype=float32),\n",
       "  'chroma': array([[0.7883736 , 0.8412515 , 0.9099283 , ..., 0.8039329 , 0.7380081 ,\n",
       "          0.71586716],\n",
       "         [0.70143825, 0.7574719 , 0.8273144 , ..., 0.7062013 , 0.663373  ,\n",
       "          0.66379964],\n",
       "         [0.6982627 , 0.76300436, 0.82520425, ..., 0.7164394 , 0.67430574,\n",
       "          0.66939104],\n",
       "         ...,\n",
       "         [0.81852204, 0.88721293, 0.9436147 , ..., 0.8551366 , 0.7815503 ,\n",
       "          0.7399605 ],\n",
       "         [0.818311  , 0.8871713 , 0.9435777 , ..., 0.85491836, 0.7812924 ,\n",
       "          0.73957735],\n",
       "         [0.8186761 , 0.88754046, 0.94383216, ..., 0.85509664, 0.7813553 ,\n",
       "          0.7397839 ]], dtype=float32),\n",
       "  'cqt': array([[-22.816525, -24.62903 , -26.704334, ..., -59.864697, -61.06984 ,\n",
       "          -60.356968],\n",
       "         [-25.249975, -22.489212, -23.85598 , ..., -51.820133, -52.8715  ,\n",
       "          -52.23352 ],\n",
       "         [-21.202805, -23.309643, -22.361273, ..., -49.955387, -51.813477,\n",
       "          -50.914852],\n",
       "         ...,\n",
       "         [-30.594156, -31.883537, -32.675114, ..., -60.251072, -60.36445 ,\n",
       "          -61.2064  ],\n",
       "         [-32.49347 , -32.938034, -34.659035, ..., -62.148083, -62.60908 ,\n",
       "          -63.497597],\n",
       "         [-32.427994, -36.442535, -37.6033  , ..., -65.75708 , -66.075745,\n",
       "          -65.70697 ]], dtype=float32),\n",
       "  'label': array([15, 15, 15, ..., 12, 12, 12]),\n",
       "  'id': array(['XC514030.mp3', 'XC514030.mp3', 'XC514030.mp3', ...,\n",
       "         'XC308991.mp3', 'XC308991.mp3', 'XC308991.mp3'], dtype='<U12')}}"
      ]
     },
     "execution_count": 54,
     "metadata": {},
     "output_type": "execute_result"
    }
   ],
   "source": [
    "merged_dict_1D = {'train': train_features_1D, 'val': val_features_1D}\n",
    "merged_dict_1D"
   ]
  },
  {
   "cell_type": "code",
   "execution_count": 55,
   "metadata": {},
   "outputs": [
    {
     "data": {
      "text/plain": [
       "{'train': {'melspectrogram': array([[[-1.7363867e-02,  0.0000000e+00, -8.1198728e-03, ...,\n",
       "           -9.7965123e-03, -4.7687645e-05, -1.3045984e-02],\n",
       "          [-1.9384871e-01, -2.1228047e-01, -2.6948744e-01, ...,\n",
       "           -2.7984515e-01, -2.1688208e-01, -1.9360192e-01],\n",
       "          [-2.6834840e-01, -2.8662941e-01, -3.4242344e-01, ...,\n",
       "           -3.5257360e-01, -2.9082543e-01, -2.6788574e-01],\n",
       "          ...,\n",
       "          [-9.9897534e-01, -9.9884158e-01, -9.9602479e-01, ...,\n",
       "           -9.7042859e-01, -9.8348904e-01, -9.8610806e-01],\n",
       "          [-9.9957860e-01, -9.9945968e-01, -9.9773401e-01, ...,\n",
       "           -9.7953582e-01, -9.8669928e-01, -9.8847580e-01],\n",
       "          [-1.0000000e+00, -1.0000000e+00, -1.0000000e+00, ...,\n",
       "           -1.0000000e+00, -1.0000000e+00, -1.0000000e+00]],\n",
       "  \n",
       "         [[-1.7287681e-02,  0.0000000e+00, -8.1161708e-03, ...,\n",
       "           -9.7880140e-03, -4.7853238e-05, -1.3035558e-02],\n",
       "          [-1.9298783e-01, -2.1179421e-01, -2.6936716e-01, ...,\n",
       "           -2.7959031e-01, -2.1686108e-01, -1.9345866e-01],\n",
       "          [-2.6715326e-01, -2.8596961e-01, -3.4226736e-01, ...,\n",
       "           -3.5225055e-01, -2.9079559e-01, -2.6768628e-01],\n",
       "          ...,\n",
       "          [-9.9502152e-01, -9.9348563e-01, -9.8516142e-01, ...,\n",
       "           -9.8432124e-01, -9.9455708e-01, -9.9599826e-01],\n",
       "          [-1.0000000e+00, -1.0000000e+00, -9.9423367e-01, ...,\n",
       "           -9.9536407e-01, -9.9990135e-01, -1.0000000e+00],\n",
       "          [-9.9782324e-01, -9.9950957e-01, -1.0000000e+00, ...,\n",
       "           -1.0000000e+00, -1.0000000e+00, -9.9925971e-01]],\n",
       "  \n",
       "         [[-1.7326996e-02,  0.0000000e+00, -8.1146089e-03, ...,\n",
       "           -9.7444383e-03, -4.7824698e-05, -1.2955254e-02],\n",
       "          [-1.9345187e-01, -2.1190712e-01, -2.6929918e-01, ...,\n",
       "           -2.7824473e-01, -2.1567245e-01, -1.9243985e-01],\n",
       "          [-2.6779938e-01, -2.8612506e-01, -3.4218374e-01, ...,\n",
       "           -3.5054070e-01, -2.8919059e-01, -2.6627100e-01],\n",
       "          ...,\n",
       "          [-9.9210638e-01, -9.8887485e-01, -9.7655213e-01, ...,\n",
       "           -9.8444325e-01, -9.9747789e-01, -1.0000000e+00],\n",
       "          [-9.9308181e-01, -9.9075449e-01, -9.8186386e-01, ...,\n",
       "           -9.8990500e-01, -9.9633473e-01, -9.9731809e-01],\n",
       "          [-1.0000000e+00, -1.0000000e+00, -1.0000000e+00, ...,\n",
       "           -1.0000000e+00, -1.0000000e+00, -9.9976045e-01]],\n",
       "  \n",
       "         ...,\n",
       "  \n",
       "         [[-1.7890867e-02,  0.0000000e+00, -8.3643990e-03, ...,\n",
       "           -9.7834794e-03, -2.9026900e-05, -1.3005645e-02],\n",
       "          [-1.9996575e-01, -2.1912381e-01, -2.7844524e-01, ...,\n",
       "           -2.7872053e-01, -2.1584545e-01, -1.9274233e-01],\n",
       "          [-2.7528882e-01, -2.9295430e-01, -3.4866589e-01, ...,\n",
       "           -3.5363260e-01, -2.9148600e-01, -2.6811805e-01],\n",
       "          ...,\n",
       "          [-9.7723913e-01, -9.7665441e-01, -9.7736484e-01, ...,\n",
       "           -9.9128670e-01, -9.9592173e-01, -9.9680495e-01],\n",
       "          [-9.9048269e-01, -9.9026257e-01, -9.9199575e-01, ...,\n",
       "           -9.9876416e-01, -1.0000000e+00, -1.0000000e+00],\n",
       "          [-9.9358863e-01, -9.9357837e-01, -9.9620289e-01, ...,\n",
       "           -1.0000000e+00, -9.9802619e-01, -9.9751979e-01]],\n",
       "  \n",
       "         [[-1.7359897e-02, -3.1514512e-06, -7.9995468e-03, ...,\n",
       "           -9.7027896e-03,  0.0000000e+00, -1.3121803e-02],\n",
       "          [-1.9339420e-01, -2.1193859e-01, -2.6951355e-01, ...,\n",
       "           -2.8136703e-01, -2.1790271e-01, -1.9443625e-01],\n",
       "          [-2.6922086e-01, -2.8847161e-01, -3.4570652e-01, ...,\n",
       "           -3.5447207e-01, -2.9354599e-01, -2.7059951e-01],\n",
       "          ...,\n",
       "          [-9.9198443e-01, -9.9147230e-01, -9.8797476e-01, ...,\n",
       "           -9.8962492e-01, -9.9395883e-01, -9.9509323e-01],\n",
       "          [-1.0000000e+00, -1.0000000e+00, -9.9793845e-01, ...,\n",
       "           -9.9896741e-01, -1.0000000e+00, -1.0000000e+00],\n",
       "          [-9.9695021e-01, -9.9777538e-01, -1.0000000e+00, ...,\n",
       "           -1.0000000e+00, -9.9688506e-01, -9.9571747e-01]],\n",
       "  \n",
       "         [[-1.7332921e-02,  0.0000000e+00, -8.0848234e-03, ...,\n",
       "           -9.8232450e-03, -5.2531657e-05, -1.3110473e-02],\n",
       "          [-1.9339731e-01, -2.1178740e-01, -2.6889992e-01, ...,\n",
       "           -2.8234115e-01, -2.1910141e-01, -1.9543447e-01],\n",
       "          [-2.6696858e-01, -2.8501642e-01, -3.4060264e-01, ...,\n",
       "           -3.5292259e-01, -2.9128802e-01, -2.6831484e-01],\n",
       "          ...,\n",
       "          [-9.9311948e-01, -9.9204117e-01, -9.8694003e-01, ...,\n",
       "           -9.8753607e-01, -9.9529856e-01, -9.9716389e-01],\n",
       "          [-9.9882984e-01, -9.9843222e-01, -9.9590808e-01, ...,\n",
       "           -9.9188650e-01, -9.9599969e-01, -9.9722040e-01],\n",
       "          [-1.0000000e+00, -1.0000000e+00, -1.0000000e+00, ...,\n",
       "           -1.0000000e+00, -1.0000000e+00, -1.0000000e+00]]], dtype=float32),\n",
       "  'mfcc': array([[[-1.00000000e+00, -1.00000000e+00, -1.00000000e+00, ...,\n",
       "           -1.00000000e+00, -1.00000000e+00, -1.00000000e+00],\n",
       "          [ 9.31465745e-01,  8.23693395e-01,  5.90234876e-01, ...,\n",
       "            5.99681795e-01,  8.50496709e-01,  9.62943733e-01],\n",
       "          [ 1.89594686e-01,  1.69588253e-01,  1.24729268e-01, ...,\n",
       "            4.00789687e-03,  9.25753564e-02,  1.51870474e-01],\n",
       "          ...,\n",
       "          [ 3.03244423e-02,  2.90711448e-02,  2.43054386e-02, ...,\n",
       "           -3.40706669e-02, -2.75504142e-02, -7.64702773e-03],\n",
       "          [ 2.84344051e-02,  2.72681173e-02,  2.24439092e-02, ...,\n",
       "            6.20866902e-02,  7.62466565e-02,  6.24254197e-02],\n",
       "          [ 2.69654393e-02,  2.60715429e-02,  2.21873540e-02, ...,\n",
       "            5.61571755e-02,  5.61698861e-02,  4.93669398e-02]],\n",
       "  \n",
       "         [[-1.00000000e+00, -1.00000000e+00, -1.00000000e+00, ...,\n",
       "           -1.00000000e+00, -1.00000000e+00, -1.00000000e+00],\n",
       "          [ 9.28621233e-01,  8.21292102e-01,  5.85549235e-01, ...,\n",
       "            5.56631744e-01,  7.98034608e-01,  9.30898428e-01],\n",
       "          [ 1.98058903e-01,  1.79485351e-01,  1.36420891e-01, ...,\n",
       "            1.23825885e-01,  1.66980356e-01,  1.90701798e-01],\n",
       "          ...,\n",
       "          [ 2.59540658e-02,  2.55108103e-02,  2.27475539e-02, ...,\n",
       "            2.18228213e-02,  2.69862805e-02,  2.89700273e-02],\n",
       "          [ 2.72875577e-02,  2.62349248e-02,  2.23655850e-02, ...,\n",
       "            2.02048104e-02,  2.40469854e-02,  2.53457967e-02],\n",
       "          [ 2.94723455e-02,  2.91680396e-02,  2.67771930e-02, ...,\n",
       "            2.34980192e-02,  2.87708174e-02,  3.06405723e-02]],\n",
       "  \n",
       "         [[-1.00000000e+00, -1.00000000e+00, -1.00000000e+00, ...,\n",
       "           -1.00000000e+00, -1.00000000e+00, -1.00000000e+00],\n",
       "          [ 9.35613573e-01,  8.26433182e-01,  5.86462855e-01, ...,\n",
       "            5.76852798e-01,  8.27661395e-01,  9.63378429e-01],\n",
       "          [ 1.86217263e-01,  1.68283314e-01,  1.28067166e-01, ...,\n",
       "            9.52318460e-02,  1.35472074e-01,  1.59390524e-01],\n",
       "          ...,\n",
       "          [ 2.99498364e-02,  2.86674220e-02,  2.35462468e-02, ...,\n",
       "            5.32106310e-02,  5.95874786e-02,  6.06536902e-02],\n",
       "          [ 2.21753940e-02,  2.20153276e-02,  1.85749140e-02, ...,\n",
       "            2.25892607e-02,  3.04637179e-02,  3.38795669e-02],\n",
       "          [ 4.01234366e-02,  3.85281369e-02,  3.23299952e-02, ...,\n",
       "           -7.43855257e-03, -9.13432799e-03, -8.76891799e-03]],\n",
       "  \n",
       "         ...,\n",
       "  \n",
       "         [[-5.14147401e-01, -5.85385680e-01, -9.20350373e-01, ...,\n",
       "           -1.00000000e+00, -1.00000000e+00, -9.35248256e-01],\n",
       "          [ 1.00000000e+00,  1.00000000e+00,  1.00000000e+00, ...,\n",
       "            6.10468805e-01,  8.99114013e-01,  1.00000000e+00],\n",
       "          [-1.15306906e-01, -1.41946152e-01, -1.88237861e-01, ...,\n",
       "            1.27743632e-01,  1.85127169e-01,  2.03724593e-01],\n",
       "          ...,\n",
       "          [ 3.83190140e-02,  3.46865281e-02,  2.04173718e-02, ...,\n",
       "            2.37625260e-02,  3.07561029e-02,  3.17337774e-02],\n",
       "          [-1.31972190e-02,  6.54243864e-04,  2.30921973e-02, ...,\n",
       "            2.00057756e-02,  2.39046905e-02,  2.39215232e-02],\n",
       "          [ 1.56984676e-03,  1.18956557e-02,  3.15794051e-02, ...,\n",
       "            1.99964605e-02,  2.44594067e-02,  2.45102197e-02]],\n",
       "  \n",
       "         [[-9.30153668e-01, -1.00000000e+00, -1.00000000e+00, ...,\n",
       "           -1.00000000e+00, -1.00000000e+00, -9.32135344e-01],\n",
       "          [ 1.00000000e+00,  9.26779568e-01,  6.21070325e-01, ...,\n",
       "            6.09653652e-01,  9.00518060e-01,  1.00000000e+00],\n",
       "          [ 2.26108193e-01,  2.24585623e-01,  1.70206711e-01, ...,\n",
       "            1.29401892e-01,  1.87240317e-01,  2.05293894e-01],\n",
       "          ...,\n",
       "          [ 1.46338288e-02,  2.06857882e-02,  2.30111163e-02, ...,\n",
       "            2.43991688e-02,  3.24839018e-02,  3.35715190e-02],\n",
       "          [ 7.20438585e-02,  7.04135224e-02,  4.80105355e-02, ...,\n",
       "            2.02185325e-02,  2.58298554e-02,  2.60495339e-02],\n",
       "          [-6.02700857e-05,  1.38752232e-03,  8.49306397e-03, ...,\n",
       "            2.50239801e-02,  3.19424607e-02,  3.25735547e-02]],\n",
       "  \n",
       "         [[-9.46450353e-01, -1.00000000e+00, -1.00000000e+00, ...,\n",
       "           -1.00000000e+00, -1.00000000e+00, -9.29156184e-01],\n",
       "          [ 1.00000000e+00,  9.19688284e-01,  6.33083582e-01, ...,\n",
       "            5.99432528e-01,  8.99406433e-01,  1.00000000e+00],\n",
       "          [ 2.05515772e-01,  1.93287209e-01,  1.43441424e-01, ...,\n",
       "            1.43931448e-01,  2.02430859e-01,  2.17951372e-01],\n",
       "          ...,\n",
       "          [ 3.16329561e-02,  3.44757773e-02,  3.75770479e-02, ...,\n",
       "            4.21469994e-02,  5.12169711e-02,  4.83113341e-02],\n",
       "          [ 3.03235166e-02,  2.82434803e-02,  1.47756226e-02, ...,\n",
       "            1.85459331e-02,  2.42902637e-02,  2.60757618e-02],\n",
       "          [ 2.78424043e-02,  2.90368628e-02,  2.68761273e-02, ...,\n",
       "            2.20135469e-02,  2.98759043e-02,  3.11480351e-02]]],\n",
       "        dtype=float32),\n",
       "  'chroma': array([[[0.8650198 , 0.89277565, 0.8571616 , ..., 1.        ,\n",
       "           0.9808474 , 0.8929279 ],\n",
       "          [0.8908798 , 0.92226654, 0.902778  , ..., 0.8787559 ,\n",
       "           0.94328177, 0.9070492 ],\n",
       "          [0.93410474, 0.9580972 , 0.94846445, ..., 0.97482514,\n",
       "           1.        , 0.9551855 ],\n",
       "          ...,\n",
       "          [0.86025625, 0.8930006 , 0.86930895, ..., 0.96642894,\n",
       "           0.9443473 , 0.8779969 ],\n",
       "          [0.82201153, 0.854653  , 0.81778455, ..., 0.7850581 ,\n",
       "           0.8512409 , 0.81903255],\n",
       "          [0.8084163 , 0.8354398 , 0.79070526, ..., 0.9520511 ,\n",
       "           0.9225704 , 0.83762074]],\n",
       "  \n",
       "         [[0.866435  , 0.89415455, 0.8592386 , ..., 0.8489847 ,\n",
       "           0.8973966 , 0.86341834],\n",
       "          [0.89216787, 0.92384756, 0.9062273 , ..., 0.89888304,\n",
       "           0.92652744, 0.89175314],\n",
       "          [0.93497115, 0.9592235 , 0.9504981 , ..., 0.94649416,\n",
       "           0.9622906 , 0.9365917 ],\n",
       "          ...,\n",
       "          [0.8607574 , 0.8932084 , 0.8692923 , ..., 0.8691086 ,\n",
       "           0.89239204, 0.8604708 ],\n",
       "          [0.8255891 , 0.85767174, 0.81956416, ..., 0.8124943 ,\n",
       "           0.855888  , 0.8217729 ],\n",
       "          [0.8143047 , 0.8409284 , 0.794577  , ..., 0.7823188 ,\n",
       "           0.8399772 , 0.80814207]],\n",
       "  \n",
       "         [[0.86715996, 0.8947823 , 0.8583326 , ..., 0.80656993,\n",
       "           0.8357595 , 0.8054653 ],\n",
       "          [0.8939032 , 0.9253371 , 0.9048591 , ..., 0.85360146,\n",
       "           0.86264443, 0.8319002 ],\n",
       "          [0.9357399 , 0.9597331 , 0.94929606, ..., 0.89972985,\n",
       "           0.8977727 , 0.8759921 ],\n",
       "          ...,\n",
       "          [0.85923535, 0.89227563, 0.86882657, ..., 0.831299  ,\n",
       "           0.8328746 , 0.8008871 ],\n",
       "          [0.8190438 , 0.85188204, 0.8156334 , ..., 0.7743823 ,\n",
       "           0.7967817 , 0.76390964],\n",
       "          [0.8109502 , 0.8378755 , 0.79220265, ..., 0.7409782 ,\n",
       "           0.778298  , 0.7492167 ]],\n",
       "  \n",
       "         ...,\n",
       "  \n",
       "         [[0.7211266 , 0.72648984, 0.716481  , ..., 0.85597533,\n",
       "           0.90796673, 0.86853623],\n",
       "          [0.69221157, 0.6826526 , 0.67140496, ..., 0.9021825 ,\n",
       "           0.92990756, 0.89280206],\n",
       "          [0.75490385, 0.7073617 , 0.6682196 , ..., 0.93580914,\n",
       "           0.95430124, 0.93073463],\n",
       "          ...,\n",
       "          [0.5644144 , 0.57682794, 0.5906021 , ..., 0.8813957 ,\n",
       "           0.91298646, 0.8798065 ],\n",
       "          [0.54874265, 0.55761045, 0.5641787 , ..., 0.8165404 ,\n",
       "           0.8686189 , 0.83535033],\n",
       "          [0.6059209 , 0.60920966, 0.60272324, ..., 0.78734726,\n",
       "           0.85180515, 0.81781   ]],\n",
       "  \n",
       "         [[0.85183954, 0.8639967 , 0.8137882 , ..., 0.8607141 ,\n",
       "           0.9189638 , 0.88406533],\n",
       "          [0.86076534, 0.8762478 , 0.8469328 , ..., 0.91367507,\n",
       "           0.94432163, 0.9061274 ],\n",
       "          [0.9059601 , 0.91333634, 0.89022595, ..., 0.94699025,\n",
       "           0.9715127 , 0.94613934],\n",
       "          ...,\n",
       "          [0.86211944, 0.886196  , 0.8501397 , ..., 0.8700291 ,\n",
       "           0.8991342 , 0.86551267],\n",
       "          [0.8268054 , 0.85339737, 0.8039132 , ..., 0.8255844 ,\n",
       "           0.8757389 , 0.8391121 ],\n",
       "          [0.8088202 , 0.8282601 , 0.7719337 , ..., 0.7883453 ,\n",
       "           0.85364354, 0.82225555]],\n",
       "  \n",
       "         [[0.8688956 , 0.90262926, 0.8635592 , ..., 0.8442796 ,\n",
       "           0.90081453, 0.867264  ],\n",
       "          [0.8903112 , 0.9228316 , 0.8960671 , ..., 0.8845634 ,\n",
       "           0.9178044 , 0.8835963 ],\n",
       "          [0.94133216, 0.96460617, 0.94219035, ..., 0.9263091 ,\n",
       "           0.9471256 , 0.92328   ],\n",
       "          ...,\n",
       "          [0.8434077 , 0.8727356 , 0.84516734, ..., 0.8603174 ,\n",
       "           0.8941279 , 0.8645187 ],\n",
       "          [0.81145203, 0.8415056 , 0.80038023, ..., 0.79859626,\n",
       "           0.8482798 , 0.8172045 ],\n",
       "          [0.8062736 , 0.83409286, 0.7853642 , ..., 0.7719871 ,\n",
       "           0.83308184, 0.8023223 ]]], dtype=float32),\n",
       "  'cqt': array([[[-2.1056890e-01, -2.3887664e-01, -3.8435519e-01, ...,\n",
       "           -1.5160024e-01, -1.4852583e-02,  2.9802322e-08],\n",
       "          [-4.3771911e-01, -5.1456642e-01, -6.6136217e-01, ...,\n",
       "           -3.9806390e-01, -2.6142955e-01, -2.0131737e-01],\n",
       "          [-7.5019968e-01, -7.6706159e-01, -9.7079229e-01, ...,\n",
       "           -6.9007456e-01, -4.7933233e-01, -4.7977304e-01],\n",
       "          ...,\n",
       "          [-2.0016216e+01, -8.0000000e+01, -8.0000000e+01, ...,\n",
       "           -1.7706251e+01, -3.0736122e+01, -2.8325415e+01],\n",
       "          [-2.0253450e+01, -8.0000000e+01, -8.0000000e+01, ...,\n",
       "           -2.8076426e+01, -3.7624302e+01, -3.1723688e+01],\n",
       "          [-2.0439415e+01, -8.0000000e+01, -8.0000000e+01, ...,\n",
       "           -4.7959946e+01, -4.9766815e+01, -3.5447006e+01]],\n",
       "  \n",
       "         [[-2.1066105e-01, -2.3896766e-01, -3.8444155e-01, ...,\n",
       "           -1.5160578e-01, -1.4855206e-02,  8.9406967e-08],\n",
       "          [-4.3781465e-01, -5.1465982e-01, -6.6145426e-01, ...,\n",
       "           -3.9805609e-01, -2.6142234e-01, -2.0130575e-01],\n",
       "          [-7.5029534e-01, -7.6715559e-01, -9.7087866e-01, ...,\n",
       "           -6.9005531e-01, -4.7931045e-01, -4.7974831e-01],\n",
       "          ...,\n",
       "          [-2.0262171e+01, -4.4613182e+01, -5.3523338e+01, ...,\n",
       "           -5.0259460e+01, -5.3381271e+01, -2.9463013e+01],\n",
       "          [-2.0250986e+01, -4.9272499e+01, -5.7886505e+01, ...,\n",
       "           -5.3468456e+01, -5.4066437e+01, -3.2787457e+01],\n",
       "          [-2.0413786e+01, -5.2513977e+01, -5.0655281e+01, ...,\n",
       "           -5.6583496e+01, -5.5691040e+01, -3.2895870e+01]],\n",
       "  \n",
       "         [[-2.1174231e-01, -2.4005464e-01, -3.8553700e-01, ...,\n",
       "           -1.5167418e-01, -1.4883667e-02,  5.9604645e-08],\n",
       "          [-4.3888786e-01, -5.1573932e-01, -6.6253936e-01, ...,\n",
       "           -3.9798072e-01, -2.6132211e-01, -2.0117202e-01],\n",
       "          [-7.5135827e-01, -7.6822317e-01, -9.7196269e-01, ...,\n",
       "           -6.8983519e-01, -4.7906116e-01, -4.7943529e-01],\n",
       "          ...,\n",
       "          [-2.0832159e+01, -4.2119183e+01, -4.6126659e+01, ...,\n",
       "           -4.8585125e+01, -5.3657219e+01, -3.0514549e+01],\n",
       "          [-2.0901703e+01, -4.6584827e+01, -4.6941921e+01, ...,\n",
       "           -4.6927879e+01, -4.7847279e+01, -3.0074282e+01],\n",
       "          [-2.0644566e+01, -5.2820133e+01, -5.1567318e+01, ...,\n",
       "           -4.5423820e+01, -4.9562916e+01, -4.5734871e+01]],\n",
       "  \n",
       "         ...,\n",
       "  \n",
       "         [[-2.2575366e-01, -2.5125021e-01, -3.9327705e-01, ...,\n",
       "           -1.5839165e-01, -1.7876327e-02, -1.1920929e-07],\n",
       "          [-4.8851097e-01, -5.7744926e-01, -7.3726922e-01, ...,\n",
       "           -4.3209872e-01, -2.8951848e-01, -2.2295570e-01],\n",
       "          [-6.9073737e-01, -7.0269567e-01, -9.0161484e-01, ...,\n",
       "           -6.2424076e-01, -4.1355243e-01, -4.1449222e-01],\n",
       "          ...,\n",
       "          [-1.7767315e+01, -3.2698257e+01, -4.1305077e+01, ...,\n",
       "           -4.8218433e+01, -5.0877312e+01, -2.9168797e+01],\n",
       "          [-1.7841215e+01, -4.0013371e+01, -5.4062359e+01, ...,\n",
       "           -4.8628956e+01, -5.2116558e+01, -3.1909426e+01],\n",
       "          [-1.7798590e+01, -4.2986088e+01, -4.1839481e+01, ...,\n",
       "           -5.7618389e+01, -5.4740917e+01, -3.2780155e+01]],\n",
       "  \n",
       "         [[-2.2843891e-01, -2.5056720e-01, -3.8934350e-01, ...,\n",
       "           -1.4139891e-01, -1.0010660e-02,  0.0000000e+00],\n",
       "          [-5.1874751e-01, -5.9665418e-01, -7.4438047e-01, ...,\n",
       "           -3.4966344e-01, -2.2013777e-01, -1.6741395e-01],\n",
       "          [-8.8634884e-01, -9.0688336e-01, -1.1155448e+00, ...,\n",
       "           -7.1195114e-01, -5.0681084e-01, -5.1196802e-01],\n",
       "          ...,\n",
       "          [-1.9873011e+01, -5.0292595e+01, -4.3126404e+01, ...,\n",
       "           -4.4956841e+01, -5.4040344e+01, -2.9528908e+01],\n",
       "          [-2.0317984e+01, -5.2077759e+01, -5.2104725e+01, ...,\n",
       "           -4.8081345e+01, -5.4959717e+01, -3.1134979e+01],\n",
       "          [-2.0539246e+01, -5.2301399e+01, -5.1512711e+01, ...,\n",
       "           -5.7386745e+01, -5.4643524e+01, -3.2514587e+01]],\n",
       "  \n",
       "         [[-2.4256128e-01, -2.7235031e-01, -4.1944852e-01, ...,\n",
       "           -1.5122449e-01, -1.4651179e-02,  0.0000000e+00],\n",
       "          [-4.1779858e-01, -4.8863700e-01, -6.2944150e-01, ...,\n",
       "           -4.0502155e-01, -2.7098930e-01, -2.1328503e-01],\n",
       "          [-7.6657283e-01, -7.7956438e-01, -9.7783518e-01, ...,\n",
       "           -7.3300207e-01, -5.2278018e-01, -5.2401435e-01],\n",
       "          ...,\n",
       "          [-2.0001537e+01, -4.9136631e+01, -5.4413094e+01, ...,\n",
       "           -4.7824959e+01, -5.1454391e+01, -2.9971331e+01],\n",
       "          [-2.0302656e+01, -5.2449440e+01, -5.1006325e+01, ...,\n",
       "           -4.7083599e+01, -4.6775925e+01, -3.0176493e+01],\n",
       "          [-2.0474480e+01, -5.0170258e+01, -5.0982376e+01, ...,\n",
       "           -5.3970108e+01, -4.9823975e+01, -3.2729816e+01]]], dtype=float32),\n",
       "  'label': array([15, 15, 15, ..., 12, 12, 12]),\n",
       "  'id': array(['XC184422.mp3', 'XC184422.mp3', 'XC184422.mp3', ...,\n",
       "         'XC466742.mp3', 'XC466742.mp3', 'XC466742.mp3'], dtype='<U12')},\n",
       " 'val': {'melspectrogram': array([[[-1.71700697e-02,  0.00000000e+00, -8.30828026e-03, ...,\n",
       "           -1.01140933e-02, -3.98544158e-04, -1.31881302e-02],\n",
       "          [-1.92667842e-01, -2.11222529e-01, -2.68523276e-01, ...,\n",
       "           -2.76578993e-01, -2.14545652e-01, -1.91812575e-01],\n",
       "          [-2.65452743e-01, -2.83159614e-01, -3.38062525e-01, ...,\n",
       "           -3.53267580e-01, -2.91180611e-01, -2.67854631e-01],\n",
       "          ...,\n",
       "          [-9.98307705e-01, -9.98598397e-01, -9.98571098e-01, ...,\n",
       "           -9.98218954e-01, -9.98274803e-01, -9.98271227e-01],\n",
       "          [-9.99315262e-01, -9.99614060e-01, -9.99599457e-01, ...,\n",
       "           -9.99848366e-01, -9.99889135e-01, -9.99877870e-01],\n",
       "          [-9.99707043e-01, -1.00000000e+00, -1.00000000e+00, ...,\n",
       "           -1.00000000e+00, -1.00000000e+00, -1.00000000e+00]],\n",
       "  \n",
       "         [[-1.74357686e-02, -5.40845576e-05, -8.17554444e-03, ...,\n",
       "           -9.07407328e-03,  0.00000000e+00, -1.18078534e-02],\n",
       "          [-1.94196641e-01, -2.12481096e-01, -2.69468606e-01, ...,\n",
       "           -2.57630289e-01, -1.98672324e-01, -1.76625371e-01],\n",
       "          [-2.70481884e-01, -2.89271355e-01, -3.45794827e-01, ...,\n",
       "           -3.28331828e-01, -2.68465430e-01, -2.45479271e-01],\n",
       "          ...,\n",
       "          [-9.98979032e-01, -9.98958349e-01, -9.98880148e-01, ...,\n",
       "           -8.76666963e-01, -8.88870060e-01, -8.97926092e-01],\n",
       "          [-9.99499381e-01, -9.99498367e-01, -9.99475837e-01, ...,\n",
       "           -9.92214143e-01, -9.98531342e-01, -1.00000000e+00],\n",
       "          [-1.00000000e+00, -1.00000000e+00, -1.00000000e+00, ...,\n",
       "           -1.00000000e+00, -1.00000000e+00, -9.97616887e-01]],\n",
       "  \n",
       "         [[-1.74912084e-02, -5.66526105e-05, -8.07961635e-03, ...,\n",
       "           -9.75035504e-03,  0.00000000e+00, -1.31438784e-02],\n",
       "          [-1.94405094e-01, -2.12699175e-01, -2.69539028e-01, ...,\n",
       "           -2.80990034e-01, -2.18454197e-01, -1.95157409e-01],\n",
       "          [-2.69538313e-01, -2.87991136e-01, -3.43966305e-01, ...,\n",
       "           -3.54282171e-01, -2.92815685e-01, -2.69837171e-01],\n",
       "          ...,\n",
       "          [-9.99316096e-01, -9.99325931e-01, -9.99243796e-01, ...,\n",
       "           -9.99267280e-01, -9.99325991e-01, -9.99316096e-01],\n",
       "          [-9.99517322e-01, -9.99509931e-01, -9.99443769e-01, ...,\n",
       "           -9.99920964e-01, -9.99946952e-01, -9.99941707e-01],\n",
       "          [-1.00000000e+00, -1.00000000e+00, -1.00000000e+00, ...,\n",
       "           -1.00000000e+00, -1.00000000e+00, -1.00000000e+00]],\n",
       "  \n",
       "         ...,\n",
       "  \n",
       "         [[-1.74060259e-02,  0.00000000e+00, -8.08810536e-03, ...,\n",
       "           -9.75420792e-03, -9.90285116e-06, -1.30409934e-02],\n",
       "          [-1.94310397e-01, -2.12836444e-01, -2.70119280e-01, ...,\n",
       "           -2.80079484e-01, -2.17388883e-01, -1.94086239e-01],\n",
       "          [-2.68472016e-01, -2.86788940e-01, -3.42586458e-01, ...,\n",
       "           -3.52687120e-01, -2.91194111e-01, -2.68222302e-01],\n",
       "          ...,\n",
       "          [-9.99173939e-01, -9.99161780e-01, -9.99027133e-01, ...,\n",
       "           -9.98569667e-01, -9.98530328e-01, -9.98510480e-01],\n",
       "          [-9.99570131e-01, -9.99542415e-01, -9.99471545e-01, ...,\n",
       "           -9.99085069e-01, -9.99052823e-01, -9.99040186e-01],\n",
       "          [-1.00000000e+00, -1.00000000e+00, -1.00000000e+00, ...,\n",
       "           -1.00000000e+00, -1.00000000e+00, -1.00000000e+00]],\n",
       "  \n",
       "         [[-1.73612144e-02,  6.88302677e-08, -8.10584147e-03, ...,\n",
       "           -9.80556197e-03, -3.60954728e-05, -1.30618913e-02],\n",
       "          [-1.93687841e-01, -2.12129042e-01, -2.69340634e-01, ...,\n",
       "           -2.80193955e-01, -2.17463359e-01, -1.94160640e-01],\n",
       "          [-2.67866910e-01, -2.85968989e-01, -3.41474682e-01, ...,\n",
       "           -3.52741867e-01, -2.91388839e-01, -2.68496901e-01],\n",
       "          ...,\n",
       "          [-9.99457300e-01, -9.99462306e-01, -9.99407113e-01, ...,\n",
       "           -9.99286294e-01, -9.99294400e-01, -9.99292970e-01],\n",
       "          [-9.99999702e-01, -9.99983907e-01, -9.99884546e-01, ...,\n",
       "           -9.99745548e-01, -9.99733031e-01, -9.99724030e-01],\n",
       "          [-1.00000000e+00, -1.00000000e+00, -1.00000000e+00, ...,\n",
       "           -1.00000000e+00, -1.00000000e+00, -1.00000000e+00]],\n",
       "  \n",
       "         [[-1.73634496e-02,  0.00000000e+00, -8.10568407e-03, ...,\n",
       "           -9.80718527e-03, -4.76982241e-05, -1.30785825e-02],\n",
       "          [-1.93623587e-01, -2.12048799e-01, -2.69232452e-01, ...,\n",
       "           -2.80076981e-01, -2.17364699e-01, -1.94076210e-01],\n",
       "          [-2.68151551e-01, -2.86333025e-01, -3.41873318e-01, ...,\n",
       "           -3.52642119e-01, -2.91331887e-01, -2.68452585e-01],\n",
       "          ...,\n",
       "          [-9.99569893e-01, -9.99552488e-01, -9.99491811e-01, ...,\n",
       "           -9.99127507e-01, -9.99063194e-01, -9.99036074e-01],\n",
       "          [-9.99589741e-01, -9.99592245e-01, -9.99593318e-01, ...,\n",
       "           -9.99570727e-01, -9.99544799e-01, -9.99533951e-01],\n",
       "          [-1.00000000e+00, -1.00000000e+00, -1.00000000e+00, ...,\n",
       "           -1.00000000e+00, -1.00000000e+00, -1.00000000e+00]]],\n",
       "        dtype=float32),\n",
       "  'mfcc': array([[[-0.93160504, -1.        , -1.        , ..., -1.        ,\n",
       "           -1.        , -0.9367653 ],\n",
       "          [ 1.        ,  0.93118525,  0.63744843, ...,  0.5969844 ,\n",
       "            0.8941571 ,  1.        ],\n",
       "          [ 0.20600511,  0.19742218,  0.1481394 , ...,  0.14291814,\n",
       "            0.19241503,  0.2074877 ],\n",
       "          ...,\n",
       "          [ 0.03243662,  0.03371722,  0.02841452, ...,  0.02767297,\n",
       "            0.0345356 ,  0.03499261],\n",
       "          [ 0.02995769,  0.0305611 ,  0.02531067, ...,  0.02782422,\n",
       "            0.0314752 ,  0.03075657],\n",
       "          [ 0.02739514,  0.02696012,  0.01858307, ...,  0.01651644,\n",
       "            0.02775172,  0.0306799 ]],\n",
       "  \n",
       "         [[-0.93149924, -1.        , -1.        , ..., -1.        ,\n",
       "           -0.88961244, -0.70568854],\n",
       "          [ 1.        ,  0.9310237 ,  0.6367076 , ...,  0.63788366,\n",
       "            1.        ,  1.        ],\n",
       "          [ 0.20781593,  0.19971476,  0.14984886, ..., -0.13377854,\n",
       "           -0.17759408, -0.15531807],\n",
       "          ...,\n",
       "          [ 0.03327785,  0.03362826,  0.02682183, ...,  0.05161607,\n",
       "            0.07629017,  0.07433017],\n",
       "          [ 0.03194048,  0.03383966,  0.03019912, ...,  0.02615907,\n",
       "            0.01870133,  0.00737059],\n",
       "          [ 0.02822617,  0.02643634,  0.0153455 , ...,  0.0364236 ,\n",
       "            0.05387847,  0.05445948]],\n",
       "  \n",
       "         [[-0.94023114, -1.        , -1.        , ..., -1.        ,\n",
       "           -1.        , -0.9381402 ],\n",
       "          [ 1.        ,  0.9235499 ,  0.6343588 , ...,  0.5963594 ,\n",
       "            0.8935127 ,  1.        ],\n",
       "          [ 0.20567757,  0.19519891,  0.14506759, ...,  0.14126459,\n",
       "            0.19059987,  0.2062133 ],\n",
       "          ...,\n",
       "          [ 0.03277213,  0.03347692,  0.02778098, ...,  0.03257481,\n",
       "            0.03680483,  0.03606868],\n",
       "          [ 0.03082353,  0.0311292 ,  0.02546982, ...,  0.0223744 ,\n",
       "            0.02677764,  0.02675767],\n",
       "          [ 0.02887502,  0.02850099,  0.02074854, ...,  0.01800437,\n",
       "            0.02932946,  0.03214759]],\n",
       "  \n",
       "         ...,\n",
       "  \n",
       "         [[-0.9535827 , -1.        , -1.        , ..., -1.        ,\n",
       "           -1.        , -0.9578748 ],\n",
       "          [ 1.        ,  0.9139433 ,  0.6361165 , ...,  0.59934247,\n",
       "            0.87977874,  1.        ],\n",
       "          [ 0.20582113,  0.18999366,  0.13418299, ...,  0.12600893,\n",
       "            0.18131971,  0.20375703],\n",
       "          ...,\n",
       "          [ 0.03312817,  0.03276342,  0.02612329, ...,  0.02556458,\n",
       "            0.03275145,  0.03437225],\n",
       "          [ 0.02946259,  0.02932506,  0.02335803, ...,  0.02153757,\n",
       "            0.02722353,  0.02824944],\n",
       "          [ 0.02907628,  0.0289537 ,  0.02309764, ...,  0.02197287,\n",
       "            0.02766586,  0.02866283]],\n",
       "  \n",
       "         [[-0.9559879 , -1.        , -1.        , ..., -1.        ,\n",
       "           -1.        , -0.9567972 ],\n",
       "          [ 1.        ,  0.911736  ,  0.6346008 , ...,  0.59919333,\n",
       "            0.88030976,  1.        ],\n",
       "          [ 0.20321931,  0.18725453,  0.13272831, ...,  0.12590596,\n",
       "            0.18124063,  0.20352367],\n",
       "          ...,\n",
       "          [ 0.03182453,  0.03143441,  0.02504676, ...,  0.02443812,\n",
       "            0.03128761,  0.0327271 ],\n",
       "          [ 0.03006484,  0.02976069,  0.02363588, ...,  0.0240461 ,\n",
       "            0.03069425,  0.03202734],\n",
       "          [ 0.02939453,  0.02925187,  0.02345211, ...,  0.02245994,\n",
       "            0.02840344,  0.02944957]],\n",
       "  \n",
       "         [[-0.9565871 , -1.        , -1.        , ..., -1.        ,\n",
       "           -1.        , -0.95782995],\n",
       "          [ 1.        ,  0.9115273 ,  0.63502234, ...,  0.5988917 ,\n",
       "            0.87954164,  1.        ],\n",
       "          [ 0.20209931,  0.18626767,  0.13229097, ...,  0.12619993,\n",
       "            0.1815084 ,  0.20399615],\n",
       "          ...,\n",
       "          [ 0.03272372,  0.03227057,  0.02563622, ...,  0.02438859,\n",
       "            0.03124497,  0.03272761],\n",
       "          [ 0.03030955,  0.02998744,  0.02379985, ...,  0.02287446,\n",
       "            0.0290799 ,  0.0302877 ],\n",
       "          [ 0.02904006,  0.02882648,  0.02308265, ...,  0.02253046,\n",
       "            0.02851477,  0.02961629]]], dtype=float32),\n",
       "  'chroma': array([[[0.8604527 , 0.8860765 , 0.8513021 , ..., 0.8439439 ,\n",
       "           0.89355534, 0.86024594],\n",
       "          [0.8914909 , 0.92004347, 0.89722496, ..., 0.8933638 ,\n",
       "           0.92079175, 0.8864081 ],\n",
       "          [0.9395011 , 0.96209466, 0.94911194, ..., 0.93483096,\n",
       "           0.9505655 , 0.9264711 ],\n",
       "          ...,\n",
       "          [0.84926474, 0.87709194, 0.85441107, ..., 0.87592715,\n",
       "           0.8977636 , 0.86224735],\n",
       "          [0.815104  , 0.84275943, 0.8043016 , ..., 0.8128998 ,\n",
       "           0.8555757 , 0.8206078 ],\n",
       "          [0.80382645, 0.8270981 , 0.7812588 , ..., 0.7766202 ,\n",
       "           0.834827  , 0.8039636 ]],\n",
       "  \n",
       "         [[0.8647543 , 0.8916218 , 0.8542218 , ..., 0.24175581,\n",
       "           0.2433164 , 0.2699631 ],\n",
       "          [0.8900035 , 0.9192913 , 0.89676386, ..., 0.30937207,\n",
       "           0.29332852, 0.3096337 ],\n",
       "          [0.9316683 , 0.95355743, 0.9403877 , ..., 0.52230287,\n",
       "           0.5295636 , 0.5564619 ],\n",
       "          ...,\n",
       "          [0.86305875, 0.8942188 , 0.86578846, ..., 0.2342141 ,\n",
       "           0.22384647, 0.2467413 ],\n",
       "          [0.8240049 , 0.85519475, 0.81454766, ..., 0.32264566,\n",
       "           0.30865508, 0.31679055],\n",
       "          [0.8089089 , 0.83515716, 0.7881331 , ..., 0.4404959 ,\n",
       "           0.4551699 , 0.47327834]],\n",
       "  \n",
       "         [[0.85870796, 0.8841541 , 0.8474742 , ..., 0.84262305,\n",
       "           0.89139533, 0.85979694],\n",
       "          [0.8853445 , 0.91629857, 0.8977412 , ..., 0.89322746,\n",
       "           0.9216022 , 0.887911  ],\n",
       "          [0.92904377, 0.95139456, 0.9413339 , ..., 0.9387824 ,\n",
       "           0.9565135 , 0.93311113],\n",
       "          ...,\n",
       "          [0.8559998 , 0.88834894, 0.86574835, ..., 0.85894644,\n",
       "           0.88519   , 0.8574657 ],\n",
       "          [0.8175422 , 0.8485815 , 0.81184053, ..., 0.8024807 ,\n",
       "           0.8489884 , 0.8185244 ],\n",
       "          [0.8024614 , 0.826311  , 0.7802086 , ..., 0.7738578 ,\n",
       "           0.8329894 , 0.8040928 ]],\n",
       "  \n",
       "         ...,\n",
       "  \n",
       "         [[0.8684678 , 0.89514273, 0.8569582 , ..., 0.8494882 ,\n",
       "           0.89785326, 0.86401004],\n",
       "          [0.89176404, 0.9229407 , 0.9030156 , ..., 0.8990293 ,\n",
       "           0.92698085, 0.8923764 ],\n",
       "          [0.9343642 , 0.9583949 , 0.9488999 , ..., 0.9468523 ,\n",
       "           0.96244067, 0.93639755],\n",
       "          ...,\n",
       "          [0.861907  , 0.89478296, 0.8710245 , ..., 0.8666742 ,\n",
       "           0.88913625, 0.8579869 ],\n",
       "          [0.8242564 , 0.8562535 , 0.8188191 , ..., 0.81370264,\n",
       "           0.85664344, 0.8222182 ],\n",
       "          [0.8111013 , 0.8369324 , 0.79029787, ..., 0.7853287 ,\n",
       "           0.84288263, 0.8103827 ]],\n",
       "  \n",
       "         [[0.86264414, 0.8896671 , 0.853809  , ..., 0.8494654 ,\n",
       "           0.8986945 , 0.8648722 ],\n",
       "          [0.890951  , 0.92244774, 0.9028125 , ..., 0.89899296,\n",
       "           0.92700243, 0.8922681 ],\n",
       "          [0.9326932 , 0.9561903 , 0.94650286, ..., 0.946759  ,\n",
       "           0.9622974 , 0.9361571 ],\n",
       "          ...,\n",
       "          [0.8564969 , 0.88768274, 0.86400956, ..., 0.8684891 ,\n",
       "           0.89215744, 0.8609481 ],\n",
       "          [0.8206236 , 0.85260797, 0.8158747 , ..., 0.81211334,\n",
       "           0.8557799 , 0.822075  ],\n",
       "          [0.805709  , 0.8321311 , 0.7877193 , ..., 0.78142524,\n",
       "           0.83950526, 0.8081024 ]],\n",
       "  \n",
       "         [[0.8709916 , 0.901193  , 0.86525804, ..., 0.85028046,\n",
       "           0.8991547 , 0.86497825],\n",
       "          [0.89714617, 0.93268186, 0.91437703, ..., 0.9006461 ,\n",
       "           0.92794275, 0.8924227 ],\n",
       "          [0.9383233 , 0.96461797, 0.9556482 , ..., 0.946222  ,\n",
       "           0.9612692 , 0.9352248 ],\n",
       "          ...,\n",
       "          [0.8596627 , 0.8928458 , 0.86944747, ..., 0.8692149 ,\n",
       "           0.8916822 , 0.8595873 ],\n",
       "          [0.82354146, 0.85675853, 0.8193712 , ..., 0.8118225 ,\n",
       "           0.8548074 , 0.82083637],\n",
       "          [0.81212217, 0.8401211 , 0.7943663 , ..., 0.7816965 ,\n",
       "           0.8392993 , 0.80757236]]], dtype=float32),\n",
       "  'cqt': array([[[-1.6980207e-01, -1.9098467e-01, -3.2778591e-01, ...,\n",
       "           -1.5915972e-01, -1.8550277e-02, -5.9604645e-08],\n",
       "          [-4.4291836e-01, -5.2131045e-01, -6.7046499e-01, ...,\n",
       "           -3.6169910e-01, -2.2248507e-01, -1.6020250e-01],\n",
       "          [-7.7914524e-01, -7.9927540e-01, -1.0065954e+00, ...,\n",
       "           -5.5497384e-01, -3.6265659e-01, -3.7759483e-01],\n",
       "          ...,\n",
       "          [-2.0064686e+01, -6.0685150e+01, -6.6952728e+01, ...,\n",
       "           -5.6533001e+01, -5.2853477e+01, -2.9784256e+01],\n",
       "          [-2.0286234e+01, -8.0000000e+01, -6.4539764e+01, ...,\n",
       "           -5.5968109e+01, -5.4193325e+01, -3.1356224e+01],\n",
       "          [-2.0464649e+01, -6.6665924e+01, -5.7490776e+01, ...,\n",
       "           -5.9317860e+01, -6.5463989e+01, -3.3448719e+01]],\n",
       "  \n",
       "         [[-2.6087630e-01, -2.9420769e-01, -4.4571993e-01, ...,\n",
       "           -1.3434899e-01, -6.7760944e-03,  1.7881393e-07],\n",
       "          [-4.3089741e-01, -5.0342464e-01, -6.4533877e-01, ...,\n",
       "           -4.5139533e-01, -3.0766684e-01, -2.4121898e-01],\n",
       "          [-7.3003435e-01, -7.3981571e-01, -9.3566608e-01, ...,\n",
       "           -6.9799393e-01, -4.8800790e-01, -4.8836160e-01],\n",
       "          ...,\n",
       "          [-2.0055223e+01, -7.4333244e+01, -6.4408905e+01, ...,\n",
       "           -5.5569336e+01, -1.6189121e+01, -2.2022831e+01],\n",
       "          [-2.0292103e+01, -7.7333000e+01, -6.5402458e+01, ...,\n",
       "           -5.6332706e+01, -9.6461868e+00, -1.2732306e+01],\n",
       "          [-2.0495483e+01, -7.3467857e+01, -6.5998177e+01, ...,\n",
       "           -6.2305809e+01, -1.1662912e+01, -6.2106433e+00]],\n",
       "  \n",
       "         [[-1.7620409e-01, -2.0359683e-01, -3.4720233e-01, ...,\n",
       "           -1.5855670e-01, -1.7833471e-02, -1.1920929e-07],\n",
       "          [-4.8287249e-01, -5.6797493e-01, -7.2379518e-01, ...,\n",
       "           -3.5962710e-01, -2.3128700e-01, -1.7795765e-01],\n",
       "          [-7.8067571e-01, -8.0257386e-01, -1.0125742e+00, ...,\n",
       "           -7.1769261e-01, -4.9461207e-01, -4.8553076e-01],\n",
       "          ...,\n",
       "          [-2.0032347e+01, -6.3557167e+01, -5.9377644e+01, ...,\n",
       "           -4.4077545e+01, -5.0132706e+01, -2.9366520e+01],\n",
       "          [-2.0275558e+01, -6.4680710e+01, -6.4378288e+01, ...,\n",
       "           -4.6990604e+01, -5.6758266e+01, -3.1281467e+01],\n",
       "          [-2.0429268e+01, -5.9605751e+01, -7.1003349e+01, ...,\n",
       "           -5.2208912e+01, -5.6937901e+01, -3.3685600e+01]],\n",
       "  \n",
       "         ...,\n",
       "  \n",
       "         [[-2.3041224e-01, -2.6017308e-01, -4.0737283e-01, ...,\n",
       "           -1.5047759e-01, -1.4350295e-02,  0.0000000e+00],\n",
       "          [-4.5027521e-01, -5.2741486e-01, -6.7441279e-01, ...,\n",
       "           -4.0582174e-01, -2.6875859e-01, -2.0828521e-01],\n",
       "          [-7.5370651e-01, -7.6936704e-01, -9.7187603e-01, ...,\n",
       "           -7.0273316e-01, -4.9159193e-01, -4.9171346e-01],\n",
       "          ...,\n",
       "          [-2.0069502e+01, -6.3608120e+01, -5.4907089e+01, ...,\n",
       "           -5.5889145e+01, -7.6820854e+01, -2.9788820e+01],\n",
       "          [-2.0293909e+01, -6.3743374e+01, -6.3449337e+01, ...,\n",
       "           -5.6792061e+01, -6.0058662e+01, -3.1051569e+01],\n",
       "          [-2.0444332e+01, -6.0636730e+01, -5.2644894e+01, ...,\n",
       "           -5.8737759e+01, -6.5532547e+01, -3.2634659e+01]],\n",
       "  \n",
       "         [[-2.1058151e-01, -2.3855007e-01, -3.8355589e-01, ...,\n",
       "           -1.5121043e-01, -1.4667571e-02,  1.1920929e-07],\n",
       "          [-4.4205576e-01, -5.1951122e-01, -6.6705841e-01, ...,\n",
       "           -4.0081638e-01, -2.6390290e-01, -2.0353004e-01],\n",
       "          [-7.5649321e-01, -7.7286416e-01, -9.7597146e-01, ...,\n",
       "           -6.9280696e-01, -4.8149326e-01, -4.8138660e-01],\n",
       "          ...,\n",
       "          [-2.0020685e+01, -6.6973137e+01, -5.6958355e+01, ...,\n",
       "           -6.8808876e+01, -5.9941544e+01, -2.9440956e+01],\n",
       "          [-2.0227760e+01, -7.0834129e+01, -5.5091537e+01, ...,\n",
       "           -6.6735512e+01, -6.2522537e+01, -3.1143627e+01],\n",
       "          [-2.0437319e+01, -6.1071526e+01, -5.6730999e+01, ...,\n",
       "           -7.1633911e+01, -6.8364861e+01, -3.3082352e+01]],\n",
       "  \n",
       "         [[-2.1265209e-01, -2.4086249e-01, -3.8624913e-01, ...,\n",
       "           -1.5189198e-01, -1.4997005e-02,  1.1920929e-07],\n",
       "          [-4.3756801e-01, -5.1417094e-01, -6.6067642e-01, ...,\n",
       "           -4.0006152e-01, -2.6306477e-01, -2.0263004e-01],\n",
       "          [-7.4974418e-01, -7.6679152e-01, -9.7078043e-01, ...,\n",
       "           -6.9038022e-01, -4.7984308e-01, -4.8040327e-01],\n",
       "          ...,\n",
       "          [-2.0019548e+01, -6.2284866e+01, -6.7221657e+01, ...,\n",
       "           -7.4355965e+01, -7.4530090e+01, -2.9512926e+01],\n",
       "          [-2.0304729e+01, -5.9780060e+01, -8.0000000e+01, ...,\n",
       "           -7.3592979e+01, -6.9606857e+01, -3.1349102e+01],\n",
       "          [-2.0507160e+01, -5.9021744e+01, -6.3708496e+01, ...,\n",
       "           -7.4303535e+01, -6.7424202e+01, -3.3237350e+01]]], dtype=float32),\n",
       "  'label': array([15, 15, 15, ..., 12, 12, 12]),\n",
       "  'id': array(['XC514030.mp3', 'XC514030.mp3', 'XC514030.mp3', ...,\n",
       "         'XC308991.mp3', 'XC308991.mp3', 'XC308991.mp3'], dtype='<U12')}}"
      ]
     },
     "execution_count": 55,
     "metadata": {},
     "output_type": "execute_result"
    }
   ],
   "source": [
    "merged_dict_2D = {'train': train_features_2D, 'val': val_features_2D}\n",
    "merged_dict_2D"
   ]
  },
  {
   "cell_type": "markdown",
   "metadata": {},
   "source": [
    "### Save the merged dictionary to a pkl"
   ]
  },
  {
   "cell_type": "code",
   "execution_count": 56,
   "metadata": {},
   "outputs": [],
   "source": [
    "# Avrg Pooled\n",
    "with open('/content/drive/My Drive/Final-Year-Project/Dataset/Final-Version-Of-Bird-Classification-Project/feature-extraction/NotAnnotated/Augmented/AveragePooled/split_features_1s_all_1D.pkl', 'wb') as file:\n",
    "  pickle.dump(merged_dict_1D, file)\n",
    "del file"
   ]
  },
  {
   "cell_type": "code",
   "execution_count": 57,
   "metadata": {},
   "outputs": [],
   "source": [
    "# Avrg Pooled\n",
    "with open('/content/drive/My Drive/Final-Year-Project/Dataset/Final-Version-Of-Bird-Classification-Project/feature-extraction/NotAnnotated/Augmented/NotAveragePooled/split_features_1s_all_2D.pkl', 'wb') as file:\n",
    "  pickle.dump(merged_dict_2D, file)\n",
    "del file"
   ]
  }
 ],
 "metadata": {
  "kernelspec": {
   "display_name": "Python 3",
   "language": "python",
   "name": "python3"
  },
  "language_info": {
   "codemirror_mode": {
    "name": "ipython",
    "version": 3
   },
   "file_extension": ".py",
   "mimetype": "text/x-python",
   "name": "python",
   "nbconvert_exporter": "python",
   "pygments_lexer": "ipython3",
   "version": "3.12.4"
  }
 },
 "nbformat": 4,
 "nbformat_minor": 2
}
